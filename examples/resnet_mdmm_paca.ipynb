{
 "cells": [
  {
   "cell_type": "markdown",
   "id": "5676e100-c255-4871-b167-01a788309112",
   "metadata": {},
   "source": [
    "## In this tutorial we create a CNN and dataloaders, and train / prune the model."
   ]
  },
  {
   "cell_type": "code",
   "execution_count": 1,
   "id": "27197caf-85a2-48b7-af76-a5ff943408ca",
   "metadata": {},
   "outputs": [],
   "source": [
    "import os\n",
    "os.environ[\"KERAS_BACKEND\"] = \"torch\" # Needs to be set, some pruning layers as well as the quantizers are Keras\n",
    "import keras\n",
    "keras.config.set_backend(\"torch\")\n",
    "import torch\n",
    "import torch.nn as nn\n",
    "import torch.nn.functional as F\n",
    "import torchvision\n",
    "keras.backend.set_image_data_format(\"channels_first\")"
   ]
  },
  {
   "cell_type": "code",
   "execution_count": 2,
   "id": "9e520e8e",
   "metadata": {},
   "outputs": [
    {
     "name": "stdout",
     "output_type": "stream",
     "text": [
      "resnet_mdmm_unstr_paca_pruned.pth\n",
      "resnet_mdmm_unstr_pruned.pth\n",
      "resnet_paca_pruned.pth\n",
      "pquant\n",
      "data\n",
      "smartpixels\n"
     ]
    }
   ],
   "source": [
    "try:\n",
    "    os.chdir(\"/home/das214/PQuant/mdmm_dev/src\")\n",
    "except:\n",
    "    pass\n",
    "\n",
    "for f in os.listdir(os.getcwd()):\n",
    "    print(f)"
   ]
  },
  {
   "cell_type": "code",
   "execution_count": 3,
   "id": "3ea5a763-a029-495d-a03a-390048d749f5",
   "metadata": {},
   "outputs": [
    {
     "name": "stdout",
     "output_type": "stream",
     "text": [
      "Using device: cuda\n"
     ]
    },
    {
     "data": {
      "text/plain": [
       "ResNet(\n",
       "  (conv1): Conv2d(3, 64, kernel_size=(7, 7), stride=(2, 2), padding=(3, 3), bias=False)\n",
       "  (bn1): BatchNorm2d(64, eps=1e-05, momentum=0.1, affine=True, track_running_stats=True)\n",
       "  (relu): ReLU(inplace=True)\n",
       "  (maxpool): MaxPool2d(kernel_size=3, stride=2, padding=1, dilation=1, ceil_mode=False)\n",
       "  (layer1): Sequential(\n",
       "    (0): BasicBlock(\n",
       "      (conv1): Conv2d(64, 64, kernel_size=(3, 3), stride=(1, 1), padding=(1, 1), bias=False)\n",
       "      (bn1): BatchNorm2d(64, eps=1e-05, momentum=0.1, affine=True, track_running_stats=True)\n",
       "      (relu): ReLU(inplace=True)\n",
       "      (conv2): Conv2d(64, 64, kernel_size=(3, 3), stride=(1, 1), padding=(1, 1), bias=False)\n",
       "      (bn2): BatchNorm2d(64, eps=1e-05, momentum=0.1, affine=True, track_running_stats=True)\n",
       "    )\n",
       "    (1): BasicBlock(\n",
       "      (conv1): Conv2d(64, 64, kernel_size=(3, 3), stride=(1, 1), padding=(1, 1), bias=False)\n",
       "      (bn1): BatchNorm2d(64, eps=1e-05, momentum=0.1, affine=True, track_running_stats=True)\n",
       "      (relu): ReLU(inplace=True)\n",
       "      (conv2): Conv2d(64, 64, kernel_size=(3, 3), stride=(1, 1), padding=(1, 1), bias=False)\n",
       "      (bn2): BatchNorm2d(64, eps=1e-05, momentum=0.1, affine=True, track_running_stats=True)\n",
       "    )\n",
       "  )\n",
       "  (layer2): Sequential(\n",
       "    (0): BasicBlock(\n",
       "      (conv1): Conv2d(64, 128, kernel_size=(3, 3), stride=(2, 2), padding=(1, 1), bias=False)\n",
       "      (bn1): BatchNorm2d(128, eps=1e-05, momentum=0.1, affine=True, track_running_stats=True)\n",
       "      (relu): ReLU(inplace=True)\n",
       "      (conv2): Conv2d(128, 128, kernel_size=(3, 3), stride=(1, 1), padding=(1, 1), bias=False)\n",
       "      (bn2): BatchNorm2d(128, eps=1e-05, momentum=0.1, affine=True, track_running_stats=True)\n",
       "      (downsample): Sequential(\n",
       "        (0): Conv2d(64, 128, kernel_size=(1, 1), stride=(2, 2), bias=False)\n",
       "        (1): BatchNorm2d(128, eps=1e-05, momentum=0.1, affine=True, track_running_stats=True)\n",
       "      )\n",
       "    )\n",
       "    (1): BasicBlock(\n",
       "      (conv1): Conv2d(128, 128, kernel_size=(3, 3), stride=(1, 1), padding=(1, 1), bias=False)\n",
       "      (bn1): BatchNorm2d(128, eps=1e-05, momentum=0.1, affine=True, track_running_stats=True)\n",
       "      (relu): ReLU(inplace=True)\n",
       "      (conv2): Conv2d(128, 128, kernel_size=(3, 3), stride=(1, 1), padding=(1, 1), bias=False)\n",
       "      (bn2): BatchNorm2d(128, eps=1e-05, momentum=0.1, affine=True, track_running_stats=True)\n",
       "    )\n",
       "  )\n",
       "  (layer3): Sequential(\n",
       "    (0): BasicBlock(\n",
       "      (conv1): Conv2d(128, 256, kernel_size=(3, 3), stride=(2, 2), padding=(1, 1), bias=False)\n",
       "      (bn1): BatchNorm2d(256, eps=1e-05, momentum=0.1, affine=True, track_running_stats=True)\n",
       "      (relu): ReLU(inplace=True)\n",
       "      (conv2): Conv2d(256, 256, kernel_size=(3, 3), stride=(1, 1), padding=(1, 1), bias=False)\n",
       "      (bn2): BatchNorm2d(256, eps=1e-05, momentum=0.1, affine=True, track_running_stats=True)\n",
       "      (downsample): Sequential(\n",
       "        (0): Conv2d(128, 256, kernel_size=(1, 1), stride=(2, 2), bias=False)\n",
       "        (1): BatchNorm2d(256, eps=1e-05, momentum=0.1, affine=True, track_running_stats=True)\n",
       "      )\n",
       "    )\n",
       "    (1): BasicBlock(\n",
       "      (conv1): Conv2d(256, 256, kernel_size=(3, 3), stride=(1, 1), padding=(1, 1), bias=False)\n",
       "      (bn1): BatchNorm2d(256, eps=1e-05, momentum=0.1, affine=True, track_running_stats=True)\n",
       "      (relu): ReLU(inplace=True)\n",
       "      (conv2): Conv2d(256, 256, kernel_size=(3, 3), stride=(1, 1), padding=(1, 1), bias=False)\n",
       "      (bn2): BatchNorm2d(256, eps=1e-05, momentum=0.1, affine=True, track_running_stats=True)\n",
       "    )\n",
       "  )\n",
       "  (layer4): Sequential(\n",
       "    (0): BasicBlock(\n",
       "      (conv1): Conv2d(256, 512, kernel_size=(3, 3), stride=(2, 2), padding=(1, 1), bias=False)\n",
       "      (bn1): BatchNorm2d(512, eps=1e-05, momentum=0.1, affine=True, track_running_stats=True)\n",
       "      (relu): ReLU(inplace=True)\n",
       "      (conv2): Conv2d(512, 512, kernel_size=(3, 3), stride=(1, 1), padding=(1, 1), bias=False)\n",
       "      (bn2): BatchNorm2d(512, eps=1e-05, momentum=0.1, affine=True, track_running_stats=True)\n",
       "      (downsample): Sequential(\n",
       "        (0): Conv2d(256, 512, kernel_size=(1, 1), stride=(2, 2), bias=False)\n",
       "        (1): BatchNorm2d(512, eps=1e-05, momentum=0.1, affine=True, track_running_stats=True)\n",
       "      )\n",
       "    )\n",
       "    (1): BasicBlock(\n",
       "      (conv1): Conv2d(512, 512, kernel_size=(3, 3), stride=(1, 1), padding=(1, 1), bias=False)\n",
       "      (bn1): BatchNorm2d(512, eps=1e-05, momentum=0.1, affine=True, track_running_stats=True)\n",
       "      (relu): ReLU(inplace=True)\n",
       "      (conv2): Conv2d(512, 512, kernel_size=(3, 3), stride=(1, 1), padding=(1, 1), bias=False)\n",
       "      (bn2): BatchNorm2d(512, eps=1e-05, momentum=0.1, affine=True, track_running_stats=True)\n",
       "    )\n",
       "  )\n",
       "  (avgpool): AdaptiveAvgPool2d(output_size=(1, 1))\n",
       "  (fc): Linear(in_features=512, out_features=1000, bias=True)\n",
       ")"
      ]
     },
     "execution_count": 3,
     "metadata": {},
     "output_type": "execute_result"
    }
   ],
   "source": [
    "model = torchvision.models.resnet18()\n",
    "device = \"cuda\" if torch.cuda.is_available() else \"cpu\"\n",
    "print(\"Using device:\", device)\n",
    "model = model.to(device)\n",
    "\n",
    "model"
   ]
  },
  {
   "cell_type": "markdown",
   "id": "54cd71c9-86b2-4911-aa71-bd18b1e75aa1",
   "metadata": {},
   "source": [
    "## Add pruning and quantization\n",
    "Begin prunning with MDMM pruning with Unstructured Sparsity metric function"
   ]
  },
  {
   "cell_type": "code",
   "execution_count": 4,
   "id": "0ec145f1-502c-4fd0-84ed-e87b84a27374",
   "metadata": {},
   "outputs": [
    {
     "data": {
      "application/json": {
       "batch_size": 128,
       "cosine_tmax": 200,
       "gamma": 0.1,
       "l2_decay": 0.0001,
       "label_smoothing": 0,
       "lr": 0.001,
       "lr_schedule": "multistep",
       "milestones": [
        75,
        120
       ],
       "momentum": 0.9,
       "optimizer": "sgd",
       "plot_frequency": 100,
       "pruning_parameters": {
        "constraint_type": "Equality",
        "damping": 1,
        "disable_pruning_for_layers": [
         null
        ],
        "enable_pruning": true,
        "epsilon": 0.001,
        "l0_mode": "coarse",
        "metric_type": "UnstructuredSparsity",
        "pruning_method": "mdmm",
        "rf": 1,
        "scale": 50,
        "target_sparsity": 0.9,
        "target_value": 0,
        "use_grad": false
       },
       "quantization_parameters": {
        "default_fractional_bits": 7,
        "default_integer_bits": 0,
        "enable_quantization": false,
        "hgq_gamma": 0.0003,
        "hgq_heterogeneous": true,
        "layer_specific": [],
        "use_high_granularity_quantization": false,
        "use_real_tanh": false,
        "use_symmetric_quantization": false
       },
       "training_parameters": {
        "epochs": 100,
        "fine_tuning_epochs": 30,
        "pretraining_epochs": 0,
        "pruning_first": false,
        "rewind": "never",
        "rounds": 1,
        "save_weights_epoch": -1
       }
      },
      "text/plain": [
       "<IPython.core.display.JSON object>"
      ]
     },
     "execution_count": 4,
     "metadata": {
      "application/json": {
       "expanded": false,
       "root": "root"
      }
     },
     "output_type": "execute_result"
    }
   ],
   "source": [
    "from pquant import get_default_config\n",
    "from IPython.display import JSON\n",
    "\n",
    "pruning_method = \"mdmm\"\n",
    "config = get_default_config(pruning_method)\n",
    "JSON(config)"
   ]
  },
  {
   "cell_type": "code",
   "execution_count": 5,
   "id": "d3ef3115-2f3d-43e1-a199-4a19d667f796",
   "metadata": {},
   "outputs": [
    {
     "data": {
      "text/plain": [
       "ResNet(\n",
       "  (conv1): CompressedLayerConv2d(\n",
       "    (pruning_layer): <MDMM name=mdmm, built=True>\n",
       "  )\n",
       "  (bn1): BatchNorm2d(64, eps=1e-05, momentum=0.1, affine=True, track_running_stats=True)\n",
       "  (relu): ReLU(inplace=True)\n",
       "  (maxpool): MaxPool2d(kernel_size=3, stride=2, padding=1, dilation=1, ceil_mode=False)\n",
       "  (layer1): Sequential(\n",
       "    (0): BasicBlock(\n",
       "      (conv1): CompressedLayerConv2d(\n",
       "        (pruning_layer): <MDMM name=mdmm_1, built=True>\n",
       "      )\n",
       "      (bn1): BatchNorm2d(64, eps=1e-05, momentum=0.1, affine=True, track_running_stats=True)\n",
       "      (relu): ReLU(inplace=True)\n",
       "      (conv2): CompressedLayerConv2d(\n",
       "        (pruning_layer): <MDMM name=mdmm_2, built=True>\n",
       "      )\n",
       "      (bn2): BatchNorm2d(64, eps=1e-05, momentum=0.1, affine=True, track_running_stats=True)\n",
       "    )\n",
       "    (1): BasicBlock(\n",
       "      (conv1): CompressedLayerConv2d(\n",
       "        (pruning_layer): <MDMM name=mdmm_3, built=True>\n",
       "      )\n",
       "      (bn1): BatchNorm2d(64, eps=1e-05, momentum=0.1, affine=True, track_running_stats=True)\n",
       "      (relu): ReLU(inplace=True)\n",
       "      (conv2): CompressedLayerConv2d(\n",
       "        (pruning_layer): <MDMM name=mdmm_4, built=True>\n",
       "      )\n",
       "      (bn2): BatchNorm2d(64, eps=1e-05, momentum=0.1, affine=True, track_running_stats=True)\n",
       "    )\n",
       "  )\n",
       "  (layer2): Sequential(\n",
       "    (0): BasicBlock(\n",
       "      (conv1): CompressedLayerConv2d(\n",
       "        (pruning_layer): <MDMM name=mdmm_5, built=True>\n",
       "      )\n",
       "      (bn1): BatchNorm2d(128, eps=1e-05, momentum=0.1, affine=True, track_running_stats=True)\n",
       "      (relu): ReLU(inplace=True)\n",
       "      (conv2): CompressedLayerConv2d(\n",
       "        (pruning_layer): <MDMM name=mdmm_6, built=True>\n",
       "      )\n",
       "      (bn2): BatchNorm2d(128, eps=1e-05, momentum=0.1, affine=True, track_running_stats=True)\n",
       "      (downsample): Sequential(\n",
       "        (0): CompressedLayerConv2d(\n",
       "          (pruning_layer): <MDMM name=mdmm_7, built=True>\n",
       "        )\n",
       "        (1): BatchNorm2d(128, eps=1e-05, momentum=0.1, affine=True, track_running_stats=True)\n",
       "      )\n",
       "    )\n",
       "    (1): BasicBlock(\n",
       "      (conv1): CompressedLayerConv2d(\n",
       "        (pruning_layer): <MDMM name=mdmm_8, built=True>\n",
       "      )\n",
       "      (bn1): BatchNorm2d(128, eps=1e-05, momentum=0.1, affine=True, track_running_stats=True)\n",
       "      (relu): ReLU(inplace=True)\n",
       "      (conv2): CompressedLayerConv2d(\n",
       "        (pruning_layer): <MDMM name=mdmm_9, built=True>\n",
       "      )\n",
       "      (bn2): BatchNorm2d(128, eps=1e-05, momentum=0.1, affine=True, track_running_stats=True)\n",
       "    )\n",
       "  )\n",
       "  (layer3): Sequential(\n",
       "    (0): BasicBlock(\n",
       "      (conv1): CompressedLayerConv2d(\n",
       "        (pruning_layer): <MDMM name=mdmm_10, built=True>\n",
       "      )\n",
       "      (bn1): BatchNorm2d(256, eps=1e-05, momentum=0.1, affine=True, track_running_stats=True)\n",
       "      (relu): ReLU(inplace=True)\n",
       "      (conv2): CompressedLayerConv2d(\n",
       "        (pruning_layer): <MDMM name=mdmm_11, built=True>\n",
       "      )\n",
       "      (bn2): BatchNorm2d(256, eps=1e-05, momentum=0.1, affine=True, track_running_stats=True)\n",
       "      (downsample): Sequential(\n",
       "        (0): CompressedLayerConv2d(\n",
       "          (pruning_layer): <MDMM name=mdmm_12, built=True>\n",
       "        )\n",
       "        (1): BatchNorm2d(256, eps=1e-05, momentum=0.1, affine=True, track_running_stats=True)\n",
       "      )\n",
       "    )\n",
       "    (1): BasicBlock(\n",
       "      (conv1): CompressedLayerConv2d(\n",
       "        (pruning_layer): <MDMM name=mdmm_13, built=True>\n",
       "      )\n",
       "      (bn1): BatchNorm2d(256, eps=1e-05, momentum=0.1, affine=True, track_running_stats=True)\n",
       "      (relu): ReLU(inplace=True)\n",
       "      (conv2): CompressedLayerConv2d(\n",
       "        (pruning_layer): <MDMM name=mdmm_14, built=True>\n",
       "      )\n",
       "      (bn2): BatchNorm2d(256, eps=1e-05, momentum=0.1, affine=True, track_running_stats=True)\n",
       "    )\n",
       "  )\n",
       "  (layer4): Sequential(\n",
       "    (0): BasicBlock(\n",
       "      (conv1): CompressedLayerConv2d(\n",
       "        (pruning_layer): <MDMM name=mdmm_15, built=True>\n",
       "      )\n",
       "      (bn1): BatchNorm2d(512, eps=1e-05, momentum=0.1, affine=True, track_running_stats=True)\n",
       "      (relu): ReLU(inplace=True)\n",
       "      (conv2): CompressedLayerConv2d(\n",
       "        (pruning_layer): <MDMM name=mdmm_16, built=True>\n",
       "      )\n",
       "      (bn2): BatchNorm2d(512, eps=1e-05, momentum=0.1, affine=True, track_running_stats=True)\n",
       "      (downsample): Sequential(\n",
       "        (0): CompressedLayerConv2d(\n",
       "          (pruning_layer): <MDMM name=mdmm_17, built=True>\n",
       "        )\n",
       "        (1): BatchNorm2d(512, eps=1e-05, momentum=0.1, affine=True, track_running_stats=True)\n",
       "      )\n",
       "    )\n",
       "    (1): BasicBlock(\n",
       "      (conv1): CompressedLayerConv2d(\n",
       "        (pruning_layer): <MDMM name=mdmm_18, built=True>\n",
       "      )\n",
       "      (bn1): BatchNorm2d(512, eps=1e-05, momentum=0.1, affine=True, track_running_stats=True)\n",
       "      (relu): ReLU(inplace=True)\n",
       "      (conv2): CompressedLayerConv2d(\n",
       "        (pruning_layer): <MDMM name=mdmm_19, built=True>\n",
       "      )\n",
       "      (bn2): BatchNorm2d(512, eps=1e-05, momentum=0.1, affine=True, track_running_stats=True)\n",
       "    )\n",
       "  )\n",
       "  (avgpool): AdaptiveAvgPool2d(output_size=(1, 1))\n",
       "  (fc): CompressedLayerLinear(\n",
       "    (pruning_layer): <MDMM name=mdmm_20, built=True>\n",
       "  )\n",
       ")"
      ]
     },
     "execution_count": 5,
     "metadata": {},
     "output_type": "execute_result"
    }
   ],
   "source": [
    "# Replace layers with compressed layers\n",
    "from pquant import add_compression_layers\n",
    "input_shape = (256,3,32,32)\n",
    "model = add_compression_layers(model, config, input_shape)\n",
    "model"
   ]
  },
  {
   "cell_type": "code",
   "execution_count": 6,
   "id": "82dd0b48",
   "metadata": {},
   "outputs": [],
   "source": [
    "import torchvision.transforms as transforms\n",
    "from pquant import get_layer_keep_ratio, get_model_losses\n",
    "from quantizers.fixed_point.fixed_point_ops import get_fixed_quantizer\n",
    "from tqdm import tqdm\n",
    "\n",
    "\n",
    "def get_cifar10_data(batch_size):\n",
    "    normalize = transforms.Normalize(mean=[0.5, 0.5, 0.5], std=[0.5, 0.5, 0.5])\n",
    "    train_transform = transforms.Compose([transforms.RandomHorizontalFlip(), transforms.RandomCrop(32, padding=4), \n",
    "                                          transforms.ToTensor(), normalize])\n",
    "    test_transform = transforms.Compose([transforms.ToTensor(), normalize])  \n",
    "    trainset = torchvision.datasets.CIFAR10(root='./data', train=True,\n",
    "                                        download=True, transform=train_transform)\n",
    "    valset = torchvision.datasets.CIFAR10(root='./data', train=True,\n",
    "                                       download=True, transform=test_transform)\n",
    "    train_loader = torch.utils.data.DataLoader(trainset, batch_size=batch_size,\n",
    "                                          shuffle=True, num_workers=4, pin_memory=True)\n",
    "\n",
    "    val_loader = torch.utils.data.DataLoader(valset, batch_size=batch_size,\n",
    "                                         shuffle=False, num_workers=4, pin_memory=True)\n",
    "\n",
    "    return train_loader, val_loader\n",
    "\n",
    "# Set up input quantizer\n",
    "quantizer = get_fixed_quantizer(overflow_mode=\"SAT\")\n",
    "\n",
    "def train_resnet(model, trainloader, device, loss_func,\n",
    "                 epoch, optimizer, scheduler, *args, **kwargs):\n",
    "    \"\"\"\n",
    "    One epoch of training with a live ETA/throughput bar.\n",
    "    \"\"\"\n",
    "    model.train()\n",
    "\n",
    "    with tqdm(trainloader,\n",
    "              desc=f\"Train ‖ Epoch {epoch}\",\n",
    "              total=len(trainloader),\n",
    "              unit=\"batch\",\n",
    "              dynamic_ncols=True) as pbar:\n",
    "\n",
    "        for inputs, labels in pbar:\n",
    "            inputs, labels = inputs.to(device, non_blocking=True), labels.to(device, non_blocking=True)\n",
    "            inputs = quantizer(inputs, k=torch.tensor(1.), i=torch.tensor(0.), f=torch.tensor(7.))\n",
    "\n",
    "            optimizer.zero_grad(set_to_none=True)              # cleaner gradient reset\n",
    "            outputs = model(inputs)\n",
    "            loss = loss_func(outputs, labels)\n",
    "            losses = get_model_losses(model, torch.tensor(0.).to(device))\n",
    "            loss += losses\n",
    "            loss.backward()\n",
    "            optimizer.step()\n",
    "\n",
    "            if scheduler is not None:\n",
    "                scheduler.step()\n",
    "\n",
    "            pbar.set_postfix(loss=f\"{loss.item():.4f} \")\n",
    "        \n",
    "    # ----- Diagnostics on Last mini-batch -----\n",
    "    print(f\"Loss={loss_func(outputs, labels).item():.4f} | Reg={loss.item() - loss_func(outputs, labels).item():.4f}\")\n",
    "\n",
    "def validate_resnet(model, testloader, device, loss_func, epoch, *args, **kwargs):\n",
    "    \"\"\"\n",
    "    Validation with progress bar and accuracy summary.\n",
    "    \"\"\"\n",
    "    model.eval()\n",
    "    correct = total = 0\n",
    "\n",
    "\n",
    "    with torch.no_grad():\n",
    "        with tqdm(testloader,\n",
    "                  desc=f\"Val   ‖ Epoch {epoch}\",\n",
    "                  total=len(testloader),\n",
    "                  unit=\"batch\",\n",
    "                  dynamic_ncols=True) as pbar:\n",
    "\n",
    "            for inputs, labels in pbar:\n",
    "                inputs, labels = inputs.to(device, non_blocking=True), labels.to(device, non_blocking=True)\n",
    "                inputs = quantizer(inputs, k=torch.tensor(1.), i=torch.tensor(0.), f=torch.tensor(7.))\n",
    "                outputs = model(inputs)\n",
    "                _, predicted = outputs.max(1)\n",
    "                total += labels.size(0)\n",
    "                correct += predicted.eq(labels).sum().item()\n",
    "\n",
    "                running_acc = 100. * correct / total\n",
    "                pbar.set_postfix(acc=f\"{running_acc:.2f}%\")\n",
    "\n",
    "    ratio = get_layer_keep_ratio(model)\n",
    "    print(f\"Accuracy: {correct/total*100:.2f}% | Remaining weights: {ratio*100:.2f}% \\n\")\n",
    "\n",
    "\n",
    "\n",
    "BATCH_SIZE = 256\n",
    "train_loader, val_loader = get_cifar10_data(BATCH_SIZE)"
   ]
  },
  {
   "cell_type": "code",
   "execution_count": 7,
   "id": "2cff4dbd",
   "metadata": {},
   "outputs": [],
   "source": [
    "from torch.optim.lr_scheduler import CosineAnnealingLR\n",
    "\n",
    "optimizer = torch.optim.SGD(model.parameters(), lr=0.01, weight_decay=0.0001, momentum=0.9)\n",
    "scheduler = CosineAnnealingLR(optimizer, 200)\n",
    "loss_function = nn.CrossEntropyLoss()"
   ]
  },
  {
   "cell_type": "code",
   "execution_count": 8,
   "id": "1e20af1d",
   "metadata": {},
   "outputs": [],
   "source": [
    "# from pquant import iterative_train\n",
    "# \"\"\"\n",
    "# Inputs to train_resnet we defined previously are:\n",
    "#           model, trainloader, device, loss_func, epoch, optimizer, scheduler, **kwargs\n",
    "# \"\"\"\n",
    "\n",
    "# trained_model = iterative_train(model = model, \n",
    "#                                 config = config, \n",
    "#                                 train_func = train_resnet, \n",
    "#                                 valid_func = validate_resnet, \n",
    "#                                 trainloader = train_loader, \n",
    "#                                 testloader = val_loader, \n",
    "#                                 device = device, \n",
    "#                                 loss_func = loss_function,\n",
    "#                                 optimizer = optimizer, \n",
    "#                                 scheduler = scheduler\n",
    "#                                 )"
   ]
  },
  {
   "cell_type": "code",
   "execution_count": 9,
   "id": "de9bc4ee",
   "metadata": {},
   "outputs": [
    {
     "data": {
      "text/plain": [
       "<All keys matched successfully>"
      ]
     },
     "execution_count": 9,
     "metadata": {},
     "output_type": "execute_result"
    }
   ],
   "source": [
    "SAVE_PATH = 'resnet_mdmm_unstr_pruned.pth'\n",
    "# torch.save(model_copy.state_dict(), SAVE_PATH)\n",
    "\n",
    "model = torchvision.models.resnet18()\n",
    "model.load_state_dict(torch.load(SAVE_PATH))"
   ]
  },
  {
   "cell_type": "code",
   "execution_count": 10,
   "id": "1b8dc93a",
   "metadata": {},
   "outputs": [
    {
     "name": "stderr",
     "output_type": "stream",
     "text": [
      "/tmp/ipykernel_513378/842026278.py:26: UserWarning: set_ticklabels() should only be used with a fixed number of ticks, i.e. after set_ticks() or using a FixedLocator.\n",
      "  ax[0].set_yticklabels(new_ytick)\n"
     ]
    },
    {
     "data": {
      "image/png": "[encoded data removed]",
      "text/plain": [
       "<Figure size 1000x500 with 2 Axes>"
      ]
     },
     "metadata": {},
     "output_type": "display_data"
    }
   ],
   "source": [
    "# Plot remaining weights\n",
    "import numpy as np\n",
    "import matplotlib.pyplot as plt\n",
    "\n",
    "names = []\n",
    "remaining = []\n",
    "total_w = []\n",
    "nonzeros = []\n",
    "for n, m in model.named_modules():\n",
    "    if isinstance(m, (torch.nn.Conv1d, torch.nn.Conv2d, torch.nn.Linear)):\n",
    "        names.append(n)\n",
    "        nonzero = np.count_nonzero(m.weight.detach().cpu())\n",
    "        remaining_pct = nonzero / m.weight.numel()\n",
    "        remaining.append(remaining_pct)\n",
    "        total_w.append(m.weight.numel())\n",
    "        nonzeros.append(nonzero)\n",
    "fig, ax = plt.subplots(1, 2, figsize=(10, 5))\n",
    "ax[0].bar(range(len(names)), remaining)\n",
    "ax[0].set_xticks(range(len(names)))\n",
    "ax[0].set_xticklabels(names)\n",
    "ax[0].tick_params(axis='x', labelrotation=270)\n",
    "new_ytick = []\n",
    "for i in ax[0].get_yticklabels():\n",
    "    ytick = f\"{float(i.get_text()) * 100:.2f}%\"\n",
    "    new_ytick.append(ytick)\n",
    "ax[0].set_yticklabels(new_ytick)\n",
    "ax[0].title.set_text(\"Remaining weights per layer\")\n",
    "\n",
    "ax[1].bar(range(len(nonzeros)), total_w, color=\"lightcoral\", label=\"total weights\")\n",
    "ax[1].bar(range(len(nonzeros)), nonzeros, color=\"steelblue\", label=\"nonzero weights\")\n",
    "ax[1].set_xticks(range(len(names)))\n",
    "ax[1].set_xticklabels(names)\n",
    "ax[1].tick_params(axis='x', labelrotation=270)\n",
    "ax[1].title.set_text(\"Weights per layer\")\n",
    "ax[1].legend()\n",
    "ax[1].set_yscale(\"log\")\n",
    "\n",
    "plt.tight_layout()\n",
    "plt.show()"
   ]
  },
  {
   "cell_type": "markdown",
   "id": "251515c3-00ac-4110-b8d8-a8c9100f6e6b",
   "metadata": {},
   "source": [
    "## Add PACA prunning\n",
    "#### After pruning we will have multiple patterns, so we force all of them to have a lower num,ber of dominant patterns"
   ]
  },
  {
   "cell_type": "code",
   "execution_count": 11,
   "id": "5898e23c",
   "metadata": {},
   "outputs": [
    {
     "data": {
      "application/json": {
       "batch_size": 128,
       "cosine_tmax": 200,
       "gamma": 0.1,
       "l2_decay": 0.0001,
       "label_smoothing": 0,
       "lr": 0.001,
       "lr_schedule": "multistep",
       "milestones": [
        75,
        120
       ],
       "momentum": 0.9,
       "optimizer": "sgd",
       "plot_frequency": 100,
       "pruning_parameters": {
        "beta": 0.85,
        "damping": 1,
        "disable_pruning_for_layers": [
         null
        ],
        "distance_metric": "cosine",
        "enable_pruning": true,
        "epsilon": 0.001,
        "metric_type": "PACAPatternSparsity",
        "num_patterns_to_keep": 16,
        "pruning_method": "mdmm",
        "scale": 1,
        "src": "OIHW",
        "use_grad": false
       },
       "quantization_parameters": {
        "default_fractional_bits": 7,
        "default_integer_bits": 0,
        "enable_quantization": false,
        "hgq_gamma": 0.0003,
        "hgq_heterogeneous": true,
        "layer_specific": [],
        "use_high_granularity_quantization": false,
        "use_real_tanh": false,
        "use_symmetric_quantization": false
       },
       "training_parameters": {
        "epochs": 100,
        "fine_tuning_epochs": 30,
        "pretraining_epochs": 0,
        "pruning_first": false,
        "rewind": "never",
        "rounds": 1,
        "save_weights_epoch": -1
       }
      },
      "text/plain": [
       "<IPython.core.display.JSON object>"
      ]
     },
     "execution_count": 11,
     "metadata": {
      "application/json": {
       "expanded": false,
       "root": "root"
      }
     },
     "output_type": "execute_result"
    }
   ],
   "source": [
    "import yaml \n",
    "\n",
    "with open(\"pquant/configs/config_mdmm_paca.yaml\", 'r') as f:\n",
    "    config = yaml.safe_load(f)\n",
    "JSON(config)"
   ]
  },
  {
   "cell_type": "code",
   "execution_count": 12,
   "id": "e857a26e",
   "metadata": {},
   "outputs": [
    {
     "data": {
      "text/plain": [
       "ResNet(\n",
       "  (conv1): CompressedLayerConv2d(\n",
       "    (pruning_layer): <MDMM name=mdmm_21, built=True>\n",
       "  )\n",
       "  (bn1): BatchNorm2d(64, eps=1e-05, momentum=0.1, affine=True, track_running_stats=True)\n",
       "  (relu): ReLU(inplace=True)\n",
       "  (maxpool): MaxPool2d(kernel_size=3, stride=2, padding=1, dilation=1, ceil_mode=False)\n",
       "  (layer1): Sequential(\n",
       "    (0): BasicBlock(\n",
       "      (conv1): CompressedLayerConv2d(\n",
       "        (pruning_layer): <MDMM name=mdmm_22, built=True>\n",
       "      )\n",
       "      (bn1): BatchNorm2d(64, eps=1e-05, momentum=0.1, affine=True, track_running_stats=True)\n",
       "      (relu): ReLU(inplace=True)\n",
       "      (conv2): CompressedLayerConv2d(\n",
       "        (pruning_layer): <MDMM name=mdmm_23, built=True>\n",
       "      )\n",
       "      (bn2): BatchNorm2d(64, eps=1e-05, momentum=0.1, affine=True, track_running_stats=True)\n",
       "    )\n",
       "    (1): BasicBlock(\n",
       "      (conv1): CompressedLayerConv2d(\n",
       "        (pruning_layer): <MDMM name=mdmm_24, built=True>\n",
       "      )\n",
       "      (bn1): BatchNorm2d(64, eps=1e-05, momentum=0.1, affine=True, track_running_stats=True)\n",
       "      (relu): ReLU(inplace=True)\n",
       "      (conv2): CompressedLayerConv2d(\n",
       "        (pruning_layer): <MDMM name=mdmm_25, built=True>\n",
       "      )\n",
       "      (bn2): BatchNorm2d(64, eps=1e-05, momentum=0.1, affine=True, track_running_stats=True)\n",
       "    )\n",
       "  )\n",
       "  (layer2): Sequential(\n",
       "    (0): BasicBlock(\n",
       "      (conv1): CompressedLayerConv2d(\n",
       "        (pruning_layer): <MDMM name=mdmm_26, built=True>\n",
       "      )\n",
       "      (bn1): BatchNorm2d(128, eps=1e-05, momentum=0.1, affine=True, track_running_stats=True)\n",
       "      (relu): ReLU(inplace=True)\n",
       "      (conv2): CompressedLayerConv2d(\n",
       "        (pruning_layer): <MDMM name=mdmm_27, built=True>\n",
       "      )\n",
       "      (bn2): BatchNorm2d(128, eps=1e-05, momentum=0.1, affine=True, track_running_stats=True)\n",
       "      (downsample): Sequential(\n",
       "        (0): CompressedLayerConv2d(\n",
       "          (pruning_layer): <MDMM name=mdmm_28, built=True>\n",
       "        )\n",
       "        (1): BatchNorm2d(128, eps=1e-05, momentum=0.1, affine=True, track_running_stats=True)\n",
       "      )\n",
       "    )\n",
       "    (1): BasicBlock(\n",
       "      (conv1): CompressedLayerConv2d(\n",
       "        (pruning_layer): <MDMM name=mdmm_29, built=True>\n",
       "      )\n",
       "      (bn1): BatchNorm2d(128, eps=1e-05, momentum=0.1, affine=True, track_running_stats=True)\n",
       "      (relu): ReLU(inplace=True)\n",
       "      (conv2): CompressedLayerConv2d(\n",
       "        (pruning_layer): <MDMM name=mdmm_30, built=True>\n",
       "      )\n",
       "      (bn2): BatchNorm2d(128, eps=1e-05, momentum=0.1, affine=True, track_running_stats=True)\n",
       "    )\n",
       "  )\n",
       "  (layer3): Sequential(\n",
       "    (0): BasicBlock(\n",
       "      (conv1): CompressedLayerConv2d(\n",
       "        (pruning_layer): <MDMM name=mdmm_31, built=True>\n",
       "      )\n",
       "      (bn1): BatchNorm2d(256, eps=1e-05, momentum=0.1, affine=True, track_running_stats=True)\n",
       "      (relu): ReLU(inplace=True)\n",
       "      (conv2): CompressedLayerConv2d(\n",
       "        (pruning_layer): <MDMM name=mdmm_32, built=True>\n",
       "      )\n",
       "      (bn2): BatchNorm2d(256, eps=1e-05, momentum=0.1, affine=True, track_running_stats=True)\n",
       "      (downsample): Sequential(\n",
       "        (0): CompressedLayerConv2d(\n",
       "          (pruning_layer): <MDMM name=mdmm_33, built=True>\n",
       "        )\n",
       "        (1): BatchNorm2d(256, eps=1e-05, momentum=0.1, affine=True, track_running_stats=True)\n",
       "      )\n",
       "    )\n",
       "    (1): BasicBlock(\n",
       "      (conv1): CompressedLayerConv2d(\n",
       "        (pruning_layer): <MDMM name=mdmm_34, built=True>\n",
       "      )\n",
       "      (bn1): BatchNorm2d(256, eps=1e-05, momentum=0.1, affine=True, track_running_stats=True)\n",
       "      (relu): ReLU(inplace=True)\n",
       "      (conv2): CompressedLayerConv2d(\n",
       "        (pruning_layer): <MDMM name=mdmm_35, built=True>\n",
       "      )\n",
       "      (bn2): BatchNorm2d(256, eps=1e-05, momentum=0.1, affine=True, track_running_stats=True)\n",
       "    )\n",
       "  )\n",
       "  (layer4): Sequential(\n",
       "    (0): BasicBlock(\n",
       "      (conv1): CompressedLayerConv2d(\n",
       "        (pruning_layer): <MDMM name=mdmm_36, built=True>\n",
       "      )\n",
       "      (bn1): BatchNorm2d(512, eps=1e-05, momentum=0.1, affine=True, track_running_stats=True)\n",
       "      (relu): ReLU(inplace=True)\n",
       "      (conv2): CompressedLayerConv2d(\n",
       "        (pruning_layer): <MDMM name=mdmm_37, built=True>\n",
       "      )\n",
       "      (bn2): BatchNorm2d(512, eps=1e-05, momentum=0.1, affine=True, track_running_stats=True)\n",
       "      (downsample): Sequential(\n",
       "        (0): CompressedLayerConv2d(\n",
       "          (pruning_layer): <MDMM name=mdmm_38, built=True>\n",
       "        )\n",
       "        (1): BatchNorm2d(512, eps=1e-05, momentum=0.1, affine=True, track_running_stats=True)\n",
       "      )\n",
       "    )\n",
       "    (1): BasicBlock(\n",
       "      (conv1): CompressedLayerConv2d(\n",
       "        (pruning_layer): <MDMM name=mdmm_39, built=True>\n",
       "      )\n",
       "      (bn1): BatchNorm2d(512, eps=1e-05, momentum=0.1, affine=True, track_running_stats=True)\n",
       "      (relu): ReLU(inplace=True)\n",
       "      (conv2): CompressedLayerConv2d(\n",
       "        (pruning_layer): <MDMM name=mdmm_40, built=True>\n",
       "      )\n",
       "      (bn2): BatchNorm2d(512, eps=1e-05, momentum=0.1, affine=True, track_running_stats=True)\n",
       "    )\n",
       "  )\n",
       "  (avgpool): AdaptiveAvgPool2d(output_size=(1, 1))\n",
       "  (fc): CompressedLayerLinear(\n",
       "    (pruning_layer): <MDMM name=mdmm_41, built=True>\n",
       "  )\n",
       ")"
      ]
     },
     "execution_count": 12,
     "metadata": {},
     "output_type": "execute_result"
    }
   ],
   "source": [
    "from pquant import add_compression_layers\n",
    "input_shape = (256,3,32,32)\n",
    "model_paca = model.to(device)\n",
    "model_paca = add_compression_layers(model_paca, config, input_shape)\n",
    "model_paca"
   ]
  },
  {
   "cell_type": "code",
   "execution_count": 13,
   "id": "90c24bff-9937-4670-8cff-022ddc7a0aa7",
   "metadata": {},
   "outputs": [],
   "source": [
    "def train_resnet(model, trainloader, device, loss_func,\n",
    "                 epoch, optimizer, scheduler, *args, **kwargs):\n",
    "    \"\"\"\n",
    "    One epoch of training with a live ETA/throughput bar.\n",
    "    \"\"\"\n",
    "    print()\n",
    "    model.train()\n",
    "\n",
    "    with tqdm(trainloader,\n",
    "              desc=f\"Train ‖\\tEpoch {epoch}\",\n",
    "              total=len(trainloader),\n",
    "              unit=\"batch\",\n",
    "              dynamic_ncols=True) as pbar:\n",
    "\n",
    "        for inputs, labels in pbar:\n",
    "            inputs, labels = inputs.to(device, non_blocking=True), labels.to(device, non_blocking=True)\n",
    "            inputs = quantizer(inputs, k=torch.tensor(1.), i=torch.tensor(0.), f=torch.tensor(7.))\n",
    "\n",
    "            optimizer.zero_grad(set_to_none=True)              # cleaner gradient reset\n",
    "            outputs = model(inputs)\n",
    "            loss = loss_func(outputs, labels)\n",
    "            losses = get_model_losses(model, torch.tensor(0.).to(device))\n",
    "            loss += losses\n",
    "            loss.backward()\n",
    "            optimizer.step()\n",
    "\n",
    "            \n",
    "\n",
    "            pbar.set_postfix(loss=f\"{loss.item():.4f} \")\n",
    "            \n",
    "    if scheduler is not None:\n",
    "                scheduler.step()\n",
    "                \n",
    "    # ----- Diagnostics on Last mini-batch -----\n",
    "    print(f\"Loss={loss_func(outputs, labels).item():.4f} | Reg={loss.item() - loss_func(outputs, labels).item():.4f}\")\n"
   ]
  },
  {
   "cell_type": "code",
   "execution_count": 14,
   "id": "5d410086",
   "metadata": {},
   "outputs": [],
   "source": [
    "import torch\n",
    "from keras import ops\n",
    "from tqdm import tqdm\n",
    "from pquant.pruning_methods.utils import patterns\n",
    "\n",
    "\n",
    "DOMINANT_PATTERN = None\n",
    "\n",
    "def apply_projection_mask_from_mdmm(model):\n",
    "    with torch.no_grad():\n",
    "        for name, module in model.named_modules():\n",
    "            if isinstance(module, torch.nn.Conv2d):\n",
    "                # find its MDMM sibling/attr that holds PACA metric:\n",
    "                mdmm = getattr(module, \"mdmm\", None)  # however you attach; adjust as needed\n",
    "                if mdmm and isinstance(mdmm.metric_fn, PACAPatternMetric):\n",
    "                    dp = mdmm.metric_fn.get_dominant_patterns()\n",
    "                    if dp is None or ops.shape(dp)[0] == 0:\n",
    "                        continue\n",
    "                    mask = patterns._get_projection_mask(module.weight, dp,\n",
    "                                                         src=mdmm.metric_fn.src,\n",
    "                                                         epsilon=mdmm.metric_fn.epsilon,\n",
    "                                                         distance_metric=mdmm.metric_fn.distance_metric)\n",
    "                    mask_t = torch.as_tensor(ops.convert_to_numpy(mask),\n",
    "                                             dtype=module.weight.dtype,\n",
    "                                             device=module.weight.device)\n",
    "                    module.weight.mul_(mask_t)\n",
    "                    \n",
    "def freeze_bn(model):\n",
    "    for m in model.modules():\n",
    "        if isinstance(m, nn.BatchNorm2d):\n",
    "            m.eval()\n",
    "            # optionally: do NOT zero stats; use the learned ones\n",
    "            m.track_running_stats = True\n",
    "    return model\n",
    "\n",
    "\n",
    "@torch.no_grad()\n",
    "def bn_recalibrate(model, loader, device, max_batches=200):\n",
    "    was_training = model.training\n",
    "    model.train()  # update running stats\n",
    "    it = 0\n",
    "    for x, _ in loader:\n",
    "        x = x.to(device, non_blocking=True)\n",
    "        _ = model(x)\n",
    "        it += 1\n",
    "        if it >= max_batches:\n",
    "            break\n",
    "    model.eval()        # back to eval\n",
    "    if was_training:\n",
    "        model.train()   # restore if needed\n"
   ]
  },
  {
   "cell_type": "code",
   "execution_count": 15,
   "id": "70b6b9f8",
   "metadata": {},
   "outputs": [],
   "source": [
    "import torchvision.transforms as transforms\n",
    "from tqdm import tqdm\n",
    "\n",
    "def evaluate_model(model, testloader, device, desc):\n",
    "    \"\"\"\n",
    "    Evaluates the model's accuracy on the provided data loader.\n",
    "    \"\"\"\n",
    "    model.eval()\n",
    "    correct = 0\n",
    "    total = 0\n",
    "    with torch.no_grad():\n",
    "        with tqdm(testloader,\n",
    "                  desc=desc,\n",
    "                  total=len(testloader),\n",
    "                  unit=\"batch\",\n",
    "                  dynamic_ncols=True) as pbar:\n",
    "\n",
    "            for inputs, labels in pbar:\n",
    "                inputs, labels = inputs.to(device), labels.to(device)\n",
    "                inputs = quantizer(inputs, k=torch.tensor(1.), i=torch.tensor(0.), f=torch.tensor(7.))\n",
    "                outputs = model(inputs)\n",
    "                _, predicted = torch.max(outputs.data, 1)\n",
    "                total += labels.size(0)\n",
    "                correct += (predicted == labels).sum().item()\n",
    "                \n",
    "                postfix_stats = {\n",
    "                    'acc': f\"{(100 * correct / total):.2f}%\"\n",
    "                }\n",
    "                pbar.set_postfix(**postfix_stats)\n",
    "    \n",
    "    accuracy = 100. * correct / total\n",
    "    # print(f\"Final Accuracy: {final_accuracy:.2f}%\")\n",
    "    return accuracy"
   ]
  },
  {
   "cell_type": "code",
   "execution_count": 16,
   "id": "747361db",
   "metadata": {},
   "outputs": [
    {
     "name": "stdout",
     "output_type": "stream",
     "text": [
      "18fe8243\n",
      "/depot/cms/users/das214/PQuant/trained_models/resnet/mdmm/18fe8243/unstr_paca/\n",
      "Deleted old model directory /depot/cms/users/das214/PQuant/trained_models/resnet/mdmm/18fe8243/unstr_paca/\n"
     ]
    }
   ],
   "source": [
    "import shutil\n",
    "import random\n",
    "fingerprint = '%08x' % random.randrange(16**8)\n",
    "fingerprint = \"18fe8243\"\n",
    "SAVE_DIR = f'/depot/cms/users/das214/PQuant/trained_models/resnet/mdmm/{fingerprint}/unstr_paca/'\n",
    "print(fingerprint)\n",
    "print(SAVE_DIR)\n",
    "if os.path.exists(SAVE_DIR):\n",
    "    shutil.rmtree(SAVE_DIR)\n",
    "    print(f\"Deleted old model directory {SAVE_DIR}\")\n",
    "os.makedirs(SAVE_DIR, exist_ok=True)"
   ]
  },
  {
   "cell_type": "code",
   "execution_count": 17,
   "id": "433cc107",
   "metadata": {},
   "outputs": [],
   "source": [
    "from pquant import remove_pruning_from_model, add_compression_layers\n",
    "import torch.nn as nn\n",
    "\n",
    "# ---------- BN helpers ----------\n",
    "@torch.no_grad()\n",
    "def copy_bn_buffers_by_name(src: torch.nn.Module, dst: torch.nn.Module):\n",
    "    dst_mods = dict(dst.named_modules())\n",
    "    copied = 0\n",
    "    for n, ms in src.named_modules():\n",
    "        if isinstance(ms, nn.BatchNorm2d):\n",
    "            md = dst_mods.get(n, None)\n",
    "            if isinstance(md, nn.BatchNorm2d):\n",
    "                md.running_mean.copy_(ms.running_mean)\n",
    "                md.running_var.copy_(ms.running_var)\n",
    "                if hasattr(md, \"num_batches_tracked\") and hasattr(ms, \"num_batches_tracked\"):\n",
    "                    md.num_batches_tracked.copy_(ms.num_batches_tracked)\n",
    "                copied += 1\n",
    "    print(f\"[clean export] Copied BN buffers for {copied} layers.\")\n",
    "\n",
    "@torch.no_grad()\n",
    "def bn_recalibrate(model, loader, device, max_batches=200):\n",
    "    was_training = model.training\n",
    "    model.train()  # update running stats\n",
    "    it = 0\n",
    "    for x, _ in loader:\n",
    "        x = x.to(device, non_blocking=True)\n",
    "        _ = model(x)\n",
    "        it += 1\n",
    "        if it >= max_batches:\n",
    "            break\n",
    "    model.eval()\n",
    "    if was_training:\n",
    "        model.train()\n",
    "\n",
    "# ---------- snapshot/restore ----------\n",
    "def _snapshot_state_dict(m: torch.nn.Module):\n",
    "    return {k: v.detach().clone() for k, v in m.state_dict().items()}\n",
    "\n",
    "def _restore_state_dict(m: torch.nn.Module, sd: dict):\n",
    "    m.load_state_dict(sd, strict=True)\n",
    "\n",
    "# ---------- clean export that preserves BN stats ----------\n",
    "def _export_clean_from_state(\n",
    "    sd: dict,\n",
    "    config: dict,\n",
    "    input_shape,\n",
    "    path: str,\n",
    "    device: str,\n",
    "    calib_loader=None,\n",
    "    calib_batches: int = 200,\n",
    "):\n",
    "    \"\"\"\n",
    "    Build a fresh WRAPPED temp model, load weights (strict=False to ignore wrapper aux vars),\n",
    "    strip wrappers -> clean model, copy BN buffers into clean. Optionally BN-recalibrate clean.\n",
    "    Live model remains untouched.\n",
    "    \"\"\"\n",
    "    tmp = torchvision.models.resnet18()\n",
    "    tmp = add_compression_layers(tmp, config, input_shape)\n",
    "    tmp.load_state_dict(sd, strict=False)  # load matching params/buffers\n",
    "    tmp.to(device).eval()\n",
    "\n",
    "    clean = remove_pruning_from_model(tmp, config)  # vanilla model\n",
    "    clean.to(device).eval()\n",
    "\n",
    "    # Preserve BN running stats (and num_batches_tracked)\n",
    "    copy_bn_buffers_by_name(tmp, clean)\n",
    "\n",
    "    # Optional: BN recalibration for extra safety\n",
    "    if calib_loader is not None:\n",
    "        print(\"[clean export] BN recalibration on clean model...\")\n",
    "        bn_recalibrate(clean, calib_loader, device, max_batches=calib_batches)\n",
    "\n",
    "    torch.save(clean.state_dict(), path)\n",
    "\n",
    "# ---------- your validate_resnet with safe BP/AP exports ----------\n",
    "def validate_resnet(model, testloader, device, loss_func, epoch, *, input_shape, **kwargs):\n",
    "    model.eval()\n",
    "\n",
    "    # If iterative_train passed trainloader in **kwargs, use it for BN calibration\n",
    "    calib_loader = kwargs.get(\"trainloader\", None)\n",
    "\n",
    "    # ----- BP (no mutation of live model) -----\n",
    "    acc_bp = evaluate_model(model, testloader, device, desc=f\" - Val (BP)\\t‖\\tEpoch {epoch}\")\n",
    "    r_bp   = get_layer_keep_ratio(model)\n",
    "    print(f\"Accuracy (Before Projection): {acc_bp:.2f}%\")\n",
    "    print(f\"Remaining Weights (BP true): {100.0 * r_bp:.2f}%\")\n",
    "\n",
    "    # bp_raw = os.path.join(SAVE_DIR, f'BP_e{epoch}_a{acc_bp:.2f}_r{r_bp:.2f}.pt')\n",
    "    # torch.save(model.state_dict(), bp_raw)\n",
    "    # print(f\"Saved BP (wrapped) → {bp_raw}\")\n",
    "\n",
    "    bp_clean = os.path.join(SAVE_DIR, f'BP_clean_e{epoch}_a{acc_bp:.2f}_r{r_bp:.2f}.pth')\n",
    "    _export_clean_from_state(model.state_dict(), config, input_shape, bp_clean, device,\n",
    "                             calib_loader=calib_loader, calib_batches=200)\n",
    "    print(f\"Saved BP (clean)   → {bp_clean}\")\n",
    "\n",
    "    # ----- AP (temporary mutation on live, then restore) -----\n",
    "    sd_orig = _snapshot_state_dict(model)\n",
    "\n",
    "    with torch.no_grad():\n",
    "        apply_projection_mask_from_mdmm(model)  # uses learned MDMM PACA patterns\n",
    "        freeze_bn(model)                        # eval BN (no stat drift during AP eval)\n",
    "\n",
    "    acc_ap = evaluate_model(model, testloader, device, desc=f\" - Val (AP)\\t‖\\tEpoch {epoch}\")\n",
    "    r_ap   = get_layer_keep_ratio(model)\n",
    "    print(f\"Accuracy (After  Projection): {acc_ap:.2f}%\")\n",
    "    print(f\"Remaining Weights (AP true):  {100.0 * r_ap:.2f}%\")\n",
    "\n",
    "    # ap_raw = os.path.join(SAVE_DIR, f'AP_e{epoch}_a{acc_ap:.2f}_r{r_ap:.2f}.pt')\n",
    "    # torch.save(model.state_dict(), ap_raw)\n",
    "    # print(f\"Saved AP (wrapped) → {ap_raw}\")\n",
    "\n",
    "    ap_clean = os.path.join(SAVE_DIR, f'AP_clean_e{epoch}_a{acc_ap:.2f}_r{r_ap:.2f}.pth')\n",
    "    _export_clean_from_state(model.state_dict(), config, input_shape, ap_clean, device,\n",
    "                             calib_loader=calib_loader, calib_batches=200)\n",
    "    print(f\"Saved AP (clean)   → {ap_clean}\")\n",
    "\n",
    "    # Restore the exact live training state\n",
    "    _restore_state_dict(model, sd_orig)\n"
   ]
  },
  {
   "cell_type": "code",
   "execution_count": 18,
   "id": "9fd6921f",
   "metadata": {},
   "outputs": [],
   "source": [
    "def validate_resnet(model, testloader, device, loss_func, epoch, *, input_shape, **kwargs):\n",
    "    model.eval()\n",
    "    acc_bp = evaluate_model(model, testloader, device, desc=f\" - Val (BP)\\t‖\\tEpoch {epoch}\")\n",
    "    r_bp   = get_layer_keep_ratio(model)\n",
    "    print(f\"Accuracy (Before Projection): {acc_bp:.2f}%\")\n",
    "    print(f\"Remaining Weights (BP true): {100.0 * r_bp:.2f}%\")"
   ]
  },
  {
   "cell_type": "code",
   "execution_count": 19,
   "id": "1cd1d9bc",
   "metadata": {},
   "outputs": [],
   "source": [
    "BATCH_SIZE = 256\n",
    "train_loader, val_loader = get_cifar10_data(BATCH_SIZE)"
   ]
  },
  {
   "cell_type": "markdown",
   "id": "9850c23a-2abc-4904-9c69-859492b450a8",
   "metadata": {},
   "source": [
    "## Train model\n"
   ]
  },
  {
   "cell_type": "code",
   "execution_count": 20,
   "id": "9f88af88-ef7a-4d30-8cff-f39225d5a96c",
   "metadata": {},
   "outputs": [],
   "source": [
    "from torch.optim.lr_scheduler import CosineAnnealingLR\n",
    "\n",
    "optimizer = torch.optim.SGD(model.parameters(), lr=0.01, weight_decay=0.0001, momentum=0.9)\n",
    "scheduler = CosineAnnealingLR(optimizer, 200)\n",
    "loss_function = nn.CrossEntropyLoss()"
   ]
  },
  {
   "cell_type": "code",
   "execution_count": 21,
   "id": "18f2414c-1f4d-4a30-a143-920497e60ab7",
   "metadata": {},
   "outputs": [
    {
     "name": "stdout",
     "output_type": "stream",
     "text": [
      "\n"
     ]
    },
    {
     "name": "stderr",
     "output_type": "stream",
     "text": [
      "Train ‖\tEpoch 0: 100%|██████████| 196/196 [00:10<00:00, 19.01batch/s, loss=2.7615]\n"
     ]
    },
    {
     "name": "stdout",
     "output_type": "stream",
     "text": [
      "Loss=0.5863 | Reg=2.1752\n"
     ]
    },
    {
     "name": "stderr",
     "output_type": "stream",
     "text": [
      " - Val (BP)\t‖\tEpoch 0: 100%|██████████| 196/196 [00:05<00:00, 32.75batch/s, acc=79.52%]\n"
     ]
    },
    {
     "name": "stdout",
     "output_type": "stream",
     "text": [
      "Accuracy (Before Projection): 79.52%\n",
      "Remaining Weights (BP true): 45.78%\n",
      "\n"
     ]
    },
    {
     "name": "stderr",
     "output_type": "stream",
     "text": [
      "Train ‖\tEpoch 1: 100%|██████████| 196/196 [00:10<00:00, 19.50batch/s, loss=3.9846]\n"
     ]
    },
    {
     "name": "stdout",
     "output_type": "stream",
     "text": [
      "Loss=0.6225 | Reg=3.3621\n"
     ]
    },
    {
     "name": "stderr",
     "output_type": "stream",
     "text": [
      " - Val (BP)\t‖\tEpoch 1: 100%|██████████| 196/196 [00:05<00:00, 32.97batch/s, acc=80.41%]\n"
     ]
    },
    {
     "name": "stdout",
     "output_type": "stream",
     "text": [
      "Accuracy (Before Projection): 80.41%\n",
      "Remaining Weights (BP true): 45.78%\n",
      "\n"
     ]
    },
    {
     "name": "stderr",
     "output_type": "stream",
     "text": [
      "Train ‖\tEpoch 2: 100%|██████████| 196/196 [00:10<00:00, 19.47batch/s, loss=5.2014]\n"
     ]
    },
    {
     "name": "stdout",
     "output_type": "stream",
     "text": [
      "Loss=0.6540 | Reg=4.5473\n"
     ]
    },
    {
     "name": "stderr",
     "output_type": "stream",
     "text": [
      " - Val (BP)\t‖\tEpoch 2: 100%|██████████| 196/196 [00:05<00:00, 33.48batch/s, acc=81.73%]\n"
     ]
    },
    {
     "name": "stdout",
     "output_type": "stream",
     "text": [
      "Accuracy (Before Projection): 81.73%\n",
      "Remaining Weights (BP true): 45.78%\n",
      "\n"
     ]
    },
    {
     "name": "stderr",
     "output_type": "stream",
     "text": [
      "Train ‖\tEpoch 3: 100%|██████████| 196/196 [00:10<00:00, 19.17batch/s, loss=6.2955]\n"
     ]
    },
    {
     "name": "stdout",
     "output_type": "stream",
     "text": [
      "Loss=0.5659 | Reg=5.7297\n"
     ]
    },
    {
     "name": "stderr",
     "output_type": "stream",
     "text": [
      " - Val (BP)\t‖\tEpoch 3: 100%|██████████| 196/196 [00:05<00:00, 33.19batch/s, acc=82.47%]\n"
     ]
    },
    {
     "name": "stdout",
     "output_type": "stream",
     "text": [
      "Accuracy (Before Projection): 82.47%\n",
      "Remaining Weights (BP true): 45.78%\n",
      "\n"
     ]
    },
    {
     "name": "stderr",
     "output_type": "stream",
     "text": [
      "Train ‖\tEpoch 4: 100%|██████████| 196/196 [00:10<00:00, 19.18batch/s, loss=7.4748]\n"
     ]
    },
    {
     "name": "stdout",
     "output_type": "stream",
     "text": [
      "Loss=0.5647 | Reg=6.9101\n"
     ]
    },
    {
     "name": "stderr",
     "output_type": "stream",
     "text": [
      " - Val (BP)\t‖\tEpoch 4: 100%|██████████| 196/196 [00:05<00:00, 33.34batch/s, acc=83.99%]\n"
     ]
    },
    {
     "name": "stdout",
     "output_type": "stream",
     "text": [
      "Accuracy (Before Projection): 83.99%\n",
      "Remaining Weights (BP true): 45.78%\n",
      "\n"
     ]
    },
    {
     "name": "stderr",
     "output_type": "stream",
     "text": [
      "Train ‖\tEpoch 5: 100%|██████████| 196/196 [00:10<00:00, 19.44batch/s, loss=8.6295]\n"
     ]
    },
    {
     "name": "stdout",
     "output_type": "stream",
     "text": [
      "Loss=0.5398 | Reg=8.0897\n"
     ]
    },
    {
     "name": "stderr",
     "output_type": "stream",
     "text": [
      " - Val (BP)\t‖\tEpoch 5: 100%|██████████| 196/196 [00:05<00:00, 33.72batch/s, acc=86.27%]\n"
     ]
    },
    {
     "name": "stdout",
     "output_type": "stream",
     "text": [
      "Accuracy (Before Projection): 86.27%\n",
      "Remaining Weights (BP true): 45.78%\n",
      "\n"
     ]
    },
    {
     "name": "stderr",
     "output_type": "stream",
     "text": [
      "Train ‖\tEpoch 6: 100%|██████████| 196/196 [00:10<00:00, 19.44batch/s, loss=10.0430]\n"
     ]
    },
    {
     "name": "stdout",
     "output_type": "stream",
     "text": [
      "Loss=0.7740 | Reg=9.2690\n"
     ]
    },
    {
     "name": "stderr",
     "output_type": "stream",
     "text": [
      " - Val (BP)\t‖\tEpoch 6: 100%|██████████| 196/196 [00:05<00:00, 33.29batch/s, acc=79.69%]\n"
     ]
    },
    {
     "name": "stdout",
     "output_type": "stream",
     "text": [
      "Accuracy (Before Projection): 79.69%\n",
      "Remaining Weights (BP true): 45.78%\n",
      "\n"
     ]
    },
    {
     "name": "stderr",
     "output_type": "stream",
     "text": [
      "Train ‖\tEpoch 7: 100%|██████████| 196/196 [00:10<00:00, 19.13batch/s, loss=11.1432]\n"
     ]
    },
    {
     "name": "stdout",
     "output_type": "stream",
     "text": [
      "Loss=0.6968 | Reg=10.4464\n"
     ]
    },
    {
     "name": "stderr",
     "output_type": "stream",
     "text": [
      " - Val (BP)\t‖\tEpoch 7: 100%|██████████| 196/196 [00:05<00:00, 33.63batch/s, acc=85.70%]\n"
     ]
    },
    {
     "name": "stdout",
     "output_type": "stream",
     "text": [
      "Accuracy (Before Projection): 85.70%\n",
      "Remaining Weights (BP true): 45.78%\n",
      "\n"
     ]
    },
    {
     "name": "stderr",
     "output_type": "stream",
     "text": [
      "Train ‖\tEpoch 8: 100%|██████████| 196/196 [00:10<00:00, 19.37batch/s, loss=12.2231]\n"
     ]
    },
    {
     "name": "stdout",
     "output_type": "stream",
     "text": [
      "Loss=0.5991 | Reg=11.6240\n"
     ]
    },
    {
     "name": "stderr",
     "output_type": "stream",
     "text": [
      " - Val (BP)\t‖\tEpoch 8: 100%|██████████| 196/196 [00:05<00:00, 33.45batch/s, acc=86.00%]\n"
     ]
    },
    {
     "name": "stdout",
     "output_type": "stream",
     "text": [
      "Accuracy (Before Projection): 86.00%\n",
      "Remaining Weights (BP true): 45.78%\n",
      "\n"
     ]
    },
    {
     "name": "stderr",
     "output_type": "stream",
     "text": [
      "Train ‖\tEpoch 9: 100%|██████████| 196/196 [00:10<00:00, 19.39batch/s, loss=13.2000]\n"
     ]
    },
    {
     "name": "stdout",
     "output_type": "stream",
     "text": [
      "Loss=0.3984 | Reg=12.8017\n"
     ]
    },
    {
     "name": "stderr",
     "output_type": "stream",
     "text": [
      " - Val (BP)\t‖\tEpoch 9: 100%|██████████| 196/196 [00:05<00:00, 33.17batch/s, acc=86.99%]\n"
     ]
    },
    {
     "name": "stdout",
     "output_type": "stream",
     "text": [
      "Accuracy (Before Projection): 86.99%\n",
      "Remaining Weights (BP true): 45.78%\n",
      "\n"
     ]
    },
    {
     "name": "stderr",
     "output_type": "stream",
     "text": [
      "Train ‖\tEpoch 10: 100%|██████████| 196/196 [00:10<00:00, 19.50batch/s, loss=14.5499]\n"
     ]
    },
    {
     "name": "stdout",
     "output_type": "stream",
     "text": [
      "Loss=0.5714 | Reg=13.9785\n"
     ]
    },
    {
     "name": "stderr",
     "output_type": "stream",
     "text": [
      " - Val (BP)\t‖\tEpoch 10: 100%|██████████| 196/196 [00:05<00:00, 33.49batch/s, acc=85.32%]\n"
     ]
    },
    {
     "name": "stdout",
     "output_type": "stream",
     "text": [
      "Accuracy (Before Projection): 85.32%\n",
      "Remaining Weights (BP true): 45.78%\n",
      "\n"
     ]
    },
    {
     "name": "stderr",
     "output_type": "stream",
     "text": [
      "Train ‖\tEpoch 11: 100%|██████████| 196/196 [00:10<00:00, 19.02batch/s, loss=15.6621]\n"
     ]
    },
    {
     "name": "stdout",
     "output_type": "stream",
     "text": [
      "Loss=0.5084 | Reg=15.1538\n"
     ]
    },
    {
     "name": "stderr",
     "output_type": "stream",
     "text": [
      " - Val (BP)\t‖\tEpoch 11: 100%|██████████| 196/196 [00:05<00:00, 33.07batch/s, acc=87.50%]\n"
     ]
    },
    {
     "name": "stdout",
     "output_type": "stream",
     "text": [
      "Accuracy (Before Projection): 87.50%\n",
      "Remaining Weights (BP true): 45.78%\n",
      "\n"
     ]
    },
    {
     "name": "stderr",
     "output_type": "stream",
     "text": [
      "Train ‖\tEpoch 12: 100%|██████████| 196/196 [00:10<00:00, 19.54batch/s, loss=16.8056]\n"
     ]
    },
    {
     "name": "stdout",
     "output_type": "stream",
     "text": [
      "Loss=0.4745 | Reg=16.3310\n"
     ]
    },
    {
     "name": "stderr",
     "output_type": "stream",
     "text": [
      " - Val (BP)\t‖\tEpoch 12: 100%|██████████| 196/196 [00:05<00:00, 33.25batch/s, acc=87.22%]\n"
     ]
    },
    {
     "name": "stdout",
     "output_type": "stream",
     "text": [
      "Accuracy (Before Projection): 87.22%\n",
      "Remaining Weights (BP true): 45.78%\n",
      "\n"
     ]
    },
    {
     "name": "stderr",
     "output_type": "stream",
     "text": [
      "Train ‖\tEpoch 13: 100%|██████████| 196/196 [00:09<00:00, 19.78batch/s, loss=18.0485]\n"
     ]
    },
    {
     "name": "stdout",
     "output_type": "stream",
     "text": [
      "Loss=0.5411 | Reg=17.5074\n"
     ]
    },
    {
     "name": "stderr",
     "output_type": "stream",
     "text": [
      " - Val (BP)\t‖\tEpoch 13: 100%|██████████| 196/196 [00:05<00:00, 33.54batch/s, acc=88.40%]\n"
     ]
    },
    {
     "name": "stdout",
     "output_type": "stream",
     "text": [
      "Accuracy (Before Projection): 88.40%\n",
      "Remaining Weights (BP true): 45.78%\n",
      "\n"
     ]
    },
    {
     "name": "stderr",
     "output_type": "stream",
     "text": [
      "Train ‖\tEpoch 14: 100%|██████████| 196/196 [00:09<00:00, 19.71batch/s, loss=19.3484]\n"
     ]
    },
    {
     "name": "stdout",
     "output_type": "stream",
     "text": [
      "Loss=0.6651 | Reg=18.6833\n"
     ]
    },
    {
     "name": "stderr",
     "output_type": "stream",
     "text": [
      " - Val (BP)\t‖\tEpoch 14: 100%|██████████| 196/196 [00:05<00:00, 33.40batch/s, acc=87.69%]\n"
     ]
    },
    {
     "name": "stdout",
     "output_type": "stream",
     "text": [
      "Accuracy (Before Projection): 87.69%\n",
      "Remaining Weights (BP true): 45.78%\n",
      "\n"
     ]
    },
    {
     "name": "stderr",
     "output_type": "stream",
     "text": [
      "Train ‖\tEpoch 15: 100%|██████████| 196/196 [00:09<00:00, 19.78batch/s, loss=20.3362]\n"
     ]
    },
    {
     "name": "stdout",
     "output_type": "stream",
     "text": [
      "Loss=0.4760 | Reg=19.8602\n"
     ]
    },
    {
     "name": "stderr",
     "output_type": "stream",
     "text": [
      " - Val (BP)\t‖\tEpoch 15: 100%|██████████| 196/196 [00:05<00:00, 33.76batch/s, acc=88.76%]\n"
     ]
    },
    {
     "name": "stdout",
     "output_type": "stream",
     "text": [
      "Accuracy (Before Projection): 88.76%\n",
      "Remaining Weights (BP true): 45.78%\n",
      "\n"
     ]
    },
    {
     "name": "stderr",
     "output_type": "stream",
     "text": [
      "Train ‖\tEpoch 16: 100%|██████████| 196/196 [00:09<00:00, 19.79batch/s, loss=21.6622]\n"
     ]
    },
    {
     "name": "stdout",
     "output_type": "stream",
     "text": [
      "Loss=0.6267 | Reg=21.0355\n"
     ]
    },
    {
     "name": "stderr",
     "output_type": "stream",
     "text": [
      " - Val (BP)\t‖\tEpoch 16: 100%|██████████| 196/196 [00:05<00:00, 33.58batch/s, acc=87.09%]\n"
     ]
    },
    {
     "name": "stdout",
     "output_type": "stream",
     "text": [
      "Accuracy (Before Projection): 87.09%\n",
      "Remaining Weights (BP true): 45.78%\n",
      "\n"
     ]
    },
    {
     "name": "stderr",
     "output_type": "stream",
     "text": [
      "Train ‖\tEpoch 17: 100%|██████████| 196/196 [00:09<00:00, 19.76batch/s, loss=22.6598]\n"
     ]
    },
    {
     "name": "stdout",
     "output_type": "stream",
     "text": [
      "Loss=0.4471 | Reg=22.2126\n"
     ]
    },
    {
     "name": "stderr",
     "output_type": "stream",
     "text": [
      " - Val (BP)\t‖\tEpoch 17: 100%|██████████| 196/196 [00:05<00:00, 33.37batch/s, acc=88.60%]\n"
     ]
    },
    {
     "name": "stdout",
     "output_type": "stream",
     "text": [
      "Accuracy (Before Projection): 88.60%\n",
      "Remaining Weights (BP true): 45.78%\n",
      "\n"
     ]
    },
    {
     "name": "stderr",
     "output_type": "stream",
     "text": [
      "Train ‖\tEpoch 18: 100%|██████████| 196/196 [00:09<00:00, 19.67batch/s, loss=23.8295]\n"
     ]
    },
    {
     "name": "stdout",
     "output_type": "stream",
     "text": [
      "Loss=0.4414 | Reg=23.3881\n"
     ]
    },
    {
     "name": "stderr",
     "output_type": "stream",
     "text": [
      " - Val (BP)\t‖\tEpoch 18: 100%|██████████| 196/196 [00:05<00:00, 33.59batch/s, acc=89.96%]\n"
     ]
    },
    {
     "name": "stdout",
     "output_type": "stream",
     "text": [
      "Accuracy (Before Projection): 89.96%\n",
      "Remaining Weights (BP true): 45.78%\n",
      "\n"
     ]
    },
    {
     "name": "stderr",
     "output_type": "stream",
     "text": [
      "Train ‖\tEpoch 19: 100%|██████████| 196/196 [00:09<00:00, 19.67batch/s, loss=25.0105]\n"
     ]
    },
    {
     "name": "stdout",
     "output_type": "stream",
     "text": [
      "Loss=0.4468 | Reg=24.5637\n"
     ]
    },
    {
     "name": "stderr",
     "output_type": "stream",
     "text": [
      " - Val (BP)\t‖\tEpoch 19: 100%|██████████| 196/196 [00:05<00:00, 33.26batch/s, acc=89.82%]\n"
     ]
    },
    {
     "name": "stdout",
     "output_type": "stream",
     "text": [
      "Accuracy (Before Projection): 89.82%\n",
      "Remaining Weights (BP true): 45.78%\n",
      "\n"
     ]
    },
    {
     "name": "stderr",
     "output_type": "stream",
     "text": [
      "Train ‖\tEpoch 20: 100%|██████████| 196/196 [00:10<00:00, 19.48batch/s, loss=26.2248]\n"
     ]
    },
    {
     "name": "stdout",
     "output_type": "stream",
     "text": [
      "Loss=0.4839 | Reg=25.7409\n"
     ]
    },
    {
     "name": "stderr",
     "output_type": "stream",
     "text": [
      " - Val (BP)\t‖\tEpoch 20: 100%|██████████| 196/196 [00:05<00:00, 33.66batch/s, acc=88.99%]\n"
     ]
    },
    {
     "name": "stdout",
     "output_type": "stream",
     "text": [
      "Accuracy (Before Projection): 88.99%\n",
      "Remaining Weights (BP true): 45.78%\n",
      "\n"
     ]
    },
    {
     "name": "stderr",
     "output_type": "stream",
     "text": [
      "Train ‖\tEpoch 21: 100%|██████████| 196/196 [00:10<00:00, 19.50batch/s, loss=27.4310]\n"
     ]
    },
    {
     "name": "stdout",
     "output_type": "stream",
     "text": [
      "Loss=0.5148 | Reg=26.9162\n"
     ]
    },
    {
     "name": "stderr",
     "output_type": "stream",
     "text": [
      " - Val (BP)\t‖\tEpoch 21: 100%|██████████| 196/196 [00:05<00:00, 33.70batch/s, acc=89.64%]\n"
     ]
    },
    {
     "name": "stdout",
     "output_type": "stream",
     "text": [
      "Accuracy (Before Projection): 89.64%\n",
      "Remaining Weights (BP true): 45.78%\n",
      "\n"
     ]
    },
    {
     "name": "stderr",
     "output_type": "stream",
     "text": [
      "Train ‖\tEpoch 22: 100%|██████████| 196/196 [00:09<00:00, 19.60batch/s, loss=28.5211]\n"
     ]
    },
    {
     "name": "stdout",
     "output_type": "stream",
     "text": [
      "Loss=0.4282 | Reg=28.0929\n"
     ]
    },
    {
     "name": "stderr",
     "output_type": "stream",
     "text": [
      " - Val (BP)\t‖\tEpoch 22: 100%|██████████| 196/196 [00:05<00:00, 33.30batch/s, acc=89.90%]\n"
     ]
    },
    {
     "name": "stdout",
     "output_type": "stream",
     "text": [
      "Accuracy (Before Projection): 89.90%\n",
      "Remaining Weights (BP true): 45.78%\n",
      "\n"
     ]
    },
    {
     "name": "stderr",
     "output_type": "stream",
     "text": [
      "Train ‖\tEpoch 23: 100%|██████████| 196/196 [00:10<00:00, 19.48batch/s, loss=29.7480]\n"
     ]
    },
    {
     "name": "stdout",
     "output_type": "stream",
     "text": [
      "Loss=0.4784 | Reg=29.2696\n"
     ]
    },
    {
     "name": "stderr",
     "output_type": "stream",
     "text": [
      " - Val (BP)\t‖\tEpoch 23: 100%|██████████| 196/196 [00:05<00:00, 33.31batch/s, acc=90.53%]\n"
     ]
    },
    {
     "name": "stdout",
     "output_type": "stream",
     "text": [
      "Accuracy (Before Projection): 90.53%\n",
      "Remaining Weights (BP true): 45.78%\n",
      "\n"
     ]
    },
    {
     "name": "stderr",
     "output_type": "stream",
     "text": [
      "Train ‖\tEpoch 24: 100%|██████████| 196/196 [00:10<00:00, 19.52batch/s, loss=30.7782]\n"
     ]
    },
    {
     "name": "stdout",
     "output_type": "stream",
     "text": [
      "Loss=0.3323 | Reg=30.4459\n"
     ]
    },
    {
     "name": "stderr",
     "output_type": "stream",
     "text": [
      " - Val (BP)\t‖\tEpoch 24: 100%|██████████| 196/196 [00:05<00:00, 33.75batch/s, acc=90.07%]\n"
     ]
    },
    {
     "name": "stdout",
     "output_type": "stream",
     "text": [
      "Accuracy (Before Projection): 90.07%\n",
      "Remaining Weights (BP true): 45.78%\n",
      "\n"
     ]
    },
    {
     "name": "stderr",
     "output_type": "stream",
     "text": [
      "Train ‖\tEpoch 25: 100%|██████████| 196/196 [00:09<00:00, 19.61batch/s, loss=32.3633]\n"
     ]
    },
    {
     "name": "stdout",
     "output_type": "stream",
     "text": [
      "Loss=0.7411 | Reg=31.6223\n"
     ]
    },
    {
     "name": "stderr",
     "output_type": "stream",
     "text": [
      " - Val (BP)\t‖\tEpoch 25: 100%|██████████| 196/196 [00:05<00:00, 33.42batch/s, acc=91.75%]\n"
     ]
    },
    {
     "name": "stdout",
     "output_type": "stream",
     "text": [
      "Accuracy (Before Projection): 91.75%\n",
      "Remaining Weights (BP true): 45.78%\n",
      "\n"
     ]
    },
    {
     "name": "stderr",
     "output_type": "stream",
     "text": [
      "Train ‖\tEpoch 26: 100%|██████████| 196/196 [00:10<00:00, 19.44batch/s, loss=33.2175]\n"
     ]
    },
    {
     "name": "stdout",
     "output_type": "stream",
     "text": [
      "Loss=0.4187 | Reg=32.7988\n"
     ]
    },
    {
     "name": "stderr",
     "output_type": "stream",
     "text": [
      " - Val (BP)\t‖\tEpoch 26: 100%|██████████| 196/196 [00:05<00:00, 33.65batch/s, acc=91.78%]\n"
     ]
    },
    {
     "name": "stdout",
     "output_type": "stream",
     "text": [
      "Accuracy (Before Projection): 91.78%\n",
      "Remaining Weights (BP true): 45.78%\n",
      "\n"
     ]
    },
    {
     "name": "stderr",
     "output_type": "stream",
     "text": [
      "Train ‖\tEpoch 27: 100%|██████████| 196/196 [00:09<00:00, 19.71batch/s, loss=34.2483]\n"
     ]
    },
    {
     "name": "stdout",
     "output_type": "stream",
     "text": [
      "Loss=0.2731 | Reg=33.9753\n"
     ]
    },
    {
     "name": "stderr",
     "output_type": "stream",
     "text": [
      " - Val (BP)\t‖\tEpoch 27: 100%|██████████| 196/196 [00:05<00:00, 33.18batch/s, acc=90.52%]\n"
     ]
    },
    {
     "name": "stdout",
     "output_type": "stream",
     "text": [
      "Accuracy (Before Projection): 90.52%\n",
      "Remaining Weights (BP true): 45.78%\n",
      "\n"
     ]
    },
    {
     "name": "stderr",
     "output_type": "stream",
     "text": [
      "Train ‖\tEpoch 28: 100%|██████████| 196/196 [00:09<00:00, 19.71batch/s, loss=35.6016]\n"
     ]
    },
    {
     "name": "stdout",
     "output_type": "stream",
     "text": [
      "Loss=0.4509 | Reg=35.1507\n"
     ]
    },
    {
     "name": "stderr",
     "output_type": "stream",
     "text": [
      " - Val (BP)\t‖\tEpoch 28: 100%|██████████| 196/196 [00:05<00:00, 33.57batch/s, acc=92.44%]\n"
     ]
    },
    {
     "name": "stdout",
     "output_type": "stream",
     "text": [
      "Accuracy (Before Projection): 92.44%\n",
      "Remaining Weights (BP true): 45.78%\n",
      "\n"
     ]
    },
    {
     "name": "stderr",
     "output_type": "stream",
     "text": [
      "Train ‖\tEpoch 29: 100%|██████████| 196/196 [00:09<00:00, 19.84batch/s, loss=36.6314]\n"
     ]
    },
    {
     "name": "stdout",
     "output_type": "stream",
     "text": [
      "Loss=0.3038 | Reg=36.3277\n"
     ]
    },
    {
     "name": "stderr",
     "output_type": "stream",
     "text": [
      " - Val (BP)\t‖\tEpoch 29: 100%|██████████| 196/196 [00:05<00:00, 33.94batch/s, acc=90.91%]\n"
     ]
    },
    {
     "name": "stdout",
     "output_type": "stream",
     "text": [
      "Accuracy (Before Projection): 90.91%\n",
      "Remaining Weights (BP true): 45.78%\n",
      "\n"
     ]
    },
    {
     "name": "stderr",
     "output_type": "stream",
     "text": [
      "Train ‖\tEpoch 30: 100%|██████████| 196/196 [00:09<00:00, 19.72batch/s, loss=37.9134]\n"
     ]
    },
    {
     "name": "stdout",
     "output_type": "stream",
     "text": [
      "Loss=0.4097 | Reg=37.5037\n"
     ]
    },
    {
     "name": "stderr",
     "output_type": "stream",
     "text": [
      " - Val (BP)\t‖\tEpoch 30: 100%|██████████| 196/196 [00:05<00:00, 33.06batch/s, acc=91.99%]\n"
     ]
    },
    {
     "name": "stdout",
     "output_type": "stream",
     "text": [
      "Accuracy (Before Projection): 91.99%\n",
      "Remaining Weights (BP true): 45.78%\n",
      "\n"
     ]
    },
    {
     "name": "stderr",
     "output_type": "stream",
     "text": [
      "Train ‖\tEpoch 31: 100%|██████████| 196/196 [00:09<00:00, 19.69batch/s, loss=39.0188]\n"
     ]
    },
    {
     "name": "stdout",
     "output_type": "stream",
     "text": [
      "Loss=0.3384 | Reg=38.6804\n"
     ]
    },
    {
     "name": "stderr",
     "output_type": "stream",
     "text": [
      " - Val (BP)\t‖\tEpoch 31: 100%|██████████| 196/196 [00:05<00:00, 33.35batch/s, acc=91.36%]\n"
     ]
    },
    {
     "name": "stdout",
     "output_type": "stream",
     "text": [
      "Accuracy (Before Projection): 91.36%\n",
      "Remaining Weights (BP true): 45.78%\n",
      "\n"
     ]
    },
    {
     "name": "stderr",
     "output_type": "stream",
     "text": [
      "Train ‖\tEpoch 32: 100%|██████████| 196/196 [00:09<00:00, 19.75batch/s, loss=40.3690]\n"
     ]
    },
    {
     "name": "stdout",
     "output_type": "stream",
     "text": [
      "Loss=0.5118 | Reg=39.8572\n"
     ]
    },
    {
     "name": "stderr",
     "output_type": "stream",
     "text": [
      " - Val (BP)\t‖\tEpoch 32: 100%|██████████| 196/196 [00:05<00:00, 33.76batch/s, acc=91.47%]\n"
     ]
    },
    {
     "name": "stdout",
     "output_type": "stream",
     "text": [
      "Accuracy (Before Projection): 91.47%\n",
      "Remaining Weights (BP true): 45.78%\n",
      "\n"
     ]
    },
    {
     "name": "stderr",
     "output_type": "stream",
     "text": [
      "Train ‖\tEpoch 33: 100%|██████████| 196/196 [00:09<00:00, 19.75batch/s, loss=41.4905]\n"
     ]
    },
    {
     "name": "stdout",
     "output_type": "stream",
     "text": [
      "Loss=0.4582 | Reg=41.0323\n"
     ]
    },
    {
     "name": "stderr",
     "output_type": "stream",
     "text": [
      " - Val (BP)\t‖\tEpoch 33: 100%|██████████| 196/196 [00:05<00:00, 33.97batch/s, acc=92.51%]\n"
     ]
    },
    {
     "name": "stdout",
     "output_type": "stream",
     "text": [
      "Accuracy (Before Projection): 92.51%\n",
      "Remaining Weights (BP true): 45.78%\n",
      "\n"
     ]
    },
    {
     "name": "stderr",
     "output_type": "stream",
     "text": [
      "Train ‖\tEpoch 34: 100%|██████████| 196/196 [00:10<00:00, 19.45batch/s, loss=42.5421]\n"
     ]
    },
    {
     "name": "stdout",
     "output_type": "stream",
     "text": [
      "Loss=0.3332 | Reg=42.2089\n"
     ]
    },
    {
     "name": "stderr",
     "output_type": "stream",
     "text": [
      " - Val (BP)\t‖\tEpoch 34: 100%|██████████| 196/196 [00:05<00:00, 33.76batch/s, acc=92.89%]\n"
     ]
    },
    {
     "name": "stdout",
     "output_type": "stream",
     "text": [
      "Accuracy (Before Projection): 92.89%\n",
      "Remaining Weights (BP true): 45.78%\n",
      "\n"
     ]
    },
    {
     "name": "stderr",
     "output_type": "stream",
     "text": [
      "Train ‖\tEpoch 35: 100%|██████████| 196/196 [00:09<00:00, 19.77batch/s, loss=43.7011]\n"
     ]
    },
    {
     "name": "stdout",
     "output_type": "stream",
     "text": [
      "Loss=0.3156 | Reg=43.3855\n"
     ]
    },
    {
     "name": "stderr",
     "output_type": "stream",
     "text": [
      " - Val (BP)\t‖\tEpoch 35: 100%|██████████| 196/196 [00:05<00:00, 33.13batch/s, acc=92.84%]\n"
     ]
    },
    {
     "name": "stdout",
     "output_type": "stream",
     "text": [
      "Accuracy (Before Projection): 92.84%\n",
      "Remaining Weights (BP true): 45.78%\n",
      "\n"
     ]
    },
    {
     "name": "stderr",
     "output_type": "stream",
     "text": [
      "Train ‖\tEpoch 36: 100%|██████████| 196/196 [00:09<00:00, 19.83batch/s, loss=44.9912]\n"
     ]
    },
    {
     "name": "stdout",
     "output_type": "stream",
     "text": [
      "Loss=0.4296 | Reg=44.5616\n"
     ]
    },
    {
     "name": "stderr",
     "output_type": "stream",
     "text": [
      " - Val (BP)\t‖\tEpoch 36: 100%|██████████| 196/196 [00:05<00:00, 33.58batch/s, acc=92.93%]\n"
     ]
    },
    {
     "name": "stdout",
     "output_type": "stream",
     "text": [
      "Accuracy (Before Projection): 92.93%\n",
      "Remaining Weights (BP true): 45.78%\n",
      "\n"
     ]
    },
    {
     "name": "stderr",
     "output_type": "stream",
     "text": [
      "Train ‖\tEpoch 37: 100%|██████████| 196/196 [00:09<00:00, 19.64batch/s, loss=46.2811]\n"
     ]
    },
    {
     "name": "stdout",
     "output_type": "stream",
     "text": [
      "Loss=0.5434 | Reg=45.7377\n"
     ]
    },
    {
     "name": "stderr",
     "output_type": "stream",
     "text": [
      " - Val (BP)\t‖\tEpoch 37: 100%|██████████| 196/196 [00:05<00:00, 33.28batch/s, acc=92.52%]\n"
     ]
    },
    {
     "name": "stdout",
     "output_type": "stream",
     "text": [
      "Accuracy (Before Projection): 92.52%\n",
      "Remaining Weights (BP true): 45.78%\n",
      "\n"
     ]
    },
    {
     "name": "stderr",
     "output_type": "stream",
     "text": [
      "Train ‖\tEpoch 38: 100%|██████████| 196/196 [00:10<00:00, 19.49batch/s, loss=47.2547]\n"
     ]
    },
    {
     "name": "stdout",
     "output_type": "stream",
     "text": [
      "Loss=0.3403 | Reg=46.9144\n"
     ]
    },
    {
     "name": "stderr",
     "output_type": "stream",
     "text": [
      " - Val (BP)\t‖\tEpoch 38: 100%|██████████| 196/196 [00:05<00:00, 33.78batch/s, acc=93.34%]\n"
     ]
    },
    {
     "name": "stdout",
     "output_type": "stream",
     "text": [
      "Accuracy (Before Projection): 93.34%\n",
      "Remaining Weights (BP true): 45.78%\n",
      "\n"
     ]
    },
    {
     "name": "stderr",
     "output_type": "stream",
     "text": [
      "Train ‖\tEpoch 39: 100%|██████████| 196/196 [00:09<00:00, 19.77batch/s, loss=48.2905]\n"
     ]
    },
    {
     "name": "stdout",
     "output_type": "stream",
     "text": [
      "Loss=0.2002 | Reg=48.0903\n"
     ]
    },
    {
     "name": "stderr",
     "output_type": "stream",
     "text": [
      " - Val (BP)\t‖\tEpoch 39: 100%|██████████| 196/196 [00:05<00:00, 33.72batch/s, acc=93.26%]\n"
     ]
    },
    {
     "name": "stdout",
     "output_type": "stream",
     "text": [
      "Accuracy (Before Projection): 93.26%\n",
      "Remaining Weights (BP true): 45.78%\n",
      "\n"
     ]
    },
    {
     "name": "stderr",
     "output_type": "stream",
     "text": [
      "Train ‖\tEpoch 40: 100%|██████████| 196/196 [00:10<00:00, 19.57batch/s, loss=49.5126]\n"
     ]
    },
    {
     "name": "stdout",
     "output_type": "stream",
     "text": [
      "Loss=0.2469 | Reg=49.2657\n"
     ]
    },
    {
     "name": "stderr",
     "output_type": "stream",
     "text": [
      " - Val (BP)\t‖\tEpoch 40: 100%|██████████| 196/196 [00:05<00:00, 33.45batch/s, acc=94.07%]\n"
     ]
    },
    {
     "name": "stdout",
     "output_type": "stream",
     "text": [
      "Accuracy (Before Projection): 94.07%\n",
      "Remaining Weights (BP true): 45.78%\n",
      "\n"
     ]
    },
    {
     "name": "stderr",
     "output_type": "stream",
     "text": [
      "Train ‖\tEpoch 41: 100%|██████████| 196/196 [00:09<00:00, 19.65batch/s, loss=50.7436]\n"
     ]
    },
    {
     "name": "stdout",
     "output_type": "stream",
     "text": [
      "Loss=0.3030 | Reg=50.4406\n"
     ]
    },
    {
     "name": "stderr",
     "output_type": "stream",
     "text": [
      " - Val (BP)\t‖\tEpoch 41: 100%|██████████| 196/196 [00:05<00:00, 33.94batch/s, acc=93.51%]\n"
     ]
    },
    {
     "name": "stdout",
     "output_type": "stream",
     "text": [
      "Accuracy (Before Projection): 93.51%\n",
      "Remaining Weights (BP true): 45.78%\n",
      "\n"
     ]
    },
    {
     "name": "stderr",
     "output_type": "stream",
     "text": [
      "Train ‖\tEpoch 42: 100%|██████████| 196/196 [00:09<00:00, 19.77batch/s, loss=52.0238]\n"
     ]
    },
    {
     "name": "stdout",
     "output_type": "stream",
     "text": [
      "Loss=0.4078 | Reg=51.6159\n"
     ]
    },
    {
     "name": "stderr",
     "output_type": "stream",
     "text": [
      " - Val (BP)\t‖\tEpoch 42: 100%|██████████| 196/196 [00:05<00:00, 33.88batch/s, acc=94.55%]\n"
     ]
    },
    {
     "name": "stdout",
     "output_type": "stream",
     "text": [
      "Accuracy (Before Projection): 94.55%\n",
      "Remaining Weights (BP true): 45.78%\n",
      "\n"
     ]
    },
    {
     "name": "stderr",
     "output_type": "stream",
     "text": [
      "Train ‖\tEpoch 43: 100%|██████████| 196/196 [00:09<00:00, 19.73batch/s, loss=53.1870]\n"
     ]
    },
    {
     "name": "stdout",
     "output_type": "stream",
     "text": [
      "Loss=0.3951 | Reg=52.7919\n"
     ]
    },
    {
     "name": "stderr",
     "output_type": "stream",
     "text": [
      " - Val (BP)\t‖\tEpoch 43: 100%|██████████| 196/196 [00:05<00:00, 33.71batch/s, acc=94.26%]\n"
     ]
    },
    {
     "name": "stdout",
     "output_type": "stream",
     "text": [
      "Accuracy (Before Projection): 94.26%\n",
      "Remaining Weights (BP true): 45.78%\n",
      "\n"
     ]
    },
    {
     "name": "stderr",
     "output_type": "stream",
     "text": [
      "Train ‖\tEpoch 44: 100%|██████████| 196/196 [00:09<00:00, 19.61batch/s, loss=54.3127]\n"
     ]
    },
    {
     "name": "stdout",
     "output_type": "stream",
     "text": [
      "Loss=0.3463 | Reg=53.9664\n"
     ]
    },
    {
     "name": "stderr",
     "output_type": "stream",
     "text": [
      " - Val (BP)\t‖\tEpoch 44: 100%|██████████| 196/196 [00:05<00:00, 33.46batch/s, acc=95.07%]\n"
     ]
    },
    {
     "name": "stdout",
     "output_type": "stream",
     "text": [
      "Accuracy (Before Projection): 95.07%\n",
      "Remaining Weights (BP true): 45.78%\n",
      "\n"
     ]
    },
    {
     "name": "stderr",
     "output_type": "stream",
     "text": [
      "Train ‖\tEpoch 45: 100%|██████████| 196/196 [00:09<00:00, 19.65batch/s, loss=55.4382]\n"
     ]
    },
    {
     "name": "stdout",
     "output_type": "stream",
     "text": [
      "Loss=0.2961 | Reg=55.1422\n"
     ]
    },
    {
     "name": "stderr",
     "output_type": "stream",
     "text": [
      " - Val (BP)\t‖\tEpoch 45: 100%|██████████| 196/196 [00:05<00:00, 33.68batch/s, acc=94.60%]\n"
     ]
    },
    {
     "name": "stdout",
     "output_type": "stream",
     "text": [
      "Accuracy (Before Projection): 94.60%\n",
      "Remaining Weights (BP true): 45.78%\n",
      "\n"
     ]
    },
    {
     "name": "stderr",
     "output_type": "stream",
     "text": [
      "Train ‖\tEpoch 46: 100%|██████████| 196/196 [00:09<00:00, 19.86batch/s, loss=56.5610]\n"
     ]
    },
    {
     "name": "stdout",
     "output_type": "stream",
     "text": [
      "Loss=0.2449 | Reg=56.3162\n"
     ]
    },
    {
     "name": "stderr",
     "output_type": "stream",
     "text": [
      " - Val (BP)\t‖\tEpoch 46: 100%|██████████| 196/196 [00:05<00:00, 33.57batch/s, acc=94.12%]\n"
     ]
    },
    {
     "name": "stdout",
     "output_type": "stream",
     "text": [
      "Accuracy (Before Projection): 94.12%\n",
      "Remaining Weights (BP true): 45.78%\n",
      "\n"
     ]
    },
    {
     "name": "stderr",
     "output_type": "stream",
     "text": [
      "Train ‖\tEpoch 47: 100%|██████████| 196/196 [00:09<00:00, 19.69batch/s, loss=57.7573]\n"
     ]
    },
    {
     "name": "stdout",
     "output_type": "stream",
     "text": [
      "Loss=0.2670 | Reg=57.4903\n"
     ]
    },
    {
     "name": "stderr",
     "output_type": "stream",
     "text": [
      " - Val (BP)\t‖\tEpoch 47: 100%|██████████| 196/196 [00:05<00:00, 33.58batch/s, acc=94.49%]\n"
     ]
    },
    {
     "name": "stdout",
     "output_type": "stream",
     "text": [
      "Accuracy (Before Projection): 94.49%\n",
      "Remaining Weights (BP true): 45.78%\n",
      "\n"
     ]
    },
    {
     "name": "stderr",
     "output_type": "stream",
     "text": [
      "Train ‖\tEpoch 48: 100%|██████████| 196/196 [00:09<00:00, 19.81batch/s, loss=58.8436]\n"
     ]
    },
    {
     "name": "stdout",
     "output_type": "stream",
     "text": [
      "Loss=0.1784 | Reg=58.6652\n"
     ]
    },
    {
     "name": "stderr",
     "output_type": "stream",
     "text": [
      " - Val (BP)\t‖\tEpoch 48: 100%|██████████| 196/196 [00:05<00:00, 33.41batch/s, acc=94.94%]\n"
     ]
    },
    {
     "name": "stdout",
     "output_type": "stream",
     "text": [
      "Accuracy (Before Projection): 94.94%\n",
      "Remaining Weights (BP true): 45.78%\n",
      "\n"
     ]
    },
    {
     "name": "stderr",
     "output_type": "stream",
     "text": [
      "Train ‖\tEpoch 49: 100%|██████████| 196/196 [00:09<00:00, 19.75batch/s, loss=60.2645]\n"
     ]
    },
    {
     "name": "stdout",
     "output_type": "stream",
     "text": [
      "Loss=0.4236 | Reg=59.8409\n"
     ]
    },
    {
     "name": "stderr",
     "output_type": "stream",
     "text": [
      " - Val (BP)\t‖\tEpoch 49: 100%|██████████| 196/196 [00:05<00:00, 33.51batch/s, acc=95.47%]\n"
     ]
    },
    {
     "name": "stdout",
     "output_type": "stream",
     "text": [
      "Accuracy (Before Projection): 95.47%\n",
      "Remaining Weights (BP true): 45.78%\n",
      "\n"
     ]
    },
    {
     "name": "stderr",
     "output_type": "stream",
     "text": [
      "Train ‖\tEpoch 50: 100%|██████████| 196/196 [00:09<00:00, 19.87batch/s, loss=61.3721]\n"
     ]
    },
    {
     "name": "stdout",
     "output_type": "stream",
     "text": [
      "Loss=0.3559 | Reg=61.0161\n"
     ]
    },
    {
     "name": "stderr",
     "output_type": "stream",
     "text": [
      " - Val (BP)\t‖\tEpoch 50: 100%|██████████| 196/196 [00:05<00:00, 33.73batch/s, acc=94.44%]\n"
     ]
    },
    {
     "name": "stdout",
     "output_type": "stream",
     "text": [
      "Accuracy (Before Projection): 94.44%\n",
      "Remaining Weights (BP true): 45.78%\n",
      "\n"
     ]
    },
    {
     "name": "stderr",
     "output_type": "stream",
     "text": [
      "Train ‖\tEpoch 51: 100%|██████████| 196/196 [00:09<00:00, 19.74batch/s, loss=62.4290]\n"
     ]
    },
    {
     "name": "stdout",
     "output_type": "stream",
     "text": [
      "Loss=0.2381 | Reg=62.1909\n"
     ]
    },
    {
     "name": "stderr",
     "output_type": "stream",
     "text": [
      " - Val (BP)\t‖\tEpoch 51: 100%|██████████| 196/196 [00:05<00:00, 33.30batch/s, acc=95.35%]\n"
     ]
    },
    {
     "name": "stdout",
     "output_type": "stream",
     "text": [
      "Accuracy (Before Projection): 95.35%\n",
      "Remaining Weights (BP true): 45.78%\n",
      "\n"
     ]
    },
    {
     "name": "stderr",
     "output_type": "stream",
     "text": [
      "Train ‖\tEpoch 52: 100%|██████████| 196/196 [00:10<00:00, 19.52batch/s, loss=63.6648]\n"
     ]
    },
    {
     "name": "stdout",
     "output_type": "stream",
     "text": [
      "Loss=0.2997 | Reg=63.3651\n"
     ]
    },
    {
     "name": "stderr",
     "output_type": "stream",
     "text": [
      " - Val (BP)\t‖\tEpoch 52: 100%|██████████| 196/196 [00:05<00:00, 33.53batch/s, acc=95.56%]\n"
     ]
    },
    {
     "name": "stdout",
     "output_type": "stream",
     "text": [
      "Accuracy (Before Projection): 95.56%\n",
      "Remaining Weights (BP true): 45.78%\n",
      "\n"
     ]
    },
    {
     "name": "stderr",
     "output_type": "stream",
     "text": [
      "Train ‖\tEpoch 53: 100%|██████████| 196/196 [00:10<00:00, 19.47batch/s, loss=64.9281]\n"
     ]
    },
    {
     "name": "stdout",
     "output_type": "stream",
     "text": [
      "Loss=0.3876 | Reg=64.5405\n"
     ]
    },
    {
     "name": "stderr",
     "output_type": "stream",
     "text": [
      " - Val (BP)\t‖\tEpoch 53: 100%|██████████| 196/196 [00:05<00:00, 33.48batch/s, acc=95.51%]\n"
     ]
    },
    {
     "name": "stdout",
     "output_type": "stream",
     "text": [
      "Accuracy (Before Projection): 95.51%\n",
      "Remaining Weights (BP true): 45.78%\n",
      "\n"
     ]
    },
    {
     "name": "stderr",
     "output_type": "stream",
     "text": [
      "Train ‖\tEpoch 54: 100%|██████████| 196/196 [00:09<00:00, 19.69batch/s, loss=65.9720]\n"
     ]
    },
    {
     "name": "stdout",
     "output_type": "stream",
     "text": [
      "Loss=0.2567 | Reg=65.7154\n"
     ]
    },
    {
     "name": "stderr",
     "output_type": "stream",
     "text": [
      " - Val (BP)\t‖\tEpoch 54: 100%|██████████| 196/196 [00:05<00:00, 33.64batch/s, acc=95.50%]\n"
     ]
    },
    {
     "name": "stdout",
     "output_type": "stream",
     "text": [
      "Accuracy (Before Projection): 95.50%\n",
      "Remaining Weights (BP true): 45.78%\n",
      "\n"
     ]
    },
    {
     "name": "stderr",
     "output_type": "stream",
     "text": [
      "Train ‖\tEpoch 55: 100%|██████████| 196/196 [00:09<00:00, 19.67batch/s, loss=67.1715]\n"
     ]
    },
    {
     "name": "stdout",
     "output_type": "stream",
     "text": [
      "Loss=0.2806 | Reg=66.8909\n"
     ]
    },
    {
     "name": "stderr",
     "output_type": "stream",
     "text": [
      " - Val (BP)\t‖\tEpoch 55: 100%|██████████| 196/196 [00:05<00:00, 33.29batch/s, acc=95.99%]\n"
     ]
    },
    {
     "name": "stdout",
     "output_type": "stream",
     "text": [
      "Accuracy (Before Projection): 95.99%\n",
      "Remaining Weights (BP true): 45.78%\n",
      "\n"
     ]
    },
    {
     "name": "stderr",
     "output_type": "stream",
     "text": [
      "Train ‖\tEpoch 56: 100%|██████████| 196/196 [00:09<00:00, 19.71batch/s, loss=68.2370]\n"
     ]
    },
    {
     "name": "stdout",
     "output_type": "stream",
     "text": [
      "Loss=0.1719 | Reg=68.0652\n"
     ]
    },
    {
     "name": "stderr",
     "output_type": "stream",
     "text": [
      " - Val (BP)\t‖\tEpoch 56: 100%|██████████| 196/196 [00:05<00:00, 33.89batch/s, acc=95.65%]\n"
     ]
    },
    {
     "name": "stdout",
     "output_type": "stream",
     "text": [
      "Accuracy (Before Projection): 95.65%\n",
      "Remaining Weights (BP true): 45.78%\n",
      "\n"
     ]
    },
    {
     "name": "stderr",
     "output_type": "stream",
     "text": [
      "Train ‖\tEpoch 57: 100%|██████████| 196/196 [00:09<00:00, 19.85batch/s, loss=69.5082]\n"
     ]
    },
    {
     "name": "stdout",
     "output_type": "stream",
     "text": [
      "Loss=0.2686 | Reg=69.2396\n"
     ]
    },
    {
     "name": "stderr",
     "output_type": "stream",
     "text": [
      " - Val (BP)\t‖\tEpoch 57: 100%|██████████| 196/196 [00:05<00:00, 33.59batch/s, acc=96.28%]\n"
     ]
    },
    {
     "name": "stdout",
     "output_type": "stream",
     "text": [
      "Accuracy (Before Projection): 96.28%\n",
      "Remaining Weights (BP true): 45.78%\n",
      "\n"
     ]
    },
    {
     "name": "stderr",
     "output_type": "stream",
     "text": [
      "Train ‖\tEpoch 58: 100%|██████████| 196/196 [00:09<00:00, 19.68batch/s, loss=70.5928]\n"
     ]
    },
    {
     "name": "stdout",
     "output_type": "stream",
     "text": [
      "Loss=0.1781 | Reg=70.4147\n"
     ]
    },
    {
     "name": "stderr",
     "output_type": "stream",
     "text": [
      " - Val (BP)\t‖\tEpoch 58: 100%|██████████| 196/196 [00:05<00:00, 33.34batch/s, acc=95.42%]\n"
     ]
    },
    {
     "name": "stdout",
     "output_type": "stream",
     "text": [
      "Accuracy (Before Projection): 95.42%\n",
      "Remaining Weights (BP true): 45.78%\n",
      "\n"
     ]
    },
    {
     "name": "stderr",
     "output_type": "stream",
     "text": [
      "Train ‖\tEpoch 59: 100%|██████████| 196/196 [00:09<00:00, 19.69batch/s, loss=71.8870]\n"
     ]
    },
    {
     "name": "stdout",
     "output_type": "stream",
     "text": [
      "Loss=0.2985 | Reg=71.5884\n"
     ]
    },
    {
     "name": "stderr",
     "output_type": "stream",
     "text": [
      " - Val (BP)\t‖\tEpoch 59: 100%|██████████| 196/196 [00:05<00:00, 33.67batch/s, acc=96.01%]\n"
     ]
    },
    {
     "name": "stdout",
     "output_type": "stream",
     "text": [
      "Accuracy (Before Projection): 96.01%\n",
      "Remaining Weights (BP true): 45.78%\n",
      "\n"
     ]
    },
    {
     "name": "stderr",
     "output_type": "stream",
     "text": [
      "Train ‖\tEpoch 60: 100%|██████████| 196/196 [00:09<00:00, 19.77batch/s, loss=73.1030]\n"
     ]
    },
    {
     "name": "stdout",
     "output_type": "stream",
     "text": [
      "Loss=0.3380 | Reg=72.7650\n"
     ]
    },
    {
     "name": "stderr",
     "output_type": "stream",
     "text": [
      " - Val (BP)\t‖\tEpoch 60: 100%|██████████| 196/196 [00:05<00:00, 33.42batch/s, acc=95.40%]\n"
     ]
    },
    {
     "name": "stdout",
     "output_type": "stream",
     "text": [
      "Accuracy (Before Projection): 95.40%\n",
      "Remaining Weights (BP true): 45.78%\n",
      "\n"
     ]
    },
    {
     "name": "stderr",
     "output_type": "stream",
     "text": [
      "Train ‖\tEpoch 61: 100%|██████████| 196/196 [00:09<00:00, 19.75batch/s, loss=74.4040]\n"
     ]
    },
    {
     "name": "stdout",
     "output_type": "stream",
     "text": [
      "Loss=0.4647 | Reg=73.9393\n"
     ]
    },
    {
     "name": "stderr",
     "output_type": "stream",
     "text": [
      " - Val (BP)\t‖\tEpoch 61: 100%|██████████| 196/196 [00:05<00:00, 33.76batch/s, acc=96.18%]\n"
     ]
    },
    {
     "name": "stdout",
     "output_type": "stream",
     "text": [
      "Accuracy (Before Projection): 96.18%\n",
      "Remaining Weights (BP true): 45.78%\n",
      "\n"
     ]
    },
    {
     "name": "stderr",
     "output_type": "stream",
     "text": [
      "Train ‖\tEpoch 62: 100%|██████████| 196/196 [00:09<00:00, 19.70batch/s, loss=75.3721]\n"
     ]
    },
    {
     "name": "stdout",
     "output_type": "stream",
     "text": [
      "Loss=0.2585 | Reg=75.1135\n"
     ]
    },
    {
     "name": "stderr",
     "output_type": "stream",
     "text": [
      " - Val (BP)\t‖\tEpoch 62: 100%|██████████| 196/196 [00:05<00:00, 33.40batch/s, acc=96.74%]\n"
     ]
    },
    {
     "name": "stdout",
     "output_type": "stream",
     "text": [
      "Accuracy (Before Projection): 96.74%\n",
      "Remaining Weights (BP true): 45.78%\n",
      "\n"
     ]
    },
    {
     "name": "stderr",
     "output_type": "stream",
     "text": [
      "Train ‖\tEpoch 63: 100%|██████████| 196/196 [00:09<00:00, 19.95batch/s, loss=76.5114]\n"
     ]
    },
    {
     "name": "stdout",
     "output_type": "stream",
     "text": [
      "Loss=0.2222 | Reg=76.2892\n"
     ]
    },
    {
     "name": "stderr",
     "output_type": "stream",
     "text": [
      " - Val (BP)\t‖\tEpoch 63: 100%|██████████| 196/196 [00:05<00:00, 33.41batch/s, acc=96.28%]\n"
     ]
    },
    {
     "name": "stdout",
     "output_type": "stream",
     "text": [
      "Accuracy (Before Projection): 96.28%\n",
      "Remaining Weights (BP true): 45.78%\n",
      "\n"
     ]
    },
    {
     "name": "stderr",
     "output_type": "stream",
     "text": [
      "Train ‖\tEpoch 64: 100%|██████████| 196/196 [00:09<00:00, 19.80batch/s, loss=77.6348]\n"
     ]
    },
    {
     "name": "stdout",
     "output_type": "stream",
     "text": [
      "Loss=0.1717 | Reg=77.4631\n"
     ]
    },
    {
     "name": "stderr",
     "output_type": "stream",
     "text": [
      " - Val (BP)\t‖\tEpoch 64: 100%|██████████| 196/196 [00:05<00:00, 33.57batch/s, acc=97.10%]\n"
     ]
    },
    {
     "name": "stdout",
     "output_type": "stream",
     "text": [
      "Accuracy (Before Projection): 97.10%\n",
      "Remaining Weights (BP true): 45.78%\n",
      "\n"
     ]
    },
    {
     "name": "stderr",
     "output_type": "stream",
     "text": [
      "Train ‖\tEpoch 65: 100%|██████████| 196/196 [00:09<00:00, 19.92batch/s, loss=78.7513]\n"
     ]
    },
    {
     "name": "stdout",
     "output_type": "stream",
     "text": [
      "Loss=0.1134 | Reg=78.6379\n"
     ]
    },
    {
     "name": "stderr",
     "output_type": "stream",
     "text": [
      " - Val (BP)\t‖\tEpoch 65: 100%|██████████| 196/196 [00:05<00:00, 33.65batch/s, acc=96.27%]\n"
     ]
    },
    {
     "name": "stdout",
     "output_type": "stream",
     "text": [
      "Accuracy (Before Projection): 96.27%\n",
      "Remaining Weights (BP true): 45.78%\n",
      "\n"
     ]
    },
    {
     "name": "stderr",
     "output_type": "stream",
     "text": [
      "Train ‖\tEpoch 66: 100%|██████████| 196/196 [00:09<00:00, 19.64batch/s, loss=80.0789]\n"
     ]
    },
    {
     "name": "stdout",
     "output_type": "stream",
     "text": [
      "Loss=0.2666 | Reg=79.8124\n"
     ]
    },
    {
     "name": "stderr",
     "output_type": "stream",
     "text": [
      " - Val (BP)\t‖\tEpoch 66: 100%|██████████| 196/196 [00:05<00:00, 33.46batch/s, acc=97.10%]\n"
     ]
    },
    {
     "name": "stdout",
     "output_type": "stream",
     "text": [
      "Accuracy (Before Projection): 97.10%\n",
      "Remaining Weights (BP true): 45.78%\n",
      "\n"
     ]
    },
    {
     "name": "stderr",
     "output_type": "stream",
     "text": [
      "Train ‖\tEpoch 67: 100%|██████████| 196/196 [00:09<00:00, 19.64batch/s, loss=81.2275]\n"
     ]
    },
    {
     "name": "stdout",
     "output_type": "stream",
     "text": [
      "Loss=0.2404 | Reg=80.9871\n"
     ]
    },
    {
     "name": "stderr",
     "output_type": "stream",
     "text": [
      " - Val (BP)\t‖\tEpoch 67: 100%|██████████| 196/196 [00:05<00:00, 33.12batch/s, acc=97.36%]\n"
     ]
    },
    {
     "name": "stdout",
     "output_type": "stream",
     "text": [
      "Accuracy (Before Projection): 97.36%\n",
      "Remaining Weights (BP true): 45.78%\n",
      "\n"
     ]
    },
    {
     "name": "stderr",
     "output_type": "stream",
     "text": [
      "Train ‖\tEpoch 68: 100%|██████████| 196/196 [00:10<00:00, 19.50batch/s, loss=82.3662]\n"
     ]
    },
    {
     "name": "stdout",
     "output_type": "stream",
     "text": [
      "Loss=0.2035 | Reg=82.1627\n"
     ]
    },
    {
     "name": "stderr",
     "output_type": "stream",
     "text": [
      " - Val (BP)\t‖\tEpoch 68: 100%|██████████| 196/196 [00:05<00:00, 33.13batch/s, acc=97.25%]\n"
     ]
    },
    {
     "name": "stdout",
     "output_type": "stream",
     "text": [
      "Accuracy (Before Projection): 97.25%\n",
      "Remaining Weights (BP true): 45.78%\n",
      "\n"
     ]
    },
    {
     "name": "stderr",
     "output_type": "stream",
     "text": [
      "Train ‖\tEpoch 69: 100%|██████████| 196/196 [00:09<00:00, 19.72batch/s, loss=83.4261]\n"
     ]
    },
    {
     "name": "stdout",
     "output_type": "stream",
     "text": [
      "Loss=0.0888 | Reg=83.3373\n"
     ]
    },
    {
     "name": "stderr",
     "output_type": "stream",
     "text": [
      " - Val (BP)\t‖\tEpoch 69: 100%|██████████| 196/196 [00:05<00:00, 33.40batch/s, acc=97.07%]\n"
     ]
    },
    {
     "name": "stdout",
     "output_type": "stream",
     "text": [
      "Accuracy (Before Projection): 97.07%\n",
      "Remaining Weights (BP true): 45.78%\n",
      "\n"
     ]
    },
    {
     "name": "stderr",
     "output_type": "stream",
     "text": [
      "Train ‖\tEpoch 70: 100%|██████████| 196/196 [00:09<00:00, 19.82batch/s, loss=84.7056]\n"
     ]
    },
    {
     "name": "stdout",
     "output_type": "stream",
     "text": [
      "Loss=0.1934 | Reg=84.5122\n"
     ]
    },
    {
     "name": "stderr",
     "output_type": "stream",
     "text": [
      " - Val (BP)\t‖\tEpoch 70: 100%|██████████| 196/196 [00:05<00:00, 33.27batch/s, acc=97.01%]\n"
     ]
    },
    {
     "name": "stdout",
     "output_type": "stream",
     "text": [
      "Accuracy (Before Projection): 97.01%\n",
      "Remaining Weights (BP true): 45.78%\n",
      "\n"
     ]
    },
    {
     "name": "stderr",
     "output_type": "stream",
     "text": [
      "Train ‖\tEpoch 71: 100%|██████████| 196/196 [00:09<00:00, 19.72batch/s, loss=85.7829]\n"
     ]
    },
    {
     "name": "stdout",
     "output_type": "stream",
     "text": [
      "Loss=0.0962 | Reg=85.6867\n"
     ]
    },
    {
     "name": "stderr",
     "output_type": "stream",
     "text": [
      " - Val (BP)\t‖\tEpoch 71: 100%|██████████| 196/196 [00:05<00:00, 33.68batch/s, acc=97.37%]\n"
     ]
    },
    {
     "name": "stdout",
     "output_type": "stream",
     "text": [
      "Accuracy (Before Projection): 97.37%\n",
      "Remaining Weights (BP true): 45.78%\n",
      "\n"
     ]
    },
    {
     "name": "stderr",
     "output_type": "stream",
     "text": [
      "Train ‖\tEpoch 72: 100%|██████████| 196/196 [00:09<00:00, 19.68batch/s, loss=87.1198]\n"
     ]
    },
    {
     "name": "stdout",
     "output_type": "stream",
     "text": [
      "Loss=0.2590 | Reg=86.8608\n"
     ]
    },
    {
     "name": "stderr",
     "output_type": "stream",
     "text": [
      " - Val (BP)\t‖\tEpoch 72: 100%|██████████| 196/196 [00:05<00:00, 33.70batch/s, acc=97.43%]\n"
     ]
    },
    {
     "name": "stdout",
     "output_type": "stream",
     "text": [
      "Accuracy (Before Projection): 97.43%\n",
      "Remaining Weights (BP true): 45.78%\n",
      "\n"
     ]
    },
    {
     "name": "stderr",
     "output_type": "stream",
     "text": [
      "Train ‖\tEpoch 73: 100%|██████████| 196/196 [00:09<00:00, 19.82batch/s, loss=88.3245]\n"
     ]
    },
    {
     "name": "stdout",
     "output_type": "stream",
     "text": [
      "Loss=0.2883 | Reg=88.0362\n"
     ]
    },
    {
     "name": "stderr",
     "output_type": "stream",
     "text": [
      " - Val (BP)\t‖\tEpoch 73: 100%|██████████| 196/196 [00:05<00:00, 33.46batch/s, acc=97.52%]\n"
     ]
    },
    {
     "name": "stdout",
     "output_type": "stream",
     "text": [
      "Accuracy (Before Projection): 97.52%\n",
      "Remaining Weights (BP true): 45.78%\n",
      "\n"
     ]
    },
    {
     "name": "stderr",
     "output_type": "stream",
     "text": [
      "Train ‖\tEpoch 74: 100%|██████████| 196/196 [00:09<00:00, 19.85batch/s, loss=89.3955]\n"
     ]
    },
    {
     "name": "stdout",
     "output_type": "stream",
     "text": [
      "Loss=0.1845 | Reg=89.2110\n"
     ]
    },
    {
     "name": "stderr",
     "output_type": "stream",
     "text": [
      " - Val (BP)\t‖\tEpoch 74: 100%|██████████| 196/196 [00:05<00:00, 33.27batch/s, acc=97.08%]\n"
     ]
    },
    {
     "name": "stdout",
     "output_type": "stream",
     "text": [
      "Accuracy (Before Projection): 97.08%\n",
      "Remaining Weights (BP true): 45.78%\n",
      "\n"
     ]
    },
    {
     "name": "stderr",
     "output_type": "stream",
     "text": [
      "Train ‖\tEpoch 75: 100%|██████████| 196/196 [00:09<00:00, 19.65batch/s, loss=90.4826]\n"
     ]
    },
    {
     "name": "stdout",
     "output_type": "stream",
     "text": [
      "Loss=0.0974 | Reg=90.3851\n"
     ]
    },
    {
     "name": "stderr",
     "output_type": "stream",
     "text": [
      " - Val (BP)\t‖\tEpoch 75: 100%|██████████| 196/196 [00:05<00:00, 33.72batch/s, acc=97.89%]\n"
     ]
    },
    {
     "name": "stdout",
     "output_type": "stream",
     "text": [
      "Accuracy (Before Projection): 97.89%\n",
      "Remaining Weights (BP true): 45.78%\n",
      "\n"
     ]
    },
    {
     "name": "stderr",
     "output_type": "stream",
     "text": [
      "Train ‖\tEpoch 76: 100%|██████████| 196/196 [00:10<00:00, 19.56batch/s, loss=91.9396]\n"
     ]
    },
    {
     "name": "stdout",
     "output_type": "stream",
     "text": [
      "Loss=0.3799 | Reg=91.5597\n"
     ]
    },
    {
     "name": "stderr",
     "output_type": "stream",
     "text": [
      " - Val (BP)\t‖\tEpoch 76: 100%|██████████| 196/196 [00:05<00:00, 33.64batch/s, acc=97.35%]\n"
     ]
    },
    {
     "name": "stdout",
     "output_type": "stream",
     "text": [
      "Accuracy (Before Projection): 97.35%\n",
      "Remaining Weights (BP true): 45.78%\n",
      "\n"
     ]
    },
    {
     "name": "stderr",
     "output_type": "stream",
     "text": [
      "Train ‖\tEpoch 77: 100%|██████████| 196/196 [00:09<00:00, 19.62batch/s, loss=92.9411]\n"
     ]
    },
    {
     "name": "stdout",
     "output_type": "stream",
     "text": [
      "Loss=0.2064 | Reg=92.7347\n"
     ]
    },
    {
     "name": "stderr",
     "output_type": "stream",
     "text": [
      " - Val (BP)\t‖\tEpoch 77: 100%|██████████| 196/196 [00:05<00:00, 33.36batch/s, acc=97.51%]\n"
     ]
    },
    {
     "name": "stdout",
     "output_type": "stream",
     "text": [
      "Accuracy (Before Projection): 97.51%\n",
      "Remaining Weights (BP true): 45.78%\n",
      "\n"
     ]
    },
    {
     "name": "stderr",
     "output_type": "stream",
     "text": [
      "Train ‖\tEpoch 78: 100%|██████████| 196/196 [00:09<00:00, 19.68batch/s, loss=94.0812]\n"
     ]
    },
    {
     "name": "stdout",
     "output_type": "stream",
     "text": [
      "Loss=0.1721 | Reg=93.9090\n"
     ]
    },
    {
     "name": "stderr",
     "output_type": "stream",
     "text": [
      " - Val (BP)\t‖\tEpoch 78: 100%|██████████| 196/196 [00:05<00:00, 33.60batch/s, acc=97.88%]\n"
     ]
    },
    {
     "name": "stdout",
     "output_type": "stream",
     "text": [
      "Accuracy (Before Projection): 97.88%\n",
      "Remaining Weights (BP true): 45.78%\n",
      "\n"
     ]
    },
    {
     "name": "stderr",
     "output_type": "stream",
     "text": [
      "Train ‖\tEpoch 79: 100%|██████████| 196/196 [00:09<00:00, 19.64batch/s, loss=95.3071]\n"
     ]
    },
    {
     "name": "stdout",
     "output_type": "stream",
     "text": [
      "Loss=0.2246 | Reg=95.0825\n"
     ]
    },
    {
     "name": "stderr",
     "output_type": "stream",
     "text": [
      " - Val (BP)\t‖\tEpoch 79: 100%|██████████| 196/196 [00:05<00:00, 33.70batch/s, acc=97.95%]\n"
     ]
    },
    {
     "name": "stdout",
     "output_type": "stream",
     "text": [
      "Accuracy (Before Projection): 97.95%\n",
      "Remaining Weights (BP true): 45.78%\n",
      "\n"
     ]
    },
    {
     "name": "stderr",
     "output_type": "stream",
     "text": [
      "Train ‖\tEpoch 80: 100%|██████████| 196/196 [00:10<00:00, 19.56batch/s, loss=96.5137]\n"
     ]
    },
    {
     "name": "stdout",
     "output_type": "stream",
     "text": [
      "Loss=0.2560 | Reg=96.2578\n"
     ]
    },
    {
     "name": "stderr",
     "output_type": "stream",
     "text": [
      " - Val (BP)\t‖\tEpoch 80: 100%|██████████| 196/196 [00:05<00:00, 33.45batch/s, acc=98.06%]\n"
     ]
    },
    {
     "name": "stdout",
     "output_type": "stream",
     "text": [
      "Accuracy (Before Projection): 98.06%\n",
      "Remaining Weights (BP true): 45.78%\n",
      "\n"
     ]
    },
    {
     "name": "stderr",
     "output_type": "stream",
     "text": [
      "Train ‖\tEpoch 81: 100%|██████████| 196/196 [00:09<00:00, 19.71batch/s, loss=97.6093]\n"
     ]
    },
    {
     "name": "stdout",
     "output_type": "stream",
     "text": [
      "Loss=0.1766 | Reg=97.4328\n"
     ]
    },
    {
     "name": "stderr",
     "output_type": "stream",
     "text": [
      " - Val (BP)\t‖\tEpoch 81: 100%|██████████| 196/196 [00:05<00:00, 33.33batch/s, acc=97.44%]\n"
     ]
    },
    {
     "name": "stdout",
     "output_type": "stream",
     "text": [
      "Accuracy (Before Projection): 97.44%\n",
      "Remaining Weights (BP true): 45.78%\n",
      "\n"
     ]
    },
    {
     "name": "stderr",
     "output_type": "stream",
     "text": [
      "Train ‖\tEpoch 82: 100%|██████████| 196/196 [00:09<00:00, 19.71batch/s, loss=98.8751]\n"
     ]
    },
    {
     "name": "stdout",
     "output_type": "stream",
     "text": [
      "Loss=0.2684 | Reg=98.6067\n"
     ]
    },
    {
     "name": "stderr",
     "output_type": "stream",
     "text": [
      " - Val (BP)\t‖\tEpoch 82: 100%|██████████| 196/196 [00:05<00:00, 33.96batch/s, acc=97.84%]\n"
     ]
    },
    {
     "name": "stdout",
     "output_type": "stream",
     "text": [
      "Accuracy (Before Projection): 97.84%\n",
      "Remaining Weights (BP true): 45.78%\n",
      "\n"
     ]
    },
    {
     "name": "stderr",
     "output_type": "stream",
     "text": [
      "Train ‖\tEpoch 83: 100%|██████████| 196/196 [00:09<00:00, 19.68batch/s, loss=99.9809] \n"
     ]
    },
    {
     "name": "stdout",
     "output_type": "stream",
     "text": [
      "Loss=0.1994 | Reg=99.7815\n"
     ]
    },
    {
     "name": "stderr",
     "output_type": "stream",
     "text": [
      " - Val (BP)\t‖\tEpoch 83: 100%|██████████| 196/196 [00:05<00:00, 33.61batch/s, acc=98.22%]\n"
     ]
    },
    {
     "name": "stdout",
     "output_type": "stream",
     "text": [
      "Accuracy (Before Projection): 98.22%\n",
      "Remaining Weights (BP true): 45.78%\n",
      "\n"
     ]
    },
    {
     "name": "stderr",
     "output_type": "stream",
     "text": [
      "Train ‖\tEpoch 84: 100%|██████████| 196/196 [00:10<00:00, 19.57batch/s, loss=101.0059]\n"
     ]
    },
    {
     "name": "stdout",
     "output_type": "stream",
     "text": [
      "Loss=0.0494 | Reg=100.9564\n"
     ]
    },
    {
     "name": "stderr",
     "output_type": "stream",
     "text": [
      " - Val (BP)\t‖\tEpoch 84: 100%|██████████| 196/196 [00:05<00:00, 34.07batch/s, acc=97.97%]\n"
     ]
    },
    {
     "name": "stdout",
     "output_type": "stream",
     "text": [
      "Accuracy (Before Projection): 97.97%\n",
      "Remaining Weights (BP true): 45.78%\n",
      "\n"
     ]
    },
    {
     "name": "stderr",
     "output_type": "stream",
     "text": [
      "Train ‖\tEpoch 85: 100%|██████████| 196/196 [00:09<00:00, 19.95batch/s, loss=102.2302]\n"
     ]
    },
    {
     "name": "stdout",
     "output_type": "stream",
     "text": [
      "Loss=0.0994 | Reg=102.1308\n"
     ]
    },
    {
     "name": "stderr",
     "output_type": "stream",
     "text": [
      " - Val (BP)\t‖\tEpoch 85: 100%|██████████| 196/196 [00:05<00:00, 33.71batch/s, acc=98.38%]\n"
     ]
    },
    {
     "name": "stdout",
     "output_type": "stream",
     "text": [
      "Accuracy (Before Projection): 98.38%\n",
      "Remaining Weights (BP true): 45.78%\n",
      "\n"
     ]
    },
    {
     "name": "stderr",
     "output_type": "stream",
     "text": [
      "Train ‖\tEpoch 86: 100%|██████████| 196/196 [00:09<00:00, 19.74batch/s, loss=103.5349]\n"
     ]
    },
    {
     "name": "stdout",
     "output_type": "stream",
     "text": [
      "Loss=0.2292 | Reg=103.3057\n"
     ]
    },
    {
     "name": "stderr",
     "output_type": "stream",
     "text": [
      " - Val (BP)\t‖\tEpoch 86: 100%|██████████| 196/196 [00:05<00:00, 33.78batch/s, acc=98.09%]\n"
     ]
    },
    {
     "name": "stdout",
     "output_type": "stream",
     "text": [
      "Accuracy (Before Projection): 98.09%\n",
      "Remaining Weights (BP true): 45.78%\n",
      "\n"
     ]
    },
    {
     "name": "stderr",
     "output_type": "stream",
     "text": [
      "Train ‖\tEpoch 87: 100%|██████████| 196/196 [00:09<00:00, 19.68batch/s, loss=104.5380]\n"
     ]
    },
    {
     "name": "stdout",
     "output_type": "stream",
     "text": [
      "Loss=0.0576 | Reg=104.4804\n"
     ]
    },
    {
     "name": "stderr",
     "output_type": "stream",
     "text": [
      " - Val (BP)\t‖\tEpoch 87: 100%|██████████| 196/196 [00:05<00:00, 33.90batch/s, acc=98.19%]\n"
     ]
    },
    {
     "name": "stdout",
     "output_type": "stream",
     "text": [
      "Accuracy (Before Projection): 98.19%\n",
      "Remaining Weights (BP true): 45.78%\n",
      "\n"
     ]
    },
    {
     "name": "stderr",
     "output_type": "stream",
     "text": [
      "Train ‖\tEpoch 88: 100%|██████████| 196/196 [00:09<00:00, 19.87batch/s, loss=105.8232]\n"
     ]
    },
    {
     "name": "stdout",
     "output_type": "stream",
     "text": [
      "Loss=0.1680 | Reg=105.6552\n"
     ]
    },
    {
     "name": "stderr",
     "output_type": "stream",
     "text": [
      " - Val (BP)\t‖\tEpoch 88: 100%|██████████| 196/196 [00:05<00:00, 33.61batch/s, acc=98.46%]\n"
     ]
    },
    {
     "name": "stdout",
     "output_type": "stream",
     "text": [
      "Accuracy (Before Projection): 98.46%\n",
      "Remaining Weights (BP true): 45.78%\n",
      "\n"
     ]
    },
    {
     "name": "stderr",
     "output_type": "stream",
     "text": [
      "Train ‖\tEpoch 89: 100%|██████████| 196/196 [00:09<00:00, 19.84batch/s, loss=107.1257]\n"
     ]
    },
    {
     "name": "stdout",
     "output_type": "stream",
     "text": [
      "Loss=0.2953 | Reg=106.8304\n"
     ]
    },
    {
     "name": "stderr",
     "output_type": "stream",
     "text": [
      " - Val (BP)\t‖\tEpoch 89: 100%|██████████| 196/196 [00:05<00:00, 33.69batch/s, acc=97.69%]\n"
     ]
    },
    {
     "name": "stdout",
     "output_type": "stream",
     "text": [
      "Accuracy (Before Projection): 97.69%\n",
      "Remaining Weights (BP true): 45.78%\n",
      "\n"
     ]
    },
    {
     "name": "stderr",
     "output_type": "stream",
     "text": [
      "Train ‖\tEpoch 90: 100%|██████████| 196/196 [00:09<00:00, 19.69batch/s, loss=108.1280]\n"
     ]
    },
    {
     "name": "stdout",
     "output_type": "stream",
     "text": [
      "Loss=0.1231 | Reg=108.0050\n"
     ]
    },
    {
     "name": "stderr",
     "output_type": "stream",
     "text": [
      " - Val (BP)\t‖\tEpoch 90: 100%|██████████| 196/196 [00:05<00:00, 33.70batch/s, acc=98.39%]\n"
     ]
    },
    {
     "name": "stdout",
     "output_type": "stream",
     "text": [
      "Accuracy (Before Projection): 98.39%\n",
      "Remaining Weights (BP true): 45.78%\n",
      "\n"
     ]
    },
    {
     "name": "stderr",
     "output_type": "stream",
     "text": [
      "Train ‖\tEpoch 91: 100%|██████████| 196/196 [00:09<00:00, 19.60batch/s, loss=109.3174]\n"
     ]
    },
    {
     "name": "stdout",
     "output_type": "stream",
     "text": [
      "Loss=0.1382 | Reg=109.1792\n"
     ]
    },
    {
     "name": "stderr",
     "output_type": "stream",
     "text": [
      " - Val (BP)\t‖\tEpoch 91: 100%|██████████| 196/196 [00:05<00:00, 33.48batch/s, acc=98.63%]\n"
     ]
    },
    {
     "name": "stdout",
     "output_type": "stream",
     "text": [
      "Accuracy (Before Projection): 98.63%\n",
      "Remaining Weights (BP true): 45.78%\n",
      "\n"
     ]
    },
    {
     "name": "stderr",
     "output_type": "stream",
     "text": [
      "Train ‖\tEpoch 92: 100%|██████████| 196/196 [00:10<00:00, 19.49batch/s, loss=110.4717]\n"
     ]
    },
    {
     "name": "stdout",
     "output_type": "stream",
     "text": [
      "Loss=0.1184 | Reg=110.3533\n"
     ]
    },
    {
     "name": "stderr",
     "output_type": "stream",
     "text": [
      " - Val (BP)\t‖\tEpoch 92: 100%|██████████| 196/196 [00:05<00:00, 33.98batch/s, acc=98.55%]\n"
     ]
    },
    {
     "name": "stdout",
     "output_type": "stream",
     "text": [
      "Accuracy (Before Projection): 98.55%\n",
      "Remaining Weights (BP true): 45.78%\n",
      "\n"
     ]
    },
    {
     "name": "stderr",
     "output_type": "stream",
     "text": [
      "Train ‖\tEpoch 93: 100%|██████████| 196/196 [00:09<00:00, 19.71batch/s, loss=111.5848]\n"
     ]
    },
    {
     "name": "stdout",
     "output_type": "stream",
     "text": [
      "Loss=0.0565 | Reg=111.5283\n"
     ]
    },
    {
     "name": "stderr",
     "output_type": "stream",
     "text": [
      " - Val (BP)\t‖\tEpoch 93: 100%|██████████| 196/196 [00:05<00:00, 33.86batch/s, acc=97.95%]\n"
     ]
    },
    {
     "name": "stdout",
     "output_type": "stream",
     "text": [
      "Accuracy (Before Projection): 97.95%\n",
      "Remaining Weights (BP true): 45.78%\n",
      "\n"
     ]
    },
    {
     "name": "stderr",
     "output_type": "stream",
     "text": [
      "Train ‖\tEpoch 94: 100%|██████████| 196/196 [00:09<00:00, 19.95batch/s, loss=112.7698]\n"
     ]
    },
    {
     "name": "stdout",
     "output_type": "stream",
     "text": [
      "Loss=0.0674 | Reg=112.7024\n"
     ]
    },
    {
     "name": "stderr",
     "output_type": "stream",
     "text": [
      " - Val (BP)\t‖\tEpoch 94: 100%|██████████| 196/196 [00:05<00:00, 33.74batch/s, acc=98.79%]\n"
     ]
    },
    {
     "name": "stdout",
     "output_type": "stream",
     "text": [
      "Accuracy (Before Projection): 98.79%\n",
      "Remaining Weights (BP true): 45.78%\n",
      "\n"
     ]
    },
    {
     "name": "stderr",
     "output_type": "stream",
     "text": [
      "Train ‖\tEpoch 95: 100%|██████████| 196/196 [00:09<00:00, 19.90batch/s, loss=113.9142]\n"
     ]
    },
    {
     "name": "stdout",
     "output_type": "stream",
     "text": [
      "Loss=0.0374 | Reg=113.8768\n"
     ]
    },
    {
     "name": "stderr",
     "output_type": "stream",
     "text": [
      " - Val (BP)\t‖\tEpoch 95: 100%|██████████| 196/196 [00:05<00:00, 33.75batch/s, acc=98.64%]\n"
     ]
    },
    {
     "name": "stdout",
     "output_type": "stream",
     "text": [
      "Accuracy (Before Projection): 98.64%\n",
      "Remaining Weights (BP true): 45.78%\n",
      "\n"
     ]
    },
    {
     "name": "stderr",
     "output_type": "stream",
     "text": [
      "Train ‖\tEpoch 96: 100%|██████████| 196/196 [00:09<00:00, 19.81batch/s, loss=115.1705]\n"
     ]
    },
    {
     "name": "stdout",
     "output_type": "stream",
     "text": [
      "Loss=0.1194 | Reg=115.0511\n"
     ]
    },
    {
     "name": "stderr",
     "output_type": "stream",
     "text": [
      " - Val (BP)\t‖\tEpoch 96: 100%|██████████| 196/196 [00:05<00:00, 33.47batch/s, acc=98.88%]\n"
     ]
    },
    {
     "name": "stdout",
     "output_type": "stream",
     "text": [
      "Accuracy (Before Projection): 98.88%\n",
      "Remaining Weights (BP true): 45.78%\n",
      "\n"
     ]
    },
    {
     "name": "stderr",
     "output_type": "stream",
     "text": [
      "Train ‖\tEpoch 97: 100%|██████████| 196/196 [00:09<00:00, 19.73batch/s, loss=116.5515]\n"
     ]
    },
    {
     "name": "stdout",
     "output_type": "stream",
     "text": [
      "Loss=0.3254 | Reg=116.2261\n"
     ]
    },
    {
     "name": "stderr",
     "output_type": "stream",
     "text": [
      " - Val (BP)\t‖\tEpoch 97: 100%|██████████| 196/196 [00:05<00:00, 33.39batch/s, acc=98.23%]\n"
     ]
    },
    {
     "name": "stdout",
     "output_type": "stream",
     "text": [
      "Accuracy (Before Projection): 98.23%\n",
      "Remaining Weights (BP true): 45.78%\n",
      "\n"
     ]
    },
    {
     "name": "stderr",
     "output_type": "stream",
     "text": [
      "Train ‖\tEpoch 98: 100%|██████████| 196/196 [00:09<00:00, 19.74batch/s, loss=117.5792]\n"
     ]
    },
    {
     "name": "stdout",
     "output_type": "stream",
     "text": [
      "Loss=0.1781 | Reg=117.4011\n"
     ]
    },
    {
     "name": "stderr",
     "output_type": "stream",
     "text": [
      " - Val (BP)\t‖\tEpoch 98: 100%|██████████| 196/196 [00:05<00:00, 33.46batch/s, acc=98.72%]\n"
     ]
    },
    {
     "name": "stdout",
     "output_type": "stream",
     "text": [
      "Accuracy (Before Projection): 98.72%\n",
      "Remaining Weights (BP true): 45.78%\n",
      "\n"
     ]
    },
    {
     "name": "stderr",
     "output_type": "stream",
     "text": [
      "Train ‖\tEpoch 99: 100%|██████████| 196/196 [00:09<00:00, 19.61batch/s, loss=118.7135]\n"
     ]
    },
    {
     "name": "stdout",
     "output_type": "stream",
     "text": [
      "Loss=0.1375 | Reg=118.5761\n"
     ]
    },
    {
     "name": "stderr",
     "output_type": "stream",
     "text": [
      " - Val (BP)\t‖\tEpoch 99: 100%|██████████| 196/196 [00:05<00:00, 33.44batch/s, acc=98.71%]\n"
     ]
    },
    {
     "name": "stdout",
     "output_type": "stream",
     "text": [
      "Accuracy (Before Projection): 98.71%\n",
      "Remaining Weights (BP true): 45.78%\n",
      "\n"
     ]
    },
    {
     "name": "stderr",
     "output_type": "stream",
     "text": [
      "Train ‖\tEpoch 100: 100%|██████████| 196/196 [00:03<00:00, 52.54batch/s, loss=1.2947]\n"
     ]
    },
    {
     "name": "stdout",
     "output_type": "stream",
     "text": [
      "Loss=1.2947 | Reg=0.0000\n"
     ]
    },
    {
     "name": "stderr",
     "output_type": "stream",
     "text": [
      " - Val (BP)\t‖\tEpoch 100: 100%|██████████| 196/196 [00:02<00:00, 79.73batch/s, acc=67.11%]\n"
     ]
    },
    {
     "name": "stdout",
     "output_type": "stream",
     "text": [
      "Accuracy (Before Projection): 67.11%\n",
      "Remaining Weights (BP true): 18.82%\n",
      "\n"
     ]
    },
    {
     "name": "stderr",
     "output_type": "stream",
     "text": [
      "Train ‖\tEpoch 101: 100%|██████████| 196/196 [00:03<00:00, 52.98batch/s, loss=1.0337]\n"
     ]
    },
    {
     "name": "stdout",
     "output_type": "stream",
     "text": [
      "Loss=1.0337 | Reg=0.0000\n"
     ]
    },
    {
     "name": "stderr",
     "output_type": "stream",
     "text": [
      " - Val (BP)\t‖\tEpoch 101: 100%|██████████| 196/196 [00:02<00:00, 81.84batch/s, acc=74.16%]\n"
     ]
    },
    {
     "name": "stdout",
     "output_type": "stream",
     "text": [
      "Accuracy (Before Projection): 74.16%\n",
      "Remaining Weights (BP true): 18.82%\n",
      "\n"
     ]
    },
    {
     "name": "stderr",
     "output_type": "stream",
     "text": [
      "Train ‖\tEpoch 102: 100%|██████████| 196/196 [00:03<00:00, 53.70batch/s, loss=0.8983]\n"
     ]
    },
    {
     "name": "stdout",
     "output_type": "stream",
     "text": [
      "Loss=0.8983 | Reg=0.0000\n"
     ]
    },
    {
     "name": "stderr",
     "output_type": "stream",
     "text": [
      " - Val (BP)\t‖\tEpoch 102: 100%|██████████| 196/196 [00:02<00:00, 79.96batch/s, acc=78.04%]\n"
     ]
    },
    {
     "name": "stdout",
     "output_type": "stream",
     "text": [
      "Accuracy (Before Projection): 78.04%\n",
      "Remaining Weights (BP true): 18.82%\n",
      "\n"
     ]
    },
    {
     "name": "stderr",
     "output_type": "stream",
     "text": [
      "Train ‖\tEpoch 103: 100%|██████████| 196/196 [00:03<00:00, 53.34batch/s, loss=0.7409]\n"
     ]
    },
    {
     "name": "stdout",
     "output_type": "stream",
     "text": [
      "Loss=0.7409 | Reg=0.0000\n"
     ]
    },
    {
     "name": "stderr",
     "output_type": "stream",
     "text": [
      " - Val (BP)\t‖\tEpoch 103: 100%|██████████| 196/196 [00:02<00:00, 80.47batch/s, acc=80.55%]\n"
     ]
    },
    {
     "name": "stdout",
     "output_type": "stream",
     "text": [
      "Accuracy (Before Projection): 80.55%\n",
      "Remaining Weights (BP true): 18.82%\n",
      "\n"
     ]
    },
    {
     "name": "stderr",
     "output_type": "stream",
     "text": [
      "Train ‖\tEpoch 104: 100%|██████████| 196/196 [00:03<00:00, 53.17batch/s, loss=0.5367]\n"
     ]
    },
    {
     "name": "stdout",
     "output_type": "stream",
     "text": [
      "Loss=0.5367 | Reg=0.0000\n"
     ]
    },
    {
     "name": "stderr",
     "output_type": "stream",
     "text": [
      " - Val (BP)\t‖\tEpoch 104: 100%|██████████| 196/196 [00:02<00:00, 80.33batch/s, acc=82.56%]\n"
     ]
    },
    {
     "name": "stdout",
     "output_type": "stream",
     "text": [
      "Accuracy (Before Projection): 82.56%\n",
      "Remaining Weights (BP true): 18.82%\n",
      "\n"
     ]
    },
    {
     "name": "stderr",
     "output_type": "stream",
     "text": [
      "Train ‖\tEpoch 105: 100%|██████████| 196/196 [00:03<00:00, 53.32batch/s, loss=0.7572]\n"
     ]
    },
    {
     "name": "stdout",
     "output_type": "stream",
     "text": [
      "Loss=0.7572 | Reg=0.0000\n"
     ]
    },
    {
     "name": "stderr",
     "output_type": "stream",
     "text": [
      " - Val (BP)\t‖\tEpoch 105: 100%|██████████| 196/196 [00:02<00:00, 80.16batch/s, acc=84.16%]\n"
     ]
    },
    {
     "name": "stdout",
     "output_type": "stream",
     "text": [
      "Accuracy (Before Projection): 84.16%\n",
      "Remaining Weights (BP true): 18.82%\n",
      "\n"
     ]
    },
    {
     "name": "stderr",
     "output_type": "stream",
     "text": [
      "Train ‖\tEpoch 106: 100%|██████████| 196/196 [00:03<00:00, 54.01batch/s, loss=0.4692]\n"
     ]
    },
    {
     "name": "stdout",
     "output_type": "stream",
     "text": [
      "Loss=0.4692 | Reg=0.0000\n"
     ]
    },
    {
     "name": "stderr",
     "output_type": "stream",
     "text": [
      " - Val (BP)\t‖\tEpoch 106: 100%|██████████| 196/196 [00:02<00:00, 79.94batch/s, acc=85.34%]\n"
     ]
    },
    {
     "name": "stdout",
     "output_type": "stream",
     "text": [
      "Accuracy (Before Projection): 85.34%\n",
      "Remaining Weights (BP true): 18.82%\n",
      "\n"
     ]
    },
    {
     "name": "stderr",
     "output_type": "stream",
     "text": [
      "Train ‖\tEpoch 107: 100%|██████████| 196/196 [00:03<00:00, 53.77batch/s, loss=0.5944]\n"
     ]
    },
    {
     "name": "stdout",
     "output_type": "stream",
     "text": [
      "Loss=0.5944 | Reg=0.0000\n"
     ]
    },
    {
     "name": "stderr",
     "output_type": "stream",
     "text": [
      " - Val (BP)\t‖\tEpoch 107: 100%|██████████| 196/196 [00:02<00:00, 80.23batch/s, acc=87.05%]\n"
     ]
    },
    {
     "name": "stdout",
     "output_type": "stream",
     "text": [
      "Accuracy (Before Projection): 87.05%\n",
      "Remaining Weights (BP true): 18.82%\n",
      "\n"
     ]
    },
    {
     "name": "stderr",
     "output_type": "stream",
     "text": [
      "Train ‖\tEpoch 108: 100%|██████████| 196/196 [00:03<00:00, 53.83batch/s, loss=0.4002]\n"
     ]
    },
    {
     "name": "stdout",
     "output_type": "stream",
     "text": [
      "Loss=0.4002 | Reg=0.0000\n"
     ]
    },
    {
     "name": "stderr",
     "output_type": "stream",
     "text": [
      " - Val (BP)\t‖\tEpoch 108: 100%|██████████| 196/196 [00:02<00:00, 82.81batch/s, acc=87.99%]\n"
     ]
    },
    {
     "name": "stdout",
     "output_type": "stream",
     "text": [
      "Accuracy (Before Projection): 87.99%\n",
      "Remaining Weights (BP true): 18.82%\n",
      "\n"
     ]
    },
    {
     "name": "stderr",
     "output_type": "stream",
     "text": [
      "Train ‖\tEpoch 109: 100%|██████████| 196/196 [00:03<00:00, 53.88batch/s, loss=0.5276]\n"
     ]
    },
    {
     "name": "stdout",
     "output_type": "stream",
     "text": [
      "Loss=0.5276 | Reg=0.0000\n"
     ]
    },
    {
     "name": "stderr",
     "output_type": "stream",
     "text": [
      " - Val (BP)\t‖\tEpoch 109: 100%|██████████| 196/196 [00:02<00:00, 82.41batch/s, acc=89.02%]\n"
     ]
    },
    {
     "name": "stdout",
     "output_type": "stream",
     "text": [
      "Accuracy (Before Projection): 89.02%\n",
      "Remaining Weights (BP true): 18.82%\n",
      "\n"
     ]
    },
    {
     "name": "stderr",
     "output_type": "stream",
     "text": [
      "Train ‖\tEpoch 110: 100%|██████████| 196/196 [00:03<00:00, 52.83batch/s, loss=0.4358]\n"
     ]
    },
    {
     "name": "stdout",
     "output_type": "stream",
     "text": [
      "Loss=0.4358 | Reg=0.0000\n"
     ]
    },
    {
     "name": "stderr",
     "output_type": "stream",
     "text": [
      " - Val (BP)\t‖\tEpoch 110: 100%|██████████| 196/196 [00:02<00:00, 80.29batch/s, acc=89.54%]\n"
     ]
    },
    {
     "name": "stdout",
     "output_type": "stream",
     "text": [
      "Accuracy (Before Projection): 89.54%\n",
      "Remaining Weights (BP true): 18.82%\n",
      "\n"
     ]
    },
    {
     "name": "stderr",
     "output_type": "stream",
     "text": [
      "Train ‖\tEpoch 111: 100%|██████████| 196/196 [00:03<00:00, 53.46batch/s, loss=0.4212]\n"
     ]
    },
    {
     "name": "stdout",
     "output_type": "stream",
     "text": [
      "Loss=0.4212 | Reg=0.0000\n"
     ]
    },
    {
     "name": "stderr",
     "output_type": "stream",
     "text": [
      " - Val (BP)\t‖\tEpoch 111: 100%|██████████| 196/196 [00:02<00:00, 81.54batch/s, acc=89.96%]\n"
     ]
    },
    {
     "name": "stdout",
     "output_type": "stream",
     "text": [
      "Accuracy (Before Projection): 89.96%\n",
      "Remaining Weights (BP true): 18.82%\n",
      "\n"
     ]
    },
    {
     "name": "stderr",
     "output_type": "stream",
     "text": [
      "Train ‖\tEpoch 112: 100%|██████████| 196/196 [00:03<00:00, 52.96batch/s, loss=0.5968]\n"
     ]
    },
    {
     "name": "stdout",
     "output_type": "stream",
     "text": [
      "Loss=0.5968 | Reg=0.0000\n"
     ]
    },
    {
     "name": "stderr",
     "output_type": "stream",
     "text": [
      " - Val (BP)\t‖\tEpoch 112: 100%|██████████| 196/196 [00:02<00:00, 80.60batch/s, acc=90.77%]\n"
     ]
    },
    {
     "name": "stdout",
     "output_type": "stream",
     "text": [
      "Accuracy (Before Projection): 90.77%\n",
      "Remaining Weights (BP true): 18.82%\n",
      "\n"
     ]
    },
    {
     "name": "stderr",
     "output_type": "stream",
     "text": [
      "Train ‖\tEpoch 113: 100%|██████████| 196/196 [00:03<00:00, 53.80batch/s, loss=0.4220]\n"
     ]
    },
    {
     "name": "stdout",
     "output_type": "stream",
     "text": [
      "Loss=0.4220 | Reg=0.0000\n"
     ]
    },
    {
     "name": "stderr",
     "output_type": "stream",
     "text": [
      " - Val (BP)\t‖\tEpoch 113: 100%|██████████| 196/196 [00:02<00:00, 80.90batch/s, acc=91.41%]\n"
     ]
    },
    {
     "name": "stdout",
     "output_type": "stream",
     "text": [
      "Accuracy (Before Projection): 91.41%\n",
      "Remaining Weights (BP true): 18.82%\n",
      "\n"
     ]
    },
    {
     "name": "stderr",
     "output_type": "stream",
     "text": [
      "Train ‖\tEpoch 114: 100%|██████████| 196/196 [00:03<00:00, 53.10batch/s, loss=0.4746]\n"
     ]
    },
    {
     "name": "stdout",
     "output_type": "stream",
     "text": [
      "Loss=0.4746 | Reg=0.0000\n"
     ]
    },
    {
     "name": "stderr",
     "output_type": "stream",
     "text": [
      " - Val (BP)\t‖\tEpoch 114: 100%|██████████| 196/196 [00:02<00:00, 80.46batch/s, acc=92.13%]\n"
     ]
    },
    {
     "name": "stdout",
     "output_type": "stream",
     "text": [
      "Accuracy (Before Projection): 92.13%\n",
      "Remaining Weights (BP true): 18.82%\n",
      "\n"
     ]
    },
    {
     "name": "stderr",
     "output_type": "stream",
     "text": [
      "Train ‖\tEpoch 115: 100%|██████████| 196/196 [00:03<00:00, 53.27batch/s, loss=0.5751]\n"
     ]
    },
    {
     "name": "stdout",
     "output_type": "stream",
     "text": [
      "Loss=0.5751 | Reg=0.0000\n"
     ]
    },
    {
     "name": "stderr",
     "output_type": "stream",
     "text": [
      " - Val (BP)\t‖\tEpoch 115: 100%|██████████| 196/196 [00:02<00:00, 80.75batch/s, acc=92.64%]\n"
     ]
    },
    {
     "name": "stdout",
     "output_type": "stream",
     "text": [
      "Accuracy (Before Projection): 92.64%\n",
      "Remaining Weights (BP true): 18.82%\n",
      "\n"
     ]
    },
    {
     "name": "stderr",
     "output_type": "stream",
     "text": [
      "Train ‖\tEpoch 116: 100%|██████████| 196/196 [00:03<00:00, 53.95batch/s, loss=0.4695]\n"
     ]
    },
    {
     "name": "stdout",
     "output_type": "stream",
     "text": [
      "Loss=0.4695 | Reg=0.0000\n"
     ]
    },
    {
     "name": "stderr",
     "output_type": "stream",
     "text": [
      " - Val (BP)\t‖\tEpoch 116: 100%|██████████| 196/196 [00:02<00:00, 81.05batch/s, acc=93.08%]\n"
     ]
    },
    {
     "name": "stdout",
     "output_type": "stream",
     "text": [
      "Accuracy (Before Projection): 93.08%\n",
      "Remaining Weights (BP true): 18.82%\n",
      "\n"
     ]
    },
    {
     "name": "stderr",
     "output_type": "stream",
     "text": [
      "Train ‖\tEpoch 117: 100%|██████████| 196/196 [00:03<00:00, 52.63batch/s, loss=0.4848]\n"
     ]
    },
    {
     "name": "stdout",
     "output_type": "stream",
     "text": [
      "Loss=0.4848 | Reg=0.0000\n"
     ]
    },
    {
     "name": "stderr",
     "output_type": "stream",
     "text": [
      " - Val (BP)\t‖\tEpoch 117: 100%|██████████| 196/196 [00:02<00:00, 80.13batch/s, acc=93.03%]\n"
     ]
    },
    {
     "name": "stdout",
     "output_type": "stream",
     "text": [
      "Accuracy (Before Projection): 93.03%\n",
      "Remaining Weights (BP true): 18.82%\n",
      "\n"
     ]
    },
    {
     "name": "stderr",
     "output_type": "stream",
     "text": [
      "Train ‖\tEpoch 118: 100%|██████████| 196/196 [00:03<00:00, 53.54batch/s, loss=0.3709]\n"
     ]
    },
    {
     "name": "stdout",
     "output_type": "stream",
     "text": [
      "Loss=0.3709 | Reg=0.0000\n"
     ]
    },
    {
     "name": "stderr",
     "output_type": "stream",
     "text": [
      " - Val (BP)\t‖\tEpoch 118: 100%|██████████| 196/196 [00:02<00:00, 80.71batch/s, acc=93.41%]\n"
     ]
    },
    {
     "name": "stdout",
     "output_type": "stream",
     "text": [
      "Accuracy (Before Projection): 93.41%\n",
      "Remaining Weights (BP true): 18.82%\n",
      "\n"
     ]
    },
    {
     "name": "stderr",
     "output_type": "stream",
     "text": [
      "Train ‖\tEpoch 119: 100%|██████████| 196/196 [00:03<00:00, 53.14batch/s, loss=0.4149]\n"
     ]
    },
    {
     "name": "stdout",
     "output_type": "stream",
     "text": [
      "Loss=0.4149 | Reg=0.0000\n"
     ]
    },
    {
     "name": "stderr",
     "output_type": "stream",
     "text": [
      " - Val (BP)\t‖\tEpoch 119: 100%|██████████| 196/196 [00:02<00:00, 78.93batch/s, acc=94.03%]\n"
     ]
    },
    {
     "name": "stdout",
     "output_type": "stream",
     "text": [
      "Accuracy (Before Projection): 94.03%\n",
      "Remaining Weights (BP true): 18.82%\n",
      "\n"
     ]
    },
    {
     "name": "stderr",
     "output_type": "stream",
     "text": [
      "Train ‖\tEpoch 120: 100%|██████████| 196/196 [00:03<00:00, 53.19batch/s, loss=0.4928]\n"
     ]
    },
    {
     "name": "stdout",
     "output_type": "stream",
     "text": [
      "Loss=0.4928 | Reg=0.0000\n"
     ]
    },
    {
     "name": "stderr",
     "output_type": "stream",
     "text": [
      " - Val (BP)\t‖\tEpoch 120: 100%|██████████| 196/196 [00:02<00:00, 80.04batch/s, acc=94.53%]\n"
     ]
    },
    {
     "name": "stdout",
     "output_type": "stream",
     "text": [
      "Accuracy (Before Projection): 94.53%\n",
      "Remaining Weights (BP true): 18.82%\n",
      "\n"
     ]
    },
    {
     "name": "stderr",
     "output_type": "stream",
     "text": [
      "Train ‖\tEpoch 121: 100%|██████████| 196/196 [00:03<00:00, 54.00batch/s, loss=0.5466]\n"
     ]
    },
    {
     "name": "stdout",
     "output_type": "stream",
     "text": [
      "Loss=0.5466 | Reg=0.0000\n"
     ]
    },
    {
     "name": "stderr",
     "output_type": "stream",
     "text": [
      " - Val (BP)\t‖\tEpoch 121: 100%|██████████| 196/196 [00:02<00:00, 80.18batch/s, acc=95.11%]\n"
     ]
    },
    {
     "name": "stdout",
     "output_type": "stream",
     "text": [
      "Accuracy (Before Projection): 95.11%\n",
      "Remaining Weights (BP true): 18.82%\n",
      "\n"
     ]
    },
    {
     "name": "stderr",
     "output_type": "stream",
     "text": [
      "Train ‖\tEpoch 122: 100%|██████████| 196/196 [00:03<00:00, 53.55batch/s, loss=0.4557]\n"
     ]
    },
    {
     "name": "stdout",
     "output_type": "stream",
     "text": [
      "Loss=0.4557 | Reg=0.0000\n"
     ]
    },
    {
     "name": "stderr",
     "output_type": "stream",
     "text": [
      " - Val (BP)\t‖\tEpoch 122: 100%|██████████| 196/196 [00:02<00:00, 81.25batch/s, acc=95.42%]\n"
     ]
    },
    {
     "name": "stdout",
     "output_type": "stream",
     "text": [
      "Accuracy (Before Projection): 95.42%\n",
      "Remaining Weights (BP true): 18.82%\n",
      "\n"
     ]
    },
    {
     "name": "stderr",
     "output_type": "stream",
     "text": [
      "Train ‖\tEpoch 123: 100%|██████████| 196/196 [00:03<00:00, 53.56batch/s, loss=0.2198]\n"
     ]
    },
    {
     "name": "stdout",
     "output_type": "stream",
     "text": [
      "Loss=0.2198 | Reg=0.0000\n"
     ]
    },
    {
     "name": "stderr",
     "output_type": "stream",
     "text": [
      " - Val (BP)\t‖\tEpoch 123: 100%|██████████| 196/196 [00:02<00:00, 82.49batch/s, acc=95.48%]\n"
     ]
    },
    {
     "name": "stdout",
     "output_type": "stream",
     "text": [
      "Accuracy (Before Projection): 95.48%\n",
      "Remaining Weights (BP true): 18.82%\n",
      "\n"
     ]
    },
    {
     "name": "stderr",
     "output_type": "stream",
     "text": [
      "Train ‖\tEpoch 124: 100%|██████████| 196/196 [00:03<00:00, 53.65batch/s, loss=0.2617]\n"
     ]
    },
    {
     "name": "stdout",
     "output_type": "stream",
     "text": [
      "Loss=0.2617 | Reg=0.0000\n"
     ]
    },
    {
     "name": "stderr",
     "output_type": "stream",
     "text": [
      " - Val (BP)\t‖\tEpoch 124: 100%|██████████| 196/196 [00:02<00:00, 82.98batch/s, acc=95.43%]\n"
     ]
    },
    {
     "name": "stdout",
     "output_type": "stream",
     "text": [
      "Accuracy (Before Projection): 95.43%\n",
      "Remaining Weights (BP true): 18.82%\n",
      "\n"
     ]
    },
    {
     "name": "stderr",
     "output_type": "stream",
     "text": [
      "Train ‖\tEpoch 125: 100%|██████████| 196/196 [00:03<00:00, 53.32batch/s, loss=0.2077]\n"
     ]
    },
    {
     "name": "stdout",
     "output_type": "stream",
     "text": [
      "Loss=0.2077 | Reg=0.0000\n"
     ]
    },
    {
     "name": "stderr",
     "output_type": "stream",
     "text": [
      " - Val (BP)\t‖\tEpoch 125: 100%|██████████| 196/196 [00:02<00:00, 80.99batch/s, acc=95.77%]\n"
     ]
    },
    {
     "name": "stdout",
     "output_type": "stream",
     "text": [
      "Accuracy (Before Projection): 95.77%\n",
      "Remaining Weights (BP true): 18.82%\n",
      "\n"
     ]
    },
    {
     "name": "stderr",
     "output_type": "stream",
     "text": [
      "Train ‖\tEpoch 126: 100%|██████████| 196/196 [00:03<00:00, 53.46batch/s, loss=0.2745]\n"
     ]
    },
    {
     "name": "stdout",
     "output_type": "stream",
     "text": [
      "Loss=0.2745 | Reg=0.0000\n"
     ]
    },
    {
     "name": "stderr",
     "output_type": "stream",
     "text": [
      " - Val (BP)\t‖\tEpoch 126: 100%|██████████| 196/196 [00:02<00:00, 81.71batch/s, acc=95.91%]\n"
     ]
    },
    {
     "name": "stdout",
     "output_type": "stream",
     "text": [
      "Accuracy (Before Projection): 95.91%\n",
      "Remaining Weights (BP true): 18.82%\n",
      "\n"
     ]
    },
    {
     "name": "stderr",
     "output_type": "stream",
     "text": [
      "Train ‖\tEpoch 127: 100%|██████████| 196/196 [00:03<00:00, 53.77batch/s, loss=0.2552]\n"
     ]
    },
    {
     "name": "stdout",
     "output_type": "stream",
     "text": [
      "Loss=0.2552 | Reg=0.0000\n"
     ]
    },
    {
     "name": "stderr",
     "output_type": "stream",
     "text": [
      " - Val (BP)\t‖\tEpoch 127: 100%|██████████| 196/196 [00:02<00:00, 82.12batch/s, acc=96.25%]\n"
     ]
    },
    {
     "name": "stdout",
     "output_type": "stream",
     "text": [
      "Accuracy (Before Projection): 96.25%\n",
      "Remaining Weights (BP true): 18.82%\n",
      "\n"
     ]
    },
    {
     "name": "stderr",
     "output_type": "stream",
     "text": [
      "Train ‖\tEpoch 128: 100%|██████████| 196/196 [00:03<00:00, 53.47batch/s, loss=0.2133]\n"
     ]
    },
    {
     "name": "stdout",
     "output_type": "stream",
     "text": [
      "Loss=0.2133 | Reg=0.0000\n"
     ]
    },
    {
     "name": "stderr",
     "output_type": "stream",
     "text": [
      " - Val (BP)\t‖\tEpoch 128: 100%|██████████| 196/196 [00:02<00:00, 80.16batch/s, acc=96.31%]\n"
     ]
    },
    {
     "name": "stdout",
     "output_type": "stream",
     "text": [
      "Accuracy (Before Projection): 96.31%\n",
      "Remaining Weights (BP true): 18.82%\n",
      "\n"
     ]
    },
    {
     "name": "stderr",
     "output_type": "stream",
     "text": [
      "Train ‖\tEpoch 129: 100%|██████████| 196/196 [00:03<00:00, 53.81batch/s, loss=0.2521]\n"
     ]
    },
    {
     "name": "stdout",
     "output_type": "stream",
     "text": [
      "Loss=0.2521 | Reg=0.0000\n"
     ]
    },
    {
     "name": "stderr",
     "output_type": "stream",
     "text": [
      " - Val (BP)\t‖\tEpoch 129: 100%|██████████| 196/196 [00:02<00:00, 82.67batch/s, acc=96.48%]"
     ]
    },
    {
     "name": "stdout",
     "output_type": "stream",
     "text": [
      "Accuracy (Before Projection): 96.48%\n",
      "Remaining Weights (BP true): 18.82%\n"
     ]
    },
    {
     "name": "stderr",
     "output_type": "stream",
     "text": [
      "\n"
     ]
    }
   ],
   "source": [
    "from pquant import iterative_train\n",
    "\"\"\"\n",
    "Inputs to train_resnet we defined previously are:\n",
    "          model, trainloader, device, loss_func, epoch, optimizer, scheduler, **kwargs\n",
    "\"\"\"\n",
    "\n",
    "trained_model_paca = iterative_train(model = model_paca, \n",
    "                                config = config, \n",
    "                                train_func = train_resnet, \n",
    "                                valid_func = validate_resnet, \n",
    "                                trainloader = train_loader, \n",
    "                                testloader = val_loader, \n",
    "                                device = device, \n",
    "                                loss_func = loss_function,\n",
    "                                optimizer = optimizer, \n",
    "                                scheduler = scheduler,\n",
    "                                input_shape=input_shape,\n",
    "                                )"
   ]
  },
  {
   "cell_type": "code",
   "execution_count": 22,
   "id": "30cdc72c",
   "metadata": {},
   "outputs": [
    {
     "data": {
      "text/plain": [
       "<All keys matched successfully>"
      ]
     },
     "execution_count": 22,
     "metadata": {},
     "output_type": "execute_result"
    }
   ],
   "source": [
    "from pquant import remove_pruning_from_model\n",
    "\n",
    "model_paca = remove_pruning_from_model(trained_model_paca, config)\n",
    "SAVE_PATH = 'resnet_mdmm_unstr_paca_pruned.pth'\n",
    "SAVE_PATH = os.path.join(SAVE_DIR, SAVE_PATH)\n",
    "torch.save(model_paca.state_dict(), SAVE_PATH)\n",
    "\n",
    "model_paca = torchvision.models.resnet18()\n",
    "model_paca.load_state_dict(torch.load(SAVE_PATH))"
   ]
  },
  {
   "cell_type": "code",
   "execution_count": 23,
   "id": "660bd8c7",
   "metadata": {},
   "outputs": [
    {
     "data": {
      "text/plain": [
       "2"
      ]
     },
     "execution_count": 23,
     "metadata": {},
     "output_type": "execute_result"
    }
   ],
   "source": [
    "1+1"
   ]
  },
  {
   "cell_type": "code",
   "execution_count": 24,
   "id": "4803d015",
   "metadata": {},
   "outputs": [
    {
     "data": {
      "text/plain": [
       "1073741824"
      ]
     },
     "execution_count": 24,
     "metadata": {},
     "output_type": "execute_result"
    }
   ],
   "source": [
    "1<<30"
   ]
  },
  {
   "cell_type": "code",
   "execution_count": null,
   "id": "6d266373",
   "metadata": {},
   "outputs": [],
   "source": []
  }
 ],
 "metadata": {
  "kernelspec": {
   "display_name": "Python [conda env:pquant-gpu-env]",
   "language": "python",
   "name": "conda-env-pquant-gpu-env-py"
  },
  "language_info": {
   "codemirror_mode": {
    "name": "ipython",
    "version": 3
   },
   "file_extension": ".py",
   "mimetype": "text/x-python",
   "name": "python",
   "nbconvert_exporter": "python",
   "pygments_lexer": "ipython3",
   "version": "3.10.18"
  }
 },
 "nbformat": 4,
 "nbformat_minor": 5
}
