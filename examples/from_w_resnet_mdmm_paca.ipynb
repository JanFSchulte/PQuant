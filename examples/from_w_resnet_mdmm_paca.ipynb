{
 "cells": [
  {
   "cell_type": "markdown",
   "id": "5676e100-c255-4871-b167-01a788309112",
   "metadata": {},
   "source": [
    "## In this tutorial we create a CNN and dataloaders, and train / prune the model."
   ]
  },
  {
   "cell_type": "code",
   "execution_count": 58,
   "id": "27197caf-85a2-48b7-af76-a5ff943408ca",
   "metadata": {},
   "outputs": [],
   "source": [
    "import os\n",
    "os.environ[\"KERAS_BACKEND\"] = \"torch\" # Needs to be set, some pruning layers as well as the quantizers are Keras\n",
    "import keras\n",
    "keras.config.set_backend(\"torch\")\n",
    "import torch\n",
    "import torch.nn as nn\n",
    "import torch.nn.functional as F\n",
    "import torchvision\n",
    "keras.backend.set_image_data_format(\"channels_first\")"
   ]
  },
  {
   "cell_type": "code",
   "execution_count": 59,
   "id": "9e520e8e",
   "metadata": {},
   "outputs": [
    {
     "name": "stdout",
     "output_type": "stream",
     "text": [
      "resnet_mdmm_unstr_paca_pruned.pth\n",
      "resnet_mdmm_unstr_pruned.pth\n",
      "resnet_paca_pruned.pth\n",
      "trained_models\n",
      "pquant\n",
      "data\n",
      "smartpixels\n"
     ]
    }
   ],
   "source": [
    "try:\n",
    "    os.chdir(\"/home/das214/PQuant/mdmm_dev/src\")\n",
    "except:\n",
    "    pass\n",
    "\n",
    "for f in os.listdir(os.getcwd()):\n",
    "    print(f)"
   ]
  },
  {
   "cell_type": "code",
   "execution_count": 60,
   "id": "de9bc4ee",
   "metadata": {},
   "outputs": [
    {
     "data": {
      "text/plain": [
       "ResNet(\n",
       "  (conv1): Conv2d(3, 64, kernel_size=(7, 7), stride=(2, 2), padding=(3, 3), bias=False)\n",
       "  (bn1): BatchNorm2d(64, eps=1e-05, momentum=0.1, affine=True, track_running_stats=True)\n",
       "  (relu): ReLU(inplace=True)\n",
       "  (maxpool): MaxPool2d(kernel_size=3, stride=2, padding=1, dilation=1, ceil_mode=False)\n",
       "  (layer1): Sequential(\n",
       "    (0): BasicBlock(\n",
       "      (conv1): Conv2d(64, 64, kernel_size=(3, 3), stride=(1, 1), padding=(1, 1), bias=False)\n",
       "      (bn1): BatchNorm2d(64, eps=1e-05, momentum=0.1, affine=True, track_running_stats=True)\n",
       "      (relu): ReLU(inplace=True)\n",
       "      (conv2): Conv2d(64, 64, kernel_size=(3, 3), stride=(1, 1), padding=(1, 1), bias=False)\n",
       "      (bn2): BatchNorm2d(64, eps=1e-05, momentum=0.1, affine=True, track_running_stats=True)\n",
       "    )\n",
       "    (1): BasicBlock(\n",
       "      (conv1): Conv2d(64, 64, kernel_size=(3, 3), stride=(1, 1), padding=(1, 1), bias=False)\n",
       "      (bn1): BatchNorm2d(64, eps=1e-05, momentum=0.1, affine=True, track_running_stats=True)\n",
       "      (relu): ReLU(inplace=True)\n",
       "      (conv2): Conv2d(64, 64, kernel_size=(3, 3), stride=(1, 1), padding=(1, 1), bias=False)\n",
       "      (bn2): BatchNorm2d(64, eps=1e-05, momentum=0.1, affine=True, track_running_stats=True)\n",
       "    )\n",
       "  )\n",
       "  (layer2): Sequential(\n",
       "    (0): BasicBlock(\n",
       "      (conv1): Conv2d(64, 128, kernel_size=(3, 3), stride=(2, 2), padding=(1, 1), bias=False)\n",
       "      (bn1): BatchNorm2d(128, eps=1e-05, momentum=0.1, affine=True, track_running_stats=True)\n",
       "      (relu): ReLU(inplace=True)\n",
       "      (conv2): Conv2d(128, 128, kernel_size=(3, 3), stride=(1, 1), padding=(1, 1), bias=False)\n",
       "      (bn2): BatchNorm2d(128, eps=1e-05, momentum=0.1, affine=True, track_running_stats=True)\n",
       "      (downsample): Sequential(\n",
       "        (0): Conv2d(64, 128, kernel_size=(1, 1), stride=(2, 2), bias=False)\n",
       "        (1): BatchNorm2d(128, eps=1e-05, momentum=0.1, affine=True, track_running_stats=True)\n",
       "      )\n",
       "    )\n",
       "    (1): BasicBlock(\n",
       "      (conv1): Conv2d(128, 128, kernel_size=(3, 3), stride=(1, 1), padding=(1, 1), bias=False)\n",
       "      (bn1): BatchNorm2d(128, eps=1e-05, momentum=0.1, affine=True, track_running_stats=True)\n",
       "      (relu): ReLU(inplace=True)\n",
       "      (conv2): Conv2d(128, 128, kernel_size=(3, 3), stride=(1, 1), padding=(1, 1), bias=False)\n",
       "      (bn2): BatchNorm2d(128, eps=1e-05, momentum=0.1, affine=True, track_running_stats=True)\n",
       "    )\n",
       "  )\n",
       "  (layer3): Sequential(\n",
       "    (0): BasicBlock(\n",
       "      (conv1): Conv2d(128, 256, kernel_size=(3, 3), stride=(2, 2), padding=(1, 1), bias=False)\n",
       "      (bn1): BatchNorm2d(256, eps=1e-05, momentum=0.1, affine=True, track_running_stats=True)\n",
       "      (relu): ReLU(inplace=True)\n",
       "      (conv2): Conv2d(256, 256, kernel_size=(3, 3), stride=(1, 1), padding=(1, 1), bias=False)\n",
       "      (bn2): BatchNorm2d(256, eps=1e-05, momentum=0.1, affine=True, track_running_stats=True)\n",
       "      (downsample): Sequential(\n",
       "        (0): Conv2d(128, 256, kernel_size=(1, 1), stride=(2, 2), bias=False)\n",
       "        (1): BatchNorm2d(256, eps=1e-05, momentum=0.1, affine=True, track_running_stats=True)\n",
       "      )\n",
       "    )\n",
       "    (1): BasicBlock(\n",
       "      (conv1): Conv2d(256, 256, kernel_size=(3, 3), stride=(1, 1), padding=(1, 1), bias=False)\n",
       "      (bn1): BatchNorm2d(256, eps=1e-05, momentum=0.1, affine=True, track_running_stats=True)\n",
       "      (relu): ReLU(inplace=True)\n",
       "      (conv2): Conv2d(256, 256, kernel_size=(3, 3), stride=(1, 1), padding=(1, 1), bias=False)\n",
       "      (bn2): BatchNorm2d(256, eps=1e-05, momentum=0.1, affine=True, track_running_stats=True)\n",
       "    )\n",
       "  )\n",
       "  (layer4): Sequential(\n",
       "    (0): BasicBlock(\n",
       "      (conv1): Conv2d(256, 512, kernel_size=(3, 3), stride=(2, 2), padding=(1, 1), bias=False)\n",
       "      (bn1): BatchNorm2d(512, eps=1e-05, momentum=0.1, affine=True, track_running_stats=True)\n",
       "      (relu): ReLU(inplace=True)\n",
       "      (conv2): Conv2d(512, 512, kernel_size=(3, 3), stride=(1, 1), padding=(1, 1), bias=False)\n",
       "      (bn2): BatchNorm2d(512, eps=1e-05, momentum=0.1, affine=True, track_running_stats=True)\n",
       "      (downsample): Sequential(\n",
       "        (0): Conv2d(256, 512, kernel_size=(1, 1), stride=(2, 2), bias=False)\n",
       "        (1): BatchNorm2d(512, eps=1e-05, momentum=0.1, affine=True, track_running_stats=True)\n",
       "      )\n",
       "    )\n",
       "    (1): BasicBlock(\n",
       "      (conv1): Conv2d(512, 512, kernel_size=(3, 3), stride=(1, 1), padding=(1, 1), bias=False)\n",
       "      (bn1): BatchNorm2d(512, eps=1e-05, momentum=0.1, affine=True, track_running_stats=True)\n",
       "      (relu): ReLU(inplace=True)\n",
       "      (conv2): Conv2d(512, 512, kernel_size=(3, 3), stride=(1, 1), padding=(1, 1), bias=False)\n",
       "      (bn2): BatchNorm2d(512, eps=1e-05, momentum=0.1, affine=True, track_running_stats=True)\n",
       "    )\n",
       "  )\n",
       "  (avgpool): AdaptiveAvgPool2d(output_size=(1, 1))\n",
       "  (fc): Linear(in_features=512, out_features=1000, bias=True)\n",
       ")"
      ]
     },
     "execution_count": 60,
     "metadata": {},
     "output_type": "execute_result"
    }
   ],
   "source": [
    "SAVE_PATH = 'resnet_mdmm_unstr_pruned.pth'\n",
    "# torch.save(model_copy.state_dict(), SAVE_PATH)\n",
    "\n",
    "model = torchvision.models.resnet18()\n",
    "model.load_state_dict(torch.load(SAVE_PATH))\n",
    "model"
   ]
  },
  {
   "cell_type": "code",
   "execution_count": 61,
   "id": "1b8dc93a",
   "metadata": {},
   "outputs": [
    {
     "name": "stderr",
     "output_type": "stream",
     "text": [
      "/tmp/ipykernel_505000/842026278.py:26: UserWarning: set_ticklabels() should only be used with a fixed number of ticks, i.e. after set_ticks() or using a FixedLocator.\n",
      "  ax[0].set_yticklabels(new_ytick)\n"
     ]
    },
    {
     "data": {
      "image/png": "[encoded data removed]",
      "text/plain": [
       "<Figure size 1000x500 with 2 Axes>"
      ]
     },
     "metadata": {},
     "output_type": "display_data"
    }
   ],
   "source": [
    "# Plot remaining weights\n",
    "import numpy as np\n",
    "import matplotlib.pyplot as plt\n",
    "\n",
    "names = []\n",
    "remaining = []\n",
    "total_w = []\n",
    "nonzeros = []\n",
    "for n, m in model.named_modules():\n",
    "    if isinstance(m, (torch.nn.Conv1d, torch.nn.Conv2d, torch.nn.Linear)):\n",
    "        names.append(n)\n",
    "        nonzero = np.count_nonzero(m.weight.detach().cpu())\n",
    "        remaining_pct = nonzero / m.weight.numel()\n",
    "        remaining.append(remaining_pct)\n",
    "        total_w.append(m.weight.numel())\n",
    "        nonzeros.append(nonzero)\n",
    "fig, ax = plt.subplots(1, 2, figsize=(10, 5))\n",
    "ax[0].bar(range(len(names)), remaining)\n",
    "ax[0].set_xticks(range(len(names)))\n",
    "ax[0].set_xticklabels(names)\n",
    "ax[0].tick_params(axis='x', labelrotation=270)\n",
    "new_ytick = []\n",
    "for i in ax[0].get_yticklabels():\n",
    "    ytick = f\"{float(i.get_text()) * 100:.2f}%\"\n",
    "    new_ytick.append(ytick)\n",
    "ax[0].set_yticklabels(new_ytick)\n",
    "ax[0].title.set_text(\"Remaining weights per layer\")\n",
    "\n",
    "ax[1].bar(range(len(nonzeros)), total_w, color=\"lightcoral\", label=\"total weights\")\n",
    "ax[1].bar(range(len(nonzeros)), nonzeros, color=\"steelblue\", label=\"nonzero weights\")\n",
    "ax[1].set_xticks(range(len(names)))\n",
    "ax[1].set_xticklabels(names)\n",
    "ax[1].tick_params(axis='x', labelrotation=270)\n",
    "ax[1].title.set_text(\"Weights per layer\")\n",
    "ax[1].legend()\n",
    "ax[1].set_yscale(\"log\")\n",
    "\n",
    "plt.tight_layout()\n",
    "plt.show()"
   ]
  },
  {
   "cell_type": "code",
   "execution_count": 62,
   "id": "4df89ba9",
   "metadata": {},
   "outputs": [],
   "source": [
    "import numpy as np\n",
    "import matplotlib.pyplot as plt\n",
    "from keras import ops\n",
    "\n",
    "\n",
    "def plot_pattern_distributions(counts, dominant_patterns, layer_name = \"conv1\", log_scale1 = False, log_scale2 = False):\n",
    "    counts_np  = ops.convert_to_numpy(counts)                # (U,)\n",
    "    order      = np.argsort(-counts_np)                      # descending freq\n",
    "    sorted_cnt = counts_np[order]\n",
    "\n",
    "    n_keep     = dominant_patterns.shape[0]                  # M  <= alpha\n",
    "\n",
    "    fig1, ax1 = plt.subplots(figsize=(8, 5))\n",
    "    ax1.bar(np.arange(sorted_cnt.size), sorted_cnt, linewidth=0)\n",
    "    if log_scale1: ax1.set_yscale(\"log\")\n",
    "    ax1.set_xlabel(\"Pattern rank (frequency ↓)\")\n",
    "    ax1.set_ylabel(\"Count\")\n",
    "    ax1.set_title(f\"Pattern distribution – {layer_name}\")\n",
    "    ax1.grid(axis=\"y\", linestyle=\"--\", alpha=0.6)\n",
    "    ax1.axvline(n_keep - 0.5, color=\"red\", linestyle=\"--\",\n",
    "                label=f\"kept = {n_keep}\")\n",
    "    ax1.legend()\n",
    "    fig1.tight_layout()\n",
    "\n",
    "    dominant_cnt = sorted_cnt[:n_keep]\n",
    "\n",
    "    fig2, ax2 = plt.subplots(figsize=(6, 4))\n",
    "    ax2.bar(np.arange(n_keep), dominant_cnt, color=\"tab:orange\", linewidth=0)\n",
    "    if log_scale2: ax2.set_yscale(\"log\")\n",
    "    ax2.set_xlabel(\"Dominant pattern index (0‥M‑1)\")\n",
    "    ax2.set_ylabel(\"Count\")\n",
    "    ax2.set_title(f\"Dominant patterns – {layer_name}\")\n",
    "    ax2.grid(axis=\"y\", linestyle=\"--\", alpha=0.6)\n",
    "    fig2.tight_layout()\n",
    "\n",
    "    plt.show()\n"
   ]
  },
  {
   "cell_type": "code",
   "execution_count": 63,
   "id": "e9dec7da",
   "metadata": {},
   "outputs": [],
   "source": [
    "import math\n",
    "\n",
    "def plot_dominant_patterns(layer_name, dominant_patterns, dominant_counts, kH, kW, max_patterns_to_show=16):\n",
    "    import math\n",
    "    pats = ops.convert_to_numpy(dominant_patterns)\n",
    "    cnts = ops.convert_to_numpy(dominant_counts)\n",
    "    num_to_show = min(pats.shape[0], max_patterns_to_show)\n",
    "\n",
    "    cols = math.ceil(math.sqrt(num_to_show))\n",
    "    rows = math.ceil(num_to_show / cols)\n",
    "\n",
    "    fig, axes = plt.subplots(rows, cols, figsize=(cols * 2, rows * 2.2))\n",
    "    axes = np.array(axes).flatten()\n",
    "    fig.suptitle(f\"Dominant Patterns for Layer: {layer_name}\", fontsize=16)\n",
    "\n",
    "    for i in range(num_to_show):\n",
    "        pattern_2d = pats[i].reshape(kH, kW)\n",
    "        axes[i].imshow(pattern_2d, cmap='binary', vmin=0, vmax=1, interpolation='nearest')\n",
    "        axes[i].set_title(f\"#{i+1} (Count: {int(cnts[i])})\")\n",
    "        axes[i].set_xticks([]); axes[i].set_yticks([])\n",
    "\n",
    "    for j in range(num_to_show, len(axes)):\n",
    "        axes[j].axis('off')\n",
    "\n",
    "    plt.tight_layout(rect=[0, 0, 1, 0.95])\n",
    "    plt.show()\n"
   ]
  },
  {
   "cell_type": "code",
   "execution_count": 64,
   "id": "713e8ece",
   "metadata": {},
   "outputs": [],
   "source": [
    "from pquant.pruning_methods.utils import patterns"
   ]
  },
  {
   "cell_type": "code",
   "execution_count": 65,
   "id": "21b5a05b",
   "metadata": {},
   "outputs": [],
   "source": [
    "import torchvision.transforms as transforms\n",
    "from tqdm import tqdm\n",
    "\n",
    "def get_cifar10_data(batch_size):\n",
    "    normalize = transforms.Normalize(mean=[0.5, 0.5, 0.5], std=[0.5, 0.5, 0.5])\n",
    "    train_transform = transforms.Compose([transforms.RandomHorizontalFlip(), transforms.RandomCrop(32, padding=4), \n",
    "                                          transforms.ToTensor(), normalize])\n",
    "    test_transform = transforms.Compose([transforms.ToTensor(), normalize])  \n",
    "    trainset = torchvision.datasets.CIFAR10(root='./data', train=True,\n",
    "                                        download=True, transform=train_transform)\n",
    "    valset = torchvision.datasets.CIFAR10(root='./data', train=True,\n",
    "                                       download=True, transform=test_transform)\n",
    "    train_loader = torch.utils.data.DataLoader(trainset, batch_size=batch_size,\n",
    "                                          shuffle=True, num_workers=4, pin_memory=True)\n",
    "\n",
    "    val_loader = torch.utils.data.DataLoader(valset, batch_size=batch_size,\n",
    "                                         shuffle=False, num_workers=4, pin_memory=True)\n",
    "\n",
    "    return train_loader, val_loader\n",
    "\n",
    "def evaluate_model(model, testloader, device):\n",
    "    \"\"\"\n",
    "    Evaluates the model's accuracy on the provided data loader.\n",
    "    \"\"\"\n",
    "    model.eval()\n",
    "    correct = 0\n",
    "    total = 0\n",
    "    with torch.no_grad():\n",
    "        with tqdm(testloader, desc=\"Evaluating Model\", unit=\"batch\", dynamic_ncols=True) as pbar:\n",
    "            for inputs, labels in pbar:\n",
    "                inputs, labels = inputs.to(device, non_blocking=True), labels.to(device, non_blocking=True)\n",
    "                outputs = model(inputs)\n",
    "                _, predicted = outputs.max(1)\n",
    "                total += labels.size(0)\n",
    "                correct += predicted.eq(labels).sum().item()\n",
    "                running_acc = 100. * correct / total\n",
    "                pbar.set_postfix(acc=f\"{running_acc:.2f}%\")\n",
    "    \n",
    "    final_accuracy = 100. * correct / total\n",
    "    print(f\"Final Accuracy: {final_accuracy:.2f}%\")\n",
    "    return final_accuracy"
   ]
  },
  {
   "cell_type": "code",
   "execution_count": 111,
   "id": "72bf40c7",
   "metadata": {},
   "outputs": [],
   "source": [
    "BATCH_SIZE = 256\n",
    "train_loader, val_loader = get_cifar10_data(BATCH_SIZE)\n",
    "device = \"cuda\" if torch.cuda.is_available() else \"cpu\"\n"
   ]
  },
  {
   "cell_type": "code",
   "execution_count": 112,
   "id": "31792713",
   "metadata": {},
   "outputs": [
    {
     "name": "stdout",
     "output_type": "stream",
     "text": [
      "/depot/cms/users/das214/PQuant/trained_models/resnet/mdmm/18fe8243/unstr_paca/\n",
      "BP_e4_a84.71_r0.46.pt  -->  84.71\n",
      "BP_clean_e4_a84.71_r0.46.pth  -->  84.71\n",
      "BP_e2_a83.20_r0.46.pt  -->  83.2\n",
      "BP_clean_e2_a83.20_r0.46.pth  -->  83.2\n",
      "BP_clean_e3_a83.02_r0.46.pth  -->  83.02\n",
      "BP_e3_a83.02_r0.46.pt  -->  83.02\n",
      "BP_e1_a80.67_r0.46.pt  -->  80.67\n",
      "BP_clean_e1_a80.67_r0.46.pth  -->  80.67\n",
      "BP_clean_e0_a78.44_r0.46.pth  -->  78.44\n",
      "BP_e0_a78.44_r0.46.pt  -->  78.44\n",
      "BP_clean_e6_a70.75_r0.19.pth  -->  70.75\n",
      "BP_e6_a70.75_r0.19.pt  -->  70.75\n",
      "BP_e5_a65.73_r0.19.pt  -->  65.73\n",
      "BP_clean_e5_a65.73_r0.19.pth  -->  65.73\n",
      "\n",
      "AP_clean_e4_a84.71_r0.46.pth  -->  84.71\n",
      "AP_e4_a84.71_r0.46.pt  -->  84.71\n",
      "AP_e2_a83.20_r0.46.pt  -->  83.2\n",
      "AP_clean_e2_a83.20_r0.46.pth  -->  83.2\n",
      "AP_e3_a83.02_r0.46.pt  -->  83.02\n",
      "AP_clean_e3_a83.02_r0.46.pth  -->  83.02\n",
      "AP_clean_e1_a80.67_r0.46.pth  -->  80.67\n",
      "AP_e1_a80.67_r0.46.pt  -->  80.67\n",
      "AP_clean_e0_a78.44_r0.46.pth  -->  78.44\n",
      "AP_e0_a78.44_r0.46.pt  -->  78.44\n",
      "AP_e6_a70.75_r0.19.pt  -->  70.75\n",
      "AP_clean_e5_a65.73_r0.19.pth  -->  65.73\n",
      "AP_e5_a65.73_r0.19.pt  -->  65.73\n"
     ]
    }
   ],
   "source": [
    "from keras import ops\n",
    "import glob\n",
    "import re\n",
    "\n",
    "fingerprint = \"18fe8243\"\n",
    "SAVE_DIR = f'/depot/cms/users/das214/PQuant/trained_models/resnet/mdmm/{fingerprint}/unstr_paca/'\n",
    "print(SAVE_DIR)\n",
    "files = os.listdir(SAVE_DIR)\n",
    "\n",
    "# Extract accuracy as float from filename and sort descending\n",
    "files_sorted = sorted(\n",
    "    files,\n",
    "    key=lambda x: float(re.search(r\"_a([0-9]+\\.[0-9]+)\", x).group(1)),\n",
    "    reverse=True\n",
    ")\n",
    "\n",
    "for f in files_sorted:\n",
    "    acc = float(re.search(r\"_a([0-9]+\\.[0-9]+)\", f).group(1))\n",
    "    if \"BP\" in f: print(f\"{f}  -->  {acc}\")\n",
    "    \n",
    "print()\n",
    "\n",
    "for f in files_sorted:\n",
    "    acc = float(re.search(r\"_a([0-9]+\\.[0-9]+)\", f).group(1))\n",
    "    if \"AP\" in f: print(f\"{f}  -->  {acc}\")"
   ]
  },
  {
   "cell_type": "code",
   "execution_count": 113,
   "id": "f084adc1",
   "metadata": {},
   "outputs": [],
   "source": [
    "def plot_pattern_distributions(unique_counts, dominant_counts,\n",
    "                               layer_name=\"conv1\",\n",
    "                               log_scale1=False, log_scale2=False):\n",
    "    \"\"\"\n",
    "    unique_counts: counts from _get_unique_patterns_with_counts (shape [U])\n",
    "    dominant_counts: counts aligned to dominant_patterns (shape [M])\n",
    "    \"\"\"\n",
    "    # Sort unique counts (desc) with keras.ops, convert once for plotting\n",
    "    counts_f32 = ops.cast(unique_counts, \"float32\")\n",
    "    order = ops.argsort(-counts_f32)               # [U]\n",
    "    sorted_cnt = ops.take(counts_f32, order, axis=0)\n",
    "\n",
    "    sorted_cnt_np = ops.convert_to_numpy(sorted_cnt)\n",
    "    M = int(ops.convert_to_numpy(ops.shape(dominant_counts)[0]))\n",
    "    dom_cnt_np = ops.convert_to_numpy(ops.cast(dominant_counts, \"float32\"))\n",
    "\n",
    "    # --- Plot full distribution over unique patterns ---\n",
    "    fig1, ax1 = plt.subplots(figsize=(8, 5))\n",
    "    ax1.bar(np.arange(sorted_cnt_np.size), sorted_cnt_np, linewidth=0)\n",
    "    if log_scale1: ax1.set_yscale(\"log\")\n",
    "    ax1.set_xlabel(\"Pattern rank (frequency ↓)\")\n",
    "    ax1.set_ylabel(\"Count\")\n",
    "    ax1.set_title(f\"Pattern distribution - {layer_name}\")\n",
    "    ax1.grid(axis=\"y\", linestyle=\"--\", alpha=0.6)\n",
    "    ax1.axvline(M - 0.5, color=\"red\", linestyle=\"--\", label=f\"kept = {M}\")\n",
    "    ax1.legend()\n",
    "    fig1.tight_layout()\n",
    "\n",
    "    # --- Plot only the kept (dominant) patterns ---\n",
    "    fig2, ax2 = plt.subplots(figsize=(6, 4))\n",
    "    ax2.bar(np.arange(M), dom_cnt_np, linewidth=0)\n",
    "    if log_scale2: ax2.set_yscale(\"log\")\n",
    "    ax2.set_xlabel(\"Dominant pattern index (0‥M-1)\")\n",
    "    ax2.set_ylabel(\"Count\")\n",
    "    ax2.set_title(f\"Dominant patterns - {layer_name}\")\n",
    "    ax2.grid(axis=\"y\", linestyle=\"--\", alpha=0.6)\n",
    "    fig2.tight_layout()\n",
    "\n",
    "    plt.show()\n",
    "\n"
   ]
  },
  {
   "cell_type": "code",
   "execution_count": 114,
   "id": "7615e946",
   "metadata": {},
   "outputs": [
    {
     "name": "stdout",
     "output_type": "stream",
     "text": [
      "[False  True  True  True]\n",
      "False\n"
     ]
    }
   ],
   "source": [
    "def dominant_or(a, b):\n",
    "    a = ops.cast(ops.not_equal(a, 0), \"bool\")\n",
    "    b = ops.cast(ops.not_equal(b, 0), \"bool\")\n",
    "    out = ops.logical_or(a, ops.logical_not(b))\n",
    "    return out\n",
    "\n",
    "def pat_in_dom(patterns, dominant_patterns):\n",
    "    p = ops.cast(ops.not_equal(patterns, 0), \"bool\")\n",
    "    d = ops.cast(ops.not_equal(dominant_patterns, 0), \"bool\")\n",
    "    ok_bits = dominant_or(ops.expand_dims(d, 0), ops.expand_dims(p, 1))  # [N,M,K]\n",
    "    return ops.all(ok_bits, axis=-1)\n",
    "\n",
    "def pat_in_any_dom(patterns, dominant_patterns):\n",
    "    fits = pat_in_dom(patterns, dominant_patterns)  # [N,M]\n",
    "    return ops.any(fits, axis=1)\n",
    "\n",
    "def all_pat_in_any_dom(patterns, dominant_patterns):\n",
    "    covered = pat_in_any_dom(patterns, dominant_patterns)  # [N]\n",
    "    return ops.all(covered, axis=0)\n",
    "\n",
    "a = np.array([  # dominants (M=4)\n",
    "    [0,0,1,1,1,0,0,0,0],\n",
    "    [0,0,0,0,0,0,0,0,0],\n",
    "    [1,1,0,0,0,0,0,0,0],\n",
    "    [0,1,0,0,0,0,0,0,0],\n",
    "], dtype=np.float32)\n",
    "\n",
    "b = np.array([  # patterns (N=3)\n",
    "    [1,1,1,1,1,1,1,1,1],  # not subset of any\n",
    "    [0,0,1,1,1,0,0,0,0],  # matches a[0]\n",
    "    [0,0,0,0,0,0,0,0,0],  # matches all\n",
    "    [0,0,0,1,0,0,0,0,0],\n",
    "], dtype=np.float32)\n",
    "\n",
    "fits_any = pat_in_any_dom(b, a)         # [True/False per pattern]\n",
    "print(ops.convert_to_numpy(fits_any))   \n",
    "\n",
    "fits_all = all_pat_in_any_dom(b, a)     # [True/False]\n",
    "print(ops.convert_to_numpy(fits_all))\n"
   ]
  },
  {
   "cell_type": "code",
   "execution_count": 115,
   "id": "28e56b5e",
   "metadata": {},
   "outputs": [
    {
     "name": "stdout",
     "output_type": "stream",
     "text": [
      "Loading: /depot/cms/users/das214/PQuant/trained_models/resnet/mdmm/18fe8243/unstr_paca/BP_clean_e1_a80.67_r0.46.pth\n",
      "True\n",
      "True\n",
      "True\n",
      "True\n",
      "True\n",
      "True\n",
      "True\n",
      "True\n",
      "True\n",
      "True\n",
      "True\n",
      "True\n",
      "True\n",
      "True\n",
      "True\n",
      "False\n",
      "False\n",
      "True\n",
      "False\n",
      "False\n"
     ]
    }
   ],
   "source": [
    "\n",
    "pattern = \"BP_clean_e1_*\"  \n",
    "\n",
    "matches = glob.glob(os.path.join(SAVE_DIR, pattern))\n",
    "if not matches:\n",
    "    raise FileNotFoundError(f\"No files matching {pattern} in {SAVE_DIR}\")\n",
    "if len(matches) > 1:\n",
    "    print(f\"Multiple matches found: {matches}\")\n",
    "    \n",
    "SAVE_PATH = matches[0]\n",
    "print(\"Loading:\", SAVE_PATH)\n",
    "\n",
    "model_paca = torchvision.models.resnet18()\n",
    "state_dict = torch.load(SAVE_PATH)\n",
    "model_paca.load_state_dict(state_dict)\n",
    "model_paca = model_paca.to(device)\n",
    "\n",
    "\n",
    "for name, module in model_paca.named_modules():\n",
    "    if not isinstance(module, torch.nn.Conv2d):\n",
    "        continue\n",
    "    \n",
    "    kernels, all_patterns, (C_out, C_in, kH, kW) =patterns._get_kernels_and_patterns(module.weight)\n",
    "    unique_patterns, counts = patterns._get_unique_patterns_with_counts(all_patterns)\n",
    "    dominant_patterns = patterns._select_dominant_patterns(all_patterns, unique_patterns, counts, alpha = 16, beta = 0.99, dtype=module.weight.dtype)\n",
    "    dominant_counts = patterns.count_dominant_patterns(dominant_patterns, unique_patterns, counts)\n",
    "\n",
    "    apm = all_pat_in_any_dom(unique_patterns, dominant_patterns)\n",
    "    print(bool(ops.convert_to_numpy(apm)))"
   ]
  },
  {
   "cell_type": "code",
   "execution_count": 116,
   "id": "6527036c",
   "metadata": {},
   "outputs": [
    {
     "ename": "FileNotFoundError",
     "evalue": "No files matching AP_e7_* in /depot/cms/users/das214/PQuant/trained_models/resnet/mdmm/18fe8243/unstr_paca/",
     "output_type": "error",
     "traceback": [
      "\u001b[0;31m---------------------------------------------------------------------------\u001b[0m",
      "\u001b[0;31mFileNotFoundError\u001b[0m                         Traceback (most recent call last)",
      "Cell \u001b[0;32mIn[116], line 5\u001b[0m\n\u001b[1;32m      3\u001b[0m matches \u001b[38;5;241m=\u001b[39m glob\u001b[38;5;241m.\u001b[39mglob(os\u001b[38;5;241m.\u001b[39mpath\u001b[38;5;241m.\u001b[39mjoin(SAVE_DIR, pattern))\n\u001b[1;32m      4\u001b[0m \u001b[38;5;28;01mif\u001b[39;00m \u001b[38;5;129;01mnot\u001b[39;00m matches:\n\u001b[0;32m----> 5\u001b[0m     \u001b[38;5;28;01mraise\u001b[39;00m \u001b[38;5;167;01mFileNotFoundError\u001b[39;00m(\u001b[38;5;124mf\u001b[39m\u001b[38;5;124m\"\u001b[39m\u001b[38;5;124mNo files matching \u001b[39m\u001b[38;5;132;01m{\u001b[39;00mpattern\u001b[38;5;132;01m}\u001b[39;00m\u001b[38;5;124m in \u001b[39m\u001b[38;5;132;01m{\u001b[39;00mSAVE_DIR\u001b[38;5;132;01m}\u001b[39;00m\u001b[38;5;124m\"\u001b[39m)\n\u001b[1;32m      6\u001b[0m \u001b[38;5;28;01mif\u001b[39;00m \u001b[38;5;28mlen\u001b[39m(matches) \u001b[38;5;241m>\u001b[39m \u001b[38;5;241m1\u001b[39m:\n\u001b[1;32m      7\u001b[0m     \u001b[38;5;28mprint\u001b[39m(\u001b[38;5;124mf\u001b[39m\u001b[38;5;124m\"\u001b[39m\u001b[38;5;124mMultiple matches found: \u001b[39m\u001b[38;5;132;01m{\u001b[39;00mmatches\u001b[38;5;132;01m}\u001b[39;00m\u001b[38;5;124m\"\u001b[39m)\n",
      "\u001b[0;31mFileNotFoundError\u001b[0m: No files matching AP_e7_* in /depot/cms/users/das214/PQuant/trained_models/resnet/mdmm/18fe8243/unstr_paca/"
     ]
    }
   ],
   "source": [
    "\n",
    "pattern = \"AP_e7_*\"  \n",
    "\n",
    "matches = glob.glob(os.path.join(SAVE_DIR, pattern))\n",
    "if not matches:\n",
    "    raise FileNotFoundError(f\"No files matching {pattern} in {SAVE_DIR}\")\n",
    "if len(matches) > 1:\n",
    "    print(f\"Multiple matches found: {matches}\")\n",
    "    \n",
    "SAVE_PATH = matches[0]\n",
    "print(\"Loading:\", SAVE_PATH)\n",
    "\n",
    "model_paca = torchvision.models.resnet18()\n",
    "state_dict = torch.load(SAVE_PATH)\n",
    "model_paca.load_state_dict(state_dict)\n",
    "model_paca = model_paca.to(device)\n",
    "\n",
    "\n",
    "for name, module in model_paca.named_modules():\n",
    "    if not isinstance(module, torch.nn.Conv2d):\n",
    "        continue\n",
    "    \n",
    "    kernels, all_patterns, (C_out, C_in, kH, kW) =patterns._get_kernels_and_patterns(module.weight)\n",
    "    unique_patterns, counts = patterns._get_unique_patterns_with_counts(all_patterns)\n",
    "    dominant_patterns = patterns._select_dominant_patterns(all_patterns, unique_patterns, counts, alpha = 16, beta = 0.99, dtype=module.weight.dtype)\n",
    "    dominant_counts = patterns.count_dominant_patterns(dominant_patterns, unique_patterns, counts)\n",
    "\n",
    "    apm = all_pat_in_any_dom(unique_patterns, dominant_patterns)\n",
    "    print(bool(ops.convert_to_numpy(apm)))"
   ]
  },
  {
   "cell_type": "code",
   "execution_count": null,
   "id": "1195e7fb",
   "metadata": {},
   "outputs": [
    {
     "name": "stdout",
     "output_type": "stream",
     "text": [
      "Loading: trained_models/resnet/mdmm/18fe8243/unstr_paca/BP_clean_e6_a71.72_r0.19.pth\n"
     ]
    }
   ],
   "source": [
    "\n",
    "pattern = \"BP_clean_e6_*\"  \n",
    "\n",
    "matches = glob.glob(os.path.join(SAVE_DIR, pattern))\n",
    "if not matches:\n",
    "    raise FileNotFoundError(f\"No files matching {pattern} in {SAVE_DIR}\")\n",
    "if len(matches) > 1:\n",
    "    print(f\"Multiple matches found: {matches}\")\n",
    "    \n",
    "SAVE_PATH = matches[0]\n",
    "print(\"Loading:\", SAVE_PATH)\n",
    "\n",
    "model_paca = torchvision.models.resnet18()\n",
    "state_dict = torch.load(SAVE_PATH)\n",
    "model_paca.load_state_dict(state_dict)\n",
    "model_paca = model_paca.to(device)\n"
   ]
  },
  {
   "cell_type": "code",
   "execution_count": null,
   "id": "c7adbe97",
   "metadata": {},
   "outputs": [
    {
     "name": "stdout",
     "output_type": "stream",
     "text": [
      "True\n",
      "True\n",
      "True\n",
      "True\n",
      "True\n",
      "True\n",
      "True\n",
      "True\n",
      "True\n",
      "True\n",
      "True\n",
      "True\n",
      "True\n",
      "True\n",
      "True\n",
      "False\n",
      "False\n",
      "True\n",
      "False\n",
      "False\n"
     ]
    }
   ],
   "source": [
    "for name, module in model_paca.named_modules():\n",
    "    if not isinstance(module, torch.nn.Conv2d):\n",
    "        continue\n",
    "    \n",
    "    kernels, all_patterns, (C_out, C_in, kH, kW) =patterns._get_kernels_and_patterns(module.weight)\n",
    "    unique_patterns, counts = patterns._get_unique_patterns_with_counts(all_patterns)\n",
    "    dominant_patterns = patterns._select_dominant_patterns(all_patterns, unique_patterns, counts, alpha = 16, beta = 0.99, dtype=module.weight.dtype)\n",
    "    dominant_counts = patterns.count_dominant_patterns(dominant_patterns, unique_patterns, counts)\n",
    "\n",
    "    apm = all_pat_in_any_dom(unique_patterns, dominant_patterns)\n",
    "    print(bool(ops.convert_to_numpy(apm)))\n",
    "    # print(name, len(dominant_patterns))\n",
    "    # print(dominant_patterns.shape)\n",
    "    # print()\n",
    "    # plot_pattern_distributions(counts, dominant_counts, layer_name=name,\n",
    "    #                            log_scale1=False, log_scale2=True)\n",
    "    # try: plot_dominant_patterns(name, dominant_patterns, dominant_counts, \n",
    "    #                             kH, kW, max_patterns_to_show=16)\n",
    "    # except: pass\n",
    "    \n",
    "    # break"
   ]
  },
  {
   "cell_type": "code",
   "execution_count": null,
   "id": "f800076f",
   "metadata": {},
   "outputs": [
    {
     "name": "stdout",
     "output_type": "stream",
     "text": [
      "Mean Distances (BP): 0.00\n",
      "Mean Distances (BP): 0.00\n",
      "Mean Distances (BP): 0.00\n",
      "Mean Distances (BP): 0.00\n",
      "Mean Distances (BP): 0.00\n",
      "Mean Distances (BP): 0.00\n",
      "Mean Distances (BP): 0.00\n",
      "Mean Distances (BP): 0.00\n",
      "Mean Distances (BP): 0.00\n",
      "Mean Distances (BP): 0.00\n",
      "Mean Distances (BP): 0.00\n",
      "Mean Distances (BP): 0.00\n",
      "Mean Distances (BP): 0.00\n",
      "Mean Distances (BP): 0.00\n",
      "Mean Distances (BP): 0.00\n",
      "Mean Distances (BP): 0.00\n",
      "Mean Distances (BP): 0.00\n",
      "Mean Distances (BP): 0.00\n",
      "Mean Distances (BP): 0.00\n",
      "Mean Distances (BP): 0.00\n"
     ]
    }
   ],
   "source": [
    "distance_metric = 'valued_hamming'\n",
    "for name, module in model_paca.named_modules():\n",
    "    if not isinstance(module, torch.nn.Conv2d):\n",
    "        continue\n",
    "    \n",
    "    weight = module.weight\n",
    "    kernels, all_patterns, (C_out, C_in, kH, kW) =patterns._get_kernels_and_patterns(module.weight)\n",
    "    unique_patterns, counts = patterns._get_unique_patterns_with_counts(all_patterns)\n",
    "    dominant_patterns = patterns._select_dominant_patterns(all_patterns, unique_patterns, \n",
    "                                                           counts, alpha = 16, beta = 0.85, \n",
    "                                                           dtype=module.weight.dtype)\n",
    "\n",
    "    _, distances = patterns._pattern_distances(weight, dominant_patterns, distance_metric = distance_metric) # Shape: (C_out*C_in, num_dominant)\n",
    "    print(f\"Mean Distances (BP): {ops.mean(ops.min(distances, axis=1)).item():0.2f}\")\n"
   ]
  },
  {
   "cell_type": "code",
   "execution_count": 117,
   "id": "9b5d3304",
   "metadata": {},
   "outputs": [
    {
     "name": "stderr",
     "output_type": "stream",
     "text": [
      "Evaluating Model: 100%|██████████| 196/196 [00:02<00:00, 79.79batch/s, acc=82.78%]"
     ]
    },
    {
     "name": "stdout",
     "output_type": "stream",
     "text": [
      "Final Accuracy: 82.78%\n"
     ]
    },
    {
     "name": "stderr",
     "output_type": "stream",
     "text": [
      "\n"
     ]
    },
    {
     "data": {
      "text/plain": [
       "82.78"
      ]
     },
     "execution_count": 117,
     "metadata": {},
     "output_type": "execute_result"
    }
   ],
   "source": [
    "evaluate_model(model_paca, val_loader, device)"
   ]
  },
  {
   "cell_type": "code",
   "execution_count": 118,
   "id": "e522bb87",
   "metadata": {},
   "outputs": [],
   "source": [
    "def apply_projection_mask(model, alpha=16, beta=0.85):\n",
    "    \"\"\"\n",
    "    Modifies the model's convolutional weights in-place by projecting them\n",
    "    onto the nearest dominant sparsity patterns.\n",
    "    \"\"\"\n",
    "    print(\"\\nApplying projection mask to model weights...\")\n",
    "    # Use torch.no_grad() to ensure gradients are not computed for this manual operation\n",
    "    with torch.no_grad():\n",
    "        for name, module in model.named_modules():\n",
    "            if isinstance(module, torch.nn.Conv2d):\n",
    "                weight = module.weight\n",
    "                \n",
    "                # 1. Find dominant patterns in the current weight tensor\n",
    "                _, all_patterns, _= patterns._get_kernels_and_patterns(weight)\n",
    "                unique_patterns, counts = patterns._get_unique_patterns_with_counts(all_patterns)\n",
    "                \n",
    "                # Skip if there are no patterns to analyze\n",
    "                if ops.shape(unique_patterns)[0] == 0:\n",
    "                    print(f\"  - Skipping {name}: No non-zero patterns found.\")\n",
    "                    continue\n",
    "                    \n",
    "                dominant_patterns = patterns._select_dominant_patterns(all_patterns, \n",
    "                                                              unique_patterns, counts,\n",
    "                                                              alpha=alpha, beta=beta, dtype=weight.dtype)\n",
    "\n",
    "                # 2. Calculate the projection mask by finding the closest dominant pattern for each kernel\n",
    "                projection_mask_keras = patterns._get_projection_mask(weight,dominant_patterns, \n",
    "                                                                      src=\"OIHW\", epsilon=1e-5, distance_metric='cosine')\n",
    "\n",
    "                \n",
    "                # 3. Convert Keras tensor back to PyTorch tensor and move to the correct device\n",
    "                projection_mask_torch = ops.convert_to_tensor(projection_mask_keras, dtype=weight.dtype)\n",
    "                projection_mask_torch = projection_mask_torch.to(weight.device)\n",
    "\n",
    "                # 4. Apply the mask to the weight tensor IN-PLACE\n",
    "                module.weight.data *= projection_mask_torch\n",
    "                print(f\"  - Applied mask to layer: {name} with {len(dominant_patterns)} dominant patterns.\")\n",
    "                print(f\"\\t {len(unique_patterns)} unique patterns before projection.\")\n",
    "                _, all_patterns_projection_mask, _ = patterns._get_kernels_and_patterns(projection_mask_keras)\n",
    "                unique_projection_patterns, _ = patterns._get_unique_patterns_with_counts(all_patterns_projection_mask)   \n",
    "     \n",
    "                print(f\"\\t {len(unique_projection_patterns)} unique patterns after projection.\")\n",
    "    print(\"Weight modification complete.\")"
   ]
  },
  {
   "cell_type": "code",
   "execution_count": 119,
   "id": "1b557fe2",
   "metadata": {},
   "outputs": [
    {
     "name": "stdout",
     "output_type": "stream",
     "text": [
      "\n",
      "Applying projection mask to model weights...\n",
      "  - Applied mask to layer: conv1 with 6 dominant patterns.\n",
      "\t 31 unique patterns before projection.\n",
      "\t 1 unique patterns after projection.\n",
      "  - Applied mask to layer: layer1.0.conv1 with 1 dominant patterns.\n",
      "\t 35 unique patterns before projection.\n",
      "\t 1 unique patterns after projection.\n",
      "  - Applied mask to layer: layer1.0.conv2 with 1 dominant patterns.\n",
      "\t 28 unique patterns before projection.\n",
      "\t 1 unique patterns after projection.\n",
      "  - Applied mask to layer: layer1.1.conv1 with 1 dominant patterns.\n",
      "\t 34 unique patterns before projection.\n",
      "\t 1 unique patterns after projection.\n",
      "  - Applied mask to layer: layer1.1.conv2 with 1 dominant patterns.\n",
      "\t 25 unique patterns before projection.\n",
      "\t 1 unique patterns after projection.\n",
      "  - Applied mask to layer: layer2.0.conv1 with 1 dominant patterns.\n",
      "\t 31 unique patterns before projection.\n",
      "\t 1 unique patterns after projection.\n",
      "  - Applied mask to layer: layer2.0.conv2 with 1 dominant patterns.\n",
      "\t 38 unique patterns before projection.\n",
      "\t 1 unique patterns after projection.\n",
      "  - Applied mask to layer: layer2.0.downsample.0 with 1 dominant patterns.\n",
      "\t 2 unique patterns before projection.\n",
      "\t 1 unique patterns after projection.\n",
      "  - Applied mask to layer: layer2.1.conv1 with 1 dominant patterns.\n",
      "\t 58 unique patterns before projection.\n",
      "\t 1 unique patterns after projection.\n",
      "  - Applied mask to layer: layer2.1.conv2 with 1 dominant patterns.\n",
      "\t 40 unique patterns before projection.\n",
      "\t 1 unique patterns after projection.\n",
      "  - Applied mask to layer: layer3.0.conv1 with 1 dominant patterns.\n",
      "\t 63 unique patterns before projection.\n",
      "\t 1 unique patterns after projection.\n",
      "  - Applied mask to layer: layer3.0.conv2 with 1 dominant patterns.\n",
      "\t 88 unique patterns before projection.\n",
      "\t 1 unique patterns after projection.\n",
      "  - Applied mask to layer: layer3.0.downsample.0 with 1 dominant patterns.\n",
      "\t 2 unique patterns before projection.\n",
      "\t 1 unique patterns after projection.\n",
      "  - Applied mask to layer: layer3.1.conv1 with 8 dominant patterns.\n",
      "\t 240 unique patterns before projection.\n",
      "\t 8 unique patterns after projection.\n",
      "  - Applied mask to layer: layer3.1.conv2 with 16 dominant patterns.\n",
      "\t 288 unique patterns before projection.\n",
      "\t 13 unique patterns after projection.\n",
      "  - Applied mask to layer: layer4.0.conv1 with 1 dominant patterns.\n",
      "\t 67 unique patterns before projection.\n",
      "\t 1 unique patterns after projection.\n",
      "  - Applied mask to layer: layer4.0.conv2 with 9 dominant patterns.\n",
      "\t 244 unique patterns before projection.\n",
      "\t 9 unique patterns after projection.\n",
      "  - Applied mask to layer: layer4.0.downsample.0 with 1 dominant patterns.\n",
      "\t 2 unique patterns before projection.\n",
      "\t 1 unique patterns after projection.\n",
      "  - Applied mask to layer: layer4.1.conv1 with 16 dominant patterns.\n",
      "\t 280 unique patterns before projection.\n",
      "\t 16 unique patterns after projection.\n",
      "  - Applied mask to layer: layer4.1.conv2 with 16 dominant patterns.\n",
      "\t 291 unique patterns before projection.\n",
      "\t 16 unique patterns after projection.\n",
      "Weight modification complete.\n"
     ]
    }
   ],
   "source": [
    "apply_projection_mask(model_paca, alpha=16, beta=0.85)"
   ]
  },
  {
   "cell_type": "code",
   "execution_count": 120,
   "id": "c8e22259",
   "metadata": {},
   "outputs": [
    {
     "name": "stdout",
     "output_type": "stream",
     "text": [
      "True\n",
      "True\n",
      "True\n",
      "True\n",
      "True\n",
      "True\n",
      "True\n",
      "True\n",
      "True\n",
      "True\n",
      "True\n",
      "True\n",
      "True\n",
      "True\n",
      "True\n",
      "True\n",
      "True\n",
      "True\n",
      "True\n",
      "True\n"
     ]
    }
   ],
   "source": [
    "for name, module in model_paca.named_modules():\n",
    "    if not isinstance(module, torch.nn.Conv2d):\n",
    "        continue\n",
    "    \n",
    "    kernels, all_patterns, (C_out, C_in, kH, kW) =patterns._get_kernels_and_patterns(module.weight)\n",
    "    unique_patterns, counts = patterns._get_unique_patterns_with_counts(all_patterns)\n",
    "    dominant_patterns = patterns._select_dominant_patterns(all_patterns, unique_patterns, counts, alpha = 16, beta = 0.99, dtype=module.weight.dtype)\n",
    "    dominant_counts = patterns.count_dominant_patterns(dominant_patterns, unique_patterns, counts)\n",
    "\n",
    "    apm = all_pat_in_any_dom(unique_patterns, dominant_patterns)\n",
    "    print(bool(ops.convert_to_numpy(apm)))\n"
   ]
  },
  {
   "cell_type": "code",
   "execution_count": 121,
   "id": "b23bf78b",
   "metadata": {},
   "outputs": [
    {
     "name": "stdout",
     "output_type": "stream",
     "text": [
      "Mean Distances (BP): 0.0002580548170953989\n",
      "Mean Distances (BP): 0.00012078264990122989\n",
      "Mean Distances (BP): 8.220285235438496e-05\n",
      "Mean Distances (BP): 0.00014905346324667335\n",
      "Mean Distances (BP): 8.40670763864182e-05\n",
      "Mean Distances (BP): 8.721982885617763e-05\n",
      "Mean Distances (BP): 8.619225263828412e-05\n",
      "Mean Distances (BP): 1.0243486485705944e-06\n",
      "Mean Distances (BP): 0.00013203184062149376\n",
      "Mean Distances (BP): 0.0001245677995029837\n",
      "Mean Distances (BP): 0.00014328108227346092\n",
      "Mean Distances (BP): 0.00016682024579495192\n",
      "Mean Distances (BP): 3.4946071991726058e-06\n",
      "Mean Distances (BP): 0.00017009943258017302\n",
      "Mean Distances (BP): 0.0001942484814208001\n",
      "Mean Distances (BP): 5.3276387916412205e-05\n",
      "Mean Distances (BP): 0.001193877193145454\n",
      "Mean Distances (BP): 6.45074305793969e-06\n",
      "Mean Distances (BP): 0.0009402798023074865\n",
      "Mean Distances (BP): 0.0009844743181020021\n"
     ]
    }
   ],
   "source": [
    "distance_metric = 'valued_hamming'\n",
    "for name, module in model_paca.named_modules():\n",
    "    if not isinstance(module, torch.nn.Conv2d):\n",
    "        continue\n",
    "    \n",
    "    weight = module.weight\n",
    "    kernels, all_patterns, (C_out, C_in, kH, kW) =patterns._get_kernels_and_patterns(module.weight)\n",
    "    unique_patterns, counts = patterns._get_unique_patterns_with_counts(all_patterns)\n",
    "    dominant_patterns = patterns._select_dominant_patterns(all_patterns, unique_patterns, \n",
    "                                                           counts, alpha = 16, beta = 0.85, \n",
    "                                                           dtype=module.weight.dtype)\n",
    "\n",
    "    _, distances = patterns._pattern_distances(weight, dominant_patterns, distance_metric = distance_metric) # Shape: (C_out*C_in, num_dominant)\n",
    "    print(\"Mean Distances (BP):\", ops.mean(ops.min(distances, axis=1)).item())\n",
    "    # closest_pattern_indices = ops.argmin(distances, axis=1) # Shape: (C_out*C_in,)\n",
    "    # projection_mask_flat = ops.take(dominant_patterns, closest_pattern_indices, axis=0)\n",
    "    # projection_mask = ops.reshape(projection_mask_flat, (C_out, C_in, kH, kW))\n",
    "    \n",
    "    # projected_weights = weight * projection_mask \n",
    "    # _, distances = patterns._pattern_distances(projected_weights, dominant_patterns, distance_metric = distance_metric) # Shape: (C_out*C_in, num_dominant)\n",
    "    # print(\"Mean Distances (AP):\", ops.mean(ops.min(distances, axis=1)).numpy().item())\n",
    "    \n",
    "    # _, all_patterns_projection_mask, _ = patterns._get_kernels_and_patterns(projection_mask)\n",
    "    # unique_projection_patterns, _ = patterns._get_unique_patterns_with_counts(all_patterns_projection_mask)   \n",
    "                                  \n"
   ]
  },
  {
   "cell_type": "code",
   "execution_count": 122,
   "id": "0ddb0bdc",
   "metadata": {},
   "outputs": [
    {
     "name": "stderr",
     "output_type": "stream",
     "text": [
      "Evaluating Model: 100%|██████████| 196/196 [00:04<00:00, 44.42batch/s, acc=82.78%]"
     ]
    },
    {
     "name": "stdout",
     "output_type": "stream",
     "text": [
      "Final Accuracy: 82.78%\n"
     ]
    },
    {
     "name": "stderr",
     "output_type": "stream",
     "text": [
      "\n"
     ]
    },
    {
     "data": {
      "text/plain": [
       "82.78"
      ]
     },
     "execution_count": 122,
     "metadata": {},
     "output_type": "execute_result"
    }
   ],
   "source": [
    "evaluate_model(model_paca, val_loader, device)"
   ]
  },
  {
   "cell_type": "code",
   "execution_count": null,
   "id": "1727330d",
   "metadata": {},
   "outputs": [],
   "source": [
    "for name, module in model_paca.named_modules():\n",
    "    if not isinstance(module, torch.nn.Conv2d):\n",
    "        continue\n",
    "    \n",
    "    kernels, all_patterns, (C_out, C_in, kH, kW) =patterns._get_kernels_and_patterns(module.weight)\n",
    "    unique_patterns, counts = patterns._get_unique_patterns_with_counts(all_patterns)\n",
    "    dominant_patterns = patterns._select_dominant_patterns(all_patterns, unique_patterns, counts, alpha = 16, beta = 0.99, dtype=module.weight.dtype)\n",
    "    dominant_counts = patterns.count_dominant_patterns(dominant_patterns, unique_patterns, counts)\n",
    "\n",
    "    apm = all_pat_in_any_dom(unique_patterns, dominant_patterns)\n",
    "    print(name, len(dominant_patterns))\n",
    "    print(dominant_patterns.shape)\n",
    "    print()\n",
    "    plot_pattern_distributions(counts, dominant_counts, layer_name=name,\n",
    "                               log_scale1=False, log_scale2=True)\n",
    "    try: plot_dominant_patterns(name, dominant_patterns, dominant_counts, \n",
    "                                kH, kW, max_patterns_to_show=16)\n",
    "    except: pass\n",
    "    \n",
    "    break"
   ]
  },
  {
   "cell_type": "code",
   "execution_count": null,
   "id": "f2ef12d3",
   "metadata": {},
   "outputs": [],
   "source": []
  },
  {
   "cell_type": "code",
   "execution_count": 123,
   "id": "f18006af",
   "metadata": {},
   "outputs": [
    {
     "ename": "ValueError",
     "evalue": "shape mismatch: objects cannot be broadcast to a single shape.  Mismatch is between arg 0 with shape (16,) and arg 1 with shape (16, 49).",
     "output_type": "error",
     "traceback": [
      "\u001b[0;31m---------------------------------------------------------------------------\u001b[0m",
      "\u001b[0;31mValueError\u001b[0m                                Traceback (most recent call last)",
      "Cell \u001b[0;32mIn[123], line 9\u001b[0m\n\u001b[1;32m      6\u001b[0m unique_patterns, counts \u001b[38;5;241m=\u001b[39m patterns\u001b[38;5;241m.\u001b[39m_get_unique_patterns_with_counts(all_patterns)\n\u001b[1;32m      7\u001b[0m dominant_patterns \u001b[38;5;241m=\u001b[39m patterns\u001b[38;5;241m.\u001b[39m_select_dominant_patterns(all_patterns, unique_patterns, counts, alpha \u001b[38;5;241m=\u001b[39m \u001b[38;5;241m16\u001b[39m, beta \u001b[38;5;241m=\u001b[39m \u001b[38;5;241m0.75\u001b[39m, dtype\u001b[38;5;241m=\u001b[39mmodule\u001b[38;5;241m.\u001b[39mweight\u001b[38;5;241m.\u001b[39mdtype)\n\u001b[0;32m----> 9\u001b[0m \u001b[43mplot_pattern_distributions\u001b[49m\u001b[43m(\u001b[49m\u001b[43mcounts\u001b[49m\u001b[43m,\u001b[49m\u001b[43m \u001b[49m\u001b[43mdominant_patterns\u001b[49m\u001b[43m,\u001b[49m\u001b[43m \u001b[49m\u001b[43mlayer_name\u001b[49m\u001b[43m \u001b[49m\u001b[38;5;241;43m=\u001b[39;49m\u001b[43m \u001b[49m\u001b[43mname\u001b[49m\u001b[43m,\u001b[49m\u001b[43m \u001b[49m\u001b[43mlog_scale1\u001b[49m\u001b[43m \u001b[49m\u001b[38;5;241;43m=\u001b[39;49m\u001b[43m \u001b[49m\u001b[38;5;28;43;01mFalse\u001b[39;49;00m\u001b[43m,\u001b[49m\u001b[43m \u001b[49m\u001b[43mlog_scale2\u001b[49m\u001b[43m \u001b[49m\u001b[38;5;241;43m=\u001b[39;49m\u001b[43m \u001b[49m\u001b[38;5;28;43;01mFalse\u001b[39;49;00m\u001b[43m)\u001b[49m\n\u001b[1;32m     10\u001b[0m \u001b[38;5;28;01mtry\u001b[39;00m: plot_dominant_patterns(name, all_patterns, counts, kH, kW, max_patterns_to_show\u001b[38;5;241m=\u001b[39m\u001b[38;5;241m16\u001b[39m)\n\u001b[1;32m     11\u001b[0m \u001b[38;5;28;01mexcept\u001b[39;00m: \u001b[38;5;28;01mpass\u001b[39;00m\n",
      "Cell \u001b[0;32mIn[113], line 31\u001b[0m, in \u001b[0;36mplot_pattern_distributions\u001b[0;34m(unique_counts, dominant_counts, layer_name, log_scale1, log_scale2)\u001b[0m\n\u001b[1;32m     29\u001b[0m \u001b[38;5;66;03m# --- Plot only the kept (dominant) patterns ---\u001b[39;00m\n\u001b[1;32m     30\u001b[0m fig2, ax2 \u001b[38;5;241m=\u001b[39m plt\u001b[38;5;241m.\u001b[39msubplots(figsize\u001b[38;5;241m=\u001b[39m(\u001b[38;5;241m6\u001b[39m, \u001b[38;5;241m4\u001b[39m))\n\u001b[0;32m---> 31\u001b[0m \u001b[43max2\u001b[49m\u001b[38;5;241;43m.\u001b[39;49m\u001b[43mbar\u001b[49m\u001b[43m(\u001b[49m\u001b[43mnp\u001b[49m\u001b[38;5;241;43m.\u001b[39;49m\u001b[43marange\u001b[49m\u001b[43m(\u001b[49m\u001b[43mM\u001b[49m\u001b[43m)\u001b[49m\u001b[43m,\u001b[49m\u001b[43m \u001b[49m\u001b[43mdom_cnt_np\u001b[49m\u001b[43m,\u001b[49m\u001b[43m \u001b[49m\u001b[43mlinewidth\u001b[49m\u001b[38;5;241;43m=\u001b[39;49m\u001b[38;5;241;43m0\u001b[39;49m\u001b[43m)\u001b[49m\n\u001b[1;32m     32\u001b[0m \u001b[38;5;28;01mif\u001b[39;00m log_scale2: ax2\u001b[38;5;241m.\u001b[39mset_yscale(\u001b[38;5;124m\"\u001b[39m\u001b[38;5;124mlog\u001b[39m\u001b[38;5;124m\"\u001b[39m)\n\u001b[1;32m     33\u001b[0m ax2\u001b[38;5;241m.\u001b[39mset_xlabel(\u001b[38;5;124m\"\u001b[39m\u001b[38;5;124mDominant pattern index (0‥M-1)\u001b[39m\u001b[38;5;124m\"\u001b[39m)\n",
      "File \u001b[0;32m/depot/cms/conda_envs/das214/pquant-gpu-env/lib/python3.10/site-packages/matplotlib/__init__.py:1521\u001b[0m, in \u001b[0;36m_preprocess_data.<locals>.inner\u001b[0;34m(ax, data, *args, **kwargs)\u001b[0m\n\u001b[1;32m   1518\u001b[0m \u001b[38;5;129m@functools\u001b[39m\u001b[38;5;241m.\u001b[39mwraps(func)\n\u001b[1;32m   1519\u001b[0m \u001b[38;5;28;01mdef\u001b[39;00m\u001b[38;5;250m \u001b[39m\u001b[38;5;21minner\u001b[39m(ax, \u001b[38;5;241m*\u001b[39margs, data\u001b[38;5;241m=\u001b[39m\u001b[38;5;28;01mNone\u001b[39;00m, \u001b[38;5;241m*\u001b[39m\u001b[38;5;241m*\u001b[39mkwargs):\n\u001b[1;32m   1520\u001b[0m     \u001b[38;5;28;01mif\u001b[39;00m data \u001b[38;5;129;01mis\u001b[39;00m \u001b[38;5;28;01mNone\u001b[39;00m:\n\u001b[0;32m-> 1521\u001b[0m         \u001b[38;5;28;01mreturn\u001b[39;00m \u001b[43mfunc\u001b[49m\u001b[43m(\u001b[49m\n\u001b[1;32m   1522\u001b[0m \u001b[43m            \u001b[49m\u001b[43max\u001b[49m\u001b[43m,\u001b[49m\n\u001b[1;32m   1523\u001b[0m \u001b[43m            \u001b[49m\u001b[38;5;241;43m*\u001b[39;49m\u001b[38;5;28;43mmap\u001b[39;49m\u001b[43m(\u001b[49m\u001b[43mcbook\u001b[49m\u001b[38;5;241;43m.\u001b[39;49m\u001b[43msanitize_sequence\u001b[49m\u001b[43m,\u001b[49m\u001b[43m \u001b[49m\u001b[43margs\u001b[49m\u001b[43m)\u001b[49m\u001b[43m,\u001b[49m\n\u001b[1;32m   1524\u001b[0m \u001b[43m            \u001b[49m\u001b[38;5;241;43m*\u001b[39;49m\u001b[38;5;241;43m*\u001b[39;49m\u001b[43m{\u001b[49m\u001b[43mk\u001b[49m\u001b[43m:\u001b[49m\u001b[43m \u001b[49m\u001b[43mcbook\u001b[49m\u001b[38;5;241;43m.\u001b[39;49m\u001b[43msanitize_sequence\u001b[49m\u001b[43m(\u001b[49m\u001b[43mv\u001b[49m\u001b[43m)\u001b[49m\u001b[43m \u001b[49m\u001b[38;5;28;43;01mfor\u001b[39;49;00m\u001b[43m \u001b[49m\u001b[43mk\u001b[49m\u001b[43m,\u001b[49m\u001b[43m \u001b[49m\u001b[43mv\u001b[49m\u001b[43m \u001b[49m\u001b[38;5;129;43;01min\u001b[39;49;00m\u001b[43m \u001b[49m\u001b[43mkwargs\u001b[49m\u001b[38;5;241;43m.\u001b[39;49m\u001b[43mitems\u001b[49m\u001b[43m(\u001b[49m\u001b[43m)\u001b[49m\u001b[43m}\u001b[49m\u001b[43m)\u001b[49m\n\u001b[1;32m   1526\u001b[0m     bound \u001b[38;5;241m=\u001b[39m new_sig\u001b[38;5;241m.\u001b[39mbind(ax, \u001b[38;5;241m*\u001b[39margs, \u001b[38;5;241m*\u001b[39m\u001b[38;5;241m*\u001b[39mkwargs)\n\u001b[1;32m   1527\u001b[0m     auto_label \u001b[38;5;241m=\u001b[39m (bound\u001b[38;5;241m.\u001b[39marguments\u001b[38;5;241m.\u001b[39mget(label_namer)\n\u001b[1;32m   1528\u001b[0m                   \u001b[38;5;129;01mor\u001b[39;00m bound\u001b[38;5;241m.\u001b[39mkwargs\u001b[38;5;241m.\u001b[39mget(label_namer))\n",
      "File \u001b[0;32m/depot/cms/conda_envs/das214/pquant-gpu-env/lib/python3.10/site-packages/matplotlib/axes/_axes.py:2583\u001b[0m, in \u001b[0;36mAxes.bar\u001b[0;34m(self, x, height, width, bottom, align, **kwargs)\u001b[0m\n\u001b[1;32m   2580\u001b[0m     \u001b[38;5;28;01mif\u001b[39;00m yerr \u001b[38;5;129;01mis\u001b[39;00m \u001b[38;5;129;01mnot\u001b[39;00m \u001b[38;5;28;01mNone\u001b[39;00m:\n\u001b[1;32m   2581\u001b[0m         yerr \u001b[38;5;241m=\u001b[39m \u001b[38;5;28mself\u001b[39m\u001b[38;5;241m.\u001b[39m_convert_dx(yerr, y0, y, \u001b[38;5;28mself\u001b[39m\u001b[38;5;241m.\u001b[39mconvert_yunits)\n\u001b[0;32m-> 2583\u001b[0m x, height, width, y, linewidth, hatch \u001b[38;5;241m=\u001b[39m \u001b[43mnp\u001b[49m\u001b[38;5;241;43m.\u001b[39;49m\u001b[43mbroadcast_arrays\u001b[49m\u001b[43m(\u001b[49m\n\u001b[1;32m   2584\u001b[0m \u001b[43m    \u001b[49m\u001b[38;5;66;43;03m# Make args iterable too.\u001b[39;49;00m\n\u001b[1;32m   2585\u001b[0m \u001b[43m    \u001b[49m\u001b[43mnp\u001b[49m\u001b[38;5;241;43m.\u001b[39;49m\u001b[43matleast_1d\u001b[49m\u001b[43m(\u001b[49m\u001b[43mx\u001b[49m\u001b[43m)\u001b[49m\u001b[43m,\u001b[49m\u001b[43m \u001b[49m\u001b[43mheight\u001b[49m\u001b[43m,\u001b[49m\u001b[43m \u001b[49m\u001b[43mwidth\u001b[49m\u001b[43m,\u001b[49m\u001b[43m \u001b[49m\u001b[43my\u001b[49m\u001b[43m,\u001b[49m\u001b[43m \u001b[49m\u001b[43mlinewidth\u001b[49m\u001b[43m,\u001b[49m\u001b[43m \u001b[49m\u001b[43mhatch\u001b[49m\u001b[43m)\u001b[49m\n\u001b[1;32m   2587\u001b[0m \u001b[38;5;66;03m# Now that units have been converted, set the tick locations.\u001b[39;00m\n\u001b[1;32m   2588\u001b[0m \u001b[38;5;28;01mif\u001b[39;00m orientation \u001b[38;5;241m==\u001b[39m \u001b[38;5;124m'\u001b[39m\u001b[38;5;124mvertical\u001b[39m\u001b[38;5;124m'\u001b[39m:\n",
      "File \u001b[0;32m/depot/cms/conda_envs/das214/pquant-gpu-env/lib/python3.10/site-packages/numpy/lib/stride_tricks.py:540\u001b[0m, in \u001b[0;36mbroadcast_arrays\u001b[0;34m(subok, *args)\u001b[0m\n\u001b[1;32m    533\u001b[0m \u001b[38;5;66;03m# nditer is not used here to avoid the limit of 32 arrays.\u001b[39;00m\n\u001b[1;32m    534\u001b[0m \u001b[38;5;66;03m# Otherwise, something like the following one-liner would suffice:\u001b[39;00m\n\u001b[1;32m    535\u001b[0m \u001b[38;5;66;03m# return np.nditer(args, flags=['multi_index', 'zerosize_ok'],\u001b[39;00m\n\u001b[1;32m    536\u001b[0m \u001b[38;5;66;03m#                  order='C').itviews\u001b[39;00m\n\u001b[1;32m    538\u001b[0m args \u001b[38;5;241m=\u001b[39m [np\u001b[38;5;241m.\u001b[39marray(_m, copy\u001b[38;5;241m=\u001b[39m\u001b[38;5;28;01mFalse\u001b[39;00m, subok\u001b[38;5;241m=\u001b[39msubok) \u001b[38;5;28;01mfor\u001b[39;00m _m \u001b[38;5;129;01min\u001b[39;00m args]\n\u001b[0;32m--> 540\u001b[0m shape \u001b[38;5;241m=\u001b[39m \u001b[43m_broadcast_shape\u001b[49m\u001b[43m(\u001b[49m\u001b[38;5;241;43m*\u001b[39;49m\u001b[43margs\u001b[49m\u001b[43m)\u001b[49m\n\u001b[1;32m    542\u001b[0m \u001b[38;5;28;01mif\u001b[39;00m \u001b[38;5;28mall\u001b[39m(array\u001b[38;5;241m.\u001b[39mshape \u001b[38;5;241m==\u001b[39m shape \u001b[38;5;28;01mfor\u001b[39;00m array \u001b[38;5;129;01min\u001b[39;00m args):\n\u001b[1;32m    543\u001b[0m     \u001b[38;5;66;03m# Common case where nothing needs to be broadcasted.\u001b[39;00m\n\u001b[1;32m    544\u001b[0m     \u001b[38;5;28;01mreturn\u001b[39;00m args\n",
      "File \u001b[0;32m/depot/cms/conda_envs/das214/pquant-gpu-env/lib/python3.10/site-packages/numpy/lib/stride_tricks.py:422\u001b[0m, in \u001b[0;36m_broadcast_shape\u001b[0;34m(*args)\u001b[0m\n\u001b[1;32m    417\u001b[0m \u001b[38;5;250m\u001b[39m\u001b[38;5;124;03m\"\"\"Returns the shape of the arrays that would result from broadcasting the\u001b[39;00m\n\u001b[1;32m    418\u001b[0m \u001b[38;5;124;03msupplied arrays against each other.\u001b[39;00m\n\u001b[1;32m    419\u001b[0m \u001b[38;5;124;03m\"\"\"\u001b[39;00m\n\u001b[1;32m    420\u001b[0m \u001b[38;5;66;03m# use the old-iterator because np.nditer does not handle size 0 arrays\u001b[39;00m\n\u001b[1;32m    421\u001b[0m \u001b[38;5;66;03m# consistently\u001b[39;00m\n\u001b[0;32m--> 422\u001b[0m b \u001b[38;5;241m=\u001b[39m \u001b[43mnp\u001b[49m\u001b[38;5;241;43m.\u001b[39;49m\u001b[43mbroadcast\u001b[49m\u001b[43m(\u001b[49m\u001b[38;5;241;43m*\u001b[39;49m\u001b[43margs\u001b[49m\u001b[43m[\u001b[49m\u001b[43m:\u001b[49m\u001b[38;5;241;43m32\u001b[39;49m\u001b[43m]\u001b[49m\u001b[43m)\u001b[49m\n\u001b[1;32m    423\u001b[0m \u001b[38;5;66;03m# unfortunately, it cannot handle 32 or more arguments directly\u001b[39;00m\n\u001b[1;32m    424\u001b[0m \u001b[38;5;28;01mfor\u001b[39;00m pos \u001b[38;5;129;01min\u001b[39;00m \u001b[38;5;28mrange\u001b[39m(\u001b[38;5;241m32\u001b[39m, \u001b[38;5;28mlen\u001b[39m(args), \u001b[38;5;241m31\u001b[39m):\n\u001b[1;32m    425\u001b[0m     \u001b[38;5;66;03m# ironically, np.broadcast does not properly handle np.broadcast\u001b[39;00m\n\u001b[1;32m    426\u001b[0m     \u001b[38;5;66;03m# objects (it treats them as scalars)\u001b[39;00m\n\u001b[1;32m    427\u001b[0m     \u001b[38;5;66;03m# use broadcasting to avoid allocating the full array\u001b[39;00m\n",
      "\u001b[0;31mValueError\u001b[0m: shape mismatch: objects cannot be broadcast to a single shape.  Mismatch is between arg 0 with shape (16,) and arg 1 with shape (16, 49)."
     ]
    },
    {
     "data": {
      "image/png": "[encoded data removed]",
      "text/plain": [
       "<Figure size 800x500 with 1 Axes>"
      ]
     },
     "metadata": {},
     "output_type": "display_data"
    },
    {
     "data": {
      "image/png": "[encoded data removed]",
      "text/plain": [
       "<Figure size 600x400 with 1 Axes>"
      ]
     },
     "metadata": {},
     "output_type": "display_data"
    }
   ],
   "source": [
    "for name, module in model.named_modules():\n",
    "    if not isinstance(module, torch.nn.Conv2d):\n",
    "        continue\n",
    "    \n",
    "    kernels, all_patterns, (C_out, C_in, kH, kW) =patterns._get_kernels_and_patterns(module.weight)\n",
    "    unique_patterns, counts = patterns._get_unique_patterns_with_counts(all_patterns)\n",
    "    dominant_patterns = patterns._select_dominant_patterns(all_patterns, unique_patterns, counts, alpha = 16, beta = 0.75, dtype=module.weight.dtype)\n",
    "\n",
    "    plot_pattern_distributions(counts, dominant_patterns, layer_name = name, log_scale1 = False, log_scale2 = False)\n",
    "    try: plot_dominant_patterns(name, all_patterns, counts, kH, kW, max_patterns_to_show=16)\n",
    "    except: pass\n",
    "    \n",
    "    break"
   ]
  },
  {
   "cell_type": "code",
   "execution_count": 100,
   "id": "39a2fa61",
   "metadata": {},
   "outputs": [
    {
     "data": {
      "text/plain": [
       "torch.Size([16, 49])"
      ]
     },
     "execution_count": 100,
     "metadata": {},
     "output_type": "execute_result"
    }
   ],
   "source": [
    "dominant_patterns.shape"
   ]
  },
  {
   "cell_type": "code",
   "execution_count": 101,
   "id": "e38e1a99",
   "metadata": {},
   "outputs": [
    {
     "name": "stdout",
     "output_type": "stream",
     "text": [
      "tensor([8, 1, 1, 1, 1, 1, 1, 1, 2, 1, 1, 1, 1, 1, 1, 1, 1, 1, 1, 1, 1, 1, 1, 1,\n",
      "        1, 1, 1, 1, 1, 1, 1, 1, 1, 1, 1, 1, 1, 1, 1, 1, 1, 1, 1, 1, 1, 1, 1, 1,\n",
      "        1, 1, 1, 1, 1, 1, 1, 1, 1, 1, 1, 1, 1, 1, 1, 1, 1, 1, 1, 1, 1, 1, 1, 1,\n",
      "        1, 1, 1, 1, 1, 1, 1, 1, 1, 1, 1, 1, 1, 1, 1, 1, 1, 1, 1, 1, 1, 1, 1, 1,\n",
      "        1, 1, 1, 1, 1, 1, 1, 1, 1, 1, 1, 1, 1, 1, 1, 1, 1, 1, 1, 1, 1, 1, 1, 1,\n",
      "        1, 1, 1, 1, 1, 1, 1, 1, 1, 1, 1, 1, 1, 1, 1, 1, 1, 1, 1, 1, 1, 1, 1, 1,\n",
      "        1, 1, 1, 1, 1, 1, 1, 1, 1, 1, 1, 1, 1, 1, 1, 1, 1, 1, 1, 1, 1, 1, 1, 1,\n",
      "        1, 1, 1, 1, 1, 1, 1, 1, 1, 1, 1, 1, 1, 1, 1, 1], device='cuda:0',\n",
      "       dtype=torch.int32)\n",
      "184\n"
     ]
    }
   ],
   "source": [
    "print(counts)\n",
    "print(len(unique_patterns))"
   ]
  },
  {
   "cell_type": "code",
   "execution_count": 102,
   "id": "a1e2d25a",
   "metadata": {},
   "outputs": [
    {
     "name": "stdout",
     "output_type": "stream",
     "text": [
      "conv1 16\n",
      "torch.Size([16, 49])\n",
      "torch.Size([184, 49])\n",
      "\n",
      "torch.Size([16, 49])\n",
      "\n",
      "layer1.0.conv1 16\n",
      "torch.Size([16, 9])\n",
      "torch.Size([178, 9])\n",
      "\n",
      "torch.Size([16, 9])\n",
      "\n",
      "layer1.0.conv2 16\n",
      "torch.Size([16, 9])\n",
      "torch.Size([188, 9])\n",
      "\n",
      "torch.Size([16, 9])\n",
      "\n",
      "layer1.1.conv1 16\n",
      "torch.Size([16, 9])\n",
      "torch.Size([161, 9])\n",
      "\n",
      "torch.Size([15, 9])\n",
      "\n",
      "layer1.1.conv2 16\n",
      "torch.Size([16, 9])\n",
      "torch.Size([147, 9])\n",
      "\n",
      "torch.Size([15, 9])\n",
      "\n",
      "layer2.0.conv1 16\n",
      "torch.Size([16, 9])\n",
      "torch.Size([281, 9])\n",
      "\n",
      "torch.Size([16, 9])\n",
      "\n",
      "layer2.0.conv2 16\n",
      "torch.Size([16, 9])\n",
      "torch.Size([323, 9])\n",
      "\n",
      "torch.Size([16, 9])\n",
      "\n",
      "layer2.0.downsample.0 2\n",
      "torch.Size([2, 1])\n",
      "torch.Size([2, 1])\n",
      "\n",
      "torch.Size([2, 1])\n",
      "\n",
      "layer2.1.conv1 16\n",
      "torch.Size([16, 9])\n",
      "torch.Size([311, 9])\n",
      "\n",
      "torch.Size([16, 9])\n",
      "\n",
      "layer2.1.conv2 16\n",
      "torch.Size([16, 9])\n",
      "torch.Size([313, 9])\n",
      "\n",
      "torch.Size([16, 9])\n",
      "\n",
      "layer3.0.conv1 16\n",
      "torch.Size([16, 9])\n",
      "torch.Size([390, 9])\n",
      "\n",
      "torch.Size([16, 9])\n",
      "\n",
      "layer3.0.conv2 16\n",
      "torch.Size([16, 9])\n",
      "torch.Size([160, 9])\n",
      "\n",
      "torch.Size([16, 9])\n",
      "\n",
      "layer3.0.downsample.0 2\n",
      "torch.Size([2, 1])\n",
      "torch.Size([2, 1])\n",
      "\n",
      "torch.Size([2, 1])\n",
      "\n",
      "layer3.1.conv1 16\n",
      "torch.Size([16, 9])\n",
      "torch.Size([218, 9])\n",
      "\n",
      "torch.Size([16, 9])\n",
      "\n",
      "layer3.1.conv2 16\n",
      "torch.Size([16, 9])\n",
      "torch.Size([230, 9])\n",
      "\n",
      "torch.Size([16, 9])\n",
      "\n",
      "layer4.0.conv1 16\n",
      "torch.Size([16, 9])\n",
      "torch.Size([189, 9])\n",
      "\n",
      "torch.Size([16, 9])\n",
      "\n",
      "layer4.0.conv2 16\n",
      "torch.Size([16, 9])\n",
      "torch.Size([369, 9])\n",
      "\n",
      "torch.Size([16, 9])\n",
      "\n",
      "layer4.0.downsample.0 2\n",
      "torch.Size([2, 1])\n",
      "torch.Size([2, 1])\n",
      "\n",
      "torch.Size([2, 1])\n",
      "\n",
      "layer4.1.conv1 16\n",
      "torch.Size([16, 9])\n",
      "torch.Size([388, 9])\n",
      "\n",
      "torch.Size([16, 9])\n",
      "\n",
      "layer4.1.conv2 16\n",
      "torch.Size([16, 9])\n",
      "torch.Size([406, 9])\n",
      "\n",
      "torch.Size([16, 9])\n",
      "\n"
     ]
    }
   ],
   "source": [
    "for name, module in model.named_modules():\n",
    "    if not isinstance(module, torch.nn.Conv2d):\n",
    "        continue\n",
    "    \n",
    "    weight = module.weight\n",
    "    kernels, all_patterns, (C_out, C_in, kH, kW) =_get_kernels_and_patterns(module.weight)\n",
    "    unique_patterns, counts = _get_unique_patterns_with_counts(all_patterns)\n",
    "    dominant_patterns = _select_dominant_patterns(all_patterns, unique_patterns, counts, alpha = 16, beta = 0.99, dtype=module.weight.dtype)\n",
    "\n",
    "    _, distances = _pattern_distances(dominant_patterns, weight) # Shape: (C_out*C_in, num_dominant)\n",
    "    closest_pattern_indices = ops.argmin(distances, axis=1) # Shape: (C_out*C_in,)\n",
    "    projection_mask_flat = ops.take(dominant_patterns, closest_pattern_indices, axis=0)\n",
    "    projection_mask = ops.reshape(projection_mask_flat, (C_out, C_in, kH, kW))\n",
    "    \n",
    "    projected_weight = (weight.cpu() + 1.0e-5)* projection_mask.cpu()\n",
    "    \n",
    "    print(name, len(dominant_patterns))\n",
    "    print(dominant_patterns.shape)\n",
    "    print(unique_patterns.shape)\n",
    "    print()\n",
    "\n",
    "    weight = projected_weight\n",
    "    kernels, all_patterns, (C_out, C_in, kH, kW) =_get_kernels_and_patterns(weight)\n",
    "    unique_patterns, counts = _get_unique_patterns_with_counts(all_patterns)\n",
    "    # dominant_patterns = _select_dominant_patterns(all_patterns, unique_patterns, counts, alpha = 16, beta = 0.75, dtype=module.weight.dtype)\n",
    "\n",
    "    # print(name, len(dominant_patterns))\n",
    "    # print(dominant_patterns.shape)\n",
    "    print(unique_patterns.shape)\n",
    "    print()\n",
    "    \n",
    "    # plot_pattern_distributions(counts, dominant_patterns, layer_name = name, log_scale1 = False, log_scale2 = False)\n",
    "    # try: plot_dominant_patterns(name, all_patterns, counts, kH, kW, max_patterns_to_show=16)\n",
    "    # except: pass\n",
    "    \n",
    "    # break"
   ]
  },
  {
   "cell_type": "code",
   "execution_count": 103,
   "id": "8f89b09b",
   "metadata": {},
   "outputs": [
    {
     "ename": "ValueError",
     "evalue": "not enough values to unpack (expected 4, got 2)",
     "output_type": "error",
     "traceback": [
      "\u001b[0;31m---------------------------------------------------------------------------\u001b[0m",
      "\u001b[0;31mValueError\u001b[0m                                Traceback (most recent call last)",
      "Cell \u001b[0;32mIn[103], line 2\u001b[0m\n\u001b[1;32m      1\u001b[0m weight \u001b[38;5;241m=\u001b[39m module\u001b[38;5;241m.\u001b[39mweight\n\u001b[0;32m----> 2\u001b[0m _, distances \u001b[38;5;241m=\u001b[39m \u001b[43m_pattern_distances\u001b[49m\u001b[43m(\u001b[49m\u001b[43mdominant_patterns\u001b[49m\u001b[43m,\u001b[49m\u001b[43m \u001b[49m\u001b[43mweight\u001b[49m\u001b[43m)\u001b[49m \u001b[38;5;66;03m# Shape: (C_out*C_in, num_dominant)\u001b[39;00m\n\u001b[1;32m      3\u001b[0m closest_pattern_indices \u001b[38;5;241m=\u001b[39m ops\u001b[38;5;241m.\u001b[39margmin(distances, axis\u001b[38;5;241m=\u001b[39m\u001b[38;5;241m1\u001b[39m) \u001b[38;5;66;03m# Shape: (C_out*C_in,)\u001b[39;00m\n\u001b[1;32m      4\u001b[0m projection_mask_flat \u001b[38;5;241m=\u001b[39m ops\u001b[38;5;241m.\u001b[39mtake(dominant_patterns, closest_pattern_indices, axis\u001b[38;5;241m=\u001b[39m\u001b[38;5;241m0\u001b[39m)\n",
      "Cell \u001b[0;32mIn[93], line 2\u001b[0m, in \u001b[0;36m_pattern_distances\u001b[0;34m(dominant_patterns, w)\u001b[0m\n\u001b[1;32m      1\u001b[0m \u001b[38;5;28;01mdef\u001b[39;00m\u001b[38;5;250m \u001b[39m\u001b[38;5;21m_pattern_distances\u001b[39m(dominant_patterns, w):\n\u001b[0;32m----> 2\u001b[0m     w_kernels, w_patterns, _ \u001b[38;5;241m=\u001b[39m \u001b[43m_get_kernels_and_patterns\u001b[49m\u001b[43m(\u001b[49m\u001b[43mw\u001b[49m\u001b[43m,\u001b[49m\u001b[43m \u001b[49m\u001b[43msrc\u001b[49m\u001b[43m \u001b[49m\u001b[38;5;241;43m=\u001b[39;49m\u001b[43m \u001b[49m\u001b[38;5;124;43m\"\u001b[39;49m\u001b[38;5;124;43mOIHW\u001b[39;49m\u001b[38;5;124;43m\"\u001b[39;49m\u001b[43m)\u001b[49m\n\u001b[1;32m      3\u001b[0m     w_kernels_exp \u001b[38;5;241m=\u001b[39m ops\u001b[38;5;241m.\u001b[39mexpand_dims(w_kernels, \u001b[38;5;241m1\u001b[39m)\n\u001b[1;32m      4\u001b[0m     w_patterns_exp \u001b[38;5;241m=\u001b[39m ops\u001b[38;5;241m.\u001b[39mexpand_dims(w_patterns, \u001b[38;5;241m1\u001b[39m)\n",
      "Cell \u001b[0;32mIn[90], line 6\u001b[0m, in \u001b[0;36m_get_kernels_and_patterns\u001b[0;34m(w, src, epsilon)\u001b[0m\n\u001b[1;32m      1\u001b[0m \u001b[38;5;28;01mdef\u001b[39;00m\u001b[38;5;250m \u001b[39m\u001b[38;5;21m_get_kernels_and_patterns\u001b[39m(w, src\u001b[38;5;241m=\u001b[39m\u001b[38;5;124m\"\u001b[39m\u001b[38;5;124mOIHW\u001b[39m\u001b[38;5;124m\"\u001b[39m, epsilon\u001b[38;5;241m=\u001b[39m\u001b[38;5;241m1e-5\u001b[39m):\n\u001b[1;32m      2\u001b[0m     \u001b[38;5;66;03m# src:\u001b[39;00m\n\u001b[1;32m      3\u001b[0m     \u001b[38;5;66;03m#   PyTorch: (out, in, kH, kW): OIHW\u001b[39;00m\n\u001b[1;32m      4\u001b[0m     \u001b[38;5;66;03m#   Keras  : (kH, kW, in, out): HWIO\u001b[39;00m\n\u001b[1;32m      5\u001b[0m     w_permuted \u001b[38;5;241m=\u001b[39m convert_conv_layout(w, src\u001b[38;5;241m=\u001b[39m\u001b[38;5;124m\"\u001b[39m\u001b[38;5;124mOIHW\u001b[39m\u001b[38;5;124m\"\u001b[39m, dst\u001b[38;5;241m=\u001b[39m\u001b[38;5;124m\"\u001b[39m\u001b[38;5;124mOIHW\u001b[39m\u001b[38;5;124m\"\u001b[39m)\n\u001b[0;32m----> 6\u001b[0m     C_out, C_in, kH, kW \u001b[38;5;241m=\u001b[39m ops\u001b[38;5;241m.\u001b[39mshape(w_permuted)\n\u001b[1;32m      7\u001b[0m     kernels \u001b[38;5;241m=\u001b[39m ops\u001b[38;5;241m.\u001b[39mreshape(w_permuted, (C_out \u001b[38;5;241m*\u001b[39m C_in, \u001b[38;5;241m-\u001b[39m\u001b[38;5;241m1\u001b[39m))\n\u001b[1;32m      8\u001b[0m     all_patterns \u001b[38;5;241m=\u001b[39m ops\u001b[38;5;241m.\u001b[39mcast(ops\u001b[38;5;241m.\u001b[39mgreater_equal(ops\u001b[38;5;241m.\u001b[39mabs(kernels), epsilon), dtype\u001b[38;5;241m=\u001b[39mw\u001b[38;5;241m.\u001b[39mdtype)\n",
      "\u001b[0;31mValueError\u001b[0m: not enough values to unpack (expected 4, got 2)"
     ]
    }
   ],
   "source": [
    "weight = module.weight\n",
    "_, distances = _pattern_distances(dominant_patterns, weight) # Shape: (C_out*C_in, num_dominant)\n",
    "closest_pattern_indices = ops.argmin(distances, axis=1) # Shape: (C_out*C_in,)\n",
    "projection_mask_flat = ops.take(dominant_patterns, closest_pattern_indices, axis=0)\n",
    "projection_mask = ops.reshape(projection_mask_flat, (C_out, C_in, kH, kW))\n",
    "\n",
    "projected_weight = (weight.cpu() + 1.0e-5)* projection_mask.cpu()"
   ]
  },
  {
   "cell_type": "code",
   "execution_count": 67,
   "id": "13dccde0",
   "metadata": {},
   "outputs": [
    {
     "name": "stdout",
     "output_type": "stream",
     "text": [
      "tensor([ 30,  23,   4,  29, 106], device='cuda:0', dtype=torch.int32)\n",
      "5\n"
     ]
    }
   ],
   "source": [
    "weight = projected_weight\n",
    "kernels, all_patterns, (C_out, C_in, kH, kW) =_get_kernels_and_patterns(weight)\n",
    "unique_patterns, counts = _get_unique_patterns_with_counts(all_patterns)\n",
    "dominant_patterns = _select_dominant_patterns(all_patterns, unique_patterns, counts, alpha = 16, beta = 0.75, dtype=module.weight.dtype)\n",
    "\n",
    "print(counts)\n",
    "print(len(unique_patterns))"
   ]
  },
  {
   "cell_type": "code",
   "execution_count": 22,
   "id": "efea6aa3",
   "metadata": {},
   "outputs": [
    {
     "data": {
      "text/plain": [
       "tensor([[[ 0.0000e+00,  0.0000e+00,  0.0000e+00,  0.0000e+00,  0.0000e+00,\n",
       "           0.0000e+00,  0.0000e+00],\n",
       "         [ 0.0000e+00,  0.0000e+00,  0.0000e+00,  0.0000e+00,  0.0000e+00,\n",
       "           0.0000e+00,  0.0000e+00],\n",
       "         [-0.0000e+00,  0.0000e+00,  0.0000e+00, -0.0000e+00,  0.0000e+00,\n",
       "           0.0000e+00,  0.0000e+00],\n",
       "         [-0.0000e+00,  0.0000e+00,  0.0000e+00, -0.0000e+00,  0.0000e+00,\n",
       "          -0.0000e+00, -0.0000e+00],\n",
       "         [-0.0000e+00,  0.0000e+00,  0.0000e+00, -0.0000e+00,  3.8388e-01,\n",
       "           1.0000e-05,  0.0000e+00],\n",
       "         [-6.1947e-02,  0.0000e+00,  0.0000e+00, -0.0000e+00,  1.9032e-01,\n",
       "           1.0000e-05,  0.0000e+00],\n",
       "         [ 0.0000e+00,  0.0000e+00, -0.0000e+00, -0.0000e+00,  7.2474e-02,\n",
       "           0.0000e+00,  0.0000e+00]],\n",
       "\n",
       "        [[ 0.0000e+00,  0.0000e+00,  0.0000e+00,  0.0000e+00,  0.0000e+00,\n",
       "           0.0000e+00,  0.0000e+00],\n",
       "         [ 0.0000e+00,  0.0000e+00,  0.0000e+00, -0.0000e+00,  0.0000e+00,\n",
       "           0.0000e+00,  0.0000e+00],\n",
       "         [ 0.0000e+00,  0.0000e+00,  0.0000e+00, -0.0000e+00,  0.0000e+00,\n",
       "           0.0000e+00,  0.0000e+00],\n",
       "         [-0.0000e+00,  0.0000e+00,  0.0000e+00, -0.0000e+00,  0.0000e+00,\n",
       "           0.0000e+00,  0.0000e+00],\n",
       "         [-0.0000e+00,  0.0000e+00,  0.0000e+00, -0.0000e+00,  2.4204e-01,\n",
       "          -5.4132e-02,  0.0000e+00],\n",
       "         [-6.2170e-02,  0.0000e+00,  0.0000e+00, -0.0000e+00,  1.8895e-01,\n",
       "           1.0000e-05,  0.0000e+00],\n",
       "         [ 0.0000e+00,  0.0000e+00,  0.0000e+00, -0.0000e+00,  1.1449e-01,\n",
       "           0.0000e+00,  0.0000e+00]],\n",
       "\n",
       "        [[ 0.0000e+00,  0.0000e+00,  0.0000e+00,  0.0000e+00,  0.0000e+00,\n",
       "           0.0000e+00,  0.0000e+00],\n",
       "         [ 0.0000e+00,  0.0000e+00, -0.0000e+00,  0.0000e+00,  0.0000e+00,\n",
       "           0.0000e+00,  0.0000e+00],\n",
       "         [-0.0000e+00,  0.0000e+00,  0.0000e+00, -0.0000e+00,  0.0000e+00,\n",
       "           0.0000e+00, -0.0000e+00],\n",
       "         [-0.0000e+00,  0.0000e+00,  0.0000e+00, -0.0000e+00,  0.0000e+00,\n",
       "           0.0000e+00,  0.0000e+00],\n",
       "         [-0.0000e+00,  0.0000e+00,  0.0000e+00,  0.0000e+00,  0.0000e+00,\n",
       "           0.0000e+00, -0.0000e+00],\n",
       "         [-0.0000e+00,  0.0000e+00,  0.0000e+00, -0.0000e+00,  1.4414e-01,\n",
       "          -0.0000e+00,  0.0000e+00],\n",
       "         [-0.0000e+00,  1.2893e-01,  0.0000e+00, -9.8593e-02,  6.9412e-02,\n",
       "           0.0000e+00,  0.0000e+00]]], grad_fn=<SelectBackward0>)"
      ]
     },
     "execution_count": 22,
     "metadata": {},
     "output_type": "execute_result"
    }
   ],
   "source": [
    "projected_weight[1]"
   ]
  },
  {
   "cell_type": "code",
   "execution_count": null,
   "id": "4b65124c",
   "metadata": {},
   "outputs": [],
   "source": []
  }
 ],
 "metadata": {
  "kernelspec": {
   "display_name": "Python [conda env:pquant-gpu-env]",
   "language": "python",
   "name": "conda-env-pquant-gpu-env-py"
  },
  "language_info": {
   "codemirror_mode": {
    "name": "ipython",
    "version": 3
   },
   "file_extension": ".py",
   "mimetype": "text/x-python",
   "name": "python",
   "nbconvert_exporter": "python",
   "pygments_lexer": "ipython3",
   "version": "3.10.18"
  }
 },
 "nbformat": 4,
 "nbformat_minor": 5
}
