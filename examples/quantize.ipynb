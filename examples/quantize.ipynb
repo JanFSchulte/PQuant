{
 "cells": [
  {
   "cell_type": "code",
   "execution_count": 1,
   "id": "b6f82152",
   "metadata": {},
   "outputs": [],
   "source": [
    "import numpy as np\n",
    "import matplotlib.pyplot as plt\n",
    "from matplotlib.widgets import Slider"
   ]
  },
  {
   "cell_type": "code",
   "execution_count": 2,
   "id": "ea9fbeaa",
   "metadata": {},
   "outputs": [],
   "source": [
    "\n",
    "def soft_quantize(x, k):\n",
    "    # Have to be same as QKeras\n",
    "    levels = np.array([-1.0, -0.5, 0.0, 0.5])\n",
    "    \n",
    "    x_reshaped = x[:, np.newaxis]      \n",
    "    levels_reshaped = levels[np.newaxis, :]\n",
    "    dist = np.square(x_reshaped - levels_reshaped)\n",
    "    exp_term = np.exp(-k * dist)\n",
    "    weights = exp_term / np.sum(exp_term, axis=1, keepdims=True)\n",
    "    \n",
    "    return np.sum(weights * levels, axis=1)\n"
   ]
  },
  {
   "cell_type": "code",
   "execution_count": null,
   "id": "a8e06294",
   "metadata": {},
   "outputs": [],
   "source": [
    "fig, ax = plt.subplots(figsize=(10, 7))\n",
    "plt.subplots_adjust(bottom=0.25) \n",
    "\n",
    "x_input = np.linspace(-1.5, 1.5, 500)\n",
    "initial_k = 1.0\n",
    "\n",
    "identity_line, = ax.plot(x_input, x_input, 'k--', alpha=0.5, label='Identity (y=x)')\n",
    "soft_quant_line, = ax.plot(x_input, soft_quantize(x_input, initial_k), \n",
    "                           'b-',\n",
    "                           linewidth=2.5, \n",
    "                           label='Soft Quantization (Trainable)')\n",
    "\n",
    "\n",
    "ax.grid(True, linestyle=':')\n",
    "ax.set_xlim(-1.5, 1.5)\n",
    "ax.set_ylim(-1.5, 1.5)\n",
    "ax.axhline(0, color='black', linewidth=0.5)\n",
    "ax.axvline(0, color='black', linewidth=0.5)\n",
    "\n",
    "ax_slider = plt.axes([0.2, 0.1, 0.65, 0.03])\n",
    "k_slider = Slider(\n",
    "    ax=ax_slider,\n",
    "    label='Annealing k',\n",
    "    valmin=0,    # 10^0 = 1\n",
    "    valmax=3,    # 10^3 = 1000\n",
    "    valinit=0,   # Start at 10^0 = 1\n",
    "    color='#007ACC'\n",
    ")\n",
    "\n",
    "def update(val):\n",
    "    k = 10**k_slider.val\n",
    "    new_y = soft_quantize(x_input, k)\n",
    "    soft_quant_line.set_ydata(new_y)\n",
    "    fig.canvas.draw_idle()\n",
    "\n",
    "k_slider.on_changed(update)\n",
    "\n",
    "plt.show()"
   ]
  }
 ],
 "metadata": {
  "kernelspec": {
   "display_name": "Python3 kernel (default)",
   "language": "python",
   "name": "python3"
  },
  "language_info": {
   "codemirror_mode": {
    "name": "ipython",
    "version": 3
   },
   "file_extension": ".py",
   "mimetype": "text/x-python",
   "name": "python",
   "nbconvert_exporter": "python",
   "pygments_lexer": "ipython3",
   "version": "3.10.10"
  }
 },
 "nbformat": 4,
 "nbformat_minor": 5
}
