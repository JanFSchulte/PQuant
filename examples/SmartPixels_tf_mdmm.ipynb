{
 "cells": [
  {
   "cell_type": "code",
   "execution_count": 1,
   "id": "27197caf-85a2-48b7-af76-a5ff943408ca",
   "metadata": {},
   "outputs": [
    {
     "name": "stderr",
     "output_type": "stream",
     "text": [
      "2025-07-12 20:02:28.495870: E external/local_xla/xla/stream_executor/cuda/cuda_fft.cc:467] Unable to register cuFFT factory: Attempting to register factory for plugin cuFFT when one has already been registered\n",
      "WARNING: All log messages before absl::InitializeLog() is called are written to STDERR\n",
      "E0000 00:00:1752343348.513744 4077944 cuda_dnn.cc:8579] Unable to register cuDNN factory: Attempting to register factory for plugin cuDNN when one has already been registered\n",
      "E0000 00:00:1752343348.519301 4077944 cuda_blas.cc:1407] Unable to register cuBLAS factory: Attempting to register factory for plugin cuBLAS when one has already been registered\n",
      "W0000 00:00:1752343348.537270 4077944 computation_placer.cc:177] computation placer already registered. Please check linkage and avoid linking the same target more than once.\n",
      "W0000 00:00:1752343348.537322 4077944 computation_placer.cc:177] computation placer already registered. Please check linkage and avoid linking the same target more than once.\n",
      "W0000 00:00:1752343348.537324 4077944 computation_placer.cc:177] computation placer already registered. Please check linkage and avoid linking the same target more than once.\n",
      "W0000 00:00:1752343348.537326 4077944 computation_placer.cc:177] computation placer already registered. Please check linkage and avoid linking the same target more than once.\n",
      "2025-07-12 20:02:28.542977: I tensorflow/core/platform/cpu_feature_guard.cc:210] This TensorFlow binary is optimized to use available CPU instructions in performance-critical operations.\n",
      "To enable the following instructions: AVX2 FMA, in other operations, rebuild TensorFlow with the appropriate compiler flags.\n"
     ]
    }
   ],
   "source": [
    "import os\n",
    "os.environ[\"KERAS_BACKEND\"] = \"tensorflow\"\n",
    "import keras\n",
    "keras.backend.set_image_data_format(\"channels_last\")\n",
    "import tensorflow as tf\n",
    "\n",
    "import numpy as np\n",
    "import random\n",
    "\n",
    "SEED = 42\n",
    "os.environ['PYTHONHASHSEED'] = str(SEED)\n",
    "random.seed(SEED)\n",
    "np.random.seed(SEED)\n",
    "tf.random.set_seed(SEED)"
   ]
  },
  {
   "cell_type": "code",
   "execution_count": 2,
   "id": "9e520e8e",
   "metadata": {},
   "outputs": [
    {
     "name": "stdout",
     "output_type": "stream",
     "text": [
      "pquant\n",
      "smartpixels\n"
     ]
    }
   ],
   "source": [
    "try:\n",
    "    os.chdir(\"/home/das214/PQuant/mdmm_dev/src\")\n",
    "except:\n",
    "    pass\n",
    "\n",
    "for f in os.listdir(os.getcwd()):\n",
    "    print(f)"
   ]
  },
  {
   "cell_type": "code",
   "execution_count": 3,
   "id": "71c59739",
   "metadata": {},
   "outputs": [
    {
     "name": "stdout",
     "output_type": "stream",
     "text": [
      "train_file_size: 80\n",
      "val_file_size: 20\n"
     ]
    }
   ],
   "source": [
    "dataset_base_dir = \"/depot/cms/users/das214/datasets/dataset_3sr/dataset_3sr_16x16_50x12P5_parquets/contained\"\n",
    "tfrecords_base_dir = os.path.join(dataset_base_dir, \"TFR_files\", \"2t\")\n",
    "\n",
    "dataset_train_dir = os.path.join(dataset_base_dir, \"train\")\n",
    "dataset_test_dir = os.path.join(dataset_base_dir, \"test\")\n",
    "tfrecords_dir_train = os.path.join(tfrecords_base_dir, \"TFR_train\")\n",
    "tfrecords_dir_val   = os.path.join(tfrecords_base_dir, \"TFR_val\")\n",
    "\n",
    "train_file_size = len(os.listdir(dataset_train_dir))\n",
    "val_file_size = len(os.listdir(dataset_test_dir))\n",
    "print(f\"train_file_size: {train_file_size}\\nval_file_size: {val_file_size}\")\n",
    "\n",
    "from smartpixels.DG.OptimizedDataGenerator_v2 import OptimizedDataGenerator\n",
    "from smartpixels.losses.maxNLL import custom_loss\n",
    "from smartpixels.models.conv2D import CreateModel\n"
   ]
  },
  {
   "cell_type": "code",
   "execution_count": 4,
   "id": "141bfb65",
   "metadata": {},
   "outputs": [
    {
     "name": "stderr",
     "output_type": "stream",
     "text": [
      "WARNING:root:Quantization is False in data generator. This may affect model performance.\n"
     ]
    },
    {
     "name": "stdout",
     "output_type": "stream",
     "text": [
      "Loading metadata from /depot/cms/users/das214/datasets/dataset_3sr/dataset_3sr_16x16_50x12P5_parquets/contained/TFR_files/2t/TFR_val/metadata.json\n",
      "Loading metadata from /depot/cms/users/das214/datasets/dataset_3sr/dataset_3sr_16x16_50x12P5_parquets/contained/TFR_files/2t/TFR_train/metadata.json\n"
     ]
    },
    {
     "name": "stderr",
     "output_type": "stream",
     "text": [
      "WARNING:root:Quantization is False in data generator. This may affect model performance.\n"
     ]
    }
   ],
   "source": [
    "val_loader = OptimizedDataGenerator(\n",
    "    load_from_tfrecords_dir= tfrecords_dir_val,\n",
    "    shuffle=True,\n",
    "    seed=SEED,\n",
    "    quantize=False,\n",
    ")\n",
    "\n",
    "train_loader = OptimizedDataGenerator(\n",
    "    load_from_tfrecords_dir = tfrecords_dir_train,\n",
    "    shuffle=True,\n",
    "    seed=SEED,\n",
    "    quantize=False,\n",
    ")\n"
   ]
  },
  {
   "cell_type": "code",
   "execution_count": 5,
   "id": "17959028",
   "metadata": {},
   "outputs": [
    {
     "name": "stderr",
     "output_type": "stream",
     "text": [
      "I0000 00:00:1752343361.690785 4077944 gpu_device.cc:2019] Created device /job:localhost/replica:0/task:0/device:GPU:0 with 38397 MB memory:  -> device: 0, name: NVIDIA A100-PCIE-40GB MIG 7g.40gb, pci bus id: 0000:21:00.0, compute capability: 8.0\n"
     ]
    },
    {
     "data": {
      "text/html": [
       "<pre style=\"white-space:pre;overflow-x:auto;line-height:normal;font-family:Menlo,'DejaVu Sans Mono',consolas,'Courier New',monospace\"><span style=\"font-weight: bold\">Model: \"functional\"</span>\n",
       "</pre>\n"
      ],
      "text/plain": [
       "\u001b[1mModel: \"functional\"\u001b[0m\n"
      ]
     },
     "metadata": {},
     "output_type": "display_data"
    },
    {
     "data": {
      "text/html": [
       "<pre style=\"white-space:pre;overflow-x:auto;line-height:normal;font-family:Menlo,'DejaVu Sans Mono',consolas,'Courier New',monospace\">┏━━━━━━━━━━━━━━━━━━━━━━━━━━━━━━━━━┳━━━━━━━━━━━━━━━━━━━━━━━━┳━━━━━━━━━━━━━━━┓\n",
       "┃<span style=\"font-weight: bold\"> Layer (type)                    </span>┃<span style=\"font-weight: bold\"> Output Shape           </span>┃<span style=\"font-weight: bold\">       Param # </span>┃\n",
       "┡━━━━━━━━━━━━━━━━━━━━━━━━━━━━━━━━━╇━━━━━━━━━━━━━━━━━━━━━━━━╇━━━━━━━━━━━━━━━┩\n",
       "│ input_layer (<span style=\"color: #0087ff; text-decoration-color: #0087ff\">InputLayer</span>)        │ (<span style=\"color: #00d7ff; text-decoration-color: #00d7ff\">None</span>, <span style=\"color: #00af00; text-decoration-color: #00af00\">16</span>, <span style=\"color: #00af00; text-decoration-color: #00af00\">16</span>, <span style=\"color: #00af00; text-decoration-color: #00af00\">2</span>)      │             <span style=\"color: #00af00; text-decoration-color: #00af00\">0</span> │\n",
       "├─────────────────────────────────┼────────────────────────┼───────────────┤\n",
       "│ separable_conv2d                │ (<span style=\"color: #00d7ff; text-decoration-color: #00d7ff\">None</span>, <span style=\"color: #00af00; text-decoration-color: #00af00\">14</span>, <span style=\"color: #00af00; text-decoration-color: #00af00\">14</span>, <span style=\"color: #00af00; text-decoration-color: #00af00\">5</span>)      │            <span style=\"color: #00af00; text-decoration-color: #00af00\">33</span> │\n",
       "│ (<span style=\"color: #0087ff; text-decoration-color: #0087ff\">SeparableConv2D</span>)               │                        │               │\n",
       "├─────────────────────────────────┼────────────────────────┼───────────────┤\n",
       "│ activation (<span style=\"color: #0087ff; text-decoration-color: #0087ff\">Activation</span>)         │ (<span style=\"color: #00d7ff; text-decoration-color: #00d7ff\">None</span>, <span style=\"color: #00af00; text-decoration-color: #00af00\">14</span>, <span style=\"color: #00af00; text-decoration-color: #00af00\">14</span>, <span style=\"color: #00af00; text-decoration-color: #00af00\">5</span>)      │             <span style=\"color: #00af00; text-decoration-color: #00af00\">0</span> │\n",
       "├─────────────────────────────────┼────────────────────────┼───────────────┤\n",
       "│ conv2d (<span style=\"color: #0087ff; text-decoration-color: #0087ff\">Conv2D</span>)                 │ (<span style=\"color: #00d7ff; text-decoration-color: #00d7ff\">None</span>, <span style=\"color: #00af00; text-decoration-color: #00af00\">14</span>, <span style=\"color: #00af00; text-decoration-color: #00af00\">14</span>, <span style=\"color: #00af00; text-decoration-color: #00af00\">5</span>)      │            <span style=\"color: #00af00; text-decoration-color: #00af00\">30</span> │\n",
       "├─────────────────────────────────┼────────────────────────┼───────────────┤\n",
       "│ activation_1 (<span style=\"color: #0087ff; text-decoration-color: #0087ff\">Activation</span>)       │ (<span style=\"color: #00d7ff; text-decoration-color: #00d7ff\">None</span>, <span style=\"color: #00af00; text-decoration-color: #00af00\">14</span>, <span style=\"color: #00af00; text-decoration-color: #00af00\">14</span>, <span style=\"color: #00af00; text-decoration-color: #00af00\">5</span>)      │             <span style=\"color: #00af00; text-decoration-color: #00af00\">0</span> │\n",
       "├─────────────────────────────────┼────────────────────────┼───────────────┤\n",
       "│ average_pooling2d               │ (<span style=\"color: #00d7ff; text-decoration-color: #00d7ff\">None</span>, <span style=\"color: #00af00; text-decoration-color: #00af00\">4</span>, <span style=\"color: #00af00; text-decoration-color: #00af00\">4</span>, <span style=\"color: #00af00; text-decoration-color: #00af00\">5</span>)        │             <span style=\"color: #00af00; text-decoration-color: #00af00\">0</span> │\n",
       "│ (<span style=\"color: #0087ff; text-decoration-color: #0087ff\">AveragePooling2D</span>)              │                        │               │\n",
       "├─────────────────────────────────┼────────────────────────┼───────────────┤\n",
       "│ activation_2 (<span style=\"color: #0087ff; text-decoration-color: #0087ff\">Activation</span>)       │ (<span style=\"color: #00d7ff; text-decoration-color: #00d7ff\">None</span>, <span style=\"color: #00af00; text-decoration-color: #00af00\">4</span>, <span style=\"color: #00af00; text-decoration-color: #00af00\">4</span>, <span style=\"color: #00af00; text-decoration-color: #00af00\">5</span>)        │             <span style=\"color: #00af00; text-decoration-color: #00af00\">0</span> │\n",
       "├─────────────────────────────────┼────────────────────────┼───────────────┤\n",
       "│ flatten (<span style=\"color: #0087ff; text-decoration-color: #0087ff\">Flatten</span>)               │ (<span style=\"color: #00d7ff; text-decoration-color: #00d7ff\">None</span>, <span style=\"color: #00af00; text-decoration-color: #00af00\">80</span>)             │             <span style=\"color: #00af00; text-decoration-color: #00af00\">0</span> │\n",
       "├─────────────────────────────────┼────────────────────────┼───────────────┤\n",
       "│ dense (<span style=\"color: #0087ff; text-decoration-color: #0087ff\">Dense</span>)                   │ (<span style=\"color: #00d7ff; text-decoration-color: #00d7ff\">None</span>, <span style=\"color: #00af00; text-decoration-color: #00af00\">16</span>)             │         <span style=\"color: #00af00; text-decoration-color: #00af00\">1,296</span> │\n",
       "├─────────────────────────────────┼────────────────────────┼───────────────┤\n",
       "│ activation_3 (<span style=\"color: #0087ff; text-decoration-color: #0087ff\">Activation</span>)       │ (<span style=\"color: #00d7ff; text-decoration-color: #00d7ff\">None</span>, <span style=\"color: #00af00; text-decoration-color: #00af00\">16</span>)             │             <span style=\"color: #00af00; text-decoration-color: #00af00\">0</span> │\n",
       "├─────────────────────────────────┼────────────────────────┼───────────────┤\n",
       "│ dense_1 (<span style=\"color: #0087ff; text-decoration-color: #0087ff\">Dense</span>)                 │ (<span style=\"color: #00d7ff; text-decoration-color: #00d7ff\">None</span>, <span style=\"color: #00af00; text-decoration-color: #00af00\">16</span>)             │           <span style=\"color: #00af00; text-decoration-color: #00af00\">272</span> │\n",
       "├─────────────────────────────────┼────────────────────────┼───────────────┤\n",
       "│ activation_4 (<span style=\"color: #0087ff; text-decoration-color: #0087ff\">Activation</span>)       │ (<span style=\"color: #00d7ff; text-decoration-color: #00d7ff\">None</span>, <span style=\"color: #00af00; text-decoration-color: #00af00\">16</span>)             │             <span style=\"color: #00af00; text-decoration-color: #00af00\">0</span> │\n",
       "├─────────────────────────────────┼────────────────────────┼───────────────┤\n",
       "│ dense_2 (<span style=\"color: #0087ff; text-decoration-color: #0087ff\">Dense</span>)                 │ (<span style=\"color: #00d7ff; text-decoration-color: #00d7ff\">None</span>, <span style=\"color: #00af00; text-decoration-color: #00af00\">14</span>)             │           <span style=\"color: #00af00; text-decoration-color: #00af00\">238</span> │\n",
       "└─────────────────────────────────┴────────────────────────┴───────────────┘\n",
       "</pre>\n"
      ],
      "text/plain": [
       "┏━━━━━━━━━━━━━━━━━━━━━━━━━━━━━━━━━┳━━━━━━━━━━━━━━━━━━━━━━━━┳━━━━━━━━━━━━━━━┓\n",
       "┃\u001b[1m \u001b[0m\u001b[1mLayer (type)                   \u001b[0m\u001b[1m \u001b[0m┃\u001b[1m \u001b[0m\u001b[1mOutput Shape          \u001b[0m\u001b[1m \u001b[0m┃\u001b[1m \u001b[0m\u001b[1m      Param #\u001b[0m\u001b[1m \u001b[0m┃\n",
       "┡━━━━━━━━━━━━━━━━━━━━━━━━━━━━━━━━━╇━━━━━━━━━━━━━━━━━━━━━━━━╇━━━━━━━━━━━━━━━┩\n",
       "│ input_layer (\u001b[38;5;33mInputLayer\u001b[0m)        │ (\u001b[38;5;45mNone\u001b[0m, \u001b[38;5;34m16\u001b[0m, \u001b[38;5;34m16\u001b[0m, \u001b[38;5;34m2\u001b[0m)      │             \u001b[38;5;34m0\u001b[0m │\n",
       "├─────────────────────────────────┼────────────────────────┼───────────────┤\n",
       "│ separable_conv2d                │ (\u001b[38;5;45mNone\u001b[0m, \u001b[38;5;34m14\u001b[0m, \u001b[38;5;34m14\u001b[0m, \u001b[38;5;34m5\u001b[0m)      │            \u001b[38;5;34m33\u001b[0m │\n",
       "│ (\u001b[38;5;33mSeparableConv2D\u001b[0m)               │                        │               │\n",
       "├─────────────────────────────────┼────────────────────────┼───────────────┤\n",
       "│ activation (\u001b[38;5;33mActivation\u001b[0m)         │ (\u001b[38;5;45mNone\u001b[0m, \u001b[38;5;34m14\u001b[0m, \u001b[38;5;34m14\u001b[0m, \u001b[38;5;34m5\u001b[0m)      │             \u001b[38;5;34m0\u001b[0m │\n",
       "├─────────────────────────────────┼────────────────────────┼───────────────┤\n",
       "│ conv2d (\u001b[38;5;33mConv2D\u001b[0m)                 │ (\u001b[38;5;45mNone\u001b[0m, \u001b[38;5;34m14\u001b[0m, \u001b[38;5;34m14\u001b[0m, \u001b[38;5;34m5\u001b[0m)      │            \u001b[38;5;34m30\u001b[0m │\n",
       "├─────────────────────────────────┼────────────────────────┼───────────────┤\n",
       "│ activation_1 (\u001b[38;5;33mActivation\u001b[0m)       │ (\u001b[38;5;45mNone\u001b[0m, \u001b[38;5;34m14\u001b[0m, \u001b[38;5;34m14\u001b[0m, \u001b[38;5;34m5\u001b[0m)      │             \u001b[38;5;34m0\u001b[0m │\n",
       "├─────────────────────────────────┼────────────────────────┼───────────────┤\n",
       "│ average_pooling2d               │ (\u001b[38;5;45mNone\u001b[0m, \u001b[38;5;34m4\u001b[0m, \u001b[38;5;34m4\u001b[0m, \u001b[38;5;34m5\u001b[0m)        │             \u001b[38;5;34m0\u001b[0m │\n",
       "│ (\u001b[38;5;33mAveragePooling2D\u001b[0m)              │                        │               │\n",
       "├─────────────────────────────────┼────────────────────────┼───────────────┤\n",
       "│ activation_2 (\u001b[38;5;33mActivation\u001b[0m)       │ (\u001b[38;5;45mNone\u001b[0m, \u001b[38;5;34m4\u001b[0m, \u001b[38;5;34m4\u001b[0m, \u001b[38;5;34m5\u001b[0m)        │             \u001b[38;5;34m0\u001b[0m │\n",
       "├─────────────────────────────────┼────────────────────────┼───────────────┤\n",
       "│ flatten (\u001b[38;5;33mFlatten\u001b[0m)               │ (\u001b[38;5;45mNone\u001b[0m, \u001b[38;5;34m80\u001b[0m)             │             \u001b[38;5;34m0\u001b[0m │\n",
       "├─────────────────────────────────┼────────────────────────┼───────────────┤\n",
       "│ dense (\u001b[38;5;33mDense\u001b[0m)                   │ (\u001b[38;5;45mNone\u001b[0m, \u001b[38;5;34m16\u001b[0m)             │         \u001b[38;5;34m1,296\u001b[0m │\n",
       "├─────────────────────────────────┼────────────────────────┼───────────────┤\n",
       "│ activation_3 (\u001b[38;5;33mActivation\u001b[0m)       │ (\u001b[38;5;45mNone\u001b[0m, \u001b[38;5;34m16\u001b[0m)             │             \u001b[38;5;34m0\u001b[0m │\n",
       "├─────────────────────────────────┼────────────────────────┼───────────────┤\n",
       "│ dense_1 (\u001b[38;5;33mDense\u001b[0m)                 │ (\u001b[38;5;45mNone\u001b[0m, \u001b[38;5;34m16\u001b[0m)             │           \u001b[38;5;34m272\u001b[0m │\n",
       "├─────────────────────────────────┼────────────────────────┼───────────────┤\n",
       "│ activation_4 (\u001b[38;5;33mActivation\u001b[0m)       │ (\u001b[38;5;45mNone\u001b[0m, \u001b[38;5;34m16\u001b[0m)             │             \u001b[38;5;34m0\u001b[0m │\n",
       "├─────────────────────────────────┼────────────────────────┼───────────────┤\n",
       "│ dense_2 (\u001b[38;5;33mDense\u001b[0m)                 │ (\u001b[38;5;45mNone\u001b[0m, \u001b[38;5;34m14\u001b[0m)             │           \u001b[38;5;34m238\u001b[0m │\n",
       "└─────────────────────────────────┴────────────────────────┴───────────────┘\n"
      ]
     },
     "metadata": {},
     "output_type": "display_data"
    },
    {
     "data": {
      "text/html": [
       "<pre style=\"white-space:pre;overflow-x:auto;line-height:normal;font-family:Menlo,'DejaVu Sans Mono',consolas,'Courier New',monospace\"><span style=\"font-weight: bold\"> Total params: </span><span style=\"color: #00af00; text-decoration-color: #00af00\">1,869</span> (7.30 KB)\n",
       "</pre>\n"
      ],
      "text/plain": [
       "\u001b[1m Total params: \u001b[0m\u001b[38;5;34m1,869\u001b[0m (7.30 KB)\n"
      ]
     },
     "metadata": {},
     "output_type": "display_data"
    },
    {
     "data": {
      "text/html": [
       "<pre style=\"white-space:pre;overflow-x:auto;line-height:normal;font-family:Menlo,'DejaVu Sans Mono',consolas,'Courier New',monospace\"><span style=\"font-weight: bold\"> Trainable params: </span><span style=\"color: #00af00; text-decoration-color: #00af00\">1,869</span> (7.30 KB)\n",
       "</pre>\n"
      ],
      "text/plain": [
       "\u001b[1m Trainable params: \u001b[0m\u001b[38;5;34m1,869\u001b[0m (7.30 KB)\n"
      ]
     },
     "metadata": {},
     "output_type": "display_data"
    },
    {
     "data": {
      "text/html": [
       "<pre style=\"white-space:pre;overflow-x:auto;line-height:normal;font-family:Menlo,'DejaVu Sans Mono',consolas,'Courier New',monospace\"><span style=\"font-weight: bold\"> Non-trainable params: </span><span style=\"color: #00af00; text-decoration-color: #00af00\">0</span> (0.00 B)\n",
       "</pre>\n"
      ],
      "text/plain": [
       "\u001b[1m Non-trainable params: \u001b[0m\u001b[38;5;34m0\u001b[0m (0.00 B)\n"
      ]
     },
     "metadata": {},
     "output_type": "display_data"
    }
   ],
   "source": [
    "model=CreateModel(shape = (16,16,2), \n",
    "                  n_filters=5, SepConv2D_kernel_size=3, \n",
    "                  Conv2D_kernel_size=1,\n",
    "                  pool_size=3, \n",
    "                  hidden=16,\n",
    "                  output = 14)\n",
    "\n",
    "model.summary()"
   ]
  },
  {
   "cell_type": "code",
   "execution_count": 6,
   "id": "69dccb36",
   "metadata": {},
   "outputs": [],
   "source": [
    "# model.compile(\n",
    "#     optimizer=tf.keras.optimizers.Nadam(learning_rate=1e-3),\n",
    "#     loss=custom_loss,\n",
    "# )\n",
    "# history = model.fit(\n",
    "#         x=train_loader,\n",
    "#         validation_data=val_loader,\n",
    "#         epochs=5,\n",
    "#         shuffle=False,\n",
    "#         verbose=1\n",
    "#     )"
   ]
  },
  {
   "cell_type": "markdown",
   "id": "54cd71c9-86b2-4911-aa71-bd18b1e75aa1",
   "metadata": {},
   "source": [
    "## Add pruning and quantization\n",
    "To add pruning and quantization, we need a config file that defines how to do that. Let's load a config file from `pquant/configs/`. <br/>\n",
    "The training function we use later will add the pruning layers and quantized activations automatically using this config"
   ]
  },
  {
   "cell_type": "code",
   "execution_count": 7,
   "id": "0ec145f1-502c-4fd0-84ed-e87b84a27374",
   "metadata": {},
   "outputs": [
    {
     "data": {
      "application/json": {
       "batch_size": 128,
       "cosine_tmax": 200,
       "gamma": 0.1,
       "l2_decay": 0.0001,
       "label_smoothing": 0,
       "lr": 0.001,
       "lr_schedule": "multistep",
       "milestones": [
        75,
        120
       ],
       "momentum": 0.9,
       "optimizer": "sgd",
       "plot_frequency": 100,
       "pruning_parameters": {
        "constraint_type": "Equality",
        "damping": 1,
        "disable_pruning_for_layers": [
         null
        ],
        "enable_pruning": true,
        "epsilon": 0.001,
        "l0_mode": "coarse",
        "metric_type": "UnstructuredSparsity",
        "pruning_method": "mdmm",
        "rf": 1,
        "scale": 1,
        "target_sparsity": 0.9,
        "target_value": 0,
        "use_grad": false
       },
       "quantization_parameters": {
        "default_fractional_bits": 7,
        "default_integer_bits": 0,
        "enable_quantization": false,
        "hgq_gamma": 0.0003,
        "hgq_heterogeneous": true,
        "layer_specific": [],
        "use_high_granularity_quantization": false,
        "use_real_tanh": false,
        "use_symmetric_quantization": false
       },
       "training_parameters": {
        "epochs": 200,
        "fine_tuning_epochs": 30,
        "pretraining_epochs": 0,
        "pruning_first": false,
        "rewind": "never",
        "rounds": 1,
        "save_weights_epoch": -1
       }
      },
      "text/plain": [
       "<IPython.core.display.JSON object>"
      ]
     },
     "execution_count": 7,
     "metadata": {
      "application/json": {
       "expanded": false,
       "root": "root"
      }
     },
     "output_type": "execute_result"
    }
   ],
   "source": [
    "from pquant import get_default_config\n",
    "from IPython.display import JSON\n",
    "\n",
    "# pruning_methods: \"autosparse, cl, cs, dst, pdp, wanda, mdmm\"\n",
    "pruning_method = \"mdmm\"\n",
    "config = get_default_config(pruning_method)\n",
    "JSON(config)"
   ]
  },
  {
   "cell_type": "code",
   "execution_count": 8,
   "id": "d3ef3115-2f3d-43e1-a199-4a19d667f796",
   "metadata": {},
   "outputs": [
    {
     "data": {
      "text/html": [
       "<pre style=\"white-space:pre;overflow-x:auto;line-height:normal;font-family:Menlo,'DejaVu Sans Mono',consolas,'Courier New',monospace\"><span style=\"font-weight: bold\">Model: \"functional_1\"</span>\n",
       "</pre>\n"
      ],
      "text/plain": [
       "\u001b[1mModel: \"functional_1\"\u001b[0m\n"
      ]
     },
     "metadata": {},
     "output_type": "display_data"
    },
    {
     "data": {
      "text/html": [
       "<pre style=\"white-space:pre;overflow-x:auto;line-height:normal;font-family:Menlo,'DejaVu Sans Mono',consolas,'Courier New',monospace\">┏━━━━━━━━━━━━━━━━━━━━━━━━━━━━━━━━━┳━━━━━━━━━━━━━━━━━━━━━━━━┳━━━━━━━━━━━━━━━┓\n",
       "┃<span style=\"font-weight: bold\"> Layer (type)                    </span>┃<span style=\"font-weight: bold\"> Output Shape           </span>┃<span style=\"font-weight: bold\">       Param # </span>┃\n",
       "┡━━━━━━━━━━━━━━━━━━━━━━━━━━━━━━━━━╇━━━━━━━━━━━━━━━━━━━━━━━━╇━━━━━━━━━━━━━━━┩\n",
       "│ input_layer (<span style=\"color: #0087ff; text-decoration-color: #0087ff\">InputLayer</span>)        │ (<span style=\"color: #00d7ff; text-decoration-color: #00d7ff\">None</span>, <span style=\"color: #00af00; text-decoration-color: #00af00\">16</span>, <span style=\"color: #00af00; text-decoration-color: #00af00\">16</span>, <span style=\"color: #00af00; text-decoration-color: #00af00\">2</span>)      │             <span style=\"color: #00af00; text-decoration-color: #00af00\">0</span> │\n",
       "├─────────────────────────────────┼────────────────────────┼───────────────┤\n",
       "│ compressed_layer_separable_con… │ (<span style=\"color: #00d7ff; text-decoration-color: #00d7ff\">None</span>, <span style=\"color: #00af00; text-decoration-color: #00af00\">14</span>, <span style=\"color: #00af00; text-decoration-color: #00af00\">14</span>, <span style=\"color: #00af00; text-decoration-color: #00af00\">5</span>)      │            <span style=\"color: #00af00; text-decoration-color: #00af00\">41</span> │\n",
       "│ (<span style=\"color: #0087ff; text-decoration-color: #0087ff\">CompressedLayerSeparableConv2…</span> │                        │               │\n",
       "├─────────────────────────────────┼────────────────────────┼───────────────┤\n",
       "│ activation_5 (<span style=\"color: #0087ff; text-decoration-color: #0087ff\">Activation</span>)       │ (<span style=\"color: #00d7ff; text-decoration-color: #00d7ff\">None</span>, <span style=\"color: #00af00; text-decoration-color: #00af00\">14</span>, <span style=\"color: #00af00; text-decoration-color: #00af00\">14</span>, <span style=\"color: #00af00; text-decoration-color: #00af00\">5</span>)      │             <span style=\"color: #00af00; text-decoration-color: #00af00\">0</span> │\n",
       "├─────────────────────────────────┼────────────────────────┼───────────────┤\n",
       "│ compressed_layer_conv2d_keras_1 │ (<span style=\"color: #00d7ff; text-decoration-color: #00d7ff\">None</span>, <span style=\"color: #00af00; text-decoration-color: #00af00\">14</span>, <span style=\"color: #00af00; text-decoration-color: #00af00\">14</span>, <span style=\"color: #00af00; text-decoration-color: #00af00\">5</span>)      │            <span style=\"color: #00af00; text-decoration-color: #00af00\">34</span> │\n",
       "│ (<span style=\"color: #0087ff; text-decoration-color: #0087ff\">CompressedLayerConv2dKeras</span>)    │                        │               │\n",
       "├─────────────────────────────────┼────────────────────────┼───────────────┤\n",
       "│ activation_6 (<span style=\"color: #0087ff; text-decoration-color: #0087ff\">Activation</span>)       │ (<span style=\"color: #00d7ff; text-decoration-color: #00d7ff\">None</span>, <span style=\"color: #00af00; text-decoration-color: #00af00\">14</span>, <span style=\"color: #00af00; text-decoration-color: #00af00\">14</span>, <span style=\"color: #00af00; text-decoration-color: #00af00\">5</span>)      │             <span style=\"color: #00af00; text-decoration-color: #00af00\">0</span> │\n",
       "├─────────────────────────────────┼────────────────────────┼───────────────┤\n",
       "│ average_pooling2d               │ (<span style=\"color: #00d7ff; text-decoration-color: #00d7ff\">None</span>, <span style=\"color: #00af00; text-decoration-color: #00af00\">4</span>, <span style=\"color: #00af00; text-decoration-color: #00af00\">4</span>, <span style=\"color: #00af00; text-decoration-color: #00af00\">5</span>)        │             <span style=\"color: #00af00; text-decoration-color: #00af00\">0</span> │\n",
       "│ (<span style=\"color: #0087ff; text-decoration-color: #0087ff\">AveragePooling2D</span>)              │                        │               │\n",
       "├─────────────────────────────────┼────────────────────────┼───────────────┤\n",
       "│ activation_7 (<span style=\"color: #0087ff; text-decoration-color: #0087ff\">Activation</span>)       │ (<span style=\"color: #00d7ff; text-decoration-color: #00d7ff\">None</span>, <span style=\"color: #00af00; text-decoration-color: #00af00\">4</span>, <span style=\"color: #00af00; text-decoration-color: #00af00\">4</span>, <span style=\"color: #00af00; text-decoration-color: #00af00\">5</span>)        │             <span style=\"color: #00af00; text-decoration-color: #00af00\">0</span> │\n",
       "├─────────────────────────────────┼────────────────────────┼───────────────┤\n",
       "│ flatten (<span style=\"color: #0087ff; text-decoration-color: #0087ff\">Flatten</span>)               │ (<span style=\"color: #00d7ff; text-decoration-color: #00d7ff\">None</span>, <span style=\"color: #00af00; text-decoration-color: #00af00\">80</span>)             │             <span style=\"color: #00af00; text-decoration-color: #00af00\">0</span> │\n",
       "├─────────────────────────────────┼────────────────────────┼───────────────┤\n",
       "│ compressed_layer_dense_keras    │ (<span style=\"color: #00d7ff; text-decoration-color: #00d7ff\">None</span>, <span style=\"color: #00af00; text-decoration-color: #00af00\">16</span>)             │         <span style=\"color: #00af00; text-decoration-color: #00af00\">1,300</span> │\n",
       "│ (<span style=\"color: #0087ff; text-decoration-color: #0087ff\">CompressedLayerDenseKeras</span>)     │                        │               │\n",
       "├─────────────────────────────────┼────────────────────────┼───────────────┤\n",
       "│ activation_8 (<span style=\"color: #0087ff; text-decoration-color: #0087ff\">Activation</span>)       │ (<span style=\"color: #00d7ff; text-decoration-color: #00d7ff\">None</span>, <span style=\"color: #00af00; text-decoration-color: #00af00\">16</span>)             │             <span style=\"color: #00af00; text-decoration-color: #00af00\">0</span> │\n",
       "├─────────────────────────────────┼────────────────────────┼───────────────┤\n",
       "│ compressed_layer_dense_keras_1  │ (<span style=\"color: #00d7ff; text-decoration-color: #00d7ff\">None</span>, <span style=\"color: #00af00; text-decoration-color: #00af00\">16</span>)             │           <span style=\"color: #00af00; text-decoration-color: #00af00\">276</span> │\n",
       "│ (<span style=\"color: #0087ff; text-decoration-color: #0087ff\">CompressedLayerDenseKeras</span>)     │                        │               │\n",
       "├─────────────────────────────────┼────────────────────────┼───────────────┤\n",
       "│ activation_9 (<span style=\"color: #0087ff; text-decoration-color: #0087ff\">Activation</span>)       │ (<span style=\"color: #00d7ff; text-decoration-color: #00d7ff\">None</span>, <span style=\"color: #00af00; text-decoration-color: #00af00\">16</span>)             │             <span style=\"color: #00af00; text-decoration-color: #00af00\">0</span> │\n",
       "├─────────────────────────────────┼────────────────────────┼───────────────┤\n",
       "│ compressed_layer_dense_keras_2  │ (<span style=\"color: #00d7ff; text-decoration-color: #00d7ff\">None</span>, <span style=\"color: #00af00; text-decoration-color: #00af00\">14</span>)             │           <span style=\"color: #00af00; text-decoration-color: #00af00\">242</span> │\n",
       "│ (<span style=\"color: #0087ff; text-decoration-color: #0087ff\">CompressedLayerDenseKeras</span>)     │                        │               │\n",
       "└─────────────────────────────────┴────────────────────────┴───────────────┘\n",
       "</pre>\n"
      ],
      "text/plain": [
       "┏━━━━━━━━━━━━━━━━━━━━━━━━━━━━━━━━━┳━━━━━━━━━━━━━━━━━━━━━━━━┳━━━━━━━━━━━━━━━┓\n",
       "┃\u001b[1m \u001b[0m\u001b[1mLayer (type)                   \u001b[0m\u001b[1m \u001b[0m┃\u001b[1m \u001b[0m\u001b[1mOutput Shape          \u001b[0m\u001b[1m \u001b[0m┃\u001b[1m \u001b[0m\u001b[1m      Param #\u001b[0m\u001b[1m \u001b[0m┃\n",
       "┡━━━━━━━━━━━━━━━━━━━━━━━━━━━━━━━━━╇━━━━━━━━━━━━━━━━━━━━━━━━╇━━━━━━━━━━━━━━━┩\n",
       "│ input_layer (\u001b[38;5;33mInputLayer\u001b[0m)        │ (\u001b[38;5;45mNone\u001b[0m, \u001b[38;5;34m16\u001b[0m, \u001b[38;5;34m16\u001b[0m, \u001b[38;5;34m2\u001b[0m)      │             \u001b[38;5;34m0\u001b[0m │\n",
       "├─────────────────────────────────┼────────────────────────┼───────────────┤\n",
       "│ compressed_layer_separable_con… │ (\u001b[38;5;45mNone\u001b[0m, \u001b[38;5;34m14\u001b[0m, \u001b[38;5;34m14\u001b[0m, \u001b[38;5;34m5\u001b[0m)      │            \u001b[38;5;34m41\u001b[0m │\n",
       "│ (\u001b[38;5;33mCompressedLayerSeparableConv2…\u001b[0m │                        │               │\n",
       "├─────────────────────────────────┼────────────────────────┼───────────────┤\n",
       "│ activation_5 (\u001b[38;5;33mActivation\u001b[0m)       │ (\u001b[38;5;45mNone\u001b[0m, \u001b[38;5;34m14\u001b[0m, \u001b[38;5;34m14\u001b[0m, \u001b[38;5;34m5\u001b[0m)      │             \u001b[38;5;34m0\u001b[0m │\n",
       "├─────────────────────────────────┼────────────────────────┼───────────────┤\n",
       "│ compressed_layer_conv2d_keras_1 │ (\u001b[38;5;45mNone\u001b[0m, \u001b[38;5;34m14\u001b[0m, \u001b[38;5;34m14\u001b[0m, \u001b[38;5;34m5\u001b[0m)      │            \u001b[38;5;34m34\u001b[0m │\n",
       "│ (\u001b[38;5;33mCompressedLayerConv2dKeras\u001b[0m)    │                        │               │\n",
       "├─────────────────────────────────┼────────────────────────┼───────────────┤\n",
       "│ activation_6 (\u001b[38;5;33mActivation\u001b[0m)       │ (\u001b[38;5;45mNone\u001b[0m, \u001b[38;5;34m14\u001b[0m, \u001b[38;5;34m14\u001b[0m, \u001b[38;5;34m5\u001b[0m)      │             \u001b[38;5;34m0\u001b[0m │\n",
       "├─────────────────────────────────┼────────────────────────┼───────────────┤\n",
       "│ average_pooling2d               │ (\u001b[38;5;45mNone\u001b[0m, \u001b[38;5;34m4\u001b[0m, \u001b[38;5;34m4\u001b[0m, \u001b[38;5;34m5\u001b[0m)        │             \u001b[38;5;34m0\u001b[0m │\n",
       "│ (\u001b[38;5;33mAveragePooling2D\u001b[0m)              │                        │               │\n",
       "├─────────────────────────────────┼────────────────────────┼───────────────┤\n",
       "│ activation_7 (\u001b[38;5;33mActivation\u001b[0m)       │ (\u001b[38;5;45mNone\u001b[0m, \u001b[38;5;34m4\u001b[0m, \u001b[38;5;34m4\u001b[0m, \u001b[38;5;34m5\u001b[0m)        │             \u001b[38;5;34m0\u001b[0m │\n",
       "├─────────────────────────────────┼────────────────────────┼───────────────┤\n",
       "│ flatten (\u001b[38;5;33mFlatten\u001b[0m)               │ (\u001b[38;5;45mNone\u001b[0m, \u001b[38;5;34m80\u001b[0m)             │             \u001b[38;5;34m0\u001b[0m │\n",
       "├─────────────────────────────────┼────────────────────────┼───────────────┤\n",
       "│ compressed_layer_dense_keras    │ (\u001b[38;5;45mNone\u001b[0m, \u001b[38;5;34m16\u001b[0m)             │         \u001b[38;5;34m1,300\u001b[0m │\n",
       "│ (\u001b[38;5;33mCompressedLayerDenseKeras\u001b[0m)     │                        │               │\n",
       "├─────────────────────────────────┼────────────────────────┼───────────────┤\n",
       "│ activation_8 (\u001b[38;5;33mActivation\u001b[0m)       │ (\u001b[38;5;45mNone\u001b[0m, \u001b[38;5;34m16\u001b[0m)             │             \u001b[38;5;34m0\u001b[0m │\n",
       "├─────────────────────────────────┼────────────────────────┼───────────────┤\n",
       "│ compressed_layer_dense_keras_1  │ (\u001b[38;5;45mNone\u001b[0m, \u001b[38;5;34m16\u001b[0m)             │           \u001b[38;5;34m276\u001b[0m │\n",
       "│ (\u001b[38;5;33mCompressedLayerDenseKeras\u001b[0m)     │                        │               │\n",
       "├─────────────────────────────────┼────────────────────────┼───────────────┤\n",
       "│ activation_9 (\u001b[38;5;33mActivation\u001b[0m)       │ (\u001b[38;5;45mNone\u001b[0m, \u001b[38;5;34m16\u001b[0m)             │             \u001b[38;5;34m0\u001b[0m │\n",
       "├─────────────────────────────────┼────────────────────────┼───────────────┤\n",
       "│ compressed_layer_dense_keras_2  │ (\u001b[38;5;45mNone\u001b[0m, \u001b[38;5;34m14\u001b[0m)             │           \u001b[38;5;34m242\u001b[0m │\n",
       "│ (\u001b[38;5;33mCompressedLayerDenseKeras\u001b[0m)     │                        │               │\n",
       "└─────────────────────────────────┴────────────────────────┴───────────────┘\n"
      ]
     },
     "metadata": {},
     "output_type": "display_data"
    },
    {
     "data": {
      "text/html": [
       "<pre style=\"white-space:pre;overflow-x:auto;line-height:normal;font-family:Menlo,'DejaVu Sans Mono',consolas,'Courier New',monospace\"><span style=\"font-weight: bold\"> Total params: </span><span style=\"color: #00af00; text-decoration-color: #00af00\">1,893</span> (7.39 KB)\n",
       "</pre>\n"
      ],
      "text/plain": [
       "\u001b[1m Total params: \u001b[0m\u001b[38;5;34m1,893\u001b[0m (7.39 KB)\n"
      ]
     },
     "metadata": {},
     "output_type": "display_data"
    },
    {
     "data": {
      "text/html": [
       "<pre style=\"white-space:pre;overflow-x:auto;line-height:normal;font-family:Menlo,'DejaVu Sans Mono',consolas,'Courier New',monospace\"><span style=\"font-weight: bold\"> Trainable params: </span><span style=\"color: #00af00; text-decoration-color: #00af00\">1,869</span> (7.30 KB)\n",
       "</pre>\n"
      ],
      "text/plain": [
       "\u001b[1m Trainable params: \u001b[0m\u001b[38;5;34m1,869\u001b[0m (7.30 KB)\n"
      ]
     },
     "metadata": {},
     "output_type": "display_data"
    },
    {
     "data": {
      "text/html": [
       "<pre style=\"white-space:pre;overflow-x:auto;line-height:normal;font-family:Menlo,'DejaVu Sans Mono',consolas,'Courier New',monospace\"><span style=\"font-weight: bold\"> Non-trainable params: </span><span style=\"color: #00af00; text-decoration-color: #00af00\">24</span> (96.00 B)\n",
       "</pre>\n"
      ],
      "text/plain": [
       "\u001b[1m Non-trainable params: \u001b[0m\u001b[38;5;34m24\u001b[0m (96.00 B)\n"
      ]
     },
     "metadata": {},
     "output_type": "display_data"
    }
   ],
   "source": [
    "# Replace layers with compressed layers\n",
    "from pquant import add_compression_layers\n",
    "input_shape = (1, 16, 16, 2)\n",
    "\n",
    "model = add_compression_layers(model, config, input_shape)\n",
    "model.summary()"
   ]
  },
  {
   "cell_type": "markdown",
   "id": "251515c3-00ac-4110-b8d8-a8c9100f6e6b",
   "metadata": {},
   "source": [
    "## Create data set\n",
    "#### Let's create the data loader and the training and validation loops"
   ]
  },
  {
   "cell_type": "code",
   "execution_count": 9,
   "id": "c5915162",
   "metadata": {},
   "outputs": [],
   "source": [
    "from quantizers.fixed_point.fixed_point_ops import get_fixed_quantizer\n",
    "# Set up input quantizer\n",
    "quantizer = get_fixed_quantizer(overflow_mode=\"SAT\")\n",
    "\n",
    "from tqdm import tqdm\n",
    "from pquant import get_layer_keep_ratio, get_model_losses\n",
    "import re\n",
    "\n",
    "def get_lambda_values(model):\n",
    "    \"\"\"Extracts lambda values with clean, descriptive keys for the progress bar.\"\"\"\n",
    "    lambda_info = {}\n",
    "    # Use counters for each layer type to ensure unique, short keys\n",
    "    counters = {'conv2d': 1, 'dense': 1, 'other': 1}\n",
    "\n",
    "    for layer in model.layers:\n",
    "        if \"CompressedLayer\" in layer.__class__.__name__ and hasattr(layer, 'pruning_layer'):\n",
    "            pruning_layer = layer.pruning_layer\n",
    "            if hasattr(pruning_layer, 'constraint_layer') and hasattr(pruning_layer.constraint_layer, 'lmbda'):\n",
    "                layer_name = layer.name.lower()\n",
    "                \n",
    "                # Assign a clean, short key based on the layer type\n",
    "                if 'conv2d' in layer_name:\n",
    "                    key = f\"λc2D{counters['conv2d']}\"\n",
    "                    counters['conv2d'] += 1\n",
    "                elif 'dense' in layer_name:\n",
    "                    key = f\"λd{counters['dense']}\"\n",
    "                    counters['dense'] += 1\n",
    "                else:\n",
    "                    key = f\"λo{counters['other']}\"\n",
    "                    counters['other'] += 1\n",
    "                \n",
    "                # Format the lambda value\n",
    "                lambda_info[key] = f\"{pruning_layer.constraint_layer.lmbda.numpy():.2f}\"\n",
    "                \n",
    "    return lambda_info\n",
    "\n",
    "\n",
    "@tf.function\n",
    "def train_step(model, inputs, logits, optimizer: keras.optimizers.Optimizer):\n",
    "    with tf.GradientTape() as tape:\n",
    "        outputs = model(inputs, training=True)\n",
    "        loss = custom_loss(logits, outputs)\n",
    "        loss += get_model_losses(model, losses=keras.ops.convert_to_tensor(0.))\n",
    "        if model.losses:\n",
    "            loss += tf.add_n(model.losses)\n",
    "    grads = tape.gradient(loss, model.trainable_weights)\n",
    "    optimizer.apply_gradients(zip(grads, model.trainable_weights))\n",
    "    return loss\n",
    "\n",
    "@tf.function\n",
    "def valid_step(model, inputs, logits):\n",
    "    outputs = model(inputs, training=False)\n",
    "    loss = custom_loss(logits, outputs)\n",
    "    pquant_loss = get_model_losses(model, losses=keras.ops.convert_to_tensor(0.))\n",
    "    if model.losses:\n",
    "            loss += tf.add_n(model.losses)\n",
    "    return loss + pquant_loss, pquant_loss\n",
    "\n",
    "def train_smart_pixels_tf(model, epoch, trainloader, optimizer: keras.optimizers.Optimizer, *args, **kwargs):\n",
    "    pbar = tqdm(range(len(trainloader)), desc=f\"Epoch {epoch} [Training]\")\n",
    "    for batch_idx in pbar:\n",
    "        inputs, logits = trainloader[batch_idx]\n",
    "        loss = train_step(model, inputs, logits, optimizer)\n",
    "        \n",
    "        metrics = {\n",
    "            'loss': f'{loss.numpy():.2f}',\n",
    "        }\n",
    "        metrics.update(get_lambda_values(model))\n",
    "        pbar.set_postfix(**metrics)\n",
    "        \n",
    "    train_loader.on_epoch_end()\n",
    "\n",
    "        \n",
    "\n",
    "        \n",
    "def validate_smart_pixels_tf(model, epoch, testloader, *args, **kwargs):\n",
    "    total_loss = 0.0\n",
    "    pbar = tqdm(range(len(testloader)), desc=f\"Epoch {epoch} [Validation]\")\n",
    "    \n",
    "    for batch_idx in pbar:\n",
    "        inputs, logits = testloader[batch_idx]\n",
    "        loss, pquant_loss = valid_step(model, inputs, logits)\n",
    "        total_loss += loss\n",
    "        pbar.set_postfix(loss=f'{loss.numpy():.2f}')\n",
    "\n",
    "    testloader.on_epoch_end()\n",
    "        \n",
    "    avg_total_loss = total_loss / len(testloader)\n",
    "    ratio = get_layer_keep_ratio(model)\n",
    "\n",
    "    summary_string = (\n",
    "        f\"\\tTotal Loss (NLL + MDMM): {avg_total_loss:.2f}\\n\"\n",
    "        f\"\\tMDMM Loss:               {pquant_loss:.2f}\\n\"\n",
    "        f\"\\tRemaining Weights:       {ratio * 100:.2f} %\"\n",
    "    )\n",
    "    print(summary_string)\n"
   ]
  },
  {
   "cell_type": "markdown",
   "id": "9d28865b-afdb-4773-be30-717486d9786a",
   "metadata": {},
   "source": [
    "## Create loss function, scheduler and optimizer"
   ]
  },
  {
   "cell_type": "markdown",
   "id": "9850c23a-2abc-4904-9c69-859492b450a8",
   "metadata": {},
   "source": [
    "## Train model\n",
    "Training time. We use the train_compressed_model function from pquant to train. We need to provide some parameters such as training and validation functions, their input parameters, the model and the config file. The function automatically adds pruning layers and replaces activations with a quantized variant, trains the model, and removes the pruning layers after training is done"
   ]
  },
  {
   "cell_type": "code",
   "execution_count": 10,
   "id": "520441a0",
   "metadata": {},
   "outputs": [
    {
     "name": "stdout",
     "output_type": "stream",
     "text": [
      "  Layer: compressed_layer_conv2d_keras_1, Lambda Value: 0.0000\n",
      "  Layer: compressed_layer_dense_keras, Lambda Value: 0.0000\n",
      "  Layer: compressed_layer_dense_keras_1, Lambda Value: 0.0000\n",
      "  Layer: compressed_layer_dense_keras_2, Lambda Value: 0.0000\n"
     ]
    }
   ],
   "source": [
    "for layer in model.layers:\n",
    "        if \"CompressedLayer\" in layer.__class__.__name__ and hasattr(layer, 'pruning_layer'):\n",
    "            pruning_layer = layer.pruning_layer # This is your MDMM instance\n",
    "            \n",
    "            # Check if the MDMM instance has the constraint_layer\n",
    "            if hasattr(pruning_layer, 'constraint_layer'):\n",
    "                constraint = pruning_layer.constraint_layer\n",
    "                \n",
    "                # Finally, check for 'lmbda' on the constraint layer\n",
    "                if hasattr(constraint, 'lmbda'):\n",
    "                    print(f\"  Layer: {layer.name}, Lambda Value: {constraint.lmbda.numpy():.4f}\")\n"
   ]
  },
  {
   "cell_type": "code",
   "execution_count": null,
   "id": "18f2414c-1f4d-4a30-a143-920497e60ab7",
   "metadata": {},
   "outputs": [
    {
     "name": "stderr",
     "output_type": "stream",
     "text": [
      "Epoch 0 [Training]:   0%|          | 0/84 [00:00<?, ?it/s]2025-07-12 20:02:44.157077: I tensorflow/core/kernels/data/tf_record_dataset_op.cc:381] TFRecordDataset `buffer_size` is unspecified, default to 262144\n",
      "I0000 00:00:1752343366.568015 4078518 cuda_dnn.cc:529] Loaded cuDNN version 90501\n",
      "WARNING: All log messages before absl::InitializeLog() is called are written to STDERR\n",
      "I0000 00:00:1752343367.498815 4078518 cuda_solvers.cc:175] Creating GpuSolver handles for stream 0x5578e3a43910\n",
      "Epoch 0 [Training]: 100%|██████████| 84/84 [00:18<00:00,  4.46it/s, loss=16207.46, λc2D1=0.02, λd1=0.01, λd2=0.02, λd3=0.02]\n",
      "Epoch 0 [Validation]: 100%|██████████| 21/21 [00:02<00:00,  7.37it/s, loss=16166.13]\n"
     ]
    },
    {
     "name": "stdout",
     "output_type": "stream",
     "text": [
      "\tTotal Loss (NLL + MDMM): 16032.15\n",
      "\tMDMM Loss:               0.20\n",
      "\tRemaining Weights:       99.61 %\n"
     ]
    },
    {
     "name": "stderr",
     "output_type": "stream",
     "text": [
      "Epoch 1 [Training]: 100%|██████████| 84/84 [00:06<00:00, 13.28it/s, loss=8338.31, λc2D1=0.05, λd1=0.02, λd2=0.03, λd3=0.04] \n",
      "Epoch 1 [Validation]: 100%|██████████| 21/21 [00:01<00:00, 14.64it/s, loss=8159.23]\n"
     ]
    },
    {
     "name": "stdout",
     "output_type": "stream",
     "text": [
      "\tTotal Loss (NLL + MDMM): 8081.99\n",
      "\tMDMM Loss:               0.25\n",
      "\tRemaining Weights:       99.61 %\n"
     ]
    },
    {
     "name": "stderr",
     "output_type": "stream",
     "text": [
      "Epoch 2 [Training]: 100%|██████████| 84/84 [00:06<00:00, 13.39it/s, loss=3662.79, λc2D1=0.08, λd1=0.03, λd2=0.05, λd3=0.05]\n",
      "Epoch 2 [Validation]: 100%|██████████| 21/21 [00:01<00:00, 15.28it/s, loss=3465.06]\n"
     ]
    },
    {
     "name": "stdout",
     "output_type": "stream",
     "text": [
      "\tTotal Loss (NLL + MDMM): 3443.21\n",
      "\tMDMM Loss:               0.29\n",
      "\tRemaining Weights:       99.83 %\n"
     ]
    },
    {
     "name": "stderr",
     "output_type": "stream",
     "text": [
      "Epoch 3 [Training]: 100%|██████████| 84/84 [00:06<00:00, 13.53it/s, loss=1703.07, λc2D1=0.11, λd1=0.04, λd2=0.07, λd3=0.07]\n",
      "Epoch 3 [Validation]: 100%|██████████| 21/21 [00:01<00:00, 14.92it/s, loss=1527.20]\n"
     ]
    },
    {
     "name": "stdout",
     "output_type": "stream",
     "text": [
      "\tTotal Loss (NLL + MDMM): 1490.21\n",
      "\tMDMM Loss:               0.33\n",
      "\tRemaining Weights:       99.61 %\n"
     ]
    },
    {
     "name": "stderr",
     "output_type": "stream",
     "text": [
      "Epoch 4 [Training]: 100%|██████████| 84/84 [00:06<00:00, 13.51it/s, loss=208.00, λc2D1=0.14, λd1=0.05, λd2=0.09, λd3=0.09] \n",
      "Epoch 4 [Validation]: 100%|██████████| 21/21 [00:01<00:00, 15.28it/s, loss=82.61]  \n"
     ]
    },
    {
     "name": "stdout",
     "output_type": "stream",
     "text": [
      "\tTotal Loss (NLL + MDMM): 53.03\n",
      "\tMDMM Loss:               0.37\n",
      "\tRemaining Weights:       99.78 %\n"
     ]
    },
    {
     "name": "stderr",
     "output_type": "stream",
     "text": [
      "Epoch 5 [Training]: 100%|██████████| 84/84 [00:06<00:00, 13.51it/s, loss=-915.19, λc2D1=0.17, λd1=0.06, λd2=0.11, λd3=0.11] \n",
      "Epoch 5 [Validation]: 100%|██████████| 21/21 [00:01<00:00, 15.15it/s, loss=-1126.27]\n"
     ]
    },
    {
     "name": "stdout",
     "output_type": "stream",
     "text": [
      "\tTotal Loss (NLL + MDMM): -1067.09\n",
      "\tMDMM Loss:               0.42\n",
      "\tRemaining Weights:       99.61 %\n"
     ]
    },
    {
     "name": "stderr",
     "output_type": "stream",
     "text": [
      "Epoch 6 [Training]: 100%|██████████| 84/84 [00:06<00:00, 13.36it/s, loss=-1678.54, λc2D1=0.20, λd1=0.07, λd2=0.13, λd3=0.13]\n",
      "Epoch 6 [Validation]: 100%|██████████| 21/21 [00:01<00:00, 14.74it/s, loss=-1880.07]\n"
     ]
    },
    {
     "name": "stdout",
     "output_type": "stream",
     "text": [
      "\tTotal Loss (NLL + MDMM): -1800.20\n",
      "\tMDMM Loss:               0.47\n",
      "\tRemaining Weights:       99.72 %\n"
     ]
    },
    {
     "name": "stderr",
     "output_type": "stream",
     "text": [
      "Epoch 7 [Training]: 100%|██████████| 84/84 [00:06<00:00, 13.69it/s, loss=-2312.78, λc2D1=0.23, λd1=0.08, λd2=0.15, λd3=0.15]\n",
      "Epoch 7 [Validation]: 100%|██████████| 21/21 [00:01<00:00, 15.39it/s, loss=-2517.20]\n"
     ]
    },
    {
     "name": "stdout",
     "output_type": "stream",
     "text": [
      "\tTotal Loss (NLL + MDMM): -2444.37\n",
      "\tMDMM Loss:               0.52\n",
      "\tRemaining Weights:       99.89 %\n"
     ]
    },
    {
     "name": "stderr",
     "output_type": "stream",
     "text": [
      "Epoch 8 [Training]: 100%|██████████| 84/84 [00:06<00:00, 13.30it/s, loss=-2988.25, λc2D1=0.26, λd1=0.10, λd2=0.17, λd3=0.17]\n",
      "Epoch 8 [Validation]: 100%|██████████| 21/21 [00:01<00:00, 15.00it/s, loss=-3172.94]\n"
     ]
    },
    {
     "name": "stdout",
     "output_type": "stream",
     "text": [
      "\tTotal Loss (NLL + MDMM): -3075.57\n",
      "\tMDMM Loss:               0.57\n",
      "\tRemaining Weights:       99.83 %\n"
     ]
    },
    {
     "name": "stderr",
     "output_type": "stream",
     "text": [
      "Epoch 9 [Training]: 100%|██████████| 84/84 [00:06<00:00, 13.43it/s, loss=-3662.02, λc2D1=0.29, λd1=0.11, λd2=0.19, λd3=0.19]\n",
      "Epoch 9 [Validation]: 100%|██████████| 21/21 [00:01<00:00, 14.99it/s, loss=-3908.36]\n"
     ]
    },
    {
     "name": "stdout",
     "output_type": "stream",
     "text": [
      "\tTotal Loss (NLL + MDMM): -3766.45\n",
      "\tMDMM Loss:               0.62\n",
      "\tRemaining Weights:       99.67 %\n"
     ]
    },
    {
     "name": "stderr",
     "output_type": "stream",
     "text": [
      "Epoch 10 [Training]: 100%|██████████| 84/84 [00:06<00:00, 13.63it/s, loss=-4344.88, λc2D1=0.32, λd1=0.12, λd2=0.21, λd3=0.21]\n",
      "Epoch 10 [Validation]: 100%|██████████| 21/21 [00:01<00:00, 15.09it/s, loss=-4612.64]\n"
     ]
    },
    {
     "name": "stdout",
     "output_type": "stream",
     "text": [
      "\tTotal Loss (NLL + MDMM): -4449.68\n",
      "\tMDMM Loss:               0.67\n",
      "\tRemaining Weights:       99.67 %\n"
     ]
    },
    {
     "name": "stderr",
     "output_type": "stream",
     "text": [
      "Epoch 11 [Training]: 100%|██████████| 84/84 [00:06<00:00, 13.33it/s, loss=-5086.08, λc2D1=0.34, λd1=0.13, λd2=0.23, λd3=0.23]\n",
      "Epoch 11 [Validation]: 100%|██████████| 21/21 [00:01<00:00, 15.00it/s, loss=-5387.50]\n"
     ]
    },
    {
     "name": "stdout",
     "output_type": "stream",
     "text": [
      "\tTotal Loss (NLL + MDMM): -5204.83\n",
      "\tMDMM Loss:               0.73\n",
      "\tRemaining Weights:       99.72 %\n"
     ]
    },
    {
     "name": "stderr",
     "output_type": "stream",
     "text": [
      "Epoch 12 [Training]: 100%|██████████| 84/84 [00:06<00:00, 13.46it/s, loss=-5915.63, λc2D1=0.37, λd1=0.14, λd2=0.25, λd3=0.25]\n",
      "Epoch 12 [Validation]: 100%|██████████| 21/21 [00:01<00:00, 14.95it/s, loss=-6264.22]\n"
     ]
    },
    {
     "name": "stdout",
     "output_type": "stream",
     "text": [
      "\tTotal Loss (NLL + MDMM): -6062.27\n",
      "\tMDMM Loss:               0.78\n",
      "\tRemaining Weights:       99.50 %\n"
     ]
    },
    {
     "name": "stderr",
     "output_type": "stream",
     "text": [
      "Epoch 13 [Training]: 100%|██████████| 84/84 [00:06<00:00, 13.50it/s, loss=-6838.33, λc2D1=0.40, λd1=0.15, λd2=0.27, λd3=0.27]\n",
      "Epoch 13 [Validation]: 100%|██████████| 21/21 [00:01<00:00, 14.85it/s, loss=-7206.50]\n"
     ]
    },
    {
     "name": "stdout",
     "output_type": "stream",
     "text": [
      "\tTotal Loss (NLL + MDMM): -7001.14\n",
      "\tMDMM Loss:               0.84\n",
      "\tRemaining Weights:       99.89 %\n"
     ]
    },
    {
     "name": "stderr",
     "output_type": "stream",
     "text": [
      "Epoch 14 [Training]: 100%|██████████| 84/84 [00:06<00:00, 13.55it/s, loss=-7823.22, λc2D1=0.43, λd1=0.16, λd2=0.29, λd3=0.29]\n",
      "Epoch 14 [Validation]: 100%|██████████| 21/21 [00:01<00:00, 15.34it/s, loss=-8174.35]\n"
     ]
    },
    {
     "name": "stdout",
     "output_type": "stream",
     "text": [
      "\tTotal Loss (NLL + MDMM): -7984.24\n",
      "\tMDMM Loss:               0.91\n",
      "\tRemaining Weights:       99.78 %\n"
     ]
    },
    {
     "name": "stderr",
     "output_type": "stream",
     "text": [
      "Epoch 15 [Training]: 100%|██████████| 84/84 [00:06<00:00, 13.57it/s, loss=-8802.76, λc2D1=0.46, λd1=0.17, λd2=0.31, λd3=0.31]\n",
      "Epoch 15 [Validation]: 100%|██████████| 21/21 [00:01<00:00, 14.88it/s, loss=-9123.83]\n"
     ]
    },
    {
     "name": "stdout",
     "output_type": "stream",
     "text": [
      "\tTotal Loss (NLL + MDMM): -8958.64\n",
      "\tMDMM Loss:               0.97\n",
      "\tRemaining Weights:       99.67 %\n"
     ]
    },
    {
     "name": "stderr",
     "output_type": "stream",
     "text": [
      "Epoch 16 [Training]: 100%|██████████| 84/84 [00:06<00:00, 13.58it/s, loss=-9731.71, λc2D1=0.49, λd1=0.19, λd2=0.33, λd3=0.33] \n",
      "Epoch 16 [Validation]: 100%|██████████| 21/21 [00:01<00:00, 15.38it/s, loss=-10091.50]\n"
     ]
    },
    {
     "name": "stdout",
     "output_type": "stream",
     "text": [
      "\tTotal Loss (NLL + MDMM): -9920.81\n",
      "\tMDMM Loss:               1.04\n",
      "\tRemaining Weights:       99.61 %\n"
     ]
    },
    {
     "name": "stderr",
     "output_type": "stream",
     "text": [
      "Epoch 17 [Training]: 100%|██████████| 84/84 [00:06<00:00, 13.42it/s, loss=-10602.21, λc2D1=0.52, λd1=0.20, λd2=0.35, λd3=0.35]\n",
      "Epoch 17 [Validation]: 100%|██████████| 21/21 [00:01<00:00, 14.90it/s, loss=-10971.07]\n"
     ]
    },
    {
     "name": "stdout",
     "output_type": "stream",
     "text": [
      "\tTotal Loss (NLL + MDMM): -10768.26\n",
      "\tMDMM Loss:               1.11\n",
      "\tRemaining Weights:       99.50 %\n"
     ]
    },
    {
     "name": "stderr",
     "output_type": "stream",
     "text": [
      "Epoch 18 [Training]: 100%|██████████| 84/84 [00:06<00:00, 13.17it/s, loss=-11455.34, λc2D1=0.55, λd1=0.21, λd2=0.37, λd3=0.37]\n",
      "Epoch 18 [Validation]: 100%|██████████| 21/21 [00:01<00:00, 14.84it/s, loss=-11811.55]\n"
     ]
    },
    {
     "name": "stdout",
     "output_type": "stream",
     "text": [
      "\tTotal Loss (NLL + MDMM): -11584.17\n",
      "\tMDMM Loss:               1.18\n",
      "\tRemaining Weights:       99.61 %\n"
     ]
    },
    {
     "name": "stderr",
     "output_type": "stream",
     "text": [
      "Epoch 19 [Training]: 100%|██████████| 84/84 [00:06<00:00, 13.41it/s, loss=-12271.61, λc2D1=0.58, λd1=0.22, λd2=0.39, λd3=0.39]\n",
      "Epoch 19 [Validation]: 100%|██████████| 21/21 [00:01<00:00, 14.34it/s, loss=-12600.22]\n"
     ]
    },
    {
     "name": "stdout",
     "output_type": "stream",
     "text": [
      "\tTotal Loss (NLL + MDMM): -12357.64\n",
      "\tMDMM Loss:               1.25\n",
      "\tRemaining Weights:       99.67 %\n"
     ]
    },
    {
     "name": "stderr",
     "output_type": "stream",
     "text": [
      "Epoch 20 [Training]: 100%|██████████| 84/84 [00:06<00:00, 13.25it/s, loss=-12960.43, λc2D1=0.61, λd1=0.23, λd2=0.41, λd3=0.41]\n",
      "Epoch 20 [Validation]: 100%|██████████| 21/21 [00:01<00:00, 14.49it/s, loss=-13222.62]\n"
     ]
    },
    {
     "name": "stdout",
     "output_type": "stream",
     "text": [
      "\tTotal Loss (NLL + MDMM): -12995.31\n",
      "\tMDMM Loss:               1.32\n",
      "\tRemaining Weights:       99.61 %\n"
     ]
    },
    {
     "name": "stderr",
     "output_type": "stream",
     "text": [
      "Epoch 21 [Training]: 100%|██████████| 84/84 [00:06<00:00, 13.38it/s, loss=-13567.04, λc2D1=0.64, λd1=0.24, λd2=0.43, λd3=0.43]\n",
      "Epoch 21 [Validation]: 100%|██████████| 21/21 [00:01<00:00, 14.49it/s, loss=-13821.11]\n"
     ]
    },
    {
     "name": "stdout",
     "output_type": "stream",
     "text": [
      "\tTotal Loss (NLL + MDMM): -13595.76\n",
      "\tMDMM Loss:               1.38\n",
      "\tRemaining Weights:       99.67 %\n"
     ]
    },
    {
     "name": "stderr",
     "output_type": "stream",
     "text": [
      "Epoch 22 [Training]: 100%|██████████| 84/84 [00:06<00:00, 13.05it/s, loss=-14084.14, λc2D1=0.67, λd1=0.25, λd2=0.45, λd3=0.45]\n",
      "Epoch 22 [Validation]: 100%|██████████| 21/21 [00:01<00:00, 14.86it/s, loss=-14329.23]\n"
     ]
    },
    {
     "name": "stdout",
     "output_type": "stream",
     "text": [
      "\tTotal Loss (NLL + MDMM): -14095.80\n",
      "\tMDMM Loss:               1.45\n",
      "\tRemaining Weights:       99.56 %\n"
     ]
    },
    {
     "name": "stderr",
     "output_type": "stream",
     "text": [
      "Epoch 23 [Training]: 100%|██████████| 84/84 [00:06<00:00, 13.59it/s, loss=-13601.20, λc2D1=0.70, λd1=0.27, λd2=0.47, λd3=0.47]\n",
      "Epoch 23 [Validation]: 100%|██████████| 21/21 [00:01<00:00, 14.88it/s, loss=-13824.55]\n"
     ]
    },
    {
     "name": "stdout",
     "output_type": "stream",
     "text": [
      "\tTotal Loss (NLL + MDMM): -13577.85\n",
      "\tMDMM Loss:               1.51\n",
      "\tRemaining Weights:       99.34 %\n"
     ]
    },
    {
     "name": "stderr",
     "output_type": "stream",
     "text": [
      "Epoch 24 [Training]: 100%|██████████| 84/84 [00:06<00:00, 12.91it/s, loss=-14569.55, λc2D1=0.73, λd1=0.28, λd2=0.48, λd3=0.49]\n",
      "Epoch 24 [Validation]: 100%|██████████| 21/21 [00:01<00:00, 14.72it/s, loss=-14815.94]\n"
     ]
    },
    {
     "name": "stdout",
     "output_type": "stream",
     "text": [
      "\tTotal Loss (NLL + MDMM): -14535.25\n",
      "\tMDMM Loss:               1.58\n",
      "\tRemaining Weights:       99.50 %\n"
     ]
    },
    {
     "name": "stderr",
     "output_type": "stream",
     "text": [
      "Epoch 25 [Training]: 100%|██████████| 84/84 [00:06<00:00, 12.79it/s, loss=-15051.17, λc2D1=0.76, λd1=0.29, λd2=0.50, λd3=0.51]\n",
      "Epoch 25 [Validation]: 100%|██████████| 21/21 [00:01<00:00, 14.83it/s, loss=-15284.64]\n"
     ]
    },
    {
     "name": "stdout",
     "output_type": "stream",
     "text": [
      "\tTotal Loss (NLL + MDMM): -15007.40\n",
      "\tMDMM Loss:               1.64\n",
      "\tRemaining Weights:       99.28 %\n"
     ]
    },
    {
     "name": "stderr",
     "output_type": "stream",
     "text": [
      "Epoch 26 [Training]: 100%|██████████| 84/84 [00:06<00:00, 13.57it/s, loss=-15434.01, λc2D1=0.79, λd1=0.30, λd2=0.52, λd3=0.53]\n",
      "Epoch 26 [Validation]: 100%|██████████| 21/21 [00:01<00:00, 15.08it/s, loss=-15664.75]\n"
     ]
    },
    {
     "name": "stdout",
     "output_type": "stream",
     "text": [
      "\tTotal Loss (NLL + MDMM): -15393.57\n",
      "\tMDMM Loss:               1.71\n",
      "\tRemaining Weights:       99.72 %\n"
     ]
    },
    {
     "name": "stderr",
     "output_type": "stream",
     "text": [
      "Epoch 27 [Training]: 100%|██████████| 84/84 [00:06<00:00, 13.29it/s, loss=-15772.93, λc2D1=0.82, λd1=0.31, λd2=0.54, λd3=0.55]\n",
      "Epoch 27 [Validation]: 100%|██████████| 21/21 [00:01<00:00, 14.78it/s, loss=-15976.27]\n"
     ]
    },
    {
     "name": "stdout",
     "output_type": "stream",
     "text": [
      "\tTotal Loss (NLL + MDMM): -15722.75\n",
      "\tMDMM Loss:               1.77\n",
      "\tRemaining Weights:       99.61 %\n"
     ]
    },
    {
     "name": "stderr",
     "output_type": "stream",
     "text": [
      "Epoch 28 [Training]: 100%|██████████| 84/84 [00:06<00:00, 13.22it/s, loss=-16063.84, λc2D1=0.85, λd1=0.32, λd2=0.56, λd3=0.57]\n",
      "Epoch 28 [Validation]: 100%|██████████| 21/21 [00:01<00:00, 14.79it/s, loss=-16275.15]\n"
     ]
    },
    {
     "name": "stdout",
     "output_type": "stream",
     "text": [
      "\tTotal Loss (NLL + MDMM): -16026.75\n",
      "\tMDMM Loss:               1.84\n",
      "\tRemaining Weights:       99.78 %\n"
     ]
    },
    {
     "name": "stderr",
     "output_type": "stream",
     "text": [
      "Epoch 29 [Training]: 100%|██████████| 84/84 [00:06<00:00, 13.45it/s, loss=-16365.30, λc2D1=0.88, λd1=0.33, λd2=0.58, λd3=0.59]\n",
      "Epoch 29 [Validation]: 100%|██████████| 21/21 [00:01<00:00, 14.90it/s, loss=-16591.27]\n"
     ]
    },
    {
     "name": "stdout",
     "output_type": "stream",
     "text": [
      "\tTotal Loss (NLL + MDMM): -16337.21\n",
      "\tMDMM Loss:               1.90\n",
      "\tRemaining Weights:       99.61 %\n"
     ]
    },
    {
     "name": "stderr",
     "output_type": "stream",
     "text": [
      "Epoch 30 [Training]: 100%|██████████| 84/84 [00:06<00:00, 13.41it/s, loss=-16656.06, λc2D1=0.91, λd1=0.35, λd2=0.60, λd3=0.60]\n",
      "Epoch 30 [Validation]: 100%|██████████| 21/21 [00:01<00:00, 14.92it/s, loss=-16876.13]\n"
     ]
    },
    {
     "name": "stdout",
     "output_type": "stream",
     "text": [
      "\tTotal Loss (NLL + MDMM): -16630.81\n",
      "\tMDMM Loss:               1.96\n",
      "\tRemaining Weights:       99.61 %\n"
     ]
    },
    {
     "name": "stderr",
     "output_type": "stream",
     "text": [
      "Epoch 31 [Training]: 100%|██████████| 84/84 [00:06<00:00, 13.24it/s, loss=-16938.32, λc2D1=0.94, λd1=0.36, λd2=0.62, λd3=0.62]\n",
      "Epoch 31 [Validation]: 100%|██████████| 21/21 [00:01<00:00, 14.82it/s, loss=-17157.80]\n"
     ]
    },
    {
     "name": "stdout",
     "output_type": "stream",
     "text": [
      "\tTotal Loss (NLL + MDMM): -16911.49\n",
      "\tMDMM Loss:               2.03\n",
      "\tRemaining Weights:       99.39 %\n"
     ]
    },
    {
     "name": "stderr",
     "output_type": "stream",
     "text": [
      "Epoch 32 [Training]: 100%|██████████| 84/84 [00:06<00:00, 13.37it/s, loss=-17189.74, λc2D1=0.97, λd1=0.37, λd2=0.64, λd3=0.64]\n",
      "Epoch 32 [Validation]: 100%|██████████| 21/21 [00:01<00:00, 15.14it/s, loss=-17424.13]\n"
     ]
    },
    {
     "name": "stdout",
     "output_type": "stream",
     "text": [
      "\tTotal Loss (NLL + MDMM): -17178.90\n",
      "\tMDMM Loss:               2.09\n",
      "\tRemaining Weights:       99.39 %\n"
     ]
    },
    {
     "name": "stderr",
     "output_type": "stream",
     "text": [
      "Epoch 33 [Training]: 100%|██████████| 84/84 [00:06<00:00, 13.69it/s, loss=-17440.76, λc2D1=1.00, λd1=0.38, λd2=0.66, λd3=0.66]\n",
      "Epoch 33 [Validation]: 100%|██████████| 21/21 [00:01<00:00, 15.16it/s, loss=-17681.42]\n"
     ]
    },
    {
     "name": "stdout",
     "output_type": "stream",
     "text": [
      "\tTotal Loss (NLL + MDMM): -17428.87\n",
      "\tMDMM Loss:               2.16\n",
      "\tRemaining Weights:       99.50 %\n"
     ]
    },
    {
     "name": "stderr",
     "output_type": "stream",
     "text": [
      "Epoch 34 [Training]: 100%|██████████| 84/84 [00:06<00:00, 13.54it/s, loss=-17671.37, λc2D1=1.03, λd1=0.39, λd2=0.68, λd3=0.68]\n",
      "Epoch 34 [Validation]: 100%|██████████| 21/21 [00:01<00:00, 14.55it/s, loss=-17943.78]\n"
     ]
    },
    {
     "name": "stdout",
     "output_type": "stream",
     "text": [
      "\tTotal Loss (NLL + MDMM): -17683.20\n",
      "\tMDMM Loss:               2.22\n",
      "\tRemaining Weights:       99.23 %\n"
     ]
    },
    {
     "name": "stderr",
     "output_type": "stream",
     "text": [
      "Epoch 35 [Training]: 100%|██████████| 84/84 [00:06<00:00, 13.49it/s, loss=-17895.02, λc2D1=1.06, λd1=0.41, λd2=0.70, λd3=0.70]\n",
      "Epoch 35 [Validation]: 100%|██████████| 21/21 [00:01<00:00, 14.86it/s, loss=-18183.46]\n"
     ]
    },
    {
     "name": "stdout",
     "output_type": "stream",
     "text": [
      "\tTotal Loss (NLL + MDMM): -17919.78\n",
      "\tMDMM Loss:               2.29\n",
      "\tRemaining Weights:       99.39 %\n"
     ]
    },
    {
     "name": "stderr",
     "output_type": "stream",
     "text": [
      "Epoch 36 [Training]: 100%|██████████| 84/84 [00:06<00:00, 13.43it/s, loss=-18108.71, λc2D1=1.09, λd1=0.42, λd2=0.72, λd3=0.72]\n",
      "Epoch 36 [Validation]: 100%|██████████| 21/21 [00:01<00:00, 15.05it/s, loss=-18388.63]\n"
     ]
    },
    {
     "name": "stdout",
     "output_type": "stream",
     "text": [
      "\tTotal Loss (NLL + MDMM): -18125.79\n",
      "\tMDMM Loss:               2.35\n",
      "\tRemaining Weights:       99.50 %\n"
     ]
    },
    {
     "name": "stderr",
     "output_type": "stream",
     "text": [
      "Epoch 37 [Training]: 100%|██████████| 84/84 [00:06<00:00, 13.42it/s, loss=-18310.25, λc2D1=1.12, λd1=0.43, λd2=0.74, λd3=0.74]\n",
      "Epoch 37 [Validation]: 100%|██████████| 21/21 [00:01<00:00, 14.95it/s, loss=-18605.66]\n"
     ]
    },
    {
     "name": "stdout",
     "output_type": "stream",
     "text": [
      "\tTotal Loss (NLL + MDMM): -18334.57\n",
      "\tMDMM Loss:               2.42\n",
      "\tRemaining Weights:       99.56 %\n"
     ]
    },
    {
     "name": "stderr",
     "output_type": "stream",
     "text": [
      "Epoch 38 [Training]: 100%|██████████| 84/84 [00:06<00:00, 13.37it/s, loss=-18513.75, λc2D1=1.15, λd1=0.44, λd2=0.76, λd3=0.76]\n",
      "Epoch 38 [Validation]: 100%|██████████| 21/21 [00:01<00:00, 15.14it/s, loss=-18812.14]\n"
     ]
    },
    {
     "name": "stdout",
     "output_type": "stream",
     "text": [
      "\tTotal Loss (NLL + MDMM): -18536.88\n",
      "\tMDMM Loss:               2.48\n",
      "\tRemaining Weights:       99.56 %\n"
     ]
    },
    {
     "name": "stderr",
     "output_type": "stream",
     "text": [
      "Epoch 39 [Training]: 100%|██████████| 84/84 [00:06<00:00, 13.19it/s, loss=-18699.15, λc2D1=1.18, λd1=0.45, λd2=0.78, λd3=0.78]\n",
      "Epoch 39 [Validation]: 100%|██████████| 21/21 [00:01<00:00, 15.01it/s, loss=-19008.08]\n"
     ]
    },
    {
     "name": "stdout",
     "output_type": "stream",
     "text": [
      "\tTotal Loss (NLL + MDMM): -18727.22\n",
      "\tMDMM Loss:               2.55\n",
      "\tRemaining Weights:       99.50 %\n"
     ]
    },
    {
     "name": "stderr",
     "output_type": "stream",
     "text": [
      "Epoch 40 [Training]: 100%|██████████| 84/84 [00:06<00:00, 13.47it/s, loss=-18890.76, λc2D1=1.21, λd1=0.47, λd2=0.80, λd3=0.80]\n",
      "Epoch 40 [Validation]: 100%|██████████| 21/21 [00:01<00:00, 15.21it/s, loss=-19183.01]\n"
     ]
    },
    {
     "name": "stdout",
     "output_type": "stream",
     "text": [
      "\tTotal Loss (NLL + MDMM): -18901.86\n",
      "\tMDMM Loss:               2.62\n",
      "\tRemaining Weights:       99.45 %\n"
     ]
    },
    {
     "name": "stderr",
     "output_type": "stream",
     "text": [
      "Epoch 41 [Training]: 100%|██████████| 84/84 [00:06<00:00, 13.59it/s, loss=-19058.41, λc2D1=1.24, λd1=0.48, λd2=0.82, λd3=0.82]\n",
      "Epoch 41 [Validation]: 100%|██████████| 21/21 [00:01<00:00, 15.06it/s, loss=-19371.75]\n"
     ]
    },
    {
     "name": "stdout",
     "output_type": "stream",
     "text": [
      "\tTotal Loss (NLL + MDMM): -19077.81\n",
      "\tMDMM Loss:               2.68\n",
      "\tRemaining Weights:       99.50 %\n"
     ]
    },
    {
     "name": "stderr",
     "output_type": "stream",
     "text": [
      "Epoch 42 [Training]: 100%|██████████| 84/84 [00:06<00:00, 13.33it/s, loss=-19236.92, λc2D1=1.27, λd1=0.49, λd2=0.84, λd3=0.84]\n",
      "Epoch 42 [Validation]: 100%|██████████| 21/21 [00:01<00:00, 14.68it/s, loss=-19536.69]\n"
     ]
    },
    {
     "name": "stdout",
     "output_type": "stream",
     "text": [
      "\tTotal Loss (NLL + MDMM): -19247.44\n",
      "\tMDMM Loss:               2.75\n",
      "\tRemaining Weights:       99.72 %\n"
     ]
    },
    {
     "name": "stderr",
     "output_type": "stream",
     "text": [
      "Epoch 43 [Training]: 100%|██████████| 84/84 [00:06<00:00, 13.40it/s, loss=-19403.10, λc2D1=1.30, λd1=0.50, λd2=0.86, λd3=0.86]\n",
      "Epoch 43 [Validation]: 100%|██████████| 21/21 [00:01<00:00, 15.03it/s, loss=-19694.53]\n"
     ]
    },
    {
     "name": "stdout",
     "output_type": "stream",
     "text": [
      "\tTotal Loss (NLL + MDMM): -19405.09\n",
      "\tMDMM Loss:               2.81\n",
      "\tRemaining Weights:       99.67 %\n"
     ]
    },
    {
     "name": "stderr",
     "output_type": "stream",
     "text": [
      "Epoch 44 [Training]: 100%|██████████| 84/84 [00:06<00:00, 13.20it/s, loss=-19566.64, λc2D1=1.33, λd1=0.52, λd2=0.88, λd3=0.88]\n",
      "Epoch 44 [Validation]: 100%|██████████| 21/21 [00:01<00:00, 14.72it/s, loss=-19859.75]\n"
     ]
    },
    {
     "name": "stdout",
     "output_type": "stream",
     "text": [
      "\tTotal Loss (NLL + MDMM): -19564.56\n",
      "\tMDMM Loss:               2.88\n",
      "\tRemaining Weights:       99.67 %\n"
     ]
    },
    {
     "name": "stderr",
     "output_type": "stream",
     "text": [
      "Epoch 45 [Training]: 100%|██████████| 84/84 [00:06<00:00, 13.23it/s, loss=-19727.24, λc2D1=1.36, λd1=0.53, λd2=0.90, λd3=0.89]\n",
      "Epoch 45 [Validation]: 100%|██████████| 21/21 [00:01<00:00, 14.46it/s, loss=-20024.46]\n"
     ]
    },
    {
     "name": "stdout",
     "output_type": "stream",
     "text": [
      "\tTotal Loss (NLL + MDMM): -19724.28\n",
      "\tMDMM Loss:               2.95\n",
      "\tRemaining Weights:       99.78 %\n"
     ]
    },
    {
     "name": "stderr",
     "output_type": "stream",
     "text": [
      "Epoch 46 [Training]: 100%|██████████| 84/84 [00:06<00:00, 13.49it/s, loss=-19878.01, λc2D1=1.39, λd1=0.54, λd2=0.92, λd3=0.91]\n",
      "Epoch 46 [Validation]: 100%|██████████| 21/21 [00:01<00:00, 14.97it/s, loss=-20189.80]\n"
     ]
    },
    {
     "name": "stdout",
     "output_type": "stream",
     "text": [
      "\tTotal Loss (NLL + MDMM): -19870.21\n",
      "\tMDMM Loss:               3.01\n",
      "\tRemaining Weights:       99.83 %\n"
     ]
    },
    {
     "name": "stderr",
     "output_type": "stream",
     "text": [
      "Epoch 47 [Training]: 100%|██████████| 84/84 [00:06<00:00, 13.45it/s, loss=-20028.32, λc2D1=1.43, λd1=0.55, λd2=0.94, λd3=0.93]\n",
      "Epoch 47 [Validation]: 100%|██████████| 21/21 [00:01<00:00, 15.02it/s, loss=-20334.21]\n"
     ]
    },
    {
     "name": "stdout",
     "output_type": "stream",
     "text": [
      "\tTotal Loss (NLL + MDMM): -20032.89\n",
      "\tMDMM Loss:               3.08\n",
      "\tRemaining Weights:       99.72 %\n"
     ]
    },
    {
     "name": "stderr",
     "output_type": "stream",
     "text": [
      "Epoch 48 [Training]: 100%|██████████| 84/84 [00:06<00:00, 13.17it/s, loss=-20175.38, λc2D1=1.46, λd1=0.57, λd2=0.96, λd3=0.95]\n",
      "Epoch 48 [Validation]: 100%|██████████| 21/21 [00:01<00:00, 14.52it/s, loss=-20469.93]\n"
     ]
    },
    {
     "name": "stdout",
     "output_type": "stream",
     "text": [
      "\tTotal Loss (NLL + MDMM): -20160.36\n",
      "\tMDMM Loss:               3.14\n",
      "\tRemaining Weights:       99.78 %\n"
     ]
    },
    {
     "name": "stderr",
     "output_type": "stream",
     "text": [
      "Epoch 49 [Training]: 100%|██████████| 84/84 [00:06<00:00, 13.36it/s, loss=-20321.02, λc2D1=1.49, λd1=0.58, λd2=0.98, λd3=0.97]\n",
      "Epoch 49 [Validation]: 100%|██████████| 21/21 [00:01<00:00, 15.01it/s, loss=-20642.32]\n"
     ]
    },
    {
     "name": "stdout",
     "output_type": "stream",
     "text": [
      "\tTotal Loss (NLL + MDMM): -20324.12\n",
      "\tMDMM Loss:               3.21\n",
      "\tRemaining Weights:       99.72 %\n"
     ]
    },
    {
     "name": "stderr",
     "output_type": "stream",
     "text": [
      "Epoch 50 [Training]: 100%|██████████| 84/84 [00:06<00:00, 13.22it/s, loss=-20456.94, λc2D1=1.52, λd1=0.59, λd2=1.00, λd3=0.99]\n",
      "Epoch 50 [Validation]: 100%|██████████| 21/21 [00:01<00:00, 14.85it/s, loss=-20771.57]\n"
     ]
    },
    {
     "name": "stdout",
     "output_type": "stream",
     "text": [
      "\tTotal Loss (NLL + MDMM): -20456.68\n",
      "\tMDMM Loss:               3.28\n",
      "\tRemaining Weights:       99.67 %\n"
     ]
    },
    {
     "name": "stderr",
     "output_type": "stream",
     "text": [
      "Epoch 51 [Training]: 100%|██████████| 84/84 [00:06<00:00, 13.35it/s, loss=-20591.05, λc2D1=1.55, λd1=0.60, λd2=1.01, λd3=1.01]\n",
      "Epoch 51 [Validation]: 100%|██████████| 21/21 [00:01<00:00, 14.98it/s, loss=-20913.27]\n"
     ]
    },
    {
     "name": "stdout",
     "output_type": "stream",
     "text": [
      "\tTotal Loss (NLL + MDMM): -20593.50\n",
      "\tMDMM Loss:               3.34\n",
      "\tRemaining Weights:       99.72 %\n"
     ]
    },
    {
     "name": "stderr",
     "output_type": "stream",
     "text": [
      "Epoch 52 [Training]: 100%|██████████| 84/84 [00:06<00:00, 13.58it/s, loss=-20718.17, λc2D1=1.58, λd1=0.62, λd2=1.03, λd3=1.03]\n",
      "Epoch 52 [Validation]: 100%|██████████| 21/21 [00:01<00:00, 15.27it/s, loss=-21054.99]\n"
     ]
    },
    {
     "name": "stdout",
     "output_type": "stream",
     "text": [
      "\tTotal Loss (NLL + MDMM): -20729.84\n",
      "\tMDMM Loss:               3.41\n",
      "\tRemaining Weights:       99.56 %\n"
     ]
    },
    {
     "name": "stderr",
     "output_type": "stream",
     "text": [
      "Epoch 53 [Training]: 100%|██████████| 84/84 [00:06<00:00, 13.54it/s, loss=-20845.91, λc2D1=1.61, λd1=0.63, λd2=1.05, λd3=1.05]\n",
      "Epoch 53 [Validation]: 100%|██████████| 21/21 [00:01<00:00, 14.86it/s, loss=-21177.55]\n"
     ]
    },
    {
     "name": "stdout",
     "output_type": "stream",
     "text": [
      "\tTotal Loss (NLL + MDMM): -20859.42\n",
      "\tMDMM Loss:               3.48\n",
      "\tRemaining Weights:       99.67 %\n"
     ]
    },
    {
     "name": "stderr",
     "output_type": "stream",
     "text": [
      "Epoch 54 [Training]: 100%|██████████| 84/84 [00:06<00:00, 13.52it/s, loss=-20966.32, λc2D1=1.64, λd1=0.64, λd2=1.07, λd3=1.07]\n",
      "Epoch 54 [Validation]: 100%|██████████| 21/21 [00:01<00:00, 15.13it/s, loss=-21296.41]\n"
     ]
    },
    {
     "name": "stdout",
     "output_type": "stream",
     "text": [
      "\tTotal Loss (NLL + MDMM): -20976.96\n",
      "\tMDMM Loss:               3.54\n",
      "\tRemaining Weights:       99.61 %\n"
     ]
    },
    {
     "name": "stderr",
     "output_type": "stream",
     "text": [
      "Epoch 55 [Training]: 100%|██████████| 84/84 [00:06<00:00, 13.57it/s, loss=-21093.43, λc2D1=1.67, λd1=0.65, λd2=1.09, λd3=1.08]\n",
      "Epoch 55 [Validation]: 100%|██████████| 21/21 [00:01<00:00, 14.66it/s, loss=-21416.81]\n"
     ]
    },
    {
     "name": "stdout",
     "output_type": "stream",
     "text": [
      "\tTotal Loss (NLL + MDMM): -21099.24\n",
      "\tMDMM Loss:               3.61\n",
      "\tRemaining Weights:       99.72 %\n"
     ]
    },
    {
     "name": "stderr",
     "output_type": "stream",
     "text": [
      "Epoch 56 [Training]: 100%|██████████| 84/84 [00:06<00:00, 13.42it/s, loss=-21209.73, λc2D1=1.70, λd1=0.67, λd2=1.11, λd3=1.10]\n",
      "Epoch 56 [Validation]: 100%|██████████| 21/21 [00:01<00:00, 14.55it/s, loss=-21536.06]\n"
     ]
    },
    {
     "name": "stdout",
     "output_type": "stream",
     "text": [
      "\tTotal Loss (NLL + MDMM): -21222.78\n",
      "\tMDMM Loss:               3.67\n",
      "\tRemaining Weights:       99.61 %\n"
     ]
    },
    {
     "name": "stderr",
     "output_type": "stream",
     "text": [
      "Epoch 57 [Training]: 100%|██████████| 84/84 [00:06<00:00, 13.43it/s, loss=-21332.66, λc2D1=1.73, λd1=0.68, λd2=1.13, λd3=1.12]\n",
      "Epoch 57 [Validation]: 100%|██████████| 21/21 [00:01<00:00, 14.91it/s, loss=-21656.93]\n"
     ]
    },
    {
     "name": "stdout",
     "output_type": "stream",
     "text": [
      "\tTotal Loss (NLL + MDMM): -21347.56\n",
      "\tMDMM Loss:               3.74\n",
      "\tRemaining Weights:       99.83 %\n"
     ]
    },
    {
     "name": "stderr",
     "output_type": "stream",
     "text": [
      "Epoch 58 [Training]: 100%|██████████| 84/84 [00:06<00:00, 13.38it/s, loss=-21415.78, λc2D1=1.76, λd1=0.69, λd2=1.15, λd3=1.14]\n",
      "Epoch 58 [Validation]: 100%|██████████| 21/21 [00:01<00:00, 14.68it/s, loss=-21738.02]\n"
     ]
    },
    {
     "name": "stdout",
     "output_type": "stream",
     "text": [
      "\tTotal Loss (NLL + MDMM): -21446.95\n",
      "\tMDMM Loss:               3.81\n",
      "\tRemaining Weights:       99.72 %\n"
     ]
    },
    {
     "name": "stderr",
     "output_type": "stream",
     "text": [
      "Epoch 59 [Training]: 100%|██████████| 84/84 [00:06<00:00, 13.62it/s, loss=-21539.15, λc2D1=1.79, λd1=0.70, λd2=1.17, λd3=1.16]\n",
      "Epoch 59 [Validation]: 100%|██████████| 21/21 [00:01<00:00, 15.04it/s, loss=-21878.22]\n"
     ]
    },
    {
     "name": "stdout",
     "output_type": "stream",
     "text": [
      "\tTotal Loss (NLL + MDMM): -21574.54\n",
      "\tMDMM Loss:               3.87\n",
      "\tRemaining Weights:       99.83 %\n"
     ]
    },
    {
     "name": "stderr",
     "output_type": "stream",
     "text": [
      "Epoch 60 [Training]: 100%|██████████| 84/84 [00:06<00:00, 13.17it/s, loss=-21653.16, λc2D1=1.82, λd1=0.72, λd2=1.19, λd3=1.18]\n",
      "Epoch 60 [Validation]: 100%|██████████| 21/21 [00:01<00:00, 15.03it/s, loss=-21981.19]\n"
     ]
    },
    {
     "name": "stdout",
     "output_type": "stream",
     "text": [
      "\tTotal Loss (NLL + MDMM): -21682.51\n",
      "\tMDMM Loss:               3.94\n",
      "\tRemaining Weights:       99.72 %\n"
     ]
    },
    {
     "name": "stderr",
     "output_type": "stream",
     "text": [
      "Epoch 61 [Training]: 100%|██████████| 84/84 [00:06<00:00, 13.43it/s, loss=-21758.01, λc2D1=1.85, λd1=0.73, λd2=1.21, λd3=1.20]\n",
      "Epoch 61 [Validation]: 100%|██████████| 21/21 [00:01<00:00, 14.74it/s, loss=-22099.28]\n"
     ]
    },
    {
     "name": "stdout",
     "output_type": "stream",
     "text": [
      "\tTotal Loss (NLL + MDMM): -21800.03\n",
      "\tMDMM Loss:               4.00\n",
      "\tRemaining Weights:       99.61 %\n"
     ]
    },
    {
     "name": "stderr",
     "output_type": "stream",
     "text": [
      "Epoch 62 [Training]: 100%|██████████| 84/84 [00:06<00:00, 13.48it/s, loss=-21860.29, λc2D1=1.88, λd1=0.74, λd2=1.23, λd3=1.21]\n",
      "Epoch 62 [Validation]: 100%|██████████| 21/21 [00:01<00:00, 14.87it/s, loss=-22172.92]\n"
     ]
    },
    {
     "name": "stdout",
     "output_type": "stream",
     "text": [
      "\tTotal Loss (NLL + MDMM): -21886.65\n",
      "\tMDMM Loss:               4.07\n",
      "\tRemaining Weights:       99.72 %\n"
     ]
    },
    {
     "name": "stderr",
     "output_type": "stream",
     "text": [
      "Epoch 63 [Training]: 100%|██████████| 84/84 [00:06<00:00, 13.51it/s, loss=-21958.08, λc2D1=1.92, λd1=0.76, λd2=1.25, λd3=1.23]\n",
      "Epoch 63 [Validation]: 100%|██████████| 21/21 [00:01<00:00, 14.52it/s, loss=-22291.04]\n"
     ]
    },
    {
     "name": "stdout",
     "output_type": "stream",
     "text": [
      "\tTotal Loss (NLL + MDMM): -22003.04\n",
      "\tMDMM Loss:               4.14\n",
      "\tRemaining Weights:       99.67 %\n"
     ]
    },
    {
     "name": "stderr",
     "output_type": "stream",
     "text": [
      "Epoch 64 [Training]: 100%|██████████| 84/84 [00:06<00:00, 13.30it/s, loss=-22047.90, λc2D1=1.95, λd1=0.77, λd2=1.27, λd3=1.25]\n",
      "Epoch 64 [Validation]: 100%|██████████| 21/21 [00:01<00:00, 14.69it/s, loss=-22390.34]\n"
     ]
    },
    {
     "name": "stdout",
     "output_type": "stream",
     "text": [
      "\tTotal Loss (NLL + MDMM): -22115.75\n",
      "\tMDMM Loss:               4.20\n",
      "\tRemaining Weights:       99.78 %\n"
     ]
    },
    {
     "name": "stderr",
     "output_type": "stream",
     "text": [
      "Epoch 65 [Training]: 100%|██████████| 84/84 [00:06<00:00, 13.67it/s, loss=-22141.74, λc2D1=1.98, λd1=0.78, λd2=1.29, λd3=1.27]\n",
      "Epoch 65 [Validation]: 100%|██████████| 21/21 [00:01<00:00, 15.05it/s, loss=-22478.74]\n"
     ]
    },
    {
     "name": "stdout",
     "output_type": "stream",
     "text": [
      "\tTotal Loss (NLL + MDMM): -22207.72\n",
      "\tMDMM Loss:               4.27\n",
      "\tRemaining Weights:       99.72 %\n"
     ]
    },
    {
     "name": "stderr",
     "output_type": "stream",
     "text": [
      "Epoch 66 [Training]: 100%|██████████| 84/84 [00:06<00:00, 13.21it/s, loss=-22227.88, λc2D1=2.01, λd1=0.79, λd2=1.31, λd3=1.29]\n",
      "Epoch 66 [Validation]: 100%|██████████| 21/21 [00:01<00:00, 14.49it/s, loss=-22572.29]\n"
     ]
    },
    {
     "name": "stdout",
     "output_type": "stream",
     "text": [
      "\tTotal Loss (NLL + MDMM): -22304.15\n",
      "\tMDMM Loss:               4.34\n",
      "\tRemaining Weights:       99.72 %\n"
     ]
    },
    {
     "name": "stderr",
     "output_type": "stream",
     "text": [
      "Epoch 67 [Training]: 100%|██████████| 84/84 [00:06<00:00, 13.18it/s, loss=-22295.13, λc2D1=2.04, λd1=0.81, λd2=1.33, λd3=1.30]\n",
      "Epoch 67 [Validation]: 100%|██████████| 21/21 [00:01<00:00, 14.60it/s, loss=-22654.50]\n"
     ]
    },
    {
     "name": "stdout",
     "output_type": "stream",
     "text": [
      "\tTotal Loss (NLL + MDMM): -22381.17\n",
      "\tMDMM Loss:               4.40\n",
      "\tRemaining Weights:       99.67 %\n"
     ]
    },
    {
     "name": "stderr",
     "output_type": "stream",
     "text": [
      "Epoch 68 [Training]: 100%|██████████| 84/84 [00:06<00:00, 13.32it/s, loss=-22386.07, λc2D1=2.07, λd1=0.82, λd2=1.35, λd3=1.32]\n",
      "Epoch 68 [Validation]: 100%|██████████| 21/21 [00:01<00:00, 14.85it/s, loss=-22733.02]\n"
     ]
    },
    {
     "name": "stdout",
     "output_type": "stream",
     "text": [
      "\tTotal Loss (NLL + MDMM): -22469.82\n",
      "\tMDMM Loss:               4.47\n",
      "\tRemaining Weights:       99.67 %\n"
     ]
    },
    {
     "name": "stderr",
     "output_type": "stream",
     "text": [
      "Epoch 69 [Training]: 100%|██████████| 84/84 [00:06<00:00, 13.44it/s, loss=-22462.25, λc2D1=2.10, λd1=0.83, λd2=1.37, λd3=1.34]\n",
      "Epoch 69 [Validation]: 100%|██████████| 21/21 [00:01<00:00, 14.62it/s, loss=-22813.08]\n"
     ]
    },
    {
     "name": "stdout",
     "output_type": "stream",
     "text": [
      "\tTotal Loss (NLL + MDMM): -22555.96\n",
      "\tMDMM Loss:               4.53\n",
      "\tRemaining Weights:       99.67 %\n"
     ]
    },
    {
     "name": "stderr",
     "output_type": "stream",
     "text": [
      "Epoch 70 [Training]: 100%|██████████| 84/84 [00:06<00:00, 13.39it/s, loss=-22537.32, λc2D1=2.13, λd1=0.85, λd2=1.39, λd3=1.36]\n",
      "Epoch 70 [Validation]: 100%|██████████| 21/21 [00:01<00:00, 14.56it/s, loss=-22884.10]\n"
     ]
    },
    {
     "name": "stdout",
     "output_type": "stream",
     "text": [
      "\tTotal Loss (NLL + MDMM): -22620.13\n",
      "\tMDMM Loss:               4.60\n",
      "\tRemaining Weights:       99.50 %\n"
     ]
    },
    {
     "name": "stderr",
     "output_type": "stream",
     "text": [
      "Epoch 71 [Training]: 100%|██████████| 84/84 [00:06<00:00, 13.32it/s, loss=-22618.65, λc2D1=2.16, λd1=0.86, λd2=1.41, λd3=1.38]\n",
      "Epoch 71 [Validation]: 100%|██████████| 21/21 [00:01<00:00, 15.13it/s, loss=-22950.77]\n"
     ]
    },
    {
     "name": "stdout",
     "output_type": "stream",
     "text": [
      "\tTotal Loss (NLL + MDMM): -22703.76\n",
      "\tMDMM Loss:               4.67\n",
      "\tRemaining Weights:       99.83 %\n"
     ]
    },
    {
     "name": "stderr",
     "output_type": "stream",
     "text": [
      "Epoch 72 [Training]: 100%|██████████| 84/84 [00:06<00:00, 13.37it/s, loss=-22691.06, λc2D1=2.19, λd1=0.87, λd2=1.43, λd3=1.39]\n",
      "Epoch 72 [Validation]: 100%|██████████| 21/21 [00:01<00:00, 14.24it/s, loss=-23015.61]\n"
     ]
    },
    {
     "name": "stdout",
     "output_type": "stream",
     "text": [
      "\tTotal Loss (NLL + MDMM): -22776.82\n",
      "\tMDMM Loss:               4.73\n",
      "\tRemaining Weights:       99.56 %\n"
     ]
    },
    {
     "name": "stderr",
     "output_type": "stream",
     "text": [
      "Epoch 73 [Training]: 100%|██████████| 84/84 [00:06<00:00, 13.12it/s, loss=-22771.60, λc2D1=2.22, λd1=0.88, λd2=1.45, λd3=1.41]\n",
      "Epoch 73 [Validation]: 100%|██████████| 21/21 [00:01<00:00, 14.66it/s, loss=-23096.97]\n"
     ]
    },
    {
     "name": "stdout",
     "output_type": "stream",
     "text": [
      "\tTotal Loss (NLL + MDMM): -22854.41\n",
      "\tMDMM Loss:               4.80\n",
      "\tRemaining Weights:       100.00 %\n"
     ]
    },
    {
     "name": "stderr",
     "output_type": "stream",
     "text": [
      "Epoch 74 [Training]: 100%|██████████| 84/84 [00:06<00:00, 13.02it/s, loss=-22820.65, λc2D1=2.26, λd1=0.90, λd2=1.47, λd3=1.43]\n",
      "Epoch 74 [Validation]: 100%|██████████| 21/21 [00:01<00:00, 14.97it/s, loss=-23149.64]\n"
     ]
    },
    {
     "name": "stdout",
     "output_type": "stream",
     "text": [
      "\tTotal Loss (NLL + MDMM): -22919.39\n",
      "\tMDMM Loss:               4.86\n",
      "\tRemaining Weights:       99.83 %\n"
     ]
    },
    {
     "name": "stderr",
     "output_type": "stream",
     "text": [
      "Epoch 75 [Training]: 100%|██████████| 84/84 [00:06<00:00, 13.47it/s, loss=-22898.89, λc2D1=2.29, λd1=0.91, λd2=1.49, λd3=1.45]\n",
      "Epoch 75 [Validation]: 100%|██████████| 21/21 [00:01<00:00, 14.82it/s, loss=-23220.82]\n"
     ]
    },
    {
     "name": "stdout",
     "output_type": "stream",
     "text": [
      "\tTotal Loss (NLL + MDMM): -22989.37\n",
      "\tMDMM Loss:               4.93\n",
      "\tRemaining Weights:       99.94 %\n"
     ]
    },
    {
     "name": "stderr",
     "output_type": "stream",
     "text": [
      "Epoch 76 [Training]: 100%|██████████| 84/84 [00:06<00:00, 13.28it/s, loss=-22961.71, λc2D1=2.32, λd1=0.92, λd2=1.51, λd3=1.46]\n",
      "Epoch 76 [Validation]: 100%|██████████| 21/21 [00:01<00:00, 14.92it/s, loss=-23270.80]\n"
     ]
    },
    {
     "name": "stdout",
     "output_type": "stream",
     "text": [
      "\tTotal Loss (NLL + MDMM): -23047.39\n",
      "\tMDMM Loss:               5.00\n",
      "\tRemaining Weights:       99.94 %\n"
     ]
    },
    {
     "name": "stderr",
     "output_type": "stream",
     "text": [
      "Epoch 77 [Training]: 100%|██████████| 84/84 [00:06<00:00, 13.26it/s, loss=-23010.44, λc2D1=2.35, λd1=0.94, λd2=1.53, λd3=1.48]\n",
      "Epoch 77 [Validation]: 100%|██████████| 21/21 [00:01<00:00, 14.39it/s, loss=-23338.44]\n"
     ]
    },
    {
     "name": "stdout",
     "output_type": "stream",
     "text": [
      "\tTotal Loss (NLL + MDMM): -23107.93\n",
      "\tMDMM Loss:               5.06\n",
      "\tRemaining Weights:       99.78 %\n"
     ]
    },
    {
     "name": "stderr",
     "output_type": "stream",
     "text": [
      "Epoch 78 [Training]: 100%|██████████| 84/84 [00:06<00:00, 13.21it/s, loss=-23070.87, λc2D1=2.38, λd1=0.95, λd2=1.55, λd3=1.50]\n",
      "Epoch 78 [Validation]: 100%|██████████| 21/21 [00:01<00:00, 14.53it/s, loss=-23394.58]\n"
     ]
    },
    {
     "name": "stdout",
     "output_type": "stream",
     "text": [
      "\tTotal Loss (NLL + MDMM): -23170.58\n",
      "\tMDMM Loss:               5.13\n",
      "\tRemaining Weights:       99.83 %\n"
     ]
    },
    {
     "name": "stderr",
     "output_type": "stream",
     "text": [
      "Epoch 79 [Training]: 100%|██████████| 84/84 [00:06<00:00, 13.11it/s, loss=-23130.61, λc2D1=2.41, λd1=0.96, λd2=1.58, λd3=1.52]\n",
      "Epoch 79 [Validation]: 100%|██████████| 21/21 [00:01<00:00, 14.51it/s, loss=-23439.96]\n"
     ]
    },
    {
     "name": "stdout",
     "output_type": "stream",
     "text": [
      "\tTotal Loss (NLL + MDMM): -23228.12\n",
      "\tMDMM Loss:               5.19\n",
      "\tRemaining Weights:       99.67 %\n"
     ]
    },
    {
     "name": "stderr",
     "output_type": "stream",
     "text": [
      "Epoch 80 [Training]: 100%|██████████| 84/84 [00:06<00:00, 13.29it/s, loss=-23199.19, λc2D1=2.44, λd1=0.98, λd2=1.60, λd3=1.53]\n",
      "Epoch 80 [Validation]: 100%|██████████| 21/21 [00:01<00:00, 14.41it/s, loss=-23517.75]\n"
     ]
    },
    {
     "name": "stdout",
     "output_type": "stream",
     "text": [
      "\tTotal Loss (NLL + MDMM): -23292.92\n",
      "\tMDMM Loss:               5.26\n",
      "\tRemaining Weights:       99.56 %\n"
     ]
    },
    {
     "name": "stderr",
     "output_type": "stream",
     "text": [
      "Epoch 81 [Training]: 100%|██████████| 84/84 [00:06<00:00, 13.43it/s, loss=-23242.89, λc2D1=2.47, λd1=0.99, λd2=1.62, λd3=1.55]\n",
      "Epoch 81 [Validation]: 100%|██████████| 21/21 [00:01<00:00, 14.63it/s, loss=-23572.57]\n"
     ]
    },
    {
     "name": "stdout",
     "output_type": "stream",
     "text": [
      "\tTotal Loss (NLL + MDMM): -23351.89\n",
      "\tMDMM Loss:               5.33\n",
      "\tRemaining Weights:       99.56 %\n"
     ]
    },
    {
     "name": "stderr",
     "output_type": "stream",
     "text": [
      "Epoch 82 [Training]: 100%|██████████| 84/84 [00:06<00:00, 13.06it/s, loss=-23299.53, λc2D1=2.50, λd1=1.00, λd2=1.64, λd3=1.57]\n",
      "Epoch 82 [Validation]: 100%|██████████| 21/21 [00:01<00:00, 14.57it/s, loss=-23610.08]\n"
     ]
    },
    {
     "name": "stdout",
     "output_type": "stream",
     "text": [
      "\tTotal Loss (NLL + MDMM): -23397.14\n",
      "\tMDMM Loss:               5.39\n",
      "\tRemaining Weights:       99.67 %\n"
     ]
    },
    {
     "name": "stderr",
     "output_type": "stream",
     "text": [
      "Epoch 83 [Training]: 100%|██████████| 84/84 [00:06<00:00, 13.00it/s, loss=-23342.23, λc2D1=2.54, λd1=1.02, λd2=1.66, λd3=1.59]\n",
      "Epoch 83 [Validation]: 100%|██████████| 21/21 [00:01<00:00, 15.14it/s, loss=-23675.53]\n"
     ]
    },
    {
     "name": "stdout",
     "output_type": "stream",
     "text": [
      "\tTotal Loss (NLL + MDMM): -23459.84\n",
      "\tMDMM Loss:               5.46\n",
      "\tRemaining Weights:       99.56 %\n"
     ]
    },
    {
     "name": "stderr",
     "output_type": "stream",
     "text": [
      "Epoch 84 [Training]: 100%|██████████| 84/84 [00:06<00:00, 13.45it/s, loss=-23402.00, λc2D1=2.57, λd1=1.03, λd2=1.68, λd3=1.60]\n",
      "Epoch 84 [Validation]: 100%|██████████| 21/21 [00:01<00:00, 14.80it/s, loss=-23726.53]\n"
     ]
    },
    {
     "name": "stdout",
     "output_type": "stream",
     "text": [
      "\tTotal Loss (NLL + MDMM): -23515.25\n",
      "\tMDMM Loss:               5.52\n",
      "\tRemaining Weights:       99.61 %\n"
     ]
    },
    {
     "name": "stderr",
     "output_type": "stream",
     "text": [
      "Epoch 85 [Training]: 100%|██████████| 84/84 [00:06<00:00, 13.42it/s, loss=-23459.87, λc2D1=2.60, λd1=1.04, λd2=1.70, λd3=1.62]\n",
      "Epoch 85 [Validation]: 100%|██████████| 21/21 [00:01<00:00, 14.99it/s, loss=-23780.68]\n"
     ]
    },
    {
     "name": "stdout",
     "output_type": "stream",
     "text": [
      "\tTotal Loss (NLL + MDMM): -23569.47\n",
      "\tMDMM Loss:               5.59\n",
      "\tRemaining Weights:       99.67 %\n"
     ]
    },
    {
     "name": "stderr",
     "output_type": "stream",
     "text": [
      "Epoch 86 [Training]: 100%|██████████| 84/84 [00:06<00:00, 13.08it/s, loss=-23513.96, λc2D1=2.63, λd1=1.06, λd2=1.72, λd3=1.64]\n",
      "Epoch 86 [Validation]: 100%|██████████| 21/21 [00:01<00:00, 14.60it/s, loss=-23830.76]\n"
     ]
    },
    {
     "name": "stdout",
     "output_type": "stream",
     "text": [
      "\tTotal Loss (NLL + MDMM): -23620.93\n",
      "\tMDMM Loss:               5.66\n",
      "\tRemaining Weights:       99.61 %\n"
     ]
    },
    {
     "name": "stderr",
     "output_type": "stream",
     "text": [
      "Epoch 87 [Training]: 100%|██████████| 84/84 [00:06<00:00, 13.27it/s, loss=-23565.64, λc2D1=2.66, λd1=1.07, λd2=1.74, λd3=1.65]\n",
      "Epoch 87 [Validation]: 100%|██████████| 21/21 [00:01<00:00, 14.56it/s, loss=-23876.46]\n"
     ]
    },
    {
     "name": "stdout",
     "output_type": "stream",
     "text": [
      "\tTotal Loss (NLL + MDMM): -23668.69\n",
      "\tMDMM Loss:               5.72\n",
      "\tRemaining Weights:       99.61 %\n"
     ]
    },
    {
     "name": "stderr",
     "output_type": "stream",
     "text": [
      "Epoch 88 [Training]: 100%|██████████| 84/84 [00:06<00:00, 13.15it/s, loss=-23613.87, λc2D1=2.69, λd1=1.08, λd2=1.76, λd3=1.67]\n",
      "Epoch 88 [Validation]: 100%|██████████| 21/21 [00:01<00:00, 14.42it/s, loss=-23927.84]\n"
     ]
    },
    {
     "name": "stdout",
     "output_type": "stream",
     "text": [
      "\tTotal Loss (NLL + MDMM): -23721.38\n",
      "\tMDMM Loss:               5.78\n",
      "\tRemaining Weights:       99.67 %\n"
     ]
    },
    {
     "name": "stderr",
     "output_type": "stream",
     "text": [
      "Epoch 89 [Training]: 100%|██████████| 84/84 [00:06<00:00, 12.93it/s, loss=-23662.87, λc2D1=2.72, λd1=1.10, λd2=1.78, λd3=1.69]\n",
      "Epoch 89 [Validation]: 100%|██████████| 21/21 [00:01<00:00, 14.79it/s, loss=-23980.88]\n"
     ]
    },
    {
     "name": "stdout",
     "output_type": "stream",
     "text": [
      "\tTotal Loss (NLL + MDMM): -23774.22\n",
      "\tMDMM Loss:               5.86\n",
      "\tRemaining Weights:       99.67 %\n"
     ]
    },
    {
     "name": "stderr",
     "output_type": "stream",
     "text": [
      "Epoch 90 [Training]: 100%|██████████| 84/84 [00:06<00:00, 13.15it/s, loss=-23713.39, λc2D1=2.75, λd1=1.11, λd2=1.80, λd3=1.71]\n",
      "Epoch 90 [Validation]: 100%|██████████| 21/21 [00:01<00:00, 14.82it/s, loss=-24027.20]\n"
     ]
    },
    {
     "name": "stdout",
     "output_type": "stream",
     "text": [
      "\tTotal Loss (NLL + MDMM): -23822.07\n",
      "\tMDMM Loss:               5.92\n",
      "\tRemaining Weights:       99.67 %\n"
     ]
    },
    {
     "name": "stderr",
     "output_type": "stream",
     "text": [
      "Epoch 91 [Training]: 100%|██████████| 84/84 [00:06<00:00, 13.43it/s, loss=-23758.79, λc2D1=2.78, λd1=1.12, λd2=1.82, λd3=1.72]\n",
      "Epoch 91 [Validation]: 100%|██████████| 21/21 [00:01<00:00, 14.86it/s, loss=-24084.70]\n"
     ]
    },
    {
     "name": "stdout",
     "output_type": "stream",
     "text": [
      "\tTotal Loss (NLL + MDMM): -23874.99\n",
      "\tMDMM Loss:               5.99\n",
      "\tRemaining Weights:       99.61 %\n"
     ]
    },
    {
     "name": "stderr",
     "output_type": "stream",
     "text": [
      "Epoch 92 [Training]: 100%|██████████| 84/84 [00:06<00:00, 13.11it/s, loss=-23805.05, λc2D1=2.82, λd1=1.14, λd2=1.84, λd3=1.74]\n",
      "Epoch 92 [Validation]: 100%|██████████| 21/21 [00:01<00:00, 14.60it/s, loss=-24136.36]\n"
     ]
    },
    {
     "name": "stdout",
     "output_type": "stream",
     "text": [
      "\tTotal Loss (NLL + MDMM): -23924.15\n",
      "\tMDMM Loss:               6.06\n",
      "\tRemaining Weights:       99.45 %\n"
     ]
    },
    {
     "name": "stderr",
     "output_type": "stream",
     "text": [
      "Epoch 93 [Training]: 100%|██████████| 84/84 [00:06<00:00, 13.34it/s, loss=-23860.19, λc2D1=2.85, λd1=1.15, λd2=1.86, λd3=1.76]\n",
      "Epoch 93 [Validation]: 100%|██████████| 21/21 [00:01<00:00, 14.79it/s, loss=-24186.88]\n"
     ]
    },
    {
     "name": "stdout",
     "output_type": "stream",
     "text": [
      "\tTotal Loss (NLL + MDMM): -23979.83\n",
      "\tMDMM Loss:               6.13\n",
      "\tRemaining Weights:       99.61 %\n"
     ]
    },
    {
     "name": "stderr",
     "output_type": "stream",
     "text": [
      "Epoch 94 [Training]: 100%|██████████| 84/84 [00:06<00:00, 13.38it/s, loss=-23907.52, λc2D1=2.88, λd1=1.16, λd2=1.88, λd3=1.77]\n",
      "Epoch 94 [Validation]: 100%|██████████| 21/21 [00:01<00:00, 14.78it/s, loss=-24229.12]\n"
     ]
    },
    {
     "name": "stdout",
     "output_type": "stream",
     "text": [
      "\tTotal Loss (NLL + MDMM): -24022.22\n",
      "\tMDMM Loss:               6.20\n",
      "\tRemaining Weights:       99.78 %\n"
     ]
    },
    {
     "name": "stderr",
     "output_type": "stream",
     "text": [
      "Epoch 95 [Training]: 100%|██████████| 84/84 [00:06<00:00, 13.09it/s, loss=-23957.78, λc2D1=2.91, λd1=1.18, λd2=1.90, λd3=1.79]\n",
      "Epoch 95 [Validation]: 100%|██████████| 21/21 [00:01<00:00, 14.46it/s, loss=-24274.96]\n"
     ]
    },
    {
     "name": "stdout",
     "output_type": "stream",
     "text": [
      "\tTotal Loss (NLL + MDMM): -24072.88\n",
      "\tMDMM Loss:               6.27\n",
      "\tRemaining Weights:       99.72 %\n"
     ]
    },
    {
     "name": "stderr",
     "output_type": "stream",
     "text": [
      "Epoch 96 [Training]: 100%|██████████| 84/84 [00:06<00:00, 13.27it/s, loss=-24000.97, λc2D1=2.94, λd1=1.19, λd2=1.92, λd3=1.81]\n",
      "Epoch 96 [Validation]: 100%|██████████| 21/21 [00:01<00:00, 14.51it/s, loss=-24324.82]\n"
     ]
    },
    {
     "name": "stdout",
     "output_type": "stream",
     "text": [
      "\tTotal Loss (NLL + MDMM): -24121.59\n",
      "\tMDMM Loss:               6.34\n",
      "\tRemaining Weights:       99.72 %\n"
     ]
    },
    {
     "name": "stderr",
     "output_type": "stream",
     "text": [
      "Epoch 97 [Training]: 100%|██████████| 84/84 [00:06<00:00, 13.07it/s, loss=-24049.46, λc2D1=2.97, λd1=1.21, λd2=1.94, λd3=1.82]\n",
      "Epoch 97 [Validation]: 100%|██████████| 21/21 [00:01<00:00, 14.64it/s, loss=-24373.59]\n"
     ]
    },
    {
     "name": "stdout",
     "output_type": "stream",
     "text": [
      "\tTotal Loss (NLL + MDMM): -24169.94\n",
      "\tMDMM Loss:               6.41\n",
      "\tRemaining Weights:       99.72 %\n"
     ]
    },
    {
     "name": "stderr",
     "output_type": "stream",
     "text": [
      "Epoch 98 [Training]: 100%|██████████| 84/84 [00:06<00:00, 13.25it/s, loss=-24098.01, λc2D1=3.01, λd1=1.22, λd2=1.96, λd3=1.84]\n",
      "Epoch 98 [Validation]: 100%|██████████| 21/21 [00:01<00:00, 14.85it/s, loss=-24417.27]\n"
     ]
    },
    {
     "name": "stdout",
     "output_type": "stream",
     "text": [
      "\tTotal Loss (NLL + MDMM): -24213.43\n",
      "\tMDMM Loss:               6.48\n",
      "\tRemaining Weights:       99.89 %\n"
     ]
    },
    {
     "name": "stderr",
     "output_type": "stream",
     "text": [
      "Epoch 99 [Training]: 100%|██████████| 84/84 [00:06<00:00, 13.31it/s, loss=-24125.28, λc2D1=3.04, λd1=1.23, λd2=1.98, λd3=1.86]\n",
      "Epoch 99 [Validation]: 100%|██████████| 21/21 [00:01<00:00, 14.75it/s, loss=-24431.21]\n"
     ]
    },
    {
     "name": "stdout",
     "output_type": "stream",
     "text": [
      "\tTotal Loss (NLL + MDMM): -24215.09\n",
      "\tMDMM Loss:               6.55\n",
      "\tRemaining Weights:       99.89 %\n"
     ]
    },
    {
     "name": "stderr",
     "output_type": "stream",
     "text": [
      "Epoch 100 [Training]: 100%|██████████| 84/84 [00:06<00:00, 13.31it/s, loss=-24185.53, λc2D1=3.07, λd1=1.25, λd2=2.00, λd3=1.87]\n",
      "Epoch 100 [Validation]: 100%|██████████| 21/21 [00:01<00:00, 14.86it/s, loss=-24513.13]\n"
     ]
    },
    {
     "name": "stdout",
     "output_type": "stream",
     "text": [
      "\tTotal Loss (NLL + MDMM): -24306.50\n",
      "\tMDMM Loss:               6.63\n",
      "\tRemaining Weights:       99.78 %\n"
     ]
    },
    {
     "name": "stderr",
     "output_type": "stream",
     "text": [
      "Epoch 101 [Training]: 100%|██████████| 84/84 [00:06<00:00, 13.38it/s, loss=-24235.06, λc2D1=3.10, λd1=1.26, λd2=2.02, λd3=1.89]\n",
      "Epoch 101 [Validation]: 100%|██████████| 21/21 [00:01<00:00, 14.99it/s, loss=-24562.83]\n"
     ]
    },
    {
     "name": "stdout",
     "output_type": "stream",
     "text": [
      "\tTotal Loss (NLL + MDMM): -24352.82\n",
      "\tMDMM Loss:               6.70\n",
      "\tRemaining Weights:       99.61 %\n"
     ]
    },
    {
     "name": "stderr",
     "output_type": "stream",
     "text": [
      "Epoch 102 [Training]: 100%|██████████| 84/84 [00:06<00:00, 13.43it/s, loss=-24084.12, λc2D1=3.13, λd1=1.27, λd2=2.04, λd3=1.91]\n",
      "Epoch 102 [Validation]: 100%|██████████| 21/21 [00:01<00:00, 14.55it/s, loss=-24461.86]\n"
     ]
    },
    {
     "name": "stdout",
     "output_type": "stream",
     "text": [
      "\tTotal Loss (NLL + MDMM): -24221.86\n",
      "\tMDMM Loss:               6.77\n",
      "\tRemaining Weights:       99.83 %\n"
     ]
    },
    {
     "name": "stderr",
     "output_type": "stream",
     "text": [
      "Epoch 103 [Training]: 100%|██████████| 84/84 [00:06<00:00, 13.27it/s, loss=-24331.15, λc2D1=3.16, λd1=1.29, λd2=2.07, λd3=1.92]\n",
      "Epoch 103 [Validation]: 100%|██████████| 21/21 [00:01<00:00, 14.62it/s, loss=-24653.68]\n"
     ]
    },
    {
     "name": "stdout",
     "output_type": "stream",
     "text": [
      "\tTotal Loss (NLL + MDMM): -24445.57\n",
      "\tMDMM Loss:               6.84\n",
      "\tRemaining Weights:       99.83 %\n"
     ]
    },
    {
     "name": "stderr",
     "output_type": "stream",
     "text": [
      "Epoch 104 [Training]: 100%|██████████| 84/84 [00:06<00:00, 13.42it/s, loss=-24365.42, λc2D1=3.19, λd1=1.30, λd2=2.09, λd3=1.94]\n",
      "Epoch 104 [Validation]: 100%|██████████| 21/21 [00:01<00:00, 14.28it/s, loss=-24693.74]\n"
     ]
    },
    {
     "name": "stdout",
     "output_type": "stream",
     "text": [
      "\tTotal Loss (NLL + MDMM): -24483.20\n",
      "\tMDMM Loss:               6.91\n",
      "\tRemaining Weights:       99.89 %\n"
     ]
    },
    {
     "name": "stderr",
     "output_type": "stream",
     "text": [
      "Epoch 105 [Training]: 100%|██████████| 84/84 [00:06<00:00, 13.20it/s, loss=-24420.61, λc2D1=3.23, λd1=1.32, λd2=2.11, λd3=1.96]\n",
      "Epoch 105 [Validation]: 100%|██████████| 21/21 [00:01<00:00, 15.14it/s, loss=-24743.90]\n"
     ]
    },
    {
     "name": "stdout",
     "output_type": "stream",
     "text": [
      "\tTotal Loss (NLL + MDMM): -24540.03\n",
      "\tMDMM Loss:               6.98\n",
      "\tRemaining Weights:       99.94 %\n"
     ]
    },
    {
     "name": "stderr",
     "output_type": "stream",
     "text": [
      "Epoch 106 [Training]: 100%|██████████| 84/84 [00:06<00:00, 13.27it/s, loss=-24461.57, λc2D1=3.26, λd1=1.33, λd2=2.13, λd3=1.97]\n",
      "Epoch 106 [Validation]: 100%|██████████| 21/21 [00:01<00:00, 15.10it/s, loss=-24790.73]\n"
     ]
    },
    {
     "name": "stdout",
     "output_type": "stream",
     "text": [
      "\tTotal Loss (NLL + MDMM): -24583.62\n",
      "\tMDMM Loss:               7.06\n",
      "\tRemaining Weights:       99.94 %\n"
     ]
    },
    {
     "name": "stderr",
     "output_type": "stream",
     "text": [
      "Epoch 107 [Training]: 100%|██████████| 84/84 [00:06<00:00, 13.45it/s, loss=-24501.94, λc2D1=3.29, λd1=1.34, λd2=2.15, λd3=1.99]\n",
      "Epoch 107 [Validation]: 100%|██████████| 21/21 [00:01<00:00, 15.00it/s, loss=-24828.79]\n"
     ]
    },
    {
     "name": "stdout",
     "output_type": "stream",
     "text": [
      "\tTotal Loss (NLL + MDMM): -24616.26\n",
      "\tMDMM Loss:               7.13\n",
      "\tRemaining Weights:       99.89 %\n"
     ]
    },
    {
     "name": "stderr",
     "output_type": "stream",
     "text": [
      "Epoch 108 [Training]: 100%|██████████| 84/84 [00:06<00:00, 13.16it/s, loss=-24552.83, λc2D1=3.32, λd1=1.36, λd2=2.17, λd3=2.00]\n",
      "Epoch 108 [Validation]: 100%|██████████| 21/21 [00:01<00:00, 14.97it/s, loss=-24875.17]\n"
     ]
    },
    {
     "name": "stdout",
     "output_type": "stream",
     "text": [
      "\tTotal Loss (NLL + MDMM): -24669.70\n",
      "\tMDMM Loss:               7.20\n",
      "\tRemaining Weights:       99.78 %\n"
     ]
    },
    {
     "name": "stderr",
     "output_type": "stream",
     "text": [
      "Epoch 109 [Training]: 100%|██████████| 84/84 [00:06<00:00, 13.06it/s, loss=-24601.96, λc2D1=3.35, λd1=1.37, λd2=2.19, λd3=2.02]\n",
      "Epoch 109 [Validation]: 100%|██████████| 21/21 [00:01<00:00, 14.43it/s, loss=-24920.94]\n"
     ]
    },
    {
     "name": "stdout",
     "output_type": "stream",
     "text": [
      "\tTotal Loss (NLL + MDMM): -24713.56\n",
      "\tMDMM Loss:               7.27\n",
      "\tRemaining Weights:       99.89 %\n"
     ]
    },
    {
     "name": "stderr",
     "output_type": "stream",
     "text": [
      "Epoch 110 [Training]: 100%|██████████| 84/84 [00:06<00:00, 13.35it/s, loss=-24642.31, λc2D1=3.38, λd1=1.39, λd2=2.21, λd3=2.04]\n",
      "Epoch 110 [Validation]: 100%|██████████| 21/21 [00:01<00:00, 14.60it/s, loss=-24962.97]\n"
     ]
    },
    {
     "name": "stdout",
     "output_type": "stream",
     "text": [
      "\tTotal Loss (NLL + MDMM): -24758.55\n",
      "\tMDMM Loss:               7.34\n",
      "\tRemaining Weights:       99.89 %\n"
     ]
    },
    {
     "name": "stderr",
     "output_type": "stream",
     "text": [
      "Epoch 111 [Training]: 100%|██████████| 84/84 [00:06<00:00, 13.34it/s, loss=-24686.91, λc2D1=3.42, λd1=1.40, λd2=2.23, λd3=2.05]\n",
      "Epoch 111 [Validation]: 100%|██████████| 21/21 [00:01<00:00, 14.68it/s, loss=-25006.60]\n"
     ]
    },
    {
     "name": "stdout",
     "output_type": "stream",
     "text": [
      "\tTotal Loss (NLL + MDMM): -24803.68\n",
      "\tMDMM Loss:               7.42\n",
      "\tRemaining Weights:       99.72 %\n"
     ]
    },
    {
     "name": "stderr",
     "output_type": "stream",
     "text": [
      "Epoch 112 [Training]: 100%|██████████| 84/84 [00:06<00:00, 13.48it/s, loss=-24733.32, λc2D1=3.45, λd1=1.41, λd2=2.25, λd3=2.07]\n",
      "Epoch 112 [Validation]: 100%|██████████| 21/21 [00:01<00:00, 14.93it/s, loss=-25047.12]\n"
     ]
    },
    {
     "name": "stdout",
     "output_type": "stream",
     "text": [
      "\tTotal Loss (NLL + MDMM): -24842.21\n",
      "\tMDMM Loss:               7.49\n",
      "\tRemaining Weights:       99.56 %\n"
     ]
    },
    {
     "name": "stderr",
     "output_type": "stream",
     "text": [
      "Epoch 113 [Training]: 100%|██████████| 84/84 [00:06<00:00, 13.34it/s, loss=-24775.78, λc2D1=3.48, λd1=1.43, λd2=2.27, λd3=2.09]\n",
      "Epoch 113 [Validation]: 100%|██████████| 21/21 [00:01<00:00, 14.98it/s, loss=-25095.39]\n"
     ]
    },
    {
     "name": "stdout",
     "output_type": "stream",
     "text": [
      "\tTotal Loss (NLL + MDMM): -24888.85\n",
      "\tMDMM Loss:               7.56\n",
      "\tRemaining Weights:       99.78 %\n"
     ]
    },
    {
     "name": "stderr",
     "output_type": "stream",
     "text": [
      "Epoch 114 [Training]: 100%|██████████| 84/84 [00:06<00:00, 13.51it/s, loss=-24817.88, λc2D1=3.51, λd1=1.44, λd2=2.29, λd3=2.10]\n",
      "Epoch 114 [Validation]: 100%|██████████| 21/21 [00:01<00:00, 15.08it/s, loss=-25108.66]\n"
     ]
    },
    {
     "name": "stdout",
     "output_type": "stream",
     "text": [
      "\tTotal Loss (NLL + MDMM): -24908.94\n",
      "\tMDMM Loss:               7.63\n",
      "\tRemaining Weights:       99.56 %\n"
     ]
    },
    {
     "name": "stderr",
     "output_type": "stream",
     "text": [
      "Epoch 115 [Training]: 100%|██████████| 84/84 [00:06<00:00, 13.25it/s, loss=-24861.44, λc2D1=3.54, λd1=1.46, λd2=2.31, λd3=2.12]\n",
      "Epoch 115 [Validation]: 100%|██████████| 21/21 [00:01<00:00, 15.06it/s, loss=-25166.82]\n"
     ]
    },
    {
     "name": "stdout",
     "output_type": "stream",
     "text": [
      "\tTotal Loss (NLL + MDMM): -24964.54\n",
      "\tMDMM Loss:               7.71\n",
      "\tRemaining Weights:       99.72 %\n"
     ]
    },
    {
     "name": "stderr",
     "output_type": "stream",
     "text": [
      "Epoch 116 [Training]: 100%|██████████| 84/84 [00:06<00:00, 13.33it/s, loss=-24181.87, λc2D1=3.58, λd1=1.47, λd2=2.33, λd3=2.13]\n",
      "Epoch 116 [Validation]: 100%|██████████| 21/21 [00:01<00:00, 14.36it/s, loss=-24552.38]\n"
     ]
    },
    {
     "name": "stdout",
     "output_type": "stream",
     "text": [
      "\tTotal Loss (NLL + MDMM): -24373.68\n",
      "\tMDMM Loss:               7.78\n",
      "\tRemaining Weights:       99.72 %\n"
     ]
    },
    {
     "name": "stderr",
     "output_type": "stream",
     "text": [
      "Epoch 117 [Training]: 100%|██████████| 84/84 [00:06<00:00, 13.32it/s, loss=-24941.10, λc2D1=3.61, λd1=1.49, λd2=2.35, λd3=2.15]\n",
      "Epoch 117 [Validation]: 100%|██████████| 21/21 [00:01<00:00, 14.79it/s, loss=-25225.78]\n"
     ]
    },
    {
     "name": "stdout",
     "output_type": "stream",
     "text": [
      "\tTotal Loss (NLL + MDMM): -25033.94\n",
      "\tMDMM Loss:               7.85\n",
      "\tRemaining Weights:       99.78 %\n"
     ]
    },
    {
     "name": "stderr",
     "output_type": "stream",
     "text": [
      "Epoch 118 [Training]: 100%|██████████| 84/84 [00:06<00:00, 13.54it/s, loss=-24993.34, λc2D1=3.64, λd1=1.50, λd2=2.37, λd3=2.17]\n",
      "Epoch 118 [Validation]: 100%|██████████| 21/21 [00:01<00:00, 14.98it/s, loss=-25290.26]\n"
     ]
    },
    {
     "name": "stdout",
     "output_type": "stream",
     "text": [
      "\tTotal Loss (NLL + MDMM): -25089.61\n",
      "\tMDMM Loss:               7.93\n",
      "\tRemaining Weights:       99.89 %\n"
     ]
    },
    {
     "name": "stderr",
     "output_type": "stream",
     "text": [
      "Epoch 119 [Training]: 100%|██████████| 84/84 [00:06<00:00, 13.19it/s, loss=-25032.41, λc2D1=3.67, λd1=1.52, λd2=2.39, λd3=2.18]\n",
      "Epoch 119 [Validation]: 100%|██████████| 21/21 [00:01<00:00, 14.97it/s, loss=-25324.22]\n"
     ]
    },
    {
     "name": "stdout",
     "output_type": "stream",
     "text": [
      "\tTotal Loss (NLL + MDMM): -25125.06\n",
      "\tMDMM Loss:               8.00\n",
      "\tRemaining Weights:       99.83 %\n"
     ]
    },
    {
     "name": "stderr",
     "output_type": "stream",
     "text": [
      "Epoch 120 [Training]: 100%|██████████| 84/84 [00:06<00:00, 13.24it/s, loss=-25078.52, λc2D1=3.70, λd1=1.53, λd2=2.42, λd3=2.20]\n",
      "Epoch 120 [Validation]: 100%|██████████| 21/21 [00:01<00:00, 14.87it/s, loss=-25375.49]\n"
     ]
    },
    {
     "name": "stdout",
     "output_type": "stream",
     "text": [
      "\tTotal Loss (NLL + MDMM): -25173.05\n",
      "\tMDMM Loss:               8.07\n",
      "\tRemaining Weights:       99.72 %\n"
     ]
    },
    {
     "name": "stderr",
     "output_type": "stream",
     "text": [
      "Epoch 121 [Training]: 100%|██████████| 84/84 [00:06<00:00, 13.13it/s, loss=-25113.53, λc2D1=3.74, λd1=1.54, λd2=2.44, λd3=2.21]\n",
      "Epoch 121 [Validation]: 100%|██████████| 21/21 [00:01<00:00, 15.02it/s, loss=-25411.90]\n"
     ]
    },
    {
     "name": "stdout",
     "output_type": "stream",
     "text": [
      "\tTotal Loss (NLL + MDMM): -25212.24\n",
      "\tMDMM Loss:               8.14\n",
      "\tRemaining Weights:       99.56 %\n"
     ]
    },
    {
     "name": "stderr",
     "output_type": "stream",
     "text": [
      "Epoch 122 [Training]: 100%|██████████| 84/84 [00:06<00:00, 13.24it/s, loss=-25152.72, λc2D1=3.77, λd1=1.56, λd2=2.46, λd3=2.23]\n",
      "Epoch 122 [Validation]: 100%|██████████| 21/21 [00:01<00:00, 14.94it/s, loss=-25434.14]\n"
     ]
    },
    {
     "name": "stdout",
     "output_type": "stream",
     "text": [
      "\tTotal Loss (NLL + MDMM): -25241.61\n",
      "\tMDMM Loss:               8.22\n",
      "\tRemaining Weights:       99.67 %\n"
     ]
    },
    {
     "name": "stderr",
     "output_type": "stream",
     "text": [
      "Epoch 123 [Training]: 100%|██████████| 84/84 [00:06<00:00, 13.24it/s, loss=-25196.43, λc2D1=3.80, λd1=1.57, λd2=2.48, λd3=2.24]\n",
      "Epoch 123 [Validation]: 100%|██████████| 21/21 [00:01<00:00, 14.53it/s, loss=-25482.84]\n"
     ]
    },
    {
     "name": "stdout",
     "output_type": "stream",
     "text": [
      "\tTotal Loss (NLL + MDMM): -25285.73\n",
      "\tMDMM Loss:               8.29\n",
      "\tRemaining Weights:       99.83 %\n"
     ]
    },
    {
     "name": "stderr",
     "output_type": "stream",
     "text": [
      "Epoch 124 [Training]: 100%|██████████| 84/84 [00:06<00:00, 13.26it/s, loss=-25236.58, λc2D1=3.83, λd1=1.59, λd2=2.50, λd3=2.26]\n",
      "Epoch 124 [Validation]: 100%|██████████| 21/21 [00:01<00:00, 14.69it/s, loss=-25525.22]\n"
     ]
    },
    {
     "name": "stdout",
     "output_type": "stream",
     "text": [
      "\tTotal Loss (NLL + MDMM): -25329.05\n",
      "\tMDMM Loss:               8.36\n",
      "\tRemaining Weights:       99.45 %\n"
     ]
    },
    {
     "name": "stderr",
     "output_type": "stream",
     "text": [
      "Epoch 125 [Training]: 100%|██████████| 84/84 [00:06<00:00, 13.27it/s, loss=-25273.17, λc2D1=3.86, λd1=1.60, λd2=2.52, λd3=2.28]\n",
      "Epoch 125 [Validation]: 100%|██████████| 21/21 [00:01<00:00, 14.83it/s, loss=-25552.86]\n"
     ]
    },
    {
     "name": "stdout",
     "output_type": "stream",
     "text": [
      "\tTotal Loss (NLL + MDMM): -25359.97\n",
      "\tMDMM Loss:               8.43\n",
      "\tRemaining Weights:       99.78 %\n"
     ]
    },
    {
     "name": "stderr",
     "output_type": "stream",
     "text": [
      "Epoch 126 [Training]: 100%|██████████| 84/84 [00:06<00:00, 13.07it/s, loss=-25296.95, λc2D1=3.90, λd1=1.62, λd2=2.54, λd3=2.29]\n",
      "Epoch 126 [Validation]: 100%|██████████| 21/21 [00:01<00:00, 14.53it/s, loss=-25579.20]\n"
     ]
    },
    {
     "name": "stdout",
     "output_type": "stream",
     "text": [
      "\tTotal Loss (NLL + MDMM): -25392.48\n",
      "\tMDMM Loss:               8.51\n",
      "\tRemaining Weights:       99.61 %\n"
     ]
    },
    {
     "name": "stderr",
     "output_type": "stream",
     "text": [
      "Epoch 127 [Training]: 100%|██████████| 84/84 [00:06<00:00, 13.48it/s, loss=-25347.48, λc2D1=3.93, λd1=1.63, λd2=2.56, λd3=2.31]\n",
      "Epoch 127 [Validation]: 100%|██████████| 21/21 [00:01<00:00, 14.32it/s, loss=-25621.46]\n"
     ]
    },
    {
     "name": "stdout",
     "output_type": "stream",
     "text": [
      "\tTotal Loss (NLL + MDMM): -25434.39\n",
      "\tMDMM Loss:               8.58\n",
      "\tRemaining Weights:       99.56 %\n"
     ]
    },
    {
     "name": "stderr",
     "output_type": "stream",
     "text": [
      "Epoch 128 [Training]: 100%|██████████| 84/84 [00:06<00:00, 13.26it/s, loss=-25395.38, λc2D1=3.96, λd1=1.65, λd2=2.58, λd3=2.32]\n",
      "Epoch 128 [Validation]: 100%|██████████| 21/21 [00:01<00:00, 15.08it/s, loss=-25669.94]\n"
     ]
    },
    {
     "name": "stdout",
     "output_type": "stream",
     "text": [
      "\tTotal Loss (NLL + MDMM): -25471.79\n",
      "\tMDMM Loss:               8.65\n",
      "\tRemaining Weights:       99.72 %\n"
     ]
    },
    {
     "name": "stderr",
     "output_type": "stream",
     "text": [
      "Epoch 129 [Training]: 100%|██████████| 84/84 [00:06<00:00, 13.34it/s, loss=-25427.54, λc2D1=3.99, λd1=1.66, λd2=2.60, λd3=2.34]\n",
      "Epoch 129 [Validation]: 100%|██████████| 21/21 [00:01<00:00, 14.60it/s, loss=-25686.56]\n"
     ]
    },
    {
     "name": "stdout",
     "output_type": "stream",
     "text": [
      "\tTotal Loss (NLL + MDMM): -25498.24\n",
      "\tMDMM Loss:               8.72\n",
      "\tRemaining Weights:       99.83 %\n"
     ]
    },
    {
     "name": "stderr",
     "output_type": "stream",
     "text": [
      "Epoch 130 [Training]: 100%|██████████| 84/84 [00:06<00:00, 13.31it/s, loss=-25468.51, λc2D1=4.02, λd1=1.68, λd2=2.62, λd3=2.35]\n",
      "Epoch 130 [Validation]: 100%|██████████| 21/21 [00:01<00:00, 14.92it/s, loss=-25738.11]\n"
     ]
    },
    {
     "name": "stdout",
     "output_type": "stream",
     "text": [
      "\tTotal Loss (NLL + MDMM): -25549.73\n",
      "\tMDMM Loss:               8.79\n",
      "\tRemaining Weights:       99.78 %\n"
     ]
    },
    {
     "name": "stderr",
     "output_type": "stream",
     "text": [
      "Epoch 131 [Training]: 100%|██████████| 84/84 [00:06<00:00, 13.18it/s, loss=-25498.52, λc2D1=4.06, λd1=1.69, λd2=2.64, λd3=2.37]\n",
      "Epoch 131 [Validation]: 100%|██████████| 21/21 [00:01<00:00, 14.98it/s, loss=-25773.98]\n"
     ]
    },
    {
     "name": "stdout",
     "output_type": "stream",
     "text": [
      "\tTotal Loss (NLL + MDMM): -25577.10\n",
      "\tMDMM Loss:               8.87\n",
      "\tRemaining Weights:       99.72 %\n"
     ]
    },
    {
     "name": "stderr",
     "output_type": "stream",
     "text": [
      "Epoch 132 [Training]: 100%|██████████| 84/84 [00:06<00:00, 13.26it/s, loss=-25532.44, λc2D1=4.09, λd1=1.71, λd2=2.66, λd3=2.39]\n",
      "Epoch 132 [Validation]: 100%|██████████| 21/21 [00:01<00:00, 14.92it/s, loss=-25792.18]\n"
     ]
    },
    {
     "name": "stdout",
     "output_type": "stream",
     "text": [
      "\tTotal Loss (NLL + MDMM): -25613.51\n",
      "\tMDMM Loss:               8.94\n",
      "\tRemaining Weights:       99.78 %\n"
     ]
    },
    {
     "name": "stderr",
     "output_type": "stream",
     "text": [
      "Epoch 133 [Training]: 100%|██████████| 84/84 [00:06<00:00, 13.12it/s, loss=-25578.39, λc2D1=4.12, λd1=1.72, λd2=2.68, λd3=2.40]\n",
      "Epoch 133 [Validation]: 100%|██████████| 21/21 [00:01<00:00, 14.80it/s, loss=-25852.26]\n"
     ]
    },
    {
     "name": "stdout",
     "output_type": "stream",
     "text": [
      "\tTotal Loss (NLL + MDMM): -25660.88\n",
      "\tMDMM Loss:               9.01\n",
      "\tRemaining Weights:       99.56 %\n"
     ]
    },
    {
     "name": "stderr",
     "output_type": "stream",
     "text": [
      "Epoch 134 [Training]: 100%|██████████| 84/84 [00:06<00:00, 13.26it/s, loss=-25608.19, λc2D1=4.15, λd1=1.74, λd2=2.70, λd3=2.42]\n",
      "Epoch 134 [Validation]: 100%|██████████| 21/21 [00:01<00:00, 14.98it/s, loss=-25871.72]\n"
     ]
    },
    {
     "name": "stdout",
     "output_type": "stream",
     "text": [
      "\tTotal Loss (NLL + MDMM): -25689.31\n",
      "\tMDMM Loss:               9.08\n",
      "\tRemaining Weights:       99.56 %\n"
     ]
    },
    {
     "name": "stderr",
     "output_type": "stream",
     "text": [
      "Epoch 135 [Training]: 100%|██████████| 84/84 [00:06<00:00, 13.21it/s, loss=-25652.46, λc2D1=4.18, λd1=1.75, λd2=2.73, λd3=2.43]\n",
      "Epoch 135 [Validation]: 100%|██████████| 21/21 [00:01<00:00, 14.84it/s, loss=-25907.10]\n"
     ]
    },
    {
     "name": "stdout",
     "output_type": "stream",
     "text": [
      "\tTotal Loss (NLL + MDMM): -25724.83\n",
      "\tMDMM Loss:               9.15\n",
      "\tRemaining Weights:       99.72 %\n"
     ]
    },
    {
     "name": "stderr",
     "output_type": "stream",
     "text": [
      "Epoch 136 [Training]: 100%|██████████| 84/84 [00:06<00:00, 13.04it/s, loss=-25679.04, λc2D1=4.22, λd1=1.77, λd2=2.75, λd3=2.45]\n",
      "Epoch 136 [Validation]: 100%|██████████| 21/21 [00:01<00:00, 14.91it/s, loss=-25943.79]\n"
     ]
    },
    {
     "name": "stdout",
     "output_type": "stream",
     "text": [
      "\tTotal Loss (NLL + MDMM): -25757.52\n",
      "\tMDMM Loss:               9.23\n",
      "\tRemaining Weights:       99.50 %\n"
     ]
    },
    {
     "name": "stderr",
     "output_type": "stream",
     "text": [
      "Epoch 137 [Training]: 100%|██████████| 84/84 [00:06<00:00, 13.33it/s, loss=-25711.40, λc2D1=4.25, λd1=1.78, λd2=2.77, λd3=2.46]\n",
      "Epoch 137 [Validation]: 100%|██████████| 21/21 [00:01<00:00, 14.66it/s, loss=-25958.94]\n"
     ]
    },
    {
     "name": "stdout",
     "output_type": "stream",
     "text": [
      "\tTotal Loss (NLL + MDMM): -25771.80\n",
      "\tMDMM Loss:               9.30\n",
      "\tRemaining Weights:       99.61 %\n"
     ]
    },
    {
     "name": "stderr",
     "output_type": "stream",
     "text": [
      "Epoch 138 [Training]: 100%|██████████| 84/84 [00:06<00:00, 13.32it/s, loss=-25754.49, λc2D1=4.28, λd1=1.80, λd2=2.79, λd3=2.48]\n",
      "Epoch 138 [Validation]: 100%|██████████| 21/21 [00:01<00:00, 15.19it/s, loss=-26008.75]\n"
     ]
    },
    {
     "name": "stdout",
     "output_type": "stream",
     "text": [
      "\tTotal Loss (NLL + MDMM): -25824.40\n",
      "\tMDMM Loss:               9.37\n",
      "\tRemaining Weights:       99.56 %\n"
     ]
    },
    {
     "name": "stderr",
     "output_type": "stream",
     "text": [
      "Epoch 139 [Training]: 100%|██████████| 84/84 [00:06<00:00, 13.23it/s, loss=-25793.15, λc2D1=4.31, λd1=1.81, λd2=2.81, λd3=2.49]\n",
      "Epoch 139 [Validation]: 100%|██████████| 21/21 [00:01<00:00, 14.70it/s, loss=-26048.45]\n"
     ]
    },
    {
     "name": "stdout",
     "output_type": "stream",
     "text": [
      "\tTotal Loss (NLL + MDMM): -25864.75\n",
      "\tMDMM Loss:               9.44\n",
      "\tRemaining Weights:       99.34 %\n"
     ]
    },
    {
     "name": "stderr",
     "output_type": "stream",
     "text": [
      "Epoch 140 [Training]: 100%|██████████| 84/84 [00:06<00:00, 13.36it/s, loss=-25810.58, λc2D1=4.34, λd1=1.83, λd2=2.83, λd3=2.51]\n",
      "Epoch 140 [Validation]: 100%|██████████| 21/21 [00:01<00:00, 14.61it/s, loss=-26074.34]\n"
     ]
    },
    {
     "name": "stdout",
     "output_type": "stream",
     "text": [
      "\tTotal Loss (NLL + MDMM): -25896.15\n",
      "\tMDMM Loss:               9.51\n",
      "\tRemaining Weights:       99.50 %\n"
     ]
    },
    {
     "name": "stderr",
     "output_type": "stream",
     "text": [
      "Epoch 141 [Training]: 100%|██████████| 84/84 [00:06<00:00, 13.10it/s, loss=-25848.94, λc2D1=4.38, λd1=1.84, λd2=2.85, λd3=2.52]\n",
      "Epoch 141 [Validation]: 100%|██████████| 21/21 [00:01<00:00, 14.93it/s, loss=-26098.75]\n"
     ]
    },
    {
     "name": "stdout",
     "output_type": "stream",
     "text": [
      "\tTotal Loss (NLL + MDMM): -25916.91\n",
      "\tMDMM Loss:               9.59\n",
      "\tRemaining Weights:       99.45 %\n"
     ]
    },
    {
     "name": "stderr",
     "output_type": "stream",
     "text": [
      "Epoch 142 [Training]: 100%|██████████| 84/84 [00:06<00:00, 13.28it/s, loss=-25883.57, λc2D1=4.41, λd1=1.86, λd2=2.87, λd3=2.54]\n",
      "Epoch 142 [Validation]: 100%|██████████| 21/21 [00:01<00:00, 14.84it/s, loss=-26135.04]\n"
     ]
    },
    {
     "name": "stdout",
     "output_type": "stream",
     "text": [
      "\tTotal Loss (NLL + MDMM): -25954.95\n",
      "\tMDMM Loss:               9.66\n",
      "\tRemaining Weights:       99.34 %\n"
     ]
    },
    {
     "name": "stderr",
     "output_type": "stream",
     "text": [
      "Epoch 143 [Training]: 100%|██████████| 84/84 [00:06<00:00, 13.35it/s, loss=-25924.06, λc2D1=4.44, λd1=1.87, λd2=2.89, λd3=2.55]\n",
      "Epoch 143 [Validation]: 100%|██████████| 21/21 [00:01<00:00, 14.93it/s, loss=-26183.26]\n"
     ]
    },
    {
     "name": "stdout",
     "output_type": "stream",
     "text": [
      "\tTotal Loss (NLL + MDMM): -26000.94\n",
      "\tMDMM Loss:               9.73\n",
      "\tRemaining Weights:       99.39 %\n"
     ]
    },
    {
     "name": "stderr",
     "output_type": "stream",
     "text": [
      "Epoch 144 [Training]: 100%|██████████| 84/84 [00:06<00:00, 13.10it/s, loss=-25958.24, λc2D1=4.47, λd1=1.89, λd2=2.91, λd3=2.57]\n",
      "Epoch 144 [Validation]: 100%|██████████| 21/21 [00:01<00:00, 14.29it/s, loss=-26218.23]\n"
     ]
    },
    {
     "name": "stdout",
     "output_type": "stream",
     "text": [
      "\tTotal Loss (NLL + MDMM): -26030.92\n",
      "\tMDMM Loss:               9.80\n",
      "\tRemaining Weights:       99.17 %\n"
     ]
    },
    {
     "name": "stderr",
     "output_type": "stream",
     "text": [
      "Epoch 145 [Training]: 100%|██████████| 84/84 [00:06<00:00, 13.13it/s, loss=-25990.53, λc2D1=4.50, λd1=1.90, λd2=2.93, λd3=2.58]\n",
      "Epoch 145 [Validation]: 100%|██████████| 21/21 [00:01<00:00, 15.00it/s, loss=-26232.46]\n"
     ]
    },
    {
     "name": "stdout",
     "output_type": "stream",
     "text": [
      "\tTotal Loss (NLL + MDMM): -26048.43\n",
      "\tMDMM Loss:               9.87\n",
      "\tRemaining Weights:       99.34 %\n"
     ]
    },
    {
     "name": "stderr",
     "output_type": "stream",
     "text": [
      "Epoch 146 [Training]: 100%|██████████| 84/84 [00:06<00:00, 13.29it/s, loss=-26024.09, λc2D1=4.54, λd1=1.92, λd2=2.95, λd3=2.60]\n",
      "Epoch 146 [Validation]: 100%|██████████| 21/21 [00:01<00:00, 14.75it/s, loss=-26271.88]\n"
     ]
    },
    {
     "name": "stdout",
     "output_type": "stream",
     "text": [
      "\tTotal Loss (NLL + MDMM): -26090.59\n",
      "\tMDMM Loss:               9.95\n",
      "\tRemaining Weights:       99.45 %\n"
     ]
    },
    {
     "name": "stderr",
     "output_type": "stream",
     "text": [
      "Epoch 147 [Training]: 100%|██████████| 84/84 [00:06<00:00, 13.25it/s, loss=-26061.86, λc2D1=4.57, λd1=1.93, λd2=2.97, λd3=2.61]\n",
      "Epoch 147 [Validation]: 100%|██████████| 21/21 [00:01<00:00, 14.51it/s, loss=-26297.71]\n"
     ]
    },
    {
     "name": "stdout",
     "output_type": "stream",
     "text": [
      "\tTotal Loss (NLL + MDMM): -26114.10\n",
      "\tMDMM Loss:               10.02\n",
      "\tRemaining Weights:       99.39 %\n"
     ]
    },
    {
     "name": "stderr",
     "output_type": "stream",
     "text": [
      "Epoch 148 [Training]: 100%|██████████| 84/84 [00:06<00:00, 13.24it/s, loss=-26101.41, λc2D1=4.60, λd1=1.95, λd2=2.99, λd3=2.63]\n",
      "Epoch 148 [Validation]: 100%|██████████| 21/21 [00:01<00:00, 14.80it/s, loss=-26340.48]\n"
     ]
    },
    {
     "name": "stdout",
     "output_type": "stream",
     "text": [
      "\tTotal Loss (NLL + MDMM): -26153.19\n",
      "\tMDMM Loss:               10.09\n",
      "\tRemaining Weights:       99.28 %\n"
     ]
    },
    {
     "name": "stderr",
     "output_type": "stream",
     "text": [
      "Epoch 149 [Training]: 100%|██████████| 84/84 [00:06<00:00, 13.36it/s, loss=-26128.59, λc2D1=4.63, λd1=1.96, λd2=3.02, λd3=2.65]\n",
      "Epoch 149 [Validation]: 100%|██████████| 21/21 [00:01<00:00, 14.50it/s, loss=-26370.59]\n"
     ]
    },
    {
     "name": "stdout",
     "output_type": "stream",
     "text": [
      "\tTotal Loss (NLL + MDMM): -26182.43\n",
      "\tMDMM Loss:               10.16\n",
      "\tRemaining Weights:       99.34 %\n"
     ]
    },
    {
     "name": "stderr",
     "output_type": "stream",
     "text": [
      "Epoch 150 [Training]: 100%|██████████| 84/84 [00:06<00:00, 13.35it/s, loss=-26156.88, λc2D1=4.66, λd1=1.98, λd2=3.04, λd3=2.66]\n",
      "Epoch 150 [Validation]: 100%|██████████| 21/21 [00:01<00:00, 14.75it/s, loss=-26399.37]\n"
     ]
    },
    {
     "name": "stdout",
     "output_type": "stream",
     "text": [
      "\tTotal Loss (NLL + MDMM): -26212.36\n",
      "\tMDMM Loss:               10.24\n",
      "\tRemaining Weights:       99.61 %\n"
     ]
    },
    {
     "name": "stderr",
     "output_type": "stream",
     "text": [
      "Epoch 151 [Training]: 100%|██████████| 84/84 [00:06<00:00, 13.22it/s, loss=-26191.66, λc2D1=4.70, λd1=1.99, λd2=3.06, λd3=2.68]\n",
      "Epoch 151 [Validation]: 100%|██████████| 21/21 [00:01<00:00, 14.27it/s, loss=-26433.91]\n"
     ]
    },
    {
     "name": "stdout",
     "output_type": "stream",
     "text": [
      "\tTotal Loss (NLL + MDMM): -26239.22\n",
      "\tMDMM Loss:               10.31\n",
      "\tRemaining Weights:       99.34 %\n"
     ]
    },
    {
     "name": "stderr",
     "output_type": "stream",
     "text": [
      "Epoch 152 [Training]: 100%|██████████| 84/84 [00:06<00:00, 13.37it/s, loss=-26218.39, λc2D1=4.73, λd1=2.01, λd2=3.08, λd3=2.69]\n",
      "Epoch 152 [Validation]: 100%|██████████| 21/21 [00:01<00:00, 15.01it/s, loss=-26466.79]\n"
     ]
    },
    {
     "name": "stdout",
     "output_type": "stream",
     "text": [
      "\tTotal Loss (NLL + MDMM): -26273.11\n",
      "\tMDMM Loss:               10.38\n",
      "\tRemaining Weights:       99.56 %\n"
     ]
    },
    {
     "name": "stderr",
     "output_type": "stream",
     "text": [
      "Epoch 153 [Training]: 100%|██████████| 84/84 [00:06<00:00, 13.17it/s, loss=-26253.79, λc2D1=4.76, λd1=2.03, λd2=3.10, λd3=2.71]\n",
      "Epoch 153 [Validation]: 100%|██████████| 21/21 [00:01<00:00, 14.35it/s, loss=-26491.75]\n"
     ]
    },
    {
     "name": "stdout",
     "output_type": "stream",
     "text": [
      "\tTotal Loss (NLL + MDMM): -26296.04\n",
      "\tMDMM Loss:               10.45\n",
      "\tRemaining Weights:       99.28 %\n"
     ]
    },
    {
     "name": "stderr",
     "output_type": "stream",
     "text": [
      "Epoch 154 [Training]: 100%|██████████| 84/84 [00:06<00:00, 13.37it/s, loss=-26288.91, λc2D1=4.79, λd1=2.04, λd2=3.12, λd3=2.72]\n",
      "Epoch 154 [Validation]: 100%|██████████| 21/21 [00:01<00:00, 15.02it/s, loss=-26533.37]\n"
     ]
    },
    {
     "name": "stdout",
     "output_type": "stream",
     "text": [
      "\tTotal Loss (NLL + MDMM): -26342.99\n",
      "\tMDMM Loss:               10.53\n",
      "\tRemaining Weights:       99.23 %\n"
     ]
    },
    {
     "name": "stderr",
     "output_type": "stream",
     "text": [
      "Epoch 155 [Training]: 100%|██████████| 84/84 [00:06<00:00, 12.96it/s, loss=-26325.85, λc2D1=4.82, λd1=2.06, λd2=3.14, λd3=2.74]\n",
      "Epoch 155 [Validation]: 100%|██████████| 21/21 [00:01<00:00, 13.67it/s, loss=-26569.67]\n"
     ]
    },
    {
     "name": "stdout",
     "output_type": "stream",
     "text": [
      "\tTotal Loss (NLL + MDMM): -26371.44\n",
      "\tMDMM Loss:               10.60\n",
      "\tRemaining Weights:       99.34 %\n"
     ]
    },
    {
     "name": "stderr",
     "output_type": "stream",
     "text": [
      "Epoch 156 [Training]: 100%|██████████| 84/84 [00:06<00:00, 13.35it/s, loss=-26352.79, λc2D1=4.86, λd1=2.07, λd2=3.16, λd3=2.75]\n",
      "Epoch 156 [Validation]: 100%|██████████| 21/21 [00:01<00:00, 14.93it/s, loss=-26596.45]\n"
     ]
    },
    {
     "name": "stdout",
     "output_type": "stream",
     "text": [
      "\tTotal Loss (NLL + MDMM): -26398.52\n",
      "\tMDMM Loss:               10.67\n",
      "\tRemaining Weights:       99.45 %\n"
     ]
    },
    {
     "name": "stderr",
     "output_type": "stream",
     "text": [
      "Epoch 157 [Training]: 100%|██████████| 84/84 [00:06<00:00, 13.43it/s, loss=-26389.04, λc2D1=4.89, λd1=2.09, λd2=3.18, λd3=2.77]\n",
      "Epoch 157 [Validation]: 100%|██████████| 21/21 [00:01<00:00, 14.35it/s, loss=-26635.23]\n"
     ]
    },
    {
     "name": "stdout",
     "output_type": "stream",
     "text": [
      "\tTotal Loss (NLL + MDMM): -26439.40\n",
      "\tMDMM Loss:               10.74\n",
      "\tRemaining Weights:       99.39 %\n"
     ]
    },
    {
     "name": "stderr",
     "output_type": "stream",
     "text": [
      "Epoch 158 [Training]: 100%|██████████| 84/84 [00:06<00:00, 13.31it/s, loss=-26416.86, λc2D1=4.92, λd1=2.10, λd2=3.20, λd3=2.78]\n",
      "Epoch 158 [Validation]: 100%|██████████| 21/21 [00:01<00:00, 14.86it/s, loss=-26668.63]\n"
     ]
    },
    {
     "name": "stdout",
     "output_type": "stream",
     "text": [
      "\tTotal Loss (NLL + MDMM): -26471.89\n",
      "\tMDMM Loss:               10.82\n",
      "\tRemaining Weights:       99.45 %\n"
     ]
    },
    {
     "name": "stderr",
     "output_type": "stream",
     "text": [
      "Epoch 159 [Training]: 100%|██████████| 84/84 [00:06<00:00, 13.59it/s, loss=-26453.60, λc2D1=4.95, λd1=2.12, λd2=3.22, λd3=2.80]\n",
      "Epoch 159 [Validation]: 100%|██████████| 21/21 [00:01<00:00, 15.07it/s, loss=-26698.20]\n"
     ]
    },
    {
     "name": "stdout",
     "output_type": "stream",
     "text": [
      "\tTotal Loss (NLL + MDMM): -26494.31\n",
      "\tMDMM Loss:               10.89\n",
      "\tRemaining Weights:       99.50 %\n"
     ]
    },
    {
     "name": "stderr",
     "output_type": "stream",
     "text": [
      "Epoch 160 [Training]: 100%|██████████| 84/84 [00:06<00:00, 13.19it/s, loss=-26491.77, λc2D1=4.98, λd1=2.13, λd2=3.24, λd3=2.81]\n",
      "Epoch 160 [Validation]: 100%|██████████| 21/21 [00:01<00:00, 14.86it/s, loss=-26733.74]\n"
     ]
    },
    {
     "name": "stdout",
     "output_type": "stream",
     "text": [
      "\tTotal Loss (NLL + MDMM): -26524.27\n",
      "\tMDMM Loss:               10.96\n",
      "\tRemaining Weights:       99.56 %\n"
     ]
    },
    {
     "name": "stderr",
     "output_type": "stream",
     "text": [
      "Epoch 161 [Training]: 100%|██████████| 84/84 [00:06<00:00, 13.37it/s, loss=-26520.62, λc2D1=5.02, λd1=2.15, λd2=3.26, λd3=2.82]\n",
      "Epoch 161 [Validation]: 100%|██████████| 21/21 [00:01<00:00, 14.92it/s, loss=-26763.70]\n"
     ]
    },
    {
     "name": "stdout",
     "output_type": "stream",
     "text": [
      "\tTotal Loss (NLL + MDMM): -26559.55\n",
      "\tMDMM Loss:               11.03\n",
      "\tRemaining Weights:       99.56 %\n"
     ]
    },
    {
     "name": "stderr",
     "output_type": "stream",
     "text": [
      "Epoch 162 [Training]: 100%|██████████| 84/84 [00:06<00:00, 13.21it/s, loss=-26557.55, λc2D1=5.05, λd1=2.17, λd2=3.28, λd3=2.84]\n",
      "Epoch 162 [Validation]: 100%|██████████| 21/21 [00:01<00:00, 15.01it/s, loss=-26803.36]\n"
     ]
    },
    {
     "name": "stdout",
     "output_type": "stream",
     "text": [
      "\tTotal Loss (NLL + MDMM): -26589.07\n",
      "\tMDMM Loss:               11.11\n",
      "\tRemaining Weights:       99.56 %\n"
     ]
    },
    {
     "name": "stderr",
     "output_type": "stream",
     "text": [
      "Epoch 163 [Training]: 100%|██████████| 84/84 [00:06<00:00, 13.39it/s, loss=-26579.99, λc2D1=5.08, λd1=2.18, λd2=3.31, λd3=2.85]\n",
      "Epoch 163 [Validation]: 100%|██████████| 21/21 [00:01<00:00, 14.97it/s, loss=-26814.91]\n"
     ]
    },
    {
     "name": "stdout",
     "output_type": "stream",
     "text": [
      "\tTotal Loss (NLL + MDMM): -26605.25\n",
      "\tMDMM Loss:               11.18\n",
      "\tRemaining Weights:       99.50 %\n"
     ]
    },
    {
     "name": "stderr",
     "output_type": "stream",
     "text": [
      "Epoch 164 [Training]: 100%|██████████| 84/84 [00:06<00:00, 13.31it/s, loss=-26606.75, λc2D1=5.11, λd1=2.20, λd2=3.33, λd3=2.87]\n",
      "Epoch 164 [Validation]: 100%|██████████| 21/21 [00:01<00:00, 14.76it/s, loss=-26856.01]\n"
     ]
    },
    {
     "name": "stdout",
     "output_type": "stream",
     "text": [
      "\tTotal Loss (NLL + MDMM): -26643.68\n",
      "\tMDMM Loss:               11.25\n",
      "\tRemaining Weights:       99.56 %\n"
     ]
    },
    {
     "name": "stderr",
     "output_type": "stream",
     "text": [
      "Epoch 165 [Training]: 100%|██████████| 84/84 [00:06<00:00, 13.28it/s, loss=-26652.79, λc2D1=5.14, λd1=2.21, λd2=3.35, λd3=2.88]\n",
      "Epoch 165 [Validation]: 100%|██████████| 21/21 [00:01<00:00, 14.97it/s, loss=-26896.64]\n"
     ]
    },
    {
     "name": "stdout",
     "output_type": "stream",
     "text": [
      "\tTotal Loss (NLL + MDMM): -26677.93\n",
      "\tMDMM Loss:               11.33\n",
      "\tRemaining Weights:       99.50 %\n"
     ]
    },
    {
     "name": "stderr",
     "output_type": "stream",
     "text": [
      "Epoch 166 [Training]: 100%|██████████| 84/84 [00:06<00:00, 13.58it/s, loss=-26675.87, λc2D1=5.18, λd1=2.23, λd2=3.37, λd3=2.90]\n",
      "Epoch 166 [Validation]: 100%|██████████| 21/21 [00:01<00:00, 14.44it/s, loss=-26927.95]\n"
     ]
    },
    {
     "name": "stdout",
     "output_type": "stream",
     "text": [
      "\tTotal Loss (NLL + MDMM): -26709.24\n",
      "\tMDMM Loss:               11.40\n",
      "\tRemaining Weights:       99.72 %\n"
     ]
    },
    {
     "name": "stderr",
     "output_type": "stream",
     "text": [
      "Epoch 167 [Training]: 100%|██████████| 84/84 [00:06<00:00, 13.20it/s, loss=-26701.67, λc2D1=5.21, λd1=2.24, λd2=3.39, λd3=2.91]\n",
      "Epoch 167 [Validation]: 100%|██████████| 21/21 [00:01<00:00, 14.95it/s, loss=-26952.05]\n"
     ]
    },
    {
     "name": "stdout",
     "output_type": "stream",
     "text": [
      "\tTotal Loss (NLL + MDMM): -26734.97\n",
      "\tMDMM Loss:               11.47\n",
      "\tRemaining Weights:       99.61 %\n"
     ]
    },
    {
     "name": "stderr",
     "output_type": "stream",
     "text": [
      "Epoch 168 [Training]: 100%|██████████| 84/84 [00:06<00:00, 13.27it/s, loss=-26727.77, λc2D1=5.24, λd1=2.26, λd2=3.41, λd3=2.93]\n",
      "Epoch 168 [Validation]: 100%|██████████| 21/21 [00:01<00:00, 14.52it/s, loss=-26986.52]\n"
     ]
    },
    {
     "name": "stdout",
     "output_type": "stream",
     "text": [
      "\tTotal Loss (NLL + MDMM): -26765.57\n",
      "\tMDMM Loss:               11.55\n",
      "\tRemaining Weights:       99.72 %\n"
     ]
    },
    {
     "name": "stderr",
     "output_type": "stream",
     "text": [
      "Epoch 169 [Training]: 100%|██████████| 84/84 [00:06<00:00, 13.25it/s, loss=-26758.55, λc2D1=5.27, λd1=2.28, λd2=3.43, λd3=2.94]\n",
      "Epoch 169 [Validation]: 100%|██████████| 21/21 [00:01<00:00, 14.95it/s, loss=-27013.27]\n"
     ]
    },
    {
     "name": "stdout",
     "output_type": "stream",
     "text": [
      "\tTotal Loss (NLL + MDMM): -26790.78\n",
      "\tMDMM Loss:               11.62\n",
      "\tRemaining Weights:       99.67 %\n"
     ]
    },
    {
     "name": "stderr",
     "output_type": "stream",
     "text": [
      "Epoch 170 [Training]: 100%|██████████| 84/84 [00:06<00:00, 13.24it/s, loss=-26788.91, λc2D1=5.30, λd1=2.29, λd2=3.45, λd3=2.96]\n",
      "Epoch 170 [Validation]: 100%|██████████| 21/21 [00:01<00:00, 15.05it/s, loss=-27038.19]\n"
     ]
    },
    {
     "name": "stdout",
     "output_type": "stream",
     "text": [
      "\tTotal Loss (NLL + MDMM): -26815.50\n",
      "\tMDMM Loss:               11.69\n",
      "\tRemaining Weights:       99.61 %\n"
     ]
    },
    {
     "name": "stderr",
     "output_type": "stream",
     "text": [
      "Epoch 171 [Training]: 100%|██████████| 84/84 [00:06<00:00, 13.39it/s, loss=-26818.12, λc2D1=5.34, λd1=2.31, λd2=3.47, λd3=2.97]\n",
      "Epoch 171 [Validation]: 100%|██████████| 21/21 [00:01<00:00, 14.70it/s, loss=-27081.38]\n"
     ]
    },
    {
     "name": "stdout",
     "output_type": "stream",
     "text": [
      "\tTotal Loss (NLL + MDMM): -26849.93\n",
      "\tMDMM Loss:               11.77\n",
      "\tRemaining Weights:       99.56 %\n"
     ]
    },
    {
     "name": "stderr",
     "output_type": "stream",
     "text": [
      "Epoch 172 [Training]: 100%|██████████| 84/84 [00:06<00:00, 13.47it/s, loss=-26851.41, λc2D1=5.37, λd1=2.32, λd2=3.49, λd3=2.99]\n",
      "Epoch 172 [Validation]: 100%|██████████| 21/21 [00:01<00:00, 14.60it/s, loss=-27110.43]\n"
     ]
    },
    {
     "name": "stdout",
     "output_type": "stream",
     "text": [
      "\tTotal Loss (NLL + MDMM): -26881.28\n",
      "\tMDMM Loss:               11.84\n",
      "\tRemaining Weights:       99.67 %\n"
     ]
    },
    {
     "name": "stderr",
     "output_type": "stream",
     "text": [
      "Epoch 173 [Training]: 100%|██████████| 84/84 [00:06<00:00, 13.27it/s, loss=-26854.63, λc2D1=5.40, λd1=2.34, λd2=3.51, λd3=3.00]\n",
      "Epoch 173 [Validation]: 100%|██████████| 21/21 [00:01<00:00, 14.67it/s, loss=-27131.60]\n"
     ]
    },
    {
     "name": "stdout",
     "output_type": "stream",
     "text": [
      "\tTotal Loss (NLL + MDMM): -26903.35\n",
      "\tMDMM Loss:               11.91\n",
      "\tRemaining Weights:       99.50 %\n"
     ]
    },
    {
     "name": "stderr",
     "output_type": "stream",
     "text": [
      "Epoch 174 [Training]: 100%|██████████| 84/84 [00:06<00:00, 13.26it/s, loss=-26899.40, λc2D1=5.43, λd1=2.36, λd2=3.53, λd3=3.02]\n",
      "Epoch 174 [Validation]: 100%|██████████| 21/21 [00:01<00:00, 15.17it/s, loss=-27144.69]\n"
     ]
    },
    {
     "name": "stdout",
     "output_type": "stream",
     "text": [
      "\tTotal Loss (NLL + MDMM): -26914.72\n",
      "\tMDMM Loss:               11.99\n",
      "\tRemaining Weights:       99.45 %\n"
     ]
    },
    {
     "name": "stderr",
     "output_type": "stream",
     "text": [
      "Epoch 175 [Training]: 100%|██████████| 84/84 [00:06<00:00, 13.36it/s, loss=-26927.36, λc2D1=5.46, λd1=2.37, λd2=3.55, λd3=3.03]\n",
      "Epoch 175 [Validation]: 100%|██████████| 21/21 [00:01<00:00, 14.95it/s, loss=-27209.16]\n"
     ]
    },
    {
     "name": "stdout",
     "output_type": "stream",
     "text": [
      "\tTotal Loss (NLL + MDMM): -26976.18\n",
      "\tMDMM Loss:               12.06\n",
      "\tRemaining Weights:       99.45 %\n"
     ]
    },
    {
     "name": "stderr",
     "output_type": "stream",
     "text": [
      "Epoch 176 [Training]: 100%|██████████| 84/84 [00:06<00:00, 13.17it/s, loss=-26967.62, λc2D1=5.50, λd1=2.39, λd2=3.58, λd3=3.05]\n",
      "Epoch 176 [Validation]: 100%|██████████| 21/21 [00:01<00:00, 14.84it/s, loss=-27235.38]\n"
     ]
    },
    {
     "name": "stdout",
     "output_type": "stream",
     "text": [
      "\tTotal Loss (NLL + MDMM): -26989.03\n",
      "\tMDMM Loss:               12.13\n",
      "\tRemaining Weights:       99.50 %\n"
     ]
    },
    {
     "name": "stderr",
     "output_type": "stream",
     "text": [
      "Epoch 177 [Training]: 100%|██████████| 84/84 [00:06<00:00, 13.39it/s, loss=-26992.64, λc2D1=5.53, λd1=2.40, λd2=3.60, λd3=3.06]\n",
      "Epoch 177 [Validation]: 100%|██████████| 21/21 [00:01<00:00, 14.86it/s, loss=-27263.84]\n"
     ]
    },
    {
     "name": "stdout",
     "output_type": "stream",
     "text": [
      "\tTotal Loss (NLL + MDMM): -27023.62\n",
      "\tMDMM Loss:               12.21\n",
      "\tRemaining Weights:       99.50 %\n"
     ]
    },
    {
     "name": "stderr",
     "output_type": "stream",
     "text": [
      "Epoch 178 [Training]: 100%|██████████| 84/84 [00:06<00:00, 13.33it/s, loss=-27012.95, λc2D1=5.56, λd1=2.42, λd2=3.62, λd3=3.08]\n",
      "Epoch 178 [Validation]: 100%|██████████| 21/21 [00:01<00:00, 15.14it/s, loss=-27298.73]\n"
     ]
    },
    {
     "name": "stdout",
     "output_type": "stream",
     "text": [
      "\tTotal Loss (NLL + MDMM): -27054.16\n",
      "\tMDMM Loss:               12.28\n",
      "\tRemaining Weights:       99.67 %\n"
     ]
    },
    {
     "name": "stderr",
     "output_type": "stream",
     "text": [
      "Epoch 179 [Training]: 100%|██████████| 84/84 [00:06<00:00, 13.45it/s, loss=-27033.88, λc2D1=5.59, λd1=2.44, λd2=3.64, λd3=3.09]\n",
      "Epoch 179 [Validation]: 100%|██████████| 21/21 [00:01<00:00, 14.48it/s, loss=-27295.59]\n"
     ]
    },
    {
     "name": "stdout",
     "output_type": "stream",
     "text": [
      "\tTotal Loss (NLL + MDMM): -27045.43\n",
      "\tMDMM Loss:               12.36\n",
      "\tRemaining Weights:       99.50 %\n"
     ]
    },
    {
     "name": "stderr",
     "output_type": "stream",
     "text": [
      "Epoch 180 [Training]: 100%|██████████| 84/84 [00:06<00:00, 13.23it/s, loss=-27067.96, λc2D1=5.62, λd1=2.45, λd2=3.66, λd3=3.10]\n",
      "Epoch 180 [Validation]: 100%|██████████| 21/21 [00:01<00:00, 14.78it/s, loss=-27346.15]\n"
     ]
    },
    {
     "name": "stdout",
     "output_type": "stream",
     "text": [
      "\tTotal Loss (NLL + MDMM): -27096.92\n",
      "\tMDMM Loss:               12.43\n",
      "\tRemaining Weights:       99.61 %\n"
     ]
    },
    {
     "name": "stderr",
     "output_type": "stream",
     "text": [
      "Epoch 181 [Training]: 100%|██████████| 84/84 [00:06<00:00, 13.18it/s, loss=-27096.12, λc2D1=5.65, λd1=2.47, λd2=3.68, λd3=3.12]\n",
      "Epoch 181 [Validation]: 100%|██████████| 21/21 [00:01<00:00, 15.15it/s, loss=-27380.07]\n"
     ]
    },
    {
     "name": "stdout",
     "output_type": "stream",
     "text": [
      "\tTotal Loss (NLL + MDMM): -27127.75\n",
      "\tMDMM Loss:               12.50\n",
      "\tRemaining Weights:       99.50 %\n"
     ]
    },
    {
     "name": "stderr",
     "output_type": "stream",
     "text": [
      "Epoch 182 [Training]: 100%|██████████| 84/84 [00:06<00:00, 13.41it/s, loss=-27120.03, λc2D1=5.69, λd1=2.49, λd2=3.70, λd3=3.13]\n",
      "Epoch 182 [Validation]: 100%|██████████| 21/21 [00:01<00:00, 14.60it/s, loss=-27391.38]\n"
     ]
    },
    {
     "name": "stdout",
     "output_type": "stream",
     "text": [
      "\tTotal Loss (NLL + MDMM): -27138.43\n",
      "\tMDMM Loss:               12.58\n",
      "\tRemaining Weights:       99.45 %\n"
     ]
    },
    {
     "name": "stderr",
     "output_type": "stream",
     "text": [
      "Epoch 183 [Training]: 100%|██████████| 84/84 [00:06<00:00, 13.41it/s, loss=-27159.00, λc2D1=5.72, λd1=2.50, λd2=3.72, λd3=3.15]\n",
      "Epoch 183 [Validation]: 100%|██████████| 21/21 [00:01<00:00, 14.89it/s, loss=-27440.01]\n"
     ]
    },
    {
     "name": "stdout",
     "output_type": "stream",
     "text": [
      "\tTotal Loss (NLL + MDMM): -27190.31\n",
      "\tMDMM Loss:               12.65\n",
      "\tRemaining Weights:       99.56 %\n"
     ]
    },
    {
     "name": "stderr",
     "output_type": "stream",
     "text": [
      "Epoch 184 [Training]: 100%|██████████| 84/84 [00:06<00:00, 13.08it/s, loss=-27183.64, λc2D1=5.75, λd1=2.52, λd2=3.74, λd3=3.16]\n",
      "Epoch 184 [Validation]: 100%|██████████| 21/21 [00:01<00:00, 15.00it/s, loss=-27455.33]\n"
     ]
    },
    {
     "name": "stdout",
     "output_type": "stream",
     "text": [
      "\tTotal Loss (NLL + MDMM): -27202.38\n",
      "\tMDMM Loss:               12.73\n",
      "\tRemaining Weights:       99.67 %\n"
     ]
    },
    {
     "name": "stderr",
     "output_type": "stream",
     "text": [
      "Epoch 185 [Training]: 100%|██████████| 84/84 [00:06<00:00, 13.16it/s, loss=-27204.77, λc2D1=5.78, λd1=2.53, λd2=3.76, λd3=3.18]\n",
      "Epoch 185 [Validation]: 100%|██████████| 21/21 [00:01<00:00, 15.14it/s, loss=-27482.57]\n"
     ]
    },
    {
     "name": "stdout",
     "output_type": "stream",
     "text": [
      "\tTotal Loss (NLL + MDMM): -27224.40\n",
      "\tMDMM Loss:               12.80\n",
      "\tRemaining Weights:       99.61 %\n"
     ]
    },
    {
     "name": "stderr",
     "output_type": "stream",
     "text": [
      "Epoch 186 [Training]: 100%|██████████| 84/84 [00:06<00:00, 13.48it/s, loss=-27226.31, λc2D1=5.81, λd1=2.55, λd2=3.78, λd3=3.19]\n",
      "Epoch 186 [Validation]: 100%|██████████| 21/21 [00:01<00:00, 14.46it/s, loss=-27498.63]\n"
     ]
    },
    {
     "name": "stdout",
     "output_type": "stream",
     "text": [
      "\tTotal Loss (NLL + MDMM): -27242.34\n",
      "\tMDMM Loss:               12.87\n",
      "\tRemaining Weights:       99.50 %\n"
     ]
    },
    {
     "name": "stderr",
     "output_type": "stream",
     "text": [
      "Epoch 187 [Training]: 100%|██████████| 84/84 [00:06<00:00, 13.27it/s, loss=-27253.63, λc2D1=5.85, λd1=2.57, λd2=3.80, λd3=3.21]\n",
      "Epoch 187 [Validation]: 100%|██████████| 21/21 [00:01<00:00, 14.84it/s, loss=-27545.33]\n"
     ]
    },
    {
     "name": "stdout",
     "output_type": "stream",
     "text": [
      "\tTotal Loss (NLL + MDMM): -27283.91\n",
      "\tMDMM Loss:               12.95\n",
      "\tRemaining Weights:       99.61 %\n"
     ]
    },
    {
     "name": "stderr",
     "output_type": "stream",
     "text": [
      "Epoch 188 [Training]: 100%|██████████| 84/84 [00:06<00:00, 13.44it/s, loss=-27286.32, λc2D1=5.88, λd1=2.58, λd2=3.82, λd3=3.22]\n",
      "Epoch 188 [Validation]: 100%|██████████| 21/21 [00:01<00:00, 15.04it/s, loss=-27581.43]\n"
     ]
    },
    {
     "name": "stdout",
     "output_type": "stream",
     "text": [
      "\tTotal Loss (NLL + MDMM): -27322.37\n",
      "\tMDMM Loss:               13.02\n",
      "\tRemaining Weights:       99.67 %\n"
     ]
    },
    {
     "name": "stderr",
     "output_type": "stream",
     "text": [
      "Epoch 189 [Training]: 100%|██████████| 84/84 [00:06<00:00, 13.30it/s, loss=-27312.05, λc2D1=5.91, λd1=2.60, λd2=3.85, λd3=3.24]\n",
      "Epoch 189 [Validation]: 100%|██████████| 21/21 [00:01<00:00, 14.86it/s, loss=-27589.84]\n"
     ]
    },
    {
     "name": "stdout",
     "output_type": "stream",
     "text": [
      "\tTotal Loss (NLL + MDMM): -27332.34\n",
      "\tMDMM Loss:               13.09\n",
      "\tRemaining Weights:       99.56 %\n"
     ]
    },
    {
     "name": "stderr",
     "output_type": "stream",
     "text": [
      "Epoch 190 [Training]: 100%|██████████| 84/84 [00:06<00:00, 13.29it/s, loss=-27339.03, λc2D1=5.94, λd1=2.62, λd2=3.87, λd3=3.25]\n",
      "Epoch 190 [Validation]: 100%|██████████| 21/21 [00:01<00:00, 14.68it/s, loss=-27619.36]\n"
     ]
    },
    {
     "name": "stdout",
     "output_type": "stream",
     "text": [
      "\tTotal Loss (NLL + MDMM): -27354.43\n",
      "\tMDMM Loss:               13.17\n",
      "\tRemaining Weights:       99.45 %\n"
     ]
    },
    {
     "name": "stderr",
     "output_type": "stream",
     "text": [
      "Epoch 191 [Training]: 100%|██████████| 84/84 [00:06<00:00, 13.03it/s, loss=-27362.39, λc2D1=5.97, λd1=2.63, λd2=3.89, λd3=3.26]\n",
      "Epoch 191 [Validation]: 100%|██████████| 21/21 [00:01<00:00, 14.79it/s, loss=-27625.53]\n"
     ]
    },
    {
     "name": "stdout",
     "output_type": "stream",
     "text": [
      "\tTotal Loss (NLL + MDMM): -27364.24\n",
      "\tMDMM Loss:               13.24\n",
      "\tRemaining Weights:       99.45 %\n"
     ]
    },
    {
     "name": "stderr",
     "output_type": "stream",
     "text": [
      "Epoch 192 [Training]: 100%|██████████| 84/84 [00:06<00:00, 13.48it/s, loss=-27379.52, λc2D1=6.00, λd1=2.65, λd2=3.91, λd3=3.28]\n",
      "Epoch 192 [Validation]: 100%|██████████| 21/21 [00:01<00:00, 14.84it/s, loss=-27662.01]\n"
     ]
    },
    {
     "name": "stdout",
     "output_type": "stream",
     "text": [
      "\tTotal Loss (NLL + MDMM): -27401.86\n",
      "\tMDMM Loss:               13.32\n",
      "\tRemaining Weights:       99.50 %\n"
     ]
    },
    {
     "name": "stderr",
     "output_type": "stream",
     "text": [
      "Epoch 193 [Training]: 100%|██████████| 84/84 [00:06<00:00, 13.60it/s, loss=-27402.84, λc2D1=6.04, λd1=2.66, λd2=3.93, λd3=3.29]\n",
      "Epoch 193 [Validation]: 100%|██████████| 21/21 [00:01<00:00, 14.95it/s, loss=-27678.61]\n"
     ]
    },
    {
     "name": "stdout",
     "output_type": "stream",
     "text": [
      "\tTotal Loss (NLL + MDMM): -27412.79\n",
      "\tMDMM Loss:               13.39\n",
      "\tRemaining Weights:       99.39 %\n"
     ]
    },
    {
     "name": "stderr",
     "output_type": "stream",
     "text": [
      "Epoch 194 [Training]: 100%|██████████| 84/84 [00:06<00:00, 13.33it/s, loss=-27421.19, λc2D1=6.07, λd1=2.68, λd2=3.95, λd3=3.31]\n",
      "Epoch 194 [Validation]: 100%|██████████| 21/21 [00:01<00:00, 14.98it/s, loss=-27727.21]\n"
     ]
    },
    {
     "name": "stdout",
     "output_type": "stream",
     "text": [
      "\tTotal Loss (NLL + MDMM): -27463.64\n",
      "\tMDMM Loss:               13.46\n",
      "\tRemaining Weights:       99.39 %\n"
     ]
    },
    {
     "name": "stderr",
     "output_type": "stream",
     "text": [
      "Epoch 195 [Training]: 100%|██████████| 84/84 [00:06<00:00, 13.28it/s, loss=-27453.40, λc2D1=6.10, λd1=2.70, λd2=3.97, λd3=3.32]\n",
      "Epoch 195 [Validation]: 100%|██████████| 21/21 [00:01<00:00, 14.99it/s, loss=-27740.51]\n"
     ]
    },
    {
     "name": "stdout",
     "output_type": "stream",
     "text": [
      "\tTotal Loss (NLL + MDMM): -27469.28\n",
      "\tMDMM Loss:               13.54\n",
      "\tRemaining Weights:       99.56 %\n"
     ]
    },
    {
     "name": "stderr",
     "output_type": "stream",
     "text": [
      "Epoch 196 [Training]: 100%|██████████| 84/84 [00:06<00:00, 13.46it/s, loss=-27487.17, λc2D1=6.13, λd1=2.71, λd2=3.99, λd3=3.34]\n",
      "Epoch 196 [Validation]: 100%|██████████| 21/21 [00:01<00:00, 14.49it/s, loss=-27777.83]\n"
     ]
    },
    {
     "name": "stdout",
     "output_type": "stream",
     "text": [
      "\tTotal Loss (NLL + MDMM): -27506.72\n",
      "\tMDMM Loss:               13.61\n",
      "\tRemaining Weights:       99.61 %\n"
     ]
    },
    {
     "name": "stderr",
     "output_type": "stream",
     "text": [
      "Epoch 197 [Training]: 100%|██████████| 84/84 [00:06<00:00, 13.42it/s, loss=-27495.15, λc2D1=6.16, λd1=2.73, λd2=4.01, λd3=3.35]\n",
      "Epoch 197 [Validation]: 100%|██████████| 21/21 [00:01<00:00, 14.73it/s, loss=-27794.08]\n"
     ]
    },
    {
     "name": "stdout",
     "output_type": "stream",
     "text": [
      "\tTotal Loss (NLL + MDMM): -27519.99\n",
      "\tMDMM Loss:               13.69\n",
      "\tRemaining Weights:       99.45 %\n"
     ]
    },
    {
     "name": "stderr",
     "output_type": "stream",
     "text": [
      "Epoch 198 [Training]: 100%|██████████| 84/84 [00:06<00:00, 13.50it/s, loss=-27530.09, λc2D1=6.19, λd1=2.75, λd2=4.03, λd3=3.36]\n",
      "Epoch 198 [Validation]: 100%|██████████| 21/21 [00:01<00:00, 14.57it/s, loss=-27815.57]\n"
     ]
    },
    {
     "name": "stdout",
     "output_type": "stream",
     "text": [
      "\tTotal Loss (NLL + MDMM): -27545.55\n",
      "\tMDMM Loss:               13.76\n",
      "\tRemaining Weights:       99.50 %\n"
     ]
    },
    {
     "name": "stderr",
     "output_type": "stream",
     "text": [
      "Epoch 199 [Training]: 100%|██████████| 84/84 [00:06<00:00, 13.30it/s, loss=-27557.54, λc2D1=6.23, λd1=2.76, λd2=4.05, λd3=3.38]\n",
      "Epoch 199 [Validation]: 100%|██████████| 21/21 [00:01<00:00, 15.11it/s, loss=-27852.02]\n"
     ]
    },
    {
     "name": "stdout",
     "output_type": "stream",
     "text": [
      "\tTotal Loss (NLL + MDMM): -27582.25\n",
      "\tMDMM Loss:               13.84\n",
      "\tRemaining Weights:       99.50 %\n"
     ]
    },
    {
     "name": "stderr",
     "output_type": "stream",
     "text": [
      "Epoch 200 [Training]: 100%|██████████| 84/84 [00:06<00:00, 13.41it/s, loss=-27578.22, λc2D1=0.00, λd1=0.00, λd2=0.00, λd3=0.00]\n",
      "Epoch 200 [Validation]: 100%|██████████| 21/21 [00:01<00:00, 15.24it/s, loss=-27886.48]\n"
     ]
    },
    {
     "name": "stdout",
     "output_type": "stream",
     "text": [
      "\tTotal Loss (NLL + MDMM): -27615.26\n",
      "\tMDMM Loss:               0.00\n",
      "\tRemaining Weights:       99.39 %\n"
     ]
    },
    {
     "name": "stderr",
     "output_type": "stream",
     "text": [
      "Epoch 201 [Training]: 100%|██████████| 84/84 [00:06<00:00, 13.52it/s, loss=-27610.12, λc2D1=0.00, λd1=0.00, λd2=0.00, λd3=0.00]\n",
      "Epoch 201 [Validation]: 100%|██████████| 21/21 [00:01<00:00, 15.06it/s, loss=-27886.85]\n"
     ]
    },
    {
     "name": "stdout",
     "output_type": "stream",
     "text": [
      "\tTotal Loss (NLL + MDMM): -27610.14\n",
      "\tMDMM Loss:               0.00\n",
      "\tRemaining Weights:       99.17 %\n"
     ]
    },
    {
     "name": "stderr",
     "output_type": "stream",
     "text": [
      "Epoch 202 [Training]: 100%|██████████| 84/84 [00:06<00:00, 13.35it/s, loss=-27642.07, λc2D1=0.00, λd1=0.00, λd2=0.00, λd3=0.00]\n",
      "Epoch 202 [Validation]: 100%|██████████| 21/21 [00:01<00:00, 14.80it/s, loss=-27940.97]\n"
     ]
    },
    {
     "name": "stdout",
     "output_type": "stream",
     "text": [
      "\tTotal Loss (NLL + MDMM): -27665.27\n",
      "\tMDMM Loss:               0.00\n",
      "\tRemaining Weights:       99.34 %\n"
     ]
    },
    {
     "name": "stderr",
     "output_type": "stream",
     "text": [
      "Epoch 203 [Training]: 100%|██████████| 84/84 [00:06<00:00, 13.24it/s, loss=-27658.59, λc2D1=0.00, λd1=0.00, λd2=0.00, λd3=0.00]\n",
      "Epoch 203 [Validation]: 100%|██████████| 21/21 [00:01<00:00, 14.81it/s, loss=-27955.41]\n"
     ]
    },
    {
     "name": "stdout",
     "output_type": "stream",
     "text": [
      "\tTotal Loss (NLL + MDMM): -27684.04\n",
      "\tMDMM Loss:               0.00\n",
      "\tRemaining Weights:       99.34 %\n"
     ]
    },
    {
     "name": "stderr",
     "output_type": "stream",
     "text": [
      "Epoch 204 [Training]: 100%|██████████| 84/84 [00:06<00:00, 13.24it/s, loss=-27678.23, λc2D1=0.00, λd1=0.00, λd2=0.00, λd3=0.00]\n",
      "Epoch 204 [Validation]: 100%|██████████| 21/21 [00:01<00:00, 14.69it/s, loss=-27946.92]\n"
     ]
    },
    {
     "name": "stdout",
     "output_type": "stream",
     "text": [
      "\tTotal Loss (NLL + MDMM): -27671.30\n",
      "\tMDMM Loss:               0.00\n",
      "\tRemaining Weights:       99.28 %\n"
     ]
    },
    {
     "name": "stderr",
     "output_type": "stream",
     "text": [
      "Epoch 205 [Training]: 100%|██████████| 84/84 [00:06<00:00, 13.24it/s, loss=-27709.41, λc2D1=0.00, λd1=0.00, λd2=0.00, λd3=0.00]\n",
      "Epoch 205 [Validation]: 100%|██████████| 21/21 [00:01<00:00, 14.60it/s, loss=-27991.88]\n"
     ]
    },
    {
     "name": "stdout",
     "output_type": "stream",
     "text": [
      "\tTotal Loss (NLL + MDMM): -27711.63\n",
      "\tMDMM Loss:               0.00\n",
      "\tRemaining Weights:       99.34 %\n"
     ]
    },
    {
     "name": "stderr",
     "output_type": "stream",
     "text": [
      "Epoch 206 [Training]: 100%|██████████| 84/84 [00:06<00:00, 13.12it/s, loss=-27731.13, λc2D1=0.00, λd1=0.00, λd2=0.00, λd3=0.00]\n",
      "Epoch 206 [Validation]: 100%|██████████| 21/21 [00:01<00:00, 14.92it/s, loss=-28031.53]\n"
     ]
    },
    {
     "name": "stdout",
     "output_type": "stream",
     "text": [
      "\tTotal Loss (NLL + MDMM): -27754.57\n",
      "\tMDMM Loss:               0.00\n",
      "\tRemaining Weights:       99.34 %\n"
     ]
    },
    {
     "name": "stderr",
     "output_type": "stream",
     "text": [
      "Epoch 207 [Training]: 100%|██████████| 84/84 [00:06<00:00, 12.87it/s, loss=-27754.42, λc2D1=0.00, λd1=0.00, λd2=0.00, λd3=0.00]\n",
      "Epoch 207 [Validation]: 100%|██████████| 21/21 [00:01<00:00, 14.80it/s, loss=-28051.65]\n"
     ]
    },
    {
     "name": "stdout",
     "output_type": "stream",
     "text": [
      "\tTotal Loss (NLL + MDMM): -27774.43\n",
      "\tMDMM Loss:               0.00\n",
      "\tRemaining Weights:       99.39 %\n"
     ]
    },
    {
     "name": "stderr",
     "output_type": "stream",
     "text": [
      "Epoch 208 [Training]: 100%|██████████| 84/84 [00:06<00:00, 13.36it/s, loss=-27775.39, λc2D1=0.00, λd1=0.00, λd2=0.00, λd3=0.00]\n",
      "Epoch 208 [Validation]: 100%|██████████| 21/21 [00:01<00:00, 14.98it/s, loss=-28082.82]\n"
     ]
    },
    {
     "name": "stdout",
     "output_type": "stream",
     "text": [
      "\tTotal Loss (NLL + MDMM): -27805.53\n",
      "\tMDMM Loss:               0.00\n",
      "\tRemaining Weights:       99.50 %\n"
     ]
    },
    {
     "name": "stderr",
     "output_type": "stream",
     "text": [
      "Epoch 209 [Training]: 100%|██████████| 84/84 [00:06<00:00, 13.45it/s, loss=-27791.63, λc2D1=0.00, λd1=0.00, λd2=0.00, λd3=0.00]\n",
      "Epoch 209 [Validation]: 100%|██████████| 21/21 [00:01<00:00, 14.75it/s, loss=-28068.80]\n"
     ]
    },
    {
     "name": "stdout",
     "output_type": "stream",
     "text": [
      "\tTotal Loss (NLL + MDMM): -27793.49\n",
      "\tMDMM Loss:               0.00\n",
      "\tRemaining Weights:       99.50 %\n"
     ]
    },
    {
     "name": "stderr",
     "output_type": "stream",
     "text": [
      "Epoch 210 [Training]: 100%|██████████| 84/84 [00:06<00:00, 13.37it/s, loss=-27815.54, λc2D1=0.00, λd1=0.00, λd2=0.00, λd3=0.00]\n",
      "Epoch 210 [Validation]: 100%|██████████| 21/21 [00:01<00:00, 14.62it/s, loss=-28114.06]\n"
     ]
    },
    {
     "name": "stdout",
     "output_type": "stream",
     "text": [
      "\tTotal Loss (NLL + MDMM): -27828.32\n",
      "\tMDMM Loss:               0.00\n",
      "\tRemaining Weights:       99.72 %\n"
     ]
    },
    {
     "name": "stderr",
     "output_type": "stream",
     "text": [
      "Epoch 211 [Training]: 100%|██████████| 84/84 [00:06<00:00, 13.48it/s, loss=-27830.26, λc2D1=0.00, λd1=0.00, λd2=0.00, λd3=0.00]\n",
      "Epoch 211 [Validation]: 100%|██████████| 21/21 [00:01<00:00, 15.30it/s, loss=-28140.15]\n"
     ]
    },
    {
     "name": "stdout",
     "output_type": "stream",
     "text": [
      "\tTotal Loss (NLL + MDMM): -27853.82\n",
      "\tMDMM Loss:               0.00\n",
      "\tRemaining Weights:       99.56 %\n"
     ]
    },
    {
     "name": "stderr",
     "output_type": "stream",
     "text": [
      "Epoch 212 [Training]: 100%|██████████| 84/84 [00:06<00:00, 13.54it/s, loss=-27852.94, λc2D1=0.00, λd1=0.00, λd2=0.00, λd3=0.00]\n",
      "Epoch 212 [Validation]: 100%|██████████| 21/21 [00:01<00:00, 15.00it/s, loss=-28146.96]\n"
     ]
    },
    {
     "name": "stdout",
     "output_type": "stream",
     "text": [
      "\tTotal Loss (NLL + MDMM): -27864.66\n",
      "\tMDMM Loss:               0.00\n",
      "\tRemaining Weights:       99.50 %\n"
     ]
    },
    {
     "name": "stderr",
     "output_type": "stream",
     "text": [
      "Epoch 213 [Training]: 100%|██████████| 84/84 [00:06<00:00, 13.26it/s, loss=-27874.75, λc2D1=0.00, λd1=0.00, λd2=0.00, λd3=0.00]\n",
      "Epoch 213 [Validation]: 100%|██████████| 21/21 [00:01<00:00, 14.95it/s, loss=-28189.31]\n"
     ]
    },
    {
     "name": "stdout",
     "output_type": "stream",
     "text": [
      "\tTotal Loss (NLL + MDMM): -27904.25\n",
      "\tMDMM Loss:               0.00\n",
      "\tRemaining Weights:       99.61 %\n"
     ]
    },
    {
     "name": "stderr",
     "output_type": "stream",
     "text": [
      "Epoch 214 [Training]: 100%|██████████| 84/84 [00:06<00:00, 13.25it/s, loss=-27905.82, λc2D1=0.00, λd1=0.00, λd2=0.00, λd3=0.00]\n",
      "Epoch 214 [Validation]: 100%|██████████| 21/21 [00:01<00:00, 14.56it/s, loss=-28205.64]\n"
     ]
    },
    {
     "name": "stdout",
     "output_type": "stream",
     "text": [
      "\tTotal Loss (NLL + MDMM): -27918.84\n",
      "\tMDMM Loss:               0.00\n",
      "\tRemaining Weights:       99.72 %\n"
     ]
    },
    {
     "name": "stderr",
     "output_type": "stream",
     "text": [
      "Epoch 215 [Training]: 100%|██████████| 84/84 [00:06<00:00, 13.45it/s, loss=-27927.32, λc2D1=0.00, λd1=0.00, λd2=0.00, λd3=0.00]\n",
      "Epoch 215 [Validation]: 100%|██████████| 21/21 [00:01<00:00, 14.87it/s, loss=-28233.01]\n"
     ]
    },
    {
     "name": "stdout",
     "output_type": "stream",
     "text": [
      "\tTotal Loss (NLL + MDMM): -27942.69\n",
      "\tMDMM Loss:               0.00\n",
      "\tRemaining Weights:       99.78 %\n"
     ]
    },
    {
     "name": "stderr",
     "output_type": "stream",
     "text": [
      "Epoch 216 [Training]: 100%|██████████| 84/84 [00:06<00:00, 13.25it/s, loss=-27933.43, λc2D1=0.00, λd1=0.00, λd2=0.00, λd3=0.00]\n",
      "Epoch 216 [Validation]: 100%|██████████| 21/21 [00:01<00:00, 15.08it/s, loss=-28244.93]\n"
     ]
    },
    {
     "name": "stdout",
     "output_type": "stream",
     "text": [
      "\tTotal Loss (NLL + MDMM): -27957.75\n",
      "\tMDMM Loss:               0.00\n",
      "\tRemaining Weights:       99.78 %\n"
     ]
    },
    {
     "name": "stderr",
     "output_type": "stream",
     "text": [
      "Epoch 217 [Training]: 100%|██████████| 84/84 [00:06<00:00, 13.34it/s, loss=-27960.87, λc2D1=0.00, λd1=0.00, λd2=0.00, λd3=0.00]\n",
      "Epoch 217 [Validation]: 100%|██████████| 21/21 [00:01<00:00, 14.45it/s, loss=-28281.33]\n"
     ]
    },
    {
     "name": "stdout",
     "output_type": "stream",
     "text": [
      "\tTotal Loss (NLL + MDMM): -27996.41\n",
      "\tMDMM Loss:               0.00\n",
      "\tRemaining Weights:       99.56 %\n"
     ]
    },
    {
     "name": "stderr",
     "output_type": "stream",
     "text": [
      "Epoch 218 [Training]: 100%|██████████| 84/84 [00:06<00:00, 13.27it/s, loss=-27972.65, λc2D1=0.00, λd1=0.00, λd2=0.00, λd3=0.00]\n",
      "Epoch 218 [Validation]: 100%|██████████| 21/21 [00:01<00:00, 14.79it/s, loss=-28285.07]\n"
     ]
    },
    {
     "name": "stdout",
     "output_type": "stream",
     "text": [
      "\tTotal Loss (NLL + MDMM): -28004.15\n",
      "\tMDMM Loss:               0.00\n",
      "\tRemaining Weights:       99.61 %\n"
     ]
    },
    {
     "name": "stderr",
     "output_type": "stream",
     "text": [
      "Epoch 219 [Training]: 100%|██████████| 84/84 [00:06<00:00, 13.36it/s, loss=-27993.20, λc2D1=0.00, λd1=0.00, λd2=0.00, λd3=0.00]\n",
      "Epoch 219 [Validation]: 100%|██████████| 21/21 [00:01<00:00, 14.83it/s, loss=-28314.52]\n"
     ]
    },
    {
     "name": "stdout",
     "output_type": "stream",
     "text": [
      "\tTotal Loss (NLL + MDMM): -28023.23\n",
      "\tMDMM Loss:               0.00\n",
      "\tRemaining Weights:       99.61 %\n"
     ]
    },
    {
     "name": "stderr",
     "output_type": "stream",
     "text": [
      "Epoch 220 [Training]: 100%|██████████| 84/84 [00:06<00:00, 13.20it/s, loss=-28023.14, λc2D1=0.00, λd1=0.00, λd2=0.00, λd3=0.00]\n",
      "Epoch 220 [Validation]: 100%|██████████| 21/21 [00:01<00:00, 14.90it/s, loss=-28336.83]\n"
     ]
    },
    {
     "name": "stdout",
     "output_type": "stream",
     "text": [
      "\tTotal Loss (NLL + MDMM): -28042.47\n",
      "\tMDMM Loss:               0.00\n",
      "\tRemaining Weights:       99.67 %\n"
     ]
    },
    {
     "name": "stderr",
     "output_type": "stream",
     "text": [
      "Epoch 221 [Training]: 100%|██████████| 84/84 [00:06<00:00, 13.33it/s, loss=-28050.98, λc2D1=0.00, λd1=0.00, λd2=0.00, λd3=0.00]\n",
      "Epoch 221 [Validation]: 100%|██████████| 21/21 [00:01<00:00, 14.80it/s, loss=-28344.88]\n"
     ]
    },
    {
     "name": "stdout",
     "output_type": "stream",
     "text": [
      "\tTotal Loss (NLL + MDMM): -28049.27\n",
      "\tMDMM Loss:               0.00\n",
      "\tRemaining Weights:       99.67 %\n"
     ]
    },
    {
     "name": "stderr",
     "output_type": "stream",
     "text": [
      "Epoch 222 [Training]: 100%|██████████| 84/84 [00:06<00:00, 13.14it/s, loss=-28038.21, λc2D1=0.00, λd1=0.00, λd2=0.00, λd3=0.00]\n",
      "Epoch 222 [Validation]: 100%|██████████| 21/21 [00:01<00:00, 14.22it/s, loss=-28371.54]\n"
     ]
    },
    {
     "name": "stdout",
     "output_type": "stream",
     "text": [
      "\tTotal Loss (NLL + MDMM): -28078.71\n",
      "\tMDMM Loss:               0.00\n",
      "\tRemaining Weights:       99.67 %\n"
     ]
    },
    {
     "name": "stderr",
     "output_type": "stream",
     "text": [
      "Epoch 223 [Training]: 100%|██████████| 84/84 [00:06<00:00, 13.34it/s, loss=-28086.18, λc2D1=0.00, λd1=0.00, λd2=0.00, λd3=0.00]\n",
      "Epoch 223 [Validation]: 100%|██████████| 21/21 [00:01<00:00, 14.26it/s, loss=-28390.22]\n"
     ]
    },
    {
     "name": "stdout",
     "output_type": "stream",
     "text": [
      "\tTotal Loss (NLL + MDMM): -28098.16\n",
      "\tMDMM Loss:               0.00\n",
      "\tRemaining Weights:       99.39 %\n"
     ]
    },
    {
     "name": "stderr",
     "output_type": "stream",
     "text": [
      "Epoch 224 [Training]: 100%|██████████| 84/84 [00:06<00:00, 13.18it/s, loss=-28103.80, λc2D1=0.00, λd1=0.00, λd2=0.00, λd3=0.00]\n",
      "Epoch 224 [Validation]: 100%|██████████| 21/21 [00:01<00:00, 15.13it/s, loss=-28422.96]\n"
     ]
    },
    {
     "name": "stdout",
     "output_type": "stream",
     "text": [
      "\tTotal Loss (NLL + MDMM): -28120.48\n",
      "\tMDMM Loss:               0.00\n",
      "\tRemaining Weights:       99.34 %\n"
     ]
    },
    {
     "name": "stderr",
     "output_type": "stream",
     "text": [
      "Epoch 225 [Training]: 100%|██████████| 84/84 [00:06<00:00, 13.49it/s, loss=-28111.66, λc2D1=0.00, λd1=0.00, λd2=0.00, λd3=0.00]\n",
      "Epoch 225 [Validation]: 100%|██████████| 21/21 [00:01<00:00, 14.85it/s, loss=-28437.82]\n"
     ]
    },
    {
     "name": "stdout",
     "output_type": "stream",
     "text": [
      "\tTotal Loss (NLL + MDMM): -28141.86\n",
      "\tMDMM Loss:               0.00\n",
      "\tRemaining Weights:       99.45 %\n"
     ]
    },
    {
     "name": "stderr",
     "output_type": "stream",
     "text": [
      "Epoch 226 [Training]: 100%|██████████| 84/84 [00:06<00:00, 13.34it/s, loss=-28135.87, λc2D1=0.00, λd1=0.00, λd2=0.00, λd3=0.00]\n",
      "Epoch 226 [Validation]:   5%|▍         | 1/21 [00:00<00:02,  8.05it/s, loss=-28678.02]\n"
     ]
    }
   ],
   "source": [
    "from pquant import iterative_train\n",
    "\"\"\"\n",
    "Inputs to train_resnet we defined previously are:\n",
    "          model, trainloader, device, loss_func, epoch, optimizer, scheduler, **kwargs\n",
    "\"\"\"\n",
    "\n",
    "optimizer =  keras.optimizers.Nadam(learning_rate=config[\"lr\"])\n",
    "\n",
    "trained_model = iterative_train(model = model, \n",
    "                                config = config, \n",
    "                                train_func = train_smart_pixels_tf, \n",
    "                                valid_func = validate_smart_pixels_tf, \n",
    "                                trainloader = train_loader, \n",
    "                                testloader = val_loader, \n",
    "                                device = None, \n",
    "                                loss_func = custom_loss,\n",
    "                                optimizer = optimizer, \n",
    "                                )"
   ]
  },
  {
   "cell_type": "code",
   "execution_count": null,
   "id": "6af319a4",
   "metadata": {},
   "outputs": [],
   "source": [
    "# TODO: \n",
    "#     - Increase number of epochs\n",
    "#     - Implement early stopping\n",
    "#     - Saving model weights (checkPoints)\n",
    "#     - HLS4ml tutorial"
   ]
  },
  {
   "cell_type": "code",
   "execution_count": null,
   "id": "1dbfbc58",
   "metadata": {},
   "outputs": [],
   "source": []
  },
  {
   "cell_type": "code",
   "execution_count": null,
   "id": "d696db81",
   "metadata": {},
   "outputs": [],
   "source": []
  }
 ],
 "metadata": {
  "kernelspec": {
   "display_name": "Python [conda env:pquant-gpu-env]",
   "language": "python",
   "name": "conda-env-pquant-gpu-env-py"
  },
  "language_info": {
   "codemirror_mode": {
    "name": "ipython",
    "version": 3
   },
   "file_extension": ".py",
   "mimetype": "text/x-python",
   "name": "python",
   "nbconvert_exporter": "python",
   "pygments_lexer": "ipython3",
   "version": "3.10.18"
  }
 },
 "nbformat": 4,
 "nbformat_minor": 5
}
