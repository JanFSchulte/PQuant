{
 "cells": [
  {
   "cell_type": "code",
   "execution_count": 1,
   "id": "27197caf-85a2-48b7-af76-a5ff943408ca",
   "metadata": {},
   "outputs": [
    {
     "name": "stderr",
     "output_type": "stream",
     "text": [
      "2025-07-13 01:24:54.548585: E external/local_xla/xla/stream_executor/cuda/cuda_fft.cc:467] Unable to register cuFFT factory: Attempting to register factory for plugin cuFFT when one has already been registered\n",
      "WARNING: All log messages before absl::InitializeLog() is called are written to STDERR\n",
      "E0000 00:00:1752362694.567168 1635125 cuda_dnn.cc:8579] Unable to register cuDNN factory: Attempting to register factory for plugin cuDNN when one has already been registered\n",
      "E0000 00:00:1752362694.572854 1635125 cuda_blas.cc:1407] Unable to register cuBLAS factory: Attempting to register factory for plugin cuBLAS when one has already been registered\n",
      "W0000 00:00:1752362694.586142 1635125 computation_placer.cc:177] computation placer already registered. Please check linkage and avoid linking the same target more than once.\n",
      "W0000 00:00:1752362694.586160 1635125 computation_placer.cc:177] computation placer already registered. Please check linkage and avoid linking the same target more than once.\n",
      "W0000 00:00:1752362694.586162 1635125 computation_placer.cc:177] computation placer already registered. Please check linkage and avoid linking the same target more than once.\n",
      "W0000 00:00:1752362694.586164 1635125 computation_placer.cc:177] computation placer already registered. Please check linkage and avoid linking the same target more than once.\n",
      "2025-07-13 01:24:54.590988: I tensorflow/core/platform/cpu_feature_guard.cc:210] This TensorFlow binary is optimized to use available CPU instructions in performance-critical operations.\n",
      "To enable the following instructions: AVX2 FMA, in other operations, rebuild TensorFlow with the appropriate compiler flags.\n"
     ]
    }
   ],
   "source": [
    "import os\n",
    "os.environ[\"KERAS_BACKEND\"] = \"tensorflow\"\n",
    "import keras\n",
    "keras.backend.set_image_data_format(\"channels_last\")\n",
    "import tensorflow as tf\n",
    "\n",
    "import numpy as np\n",
    "import random\n",
    "\n",
    "SEED = 42\n",
    "os.environ['PYTHONHASHSEED'] = str(SEED)\n",
    "random.seed(SEED)\n",
    "np.random.seed(SEED)\n",
    "tf.random.set_seed(SEED)"
   ]
  },
  {
   "cell_type": "code",
   "execution_count": 2,
   "id": "9e520e8e",
   "metadata": {},
   "outputs": [
    {
     "name": "stdout",
     "output_type": "stream",
     "text": [
      "pquant\n",
      "smartpixels\n"
     ]
    }
   ],
   "source": [
    "try:\n",
    "    os.chdir(\"/home/das214/PQuant/mdmm_dev/src\")\n",
    "except:\n",
    "    pass\n",
    "\n",
    "for f in os.listdir(os.getcwd()):\n",
    "    print(f)"
   ]
  },
  {
   "cell_type": "code",
   "execution_count": 3,
   "id": "71c59739",
   "metadata": {},
   "outputs": [
    {
     "name": "stdout",
     "output_type": "stream",
     "text": [
      "train_file_size: 80\n",
      "val_file_size: 20\n"
     ]
    }
   ],
   "source": [
    "dataset_base_dir = \"/depot/cms/users/das214/datasets/dataset_3sr/dataset_3sr_16x16_50x12P5_parquets/contained\"\n",
    "tfrecords_base_dir = os.path.join(dataset_base_dir, \"TFR_files\", \"2t\")\n",
    "\n",
    "dataset_train_dir = os.path.join(dataset_base_dir, \"train\")\n",
    "dataset_test_dir = os.path.join(dataset_base_dir, \"test\")\n",
    "tfrecords_dir_train = os.path.join(tfrecords_base_dir, \"TFR_train\")\n",
    "tfrecords_dir_val   = os.path.join(tfrecords_base_dir, \"TFR_val\")\n",
    "\n",
    "train_file_size = len(os.listdir(dataset_train_dir))\n",
    "val_file_size = len(os.listdir(dataset_test_dir))\n",
    "print(f\"train_file_size: {train_file_size}\\nval_file_size: {val_file_size}\")\n",
    "\n",
    "from smartpixels.DG.OptimizedDataGenerator_v2 import OptimizedDataGenerator\n",
    "from smartpixels.losses.maxNLL import custom_loss\n",
    "from smartpixels.models.conv2D import CreateModel\n"
   ]
  },
  {
   "cell_type": "code",
   "execution_count": 4,
   "id": "141bfb65",
   "metadata": {},
   "outputs": [
    {
     "name": "stderr",
     "output_type": "stream",
     "text": [
      "WARNING:root:Quantization is False in data generator. This may affect model performance.\n"
     ]
    },
    {
     "name": "stdout",
     "output_type": "stream",
     "text": [
      "Loading metadata from /depot/cms/users/das214/datasets/dataset_3sr/dataset_3sr_16x16_50x12P5_parquets/contained/TFR_files/2t/TFR_val/metadata.json\n",
      "Loading metadata from /depot/cms/users/das214/datasets/dataset_3sr/dataset_3sr_16x16_50x12P5_parquets/contained/TFR_files/2t/TFR_train/metadata.json\n"
     ]
    },
    {
     "name": "stderr",
     "output_type": "stream",
     "text": [
      "WARNING:root:Quantization is False in data generator. This may affect model performance.\n"
     ]
    }
   ],
   "source": [
    "val_loader = OptimizedDataGenerator(\n",
    "    load_from_tfrecords_dir= tfrecords_dir_val,\n",
    "    shuffle=True,\n",
    "    seed=SEED,\n",
    "    quantize=False,\n",
    ")\n",
    "\n",
    "train_loader = OptimizedDataGenerator(\n",
    "    load_from_tfrecords_dir = tfrecords_dir_train,\n",
    "    shuffle=True,\n",
    "    seed=SEED,\n",
    "    quantize=False,\n",
    ")\n"
   ]
  },
  {
   "cell_type": "code",
   "execution_count": 5,
   "id": "17959028",
   "metadata": {},
   "outputs": [
    {
     "name": "stderr",
     "output_type": "stream",
     "text": [
      "I0000 00:00:1752362704.159514 1635125 gpu_device.cc:2019] Created device /job:localhost/replica:0/task:0/device:GPU:0 with 38397 MB memory:  -> device: 0, name: NVIDIA A100-PCIE-40GB MIG 7g.40gb, pci bus id: 0000:21:00.0, compute capability: 8.0\n"
     ]
    },
    {
     "data": {
      "text/html": [
       "<pre style=\"white-space:pre;overflow-x:auto;line-height:normal;font-family:Menlo,'DejaVu Sans Mono',consolas,'Courier New',monospace\"><span style=\"font-weight: bold\">Model: \"functional\"</span>\n",
       "</pre>\n"
      ],
      "text/plain": [
       "\u001b[1mModel: \"functional\"\u001b[0m\n"
      ]
     },
     "metadata": {},
     "output_type": "display_data"
    },
    {
     "data": {
      "text/html": [
       "<pre style=\"white-space:pre;overflow-x:auto;line-height:normal;font-family:Menlo,'DejaVu Sans Mono',consolas,'Courier New',monospace\">┏━━━━━━━━━━━━━━━━━━━━━━━━━━━━━━━━━┳━━━━━━━━━━━━━━━━━━━━━━━━┳━━━━━━━━━━━━━━━┓\n",
       "┃<span style=\"font-weight: bold\"> Layer (type)                    </span>┃<span style=\"font-weight: bold\"> Output Shape           </span>┃<span style=\"font-weight: bold\">       Param # </span>┃\n",
       "┡━━━━━━━━━━━━━━━━━━━━━━━━━━━━━━━━━╇━━━━━━━━━━━━━━━━━━━━━━━━╇━━━━━━━━━━━━━━━┩\n",
       "│ input_layer (<span style=\"color: #0087ff; text-decoration-color: #0087ff\">InputLayer</span>)        │ (<span style=\"color: #00d7ff; text-decoration-color: #00d7ff\">None</span>, <span style=\"color: #00af00; text-decoration-color: #00af00\">16</span>, <span style=\"color: #00af00; text-decoration-color: #00af00\">16</span>, <span style=\"color: #00af00; text-decoration-color: #00af00\">2</span>)      │             <span style=\"color: #00af00; text-decoration-color: #00af00\">0</span> │\n",
       "├─────────────────────────────────┼────────────────────────┼───────────────┤\n",
       "│ separable_conv2d                │ (<span style=\"color: #00d7ff; text-decoration-color: #00d7ff\">None</span>, <span style=\"color: #00af00; text-decoration-color: #00af00\">14</span>, <span style=\"color: #00af00; text-decoration-color: #00af00\">14</span>, <span style=\"color: #00af00; text-decoration-color: #00af00\">5</span>)      │            <span style=\"color: #00af00; text-decoration-color: #00af00\">33</span> │\n",
       "│ (<span style=\"color: #0087ff; text-decoration-color: #0087ff\">SeparableConv2D</span>)               │                        │               │\n",
       "├─────────────────────────────────┼────────────────────────┼───────────────┤\n",
       "│ activation (<span style=\"color: #0087ff; text-decoration-color: #0087ff\">Activation</span>)         │ (<span style=\"color: #00d7ff; text-decoration-color: #00d7ff\">None</span>, <span style=\"color: #00af00; text-decoration-color: #00af00\">14</span>, <span style=\"color: #00af00; text-decoration-color: #00af00\">14</span>, <span style=\"color: #00af00; text-decoration-color: #00af00\">5</span>)      │             <span style=\"color: #00af00; text-decoration-color: #00af00\">0</span> │\n",
       "├─────────────────────────────────┼────────────────────────┼───────────────┤\n",
       "│ conv2d (<span style=\"color: #0087ff; text-decoration-color: #0087ff\">Conv2D</span>)                 │ (<span style=\"color: #00d7ff; text-decoration-color: #00d7ff\">None</span>, <span style=\"color: #00af00; text-decoration-color: #00af00\">14</span>, <span style=\"color: #00af00; text-decoration-color: #00af00\">14</span>, <span style=\"color: #00af00; text-decoration-color: #00af00\">5</span>)      │            <span style=\"color: #00af00; text-decoration-color: #00af00\">30</span> │\n",
       "├─────────────────────────────────┼────────────────────────┼───────────────┤\n",
       "│ activation_1 (<span style=\"color: #0087ff; text-decoration-color: #0087ff\">Activation</span>)       │ (<span style=\"color: #00d7ff; text-decoration-color: #00d7ff\">None</span>, <span style=\"color: #00af00; text-decoration-color: #00af00\">14</span>, <span style=\"color: #00af00; text-decoration-color: #00af00\">14</span>, <span style=\"color: #00af00; text-decoration-color: #00af00\">5</span>)      │             <span style=\"color: #00af00; text-decoration-color: #00af00\">0</span> │\n",
       "├─────────────────────────────────┼────────────────────────┼───────────────┤\n",
       "│ average_pooling2d               │ (<span style=\"color: #00d7ff; text-decoration-color: #00d7ff\">None</span>, <span style=\"color: #00af00; text-decoration-color: #00af00\">4</span>, <span style=\"color: #00af00; text-decoration-color: #00af00\">4</span>, <span style=\"color: #00af00; text-decoration-color: #00af00\">5</span>)        │             <span style=\"color: #00af00; text-decoration-color: #00af00\">0</span> │\n",
       "│ (<span style=\"color: #0087ff; text-decoration-color: #0087ff\">AveragePooling2D</span>)              │                        │               │\n",
       "├─────────────────────────────────┼────────────────────────┼───────────────┤\n",
       "│ activation_2 (<span style=\"color: #0087ff; text-decoration-color: #0087ff\">Activation</span>)       │ (<span style=\"color: #00d7ff; text-decoration-color: #00d7ff\">None</span>, <span style=\"color: #00af00; text-decoration-color: #00af00\">4</span>, <span style=\"color: #00af00; text-decoration-color: #00af00\">4</span>, <span style=\"color: #00af00; text-decoration-color: #00af00\">5</span>)        │             <span style=\"color: #00af00; text-decoration-color: #00af00\">0</span> │\n",
       "├─────────────────────────────────┼────────────────────────┼───────────────┤\n",
       "│ flatten (<span style=\"color: #0087ff; text-decoration-color: #0087ff\">Flatten</span>)               │ (<span style=\"color: #00d7ff; text-decoration-color: #00d7ff\">None</span>, <span style=\"color: #00af00; text-decoration-color: #00af00\">80</span>)             │             <span style=\"color: #00af00; text-decoration-color: #00af00\">0</span> │\n",
       "├─────────────────────────────────┼────────────────────────┼───────────────┤\n",
       "│ dense (<span style=\"color: #0087ff; text-decoration-color: #0087ff\">Dense</span>)                   │ (<span style=\"color: #00d7ff; text-decoration-color: #00d7ff\">None</span>, <span style=\"color: #00af00; text-decoration-color: #00af00\">16</span>)             │         <span style=\"color: #00af00; text-decoration-color: #00af00\">1,296</span> │\n",
       "├─────────────────────────────────┼────────────────────────┼───────────────┤\n",
       "│ activation_3 (<span style=\"color: #0087ff; text-decoration-color: #0087ff\">Activation</span>)       │ (<span style=\"color: #00d7ff; text-decoration-color: #00d7ff\">None</span>, <span style=\"color: #00af00; text-decoration-color: #00af00\">16</span>)             │             <span style=\"color: #00af00; text-decoration-color: #00af00\">0</span> │\n",
       "├─────────────────────────────────┼────────────────────────┼───────────────┤\n",
       "│ dense_1 (<span style=\"color: #0087ff; text-decoration-color: #0087ff\">Dense</span>)                 │ (<span style=\"color: #00d7ff; text-decoration-color: #00d7ff\">None</span>, <span style=\"color: #00af00; text-decoration-color: #00af00\">16</span>)             │           <span style=\"color: #00af00; text-decoration-color: #00af00\">272</span> │\n",
       "├─────────────────────────────────┼────────────────────────┼───────────────┤\n",
       "│ activation_4 (<span style=\"color: #0087ff; text-decoration-color: #0087ff\">Activation</span>)       │ (<span style=\"color: #00d7ff; text-decoration-color: #00d7ff\">None</span>, <span style=\"color: #00af00; text-decoration-color: #00af00\">16</span>)             │             <span style=\"color: #00af00; text-decoration-color: #00af00\">0</span> │\n",
       "├─────────────────────────────────┼────────────────────────┼───────────────┤\n",
       "│ dense_2 (<span style=\"color: #0087ff; text-decoration-color: #0087ff\">Dense</span>)                 │ (<span style=\"color: #00d7ff; text-decoration-color: #00d7ff\">None</span>, <span style=\"color: #00af00; text-decoration-color: #00af00\">14</span>)             │           <span style=\"color: #00af00; text-decoration-color: #00af00\">238</span> │\n",
       "└─────────────────────────────────┴────────────────────────┴───────────────┘\n",
       "</pre>\n"
      ],
      "text/plain": [
       "┏━━━━━━━━━━━━━━━━━━━━━━━━━━━━━━━━━┳━━━━━━━━━━━━━━━━━━━━━━━━┳━━━━━━━━━━━━━━━┓\n",
       "┃\u001b[1m \u001b[0m\u001b[1mLayer (type)                   \u001b[0m\u001b[1m \u001b[0m┃\u001b[1m \u001b[0m\u001b[1mOutput Shape          \u001b[0m\u001b[1m \u001b[0m┃\u001b[1m \u001b[0m\u001b[1m      Param #\u001b[0m\u001b[1m \u001b[0m┃\n",
       "┡━━━━━━━━━━━━━━━━━━━━━━━━━━━━━━━━━╇━━━━━━━━━━━━━━━━━━━━━━━━╇━━━━━━━━━━━━━━━┩\n",
       "│ input_layer (\u001b[38;5;33mInputLayer\u001b[0m)        │ (\u001b[38;5;45mNone\u001b[0m, \u001b[38;5;34m16\u001b[0m, \u001b[38;5;34m16\u001b[0m, \u001b[38;5;34m2\u001b[0m)      │             \u001b[38;5;34m0\u001b[0m │\n",
       "├─────────────────────────────────┼────────────────────────┼───────────────┤\n",
       "│ separable_conv2d                │ (\u001b[38;5;45mNone\u001b[0m, \u001b[38;5;34m14\u001b[0m, \u001b[38;5;34m14\u001b[0m, \u001b[38;5;34m5\u001b[0m)      │            \u001b[38;5;34m33\u001b[0m │\n",
       "│ (\u001b[38;5;33mSeparableConv2D\u001b[0m)               │                        │               │\n",
       "├─────────────────────────────────┼────────────────────────┼───────────────┤\n",
       "│ activation (\u001b[38;5;33mActivation\u001b[0m)         │ (\u001b[38;5;45mNone\u001b[0m, \u001b[38;5;34m14\u001b[0m, \u001b[38;5;34m14\u001b[0m, \u001b[38;5;34m5\u001b[0m)      │             \u001b[38;5;34m0\u001b[0m │\n",
       "├─────────────────────────────────┼────────────────────────┼───────────────┤\n",
       "│ conv2d (\u001b[38;5;33mConv2D\u001b[0m)                 │ (\u001b[38;5;45mNone\u001b[0m, \u001b[38;5;34m14\u001b[0m, \u001b[38;5;34m14\u001b[0m, \u001b[38;5;34m5\u001b[0m)      │            \u001b[38;5;34m30\u001b[0m │\n",
       "├─────────────────────────────────┼────────────────────────┼───────────────┤\n",
       "│ activation_1 (\u001b[38;5;33mActivation\u001b[0m)       │ (\u001b[38;5;45mNone\u001b[0m, \u001b[38;5;34m14\u001b[0m, \u001b[38;5;34m14\u001b[0m, \u001b[38;5;34m5\u001b[0m)      │             \u001b[38;5;34m0\u001b[0m │\n",
       "├─────────────────────────────────┼────────────────────────┼───────────────┤\n",
       "│ average_pooling2d               │ (\u001b[38;5;45mNone\u001b[0m, \u001b[38;5;34m4\u001b[0m, \u001b[38;5;34m4\u001b[0m, \u001b[38;5;34m5\u001b[0m)        │             \u001b[38;5;34m0\u001b[0m │\n",
       "│ (\u001b[38;5;33mAveragePooling2D\u001b[0m)              │                        │               │\n",
       "├─────────────────────────────────┼────────────────────────┼───────────────┤\n",
       "│ activation_2 (\u001b[38;5;33mActivation\u001b[0m)       │ (\u001b[38;5;45mNone\u001b[0m, \u001b[38;5;34m4\u001b[0m, \u001b[38;5;34m4\u001b[0m, \u001b[38;5;34m5\u001b[0m)        │             \u001b[38;5;34m0\u001b[0m │\n",
       "├─────────────────────────────────┼────────────────────────┼───────────────┤\n",
       "│ flatten (\u001b[38;5;33mFlatten\u001b[0m)               │ (\u001b[38;5;45mNone\u001b[0m, \u001b[38;5;34m80\u001b[0m)             │             \u001b[38;5;34m0\u001b[0m │\n",
       "├─────────────────────────────────┼────────────────────────┼───────────────┤\n",
       "│ dense (\u001b[38;5;33mDense\u001b[0m)                   │ (\u001b[38;5;45mNone\u001b[0m, \u001b[38;5;34m16\u001b[0m)             │         \u001b[38;5;34m1,296\u001b[0m │\n",
       "├─────────────────────────────────┼────────────────────────┼───────────────┤\n",
       "│ activation_3 (\u001b[38;5;33mActivation\u001b[0m)       │ (\u001b[38;5;45mNone\u001b[0m, \u001b[38;5;34m16\u001b[0m)             │             \u001b[38;5;34m0\u001b[0m │\n",
       "├─────────────────────────────────┼────────────────────────┼───────────────┤\n",
       "│ dense_1 (\u001b[38;5;33mDense\u001b[0m)                 │ (\u001b[38;5;45mNone\u001b[0m, \u001b[38;5;34m16\u001b[0m)             │           \u001b[38;5;34m272\u001b[0m │\n",
       "├─────────────────────────────────┼────────────────────────┼───────────────┤\n",
       "│ activation_4 (\u001b[38;5;33mActivation\u001b[0m)       │ (\u001b[38;5;45mNone\u001b[0m, \u001b[38;5;34m16\u001b[0m)             │             \u001b[38;5;34m0\u001b[0m │\n",
       "├─────────────────────────────────┼────────────────────────┼───────────────┤\n",
       "│ dense_2 (\u001b[38;5;33mDense\u001b[0m)                 │ (\u001b[38;5;45mNone\u001b[0m, \u001b[38;5;34m14\u001b[0m)             │           \u001b[38;5;34m238\u001b[0m │\n",
       "└─────────────────────────────────┴────────────────────────┴───────────────┘\n"
      ]
     },
     "metadata": {},
     "output_type": "display_data"
    },
    {
     "data": {
      "text/html": [
       "<pre style=\"white-space:pre;overflow-x:auto;line-height:normal;font-family:Menlo,'DejaVu Sans Mono',consolas,'Courier New',monospace\"><span style=\"font-weight: bold\"> Total params: </span><span style=\"color: #00af00; text-decoration-color: #00af00\">1,869</span> (7.30 KB)\n",
       "</pre>\n"
      ],
      "text/plain": [
       "\u001b[1m Total params: \u001b[0m\u001b[38;5;34m1,869\u001b[0m (7.30 KB)\n"
      ]
     },
     "metadata": {},
     "output_type": "display_data"
    },
    {
     "data": {
      "text/html": [
       "<pre style=\"white-space:pre;overflow-x:auto;line-height:normal;font-family:Menlo,'DejaVu Sans Mono',consolas,'Courier New',monospace\"><span style=\"font-weight: bold\"> Trainable params: </span><span style=\"color: #00af00; text-decoration-color: #00af00\">1,869</span> (7.30 KB)\n",
       "</pre>\n"
      ],
      "text/plain": [
       "\u001b[1m Trainable params: \u001b[0m\u001b[38;5;34m1,869\u001b[0m (7.30 KB)\n"
      ]
     },
     "metadata": {},
     "output_type": "display_data"
    },
    {
     "data": {
      "text/html": [
       "<pre style=\"white-space:pre;overflow-x:auto;line-height:normal;font-family:Menlo,'DejaVu Sans Mono',consolas,'Courier New',monospace\"><span style=\"font-weight: bold\"> Non-trainable params: </span><span style=\"color: #00af00; text-decoration-color: #00af00\">0</span> (0.00 B)\n",
       "</pre>\n"
      ],
      "text/plain": [
       "\u001b[1m Non-trainable params: \u001b[0m\u001b[38;5;34m0\u001b[0m (0.00 B)\n"
      ]
     },
     "metadata": {},
     "output_type": "display_data"
    }
   ],
   "source": [
    "model=CreateModel(shape = (16,16,2), \n",
    "                  n_filters=5, SepConv2D_kernel_size=3, \n",
    "                  Conv2D_kernel_size=1,\n",
    "                  pool_size=3, \n",
    "                  hidden=16,\n",
    "                  output = 14)\n",
    "\n",
    "model.summary()"
   ]
  },
  {
   "cell_type": "code",
   "execution_count": 6,
   "id": "69dccb36",
   "metadata": {},
   "outputs": [],
   "source": [
    "# model.compile(\n",
    "#     optimizer=tf.keras.optimizers.Nadam(learning_rate=1e-3),\n",
    "#     loss=custom_loss,\n",
    "# )\n",
    "# history = model.fit(\n",
    "#         x=train_loader,\n",
    "#         validation_data=val_loader,\n",
    "#         epochs=5,\n",
    "#         shuffle=False,\n",
    "#         verbose=1\n",
    "#     )"
   ]
  },
  {
   "cell_type": "markdown",
   "id": "54cd71c9-86b2-4911-aa71-bd18b1e75aa1",
   "metadata": {},
   "source": [
    "## Add pruning and quantization\n",
    "To add pruning and quantization, we need a config file that defines how to do that. Let's load a config file from `pquant/configs/`. <br/>\n",
    "The training function we use later will add the pruning layers and quantized activations automatically using this config"
   ]
  },
  {
   "cell_type": "code",
   "execution_count": 7,
   "id": "0ec145f1-502c-4fd0-84ed-e87b84a27374",
   "metadata": {},
   "outputs": [
    {
     "data": {
      "application/json": {
       "batch_size": 128,
       "cosine_tmax": 200,
       "gamma": 0.1,
       "l2_decay": 0.0001,
       "label_smoothing": 0,
       "lr": 0.001,
       "lr_schedule": "multistep",
       "milestones": [
        75,
        120
       ],
       "momentum": 0.9,
       "optimizer": "sgd",
       "plot_frequency": 100,
       "pruning_parameters": {
        "constraint_type": "Equality",
        "damping": 1,
        "disable_pruning_for_layers": [
         null
        ],
        "enable_pruning": true,
        "epsilon": 0.001,
        "l0_mode": "coarse",
        "metric_type": "UnstructuredSparsity",
        "pruning_method": "mdmm",
        "rf": 1,
        "scale": 50,
        "target_sparsity": 0.9,
        "target_value": 0,
        "use_grad": false
       },
       "quantization_parameters": {
        "default_fractional_bits": 7,
        "default_integer_bits": 0,
        "enable_quantization": false,
        "hgq_gamma": 0.0003,
        "hgq_heterogeneous": true,
        "layer_specific": [],
        "use_high_granularity_quantization": false,
        "use_real_tanh": false,
        "use_symmetric_quantization": false
       },
       "training_parameters": {
        "epochs": 1000,
        "fine_tuning_epochs": 30,
        "pretraining_epochs": 0,
        "pruning_first": false,
        "rewind": "never",
        "rounds": 1,
        "save_weights_epoch": -1
       }
      },
      "text/plain": [
       "<IPython.core.display.JSON object>"
      ]
     },
     "execution_count": 7,
     "metadata": {
      "application/json": {
       "expanded": false,
       "root": "root"
      }
     },
     "output_type": "execute_result"
    }
   ],
   "source": [
    "from pquant import get_default_config\n",
    "from IPython.display import JSON\n",
    "\n",
    "# pruning_methods: \"autosparse, cl, cs, dst, pdp, wanda, mdmm\"\n",
    "pruning_method = \"mdmm\"\n",
    "config = get_default_config(pruning_method)\n",
    "JSON(config)"
   ]
  },
  {
   "cell_type": "code",
   "execution_count": 8,
   "id": "d3ef3115-2f3d-43e1-a199-4a19d667f796",
   "metadata": {},
   "outputs": [
    {
     "data": {
      "text/html": [
       "<pre style=\"white-space:pre;overflow-x:auto;line-height:normal;font-family:Menlo,'DejaVu Sans Mono',consolas,'Courier New',monospace\"><span style=\"font-weight: bold\">Model: \"functional_1\"</span>\n",
       "</pre>\n"
      ],
      "text/plain": [
       "\u001b[1mModel: \"functional_1\"\u001b[0m\n"
      ]
     },
     "metadata": {},
     "output_type": "display_data"
    },
    {
     "data": {
      "text/html": [
       "<pre style=\"white-space:pre;overflow-x:auto;line-height:normal;font-family:Menlo,'DejaVu Sans Mono',consolas,'Courier New',monospace\">┏━━━━━━━━━━━━━━━━━━━━━━━━━━━━━━━━━┳━━━━━━━━━━━━━━━━━━━━━━━━┳━━━━━━━━━━━━━━━┓\n",
       "┃<span style=\"font-weight: bold\"> Layer (type)                    </span>┃<span style=\"font-weight: bold\"> Output Shape           </span>┃<span style=\"font-weight: bold\">       Param # </span>┃\n",
       "┡━━━━━━━━━━━━━━━━━━━━━━━━━━━━━━━━━╇━━━━━━━━━━━━━━━━━━━━━━━━╇━━━━━━━━━━━━━━━┩\n",
       "│ input_layer (<span style=\"color: #0087ff; text-decoration-color: #0087ff\">InputLayer</span>)        │ (<span style=\"color: #00d7ff; text-decoration-color: #00d7ff\">None</span>, <span style=\"color: #00af00; text-decoration-color: #00af00\">16</span>, <span style=\"color: #00af00; text-decoration-color: #00af00\">16</span>, <span style=\"color: #00af00; text-decoration-color: #00af00\">2</span>)      │             <span style=\"color: #00af00; text-decoration-color: #00af00\">0</span> │\n",
       "├─────────────────────────────────┼────────────────────────┼───────────────┤\n",
       "│ compressed_layer_separable_con… │ (<span style=\"color: #00d7ff; text-decoration-color: #00d7ff\">None</span>, <span style=\"color: #00af00; text-decoration-color: #00af00\">14</span>, <span style=\"color: #00af00; text-decoration-color: #00af00\">14</span>, <span style=\"color: #00af00; text-decoration-color: #00af00\">5</span>)      │            <span style=\"color: #00af00; text-decoration-color: #00af00\">41</span> │\n",
       "│ (<span style=\"color: #0087ff; text-decoration-color: #0087ff\">CompressedLayerSeparableConv2…</span> │                        │               │\n",
       "├─────────────────────────────────┼────────────────────────┼───────────────┤\n",
       "│ activation_5 (<span style=\"color: #0087ff; text-decoration-color: #0087ff\">Activation</span>)       │ (<span style=\"color: #00d7ff; text-decoration-color: #00d7ff\">None</span>, <span style=\"color: #00af00; text-decoration-color: #00af00\">14</span>, <span style=\"color: #00af00; text-decoration-color: #00af00\">14</span>, <span style=\"color: #00af00; text-decoration-color: #00af00\">5</span>)      │             <span style=\"color: #00af00; text-decoration-color: #00af00\">0</span> │\n",
       "├─────────────────────────────────┼────────────────────────┼───────────────┤\n",
       "│ compressed_layer_conv2d_keras_1 │ (<span style=\"color: #00d7ff; text-decoration-color: #00d7ff\">None</span>, <span style=\"color: #00af00; text-decoration-color: #00af00\">14</span>, <span style=\"color: #00af00; text-decoration-color: #00af00\">14</span>, <span style=\"color: #00af00; text-decoration-color: #00af00\">5</span>)      │            <span style=\"color: #00af00; text-decoration-color: #00af00\">34</span> │\n",
       "│ (<span style=\"color: #0087ff; text-decoration-color: #0087ff\">CompressedLayerConv2dKeras</span>)    │                        │               │\n",
       "├─────────────────────────────────┼────────────────────────┼───────────────┤\n",
       "│ activation_6 (<span style=\"color: #0087ff; text-decoration-color: #0087ff\">Activation</span>)       │ (<span style=\"color: #00d7ff; text-decoration-color: #00d7ff\">None</span>, <span style=\"color: #00af00; text-decoration-color: #00af00\">14</span>, <span style=\"color: #00af00; text-decoration-color: #00af00\">14</span>, <span style=\"color: #00af00; text-decoration-color: #00af00\">5</span>)      │             <span style=\"color: #00af00; text-decoration-color: #00af00\">0</span> │\n",
       "├─────────────────────────────────┼────────────────────────┼───────────────┤\n",
       "│ average_pooling2d               │ (<span style=\"color: #00d7ff; text-decoration-color: #00d7ff\">None</span>, <span style=\"color: #00af00; text-decoration-color: #00af00\">4</span>, <span style=\"color: #00af00; text-decoration-color: #00af00\">4</span>, <span style=\"color: #00af00; text-decoration-color: #00af00\">5</span>)        │             <span style=\"color: #00af00; text-decoration-color: #00af00\">0</span> │\n",
       "│ (<span style=\"color: #0087ff; text-decoration-color: #0087ff\">AveragePooling2D</span>)              │                        │               │\n",
       "├─────────────────────────────────┼────────────────────────┼───────────────┤\n",
       "│ activation_7 (<span style=\"color: #0087ff; text-decoration-color: #0087ff\">Activation</span>)       │ (<span style=\"color: #00d7ff; text-decoration-color: #00d7ff\">None</span>, <span style=\"color: #00af00; text-decoration-color: #00af00\">4</span>, <span style=\"color: #00af00; text-decoration-color: #00af00\">4</span>, <span style=\"color: #00af00; text-decoration-color: #00af00\">5</span>)        │             <span style=\"color: #00af00; text-decoration-color: #00af00\">0</span> │\n",
       "├─────────────────────────────────┼────────────────────────┼───────────────┤\n",
       "│ flatten (<span style=\"color: #0087ff; text-decoration-color: #0087ff\">Flatten</span>)               │ (<span style=\"color: #00d7ff; text-decoration-color: #00d7ff\">None</span>, <span style=\"color: #00af00; text-decoration-color: #00af00\">80</span>)             │             <span style=\"color: #00af00; text-decoration-color: #00af00\">0</span> │\n",
       "├─────────────────────────────────┼────────────────────────┼───────────────┤\n",
       "│ compressed_layer_dense_keras    │ (<span style=\"color: #00d7ff; text-decoration-color: #00d7ff\">None</span>, <span style=\"color: #00af00; text-decoration-color: #00af00\">16</span>)             │         <span style=\"color: #00af00; text-decoration-color: #00af00\">1,300</span> │\n",
       "│ (<span style=\"color: #0087ff; text-decoration-color: #0087ff\">CompressedLayerDenseKeras</span>)     │                        │               │\n",
       "├─────────────────────────────────┼────────────────────────┼───────────────┤\n",
       "│ activation_8 (<span style=\"color: #0087ff; text-decoration-color: #0087ff\">Activation</span>)       │ (<span style=\"color: #00d7ff; text-decoration-color: #00d7ff\">None</span>, <span style=\"color: #00af00; text-decoration-color: #00af00\">16</span>)             │             <span style=\"color: #00af00; text-decoration-color: #00af00\">0</span> │\n",
       "├─────────────────────────────────┼────────────────────────┼───────────────┤\n",
       "│ compressed_layer_dense_keras_1  │ (<span style=\"color: #00d7ff; text-decoration-color: #00d7ff\">None</span>, <span style=\"color: #00af00; text-decoration-color: #00af00\">16</span>)             │           <span style=\"color: #00af00; text-decoration-color: #00af00\">276</span> │\n",
       "│ (<span style=\"color: #0087ff; text-decoration-color: #0087ff\">CompressedLayerDenseKeras</span>)     │                        │               │\n",
       "├─────────────────────────────────┼────────────────────────┼───────────────┤\n",
       "│ activation_9 (<span style=\"color: #0087ff; text-decoration-color: #0087ff\">Activation</span>)       │ (<span style=\"color: #00d7ff; text-decoration-color: #00d7ff\">None</span>, <span style=\"color: #00af00; text-decoration-color: #00af00\">16</span>)             │             <span style=\"color: #00af00; text-decoration-color: #00af00\">0</span> │\n",
       "├─────────────────────────────────┼────────────────────────┼───────────────┤\n",
       "│ compressed_layer_dense_keras_2  │ (<span style=\"color: #00d7ff; text-decoration-color: #00d7ff\">None</span>, <span style=\"color: #00af00; text-decoration-color: #00af00\">14</span>)             │           <span style=\"color: #00af00; text-decoration-color: #00af00\">242</span> │\n",
       "│ (<span style=\"color: #0087ff; text-decoration-color: #0087ff\">CompressedLayerDenseKeras</span>)     │                        │               │\n",
       "└─────────────────────────────────┴────────────────────────┴───────────────┘\n",
       "</pre>\n"
      ],
      "text/plain": [
       "┏━━━━━━━━━━━━━━━━━━━━━━━━━━━━━━━━━┳━━━━━━━━━━━━━━━━━━━━━━━━┳━━━━━━━━━━━━━━━┓\n",
       "┃\u001b[1m \u001b[0m\u001b[1mLayer (type)                   \u001b[0m\u001b[1m \u001b[0m┃\u001b[1m \u001b[0m\u001b[1mOutput Shape          \u001b[0m\u001b[1m \u001b[0m┃\u001b[1m \u001b[0m\u001b[1m      Param #\u001b[0m\u001b[1m \u001b[0m┃\n",
       "┡━━━━━━━━━━━━━━━━━━━━━━━━━━━━━━━━━╇━━━━━━━━━━━━━━━━━━━━━━━━╇━━━━━━━━━━━━━━━┩\n",
       "│ input_layer (\u001b[38;5;33mInputLayer\u001b[0m)        │ (\u001b[38;5;45mNone\u001b[0m, \u001b[38;5;34m16\u001b[0m, \u001b[38;5;34m16\u001b[0m, \u001b[38;5;34m2\u001b[0m)      │             \u001b[38;5;34m0\u001b[0m │\n",
       "├─────────────────────────────────┼────────────────────────┼───────────────┤\n",
       "│ compressed_layer_separable_con… │ (\u001b[38;5;45mNone\u001b[0m, \u001b[38;5;34m14\u001b[0m, \u001b[38;5;34m14\u001b[0m, \u001b[38;5;34m5\u001b[0m)      │            \u001b[38;5;34m41\u001b[0m │\n",
       "│ (\u001b[38;5;33mCompressedLayerSeparableConv2…\u001b[0m │                        │               │\n",
       "├─────────────────────────────────┼────────────────────────┼───────────────┤\n",
       "│ activation_5 (\u001b[38;5;33mActivation\u001b[0m)       │ (\u001b[38;5;45mNone\u001b[0m, \u001b[38;5;34m14\u001b[0m, \u001b[38;5;34m14\u001b[0m, \u001b[38;5;34m5\u001b[0m)      │             \u001b[38;5;34m0\u001b[0m │\n",
       "├─────────────────────────────────┼────────────────────────┼───────────────┤\n",
       "│ compressed_layer_conv2d_keras_1 │ (\u001b[38;5;45mNone\u001b[0m, \u001b[38;5;34m14\u001b[0m, \u001b[38;5;34m14\u001b[0m, \u001b[38;5;34m5\u001b[0m)      │            \u001b[38;5;34m34\u001b[0m │\n",
       "│ (\u001b[38;5;33mCompressedLayerConv2dKeras\u001b[0m)    │                        │               │\n",
       "├─────────────────────────────────┼────────────────────────┼───────────────┤\n",
       "│ activation_6 (\u001b[38;5;33mActivation\u001b[0m)       │ (\u001b[38;5;45mNone\u001b[0m, \u001b[38;5;34m14\u001b[0m, \u001b[38;5;34m14\u001b[0m, \u001b[38;5;34m5\u001b[0m)      │             \u001b[38;5;34m0\u001b[0m │\n",
       "├─────────────────────────────────┼────────────────────────┼───────────────┤\n",
       "│ average_pooling2d               │ (\u001b[38;5;45mNone\u001b[0m, \u001b[38;5;34m4\u001b[0m, \u001b[38;5;34m4\u001b[0m, \u001b[38;5;34m5\u001b[0m)        │             \u001b[38;5;34m0\u001b[0m │\n",
       "│ (\u001b[38;5;33mAveragePooling2D\u001b[0m)              │                        │               │\n",
       "├─────────────────────────────────┼────────────────────────┼───────────────┤\n",
       "│ activation_7 (\u001b[38;5;33mActivation\u001b[0m)       │ (\u001b[38;5;45mNone\u001b[0m, \u001b[38;5;34m4\u001b[0m, \u001b[38;5;34m4\u001b[0m, \u001b[38;5;34m5\u001b[0m)        │             \u001b[38;5;34m0\u001b[0m │\n",
       "├─────────────────────────────────┼────────────────────────┼───────────────┤\n",
       "│ flatten (\u001b[38;5;33mFlatten\u001b[0m)               │ (\u001b[38;5;45mNone\u001b[0m, \u001b[38;5;34m80\u001b[0m)             │             \u001b[38;5;34m0\u001b[0m │\n",
       "├─────────────────────────────────┼────────────────────────┼───────────────┤\n",
       "│ compressed_layer_dense_keras    │ (\u001b[38;5;45mNone\u001b[0m, \u001b[38;5;34m16\u001b[0m)             │         \u001b[38;5;34m1,300\u001b[0m │\n",
       "│ (\u001b[38;5;33mCompressedLayerDenseKeras\u001b[0m)     │                        │               │\n",
       "├─────────────────────────────────┼────────────────────────┼───────────────┤\n",
       "│ activation_8 (\u001b[38;5;33mActivation\u001b[0m)       │ (\u001b[38;5;45mNone\u001b[0m, \u001b[38;5;34m16\u001b[0m)             │             \u001b[38;5;34m0\u001b[0m │\n",
       "├─────────────────────────────────┼────────────────────────┼───────────────┤\n",
       "│ compressed_layer_dense_keras_1  │ (\u001b[38;5;45mNone\u001b[0m, \u001b[38;5;34m16\u001b[0m)             │           \u001b[38;5;34m276\u001b[0m │\n",
       "│ (\u001b[38;5;33mCompressedLayerDenseKeras\u001b[0m)     │                        │               │\n",
       "├─────────────────────────────────┼────────────────────────┼───────────────┤\n",
       "│ activation_9 (\u001b[38;5;33mActivation\u001b[0m)       │ (\u001b[38;5;45mNone\u001b[0m, \u001b[38;5;34m16\u001b[0m)             │             \u001b[38;5;34m0\u001b[0m │\n",
       "├─────────────────────────────────┼────────────────────────┼───────────────┤\n",
       "│ compressed_layer_dense_keras_2  │ (\u001b[38;5;45mNone\u001b[0m, \u001b[38;5;34m14\u001b[0m)             │           \u001b[38;5;34m242\u001b[0m │\n",
       "│ (\u001b[38;5;33mCompressedLayerDenseKeras\u001b[0m)     │                        │               │\n",
       "└─────────────────────────────────┴────────────────────────┴───────────────┘\n"
      ]
     },
     "metadata": {},
     "output_type": "display_data"
    },
    {
     "data": {
      "text/html": [
       "<pre style=\"white-space:pre;overflow-x:auto;line-height:normal;font-family:Menlo,'DejaVu Sans Mono',consolas,'Courier New',monospace\"><span style=\"font-weight: bold\"> Total params: </span><span style=\"color: #00af00; text-decoration-color: #00af00\">1,893</span> (7.39 KB)\n",
       "</pre>\n"
      ],
      "text/plain": [
       "\u001b[1m Total params: \u001b[0m\u001b[38;5;34m1,893\u001b[0m (7.39 KB)\n"
      ]
     },
     "metadata": {},
     "output_type": "display_data"
    },
    {
     "data": {
      "text/html": [
       "<pre style=\"white-space:pre;overflow-x:auto;line-height:normal;font-family:Menlo,'DejaVu Sans Mono',consolas,'Courier New',monospace\"><span style=\"font-weight: bold\"> Trainable params: </span><span style=\"color: #00af00; text-decoration-color: #00af00\">1,869</span> (7.30 KB)\n",
       "</pre>\n"
      ],
      "text/plain": [
       "\u001b[1m Trainable params: \u001b[0m\u001b[38;5;34m1,869\u001b[0m (7.30 KB)\n"
      ]
     },
     "metadata": {},
     "output_type": "display_data"
    },
    {
     "data": {
      "text/html": [
       "<pre style=\"white-space:pre;overflow-x:auto;line-height:normal;font-family:Menlo,'DejaVu Sans Mono',consolas,'Courier New',monospace\"><span style=\"font-weight: bold\"> Non-trainable params: </span><span style=\"color: #00af00; text-decoration-color: #00af00\">24</span> (96.00 B)\n",
       "</pre>\n"
      ],
      "text/plain": [
       "\u001b[1m Non-trainable params: \u001b[0m\u001b[38;5;34m24\u001b[0m (96.00 B)\n"
      ]
     },
     "metadata": {},
     "output_type": "display_data"
    }
   ],
   "source": [
    "# Replace layers with compressed layers\n",
    "from pquant import add_compression_layers\n",
    "input_shape = (1, 16, 16, 2)\n",
    "\n",
    "model = add_compression_layers(model, config, input_shape)\n",
    "model.summary()"
   ]
  },
  {
   "cell_type": "markdown",
   "id": "251515c3-00ac-4110-b8d8-a8c9100f6e6b",
   "metadata": {},
   "source": [
    "## Create data set\n",
    "#### Let's create the data loader and the training and validation loops"
   ]
  },
  {
   "cell_type": "code",
   "execution_count": 9,
   "id": "c5915162",
   "metadata": {},
   "outputs": [],
   "source": [
    "from quantizers.fixed_point.fixed_point_ops import get_fixed_quantizer\n",
    "# Set up input quantizer\n",
    "quantizer = get_fixed_quantizer(overflow_mode=\"SAT\")\n",
    "\n",
    "from tqdm import tqdm\n",
    "from pquant import get_layer_keep_ratio, get_model_losses\n",
    "import re\n",
    "\n",
    "def get_lambda_values(model):\n",
    "    \"\"\"Extracts lambda values with clean, descriptive keys for the progress bar.\"\"\"\n",
    "    lambda_info = {}\n",
    "    # Use counters for each layer type to ensure unique, short keys\n",
    "    counters = {'conv2d': 1, 'dense': 1, 'other': 1}\n",
    "\n",
    "    for layer in model.layers:\n",
    "        if \"CompressedLayer\" in layer.__class__.__name__ and hasattr(layer, 'pruning_layer'):\n",
    "            pruning_layer = layer.pruning_layer\n",
    "            if hasattr(pruning_layer, 'constraint_layer') and hasattr(pruning_layer.constraint_layer, 'lmbda'):\n",
    "                layer_name = layer.name.lower()\n",
    "                \n",
    "                # Assign a clean, short key based on the layer type\n",
    "                if 'conv2d' in layer_name:\n",
    "                    key = f\"λc2D{counters['conv2d']}\"\n",
    "                    counters['conv2d'] += 1\n",
    "                elif 'dense' in layer_name:\n",
    "                    key = f\"λd{counters['dense']}\"\n",
    "                    counters['dense'] += 1\n",
    "                else:\n",
    "                    key = f\"λo{counters['other']}\"\n",
    "                    counters['other'] += 1\n",
    "                \n",
    "                # Format the lambda value\n",
    "                lambda_info[key] = f\"{pruning_layer.constraint_layer.lmbda.numpy():.2f}\"\n",
    "                \n",
    "    return lambda_info\n",
    "\n",
    "\n",
    "@tf.function\n",
    "def train_step(model, inputs, logits, optimizer: keras.optimizers.Optimizer):\n",
    "    with tf.GradientTape() as tape:\n",
    "        outputs = model(inputs, training=True)\n",
    "        loss = custom_loss(logits, outputs)\n",
    "        loss += get_model_losses(model, losses=keras.ops.convert_to_tensor(0.))\n",
    "        if model.losses:\n",
    "            loss += tf.add_n(model.losses)\n",
    "    grads = tape.gradient(loss, model.trainable_weights)\n",
    "    optimizer.apply_gradients(zip(grads, model.trainable_weights))\n",
    "    return loss\n",
    "\n",
    "@tf.function\n",
    "def valid_step(model, inputs, logits):\n",
    "    outputs = model(inputs, training=False)\n",
    "    loss = custom_loss(logits, outputs)\n",
    "    pquant_loss = get_model_losses(model, losses=keras.ops.convert_to_tensor(0.))\n",
    "    if model.losses:\n",
    "            loss += tf.add_n(model.losses)\n",
    "    return loss + pquant_loss, pquant_loss\n",
    "\n",
    "def train_smart_pixels_tf(model, epoch, trainloader, optimizer: keras.optimizers.Optimizer, *args, **kwargs):\n",
    "    total_loss = 0.0\n",
    "    pbar = tqdm(range(len(trainloader)), desc=f\"Epoch {epoch} [Training]\")\n",
    "    \n",
    "    for batch_idx in pbar:\n",
    "        inputs, logits = trainloader[batch_idx]\n",
    "        loss = train_step(model, inputs, logits, optimizer)\n",
    "        total_loss += loss\n",
    "        metrics = {\n",
    "            'loss': f'{loss.numpy():.2f}',\n",
    "        }\n",
    "        metrics.update(get_lambda_values(model))\n",
    "        pbar.set_postfix(**metrics)\n",
    "        \n",
    "    train_loader.on_epoch_end()\n",
    "    return (total_loss/ len(trainloader)).numpy()\n",
    "\n",
    "        \n",
    "\n",
    "        \n",
    "def validate_smart_pixels_tf(model, epoch, testloader, *args, **kwargs):\n",
    "    total_loss = 0.0\n",
    "    pbar = tqdm(range(len(testloader)), desc=f\"Epoch {epoch} [Validation]\")\n",
    "    \n",
    "    for batch_idx in pbar:\n",
    "        inputs, logits = testloader[batch_idx]\n",
    "        loss, pquant_loss = valid_step(model, inputs, logits)\n",
    "        total_loss += loss\n",
    "        pbar.set_postfix(loss=f'{loss.numpy():.2f}')\n",
    "\n",
    "    testloader.on_epoch_end()\n",
    "        \n",
    "    avg_total_loss = total_loss / len(testloader)\n",
    "    ratio = get_layer_keep_ratio(model)\n",
    "\n",
    "    summary_string = (\n",
    "        f\"\\tTotal Loss (NLL + MDMM): {avg_total_loss:.2f}\\n\"\n",
    "        f\"\\tMDMM Loss:               {pquant_loss:.2f}\\n\"\n",
    "        f\"\\tRemaining Weights:       {ratio * 100:.2f} %\"\n",
    "    )\n",
    "    print(summary_string)\n",
    "    return (total_loss/ len(testloader)).numpy()\n"
   ]
  },
  {
   "cell_type": "markdown",
   "id": "9d28865b-afdb-4773-be30-717486d9786a",
   "metadata": {},
   "source": [
    "## Create loss function, scheduler and optimizer"
   ]
  },
  {
   "cell_type": "markdown",
   "id": "9850c23a-2abc-4904-9c69-859492b450a8",
   "metadata": {},
   "source": [
    "## Train model\n",
    "Training time. We use the train_compressed_model function from pquant to train. We need to provide some parameters such as training and validation functions, their input parameters, the model and the config file. The function automatically adds pruning layers and replaces activations with a quantized variant, trains the model, and removes the pruning layers after training is done"
   ]
  },
  {
   "cell_type": "code",
   "execution_count": 10,
   "id": "520441a0",
   "metadata": {},
   "outputs": [
    {
     "name": "stdout",
     "output_type": "stream",
     "text": [
      "  Layer: compressed_layer_conv2d_keras_1, Lambda Value: 0.0000\n",
      "  Layer: compressed_layer_dense_keras, Lambda Value: 0.0000\n",
      "  Layer: compressed_layer_dense_keras_1, Lambda Value: 0.0000\n",
      "  Layer: compressed_layer_dense_keras_2, Lambda Value: 0.0000\n"
     ]
    }
   ],
   "source": [
    "for layer in model.layers:\n",
    "        if \"CompressedLayer\" in layer.__class__.__name__ and hasattr(layer, 'pruning_layer'):\n",
    "            pruning_layer = layer.pruning_layer # This is your MDMM instance\n",
    "            \n",
    "            # Check if the MDMM instance has the constraint_layer\n",
    "            if hasattr(pruning_layer, 'constraint_layer'):\n",
    "                constraint = pruning_layer.constraint_layer\n",
    "                \n",
    "                # Finally, check for 'lmbda' on the constraint layer\n",
    "                if hasattr(constraint, 'lmbda'):\n",
    "                    print(f\"  Layer: {layer.name}, Lambda Value: {constraint.lmbda.numpy():.4f}\")\n"
   ]
  },
  {
   "cell_type": "code",
   "execution_count": 11,
   "id": "193f30d5",
   "metadata": {},
   "outputs": [
    {
     "name": "stdout",
     "output_type": "stream",
     "text": [
      "Training artifacts will be stored in: /home/das214/PQuant/mdmm_dev/trainings/smart_pixels/619c2d6c\n"
     ]
    }
   ],
   "source": [
    "from pathlib import Path\n",
    "from secrets import token_hex\n",
    "\n",
    "BASE_DIR = Path(\"/home/das214/PQuant/mdmm_dev/trainings\").resolve()\n",
    "RUN_DIR  = BASE_DIR / \"smart_pixels\"\n",
    "FP       = token_hex(4)          \n",
    "\n",
    "BASE_DIR.mkdir(parents=True, exist_ok=True)\n",
    "RUN_DIR.mkdir(parents=True, exist_ok=True)\n",
    "\n",
    "RUN_OUT = RUN_DIR / FP\n",
    "RUN_OUT.mkdir(exist_ok=True)\n",
    "\n",
    "print(f\"Training artifacts will be stored in: {RUN_OUT}\")"
   ]
  },
  {
   "cell_type": "code",
   "execution_count": 12,
   "id": "c41d8e6b",
   "metadata": {},
   "outputs": [],
   "source": [
    "from pquant.core.tf_impl.callbacks import CSVLogger, EarlyStopping \n",
    "from pquant.core.tf_impl.callbacks import EpochCheckpoint\n",
    "\n",
    "cbs = [\n",
    "    CSVLogger(RUN_OUT / \"history.csv\"),                   \n",
    "    EpochCheckpoint(RUN_OUT / \"checkpoints\"),              \n",
    "    # EarlyStopping(patience=50, min_delta=1e-3),            \n",
    "]"
   ]
  },
  {
   "cell_type": "code",
   "execution_count": 13,
   "id": "18f2414c-1f4d-4a30-a143-920497e60ab7",
   "metadata": {},
   "outputs": [
    {
     "name": "stdout",
     "output_type": "stream",
     "text": [
      "Training...\n"
     ]
    },
    {
     "name": "stderr",
     "output_type": "stream",
     "text": [
      "Epoch 0 [Training]:   0%|          | 0/84 [00:00<?, ?it/s]2025-07-13 01:25:07.203924: I tensorflow/core/kernels/data/tf_record_dataset_op.cc:381] TFRecordDataset `buffer_size` is unspecified, default to 262144\n",
      "I0000 00:00:1752362709.644428 1635696 cuda_dnn.cc:529] Loaded cuDNN version 90501\n",
      "WARNING: All log messages before absl::InitializeLog() is called are written to STDERR\n",
      "I0000 00:00:1752362710.568999 1635696 cuda_solvers.cc:175] Creating GpuSolver handles for stream 0x55daccfbdfc0\n",
      "Epoch 0 [Training]: 100%|██████████| 84/84 [00:19<00:00,  4.42it/s, loss=16283.28, λc2D1=1.14, λd1=0.41, λd2=0.75, λd3=0.77]\n",
      "Epoch 0 [Validation]: 100%|██████████| 21/21 [00:02<00:00,  7.42it/s, loss=16258.93]\n"
     ]
    },
    {
     "name": "stdout",
     "output_type": "stream",
     "text": [
      "\tTotal Loss (NLL + MDMM): 16117.03\n",
      "\tMDMM Loss:               91.53\n",
      "\tRemaining Weights:       99.61 %\n"
     ]
    },
    {
     "name": "stderr",
     "output_type": "stream",
     "text": [
      "Epoch 1 [Training]: 100%|██████████| 84/84 [00:06<00:00, 13.63it/s, loss=8515.96, λc2D1=2.59, λd1=0.94, λd2=1.71, λd3=1.75] \n",
      "Epoch 1 [Validation]: 100%|██████████| 21/21 [00:01<00:00, 14.34it/s, loss=8351.58]\n"
     ]
    },
    {
     "name": "stdout",
     "output_type": "stream",
     "text": [
      "\tTotal Loss (NLL + MDMM): 8266.27\n",
      "\tMDMM Loss:               186.01\n",
      "\tRemaining Weights:       99.67 %\n"
     ]
    },
    {
     "name": "stderr",
     "output_type": "stream",
     "text": [
      "Epoch 2 [Training]: 100%|██████████| 84/84 [00:06<00:00, 13.59it/s, loss=3937.94, λc2D1=4.05, λd1=1.48, λd2=2.67, λd3=2.73]\n",
      "Epoch 2 [Validation]: 100%|██████████| 21/21 [00:01<00:00, 14.20it/s, loss=3760.43]\n"
     ]
    },
    {
     "name": "stdout",
     "output_type": "stream",
     "text": [
      "\tTotal Loss (NLL + MDMM): 3732.88\n",
      "\tMDMM Loss:               275.61\n",
      "\tRemaining Weights:       99.61 %\n"
     ]
    },
    {
     "name": "stderr",
     "output_type": "stream",
     "text": [
      "Epoch 3 [Training]: 100%|██████████| 84/84 [00:06<00:00, 12.97it/s, loss=2032.96, λc2D1=5.50, λd1=2.03, λd2=3.63, λd3=3.71]\n",
      "Epoch 3 [Validation]: 100%|██████████| 21/21 [00:01<00:00, 14.91it/s, loss=1872.72]\n"
     ]
    },
    {
     "name": "stdout",
     "output_type": "stream",
     "text": [
      "\tTotal Loss (NLL + MDMM): 1835.06\n",
      "\tMDMM Loss:               366.03\n",
      "\tRemaining Weights:       99.67 %\n"
     ]
    },
    {
     "name": "stderr",
     "output_type": "stream",
     "text": [
      "Epoch 4 [Training]: 100%|██████████| 84/84 [00:06<00:00, 13.35it/s, loss=624.78, λc2D1=6.95, λd1=2.58, λd2=4.60, λd3=4.70] \n",
      "Epoch 4 [Validation]: 100%|██████████| 21/21 [00:01<00:00, 15.14it/s, loss=519.21]\n"
     ]
    },
    {
     "name": "stdout",
     "output_type": "stream",
     "text": [
      "\tTotal Loss (NLL + MDMM): 480.34\n",
      "\tMDMM Loss:               459.10\n",
      "\tRemaining Weights:       99.72 %\n"
     ]
    },
    {
     "name": "stderr",
     "output_type": "stream",
     "text": [
      "Epoch 5 [Training]: 100%|██████████| 84/84 [00:06<00:00, 13.55it/s, loss=-392.34, λc2D1=8.40, λd1=3.13, λd2=5.57, λd3=5.69]\n",
      "Epoch 5 [Validation]: 100%|██████████| 21/21 [00:01<00:00, 14.68it/s, loss=-591.31]\n"
     ]
    },
    {
     "name": "stdout",
     "output_type": "stream",
     "text": [
      "\tTotal Loss (NLL + MDMM): -538.34\n",
      "\tMDMM Loss:               552.49\n",
      "\tRemaining Weights:       99.67 %\n"
     ]
    },
    {
     "name": "stderr",
     "output_type": "stream",
     "text": [
      "Epoch 6 [Training]: 100%|██████████| 84/84 [00:06<00:00, 13.40it/s, loss=-996.84, λc2D1=9.85, λd1=3.68, λd2=6.54, λd3=6.68] \n",
      "Epoch 6 [Validation]: 100%|██████████| 21/21 [00:01<00:00, 14.87it/s, loss=-1109.73]\n"
     ]
    },
    {
     "name": "stdout",
     "output_type": "stream",
     "text": [
      "\tTotal Loss (NLL + MDMM): -1056.11\n",
      "\tMDMM Loss:               644.54\n",
      "\tRemaining Weights:       99.72 %\n"
     ]
    },
    {
     "name": "stderr",
     "output_type": "stream",
     "text": [
      "Epoch 7 [Training]: 100%|██████████| 84/84 [00:06<00:00, 13.26it/s, loss=-1522.98, λc2D1=11.29, λd1=4.24, λd2=7.52, λd3=7.67]\n",
      "Epoch 7 [Validation]: 100%|██████████| 21/21 [00:01<00:00, 14.91it/s, loss=-1705.98]\n"
     ]
    },
    {
     "name": "stdout",
     "output_type": "stream",
     "text": [
      "\tTotal Loss (NLL + MDMM): -1645.62\n",
      "\tMDMM Loss:               736.57\n",
      "\tRemaining Weights:       99.72 %\n"
     ]
    },
    {
     "name": "stderr",
     "output_type": "stream",
     "text": [
      "Epoch 8 [Training]: 100%|██████████| 84/84 [00:06<00:00, 13.11it/s, loss=-2059.42, λc2D1=12.73, λd1=4.80, λd2=8.50, λd3=8.67]\n",
      "Epoch 8 [Validation]: 100%|██████████| 21/21 [00:01<00:00, 14.90it/s, loss=-2220.15]\n"
     ]
    },
    {
     "name": "stdout",
     "output_type": "stream",
     "text": [
      "\tTotal Loss (NLL + MDMM): -2146.87\n",
      "\tMDMM Loss:               828.29\n",
      "\tRemaining Weights:       99.67 %\n"
     ]
    },
    {
     "name": "stderr",
     "output_type": "stream",
     "text": [
      "Epoch 9 [Training]: 100%|██████████| 84/84 [00:06<00:00, 13.07it/s, loss=-2627.67, λc2D1=14.16, λd1=5.37, λd2=9.48, λd3=9.66]\n",
      "Epoch 9 [Validation]: 100%|██████████| 21/21 [00:01<00:00, 14.97it/s, loss=-2844.05]\n"
     ]
    },
    {
     "name": "stdout",
     "output_type": "stream",
     "text": [
      "\tTotal Loss (NLL + MDMM): -2725.55\n",
      "\tMDMM Loss:               917.29\n",
      "\tRemaining Weights:       99.56 %\n"
     ]
    },
    {
     "name": "stderr",
     "output_type": "stream",
     "text": [
      "Epoch 10 [Training]: 100%|██████████| 84/84 [00:06<00:00, 13.45it/s, loss=-3201.21, λc2D1=15.59, λd1=5.93, λd2=10.46, λd3=10.65]\n",
      "Epoch 10 [Validation]: 100%|██████████| 21/21 [00:01<00:00, 14.85it/s, loss=-3447.81]\n"
     ]
    },
    {
     "name": "stdout",
     "output_type": "stream",
     "text": [
      "\tTotal Loss (NLL + MDMM): -3293.64\n",
      "\tMDMM Loss:               1005.55\n",
      "\tRemaining Weights:       99.50 %\n"
     ]
    },
    {
     "name": "stderr",
     "output_type": "stream",
     "text": [
      "Epoch 11 [Training]: 100%|██████████| 84/84 [00:06<00:00, 13.22it/s, loss=-3795.71, λc2D1=17.01, λd1=6.49, λd2=11.44, λd3=11.64]\n",
      "Epoch 11 [Validation]: 100%|██████████| 21/21 [00:01<00:00, 14.88it/s, loss=-4066.83]\n"
     ]
    },
    {
     "name": "stdout",
     "output_type": "stream",
     "text": [
      "\tTotal Loss (NLL + MDMM): -3890.21\n",
      "\tMDMM Loss:               1093.97\n",
      "\tRemaining Weights:       99.78 %\n"
     ]
    },
    {
     "name": "stderr",
     "output_type": "stream",
     "text": [
      "Epoch 12 [Training]: 100%|██████████| 84/84 [00:06<00:00, 13.45it/s, loss=-4476.98, λc2D1=18.42, λd1=7.06, λd2=12.43, λd3=12.62]\n",
      "Epoch 12 [Validation]: 100%|██████████| 21/21 [00:01<00:00, 14.86it/s, loss=-4802.56]\n"
     ]
    },
    {
     "name": "stdout",
     "output_type": "stream",
     "text": [
      "\tTotal Loss (NLL + MDMM): -4600.43\n",
      "\tMDMM Loss:               1177.05\n",
      "\tRemaining Weights:       99.50 %\n"
     ]
    },
    {
     "name": "stderr",
     "output_type": "stream",
     "text": [
      "Epoch 13 [Training]: 100%|██████████| 84/84 [00:06<00:00, 13.51it/s, loss=-5225.94, λc2D1=19.83, λd1=7.62, λd2=13.42, λd3=13.60]\n",
      "Epoch 13 [Validation]: 100%|██████████| 21/21 [00:01<00:00, 15.03it/s, loss=-5585.87]\n"
     ]
    },
    {
     "name": "stdout",
     "output_type": "stream",
     "text": [
      "\tTotal Loss (NLL + MDMM): -5360.46\n",
      "\tMDMM Loss:               1269.28\n",
      "\tRemaining Weights:       99.56 %\n"
     ]
    },
    {
     "name": "stderr",
     "output_type": "stream",
     "text": [
      "Epoch 14 [Training]: 100%|██████████| 84/84 [00:06<00:00, 13.57it/s, loss=-6021.30, λc2D1=21.24, λd1=8.19, λd2=14.41, λd3=14.59]\n",
      "Epoch 14 [Validation]: 100%|██████████| 21/21 [00:01<00:00, 14.98it/s, loss=-6405.55]\n"
     ]
    },
    {
     "name": "stdout",
     "output_type": "stream",
     "text": [
      "\tTotal Loss (NLL + MDMM): -6185.54\n",
      "\tMDMM Loss:               1370.89\n",
      "\tRemaining Weights:       99.56 %\n"
     ]
    },
    {
     "name": "stderr",
     "output_type": "stream",
     "text": [
      "Epoch 15 [Training]: 100%|██████████| 84/84 [00:06<00:00, 13.51it/s, loss=-6879.65, λc2D1=22.63, λd1=8.75, λd2=15.40, λd3=15.57]\n",
      "Epoch 15 [Validation]: 100%|██████████| 21/21 [00:01<00:00, 15.06it/s, loss=-7226.66]\n"
     ]
    },
    {
     "name": "stdout",
     "output_type": "stream",
     "text": [
      "\tTotal Loss (NLL + MDMM): -7023.13\n",
      "\tMDMM Loss:               1467.98\n",
      "\tRemaining Weights:       99.78 %\n"
     ]
    },
    {
     "name": "stderr",
     "output_type": "stream",
     "text": [
      "Epoch 16 [Training]: 100%|██████████| 84/84 [00:06<00:00, 13.42it/s, loss=-7675.04, λc2D1=24.02, λd1=9.32, λd2=16.39, λd3=16.55]\n",
      "Epoch 16 [Validation]: 100%|██████████| 21/21 [00:01<00:00, 14.99it/s, loss=-8038.41]\n"
     ]
    },
    {
     "name": "stdout",
     "output_type": "stream",
     "text": [
      "\tTotal Loss (NLL + MDMM): -7848.86\n",
      "\tMDMM Loss:               1563.78\n",
      "\tRemaining Weights:       99.72 %\n"
     ]
    },
    {
     "name": "stderr",
     "output_type": "stream",
     "text": [
      "Epoch 17 [Training]: 100%|██████████| 84/84 [00:06<00:00, 13.01it/s, loss=-8439.53, λc2D1=25.40, λd1=9.88, λd2=17.38, λd3=17.52]\n",
      "Epoch 17 [Validation]: 100%|██████████| 21/21 [00:01<00:00, 14.64it/s, loss=-8809.88]\n"
     ]
    },
    {
     "name": "stdout",
     "output_type": "stream",
     "text": [
      "\tTotal Loss (NLL + MDMM): -8589.46\n",
      "\tMDMM Loss:               1657.05\n",
      "\tRemaining Weights:       99.72 %\n"
     ]
    },
    {
     "name": "stderr",
     "output_type": "stream",
     "text": [
      "Epoch 18 [Training]: 100%|██████████| 84/84 [00:06<00:00, 13.42it/s, loss=-9162.56, λc2D1=26.77, λd1=10.45, λd2=18.36, λd3=18.50]\n",
      "Epoch 18 [Validation]: 100%|██████████| 21/21 [00:01<00:00, 14.96it/s, loss=-9518.78]\n"
     ]
    },
    {
     "name": "stdout",
     "output_type": "stream",
     "text": [
      "\tTotal Loss (NLL + MDMM): -9275.25\n",
      "\tMDMM Loss:               1750.19\n",
      "\tRemaining Weights:       99.78 %\n"
     ]
    },
    {
     "name": "stderr",
     "output_type": "stream",
     "text": [
      "Epoch 19 [Training]: 100%|██████████| 84/84 [00:06<00:00, 13.23it/s, loss=-9880.77, λc2D1=28.13, λd1=11.03, λd2=19.34, λd3=19.47] \n",
      "Epoch 19 [Validation]: 100%|██████████| 21/21 [00:01<00:00, 14.65it/s, loss=-10246.12]\n"
     ]
    },
    {
     "name": "stdout",
     "output_type": "stream",
     "text": [
      "\tTotal Loss (NLL + MDMM): -9977.43\n",
      "\tMDMM Loss:               1841.80\n",
      "\tRemaining Weights:       99.72 %\n"
     ]
    },
    {
     "name": "stderr",
     "output_type": "stream",
     "text": [
      "Epoch 20 [Training]: 100%|██████████| 84/84 [00:06<00:00, 13.35it/s, loss=-10554.69, λc2D1=29.48, λd1=11.60, λd2=20.31, λd3=20.44]\n",
      "Epoch 20 [Validation]: 100%|██████████| 21/21 [00:01<00:00, 15.34it/s, loss=-10900.55]\n"
     ]
    },
    {
     "name": "stdout",
     "output_type": "stream",
     "text": [
      "\tTotal Loss (NLL + MDMM): -10619.37\n",
      "\tMDMM Loss:               1920.76\n",
      "\tRemaining Weights:       99.78 %\n"
     ]
    },
    {
     "name": "stderr",
     "output_type": "stream",
     "text": [
      "Epoch 21 [Training]: 100%|██████████| 84/84 [00:06<00:00, 13.53it/s, loss=-11130.04, λc2D1=30.81, λd1=12.17, λd2=21.29, λd3=21.41]\n",
      "Epoch 21 [Validation]: 100%|██████████| 21/21 [00:01<00:00, 15.14it/s, loss=-11431.69]\n"
     ]
    },
    {
     "name": "stdout",
     "output_type": "stream",
     "text": [
      "\tTotal Loss (NLL + MDMM): -11159.70\n",
      "\tMDMM Loss:               1974.19\n",
      "\tRemaining Weights:       99.72 %\n"
     ]
    },
    {
     "name": "stderr",
     "output_type": "stream",
     "text": [
      "Epoch 22 [Training]: 100%|██████████| 84/84 [00:06<00:00, 13.33it/s, loss=-11591.61, λc2D1=32.13, λd1=12.75, λd2=22.26, λd3=22.38]\n",
      "Epoch 22 [Validation]: 100%|██████████| 21/21 [00:01<00:00, 14.76it/s, loss=-11871.09]\n"
     ]
    },
    {
     "name": "stdout",
     "output_type": "stream",
     "text": [
      "\tTotal Loss (NLL + MDMM): -11598.32\n",
      "\tMDMM Loss:               2053.31\n",
      "\tRemaining Weights:       98.95 %\n"
     ]
    },
    {
     "name": "stderr",
     "output_type": "stream",
     "text": [
      "Epoch 23 [Training]: 100%|██████████| 84/84 [00:06<00:00, 13.23it/s, loss=-12009.51, λc2D1=33.44, λd1=13.33, λd2=23.23, λd3=23.35]\n",
      "Epoch 23 [Validation]: 100%|██████████| 21/21 [00:01<00:00, 14.98it/s, loss=-12284.25]\n"
     ]
    },
    {
     "name": "stdout",
     "output_type": "stream",
     "text": [
      "\tTotal Loss (NLL + MDMM): -12007.31\n",
      "\tMDMM Loss:               2136.57\n",
      "\tRemaining Weights:       99.28 %\n"
     ]
    },
    {
     "name": "stderr",
     "output_type": "stream",
     "text": [
      "Epoch 24 [Training]: 100%|██████████| 84/84 [00:06<00:00, 13.33it/s, loss=-12377.79, λc2D1=34.74, λd1=13.90, λd2=24.20, λd3=24.31]\n",
      "Epoch 24 [Validation]: 100%|██████████| 21/21 [00:01<00:00, 15.22it/s, loss=-12670.35]\n"
     ]
    },
    {
     "name": "stdout",
     "output_type": "stream",
     "text": [
      "\tTotal Loss (NLL + MDMM): -12365.47\n",
      "\tMDMM Loss:               2219.48\n",
      "\tRemaining Weights:       99.39 %\n"
     ]
    },
    {
     "name": "stderr",
     "output_type": "stream",
     "text": [
      "Epoch 25 [Training]: 100%|██████████| 84/84 [00:06<00:00, 13.49it/s, loss=-12699.79, λc2D1=36.04, λd1=14.49, λd2=25.18, λd3=25.28]\n",
      "Epoch 25 [Validation]: 100%|██████████| 21/21 [00:01<00:00, 14.74it/s, loss=-12993.26]\n"
     ]
    },
    {
     "name": "stdout",
     "output_type": "stream",
     "text": [
      "\tTotal Loss (NLL + MDMM): -12673.77\n",
      "\tMDMM Loss:               2300.73\n",
      "\tRemaining Weights:       99.34 %\n"
     ]
    },
    {
     "name": "stderr",
     "output_type": "stream",
     "text": [
      "Epoch 26 [Training]: 100%|██████████| 84/84 [00:06<00:00, 13.39it/s, loss=-12982.26, λc2D1=37.33, λd1=15.07, λd2=26.15, λd3=26.24]\n",
      "Epoch 26 [Validation]: 100%|██████████| 21/21 [00:01<00:00, 15.11it/s, loss=-13271.22]\n"
     ]
    },
    {
     "name": "stdout",
     "output_type": "stream",
     "text": [
      "\tTotal Loss (NLL + MDMM): -12945.92\n",
      "\tMDMM Loss:               2383.56\n",
      "\tRemaining Weights:       99.34 %\n"
     ]
    },
    {
     "name": "stderr",
     "output_type": "stream",
     "text": [
      "Epoch 27 [Training]: 100%|██████████| 84/84 [00:06<00:00, 13.11it/s, loss=-13227.72, λc2D1=38.61, λd1=15.66, λd2=27.12, λd3=27.20]\n",
      "Epoch 27 [Validation]: 100%|██████████| 21/21 [00:01<00:00, 14.66it/s, loss=-13507.03]\n"
     ]
    },
    {
     "name": "stdout",
     "output_type": "stream",
     "text": [
      "\tTotal Loss (NLL + MDMM): -13192.12\n",
      "\tMDMM Loss:               2466.23\n",
      "\tRemaining Weights:       99.34 %\n"
     ]
    },
    {
     "name": "stderr",
     "output_type": "stream",
     "text": [
      "Epoch 28 [Training]: 100%|██████████| 84/84 [00:06<00:00, 13.53it/s, loss=-13505.60, λc2D1=39.89, λd1=16.24, λd2=28.09, λd3=28.17]\n",
      "Epoch 28 [Validation]: 100%|██████████| 21/21 [00:01<00:00, 14.48it/s, loss=-13772.75]\n"
     ]
    },
    {
     "name": "stdout",
     "output_type": "stream",
     "text": [
      "\tTotal Loss (NLL + MDMM): -13462.38\n",
      "\tMDMM Loss:               2497.63\n",
      "\tRemaining Weights:       99.50 %\n"
     ]
    },
    {
     "name": "stderr",
     "output_type": "stream",
     "text": [
      "Epoch 29 [Training]: 100%|██████████| 84/84 [00:06<00:00, 13.41it/s, loss=-13698.07, λc2D1=41.17, λd1=16.84, λd2=29.06, λd3=29.13]\n",
      "Epoch 29 [Validation]: 100%|██████████| 21/21 [00:01<00:00, 14.67it/s, loss=-13952.62]\n"
     ]
    },
    {
     "name": "stdout",
     "output_type": "stream",
     "text": [
      "\tTotal Loss (NLL + MDMM): -13654.64\n",
      "\tMDMM Loss:               2581.61\n",
      "\tRemaining Weights:       99.61 %\n"
     ]
    },
    {
     "name": "stderr",
     "output_type": "stream",
     "text": [
      "Epoch 30 [Training]: 100%|██████████| 84/84 [00:06<00:00, 13.47it/s, loss=-13894.21, λc2D1=42.44, λd1=17.43, λd2=30.03, λd3=30.08]\n",
      "Epoch 30 [Validation]: 100%|██████████| 21/21 [00:01<00:00, 15.05it/s, loss=-14131.30]\n"
     ]
    },
    {
     "name": "stdout",
     "output_type": "stream",
     "text": [
      "\tTotal Loss (NLL + MDMM): -13836.64\n",
      "\tMDMM Loss:               2663.15\n",
      "\tRemaining Weights:       99.34 %\n"
     ]
    },
    {
     "name": "stderr",
     "output_type": "stream",
     "text": [
      "Epoch 31 [Training]: 100%|██████████| 84/84 [00:06<00:00, 13.40it/s, loss=-14079.71, λc2D1=43.71, λd1=18.03, λd2=31.00, λd3=31.04]\n",
      "Epoch 31 [Validation]: 100%|██████████| 21/21 [00:01<00:00, 14.88it/s, loss=-14297.11]\n"
     ]
    },
    {
     "name": "stdout",
     "output_type": "stream",
     "text": [
      "\tTotal Loss (NLL + MDMM): -14005.05\n",
      "\tMDMM Loss:               2744.02\n",
      "\tRemaining Weights:       99.50 %\n"
     ]
    },
    {
     "name": "stderr",
     "output_type": "stream",
     "text": [
      "Epoch 32 [Training]: 100%|██████████| 84/84 [00:06<00:00, 13.37it/s, loss=-14252.45, λc2D1=44.97, λd1=18.62, λd2=31.97, λd3=31.99]\n",
      "Epoch 32 [Validation]: 100%|██████████| 21/21 [00:01<00:00, 14.86it/s, loss=-14466.38]\n"
     ]
    },
    {
     "name": "stdout",
     "output_type": "stream",
     "text": [
      "\tTotal Loss (NLL + MDMM): -14171.95\n",
      "\tMDMM Loss:               2824.22\n",
      "\tRemaining Weights:       99.34 %\n"
     ]
    },
    {
     "name": "stderr",
     "output_type": "stream",
     "text": [
      "Epoch 33 [Training]: 100%|██████████| 84/84 [00:06<00:00, 13.39it/s, loss=-14408.88, λc2D1=46.23, λd1=19.22, λd2=32.94, λd3=32.94]\n",
      "Epoch 33 [Validation]: 100%|██████████| 21/21 [00:01<00:00, 14.91it/s, loss=-14639.01]\n"
     ]
    },
    {
     "name": "stdout",
     "output_type": "stream",
     "text": [
      "\tTotal Loss (NLL + MDMM): -14339.78\n",
      "\tMDMM Loss:               2904.43\n",
      "\tRemaining Weights:       99.28 %\n"
     ]
    },
    {
     "name": "stderr",
     "output_type": "stream",
     "text": [
      "Epoch 34 [Training]: 100%|██████████| 84/84 [00:06<00:00, 13.50it/s, loss=-14557.36, λc2D1=47.48, λd1=19.83, λd2=33.91, λd3=33.89]\n",
      "Epoch 34 [Validation]: 100%|██████████| 21/21 [00:01<00:00, 15.16it/s, loss=-14803.67]\n"
     ]
    },
    {
     "name": "stdout",
     "output_type": "stream",
     "text": [
      "\tTotal Loss (NLL + MDMM): -14499.26\n",
      "\tMDMM Loss:               2978.17\n",
      "\tRemaining Weights:       99.28 %\n"
     ]
    },
    {
     "name": "stderr",
     "output_type": "stream",
     "text": [
      "Epoch 35 [Training]: 100%|██████████| 84/84 [00:06<00:00, 13.28it/s, loss=-14694.44, λc2D1=48.72, λd1=20.44, λd2=34.88, λd3=34.83]\n",
      "Epoch 35 [Validation]: 100%|██████████| 21/21 [00:01<00:00, 14.80it/s, loss=-14950.23]\n"
     ]
    },
    {
     "name": "stdout",
     "output_type": "stream",
     "text": [
      "\tTotal Loss (NLL + MDMM): -14640.29\n",
      "\tMDMM Loss:               3057.26\n",
      "\tRemaining Weights:       99.17 %\n"
     ]
    },
    {
     "name": "stderr",
     "output_type": "stream",
     "text": [
      "Epoch 36 [Training]: 100%|██████████| 84/84 [00:06<00:00, 13.42it/s, loss=-14824.88, λc2D1=49.94, λd1=21.05, λd2=35.85, λd3=35.77]\n",
      "Epoch 36 [Validation]: 100%|██████████| 21/21 [00:01<00:00, 14.94it/s, loss=-15100.42]\n"
     ]
    },
    {
     "name": "stdout",
     "output_type": "stream",
     "text": [
      "\tTotal Loss (NLL + MDMM): -14781.02\n",
      "\tMDMM Loss:               3127.64\n",
      "\tRemaining Weights:       99.17 %\n"
     ]
    },
    {
     "name": "stderr",
     "output_type": "stream",
     "text": [
      "Epoch 37 [Training]: 100%|██████████| 84/84 [00:06<00:00, 13.34it/s, loss=-14963.27, λc2D1=51.16, λd1=21.66, λd2=36.82, λd3=36.71]\n",
      "Epoch 37 [Validation]: 100%|██████████| 21/21 [00:01<00:00, 14.94it/s, loss=-15232.16]\n"
     ]
    },
    {
     "name": "stdout",
     "output_type": "stream",
     "text": [
      "\tTotal Loss (NLL + MDMM): -14909.55\n",
      "\tMDMM Loss:               3205.58\n",
      "\tRemaining Weights:       99.39 %\n"
     ]
    },
    {
     "name": "stderr",
     "output_type": "stream",
     "text": [
      "Epoch 38 [Training]: 100%|██████████| 84/84 [00:06<00:00, 13.39it/s, loss=-15076.86, λc2D1=52.37, λd1=22.27, λd2=37.79, λd3=37.64]\n",
      "Epoch 38 [Validation]: 100%|██████████| 21/21 [00:01<00:00, 15.00it/s, loss=-15358.40]\n"
     ]
    },
    {
     "name": "stdout",
     "output_type": "stream",
     "text": [
      "\tTotal Loss (NLL + MDMM): -15017.08\n",
      "\tMDMM Loss:               3282.67\n",
      "\tRemaining Weights:       99.06 %\n"
     ]
    },
    {
     "name": "stderr",
     "output_type": "stream",
     "text": [
      "Epoch 39 [Training]: 100%|██████████| 84/84 [00:06<00:00, 13.49it/s, loss=-15194.12, λc2D1=53.57, λd1=22.89, λd2=38.76, λd3=38.57]\n",
      "Epoch 39 [Validation]: 100%|██████████| 21/21 [00:01<00:00, 14.82it/s, loss=-15486.14]\n"
     ]
    },
    {
     "name": "stdout",
     "output_type": "stream",
     "text": [
      "\tTotal Loss (NLL + MDMM): -15144.00\n",
      "\tMDMM Loss:               3358.99\n",
      "\tRemaining Weights:       99.39 %\n"
     ]
    },
    {
     "name": "stderr",
     "output_type": "stream",
     "text": [
      "Epoch 40 [Training]: 100%|██████████| 84/84 [00:06<00:00, 13.38it/s, loss=-15277.26, λc2D1=54.76, λd1=23.51, λd2=39.73, λd3=39.50]\n",
      "Epoch 40 [Validation]: 100%|██████████| 21/21 [00:01<00:00, 14.99it/s, loss=-15597.16]\n"
     ]
    },
    {
     "name": "stdout",
     "output_type": "stream",
     "text": [
      "\tTotal Loss (NLL + MDMM): -15247.02\n",
      "\tMDMM Loss:               3422.70\n",
      "\tRemaining Weights:       99.17 %\n"
     ]
    },
    {
     "name": "stderr",
     "output_type": "stream",
     "text": [
      "Epoch 41 [Training]: 100%|██████████| 84/84 [00:06<00:00, 13.31it/s, loss=-15265.40, λc2D1=55.94, λd1=24.13, λd2=40.70, λd3=40.42]\n",
      "Epoch 41 [Validation]: 100%|██████████| 21/21 [00:01<00:00, 14.93it/s, loss=-15664.92]\n"
     ]
    },
    {
     "name": "stdout",
     "output_type": "stream",
     "text": [
      "\tTotal Loss (NLL + MDMM): -15323.60\n",
      "\tMDMM Loss:               3497.10\n",
      "\tRemaining Weights:       99.45 %\n"
     ]
    },
    {
     "name": "stderr",
     "output_type": "stream",
     "text": [
      "Epoch 42 [Training]: 100%|██████████| 84/84 [00:06<00:00, 13.35it/s, loss=-15489.83, λc2D1=57.12, λd1=24.76, λd2=41.68, λd3=41.34]\n",
      "Epoch 42 [Validation]: 100%|██████████| 21/21 [00:01<00:00, 15.00it/s, loss=-15797.78]\n"
     ]
    },
    {
     "name": "stdout",
     "output_type": "stream",
     "text": [
      "\tTotal Loss (NLL + MDMM): -15437.92\n",
      "\tMDMM Loss:               3570.60\n",
      "\tRemaining Weights:       99.17 %\n"
     ]
    },
    {
     "name": "stderr",
     "output_type": "stream",
     "text": [
      "Epoch 43 [Training]: 100%|██████████| 84/84 [00:06<00:00, 13.35it/s, loss=-15567.39, λc2D1=58.29, λd1=25.38, λd2=42.65, λd3=42.26]\n",
      "Epoch 43 [Validation]: 100%|██████████| 21/21 [00:01<00:00, 14.40it/s, loss=-15891.16]\n"
     ]
    },
    {
     "name": "stdout",
     "output_type": "stream",
     "text": [
      "\tTotal Loss (NLL + MDMM): -15518.83\n",
      "\tMDMM Loss:               3643.19\n",
      "\tRemaining Weights:       99.17 %\n"
     ]
    },
    {
     "name": "stderr",
     "output_type": "stream",
     "text": [
      "Epoch 44 [Training]: 100%|██████████| 84/84 [00:06<00:00, 13.25it/s, loss=-15603.46, λc2D1=59.46, λd1=26.01, λd2=43.62, λd3=43.18]\n",
      "Epoch 44 [Validation]: 100%|██████████| 21/21 [00:01<00:00, 14.80it/s, loss=-15940.20]\n"
     ]
    },
    {
     "name": "stdout",
     "output_type": "stream",
     "text": [
      "\tTotal Loss (NLL + MDMM): -15584.74\n",
      "\tMDMM Loss:               3714.64\n",
      "\tRemaining Weights:       99.01 %\n"
     ]
    },
    {
     "name": "stderr",
     "output_type": "stream",
     "text": [
      "Epoch 45 [Training]: 100%|██████████| 84/84 [00:06<00:00, 13.19it/s, loss=-15707.63, λc2D1=60.63, λd1=26.64, λd2=44.59, λd3=44.09]\n",
      "Epoch 45 [Validation]: 100%|██████████| 21/21 [00:01<00:00, 14.14it/s, loss=-16039.60]\n"
     ]
    },
    {
     "name": "stdout",
     "output_type": "stream",
     "text": [
      "\tTotal Loss (NLL + MDMM): -15662.09\n",
      "\tMDMM Loss:               3785.81\n",
      "\tRemaining Weights:       99.34 %\n"
     ]
    },
    {
     "name": "stderr",
     "output_type": "stream",
     "text": [
      "Epoch 46 [Training]: 100%|██████████| 84/84 [00:06<00:00, 13.36it/s, loss=-15782.11, λc2D1=61.80, λd1=27.28, λd2=45.57, λd3=45.00]\n",
      "Epoch 46 [Validation]: 100%|██████████| 21/21 [00:01<00:00, 14.88it/s, loss=-16111.07]\n"
     ]
    },
    {
     "name": "stdout",
     "output_type": "stream",
     "text": [
      "\tTotal Loss (NLL + MDMM): -15734.47\n",
      "\tMDMM Loss:               3851.14\n",
      "\tRemaining Weights:       99.39 %\n"
     ]
    },
    {
     "name": "stderr",
     "output_type": "stream",
     "text": [
      "Epoch 47 [Training]: 100%|██████████| 84/84 [00:06<00:00, 13.23it/s, loss=-15863.21, λc2D1=62.94, λd1=27.91, λd2=46.54, λd3=45.90]\n",
      "Epoch 47 [Validation]: 100%|██████████| 21/21 [00:01<00:00, 14.26it/s, loss=-16187.74]\n"
     ]
    },
    {
     "name": "stdout",
     "output_type": "stream",
     "text": [
      "\tTotal Loss (NLL + MDMM): -15811.39\n",
      "\tMDMM Loss:               3908.57\n",
      "\tRemaining Weights:       99.23 %\n"
     ]
    },
    {
     "name": "stderr",
     "output_type": "stream",
     "text": [
      "Epoch 48 [Training]: 100%|██████████| 84/84 [00:06<00:00, 13.04it/s, loss=-15908.37, λc2D1=64.08, λd1=28.55, λd2=47.52, λd3=46.81]\n",
      "Epoch 48 [Validation]: 100%|██████████| 21/21 [00:01<00:00, 14.21it/s, loss=-16252.28]\n"
     ]
    },
    {
     "name": "stdout",
     "output_type": "stream",
     "text": [
      "\tTotal Loss (NLL + MDMM): -15876.92\n",
      "\tMDMM Loss:               3971.63\n",
      "\tRemaining Weights:       98.95 %\n"
     ]
    },
    {
     "name": "stderr",
     "output_type": "stream",
     "text": [
      "Epoch 49 [Training]: 100%|██████████| 84/84 [00:06<00:00, 12.70it/s, loss=-15920.84, λc2D1=65.21, λd1=29.19, λd2=48.49, λd3=47.70]\n",
      "Epoch 49 [Validation]: 100%|██████████| 21/21 [00:01<00:00, 14.58it/s, loss=-16252.03]\n"
     ]
    },
    {
     "name": "stdout",
     "output_type": "stream",
     "text": [
      "\tTotal Loss (NLL + MDMM): -15883.46\n",
      "\tMDMM Loss:               4038.61\n",
      "\tRemaining Weights:       99.01 %\n"
     ]
    },
    {
     "name": "stderr",
     "output_type": "stream",
     "text": [
      "Epoch 50 [Training]: 100%|██████████| 84/84 [00:06<00:00, 13.34it/s, loss=-16029.82, λc2D1=66.34, λd1=29.83, λd2=49.47, λd3=48.60]\n",
      "Epoch 50 [Validation]: 100%|██████████| 21/21 [00:01<00:00, 14.52it/s, loss=-16373.34]\n"
     ]
    },
    {
     "name": "stdout",
     "output_type": "stream",
     "text": [
      "\tTotal Loss (NLL + MDMM): -15998.85\n",
      "\tMDMM Loss:               4104.94\n",
      "\tRemaining Weights:       99.17 %\n"
     ]
    },
    {
     "name": "stderr",
     "output_type": "stream",
     "text": [
      "Epoch 51 [Training]: 100%|██████████| 84/84 [00:06<00:00, 13.33it/s, loss=-16094.64, λc2D1=67.44, λd1=30.47, λd2=50.45, λd3=49.49]\n",
      "Epoch 51 [Validation]: 100%|██████████| 21/21 [00:01<00:00, 14.78it/s, loss=-16432.60]\n"
     ]
    },
    {
     "name": "stdout",
     "output_type": "stream",
     "text": [
      "\tTotal Loss (NLL + MDMM): -16064.58\n",
      "\tMDMM Loss:               4151.51\n",
      "\tRemaining Weights:       99.01 %\n"
     ]
    },
    {
     "name": "stderr",
     "output_type": "stream",
     "text": [
      "Epoch 52 [Training]: 100%|██████████| 84/84 [00:06<00:00, 13.15it/s, loss=-16169.92, λc2D1=68.53, λd1=31.12, λd2=51.43, λd3=50.38]\n",
      "Epoch 52 [Validation]: 100%|██████████| 21/21 [00:01<00:00, 14.90it/s, loss=-16490.31]\n"
     ]
    },
    {
     "name": "stdout",
     "output_type": "stream",
     "text": [
      "\tTotal Loss (NLL + MDMM): -16135.05\n",
      "\tMDMM Loss:               4204.89\n",
      "\tRemaining Weights:       99.01 %\n"
     ]
    },
    {
     "name": "stderr",
     "output_type": "stream",
     "text": [
      "Epoch 53 [Training]: 100%|██████████| 84/84 [00:06<00:00, 13.24it/s, loss=-16244.51, λc2D1=69.62, λd1=31.76, λd2=52.40, λd3=51.27]\n",
      "Epoch 53 [Validation]: 100%|██████████| 21/21 [00:01<00:00, 14.51it/s, loss=-16568.01]\n"
     ]
    },
    {
     "name": "stdout",
     "output_type": "stream",
     "text": [
      "\tTotal Loss (NLL + MDMM): -16211.99\n",
      "\tMDMM Loss:               4247.25\n",
      "\tRemaining Weights:       98.73 %\n"
     ]
    },
    {
     "name": "stderr",
     "output_type": "stream",
     "text": [
      "Epoch 54 [Training]: 100%|██████████| 84/84 [00:06<00:00, 12.93it/s, loss=-16301.79, λc2D1=70.68, λd1=32.41, λd2=53.38, λd3=52.15]\n",
      "Epoch 54 [Validation]: 100%|██████████| 21/21 [00:01<00:00, 14.84it/s, loss=-16613.96]\n"
     ]
    },
    {
     "name": "stdout",
     "output_type": "stream",
     "text": [
      "\tTotal Loss (NLL + MDMM): -16271.54\n",
      "\tMDMM Loss:               4311.53\n",
      "\tRemaining Weights:       99.01 %\n"
     ]
    },
    {
     "name": "stderr",
     "output_type": "stream",
     "text": [
      "Epoch 55 [Training]: 100%|██████████| 84/84 [00:06<00:00, 13.14it/s, loss=-16333.95, λc2D1=71.73, λd1=33.06, λd2=54.36, λd3=53.03]\n",
      "Epoch 55 [Validation]: 100%|██████████| 21/21 [00:01<00:00, 14.22it/s, loss=-16660.83]\n"
     ]
    },
    {
     "name": "stdout",
     "output_type": "stream",
     "text": [
      "\tTotal Loss (NLL + MDMM): -16315.09\n",
      "\tMDMM Loss:               4374.43\n",
      "\tRemaining Weights:       98.90 %\n"
     ]
    },
    {
     "name": "stderr",
     "output_type": "stream",
     "text": [
      "Epoch 56 [Training]: 100%|██████████| 84/84 [00:06<00:00, 13.22it/s, loss=-16374.17, λc2D1=72.78, λd1=33.71, λd2=55.34, λd3=53.90]\n",
      "Epoch 56 [Validation]: 100%|██████████| 21/21 [00:01<00:00, 14.84it/s, loss=-16719.28]\n"
     ]
    },
    {
     "name": "stdout",
     "output_type": "stream",
     "text": [
      "\tTotal Loss (NLL + MDMM): -16368.33\n",
      "\tMDMM Loss:               4436.93\n",
      "\tRemaining Weights:       98.68 %\n"
     ]
    },
    {
     "name": "stderr",
     "output_type": "stream",
     "text": [
      "Epoch 57 [Training]: 100%|██████████| 84/84 [00:06<00:00, 13.22it/s, loss=-16461.95, λc2D1=73.84, λd1=34.37, λd2=56.33, λd3=54.77]\n",
      "Epoch 57 [Validation]: 100%|██████████| 21/21 [00:01<00:00, 14.74it/s, loss=-16750.33]\n"
     ]
    },
    {
     "name": "stdout",
     "output_type": "stream",
     "text": [
      "\tTotal Loss (NLL + MDMM): -16420.97\n",
      "\tMDMM Loss:               4498.37\n",
      "\tRemaining Weights:       98.46 %\n"
     ]
    },
    {
     "name": "stderr",
     "output_type": "stream",
     "text": [
      "Epoch 58 [Training]: 100%|██████████| 84/84 [00:06<00:00, 13.25it/s, loss=-16467.05, λc2D1=74.89, λd1=35.02, λd2=57.31, λd3=55.63]\n",
      "Epoch 58 [Validation]: 100%|██████████| 21/21 [00:01<00:00, 15.00it/s, loss=-16761.66]\n"
     ]
    },
    {
     "name": "stdout",
     "output_type": "stream",
     "text": [
      "\tTotal Loss (NLL + MDMM): -16425.62\n",
      "\tMDMM Loss:               4558.06\n",
      "\tRemaining Weights:       98.46 %\n"
     ]
    },
    {
     "name": "stderr",
     "output_type": "stream",
     "text": [
      "Epoch 59 [Training]: 100%|██████████| 84/84 [00:06<00:00, 13.21it/s, loss=-16509.57, λc2D1=75.94, λd1=35.68, λd2=58.29, λd3=56.50]\n",
      "Epoch 59 [Validation]: 100%|██████████| 21/21 [00:01<00:00, 14.80it/s, loss=-16818.49]\n"
     ]
    },
    {
     "name": "stdout",
     "output_type": "stream",
     "text": [
      "\tTotal Loss (NLL + MDMM): -16490.25\n",
      "\tMDMM Loss:               4617.91\n",
      "\tRemaining Weights:       98.73 %\n"
     ]
    },
    {
     "name": "stderr",
     "output_type": "stream",
     "text": [
      "Epoch 60 [Training]: 100%|██████████| 84/84 [00:06<00:00, 13.31it/s, loss=-16546.96, λc2D1=76.99, λd1=36.34, λd2=59.27, λd3=57.36]\n",
      "Epoch 60 [Validation]: 100%|██████████| 21/21 [00:01<00:00, 14.07it/s, loss=-16852.29]\n"
     ]
    },
    {
     "name": "stdout",
     "output_type": "stream",
     "text": [
      "\tTotal Loss (NLL + MDMM): -16525.90\n",
      "\tMDMM Loss:               4676.65\n",
      "\tRemaining Weights:       98.73 %\n"
     ]
    },
    {
     "name": "stderr",
     "output_type": "stream",
     "text": [
      "Epoch 61 [Training]: 100%|██████████| 84/84 [00:06<00:00, 13.14it/s, loss=-16583.56, λc2D1=78.04, λd1=37.00, λd2=60.26, λd3=58.21]\n",
      "Epoch 61 [Validation]: 100%|██████████| 21/21 [00:01<00:00, 14.67it/s, loss=-16879.64]\n"
     ]
    },
    {
     "name": "stdout",
     "output_type": "stream",
     "text": [
      "\tTotal Loss (NLL + MDMM): -16567.27\n",
      "\tMDMM Loss:               4734.18\n",
      "\tRemaining Weights:       98.68 %\n"
     ]
    },
    {
     "name": "stderr",
     "output_type": "stream",
     "text": [
      "Epoch 62 [Training]: 100%|██████████| 84/84 [00:06<00:00, 13.36it/s, loss=-16610.34, λc2D1=79.08, λd1=37.67, λd2=61.24, λd3=59.07]\n",
      "Epoch 62 [Validation]: 100%|██████████| 21/21 [00:01<00:00, 14.79it/s, loss=-16901.39]\n"
     ]
    },
    {
     "name": "stdout",
     "output_type": "stream",
     "text": [
      "\tTotal Loss (NLL + MDMM): -16593.46\n",
      "\tMDMM Loss:               4790.73\n",
      "\tRemaining Weights:       98.73 %\n"
     ]
    },
    {
     "name": "stderr",
     "output_type": "stream",
     "text": [
      "Epoch 63 [Training]: 100%|██████████| 84/84 [00:06<00:00, 13.11it/s, loss=-16779.10, λc2D1=80.13, λd1=38.33, λd2=62.23, λd3=59.92]\n",
      "Epoch 63 [Validation]: 100%|██████████| 21/21 [00:01<00:00, 14.37it/s, loss=-17074.18]\n"
     ]
    },
    {
     "name": "stdout",
     "output_type": "stream",
     "text": [
      "\tTotal Loss (NLL + MDMM): -16772.74\n",
      "\tMDMM Loss:               4723.26\n",
      "\tRemaining Weights:       98.57 %\n"
     ]
    },
    {
     "name": "stderr",
     "output_type": "stream",
     "text": [
      "Epoch 64 [Training]: 100%|██████████| 84/84 [00:06<00:00, 13.00it/s, loss=-16813.47, λc2D1=81.17, λd1=39.00, λd2=63.21, λd3=60.77]\n",
      "Epoch 64 [Validation]: 100%|██████████| 21/21 [00:01<00:00, 14.51it/s, loss=-17089.23]\n"
     ]
    },
    {
     "name": "stdout",
     "output_type": "stream",
     "text": [
      "\tTotal Loss (NLL + MDMM): -16793.13\n",
      "\tMDMM Loss:               4780.52\n",
      "\tRemaining Weights:       98.73 %\n"
     ]
    },
    {
     "name": "stderr",
     "output_type": "stream",
     "text": [
      "Epoch 65 [Training]: 100%|██████████| 84/84 [00:06<00:00, 13.23it/s, loss=-16845.16, λc2D1=82.21, λd1=39.66, λd2=64.20, λd3=61.62]\n",
      "Epoch 65 [Validation]: 100%|██████████| 21/21 [00:01<00:00, 14.11it/s, loss=-17117.00]\n"
     ]
    },
    {
     "name": "stdout",
     "output_type": "stream",
     "text": [
      "\tTotal Loss (NLL + MDMM): -16823.33\n",
      "\tMDMM Loss:               4836.36\n",
      "\tRemaining Weights:       98.68 %\n"
     ]
    },
    {
     "name": "stderr",
     "output_type": "stream",
     "text": [
      "Epoch 66 [Training]: 100%|██████████| 84/84 [00:06<00:00, 13.28it/s, loss=-16895.13, λc2D1=83.25, λd1=40.33, λd2=65.19, λd3=62.46]\n",
      "Epoch 66 [Validation]: 100%|██████████| 21/21 [00:01<00:00, 14.95it/s, loss=-17191.66]\n"
     ]
    },
    {
     "name": "stdout",
     "output_type": "stream",
     "text": [
      "\tTotal Loss (NLL + MDMM): -16898.84\n",
      "\tMDMM Loss:               4864.95\n",
      "\tRemaining Weights:       98.57 %\n"
     ]
    },
    {
     "name": "stderr",
     "output_type": "stream",
     "text": [
      "Epoch 67 [Training]: 100%|██████████| 84/84 [00:06<00:00, 12.97it/s, loss=-16905.31, λc2D1=84.29, λd1=41.00, λd2=66.17, λd3=63.30]\n",
      "Epoch 67 [Validation]: 100%|██████████| 21/21 [00:01<00:00, 14.56it/s, loss=-17206.89]\n"
     ]
    },
    {
     "name": "stdout",
     "output_type": "stream",
     "text": [
      "\tTotal Loss (NLL + MDMM): -16919.93\n",
      "\tMDMM Loss:               4920.26\n",
      "\tRemaining Weights:       98.57 %\n"
     ]
    },
    {
     "name": "stderr",
     "output_type": "stream",
     "text": [
      "Epoch 68 [Training]: 100%|██████████| 84/84 [00:06<00:00, 13.32it/s, loss=-16955.28, λc2D1=85.32, λd1=41.67, λd2=67.16, λd3=64.14]\n",
      "Epoch 68 [Validation]: 100%|██████████| 21/21 [00:01<00:00, 14.44it/s, loss=-17242.29]\n"
     ]
    },
    {
     "name": "stdout",
     "output_type": "stream",
     "text": [
      "\tTotal Loss (NLL + MDMM): -16965.43\n",
      "\tMDMM Loss:               4975.44\n",
      "\tRemaining Weights:       98.46 %\n"
     ]
    },
    {
     "name": "stderr",
     "output_type": "stream",
     "text": [
      "Epoch 69 [Training]: 100%|██████████| 84/84 [00:06<00:00, 13.05it/s, loss=-16962.68, λc2D1=86.36, λd1=42.35, λd2=68.15, λd3=64.97]\n",
      "Epoch 69 [Validation]: 100%|██████████| 21/21 [00:01<00:00, 14.21it/s, loss=-17255.89]\n"
     ]
    },
    {
     "name": "stdout",
     "output_type": "stream",
     "text": [
      "\tTotal Loss (NLL + MDMM): -16974.04\n",
      "\tMDMM Loss:               5028.99\n",
      "\tRemaining Weights:       98.35 %\n"
     ]
    },
    {
     "name": "stderr",
     "output_type": "stream",
     "text": [
      "Epoch 70 [Training]: 100%|██████████| 84/84 [00:06<00:00, 13.10it/s, loss=-16983.75, λc2D1=87.39, λd1=43.02, λd2=69.14, λd3=65.81]\n",
      "Epoch 70 [Validation]: 100%|██████████| 21/21 [00:01<00:00, 14.16it/s, loss=-17268.28]\n"
     ]
    },
    {
     "name": "stdout",
     "output_type": "stream",
     "text": [
      "\tTotal Loss (NLL + MDMM): -16994.95\n",
      "\tMDMM Loss:               5082.83\n",
      "\tRemaining Weights:       98.29 %\n"
     ]
    },
    {
     "name": "stderr",
     "output_type": "stream",
     "text": [
      "Epoch 71 [Training]: 100%|██████████| 84/84 [00:06<00:00, 13.15it/s, loss=-16989.27, λc2D1=88.42, λd1=43.69, λd2=70.13, λd3=66.64]\n",
      "Epoch 71 [Validation]: 100%|██████████| 21/21 [00:01<00:00, 14.72it/s, loss=-17277.29]\n"
     ]
    },
    {
     "name": "stdout",
     "output_type": "stream",
     "text": [
      "\tTotal Loss (NLL + MDMM): -17004.79\n",
      "\tMDMM Loss:               5134.88\n",
      "\tRemaining Weights:       98.40 %\n"
     ]
    },
    {
     "name": "stderr",
     "output_type": "stream",
     "text": [
      "Epoch 72 [Training]: 100%|██████████| 84/84 [00:06<00:00, 12.88it/s, loss=-16932.97, λc2D1=89.44, λd1=44.37, λd2=71.13, λd3=67.46]\n",
      "Epoch 72 [Validation]: 100%|██████████| 21/21 [00:01<00:00, 14.74it/s, loss=-17269.92]\n"
     ]
    },
    {
     "name": "stdout",
     "output_type": "stream",
     "text": [
      "\tTotal Loss (NLL + MDMM): -17005.65\n",
      "\tMDMM Loss:               5186.84\n",
      "\tRemaining Weights:       98.51 %\n"
     ]
    },
    {
     "name": "stderr",
     "output_type": "stream",
     "text": [
      "Epoch 73 [Training]: 100%|██████████| 84/84 [00:06<00:00, 13.29it/s, loss=-16963.70, λc2D1=90.47, λd1=45.05, λd2=72.12, λd3=68.29]\n",
      "Epoch 73 [Validation]: 100%|██████████| 21/21 [00:01<00:00, 14.79it/s, loss=-17290.78]\n"
     ]
    },
    {
     "name": "stdout",
     "output_type": "stream",
     "text": [
      "\tTotal Loss (NLL + MDMM): -17021.69\n",
      "\tMDMM Loss:               5237.65\n",
      "\tRemaining Weights:       98.57 %\n"
     ]
    },
    {
     "name": "stderr",
     "output_type": "stream",
     "text": [
      "Epoch 74 [Training]: 100%|██████████| 84/84 [00:06<00:00, 13.07it/s, loss=-17007.63, λc2D1=91.49, λd1=45.73, λd2=73.11, λd3=69.11]\n",
      "Epoch 74 [Validation]: 100%|██████████| 21/21 [00:01<00:00, 14.99it/s, loss=-17296.41]\n"
     ]
    },
    {
     "name": "stdout",
     "output_type": "stream",
     "text": [
      "\tTotal Loss (NLL + MDMM): -17039.82\n",
      "\tMDMM Loss:               5288.47\n",
      "\tRemaining Weights:       98.46 %\n"
     ]
    },
    {
     "name": "stderr",
     "output_type": "stream",
     "text": [
      "Epoch 75 [Training]: 100%|██████████| 84/84 [00:06<00:00, 13.24it/s, loss=-17010.91, λc2D1=92.51, λd1=46.41, λd2=74.10, λd3=69.92]\n",
      "Epoch 75 [Validation]: 100%|██████████| 21/21 [00:01<00:00, 13.93it/s, loss=-17309.19]\n"
     ]
    },
    {
     "name": "stdout",
     "output_type": "stream",
     "text": [
      "\tTotal Loss (NLL + MDMM): -17050.82\n",
      "\tMDMM Loss:               5338.63\n",
      "\tRemaining Weights:       98.68 %\n"
     ]
    },
    {
     "name": "stderr",
     "output_type": "stream",
     "text": [
      "Epoch 76 [Training]: 100%|██████████| 84/84 [00:06<00:00, 13.14it/s, loss=-16987.80, λc2D1=93.53, λd1=47.09, λd2=75.10, λd3=70.74]\n",
      "Epoch 76 [Validation]: 100%|██████████| 21/21 [00:01<00:00, 14.67it/s, loss=-17300.28]\n"
     ]
    },
    {
     "name": "stdout",
     "output_type": "stream",
     "text": [
      "\tTotal Loss (NLL + MDMM): -17048.58\n",
      "\tMDMM Loss:               5387.44\n",
      "\tRemaining Weights:       98.68 %\n"
     ]
    },
    {
     "name": "stderr",
     "output_type": "stream",
     "text": [
      "Epoch 77 [Training]: 100%|██████████| 84/84 [00:06<00:00, 13.12it/s, loss=-17025.49, λc2D1=94.54, λd1=47.77, λd2=76.09, λd3=71.55]\n",
      "Epoch 77 [Validation]: 100%|██████████| 21/21 [00:01<00:00, 14.67it/s, loss=-17322.86]\n"
     ]
    },
    {
     "name": "stdout",
     "output_type": "stream",
     "text": [
      "\tTotal Loss (NLL + MDMM): -17070.30\n",
      "\tMDMM Loss:               5436.31\n",
      "\tRemaining Weights:       98.57 %\n"
     ]
    },
    {
     "name": "stderr",
     "output_type": "stream",
     "text": [
      "Epoch 78 [Training]: 100%|██████████| 84/84 [00:06<00:00, 13.03it/s, loss=-17019.45, λc2D1=95.56, λd1=48.45, λd2=77.08, λd3=72.36]\n",
      "Epoch 78 [Validation]: 100%|██████████| 21/21 [00:01<00:00, 14.00it/s, loss=-17316.80]\n"
     ]
    },
    {
     "name": "stdout",
     "output_type": "stream",
     "text": [
      "\tTotal Loss (NLL + MDMM): -17060.32\n",
      "\tMDMM Loss:               5484.78\n",
      "\tRemaining Weights:       98.62 %\n"
     ]
    },
    {
     "name": "stderr",
     "output_type": "stream",
     "text": [
      "Epoch 79 [Training]: 100%|██████████| 84/84 [00:06<00:00, 13.07it/s, loss=-17013.06, λc2D1=96.57, λd1=49.13, λd2=78.08, λd3=73.16]\n",
      "Epoch 79 [Validation]: 100%|██████████| 21/21 [00:01<00:00, 14.77it/s, loss=-17318.78]\n"
     ]
    },
    {
     "name": "stdout",
     "output_type": "stream",
     "text": [
      "\tTotal Loss (NLL + MDMM): -17076.09\n",
      "\tMDMM Loss:               5532.09\n",
      "\tRemaining Weights:       98.62 %\n"
     ]
    },
    {
     "name": "stderr",
     "output_type": "stream",
     "text": [
      "Epoch 80 [Training]: 100%|██████████| 84/84 [00:06<00:00, 13.10it/s, loss=-17009.57, λc2D1=97.58, λd1=49.82, λd2=79.07, λd3=73.96]\n",
      "Epoch 80 [Validation]: 100%|██████████| 21/21 [00:01<00:00, 14.31it/s, loss=-17306.60]\n"
     ]
    },
    {
     "name": "stdout",
     "output_type": "stream",
     "text": [
      "\tTotal Loss (NLL + MDMM): -17056.91\n",
      "\tMDMM Loss:               5579.01\n",
      "\tRemaining Weights:       98.79 %\n"
     ]
    },
    {
     "name": "stderr",
     "output_type": "stream",
     "text": [
      "Epoch 81 [Training]: 100%|██████████| 84/84 [00:06<00:00, 13.24it/s, loss=-17040.61, λc2D1=98.58, λd1=50.50, λd2=80.07, λd3=74.76]\n",
      "Epoch 81 [Validation]: 100%|██████████| 21/21 [00:01<00:00, 14.77it/s, loss=-17343.82]\n"
     ]
    },
    {
     "name": "stdout",
     "output_type": "stream",
     "text": [
      "\tTotal Loss (NLL + MDMM): -17099.52\n",
      "\tMDMM Loss:               5625.48\n",
      "\tRemaining Weights:       98.73 %\n"
     ]
    },
    {
     "name": "stderr",
     "output_type": "stream",
     "text": [
      "Epoch 82 [Training]: 100%|██████████| 84/84 [00:06<00:00, 13.18it/s, loss=-17029.66, λc2D1=99.59, λd1=51.19, λd2=81.06, λd3=75.56]\n",
      "Epoch 82 [Validation]: 100%|██████████| 21/21 [00:01<00:00, 14.70it/s, loss=-17343.51]\n"
     ]
    },
    {
     "name": "stdout",
     "output_type": "stream",
     "text": [
      "\tTotal Loss (NLL + MDMM): -17101.53\n",
      "\tMDMM Loss:               5670.23\n",
      "\tRemaining Weights:       98.68 %\n"
     ]
    },
    {
     "name": "stderr",
     "output_type": "stream",
     "text": [
      "Epoch 83 [Training]: 100%|██████████| 84/84 [00:06<00:00, 13.34it/s, loss=-17038.84, λc2D1=100.59, λd1=51.88, λd2=82.06, λd3=76.35]\n",
      "Epoch 83 [Validation]: 100%|██████████| 21/21 [00:01<00:00, 14.35it/s, loss=-17344.89]\n"
     ]
    },
    {
     "name": "stdout",
     "output_type": "stream",
     "text": [
      "\tTotal Loss (NLL + MDMM): -17101.62\n",
      "\tMDMM Loss:               5715.52\n",
      "\tRemaining Weights:       98.68 %\n"
     ]
    },
    {
     "name": "stderr",
     "output_type": "stream",
     "text": [
      "Epoch 84 [Training]: 100%|██████████| 84/84 [00:06<00:00, 13.16it/s, loss=-17056.63, λc2D1=101.59, λd1=52.57, λd2=83.05, λd3=77.14]\n",
      "Epoch 84 [Validation]: 100%|██████████| 21/21 [00:01<00:00, 15.05it/s, loss=-17364.95]\n"
     ]
    },
    {
     "name": "stdout",
     "output_type": "stream",
     "text": [
      "\tTotal Loss (NLL + MDMM): -17118.34\n",
      "\tMDMM Loss:               5759.80\n",
      "\tRemaining Weights:       98.51 %\n"
     ]
    },
    {
     "name": "stderr",
     "output_type": "stream",
     "text": [
      "Epoch 85 [Training]: 100%|██████████| 84/84 [00:06<00:00, 13.20it/s, loss=-17049.70, λc2D1=102.59, λd1=53.26, λd2=84.04, λd3=77.92]\n",
      "Epoch 85 [Validation]: 100%|██████████| 21/21 [00:01<00:00, 14.62it/s, loss=-17360.64]\n"
     ]
    },
    {
     "name": "stdout",
     "output_type": "stream",
     "text": [
      "\tTotal Loss (NLL + MDMM): -17116.94\n",
      "\tMDMM Loss:               5802.94\n",
      "\tRemaining Weights:       98.68 %\n"
     ]
    },
    {
     "name": "stderr",
     "output_type": "stream",
     "text": [
      "Epoch 86 [Training]: 100%|██████████| 84/84 [00:06<00:00, 13.25it/s, loss=-17047.85, λc2D1=103.58, λd1=53.95, λd2=85.04, λd3=78.70]\n",
      "Epoch 86 [Validation]: 100%|██████████| 21/21 [00:01<00:00, 14.83it/s, loss=-17356.45]\n"
     ]
    },
    {
     "name": "stdout",
     "output_type": "stream",
     "text": [
      "\tTotal Loss (NLL + MDMM): -17110.67\n",
      "\tMDMM Loss:               5845.84\n",
      "\tRemaining Weights:       98.57 %\n"
     ]
    },
    {
     "name": "stderr",
     "output_type": "stream",
     "text": [
      "Epoch 87 [Training]: 100%|██████████| 84/84 [00:06<00:00, 13.32it/s, loss=-17066.54, λc2D1=104.58, λd1=54.64, λd2=86.03, λd3=79.48]\n",
      "Epoch 87 [Validation]: 100%|██████████| 21/21 [00:01<00:00, 14.74it/s, loss=-17381.25]\n"
     ]
    },
    {
     "name": "stdout",
     "output_type": "stream",
     "text": [
      "\tTotal Loss (NLL + MDMM): -17130.12\n",
      "\tMDMM Loss:               5888.56\n",
      "\tRemaining Weights:       98.29 %\n"
     ]
    },
    {
     "name": "stderr",
     "output_type": "stream",
     "text": [
      "Epoch 88 [Training]: 100%|██████████| 84/84 [00:06<00:00, 13.27it/s, loss=-17075.17, λc2D1=105.57, λd1=55.34, λd2=87.02, λd3=80.26]\n",
      "Epoch 88 [Validation]: 100%|██████████| 21/21 [00:01<00:00, 14.80it/s, loss=-17390.89]\n"
     ]
    },
    {
     "name": "stdout",
     "output_type": "stream",
     "text": [
      "\tTotal Loss (NLL + MDMM): -17144.02\n",
      "\tMDMM Loss:               5929.78\n",
      "\tRemaining Weights:       98.51 %\n"
     ]
    },
    {
     "name": "stderr",
     "output_type": "stream",
     "text": [
      "Epoch 89 [Training]: 100%|██████████| 84/84 [00:06<00:00, 13.45it/s, loss=-17145.63, λc2D1=106.53, λd1=56.03, λd2=88.01, λd3=81.03]\n",
      "Epoch 89 [Validation]: 100%|██████████| 21/21 [00:01<00:00, 15.00it/s, loss=-17462.60]\n"
     ]
    },
    {
     "name": "stdout",
     "output_type": "stream",
     "text": [
      "\tTotal Loss (NLL + MDMM): -17214.24\n",
      "\tMDMM Loss:               5889.17\n",
      "\tRemaining Weights:       98.46 %\n"
     ]
    },
    {
     "name": "stderr",
     "output_type": "stream",
     "text": [
      "Epoch 90 [Training]: 100%|██████████| 84/84 [00:06<00:00, 13.42it/s, loss=-17163.02, λc2D1=107.44, λd1=56.73, λd2=89.01, λd3=81.80]\n",
      "Epoch 90 [Validation]: 100%|██████████| 21/21 [00:01<00:00, 14.43it/s, loss=-17474.26]\n"
     ]
    },
    {
     "name": "stdout",
     "output_type": "stream",
     "text": [
      "\tTotal Loss (NLL + MDMM): -17228.89\n",
      "\tMDMM Loss:               5929.41\n",
      "\tRemaining Weights:       98.23 %\n"
     ]
    },
    {
     "name": "stderr",
     "output_type": "stream",
     "text": [
      "Epoch 91 [Training]: 100%|██████████| 84/84 [00:06<00:00, 13.34it/s, loss=-17167.71, λc2D1=108.35, λd1=57.43, λd2=90.00, λd3=82.57]\n",
      "Epoch 91 [Validation]: 100%|██████████| 21/21 [00:01<00:00, 15.11it/s, loss=-17490.56]\n"
     ]
    },
    {
     "name": "stdout",
     "output_type": "stream",
     "text": [
      "\tTotal Loss (NLL + MDMM): -17235.05\n",
      "\tMDMM Loss:               5969.39\n",
      "\tRemaining Weights:       98.12 %\n"
     ]
    },
    {
     "name": "stderr",
     "output_type": "stream",
     "text": [
      "Epoch 92 [Training]: 100%|██████████| 84/84 [00:06<00:00, 13.40it/s, loss=-17174.42, λc2D1=109.25, λd1=58.12, λd2=90.99, λd3=83.33]\n",
      "Epoch 92 [Validation]: 100%|██████████| 21/21 [00:01<00:00, 14.78it/s, loss=-17496.39]\n"
     ]
    },
    {
     "name": "stdout",
     "output_type": "stream",
     "text": [
      "\tTotal Loss (NLL + MDMM): -17245.92\n",
      "\tMDMM Loss:               6008.31\n",
      "\tRemaining Weights:       98.07 %\n"
     ]
    },
    {
     "name": "stderr",
     "output_type": "stream",
     "text": [
      "Epoch 93 [Training]: 100%|██████████| 84/84 [00:06<00:00, 13.34it/s, loss=-17179.61, λc2D1=110.16, λd1=58.82, λd2=91.98, λd3=84.09]\n",
      "Epoch 93 [Validation]: 100%|██████████| 21/21 [00:01<00:00, 14.59it/s, loss=-17501.32]\n"
     ]
    },
    {
     "name": "stdout",
     "output_type": "stream",
     "text": [
      "\tTotal Loss (NLL + MDMM): -17250.06\n",
      "\tMDMM Loss:               6047.18\n",
      "\tRemaining Weights:       98.23 %\n"
     ]
    },
    {
     "name": "stderr",
     "output_type": "stream",
     "text": [
      "Epoch 94 [Training]: 100%|██████████| 84/84 [00:06<00:00, 13.29it/s, loss=-17184.62, λc2D1=111.07, λd1=59.52, λd2=92.97, λd3=84.85]\n",
      "Epoch 94 [Validation]: 100%|██████████| 21/21 [00:01<00:00, 14.89it/s, loss=-17522.66]\n"
     ]
    },
    {
     "name": "stdout",
     "output_type": "stream",
     "text": [
      "\tTotal Loss (NLL + MDMM): -17257.19\n",
      "\tMDMM Loss:               6086.38\n",
      "\tRemaining Weights:       98.23 %\n"
     ]
    },
    {
     "name": "stderr",
     "output_type": "stream",
     "text": [
      "Epoch 95 [Training]: 100%|██████████| 84/84 [00:06<00:00, 13.33it/s, loss=-17187.34, λc2D1=111.97, λd1=60.22, λd2=93.96, λd3=85.60]\n",
      "Epoch 95 [Validation]: 100%|██████████| 21/21 [00:01<00:00, 14.88it/s, loss=-17524.62]\n"
     ]
    },
    {
     "name": "stdout",
     "output_type": "stream",
     "text": [
      "\tTotal Loss (NLL + MDMM): -17261.73\n",
      "\tMDMM Loss:               6123.04\n",
      "\tRemaining Weights:       98.29 %\n"
     ]
    },
    {
     "name": "stderr",
     "output_type": "stream",
     "text": [
      "Epoch 96 [Training]: 100%|██████████| 84/84 [00:06<00:00, 13.24it/s, loss=-17189.38, λc2D1=112.88, λd1=60.93, λd2=94.95, λd3=86.35]\n",
      "Epoch 96 [Validation]: 100%|██████████| 21/21 [00:01<00:00, 14.75it/s, loss=-17525.36]\n"
     ]
    },
    {
     "name": "stdout",
     "output_type": "stream",
     "text": [
      "\tTotal Loss (NLL + MDMM): -17262.83\n",
      "\tMDMM Loss:               6158.85\n",
      "\tRemaining Weights:       98.46 %\n"
     ]
    },
    {
     "name": "stderr",
     "output_type": "stream",
     "text": [
      "Epoch 97 [Training]: 100%|██████████| 84/84 [00:06<00:00, 13.31it/s, loss=-17250.11, λc2D1=113.76, λd1=61.63, λd2=95.94, λd3=87.10]\n",
      "Epoch 97 [Validation]: 100%|██████████| 21/21 [00:01<00:00, 14.70it/s, loss=-17595.25]\n"
     ]
    },
    {
     "name": "stdout",
     "output_type": "stream",
     "text": [
      "\tTotal Loss (NLL + MDMM): -17323.28\n",
      "\tMDMM Loss:               6144.28\n",
      "\tRemaining Weights:       98.35 %\n"
     ]
    },
    {
     "name": "stderr",
     "output_type": "stream",
     "text": [
      "Epoch 98 [Training]: 100%|██████████| 84/84 [00:06<00:00, 13.16it/s, loss=-17237.71, λc2D1=114.63, λd1=62.34, λd2=96.93, λd3=87.84]\n",
      "Epoch 98 [Validation]: 100%|██████████| 21/21 [00:01<00:00, 14.45it/s, loss=-17588.14]\n"
     ]
    },
    {
     "name": "stdout",
     "output_type": "stream",
     "text": [
      "\tTotal Loss (NLL + MDMM): -17313.30\n",
      "\tMDMM Loss:               6178.31\n",
      "\tRemaining Weights:       98.23 %\n"
     ]
    },
    {
     "name": "stderr",
     "output_type": "stream",
     "text": [
      "Epoch 99 [Training]: 100%|██████████| 84/84 [00:06<00:00, 13.15it/s, loss=-17243.36, λc2D1=115.49, λd1=63.04, λd2=97.92, λd3=88.58]\n",
      "Epoch 99 [Validation]: 100%|██████████| 21/21 [00:01<00:00, 14.95it/s, loss=-17598.66]\n"
     ]
    },
    {
     "name": "stdout",
     "output_type": "stream",
     "text": [
      "\tTotal Loss (NLL + MDMM): -17320.35\n",
      "\tMDMM Loss:               6211.90\n",
      "\tRemaining Weights:       98.23 %\n"
     ]
    },
    {
     "name": "stderr",
     "output_type": "stream",
     "text": [
      "Epoch 100 [Training]: 100%|██████████| 84/84 [00:06<00:00, 13.26it/s, loss=-17254.83, λc2D1=116.35, λd1=63.75, λd2=98.91, λd3=89.32]\n",
      "Epoch 100 [Validation]: 100%|██████████| 21/21 [00:01<00:00, 14.78it/s, loss=-17602.65]\n"
     ]
    },
    {
     "name": "stdout",
     "output_type": "stream",
     "text": [
      "\tTotal Loss (NLL + MDMM): -17316.04\n",
      "\tMDMM Loss:               6245.27\n",
      "\tRemaining Weights:       98.23 %\n"
     ]
    },
    {
     "name": "stderr",
     "output_type": "stream",
     "text": [
      "Epoch 101 [Training]: 100%|██████████| 84/84 [00:06<00:00, 13.31it/s, loss=-17486.44, λc2D1=117.21, λd1=64.46, λd2=99.90, λd3=90.05]\n",
      "Epoch 101 [Validation]: 100%|██████████| 21/21 [00:01<00:00, 14.49it/s, loss=-17835.39]\n"
     ]
    },
    {
     "name": "stdout",
     "output_type": "stream",
     "text": [
      "\tTotal Loss (NLL + MDMM): -17548.01\n",
      "\tMDMM Loss:               6058.19\n",
      "\tRemaining Weights:       98.18 %\n"
     ]
    },
    {
     "name": "stderr",
     "output_type": "stream",
     "text": [
      "Epoch 102 [Training]: 100%|██████████| 84/84 [00:06<00:00, 13.22it/s, loss=-17489.06, λc2D1=118.08, λd1=65.17, λd2=100.88, λd3=90.78]\n",
      "Epoch 102 [Validation]: 100%|██████████| 21/21 [00:01<00:00, 14.94it/s, loss=-17844.71]\n"
     ]
    },
    {
     "name": "stdout",
     "output_type": "stream",
     "text": [
      "\tTotal Loss (NLL + MDMM): -17550.16\n",
      "\tMDMM Loss:               6095.56\n",
      "\tRemaining Weights:       98.12 %\n"
     ]
    },
    {
     "name": "stderr",
     "output_type": "stream",
     "text": [
      "Epoch 103 [Training]: 100%|██████████| 84/84 [00:06<00:00, 13.11it/s, loss=-17473.25, λc2D1=118.94, λd1=65.88, λd2=101.87, λd3=91.51]\n",
      "Epoch 103 [Validation]: 100%|██████████| 21/21 [00:01<00:00, 14.93it/s, loss=-17842.96]\n"
     ]
    },
    {
     "name": "stdout",
     "output_type": "stream",
     "text": [
      "\tTotal Loss (NLL + MDMM): -17547.76\n",
      "\tMDMM Loss:               6130.24\n",
      "\tRemaining Weights:       98.23 %\n"
     ]
    },
    {
     "name": "stderr",
     "output_type": "stream",
     "text": [
      "Epoch 104 [Training]: 100%|██████████| 84/84 [00:06<00:00, 13.24it/s, loss=-17497.31, λc2D1=119.80, λd1=66.59, λd2=102.86, λd3=92.24]\n",
      "Epoch 104 [Validation]: 100%|██████████| 21/21 [00:01<00:00, 15.02it/s, loss=-17859.04]\n"
     ]
    },
    {
     "name": "stdout",
     "output_type": "stream",
     "text": [
      "\tTotal Loss (NLL + MDMM): -17549.21\n",
      "\tMDMM Loss:               6165.35\n",
      "\tRemaining Weights:       98.18 %\n"
     ]
    },
    {
     "name": "stderr",
     "output_type": "stream",
     "text": [
      "Epoch 105 [Training]: 100%|██████████| 84/84 [00:06<00:00, 13.33it/s, loss=-17495.24, λc2D1=120.67, λd1=67.30, λd2=103.85, λd3=92.96]\n",
      "Epoch 105 [Validation]: 100%|██████████| 21/21 [00:01<00:00, 14.78it/s, loss=-17860.66]\n"
     ]
    },
    {
     "name": "stdout",
     "output_type": "stream",
     "text": [
      "\tTotal Loss (NLL + MDMM): -17552.87\n",
      "\tMDMM Loss:               6197.62\n",
      "\tRemaining Weights:       98.01 %\n"
     ]
    },
    {
     "name": "stderr",
     "output_type": "stream",
     "text": [
      "Epoch 106 [Training]: 100%|██████████| 84/84 [00:06<00:00, 13.47it/s, loss=-17276.48, λc2D1=121.53, λd1=68.01, λd2=104.83, λd3=93.68]\n",
      "Epoch 106 [Validation]: 100%|██████████| 21/21 [00:01<00:00, 15.07it/s, loss=-17871.72]\n"
     ]
    },
    {
     "name": "stdout",
     "output_type": "stream",
     "text": [
      "\tTotal Loss (NLL + MDMM): -17561.75\n",
      "\tMDMM Loss:               6230.44\n",
      "\tRemaining Weights:       98.01 %\n"
     ]
    },
    {
     "name": "stderr",
     "output_type": "stream",
     "text": [
      "Epoch 107 [Training]: 100%|██████████| 84/84 [00:06<00:00, 13.14it/s, loss=-17523.60, λc2D1=122.40, λd1=68.73, λd2=105.82, λd3=94.39]\n",
      "Epoch 107 [Validation]: 100%|██████████| 21/21 [00:01<00:00, 14.84it/s, loss=-17893.19]\n"
     ]
    },
    {
     "name": "stdout",
     "output_type": "stream",
     "text": [
      "\tTotal Loss (NLL + MDMM): -17572.46\n",
      "\tMDMM Loss:               6264.33\n",
      "\tRemaining Weights:       98.07 %\n"
     ]
    },
    {
     "name": "stderr",
     "output_type": "stream",
     "text": [
      "Epoch 108 [Training]: 100%|██████████| 84/84 [00:06<00:00, 13.13it/s, loss=-17506.83, λc2D1=123.26, λd1=69.44, λd2=106.80, λd3=95.11]\n",
      "Epoch 108 [Validation]: 100%|██████████| 21/21 [00:01<00:00, 14.94it/s, loss=-17886.36]\n"
     ]
    },
    {
     "name": "stdout",
     "output_type": "stream",
     "text": [
      "\tTotal Loss (NLL + MDMM): -17566.57\n",
      "\tMDMM Loss:               6297.61\n",
      "\tRemaining Weights:       98.12 %\n"
     ]
    },
    {
     "name": "stderr",
     "output_type": "stream",
     "text": [
      "Epoch 109 [Training]: 100%|██████████| 84/84 [00:06<00:00, 13.28it/s, loss=-17517.11, λc2D1=124.13, λd1=70.16, λd2=107.79, λd3=95.82]\n",
      "Epoch 109 [Validation]: 100%|██████████| 21/21 [00:01<00:00, 14.17it/s, loss=-17889.82]\n"
     ]
    },
    {
     "name": "stdout",
     "output_type": "stream",
     "text": [
      "\tTotal Loss (NLL + MDMM): -17560.17\n",
      "\tMDMM Loss:               6331.96\n",
      "\tRemaining Weights:       97.90 %\n"
     ]
    },
    {
     "name": "stderr",
     "output_type": "stream",
     "text": [
      "Epoch 110 [Training]: 100%|██████████| 84/84 [00:06<00:00, 13.17it/s, loss=-17510.39, λc2D1=124.99, λd1=70.88, λd2=108.77, λd3=96.52]\n",
      "Epoch 110 [Validation]: 100%|██████████| 21/21 [00:01<00:00, 14.52it/s, loss=-17890.25]\n"
     ]
    },
    {
     "name": "stdout",
     "output_type": "stream",
     "text": [
      "\tTotal Loss (NLL + MDMM): -17559.77\n",
      "\tMDMM Loss:               6365.47\n",
      "\tRemaining Weights:       98.01 %\n"
     ]
    },
    {
     "name": "stderr",
     "output_type": "stream",
     "text": [
      "Epoch 111 [Training]: 100%|██████████| 84/84 [00:06<00:00, 13.24it/s, loss=-17497.14, λc2D1=125.86, λd1=71.60, λd2=109.76, λd3=97.23]\n",
      "Epoch 111 [Validation]: 100%|██████████| 21/21 [00:01<00:00, 15.10it/s, loss=-17894.85]\n"
     ]
    },
    {
     "name": "stdout",
     "output_type": "stream",
     "text": [
      "\tTotal Loss (NLL + MDMM): -17563.43\n",
      "\tMDMM Loss:               6396.89\n",
      "\tRemaining Weights:       97.74 %\n"
     ]
    },
    {
     "name": "stderr",
     "output_type": "stream",
     "text": [
      "Epoch 112 [Training]: 100%|██████████| 84/84 [00:06<00:00, 13.19it/s, loss=-17511.79, λc2D1=126.72, λd1=72.31, λd2=110.74, λd3=97.93]\n",
      "Epoch 112 [Validation]: 100%|██████████| 21/21 [00:01<00:00, 14.09it/s, loss=-17892.37]\n"
     ]
    },
    {
     "name": "stdout",
     "output_type": "stream",
     "text": [
      "\tTotal Loss (NLL + MDMM): -17552.41\n",
      "\tMDMM Loss:               6430.44\n",
      "\tRemaining Weights:       97.74 %\n"
     ]
    },
    {
     "name": "stderr",
     "output_type": "stream",
     "text": [
      "Epoch 113 [Training]: 100%|██████████| 84/84 [00:06<00:00, 12.92it/s, loss=-17577.91, λc2D1=127.57, λd1=73.04, λd2=111.73, λd3=98.63]\n",
      "Epoch 113 [Validation]: 100%|██████████| 21/21 [00:01<00:00, 14.51it/s, loss=-17964.30]\n"
     ]
    },
    {
     "name": "stdout",
     "output_type": "stream",
     "text": [
      "\tTotal Loss (NLL + MDMM): -17620.48\n",
      "\tMDMM Loss:               6400.20\n",
      "\tRemaining Weights:       97.46 %\n"
     ]
    },
    {
     "name": "stderr",
     "output_type": "stream",
     "text": [
      "Epoch 114 [Training]: 100%|██████████| 84/84 [00:06<00:00, 13.15it/s, loss=-17573.25, λc2D1=128.39, λd1=73.76, λd2=112.71, λd3=99.33]\n",
      "Epoch 114 [Validation]: 100%|██████████| 21/21 [00:01<00:00, 14.77it/s, loss=-17953.98]\n"
     ]
    },
    {
     "name": "stdout",
     "output_type": "stream",
     "text": [
      "\tTotal Loss (NLL + MDMM): -17605.79\n",
      "\tMDMM Loss:               6432.48\n",
      "\tRemaining Weights:       97.57 %\n"
     ]
    },
    {
     "name": "stderr",
     "output_type": "stream",
     "text": [
      "Epoch 115 [Training]: 100%|██████████| 84/84 [00:06<00:00, 13.15it/s, loss=-17547.97, λc2D1=129.20, λd1=74.48, λd2=113.69, λd3=100.02]\n",
      "Epoch 115 [Validation]: 100%|██████████| 21/21 [00:01<00:00, 14.71it/s, loss=-17950.41]\n"
     ]
    },
    {
     "name": "stdout",
     "output_type": "stream",
     "text": [
      "\tTotal Loss (NLL + MDMM): -17606.77\n",
      "\tMDMM Loss:               6463.57\n",
      "\tRemaining Weights:       97.46 %\n"
     ]
    },
    {
     "name": "stderr",
     "output_type": "stream",
     "text": [
      "Epoch 116 [Training]: 100%|██████████| 84/84 [00:06<00:00, 13.12it/s, loss=-17573.67, λc2D1=130.01, λd1=75.20, λd2=114.68, λd3=100.71]\n",
      "Epoch 116 [Validation]: 100%|██████████| 21/21 [00:01<00:00, 14.59it/s, loss=-17960.24]\n"
     ]
    },
    {
     "name": "stdout",
     "output_type": "stream",
     "text": [
      "\tTotal Loss (NLL + MDMM): -17608.01\n",
      "\tMDMM Loss:               6494.66\n",
      "\tRemaining Weights:       97.52 %\n"
     ]
    },
    {
     "name": "stderr",
     "output_type": "stream",
     "text": [
      "Epoch 117 [Training]: 100%|██████████| 84/84 [00:06<00:00, 13.19it/s, loss=-17553.04, λc2D1=130.83, λd1=75.93, λd2=115.66, λd3=101.40]\n",
      "Epoch 117 [Validation]: 100%|██████████| 21/21 [00:01<00:00, 14.16it/s, loss=-17967.67]\n"
     ]
    },
    {
     "name": "stdout",
     "output_type": "stream",
     "text": [
      "\tTotal Loss (NLL + MDMM): -17616.02\n",
      "\tMDMM Loss:               6525.61\n",
      "\tRemaining Weights:       97.57 %\n"
     ]
    },
    {
     "name": "stderr",
     "output_type": "stream",
     "text": [
      "Epoch 118 [Training]: 100%|██████████| 84/84 [00:06<00:00, 13.05it/s, loss=-17572.43, λc2D1=131.64, λd1=76.65, λd2=116.64, λd3=102.09]\n",
      "Epoch 118 [Validation]: 100%|██████████| 21/21 [00:01<00:00, 14.68it/s, loss=-17969.75]\n"
     ]
    },
    {
     "name": "stdout",
     "output_type": "stream",
     "text": [
      "\tTotal Loss (NLL + MDMM): -17609.69\n",
      "\tMDMM Loss:               6557.12\n",
      "\tRemaining Weights:       97.63 %\n"
     ]
    },
    {
     "name": "stderr",
     "output_type": "stream",
     "text": [
      "Epoch 119 [Training]: 100%|██████████| 84/84 [00:06<00:00, 13.24it/s, loss=-17560.11, λc2D1=132.46, λd1=77.38, λd2=117.62, λd3=102.78]\n",
      "Epoch 119 [Validation]: 100%|██████████| 21/21 [00:01<00:00, 14.50it/s, loss=-17964.76]\n"
     ]
    },
    {
     "name": "stdout",
     "output_type": "stream",
     "text": [
      "\tTotal Loss (NLL + MDMM): -17602.88\n",
      "\tMDMM Loss:               6587.68\n",
      "\tRemaining Weights:       97.41 %\n"
     ]
    },
    {
     "name": "stderr",
     "output_type": "stream",
     "text": [
      "Epoch 120 [Training]: 100%|██████████| 84/84 [00:06<00:00, 13.07it/s, loss=-17565.31, λc2D1=133.27, λd1=78.10, λd2=118.60, λd3=103.46]\n",
      "Epoch 120 [Validation]: 100%|██████████| 21/21 [00:01<00:00, 14.99it/s, loss=-17968.02]\n"
     ]
    },
    {
     "name": "stdout",
     "output_type": "stream",
     "text": [
      "\tTotal Loss (NLL + MDMM): -17605.96\n",
      "\tMDMM Loss:               6617.86\n",
      "\tRemaining Weights:       97.41 %\n"
     ]
    },
    {
     "name": "stderr",
     "output_type": "stream",
     "text": [
      "Epoch 121 [Training]: 100%|██████████| 84/84 [00:06<00:00, 13.24it/s, loss=-17568.77, λc2D1=134.09, λd1=78.83, λd2=119.58, λd3=104.14]\n",
      "Epoch 121 [Validation]: 100%|██████████| 21/21 [00:01<00:00, 14.87it/s, loss=-17977.57]\n"
     ]
    },
    {
     "name": "stdout",
     "output_type": "stream",
     "text": [
      "\tTotal Loss (NLL + MDMM): -17611.50\n",
      "\tMDMM Loss:               6648.25\n",
      "\tRemaining Weights:       97.46 %\n"
     ]
    },
    {
     "name": "stderr",
     "output_type": "stream",
     "text": [
      "Epoch 122 [Training]: 100%|██████████| 84/84 [00:06<00:00, 13.09it/s, loss=-17562.25, λc2D1=134.90, λd1=79.56, λd2=120.56, λd3=104.82]\n",
      "Epoch 122 [Validation]: 100%|██████████| 21/21 [00:01<00:00, 14.25it/s, loss=-17974.71]\n"
     ]
    },
    {
     "name": "stdout",
     "output_type": "stream",
     "text": [
      "\tTotal Loss (NLL + MDMM): -17608.15\n",
      "\tMDMM Loss:               6677.66\n",
      "\tRemaining Weights:       97.30 %\n"
     ]
    },
    {
     "name": "stderr",
     "output_type": "stream",
     "text": [
      "Epoch 123 [Training]: 100%|██████████| 84/84 [00:06<00:00, 13.16it/s, loss=-17524.25, λc2D1=135.72, λd1=80.29, λd2=121.54, λd3=105.50]\n",
      "Epoch 123 [Validation]: 100%|██████████| 21/21 [00:01<00:00, 14.70it/s, loss=-17945.56]\n"
     ]
    },
    {
     "name": "stdout",
     "output_type": "stream",
     "text": [
      "\tTotal Loss (NLL + MDMM): -17582.48\n",
      "\tMDMM Loss:               6707.36\n",
      "\tRemaining Weights:       97.63 %\n"
     ]
    },
    {
     "name": "stderr",
     "output_type": "stream",
     "text": [
      "Epoch 124 [Training]: 100%|██████████| 84/84 [00:06<00:00, 13.00it/s, loss=-17555.73, λc2D1=136.53, λd1=81.02, λd2=122.52, λd3=106.17]\n",
      "Epoch 124 [Validation]: 100%|██████████| 21/21 [00:01<00:00, 14.69it/s, loss=-17972.50]\n"
     ]
    },
    {
     "name": "stdout",
     "output_type": "stream",
     "text": [
      "\tTotal Loss (NLL + MDMM): -17602.83\n",
      "\tMDMM Loss:               6736.52\n",
      "\tRemaining Weights:       97.46 %\n"
     ]
    },
    {
     "name": "stderr",
     "output_type": "stream",
     "text": [
      "Epoch 125 [Training]: 100%|██████████| 84/84 [00:06<00:00, 13.28it/s, loss=-17547.63, λc2D1=137.35, λd1=81.75, λd2=123.50, λd3=106.84]\n",
      "Epoch 125 [Validation]: 100%|██████████| 21/21 [00:01<00:00, 14.25it/s, loss=-17965.76]\n"
     ]
    },
    {
     "name": "stdout",
     "output_type": "stream",
     "text": [
      "\tTotal Loss (NLL + MDMM): -17602.69\n",
      "\tMDMM Loss:               6763.89\n",
      "\tRemaining Weights:       97.46 %\n"
     ]
    },
    {
     "name": "stderr",
     "output_type": "stream",
     "text": [
      "Epoch 126 [Training]: 100%|██████████| 84/84 [00:06<00:00, 13.21it/s, loss=-17549.39, λc2D1=138.16, λd1=82.49, λd2=124.47, λd3=107.51]\n",
      "Epoch 126 [Validation]: 100%|██████████| 21/21 [00:01<00:00, 14.70it/s, loss=-17963.88]\n"
     ]
    },
    {
     "name": "stdout",
     "output_type": "stream",
     "text": [
      "\tTotal Loss (NLL + MDMM): -17592.69\n",
      "\tMDMM Loss:               6792.99\n",
      "\tRemaining Weights:       97.57 %\n"
     ]
    },
    {
     "name": "stderr",
     "output_type": "stream",
     "text": [
      "Epoch 127 [Training]: 100%|██████████| 84/84 [00:06<00:00, 13.12it/s, loss=-17543.38, λc2D1=138.98, λd1=83.22, λd2=125.45, λd3=108.18]\n",
      "Epoch 127 [Validation]: 100%|██████████| 21/21 [00:01<00:00, 14.48it/s, loss=-17970.38]\n"
     ]
    },
    {
     "name": "stdout",
     "output_type": "stream",
     "text": [
      "\tTotal Loss (NLL + MDMM): -17596.27\n",
      "\tMDMM Loss:               6820.34\n",
      "\tRemaining Weights:       97.46 %\n"
     ]
    },
    {
     "name": "stderr",
     "output_type": "stream",
     "text": [
      "Epoch 128 [Training]: 100%|██████████| 84/84 [00:06<00:00, 13.22it/s, loss=-17529.42, λc2D1=139.79, λd1=83.95, λd2=126.43, λd3=108.85]\n",
      "Epoch 128 [Validation]: 100%|██████████| 21/21 [00:01<00:00, 14.96it/s, loss=-17950.67]\n"
     ]
    },
    {
     "name": "stdout",
     "output_type": "stream",
     "text": [
      "\tTotal Loss (NLL + MDMM): -17579.10\n",
      "\tMDMM Loss:               6847.85\n",
      "\tRemaining Weights:       97.52 %\n"
     ]
    },
    {
     "name": "stderr",
     "output_type": "stream",
     "text": [
      "Epoch 129 [Training]: 100%|██████████| 84/84 [00:06<00:00, 12.96it/s, loss=-17536.33, λc2D1=140.61, λd1=84.69, λd2=127.40, λd3=109.51]\n",
      "Epoch 129 [Validation]: 100%|██████████| 21/21 [00:01<00:00, 14.44it/s, loss=-17947.07]\n"
     ]
    },
    {
     "name": "stdout",
     "output_type": "stream",
     "text": [
      "\tTotal Loss (NLL + MDMM): -17572.90\n",
      "\tMDMM Loss:               6875.27\n",
      "\tRemaining Weights:       97.57 %\n"
     ]
    },
    {
     "name": "stderr",
     "output_type": "stream",
     "text": [
      "Epoch 130 [Training]: 100%|██████████| 84/84 [00:06<00:00, 13.18it/s, loss=-17524.23, λc2D1=141.42, λd1=85.42, λd2=128.38, λd3=110.18]\n",
      "Epoch 130 [Validation]: 100%|██████████| 21/21 [00:01<00:00, 14.17it/s, loss=-17946.68]\n"
     ]
    },
    {
     "name": "stdout",
     "output_type": "stream",
     "text": [
      "\tTotal Loss (NLL + MDMM): -17574.01\n",
      "\tMDMM Loss:               6900.61\n",
      "\tRemaining Weights:       97.35 %\n"
     ]
    },
    {
     "name": "stderr",
     "output_type": "stream",
     "text": [
      "Epoch 131 [Training]: 100%|██████████| 84/84 [00:06<00:00, 13.26it/s, loss=-17533.33, λc2D1=142.24, λd1=86.16, λd2=129.35, λd3=110.84]\n",
      "Epoch 131 [Validation]: 100%|██████████| 21/21 [00:01<00:00, 14.78it/s, loss=-17960.95]\n"
     ]
    },
    {
     "name": "stdout",
     "output_type": "stream",
     "text": [
      "\tTotal Loss (NLL + MDMM): -17580.73\n",
      "\tMDMM Loss:               6925.99\n",
      "\tRemaining Weights:       97.08 %\n"
     ]
    },
    {
     "name": "stderr",
     "output_type": "stream",
     "text": [
      "Epoch 132 [Training]: 100%|██████████| 84/84 [00:06<00:00, 13.15it/s, loss=-17512.61, λc2D1=143.05, λd1=86.90, λd2=130.33, λd3=111.49]\n",
      "Epoch 132 [Validation]: 100%|██████████| 21/21 [00:01<00:00, 14.57it/s, loss=-17945.46]\n"
     ]
    },
    {
     "name": "stdout",
     "output_type": "stream",
     "text": [
      "\tTotal Loss (NLL + MDMM): -17574.74\n",
      "\tMDMM Loss:               6951.42\n",
      "\tRemaining Weights:       97.02 %\n"
     ]
    },
    {
     "name": "stderr",
     "output_type": "stream",
     "text": [
      "Epoch 133 [Training]: 100%|██████████| 84/84 [00:06<00:00, 13.09it/s, loss=-17527.25, λc2D1=143.87, λd1=87.63, λd2=131.30, λd3=112.15]\n",
      "Epoch 133 [Validation]: 100%|██████████| 21/21 [00:01<00:00, 14.50it/s, loss=-17947.80]\n"
     ]
    },
    {
     "name": "stdout",
     "output_type": "stream",
     "text": [
      "\tTotal Loss (NLL + MDMM): -17570.23\n",
      "\tMDMM Loss:               6976.40\n",
      "\tRemaining Weights:       97.02 %\n"
     ]
    },
    {
     "name": "stderr",
     "output_type": "stream",
     "text": [
      "Epoch 134 [Training]: 100%|██████████| 84/84 [00:06<00:00, 13.34it/s, loss=-17851.08, λc2D1=144.68, λd1=88.37, λd2=132.27, λd3=112.80]\n",
      "Epoch 134 [Validation]: 100%|██████████| 21/21 [00:01<00:00, 14.91it/s, loss=-18267.91]\n"
     ]
    },
    {
     "name": "stdout",
     "output_type": "stream",
     "text": [
      "\tTotal Loss (NLL + MDMM): -17887.46\n",
      "\tMDMM Loss:               6692.50\n",
      "\tRemaining Weights:       97.13 %\n"
     ]
    },
    {
     "name": "stderr",
     "output_type": "stream",
     "text": [
      "Epoch 135 [Training]: 100%|██████████| 84/84 [00:06<00:00, 13.44it/s, loss=-17844.93, λc2D1=145.49, λd1=89.11, λd2=133.24, λd3=113.45]\n",
      "Epoch 135 [Validation]: 100%|██████████| 21/21 [00:01<00:00, 14.85it/s, loss=-18275.64]\n"
     ]
    },
    {
     "name": "stdout",
     "output_type": "stream",
     "text": [
      "\tTotal Loss (NLL + MDMM): -17897.09\n",
      "\tMDMM Loss:               6722.83\n",
      "\tRemaining Weights:       97.19 %\n"
     ]
    },
    {
     "name": "stderr",
     "output_type": "stream",
     "text": [
      "Epoch 136 [Training]: 100%|██████████| 84/84 [00:06<00:00, 13.36it/s, loss=-17845.21, λc2D1=146.31, λd1=89.85, λd2=134.21, λd3=114.10]\n",
      "Epoch 136 [Validation]: 100%|██████████| 21/21 [00:01<00:00, 14.61it/s, loss=-18274.89]\n"
     ]
    },
    {
     "name": "stdout",
     "output_type": "stream",
     "text": [
      "\tTotal Loss (NLL + MDMM): -17893.21\n",
      "\tMDMM Loss:               6751.69\n",
      "\tRemaining Weights:       97.24 %\n"
     ]
    },
    {
     "name": "stderr",
     "output_type": "stream",
     "text": [
      "Epoch 137 [Training]: 100%|██████████| 84/84 [00:06<00:00, 13.35it/s, loss=-17838.90, λc2D1=147.12, λd1=90.60, λd2=135.18, λd3=114.75]\n",
      "Epoch 137 [Validation]: 100%|██████████| 21/21 [00:01<00:00, 14.66it/s, loss=-18272.43]\n"
     ]
    },
    {
     "name": "stdout",
     "output_type": "stream",
     "text": [
      "\tTotal Loss (NLL + MDMM): -17893.67\n",
      "\tMDMM Loss:               6779.57\n",
      "\tRemaining Weights:       96.86 %\n"
     ]
    },
    {
     "name": "stderr",
     "output_type": "stream",
     "text": [
      "Epoch 138 [Training]: 100%|██████████| 84/84 [00:06<00:00, 13.32it/s, loss=-17832.68, λc2D1=147.93, λd1=91.34, λd2=136.15, λd3=115.40]\n",
      "Epoch 138 [Validation]: 100%|██████████| 21/21 [00:01<00:00, 14.65it/s, loss=-18260.24]\n"
     ]
    },
    {
     "name": "stdout",
     "output_type": "stream",
     "text": [
      "\tTotal Loss (NLL + MDMM): -17880.77\n",
      "\tMDMM Loss:               6808.91\n",
      "\tRemaining Weights:       96.80 %\n"
     ]
    },
    {
     "name": "stderr",
     "output_type": "stream",
     "text": [
      "Epoch 139 [Training]: 100%|██████████| 84/84 [00:06<00:00, 13.14it/s, loss=-17819.37, λc2D1=148.74, λd1=92.08, λd2=137.12, λd3=116.04]\n",
      "Epoch 139 [Validation]: 100%|██████████| 21/21 [00:01<00:00, 14.95it/s, loss=-18244.94]\n"
     ]
    },
    {
     "name": "stdout",
     "output_type": "stream",
     "text": [
      "\tTotal Loss (NLL + MDMM): -17866.67\n",
      "\tMDMM Loss:               6837.47\n",
      "\tRemaining Weights:       96.86 %\n"
     ]
    },
    {
     "name": "stderr",
     "output_type": "stream",
     "text": [
      "Epoch 140 [Training]: 100%|██████████| 84/84 [00:06<00:00, 13.13it/s, loss=-17909.19, λc2D1=149.51, λd1=92.82, λd2=138.09, λd3=116.69]\n",
      "Epoch 140 [Validation]: 100%|██████████| 21/21 [00:01<00:00, 14.59it/s, loss=-18334.08]\n"
     ]
    },
    {
     "name": "stdout",
     "output_type": "stream",
     "text": [
      "\tTotal Loss (NLL + MDMM): -17950.77\n",
      "\tMDMM Loss:               6784.85\n",
      "\tRemaining Weights:       96.75 %\n"
     ]
    },
    {
     "name": "stderr",
     "output_type": "stream",
     "text": [
      "Epoch 141 [Training]: 100%|██████████| 84/84 [00:06<00:00, 13.31it/s, loss=-18315.20, λc2D1=150.27, λd1=93.57, λd2=139.06, λd3=117.33]\n",
      "Epoch 141 [Validation]: 100%|██████████| 21/21 [00:01<00:00, 14.77it/s, loss=-18739.29]\n"
     ]
    },
    {
     "name": "stdout",
     "output_type": "stream",
     "text": [
      "\tTotal Loss (NLL + MDMM): -18360.33\n",
      "\tMDMM Loss:               6413.14\n",
      "\tRemaining Weights:       96.80 %\n"
     ]
    },
    {
     "name": "stderr",
     "output_type": "stream",
     "text": [
      "Epoch 142 [Training]: 100%|██████████| 84/84 [00:06<00:00, 13.24it/s, loss=-18324.15, λc2D1=151.02, λd1=94.31, λd2=140.02, λd3=117.97]\n",
      "Epoch 142 [Validation]: 100%|██████████| 21/21 [00:01<00:00, 14.61it/s, loss=-18767.63]\n"
     ]
    },
    {
     "name": "stdout",
     "output_type": "stream",
     "text": [
      "\tTotal Loss (NLL + MDMM): -18382.49\n",
      "\tMDMM Loss:               6439.37\n",
      "\tRemaining Weights:       96.91 %\n"
     ]
    },
    {
     "name": "stderr",
     "output_type": "stream",
     "text": [
      "Epoch 143 [Training]: 100%|██████████| 84/84 [00:06<00:00, 13.34it/s, loss=-18319.82, λc2D1=151.78, λd1=95.06, λd2=140.99, λd3=118.61]\n",
      "Epoch 143 [Validation]: 100%|██████████| 21/21 [00:01<00:00, 14.70it/s, loss=-18746.09]\n"
     ]
    },
    {
     "name": "stdout",
     "output_type": "stream",
     "text": [
      "\tTotal Loss (NLL + MDMM): -18368.08\n",
      "\tMDMM Loss:               6465.73\n",
      "\tRemaining Weights:       96.86 %\n"
     ]
    },
    {
     "name": "stderr",
     "output_type": "stream",
     "text": [
      "Epoch 144 [Training]: 100%|██████████| 84/84 [00:06<00:00, 13.26it/s, loss=-18322.54, λc2D1=152.53, λd1=95.80, λd2=141.96, λd3=119.24]\n",
      "Epoch 144 [Validation]: 100%|██████████| 21/21 [00:01<00:00, 14.98it/s, loss=-18744.15]\n"
     ]
    },
    {
     "name": "stdout",
     "output_type": "stream",
     "text": [
      "\tTotal Loss (NLL + MDMM): -18368.30\n",
      "\tMDMM Loss:               6491.02\n",
      "\tRemaining Weights:       96.75 %\n"
     ]
    },
    {
     "name": "stderr",
     "output_type": "stream",
     "text": [
      "Epoch 145 [Training]: 100%|██████████| 84/84 [00:06<00:00, 13.16it/s, loss=-18333.15, λc2D1=153.28, λd1=96.55, λd2=142.92, λd3=119.88]\n",
      "Epoch 145 [Validation]: 100%|██████████| 21/21 [00:01<00:00, 14.95it/s, loss=-18771.85]\n"
     ]
    },
    {
     "name": "stdout",
     "output_type": "stream",
     "text": [
      "\tTotal Loss (NLL + MDMM): -18390.66\n",
      "\tMDMM Loss:               6516.97\n",
      "\tRemaining Weights:       96.80 %\n"
     ]
    },
    {
     "name": "stderr",
     "output_type": "stream",
     "text": [
      "Epoch 146 [Training]: 100%|██████████| 84/84 [00:06<00:00, 13.53it/s, loss=-18343.20, λc2D1=154.04, λd1=97.29, λd2=143.88, λd3=120.51]\n",
      "Epoch 146 [Validation]: 100%|██████████| 21/21 [00:01<00:00, 14.94it/s, loss=-18776.57]\n"
     ]
    },
    {
     "name": "stdout",
     "output_type": "stream",
     "text": [
      "\tTotal Loss (NLL + MDMM): -18392.71\n",
      "\tMDMM Loss:               6541.33\n",
      "\tRemaining Weights:       96.58 %\n"
     ]
    },
    {
     "name": "stderr",
     "output_type": "stream",
     "text": [
      "Epoch 147 [Training]: 100%|██████████| 84/84 [00:06<00:00, 13.15it/s, loss=-18339.64, λc2D1=154.79, λd1=98.04, λd2=144.85, λd3=121.15]\n",
      "Epoch 147 [Validation]: 100%|██████████| 21/21 [00:01<00:00, 14.16it/s, loss=-18767.30]\n"
     ]
    },
    {
     "name": "stdout",
     "output_type": "stream",
     "text": [
      "\tTotal Loss (NLL + MDMM): -18380.03\n",
      "\tMDMM Loss:               6566.95\n",
      "\tRemaining Weights:       96.41 %\n"
     ]
    },
    {
     "name": "stderr",
     "output_type": "stream",
     "text": [
      "Epoch 148 [Training]: 100%|██████████| 84/84 [00:06<00:00, 13.18it/s, loss=-18329.69, λc2D1=155.54, λd1=98.79, λd2=145.81, λd3=121.78]\n",
      "Epoch 148 [Validation]: 100%|██████████| 21/21 [00:01<00:00, 14.88it/s, loss=-18751.59]\n"
     ]
    },
    {
     "name": "stdout",
     "output_type": "stream",
     "text": [
      "\tTotal Loss (NLL + MDMM): -18381.36\n",
      "\tMDMM Loss:               6595.12\n",
      "\tRemaining Weights:       96.47 %\n"
     ]
    },
    {
     "name": "stderr",
     "output_type": "stream",
     "text": [
      "Epoch 149 [Training]: 100%|██████████| 84/84 [00:06<00:00, 13.08it/s, loss=-18346.25, λc2D1=156.29, λd1=99.54, λd2=146.77, λd3=122.41]\n",
      "Epoch 149 [Validation]: 100%|██████████| 21/21 [00:01<00:00, 14.88it/s, loss=-18771.81]\n"
     ]
    },
    {
     "name": "stdout",
     "output_type": "stream",
     "text": [
      "\tTotal Loss (NLL + MDMM): -18394.26\n",
      "\tMDMM Loss:               6620.44\n",
      "\tRemaining Weights:       96.19 %\n"
     ]
    },
    {
     "name": "stderr",
     "output_type": "stream",
     "text": [
      "Epoch 150 [Training]: 100%|██████████| 84/84 [00:06<00:00, 13.25it/s, loss=-18355.11, λc2D1=157.04, λd1=100.28, λd2=147.73, λd3=123.03]\n",
      "Epoch 150 [Validation]: 100%|██████████| 21/21 [00:01<00:00, 13.93it/s, loss=-18786.85]\n"
     ]
    },
    {
     "name": "stdout",
     "output_type": "stream",
     "text": [
      "\tTotal Loss (NLL + MDMM): -18407.70\n",
      "\tMDMM Loss:               6646.80\n",
      "\tRemaining Weights:       96.30 %\n"
     ]
    },
    {
     "name": "stderr",
     "output_type": "stream",
     "text": [
      "Epoch 151 [Training]: 100%|██████████| 84/84 [00:06<00:00, 13.19it/s, loss=-18343.71, λc2D1=157.79, λd1=101.03, λd2=148.69, λd3=123.66]\n",
      "Epoch 151 [Validation]: 100%|██████████| 21/21 [00:01<00:00, 14.80it/s, loss=-18759.46]\n"
     ]
    },
    {
     "name": "stdout",
     "output_type": "stream",
     "text": [
      "\tTotal Loss (NLL + MDMM): -18386.62\n",
      "\tMDMM Loss:               6674.53\n",
      "\tRemaining Weights:       96.53 %\n"
     ]
    },
    {
     "name": "stderr",
     "output_type": "stream",
     "text": [
      "Epoch 152 [Training]: 100%|██████████| 84/84 [00:06<00:00, 13.18it/s, loss=-18337.54, λc2D1=158.54, λd1=101.78, λd2=149.65, λd3=124.29]\n",
      "Epoch 152 [Validation]: 100%|██████████| 21/21 [00:01<00:00, 14.66it/s, loss=-18761.32]\n"
     ]
    },
    {
     "name": "stdout",
     "output_type": "stream",
     "text": [
      "\tTotal Loss (NLL + MDMM): -18395.54\n",
      "\tMDMM Loss:               6702.98\n",
      "\tRemaining Weights:       96.58 %\n"
     ]
    },
    {
     "name": "stderr",
     "output_type": "stream",
     "text": [
      "Epoch 153 [Training]: 100%|██████████| 84/84 [00:06<00:00, 13.08it/s, loss=-18346.68, λc2D1=159.29, λd1=102.53, λd2=150.61, λd3=124.91]\n",
      "Epoch 153 [Validation]: 100%|██████████| 21/21 [00:01<00:00, 14.83it/s, loss=-18777.29]\n"
     ]
    },
    {
     "name": "stdout",
     "output_type": "stream",
     "text": [
      "\tTotal Loss (NLL + MDMM): -18404.04\n",
      "\tMDMM Loss:               6728.54\n",
      "\tRemaining Weights:       96.36 %\n"
     ]
    },
    {
     "name": "stderr",
     "output_type": "stream",
     "text": [
      "Epoch 154 [Training]: 100%|██████████| 84/84 [00:06<00:00, 13.28it/s, loss=-18346.72, λc2D1=160.03, λd1=103.28, λd2=151.56, λd3=125.53]\n",
      "Epoch 154 [Validation]: 100%|██████████| 21/21 [00:01<00:00, 14.62it/s, loss=-18787.90]\n"
     ]
    },
    {
     "name": "stdout",
     "output_type": "stream",
     "text": [
      "\tTotal Loss (NLL + MDMM): -18402.02\n",
      "\tMDMM Loss:               6754.24\n",
      "\tRemaining Weights:       96.03 %\n"
     ]
    },
    {
     "name": "stderr",
     "output_type": "stream",
     "text": [
      "Epoch 155 [Training]: 100%|██████████| 84/84 [00:06<00:00, 13.26it/s, loss=-18348.60, λc2D1=160.78, λd1=104.03, λd2=152.52, λd3=126.15]\n",
      "Epoch 155 [Validation]: 100%|██████████| 21/21 [00:01<00:00, 14.51it/s, loss=-18775.53]\n"
     ]
    },
    {
     "name": "stdout",
     "output_type": "stream",
     "text": [
      "\tTotal Loss (NLL + MDMM): -18401.97\n",
      "\tMDMM Loss:               6782.43\n",
      "\tRemaining Weights:       95.97 %\n"
     ]
    },
    {
     "name": "stderr",
     "output_type": "stream",
     "text": [
      "Epoch 156 [Training]: 100%|██████████| 84/84 [00:06<00:00, 13.41it/s, loss=-18361.37, λc2D1=161.53, λd1=104.79, λd2=153.48, λd3=126.77]\n",
      "Epoch 156 [Validation]: 100%|██████████| 21/21 [00:01<00:00, 14.86it/s, loss=-18791.50]\n"
     ]
    },
    {
     "name": "stdout",
     "output_type": "stream",
     "text": [
      "\tTotal Loss (NLL + MDMM): -18414.14\n",
      "\tMDMM Loss:               6809.75\n",
      "\tRemaining Weights:       95.97 %\n"
     ]
    },
    {
     "name": "stderr",
     "output_type": "stream",
     "text": [
      "Epoch 157 [Training]: 100%|██████████| 84/84 [00:06<00:00, 13.38it/s, loss=-18359.98, λc2D1=162.27, λd1=105.54, λd2=154.43, λd3=127.39]\n",
      "Epoch 157 [Validation]: 100%|██████████| 21/21 [00:01<00:00, 14.58it/s, loss=-18787.46]\n"
     ]
    },
    {
     "name": "stdout",
     "output_type": "stream",
     "text": [
      "\tTotal Loss (NLL + MDMM): -18413.03\n",
      "\tMDMM Loss:               6837.75\n",
      "\tRemaining Weights:       96.14 %\n"
     ]
    },
    {
     "name": "stderr",
     "output_type": "stream",
     "text": [
      "Epoch 158 [Training]: 100%|██████████| 84/84 [00:06<00:00, 13.30it/s, loss=-18355.31, λc2D1=163.02, λd1=106.29, λd2=155.38, λd3=128.00]\n",
      "Epoch 158 [Validation]: 100%|██████████| 21/21 [00:01<00:00, 14.78it/s, loss=-18786.43]\n"
     ]
    },
    {
     "name": "stdout",
     "output_type": "stream",
     "text": [
      "\tTotal Loss (NLL + MDMM): -18414.42\n",
      "\tMDMM Loss:               6866.11\n",
      "\tRemaining Weights:       96.25 %\n"
     ]
    },
    {
     "name": "stderr",
     "output_type": "stream",
     "text": [
      "Epoch 159 [Training]: 100%|██████████| 84/84 [00:06<00:00, 13.24it/s, loss=-18350.88, λc2D1=163.76, λd1=107.04, λd2=156.34, λd3=128.62]\n",
      "Epoch 159 [Validation]: 100%|██████████| 21/21 [00:01<00:00, 14.84it/s, loss=-18755.11]\n"
     ]
    },
    {
     "name": "stdout",
     "output_type": "stream",
     "text": [
      "\tTotal Loss (NLL + MDMM): -18388.73\n",
      "\tMDMM Loss:               6893.45\n",
      "\tRemaining Weights:       96.19 %\n"
     ]
    },
    {
     "name": "stderr",
     "output_type": "stream",
     "text": [
      "Epoch 160 [Training]: 100%|██████████| 84/84 [00:06<00:00, 12.45it/s, loss=-18359.53, λc2D1=164.50, λd1=107.80, λd2=157.29, λd3=129.23]\n",
      "Epoch 160 [Validation]: 100%|██████████| 21/21 [00:01<00:00, 14.40it/s, loss=-18799.36]\n"
     ]
    },
    {
     "name": "stdout",
     "output_type": "stream",
     "text": [
      "\tTotal Loss (NLL + MDMM): -18426.46\n",
      "\tMDMM Loss:               6920.05\n",
      "\tRemaining Weights:       96.19 %\n"
     ]
    },
    {
     "name": "stderr",
     "output_type": "stream",
     "text": [
      "Epoch 161 [Training]: 100%|██████████| 84/84 [00:06<00:00, 13.21it/s, loss=-18364.63, λc2D1=165.24, λd1=108.55, λd2=158.24, λd3=129.84]\n",
      "Epoch 161 [Validation]: 100%|██████████| 21/21 [00:01<00:00, 14.80it/s, loss=-18785.68]\n"
     ]
    },
    {
     "name": "stdout",
     "output_type": "stream",
     "text": [
      "\tTotal Loss (NLL + MDMM): -18415.54\n",
      "\tMDMM Loss:               6947.50\n",
      "\tRemaining Weights:       96.14 %\n"
     ]
    },
    {
     "name": "stderr",
     "output_type": "stream",
     "text": [
      "Epoch 162 [Training]: 100%|██████████| 84/84 [00:06<00:00, 13.05it/s, loss=-18369.48, λc2D1=165.98, λd1=109.31, λd2=159.19, λd3=130.45]\n",
      "Epoch 162 [Validation]: 100%|██████████| 21/21 [00:01<00:00, 14.95it/s, loss=-18815.63]\n"
     ]
    },
    {
     "name": "stdout",
     "output_type": "stream",
     "text": [
      "\tTotal Loss (NLL + MDMM): -18439.64\n",
      "\tMDMM Loss:               6975.98\n",
      "\tRemaining Weights:       96.03 %\n"
     ]
    },
    {
     "name": "stderr",
     "output_type": "stream",
     "text": [
      "Epoch 163 [Training]: 100%|██████████| 84/84 [00:06<00:00, 13.14it/s, loss=-18367.11, λc2D1=166.72, λd1=110.06, λd2=160.14, λd3=131.06]\n",
      "Epoch 163 [Validation]: 100%|██████████| 21/21 [00:01<00:00, 14.62it/s, loss=-18792.43]\n"
     ]
    },
    {
     "name": "stdout",
     "output_type": "stream",
     "text": [
      "\tTotal Loss (NLL + MDMM): -18424.68\n",
      "\tMDMM Loss:               7005.11\n",
      "\tRemaining Weights:       96.03 %\n"
     ]
    },
    {
     "name": "stderr",
     "output_type": "stream",
     "text": [
      "Epoch 164 [Training]: 100%|██████████| 84/84 [00:06<00:00, 13.13it/s, loss=-18358.85, λc2D1=167.46, λd1=110.82, λd2=161.09, λd3=131.67]\n",
      "Epoch 164 [Validation]: 100%|██████████| 21/21 [00:01<00:00, 14.91it/s, loss=-18792.92]\n"
     ]
    },
    {
     "name": "stdout",
     "output_type": "stream",
     "text": [
      "\tTotal Loss (NLL + MDMM): -18421.90\n",
      "\tMDMM Loss:               7031.89\n",
      "\tRemaining Weights:       96.03 %\n"
     ]
    },
    {
     "name": "stderr",
     "output_type": "stream",
     "text": [
      "Epoch 165 [Training]: 100%|██████████| 84/84 [00:06<00:00, 13.36it/s, loss=-18356.82, λc2D1=168.20, λd1=111.57, λd2=162.04, λd3=132.27]\n",
      "Epoch 165 [Validation]: 100%|██████████| 21/21 [00:01<00:00, 14.11it/s, loss=-18773.55]\n"
     ]
    },
    {
     "name": "stdout",
     "output_type": "stream",
     "text": [
      "\tTotal Loss (NLL + MDMM): -18405.10\n",
      "\tMDMM Loss:               7060.05\n",
      "\tRemaining Weights:       96.08 %\n"
     ]
    },
    {
     "name": "stderr",
     "output_type": "stream",
     "text": [
      "Epoch 166 [Training]: 100%|██████████| 84/84 [00:06<00:00, 13.25it/s, loss=-18356.06, λc2D1=168.93, λd1=112.33, λd2=162.99, λd3=132.88]\n",
      "Epoch 166 [Validation]: 100%|██████████| 21/21 [00:01<00:00, 14.61it/s, loss=-18776.18]\n"
     ]
    },
    {
     "name": "stdout",
     "output_type": "stream",
     "text": [
      "\tTotal Loss (NLL + MDMM): -18413.10\n",
      "\tMDMM Loss:               7088.04\n",
      "\tRemaining Weights:       95.86 %\n"
     ]
    },
    {
     "name": "stderr",
     "output_type": "stream",
     "text": [
      "Epoch 167 [Training]: 100%|██████████| 84/84 [00:06<00:00, 13.27it/s, loss=-18354.87, λc2D1=169.67, λd1=113.08, λd2=163.94, λd3=133.48]\n",
      "Epoch 167 [Validation]: 100%|██████████| 21/21 [00:01<00:00, 13.33it/s, loss=-18775.91]\n"
     ]
    },
    {
     "name": "stdout",
     "output_type": "stream",
     "text": [
      "\tTotal Loss (NLL + MDMM): -18414.54\n",
      "\tMDMM Loss:               7116.68\n",
      "\tRemaining Weights:       95.70 %\n"
     ]
    },
    {
     "name": "stderr",
     "output_type": "stream",
     "text": [
      "Epoch 168 [Training]: 100%|██████████| 84/84 [00:06<00:00, 13.33it/s, loss=-18362.84, λc2D1=170.40, λd1=113.84, λd2=164.88, λd3=134.08]\n",
      "Epoch 168 [Validation]: 100%|██████████| 21/21 [00:01<00:00, 14.61it/s, loss=-18777.95]\n"
     ]
    },
    {
     "name": "stdout",
     "output_type": "stream",
     "text": [
      "\tTotal Loss (NLL + MDMM): -18411.87\n",
      "\tMDMM Loss:               7144.68\n",
      "\tRemaining Weights:       95.81 %\n"
     ]
    },
    {
     "name": "stderr",
     "output_type": "stream",
     "text": [
      "Epoch 169 [Training]: 100%|██████████| 84/84 [00:06<00:00, 13.25it/s, loss=-18347.55, λc2D1=171.14, λd1=114.60, λd2=165.83, λd3=134.69]\n",
      "Epoch 169 [Validation]: 100%|██████████| 21/21 [00:01<00:00, 14.72it/s, loss=-18775.72]\n"
     ]
    },
    {
     "name": "stdout",
     "output_type": "stream",
     "text": [
      "\tTotal Loss (NLL + MDMM): -18412.26\n",
      "\tMDMM Loss:               7172.08\n",
      "\tRemaining Weights:       95.53 %\n"
     ]
    },
    {
     "name": "stderr",
     "output_type": "stream",
     "text": [
      "Epoch 170 [Training]: 100%|██████████| 84/84 [00:06<00:00, 13.34it/s, loss=-18358.58, λc2D1=171.87, λd1=115.36, λd2=166.77, λd3=135.29]\n",
      "Epoch 170 [Validation]: 100%|██████████| 21/21 [00:01<00:00, 14.50it/s, loss=-18776.38]\n"
     ]
    },
    {
     "name": "stdout",
     "output_type": "stream",
     "text": [
      "\tTotal Loss (NLL + MDMM): -18412.72\n",
      "\tMDMM Loss:               7200.51\n",
      "\tRemaining Weights:       95.48 %\n"
     ]
    },
    {
     "name": "stderr",
     "output_type": "stream",
     "text": [
      "Epoch 171 [Training]: 100%|██████████| 84/84 [00:06<00:00, 13.34it/s, loss=-18338.68, λc2D1=172.60, λd1=116.11, λd2=167.72, λd3=135.89]\n",
      "Epoch 171 [Validation]: 100%|██████████| 21/21 [00:01<00:00, 15.04it/s, loss=-18779.01]\n"
     ]
    },
    {
     "name": "stdout",
     "output_type": "stream",
     "text": [
      "\tTotal Loss (NLL + MDMM): -18414.24\n",
      "\tMDMM Loss:               7227.81\n",
      "\tRemaining Weights:       95.48 %\n"
     ]
    },
    {
     "name": "stderr",
     "output_type": "stream",
     "text": [
      "Epoch 172 [Training]: 100%|██████████| 84/84 [00:06<00:00, 13.28it/s, loss=-18345.91, λc2D1=173.33, λd1=116.87, λd2=168.66, λd3=136.48]\n",
      "Epoch 172 [Validation]: 100%|██████████| 21/21 [00:01<00:00, 14.89it/s, loss=-18784.72]\n"
     ]
    },
    {
     "name": "stdout",
     "output_type": "stream",
     "text": [
      "\tTotal Loss (NLL + MDMM): -18418.14\n",
      "\tMDMM Loss:               7256.74\n",
      "\tRemaining Weights:       95.42 %\n"
     ]
    },
    {
     "name": "stderr",
     "output_type": "stream",
     "text": [
      "Epoch 173 [Training]: 100%|██████████| 84/84 [00:06<00:00, 13.23it/s, loss=-18353.97, λc2D1=174.06, λd1=117.63, λd2=169.60, λd3=137.08]\n",
      "Epoch 173 [Validation]: 100%|██████████| 21/21 [00:01<00:00, 14.77it/s, loss=-18786.47]\n"
     ]
    },
    {
     "name": "stdout",
     "output_type": "stream",
     "text": [
      "\tTotal Loss (NLL + MDMM): -18417.06\n",
      "\tMDMM Loss:               7286.20\n",
      "\tRemaining Weights:       95.64 %\n"
     ]
    },
    {
     "name": "stderr",
     "output_type": "stream",
     "text": [
      "Epoch 174 [Training]: 100%|██████████| 84/84 [00:06<00:00, 13.27it/s, loss=-18348.62, λc2D1=174.78, λd1=118.39, λd2=170.55, λd3=137.68]\n",
      "Epoch 174 [Validation]: 100%|██████████| 21/21 [00:01<00:00, 14.52it/s, loss=-18783.53]\n"
     ]
    },
    {
     "name": "stdout",
     "output_type": "stream",
     "text": [
      "\tTotal Loss (NLL + MDMM): -18417.67\n",
      "\tMDMM Loss:               7313.83\n",
      "\tRemaining Weights:       95.48 %\n"
     ]
    },
    {
     "name": "stderr",
     "output_type": "stream",
     "text": [
      "Epoch 175 [Training]: 100%|██████████| 84/84 [00:06<00:00, 12.92it/s, loss=-18321.38, λc2D1=175.51, λd1=119.15, λd2=171.49, λd3=138.28]\n",
      "Epoch 175 [Validation]: 100%|██████████| 21/21 [00:01<00:00, 13.83it/s, loss=-18779.36]\n"
     ]
    },
    {
     "name": "stdout",
     "output_type": "stream",
     "text": [
      "\tTotal Loss (NLL + MDMM): -18411.68\n",
      "\tMDMM Loss:               7341.73\n",
      "\tRemaining Weights:       95.37 %\n"
     ]
    },
    {
     "name": "stderr",
     "output_type": "stream",
     "text": [
      "Epoch 176 [Training]: 100%|██████████| 84/84 [00:06<00:00, 13.20it/s, loss=-18346.10, λc2D1=176.24, λd1=119.91, λd2=172.43, λd3=138.87]\n",
      "Epoch 176 [Validation]: 100%|██████████| 21/21 [00:01<00:00, 14.96it/s, loss=-18789.60]\n"
     ]
    },
    {
     "name": "stdout",
     "output_type": "stream",
     "text": [
      "\tTotal Loss (NLL + MDMM): -18419.66\n",
      "\tMDMM Loss:               7369.33\n",
      "\tRemaining Weights:       95.48 %\n"
     ]
    },
    {
     "name": "stderr",
     "output_type": "stream",
     "text": [
      "Epoch 177 [Training]: 100%|██████████| 84/84 [00:06<00:00, 13.25it/s, loss=-18337.98, λc2D1=176.96, λd1=120.67, λd2=173.37, λd3=139.46]\n",
      "Epoch 177 [Validation]: 100%|██████████| 21/21 [00:01<00:00, 14.74it/s, loss=-18757.00]\n"
     ]
    },
    {
     "name": "stdout",
     "output_type": "stream",
     "text": [
      "\tTotal Loss (NLL + MDMM): -18397.78\n",
      "\tMDMM Loss:               7397.33\n",
      "\tRemaining Weights:       95.70 %\n"
     ]
    },
    {
     "name": "stderr",
     "output_type": "stream",
     "text": [
      "Epoch 178 [Training]: 100%|██████████| 84/84 [00:06<00:00, 13.22it/s, loss=-18340.94, λc2D1=177.68, λd1=121.43, λd2=174.31, λd3=140.06]\n",
      "Epoch 178 [Validation]: 100%|██████████| 21/21 [00:01<00:00, 14.73it/s, loss=-18780.73]\n"
     ]
    },
    {
     "name": "stdout",
     "output_type": "stream",
     "text": [
      "\tTotal Loss (NLL + MDMM): -18413.68\n",
      "\tMDMM Loss:               7425.69\n",
      "\tRemaining Weights:       95.70 %\n"
     ]
    },
    {
     "name": "stderr",
     "output_type": "stream",
     "text": [
      "Epoch 179 [Training]: 100%|██████████| 84/84 [00:06<00:00, 13.10it/s, loss=-18326.86, λc2D1=178.41, λd1=122.20, λd2=175.25, λd3=140.65]\n",
      "Epoch 179 [Validation]: 100%|██████████| 21/21 [00:01<00:00, 14.15it/s, loss=-18773.61]\n"
     ]
    },
    {
     "name": "stdout",
     "output_type": "stream",
     "text": [
      "\tTotal Loss (NLL + MDMM): -18405.02\n",
      "\tMDMM Loss:               7453.80\n",
      "\tRemaining Weights:       95.70 %\n"
     ]
    },
    {
     "name": "stderr",
     "output_type": "stream",
     "text": [
      "Epoch 180 [Training]: 100%|██████████| 84/84 [00:06<00:00, 13.01it/s, loss=-18338.09, λc2D1=179.13, λd1=122.96, λd2=176.19, λd3=141.24]\n",
      "Epoch 180 [Validation]: 100%|██████████| 21/21 [00:01<00:00, 14.07it/s, loss=-18774.67]\n"
     ]
    },
    {
     "name": "stdout",
     "output_type": "stream",
     "text": [
      "\tTotal Loss (NLL + MDMM): -18405.01\n",
      "\tMDMM Loss:               7480.17\n",
      "\tRemaining Weights:       95.53 %\n"
     ]
    },
    {
     "name": "stderr",
     "output_type": "stream",
     "text": [
      "Epoch 181 [Training]: 100%|██████████| 84/84 [00:06<00:00, 13.14it/s, loss=-18331.18, λc2D1=179.85, λd1=123.72, λd2=177.13, λd3=141.83]\n",
      "Epoch 181 [Validation]: 100%|██████████| 21/21 [00:01<00:00, 15.08it/s, loss=-18768.90]\n"
     ]
    },
    {
     "name": "stdout",
     "output_type": "stream",
     "text": [
      "\tTotal Loss (NLL + MDMM): -18395.88\n",
      "\tMDMM Loss:               7508.01\n",
      "\tRemaining Weights:       95.42 %\n"
     ]
    },
    {
     "name": "stderr",
     "output_type": "stream",
     "text": [
      "Epoch 182 [Training]: 100%|██████████| 84/84 [00:06<00:00, 13.35it/s, loss=-18306.77, λc2D1=180.57, λd1=124.48, λd2=178.07, λd3=142.42]\n",
      "Epoch 182 [Validation]: 100%|██████████| 21/21 [00:01<00:00, 14.69it/s, loss=-18757.65]\n"
     ]
    },
    {
     "name": "stdout",
     "output_type": "stream",
     "text": [
      "\tTotal Loss (NLL + MDMM): -18395.50\n",
      "\tMDMM Loss:               7535.93\n",
      "\tRemaining Weights:       95.42 %\n"
     ]
    },
    {
     "name": "stderr",
     "output_type": "stream",
     "text": [
      "Epoch 183 [Training]: 100%|██████████| 84/84 [00:06<00:00, 13.24it/s, loss=-18311.98, λc2D1=181.28, λd1=125.25, λd2=179.00, λd3=143.00]\n",
      "Epoch 183 [Validation]: 100%|██████████| 21/21 [00:01<00:00, 14.49it/s, loss=-18749.20]\n"
     ]
    },
    {
     "name": "stdout",
     "output_type": "stream",
     "text": [
      "\tTotal Loss (NLL + MDMM): -18384.75\n",
      "\tMDMM Loss:               7563.05\n",
      "\tRemaining Weights:       95.37 %\n"
     ]
    },
    {
     "name": "stderr",
     "output_type": "stream",
     "text": [
      "Epoch 184 [Training]: 100%|██████████| 84/84 [00:06<00:00, 13.39it/s, loss=-18312.83, λc2D1=182.00, λd1=126.01, λd2=179.94, λd3=143.59]\n",
      "Epoch 184 [Validation]: 100%|██████████| 21/21 [00:01<00:00, 14.90it/s, loss=-18744.77]\n"
     ]
    },
    {
     "name": "stdout",
     "output_type": "stream",
     "text": [
      "\tTotal Loss (NLL + MDMM): -18378.61\n",
      "\tMDMM Loss:               7588.76\n",
      "\tRemaining Weights:       95.09 %\n"
     ]
    },
    {
     "name": "stderr",
     "output_type": "stream",
     "text": [
      "Epoch 185 [Training]: 100%|██████████| 84/84 [00:06<00:00, 13.19it/s, loss=-18314.18, λc2D1=182.71, λd1=126.77, λd2=180.88, λd3=144.17]\n",
      "Epoch 185 [Validation]: 100%|██████████| 21/21 [00:01<00:00, 14.96it/s, loss=-18770.83]\n"
     ]
    },
    {
     "name": "stdout",
     "output_type": "stream",
     "text": [
      "\tTotal Loss (NLL + MDMM): -18398.17\n",
      "\tMDMM Loss:               7617.74\n",
      "\tRemaining Weights:       95.37 %\n"
     ]
    },
    {
     "name": "stderr",
     "output_type": "stream",
     "text": [
      "Epoch 186 [Training]: 100%|██████████| 84/84 [00:06<00:00, 13.36it/s, loss=-18313.75, λc2D1=183.43, λd1=127.54, λd2=181.81, λd3=144.76]\n",
      "Epoch 186 [Validation]: 100%|██████████| 21/21 [00:01<00:00, 14.48it/s, loss=-18773.58]\n"
     ]
    },
    {
     "name": "stdout",
     "output_type": "stream",
     "text": [
      "\tTotal Loss (NLL + MDMM): -18402.94\n",
      "\tMDMM Loss:               7642.66\n",
      "\tRemaining Weights:       95.31 %\n"
     ]
    },
    {
     "name": "stderr",
     "output_type": "stream",
     "text": [
      "Epoch 187 [Training]: 100%|██████████| 84/84 [00:06<00:00, 13.14it/s, loss=-18315.61, λc2D1=184.14, λd1=128.30, λd2=182.75, λd3=145.34]\n",
      "Epoch 187 [Validation]: 100%|██████████| 21/21 [00:01<00:00, 14.82it/s, loss=-18769.04]\n"
     ]
    },
    {
     "name": "stdout",
     "output_type": "stream",
     "text": [
      "\tTotal Loss (NLL + MDMM): -18396.57\n",
      "\tMDMM Loss:               7671.06\n",
      "\tRemaining Weights:       95.26 %\n"
     ]
    },
    {
     "name": "stderr",
     "output_type": "stream",
     "text": [
      "Epoch 188 [Training]: 100%|██████████| 84/84 [00:06<00:00, 13.26it/s, loss=-18302.47, λc2D1=184.85, λd1=129.07, λd2=183.68, λd3=145.92]\n",
      "Epoch 188 [Validation]: 100%|██████████| 21/21 [00:01<00:00, 14.97it/s, loss=-18749.34]\n"
     ]
    },
    {
     "name": "stdout",
     "output_type": "stream",
     "text": [
      "\tTotal Loss (NLL + MDMM): -18381.55\n",
      "\tMDMM Loss:               7697.05\n",
      "\tRemaining Weights:       95.20 %\n"
     ]
    },
    {
     "name": "stderr",
     "output_type": "stream",
     "text": [
      "Epoch 189 [Training]: 100%|██████████| 84/84 [00:06<00:00, 13.05it/s, loss=-18296.00, λc2D1=185.56, λd1=129.83, λd2=184.61, λd3=146.50]\n",
      "Epoch 189 [Validation]: 100%|██████████| 21/21 [00:01<00:00, 13.83it/s, loss=-18746.12]\n"
     ]
    },
    {
     "name": "stdout",
     "output_type": "stream",
     "text": [
      "\tTotal Loss (NLL + MDMM): -18377.16\n",
      "\tMDMM Loss:               7723.02\n",
      "\tRemaining Weights:       95.15 %\n"
     ]
    },
    {
     "name": "stderr",
     "output_type": "stream",
     "text": [
      "Epoch 190 [Training]: 100%|██████████| 84/84 [00:06<00:00, 13.22it/s, loss=-18282.07, λc2D1=186.27, λd1=130.60, λd2=185.55, λd3=147.08]\n",
      "Epoch 190 [Validation]: 100%|██████████| 21/21 [00:01<00:00, 14.75it/s, loss=-18691.12]\n"
     ]
    },
    {
     "name": "stdout",
     "output_type": "stream",
     "text": [
      "\tTotal Loss (NLL + MDMM): -18326.52\n",
      "\tMDMM Loss:               7749.50\n",
      "\tRemaining Weights:       95.04 %\n"
     ]
    },
    {
     "name": "stderr",
     "output_type": "stream",
     "text": [
      "Epoch 191 [Training]: 100%|██████████| 84/84 [00:06<00:00, 13.13it/s, loss=-18297.36, λc2D1=186.98, λd1=131.36, λd2=186.48, λd3=147.66]\n",
      "Epoch 191 [Validation]: 100%|██████████| 21/21 [00:01<00:00, 14.83it/s, loss=-18749.86]\n"
     ]
    },
    {
     "name": "stdout",
     "output_type": "stream",
     "text": [
      "\tTotal Loss (NLL + MDMM): -18375.45\n",
      "\tMDMM Loss:               7775.71\n",
      "\tRemaining Weights:       95.20 %\n"
     ]
    },
    {
     "name": "stderr",
     "output_type": "stream",
     "text": [
      "Epoch 192 [Training]: 100%|██████████| 84/84 [00:06<00:00, 13.35it/s, loss=-18274.88, λc2D1=187.68, λd1=132.13, λd2=187.41, λd3=148.24]\n",
      "Epoch 192 [Validation]: 100%|██████████| 21/21 [00:01<00:00, 14.61it/s, loss=-18741.30]\n"
     ]
    },
    {
     "name": "stdout",
     "output_type": "stream",
     "text": [
      "\tTotal Loss (NLL + MDMM): -18369.65\n",
      "\tMDMM Loss:               7801.78\n",
      "\tRemaining Weights:       95.04 %\n"
     ]
    },
    {
     "name": "stderr",
     "output_type": "stream",
     "text": [
      "Epoch 193 [Training]: 100%|██████████| 84/84 [00:06<00:00, 13.11it/s, loss=-18263.51, λc2D1=188.39, λd1=132.89, λd2=188.34, λd3=148.81]\n",
      "Epoch 193 [Validation]: 100%|██████████| 21/21 [00:01<00:00, 14.70it/s, loss=-18736.59]\n"
     ]
    },
    {
     "name": "stdout",
     "output_type": "stream",
     "text": [
      "\tTotal Loss (NLL + MDMM): -18363.48\n",
      "\tMDMM Loss:               7828.13\n",
      "\tRemaining Weights:       95.09 %\n"
     ]
    },
    {
     "name": "stderr",
     "output_type": "stream",
     "text": [
      "Epoch 194 [Training]: 100%|██████████| 84/84 [00:06<00:00, 13.21it/s, loss=-18387.45, λc2D1=189.07, λd1=133.66, λd2=189.27, λd3=149.39]\n",
      "Epoch 194 [Validation]: 100%|██████████| 21/21 [00:01<00:00, 14.62it/s, loss=-18852.45]\n"
     ]
    },
    {
     "name": "stdout",
     "output_type": "stream",
     "text": [
      "\tTotal Loss (NLL + MDMM): -18477.79\n",
      "\tMDMM Loss:               7753.01\n",
      "\tRemaining Weights:       95.09 %\n"
     ]
    },
    {
     "name": "stderr",
     "output_type": "stream",
     "text": [
      "Epoch 195 [Training]: 100%|██████████| 84/84 [00:06<00:00, 13.26it/s, loss=-18372.48, λc2D1=189.72, λd1=134.43, λd2=190.20, λd3=149.96]\n",
      "Epoch 195 [Validation]: 100%|██████████| 21/21 [00:01<00:00, 14.94it/s, loss=-18825.94]\n"
     ]
    },
    {
     "name": "stdout",
     "output_type": "stream",
     "text": [
      "\tTotal Loss (NLL + MDMM): -18454.57\n",
      "\tMDMM Loss:               7778.79\n",
      "\tRemaining Weights:       94.93 %\n"
     ]
    },
    {
     "name": "stderr",
     "output_type": "stream",
     "text": [
      "Epoch 196 [Training]: 100%|██████████| 84/84 [00:06<00:00, 13.22it/s, loss=-18381.62, λc2D1=190.36, λd1=135.19, λd2=191.13, λd3=150.54]\n",
      "Epoch 196 [Validation]: 100%|██████████| 21/21 [00:01<00:00, 14.95it/s, loss=-18847.12]\n"
     ]
    },
    {
     "name": "stdout",
     "output_type": "stream",
     "text": [
      "\tTotal Loss (NLL + MDMM): -18468.55\n",
      "\tMDMM Loss:               7805.03\n",
      "\tRemaining Weights:       95.15 %\n"
     ]
    },
    {
     "name": "stderr",
     "output_type": "stream",
     "text": [
      "Epoch 197 [Training]: 100%|██████████| 84/84 [00:06<00:00, 13.41it/s, loss=-18367.86, λc2D1=191.01, λd1=135.96, λd2=192.06, λd3=151.11]\n",
      "Epoch 197 [Validation]: 100%|██████████| 21/21 [00:01<00:00, 15.03it/s, loss=-18832.46]\n"
     ]
    },
    {
     "name": "stdout",
     "output_type": "stream",
     "text": [
      "\tTotal Loss (NLL + MDMM): -18453.65\n",
      "\tMDMM Loss:               7830.92\n",
      "\tRemaining Weights:       94.98 %\n"
     ]
    },
    {
     "name": "stderr",
     "output_type": "stream",
     "text": [
      "Epoch 198 [Training]: 100%|██████████| 84/84 [00:06<00:00, 13.16it/s, loss=-18363.98, λc2D1=191.65, λd1=136.73, λd2=192.98, λd3=151.68]\n",
      "Epoch 198 [Validation]: 100%|██████████| 21/21 [00:01<00:00, 14.89it/s, loss=-18837.55]\n"
     ]
    },
    {
     "name": "stdout",
     "output_type": "stream",
     "text": [
      "\tTotal Loss (NLL + MDMM): -18454.25\n",
      "\tMDMM Loss:               7858.10\n",
      "\tRemaining Weights:       95.15 %\n"
     ]
    },
    {
     "name": "stderr",
     "output_type": "stream",
     "text": [
      "Epoch 199 [Training]: 100%|██████████| 84/84 [00:06<00:00, 13.16it/s, loss=-18361.70, λc2D1=192.30, λd1=137.50, λd2=193.91, λd3=152.25]\n",
      "Epoch 199 [Validation]: 100%|██████████| 21/21 [00:01<00:00, 15.12it/s, loss=-18829.23]\n"
     ]
    },
    {
     "name": "stdout",
     "output_type": "stream",
     "text": [
      "\tTotal Loss (NLL + MDMM): -18449.96\n",
      "\tMDMM Loss:               7884.00\n",
      "\tRemaining Weights:       95.04 %\n"
     ]
    },
    {
     "name": "stderr",
     "output_type": "stream",
     "text": [
      "Epoch 200 [Training]: 100%|██████████| 84/84 [00:06<00:00, 13.30it/s, loss=-18345.92, λc2D1=192.94, λd1=138.26, λd2=194.84, λd3=152.82]\n",
      "Epoch 200 [Validation]: 100%|██████████| 21/21 [00:01<00:00, 14.74it/s, loss=-18834.17]\n"
     ]
    },
    {
     "name": "stdout",
     "output_type": "stream",
     "text": [
      "\tTotal Loss (NLL + MDMM): -18450.16\n",
      "\tMDMM Loss:               7907.84\n",
      "\tRemaining Weights:       94.76 %\n"
     ]
    },
    {
     "name": "stderr",
     "output_type": "stream",
     "text": [
      "Epoch 201 [Training]: 100%|██████████| 84/84 [00:06<00:00, 13.53it/s, loss=-18336.38, λc2D1=193.59, λd1=139.03, λd2=195.76, λd3=153.38]\n",
      "Epoch 201 [Validation]: 100%|██████████| 21/21 [00:01<00:00, 15.23it/s, loss=-18823.54]\n"
     ]
    },
    {
     "name": "stdout",
     "output_type": "stream",
     "text": [
      "\tTotal Loss (NLL + MDMM): -18438.54\n",
      "\tMDMM Loss:               7933.82\n",
      "\tRemaining Weights:       94.70 %\n"
     ]
    },
    {
     "name": "stderr",
     "output_type": "stream",
     "text": [
      "Epoch 202 [Training]: 100%|██████████| 84/84 [00:06<00:00, 13.40it/s, loss=-18342.55, λc2D1=194.23, λd1=139.80, λd2=196.69, λd3=153.95]\n",
      "Epoch 202 [Validation]: 100%|██████████| 21/21 [00:01<00:00, 14.73it/s, loss=-18836.49]\n"
     ]
    },
    {
     "name": "stdout",
     "output_type": "stream",
     "text": [
      "\tTotal Loss (NLL + MDMM): -18447.72\n",
      "\tMDMM Loss:               7959.78\n",
      "\tRemaining Weights:       94.70 %\n"
     ]
    },
    {
     "name": "stderr",
     "output_type": "stream",
     "text": [
      "Epoch 203 [Training]: 100%|██████████| 84/84 [00:06<00:00, 13.34it/s, loss=-18432.72, λc2D1=194.86, λd1=140.57, λd2=197.61, λd3=154.52]\n",
      "Epoch 203 [Validation]: 100%|██████████| 21/21 [00:01<00:00, 14.84it/s, loss=-18912.25]\n"
     ]
    },
    {
     "name": "stdout",
     "output_type": "stream",
     "text": [
      "\tTotal Loss (NLL + MDMM): -18531.75\n",
      "\tMDMM Loss:               7872.55\n",
      "\tRemaining Weights:       94.37 %\n"
     ]
    },
    {
     "name": "stderr",
     "output_type": "stream",
     "text": [
      "Epoch 204 [Training]: 100%|██████████| 84/84 [00:06<00:00, 13.11it/s, loss=-18422.13, λc2D1=195.45, λd1=141.33, λd2=198.54, λd3=155.08]\n",
      "Epoch 204 [Validation]: 100%|██████████| 21/21 [00:01<00:00, 14.37it/s, loss=-18913.48]\n"
     ]
    },
    {
     "name": "stdout",
     "output_type": "stream",
     "text": [
      "\tTotal Loss (NLL + MDMM): -18529.54\n",
      "\tMDMM Loss:               7897.38\n",
      "\tRemaining Weights:       94.32 %\n"
     ]
    },
    {
     "name": "stderr",
     "output_type": "stream",
     "text": [
      "Epoch 205 [Training]: 100%|██████████| 84/84 [00:06<00:00, 13.29it/s, loss=-18432.00, λc2D1=196.03, λd1=142.10, λd2=199.46, λd3=155.64]\n",
      "Epoch 205 [Validation]: 100%|██████████| 21/21 [00:01<00:00, 14.76it/s, loss=-18929.19]\n"
     ]
    },
    {
     "name": "stdout",
     "output_type": "stream",
     "text": [
      "\tTotal Loss (NLL + MDMM): -18539.03\n",
      "\tMDMM Loss:               7921.51\n",
      "\tRemaining Weights:       93.99 %\n"
     ]
    },
    {
     "name": "stderr",
     "output_type": "stream",
     "text": [
      "Epoch 206 [Training]: 100%|██████████| 84/84 [00:06<00:00, 12.45it/s, loss=-18537.13, λc2D1=196.59, λd1=142.87, λd2=200.38, λd3=156.20]\n",
      "Epoch 206 [Validation]: 100%|██████████| 21/21 [00:01<00:00, 14.90it/s, loss=-19023.89]\n"
     ]
    },
    {
     "name": "stdout",
     "output_type": "stream",
     "text": [
      "\tTotal Loss (NLL + MDMM): -18636.12\n",
      "\tMDMM Loss:               7826.73\n",
      "\tRemaining Weights:       94.10 %\n"
     ]
    },
    {
     "name": "stderr",
     "output_type": "stream",
     "text": [
      "Epoch 207 [Training]: 100%|██████████| 84/84 [00:06<00:00, 13.32it/s, loss=-18487.27, λc2D1=197.11, λd1=143.64, λd2=201.30, λd3=156.76]\n",
      "Epoch 207 [Validation]: 100%|██████████| 21/21 [00:01<00:00, 14.10it/s, loss=-18993.67]\n"
     ]
    },
    {
     "name": "stdout",
     "output_type": "stream",
     "text": [
      "\tTotal Loss (NLL + MDMM): -18615.63\n",
      "\tMDMM Loss:               7849.76\n",
      "\tRemaining Weights:       93.99 %\n"
     ]
    },
    {
     "name": "stderr",
     "output_type": "stream",
     "text": [
      "Epoch 208 [Training]: 100%|██████████| 84/84 [00:06<00:00, 13.39it/s, loss=-18541.96, λc2D1=197.62, λd1=144.41, λd2=202.22, λd3=157.32]\n",
      "Epoch 208 [Validation]: 100%|██████████| 21/21 [00:01<00:00, 14.73it/s, loss=-19038.00]\n"
     ]
    },
    {
     "name": "stdout",
     "output_type": "stream",
     "text": [
      "\tTotal Loss (NLL + MDMM): -18645.28\n",
      "\tMDMM Loss:               7874.28\n",
      "\tRemaining Weights:       93.99 %\n"
     ]
    },
    {
     "name": "stderr",
     "output_type": "stream",
     "text": [
      "Epoch 209 [Training]: 100%|██████████| 84/84 [00:06<00:00, 13.21it/s, loss=-18506.71, λc2D1=198.14, λd1=145.18, λd2=203.14, λd3=157.88]\n",
      "Epoch 209 [Validation]: 100%|██████████| 21/21 [00:01<00:00, 14.43it/s, loss=-19001.13]\n"
     ]
    },
    {
     "name": "stdout",
     "output_type": "stream",
     "text": [
      "\tTotal Loss (NLL + MDMM): -18612.00\n",
      "\tMDMM Loss:               7898.88\n",
      "\tRemaining Weights:       93.99 %\n"
     ]
    },
    {
     "name": "stderr",
     "output_type": "stream",
     "text": [
      "Epoch 210 [Training]: 100%|██████████| 84/84 [00:06<00:00, 13.24it/s, loss=-18499.64, λc2D1=198.66, λd1=145.94, λd2=204.06, λd3=158.44]\n",
      "Epoch 210 [Validation]: 100%|██████████| 21/21 [00:01<00:00, 14.79it/s, loss=-19015.78]\n"
     ]
    },
    {
     "name": "stdout",
     "output_type": "stream",
     "text": [
      "\tTotal Loss (NLL + MDMM): -18621.94\n",
      "\tMDMM Loss:               7919.91\n",
      "\tRemaining Weights:       93.49 %\n"
     ]
    },
    {
     "name": "stderr",
     "output_type": "stream",
     "text": [
      "Epoch 211 [Training]: 100%|██████████| 84/84 [00:06<00:00, 13.20it/s, loss=-18508.52, λc2D1=199.18, λd1=146.71, λd2=204.98, λd3=158.99]\n",
      "Epoch 211 [Validation]: 100%|██████████| 21/21 [00:01<00:00, 14.45it/s, loss=-19007.98]\n"
     ]
    },
    {
     "name": "stdout",
     "output_type": "stream",
     "text": [
      "\tTotal Loss (NLL + MDMM): -18617.23\n",
      "\tMDMM Loss:               7945.26\n",
      "\tRemaining Weights:       93.55 %\n"
     ]
    },
    {
     "name": "stderr",
     "output_type": "stream",
     "text": [
      "Epoch 212 [Training]: 100%|██████████| 84/84 [00:06<00:00, 13.40it/s, loss=-18481.78, λc2D1=199.70, λd1=147.48, λd2=205.90, λd3=159.55]\n",
      "Epoch 212 [Validation]: 100%|██████████| 21/21 [00:01<00:00, 14.50it/s, loss=-18968.76]\n"
     ]
    },
    {
     "name": "stdout",
     "output_type": "stream",
     "text": [
      "\tTotal Loss (NLL + MDMM): -18580.22\n",
      "\tMDMM Loss:               7970.46\n",
      "\tRemaining Weights:       93.44 %\n"
     ]
    },
    {
     "name": "stderr",
     "output_type": "stream",
     "text": [
      "Epoch 213 [Training]: 100%|██████████| 84/84 [00:06<00:00, 13.30it/s, loss=-18502.25, λc2D1=200.22, λd1=148.25, λd2=206.81, λd3=160.10]\n",
      "Epoch 213 [Validation]: 100%|██████████| 21/21 [00:01<00:00, 14.97it/s, loss=-19014.30]\n"
     ]
    },
    {
     "name": "stdout",
     "output_type": "stream",
     "text": [
      "\tTotal Loss (NLL + MDMM): -18613.41\n",
      "\tMDMM Loss:               7991.80\n",
      "\tRemaining Weights:       93.22 %\n"
     ]
    },
    {
     "name": "stderr",
     "output_type": "stream",
     "text": [
      "Epoch 214 [Training]: 100%|██████████| 84/84 [00:06<00:00, 13.06it/s, loss=-18492.54, λc2D1=200.74, λd1=149.02, λd2=207.73, λd3=160.65]\n",
      "Epoch 214 [Validation]: 100%|██████████| 21/21 [00:01<00:00, 13.98it/s, loss=-18996.14]\n"
     ]
    },
    {
     "name": "stdout",
     "output_type": "stream",
     "text": [
      "\tTotal Loss (NLL + MDMM): -18600.55\n",
      "\tMDMM Loss:               8015.19\n",
      "\tRemaining Weights:       93.11 %\n"
     ]
    },
    {
     "name": "stderr",
     "output_type": "stream",
     "text": [
      "Epoch 215 [Training]: 100%|██████████| 84/84 [00:06<00:00, 13.18it/s, loss=-18462.05, λc2D1=201.26, λd1=149.79, λd2=208.64, λd3=161.20]\n",
      "Epoch 215 [Validation]: 100%|██████████| 21/21 [00:01<00:00, 14.66it/s, loss=-18967.26]\n"
     ]
    },
    {
     "name": "stdout",
     "output_type": "stream",
     "text": [
      "\tTotal Loss (NLL + MDMM): -18570.80\n",
      "\tMDMM Loss:               8041.75\n",
      "\tRemaining Weights:       93.27 %\n"
     ]
    },
    {
     "name": "stderr",
     "output_type": "stream",
     "text": [
      "Epoch 216 [Training]: 100%|██████████| 84/84 [00:06<00:00, 13.29it/s, loss=-18473.27, λc2D1=201.78, λd1=150.56, λd2=209.56, λd3=161.75]\n",
      "Epoch 216 [Validation]: 100%|██████████| 21/21 [00:01<00:00, 14.44it/s, loss=-18963.53]\n"
     ]
    },
    {
     "name": "stdout",
     "output_type": "stream",
     "text": [
      "\tTotal Loss (NLL + MDMM): -18569.47\n",
      "\tMDMM Loss:               8063.56\n",
      "\tRemaining Weights:       93.05 %\n"
     ]
    },
    {
     "name": "stderr",
     "output_type": "stream",
     "text": [
      "Epoch 217 [Training]: 100%|██████████| 84/84 [00:06<00:00, 13.15it/s, loss=-18446.16, λc2D1=202.30, λd1=151.33, λd2=210.47, λd3=162.30]\n",
      "Epoch 217 [Validation]: 100%|██████████| 21/21 [00:01<00:00, 14.82it/s, loss=-18954.87]\n"
     ]
    },
    {
     "name": "stdout",
     "output_type": "stream",
     "text": [
      "\tTotal Loss (NLL + MDMM): -18559.96\n",
      "\tMDMM Loss:               8088.85\n",
      "\tRemaining Weights:       93.05 %\n"
     ]
    },
    {
     "name": "stderr",
     "output_type": "stream",
     "text": [
      "Epoch 218 [Training]: 100%|██████████| 84/84 [00:06<00:00, 13.17it/s, loss=-18442.46, λc2D1=202.82, λd1=152.10, λd2=211.39, λd3=162.84]\n",
      "Epoch 218 [Validation]: 100%|██████████| 21/21 [00:01<00:00, 14.85it/s, loss=-18960.82]\n"
     ]
    },
    {
     "name": "stdout",
     "output_type": "stream",
     "text": [
      "\tTotal Loss (NLL + MDMM): -18560.86\n",
      "\tMDMM Loss:               8112.90\n",
      "\tRemaining Weights:       92.94 %\n"
     ]
    },
    {
     "name": "stderr",
     "output_type": "stream",
     "text": [
      "Epoch 219 [Training]: 100%|██████████| 84/84 [00:06<00:00, 13.34it/s, loss=-18451.53, λc2D1=203.34, λd1=152.87, λd2=212.30, λd3=163.39]\n",
      "Epoch 219 [Validation]: 100%|██████████| 21/21 [00:01<00:00, 14.84it/s, loss=-18963.03]\n"
     ]
    },
    {
     "name": "stdout",
     "output_type": "stream",
     "text": [
      "\tTotal Loss (NLL + MDMM): -18560.25\n",
      "\tMDMM Loss:               8136.23\n",
      "\tRemaining Weights:       92.94 %\n"
     ]
    },
    {
     "name": "stderr",
     "output_type": "stream",
     "text": [
      "Epoch 220 [Training]: 100%|██████████| 84/84 [00:06<00:00, 13.16it/s, loss=-18422.72, λc2D1=203.87, λd1=153.63, λd2=213.21, λd3=163.93]\n",
      "Epoch 220 [Validation]: 100%|██████████| 21/21 [00:01<00:00, 15.11it/s, loss=-18930.32]\n"
     ]
    },
    {
     "name": "stdout",
     "output_type": "stream",
     "text": [
      "\tTotal Loss (NLL + MDMM): -18530.56\n",
      "\tMDMM Loss:               8158.53\n",
      "\tRemaining Weights:       92.77 %\n"
     ]
    },
    {
     "name": "stderr",
     "output_type": "stream",
     "text": [
      "Epoch 221 [Training]: 100%|██████████| 84/84 [00:06<00:00, 13.12it/s, loss=-18422.86, λc2D1=204.39, λd1=154.40, λd2=214.12, λd3=164.48]\n",
      "Epoch 221 [Validation]: 100%|██████████| 21/21 [00:01<00:00, 14.83it/s, loss=-18929.22]\n"
     ]
    },
    {
     "name": "stdout",
     "output_type": "stream",
     "text": [
      "\tTotal Loss (NLL + MDMM): -18532.28\n",
      "\tMDMM Loss:               8181.03\n",
      "\tRemaining Weights:       92.72 %\n"
     ]
    },
    {
     "name": "stderr",
     "output_type": "stream",
     "text": [
      "Epoch 222 [Training]: 100%|██████████| 84/84 [00:06<00:00, 13.41it/s, loss=-18413.51, λc2D1=204.91, λd1=155.17, λd2=215.03, λd3=165.02]\n",
      "Epoch 222 [Validation]: 100%|██████████| 21/21 [00:01<00:00, 14.71it/s, loss=-18927.93]\n"
     ]
    },
    {
     "name": "stdout",
     "output_type": "stream",
     "text": [
      "\tTotal Loss (NLL + MDMM): -18527.62\n",
      "\tMDMM Loss:               8203.91\n",
      "\tRemaining Weights:       92.61 %\n"
     ]
    },
    {
     "name": "stderr",
     "output_type": "stream",
     "text": [
      "Epoch 223 [Training]: 100%|██████████| 84/84 [00:06<00:00, 13.49it/s, loss=-18408.29, λc2D1=205.43, λd1=155.94, λd2=215.94, λd3=165.56]\n",
      "Epoch 223 [Validation]: 100%|██████████| 21/21 [00:01<00:00, 14.62it/s, loss=-18922.12]\n"
     ]
    },
    {
     "name": "stdout",
     "output_type": "stream",
     "text": [
      "\tTotal Loss (NLL + MDMM): -18519.88\n",
      "\tMDMM Loss:               8229.21\n",
      "\tRemaining Weights:       92.61 %\n"
     ]
    },
    {
     "name": "stderr",
     "output_type": "stream",
     "text": [
      "Epoch 224 [Training]: 100%|██████████| 84/84 [00:06<00:00, 13.37it/s, loss=-18387.80, λc2D1=205.95, λd1=156.71, λd2=216.85, λd3=166.10]\n",
      "Epoch 224 [Validation]: 100%|██████████| 21/21 [00:01<00:00, 15.14it/s, loss=-18902.64]\n"
     ]
    },
    {
     "name": "stdout",
     "output_type": "stream",
     "text": [
      "\tTotal Loss (NLL + MDMM): -18503.79\n",
      "\tMDMM Loss:               8250.25\n",
      "\tRemaining Weights:       92.33 %\n"
     ]
    },
    {
     "name": "stderr",
     "output_type": "stream",
     "text": [
      "Epoch 225 [Training]: 100%|██████████| 84/84 [00:06<00:00, 13.43it/s, loss=-18378.95, λc2D1=206.48, λd1=157.48, λd2=217.76, λd3=166.64]\n",
      "Epoch 225 [Validation]: 100%|██████████| 21/21 [00:01<00:00, 14.64it/s, loss=-18888.05]\n"
     ]
    },
    {
     "name": "stdout",
     "output_type": "stream",
     "text": [
      "\tTotal Loss (NLL + MDMM): -18488.79\n",
      "\tMDMM Loss:               8273.89\n",
      "\tRemaining Weights:       92.17 %\n"
     ]
    },
    {
     "name": "stderr",
     "output_type": "stream",
     "text": [
      "Epoch 226 [Training]: 100%|██████████| 84/84 [00:06<00:00, 12.33it/s, loss=-18345.57, λc2D1=207.00, λd1=158.25, λd2=218.66, λd3=167.18]\n",
      "Epoch 226 [Validation]: 100%|██████████| 21/21 [00:01<00:00, 14.51it/s, loss=-18864.84]\n"
     ]
    },
    {
     "name": "stdout",
     "output_type": "stream",
     "text": [
      "\tTotal Loss (NLL + MDMM): -18464.95\n",
      "\tMDMM Loss:               8298.99\n",
      "\tRemaining Weights:       92.17 %\n"
     ]
    },
    {
     "name": "stderr",
     "output_type": "stream",
     "text": [
      "Epoch 227 [Training]: 100%|██████████| 84/84 [00:06<00:00, 13.52it/s, loss=-18358.45, λc2D1=207.53, λd1=159.02, λd2=219.57, λd3=167.72]\n",
      "Epoch 227 [Validation]: 100%|██████████| 21/21 [00:01<00:00, 14.95it/s, loss=-18882.13]\n"
     ]
    },
    {
     "name": "stdout",
     "output_type": "stream",
     "text": [
      "\tTotal Loss (NLL + MDMM): -18474.77\n",
      "\tMDMM Loss:               8323.23\n",
      "\tRemaining Weights:       92.00 %\n"
     ]
    },
    {
     "name": "stderr",
     "output_type": "stream",
     "text": [
      "Epoch 228 [Training]: 100%|██████████| 84/84 [00:06<00:00, 13.45it/s, loss=-18350.94, λc2D1=208.05, λd1=159.78, λd2=220.48, λd3=168.25]\n",
      "Epoch 228 [Validation]: 100%|██████████| 21/21 [00:01<00:00, 14.73it/s, loss=-18863.91]\n"
     ]
    },
    {
     "name": "stdout",
     "output_type": "stream",
     "text": [
      "\tTotal Loss (NLL + MDMM): -18460.64\n",
      "\tMDMM Loss:               8347.44\n",
      "\tRemaining Weights:       91.95 %\n"
     ]
    },
    {
     "name": "stderr",
     "output_type": "stream",
     "text": [
      "Epoch 229 [Training]: 100%|██████████| 84/84 [00:06<00:00, 12.81it/s, loss=-18335.66, λc2D1=208.57, λd1=160.55, λd2=221.38, λd3=168.79]\n",
      "Epoch 229 [Validation]: 100%|██████████| 21/21 [00:01<00:00, 14.93it/s, loss=-18864.44]\n"
     ]
    },
    {
     "name": "stdout",
     "output_type": "stream",
     "text": [
      "\tTotal Loss (NLL + MDMM): -18455.06\n",
      "\tMDMM Loss:               8364.71\n",
      "\tRemaining Weights:       91.84 %\n"
     ]
    },
    {
     "name": "stderr",
     "output_type": "stream",
     "text": [
      "Epoch 230 [Training]: 100%|██████████| 84/84 [00:06<00:00, 13.48it/s, loss=-18331.58, λc2D1=209.10, λd1=161.32, λd2=222.29, λd3=169.32]\n",
      "Epoch 230 [Validation]: 100%|██████████| 21/21 [00:01<00:00, 14.98it/s, loss=-18858.65]\n"
     ]
    },
    {
     "name": "stdout",
     "output_type": "stream",
     "text": [
      "\tTotal Loss (NLL + MDMM): -18449.66\n",
      "\tMDMM Loss:               8387.38\n",
      "\tRemaining Weights:       91.67 %\n"
     ]
    },
    {
     "name": "stderr",
     "output_type": "stream",
     "text": [
      "Epoch 231 [Training]: 100%|██████████| 84/84 [00:06<00:00, 13.38it/s, loss=-18316.88, λc2D1=209.62, λd1=162.09, λd2=223.19, λd3=169.86]\n",
      "Epoch 231 [Validation]: 100%|██████████| 21/21 [00:01<00:00, 14.41it/s, loss=-18840.88]\n"
     ]
    },
    {
     "name": "stdout",
     "output_type": "stream",
     "text": [
      "\tTotal Loss (NLL + MDMM): -18429.97\n",
      "\tMDMM Loss:               8415.08\n",
      "\tRemaining Weights:       91.67 %\n"
     ]
    },
    {
     "name": "stderr",
     "output_type": "stream",
     "text": [
      "Epoch 232 [Training]: 100%|██████████| 84/84 [00:06<00:00, 13.44it/s, loss=-18307.74, λc2D1=210.14, λd1=162.85, λd2=224.09, λd3=170.39]\n",
      "Epoch 232 [Validation]: 100%|██████████| 21/21 [00:01<00:00, 13.50it/s, loss=-18837.24]\n"
     ]
    },
    {
     "name": "stdout",
     "output_type": "stream",
     "text": [
      "\tTotal Loss (NLL + MDMM): -18427.10\n",
      "\tMDMM Loss:               8433.57\n",
      "\tRemaining Weights:       91.56 %\n"
     ]
    },
    {
     "name": "stderr",
     "output_type": "stream",
     "text": [
      "Epoch 233 [Training]: 100%|██████████| 84/84 [00:06<00:00, 13.43it/s, loss=-18287.41, λc2D1=210.67, λd1=163.62, λd2=224.99, λd3=170.92]\n",
      "Epoch 233 [Validation]: 100%|██████████| 21/21 [00:01<00:00, 15.04it/s, loss=-18806.75]\n"
     ]
    },
    {
     "name": "stdout",
     "output_type": "stream",
     "text": [
      "\tTotal Loss (NLL + MDMM): -18399.03\n",
      "\tMDMM Loss:               8460.74\n",
      "\tRemaining Weights:       91.67 %\n"
     ]
    },
    {
     "name": "stderr",
     "output_type": "stream",
     "text": [
      "Epoch 234 [Training]: 100%|██████████| 84/84 [00:06<00:00, 13.45it/s, loss=-18275.47, λc2D1=211.20, λd1=164.39, λd2=225.90, λd3=171.45]\n",
      "Epoch 234 [Validation]: 100%|██████████| 21/21 [00:01<00:00, 14.80it/s, loss=-18806.76]\n"
     ]
    },
    {
     "name": "stdout",
     "output_type": "stream",
     "text": [
      "\tTotal Loss (NLL + MDMM): -18391.28\n",
      "\tMDMM Loss:               8482.52\n",
      "\tRemaining Weights:       91.45 %\n"
     ]
    },
    {
     "name": "stderr",
     "output_type": "stream",
     "text": [
      "Epoch 235 [Training]: 100%|██████████| 84/84 [00:06<00:00, 13.36it/s, loss=-18266.10, λc2D1=211.72, λd1=165.16, λd2=226.80, λd3=171.98]\n",
      "Epoch 235 [Validation]: 100%|██████████| 21/21 [00:01<00:00, 14.99it/s, loss=-18780.66]\n"
     ]
    },
    {
     "name": "stdout",
     "output_type": "stream",
     "text": [
      "\tTotal Loss (NLL + MDMM): -18377.60\n",
      "\tMDMM Loss:               8506.57\n",
      "\tRemaining Weights:       91.56 %\n"
     ]
    },
    {
     "name": "stderr",
     "output_type": "stream",
     "text": [
      "Epoch 236 [Training]: 100%|██████████| 84/84 [00:06<00:00, 13.53it/s, loss=-18244.15, λc2D1=212.25, λd1=165.92, λd2=227.70, λd3=172.51]\n",
      "Epoch 236 [Validation]: 100%|██████████| 21/21 [00:01<00:00, 15.06it/s, loss=-18776.93]\n"
     ]
    },
    {
     "name": "stdout",
     "output_type": "stream",
     "text": [
      "\tTotal Loss (NLL + MDMM): -18360.29\n",
      "\tMDMM Loss:               8528.65\n",
      "\tRemaining Weights:       91.45 %\n"
     ]
    },
    {
     "name": "stderr",
     "output_type": "stream",
     "text": [
      "Epoch 237 [Training]: 100%|██████████| 84/84 [00:06<00:00, 13.48it/s, loss=-18235.70, λc2D1=212.77, λd1=166.69, λd2=228.60, λd3=173.04]\n",
      "Epoch 237 [Validation]: 100%|██████████| 21/21 [00:01<00:00, 15.01it/s, loss=-18767.42]\n"
     ]
    },
    {
     "name": "stdout",
     "output_type": "stream",
     "text": [
      "\tTotal Loss (NLL + MDMM): -18352.90\n",
      "\tMDMM Loss:               8551.57\n",
      "\tRemaining Weights:       91.12 %\n"
     ]
    },
    {
     "name": "stderr",
     "output_type": "stream",
     "text": [
      "Epoch 238 [Training]: 100%|██████████| 84/84 [00:06<00:00, 13.44it/s, loss=-18231.63, λc2D1=213.30, λd1=167.45, λd2=229.50, λd3=173.56]\n",
      "Epoch 238 [Validation]: 100%|██████████| 21/21 [00:01<00:00, 14.96it/s, loss=-18765.57]\n"
     ]
    },
    {
     "name": "stdout",
     "output_type": "stream",
     "text": [
      "\tTotal Loss (NLL + MDMM): -18347.59\n",
      "\tMDMM Loss:               8572.30\n",
      "\tRemaining Weights:       91.01 %\n"
     ]
    },
    {
     "name": "stderr",
     "output_type": "stream",
     "text": [
      "Epoch 239 [Training]: 100%|██████████| 84/84 [00:06<00:00, 13.44it/s, loss=-18220.95, λc2D1=213.82, λd1=168.22, λd2=230.40, λd3=174.09]\n",
      "Epoch 239 [Validation]: 100%|██████████| 21/21 [00:01<00:00, 15.08it/s, loss=-18749.21]\n"
     ]
    },
    {
     "name": "stdout",
     "output_type": "stream",
     "text": [
      "\tTotal Loss (NLL + MDMM): -18336.24\n",
      "\tMDMM Loss:               8595.15\n",
      "\tRemaining Weights:       90.79 %\n"
     ]
    },
    {
     "name": "stderr",
     "output_type": "stream",
     "text": [
      "Epoch 240 [Training]: 100%|██████████| 84/84 [00:06<00:00, 13.21it/s, loss=-18203.67, λc2D1=214.35, λd1=168.98, λd2=231.30, λd3=174.61]\n",
      "Epoch 240 [Validation]: 100%|██████████| 21/21 [00:01<00:00, 14.77it/s, loss=-18734.10]\n"
     ]
    },
    {
     "name": "stdout",
     "output_type": "stream",
     "text": [
      "\tTotal Loss (NLL + MDMM): -18318.84\n",
      "\tMDMM Loss:               8617.29\n",
      "\tRemaining Weights:       90.73 %\n"
     ]
    },
    {
     "name": "stderr",
     "output_type": "stream",
     "text": [
      "Epoch 241 [Training]: 100%|██████████| 84/84 [00:06<00:00, 13.33it/s, loss=-18186.46, λc2D1=214.87, λd1=169.75, λd2=232.20, λd3=175.14]\n",
      "Epoch 241 [Validation]: 100%|██████████| 21/21 [00:01<00:00, 14.64it/s, loss=-18718.35]\n"
     ]
    },
    {
     "name": "stdout",
     "output_type": "stream",
     "text": [
      "\tTotal Loss (NLL + MDMM): -18306.65\n",
      "\tMDMM Loss:               8638.84\n",
      "\tRemaining Weights:       90.73 %\n"
     ]
    },
    {
     "name": "stderr",
     "output_type": "stream",
     "text": [
      "Epoch 242 [Training]: 100%|██████████| 84/84 [00:06<00:00, 12.78it/s, loss=-18166.99, λc2D1=215.40, λd1=170.51, λd2=233.10, λd3=175.66]\n",
      "Epoch 242 [Validation]: 100%|██████████| 21/21 [00:01<00:00, 14.94it/s, loss=-18689.44]\n"
     ]
    },
    {
     "name": "stdout",
     "output_type": "stream",
     "text": [
      "\tTotal Loss (NLL + MDMM): -18277.40\n",
      "\tMDMM Loss:               8659.08\n",
      "\tRemaining Weights:       90.18 %\n"
     ]
    },
    {
     "name": "stderr",
     "output_type": "stream",
     "text": [
      "Epoch 243 [Training]: 100%|██████████| 84/84 [00:06<00:00, 13.10it/s, loss=-18151.21, λc2D1=215.93, λd1=171.28, λd2=233.99, λd3=176.18]\n",
      "Epoch 243 [Validation]: 100%|██████████| 21/21 [00:01<00:00, 14.56it/s, loss=-18672.10]\n"
     ]
    },
    {
     "name": "stdout",
     "output_type": "stream",
     "text": [
      "\tTotal Loss (NLL + MDMM): -18261.06\n",
      "\tMDMM Loss:               8683.39\n",
      "\tRemaining Weights:       90.13 %\n"
     ]
    },
    {
     "name": "stderr",
     "output_type": "stream",
     "text": [
      "Epoch 244 [Training]: 100%|██████████| 84/84 [00:06<00:00, 13.39it/s, loss=-18167.57, λc2D1=216.46, λd1=172.04, λd2=234.89, λd3=176.70]\n",
      "Epoch 244 [Validation]: 100%|██████████| 21/21 [00:01<00:00, 14.91it/s, loss=-18697.20]\n"
     ]
    },
    {
     "name": "stdout",
     "output_type": "stream",
     "text": [
      "\tTotal Loss (NLL + MDMM): -18281.16\n",
      "\tMDMM Loss:               8704.25\n",
      "\tRemaining Weights:       90.29 %\n"
     ]
    },
    {
     "name": "stderr",
     "output_type": "stream",
     "text": [
      "Epoch 245 [Training]: 100%|██████████| 84/84 [00:06<00:00, 13.38it/s, loss=-18123.84, λc2D1=216.98, λd1=172.80, λd2=235.79, λd3=177.23]\n",
      "Epoch 245 [Validation]: 100%|██████████| 21/21 [00:01<00:00, 14.94it/s, loss=-18662.77]\n"
     ]
    },
    {
     "name": "stdout",
     "output_type": "stream",
     "text": [
      "\tTotal Loss (NLL + MDMM): -18246.06\n",
      "\tMDMM Loss:               8729.07\n",
      "\tRemaining Weights:       90.18 %\n"
     ]
    },
    {
     "name": "stderr",
     "output_type": "stream",
     "text": [
      "Epoch 246 [Training]: 100%|██████████| 84/84 [00:06<00:00, 13.53it/s, loss=-18125.54, λc2D1=217.51, λd1=173.57, λd2=236.68, λd3=177.74]\n",
      "Epoch 246 [Validation]: 100%|██████████| 21/21 [00:01<00:00, 14.99it/s, loss=-18654.71]\n"
     ]
    },
    {
     "name": "stdout",
     "output_type": "stream",
     "text": [
      "\tTotal Loss (NLL + MDMM): -18237.24\n",
      "\tMDMM Loss:               8754.31\n",
      "\tRemaining Weights:       90.46 %\n"
     ]
    },
    {
     "name": "stderr",
     "output_type": "stream",
     "text": [
      "Epoch 247 [Training]: 100%|██████████| 84/84 [00:06<00:00, 12.81it/s, loss=-18116.33, λc2D1=218.04, λd1=174.33, λd2=237.58, λd3=178.26]\n",
      "Epoch 247 [Validation]: 100%|██████████| 21/21 [00:01<00:00, 14.31it/s, loss=-18662.22]\n"
     ]
    },
    {
     "name": "stdout",
     "output_type": "stream",
     "text": [
      "\tTotal Loss (NLL + MDMM): -18239.53\n",
      "\tMDMM Loss:               8775.17\n",
      "\tRemaining Weights:       90.29 %\n"
     ]
    },
    {
     "name": "stderr",
     "output_type": "stream",
     "text": [
      "Epoch 248 [Training]: 100%|██████████| 84/84 [00:06<00:00, 13.48it/s, loss=-18093.13, λc2D1=218.56, λd1=175.09, λd2=238.47, λd3=178.78]\n",
      "Epoch 248 [Validation]: 100%|██████████| 21/21 [00:01<00:00, 15.19it/s, loss=-18621.94]\n"
     ]
    },
    {
     "name": "stdout",
     "output_type": "stream",
     "text": [
      "\tTotal Loss (NLL + MDMM): -18204.87\n",
      "\tMDMM Loss:               8794.49\n",
      "\tRemaining Weights:       90.18 %\n"
     ]
    },
    {
     "name": "stderr",
     "output_type": "stream",
     "text": [
      "Epoch 249 [Training]: 100%|██████████| 84/84 [00:06<00:00, 13.43it/s, loss=-18089.48, λc2D1=219.09, λd1=175.86, λd2=239.36, λd3=179.30]\n",
      "Epoch 249 [Validation]: 100%|██████████| 21/21 [00:01<00:00, 15.08it/s, loss=-18628.58]\n"
     ]
    },
    {
     "name": "stdout",
     "output_type": "stream",
     "text": [
      "\tTotal Loss (NLL + MDMM): -18209.12\n",
      "\tMDMM Loss:               8820.61\n",
      "\tRemaining Weights:       90.24 %\n"
     ]
    },
    {
     "name": "stderr",
     "output_type": "stream",
     "text": [
      "Epoch 250 [Training]: 100%|██████████| 84/84 [00:06<00:00, 13.46it/s, loss=-18058.05, λc2D1=219.62, λd1=176.62, λd2=240.26, λd3=179.82]\n",
      "Epoch 250 [Validation]: 100%|██████████| 21/21 [00:01<00:00, 14.98it/s, loss=-18602.90]\n"
     ]
    },
    {
     "name": "stdout",
     "output_type": "stream",
     "text": [
      "\tTotal Loss (NLL + MDMM): -18175.05\n",
      "\tMDMM Loss:               8842.94\n",
      "\tRemaining Weights:       90.18 %\n"
     ]
    },
    {
     "name": "stderr",
     "output_type": "stream",
     "text": [
      "Epoch 251 [Training]: 100%|██████████| 84/84 [00:07<00:00, 11.87it/s, loss=-18063.32, λc2D1=220.15, λd1=177.38, λd2=241.15, λd3=180.33]\n",
      "Epoch 251 [Validation]: 100%|██████████| 21/21 [00:01<00:00, 11.34it/s, loss=-18604.63]\n"
     ]
    },
    {
     "name": "stdout",
     "output_type": "stream",
     "text": [
      "\tTotal Loss (NLL + MDMM): -18181.17\n",
      "\tMDMM Loss:               8861.73\n",
      "\tRemaining Weights:       90.02 %\n"
     ]
    },
    {
     "name": "stderr",
     "output_type": "stream",
     "text": [
      "Epoch 252 [Training]: 100%|██████████| 84/84 [00:06<00:00, 13.47it/s, loss=-18043.33, λc2D1=220.67, λd1=178.14, λd2=242.04, λd3=180.85]\n",
      "Epoch 252 [Validation]: 100%|██████████| 21/21 [00:01<00:00, 15.16it/s, loss=-18592.78]\n"
     ]
    },
    {
     "name": "stdout",
     "output_type": "stream",
     "text": [
      "\tTotal Loss (NLL + MDMM): -18166.89\n",
      "\tMDMM Loss:               8884.93\n",
      "\tRemaining Weights:       90.07 %\n"
     ]
    },
    {
     "name": "stderr",
     "output_type": "stream",
     "text": [
      "Epoch 253 [Training]: 100%|██████████| 84/84 [00:06<00:00, 13.44it/s, loss=-18022.38, λc2D1=221.20, λd1=178.90, λd2=242.93, λd3=181.36]\n",
      "Epoch 253 [Validation]: 100%|██████████| 21/21 [00:01<00:00, 14.95it/s, loss=-18564.23]\n"
     ]
    },
    {
     "name": "stdout",
     "output_type": "stream",
     "text": [
      "\tTotal Loss (NLL + MDMM): -18145.16\n",
      "\tMDMM Loss:               8905.08\n",
      "\tRemaining Weights:       89.80 %\n"
     ]
    },
    {
     "name": "stderr",
     "output_type": "stream",
     "text": [
      "Epoch 254 [Training]: 100%|██████████| 84/84 [00:06<00:00, 13.34it/s, loss=-18007.48, λc2D1=221.73, λd1=179.66, λd2=243.82, λd3=181.88]\n",
      "Epoch 254 [Validation]: 100%|██████████| 21/21 [00:01<00:00, 14.93it/s, loss=-18547.03]\n"
     ]
    },
    {
     "name": "stdout",
     "output_type": "stream",
     "text": [
      "\tTotal Loss (NLL + MDMM): -18121.42\n",
      "\tMDMM Loss:               8929.51\n",
      "\tRemaining Weights:       89.96 %\n"
     ]
    },
    {
     "name": "stderr",
     "output_type": "stream",
     "text": [
      "Epoch 255 [Training]: 100%|██████████| 84/84 [00:06<00:00, 13.10it/s, loss=-18009.98, λc2D1=222.26, λd1=180.42, λd2=244.71, λd3=182.39]\n",
      "Epoch 255 [Validation]: 100%|██████████| 21/21 [00:01<00:00, 14.88it/s, loss=-18558.48]\n"
     ]
    },
    {
     "name": "stdout",
     "output_type": "stream",
     "text": [
      "\tTotal Loss (NLL + MDMM): -18128.82\n",
      "\tMDMM Loss:               8947.26\n",
      "\tRemaining Weights:       89.69 %\n"
     ]
    },
    {
     "name": "stderr",
     "output_type": "stream",
     "text": [
      "Epoch 256 [Training]: 100%|██████████| 84/84 [00:06<00:00, 13.17it/s, loss=-17970.02, λc2D1=222.79, λd1=181.18, λd2=245.60, λd3=182.90]\n",
      "Epoch 256 [Validation]: 100%|██████████| 21/21 [00:01<00:00, 15.07it/s, loss=-18493.09]\n"
     ]
    },
    {
     "name": "stdout",
     "output_type": "stream",
     "text": [
      "\tTotal Loss (NLL + MDMM): -18076.05\n",
      "\tMDMM Loss:               8969.72\n",
      "\tRemaining Weights:       89.69 %\n"
     ]
    },
    {
     "name": "stderr",
     "output_type": "stream",
     "text": [
      "Epoch 257 [Training]: 100%|██████████| 84/84 [00:06<00:00, 13.32it/s, loss=-17974.46, λc2D1=223.31, λd1=181.94, λd2=246.49, λd3=183.41]\n",
      "Epoch 257 [Validation]: 100%|██████████| 21/21 [00:01<00:00, 15.01it/s, loss=-18526.11]\n"
     ]
    },
    {
     "name": "stdout",
     "output_type": "stream",
     "text": [
      "\tTotal Loss (NLL + MDMM): -18101.22\n",
      "\tMDMM Loss:               8992.48\n",
      "\tRemaining Weights:       89.69 %\n"
     ]
    },
    {
     "name": "stderr",
     "output_type": "stream",
     "text": [
      "Epoch 258 [Training]: 100%|██████████| 84/84 [00:06<00:00, 13.61it/s, loss=-17946.79, λc2D1=223.84, λd1=182.70, λd2=247.38, λd3=183.93]\n",
      "Epoch 258 [Validation]: 100%|██████████| 21/21 [00:01<00:00, 15.01it/s, loss=-18479.63]\n"
     ]
    },
    {
     "name": "stdout",
     "output_type": "stream",
     "text": [
      "\tTotal Loss (NLL + MDMM): -18056.37\n",
      "\tMDMM Loss:               9009.63\n",
      "\tRemaining Weights:       89.52 %\n"
     ]
    },
    {
     "name": "stderr",
     "output_type": "stream",
     "text": [
      "Epoch 259 [Training]: 100%|██████████| 84/84 [00:06<00:00, 13.42it/s, loss=-17950.05, λc2D1=224.37, λd1=183.46, λd2=248.26, λd3=184.44]\n",
      "Epoch 259 [Validation]: 100%|██████████| 21/21 [00:01<00:00, 14.91it/s, loss=-18503.46]\n"
     ]
    },
    {
     "name": "stdout",
     "output_type": "stream",
     "text": [
      "\tTotal Loss (NLL + MDMM): -18075.74\n",
      "\tMDMM Loss:               9033.88\n",
      "\tRemaining Weights:       89.46 %\n"
     ]
    },
    {
     "name": "stderr",
     "output_type": "stream",
     "text": [
      "Epoch 260 [Training]: 100%|██████████| 84/84 [00:06<00:00, 13.33it/s, loss=-17939.70, λc2D1=224.90, λd1=184.21, λd2=249.15, λd3=184.95]\n",
      "Epoch 260 [Validation]: 100%|██████████| 21/21 [00:01<00:00, 14.88it/s, loss=-18489.01]\n"
     ]
    },
    {
     "name": "stdout",
     "output_type": "stream",
     "text": [
      "\tTotal Loss (NLL + MDMM): -18057.50\n",
      "\tMDMM Loss:               9054.41\n",
      "\tRemaining Weights:       89.08 %\n"
     ]
    },
    {
     "name": "stderr",
     "output_type": "stream",
     "text": [
      "Epoch 261 [Training]: 100%|██████████| 84/84 [00:06<00:00, 13.48it/s, loss=-17937.56, λc2D1=225.43, λd1=184.97, λd2=250.04, λd3=185.46]\n",
      "Epoch 261 [Validation]: 100%|██████████| 21/21 [00:01<00:00, 14.91it/s, loss=-18492.46]\n"
     ]
    },
    {
     "name": "stdout",
     "output_type": "stream",
     "text": [
      "\tTotal Loss (NLL + MDMM): -18057.01\n",
      "\tMDMM Loss:               9072.83\n",
      "\tRemaining Weights:       88.97 %\n"
     ]
    },
    {
     "name": "stderr",
     "output_type": "stream",
     "text": [
      "Epoch 262 [Training]: 100%|██████████| 84/84 [00:06<00:00, 13.08it/s, loss=-17929.26, λc2D1=225.96, λd1=185.73, λd2=250.92, λd3=185.97]\n",
      "Epoch 262 [Validation]: 100%|██████████| 21/21 [00:01<00:00, 14.76it/s, loss=-18485.47]\n"
     ]
    },
    {
     "name": "stdout",
     "output_type": "stream",
     "text": [
      "\tTotal Loss (NLL + MDMM): -18048.83\n",
      "\tMDMM Loss:               9094.85\n",
      "\tRemaining Weights:       89.08 %\n"
     ]
    },
    {
     "name": "stderr",
     "output_type": "stream",
     "text": [
      "Epoch 263 [Training]: 100%|██████████| 84/84 [00:06<00:00, 13.23it/s, loss=-17877.33, λc2D1=226.49, λd1=186.49, λd2=251.80, λd3=186.47]\n",
      "Epoch 263 [Validation]: 100%|██████████| 21/21 [00:01<00:00, 14.78it/s, loss=-18428.11]\n"
     ]
    },
    {
     "name": "stdout",
     "output_type": "stream",
     "text": [
      "\tTotal Loss (NLL + MDMM): -17998.46\n",
      "\tMDMM Loss:               9118.77\n",
      "\tRemaining Weights:       89.13 %\n"
     ]
    },
    {
     "name": "stderr",
     "output_type": "stream",
     "text": [
      "Epoch 264 [Training]: 100%|██████████| 84/84 [00:06<00:00, 13.54it/s, loss=-17882.00, λc2D1=227.02, λd1=187.24, λd2=252.69, λd3=186.98]\n",
      "Epoch 264 [Validation]: 100%|██████████| 21/21 [00:01<00:00, 14.91it/s, loss=-18437.51]\n"
     ]
    },
    {
     "name": "stdout",
     "output_type": "stream",
     "text": [
      "\tTotal Loss (NLL + MDMM): -18006.64\n",
      "\tMDMM Loss:               9135.36\n",
      "\tRemaining Weights:       89.08 %\n"
     ]
    },
    {
     "name": "stderr",
     "output_type": "stream",
     "text": [
      "Epoch 265 [Training]: 100%|██████████| 84/84 [00:06<00:00, 13.35it/s, loss=-17861.39, λc2D1=227.54, λd1=188.00, λd2=253.57, λd3=187.49]\n",
      "Epoch 265 [Validation]: 100%|██████████| 21/21 [00:01<00:00, 14.76it/s, loss=-18422.94]\n"
     ]
    },
    {
     "name": "stdout",
     "output_type": "stream",
     "text": [
      "\tTotal Loss (NLL + MDMM): -17985.82\n",
      "\tMDMM Loss:               9158.59\n",
      "\tRemaining Weights:       89.30 %\n"
     ]
    },
    {
     "name": "stderr",
     "output_type": "stream",
     "text": [
      "Epoch 266 [Training]: 100%|██████████| 84/84 [00:06<00:00, 13.33it/s, loss=-17858.77, λc2D1=228.07, λd1=188.76, λd2=254.45, λd3=188.00]\n",
      "Epoch 266 [Validation]: 100%|██████████| 21/21 [00:01<00:00, 14.80it/s, loss=-18404.66]\n"
     ]
    },
    {
     "name": "stdout",
     "output_type": "stream",
     "text": [
      "\tTotal Loss (NLL + MDMM): -17967.52\n",
      "\tMDMM Loss:               9178.64\n",
      "\tRemaining Weights:       89.24 %\n"
     ]
    },
    {
     "name": "stderr",
     "output_type": "stream",
     "text": [
      "Epoch 267 [Training]: 100%|██████████| 84/84 [00:06<00:00, 13.16it/s, loss=-17834.06, λc2D1=228.60, λd1=189.51, λd2=255.33, λd3=188.50]\n",
      "Epoch 267 [Validation]: 100%|██████████| 21/21 [00:01<00:00, 14.27it/s, loss=-18404.39]\n"
     ]
    },
    {
     "name": "stdout",
     "output_type": "stream",
     "text": [
      "\tTotal Loss (NLL + MDMM): -17967.24\n",
      "\tMDMM Loss:               9201.68\n",
      "\tRemaining Weights:       89.30 %\n"
     ]
    },
    {
     "name": "stderr",
     "output_type": "stream",
     "text": [
      "Epoch 268 [Training]: 100%|██████████| 84/84 [00:06<00:00, 13.43it/s, loss=-17839.09, λc2D1=229.13, λd1=190.27, λd2=256.21, λd3=189.01]\n",
      "Epoch 268 [Validation]: 100%|██████████| 21/21 [00:01<00:00, 14.89it/s, loss=-18395.22]\n"
     ]
    },
    {
     "name": "stdout",
     "output_type": "stream",
     "text": [
      "\tTotal Loss (NLL + MDMM): -17957.40\n",
      "\tMDMM Loss:               9221.42\n",
      "\tRemaining Weights:       88.86 %\n"
     ]
    },
    {
     "name": "stderr",
     "output_type": "stream",
     "text": [
      "Epoch 269 [Training]: 100%|██████████| 84/84 [00:06<00:00, 13.29it/s, loss=-17807.82, λc2D1=229.66, λd1=191.02, λd2=257.09, λd3=189.51]\n",
      "Epoch 269 [Validation]: 100%|██████████| 21/21 [00:01<00:00, 14.58it/s, loss=-18372.36]\n"
     ]
    },
    {
     "name": "stdout",
     "output_type": "stream",
     "text": [
      "\tTotal Loss (NLL + MDMM): -17934.28\n",
      "\tMDMM Loss:               9240.65\n",
      "\tRemaining Weights:       88.86 %\n"
     ]
    },
    {
     "name": "stderr",
     "output_type": "stream",
     "text": [
      "Epoch 270 [Training]: 100%|██████████| 84/84 [00:06<00:00, 13.34it/s, loss=-17781.26, λc2D1=230.19, λd1=191.78, λd2=257.97, λd3=190.02]\n",
      "Epoch 270 [Validation]: 100%|██████████| 21/21 [00:01<00:00, 14.55it/s, loss=-18346.12]\n"
     ]
    },
    {
     "name": "stdout",
     "output_type": "stream",
     "text": [
      "\tTotal Loss (NLL + MDMM): -17911.46\n",
      "\tMDMM Loss:               9263.12\n",
      "\tRemaining Weights:       88.75 %\n"
     ]
    },
    {
     "name": "stderr",
     "output_type": "stream",
     "text": [
      "Epoch 271 [Training]: 100%|██████████| 84/84 [00:06<00:00, 13.35it/s, loss=-17794.46, λc2D1=230.72, λd1=192.53, λd2=258.85, λd3=190.52]\n",
      "Epoch 271 [Validation]: 100%|██████████| 21/21 [00:01<00:00, 14.88it/s, loss=-18356.69]\n"
     ]
    },
    {
     "name": "stdout",
     "output_type": "stream",
     "text": [
      "\tTotal Loss (NLL + MDMM): -17916.26\n",
      "\tMDMM Loss:               9286.02\n",
      "\tRemaining Weights:       88.86 %\n"
     ]
    },
    {
     "name": "stderr",
     "output_type": "stream",
     "text": [
      "Epoch 272 [Training]: 100%|██████████| 84/84 [00:06<00:00, 13.36it/s, loss=-17777.45, λc2D1=231.25, λd1=193.29, λd2=259.73, λd3=191.02]\n",
      "Epoch 272 [Validation]: 100%|██████████| 21/21 [00:01<00:00, 14.98it/s, loss=-18348.71]\n"
     ]
    },
    {
     "name": "stdout",
     "output_type": "stream",
     "text": [
      "\tTotal Loss (NLL + MDMM): -17908.11\n",
      "\tMDMM Loss:               9304.71\n",
      "\tRemaining Weights:       88.58 %\n"
     ]
    },
    {
     "name": "stderr",
     "output_type": "stream",
     "text": [
      "Epoch 273 [Training]: 100%|██████████| 84/84 [00:06<00:00, 13.35it/s, loss=-17766.75, λc2D1=231.77, λd1=194.04, λd2=260.60, λd3=191.52]\n",
      "Epoch 273 [Validation]: 100%|██████████| 21/21 [00:01<00:00, 14.73it/s, loss=-18336.91]\n"
     ]
    },
    {
     "name": "stdout",
     "output_type": "stream",
     "text": [
      "\tTotal Loss (NLL + MDMM): -17891.70\n",
      "\tMDMM Loss:               9324.97\n",
      "\tRemaining Weights:       88.47 %\n"
     ]
    },
    {
     "name": "stderr",
     "output_type": "stream",
     "text": [
      "Epoch 274 [Training]: 100%|██████████| 84/84 [00:06<00:00, 13.52it/s, loss=-17746.17, λc2D1=232.30, λd1=194.79, λd2=261.48, λd3=192.02]\n",
      "Epoch 274 [Validation]: 100%|██████████| 21/21 [00:01<00:00, 14.91it/s, loss=-18314.86]\n"
     ]
    },
    {
     "name": "stdout",
     "output_type": "stream",
     "text": [
      "\tTotal Loss (NLL + MDMM): -17875.29\n",
      "\tMDMM Loss:               9343.21\n",
      "\tRemaining Weights:       88.25 %\n"
     ]
    },
    {
     "name": "stderr",
     "output_type": "stream",
     "text": [
      "Epoch 275 [Training]: 100%|██████████| 84/84 [00:06<00:00, 13.42it/s, loss=-17710.77, λc2D1=232.83, λd1=195.54, λd2=262.36, λd3=192.53]\n",
      "Epoch 275 [Validation]: 100%|██████████| 21/21 [00:01<00:00, 14.89it/s, loss=-18268.11]\n"
     ]
    },
    {
     "name": "stdout",
     "output_type": "stream",
     "text": [
      "\tTotal Loss (NLL + MDMM): -17831.62\n",
      "\tMDMM Loss:               9363.71\n",
      "\tRemaining Weights:       88.14 %\n"
     ]
    },
    {
     "name": "stderr",
     "output_type": "stream",
     "text": [
      "Epoch 276 [Training]: 100%|██████████| 84/84 [00:06<00:00, 13.18it/s, loss=-17699.44, λc2D1=233.36, λd1=196.29, λd2=263.23, λd3=193.03]\n",
      "Epoch 276 [Validation]: 100%|██████████| 21/21 [00:01<00:00, 14.97it/s, loss=-18262.80]\n"
     ]
    },
    {
     "name": "stdout",
     "output_type": "stream",
     "text": [
      "\tTotal Loss (NLL + MDMM): -17821.88\n",
      "\tMDMM Loss:               9384.68\n",
      "\tRemaining Weights:       88.20 %\n"
     ]
    },
    {
     "name": "stderr",
     "output_type": "stream",
     "text": [
      "Epoch 277 [Training]: 100%|██████████| 84/84 [00:06<00:00, 13.53it/s, loss=-17689.74, λc2D1=233.89, λd1=197.05, λd2=264.11, λd3=193.52]\n",
      "Epoch 277 [Validation]: 100%|██████████| 21/21 [00:01<00:00, 15.16it/s, loss=-18261.37]\n"
     ]
    },
    {
     "name": "stdout",
     "output_type": "stream",
     "text": [
      "\tTotal Loss (NLL + MDMM): -17820.05\n",
      "\tMDMM Loss:               9406.30\n",
      "\tRemaining Weights:       87.98 %\n"
     ]
    },
    {
     "name": "stderr",
     "output_type": "stream",
     "text": [
      "Epoch 278 [Training]: 100%|██████████| 84/84 [00:06<00:00, 13.36it/s, loss=-17697.84, λc2D1=234.42, λd1=197.80, λd2=264.98, λd3=194.02]\n",
      "Epoch 278 [Validation]: 100%|██████████| 21/21 [00:01<00:00, 14.96it/s, loss=-18265.51]\n"
     ]
    },
    {
     "name": "stdout",
     "output_type": "stream",
     "text": [
      "\tTotal Loss (NLL + MDMM): -17818.35\n",
      "\tMDMM Loss:               9424.82\n",
      "\tRemaining Weights:       87.92 %\n"
     ]
    },
    {
     "name": "stderr",
     "output_type": "stream",
     "text": [
      "Epoch 279 [Training]: 100%|██████████| 84/84 [00:06<00:00, 13.33it/s, loss=-17647.74, λc2D1=234.95, λd1=198.55, λd2=265.86, λd3=194.52]\n",
      "Epoch 279 [Validation]: 100%|██████████| 21/21 [00:01<00:00, 14.61it/s, loss=-18225.30]\n"
     ]
    },
    {
     "name": "stdout",
     "output_type": "stream",
     "text": [
      "\tTotal Loss (NLL + MDMM): -17778.96\n",
      "\tMDMM Loss:               9446.81\n",
      "\tRemaining Weights:       87.98 %\n"
     ]
    },
    {
     "name": "stderr",
     "output_type": "stream",
     "text": [
      "Epoch 280 [Training]: 100%|██████████| 84/84 [00:06<00:00, 13.47it/s, loss=-17660.52, λc2D1=235.48, λd1=199.30, λd2=266.73, λd3=195.02]\n",
      "Epoch 280 [Validation]: 100%|██████████| 21/21 [00:01<00:00, 15.14it/s, loss=-18234.27]\n"
     ]
    },
    {
     "name": "stdout",
     "output_type": "stream",
     "text": [
      "\tTotal Loss (NLL + MDMM): -17783.46\n",
      "\tMDMM Loss:               9464.81\n",
      "\tRemaining Weights:       87.81 %\n"
     ]
    },
    {
     "name": "stderr",
     "output_type": "stream",
     "text": [
      "Epoch 281 [Training]: 100%|██████████| 84/84 [00:06<00:00, 13.56it/s, loss=-17640.20, λc2D1=236.00, λd1=200.04, λd2=267.60, λd3=195.52]\n",
      "Epoch 281 [Validation]: 100%|██████████| 21/21 [00:01<00:00, 14.87it/s, loss=-18213.32]\n"
     ]
    },
    {
     "name": "stdout",
     "output_type": "stream",
     "text": [
      "\tTotal Loss (NLL + MDMM): -17768.58\n",
      "\tMDMM Loss:               9490.48\n",
      "\tRemaining Weights:       87.81 %\n"
     ]
    },
    {
     "name": "stderr",
     "output_type": "stream",
     "text": [
      "Epoch 282 [Training]: 100%|██████████| 84/84 [00:06<00:00, 13.49it/s, loss=-17639.03, λc2D1=236.53, λd1=200.79, λd2=268.47, λd3=196.01]\n",
      "Epoch 282 [Validation]: 100%|██████████| 21/21 [00:01<00:00, 15.09it/s, loss=-18218.97]\n"
     ]
    },
    {
     "name": "stdout",
     "output_type": "stream",
     "text": [
      "\tTotal Loss (NLL + MDMM): -17763.19\n",
      "\tMDMM Loss:               9509.68\n",
      "\tRemaining Weights:       87.64 %\n"
     ]
    },
    {
     "name": "stderr",
     "output_type": "stream",
     "text": [
      "Epoch 283 [Training]: 100%|██████████| 84/84 [00:06<00:00, 13.54it/s, loss=-17604.54, λc2D1=237.06, λd1=201.54, λd2=269.35, λd3=196.51]\n",
      "Epoch 283 [Validation]: 100%|██████████| 21/21 [00:01<00:00, 14.96it/s, loss=-18163.05]\n"
     ]
    },
    {
     "name": "stdout",
     "output_type": "stream",
     "text": [
      "\tTotal Loss (NLL + MDMM): -17717.57\n",
      "\tMDMM Loss:               9527.06\n",
      "\tRemaining Weights:       87.26 %\n"
     ]
    },
    {
     "name": "stderr",
     "output_type": "stream",
     "text": [
      "Epoch 284 [Training]: 100%|██████████| 84/84 [00:06<00:00, 13.43it/s, loss=-17594.14, λc2D1=237.59, λd1=202.28, λd2=270.22, λd3=197.01]\n",
      "Epoch 284 [Validation]: 100%|██████████| 21/21 [00:01<00:00, 14.75it/s, loss=-18172.45]\n"
     ]
    },
    {
     "name": "stdout",
     "output_type": "stream",
     "text": [
      "\tTotal Loss (NLL + MDMM): -17725.19\n",
      "\tMDMM Loss:               9549.88\n",
      "\tRemaining Weights:       87.53 %\n"
     ]
    },
    {
     "name": "stderr",
     "output_type": "stream",
     "text": [
      "Epoch 285 [Training]: 100%|██████████| 84/84 [00:06<00:00, 13.17it/s, loss=-17585.77, λc2D1=238.12, λd1=203.03, λd2=271.09, λd3=197.50]\n",
      "Epoch 285 [Validation]: 100%|██████████| 21/21 [00:01<00:00, 14.98it/s, loss=-18158.07]\n"
     ]
    },
    {
     "name": "stdout",
     "output_type": "stream",
     "text": [
      "\tTotal Loss (NLL + MDMM): -17709.99\n",
      "\tMDMM Loss:               9570.12\n",
      "\tRemaining Weights:       87.48 %\n"
     ]
    },
    {
     "name": "stderr",
     "output_type": "stream",
     "text": [
      "Epoch 286 [Training]: 100%|██████████| 84/84 [00:06<00:00, 13.21it/s, loss=-17553.37, λc2D1=238.65, λd1=203.78, λd2=271.96, λd3=198.00]\n",
      "Epoch 286 [Validation]: 100%|██████████| 21/21 [00:01<00:00, 14.93it/s, loss=-18122.02]\n"
     ]
    },
    {
     "name": "stdout",
     "output_type": "stream",
     "text": [
      "\tTotal Loss (NLL + MDMM): -17676.51\n",
      "\tMDMM Loss:               9587.73\n",
      "\tRemaining Weights:       87.31 %\n"
     ]
    },
    {
     "name": "stderr",
     "output_type": "stream",
     "text": [
      "Epoch 287 [Training]: 100%|██████████| 84/84 [00:06<00:00, 13.44it/s, loss=-17550.69, λc2D1=239.18, λd1=204.52, λd2=272.83, λd3=198.49]\n",
      "Epoch 287 [Validation]: 100%|██████████| 21/21 [00:01<00:00, 14.93it/s, loss=-18134.61]\n"
     ]
    },
    {
     "name": "stdout",
     "output_type": "stream",
     "text": [
      "\tTotal Loss (NLL + MDMM): -17684.04\n",
      "\tMDMM Loss:               9607.23\n",
      "\tRemaining Weights:       87.26 %\n"
     ]
    },
    {
     "name": "stderr",
     "output_type": "stream",
     "text": [
      "Epoch 288 [Training]: 100%|██████████| 84/84 [00:06<00:00, 13.38it/s, loss=-17539.59, λc2D1=239.70, λd1=205.27, λd2=273.70, λd3=198.98]\n",
      "Epoch 288 [Validation]: 100%|██████████| 21/21 [00:01<00:00, 15.12it/s, loss=-18096.73]\n"
     ]
    },
    {
     "name": "stdout",
     "output_type": "stream",
     "text": [
      "\tTotal Loss (NLL + MDMM): -17654.75\n",
      "\tMDMM Loss:               9626.31\n",
      "\tRemaining Weights:       87.15 %\n"
     ]
    },
    {
     "name": "stderr",
     "output_type": "stream",
     "text": [
      "Epoch 289 [Training]: 100%|██████████| 84/84 [00:06<00:00, 13.50it/s, loss=-17526.73, λc2D1=240.23, λd1=206.01, λd2=274.57, λd3=199.48]\n",
      "Epoch 289 [Validation]: 100%|██████████| 21/21 [00:01<00:00, 14.98it/s, loss=-18119.77]\n"
     ]
    },
    {
     "name": "stdout",
     "output_type": "stream",
     "text": [
      "\tTotal Loss (NLL + MDMM): -17659.34\n",
      "\tMDMM Loss:               9646.81\n",
      "\tRemaining Weights:       87.26 %\n"
     ]
    },
    {
     "name": "stderr",
     "output_type": "stream",
     "text": [
      "Epoch 290 [Training]: 100%|██████████| 84/84 [00:06<00:00, 13.55it/s, loss=-17490.47, λc2D1=240.76, λd1=206.76, λd2=275.44, λd3=199.97]\n",
      "Epoch 290 [Validation]: 100%|██████████| 21/21 [00:01<00:00, 14.80it/s, loss=-18066.77]\n"
     ]
    },
    {
     "name": "stdout",
     "output_type": "stream",
     "text": [
      "\tTotal Loss (NLL + MDMM): -17613.65\n",
      "\tMDMM Loss:               9663.51\n",
      "\tRemaining Weights:       87.31 %\n"
     ]
    },
    {
     "name": "stderr",
     "output_type": "stream",
     "text": [
      "Epoch 291 [Training]: 100%|██████████| 84/84 [00:06<00:00, 13.42it/s, loss=-17500.56, λc2D1=241.29, λd1=207.50, λd2=276.30, λd3=200.46]\n",
      "Epoch 291 [Validation]: 100%|██████████| 21/21 [00:01<00:00, 15.21it/s, loss=-18058.96]\n"
     ]
    },
    {
     "name": "stdout",
     "output_type": "stream",
     "text": [
      "\tTotal Loss (NLL + MDMM): -17614.55\n",
      "\tMDMM Loss:               9689.21\n",
      "\tRemaining Weights:       87.53 %\n"
     ]
    },
    {
     "name": "stderr",
     "output_type": "stream",
     "text": [
      "Epoch 292 [Training]: 100%|██████████| 84/84 [00:06<00:00, 13.27it/s, loss=-17490.04, λc2D1=241.82, λd1=208.24, λd2=277.17, λd3=200.96]\n",
      "Epoch 292 [Validation]: 100%|██████████| 21/21 [00:01<00:00, 14.79it/s, loss=-18067.60]\n"
     ]
    },
    {
     "name": "stdout",
     "output_type": "stream",
     "text": [
      "\tTotal Loss (NLL + MDMM): -17610.38\n",
      "\tMDMM Loss:               9702.50\n",
      "\tRemaining Weights:       87.26 %\n"
     ]
    },
    {
     "name": "stderr",
     "output_type": "stream",
     "text": [
      "Epoch 293 [Training]: 100%|██████████| 84/84 [00:06<00:00, 13.36it/s, loss=-17459.93, λc2D1=242.35, λd1=208.98, λd2=278.03, λd3=201.45]\n",
      "Epoch 293 [Validation]: 100%|██████████| 21/21 [00:01<00:00, 14.73it/s, loss=-18052.64]\n"
     ]
    },
    {
     "name": "stdout",
     "output_type": "stream",
     "text": [
      "\tTotal Loss (NLL + MDMM): -17594.67\n",
      "\tMDMM Loss:               9720.53\n",
      "\tRemaining Weights:       87.15 %\n"
     ]
    },
    {
     "name": "stderr",
     "output_type": "stream",
     "text": [
      "Epoch 294 [Training]: 100%|██████████| 84/84 [00:06<00:00, 13.31it/s, loss=-17451.08, λc2D1=242.88, λd1=209.73, λd2=278.90, λd3=201.94]\n",
      "Epoch 294 [Validation]: 100%|██████████| 21/21 [00:01<00:00, 15.11it/s, loss=-18022.97]\n"
     ]
    },
    {
     "name": "stdout",
     "output_type": "stream",
     "text": [
      "\tTotal Loss (NLL + MDMM): -17575.59\n",
      "\tMDMM Loss:               9740.15\n",
      "\tRemaining Weights:       87.04 %\n"
     ]
    },
    {
     "name": "stderr",
     "output_type": "stream",
     "text": [
      "Epoch 295 [Training]: 100%|██████████| 84/84 [00:06<00:00, 13.40it/s, loss=-17441.29, λc2D1=243.41, λd1=210.47, λd2=279.76, λd3=202.43]\n",
      "Epoch 295 [Validation]: 100%|██████████| 21/21 [00:01<00:00, 15.02it/s, loss=-17995.05]\n"
     ]
    },
    {
     "name": "stdout",
     "output_type": "stream",
     "text": [
      "\tTotal Loss (NLL + MDMM): -17555.19\n",
      "\tMDMM Loss:               9763.58\n",
      "\tRemaining Weights:       87.15 %\n"
     ]
    },
    {
     "name": "stderr",
     "output_type": "stream",
     "text": [
      "Epoch 296 [Training]: 100%|██████████| 84/84 [00:06<00:00, 13.44it/s, loss=-17412.57, λc2D1=243.93, λd1=211.21, λd2=280.62, λd3=202.92]\n",
      "Epoch 296 [Validation]: 100%|██████████| 21/21 [00:01<00:00, 15.21it/s, loss=-18003.33]\n"
     ]
    },
    {
     "name": "stdout",
     "output_type": "stream",
     "text": [
      "\tTotal Loss (NLL + MDMM): -17542.43\n",
      "\tMDMM Loss:               9779.40\n",
      "\tRemaining Weights:       87.04 %\n"
     ]
    },
    {
     "name": "stderr",
     "output_type": "stream",
     "text": [
      "Epoch 297 [Training]: 100%|██████████| 84/84 [00:06<00:00, 13.57it/s, loss=-17405.32, λc2D1=244.46, λd1=211.95, λd2=281.48, λd3=203.41]\n",
      "Epoch 297 [Validation]: 100%|██████████| 21/21 [00:01<00:00, 15.05it/s, loss=-17977.77]\n"
     ]
    },
    {
     "name": "stdout",
     "output_type": "stream",
     "text": [
      "\tTotal Loss (NLL + MDMM): -17529.35\n",
      "\tMDMM Loss:               9800.05\n",
      "\tRemaining Weights:       86.87 %\n"
     ]
    },
    {
     "name": "stderr",
     "output_type": "stream",
     "text": [
      "Epoch 298 [Training]: 100%|██████████| 84/84 [00:06<00:00, 13.60it/s, loss=-17389.54, λc2D1=244.99, λd1=212.69, λd2=282.34, λd3=203.90]\n",
      "Epoch 298 [Validation]: 100%|██████████| 21/21 [00:01<00:00, 15.05it/s, loss=-17939.22]\n"
     ]
    },
    {
     "name": "stdout",
     "output_type": "stream",
     "text": [
      "\tTotal Loss (NLL + MDMM): -17492.57\n",
      "\tMDMM Loss:               9817.80\n",
      "\tRemaining Weights:       86.71 %\n"
     ]
    },
    {
     "name": "stderr",
     "output_type": "stream",
     "text": [
      "Epoch 299 [Training]: 100%|██████████| 84/84 [00:06<00:00, 13.31it/s, loss=-17381.36, λc2D1=245.52, λd1=213.43, λd2=283.20, λd3=204.39]\n",
      "Epoch 299 [Validation]: 100%|██████████| 21/21 [00:01<00:00, 14.97it/s, loss=-17979.76]\n"
     ]
    },
    {
     "name": "stdout",
     "output_type": "stream",
     "text": [
      "\tTotal Loss (NLL + MDMM): -17513.28\n",
      "\tMDMM Loss:               9837.66\n",
      "\tRemaining Weights:       86.93 %\n"
     ]
    },
    {
     "name": "stderr",
     "output_type": "stream",
     "text": [
      "Epoch 300 [Training]: 100%|██████████| 84/84 [00:06<00:00, 13.49it/s, loss=-17369.25, λc2D1=246.05, λd1=214.17, λd2=284.06, λd3=204.88]\n",
      "Epoch 300 [Validation]: 100%|██████████| 21/21 [00:01<00:00, 15.03it/s, loss=-17930.65]\n"
     ]
    },
    {
     "name": "stdout",
     "output_type": "stream",
     "text": [
      "\tTotal Loss (NLL + MDMM): -17479.07\n",
      "\tMDMM Loss:               9854.25\n",
      "\tRemaining Weights:       86.49 %\n"
     ]
    },
    {
     "name": "stderr",
     "output_type": "stream",
     "text": [
      "Epoch 301 [Training]: 100%|██████████| 84/84 [00:06<00:00, 13.48it/s, loss=-17357.17, λc2D1=246.58, λd1=214.91, λd2=284.92, λd3=205.37]\n",
      "Epoch 301 [Validation]: 100%|██████████| 21/21 [00:01<00:00, 14.99it/s, loss=-17931.76]\n"
     ]
    },
    {
     "name": "stdout",
     "output_type": "stream",
     "text": [
      "\tTotal Loss (NLL + MDMM): -17472.97\n",
      "\tMDMM Loss:               9876.58\n",
      "\tRemaining Weights:       86.87 %\n"
     ]
    },
    {
     "name": "stderr",
     "output_type": "stream",
     "text": [
      "Epoch 302 [Training]: 100%|██████████| 84/84 [00:06<00:00, 13.29it/s, loss=-17340.23, λc2D1=247.11, λd1=215.65, λd2=285.78, λd3=205.85]\n",
      "Epoch 302 [Validation]: 100%|██████████| 21/21 [00:01<00:00, 14.59it/s, loss=-17924.79]\n"
     ]
    },
    {
     "name": "stdout",
     "output_type": "stream",
     "text": [
      "\tTotal Loss (NLL + MDMM): -17464.63\n",
      "\tMDMM Loss:               9895.77\n",
      "\tRemaining Weights:       86.71 %\n"
     ]
    },
    {
     "name": "stderr",
     "output_type": "stream",
     "text": [
      "Epoch 303 [Training]: 100%|██████████| 84/84 [00:06<00:00, 13.35it/s, loss=-17322.22, λc2D1=247.63, λd1=216.38, λd2=286.64, λd3=206.34]\n",
      "Epoch 303 [Validation]: 100%|██████████| 21/21 [00:01<00:00, 14.50it/s, loss=-17898.95]\n"
     ]
    },
    {
     "name": "stdout",
     "output_type": "stream",
     "text": [
      "\tTotal Loss (NLL + MDMM): -17442.82\n",
      "\tMDMM Loss:               9909.61\n",
      "\tRemaining Weights:       86.60 %\n"
     ]
    },
    {
     "name": "stderr",
     "output_type": "stream",
     "text": [
      "Epoch 304 [Training]: 100%|██████████| 84/84 [00:06<00:00, 13.16it/s, loss=-17315.56, λc2D1=248.16, λd1=217.12, λd2=287.50, λd3=206.83]\n",
      "Epoch 304 [Validation]: 100%|██████████| 21/21 [00:01<00:00, 14.89it/s, loss=-17887.54]\n"
     ]
    },
    {
     "name": "stdout",
     "output_type": "stream",
     "text": [
      "\tTotal Loss (NLL + MDMM): -17431.09\n",
      "\tMDMM Loss:               9927.78\n",
      "\tRemaining Weights:       86.71 %\n"
     ]
    },
    {
     "name": "stderr",
     "output_type": "stream",
     "text": [
      "Epoch 305 [Training]: 100%|██████████| 84/84 [00:06<00:00, 13.47it/s, loss=-17307.23, λc2D1=248.69, λd1=217.86, λd2=288.35, λd3=207.31]\n",
      "Epoch 305 [Validation]: 100%|██████████| 21/21 [00:01<00:00, 15.04it/s, loss=-17893.06]\n"
     ]
    },
    {
     "name": "stdout",
     "output_type": "stream",
     "text": [
      "\tTotal Loss (NLL + MDMM): -17432.19\n",
      "\tMDMM Loss:               9941.36\n",
      "\tRemaining Weights:       86.05 %\n"
     ]
    },
    {
     "name": "stderr",
     "output_type": "stream",
     "text": [
      "Epoch 306 [Training]: 100%|██████████| 84/84 [00:06<00:00, 13.58it/s, loss=-17299.57, λc2D1=249.22, λd1=218.59, λd2=289.20, λd3=207.80]\n",
      "Epoch 306 [Validation]: 100%|██████████| 21/21 [00:01<00:00, 15.26it/s, loss=-17886.46]\n"
     ]
    },
    {
     "name": "stdout",
     "output_type": "stream",
     "text": [
      "\tTotal Loss (NLL + MDMM): -17421.01\n",
      "\tMDMM Loss:               9958.69\n",
      "\tRemaining Weights:       85.88 %\n"
     ]
    },
    {
     "name": "stderr",
     "output_type": "stream",
     "text": [
      "Epoch 307 [Training]: 100%|██████████| 84/84 [00:06<00:00, 13.20it/s, loss=-17284.02, λc2D1=249.74, λd1=219.33, λd2=290.06, λd3=208.28]\n",
      "Epoch 307 [Validation]: 100%|██████████| 21/21 [00:01<00:00, 14.60it/s, loss=-17867.22]\n"
     ]
    },
    {
     "name": "stdout",
     "output_type": "stream",
     "text": [
      "\tTotal Loss (NLL + MDMM): -17402.66\n",
      "\tMDMM Loss:               9977.17\n",
      "\tRemaining Weights:       85.93 %\n"
     ]
    },
    {
     "name": "stderr",
     "output_type": "stream",
     "text": [
      "Epoch 308 [Training]: 100%|██████████| 84/84 [00:06<00:00, 13.56it/s, loss=-17261.01, λc2D1=250.27, λd1=220.06, λd2=290.91, λd3=208.76]\n",
      "Epoch 308 [Validation]: 100%|██████████| 21/21 [00:01<00:00, 15.13it/s, loss=-17835.98]\n"
     ]
    },
    {
     "name": "stdout",
     "output_type": "stream",
     "text": [
      "\tTotal Loss (NLL + MDMM): -17374.01\n",
      "\tMDMM Loss:               9999.34\n",
      "\tRemaining Weights:       86.05 %\n"
     ]
    },
    {
     "name": "stderr",
     "output_type": "stream",
     "text": [
      "Epoch 309 [Training]: 100%|██████████| 84/84 [00:06<00:00, 13.27it/s, loss=-17221.84, λc2D1=250.80, λd1=220.79, λd2=291.76, λd3=209.25]\n",
      "Epoch 309 [Validation]: 100%|██████████| 21/21 [00:01<00:00, 14.81it/s, loss=-17841.36]\n"
     ]
    },
    {
     "name": "stdout",
     "output_type": "stream",
     "text": [
      "\tTotal Loss (NLL + MDMM): -17368.24\n",
      "\tMDMM Loss:               10014.47\n",
      "\tRemaining Weights:       85.82 %\n"
     ]
    },
    {
     "name": "stderr",
     "output_type": "stream",
     "text": [
      "Epoch 310 [Training]: 100%|██████████| 84/84 [00:06<00:00, 13.34it/s, loss=-17224.21, λc2D1=251.32, λd1=221.52, λd2=292.61, λd3=209.73]\n",
      "Epoch 310 [Validation]: 100%|██████████| 21/21 [00:01<00:00, 14.91it/s, loss=-17819.61]\n"
     ]
    },
    {
     "name": "stdout",
     "output_type": "stream",
     "text": [
      "\tTotal Loss (NLL + MDMM): -17354.90\n",
      "\tMDMM Loss:               10030.71\n",
      "\tRemaining Weights:       85.66 %\n"
     ]
    },
    {
     "name": "stderr",
     "output_type": "stream",
     "text": [
      "Epoch 311 [Training]: 100%|██████████| 84/84 [00:06<00:00, 13.58it/s, loss=-17209.00, λc2D1=251.85, λd1=222.25, λd2=293.46, λd3=210.22]\n",
      "Epoch 311 [Validation]: 100%|██████████| 21/21 [00:01<00:00, 14.78it/s, loss=-17807.00]\n"
     ]
    },
    {
     "name": "stdout",
     "output_type": "stream",
     "text": [
      "\tTotal Loss (NLL + MDMM): -17344.50\n",
      "\tMDMM Loss:               10049.53\n",
      "\tRemaining Weights:       85.55 %\n"
     ]
    },
    {
     "name": "stderr",
     "output_type": "stream",
     "text": [
      "Epoch 312 [Training]: 100%|██████████| 84/84 [00:06<00:00, 13.48it/s, loss=-17186.22, λc2D1=252.38, λd1=222.98, λd2=294.31, λd3=210.70]\n",
      "Epoch 312 [Validation]: 100%|██████████| 21/21 [00:01<00:00, 14.60it/s, loss=-17807.42]\n"
     ]
    },
    {
     "name": "stdout",
     "output_type": "stream",
     "text": [
      "\tTotal Loss (NLL + MDMM): -17329.70\n",
      "\tMDMM Loss:               10067.15\n",
      "\tRemaining Weights:       85.49 %\n"
     ]
    },
    {
     "name": "stderr",
     "output_type": "stream",
     "text": [
      "Epoch 313 [Training]: 100%|██████████| 84/84 [00:06<00:00, 13.54it/s, loss=-17183.72, λc2D1=252.91, λd1=223.71, λd2=295.16, λd3=211.18]\n",
      "Epoch 313 [Validation]: 100%|██████████| 21/21 [00:01<00:00, 14.95it/s, loss=-17763.88]\n"
     ]
    },
    {
     "name": "stdout",
     "output_type": "stream",
     "text": [
      "\tTotal Loss (NLL + MDMM): -17289.47\n",
      "\tMDMM Loss:               10087.10\n",
      "\tRemaining Weights:       85.49 %\n"
     ]
    },
    {
     "name": "stderr",
     "output_type": "stream",
     "text": [
      "Epoch 314 [Training]: 100%|██████████| 84/84 [00:06<00:00, 13.52it/s, loss=-17162.84, λc2D1=253.43, λd1=224.44, λd2=296.01, λd3=211.67]\n",
      "Epoch 314 [Validation]: 100%|██████████| 21/21 [00:01<00:00, 15.12it/s, loss=-17750.40]\n"
     ]
    },
    {
     "name": "stdout",
     "output_type": "stream",
     "text": [
      "\tTotal Loss (NLL + MDMM): -17278.10\n",
      "\tMDMM Loss:               10103.70\n",
      "\tRemaining Weights:       85.22 %\n"
     ]
    },
    {
     "name": "stderr",
     "output_type": "stream",
     "text": [
      "Epoch 315 [Training]: 100%|██████████| 84/84 [00:06<00:00, 13.29it/s, loss=-17142.12, λc2D1=253.96, λd1=225.17, λd2=296.86, λd3=212.15]\n",
      "Epoch 315 [Validation]: 100%|██████████| 21/21 [00:01<00:00, 15.25it/s, loss=-17748.10]\n"
     ]
    },
    {
     "name": "stdout",
     "output_type": "stream",
     "text": [
      "\tTotal Loss (NLL + MDMM): -17279.34\n",
      "\tMDMM Loss:               10119.87\n",
      "\tRemaining Weights:       85.16 %\n"
     ]
    },
    {
     "name": "stderr",
     "output_type": "stream",
     "text": [
      "Epoch 316 [Training]: 100%|██████████| 84/84 [00:06<00:00, 13.22it/s, loss=-17133.62, λc2D1=254.48, λd1=225.90, λd2=297.71, λd3=212.63]\n",
      "Epoch 316 [Validation]: 100%|██████████| 21/21 [00:01<00:00, 15.02it/s, loss=-17731.70]\n"
     ]
    },
    {
     "name": "stdout",
     "output_type": "stream",
     "text": [
      "\tTotal Loss (NLL + MDMM): -17259.42\n",
      "\tMDMM Loss:               10141.20\n",
      "\tRemaining Weights:       85.22 %\n"
     ]
    },
    {
     "name": "stderr",
     "output_type": "stream",
     "text": [
      "Epoch 317 [Training]: 100%|██████████| 84/84 [00:06<00:00, 13.42it/s, loss=-17107.54, λc2D1=255.01, λd1=226.62, λd2=298.55, λd3=213.11]\n",
      "Epoch 317 [Validation]: 100%|██████████| 21/21 [00:01<00:00, 14.86it/s, loss=-17727.17]\n"
     ]
    },
    {
     "name": "stdout",
     "output_type": "stream",
     "text": [
      "\tTotal Loss (NLL + MDMM): -17245.65\n",
      "\tMDMM Loss:               10159.11\n",
      "\tRemaining Weights:       85.16 %\n"
     ]
    },
    {
     "name": "stderr",
     "output_type": "stream",
     "text": [
      "Epoch 318 [Training]: 100%|██████████| 84/84 [00:06<00:00, 13.49it/s, loss=-17105.24, λc2D1=255.54, λd1=227.35, λd2=299.40, λd3=213.59]\n",
      "Epoch 318 [Validation]: 100%|██████████| 21/21 [00:01<00:00, 14.94it/s, loss=-17704.67]\n"
     ]
    },
    {
     "name": "stdout",
     "output_type": "stream",
     "text": [
      "\tTotal Loss (NLL + MDMM): -17231.36\n",
      "\tMDMM Loss:               10174.93\n",
      "\tRemaining Weights:       85.05 %\n"
     ]
    },
    {
     "name": "stderr",
     "output_type": "stream",
     "text": [
      "Epoch 319 [Training]: 100%|██████████| 84/84 [00:06<00:00, 13.50it/s, loss=-17085.83, λc2D1=256.06, λd1=228.08, λd2=300.24, λd3=214.07]\n",
      "Epoch 319 [Validation]: 100%|██████████| 21/21 [00:01<00:00, 15.09it/s, loss=-17669.02]\n"
     ]
    },
    {
     "name": "stdout",
     "output_type": "stream",
     "text": [
      "\tTotal Loss (NLL + MDMM): -17197.41\n",
      "\tMDMM Loss:               10191.77\n",
      "\tRemaining Weights:       84.89 %\n"
     ]
    },
    {
     "name": "stderr",
     "output_type": "stream",
     "text": [
      "Epoch 320 [Training]: 100%|██████████| 84/84 [00:06<00:00, 13.42it/s, loss=-17069.47, λc2D1=256.59, λd1=228.80, λd2=301.09, λd3=214.55]\n",
      "Epoch 320 [Validation]: 100%|██████████| 21/21 [00:01<00:00, 15.27it/s, loss=-17680.04]\n"
     ]
    },
    {
     "name": "stdout",
     "output_type": "stream",
     "text": [
      "\tTotal Loss (NLL + MDMM): -17203.94\n",
      "\tMDMM Loss:               10210.64\n",
      "\tRemaining Weights:       84.89 %\n"
     ]
    },
    {
     "name": "stderr",
     "output_type": "stream",
     "text": [
      "Epoch 321 [Training]: 100%|██████████| 84/84 [00:06<00:00, 13.49it/s, loss=-17035.80, λc2D1=257.11, λd1=229.53, λd2=301.93, λd3=215.03]\n",
      "Epoch 321 [Validation]: 100%|██████████| 21/21 [00:01<00:00, 14.83it/s, loss=-17649.97]\n"
     ]
    },
    {
     "name": "stdout",
     "output_type": "stream",
     "text": [
      "\tTotal Loss (NLL + MDMM): -17179.82\n",
      "\tMDMM Loss:               10226.96\n",
      "\tRemaining Weights:       84.83 %\n"
     ]
    },
    {
     "name": "stderr",
     "output_type": "stream",
     "text": [
      "Epoch 322 [Training]: 100%|██████████| 84/84 [00:06<00:00, 13.47it/s, loss=-17039.29, λc2D1=257.64, λd1=230.25, λd2=302.78, λd3=215.51]\n",
      "Epoch 322 [Validation]: 100%|██████████| 21/21 [00:01<00:00, 15.08it/s, loss=-17644.48]\n"
     ]
    },
    {
     "name": "stdout",
     "output_type": "stream",
     "text": [
      "\tTotal Loss (NLL + MDMM): -17166.95\n",
      "\tMDMM Loss:               10241.16\n",
      "\tRemaining Weights:       84.67 %\n"
     ]
    },
    {
     "name": "stderr",
     "output_type": "stream",
     "text": [
      "Epoch 323 [Training]: 100%|██████████| 84/84 [00:06<00:00, 13.50it/s, loss=-17010.15, λc2D1=258.16, λd1=230.97, λd2=303.62, λd3=215.99]\n",
      "Epoch 323 [Validation]: 100%|██████████| 21/21 [00:01<00:00, 15.00it/s, loss=-17621.51]\n"
     ]
    },
    {
     "name": "stdout",
     "output_type": "stream",
     "text": [
      "\tTotal Loss (NLL + MDMM): -17147.62\n",
      "\tMDMM Loss:               10261.25\n",
      "\tRemaining Weights:       84.61 %\n"
     ]
    },
    {
     "name": "stderr",
     "output_type": "stream",
     "text": [
      "Epoch 324 [Training]: 100%|██████████| 84/84 [00:06<00:00, 13.54it/s, loss=-17006.63, λc2D1=258.69, λd1=231.69, λd2=304.46, λd3=216.47]\n",
      "Epoch 324 [Validation]: 100%|██████████| 21/21 [00:01<00:00, 14.84it/s, loss=-17606.79]\n"
     ]
    },
    {
     "name": "stdout",
     "output_type": "stream",
     "text": [
      "\tTotal Loss (NLL + MDMM): -17133.19\n",
      "\tMDMM Loss:               10272.58\n",
      "\tRemaining Weights:       84.50 %\n"
     ]
    },
    {
     "name": "stderr",
     "output_type": "stream",
     "text": [
      "Epoch 325 [Training]: 100%|██████████| 84/84 [00:06<00:00, 13.45it/s, loss=-17002.56, λc2D1=259.21, λd1=232.42, λd2=305.30, λd3=216.94]\n",
      "Epoch 325 [Validation]: 100%|██████████| 21/21 [00:01<00:00, 15.14it/s, loss=-17620.65]\n"
     ]
    },
    {
     "name": "stdout",
     "output_type": "stream",
     "text": [
      "\tTotal Loss (NLL + MDMM): -17140.02\n",
      "\tMDMM Loss:               10290.26\n",
      "\tRemaining Weights:       84.45 %\n"
     ]
    },
    {
     "name": "stderr",
     "output_type": "stream",
     "text": [
      "Epoch 326 [Training]: 100%|██████████| 84/84 [00:06<00:00, 13.51it/s, loss=-16982.36, λc2D1=259.74, λd1=233.14, λd2=306.14, λd3=217.42]\n",
      "Epoch 326 [Validation]: 100%|██████████| 21/21 [00:01<00:00, 14.94it/s, loss=-17616.32]\n"
     ]
    },
    {
     "name": "stdout",
     "output_type": "stream",
     "text": [
      "\tTotal Loss (NLL + MDMM): -17120.58\n",
      "\tMDMM Loss:               10308.37\n",
      "\tRemaining Weights:       84.45 %\n"
     ]
    },
    {
     "name": "stderr",
     "output_type": "stream",
     "text": [
      "Epoch 327 [Training]: 100%|██████████| 84/84 [00:06<00:00, 13.40it/s, loss=-16964.10, λc2D1=260.26, λd1=233.86, λd2=306.98, λd3=217.90]\n",
      "Epoch 327 [Validation]: 100%|██████████| 21/21 [00:01<00:00, 14.79it/s, loss=-17562.51]\n"
     ]
    },
    {
     "name": "stdout",
     "output_type": "stream",
     "text": [
      "\tTotal Loss (NLL + MDMM): -17087.40\n",
      "\tMDMM Loss:               10323.84\n",
      "\tRemaining Weights:       84.34 %\n"
     ]
    },
    {
     "name": "stderr",
     "output_type": "stream",
     "text": [
      "Epoch 328 [Training]: 100%|██████████| 84/84 [00:06<00:00, 13.53it/s, loss=-16933.46, λc2D1=260.79, λd1=234.58, λd2=307.81, λd3=218.37]\n",
      "Epoch 328 [Validation]: 100%|██████████| 21/21 [00:01<00:00, 14.99it/s, loss=-17573.97]\n"
     ]
    },
    {
     "name": "stdout",
     "output_type": "stream",
     "text": [
      "\tTotal Loss (NLL + MDMM): -17084.05\n",
      "\tMDMM Loss:               10337.29\n",
      "\tRemaining Weights:       84.17 %\n"
     ]
    },
    {
     "name": "stderr",
     "output_type": "stream",
     "text": [
      "Epoch 329 [Training]: 100%|██████████| 84/84 [00:06<00:00, 13.54it/s, loss=-16942.15, λc2D1=261.31, λd1=235.30, λd2=308.65, λd3=218.85]\n",
      "Epoch 329 [Validation]: 100%|██████████| 21/21 [00:01<00:00, 14.78it/s, loss=-17558.49]\n"
     ]
    },
    {
     "name": "stdout",
     "output_type": "stream",
     "text": [
      "\tTotal Loss (NLL + MDMM): -17076.04\n",
      "\tMDMM Loss:               10354.53\n",
      "\tRemaining Weights:       84.11 %\n"
     ]
    },
    {
     "name": "stderr",
     "output_type": "stream",
     "text": [
      "Epoch 330 [Training]: 100%|██████████| 84/84 [00:06<00:00, 13.50it/s, loss=-16922.66, λc2D1=261.84, λd1=236.02, λd2=309.49, λd3=219.32]\n",
      "Epoch 330 [Validation]: 100%|██████████| 21/21 [00:01<00:00, 15.06it/s, loss=-17542.51]\n"
     ]
    },
    {
     "name": "stdout",
     "output_type": "stream",
     "text": [
      "\tTotal Loss (NLL + MDMM): -17060.92\n",
      "\tMDMM Loss:               10373.05\n",
      "\tRemaining Weights:       84.23 %\n"
     ]
    },
    {
     "name": "stderr",
     "output_type": "stream",
     "text": [
      "Epoch 331 [Training]: 100%|██████████| 84/84 [00:06<00:00, 13.28it/s, loss=-16905.34, λc2D1=262.36, λd1=236.74, λd2=310.32, λd3=219.80]\n",
      "Epoch 331 [Validation]: 100%|██████████| 21/21 [00:01<00:00, 14.69it/s, loss=-17548.65]\n"
     ]
    },
    {
     "name": "stdout",
     "output_type": "stream",
     "text": [
      "\tTotal Loss (NLL + MDMM): -17054.23\n",
      "\tMDMM Loss:               10388.67\n",
      "\tRemaining Weights:       84.11 %\n"
     ]
    },
    {
     "name": "stderr",
     "output_type": "stream",
     "text": [
      "Epoch 332 [Training]: 100%|██████████| 84/84 [00:06<00:00, 13.54it/s, loss=-16900.66, λc2D1=262.88, λd1=237.45, λd2=311.15, λd3=220.27]\n",
      "Epoch 332 [Validation]: 100%|██████████| 21/21 [00:01<00:00, 15.10it/s, loss=-17509.74]\n"
     ]
    },
    {
     "name": "stdout",
     "output_type": "stream",
     "text": [
      "\tTotal Loss (NLL + MDMM): -17028.23\n",
      "\tMDMM Loss:               10399.52\n",
      "\tRemaining Weights:       83.84 %\n"
     ]
    },
    {
     "name": "stderr",
     "output_type": "stream",
     "text": [
      "Epoch 333 [Training]: 100%|██████████| 84/84 [00:06<00:00, 13.10it/s, loss=-16862.46, λc2D1=263.40, λd1=238.17, λd2=311.98, λd3=220.75]\n",
      "Epoch 333 [Validation]: 100%|██████████| 21/21 [00:01<00:00, 15.00it/s, loss=-17514.37]\n"
     ]
    },
    {
     "name": "stdout",
     "output_type": "stream",
     "text": [
      "\tTotal Loss (NLL + MDMM): -17021.28\n",
      "\tMDMM Loss:               10411.55\n",
      "\tRemaining Weights:       83.73 %\n"
     ]
    },
    {
     "name": "stderr",
     "output_type": "stream",
     "text": [
      "Epoch 334 [Training]: 100%|██████████| 84/84 [00:06<00:00, 13.46it/s, loss=-16858.40, λc2D1=263.92, λd1=238.89, λd2=312.81, λd3=221.22]\n",
      "Epoch 334 [Validation]: 100%|██████████| 21/21 [00:01<00:00, 14.82it/s, loss=-17515.49]\n"
     ]
    },
    {
     "name": "stdout",
     "output_type": "stream",
     "text": [
      "\tTotal Loss (NLL + MDMM): -17019.48\n",
      "\tMDMM Loss:               10431.20\n",
      "\tRemaining Weights:       83.62 %\n"
     ]
    },
    {
     "name": "stderr",
     "output_type": "stream",
     "text": [
      "Epoch 335 [Training]: 100%|██████████| 84/84 [00:06<00:00, 13.41it/s, loss=-16843.20, λc2D1=264.45, λd1=239.60, λd2=313.64, λd3=221.70]\n",
      "Epoch 335 [Validation]: 100%|██████████| 21/21 [00:01<00:00, 15.20it/s, loss=-17469.76]\n"
     ]
    },
    {
     "name": "stdout",
     "output_type": "stream",
     "text": [
      "\tTotal Loss (NLL + MDMM): -16981.07\n",
      "\tMDMM Loss:               10449.02\n",
      "\tRemaining Weights:       83.67 %\n"
     ]
    },
    {
     "name": "stderr",
     "output_type": "stream",
     "text": [
      "Epoch 336 [Training]: 100%|██████████| 84/84 [00:06<00:00, 13.53it/s, loss=-16847.47, λc2D1=264.97, λd1=240.32, λd2=314.47, λd3=222.17]\n",
      "Epoch 336 [Validation]: 100%|██████████| 21/21 [00:01<00:00, 14.94it/s, loss=-17467.97]\n"
     ]
    },
    {
     "name": "stdout",
     "output_type": "stream",
     "text": [
      "\tTotal Loss (NLL + MDMM): -16985.54\n",
      "\tMDMM Loss:               10457.06\n",
      "\tRemaining Weights:       83.18 %\n"
     ]
    },
    {
     "name": "stderr",
     "output_type": "stream",
     "text": [
      "Epoch 337 [Training]: 100%|██████████| 84/84 [00:06<00:00, 13.23it/s, loss=-16822.44, λc2D1=265.49, λd1=241.03, λd2=315.30, λd3=222.64]\n",
      "Epoch 337 [Validation]: 100%|██████████| 21/21 [00:01<00:00, 14.74it/s, loss=-17438.67]\n"
     ]
    },
    {
     "name": "stdout",
     "output_type": "stream",
     "text": [
      "\tTotal Loss (NLL + MDMM): -16957.81\n",
      "\tMDMM Loss:               10476.35\n",
      "\tRemaining Weights:       83.40 %\n"
     ]
    },
    {
     "name": "stderr",
     "output_type": "stream",
     "text": [
      "Epoch 338 [Training]: 100%|██████████| 84/84 [00:06<00:00, 13.11it/s, loss=-16819.91, λc2D1=266.01, λd1=241.74, λd2=316.12, λd3=223.11]\n",
      "Epoch 338 [Validation]: 100%|██████████| 21/21 [00:01<00:00, 15.20it/s, loss=-17451.18]\n"
     ]
    },
    {
     "name": "stdout",
     "output_type": "stream",
     "text": [
      "\tTotal Loss (NLL + MDMM): -16964.95\n",
      "\tMDMM Loss:               10487.42\n",
      "\tRemaining Weights:       83.12 %\n"
     ]
    },
    {
     "name": "stderr",
     "output_type": "stream",
     "text": [
      "Epoch 339 [Training]: 100%|██████████| 84/84 [00:06<00:00, 13.55it/s, loss=-16802.12, λc2D1=266.54, λd1=242.46, λd2=316.95, λd3=223.58]\n",
      "Epoch 339 [Validation]: 100%|██████████| 21/21 [00:01<00:00, 14.83it/s, loss=-17426.21]\n"
     ]
    },
    {
     "name": "stdout",
     "output_type": "stream",
     "text": [
      "\tTotal Loss (NLL + MDMM): -16942.41\n",
      "\tMDMM Loss:               10500.47\n",
      "\tRemaining Weights:       83.12 %\n"
     ]
    },
    {
     "name": "stderr",
     "output_type": "stream",
     "text": [
      "Epoch 340 [Training]: 100%|██████████| 84/84 [00:06<00:00, 13.39it/s, loss=-16799.48, λc2D1=267.06, λd1=243.17, λd2=317.77, λd3=224.05]\n",
      "Epoch 340 [Validation]: 100%|██████████| 21/21 [00:01<00:00, 14.44it/s, loss=-17425.52]\n"
     ]
    },
    {
     "name": "stdout",
     "output_type": "stream",
     "text": [
      "\tTotal Loss (NLL + MDMM): -16938.39\n",
      "\tMDMM Loss:               10518.58\n",
      "\tRemaining Weights:       83.12 %\n"
     ]
    },
    {
     "name": "stderr",
     "output_type": "stream",
     "text": [
      "Epoch 341 [Training]: 100%|██████████| 84/84 [00:06<00:00, 13.37it/s, loss=-16757.80, λc2D1=267.58, λd1=243.88, λd2=318.59, λd3=224.53]\n",
      "Epoch 341 [Validation]: 100%|██████████| 21/21 [00:01<00:00, 15.10it/s, loss=-17379.90]\n"
     ]
    },
    {
     "name": "stdout",
     "output_type": "stream",
     "text": [
      "\tTotal Loss (NLL + MDMM): -16896.45\n",
      "\tMDMM Loss:               10533.71\n",
      "\tRemaining Weights:       83.12 %\n"
     ]
    },
    {
     "name": "stderr",
     "output_type": "stream",
     "text": [
      "Epoch 342 [Training]: 100%|██████████| 84/84 [00:06<00:00, 13.39it/s, loss=-16768.71, λc2D1=268.10, λd1=244.59, λd2=319.41, λd3=225.00]\n",
      "Epoch 342 [Validation]: 100%|██████████| 21/21 [00:01<00:00, 14.75it/s, loss=-17381.57]\n"
     ]
    },
    {
     "name": "stdout",
     "output_type": "stream",
     "text": [
      "\tTotal Loss (NLL + MDMM): -16894.27\n",
      "\tMDMM Loss:               10549.25\n",
      "\tRemaining Weights:       82.96 %\n"
     ]
    },
    {
     "name": "stderr",
     "output_type": "stream",
     "text": [
      "Epoch 343 [Training]: 100%|██████████| 84/84 [00:06<00:00, 13.46it/s, loss=-16746.00, λc2D1=268.62, λd1=245.30, λd2=320.23, λd3=225.47]\n",
      "Epoch 343 [Validation]: 100%|██████████| 21/21 [00:01<00:00, 15.08it/s, loss=-17388.50]\n"
     ]
    },
    {
     "name": "stdout",
     "output_type": "stream",
     "text": [
      "\tTotal Loss (NLL + MDMM): -16898.73\n",
      "\tMDMM Loss:               10565.53\n",
      "\tRemaining Weights:       82.90 %\n"
     ]
    },
    {
     "name": "stderr",
     "output_type": "stream",
     "text": [
      "Epoch 344 [Training]: 100%|██████████| 84/84 [00:06<00:00, 13.36it/s, loss=-16721.37, λc2D1=269.14, λd1=246.01, λd2=321.05, λd3=225.93]\n",
      "Epoch 344 [Validation]: 100%|██████████| 21/21 [00:01<00:00, 14.99it/s, loss=-17354.45]\n"
     ]
    },
    {
     "name": "stdout",
     "output_type": "stream",
     "text": [
      "\tTotal Loss (NLL + MDMM): -16865.46\n",
      "\tMDMM Loss:               10580.51\n",
      "\tRemaining Weights:       82.85 %\n"
     ]
    },
    {
     "name": "stderr",
     "output_type": "stream",
     "text": [
      "Epoch 345 [Training]: 100%|██████████| 84/84 [00:06<00:00, 13.55it/s, loss=-16742.34, λc2D1=269.66, λd1=246.72, λd2=321.87, λd3=226.40]\n",
      "Epoch 345 [Validation]: 100%|██████████| 21/21 [00:01<00:00, 15.14it/s, loss=-17369.86]\n"
     ]
    },
    {
     "name": "stdout",
     "output_type": "stream",
     "text": [
      "\tTotal Loss (NLL + MDMM): -16875.00\n",
      "\tMDMM Loss:               10594.10\n",
      "\tRemaining Weights:       82.90 %\n"
     ]
    },
    {
     "name": "stderr",
     "output_type": "stream",
     "text": [
      "Epoch 346 [Training]: 100%|██████████| 84/84 [00:06<00:00, 13.65it/s, loss=-16719.71, λc2D1=270.18, λd1=247.43, λd2=322.69, λd3=226.87]\n",
      "Epoch 346 [Validation]: 100%|██████████| 21/21 [00:01<00:00, 15.01it/s, loss=-17353.30]\n"
     ]
    },
    {
     "name": "stdout",
     "output_type": "stream",
     "text": [
      "\tTotal Loss (NLL + MDMM): -16858.25\n",
      "\tMDMM Loss:               10608.70\n",
      "\tRemaining Weights:       82.79 %\n"
     ]
    },
    {
     "name": "stderr",
     "output_type": "stream",
     "text": [
      "Epoch 347 [Training]: 100%|██████████| 84/84 [00:06<00:00, 13.24it/s, loss=-16683.54, λc2D1=270.70, λd1=248.14, λd2=323.51, λd3=227.34]\n",
      "Epoch 347 [Validation]: 100%|██████████| 21/21 [00:01<00:00, 14.01it/s, loss=-17323.63]\n"
     ]
    },
    {
     "name": "stdout",
     "output_type": "stream",
     "text": [
      "\tTotal Loss (NLL + MDMM): -16835.03\n",
      "\tMDMM Loss:               10626.86\n",
      "\tRemaining Weights:       82.85 %\n"
     ]
    },
    {
     "name": "stderr",
     "output_type": "stream",
     "text": [
      "Epoch 348 [Training]: 100%|██████████| 84/84 [00:06<00:00, 13.42it/s, loss=-16697.13, λc2D1=271.22, λd1=248.84, λd2=324.32, λd3=227.81]\n",
      "Epoch 348 [Validation]: 100%|██████████| 21/21 [00:01<00:00, 14.58it/s, loss=-17335.99]\n"
     ]
    },
    {
     "name": "stdout",
     "output_type": "stream",
     "text": [
      "\tTotal Loss (NLL + MDMM): -16837.22\n",
      "\tMDMM Loss:               10634.12\n",
      "\tRemaining Weights:       82.52 %\n"
     ]
    },
    {
     "name": "stderr",
     "output_type": "stream",
     "text": [
      "Epoch 349 [Training]: 100%|██████████| 84/84 [00:06<00:00, 13.63it/s, loss=-16677.57, λc2D1=271.74, λd1=249.55, λd2=325.14, λd3=228.28]\n",
      "Epoch 349 [Validation]: 100%|██████████| 21/21 [00:01<00:00, 14.96it/s, loss=-17304.08]\n"
     ]
    },
    {
     "name": "stdout",
     "output_type": "stream",
     "text": [
      "\tTotal Loss (NLL + MDMM): -16813.03\n",
      "\tMDMM Loss:               10653.84\n",
      "\tRemaining Weights:       82.63 %\n"
     ]
    },
    {
     "name": "stderr",
     "output_type": "stream",
     "text": [
      "Epoch 350 [Training]: 100%|██████████| 84/84 [00:06<00:00, 13.42it/s, loss=-16673.85, λc2D1=272.26, λd1=250.26, λd2=325.95, λd3=228.74]\n",
      "Epoch 350 [Validation]: 100%|██████████| 21/21 [00:01<00:00, 15.07it/s, loss=-17301.02]\n"
     ]
    },
    {
     "name": "stdout",
     "output_type": "stream",
     "text": [
      "\tTotal Loss (NLL + MDMM): -16797.75\n",
      "\tMDMM Loss:               10673.11\n",
      "\tRemaining Weights:       82.96 %\n"
     ]
    },
    {
     "name": "stderr",
     "output_type": "stream",
     "text": [
      "Epoch 351 [Training]: 100%|██████████| 84/84 [00:06<00:00, 13.46it/s, loss=-16645.36, λc2D1=272.77, λd1=250.96, λd2=326.77, λd3=229.21]\n",
      "Epoch 351 [Validation]: 100%|██████████| 21/21 [00:01<00:00, 15.09it/s, loss=-17289.30]\n"
     ]
    },
    {
     "name": "stdout",
     "output_type": "stream",
     "text": [
      "\tTotal Loss (NLL + MDMM): -16791.13\n",
      "\tMDMM Loss:               10688.31\n",
      "\tRemaining Weights:       82.90 %\n"
     ]
    },
    {
     "name": "stderr",
     "output_type": "stream",
     "text": [
      "Epoch 352 [Training]: 100%|██████████| 84/84 [00:06<00:00, 13.54it/s, loss=-16635.76, λc2D1=273.29, λd1=251.67, λd2=327.58, λd3=229.68]\n",
      "Epoch 352 [Validation]: 100%|██████████| 21/21 [00:01<00:00, 14.59it/s, loss=-17288.51]\n"
     ]
    },
    {
     "name": "stdout",
     "output_type": "stream",
     "text": [
      "\tTotal Loss (NLL + MDMM): -16778.97\n",
      "\tMDMM Loss:               10699.61\n",
      "\tRemaining Weights:       82.85 %\n"
     ]
    },
    {
     "name": "stderr",
     "output_type": "stream",
     "text": [
      "Epoch 353 [Training]: 100%|██████████| 84/84 [00:06<00:00, 13.39it/s, loss=-16633.20, λc2D1=273.81, λd1=252.37, λd2=328.39, λd3=230.14]\n",
      "Epoch 353 [Validation]: 100%|██████████| 21/21 [00:01<00:00, 14.94it/s, loss=-17275.39]\n"
     ]
    },
    {
     "name": "stdout",
     "output_type": "stream",
     "text": [
      "\tTotal Loss (NLL + MDMM): -16770.15\n",
      "\tMDMM Loss:               10708.42\n",
      "\tRemaining Weights:       82.35 %\n"
     ]
    },
    {
     "name": "stderr",
     "output_type": "stream",
     "text": [
      "Epoch 354 [Training]: 100%|██████████| 84/84 [00:06<00:00, 13.56it/s, loss=-16619.56, λc2D1=274.33, λd1=253.08, λd2=329.20, λd3=230.61]\n",
      "Epoch 354 [Validation]: 100%|██████████| 21/21 [00:01<00:00, 15.00it/s, loss=-17248.05]\n"
     ]
    },
    {
     "name": "stdout",
     "output_type": "stream",
     "text": [
      "\tTotal Loss (NLL + MDMM): -16750.55\n",
      "\tMDMM Loss:               10723.69\n",
      "\tRemaining Weights:       82.24 %\n"
     ]
    },
    {
     "name": "stderr",
     "output_type": "stream",
     "text": [
      "Epoch 355 [Training]: 100%|██████████| 84/84 [00:06<00:00, 13.34it/s, loss=-16609.79, λc2D1=274.85, λd1=253.78, λd2=330.01, λd3=231.08]\n",
      "Epoch 355 [Validation]: 100%|██████████| 21/21 [00:01<00:00, 14.99it/s, loss=-17235.32]\n"
     ]
    },
    {
     "name": "stdout",
     "output_type": "stream",
     "text": [
      "\tTotal Loss (NLL + MDMM): -16735.77\n",
      "\tMDMM Loss:               10734.62\n",
      "\tRemaining Weights:       82.13 %\n"
     ]
    },
    {
     "name": "stderr",
     "output_type": "stream",
     "text": [
      "Epoch 356 [Training]: 100%|██████████| 84/84 [00:06<00:00, 13.52it/s, loss=-16598.50, λc2D1=275.36, λd1=254.48, λd2=330.82, λd3=231.54]\n",
      "Epoch 356 [Validation]: 100%|██████████| 21/21 [00:01<00:00, 15.25it/s, loss=-17241.40]\n"
     ]
    },
    {
     "name": "stdout",
     "output_type": "stream",
     "text": [
      "\tTotal Loss (NLL + MDMM): -16738.57\n",
      "\tMDMM Loss:               10743.20\n",
      "\tRemaining Weights:       82.02 %\n"
     ]
    },
    {
     "name": "stderr",
     "output_type": "stream",
     "text": [
      "Epoch 357 [Training]: 100%|██████████| 84/84 [00:06<00:00, 13.52it/s, loss=-16562.28, λc2D1=275.88, λd1=255.18, λd2=331.62, λd3=232.00]\n",
      "Epoch 357 [Validation]: 100%|██████████| 21/21 [00:01<00:00, 14.73it/s, loss=-17225.34]\n"
     ]
    },
    {
     "name": "stdout",
     "output_type": "stream",
     "text": [
      "\tTotal Loss (NLL + MDMM): -16712.07\n",
      "\tMDMM Loss:               10771.87\n",
      "\tRemaining Weights:       82.74 %\n"
     ]
    },
    {
     "name": "stderr",
     "output_type": "stream",
     "text": [
      "Epoch 358 [Training]: 100%|██████████| 84/84 [00:06<00:00, 13.50it/s, loss=-16565.57, λc2D1=276.39, λd1=255.88, λd2=332.43, λd3=232.47]\n",
      "Epoch 358 [Validation]: 100%|██████████| 21/21 [00:01<00:00, 15.12it/s, loss=-17192.36]\n"
     ]
    },
    {
     "name": "stdout",
     "output_type": "stream",
     "text": [
      "\tTotal Loss (NLL + MDMM): -16694.15\n",
      "\tMDMM Loss:               10776.73\n",
      "\tRemaining Weights:       82.07 %\n"
     ]
    },
    {
     "name": "stderr",
     "output_type": "stream",
     "text": [
      "Epoch 359 [Training]: 100%|██████████| 84/84 [00:06<00:00, 13.39it/s, loss=-16547.07, λc2D1=276.91, λd1=256.58, λd2=333.23, λd3=232.93]\n",
      "Epoch 359 [Validation]: 100%|██████████| 21/21 [00:01<00:00, 14.76it/s, loss=-17190.27]\n"
     ]
    },
    {
     "name": "stdout",
     "output_type": "stream",
     "text": [
      "\tTotal Loss (NLL + MDMM): -16686.17\n",
      "\tMDMM Loss:               10783.09\n",
      "\tRemaining Weights:       81.80 %\n"
     ]
    },
    {
     "name": "stderr",
     "output_type": "stream",
     "text": [
      "Epoch 360 [Training]: 100%|██████████| 84/84 [00:06<00:00, 13.47it/s, loss=-16533.93, λc2D1=277.43, λd1=257.28, λd2=334.04, λd3=233.39]\n",
      "Epoch 360 [Validation]: 100%|██████████| 21/21 [00:01<00:00, 14.72it/s, loss=-17176.06]\n"
     ]
    },
    {
     "name": "stdout",
     "output_type": "stream",
     "text": [
      "\tTotal Loss (NLL + MDMM): -16674.79\n",
      "\tMDMM Loss:               10799.76\n",
      "\tRemaining Weights:       81.91 %\n"
     ]
    },
    {
     "name": "stderr",
     "output_type": "stream",
     "text": [
      "Epoch 361 [Training]: 100%|██████████| 84/84 [00:06<00:00, 13.54it/s, loss=-16522.50, λc2D1=277.94, λd1=257.98, λd2=334.84, λd3=233.85]\n",
      "Epoch 361 [Validation]: 100%|██████████| 21/21 [00:01<00:00, 14.86it/s, loss=-17157.37]\n"
     ]
    },
    {
     "name": "stdout",
     "output_type": "stream",
     "text": [
      "\tTotal Loss (NLL + MDMM): -16658.42\n",
      "\tMDMM Loss:               10815.13\n",
      "\tRemaining Weights:       82.02 %\n"
     ]
    },
    {
     "name": "stderr",
     "output_type": "stream",
     "text": [
      "Epoch 362 [Training]: 100%|██████████| 84/84 [00:06<00:00, 13.50it/s, loss=-16515.73, λc2D1=278.46, λd1=258.68, λd2=335.64, λd3=234.31]\n",
      "Epoch 362 [Validation]: 100%|██████████| 21/21 [00:01<00:00, 14.38it/s, loss=-17154.71]\n"
     ]
    },
    {
     "name": "stdout",
     "output_type": "stream",
     "text": [
      "\tTotal Loss (NLL + MDMM): -16652.53\n",
      "\tMDMM Loss:               10825.11\n",
      "\tRemaining Weights:       81.63 %\n"
     ]
    },
    {
     "name": "stderr",
     "output_type": "stream",
     "text": [
      "Epoch 363 [Training]: 100%|██████████| 84/84 [00:06<00:00, 13.48it/s, loss=-16505.19, λc2D1=278.97, λd1=259.37, λd2=336.44, λd3=234.77]\n",
      "Epoch 363 [Validation]: 100%|██████████| 21/21 [00:01<00:00, 15.29it/s, loss=-17150.06]\n"
     ]
    },
    {
     "name": "stdout",
     "output_type": "stream",
     "text": [
      "\tTotal Loss (NLL + MDMM): -16643.73\n",
      "\tMDMM Loss:               10838.24\n",
      "\tRemaining Weights:       81.80 %\n"
     ]
    },
    {
     "name": "stderr",
     "output_type": "stream",
     "text": [
      "Epoch 364 [Training]: 100%|██████████| 84/84 [00:06<00:00, 13.59it/s, loss=-16477.13, λc2D1=279.49, λd1=260.07, λd2=337.24, λd3=235.23]\n",
      "Epoch 364 [Validation]: 100%|██████████| 21/21 [00:01<00:00, 15.05it/s, loss=-17121.54]\n"
     ]
    },
    {
     "name": "stdout",
     "output_type": "stream",
     "text": [
      "\tTotal Loss (NLL + MDMM): -16619.92\n",
      "\tMDMM Loss:               10856.44\n",
      "\tRemaining Weights:       82.07 %\n"
     ]
    },
    {
     "name": "stderr",
     "output_type": "stream",
     "text": [
      "Epoch 365 [Training]: 100%|██████████| 84/84 [00:06<00:00, 13.56it/s, loss=-16492.40, λc2D1=280.00, λd1=260.77, λd2=338.04, λd3=235.69]\n",
      "Epoch 365 [Validation]: 100%|██████████| 21/21 [00:01<00:00, 14.60it/s, loss=-17129.59]\n"
     ]
    },
    {
     "name": "stdout",
     "output_type": "stream",
     "text": [
      "\tTotal Loss (NLL + MDMM): -16617.79\n",
      "\tMDMM Loss:               10866.03\n",
      "\tRemaining Weights:       81.74 %\n"
     ]
    },
    {
     "name": "stderr",
     "output_type": "stream",
     "text": [
      "Epoch 366 [Training]: 100%|██████████| 84/84 [00:06<00:00, 13.50it/s, loss=-16465.21, λc2D1=280.51, λd1=261.47, λd2=338.84, λd3=236.15]\n",
      "Epoch 366 [Validation]: 100%|██████████| 21/21 [00:01<00:00, 14.98it/s, loss=-17109.30]\n"
     ]
    },
    {
     "name": "stdout",
     "output_type": "stream",
     "text": [
      "\tTotal Loss (NLL + MDMM): -16597.93\n",
      "\tMDMM Loss:               10883.15\n",
      "\tRemaining Weights:       81.96 %\n"
     ]
    },
    {
     "name": "stderr",
     "output_type": "stream",
     "text": [
      "Epoch 367 [Training]: 100%|██████████| 84/84 [00:06<00:00, 13.32it/s, loss=-16463.30, λc2D1=281.03, λd1=262.16, λd2=339.63, λd3=236.61]\n",
      "Epoch 367 [Validation]: 100%|██████████| 21/21 [00:01<00:00, 15.18it/s, loss=-17087.11]\n"
     ]
    },
    {
     "name": "stdout",
     "output_type": "stream",
     "text": [
      "\tTotal Loss (NLL + MDMM): -16580.75\n",
      "\tMDMM Loss:               10895.38\n",
      "\tRemaining Weights:       81.91 %\n"
     ]
    },
    {
     "name": "stderr",
     "output_type": "stream",
     "text": [
      "Epoch 368 [Training]: 100%|██████████| 84/84 [00:06<00:00, 13.46it/s, loss=-16447.71, λc2D1=281.54, λd1=262.86, λd2=340.43, λd3=237.07]\n",
      "Epoch 368 [Validation]: 100%|██████████| 21/21 [00:01<00:00, 15.00it/s, loss=-17087.80]\n"
     ]
    },
    {
     "name": "stdout",
     "output_type": "stream",
     "text": [
      "\tTotal Loss (NLL + MDMM): -16576.80\n",
      "\tMDMM Loss:               10910.32\n",
      "\tRemaining Weights:       81.91 %\n"
     ]
    },
    {
     "name": "stderr",
     "output_type": "stream",
     "text": [
      "Epoch 369 [Training]: 100%|██████████| 84/84 [00:06<00:00, 13.49it/s, loss=-16423.82, λc2D1=282.05, λd1=263.55, λd2=341.22, λd3=237.53]\n",
      "Epoch 369 [Validation]: 100%|██████████| 21/21 [00:01<00:00, 14.97it/s, loss=-17065.39]\n"
     ]
    },
    {
     "name": "stdout",
     "output_type": "stream",
     "text": [
      "\tTotal Loss (NLL + MDMM): -16558.00\n",
      "\tMDMM Loss:               10919.36\n",
      "\tRemaining Weights:       81.58 %\n"
     ]
    },
    {
     "name": "stderr",
     "output_type": "stream",
     "text": [
      "Epoch 370 [Training]: 100%|██████████| 84/84 [00:06<00:00, 13.52it/s, loss=-16412.66, λc2D1=282.57, λd1=264.25, λd2=342.02, λd3=237.99]\n",
      "Epoch 370 [Validation]: 100%|██████████| 21/21 [00:01<00:00, 14.35it/s, loss=-17088.46]\n"
     ]
    },
    {
     "name": "stdout",
     "output_type": "stream",
     "text": [
      "\tTotal Loss (NLL + MDMM): -16563.69\n",
      "\tMDMM Loss:               10933.33\n",
      "\tRemaining Weights:       81.74 %\n"
     ]
    },
    {
     "name": "stderr",
     "output_type": "stream",
     "text": [
      "Epoch 371 [Training]: 100%|██████████| 84/84 [00:06<00:00, 13.27it/s, loss=-16393.93, λc2D1=283.08, λd1=264.94, λd2=342.81, λd3=238.44]\n",
      "Epoch 371 [Validation]: 100%|██████████| 21/21 [00:01<00:00, 15.39it/s, loss=-17034.02]\n"
     ]
    },
    {
     "name": "stdout",
     "output_type": "stream",
     "text": [
      "\tTotal Loss (NLL + MDMM): -16523.42\n",
      "\tMDMM Loss:               10949.68\n",
      "\tRemaining Weights:       81.58 %\n"
     ]
    },
    {
     "name": "stderr",
     "output_type": "stream",
     "text": [
      "Epoch 372 [Training]: 100%|██████████| 84/84 [00:06<00:00, 13.43it/s, loss=-16393.09, λc2D1=283.59, λd1=265.63, λd2=343.61, λd3=238.90]\n",
      "Epoch 372 [Validation]: 100%|██████████| 21/21 [00:01<00:00, 15.14it/s, loss=-17045.51]\n"
     ]
    },
    {
     "name": "stdout",
     "output_type": "stream",
     "text": [
      "\tTotal Loss (NLL + MDMM): -16528.42\n",
      "\tMDMM Loss:               10960.55\n",
      "\tRemaining Weights:       81.52 %\n"
     ]
    },
    {
     "name": "stderr",
     "output_type": "stream",
     "text": [
      "Epoch 373 [Training]: 100%|██████████| 84/84 [00:06<00:00, 13.39it/s, loss=-16384.46, λc2D1=284.10, λd1=266.32, λd2=344.40, λd3=239.35]\n",
      "Epoch 373 [Validation]: 100%|██████████| 21/21 [00:01<00:00, 14.76it/s, loss=-17029.22]\n"
     ]
    },
    {
     "name": "stdout",
     "output_type": "stream",
     "text": [
      "\tTotal Loss (NLL + MDMM): -16515.89\n",
      "\tMDMM Loss:               10976.22\n",
      "\tRemaining Weights:       81.58 %\n"
     ]
    },
    {
     "name": "stderr",
     "output_type": "stream",
     "text": [
      "Epoch 374 [Training]: 100%|██████████| 84/84 [00:06<00:00, 13.47it/s, loss=-16367.91, λc2D1=284.61, λd1=267.01, λd2=345.19, λd3=239.81]\n",
      "Epoch 374 [Validation]: 100%|██████████| 21/21 [00:01<00:00, 15.15it/s, loss=-17008.91]\n"
     ]
    },
    {
     "name": "stdout",
     "output_type": "stream",
     "text": [
      "\tTotal Loss (NLL + MDMM): -16496.54\n",
      "\tMDMM Loss:               10979.68\n",
      "\tRemaining Weights:       81.19 %\n"
     ]
    },
    {
     "name": "stderr",
     "output_type": "stream",
     "text": [
      "Epoch 375 [Training]: 100%|██████████| 84/84 [00:06<00:00, 13.41it/s, loss=-16375.02, λc2D1=285.12, λd1=267.70, λd2=345.98, λd3=240.26]\n",
      "Epoch 375 [Validation]: 100%|██████████| 21/21 [00:01<00:00, 14.59it/s, loss=-17004.00]\n"
     ]
    },
    {
     "name": "stdout",
     "output_type": "stream",
     "text": [
      "\tTotal Loss (NLL + MDMM): -16479.88\n",
      "\tMDMM Loss:               10991.28\n",
      "\tRemaining Weights:       81.25 %\n"
     ]
    },
    {
     "name": "stderr",
     "output_type": "stream",
     "text": [
      "Epoch 376 [Training]: 100%|██████████| 84/84 [00:06<00:00, 13.35it/s, loss=-16361.91, λc2D1=285.63, λd1=268.39, λd2=346.77, λd3=240.72]\n",
      "Epoch 376 [Validation]: 100%|██████████| 21/21 [00:01<00:00, 14.75it/s, loss=-17002.08]\n"
     ]
    },
    {
     "name": "stdout",
     "output_type": "stream",
     "text": [
      "\tTotal Loss (NLL + MDMM): -16487.99\n",
      "\tMDMM Loss:               10999.49\n",
      "\tRemaining Weights:       81.14 %\n"
     ]
    },
    {
     "name": "stderr",
     "output_type": "stream",
     "text": [
      "Epoch 377 [Training]: 100%|██████████| 84/84 [00:06<00:00, 13.41it/s, loss=-16334.75, λc2D1=286.14, λd1=269.08, λd2=347.56, λd3=241.17]\n",
      "Epoch 377 [Validation]: 100%|██████████| 21/21 [00:01<00:00, 14.66it/s, loss=-16977.17]\n"
     ]
    },
    {
     "name": "stdout",
     "output_type": "stream",
     "text": [
      "\tTotal Loss (NLL + MDMM): -16464.52\n",
      "\tMDMM Loss:               11009.63\n",
      "\tRemaining Weights:       80.92 %\n"
     ]
    },
    {
     "name": "stderr",
     "output_type": "stream",
     "text": [
      "Epoch 378 [Training]: 100%|██████████| 84/84 [00:06<00:00, 13.52it/s, loss=-16325.67, λc2D1=286.65, λd1=269.77, λd2=348.35, λd3=241.62]\n",
      "Epoch 378 [Validation]: 100%|██████████| 21/21 [00:01<00:00, 15.02it/s, loss=-16980.60]\n"
     ]
    },
    {
     "name": "stdout",
     "output_type": "stream",
     "text": [
      "\tTotal Loss (NLL + MDMM): -16462.29\n",
      "\tMDMM Loss:               11021.17\n",
      "\tRemaining Weights:       80.92 %\n"
     ]
    },
    {
     "name": "stderr",
     "output_type": "stream",
     "text": [
      "Epoch 379 [Training]: 100%|██████████| 84/84 [00:06<00:00, 13.48it/s, loss=-16497.91, λc2D1=287.14, λd1=270.45, λd2=349.13, λd3=242.08]\n",
      "Epoch 379 [Validation]: 100%|██████████| 21/21 [00:01<00:00, 14.65it/s, loss=-17143.75]\n"
     ]
    },
    {
     "name": "stdout",
     "output_type": "stream",
     "text": [
      "\tTotal Loss (NLL + MDMM): -16630.67\n",
      "\tMDMM Loss:               10849.77\n",
      "\tRemaining Weights:       80.69 %\n"
     ]
    },
    {
     "name": "stderr",
     "output_type": "stream",
     "text": [
      "Epoch 380 [Training]: 100%|██████████| 84/84 [00:06<00:00, 13.42it/s, loss=-16494.73, λc2D1=287.58, λd1=271.14, λd2=349.92, λd3=242.53]\n",
      "Epoch 380 [Validation]: 100%|██████████| 21/21 [00:01<00:00, 15.10it/s, loss=-17151.35]\n"
     ]
    },
    {
     "name": "stdout",
     "output_type": "stream",
     "text": [
      "\tTotal Loss (NLL + MDMM): -16627.56\n",
      "\tMDMM Loss:               10861.16\n",
      "\tRemaining Weights:       80.81 %\n"
     ]
    },
    {
     "name": "stderr",
     "output_type": "stream",
     "text": [
      "Epoch 381 [Training]: 100%|██████████| 84/84 [00:06<00:00, 13.51it/s, loss=-16489.35, λc2D1=288.02, λd1=271.82, λd2=350.70, λd3=242.98]\n",
      "Epoch 381 [Validation]: 100%|██████████| 21/21 [00:01<00:00, 15.06it/s, loss=-17135.27]\n"
     ]
    },
    {
     "name": "stdout",
     "output_type": "stream",
     "text": [
      "\tTotal Loss (NLL + MDMM): -16613.88\n",
      "\tMDMM Loss:               10868.71\n",
      "\tRemaining Weights:       80.36 %\n"
     ]
    },
    {
     "name": "stderr",
     "output_type": "stream",
     "text": [
      "Epoch 382 [Training]: 100%|██████████| 84/84 [00:06<00:00, 13.48it/s, loss=-16449.27, λc2D1=288.47, λd1=272.51, λd2=351.49, λd3=243.43]\n",
      "Epoch 382 [Validation]: 100%|██████████| 21/21 [00:01<00:00, 15.18it/s, loss=-17083.53]\n"
     ]
    },
    {
     "name": "stdout",
     "output_type": "stream",
     "text": [
      "\tTotal Loss (NLL + MDMM): -16570.80\n",
      "\tMDMM Loss:               10885.01\n",
      "\tRemaining Weights:       80.58 %\n"
     ]
    },
    {
     "name": "stderr",
     "output_type": "stream",
     "text": [
      "Epoch 383 [Training]: 100%|██████████| 84/84 [00:06<00:00, 13.24it/s, loss=-16468.85, λc2D1=288.91, λd1=273.19, λd2=352.27, λd3=243.89]\n",
      "Epoch 383 [Validation]: 100%|██████████| 21/21 [00:01<00:00, 14.91it/s, loss=-17110.04]\n"
     ]
    },
    {
     "name": "stdout",
     "output_type": "stream",
     "text": [
      "\tTotal Loss (NLL + MDMM): -16581.79\n",
      "\tMDMM Loss:               10894.79\n",
      "\tRemaining Weights:       80.47 %\n"
     ]
    },
    {
     "name": "stderr",
     "output_type": "stream",
     "text": [
      "Epoch 384 [Training]: 100%|██████████| 84/84 [00:06<00:00, 13.54it/s, loss=-16446.36, λc2D1=289.35, λd1=273.87, λd2=353.05, λd3=244.34]\n",
      "Epoch 384 [Validation]: 100%|██████████| 21/21 [00:01<00:00, 14.90it/s, loss=-17097.21]\n"
     ]
    },
    {
     "name": "stdout",
     "output_type": "stream",
     "text": [
      "\tTotal Loss (NLL + MDMM): -16578.59\n",
      "\tMDMM Loss:               10907.88\n",
      "\tRemaining Weights:       80.53 %\n"
     ]
    },
    {
     "name": "stderr",
     "output_type": "stream",
     "text": [
      "Epoch 385 [Training]: 100%|██████████| 84/84 [00:06<00:00, 13.48it/s, loss=-16459.72, λc2D1=289.79, λd1=274.55, λd2=353.83, λd3=244.79]\n",
      "Epoch 385 [Validation]: 100%|██████████| 21/21 [00:01<00:00, 14.61it/s, loss=-17125.39]\n"
     ]
    },
    {
     "name": "stdout",
     "output_type": "stream",
     "text": [
      "\tTotal Loss (NLL + MDMM): -16595.17\n",
      "\tMDMM Loss:               10909.42\n",
      "\tRemaining Weights:       80.25 %\n"
     ]
    },
    {
     "name": "stderr",
     "output_type": "stream",
     "text": [
      "Epoch 386 [Training]: 100%|██████████| 84/84 [00:06<00:00, 13.35it/s, loss=-16433.37, λc2D1=290.23, λd1=275.23, λd2=354.61, λd3=245.24]\n",
      "Epoch 386 [Validation]: 100%|██████████| 21/21 [00:01<00:00, 14.84it/s, loss=-17074.14]\n"
     ]
    },
    {
     "name": "stdout",
     "output_type": "stream",
     "text": [
      "\tTotal Loss (NLL + MDMM): -16558.20\n",
      "\tMDMM Loss:               10918.26\n",
      "\tRemaining Weights:       80.20 %\n"
     ]
    },
    {
     "name": "stderr",
     "output_type": "stream",
     "text": [
      "Epoch 387 [Training]: 100%|██████████| 84/84 [00:06<00:00, 13.45it/s, loss=-16434.18, λc2D1=290.68, λd1=275.91, λd2=355.39, λd3=245.69]\n",
      "Epoch 387 [Validation]: 100%|██████████| 21/21 [00:01<00:00, 15.02it/s, loss=-17058.30]\n"
     ]
    },
    {
     "name": "stdout",
     "output_type": "stream",
     "text": [
      "\tTotal Loss (NLL + MDMM): -16538.28\n",
      "\tMDMM Loss:               10926.56\n",
      "\tRemaining Weights:       79.98 %\n"
     ]
    },
    {
     "name": "stderr",
     "output_type": "stream",
     "text": [
      "Epoch 388 [Training]: 100%|██████████| 84/84 [00:06<00:00, 13.54it/s, loss=-16411.16, λc2D1=291.12, λd1=276.59, λd2=356.17, λd3=246.14]\n",
      "Epoch 388 [Validation]: 100%|██████████| 21/21 [00:01<00:00, 14.78it/s, loss=-17077.70]\n"
     ]
    },
    {
     "name": "stdout",
     "output_type": "stream",
     "text": [
      "\tTotal Loss (NLL + MDMM): -16550.29\n",
      "\tMDMM Loss:               10942.22\n",
      "\tRemaining Weights:       79.87 %\n"
     ]
    },
    {
     "name": "stderr",
     "output_type": "stream",
     "text": [
      "Epoch 389 [Training]: 100%|██████████| 84/84 [00:06<00:00, 13.59it/s, loss=-16415.92, λc2D1=291.56, λd1=277.27, λd2=356.94, λd3=246.59]\n",
      "Epoch 389 [Validation]: 100%|██████████| 21/21 [00:01<00:00, 15.26it/s, loss=-17050.41]\n"
     ]
    },
    {
     "name": "stdout",
     "output_type": "stream",
     "text": [
      "\tTotal Loss (NLL + MDMM): -16528.64\n",
      "\tMDMM Loss:               10954.58\n",
      "\tRemaining Weights:       79.92 %\n"
     ]
    },
    {
     "name": "stderr",
     "output_type": "stream",
     "text": [
      "Epoch 390 [Training]: 100%|██████████| 84/84 [00:06<00:00, 13.60it/s, loss=-16392.43, λc2D1=292.00, λd1=277.94, λd2=357.72, λd3=247.04]\n",
      "Epoch 390 [Validation]: 100%|██████████| 21/21 [00:01<00:00, 15.30it/s, loss=-17017.52]\n"
     ]
    },
    {
     "name": "stdout",
     "output_type": "stream",
     "text": [
      "\tTotal Loss (NLL + MDMM): -16504.73\n",
      "\tMDMM Loss:               10958.17\n",
      "\tRemaining Weights:       79.65 %\n"
     ]
    },
    {
     "name": "stderr",
     "output_type": "stream",
     "text": [
      "Epoch 391 [Training]: 100%|██████████| 84/84 [00:06<00:00, 13.59it/s, loss=-16377.73, λc2D1=292.44, λd1=278.62, λd2=358.50, λd3=247.48]\n",
      "Epoch 391 [Validation]: 100%|██████████| 21/21 [00:01<00:00, 14.82it/s, loss=-17030.24]\n"
     ]
    },
    {
     "name": "stdout",
     "output_type": "stream",
     "text": [
      "\tTotal Loss (NLL + MDMM): -16509.21\n",
      "\tMDMM Loss:               10959.69\n",
      "\tRemaining Weights:       79.32 %\n"
     ]
    },
    {
     "name": "stderr",
     "output_type": "stream",
     "text": [
      "Epoch 392 [Training]: 100%|██████████| 84/84 [00:06<00:00, 13.57it/s, loss=-16398.26, λc2D1=292.89, λd1=279.29, λd2=359.27, λd3=247.93]\n",
      "Epoch 392 [Validation]: 100%|██████████| 21/21 [00:01<00:00, 14.92it/s, loss=-17048.55]\n"
     ]
    },
    {
     "name": "stdout",
     "output_type": "stream",
     "text": [
      "\tTotal Loss (NLL + MDMM): -16521.69\n",
      "\tMDMM Loss:               10961.82\n",
      "\tRemaining Weights:       79.04 %\n"
     ]
    },
    {
     "name": "stderr",
     "output_type": "stream",
     "text": [
      "Epoch 393 [Training]: 100%|██████████| 84/84 [00:06<00:00, 13.34it/s, loss=-16346.43, λc2D1=293.33, λd1=279.96, λd2=360.04, λd3=248.38]\n",
      "Epoch 393 [Validation]: 100%|██████████| 21/21 [00:01<00:00, 14.69it/s, loss=-16983.00]\n"
     ]
    },
    {
     "name": "stdout",
     "output_type": "stream",
     "text": [
      "\tTotal Loss (NLL + MDMM): -16455.57\n",
      "\tMDMM Loss:               11013.26\n",
      "\tRemaining Weights:       79.15 %\n"
     ]
    },
    {
     "name": "stderr",
     "output_type": "stream",
     "text": [
      "Epoch 394 [Training]: 100%|██████████| 84/84 [00:06<00:00, 13.44it/s, loss=-16326.34, λc2D1=293.77, λd1=280.64, λd2=360.81, λd3=248.83]\n",
      "Epoch 394 [Validation]: 100%|██████████| 21/21 [00:01<00:00, 14.80it/s, loss=-16992.79]\n"
     ]
    },
    {
     "name": "stdout",
     "output_type": "stream",
     "text": [
      "\tTotal Loss (NLL + MDMM): -16460.75\n",
      "\tMDMM Loss:               11018.90\n",
      "\tRemaining Weights:       79.15 %\n"
     ]
    },
    {
     "name": "stderr",
     "output_type": "stream",
     "text": [
      "Epoch 395 [Training]: 100%|██████████| 84/84 [00:06<00:00, 13.39it/s, loss=-16310.60, λc2D1=294.21, λd1=281.31, λd2=361.59, λd3=249.27]\n",
      "Epoch 395 [Validation]: 100%|██████████| 21/21 [00:01<00:00, 14.84it/s, loss=-16955.53]\n"
     ]
    },
    {
     "name": "stdout",
     "output_type": "stream",
     "text": [
      "\tTotal Loss (NLL + MDMM): -16430.51\n",
      "\tMDMM Loss:               11035.63\n",
      "\tRemaining Weights:       79.32 %\n"
     ]
    },
    {
     "name": "stderr",
     "output_type": "stream",
     "text": [
      "Epoch 396 [Training]: 100%|██████████| 84/84 [00:06<00:00, 13.39it/s, loss=-16308.82, λc2D1=294.66, λd1=281.98, λd2=362.35, λd3=249.72]\n",
      "Epoch 396 [Validation]: 100%|██████████| 21/21 [00:01<00:00, 14.99it/s, loss=-16970.81]\n"
     ]
    },
    {
     "name": "stdout",
     "output_type": "stream",
     "text": [
      "\tTotal Loss (NLL + MDMM): -16444.25\n",
      "\tMDMM Loss:               11044.69\n",
      "\tRemaining Weights:       79.26 %\n"
     ]
    },
    {
     "name": "stderr",
     "output_type": "stream",
     "text": [
      "Epoch 397 [Training]: 100%|██████████| 84/84 [00:06<00:00, 13.34it/s, loss=-16302.31, λc2D1=295.10, λd1=282.65, λd2=363.12, λd3=250.17]\n",
      "Epoch 397 [Validation]: 100%|██████████| 21/21 [00:01<00:00, 14.91it/s, loss=-16940.01]\n"
     ]
    },
    {
     "name": "stdout",
     "output_type": "stream",
     "text": [
      "\tTotal Loss (NLL + MDMM): -16416.13\n",
      "\tMDMM Loss:               11048.79\n",
      "\tRemaining Weights:       79.21 %\n"
     ]
    },
    {
     "name": "stderr",
     "output_type": "stream",
     "text": [
      "Epoch 398 [Training]: 100%|██████████| 84/84 [00:06<00:00, 13.47it/s, loss=-16281.94, λc2D1=295.54, λd1=283.32, λd2=363.89, λd3=250.61]\n",
      "Epoch 398 [Validation]: 100%|██████████| 21/21 [00:01<00:00, 14.92it/s, loss=-16948.50]\n"
     ]
    },
    {
     "name": "stdout",
     "output_type": "stream",
     "text": [
      "\tTotal Loss (NLL + MDMM): -16423.77\n",
      "\tMDMM Loss:               11047.29\n",
      "\tRemaining Weights:       78.82 %\n"
     ]
    },
    {
     "name": "stderr",
     "output_type": "stream",
     "text": [
      "Epoch 399 [Training]: 100%|██████████| 84/84 [00:06<00:00, 13.51it/s, loss=-16489.70, λc2D1=295.95, λd1=283.99, λd2=364.66, λd3=251.06]\n",
      "Epoch 399 [Validation]: 100%|██████████| 21/21 [00:01<00:00, 14.82it/s, loss=-17129.68]\n"
     ]
    },
    {
     "name": "stdout",
     "output_type": "stream",
     "text": [
      "\tTotal Loss (NLL + MDMM): -16604.07\n",
      "\tMDMM Loss:               10858.59\n",
      "\tRemaining Weights:       78.99 %\n"
     ]
    },
    {
     "name": "stderr",
     "output_type": "stream",
     "text": [
      "Epoch 400 [Training]: 100%|██████████| 84/84 [00:06<00:00, 13.45it/s, loss=-16463.90, λc2D1=296.32, λd1=284.65, λd2=365.42, λd3=251.50]\n",
      "Epoch 400 [Validation]: 100%|██████████| 21/21 [00:01<00:00, 14.86it/s, loss=-17129.40]\n"
     ]
    },
    {
     "name": "stdout",
     "output_type": "stream",
     "text": [
      "\tTotal Loss (NLL + MDMM): -16599.59\n",
      "\tMDMM Loss:               10865.93\n",
      "\tRemaining Weights:       79.04 %\n"
     ]
    },
    {
     "name": "stderr",
     "output_type": "stream",
     "text": [
      "Epoch 401 [Training]: 100%|██████████| 84/84 [00:06<00:00, 13.20it/s, loss=-16460.55, λc2D1=296.69, λd1=285.32, λd2=366.18, λd3=251.95]\n",
      "Epoch 401 [Validation]: 100%|██████████| 21/21 [00:01<00:00, 14.86it/s, loss=-17098.74]\n"
     ]
    },
    {
     "name": "stdout",
     "output_type": "stream",
     "text": [
      "\tTotal Loss (NLL + MDMM): -16575.47\n",
      "\tMDMM Loss:               10869.97\n",
      "\tRemaining Weights:       78.99 %\n"
     ]
    },
    {
     "name": "stderr",
     "output_type": "stream",
     "text": [
      "Epoch 402 [Training]: 100%|██████████| 84/84 [00:06<00:00, 13.35it/s, loss=-16461.50, λc2D1=297.06, λd1=285.99, λd2=366.94, λd3=252.39]\n",
      "Epoch 402 [Validation]: 100%|██████████| 21/21 [00:01<00:00, 14.96it/s, loss=-17099.45]\n"
     ]
    },
    {
     "name": "stdout",
     "output_type": "stream",
     "text": [
      "\tTotal Loss (NLL + MDMM): -16573.17\n",
      "\tMDMM Loss:               10871.50\n",
      "\tRemaining Weights:       78.87 %\n"
     ]
    },
    {
     "name": "stderr",
     "output_type": "stream",
     "text": [
      "Epoch 403 [Training]: 100%|██████████| 84/84 [00:06<00:00, 13.21it/s, loss=-16464.27, λc2D1=297.43, λd1=286.66, λd2=367.70, λd3=252.84]\n",
      "Epoch 403 [Validation]: 100%|██████████| 21/21 [00:01<00:00, 14.94it/s, loss=-17110.25]\n"
     ]
    },
    {
     "name": "stdout",
     "output_type": "stream",
     "text": [
      "\tTotal Loss (NLL + MDMM): -16583.88\n",
      "\tMDMM Loss:               10872.15\n",
      "\tRemaining Weights:       78.65 %\n"
     ]
    },
    {
     "name": "stderr",
     "output_type": "stream",
     "text": [
      "Epoch 404 [Training]: 100%|██████████| 84/84 [00:06<00:00, 13.34it/s, loss=-16443.67, λc2D1=297.81, λd1=287.32, λd2=368.46, λd3=253.28]\n",
      "Epoch 404 [Validation]: 100%|██████████| 21/21 [00:01<00:00, 15.01it/s, loss=-17091.07]\n"
     ]
    },
    {
     "name": "stdout",
     "output_type": "stream",
     "text": [
      "\tTotal Loss (NLL + MDMM): -16567.62\n",
      "\tMDMM Loss:               10880.40\n",
      "\tRemaining Weights:       78.71 %\n"
     ]
    },
    {
     "name": "stderr",
     "output_type": "stream",
     "text": [
      "Epoch 405 [Training]: 100%|██████████| 84/84 [00:06<00:00, 13.32it/s, loss=-16436.33, λc2D1=298.18, λd1=287.98, λd2=369.21, λd3=253.73]\n",
      "Epoch 405 [Validation]: 100%|██████████| 21/21 [00:01<00:00, 15.00it/s, loss=-17085.12]\n"
     ]
    },
    {
     "name": "stdout",
     "output_type": "stream",
     "text": [
      "\tTotal Loss (NLL + MDMM): -16558.63\n",
      "\tMDMM Loss:               10889.17\n",
      "\tRemaining Weights:       78.93 %\n"
     ]
    },
    {
     "name": "stderr",
     "output_type": "stream",
     "text": [
      "Epoch 406 [Training]: 100%|██████████| 84/84 [00:06<00:00, 13.43it/s, loss=-16402.87, λc2D1=298.55, λd1=288.65, λd2=369.97, λd3=254.17]\n",
      "Epoch 406 [Validation]: 100%|██████████| 21/21 [00:01<00:00, 14.86it/s, loss=-17035.84]\n"
     ]
    },
    {
     "name": "stdout",
     "output_type": "stream",
     "text": [
      "\tTotal Loss (NLL + MDMM): -16516.53\n",
      "\tMDMM Loss:               10896.49\n",
      "\tRemaining Weights:       78.93 %\n"
     ]
    },
    {
     "name": "stderr",
     "output_type": "stream",
     "text": [
      "Epoch 407 [Training]: 100%|██████████| 84/84 [00:06<00:00, 13.49it/s, loss=-16428.20, λc2D1=298.93, λd1=289.31, λd2=370.72, λd3=254.62]\n",
      "Epoch 407 [Validation]: 100%|██████████| 21/21 [00:01<00:00, 14.93it/s, loss=-17067.86]\n"
     ]
    },
    {
     "name": "stdout",
     "output_type": "stream",
     "text": [
      "\tTotal Loss (NLL + MDMM): -16542.42\n",
      "\tMDMM Loss:               10893.11\n",
      "\tRemaining Weights:       78.65 %\n"
     ]
    },
    {
     "name": "stderr",
     "output_type": "stream",
     "text": [
      "Epoch 408 [Training]: 100%|██████████| 84/84 [00:06<00:00, 13.41it/s, loss=-16413.22, λc2D1=299.30, λd1=289.97, λd2=371.48, λd3=255.06]\n",
      "Epoch 408 [Validation]: 100%|██████████| 21/21 [00:01<00:00, 15.08it/s, loss=-17022.85]\n"
     ]
    },
    {
     "name": "stdout",
     "output_type": "stream",
     "text": [
      "\tTotal Loss (NLL + MDMM): -16506.34\n",
      "\tMDMM Loss:               10902.46\n",
      "\tRemaining Weights:       78.87 %\n"
     ]
    },
    {
     "name": "stderr",
     "output_type": "stream",
     "text": [
      "Epoch 409 [Training]: 100%|██████████| 84/84 [00:06<00:00, 13.40it/s, loss=-16423.75, λc2D1=299.68, λd1=290.63, λd2=372.23, λd3=255.50]\n",
      "Epoch 409 [Validation]: 100%|██████████| 21/21 [00:01<00:00, 15.00it/s, loss=-17042.75]\n"
     ]
    },
    {
     "name": "stdout",
     "output_type": "stream",
     "text": [
      "\tTotal Loss (NLL + MDMM): -16519.15\n",
      "\tMDMM Loss:               10901.62\n",
      "\tRemaining Weights:       78.65 %\n"
     ]
    },
    {
     "name": "stderr",
     "output_type": "stream",
     "text": [
      "Epoch 410 [Training]: 100%|██████████| 84/84 [00:06<00:00, 13.58it/s, loss=-16401.48, λc2D1=300.05, λd1=291.29, λd2=372.98, λd3=255.94]\n",
      "Epoch 410 [Validation]: 100%|██████████| 21/21 [00:01<00:00, 14.72it/s, loss=-17041.01]\n"
     ]
    },
    {
     "name": "stdout",
     "output_type": "stream",
     "text": [
      "\tTotal Loss (NLL + MDMM): -16516.67\n",
      "\tMDMM Loss:               10901.84\n",
      "\tRemaining Weights:       78.60 %\n"
     ]
    },
    {
     "name": "stderr",
     "output_type": "stream",
     "text": [
      "Epoch 411 [Training]: 100%|██████████| 84/84 [00:06<00:00, 13.53it/s, loss=-16432.54, λc2D1=300.43, λd1=291.95, λd2=373.73, λd3=256.38]\n",
      "Epoch 411 [Validation]: 100%|██████████| 21/21 [00:01<00:00, 14.56it/s, loss=-17071.84]\n"
     ]
    },
    {
     "name": "stdout",
     "output_type": "stream",
     "text": [
      "\tTotal Loss (NLL + MDMM): -16547.91\n",
      "\tMDMM Loss:               10862.66\n",
      "\tRemaining Weights:       78.38 %\n"
     ]
    },
    {
     "name": "stderr",
     "output_type": "stream",
     "text": [
      "Epoch 412 [Training]: 100%|██████████| 84/84 [00:06<00:00, 13.35it/s, loss=-16435.66, λc2D1=300.80, λd1=292.61, λd2=374.48, λd3=256.82]\n",
      "Epoch 412 [Validation]: 100%|██████████| 21/21 [00:01<00:00, 14.45it/s, loss=-17068.67]\n"
     ]
    },
    {
     "name": "stdout",
     "output_type": "stream",
     "text": [
      "\tTotal Loss (NLL + MDMM): -16544.35\n",
      "\tMDMM Loss:               10874.37\n",
      "\tRemaining Weights:       78.27 %\n"
     ]
    },
    {
     "name": "stderr",
     "output_type": "stream",
     "text": [
      "Epoch 413 [Training]: 100%|██████████| 84/84 [00:06<00:00, 13.44it/s, loss=-16432.52, λc2D1=301.18, λd1=293.27, λd2=375.23, λd3=257.26]\n",
      "Epoch 413 [Validation]: 100%|██████████| 21/21 [00:01<00:00, 15.14it/s, loss=-17025.99]\n"
     ]
    },
    {
     "name": "stdout",
     "output_type": "stream",
     "text": [
      "\tTotal Loss (NLL + MDMM): -16511.31\n",
      "\tMDMM Loss:               10888.83\n",
      "\tRemaining Weights:       78.27 %\n"
     ]
    },
    {
     "name": "stderr",
     "output_type": "stream",
     "text": [
      "Epoch 414 [Training]: 100%|██████████| 84/84 [00:06<00:00, 13.38it/s, loss=-16450.52, λc2D1=301.55, λd1=293.93, λd2=375.97, λd3=257.70]\n",
      "Epoch 414 [Validation]: 100%|██████████| 21/21 [00:01<00:00, 14.87it/s, loss=-17073.92]\n"
     ]
    },
    {
     "name": "stdout",
     "output_type": "stream",
     "text": [
      "\tTotal Loss (NLL + MDMM): -16548.87\n",
      "\tMDMM Loss:               10892.33\n",
      "\tRemaining Weights:       78.05 %\n"
     ]
    },
    {
     "name": "stderr",
     "output_type": "stream",
     "text": [
      "Epoch 415 [Training]: 100%|██████████| 84/84 [00:06<00:00, 13.23it/s, loss=-16430.16, λc2D1=301.93, λd1=294.58, λd2=376.72, λd3=258.14]\n",
      "Epoch 415 [Validation]: 100%|██████████| 21/21 [00:01<00:00, 14.61it/s, loss=-17053.18]\n"
     ]
    },
    {
     "name": "stdout",
     "output_type": "stream",
     "text": [
      "\tTotal Loss (NLL + MDMM): -16530.01\n",
      "\tMDMM Loss:               10903.88\n",
      "\tRemaining Weights:       78.21 %\n"
     ]
    },
    {
     "name": "stderr",
     "output_type": "stream",
     "text": [
      "Epoch 416 [Training]: 100%|██████████| 84/84 [00:06<00:00, 13.45it/s, loss=-16435.28, λc2D1=302.30, λd1=295.24, λd2=377.46, λd3=258.58]\n",
      "Epoch 416 [Validation]: 100%|██████████| 21/21 [00:01<00:00, 14.99it/s, loss=-17049.77]\n"
     ]
    },
    {
     "name": "stdout",
     "output_type": "stream",
     "text": [
      "\tTotal Loss (NLL + MDMM): -16525.61\n",
      "\tMDMM Loss:               10909.05\n",
      "\tRemaining Weights:       77.77 %\n"
     ]
    },
    {
     "name": "stderr",
     "output_type": "stream",
     "text": [
      "Epoch 417 [Training]: 100%|██████████| 84/84 [00:06<00:00, 13.44it/s, loss=-16419.56, λc2D1=302.68, λd1=295.89, λd2=378.20, λd3=259.02]\n",
      "Epoch 417 [Validation]: 100%|██████████| 21/21 [00:01<00:00, 15.18it/s, loss=-17031.16]\n"
     ]
    },
    {
     "name": "stdout",
     "output_type": "stream",
     "text": [
      "\tTotal Loss (NLL + MDMM): -16515.04\n",
      "\tMDMM Loss:               10915.53\n",
      "\tRemaining Weights:       77.44 %\n"
     ]
    },
    {
     "name": "stderr",
     "output_type": "stream",
     "text": [
      "Epoch 418 [Training]: 100%|██████████| 84/84 [00:06<00:00, 13.23it/s, loss=-16417.83, λc2D1=303.06, λd1=296.54, λd2=378.94, λd3=259.45]\n",
      "Epoch 418 [Validation]: 100%|██████████| 21/21 [00:01<00:00, 14.76it/s, loss=-17056.87]\n"
     ]
    },
    {
     "name": "stdout",
     "output_type": "stream",
     "text": [
      "\tTotal Loss (NLL + MDMM): -16526.65\n",
      "\tMDMM Loss:               10922.65\n",
      "\tRemaining Weights:       77.22 %\n"
     ]
    },
    {
     "name": "stderr",
     "output_type": "stream",
     "text": [
      "Epoch 419 [Training]: 100%|██████████| 84/84 [00:06<00:00, 13.53it/s, loss=-16406.02, λc2D1=303.44, λd1=297.19, λd2=379.68, λd3=259.89]\n",
      "Epoch 419 [Validation]: 100%|██████████| 21/21 [00:01<00:00, 14.99it/s, loss=-17025.73]\n"
     ]
    },
    {
     "name": "stdout",
     "output_type": "stream",
     "text": [
      "\tTotal Loss (NLL + MDMM): -16501.12\n",
      "\tMDMM Loss:               10942.36\n",
      "\tRemaining Weights:       77.44 %\n"
     ]
    },
    {
     "name": "stderr",
     "output_type": "stream",
     "text": [
      "Epoch 420 [Training]: 100%|██████████| 84/84 [00:06<00:00, 13.33it/s, loss=-16386.79, λc2D1=303.82, λd1=297.84, λd2=380.42, λd3=260.32]\n",
      "Epoch 420 [Validation]: 100%|██████████| 21/21 [00:01<00:00, 15.03it/s, loss=-16989.90]\n"
     ]
    },
    {
     "name": "stdout",
     "output_type": "stream",
     "text": [
      "\tTotal Loss (NLL + MDMM): -16474.57\n",
      "\tMDMM Loss:               10949.20\n",
      "\tRemaining Weights:       77.22 %\n"
     ]
    },
    {
     "name": "stderr",
     "output_type": "stream",
     "text": [
      "Epoch 421 [Training]: 100%|██████████| 84/84 [00:06<00:00, 13.42it/s, loss=-16388.26, λc2D1=304.19, λd1=298.49, λd2=381.16, λd3=260.76]\n",
      "Epoch 421 [Validation]: 100%|██████████| 21/21 [00:01<00:00, 15.00it/s, loss=-16995.11]\n"
     ]
    },
    {
     "name": "stdout",
     "output_type": "stream",
     "text": [
      "\tTotal Loss (NLL + MDMM): -16473.79\n",
      "\tMDMM Loss:               10963.79\n",
      "\tRemaining Weights:       77.33 %\n"
     ]
    },
    {
     "name": "stderr",
     "output_type": "stream",
     "text": [
      "Epoch 422 [Training]: 100%|██████████| 84/84 [00:06<00:00, 13.54it/s, loss=-16388.71, λc2D1=304.57, λd1=299.14, λd2=381.90, λd3=261.19]\n",
      "Epoch 422 [Validation]: 100%|██████████| 21/21 [00:01<00:00, 15.01it/s, loss=-16997.89]\n"
     ]
    },
    {
     "name": "stdout",
     "output_type": "stream",
     "text": [
      "\tTotal Loss (NLL + MDMM): -16474.94\n",
      "\tMDMM Loss:               10974.73\n",
      "\tRemaining Weights:       77.16 %\n"
     ]
    },
    {
     "name": "stderr",
     "output_type": "stream",
     "text": [
      "Epoch 423 [Training]: 100%|██████████| 84/84 [00:06<00:00, 13.71it/s, loss=-16388.35, λc2D1=304.95, λd1=299.78, λd2=382.63, λd3=261.62]\n",
      "Epoch 423 [Validation]: 100%|██████████| 21/21 [00:01<00:00, 14.81it/s, loss=-16990.84]\n"
     ]
    },
    {
     "name": "stdout",
     "output_type": "stream",
     "text": [
      "\tTotal Loss (NLL + MDMM): -16468.13\n",
      "\tMDMM Loss:               10981.25\n",
      "\tRemaining Weights:       76.89 %\n"
     ]
    },
    {
     "name": "stderr",
     "output_type": "stream",
     "text": [
      "Epoch 424 [Training]: 100%|██████████| 84/84 [00:06<00:00, 13.29it/s, loss=-16368.61, λc2D1=305.33, λd1=300.43, λd2=383.37, λd3=262.06]\n",
      "Epoch 424 [Validation]: 100%|██████████| 21/21 [00:01<00:00, 15.12it/s, loss=-16987.00]\n"
     ]
    },
    {
     "name": "stdout",
     "output_type": "stream",
     "text": [
      "\tTotal Loss (NLL + MDMM): -16466.86\n",
      "\tMDMM Loss:               10987.03\n",
      "\tRemaining Weights:       76.72 %\n"
     ]
    },
    {
     "name": "stderr",
     "output_type": "stream",
     "text": [
      "Epoch 425 [Training]: 100%|██████████| 84/84 [00:06<00:00, 13.37it/s, loss=-16366.62, λc2D1=305.71, λd1=301.07, λd2=384.10, λd3=262.49]\n",
      "Epoch 425 [Validation]: 100%|██████████| 21/21 [00:01<00:00, 14.81it/s, loss=-16964.85]\n"
     ]
    },
    {
     "name": "stdout",
     "output_type": "stream",
     "text": [
      "\tTotal Loss (NLL + MDMM): -16448.84\n",
      "\tMDMM Loss:               11001.63\n",
      "\tRemaining Weights:       76.78 %\n"
     ]
    },
    {
     "name": "stderr",
     "output_type": "stream",
     "text": [
      "Epoch 426 [Training]: 100%|██████████| 84/84 [00:06<00:00, 13.50it/s, loss=-16369.45, λc2D1=306.09, λd1=301.72, λd2=384.84, λd3=262.92]\n",
      "Epoch 426 [Validation]: 100%|██████████| 21/21 [00:01<00:00, 15.02it/s, loss=-16966.71]\n"
     ]
    },
    {
     "name": "stdout",
     "output_type": "stream",
     "text": [
      "\tTotal Loss (NLL + MDMM): -16446.60\n",
      "\tMDMM Loss:               11007.20\n",
      "\tRemaining Weights:       76.72 %\n"
     ]
    },
    {
     "name": "stderr",
     "output_type": "stream",
     "text": [
      "Epoch 427 [Training]: 100%|██████████| 84/84 [00:06<00:00, 13.49it/s, loss=-16361.15, λc2D1=306.46, λd1=302.36, λd2=385.57, λd3=263.35]\n",
      "Epoch 427 [Validation]: 100%|██████████| 21/21 [00:01<00:00, 14.60it/s, loss=-16966.72]\n"
     ]
    },
    {
     "name": "stdout",
     "output_type": "stream",
     "text": [
      "\tTotal Loss (NLL + MDMM): -16444.18\n",
      "\tMDMM Loss:               11016.97\n",
      "\tRemaining Weights:       76.45 %\n"
     ]
    },
    {
     "name": "stderr",
     "output_type": "stream",
     "text": [
      "Epoch 428 [Training]: 100%|██████████| 84/84 [00:06<00:00, 12.99it/s, loss=-16350.32, λc2D1=306.84, λd1=303.00, λd2=386.30, λd3=263.78]\n",
      "Epoch 428 [Validation]: 100%|██████████| 21/21 [00:01<00:00, 14.82it/s, loss=-16966.75]\n"
     ]
    },
    {
     "name": "stdout",
     "output_type": "stream",
     "text": [
      "\tTotal Loss (NLL + MDMM): -16444.60\n",
      "\tMDMM Loss:               11022.76\n",
      "\tRemaining Weights:       76.50 %\n"
     ]
    },
    {
     "name": "stderr",
     "output_type": "stream",
     "text": [
      "Epoch 429 [Training]: 100%|██████████| 84/84 [00:06<00:00, 13.23it/s, loss=-16346.03, λc2D1=307.22, λd1=303.64, λd2=387.03, λd3=264.22]\n",
      "Epoch 429 [Validation]: 100%|██████████| 21/21 [00:01<00:00, 14.83it/s, loss=-16950.62]\n"
     ]
    },
    {
     "name": "stdout",
     "output_type": "stream",
     "text": [
      "\tTotal Loss (NLL + MDMM): -16430.31\n",
      "\tMDMM Loss:               11032.66\n",
      "\tRemaining Weights:       76.28 %\n"
     ]
    },
    {
     "name": "stderr",
     "output_type": "stream",
     "text": [
      "Epoch 430 [Training]: 100%|██████████| 84/84 [00:06<00:00, 13.56it/s, loss=-16347.41, λc2D1=307.61, λd1=304.28, λd2=387.75, λd3=264.65]\n",
      "Epoch 430 [Validation]: 100%|██████████| 21/21 [00:01<00:00, 15.02it/s, loss=-16950.97]\n"
     ]
    },
    {
     "name": "stdout",
     "output_type": "stream",
     "text": [
      "\tTotal Loss (NLL + MDMM): -16425.47\n",
      "\tMDMM Loss:               11041.20\n",
      "\tRemaining Weights:       76.23 %\n"
     ]
    },
    {
     "name": "stderr",
     "output_type": "stream",
     "text": [
      "Epoch 431 [Training]: 100%|██████████| 84/84 [00:06<00:00, 13.53it/s, loss=-16352.72, λc2D1=307.99, λd1=304.92, λd2=388.48, λd3=265.08]\n",
      "Epoch 431 [Validation]: 100%|██████████| 21/21 [00:01<00:00, 14.99it/s, loss=-16951.80]\n"
     ]
    },
    {
     "name": "stdout",
     "output_type": "stream",
     "text": [
      "\tTotal Loss (NLL + MDMM): -16427.24\n",
      "\tMDMM Loss:               11049.98\n",
      "\tRemaining Weights:       76.23 %\n"
     ]
    },
    {
     "name": "stderr",
     "output_type": "stream",
     "text": [
      "Epoch 432 [Training]: 100%|██████████| 84/84 [00:06<00:00, 13.53it/s, loss=-16339.92, λc2D1=308.37, λd1=305.56, λd2=389.20, λd3=265.51]\n",
      "Epoch 432 [Validation]: 100%|██████████| 21/21 [00:01<00:00, 14.70it/s, loss=-16972.52]\n"
     ]
    },
    {
     "name": "stdout",
     "output_type": "stream",
     "text": [
      "\tTotal Loss (NLL + MDMM): -16442.64\n",
      "\tMDMM Loss:               11047.45\n",
      "\tRemaining Weights:       75.90 %\n"
     ]
    },
    {
     "name": "stderr",
     "output_type": "stream",
     "text": [
      "Epoch 433 [Training]: 100%|██████████| 84/84 [00:06<00:00, 13.46it/s, loss=-16330.69, λc2D1=308.75, λd1=306.19, λd2=389.92, λd3=265.94]\n",
      "Epoch 433 [Validation]: 100%|██████████| 21/21 [00:01<00:00, 14.79it/s, loss=-16933.64]\n"
     ]
    },
    {
     "name": "stdout",
     "output_type": "stream",
     "text": [
      "\tTotal Loss (NLL + MDMM): -16413.30\n",
      "\tMDMM Loss:               11061.00\n",
      "\tRemaining Weights:       75.95 %\n"
     ]
    },
    {
     "name": "stderr",
     "output_type": "stream",
     "text": [
      "Epoch 434 [Training]: 100%|██████████| 84/84 [00:06<00:00, 13.42it/s, loss=-16325.98, λc2D1=309.13, λd1=306.83, λd2=390.64, λd3=266.37]\n",
      "Epoch 434 [Validation]: 100%|██████████| 21/21 [00:01<00:00, 14.78it/s, loss=-16955.81]\n"
     ]
    },
    {
     "name": "stdout",
     "output_type": "stream",
     "text": [
      "\tTotal Loss (NLL + MDMM): -16422.42\n",
      "\tMDMM Loss:               11067.52\n",
      "\tRemaining Weights:       75.73 %\n"
     ]
    },
    {
     "name": "stderr",
     "output_type": "stream",
     "text": [
      "Epoch 435 [Training]: 100%|██████████| 84/84 [00:06<00:00, 13.38it/s, loss=-16313.90, λc2D1=309.51, λd1=307.47, λd2=391.36, λd3=266.80]\n",
      "Epoch 435 [Validation]: 100%|██████████| 21/21 [00:01<00:00, 14.62it/s, loss=-16933.69]\n"
     ]
    },
    {
     "name": "stdout",
     "output_type": "stream",
     "text": [
      "\tTotal Loss (NLL + MDMM): -16403.85\n",
      "\tMDMM Loss:               11084.47\n",
      "\tRemaining Weights:       75.73 %\n"
     ]
    },
    {
     "name": "stderr",
     "output_type": "stream",
     "text": [
      "Epoch 436 [Training]: 100%|██████████| 84/84 [00:06<00:00, 13.37it/s, loss=-16317.76, λc2D1=309.89, λd1=308.10, λd2=392.08, λd3=267.23]\n",
      "Epoch 436 [Validation]: 100%|██████████| 21/21 [00:01<00:00, 15.07it/s, loss=-16899.52]\n"
     ]
    },
    {
     "name": "stdout",
     "output_type": "stream",
     "text": [
      "\tTotal Loss (NLL + MDMM): -16380.06\n",
      "\tMDMM Loss:               11091.65\n",
      "\tRemaining Weights:       75.79 %\n"
     ]
    },
    {
     "name": "stderr",
     "output_type": "stream",
     "text": [
      "Epoch 437 [Training]: 100%|██████████| 84/84 [00:06<00:00, 13.39it/s, loss=-16292.81, λc2D1=310.27, λd1=308.73, λd2=392.80, λd3=267.65]\n",
      "Epoch 437 [Validation]: 100%|██████████| 21/21 [00:01<00:00, 14.94it/s, loss=-16876.42]\n"
     ]
    },
    {
     "name": "stdout",
     "output_type": "stream",
     "text": [
      "\tTotal Loss (NLL + MDMM): -16354.05\n",
      "\tMDMM Loss:               11119.54\n",
      "\tRemaining Weights:       76.23 %\n"
     ]
    },
    {
     "name": "stderr",
     "output_type": "stream",
     "text": [
      "Epoch 438 [Training]: 100%|██████████| 84/84 [00:06<00:00, 13.48it/s, loss=-16280.54, λc2D1=310.66, λd1=309.37, λd2=393.51, λd3=268.09]\n",
      "Epoch 438 [Validation]: 100%|██████████| 21/21 [00:01<00:00, 14.84it/s, loss=-16888.69]\n"
     ]
    },
    {
     "name": "stdout",
     "output_type": "stream",
     "text": [
      "\tTotal Loss (NLL + MDMM): -16359.50\n",
      "\tMDMM Loss:               11135.68\n",
      "\tRemaining Weights:       76.01 %\n"
     ]
    },
    {
     "name": "stderr",
     "output_type": "stream",
     "text": [
      "Epoch 439 [Training]: 100%|██████████| 84/84 [00:06<00:00, 13.56it/s, loss=-16272.16, λc2D1=311.04, λd1=310.00, λd2=394.23, λd3=268.52]\n",
      "Epoch 439 [Validation]: 100%|██████████| 21/21 [00:01<00:00, 15.24it/s, loss=-16871.66]\n"
     ]
    },
    {
     "name": "stdout",
     "output_type": "stream",
     "text": [
      "\tTotal Loss (NLL + MDMM): -16347.75\n",
      "\tMDMM Loss:               11141.58\n",
      "\tRemaining Weights:       76.06 %\n"
     ]
    },
    {
     "name": "stderr",
     "output_type": "stream",
     "text": [
      "Epoch 440 [Training]: 100%|██████████| 84/84 [00:06<00:00, 13.43it/s, loss=-16272.44, λc2D1=311.42, λd1=310.63, λd2=394.95, λd3=268.95]\n",
      "Epoch 440 [Validation]: 100%|██████████| 21/21 [00:01<00:00, 14.91it/s, loss=-16885.80]\n"
     ]
    },
    {
     "name": "stdout",
     "output_type": "stream",
     "text": [
      "\tTotal Loss (NLL + MDMM): -16352.06\n",
      "\tMDMM Loss:               11148.66\n",
      "\tRemaining Weights:       75.79 %\n"
     ]
    },
    {
     "name": "stderr",
     "output_type": "stream",
     "text": [
      "Epoch 441 [Training]: 100%|██████████| 84/84 [00:06<00:00, 13.55it/s, loss=-16263.16, λc2D1=311.80, λd1=311.26, λd2=395.66, λd3=269.38]\n",
      "Epoch 441 [Validation]: 100%|██████████| 21/21 [00:01<00:00, 14.77it/s, loss=-16872.51]\n"
     ]
    },
    {
     "name": "stdout",
     "output_type": "stream",
     "text": [
      "\tTotal Loss (NLL + MDMM): -16344.79\n",
      "\tMDMM Loss:               11150.24\n",
      "\tRemaining Weights:       75.51 %\n"
     ]
    },
    {
     "name": "stderr",
     "output_type": "stream",
     "text": [
      "Epoch 442 [Training]: 100%|██████████| 84/84 [00:06<00:00, 13.49it/s, loss=-16270.38, λc2D1=312.18, λd1=311.89, λd2=396.37, λd3=269.81]\n",
      "Epoch 442 [Validation]: 100%|██████████| 21/21 [00:01<00:00, 14.86it/s, loss=-16857.48]\n"
     ]
    },
    {
     "name": "stdout",
     "output_type": "stream",
     "text": [
      "\tTotal Loss (NLL + MDMM): -16332.05\n",
      "\tMDMM Loss:               11152.03\n",
      "\tRemaining Weights:       75.29 %\n"
     ]
    },
    {
     "name": "stderr",
     "output_type": "stream",
     "text": [
      "Epoch 443 [Training]: 100%|██████████| 84/84 [00:06<00:00, 13.52it/s, loss=-16264.23, λc2D1=312.56, λd1=312.52, λd2=397.09, λd3=270.24]\n",
      "Epoch 443 [Validation]: 100%|██████████| 21/21 [00:01<00:00, 15.09it/s, loss=-16877.92]\n"
     ]
    },
    {
     "name": "stdout",
     "output_type": "stream",
     "text": [
      "\tTotal Loss (NLL + MDMM): -16343.40\n",
      "\tMDMM Loss:               11161.58\n",
      "\tRemaining Weights:       75.18 %\n"
     ]
    },
    {
     "name": "stderr",
     "output_type": "stream",
     "text": [
      "Epoch 444 [Training]: 100%|██████████| 84/84 [00:06<00:00, 13.34it/s, loss=-16488.49, λc2D1=312.92, λd1=313.14, λd2=397.79, λd3=270.67]\n",
      "Epoch 444 [Validation]: 100%|██████████| 21/21 [00:01<00:00, 14.75it/s, loss=-17105.49]\n"
     ]
    },
    {
     "name": "stdout",
     "output_type": "stream",
     "text": [
      "\tTotal Loss (NLL + MDMM): -16572.63\n",
      "\tMDMM Loss:               10940.81\n",
      "\tRemaining Weights:       75.07 %\n"
     ]
    },
    {
     "name": "stderr",
     "output_type": "stream",
     "text": [
      "Epoch 445 [Training]: 100%|██████████| 84/84 [00:06<00:00, 13.48it/s, loss=-16533.44, λc2D1=313.23, λd1=313.77, λd2=398.50, λd3=271.10]\n",
      "Epoch 445 [Validation]: 100%|██████████| 21/21 [00:01<00:00, 14.80it/s, loss=-17141.98]\n"
     ]
    },
    {
     "name": "stdout",
     "output_type": "stream",
     "text": [
      "\tTotal Loss (NLL + MDMM): -16610.52\n",
      "\tMDMM Loss:               10889.11\n",
      "\tRemaining Weights:       74.96 %\n"
     ]
    },
    {
     "name": "stderr",
     "output_type": "stream",
     "text": [
      "Epoch 446 [Training]: 100%|██████████| 84/84 [00:06<00:00, 13.32it/s, loss=-16534.55, λc2D1=313.53, λd1=314.39, λd2=399.21, λd3=271.53]\n",
      "Epoch 446 [Validation]: 100%|██████████| 21/21 [00:01<00:00, 15.15it/s, loss=-17141.28]\n"
     ]
    },
    {
     "name": "stdout",
     "output_type": "stream",
     "text": [
      "\tTotal Loss (NLL + MDMM): -16611.27\n",
      "\tMDMM Loss:               10896.20\n",
      "\tRemaining Weights:       74.68 %\n"
     ]
    },
    {
     "name": "stderr",
     "output_type": "stream",
     "text": [
      "Epoch 447 [Training]: 100%|██████████| 84/84 [00:06<00:00, 13.32it/s, loss=-16553.94, λc2D1=313.84, λd1=315.02, λd2=399.92, λd3=271.95]\n",
      "Epoch 447 [Validation]: 100%|██████████| 21/21 [00:01<00:00, 15.07it/s, loss=-17158.70]\n"
     ]
    },
    {
     "name": "stdout",
     "output_type": "stream",
     "text": [
      "\tTotal Loss (NLL + MDMM): -16624.51\n",
      "\tMDMM Loss:               10893.70\n",
      "\tRemaining Weights:       74.46 %\n"
     ]
    },
    {
     "name": "stderr",
     "output_type": "stream",
     "text": [
      "Epoch 448 [Training]: 100%|██████████| 84/84 [00:06<00:00, 13.31it/s, loss=-16540.90, λc2D1=314.15, λd1=315.64, λd2=400.62, λd3=272.38]\n",
      "Epoch 448 [Validation]: 100%|██████████| 21/21 [00:01<00:00, 15.04it/s, loss=-17138.44]\n"
     ]
    },
    {
     "name": "stdout",
     "output_type": "stream",
     "text": [
      "\tTotal Loss (NLL + MDMM): -16609.70\n",
      "\tMDMM Loss:               10901.42\n",
      "\tRemaining Weights:       74.35 %\n"
     ]
    },
    {
     "name": "stderr",
     "output_type": "stream",
     "text": [
      "Epoch 449 [Training]: 100%|██████████| 84/84 [00:06<00:00, 13.43it/s, loss=-16533.34, λc2D1=314.46, λd1=316.26, λd2=401.32, λd3=272.81]\n",
      "Epoch 449 [Validation]: 100%|██████████| 21/21 [00:01<00:00, 14.83it/s, loss=-17134.95]\n"
     ]
    },
    {
     "name": "stdout",
     "output_type": "stream",
     "text": [
      "\tTotal Loss (NLL + MDMM): -16605.46\n",
      "\tMDMM Loss:               10901.55\n",
      "\tRemaining Weights:       74.08 %\n"
     ]
    },
    {
     "name": "stderr",
     "output_type": "stream",
     "text": [
      "Epoch 450 [Training]: 100%|██████████| 84/84 [00:06<00:00, 13.42it/s, loss=-16549.15, λc2D1=314.76, λd1=316.88, λd2=402.02, λd3=273.24]\n",
      "Epoch 450 [Validation]: 100%|██████████| 21/21 [00:01<00:00, 14.95it/s, loss=-17126.38]\n"
     ]
    },
    {
     "name": "stdout",
     "output_type": "stream",
     "text": [
      "\tTotal Loss (NLL + MDMM): -16597.31\n",
      "\tMDMM Loss:               10911.62\n",
      "\tRemaining Weights:       74.24 %\n"
     ]
    },
    {
     "name": "stderr",
     "output_type": "stream",
     "text": [
      "Epoch 451 [Training]: 100%|██████████| 84/84 [00:06<00:00, 13.31it/s, loss=-16534.32, λc2D1=315.07, λd1=317.50, λd2=402.72, λd3=273.66]\n",
      "Epoch 451 [Validation]: 100%|██████████| 21/21 [00:01<00:00, 15.09it/s, loss=-17149.02]\n"
     ]
    },
    {
     "name": "stdout",
     "output_type": "stream",
     "text": [
      "\tTotal Loss (NLL + MDMM): -16613.68\n",
      "\tMDMM Loss:               10915.20\n",
      "\tRemaining Weights:       73.91 %\n"
     ]
    },
    {
     "name": "stderr",
     "output_type": "stream",
     "text": [
      "Epoch 452 [Training]: 100%|██████████| 84/84 [00:06<00:00, 13.48it/s, loss=-16528.15, λc2D1=315.38, λd1=318.12, λd2=403.42, λd3=274.09]\n",
      "Epoch 452 [Validation]: 100%|██████████| 21/21 [00:01<00:00, 14.47it/s, loss=-17140.80]\n"
     ]
    },
    {
     "name": "stdout",
     "output_type": "stream",
     "text": [
      "\tTotal Loss (NLL + MDMM): -16602.13\n",
      "\tMDMM Loss:               10924.60\n",
      "\tRemaining Weights:       73.91 %\n"
     ]
    },
    {
     "name": "stderr",
     "output_type": "stream",
     "text": [
      "Epoch 453 [Training]: 100%|██████████| 84/84 [00:06<00:00, 13.31it/s, loss=-16532.57, λc2D1=315.69, λd1=318.74, λd2=404.11, λd3=274.52]\n",
      "Epoch 453 [Validation]: 100%|██████████| 21/21 [00:01<00:00, 15.07it/s, loss=-17140.31]\n"
     ]
    },
    {
     "name": "stdout",
     "output_type": "stream",
     "text": [
      "\tTotal Loss (NLL + MDMM): -16604.72\n",
      "\tMDMM Loss:               10929.89\n",
      "\tRemaining Weights:       73.58 %\n"
     ]
    },
    {
     "name": "stderr",
     "output_type": "stream",
     "text": [
      "Epoch 454 [Training]: 100%|██████████| 84/84 [00:06<00:00, 13.45it/s, loss=-16516.78, λc2D1=316.00, λd1=319.36, λd2=404.81, λd3=274.94]\n",
      "Epoch 454 [Validation]: 100%|██████████| 21/21 [00:01<00:00, 15.07it/s, loss=-17132.84]\n"
     ]
    },
    {
     "name": "stdout",
     "output_type": "stream",
     "text": [
      "\tTotal Loss (NLL + MDMM): -16595.84\n",
      "\tMDMM Loss:               10942.42\n",
      "\tRemaining Weights:       73.63 %\n"
     ]
    },
    {
     "name": "stderr",
     "output_type": "stream",
     "text": [
      "Epoch 455 [Training]: 100%|██████████| 84/84 [00:06<00:00, 13.47it/s, loss=-16510.32, λc2D1=316.31, λd1=319.97, λd2=405.51, λd3=275.37]\n",
      "Epoch 455 [Validation]: 100%|██████████| 21/21 [00:01<00:00, 14.98it/s, loss=-17123.17]\n"
     ]
    },
    {
     "name": "stdout",
     "output_type": "stream",
     "text": [
      "\tTotal Loss (NLL + MDMM): -16584.58\n",
      "\tMDMM Loss:               10956.64\n",
      "\tRemaining Weights:       73.69 %\n"
     ]
    },
    {
     "name": "stderr",
     "output_type": "stream",
     "text": [
      "Epoch 456 [Training]: 100%|██████████| 84/84 [00:06<00:00, 13.48it/s, loss=-16479.77, λc2D1=316.62, λd1=320.59, λd2=406.20, λd3=275.80]\n",
      "Epoch 456 [Validation]: 100%|██████████| 21/21 [00:01<00:00, 15.22it/s, loss=-17097.19]\n"
     ]
    },
    {
     "name": "stdout",
     "output_type": "stream",
     "text": [
      "\tTotal Loss (NLL + MDMM): -16557.81\n",
      "\tMDMM Loss:               10976.07\n",
      "\tRemaining Weights:       73.75 %\n"
     ]
    },
    {
     "name": "stderr",
     "output_type": "stream",
     "text": [
      "Epoch 457 [Training]: 100%|██████████| 84/84 [00:06<00:00, 13.31it/s, loss=-16479.47, λc2D1=316.93, λd1=321.20, λd2=406.90, λd3=276.22]\n",
      "Epoch 457 [Validation]: 100%|██████████| 21/21 [00:01<00:00, 14.88it/s, loss=-17096.96]\n"
     ]
    },
    {
     "name": "stdout",
     "output_type": "stream",
     "text": [
      "\tTotal Loss (NLL + MDMM): -16560.26\n",
      "\tMDMM Loss:               10986.19\n",
      "\tRemaining Weights:       73.75 %\n"
     ]
    },
    {
     "name": "stderr",
     "output_type": "stream",
     "text": [
      "Epoch 458 [Training]: 100%|██████████| 84/84 [00:06<00:00, 13.42it/s, loss=-16450.91, λc2D1=317.25, λd1=321.82, λd2=407.60, λd3=276.65]\n",
      "Epoch 458 [Validation]: 100%|██████████| 21/21 [00:01<00:00, 14.46it/s, loss=-17068.86]\n"
     ]
    },
    {
     "name": "stdout",
     "output_type": "stream",
     "text": [
      "\tTotal Loss (NLL + MDMM): -16530.61\n",
      "\tMDMM Loss:               11001.24\n",
      "\tRemaining Weights:       73.80 %\n"
     ]
    },
    {
     "name": "stderr",
     "output_type": "stream",
     "text": [
      "Epoch 459 [Training]: 100%|██████████| 84/84 [00:06<00:00, 13.42it/s, loss=-16467.02, λc2D1=317.56, λd1=322.43, λd2=408.29, λd3=277.08]\n",
      "Epoch 459 [Validation]: 100%|██████████| 21/21 [00:01<00:00, 14.85it/s, loss=-17106.29]\n"
     ]
    },
    {
     "name": "stdout",
     "output_type": "stream",
     "text": [
      "\tTotal Loss (NLL + MDMM): -16556.49\n",
      "\tMDMM Loss:               11002.30\n",
      "\tRemaining Weights:       73.63 %\n"
     ]
    },
    {
     "name": "stderr",
     "output_type": "stream",
     "text": [
      "Epoch 460 [Training]: 100%|██████████| 84/84 [00:06<00:00, 13.44it/s, loss=-16466.04, λc2D1=317.87, λd1=323.05, λd2=408.98, λd3=277.50]\n",
      "Epoch 460 [Validation]: 100%|██████████| 21/21 [00:01<00:00, 15.19it/s, loss=-17095.28]\n"
     ]
    },
    {
     "name": "stdout",
     "output_type": "stream",
     "text": [
      "\tTotal Loss (NLL + MDMM): -16545.83\n",
      "\tMDMM Loss:               11011.96\n",
      "\tRemaining Weights:       73.52 %\n"
     ]
    },
    {
     "name": "stderr",
     "output_type": "stream",
     "text": [
      "Epoch 461 [Training]: 100%|██████████| 84/84 [00:06<00:00, 13.52it/s, loss=-16450.80, λc2D1=318.19, λd1=323.66, λd2=409.68, λd3=277.93]\n",
      "Epoch 461 [Validation]: 100%|██████████| 21/21 [00:01<00:00, 14.69it/s, loss=-17062.24]\n"
     ]
    },
    {
     "name": "stdout",
     "output_type": "stream",
     "text": [
      "\tTotal Loss (NLL + MDMM): -16526.50\n",
      "\tMDMM Loss:               11024.11\n",
      "\tRemaining Weights:       73.63 %\n"
     ]
    },
    {
     "name": "stderr",
     "output_type": "stream",
     "text": [
      "Epoch 462 [Training]: 100%|██████████| 84/84 [00:06<00:00, 13.46it/s, loss=-16433.90, λc2D1=318.50, λd1=324.27, λd2=410.37, λd3=278.36]\n",
      "Epoch 462 [Validation]: 100%|██████████| 21/21 [00:01<00:00, 14.49it/s, loss=-17072.21]\n"
     ]
    },
    {
     "name": "stdout",
     "output_type": "stream",
     "text": [
      "\tTotal Loss (NLL + MDMM): -16530.78\n",
      "\tMDMM Loss:               11025.68\n",
      "\tRemaining Weights:       73.36 %\n"
     ]
    },
    {
     "name": "stderr",
     "output_type": "stream",
     "text": [
      "Epoch 463 [Training]: 100%|██████████| 84/84 [00:06<00:00, 13.30it/s, loss=-16429.44, λc2D1=318.81, λd1=324.89, λd2=411.06, λd3=278.78]\n",
      "Epoch 463 [Validation]: 100%|██████████| 21/21 [00:01<00:00, 15.12it/s, loss=-17056.51]\n"
     ]
    },
    {
     "name": "stdout",
     "output_type": "stream",
     "text": [
      "\tTotal Loss (NLL + MDMM): -16520.05\n",
      "\tMDMM Loss:               11035.13\n",
      "\tRemaining Weights:       73.25 %\n"
     ]
    },
    {
     "name": "stderr",
     "output_type": "stream",
     "text": [
      "Epoch 464 [Training]: 100%|██████████| 84/84 [00:06<00:00, 13.39it/s, loss=-16446.48, λc2D1=319.13, λd1=325.50, λd2=411.75, λd3=279.20]\n",
      "Epoch 464 [Validation]: 100%|██████████| 21/21 [00:01<00:00, 15.02it/s, loss=-17070.46]\n"
     ]
    },
    {
     "name": "stdout",
     "output_type": "stream",
     "text": [
      "\tTotal Loss (NLL + MDMM): -16518.44\n",
      "\tMDMM Loss:               11049.16\n",
      "\tRemaining Weights:       73.36 %\n"
     ]
    },
    {
     "name": "stderr",
     "output_type": "stream",
     "text": [
      "Epoch 465 [Training]: 100%|██████████| 84/84 [00:06<00:00, 13.64it/s, loss=-16434.76, λc2D1=319.44, λd1=326.11, λd2=412.44, λd3=279.63]\n",
      "Epoch 465 [Validation]: 100%|██████████| 21/21 [00:01<00:00, 14.93it/s, loss=-17053.88]\n"
     ]
    },
    {
     "name": "stdout",
     "output_type": "stream",
     "text": [
      "\tTotal Loss (NLL + MDMM): -16509.67\n",
      "\tMDMM Loss:               11056.50\n",
      "\tRemaining Weights:       73.14 %\n"
     ]
    },
    {
     "name": "stderr",
     "output_type": "stream",
     "text": [
      "Epoch 466 [Training]: 100%|██████████| 84/84 [00:06<00:00, 13.53it/s, loss=-16435.08, λc2D1=319.76, λd1=326.72, λd2=413.13, λd3=280.05]\n",
      "Epoch 466 [Validation]: 100%|██████████| 21/21 [00:01<00:00, 14.71it/s, loss=-17070.17]\n"
     ]
    },
    {
     "name": "stdout",
     "output_type": "stream",
     "text": [
      "\tTotal Loss (NLL + MDMM): -16518.38\n",
      "\tMDMM Loss:               11056.50\n",
      "\tRemaining Weights:       73.03 %\n"
     ]
    },
    {
     "name": "stderr",
     "output_type": "stream",
     "text": [
      "Epoch 467 [Training]: 100%|██████████| 84/84 [00:06<00:00, 13.47it/s, loss=-16414.41, λc2D1=320.07, λd1=327.33, λd2=413.82, λd3=280.47]\n",
      "Epoch 467 [Validation]: 100%|██████████| 21/21 [00:01<00:00, 14.95it/s, loss=-17062.71]\n"
     ]
    },
    {
     "name": "stdout",
     "output_type": "stream",
     "text": [
      "\tTotal Loss (NLL + MDMM): -16505.93\n",
      "\tMDMM Loss:               11074.17\n",
      "\tRemaining Weights:       73.03 %\n"
     ]
    },
    {
     "name": "stderr",
     "output_type": "stream",
     "text": [
      "Epoch 468 [Training]: 100%|██████████| 84/84 [00:06<00:00, 13.56it/s, loss=-16409.32, λc2D1=320.39, λd1=327.93, λd2=414.51, λd3=280.90]\n",
      "Epoch 468 [Validation]: 100%|██████████| 21/21 [00:01<00:00, 14.91it/s, loss=-17059.27]\n"
     ]
    },
    {
     "name": "stdout",
     "output_type": "stream",
     "text": [
      "\tTotal Loss (NLL + MDMM): -16503.45\n",
      "\tMDMM Loss:               11083.07\n",
      "\tRemaining Weights:       72.92 %\n"
     ]
    },
    {
     "name": "stderr",
     "output_type": "stream",
     "text": [
      "Epoch 469 [Training]: 100%|██████████| 84/84 [00:06<00:00, 13.32it/s, loss=-16423.08, λc2D1=320.71, λd1=328.54, λd2=415.19, λd3=281.32]\n",
      "Epoch 469 [Validation]: 100%|██████████| 21/21 [00:01<00:00, 15.09it/s, loss=-17054.85]\n"
     ]
    },
    {
     "name": "stdout",
     "output_type": "stream",
     "text": [
      "\tTotal Loss (NLL + MDMM): -16504.61\n",
      "\tMDMM Loss:               11076.96\n",
      "\tRemaining Weights:       72.75 %\n"
     ]
    },
    {
     "name": "stderr",
     "output_type": "stream",
     "text": [
      "Epoch 470 [Training]: 100%|██████████| 84/84 [00:06<00:00, 13.36it/s, loss=-16402.47, λc2D1=321.02, λd1=329.14, λd2=415.87, λd3=281.74]\n",
      "Epoch 470 [Validation]: 100%|██████████| 21/21 [00:01<00:00, 15.20it/s, loss=-17036.39]\n"
     ]
    },
    {
     "name": "stdout",
     "output_type": "stream",
     "text": [
      "\tTotal Loss (NLL + MDMM): -16484.83\n",
      "\tMDMM Loss:               11084.38\n",
      "\tRemaining Weights:       72.48 %\n"
     ]
    },
    {
     "name": "stderr",
     "output_type": "stream",
     "text": [
      "Epoch 471 [Training]: 100%|██████████| 84/84 [00:06<00:00, 13.38it/s, loss=-16400.45, λc2D1=321.34, λd1=329.75, λd2=416.56, λd3=282.16]\n",
      "Epoch 471 [Validation]: 100%|██████████| 21/21 [00:01<00:00, 14.92it/s, loss=-17041.96]\n"
     ]
    },
    {
     "name": "stdout",
     "output_type": "stream",
     "text": [
      "\tTotal Loss (NLL + MDMM): -16488.27\n",
      "\tMDMM Loss:               11095.44\n",
      "\tRemaining Weights:       72.59 %\n"
     ]
    },
    {
     "name": "stderr",
     "output_type": "stream",
     "text": [
      "Epoch 472 [Training]: 100%|██████████| 84/84 [00:06<00:00, 13.58it/s, loss=-16390.50, λc2D1=321.66, λd1=330.35, λd2=417.24, λd3=282.58]\n",
      "Epoch 472 [Validation]: 100%|██████████| 21/21 [00:01<00:00, 15.00it/s, loss=-17033.03]\n"
     ]
    },
    {
     "name": "stdout",
     "output_type": "stream",
     "text": [
      "\tTotal Loss (NLL + MDMM): -16480.26\n",
      "\tMDMM Loss:               11106.53\n",
      "\tRemaining Weights:       72.59 %\n"
     ]
    },
    {
     "name": "stderr",
     "output_type": "stream",
     "text": [
      "Epoch 473 [Training]: 100%|██████████| 84/84 [00:06<00:00, 13.52it/s, loss=-16380.28, λc2D1=321.98, λd1=330.95, λd2=417.92, λd3=283.01]\n",
      "Epoch 473 [Validation]: 100%|██████████| 21/21 [00:01<00:00, 14.94it/s, loss=-17008.02]\n"
     ]
    },
    {
     "name": "stdout",
     "output_type": "stream",
     "text": [
      "\tTotal Loss (NLL + MDMM): -16458.28\n",
      "\tMDMM Loss:               11107.45\n",
      "\tRemaining Weights:       72.15 %\n"
     ]
    },
    {
     "name": "stderr",
     "output_type": "stream",
     "text": [
      "Epoch 474 [Training]: 100%|██████████| 84/84 [00:06<00:00, 13.43it/s, loss=-16394.46, λc2D1=322.29, λd1=331.56, λd2=418.60, λd3=283.43]\n",
      "Epoch 474 [Validation]: 100%|██████████| 21/21 [00:01<00:00, 14.99it/s, loss=-17024.88]\n"
     ]
    },
    {
     "name": "stdout",
     "output_type": "stream",
     "text": [
      "\tTotal Loss (NLL + MDMM): -16472.20\n",
      "\tMDMM Loss:               11124.22\n",
      "\tRemaining Weights:       72.37 %\n"
     ]
    },
    {
     "name": "stderr",
     "output_type": "stream",
     "text": [
      "Epoch 475 [Training]: 100%|██████████| 84/84 [00:06<00:00, 13.28it/s, loss=-16383.40, λc2D1=322.62, λd1=332.16, λd2=419.28, λd3=283.85]\n",
      "Epoch 475 [Validation]: 100%|██████████| 21/21 [00:01<00:00, 14.85it/s, loss=-17021.75]\n"
     ]
    },
    {
     "name": "stdout",
     "output_type": "stream",
     "text": [
      "\tTotal Loss (NLL + MDMM): -16463.65\n",
      "\tMDMM Loss:               11131.20\n",
      "\tRemaining Weights:       72.20 %\n"
     ]
    },
    {
     "name": "stderr",
     "output_type": "stream",
     "text": [
      "Epoch 476 [Training]: 100%|██████████| 84/84 [00:06<00:00, 13.44it/s, loss=-16379.45, λc2D1=322.94, λd1=332.76, λd2=419.96, λd3=284.27]\n",
      "Epoch 476 [Validation]: 100%|██████████| 21/21 [00:01<00:00, 15.07it/s, loss=-17008.42]\n"
     ]
    },
    {
     "name": "stdout",
     "output_type": "stream",
     "text": [
      "\tTotal Loss (NLL + MDMM): -16453.41\n",
      "\tMDMM Loss:               11146.63\n",
      "\tRemaining Weights:       72.42 %\n"
     ]
    },
    {
     "name": "stderr",
     "output_type": "stream",
     "text": [
      "Epoch 477 [Training]: 100%|██████████| 84/84 [00:06<00:00, 13.46it/s, loss=-16364.97, λc2D1=323.26, λd1=333.36, λd2=420.64, λd3=284.69]\n",
      "Epoch 477 [Validation]: 100%|██████████| 21/21 [00:01<00:00, 14.99it/s, loss=-17004.99]\n"
     ]
    },
    {
     "name": "stdout",
     "output_type": "stream",
     "text": [
      "\tTotal Loss (NLL + MDMM): -16444.73\n",
      "\tMDMM Loss:               11149.69\n",
      "\tRemaining Weights:       72.15 %\n"
     ]
    },
    {
     "name": "stderr",
     "output_type": "stream",
     "text": [
      "Epoch 478 [Training]: 100%|██████████| 84/84 [00:06<00:00, 13.21it/s, loss=-16339.14, λc2D1=323.58, λd1=333.96, λd2=421.32, λd3=285.12]\n",
      "Epoch 478 [Validation]: 100%|██████████| 21/21 [00:01<00:00, 14.72it/s, loss=-16995.81]\n"
     ]
    },
    {
     "name": "stdout",
     "output_type": "stream",
     "text": [
      "\tTotal Loss (NLL + MDMM): -16441.51\n",
      "\tMDMM Loss:               11159.04\n",
      "\tRemaining Weights:       72.04 %\n"
     ]
    },
    {
     "name": "stderr",
     "output_type": "stream",
     "text": [
      "Epoch 479 [Training]: 100%|██████████| 84/84 [00:06<00:00, 13.33it/s, loss=-16373.09, λc2D1=323.90, λd1=334.55, λd2=422.00, λd3=285.54]\n",
      "Epoch 479 [Validation]: 100%|██████████| 21/21 [00:01<00:00, 14.72it/s, loss=-17024.37]\n"
     ]
    },
    {
     "name": "stdout",
     "output_type": "stream",
     "text": [
      "\tTotal Loss (NLL + MDMM): -16455.42\n",
      "\tMDMM Loss:               11163.31\n",
      "\tRemaining Weights:       71.87 %\n"
     ]
    },
    {
     "name": "stderr",
     "output_type": "stream",
     "text": [
      "Epoch 480 [Training]: 100%|██████████| 84/84 [00:06<00:00, 13.44it/s, loss=-16343.20, λc2D1=324.22, λd1=335.15, λd2=422.68, λd3=285.96]\n",
      "Epoch 480 [Validation]: 100%|██████████| 21/21 [00:01<00:00, 14.71it/s, loss=-16975.38]\n"
     ]
    },
    {
     "name": "stdout",
     "output_type": "stream",
     "text": [
      "\tTotal Loss (NLL + MDMM): -16417.97\n",
      "\tMDMM Loss:               11176.46\n",
      "\tRemaining Weights:       71.87 %\n"
     ]
    },
    {
     "name": "stderr",
     "output_type": "stream",
     "text": [
      "Epoch 481 [Training]: 100%|██████████| 84/84 [00:06<00:00, 13.34it/s, loss=-16328.14, λc2D1=324.54, λd1=335.75, λd2=423.36, λd3=286.38]\n",
      "Epoch 481 [Validation]: 100%|██████████| 21/21 [00:01<00:00, 14.59it/s, loss=-16980.91]\n"
     ]
    },
    {
     "name": "stdout",
     "output_type": "stream",
     "text": [
      "\tTotal Loss (NLL + MDMM): -16420.21\n",
      "\tMDMM Loss:               11184.00\n",
      "\tRemaining Weights:       71.76 %\n"
     ]
    },
    {
     "name": "stderr",
     "output_type": "stream",
     "text": [
      "Epoch 482 [Training]: 100%|██████████| 84/84 [00:06<00:00, 13.44it/s, loss=-16337.08, λc2D1=324.86, λd1=336.34, λd2=424.03, λd3=286.80]\n",
      "Epoch 482 [Validation]: 100%|██████████| 21/21 [00:01<00:00, 15.06it/s, loss=-16989.12]\n"
     ]
    },
    {
     "name": "stdout",
     "output_type": "stream",
     "text": [
      "\tTotal Loss (NLL + MDMM): -16424.70\n",
      "\tMDMM Loss:               11189.27\n",
      "\tRemaining Weights:       71.54 %\n"
     ]
    },
    {
     "name": "stderr",
     "output_type": "stream",
     "text": [
      "Epoch 483 [Training]: 100%|██████████| 84/84 [00:06<00:00, 13.52it/s, loss=-16323.77, λc2D1=325.18, λd1=336.94, λd2=424.71, λd3=287.22]\n",
      "Epoch 483 [Validation]: 100%|██████████| 21/21 [00:01<00:00, 15.06it/s, loss=-16979.64]\n"
     ]
    },
    {
     "name": "stdout",
     "output_type": "stream",
     "text": [
      "\tTotal Loss (NLL + MDMM): -16414.94\n",
      "\tMDMM Loss:               11205.94\n",
      "\tRemaining Weights:       71.59 %\n"
     ]
    },
    {
     "name": "stderr",
     "output_type": "stream",
     "text": [
      "Epoch 484 [Training]: 100%|██████████| 84/84 [00:06<00:00, 13.21it/s, loss=-16312.04, λc2D1=325.51, λd1=337.53, λd2=425.39, λd3=287.65]\n",
      "Epoch 484 [Validation]: 100%|██████████| 21/21 [00:01<00:00, 15.13it/s, loss=-16945.24]\n"
     ]
    },
    {
     "name": "stdout",
     "output_type": "stream",
     "text": [
      "\tTotal Loss (NLL + MDMM): -16381.29\n",
      "\tMDMM Loss:               11224.98\n",
      "\tRemaining Weights:       71.76 %\n"
     ]
    },
    {
     "name": "stderr",
     "output_type": "stream",
     "text": [
      "Epoch 485 [Training]: 100%|██████████| 84/84 [00:06<00:00, 13.23it/s, loss=-16292.62, λc2D1=325.83, λd1=338.13, λd2=426.06, λd3=288.07]\n",
      "Epoch 485 [Validation]: 100%|██████████| 21/21 [00:01<00:00, 14.89it/s, loss=-16952.73]\n"
     ]
    },
    {
     "name": "stdout",
     "output_type": "stream",
     "text": [
      "\tTotal Loss (NLL + MDMM): -16384.71\n",
      "\tMDMM Loss:               11229.62\n",
      "\tRemaining Weights:       71.54 %\n"
     ]
    },
    {
     "name": "stderr",
     "output_type": "stream",
     "text": [
      "Epoch 486 [Training]: 100%|██████████| 84/84 [00:06<00:00, 13.43it/s, loss=-16283.30, λc2D1=326.15, λd1=338.72, λd2=426.74, λd3=288.49]\n",
      "Epoch 486 [Validation]: 100%|██████████| 21/21 [00:01<00:00, 15.24it/s, loss=-16934.85]\n"
     ]
    },
    {
     "name": "stdout",
     "output_type": "stream",
     "text": [
      "\tTotal Loss (NLL + MDMM): -16372.84\n",
      "\tMDMM Loss:               11244.09\n",
      "\tRemaining Weights:       71.59 %\n"
     ]
    },
    {
     "name": "stderr",
     "output_type": "stream",
     "text": [
      "Epoch 487 [Training]: 100%|██████████| 84/84 [00:06<00:00, 13.42it/s, loss=-16296.07, λc2D1=326.48, λd1=339.31, λd2=427.41, λd3=288.91]\n",
      "Epoch 487 [Validation]: 100%|██████████| 21/21 [00:01<00:00, 14.50it/s, loss=-16934.57]\n"
     ]
    },
    {
     "name": "stdout",
     "output_type": "stream",
     "text": [
      "\tTotal Loss (NLL + MDMM): -16368.62\n",
      "\tMDMM Loss:               11248.79\n",
      "\tRemaining Weights:       71.54 %\n"
     ]
    },
    {
     "name": "stderr",
     "output_type": "stream",
     "text": [
      "Epoch 488 [Training]: 100%|██████████| 84/84 [00:06<00:00, 13.51it/s, loss=-16255.62, λc2D1=326.80, λd1=339.90, λd2=428.09, λd3=289.33]\n",
      "Epoch 488 [Validation]: 100%|██████████| 21/21 [00:01<00:00, 15.04it/s, loss=-16901.50]\n"
     ]
    },
    {
     "name": "stdout",
     "output_type": "stream",
     "text": [
      "\tTotal Loss (NLL + MDMM): -16341.89\n",
      "\tMDMM Loss:               11252.40\n",
      "\tRemaining Weights:       71.48 %\n"
     ]
    },
    {
     "name": "stderr",
     "output_type": "stream",
     "text": [
      "Epoch 489 [Training]: 100%|██████████| 84/84 [00:06<00:00, 13.43it/s, loss=-16276.34, λc2D1=327.12, λd1=340.49, λd2=428.76, λd3=289.75]\n",
      "Epoch 489 [Validation]: 100%|██████████| 21/21 [00:01<00:00, 14.81it/s, loss=-16933.95]\n"
     ]
    },
    {
     "name": "stdout",
     "output_type": "stream",
     "text": [
      "\tTotal Loss (NLL + MDMM): -16363.86\n",
      "\tMDMM Loss:               11261.87\n",
      "\tRemaining Weights:       71.37 %\n"
     ]
    },
    {
     "name": "stderr",
     "output_type": "stream",
     "text": [
      "Epoch 490 [Training]: 100%|██████████| 84/84 [00:06<00:00, 13.41it/s, loss=-16270.28, λc2D1=327.45, λd1=341.08, λd2=429.43, λd3=290.17]\n",
      "Epoch 490 [Validation]: 100%|██████████| 21/21 [00:01<00:00, 14.99it/s, loss=-16909.04]\n"
     ]
    },
    {
     "name": "stdout",
     "output_type": "stream",
     "text": [
      "\tTotal Loss (NLL + MDMM): -16341.00\n",
      "\tMDMM Loss:               11278.24\n",
      "\tRemaining Weights:       71.70 %\n"
     ]
    },
    {
     "name": "stderr",
     "output_type": "stream",
     "text": [
      "Epoch 491 [Training]: 100%|██████████| 84/84 [00:06<00:00, 13.00it/s, loss=-16249.58, λc2D1=327.77, λd1=341.67, λd2=430.10, λd3=290.59]\n",
      "Epoch 491 [Validation]: 100%|██████████| 21/21 [00:01<00:00, 15.05it/s, loss=-16916.81]\n"
     ]
    },
    {
     "name": "stdout",
     "output_type": "stream",
     "text": [
      "\tTotal Loss (NLL + MDMM): -16352.13\n",
      "\tMDMM Loss:               11276.11\n",
      "\tRemaining Weights:       71.15 %\n"
     ]
    },
    {
     "name": "stderr",
     "output_type": "stream",
     "text": [
      "Epoch 492 [Training]: 100%|██████████| 84/84 [00:06<00:00, 13.40it/s, loss=-16256.01, λc2D1=328.10, λd1=342.26, λd2=430.77, λd3=291.01]\n",
      "Epoch 492 [Validation]: 100%|██████████| 21/21 [00:01<00:00, 14.63it/s, loss=-16919.56]\n"
     ]
    },
    {
     "name": "stdout",
     "output_type": "stream",
     "text": [
      "\tTotal Loss (NLL + MDMM): -16353.48\n",
      "\tMDMM Loss:               11283.16\n",
      "\tRemaining Weights:       71.15 %\n"
     ]
    },
    {
     "name": "stderr",
     "output_type": "stream",
     "text": [
      "Epoch 493 [Training]: 100%|██████████| 84/84 [00:06<00:00, 13.26it/s, loss=-16283.12, λc2D1=328.43, λd1=342.85, λd2=431.44, λd3=291.43]\n",
      "Epoch 493 [Validation]: 100%|██████████| 21/21 [00:01<00:00, 14.92it/s, loss=-16931.35]\n"
     ]
    },
    {
     "name": "stdout",
     "output_type": "stream",
     "text": [
      "\tTotal Loss (NLL + MDMM): -16353.23\n",
      "\tMDMM Loss:               11288.31\n",
      "\tRemaining Weights:       71.04 %\n"
     ]
    },
    {
     "name": "stderr",
     "output_type": "stream",
     "text": [
      "Epoch 494 [Training]: 100%|██████████| 84/84 [00:06<00:00, 13.34it/s, loss=-16249.46, λc2D1=328.75, λd1=343.44, λd2=432.11, λd3=291.85]\n",
      "Epoch 494 [Validation]: 100%|██████████| 21/21 [00:01<00:00, 15.18it/s, loss=-16892.20]\n"
     ]
    },
    {
     "name": "stdout",
     "output_type": "stream",
     "text": [
      "\tTotal Loss (NLL + MDMM): -16322.00\n",
      "\tMDMM Loss:               11298.82\n",
      "\tRemaining Weights:       70.99 %\n"
     ]
    },
    {
     "name": "stderr",
     "output_type": "stream",
     "text": [
      "Epoch 495 [Training]: 100%|██████████| 84/84 [00:06<00:00, 13.47it/s, loss=-16252.28, λc2D1=329.08, λd1=344.02, λd2=432.77, λd3=292.27]\n",
      "Epoch 495 [Validation]: 100%|██████████| 21/21 [00:01<00:00, 14.80it/s, loss=-16900.87]\n"
     ]
    },
    {
     "name": "stdout",
     "output_type": "stream",
     "text": [
      "\tTotal Loss (NLL + MDMM): -16325.93\n",
      "\tMDMM Loss:               11307.22\n",
      "\tRemaining Weights:       70.77 %\n"
     ]
    },
    {
     "name": "stderr",
     "output_type": "stream",
     "text": [
      "Epoch 496 [Training]: 100%|██████████| 84/84 [00:06<00:00, 13.29it/s, loss=-16237.06, λc2D1=329.41, λd1=344.61, λd2=433.44, λd3=292.69]\n",
      "Epoch 496 [Validation]: 100%|██████████| 21/21 [00:01<00:00, 14.64it/s, loss=-16897.21]\n"
     ]
    },
    {
     "name": "stdout",
     "output_type": "stream",
     "text": [
      "\tTotal Loss (NLL + MDMM): -16322.29\n",
      "\tMDMM Loss:               11310.98\n",
      "\tRemaining Weights:       70.77 %\n"
     ]
    },
    {
     "name": "stderr",
     "output_type": "stream",
     "text": [
      "Epoch 497 [Training]: 100%|██████████| 84/84 [00:06<00:00, 13.16it/s, loss=-16250.27, λc2D1=329.73, λd1=345.19, λd2=434.10, λd3=293.11]\n",
      "Epoch 497 [Validation]: 100%|██████████| 21/21 [00:01<00:00, 14.42it/s, loss=-16908.61]\n"
     ]
    },
    {
     "name": "stdout",
     "output_type": "stream",
     "text": [
      "\tTotal Loss (NLL + MDMM): -16328.96\n",
      "\tMDMM Loss:               11320.00\n",
      "\tRemaining Weights:       70.66 %\n"
     ]
    },
    {
     "name": "stderr",
     "output_type": "stream",
     "text": [
      "Epoch 498 [Training]: 100%|██████████| 84/84 [00:06<00:00, 13.35it/s, loss=-16238.42, λc2D1=330.06, λd1=345.78, λd2=434.77, λd3=293.53]\n",
      "Epoch 498 [Validation]: 100%|██████████| 21/21 [00:01<00:00, 15.07it/s, loss=-16900.55]\n"
     ]
    },
    {
     "name": "stdout",
     "output_type": "stream",
     "text": [
      "\tTotal Loss (NLL + MDMM): -16320.65\n",
      "\tMDMM Loss:               11321.78\n",
      "\tRemaining Weights:       70.60 %\n"
     ]
    },
    {
     "name": "stderr",
     "output_type": "stream",
     "text": [
      "Epoch 499 [Training]: 100%|██████████| 84/84 [00:06<00:00, 13.31it/s, loss=-16227.92, λc2D1=330.39, λd1=346.36, λd2=435.43, λd3=293.95]\n",
      "Epoch 499 [Validation]: 100%|██████████| 21/21 [00:01<00:00, 14.48it/s, loss=-16885.18]\n"
     ]
    },
    {
     "name": "stdout",
     "output_type": "stream",
     "text": [
      "\tTotal Loss (NLL + MDMM): -16310.01\n",
      "\tMDMM Loss:               11331.93\n",
      "\tRemaining Weights:       70.49 %\n"
     ]
    },
    {
     "name": "stderr",
     "output_type": "stream",
     "text": [
      "Epoch 500 [Training]: 100%|██████████| 84/84 [00:06<00:00, 13.20it/s, loss=-16232.07, λc2D1=330.72, λd1=346.94, λd2=436.09, λd3=294.37]\n",
      "Epoch 500 [Validation]: 100%|██████████| 21/21 [00:01<00:00, 14.94it/s, loss=-16890.93]\n"
     ]
    },
    {
     "name": "stdout",
     "output_type": "stream",
     "text": [
      "\tTotal Loss (NLL + MDMM): -16310.91\n",
      "\tMDMM Loss:               11343.32\n",
      "\tRemaining Weights:       70.55 %\n"
     ]
    },
    {
     "name": "stderr",
     "output_type": "stream",
     "text": [
      "Epoch 501 [Training]: 100%|██████████| 84/84 [00:06<00:00, 13.29it/s, loss=-16209.97, λc2D1=331.05, λd1=347.52, λd2=436.75, λd3=294.79]\n",
      "Epoch 501 [Validation]: 100%|██████████| 21/21 [00:01<00:00, 15.05it/s, loss=-16873.73]\n"
     ]
    },
    {
     "name": "stdout",
     "output_type": "stream",
     "text": [
      "\tTotal Loss (NLL + MDMM): -16295.25\n",
      "\tMDMM Loss:               11357.19\n",
      "\tRemaining Weights:       70.44 %\n"
     ]
    },
    {
     "name": "stderr",
     "output_type": "stream",
     "text": [
      "Epoch 502 [Training]: 100%|██████████| 84/84 [00:06<00:00, 13.47it/s, loss=-16182.21, λc2D1=331.38, λd1=348.11, λd2=437.41, λd3=295.21]\n",
      "Epoch 502 [Validation]: 100%|██████████| 21/21 [00:01<00:00, 14.87it/s, loss=-16870.00]\n"
     ]
    },
    {
     "name": "stdout",
     "output_type": "stream",
     "text": [
      "\tTotal Loss (NLL + MDMM): -16284.74\n",
      "\tMDMM Loss:               11373.24\n",
      "\tRemaining Weights:       70.55 %\n"
     ]
    },
    {
     "name": "stderr",
     "output_type": "stream",
     "text": [
      "Epoch 503 [Training]: 100%|██████████| 84/84 [00:06<00:00, 13.37it/s, loss=-16197.56, λc2D1=331.71, λd1=348.69, λd2=438.07, λd3=295.63]\n",
      "Epoch 503 [Validation]: 100%|██████████| 21/21 [00:01<00:00, 14.86it/s, loss=-16863.54]\n"
     ]
    },
    {
     "name": "stdout",
     "output_type": "stream",
     "text": [
      "\tTotal Loss (NLL + MDMM): -16277.86\n",
      "\tMDMM Loss:               11384.07\n",
      "\tRemaining Weights:       70.55 %\n"
     ]
    },
    {
     "name": "stderr",
     "output_type": "stream",
     "text": [
      "Epoch 504 [Training]: 100%|██████████| 84/84 [00:06<00:00, 13.48it/s, loss=-16170.59, λc2D1=332.04, λd1=349.27, λd2=438.74, λd3=296.05]\n",
      "Epoch 504 [Validation]: 100%|██████████| 21/21 [00:01<00:00, 14.79it/s, loss=-16835.41]\n"
     ]
    },
    {
     "name": "stdout",
     "output_type": "stream",
     "text": [
      "\tTotal Loss (NLL + MDMM): -16255.71\n",
      "\tMDMM Loss:               11395.95\n",
      "\tRemaining Weights:       70.66 %\n"
     ]
    },
    {
     "name": "stderr",
     "output_type": "stream",
     "text": [
      "Epoch 505 [Training]: 100%|██████████| 84/84 [00:06<00:00, 13.46it/s, loss=-16177.97, λc2D1=332.37, λd1=349.85, λd2=439.40, λd3=296.47]\n",
      "Epoch 505 [Validation]: 100%|██████████| 21/21 [00:01<00:00, 14.74it/s, loss=-16850.13]\n"
     ]
    },
    {
     "name": "stdout",
     "output_type": "stream",
     "text": [
      "\tTotal Loss (NLL + MDMM): -16268.90\n",
      "\tMDMM Loss:               11390.36\n",
      "\tRemaining Weights:       70.22 %\n"
     ]
    },
    {
     "name": "stderr",
     "output_type": "stream",
     "text": [
      "Epoch 506 [Training]: 100%|██████████| 84/84 [00:06<00:00, 13.39it/s, loss=-16180.91, λc2D1=332.70, λd1=350.43, λd2=440.05, λd3=296.89]\n",
      "Epoch 506 [Validation]: 100%|██████████| 21/21 [00:01<00:00, 15.05it/s, loss=-16859.24]\n"
     ]
    },
    {
     "name": "stdout",
     "output_type": "stream",
     "text": [
      "\tTotal Loss (NLL + MDMM): -16273.55\n",
      "\tMDMM Loss:               11391.33\n",
      "\tRemaining Weights:       70.10 %\n"
     ]
    },
    {
     "name": "stderr",
     "output_type": "stream",
     "text": [
      "Epoch 507 [Training]: 100%|██████████| 84/84 [00:06<00:00, 13.47it/s, loss=-16172.20, λc2D1=333.03, λd1=351.00, λd2=440.71, λd3=297.31]\n",
      "Epoch 507 [Validation]: 100%|██████████| 21/21 [00:01<00:00, 15.03it/s, loss=-16840.51]\n"
     ]
    },
    {
     "name": "stdout",
     "output_type": "stream",
     "text": [
      "\tTotal Loss (NLL + MDMM): -16260.59\n",
      "\tMDMM Loss:               11395.14\n",
      "\tRemaining Weights:       70.16 %\n"
     ]
    },
    {
     "name": "stderr",
     "output_type": "stream",
     "text": [
      "Epoch 508 [Training]: 100%|██████████| 84/84 [00:06<00:00, 13.50it/s, loss=-16164.57, λc2D1=333.36, λd1=351.58, λd2=441.36, λd3=297.73]\n",
      "Epoch 508 [Validation]: 100%|██████████| 21/21 [00:01<00:00, 14.89it/s, loss=-16850.85]\n"
     ]
    },
    {
     "name": "stdout",
     "output_type": "stream",
     "text": [
      "\tTotal Loss (NLL + MDMM): -16259.53\n",
      "\tMDMM Loss:               11404.17\n",
      "\tRemaining Weights:       70.10 %\n"
     ]
    },
    {
     "name": "stderr",
     "output_type": "stream",
     "text": [
      "Epoch 509 [Training]: 100%|██████████| 84/84 [00:06<00:00, 13.48it/s, loss=-16155.73, λc2D1=333.69, λd1=352.16, λd2=442.02, λd3=298.15]\n",
      "Epoch 509 [Validation]: 100%|██████████| 21/21 [00:01<00:00, 15.11it/s, loss=-16839.38]\n"
     ]
    },
    {
     "name": "stdout",
     "output_type": "stream",
     "text": [
      "\tTotal Loss (NLL + MDMM): -16253.45\n",
      "\tMDMM Loss:               11416.06\n",
      "\tRemaining Weights:       70.05 %\n"
     ]
    },
    {
     "name": "stderr",
     "output_type": "stream",
     "text": [
      "Epoch 510 [Training]: 100%|██████████| 84/84 [00:06<00:00, 13.59it/s, loss=-16149.91, λc2D1=334.02, λd1=352.73, λd2=442.67, λd3=298.57]\n",
      "Epoch 510 [Validation]: 100%|██████████| 21/21 [00:01<00:00, 14.99it/s, loss=-16832.49]\n"
     ]
    },
    {
     "name": "stdout",
     "output_type": "stream",
     "text": [
      "\tTotal Loss (NLL + MDMM): -16245.05\n",
      "\tMDMM Loss:               11424.50\n",
      "\tRemaining Weights:       70.05 %\n"
     ]
    },
    {
     "name": "stderr",
     "output_type": "stream",
     "text": [
      "Epoch 511 [Training]: 100%|██████████| 84/84 [00:06<00:00, 13.50it/s, loss=-16153.52, λc2D1=334.35, λd1=353.31, λd2=443.32, λd3=298.99]\n",
      "Epoch 511 [Validation]: 100%|██████████| 21/21 [00:01<00:00, 14.76it/s, loss=-16828.39]\n"
     ]
    },
    {
     "name": "stdout",
     "output_type": "stream",
     "text": [
      "\tTotal Loss (NLL + MDMM): -16242.44\n",
      "\tMDMM Loss:               11421.68\n",
      "\tRemaining Weights:       69.72 %\n"
     ]
    },
    {
     "name": "stderr",
     "output_type": "stream",
     "text": [
      "Epoch 512 [Training]: 100%|██████████| 84/84 [00:06<00:00, 13.57it/s, loss=-16127.09, λc2D1=334.69, λd1=353.88, λd2=443.97, λd3=299.41]\n",
      "Epoch 512 [Validation]: 100%|██████████| 21/21 [00:01<00:00, 15.00it/s, loss=-16841.08]\n"
     ]
    },
    {
     "name": "stdout",
     "output_type": "stream",
     "text": [
      "\tTotal Loss (NLL + MDMM): -16248.00\n",
      "\tMDMM Loss:               11428.89\n",
      "\tRemaining Weights:       69.83 %\n"
     ]
    },
    {
     "name": "stderr",
     "output_type": "stream",
     "text": [
      "Epoch 513 [Training]: 100%|██████████| 84/84 [00:06<00:00, 13.33it/s, loss=-16140.01, λc2D1=335.02, λd1=354.46, λd2=444.62, λd3=299.83]\n",
      "Epoch 513 [Validation]: 100%|██████████| 21/21 [00:01<00:00, 14.80it/s, loss=-16812.94]\n"
     ]
    },
    {
     "name": "stdout",
     "output_type": "stream",
     "text": [
      "\tTotal Loss (NLL + MDMM): -16220.96\n",
      "\tMDMM Loss:               11440.01\n",
      "\tRemaining Weights:       69.88 %\n"
     ]
    },
    {
     "name": "stderr",
     "output_type": "stream",
     "text": [
      "Epoch 514 [Training]: 100%|██████████| 84/84 [00:06<00:00, 13.19it/s, loss=-16137.66, λc2D1=335.35, λd1=355.03, λd2=445.26, λd3=300.25]\n",
      "Epoch 514 [Validation]: 100%|██████████| 21/21 [00:01<00:00, 14.96it/s, loss=-16814.87]\n"
     ]
    },
    {
     "name": "stdout",
     "output_type": "stream",
     "text": [
      "\tTotal Loss (NLL + MDMM): -16223.51\n",
      "\tMDMM Loss:               11451.99\n",
      "\tRemaining Weights:       69.77 %\n"
     ]
    },
    {
     "name": "stderr",
     "output_type": "stream",
     "text": [
      "Epoch 515 [Training]: 100%|██████████| 84/84 [00:06<00:00, 13.57it/s, loss=-16116.55, λc2D1=335.69, λd1=355.61, λd2=445.91, λd3=300.67]\n",
      "Epoch 515 [Validation]: 100%|██████████| 21/21 [00:01<00:00, 14.91it/s, loss=-16784.94]\n"
     ]
    },
    {
     "name": "stdout",
     "output_type": "stream",
     "text": [
      "\tTotal Loss (NLL + MDMM): -16192.87\n",
      "\tMDMM Loss:               11466.83\n",
      "\tRemaining Weights:       69.77 %\n"
     ]
    },
    {
     "name": "stderr",
     "output_type": "stream",
     "text": [
      "Epoch 516 [Training]: 100%|██████████| 84/84 [00:06<00:00, 13.38it/s, loss=-16099.50, λc2D1=336.02, λd1=356.18, λd2=446.56, λd3=301.09]\n",
      "Epoch 516 [Validation]: 100%|██████████| 21/21 [00:01<00:00, 14.95it/s, loss=-16789.56]\n"
     ]
    },
    {
     "name": "stdout",
     "output_type": "stream",
     "text": [
      "\tTotal Loss (NLL + MDMM): -16194.90\n",
      "\tMDMM Loss:               11491.62\n",
      "\tRemaining Weights:       69.99 %\n"
     ]
    },
    {
     "name": "stderr",
     "output_type": "stream",
     "text": [
      "Epoch 517 [Training]: 100%|██████████| 84/84 [00:06<00:00, 13.37it/s, loss=-16089.12, λc2D1=336.35, λd1=356.75, λd2=447.21, λd3=301.51]\n",
      "Epoch 517 [Validation]: 100%|██████████| 21/21 [00:01<00:00, 14.96it/s, loss=-16776.07]\n"
     ]
    },
    {
     "name": "stdout",
     "output_type": "stream",
     "text": [
      "\tTotal Loss (NLL + MDMM): -16179.86\n",
      "\tMDMM Loss:               11497.59\n",
      "\tRemaining Weights:       69.83 %\n"
     ]
    },
    {
     "name": "stderr",
     "output_type": "stream",
     "text": [
      "Epoch 518 [Training]: 100%|██████████| 84/84 [00:06<00:00, 13.56it/s, loss=-16069.35, λc2D1=336.69, λd1=357.32, λd2=447.86, λd3=301.93]\n",
      "Epoch 518 [Validation]: 100%|██████████| 21/21 [00:01<00:00, 14.98it/s, loss=-16752.39]\n"
     ]
    },
    {
     "name": "stdout",
     "output_type": "stream",
     "text": [
      "\tTotal Loss (NLL + MDMM): -16160.74\n",
      "\tMDMM Loss:               11519.04\n",
      "\tRemaining Weights:       70.27 %\n"
     ]
    },
    {
     "name": "stderr",
     "output_type": "stream",
     "text": [
      "Epoch 519 [Training]: 100%|██████████| 84/84 [00:06<00:00, 13.51it/s, loss=-16074.72, λc2D1=337.02, λd1=357.90, λd2=448.50, λd3=302.35]\n",
      "Epoch 519 [Validation]: 100%|██████████| 21/21 [00:01<00:00, 14.42it/s, loss=-16761.47]\n"
     ]
    },
    {
     "name": "stdout",
     "output_type": "stream",
     "text": [
      "\tTotal Loss (NLL + MDMM): -16168.12\n",
      "\tMDMM Loss:               11521.27\n",
      "\tRemaining Weights:       69.94 %\n"
     ]
    },
    {
     "name": "stderr",
     "output_type": "stream",
     "text": [
      "Epoch 520 [Training]: 100%|██████████| 84/84 [00:06<00:00, 13.29it/s, loss=-16074.81, λc2D1=337.35, λd1=358.47, λd2=449.15, λd3=302.77]\n",
      "Epoch 520 [Validation]: 100%|██████████| 21/21 [00:01<00:00, 15.19it/s, loss=-16753.20]\n"
     ]
    },
    {
     "name": "stdout",
     "output_type": "stream",
     "text": [
      "\tTotal Loss (NLL + MDMM): -16156.93\n",
      "\tMDMM Loss:               11525.35\n",
      "\tRemaining Weights:       69.94 %\n"
     ]
    },
    {
     "name": "stderr",
     "output_type": "stream",
     "text": [
      "Epoch 521 [Training]: 100%|██████████| 84/84 [00:06<00:00, 13.53it/s, loss=-16067.48, λc2D1=337.69, λd1=359.04, λd2=449.79, λd3=303.20]\n",
      "Epoch 521 [Validation]: 100%|██████████| 21/21 [00:01<00:00, 14.75it/s, loss=-16754.30]\n"
     ]
    },
    {
     "name": "stdout",
     "output_type": "stream",
     "text": [
      "\tTotal Loss (NLL + MDMM): -16159.76\n",
      "\tMDMM Loss:               11526.59\n",
      "\tRemaining Weights:       69.83 %\n"
     ]
    },
    {
     "name": "stderr",
     "output_type": "stream",
     "text": [
      "Epoch 522 [Training]: 100%|██████████| 84/84 [00:06<00:00, 13.37it/s, loss=-16070.30, λc2D1=338.03, λd1=359.61, λd2=450.44, λd3=303.62]\n",
      "Epoch 522 [Validation]: 100%|██████████| 21/21 [00:01<00:00, 14.87it/s, loss=-16752.60]\n"
     ]
    },
    {
     "name": "stdout",
     "output_type": "stream",
     "text": [
      "\tTotal Loss (NLL + MDMM): -16155.96\n",
      "\tMDMM Loss:               11536.03\n",
      "\tRemaining Weights:       69.88 %\n"
     ]
    },
    {
     "name": "stderr",
     "output_type": "stream",
     "text": [
      "Epoch 523 [Training]: 100%|██████████| 84/84 [00:06<00:00, 13.38it/s, loss=-16050.49, λc2D1=338.36, λd1=360.18, λd2=451.08, λd3=304.04]\n",
      "Epoch 523 [Validation]: 100%|██████████| 21/21 [00:01<00:00, 15.10it/s, loss=-16745.34]\n"
     ]
    },
    {
     "name": "stdout",
     "output_type": "stream",
     "text": [
      "\tTotal Loss (NLL + MDMM): -16147.89\n",
      "\tMDMM Loss:               11542.82\n",
      "\tRemaining Weights:       69.72 %\n"
     ]
    },
    {
     "name": "stderr",
     "output_type": "stream",
     "text": [
      "Epoch 524 [Training]: 100%|██████████| 84/84 [00:06<00:00, 13.23it/s, loss=-16052.23, λc2D1=338.70, λd1=360.75, λd2=451.72, λd3=304.46]\n",
      "Epoch 524 [Validation]: 100%|██████████| 21/21 [00:01<00:00, 14.83it/s, loss=-16719.99]\n"
     ]
    },
    {
     "name": "stdout",
     "output_type": "stream",
     "text": [
      "\tTotal Loss (NLL + MDMM): -16124.10\n",
      "\tMDMM Loss:               11554.99\n",
      "\tRemaining Weights:       69.77 %\n"
     ]
    },
    {
     "name": "stderr",
     "output_type": "stream",
     "text": [
      "Epoch 525 [Training]: 100%|██████████| 84/84 [00:06<00:00, 13.52it/s, loss=-16044.02, λc2D1=339.04, λd1=361.32, λd2=452.36, λd3=304.88]\n",
      "Epoch 525 [Validation]: 100%|██████████| 21/21 [00:01<00:00, 15.04it/s, loss=-16733.63]\n"
     ]
    },
    {
     "name": "stdout",
     "output_type": "stream",
     "text": [
      "\tTotal Loss (NLL + MDMM): -16130.17\n",
      "\tMDMM Loss:               11568.79\n",
      "\tRemaining Weights:       69.66 %\n"
     ]
    },
    {
     "name": "stderr",
     "output_type": "stream",
     "text": [
      "Epoch 526 [Training]: 100%|██████████| 84/84 [00:06<00:00, 13.55it/s, loss=-16026.00, λc2D1=339.37, λd1=361.89, λd2=453.00, λd3=305.30]\n",
      "Epoch 526 [Validation]: 100%|██████████| 21/21 [00:01<00:00, 14.88it/s, loss=-16695.82]\n"
     ]
    },
    {
     "name": "stdout",
     "output_type": "stream",
     "text": [
      "\tTotal Loss (NLL + MDMM): -16100.13\n",
      "\tMDMM Loss:               11576.48\n",
      "\tRemaining Weights:       69.55 %\n"
     ]
    },
    {
     "name": "stderr",
     "output_type": "stream",
     "text": [
      "Epoch 527 [Training]: 100%|██████████| 84/84 [00:06<00:00, 13.26it/s, loss=-16006.38, λc2D1=339.71, λd1=362.46, λd2=453.64, λd3=305.72]\n",
      "Epoch 527 [Validation]: 100%|██████████| 21/21 [00:01<00:00, 14.58it/s, loss=-16691.55]\n"
     ]
    },
    {
     "name": "stdout",
     "output_type": "stream",
     "text": [
      "\tTotal Loss (NLL + MDMM): -16094.97\n",
      "\tMDMM Loss:               11583.95\n",
      "\tRemaining Weights:       69.50 %\n"
     ]
    },
    {
     "name": "stderr",
     "output_type": "stream",
     "text": [
      "Epoch 528 [Training]: 100%|██████████| 84/84 [00:06<00:00, 13.52it/s, loss=-16018.96, λc2D1=340.05, λd1=363.02, λd2=454.29, λd3=306.14]\n",
      "Epoch 528 [Validation]: 100%|██████████| 21/21 [00:01<00:00, 15.05it/s, loss=-16694.68]\n"
     ]
    },
    {
     "name": "stdout",
     "output_type": "stream",
     "text": [
      "\tTotal Loss (NLL + MDMM): -16091.53\n",
      "\tMDMM Loss:               11604.04\n",
      "\tRemaining Weights:       69.55 %\n"
     ]
    },
    {
     "name": "stderr",
     "output_type": "stream",
     "text": [
      "Epoch 529 [Training]: 100%|██████████| 84/84 [00:06<00:00, 13.30it/s, loss=-15996.57, λc2D1=340.38, λd1=363.59, λd2=454.93, λd3=306.56]\n",
      "Epoch 529 [Validation]: 100%|██████████| 21/21 [00:01<00:00, 15.06it/s, loss=-16687.32]\n"
     ]
    },
    {
     "name": "stdout",
     "output_type": "stream",
     "text": [
      "\tTotal Loss (NLL + MDMM): -16088.11\n",
      "\tMDMM Loss:               11598.97\n",
      "\tRemaining Weights:       69.22 %\n"
     ]
    },
    {
     "name": "stderr",
     "output_type": "stream",
     "text": [
      "Epoch 530 [Training]: 100%|██████████| 84/84 [00:06<00:00, 13.41it/s, loss=-15990.09, λc2D1=340.72, λd1=364.16, λd2=455.57, λd3=306.98]\n",
      "Epoch 530 [Validation]: 100%|██████████| 21/21 [00:01<00:00, 14.99it/s, loss=-16688.09]\n"
     ]
    },
    {
     "name": "stdout",
     "output_type": "stream",
     "text": [
      "\tTotal Loss (NLL + MDMM): -16085.40\n",
      "\tMDMM Loss:               11608.93\n",
      "\tRemaining Weights:       69.22 %\n"
     ]
    },
    {
     "name": "stderr",
     "output_type": "stream",
     "text": [
      "Epoch 531 [Training]: 100%|██████████| 84/84 [00:06<00:00, 13.50it/s, loss=-15955.25, λc2D1=341.06, λd1=364.72, λd2=456.21, λd3=307.40]\n",
      "Epoch 531 [Validation]: 100%|██████████| 21/21 [00:01<00:00, 14.80it/s, loss=-16655.10]\n"
     ]
    },
    {
     "name": "stdout",
     "output_type": "stream",
     "text": [
      "\tTotal Loss (NLL + MDMM): -16055.58\n",
      "\tMDMM Loss:               11632.70\n",
      "\tRemaining Weights:       69.44 %\n"
     ]
    },
    {
     "name": "stderr",
     "output_type": "stream",
     "text": [
      "Epoch 532 [Training]: 100%|██████████| 84/84 [00:06<00:00, 13.54it/s, loss=-15961.11, λc2D1=341.40, λd1=365.28, λd2=456.85, λd3=307.82]\n",
      "Epoch 532 [Validation]: 100%|██████████| 21/21 [00:01<00:00, 14.82it/s, loss=-16662.98]\n"
     ]
    },
    {
     "name": "stdout",
     "output_type": "stream",
     "text": [
      "\tTotal Loss (NLL + MDMM): -16058.25\n",
      "\tMDMM Loss:               11643.89\n",
      "\tRemaining Weights:       69.28 %\n"
     ]
    },
    {
     "name": "stderr",
     "output_type": "stream",
     "text": [
      "Epoch 533 [Training]: 100%|██████████| 84/84 [00:06<00:00, 13.31it/s, loss=-15945.73, λc2D1=341.74, λd1=365.85, λd2=457.49, λd3=308.24]\n",
      "Epoch 533 [Validation]: 100%|██████████| 21/21 [00:01<00:00, 14.80it/s, loss=-16657.88]\n"
     ]
    },
    {
     "name": "stdout",
     "output_type": "stream",
     "text": [
      "\tTotal Loss (NLL + MDMM): -16052.53\n",
      "\tMDMM Loss:               11650.78\n",
      "\tRemaining Weights:       69.22 %\n"
     ]
    },
    {
     "name": "stderr",
     "output_type": "stream",
     "text": [
      "Epoch 534 [Training]: 100%|██████████| 84/84 [00:06<00:00, 13.51it/s, loss=-15941.87, λc2D1=342.08, λd1=366.41, λd2=458.14, λd3=308.66]\n",
      "Epoch 534 [Validation]: 100%|██████████| 21/21 [00:01<00:00, 14.59it/s, loss=-16648.07]\n"
     ]
    },
    {
     "name": "stdout",
     "output_type": "stream",
     "text": [
      "\tTotal Loss (NLL + MDMM): -16044.93\n",
      "\tMDMM Loss:               11657.69\n",
      "\tRemaining Weights:       69.28 %\n"
     ]
    },
    {
     "name": "stderr",
     "output_type": "stream",
     "text": [
      "Epoch 535 [Training]: 100%|██████████| 84/84 [00:06<00:00, 13.22it/s, loss=-16241.12, λc2D1=342.41, λd1=366.97, λd2=458.78, λd3=309.07]\n",
      "Epoch 535 [Validation]: 100%|██████████| 21/21 [00:01<00:00, 14.97it/s, loss=-16951.56]\n"
     ]
    },
    {
     "name": "stdout",
     "output_type": "stream",
     "text": [
      "\tTotal Loss (NLL + MDMM): -16342.36\n",
      "\tMDMM Loss:               11369.61\n",
      "\tRemaining Weights:       69.22 %\n"
     ]
    },
    {
     "name": "stderr",
     "output_type": "stream",
     "text": [
      "Epoch 536 [Training]: 100%|██████████| 84/84 [00:06<00:00, 13.28it/s, loss=-16233.62, λc2D1=342.66, λd1=367.54, λd2=459.41, λd3=309.49]\n",
      "Epoch 536 [Validation]: 100%|██████████| 21/21 [00:01<00:00, 14.64it/s, loss=-16934.61]\n"
     ]
    },
    {
     "name": "stdout",
     "output_type": "stream",
     "text": [
      "\tTotal Loss (NLL + MDMM): -16329.13\n",
      "\tMDMM Loss:               11376.70\n",
      "\tRemaining Weights:       69.06 %\n"
     ]
    },
    {
     "name": "stderr",
     "output_type": "stream",
     "text": [
      "Epoch 537 [Training]: 100%|██████████| 84/84 [00:06<00:00, 13.47it/s, loss=-16223.05, λc2D1=342.91, λd1=368.10, λd2=460.05, λd3=309.91]\n",
      "Epoch 537 [Validation]: 100%|██████████| 21/21 [00:01<00:00, 14.89it/s, loss=-16936.62]\n"
     ]
    },
    {
     "name": "stdout",
     "output_type": "stream",
     "text": [
      "\tTotal Loss (NLL + MDMM): -16327.56\n",
      "\tMDMM Loss:               11385.73\n",
      "\tRemaining Weights:       69.11 %\n"
     ]
    },
    {
     "name": "stderr",
     "output_type": "stream",
     "text": [
      "Epoch 538 [Training]: 100%|██████████| 84/84 [00:06<00:00, 13.55it/s, loss=-16200.12, λc2D1=343.16, λd1=368.66, λd2=460.69, λd3=310.33]\n",
      "Epoch 538 [Validation]: 100%|██████████| 21/21 [00:01<00:00, 15.03it/s, loss=-16918.43]\n"
     ]
    },
    {
     "name": "stdout",
     "output_type": "stream",
     "text": [
      "\tTotal Loss (NLL + MDMM): -16312.44\n",
      "\tMDMM Loss:               11388.07\n",
      "\tRemaining Weights:       68.84 %\n"
     ]
    },
    {
     "name": "stderr",
     "output_type": "stream",
     "text": [
      "Epoch 539 [Training]: 100%|██████████| 84/84 [00:06<00:00, 13.42it/s, loss=-16209.58, λc2D1=343.41, λd1=369.22, λd2=461.33, λd3=310.75]\n",
      "Epoch 539 [Validation]: 100%|██████████| 21/21 [00:01<00:00, 15.00it/s, loss=-16921.22]\n"
     ]
    },
    {
     "name": "stdout",
     "output_type": "stream",
     "text": [
      "\tTotal Loss (NLL + MDMM): -16310.47\n",
      "\tMDMM Loss:               11405.32\n",
      "\tRemaining Weights:       69.17 %\n"
     ]
    },
    {
     "name": "stderr",
     "output_type": "stream",
     "text": [
      "Epoch 540 [Training]: 100%|██████████| 84/84 [00:06<00:00, 13.54it/s, loss=-16191.46, λc2D1=343.66, λd1=369.78, λd2=461.97, λd3=311.16]\n",
      "Epoch 540 [Validation]: 100%|██████████| 21/21 [00:01<00:00, 15.19it/s, loss=-16897.26]\n"
     ]
    },
    {
     "name": "stdout",
     "output_type": "stream",
     "text": [
      "\tTotal Loss (NLL + MDMM): -16288.91\n",
      "\tMDMM Loss:               11428.43\n",
      "\tRemaining Weights:       69.17 %\n"
     ]
    },
    {
     "name": "stderr",
     "output_type": "stream",
     "text": [
      "Epoch 541 [Training]: 100%|██████████| 84/84 [00:06<00:00, 13.54it/s, loss=-16170.99, λc2D1=343.91, λd1=370.34, λd2=462.61, λd3=311.58]\n",
      "Epoch 541 [Validation]: 100%|██████████| 21/21 [00:01<00:00, 14.70it/s, loss=-16906.90]\n"
     ]
    },
    {
     "name": "stdout",
     "output_type": "stream",
     "text": [
      "\tTotal Loss (NLL + MDMM): -16292.10\n",
      "\tMDMM Loss:               11433.27\n",
      "\tRemaining Weights:       69.17 %\n"
     ]
    },
    {
     "name": "stderr",
     "output_type": "stream",
     "text": [
      "Epoch 542 [Training]: 100%|██████████| 84/84 [00:06<00:00, 13.46it/s, loss=-16173.12, λc2D1=344.16, λd1=370.90, λd2=463.25, λd3=312.00]\n",
      "Epoch 542 [Validation]: 100%|██████████| 21/21 [00:01<00:00, 14.96it/s, loss=-16910.57]\n"
     ]
    },
    {
     "name": "stdout",
     "output_type": "stream",
     "text": [
      "\tTotal Loss (NLL + MDMM): -16293.64\n",
      "\tMDMM Loss:               11432.32\n",
      "\tRemaining Weights:       68.84 %\n"
     ]
    },
    {
     "name": "stderr",
     "output_type": "stream",
     "text": [
      "Epoch 543 [Training]: 100%|██████████| 84/84 [00:06<00:00, 13.57it/s, loss=-16175.50, λc2D1=344.41, λd1=371.46, λd2=463.88, λd3=312.42]\n",
      "Epoch 543 [Validation]: 100%|██████████| 21/21 [00:01<00:00, 15.04it/s, loss=-16900.46]\n"
     ]
    },
    {
     "name": "stdout",
     "output_type": "stream",
     "text": [
      "\tTotal Loss (NLL + MDMM): -16285.20\n",
      "\tMDMM Loss:               11434.25\n",
      "\tRemaining Weights:       68.84 %\n"
     ]
    },
    {
     "name": "stderr",
     "output_type": "stream",
     "text": [
      "Epoch 544 [Training]: 100%|██████████| 84/84 [00:06<00:00, 13.58it/s, loss=-16175.66, λc2D1=344.67, λd1=372.02, λd2=464.52, λd3=312.83]\n",
      "Epoch 544 [Validation]: 100%|██████████| 21/21 [00:01<00:00, 15.16it/s, loss=-16911.16]\n"
     ]
    },
    {
     "name": "stdout",
     "output_type": "stream",
     "text": [
      "\tTotal Loss (NLL + MDMM): -16290.68\n",
      "\tMDMM Loss:               11432.78\n",
      "\tRemaining Weights:       68.78 %\n"
     ]
    },
    {
     "name": "stderr",
     "output_type": "stream",
     "text": [
      "Epoch 545 [Training]: 100%|██████████| 84/84 [00:06<00:00, 13.66it/s, loss=-16167.61, λc2D1=344.92, λd1=372.58, λd2=465.15, λd3=313.25]\n",
      "Epoch 545 [Validation]: 100%|██████████| 21/21 [00:01<00:00, 15.21it/s, loss=-16905.93]\n"
     ]
    },
    {
     "name": "stdout",
     "output_type": "stream",
     "text": [
      "\tTotal Loss (NLL + MDMM): -16283.68\n",
      "\tMDMM Loss:               11445.09\n",
      "\tRemaining Weights:       68.84 %\n"
     ]
    },
    {
     "name": "stderr",
     "output_type": "stream",
     "text": [
      "Epoch 546 [Training]: 100%|██████████| 84/84 [00:06<00:00, 13.42it/s, loss=-16135.42, λc2D1=345.17, λd1=373.14, λd2=465.78, λd3=313.67]\n",
      "Epoch 546 [Validation]: 100%|██████████| 21/21 [00:01<00:00, 15.04it/s, loss=-16894.97]\n"
     ]
    },
    {
     "name": "stdout",
     "output_type": "stream",
     "text": [
      "\tTotal Loss (NLL + MDMM): -16277.54\n",
      "\tMDMM Loss:               11458.93\n",
      "\tRemaining Weights:       69.00 %\n"
     ]
    },
    {
     "name": "stderr",
     "output_type": "stream",
     "text": [
      "Epoch 547 [Training]: 100%|██████████| 84/84 [00:06<00:00, 13.35it/s, loss=-16144.15, λc2D1=345.42, λd1=373.70, λd2=466.42, λd3=314.08]\n",
      "Epoch 547 [Validation]: 100%|██████████| 21/21 [00:01<00:00, 15.10it/s, loss=-16882.98]\n"
     ]
    },
    {
     "name": "stdout",
     "output_type": "stream",
     "text": [
      "\tTotal Loss (NLL + MDMM): -16262.79\n",
      "\tMDMM Loss:               11472.71\n",
      "\tRemaining Weights:       69.06 %\n"
     ]
    },
    {
     "name": "stderr",
     "output_type": "stream",
     "text": [
      "Epoch 548 [Training]: 100%|██████████| 84/84 [00:06<00:00, 13.60it/s, loss=-16153.74, λc2D1=345.68, λd1=374.25, λd2=467.05, λd3=314.50]\n",
      "Epoch 548 [Validation]: 100%|██████████| 21/21 [00:01<00:00, 15.15it/s, loss=-16882.29]\n"
     ]
    },
    {
     "name": "stdout",
     "output_type": "stream",
     "text": [
      "\tTotal Loss (NLL + MDMM): -16267.81\n",
      "\tMDMM Loss:               11455.15\n",
      "\tRemaining Weights:       68.39 %\n"
     ]
    },
    {
     "name": "stderr",
     "output_type": "stream",
     "text": [
      "Epoch 549 [Training]: 100%|██████████| 84/84 [00:06<00:00, 13.45it/s, loss=-16144.50, λc2D1=345.93, λd1=374.81, λd2=467.68, λd3=314.92]\n",
      "Epoch 549 [Validation]: 100%|██████████| 21/21 [00:01<00:00, 15.05it/s, loss=-16881.91]\n"
     ]
    },
    {
     "name": "stdout",
     "output_type": "stream",
     "text": [
      "\tTotal Loss (NLL + MDMM): -16254.71\n",
      "\tMDMM Loss:               11480.29\n",
      "\tRemaining Weights:       68.67 %\n"
     ]
    },
    {
     "name": "stderr",
     "output_type": "stream",
     "text": [
      "Epoch 550 [Training]: 100%|██████████| 84/84 [00:06<00:00, 13.47it/s, loss=-16121.19, λc2D1=346.19, λd1=375.37, λd2=468.31, λd3=315.33]\n",
      "Epoch 550 [Validation]: 100%|██████████| 21/21 [00:01<00:00, 15.18it/s, loss=-16841.43]\n"
     ]
    },
    {
     "name": "stdout",
     "output_type": "stream",
     "text": [
      "\tTotal Loss (NLL + MDMM): -16220.09\n",
      "\tMDMM Loss:               11502.35\n",
      "\tRemaining Weights:       68.89 %\n"
     ]
    },
    {
     "name": "stderr",
     "output_type": "stream",
     "text": [
      "Epoch 551 [Training]: 100%|██████████| 84/84 [00:06<00:00, 13.58it/s, loss=-16128.96, λc2D1=346.44, λd1=375.92, λd2=468.94, λd3=315.75]\n",
      "Epoch 551 [Validation]: 100%|██████████| 21/21 [00:01<00:00, 14.99it/s, loss=-16849.41]\n"
     ]
    },
    {
     "name": "stdout",
     "output_type": "stream",
     "text": [
      "\tTotal Loss (NLL + MDMM): -16230.14\n",
      "\tMDMM Loss:               11500.28\n",
      "\tRemaining Weights:       68.56 %\n"
     ]
    },
    {
     "name": "stderr",
     "output_type": "stream",
     "text": [
      "Epoch 552 [Training]: 100%|██████████| 84/84 [00:06<00:00, 13.55it/s, loss=-16120.31, λc2D1=346.70, λd1=376.48, λd2=469.57, λd3=316.17]\n",
      "Epoch 552 [Validation]: 100%|██████████| 21/21 [00:01<00:00, 15.30it/s, loss=-16840.57]\n"
     ]
    },
    {
     "name": "stdout",
     "output_type": "stream",
     "text": [
      "\tTotal Loss (NLL + MDMM): -16215.36\n",
      "\tMDMM Loss:               11517.79\n",
      "\tRemaining Weights:       68.73 %\n"
     ]
    },
    {
     "name": "stderr",
     "output_type": "stream",
     "text": [
      "Epoch 553 [Training]: 100%|██████████| 84/84 [00:06<00:00, 13.42it/s, loss=-16111.32, λc2D1=346.96, λd1=377.04, λd2=470.20, λd3=316.58]\n",
      "Epoch 553 [Validation]: 100%|██████████| 21/21 [00:01<00:00, 14.50it/s, loss=-16836.40]\n"
     ]
    },
    {
     "name": "stdout",
     "output_type": "stream",
     "text": [
      "\tTotal Loss (NLL + MDMM): -16208.80\n",
      "\tMDMM Loss:               11533.82\n",
      "\tRemaining Weights:       69.06 %\n"
     ]
    },
    {
     "name": "stderr",
     "output_type": "stream",
     "text": [
      "Epoch 554 [Training]: 100%|██████████| 84/84 [00:06<00:00, 13.33it/s, loss=-16089.02, λc2D1=347.21, λd1=377.60, λd2=470.83, λd3=317.00]\n",
      "Epoch 554 [Validation]: 100%|██████████| 21/21 [00:01<00:00, 14.81it/s, loss=-16823.46]\n"
     ]
    },
    {
     "name": "stdout",
     "output_type": "stream",
     "text": [
      "\tTotal Loss (NLL + MDMM): -16190.95\n",
      "\tMDMM Loss:               11553.29\n",
      "\tRemaining Weights:       69.39 %\n"
     ]
    },
    {
     "name": "stderr",
     "output_type": "stream",
     "text": [
      "Epoch 555 [Training]: 100%|██████████| 84/84 [00:06<00:00, 13.60it/s, loss=-16051.48, λc2D1=347.47, λd1=378.16, λd2=471.46, λd3=317.42]\n",
      "Epoch 555 [Validation]: 100%|██████████| 21/21 [00:01<00:00, 15.26it/s, loss=-16797.28]\n"
     ]
    },
    {
     "name": "stdout",
     "output_type": "stream",
     "text": [
      "\tTotal Loss (NLL + MDMM): -16171.80\n",
      "\tMDMM Loss:               11571.83\n",
      "\tRemaining Weights:       69.77 %\n"
     ]
    },
    {
     "name": "stderr",
     "output_type": "stream",
     "text": [
      "Epoch 556 [Training]: 100%|██████████| 84/84 [00:06<00:00, 13.64it/s, loss=-16045.55, λc2D1=347.72, λd1=378.72, λd2=472.09, λd3=317.83]\n",
      "Epoch 556 [Validation]: 100%|██████████| 21/21 [00:01<00:00, 14.46it/s, loss=-16785.22]\n"
     ]
    },
    {
     "name": "stdout",
     "output_type": "stream",
     "text": [
      "\tTotal Loss (NLL + MDMM): -16157.91\n",
      "\tMDMM Loss:               11581.61\n",
      "\tRemaining Weights:       69.83 %\n"
     ]
    },
    {
     "name": "stderr",
     "output_type": "stream",
     "text": [
      "Epoch 557 [Training]: 100%|██████████| 84/84 [00:06<00:00, 13.38it/s, loss=-16040.41, λc2D1=347.98, λd1=379.28, λd2=472.72, λd3=318.25]\n",
      "Epoch 557 [Validation]: 100%|██████████| 21/21 [00:01<00:00, 15.06it/s, loss=-16786.83]\n"
     ]
    },
    {
     "name": "stdout",
     "output_type": "stream",
     "text": [
      "\tTotal Loss (NLL + MDMM): -16154.47\n",
      "\tMDMM Loss:               11597.56\n",
      "\tRemaining Weights:       70.05 %\n"
     ]
    },
    {
     "name": "stderr",
     "output_type": "stream",
     "text": [
      "Epoch 558 [Training]: 100%|██████████| 84/84 [00:06<00:00, 13.39it/s, loss=-16029.24, λc2D1=348.24, λd1=379.84, λd2=473.35, λd3=318.67]\n",
      "Epoch 558 [Validation]: 100%|██████████| 21/21 [00:01<00:00, 14.64it/s, loss=-16772.07]\n"
     ]
    },
    {
     "name": "stdout",
     "output_type": "stream",
     "text": [
      "\tTotal Loss (NLL + MDMM): -16142.74\n",
      "\tMDMM Loss:               11599.15\n",
      "\tRemaining Weights:       69.77 %\n"
     ]
    },
    {
     "name": "stderr",
     "output_type": "stream",
     "text": [
      "Epoch 559 [Training]: 100%|██████████| 84/84 [00:06<00:00, 13.60it/s, loss=-16042.40, λc2D1=348.50, λd1=380.40, λd2=473.97, λd3=319.08]\n",
      "Epoch 559 [Validation]: 100%|██████████| 21/21 [00:01<00:00, 15.21it/s, loss=-16780.10]\n"
     ]
    },
    {
     "name": "stdout",
     "output_type": "stream",
     "text": [
      "\tTotal Loss (NLL + MDMM): -16148.81\n",
      "\tMDMM Loss:               11603.94\n",
      "\tRemaining Weights:       69.72 %\n"
     ]
    },
    {
     "name": "stderr",
     "output_type": "stream",
     "text": [
      "Epoch 560 [Training]: 100%|██████████| 84/84 [00:06<00:00, 13.58it/s, loss=-16009.48, λc2D1=348.76, λd1=380.96, λd2=474.60, λd3=319.50]\n",
      "Epoch 560 [Validation]: 100%|██████████| 21/21 [00:01<00:00, 15.05it/s, loss=-16765.09]\n"
     ]
    },
    {
     "name": "stdout",
     "output_type": "stream",
     "text": [
      "\tTotal Loss (NLL + MDMM): -16132.15\n",
      "\tMDMM Loss:               11617.60\n",
      "\tRemaining Weights:       69.61 %\n"
     ]
    },
    {
     "name": "stderr",
     "output_type": "stream",
     "text": [
      "Epoch 561 [Training]: 100%|██████████| 84/84 [00:06<00:00, 13.46it/s, loss=-16005.26, λc2D1=349.02, λd1=381.52, λd2=475.23, λd3=319.91]\n",
      "Epoch 561 [Validation]: 100%|██████████| 21/21 [00:01<00:00, 14.99it/s, loss=-16740.54]\n"
     ]
    },
    {
     "name": "stdout",
     "output_type": "stream",
     "text": [
      "\tTotal Loss (NLL + MDMM): -16119.34\n",
      "\tMDMM Loss:               11609.99\n",
      "\tRemaining Weights:       69.28 %\n"
     ]
    },
    {
     "name": "stderr",
     "output_type": "stream",
     "text": [
      "Epoch 562 [Training]: 100%|██████████| 84/84 [00:06<00:00, 13.36it/s, loss=-16014.97, λc2D1=349.28, λd1=382.08, λd2=475.86, λd3=320.33]\n",
      "Epoch 562 [Validation]: 100%|██████████| 21/21 [00:01<00:00, 15.09it/s, loss=-16768.52]\n"
     ]
    },
    {
     "name": "stdout",
     "output_type": "stream",
     "text": [
      "\tTotal Loss (NLL + MDMM): -16133.54\n",
      "\tMDMM Loss:               11614.92\n",
      "\tRemaining Weights:       69.39 %\n"
     ]
    },
    {
     "name": "stderr",
     "output_type": "stream",
     "text": [
      "Epoch 563 [Training]: 100%|██████████| 84/84 [00:06<00:00, 13.60it/s, loss=-15988.76, λc2D1=349.54, λd1=382.64, λd2=476.48, λd3=320.74]\n",
      "Epoch 563 [Validation]: 100%|██████████| 21/21 [00:01<00:00, 15.20it/s, loss=-16728.80]\n"
     ]
    },
    {
     "name": "stdout",
     "output_type": "stream",
     "text": [
      "\tTotal Loss (NLL + MDMM): -16103.45\n",
      "\tMDMM Loss:               11627.53\n",
      "\tRemaining Weights:       69.50 %\n"
     ]
    },
    {
     "name": "stderr",
     "output_type": "stream",
     "text": [
      "Epoch 564 [Training]: 100%|██████████| 84/84 [00:06<00:00, 13.49it/s, loss=-15994.90, λc2D1=349.80, λd1=383.19, λd2=477.11, λd3=321.16]\n",
      "Epoch 564 [Validation]: 100%|██████████| 21/21 [00:01<00:00, 14.81it/s, loss=-16754.06]\n"
     ]
    },
    {
     "name": "stdout",
     "output_type": "stream",
     "text": [
      "\tTotal Loss (NLL + MDMM): -16119.24\n",
      "\tMDMM Loss:               11634.68\n",
      "\tRemaining Weights:       69.44 %\n"
     ]
    },
    {
     "name": "stderr",
     "output_type": "stream",
     "text": [
      "Epoch 565 [Training]: 100%|██████████| 84/84 [00:06<00:00, 13.59it/s, loss=-15976.41, λc2D1=350.06, λd1=383.75, λd2=477.73, λd3=321.57]\n",
      "Epoch 565 [Validation]: 100%|██████████| 21/21 [00:01<00:00, 14.71it/s, loss=-16718.16]\n"
     ]
    },
    {
     "name": "stdout",
     "output_type": "stream",
     "text": [
      "\tTotal Loss (NLL + MDMM): -16087.00\n",
      "\tMDMM Loss:               11658.33\n",
      "\tRemaining Weights:       69.77 %\n"
     ]
    },
    {
     "name": "stderr",
     "output_type": "stream",
     "text": [
      "Epoch 566 [Training]: 100%|██████████| 84/84 [00:06<00:00, 13.33it/s, loss=-15943.67, λc2D1=350.32, λd1=384.31, λd2=478.36, λd3=321.99]\n",
      "Epoch 566 [Validation]: 100%|██████████| 21/21 [00:01<00:00, 15.07it/s, loss=-16695.83]\n"
     ]
    },
    {
     "name": "stdout",
     "output_type": "stream",
     "text": [
      "\tTotal Loss (NLL + MDMM): -16061.93\n",
      "\tMDMM Loss:               11659.00\n",
      "\tRemaining Weights:       69.39 %\n"
     ]
    },
    {
     "name": "stderr",
     "output_type": "stream",
     "text": [
      "Epoch 567 [Training]: 100%|██████████| 84/84 [00:06<00:00, 13.56it/s, loss=-15975.38, λc2D1=350.58, λd1=384.86, λd2=478.98, λd3=322.40]\n",
      "Epoch 567 [Validation]: 100%|██████████| 21/21 [00:01<00:00, 14.70it/s, loss=-16729.34]\n"
     ]
    },
    {
     "name": "stdout",
     "output_type": "stream",
     "text": [
      "\tTotal Loss (NLL + MDMM): -16091.92\n",
      "\tMDMM Loss:               11667.99\n",
      "\tRemaining Weights:       69.33 %\n"
     ]
    },
    {
     "name": "stderr",
     "output_type": "stream",
     "text": [
      "Epoch 568 [Training]: 100%|██████████| 84/84 [00:06<00:00, 13.43it/s, loss=-15996.74, λc2D1=350.85, λd1=385.42, λd2=479.60, λd3=322.82]\n",
      "Epoch 568 [Validation]: 100%|██████████| 21/21 [00:01<00:00, 14.93it/s, loss=-16742.67]\n"
     ]
    },
    {
     "name": "stdout",
     "output_type": "stream",
     "text": [
      "\tTotal Loss (NLL + MDMM): -16102.10\n",
      "\tMDMM Loss:               11657.99\n",
      "\tRemaining Weights:       69.22 %\n"
     ]
    },
    {
     "name": "stderr",
     "output_type": "stream",
     "text": [
      "Epoch 569 [Training]: 100%|██████████| 84/84 [00:06<00:00, 13.40it/s, loss=-15977.14, λc2D1=351.11, λd1=385.97, λd2=480.22, λd3=323.23]\n",
      "Epoch 569 [Validation]: 100%|██████████| 21/21 [00:01<00:00, 15.06it/s, loss=-16723.24]\n"
     ]
    },
    {
     "name": "stdout",
     "output_type": "stream",
     "text": [
      "\tTotal Loss (NLL + MDMM): -16081.19\n",
      "\tMDMM Loss:               11674.34\n",
      "\tRemaining Weights:       69.50 %\n"
     ]
    },
    {
     "name": "stderr",
     "output_type": "stream",
     "text": [
      "Epoch 570 [Training]: 100%|██████████| 84/84 [00:06<00:00, 13.61it/s, loss=-15956.87, λc2D1=351.37, λd1=386.53, λd2=480.84, λd3=323.65]\n",
      "Epoch 570 [Validation]: 100%|██████████| 21/21 [00:01<00:00, 15.07it/s, loss=-16712.02]\n"
     ]
    },
    {
     "name": "stdout",
     "output_type": "stream",
     "text": [
      "\tTotal Loss (NLL + MDMM): -16074.60\n",
      "\tMDMM Loss:               11686.51\n",
      "\tRemaining Weights:       69.28 %\n"
     ]
    },
    {
     "name": "stderr",
     "output_type": "stream",
     "text": [
      "Epoch 571 [Training]: 100%|██████████| 84/84 [00:06<00:00, 13.35it/s, loss=-15948.98, λc2D1=351.64, λd1=387.08, λd2=481.46, λd3=324.07]\n",
      "Epoch 571 [Validation]: 100%|██████████| 21/21 [00:01<00:00, 14.73it/s, loss=-16700.68]\n"
     ]
    },
    {
     "name": "stdout",
     "output_type": "stream",
     "text": [
      "\tTotal Loss (NLL + MDMM): -16061.09\n",
      "\tMDMM Loss:               11688.84\n",
      "\tRemaining Weights:       69.17 %\n"
     ]
    },
    {
     "name": "stderr",
     "output_type": "stream",
     "text": [
      "Epoch 572 [Training]: 100%|██████████| 84/84 [00:06<00:00, 13.37it/s, loss=-15943.38, λc2D1=351.90, λd1=387.63, λd2=482.08, λd3=324.48]\n",
      "Epoch 572 [Validation]: 100%|██████████| 21/21 [00:01<00:00, 14.94it/s, loss=-16708.29]\n"
     ]
    },
    {
     "name": "stdout",
     "output_type": "stream",
     "text": [
      "\tTotal Loss (NLL + MDMM): -16068.57\n",
      "\tMDMM Loss:               11694.78\n",
      "\tRemaining Weights:       69.06 %\n"
     ]
    },
    {
     "name": "stderr",
     "output_type": "stream",
     "text": [
      "Epoch 573 [Training]: 100%|██████████| 84/84 [00:06<00:00, 13.43it/s, loss=-15944.69, λc2D1=352.16, λd1=388.19, λd2=482.70, λd3=324.89]\n",
      "Epoch 573 [Validation]: 100%|██████████| 21/21 [00:01<00:00, 14.94it/s, loss=-16700.58]\n"
     ]
    },
    {
     "name": "stdout",
     "output_type": "stream",
     "text": [
      "\tTotal Loss (NLL + MDMM): -16058.27\n",
      "\tMDMM Loss:               11697.67\n",
      "\tRemaining Weights:       69.11 %\n"
     ]
    },
    {
     "name": "stderr",
     "output_type": "stream",
     "text": [
      "Epoch 574 [Training]: 100%|██████████| 84/84 [00:06<00:00, 13.39it/s, loss=-15946.63, λc2D1=352.43, λd1=388.74, λd2=483.32, λd3=325.31]\n",
      "Epoch 574 [Validation]: 100%|██████████| 21/21 [00:01<00:00, 14.93it/s, loss=-16693.46]\n"
     ]
    },
    {
     "name": "stdout",
     "output_type": "stream",
     "text": [
      "\tTotal Loss (NLL + MDMM): -16052.78\n",
      "\tMDMM Loss:               11705.71\n",
      "\tRemaining Weights:       69.00 %\n"
     ]
    },
    {
     "name": "stderr",
     "output_type": "stream",
     "text": [
      "Epoch 575 [Training]: 100%|██████████| 84/84 [00:06<00:00, 13.34it/s, loss=-15945.44, λc2D1=352.69, λd1=389.29, λd2=483.94, λd3=325.72]\n",
      "Epoch 575 [Validation]: 100%|██████████| 21/21 [00:01<00:00, 15.01it/s, loss=-16688.20]\n"
     ]
    },
    {
     "name": "stdout",
     "output_type": "stream",
     "text": [
      "\tTotal Loss (NLL + MDMM): -16047.53\n",
      "\tMDMM Loss:               11718.59\n",
      "\tRemaining Weights:       69.06 %\n"
     ]
    },
    {
     "name": "stderr",
     "output_type": "stream",
     "text": [
      "Epoch 576 [Training]: 100%|██████████| 84/84 [00:06<00:00, 13.55it/s, loss=-15928.60, λc2D1=352.96, λd1=389.84, λd2=484.56, λd3=326.14]\n",
      "Epoch 576 [Validation]: 100%|██████████| 21/21 [00:01<00:00, 14.95it/s, loss=-16686.61]\n"
     ]
    },
    {
     "name": "stdout",
     "output_type": "stream",
     "text": [
      "\tTotal Loss (NLL + MDMM): -16040.87\n",
      "\tMDMM Loss:               11722.52\n",
      "\tRemaining Weights:       68.89 %\n"
     ]
    },
    {
     "name": "stderr",
     "output_type": "stream",
     "text": [
      "Epoch 577 [Training]: 100%|██████████| 84/84 [00:06<00:00, 13.39it/s, loss=-15916.10, λc2D1=353.23, λd1=390.39, λd2=485.18, λd3=326.55]\n",
      "Epoch 577 [Validation]: 100%|██████████| 21/21 [00:01<00:00, 14.93it/s, loss=-16673.86]\n"
     ]
    },
    {
     "name": "stdout",
     "output_type": "stream",
     "text": [
      "\tTotal Loss (NLL + MDMM): -16031.98\n",
      "\tMDMM Loss:               11732.11\n",
      "\tRemaining Weights:       68.89 %\n"
     ]
    },
    {
     "name": "stderr",
     "output_type": "stream",
     "text": [
      "Epoch 578 [Training]: 100%|██████████| 84/84 [00:06<00:00, 13.48it/s, loss=-15920.45, λc2D1=353.49, λd1=390.94, λd2=485.79, λd3=326.96]\n",
      "Epoch 578 [Validation]: 100%|██████████| 21/21 [00:01<00:00, 15.08it/s, loss=-16680.63]\n"
     ]
    },
    {
     "name": "stdout",
     "output_type": "stream",
     "text": [
      "\tTotal Loss (NLL + MDMM): -16036.24\n",
      "\tMDMM Loss:               11718.25\n",
      "\tRemaining Weights:       68.62 %\n"
     ]
    },
    {
     "name": "stderr",
     "output_type": "stream",
     "text": [
      "Epoch 579 [Training]: 100%|██████████| 84/84 [00:06<00:00, 13.52it/s, loss=-15910.70, λc2D1=353.76, λd1=391.49, λd2=486.41, λd3=327.38]\n",
      "Epoch 579 [Validation]: 100%|██████████| 21/21 [00:01<00:00, 15.25it/s, loss=-16671.52]\n"
     ]
    },
    {
     "name": "stdout",
     "output_type": "stream",
     "text": [
      "\tTotal Loss (NLL + MDMM): -16030.06\n",
      "\tMDMM Loss:               11729.17\n",
      "\tRemaining Weights:       68.62 %\n"
     ]
    },
    {
     "name": "stderr",
     "output_type": "stream",
     "text": [
      "Epoch 580 [Training]: 100%|██████████| 84/84 [00:06<00:00, 13.48it/s, loss=-15906.99, λc2D1=354.02, λd1=392.04, λd2=487.02, λd3=327.79]\n",
      "Epoch 580 [Validation]: 100%|██████████| 21/21 [00:01<00:00, 14.99it/s, loss=-16668.99]\n"
     ]
    },
    {
     "name": "stdout",
     "output_type": "stream",
     "text": [
      "\tTotal Loss (NLL + MDMM): -16021.71\n",
      "\tMDMM Loss:               11741.56\n",
      "\tRemaining Weights:       68.78 %\n"
     ]
    },
    {
     "name": "stderr",
     "output_type": "stream",
     "text": [
      "Epoch 581 [Training]: 100%|██████████| 84/84 [00:06<00:00, 13.58it/s, loss=-15923.99, λc2D1=354.29, λd1=392.59, λd2=487.63, λd3=328.20]\n",
      "Epoch 581 [Validation]: 100%|██████████| 21/21 [00:01<00:00, 15.06it/s, loss=-16681.78]\n"
     ]
    },
    {
     "name": "stdout",
     "output_type": "stream",
     "text": [
      "\tTotal Loss (NLL + MDMM): -16032.91\n",
      "\tMDMM Loss:               11738.60\n",
      "\tRemaining Weights:       68.56 %\n"
     ]
    },
    {
     "name": "stderr",
     "output_type": "stream",
     "text": [
      "Epoch 582 [Training]: 100%|██████████| 84/84 [00:06<00:00, 13.39it/s, loss=-15904.44, λc2D1=354.56, λd1=393.14, λd2=488.24, λd3=328.61]\n",
      "Epoch 582 [Validation]: 100%|██████████| 21/21 [00:01<00:00, 15.18it/s, loss=-16663.27]\n"
     ]
    },
    {
     "name": "stdout",
     "output_type": "stream",
     "text": [
      "\tTotal Loss (NLL + MDMM): -16019.39\n",
      "\tMDMM Loss:               11749.71\n",
      "\tRemaining Weights:       68.34 %\n"
     ]
    },
    {
     "name": "stderr",
     "output_type": "stream",
     "text": [
      "Epoch 583 [Training]: 100%|██████████| 84/84 [00:06<00:00, 13.36it/s, loss=-15908.46, λc2D1=354.83, λd1=393.68, λd2=488.86, λd3=329.02]\n",
      "Epoch 583 [Validation]: 100%|██████████| 21/21 [00:01<00:00, 15.09it/s, loss=-16656.24]\n"
     ]
    },
    {
     "name": "stdout",
     "output_type": "stream",
     "text": [
      "\tTotal Loss (NLL + MDMM): -16007.25\n",
      "\tMDMM Loss:               11764.67\n",
      "\tRemaining Weights:       68.67 %\n"
     ]
    },
    {
     "name": "stderr",
     "output_type": "stream",
     "text": [
      "Epoch 584 [Training]: 100%|██████████| 84/84 [00:06<00:00, 13.54it/s, loss=-15898.82, λc2D1=355.10, λd1=394.23, λd2=489.47, λd3=329.43]\n",
      "Epoch 584 [Validation]: 100%|██████████| 21/21 [00:01<00:00, 14.67it/s, loss=-16643.25]\n"
     ]
    },
    {
     "name": "stdout",
     "output_type": "stream",
     "text": [
      "\tTotal Loss (NLL + MDMM): -15997.11\n",
      "\tMDMM Loss:               11772.74\n",
      "\tRemaining Weights:       68.39 %\n"
     ]
    },
    {
     "name": "stderr",
     "output_type": "stream",
     "text": [
      "Epoch 585 [Training]: 100%|██████████| 84/84 [00:06<00:00, 13.43it/s, loss=-15883.08, λc2D1=355.37, λd1=394.78, λd2=490.08, λd3=329.84]\n",
      "Epoch 585 [Validation]: 100%|██████████| 21/21 [00:01<00:00, 14.82it/s, loss=-16621.72]\n"
     ]
    },
    {
     "name": "stdout",
     "output_type": "stream",
     "text": [
      "\tTotal Loss (NLL + MDMM): -15977.67\n",
      "\tMDMM Loss:               11781.57\n",
      "\tRemaining Weights:       68.51 %\n"
     ]
    },
    {
     "name": "stderr",
     "output_type": "stream",
     "text": [
      "Epoch 586 [Training]: 100%|██████████| 84/84 [00:06<00:00, 13.57it/s, loss=-15871.16, λc2D1=355.64, λd1=395.32, λd2=490.69, λd3=330.25]\n",
      "Epoch 586 [Validation]: 100%|██████████| 21/21 [00:01<00:00, 15.05it/s, loss=-16626.37]\n"
     ]
    },
    {
     "name": "stdout",
     "output_type": "stream",
     "text": [
      "\tTotal Loss (NLL + MDMM): -15979.75\n",
      "\tMDMM Loss:               11782.79\n",
      "\tRemaining Weights:       68.17 %\n"
     ]
    },
    {
     "name": "stderr",
     "output_type": "stream",
     "text": [
      "Epoch 587 [Training]: 100%|██████████| 84/84 [00:06<00:00, 13.51it/s, loss=-15864.86, λc2D1=355.90, λd1=395.87, λd2=491.30, λd3=330.66]\n",
      "Epoch 587 [Validation]: 100%|██████████| 21/21 [00:01<00:00, 14.94it/s, loss=-16625.41]\n"
     ]
    },
    {
     "name": "stdout",
     "output_type": "stream",
     "text": [
      "\tTotal Loss (NLL + MDMM): -15981.12\n",
      "\tMDMM Loss:               11787.46\n",
      "\tRemaining Weights:       68.06 %\n"
     ]
    },
    {
     "name": "stderr",
     "output_type": "stream",
     "text": [
      "Epoch 588 [Training]: 100%|██████████| 84/84 [00:06<00:00, 13.53it/s, loss=-15882.80, λc2D1=356.17, λd1=396.41, λd2=491.91, λd3=331.07]\n",
      "Epoch 588 [Validation]: 100%|██████████| 21/21 [00:01<00:00, 15.05it/s, loss=-16630.48]\n"
     ]
    },
    {
     "name": "stdout",
     "output_type": "stream",
     "text": [
      "\tTotal Loss (NLL + MDMM): -15983.15\n",
      "\tMDMM Loss:               11793.90\n",
      "\tRemaining Weights:       68.06 %\n"
     ]
    },
    {
     "name": "stderr",
     "output_type": "stream",
     "text": [
      "Epoch 589 [Training]: 100%|██████████| 84/84 [00:06<00:00, 13.50it/s, loss=-15874.36, λc2D1=356.44, λd1=396.96, λd2=492.53, λd3=331.48]\n",
      "Epoch 589 [Validation]: 100%|██████████| 21/21 [00:01<00:00, 15.08it/s, loss=-16630.45]\n"
     ]
    },
    {
     "name": "stdout",
     "output_type": "stream",
     "text": [
      "\tTotal Loss (NLL + MDMM): -15979.68\n",
      "\tMDMM Loss:               11793.32\n",
      "\tRemaining Weights:       68.01 %\n"
     ]
    },
    {
     "name": "stderr",
     "output_type": "stream",
     "text": [
      "Epoch 590 [Training]: 100%|██████████| 84/84 [00:06<00:00, 13.48it/s, loss=-15858.86, λc2D1=356.71, λd1=397.50, λd2=493.14, λd3=331.89]\n",
      "Epoch 590 [Validation]: 100%|██████████| 21/21 [00:01<00:00, 14.69it/s, loss=-16606.93]\n"
     ]
    },
    {
     "name": "stdout",
     "output_type": "stream",
     "text": [
      "\tTotal Loss (NLL + MDMM): -15958.28\n",
      "\tMDMM Loss:               11814.55\n",
      "\tRemaining Weights:       68.01 %\n"
     ]
    },
    {
     "name": "stderr",
     "output_type": "stream",
     "text": [
      "Epoch 591 [Training]: 100%|██████████| 84/84 [00:06<00:00, 13.45it/s, loss=-15846.76, λc2D1=356.99, λd1=398.04, λd2=493.75, λd3=332.30]\n",
      "Epoch 591 [Validation]: 100%|██████████| 21/21 [00:01<00:00, 15.32it/s, loss=-16608.72]\n"
     ]
    },
    {
     "name": "stdout",
     "output_type": "stream",
     "text": [
      "\tTotal Loss (NLL + MDMM): -15961.67\n",
      "\tMDMM Loss:               11811.54\n",
      "\tRemaining Weights:       68.01 %\n"
     ]
    },
    {
     "name": "stderr",
     "output_type": "stream",
     "text": [
      "Epoch 592 [Training]: 100%|██████████| 84/84 [00:06<00:00, 13.52it/s, loss=-15847.85, λc2D1=357.26, λd1=398.59, λd2=494.36, λd3=332.71]\n",
      "Epoch 592 [Validation]: 100%|██████████| 21/21 [00:01<00:00, 15.27it/s, loss=-16591.60]\n"
     ]
    },
    {
     "name": "stdout",
     "output_type": "stream",
     "text": [
      "\tTotal Loss (NLL + MDMM): -15941.50\n",
      "\tMDMM Loss:               11831.68\n",
      "\tRemaining Weights:       68.01 %\n"
     ]
    },
    {
     "name": "stderr",
     "output_type": "stream",
     "text": [
      "Epoch 593 [Training]: 100%|██████████| 84/84 [00:06<00:00, 13.40it/s, loss=-15836.83, λc2D1=357.53, λd1=399.13, λd2=494.97, λd3=333.11]\n",
      "Epoch 593 [Validation]: 100%|██████████| 21/21 [00:01<00:00, 14.93it/s, loss=-16593.18]\n"
     ]
    },
    {
     "name": "stdout",
     "output_type": "stream",
     "text": [
      "\tTotal Loss (NLL + MDMM): -15940.41\n",
      "\tMDMM Loss:               11836.20\n",
      "\tRemaining Weights:       68.06 %\n"
     ]
    },
    {
     "name": "stderr",
     "output_type": "stream",
     "text": [
      "Epoch 594 [Training]: 100%|██████████| 84/84 [00:06<00:00, 13.36it/s, loss=-15840.10, λc2D1=357.80, λd1=399.67, λd2=495.57, λd3=333.52]\n",
      "Epoch 594 [Validation]: 100%|██████████| 21/21 [00:01<00:00, 15.11it/s, loss=-16601.41]\n"
     ]
    },
    {
     "name": "stdout",
     "output_type": "stream",
     "text": [
      "\tTotal Loss (NLL + MDMM): -15946.58\n",
      "\tMDMM Loss:               11828.23\n",
      "\tRemaining Weights:       67.68 %\n"
     ]
    },
    {
     "name": "stderr",
     "output_type": "stream",
     "text": [
      "Epoch 595 [Training]: 100%|██████████| 84/84 [00:06<00:00, 13.49it/s, loss=-15819.62, λc2D1=358.07, λd1=400.21, λd2=496.18, λd3=333.93]\n",
      "Epoch 595 [Validation]: 100%|██████████| 21/21 [00:01<00:00, 15.23it/s, loss=-16581.13]\n"
     ]
    },
    {
     "name": "stdout",
     "output_type": "stream",
     "text": [
      "\tTotal Loss (NLL + MDMM): -15930.86\n",
      "\tMDMM Loss:               11850.64\n",
      "\tRemaining Weights:       68.01 %\n"
     ]
    },
    {
     "name": "stderr",
     "output_type": "stream",
     "text": [
      "Epoch 596 [Training]: 100%|██████████| 84/84 [00:06<00:00, 13.35it/s, loss=-15813.82, λc2D1=358.35, λd1=400.75, λd2=496.79, λd3=334.34]\n",
      "Epoch 596 [Validation]: 100%|██████████| 21/21 [00:01<00:00, 14.92it/s, loss=-16573.57]\n"
     ]
    },
    {
     "name": "stdout",
     "output_type": "stream",
     "text": [
      "\tTotal Loss (NLL + MDMM): -15920.49\n",
      "\tMDMM Loss:               11849.58\n",
      "\tRemaining Weights:       67.68 %\n"
     ]
    },
    {
     "name": "stderr",
     "output_type": "stream",
     "text": [
      "Epoch 597 [Training]: 100%|██████████| 84/84 [00:06<00:00, 13.52it/s, loss=-15809.98, λc2D1=358.62, λd1=401.29, λd2=497.40, λd3=334.74]\n",
      "Epoch 597 [Validation]: 100%|██████████| 21/21 [00:01<00:00, 14.76it/s, loss=-16568.21]\n"
     ]
    },
    {
     "name": "stdout",
     "output_type": "stream",
     "text": [
      "\tTotal Loss (NLL + MDMM): -15915.54\n",
      "\tMDMM Loss:               11861.65\n",
      "\tRemaining Weights:       67.68 %\n"
     ]
    },
    {
     "name": "stderr",
     "output_type": "stream",
     "text": [
      "Epoch 598 [Training]: 100%|██████████| 84/84 [00:06<00:00, 13.20it/s, loss=-15796.81, λc2D1=358.89, λd1=401.83, λd2=498.01, λd3=335.15]\n",
      "Epoch 598 [Validation]: 100%|██████████| 21/21 [00:01<00:00, 14.96it/s, loss=-16551.02]\n"
     ]
    },
    {
     "name": "stdout",
     "output_type": "stream",
     "text": [
      "\tTotal Loss (NLL + MDMM): -15897.41\n",
      "\tMDMM Loss:               11868.64\n",
      "\tRemaining Weights:       67.57 %\n"
     ]
    },
    {
     "name": "stderr",
     "output_type": "stream",
     "text": [
      "Epoch 599 [Training]: 100%|██████████| 84/84 [00:06<00:00, 13.53it/s, loss=-15810.17, λc2D1=359.17, λd1=402.37, λd2=498.62, λd3=335.55]\n",
      "Epoch 599 [Validation]: 100%|██████████| 21/21 [00:01<00:00, 14.77it/s, loss=-16564.44]\n"
     ]
    },
    {
     "name": "stdout",
     "output_type": "stream",
     "text": [
      "\tTotal Loss (NLL + MDMM): -15907.89\n",
      "\tMDMM Loss:               11871.84\n",
      "\tRemaining Weights:       67.84 %\n"
     ]
    },
    {
     "name": "stderr",
     "output_type": "stream",
     "text": [
      "Epoch 600 [Training]: 100%|██████████| 84/84 [00:06<00:00, 13.38it/s, loss=-15783.64, λc2D1=359.44, λd1=402.91, λd2=499.22, λd3=335.96]\n",
      "Epoch 600 [Validation]: 100%|██████████| 21/21 [00:01<00:00, 14.89it/s, loss=-16550.89]\n"
     ]
    },
    {
     "name": "stdout",
     "output_type": "stream",
     "text": [
      "\tTotal Loss (NLL + MDMM): -15895.56\n",
      "\tMDMM Loss:               11870.96\n",
      "\tRemaining Weights:       67.40 %\n"
     ]
    },
    {
     "name": "stderr",
     "output_type": "stream",
     "text": [
      "Epoch 601 [Training]: 100%|██████████| 84/84 [00:06<00:00, 13.54it/s, loss=-15783.90, λc2D1=359.72, λd1=403.45, λd2=499.83, λd3=336.37]\n",
      "Epoch 601 [Validation]: 100%|██████████| 21/21 [00:01<00:00, 14.87it/s, loss=-16546.50]\n"
     ]
    },
    {
     "name": "stdout",
     "output_type": "stream",
     "text": [
      "\tTotal Loss (NLL + MDMM): -15893.29\n",
      "\tMDMM Loss:               11874.66\n",
      "\tRemaining Weights:       67.51 %\n"
     ]
    },
    {
     "name": "stderr",
     "output_type": "stream",
     "text": [
      "Epoch 602 [Training]: 100%|██████████| 84/84 [00:06<00:00, 13.52it/s, loss=-15788.25, λc2D1=359.99, λd1=403.98, λd2=500.43, λd3=336.77]\n",
      "Epoch 602 [Validation]: 100%|██████████| 21/21 [00:01<00:00, 15.11it/s, loss=-16551.07]\n"
     ]
    },
    {
     "name": "stdout",
     "output_type": "stream",
     "text": [
      "\tTotal Loss (NLL + MDMM): -15895.26\n",
      "\tMDMM Loss:               11877.50\n",
      "\tRemaining Weights:       67.35 %\n"
     ]
    },
    {
     "name": "stderr",
     "output_type": "stream",
     "text": [
      "Epoch 603 [Training]: 100%|██████████| 84/84 [00:06<00:00, 13.51it/s, loss=-15785.88, λc2D1=360.27, λd1=404.52, λd2=501.04, λd3=337.18]\n",
      "Epoch 603 [Validation]: 100%|██████████| 21/21 [00:01<00:00, 14.86it/s, loss=-16535.80]\n"
     ]
    },
    {
     "name": "stdout",
     "output_type": "stream",
     "text": [
      "\tTotal Loss (NLL + MDMM): -15882.52\n",
      "\tMDMM Loss:               11890.87\n",
      "\tRemaining Weights:       67.46 %\n"
     ]
    },
    {
     "name": "stderr",
     "output_type": "stream",
     "text": [
      "Epoch 604 [Training]: 100%|██████████| 84/84 [00:06<00:00, 13.50it/s, loss=-15713.18, λc2D1=360.54, λd1=405.06, λd2=501.64, λd3=337.59]\n",
      "Epoch 604 [Validation]: 100%|██████████| 21/21 [00:01<00:00, 15.10it/s, loss=-16475.00]\n"
     ]
    },
    {
     "name": "stdout",
     "output_type": "stream",
     "text": [
      "\tTotal Loss (NLL + MDMM): -15822.29\n",
      "\tMDMM Loss:               11951.48\n",
      "\tRemaining Weights:       67.07 %\n"
     ]
    },
    {
     "name": "stderr",
     "output_type": "stream",
     "text": [
      "Epoch 605 [Training]: 100%|██████████| 84/84 [00:06<00:00, 13.42it/s, loss=-15783.38, λc2D1=360.82, λd1=405.59, λd2=502.25, λd3=337.99]\n",
      "Epoch 605 [Validation]: 100%|██████████| 21/21 [00:01<00:00, 14.79it/s, loss=-16544.01]\n"
     ]
    },
    {
     "name": "stdout",
     "output_type": "stream",
     "text": [
      "\tTotal Loss (NLL + MDMM): -15882.38\n",
      "\tMDMM Loss:               11893.21\n",
      "\tRemaining Weights:       67.40 %\n"
     ]
    },
    {
     "name": "stderr",
     "output_type": "stream",
     "text": [
      "Epoch 606 [Training]: 100%|██████████| 84/84 [00:06<00:00, 13.52it/s, loss=-15784.02, λc2D1=361.09, λd1=406.13, λd2=502.85, λd3=338.40]\n",
      "Epoch 606 [Validation]: 100%|██████████| 21/21 [00:01<00:00, 14.71it/s, loss=-16552.86]\n"
     ]
    },
    {
     "name": "stdout",
     "output_type": "stream",
     "text": [
      "\tTotal Loss (NLL + MDMM): -15893.70\n",
      "\tMDMM Loss:               11885.98\n",
      "\tRemaining Weights:       67.02 %\n"
     ]
    },
    {
     "name": "stderr",
     "output_type": "stream",
     "text": [
      "Epoch 607 [Training]: 100%|██████████| 84/84 [00:06<00:00, 13.35it/s, loss=-15776.79, λc2D1=361.37, λd1=406.66, λd2=503.45, λd3=338.80]\n",
      "Epoch 607 [Validation]: 100%|██████████| 21/21 [00:01<00:00, 14.80it/s, loss=-16544.94]\n"
     ]
    },
    {
     "name": "stdout",
     "output_type": "stream",
     "text": [
      "\tTotal Loss (NLL + MDMM): -15887.59\n",
      "\tMDMM Loss:               11885.07\n",
      "\tRemaining Weights:       66.74 %\n"
     ]
    },
    {
     "name": "stderr",
     "output_type": "stream",
     "text": [
      "Epoch 608 [Training]: 100%|██████████| 84/84 [00:06<00:00, 13.33it/s, loss=-15783.91, λc2D1=361.65, λd1=407.19, λd2=504.05, λd3=339.21]\n",
      "Epoch 608 [Validation]: 100%|██████████| 21/21 [00:01<00:00, 14.46it/s, loss=-16540.66]\n"
     ]
    },
    {
     "name": "stdout",
     "output_type": "stream",
     "text": [
      "\tTotal Loss (NLL + MDMM): -15883.69\n",
      "\tMDMM Loss:               11889.51\n",
      "\tRemaining Weights:       66.69 %\n"
     ]
    },
    {
     "name": "stderr",
     "output_type": "stream",
     "text": [
      "Epoch 609 [Training]: 100%|██████████| 84/84 [00:06<00:00, 13.29it/s, loss=-15754.43, λc2D1=361.92, λd1=407.73, λd2=504.65, λd3=339.61]\n",
      "Epoch 609 [Validation]: 100%|██████████| 21/21 [00:01<00:00, 14.83it/s, loss=-16510.01]\n"
     ]
    },
    {
     "name": "stdout",
     "output_type": "stream",
     "text": [
      "\tTotal Loss (NLL + MDMM): -15855.03\n",
      "\tMDMM Loss:               11903.96\n",
      "\tRemaining Weights:       66.85 %\n"
     ]
    },
    {
     "name": "stderr",
     "output_type": "stream",
     "text": [
      "Epoch 610 [Training]: 100%|██████████| 84/84 [00:06<00:00, 13.38it/s, loss=-15752.86, λc2D1=362.20, λd1=408.26, λd2=505.25, λd3=340.02]\n",
      "Epoch 610 [Validation]: 100%|██████████| 21/21 [00:01<00:00, 15.10it/s, loss=-16495.18]\n"
     ]
    },
    {
     "name": "stdout",
     "output_type": "stream",
     "text": [
      "\tTotal Loss (NLL + MDMM): -15843.49\n",
      "\tMDMM Loss:               11918.56\n",
      "\tRemaining Weights:       66.85 %\n"
     ]
    },
    {
     "name": "stderr",
     "output_type": "stream",
     "text": [
      "Epoch 611 [Training]: 100%|██████████| 84/84 [00:06<00:00, 13.66it/s, loss=-15734.50, λc2D1=362.48, λd1=408.79, λd2=505.85, λd3=340.42]\n",
      "Epoch 611 [Validation]: 100%|██████████| 21/21 [00:01<00:00, 15.12it/s, loss=-16499.52]\n"
     ]
    },
    {
     "name": "stdout",
     "output_type": "stream",
     "text": [
      "\tTotal Loss (NLL + MDMM): -15846.30\n",
      "\tMDMM Loss:               11920.52\n",
      "\tRemaining Weights:       66.63 %\n"
     ]
    },
    {
     "name": "stderr",
     "output_type": "stream",
     "text": [
      "Epoch 612 [Training]: 100%|██████████| 84/84 [00:06<00:00, 13.44it/s, loss=-15749.80, λc2D1=362.76, λd1=409.32, λd2=506.45, λd3=340.82]\n",
      "Epoch 612 [Validation]: 100%|██████████| 21/21 [00:01<00:00, 15.19it/s, loss=-16509.67]\n"
     ]
    },
    {
     "name": "stdout",
     "output_type": "stream",
     "text": [
      "\tTotal Loss (NLL + MDMM): -15847.64\n",
      "\tMDMM Loss:               11928.92\n",
      "\tRemaining Weights:       66.96 %\n"
     ]
    },
    {
     "name": "stderr",
     "output_type": "stream",
     "text": [
      "Epoch 613 [Training]: 100%|██████████| 84/84 [00:06<00:00, 13.36it/s, loss=-15738.63, λc2D1=363.04, λd1=409.85, λd2=507.05, λd3=341.23]\n",
      "Epoch 613 [Validation]: 100%|██████████| 21/21 [00:01<00:00, 15.16it/s, loss=-16519.51]\n"
     ]
    },
    {
     "name": "stdout",
     "output_type": "stream",
     "text": [
      "\tTotal Loss (NLL + MDMM): -15857.09\n",
      "\tMDMM Loss:               11927.92\n",
      "\tRemaining Weights:       66.63 %\n"
     ]
    },
    {
     "name": "stderr",
     "output_type": "stream",
     "text": [
      "Epoch 614 [Training]: 100%|██████████| 84/84 [00:06<00:00, 13.51it/s, loss=-15735.93, λc2D1=363.32, λd1=410.38, λd2=507.65, λd3=341.63]\n",
      "Epoch 614 [Validation]: 100%|██████████| 21/21 [00:01<00:00, 15.05it/s, loss=-16506.41]\n"
     ]
    },
    {
     "name": "stdout",
     "output_type": "stream",
     "text": [
      "\tTotal Loss (NLL + MDMM): -15846.45\n",
      "\tMDMM Loss:               11929.71\n",
      "\tRemaining Weights:       66.46 %\n"
     ]
    },
    {
     "name": "stderr",
     "output_type": "stream",
     "text": [
      "Epoch 615 [Training]: 100%|██████████| 84/84 [00:06<00:00, 13.38it/s, loss=-15654.00, λc2D1=363.60, λd1=410.91, λd2=508.24, λd3=342.04]\n",
      "Epoch 615 [Validation]: 100%|██████████| 21/21 [00:01<00:00, 15.00it/s, loss=-16425.04]\n"
     ]
    },
    {
     "name": "stdout",
     "output_type": "stream",
     "text": [
      "\tTotal Loss (NLL + MDMM): -15765.45\n",
      "\tMDMM Loss:               12010.47\n",
      "\tRemaining Weights:       66.63 %\n"
     ]
    },
    {
     "name": "stderr",
     "output_type": "stream",
     "text": [
      "Epoch 616 [Training]: 100%|██████████| 84/84 [00:06<00:00, 13.52it/s, loss=-15717.85, λc2D1=363.88, λd1=411.44, λd2=508.84, λd3=342.44]\n",
      "Epoch 616 [Validation]: 100%|██████████| 21/21 [00:01<00:00, 14.89it/s, loss=-16477.54]\n"
     ]
    },
    {
     "name": "stdout",
     "output_type": "stream",
     "text": [
      "\tTotal Loss (NLL + MDMM): -15821.07\n",
      "\tMDMM Loss:               11934.39\n",
      "\tRemaining Weights:       66.24 %\n"
     ]
    },
    {
     "name": "stderr",
     "output_type": "stream",
     "text": [
      "Epoch 617 [Training]: 100%|██████████| 84/84 [00:06<00:00, 13.48it/s, loss=-15723.12, λc2D1=364.15, λd1=411.97, λd2=509.44, λd3=342.85]\n",
      "Epoch 617 [Validation]: 100%|██████████| 21/21 [00:01<00:00, 14.90it/s, loss=-16492.74]\n"
     ]
    },
    {
     "name": "stdout",
     "output_type": "stream",
     "text": [
      "\tTotal Loss (NLL + MDMM): -15830.63\n",
      "\tMDMM Loss:               11942.74\n",
      "\tRemaining Weights:       66.24 %\n"
     ]
    },
    {
     "name": "stderr",
     "output_type": "stream",
     "text": [
      "Epoch 618 [Training]: 100%|██████████| 84/84 [00:06<00:00, 13.44it/s, loss=-15710.45, λc2D1=364.44, λd1=412.50, λd2=510.03, λd3=343.25]\n",
      "Epoch 618 [Validation]: 100%|██████████| 21/21 [00:01<00:00, 15.09it/s, loss=-16484.64]\n"
     ]
    },
    {
     "name": "stdout",
     "output_type": "stream",
     "text": [
      "\tTotal Loss (NLL + MDMM): -15826.29\n",
      "\tMDMM Loss:               11951.91\n",
      "\tRemaining Weights:       66.35 %\n"
     ]
    },
    {
     "name": "stderr",
     "output_type": "stream",
     "text": [
      "Epoch 619 [Training]: 100%|██████████| 84/84 [00:06<00:00, 13.46it/s, loss=-15716.90, λc2D1=364.72, λd1=413.03, λd2=510.63, λd3=343.65]\n",
      "Epoch 619 [Validation]: 100%|██████████| 21/21 [00:01<00:00, 14.73it/s, loss=-16488.37]\n"
     ]
    },
    {
     "name": "stdout",
     "output_type": "stream",
     "text": [
      "\tTotal Loss (NLL + MDMM): -15824.71\n",
      "\tMDMM Loss:               11956.81\n",
      "\tRemaining Weights:       66.52 %\n"
     ]
    },
    {
     "name": "stderr",
     "output_type": "stream",
     "text": [
      "Epoch 620 [Training]: 100%|██████████| 84/84 [00:06<00:00, 13.55it/s, loss=-15728.36, λc2D1=365.00, λd1=413.56, λd2=511.22, λd3=344.06]\n",
      "Epoch 620 [Validation]: 100%|██████████| 21/21 [00:01<00:00, 15.18it/s, loss=-16498.61]\n"
     ]
    },
    {
     "name": "stdout",
     "output_type": "stream",
     "text": [
      "\tTotal Loss (NLL + MDMM): -15835.03\n",
      "\tMDMM Loss:               11940.25\n",
      "\tRemaining Weights:       66.08 %\n"
     ]
    },
    {
     "name": "stderr",
     "output_type": "stream",
     "text": [
      "Epoch 621 [Training]: 100%|██████████| 84/84 [00:06<00:00, 13.39it/s, loss=-15729.07, λc2D1=365.28, λd1=414.09, λd2=511.81, λd3=344.46]\n",
      "Epoch 621 [Validation]: 100%|██████████| 21/21 [00:01<00:00, 14.74it/s, loss=-16498.68]\n"
     ]
    },
    {
     "name": "stdout",
     "output_type": "stream",
     "text": [
      "\tTotal Loss (NLL + MDMM): -15837.68\n",
      "\tMDMM Loss:               11940.11\n",
      "\tRemaining Weights:       66.19 %\n"
     ]
    },
    {
     "name": "stderr",
     "output_type": "stream",
     "text": [
      "Epoch 622 [Training]: 100%|██████████| 84/84 [00:06<00:00, 13.54it/s, loss=-15701.77, λc2D1=365.56, λd1=414.61, λd2=512.39, λd3=344.86]\n",
      "Epoch 622 [Validation]: 100%|██████████| 21/21 [00:01<00:00, 15.19it/s, loss=-16474.82]\n"
     ]
    },
    {
     "name": "stdout",
     "output_type": "stream",
     "text": [
      "\tTotal Loss (NLL + MDMM): -15815.49\n",
      "\tMDMM Loss:               11949.04\n",
      "\tRemaining Weights:       65.86 %\n"
     ]
    },
    {
     "name": "stderr",
     "output_type": "stream",
     "text": [
      "Epoch 623 [Training]: 100%|██████████| 84/84 [00:06<00:00, 13.41it/s, loss=-15722.46, λc2D1=365.84, λd1=415.14, λd2=512.98, λd3=345.27]\n",
      "Epoch 623 [Validation]: 100%|██████████| 21/21 [00:01<00:00, 15.11it/s, loss=-16485.99]\n"
     ]
    },
    {
     "name": "stdout",
     "output_type": "stream",
     "text": [
      "\tTotal Loss (NLL + MDMM): -15823.55\n",
      "\tMDMM Loss:               11951.18\n",
      "\tRemaining Weights:       65.97 %\n"
     ]
    },
    {
     "name": "stderr",
     "output_type": "stream",
     "text": [
      "Epoch 624 [Training]: 100%|██████████| 84/84 [00:06<00:00, 13.39it/s, loss=-15689.15, λc2D1=366.13, λd1=415.66, λd2=513.57, λd3=345.67]\n",
      "Epoch 624 [Validation]: 100%|██████████| 21/21 [00:01<00:00, 15.09it/s, loss=-16452.13]\n"
     ]
    },
    {
     "name": "stdout",
     "output_type": "stream",
     "text": [
      "\tTotal Loss (NLL + MDMM): -15789.27\n",
      "\tMDMM Loss:               11969.56\n",
      "\tRemaining Weights:       66.02 %\n"
     ]
    },
    {
     "name": "stderr",
     "output_type": "stream",
     "text": [
      "Epoch 625 [Training]: 100%|██████████| 84/84 [00:06<00:00, 13.49it/s, loss=-15692.59, λc2D1=366.41, λd1=416.19, λd2=514.16, λd3=346.07]\n",
      "Epoch 625 [Validation]: 100%|██████████| 21/21 [00:01<00:00, 14.91it/s, loss=-16464.84]\n"
     ]
    },
    {
     "name": "stdout",
     "output_type": "stream",
     "text": [
      "\tTotal Loss (NLL + MDMM): -15801.70\n",
      "\tMDMM Loss:               11965.01\n",
      "\tRemaining Weights:       65.75 %\n"
     ]
    },
    {
     "name": "stderr",
     "output_type": "stream",
     "text": [
      "Epoch 626 [Training]: 100%|██████████| 84/84 [00:06<00:00, 13.48it/s, loss=-15692.19, λc2D1=366.69, λd1=416.71, λd2=514.75, λd3=346.47]\n",
      "Epoch 626 [Validation]: 100%|██████████| 21/21 [00:01<00:00, 14.94it/s, loss=-16455.18]\n"
     ]
    },
    {
     "name": "stdout",
     "output_type": "stream",
     "text": [
      "\tTotal Loss (NLL + MDMM): -15795.49\n",
      "\tMDMM Loss:               11978.05\n",
      "\tRemaining Weights:       65.80 %\n"
     ]
    },
    {
     "name": "stderr",
     "output_type": "stream",
     "text": [
      "Epoch 627 [Training]: 100%|██████████| 84/84 [00:06<00:00, 13.18it/s, loss=-15698.83, λc2D1=366.97, λd1=417.24, λd2=515.33, λd3=346.88]\n",
      "Epoch 627 [Validation]: 100%|██████████| 21/21 [00:01<00:00, 14.81it/s, loss=-16462.36]\n"
     ]
    },
    {
     "name": "stdout",
     "output_type": "stream",
     "text": [
      "\tTotal Loss (NLL + MDMM): -15797.95\n",
      "\tMDMM Loss:               11977.15\n",
      "\tRemaining Weights:       66.02 %\n"
     ]
    },
    {
     "name": "stderr",
     "output_type": "stream",
     "text": [
      "Epoch 628 [Training]: 100%|██████████| 84/84 [00:06<00:00, 13.49it/s, loss=-15682.53, λc2D1=367.26, λd1=417.76, λd2=515.92, λd3=347.28]\n",
      "Epoch 628 [Validation]: 100%|██████████| 21/21 [00:01<00:00, 14.69it/s, loss=-16457.49]\n"
     ]
    },
    {
     "name": "stdout",
     "output_type": "stream",
     "text": [
      "\tTotal Loss (NLL + MDMM): -15794.41\n",
      "\tMDMM Loss:               11975.06\n",
      "\tRemaining Weights:       65.75 %\n"
     ]
    },
    {
     "name": "stderr",
     "output_type": "stream",
     "text": [
      "Epoch 629 [Training]: 100%|██████████| 84/84 [00:06<00:00, 13.48it/s, loss=-15690.17, λc2D1=367.54, λd1=418.28, λd2=516.50, λd3=347.68]\n",
      "Epoch 629 [Validation]: 100%|██████████| 21/21 [00:01<00:00, 15.26it/s, loss=-16467.27]\n"
     ]
    },
    {
     "name": "stdout",
     "output_type": "stream",
     "text": [
      "\tTotal Loss (NLL + MDMM): -15797.24\n",
      "\tMDMM Loss:               11988.81\n",
      "\tRemaining Weights:       65.97 %\n"
     ]
    },
    {
     "name": "stderr",
     "output_type": "stream",
     "text": [
      "Epoch 630 [Training]: 100%|██████████| 84/84 [00:06<00:00, 13.50it/s, loss=-15673.38, λc2D1=367.83, λd1=418.81, λd2=517.08, λd3=348.08]\n",
      "Epoch 630 [Validation]: 100%|██████████| 21/21 [00:01<00:00, 15.05it/s, loss=-16448.32]\n"
     ]
    },
    {
     "name": "stdout",
     "output_type": "stream",
     "text": [
      "\tTotal Loss (NLL + MDMM): -15787.62\n",
      "\tMDMM Loss:               11991.33\n",
      "\tRemaining Weights:       65.69 %\n"
     ]
    },
    {
     "name": "stderr",
     "output_type": "stream",
     "text": [
      "Epoch 631 [Training]: 100%|██████████| 84/84 [00:06<00:00, 13.37it/s, loss=-15682.19, λc2D1=368.11, λd1=419.33, λd2=517.67, λd3=348.49]\n",
      "Epoch 631 [Validation]: 100%|██████████| 21/21 [00:01<00:00, 15.00it/s, loss=-16458.86]\n"
     ]
    },
    {
     "name": "stdout",
     "output_type": "stream",
     "text": [
      "\tTotal Loss (NLL + MDMM): -15796.52\n",
      "\tMDMM Loss:               11978.48\n",
      "\tRemaining Weights:       65.47 %\n"
     ]
    },
    {
     "name": "stderr",
     "output_type": "stream",
     "text": [
      "Epoch 632 [Training]: 100%|██████████| 84/84 [00:06<00:00, 13.30it/s, loss=-15631.17, λc2D1=368.40, λd1=419.85, λd2=518.25, λd3=348.89]\n",
      "Epoch 632 [Validation]: 100%|██████████| 21/21 [00:01<00:00, 14.84it/s, loss=-16401.65]\n"
     ]
    },
    {
     "name": "stdout",
     "output_type": "stream",
     "text": [
      "\tTotal Loss (NLL + MDMM): -15737.98\n",
      "\tMDMM Loss:               12035.48\n",
      "\tRemaining Weights:       65.25 %\n"
     ]
    },
    {
     "name": "stderr",
     "output_type": "stream",
     "text": [
      "Epoch 633 [Training]: 100%|██████████| 84/84 [00:06<00:00, 13.51it/s, loss=-15680.59, λc2D1=368.68, λd1=420.37, λd2=518.83, λd3=349.29]\n",
      "Epoch 633 [Validation]: 100%|██████████| 21/21 [00:01<00:00, 14.95it/s, loss=-16461.41]\n"
     ]
    },
    {
     "name": "stdout",
     "output_type": "stream",
     "text": [
      "\tTotal Loss (NLL + MDMM): -15797.97\n",
      "\tMDMM Loss:               11981.33\n",
      "\tRemaining Weights:       65.31 %\n"
     ]
    },
    {
     "name": "stderr",
     "output_type": "stream",
     "text": [
      "Epoch 634 [Training]: 100%|██████████| 84/84 [00:06<00:00, 13.33it/s, loss=-15679.81, λc2D1=368.97, λd1=420.89, λd2=519.41, λd3=349.69]\n",
      "Epoch 634 [Validation]: 100%|██████████| 21/21 [00:01<00:00, 14.79it/s, loss=-16447.10]\n"
     ]
    },
    {
     "name": "stdout",
     "output_type": "stream",
     "text": [
      "\tTotal Loss (NLL + MDMM): -15782.46\n",
      "\tMDMM Loss:               11988.05\n",
      "\tRemaining Weights:       65.14 %\n"
     ]
    },
    {
     "name": "stderr",
     "output_type": "stream",
     "text": [
      "Epoch 635 [Training]: 100%|██████████| 84/84 [00:06<00:00, 13.60it/s, loss=-15644.04, λc2D1=369.25, λd1=421.41, λd2=519.99, λd3=350.09]\n",
      "Epoch 635 [Validation]: 100%|██████████| 21/21 [00:01<00:00, 14.62it/s, loss=-16421.27]\n"
     ]
    },
    {
     "name": "stdout",
     "output_type": "stream",
     "text": [
      "\tTotal Loss (NLL + MDMM): -15759.15\n",
      "\tMDMM Loss:               12017.11\n",
      "\tRemaining Weights:       65.42 %\n"
     ]
    },
    {
     "name": "stderr",
     "output_type": "stream",
     "text": [
      "Epoch 636 [Training]: 100%|██████████| 84/84 [00:06<00:00, 13.38it/s, loss=-15647.56, λc2D1=369.54, λd1=421.92, λd2=520.57, λd3=350.49]\n",
      "Epoch 636 [Validation]: 100%|██████████| 21/21 [00:01<00:00, 14.97it/s, loss=-16428.61]\n"
     ]
    },
    {
     "name": "stdout",
     "output_type": "stream",
     "text": [
      "\tTotal Loss (NLL + MDMM): -15765.34\n",
      "\tMDMM Loss:               12013.00\n",
      "\tRemaining Weights:       65.09 %\n"
     ]
    },
    {
     "name": "stderr",
     "output_type": "stream",
     "text": [
      "Epoch 637 [Training]: 100%|██████████| 84/84 [00:06<00:00, 13.50it/s, loss=-15650.23, λc2D1=369.82, λd1=422.44, λd2=521.15, λd3=350.89]\n",
      "Epoch 637 [Validation]: 100%|██████████| 21/21 [00:01<00:00, 15.22it/s, loss=-16419.62]\n"
     ]
    },
    {
     "name": "stdout",
     "output_type": "stream",
     "text": [
      "\tTotal Loss (NLL + MDMM): -15757.51\n",
      "\tMDMM Loss:               12017.97\n",
      "\tRemaining Weights:       65.09 %\n"
     ]
    },
    {
     "name": "stderr",
     "output_type": "stream",
     "text": [
      "Epoch 638 [Training]: 100%|██████████| 84/84 [00:06<00:00, 13.49it/s, loss=-15570.32, λc2D1=370.11, λd1=422.96, λd2=521.73, λd3=351.29]\n",
      "Epoch 638 [Validation]: 100%|██████████| 21/21 [00:01<00:00, 15.09it/s, loss=-16419.61]\n"
     ]
    },
    {
     "name": "stdout",
     "output_type": "stream",
     "text": [
      "\tTotal Loss (NLL + MDMM): -15758.42\n",
      "\tMDMM Loss:               12010.88\n",
      "\tRemaining Weights:       64.70 %\n"
     ]
    },
    {
     "name": "stderr",
     "output_type": "stream",
     "text": [
      "Epoch 639 [Training]: 100%|██████████| 84/84 [00:06<00:00, 13.41it/s, loss=-15632.48, λc2D1=370.40, λd1=423.48, λd2=522.31, λd3=351.68]\n",
      "Epoch 639 [Validation]: 100%|██████████| 21/21 [00:01<00:00, 15.13it/s, loss=-16412.40]\n"
     ]
    },
    {
     "name": "stdout",
     "output_type": "stream",
     "text": [
      "\tTotal Loss (NLL + MDMM): -15745.26\n",
      "\tMDMM Loss:               12036.30\n",
      "\tRemaining Weights:       65.25 %\n"
     ]
    },
    {
     "name": "stderr",
     "output_type": "stream",
     "text": [
      "Epoch 640 [Training]: 100%|██████████| 84/84 [00:06<00:00, 13.53it/s, loss=-15650.96, λc2D1=370.68, λd1=423.99, λd2=522.89, λd3=352.08]\n",
      "Epoch 640 [Validation]: 100%|██████████| 21/21 [00:01<00:00, 15.00it/s, loss=-16420.80]\n"
     ]
    },
    {
     "name": "stdout",
     "output_type": "stream",
     "text": [
      "\tTotal Loss (NLL + MDMM): -15749.27\n",
      "\tMDMM Loss:               12035.16\n",
      "\tRemaining Weights:       65.09 %\n"
     ]
    },
    {
     "name": "stderr",
     "output_type": "stream",
     "text": [
      "Epoch 641 [Training]: 100%|██████████| 84/84 [00:06<00:00, 13.53it/s, loss=-15566.66, λc2D1=370.97, λd1=424.51, λd2=523.47, λd3=352.48]\n",
      "Epoch 641 [Validation]: 100%|██████████| 21/21 [00:01<00:00, 14.95it/s, loss=-16311.89]\n"
     ]
    },
    {
     "name": "stdout",
     "output_type": "stream",
     "text": [
      "\tTotal Loss (NLL + MDMM): -15652.94\n",
      "\tMDMM Loss:               12115.79\n",
      "\tRemaining Weights:       65.09 %\n"
     ]
    },
    {
     "name": "stderr",
     "output_type": "stream",
     "text": [
      "Epoch 642 [Training]: 100%|██████████| 84/84 [00:06<00:00, 13.39it/s, loss=-15599.61, λc2D1=371.26, λd1=425.03, λd2=524.05, λd3=352.88]\n",
      "Epoch 642 [Validation]: 100%|██████████| 21/21 [00:01<00:00, 15.09it/s, loss=-16377.91]\n"
     ]
    },
    {
     "name": "stdout",
     "output_type": "stream",
     "text": [
      "\tTotal Loss (NLL + MDMM): -15715.04\n",
      "\tMDMM Loss:               12061.15\n",
      "\tRemaining Weights:       65.14 %\n"
     ]
    },
    {
     "name": "stderr",
     "output_type": "stream",
     "text": [
      "Epoch 643 [Training]: 100%|██████████| 84/84 [00:06<00:00, 13.31it/s, loss=-15529.76, λc2D1=371.55, λd1=425.54, λd2=524.63, λd3=353.27]\n",
      "Epoch 643 [Validation]: 100%|██████████| 21/21 [00:01<00:00, 14.78it/s, loss=-16310.08]\n"
     ]
    },
    {
     "name": "stdout",
     "output_type": "stream",
     "text": [
      "\tTotal Loss (NLL + MDMM): -15649.21\n",
      "\tMDMM Loss:               12117.90\n",
      "\tRemaining Weights:       64.70 %\n"
     ]
    },
    {
     "name": "stderr",
     "output_type": "stream",
     "text": [
      "Epoch 644 [Training]: 100%|██████████| 84/84 [00:06<00:00, 13.37it/s, loss=-15594.96, λc2D1=371.84, λd1=426.06, λd2=525.21, λd3=353.67]\n",
      "Epoch 644 [Validation]: 100%|██████████| 21/21 [00:01<00:00, 14.94it/s, loss=-16369.63]\n"
     ]
    },
    {
     "name": "stdout",
     "output_type": "stream",
     "text": [
      "\tTotal Loss (NLL + MDMM): -15707.87\n",
      "\tMDMM Loss:               12071.17\n",
      "\tRemaining Weights:       64.98 %\n"
     ]
    },
    {
     "name": "stderr",
     "output_type": "stream",
     "text": [
      "Epoch 645 [Training]: 100%|██████████| 84/84 [00:06<00:00, 13.47it/s, loss=-15519.61, λc2D1=372.13, λd1=426.57, λd2=525.79, λd3=354.06]\n",
      "Epoch 645 [Validation]: 100%|██████████| 21/21 [00:01<00:00, 14.80it/s, loss=-16314.61]\n"
     ]
    },
    {
     "name": "stdout",
     "output_type": "stream",
     "text": [
      "\tTotal Loss (NLL + MDMM): -15647.41\n",
      "\tMDMM Loss:               12132.77\n",
      "\tRemaining Weights:       65.03 %\n"
     ]
    },
    {
     "name": "stderr",
     "output_type": "stream",
     "text": [
      "Epoch 646 [Training]: 100%|██████████| 84/84 [00:06<00:00, 13.47it/s, loss=-15585.21, λc2D1=372.42, λd1=427.09, λd2=526.36, λd3=354.46]\n",
      "Epoch 646 [Validation]: 100%|██████████| 21/21 [00:01<00:00, 14.91it/s, loss=-16361.88]\n"
     ]
    },
    {
     "name": "stdout",
     "output_type": "stream",
     "text": [
      "\tTotal Loss (NLL + MDMM): -15702.62\n",
      "\tMDMM Loss:               12069.00\n",
      "\tRemaining Weights:       64.81 %\n"
     ]
    },
    {
     "name": "stderr",
     "output_type": "stream",
     "text": [
      "Epoch 647 [Training]: 100%|██████████| 84/84 [00:06<00:00, 13.48it/s, loss=-15534.66, λc2D1=372.70, λd1=427.60, λd2=526.94, λd3=354.85]\n",
      "Epoch 647 [Validation]: 100%|██████████| 21/21 [00:01<00:00, 15.08it/s, loss=-16295.03]\n"
     ]
    },
    {
     "name": "stdout",
     "output_type": "stream",
     "text": [
      "\tTotal Loss (NLL + MDMM): -15634.34\n",
      "\tMDMM Loss:               12132.31\n",
      "\tRemaining Weights:       64.86 %\n"
     ]
    },
    {
     "name": "stderr",
     "output_type": "stream",
     "text": [
      "Epoch 648 [Training]: 100%|██████████| 84/84 [00:06<00:00, 13.41it/s, loss=-15592.14, λc2D1=372.99, λd1=428.12, λd2=527.51, λd3=355.25]\n",
      "Epoch 648 [Validation]: 100%|██████████| 21/21 [00:01<00:00, 14.83it/s, loss=-16343.40]\n"
     ]
    },
    {
     "name": "stdout",
     "output_type": "stream",
     "text": [
      "\tTotal Loss (NLL + MDMM): -15684.43\n",
      "\tMDMM Loss:               12085.98\n",
      "\tRemaining Weights:       64.92 %\n"
     ]
    },
    {
     "name": "stderr",
     "output_type": "stream",
     "text": [
      "Epoch 649 [Training]: 100%|██████████| 84/84 [00:06<00:00, 13.41it/s, loss=-15592.92, λc2D1=373.28, λd1=428.63, λd2=528.09, λd3=355.64]\n",
      "Epoch 649 [Validation]: 100%|██████████| 21/21 [00:01<00:00, 14.79it/s, loss=-16378.88]\n"
     ]
    },
    {
     "name": "stdout",
     "output_type": "stream",
     "text": [
      "\tTotal Loss (NLL + MDMM): -15715.57\n",
      "\tMDMM Loss:               12063.54\n",
      "\tRemaining Weights:       64.59 %\n"
     ]
    },
    {
     "name": "stderr",
     "output_type": "stream",
     "text": [
      "Epoch 650 [Training]: 100%|██████████| 84/84 [00:06<00:00, 13.41it/s, loss=-15585.79, λc2D1=373.57, λd1=429.15, λd2=528.66, λd3=356.04]\n",
      "Epoch 650 [Validation]: 100%|██████████| 21/21 [00:01<00:00, 14.89it/s, loss=-16344.64]\n"
     ]
    },
    {
     "name": "stdout",
     "output_type": "stream",
     "text": [
      "\tTotal Loss (NLL + MDMM): -15688.48\n",
      "\tMDMM Loss:               12080.83\n",
      "\tRemaining Weights:       64.81 %\n"
     ]
    },
    {
     "name": "stderr",
     "output_type": "stream",
     "text": [
      "Epoch 651 [Training]: 100%|██████████| 84/84 [00:06<00:00, 13.30it/s, loss=-15506.98, λc2D1=373.86, λd1=429.66, λd2=529.23, λd3=356.43]\n",
      "Epoch 651 [Validation]: 100%|██████████| 21/21 [00:01<00:00, 14.70it/s, loss=-16263.02]\n"
     ]
    },
    {
     "name": "stdout",
     "output_type": "stream",
     "text": [
      "\tTotal Loss (NLL + MDMM): -15613.55\n",
      "\tMDMM Loss:               12146.04\n",
      "\tRemaining Weights:       64.75 %\n"
     ]
    },
    {
     "name": "stderr",
     "output_type": "stream",
     "text": [
      "Epoch 652 [Training]: 100%|██████████| 84/84 [00:06<00:00, 13.50it/s, loss=-15602.20, λc2D1=374.16, λd1=430.17, λd2=529.80, λd3=356.83]\n",
      "Epoch 652 [Validation]: 100%|██████████| 21/21 [00:01<00:00, 14.90it/s, loss=-16349.76]\n"
     ]
    },
    {
     "name": "stdout",
     "output_type": "stream",
     "text": [
      "\tTotal Loss (NLL + MDMM): -15693.60\n",
      "\tMDMM Loss:               12060.52\n",
      "\tRemaining Weights:       64.37 %\n"
     ]
    },
    {
     "name": "stderr",
     "output_type": "stream",
     "text": [
      "Epoch 653 [Training]: 100%|██████████| 84/84 [00:06<00:00, 13.61it/s, loss=-15589.29, λc2D1=374.45, λd1=430.69, λd2=530.37, λd3=357.22]\n",
      "Epoch 653 [Validation]: 100%|██████████| 21/21 [00:01<00:00, 15.17it/s, loss=-16355.21]\n"
     ]
    },
    {
     "name": "stdout",
     "output_type": "stream",
     "text": [
      "\tTotal Loss (NLL + MDMM): -15695.45\n",
      "\tMDMM Loss:               12073.40\n",
      "\tRemaining Weights:       64.53 %\n"
     ]
    },
    {
     "name": "stderr",
     "output_type": "stream",
     "text": [
      "Epoch 654 [Training]: 100%|██████████| 84/84 [00:06<00:00, 13.45it/s, loss=-15600.39, λc2D1=374.74, λd1=431.20, λd2=530.93, λd3=357.61]\n",
      "Epoch 654 [Validation]: 100%|██████████| 21/21 [00:01<00:00, 14.66it/s, loss=-16366.85]\n"
     ]
    },
    {
     "name": "stdout",
     "output_type": "stream",
     "text": [
      "\tTotal Loss (NLL + MDMM): -15709.37\n",
      "\tMDMM Loss:               12062.61\n",
      "\tRemaining Weights:       64.04 %\n"
     ]
    },
    {
     "name": "stderr",
     "output_type": "stream",
     "text": [
      "Epoch 655 [Training]: 100%|██████████| 84/84 [00:06<00:00, 13.50it/s, loss=-15601.48, λc2D1=375.03, λd1=431.71, λd2=531.50, λd3=358.00]\n",
      "Epoch 655 [Validation]: 100%|██████████| 21/21 [00:01<00:00, 15.01it/s, loss=-16355.82]\n"
     ]
    },
    {
     "name": "stdout",
     "output_type": "stream",
     "text": [
      "\tTotal Loss (NLL + MDMM): -15702.02\n",
      "\tMDMM Loss:               12059.71\n",
      "\tRemaining Weights:       63.93 %\n"
     ]
    },
    {
     "name": "stderr",
     "output_type": "stream",
     "text": [
      "Epoch 656 [Training]: 100%|██████████| 84/84 [00:06<00:00, 13.12it/s, loss=-15534.27, λc2D1=375.32, λd1=432.22, λd2=532.06, λd3=358.40]\n",
      "Epoch 656 [Validation]: 100%|██████████| 21/21 [00:01<00:00, 14.35it/s, loss=-16311.44]\n"
     ]
    },
    {
     "name": "stdout",
     "output_type": "stream",
     "text": [
      "\tTotal Loss (NLL + MDMM): -15655.04\n",
      "\tMDMM Loss:               12112.12\n",
      "\tRemaining Weights:       63.82 %\n"
     ]
    },
    {
     "name": "stderr",
     "output_type": "stream",
     "text": [
      "Epoch 657 [Training]: 100%|██████████| 84/84 [00:06<00:00, 13.54it/s, loss=-15538.17, λc2D1=375.61, λd1=432.73, λd2=532.62, λd3=358.79]\n",
      "Epoch 657 [Validation]: 100%|██████████| 21/21 [00:01<00:00, 15.04it/s, loss=-16295.08]\n"
     ]
    },
    {
     "name": "stdout",
     "output_type": "stream",
     "text": [
      "\tTotal Loss (NLL + MDMM): -15631.60\n",
      "\tMDMM Loss:               12138.69\n",
      "\tRemaining Weights:       64.04 %\n"
     ]
    },
    {
     "name": "stderr",
     "output_type": "stream",
     "text": [
      "Epoch 658 [Training]: 100%|██████████| 84/84 [00:06<00:00, 13.53it/s, loss=-15561.26, λc2D1=375.91, λd1=433.24, λd2=533.19, λd3=359.18]\n",
      "Epoch 658 [Validation]: 100%|██████████| 21/21 [00:01<00:00, 15.11it/s, loss=-16324.18]\n"
     ]
    },
    {
     "name": "stdout",
     "output_type": "stream",
     "text": [
      "\tTotal Loss (NLL + MDMM): -15669.91\n",
      "\tMDMM Loss:               12087.05\n",
      "\tRemaining Weights:       64.20 %\n"
     ]
    },
    {
     "name": "stderr",
     "output_type": "stream",
     "text": [
      "Epoch 659 [Training]: 100%|██████████| 84/84 [00:06<00:00, 13.46it/s, loss=-15562.91, λc2D1=376.20, λd1=433.75, λd2=533.75, λd3=359.57]\n",
      "Epoch 659 [Validation]: 100%|██████████| 21/21 [00:01<00:00, 14.79it/s, loss=-16327.89]\n"
     ]
    },
    {
     "name": "stdout",
     "output_type": "stream",
     "text": [
      "\tTotal Loss (NLL + MDMM): -15675.71\n",
      "\tMDMM Loss:               12086.51\n",
      "\tRemaining Weights:       63.98 %\n"
     ]
    },
    {
     "name": "stderr",
     "output_type": "stream",
     "text": [
      "Epoch 660 [Training]: 100%|██████████| 84/84 [00:06<00:00, 13.54it/s, loss=-15494.39, λc2D1=376.49, λd1=434.26, λd2=534.31, λd3=359.96]\n",
      "Epoch 660 [Validation]: 100%|██████████| 21/21 [00:01<00:00, 14.56it/s, loss=-16252.78]\n"
     ]
    },
    {
     "name": "stdout",
     "output_type": "stream",
     "text": [
      "\tTotal Loss (NLL + MDMM): -15601.32\n",
      "\tMDMM Loss:               12159.00\n",
      "\tRemaining Weights:       64.04 %\n"
     ]
    },
    {
     "name": "stderr",
     "output_type": "stream",
     "text": [
      "Epoch 661 [Training]: 100%|██████████| 84/84 [00:06<00:00, 13.36it/s, loss=-15487.21, λc2D1=376.78, λd1=434.77, λd2=534.87, λd3=360.35]\n",
      "Epoch 661 [Validation]: 100%|██████████| 21/21 [00:01<00:00, 14.95it/s, loss=-16320.84]\n"
     ]
    },
    {
     "name": "stdout",
     "output_type": "stream",
     "text": [
      "\tTotal Loss (NLL + MDMM): -15667.21\n",
      "\tMDMM Loss:               12088.62\n",
      "\tRemaining Weights:       63.93 %\n"
     ]
    },
    {
     "name": "stderr",
     "output_type": "stream",
     "text": [
      "Epoch 662 [Training]: 100%|██████████| 84/84 [00:06<00:00, 13.32it/s, loss=-15491.16, λc2D1=377.08, λd1=435.28, λd2=535.43, λd3=360.74]\n",
      "Epoch 662 [Validation]: 100%|██████████| 21/21 [00:01<00:00, 15.08it/s, loss=-16300.38]\n"
     ]
    },
    {
     "name": "stdout",
     "output_type": "stream",
     "text": [
      "\tTotal Loss (NLL + MDMM): -15648.54\n",
      "\tMDMM Loss:               12113.37\n",
      "\tRemaining Weights:       64.15 %\n"
     ]
    },
    {
     "name": "stderr",
     "output_type": "stream",
     "text": [
      "Epoch 663 [Training]: 100%|██████████| 84/84 [00:06<00:00, 13.39it/s, loss=-15553.89, λc2D1=377.37, λd1=435.79, λd2=535.99, λd3=361.14]\n",
      "Epoch 663 [Validation]: 100%|██████████| 21/21 [00:01<00:00, 14.82it/s, loss=-16297.80]\n"
     ]
    },
    {
     "name": "stdout",
     "output_type": "stream",
     "text": [
      "\tTotal Loss (NLL + MDMM): -15644.03\n",
      "\tMDMM Loss:               12119.36\n",
      "\tRemaining Weights:       64.15 %\n"
     ]
    },
    {
     "name": "stderr",
     "output_type": "stream",
     "text": [
      "Epoch 664 [Training]: 100%|██████████| 84/84 [00:06<00:00, 13.37it/s, loss=-15472.31, λc2D1=377.67, λd1=436.30, λd2=536.56, λd3=361.53]\n",
      "Epoch 664 [Validation]: 100%|██████████| 21/21 [00:01<00:00, 14.98it/s, loss=-16241.82]\n"
     ]
    },
    {
     "name": "stdout",
     "output_type": "stream",
     "text": [
      "\tTotal Loss (NLL + MDMM): -15590.75\n",
      "\tMDMM Loss:               12167.07\n",
      "\tRemaining Weights:       63.71 %\n"
     ]
    },
    {
     "name": "stderr",
     "output_type": "stream",
     "text": [
      "Epoch 665 [Training]: 100%|██████████| 84/84 [00:06<00:00, 13.20it/s, loss=-15475.89, λc2D1=377.96, λd1=436.81, λd2=537.11, λd3=361.92]\n",
      "Epoch 665 [Validation]: 100%|██████████| 21/21 [00:01<00:00, 14.98it/s, loss=-16236.18]\n"
     ]
    },
    {
     "name": "stdout",
     "output_type": "stream",
     "text": [
      "\tTotal Loss (NLL + MDMM): -15576.43\n",
      "\tMDMM Loss:               12184.58\n",
      "\tRemaining Weights:       64.09 %\n"
     ]
    },
    {
     "name": "stderr",
     "output_type": "stream",
     "text": [
      "Epoch 666 [Training]: 100%|██████████| 84/84 [00:06<00:00, 13.50it/s, loss=-15464.83, λc2D1=378.26, λd1=437.32, λd2=537.67, λd3=362.30]\n",
      "Epoch 666 [Validation]: 100%|██████████| 21/21 [00:01<00:00, 15.03it/s, loss=-16216.64]\n"
     ]
    },
    {
     "name": "stdout",
     "output_type": "stream",
     "text": [
      "\tTotal Loss (NLL + MDMM): -15566.08\n",
      "\tMDMM Loss:               12188.99\n",
      "\tRemaining Weights:       63.98 %\n"
     ]
    },
    {
     "name": "stderr",
     "output_type": "stream",
     "text": [
      "Epoch 667 [Training]: 100%|██████████| 84/84 [00:06<00:00, 13.54it/s, loss=-15491.54, λc2D1=378.55, λd1=437.83, λd2=538.23, λd3=362.69]\n",
      "Epoch 667 [Validation]: 100%|██████████| 21/21 [00:01<00:00, 14.95it/s, loss=-16256.72]\n"
     ]
    },
    {
     "name": "stdout",
     "output_type": "stream",
     "text": [
      "\tTotal Loss (NLL + MDMM): -15600.77\n",
      "\tMDMM Loss:               12165.41\n",
      "\tRemaining Weights:       63.65 %\n"
     ]
    },
    {
     "name": "stderr",
     "output_type": "stream",
     "text": [
      "Epoch 668 [Training]: 100%|██████████| 84/84 [00:06<00:00, 13.50it/s, loss=-15487.80, λc2D1=378.85, λd1=438.34, λd2=538.79, λd3=363.08]\n",
      "Epoch 668 [Validation]: 100%|██████████| 21/21 [00:01<00:00, 14.85it/s, loss=-16234.72]\n"
     ]
    },
    {
     "name": "stdout",
     "output_type": "stream",
     "text": [
      "\tTotal Loss (NLL + MDMM): -15587.76\n",
      "\tMDMM Loss:               12166.21\n",
      "\tRemaining Weights:       63.65 %\n"
     ]
    },
    {
     "name": "stderr",
     "output_type": "stream",
     "text": [
      "Epoch 669 [Training]: 100%|██████████| 84/84 [00:06<00:00, 13.26it/s, loss=-15477.16, λc2D1=379.14, λd1=438.85, λd2=539.34, λd3=363.47]\n",
      "Epoch 669 [Validation]: 100%|██████████| 21/21 [00:01<00:00, 14.81it/s, loss=-16217.49]\n"
     ]
    },
    {
     "name": "stdout",
     "output_type": "stream",
     "text": [
      "\tTotal Loss (NLL + MDMM): -15572.04\n",
      "\tMDMM Loss:               12177.55\n",
      "\tRemaining Weights:       63.54 %\n"
     ]
    },
    {
     "name": "stderr",
     "output_type": "stream",
     "text": [
      "Epoch 670 [Training]: 100%|██████████| 84/84 [00:06<00:00, 13.49it/s, loss=-15458.33, λc2D1=379.43, λd1=439.35, λd2=539.89, λd3=363.86]\n",
      "Epoch 670 [Validation]: 100%|██████████| 21/21 [00:01<00:00, 15.11it/s, loss=-16223.82]\n"
     ]
    },
    {
     "name": "stdout",
     "output_type": "stream",
     "text": [
      "\tTotal Loss (NLL + MDMM): -15578.39\n",
      "\tMDMM Loss:               12181.23\n",
      "\tRemaining Weights:       63.54 %\n"
     ]
    },
    {
     "name": "stderr",
     "output_type": "stream",
     "text": [
      "Epoch 671 [Training]: 100%|██████████| 84/84 [00:06<00:00, 13.54it/s, loss=-15451.54, λc2D1=379.73, λd1=439.86, λd2=540.44, λd3=364.25]\n",
      "Epoch 671 [Validation]: 100%|██████████| 21/21 [00:01<00:00, 15.17it/s, loss=-16218.74]\n"
     ]
    },
    {
     "name": "stdout",
     "output_type": "stream",
     "text": [
      "\tTotal Loss (NLL + MDMM): -15570.21\n",
      "\tMDMM Loss:               12180.38\n",
      "\tRemaining Weights:       63.49 %\n"
     ]
    },
    {
     "name": "stderr",
     "output_type": "stream",
     "text": [
      "Epoch 672 [Training]: 100%|██████████| 84/84 [00:06<00:00, 13.34it/s, loss=-15446.78, λc2D1=380.02, λd1=440.37, λd2=540.99, λd3=364.64]\n",
      "Epoch 672 [Validation]: 100%|██████████| 21/21 [00:01<00:00, 15.00it/s, loss=-16211.88]\n"
     ]
    },
    {
     "name": "stdout",
     "output_type": "stream",
     "text": [
      "\tTotal Loss (NLL + MDMM): -15565.94\n",
      "\tMDMM Loss:               12189.98\n",
      "\tRemaining Weights:       63.60 %\n"
     ]
    },
    {
     "name": "stderr",
     "output_type": "stream",
     "text": [
      "Epoch 673 [Training]: 100%|██████████| 84/84 [00:06<00:00, 13.45it/s, loss=-15455.37, λc2D1=380.32, λd1=440.87, λd2=541.54, λd3=365.03]\n",
      "Epoch 673 [Validation]: 100%|██████████| 21/21 [00:01<00:00, 15.04it/s, loss=-16220.16]\n"
     ]
    },
    {
     "name": "stdout",
     "output_type": "stream",
     "text": [
      "\tTotal Loss (NLL + MDMM): -15569.97\n",
      "\tMDMM Loss:               12188.38\n",
      "\tRemaining Weights:       63.32 %\n"
     ]
    },
    {
     "name": "stderr",
     "output_type": "stream",
     "text": [
      "Epoch 674 [Training]: 100%|██████████| 84/84 [00:06<00:00, 13.48it/s, loss=-15434.84, λc2D1=380.62, λd1=441.38, λd2=542.09, λd3=365.41]\n",
      "Epoch 674 [Validation]: 100%|██████████| 21/21 [00:01<00:00, 15.15it/s, loss=-16189.08]\n"
     ]
    },
    {
     "name": "stdout",
     "output_type": "stream",
     "text": [
      "\tTotal Loss (NLL + MDMM): -15539.33\n",
      "\tMDMM Loss:               12219.06\n",
      "\tRemaining Weights:       63.76 %\n"
     ]
    },
    {
     "name": "stderr",
     "output_type": "stream",
     "text": [
      "Epoch 675 [Training]: 100%|██████████| 84/84 [00:06<00:00, 13.44it/s, loss=-15431.08, λc2D1=380.92, λd1=441.88, λd2=542.65, λd3=365.80]\n",
      "Epoch 675 [Validation]: 100%|██████████| 21/21 [00:01<00:00, 15.08it/s, loss=-16180.29]\n"
     ]
    },
    {
     "name": "stdout",
     "output_type": "stream",
     "text": [
      "\tTotal Loss (NLL + MDMM): -15535.97\n",
      "\tMDMM Loss:               12204.11\n",
      "\tRemaining Weights:       63.15 %\n"
     ]
    },
    {
     "name": "stderr",
     "output_type": "stream",
     "text": [
      "Epoch 676 [Training]: 100%|██████████| 84/84 [00:06<00:00, 13.23it/s, loss=-15425.00, λc2D1=381.22, λd1=442.38, λd2=543.20, λd3=366.19]\n",
      "Epoch 676 [Validation]: 100%|██████████| 21/21 [00:01<00:00, 14.95it/s, loss=-16170.39]\n"
     ]
    },
    {
     "name": "stdout",
     "output_type": "stream",
     "text": [
      "\tTotal Loss (NLL + MDMM): -15528.22\n",
      "\tMDMM Loss:               12220.20\n",
      "\tRemaining Weights:       63.38 %\n"
     ]
    },
    {
     "name": "stderr",
     "output_type": "stream",
     "text": [
      "Epoch 677 [Training]: 100%|██████████| 84/84 [00:06<00:00, 13.45it/s, loss=-15419.58, λc2D1=381.51, λd1=442.89, λd2=543.75, λd3=366.58]\n",
      "Epoch 677 [Validation]: 100%|██████████| 21/21 [00:01<00:00, 14.81it/s, loss=-16161.34]\n"
     ]
    },
    {
     "name": "stdout",
     "output_type": "stream",
     "text": [
      "\tTotal Loss (NLL + MDMM): -15519.07\n",
      "\tMDMM Loss:               12233.42\n",
      "\tRemaining Weights:       63.49 %\n"
     ]
    },
    {
     "name": "stderr",
     "output_type": "stream",
     "text": [
      "Epoch 678 [Training]: 100%|██████████| 84/84 [00:06<00:00, 13.41it/s, loss=-15406.47, λc2D1=381.81, λd1=443.39, λd2=544.30, λd3=366.97]\n",
      "Epoch 678 [Validation]: 100%|██████████| 21/21 [00:01<00:00, 15.06it/s, loss=-16136.67]\n"
     ]
    },
    {
     "name": "stdout",
     "output_type": "stream",
     "text": [
      "\tTotal Loss (NLL + MDMM): -15500.66\n",
      "\tMDMM Loss:               12237.96\n",
      "\tRemaining Weights:       63.49 %\n"
     ]
    },
    {
     "name": "stderr",
     "output_type": "stream",
     "text": [
      "Epoch 679 [Training]: 100%|██████████| 84/84 [00:06<00:00, 13.40it/s, loss=-15420.41, λc2D1=382.11, λd1=443.89, λd2=544.85, λd3=367.35]\n",
      "Epoch 679 [Validation]: 100%|██████████| 21/21 [00:01<00:00, 14.88it/s, loss=-16168.98]\n"
     ]
    },
    {
     "name": "stdout",
     "output_type": "stream",
     "text": [
      "\tTotal Loss (NLL + MDMM): -15526.19\n",
      "\tMDMM Loss:               12222.10\n",
      "\tRemaining Weights:       63.10 %\n"
     ]
    },
    {
     "name": "stderr",
     "output_type": "stream",
     "text": [
      "Epoch 680 [Training]: 100%|██████████| 84/84 [00:06<00:00, 13.62it/s, loss=-15415.52, λc2D1=382.41, λd1=444.40, λd2=545.40, λd3=367.74]\n",
      "Epoch 680 [Validation]: 100%|██████████| 21/21 [00:01<00:00, 14.82it/s, loss=-16153.38]\n"
     ]
    },
    {
     "name": "stdout",
     "output_type": "stream",
     "text": [
      "\tTotal Loss (NLL + MDMM): -15516.24\n",
      "\tMDMM Loss:               12228.57\n",
      "\tRemaining Weights:       63.15 %\n"
     ]
    },
    {
     "name": "stderr",
     "output_type": "stream",
     "text": [
      "Epoch 681 [Training]: 100%|██████████| 84/84 [00:06<00:00, 13.46it/s, loss=-15407.97, λc2D1=382.71, λd1=444.90, λd2=545.95, λd3=368.13]\n",
      "Epoch 681 [Validation]: 100%|██████████| 21/21 [00:01<00:00, 15.19it/s, loss=-16148.32]\n"
     ]
    },
    {
     "name": "stdout",
     "output_type": "stream",
     "text": [
      "\tTotal Loss (NLL + MDMM): -15510.44\n",
      "\tMDMM Loss:               12228.05\n",
      "\tRemaining Weights:       62.93 %\n"
     ]
    },
    {
     "name": "stderr",
     "output_type": "stream",
     "text": [
      "Epoch 682 [Training]: 100%|██████████| 84/84 [00:06<00:00, 13.51it/s, loss=-15378.80, λc2D1=383.00, λd1=445.40, λd2=546.49, λd3=368.51]\n",
      "Epoch 682 [Validation]: 100%|██████████| 21/21 [00:01<00:00, 14.90it/s, loss=-16123.02]\n"
     ]
    },
    {
     "name": "stdout",
     "output_type": "stream",
     "text": [
      "\tTotal Loss (NLL + MDMM): -15488.07\n",
      "\tMDMM Loss:               12244.89\n",
      "\tRemaining Weights:       63.21 %\n"
     ]
    },
    {
     "name": "stderr",
     "output_type": "stream",
     "text": [
      "Epoch 683 [Training]: 100%|██████████| 84/84 [00:06<00:00, 13.28it/s, loss=-15397.30, λc2D1=383.30, λd1=445.90, λd2=547.04, λd3=368.90]\n",
      "Epoch 683 [Validation]: 100%|██████████| 21/21 [00:01<00:00, 14.89it/s, loss=-16142.45]\n"
     ]
    },
    {
     "name": "stdout",
     "output_type": "stream",
     "text": [
      "\tTotal Loss (NLL + MDMM): -15501.57\n",
      "\tMDMM Loss:               12246.06\n",
      "\tRemaining Weights:       63.04 %\n"
     ]
    },
    {
     "name": "stderr",
     "output_type": "stream",
     "text": [
      "Epoch 684 [Training]: 100%|██████████| 84/84 [00:06<00:00, 13.44it/s, loss=-15392.76, λc2D1=383.60, λd1=446.40, λd2=547.59, λd3=369.29]\n",
      "Epoch 684 [Validation]: 100%|██████████| 21/21 [00:01<00:00, 15.01it/s, loss=-16137.37]\n"
     ]
    },
    {
     "name": "stdout",
     "output_type": "stream",
     "text": [
      "\tTotal Loss (NLL + MDMM): -15497.56\n",
      "\tMDMM Loss:               12242.89\n",
      "\tRemaining Weights:       62.77 %\n"
     ]
    },
    {
     "name": "stderr",
     "output_type": "stream",
     "text": [
      "Epoch 685 [Training]: 100%|██████████| 84/84 [00:06<00:00, 13.39it/s, loss=-15381.53, λc2D1=383.90, λd1=446.90, λd2=548.13, λd3=369.67]\n",
      "Epoch 685 [Validation]: 100%|██████████| 21/21 [00:01<00:00, 14.77it/s, loss=-16126.41]\n"
     ]
    },
    {
     "name": "stdout",
     "output_type": "stream",
     "text": [
      "\tTotal Loss (NLL + MDMM): -15489.21\n",
      "\tMDMM Loss:               12256.45\n",
      "\tRemaining Weights:       62.93 %\n"
     ]
    },
    {
     "name": "stderr",
     "output_type": "stream",
     "text": [
      "Epoch 686 [Training]: 100%|██████████| 84/84 [00:06<00:00, 13.21it/s, loss=-15377.53, λc2D1=384.20, λd1=447.40, λd2=548.68, λd3=370.06]\n",
      "Epoch 686 [Validation]: 100%|██████████| 21/21 [00:01<00:00, 14.31it/s, loss=-16108.41]\n"
     ]
    },
    {
     "name": "stdout",
     "output_type": "stream",
     "text": [
      "\tTotal Loss (NLL + MDMM): -15472.51\n",
      "\tMDMM Loss:               12265.67\n",
      "\tRemaining Weights:       62.99 %\n"
     ]
    },
    {
     "name": "stderr",
     "output_type": "stream",
     "text": [
      "Epoch 687 [Training]: 100%|██████████| 84/84 [00:06<00:00, 13.34it/s, loss=-15375.58, λc2D1=384.50, λd1=447.90, λd2=549.23, λd3=370.44]\n",
      "Epoch 687 [Validation]: 100%|██████████| 21/21 [00:01<00:00, 14.57it/s, loss=-16116.30]\n"
     ]
    },
    {
     "name": "stdout",
     "output_type": "stream",
     "text": [
      "\tTotal Loss (NLL + MDMM): -15480.44\n",
      "\tMDMM Loss:               12256.85\n",
      "\tRemaining Weights:       62.66 %\n"
     ]
    },
    {
     "name": "stderr",
     "output_type": "stream",
     "text": [
      "Epoch 688 [Training]: 100%|██████████| 84/84 [00:06<00:00, 13.43it/s, loss=-15377.24, λc2D1=384.80, λd1=448.40, λd2=549.78, λd3=370.83]\n",
      "Epoch 688 [Validation]: 100%|██████████| 21/21 [00:01<00:00, 15.14it/s, loss=-16095.31]\n"
     ]
    },
    {
     "name": "stdout",
     "output_type": "stream",
     "text": [
      "\tTotal Loss (NLL + MDMM): -15461.14\n",
      "\tMDMM Loss:               12273.98\n",
      "\tRemaining Weights:       62.66 %\n"
     ]
    },
    {
     "name": "stderr",
     "output_type": "stream",
     "text": [
      "Epoch 689 [Training]: 100%|██████████| 84/84 [00:06<00:00, 13.07it/s, loss=-15341.22, λc2D1=385.10, λd1=448.90, λd2=550.32, λd3=371.22]\n",
      "Epoch 689 [Validation]: 100%|██████████| 21/21 [00:01<00:00, 15.08it/s, loss=-16091.17]\n"
     ]
    },
    {
     "name": "stdout",
     "output_type": "stream",
     "text": [
      "\tTotal Loss (NLL + MDMM): -15459.09\n",
      "\tMDMM Loss:               12275.14\n",
      "\tRemaining Weights:       62.77 %\n"
     ]
    },
    {
     "name": "stderr",
     "output_type": "stream",
     "text": [
      "Epoch 690 [Training]: 100%|██████████| 84/84 [00:06<00:00, 13.52it/s, loss=-15370.83, λc2D1=385.41, λd1=449.40, λd2=550.87, λd3=371.60]\n",
      "Epoch 690 [Validation]: 100%|██████████| 21/21 [00:01<00:00, 14.63it/s, loss=-16097.67]\n"
     ]
    },
    {
     "name": "stdout",
     "output_type": "stream",
     "text": [
      "\tTotal Loss (NLL + MDMM): -15461.00\n",
      "\tMDMM Loss:               12281.05\n",
      "\tRemaining Weights:       62.77 %\n"
     ]
    },
    {
     "name": "stderr",
     "output_type": "stream",
     "text": [
      "Epoch 691 [Training]: 100%|██████████| 84/84 [00:06<00:00, 13.33it/s, loss=-15357.55, λc2D1=385.71, λd1=449.90, λd2=551.42, λd3=371.98]\n",
      "Epoch 691 [Validation]: 100%|██████████| 21/21 [00:01<00:00, 15.11it/s, loss=-16084.77]\n"
     ]
    },
    {
     "name": "stdout",
     "output_type": "stream",
     "text": [
      "\tTotal Loss (NLL + MDMM): -15448.00\n",
      "\tMDMM Loss:               12299.56\n",
      "\tRemaining Weights:       62.88 %\n"
     ]
    },
    {
     "name": "stderr",
     "output_type": "stream",
     "text": [
      "Epoch 692 [Training]: 100%|██████████| 84/84 [00:06<00:00, 13.17it/s, loss=-15316.53, λc2D1=386.01, λd1=450.39, λd2=551.96, λd3=372.37]\n",
      "Epoch 692 [Validation]: 100%|██████████| 21/21 [00:01<00:00, 15.12it/s, loss=-16045.13]\n"
     ]
    },
    {
     "name": "stdout",
     "output_type": "stream",
     "text": [
      "\tTotal Loss (NLL + MDMM): -15413.39\n",
      "\tMDMM Loss:               12309.84\n",
      "\tRemaining Weights:       62.88 %\n"
     ]
    },
    {
     "name": "stderr",
     "output_type": "stream",
     "text": [
      "Epoch 693 [Training]: 100%|██████████| 84/84 [00:06<00:00, 13.38it/s, loss=-15316.88, λc2D1=386.31, λd1=450.89, λd2=552.51, λd3=372.75]\n",
      "Epoch 693 [Validation]: 100%|██████████| 21/21 [00:01<00:00, 14.89it/s, loss=-16046.07]\n"
     ]
    },
    {
     "name": "stdout",
     "output_type": "stream",
     "text": [
      "\tTotal Loss (NLL + MDMM): -15412.33\n",
      "\tMDMM Loss:               12324.51\n",
      "\tRemaining Weights:       63.04 %\n"
     ]
    },
    {
     "name": "stderr",
     "output_type": "stream",
     "text": [
      "Epoch 694 [Training]: 100%|██████████| 84/84 [00:06<00:00, 13.44it/s, loss=-15316.28, λc2D1=386.61, λd1=451.39, λd2=553.06, λd3=373.13]\n",
      "Epoch 694 [Validation]: 100%|██████████| 21/21 [00:01<00:00, 15.05it/s, loss=-16030.36]\n"
     ]
    },
    {
     "name": "stdout",
     "output_type": "stream",
     "text": [
      "\tTotal Loss (NLL + MDMM): -15392.99\n",
      "\tMDMM Loss:               12350.77\n",
      "\tRemaining Weights:       63.32 %\n"
     ]
    },
    {
     "name": "stderr",
     "output_type": "stream",
     "text": [
      "Epoch 695 [Training]: 100%|██████████| 84/84 [00:06<00:00, 13.33it/s, loss=-15305.48, λc2D1=386.91, λd1=451.89, λd2=553.60, λd3=373.52]\n",
      "Epoch 695 [Validation]: 100%|██████████| 21/21 [00:01<00:00, 14.77it/s, loss=-16048.50]\n"
     ]
    },
    {
     "name": "stdout",
     "output_type": "stream",
     "text": [
      "\tTotal Loss (NLL + MDMM): -15412.81\n",
      "\tMDMM Loss:               12329.35\n",
      "\tRemaining Weights:       62.88 %\n"
     ]
    },
    {
     "name": "stderr",
     "output_type": "stream",
     "text": [
      "Epoch 696 [Training]: 100%|██████████| 84/84 [00:06<00:00, 13.24it/s, loss=-15294.30, λc2D1=387.21, λd1=452.39, λd2=554.15, λd3=373.90]\n",
      "Epoch 696 [Validation]: 100%|██████████| 21/21 [00:01<00:00, 15.12it/s, loss=-16022.28]\n"
     ]
    },
    {
     "name": "stdout",
     "output_type": "stream",
     "text": [
      "\tTotal Loss (NLL + MDMM): -15393.16\n",
      "\tMDMM Loss:               12350.02\n",
      "\tRemaining Weights:       63.32 %\n"
     ]
    },
    {
     "name": "stderr",
     "output_type": "stream",
     "text": [
      "Epoch 697 [Training]: 100%|██████████| 84/84 [00:06<00:00, 13.39it/s, loss=-15299.12, λc2D1=387.51, λd1=452.89, λd2=554.70, λd3=374.29]\n",
      "Epoch 697 [Validation]: 100%|██████████| 21/21 [00:01<00:00, 14.83it/s, loss=-16019.88]\n"
     ]
    },
    {
     "name": "stdout",
     "output_type": "stream",
     "text": [
      "\tTotal Loss (NLL + MDMM): -15386.18\n",
      "\tMDMM Loss:               12357.97\n",
      "\tRemaining Weights:       63.32 %\n"
     ]
    },
    {
     "name": "stderr",
     "output_type": "stream",
     "text": [
      "Epoch 698 [Training]: 100%|██████████| 84/84 [00:06<00:00, 13.33it/s, loss=-15288.42, λc2D1=387.82, λd1=453.39, λd2=555.24, λd3=374.67]\n",
      "Epoch 698 [Validation]: 100%|██████████| 21/21 [00:01<00:00, 14.85it/s, loss=-16010.54]\n"
     ]
    },
    {
     "name": "stdout",
     "output_type": "stream",
     "text": [
      "\tTotal Loss (NLL + MDMM): -15380.68\n",
      "\tMDMM Loss:               12360.71\n",
      "\tRemaining Weights:       63.15 %\n"
     ]
    },
    {
     "name": "stderr",
     "output_type": "stream",
     "text": [
      "Epoch 699 [Training]: 100%|██████████| 84/84 [00:06<00:00, 13.37it/s, loss=-15301.56, λc2D1=388.12, λd1=453.89, λd2=555.79, λd3=375.05]\n",
      "Epoch 699 [Validation]: 100%|██████████| 21/21 [00:01<00:00, 14.88it/s, loss=-16023.75]\n"
     ]
    },
    {
     "name": "stdout",
     "output_type": "stream",
     "text": [
      "\tTotal Loss (NLL + MDMM): -15390.85\n",
      "\tMDMM Loss:               12355.36\n",
      "\tRemaining Weights:       63.10 %\n"
     ]
    },
    {
     "name": "stderr",
     "output_type": "stream",
     "text": [
      "Epoch 700 [Training]: 100%|██████████| 84/84 [00:06<00:00, 13.39it/s, loss=-15293.76, λc2D1=388.43, λd1=454.39, λd2=556.33, λd3=375.43]\n",
      "Epoch 700 [Validation]: 100%|██████████| 21/21 [00:01<00:00, 14.94it/s, loss=-16023.53]\n"
     ]
    },
    {
     "name": "stdout",
     "output_type": "stream",
     "text": [
      "\tTotal Loss (NLL + MDMM): -15392.70\n",
      "\tMDMM Loss:               12345.22\n",
      "\tRemaining Weights:       62.88 %\n"
     ]
    },
    {
     "name": "stderr",
     "output_type": "stream",
     "text": [
      "Epoch 701 [Training]: 100%|██████████| 84/84 [00:06<00:00, 13.55it/s, loss=-15295.38, λc2D1=388.73, λd1=454.89, λd2=556.87, λd3=375.82]\n",
      "Epoch 701 [Validation]: 100%|██████████| 21/21 [00:01<00:00, 15.02it/s, loss=-16005.37]\n"
     ]
    },
    {
     "name": "stdout",
     "output_type": "stream",
     "text": [
      "\tTotal Loss (NLL + MDMM): -15377.13\n",
      "\tMDMM Loss:               12358.53\n",
      "\tRemaining Weights:       62.82 %\n"
     ]
    },
    {
     "name": "stderr",
     "output_type": "stream",
     "text": [
      "Epoch 702 [Training]: 100%|██████████| 84/84 [00:06<00:00, 13.45it/s, loss=-15275.46, λc2D1=389.03, λd1=455.39, λd2=557.41, λd3=376.20]\n",
      "Epoch 702 [Validation]: 100%|██████████| 21/21 [00:01<00:00, 14.95it/s, loss=-15997.89]\n"
     ]
    },
    {
     "name": "stdout",
     "output_type": "stream",
     "text": [
      "\tTotal Loss (NLL + MDMM): -15370.33\n",
      "\tMDMM Loss:               12367.38\n",
      "\tRemaining Weights:       62.88 %\n"
     ]
    },
    {
     "name": "stderr",
     "output_type": "stream",
     "text": [
      "Epoch 703 [Training]: 100%|██████████| 84/84 [00:06<00:00, 13.55it/s, loss=-15264.87, λc2D1=389.34, λd1=455.88, λd2=557.95, λd3=376.58]\n",
      "Epoch 703 [Validation]: 100%|██████████| 21/21 [00:01<00:00, 15.14it/s, loss=-15992.96]\n"
     ]
    },
    {
     "name": "stdout",
     "output_type": "stream",
     "text": [
      "\tTotal Loss (NLL + MDMM): -15355.95\n",
      "\tMDMM Loss:               12383.80\n",
      "\tRemaining Weights:       62.82 %\n"
     ]
    },
    {
     "name": "stderr",
     "output_type": "stream",
     "text": [
      "Epoch 704 [Training]: 100%|██████████| 84/84 [00:06<00:00, 13.39it/s, loss=-15266.62, λc2D1=389.64, λd1=456.38, λd2=558.49, λd3=376.97]\n",
      "Epoch 704 [Validation]: 100%|██████████| 21/21 [00:01<00:00, 14.58it/s, loss=-15978.08]\n"
     ]
    },
    {
     "name": "stdout",
     "output_type": "stream",
     "text": [
      "\tTotal Loss (NLL + MDMM): -15353.75\n",
      "\tMDMM Loss:               12379.02\n",
      "\tRemaining Weights:       62.77 %\n"
     ]
    },
    {
     "name": "stderr",
     "output_type": "stream",
     "text": [
      "Epoch 705 [Training]: 100%|██████████| 84/84 [00:06<00:00, 13.30it/s, loss=-15248.71, λc2D1=389.95, λd1=456.88, λd2=559.03, λd3=377.35]\n",
      "Epoch 705 [Validation]: 100%|██████████| 21/21 [00:01<00:00, 14.99it/s, loss=-15949.33]\n"
     ]
    },
    {
     "name": "stdout",
     "output_type": "stream",
     "text": [
      "\tTotal Loss (NLL + MDMM): -15326.67\n",
      "\tMDMM Loss:               12395.33\n",
      "\tRemaining Weights:       62.77 %\n"
     ]
    },
    {
     "name": "stderr",
     "output_type": "stream",
     "text": [
      "Epoch 706 [Training]: 100%|██████████| 84/84 [00:06<00:00, 13.52it/s, loss=-15257.34, λc2D1=390.25, λd1=457.37, λd2=559.57, λd3=377.73]\n",
      "Epoch 706 [Validation]: 100%|██████████| 21/21 [00:01<00:00, 15.09it/s, loss=-15964.20]\n"
     ]
    },
    {
     "name": "stdout",
     "output_type": "stream",
     "text": [
      "\tTotal Loss (NLL + MDMM): -15337.64\n",
      "\tMDMM Loss:               12395.34\n",
      "\tRemaining Weights:       62.82 %\n"
     ]
    },
    {
     "name": "stderr",
     "output_type": "stream",
     "text": [
      "Epoch 707 [Training]: 100%|██████████| 84/84 [00:06<00:00, 13.51it/s, loss=-15243.03, λc2D1=390.56, λd1=457.87, λd2=560.12, λd3=378.12]\n",
      "Epoch 707 [Validation]: 100%|██████████| 21/21 [00:01<00:00, 14.89it/s, loss=-15973.22]\n"
     ]
    },
    {
     "name": "stdout",
     "output_type": "stream",
     "text": [
      "\tTotal Loss (NLL + MDMM): -15349.87\n",
      "\tMDMM Loss:               12388.02\n",
      "\tRemaining Weights:       62.77 %\n"
     ]
    },
    {
     "name": "stderr",
     "output_type": "stream",
     "text": [
      "Epoch 708 [Training]: 100%|██████████| 84/84 [00:06<00:00, 13.42it/s, loss=-15249.03, λc2D1=390.86, λd1=458.36, λd2=560.66, λd3=378.50]\n",
      "Epoch 708 [Validation]: 100%|██████████| 21/21 [00:01<00:00, 15.18it/s, loss=-15950.69]\n"
     ]
    },
    {
     "name": "stdout",
     "output_type": "stream",
     "text": [
      "\tTotal Loss (NLL + MDMM): -15327.30\n",
      "\tMDMM Loss:               12406.72\n",
      "\tRemaining Weights:       62.55 %\n"
     ]
    },
    {
     "name": "stderr",
     "output_type": "stream",
     "text": [
      "Epoch 709 [Training]: 100%|██████████| 84/84 [00:06<00:00, 13.58it/s, loss=-15247.70, λc2D1=391.16, λd1=458.86, λd2=561.20, λd3=378.88]\n",
      "Epoch 709 [Validation]: 100%|██████████| 21/21 [00:01<00:00, 14.95it/s, loss=-15965.97]\n"
     ]
    },
    {
     "name": "stdout",
     "output_type": "stream",
     "text": [
      "\tTotal Loss (NLL + MDMM): -15343.21\n",
      "\tMDMM Loss:               12385.86\n",
      "\tRemaining Weights:       62.16 %\n"
     ]
    },
    {
     "name": "stderr",
     "output_type": "stream",
     "text": [
      "Epoch 710 [Training]: 100%|██████████| 84/84 [00:06<00:00, 13.29it/s, loss=-15247.13, λc2D1=391.47, λd1=459.35, λd2=561.74, λd3=379.26]\n",
      "Epoch 710 [Validation]: 100%|██████████| 21/21 [00:01<00:00, 14.92it/s, loss=-15958.26]\n"
     ]
    },
    {
     "name": "stdout",
     "output_type": "stream",
     "text": [
      "\tTotal Loss (NLL + MDMM): -15336.02\n",
      "\tMDMM Loss:               12402.21\n",
      "\tRemaining Weights:       62.44 %\n"
     ]
    },
    {
     "name": "stderr",
     "output_type": "stream",
     "text": [
      "Epoch 711 [Training]: 100%|██████████| 84/84 [00:06<00:00, 13.40it/s, loss=-15214.94, λc2D1=391.77, λd1=459.84, λd2=562.28, λd3=379.64]\n",
      "Epoch 711 [Validation]: 100%|██████████| 21/21 [00:01<00:00, 14.92it/s, loss=-15923.89]\n"
     ]
    },
    {
     "name": "stdout",
     "output_type": "stream",
     "text": [
      "\tTotal Loss (NLL + MDMM): -15307.51\n",
      "\tMDMM Loss:               12415.61\n",
      "\tRemaining Weights:       62.49 %\n"
     ]
    },
    {
     "name": "stderr",
     "output_type": "stream",
     "text": [
      "Epoch 712 [Training]: 100%|██████████| 84/84 [00:06<00:00, 13.54it/s, loss=-15225.60, λc2D1=392.08, λd1=460.34, λd2=562.82, λd3=380.02]\n",
      "Epoch 712 [Validation]: 100%|██████████| 21/21 [00:01<00:00, 15.15it/s, loss=-15943.54]\n"
     ]
    },
    {
     "name": "stdout",
     "output_type": "stream",
     "text": [
      "\tTotal Loss (NLL + MDMM): -15324.59\n",
      "\tMDMM Loss:               12408.36\n",
      "\tRemaining Weights:       62.27 %\n"
     ]
    },
    {
     "name": "stderr",
     "output_type": "stream",
     "text": [
      "Epoch 713 [Training]: 100%|██████████| 84/84 [00:06<00:00, 13.29it/s, loss=-15212.08, λc2D1=392.39, λd1=460.83, λd2=563.36, λd3=380.40]\n",
      "Epoch 713 [Validation]: 100%|██████████| 21/21 [00:01<00:00, 14.55it/s, loss=-15921.98]\n"
     ]
    },
    {
     "name": "stdout",
     "output_type": "stream",
     "text": [
      "\tTotal Loss (NLL + MDMM): -15303.22\n",
      "\tMDMM Loss:               12424.78\n",
      "\tRemaining Weights:       62.55 %\n"
     ]
    },
    {
     "name": "stderr",
     "output_type": "stream",
     "text": [
      "Epoch 714 [Training]: 100%|██████████| 84/84 [00:06<00:00, 13.37it/s, loss=-15209.49, λc2D1=392.70, λd1=461.32, λd2=563.90, λd3=380.78]\n",
      "Epoch 714 [Validation]: 100%|██████████| 21/21 [00:01<00:00, 14.86it/s, loss=-15905.02]\n"
     ]
    },
    {
     "name": "stdout",
     "output_type": "stream",
     "text": [
      "\tTotal Loss (NLL + MDMM): -15285.64\n",
      "\tMDMM Loss:               12446.36\n",
      "\tRemaining Weights:       62.71 %\n"
     ]
    },
    {
     "name": "stderr",
     "output_type": "stream",
     "text": [
      "Epoch 715 [Training]: 100%|██████████| 84/84 [00:06<00:00, 13.53it/s, loss=-15194.30, λc2D1=393.00, λd1=461.82, λd2=564.43, λd3=381.16]\n",
      "Epoch 715 [Validation]: 100%|██████████| 21/21 [00:01<00:00, 14.94it/s, loss=-15900.58]\n"
     ]
    },
    {
     "name": "stdout",
     "output_type": "stream",
     "text": [
      "\tTotal Loss (NLL + MDMM): -15282.02\n",
      "\tMDMM Loss:               12449.17\n",
      "\tRemaining Weights:       62.66 %\n"
     ]
    },
    {
     "name": "stderr",
     "output_type": "stream",
     "text": [
      "Epoch 716 [Training]: 100%|██████████| 84/84 [00:06<00:00, 13.42it/s, loss=-15214.65, λc2D1=393.31, λd1=462.31, λd2=564.97, λd3=381.54]\n",
      "Epoch 716 [Validation]: 100%|██████████| 21/21 [00:01<00:00, 14.62it/s, loss=-15903.07]\n"
     ]
    },
    {
     "name": "stdout",
     "output_type": "stream",
     "text": [
      "\tTotal Loss (NLL + MDMM): -15280.27\n",
      "\tMDMM Loss:               12455.10\n",
      "\tRemaining Weights:       62.60 %\n"
     ]
    },
    {
     "name": "stderr",
     "output_type": "stream",
     "text": [
      "Epoch 717 [Training]: 100%|██████████| 84/84 [00:06<00:00, 13.52it/s, loss=-15189.61, λc2D1=393.62, λd1=462.81, λd2=565.51, λd3=381.92]\n",
      "Epoch 717 [Validation]: 100%|██████████| 21/21 [00:01<00:00, 14.34it/s, loss=-15875.32]\n"
     ]
    },
    {
     "name": "stdout",
     "output_type": "stream",
     "text": [
      "\tTotal Loss (NLL + MDMM): -15256.04\n",
      "\tMDMM Loss:               12469.09\n",
      "\tRemaining Weights:       62.71 %\n"
     ]
    },
    {
     "name": "stderr",
     "output_type": "stream",
     "text": [
      "Epoch 718 [Training]: 100%|██████████| 84/84 [00:06<00:00, 13.40it/s, loss=-15192.56, λc2D1=393.93, λd1=463.30, λd2=566.05, λd3=382.30]\n",
      "Epoch 718 [Validation]: 100%|██████████| 21/21 [00:01<00:00, 14.78it/s, loss=-15873.16]\n"
     ]
    },
    {
     "name": "stdout",
     "output_type": "stream",
     "text": [
      "\tTotal Loss (NLL + MDMM): -15256.13\n",
      "\tMDMM Loss:               12466.23\n",
      "\tRemaining Weights:       62.55 %\n"
     ]
    },
    {
     "name": "stderr",
     "output_type": "stream",
     "text": [
      "Epoch 719 [Training]: 100%|██████████| 84/84 [00:06<00:00, 13.44it/s, loss=-15179.80, λc2D1=394.23, λd1=463.79, λd2=566.59, λd3=382.68]\n",
      "Epoch 719 [Validation]: 100%|██████████| 21/21 [00:01<00:00, 14.81it/s, loss=-15897.12]\n"
     ]
    },
    {
     "name": "stdout",
     "output_type": "stream",
     "text": [
      "\tTotal Loss (NLL + MDMM): -15281.19\n",
      "\tMDMM Loss:               12443.09\n",
      "\tRemaining Weights:       62.27 %\n"
     ]
    },
    {
     "name": "stderr",
     "output_type": "stream",
     "text": [
      "Epoch 720 [Training]: 100%|██████████| 84/84 [00:06<00:00, 13.60it/s, loss=-15195.91, λc2D1=394.54, λd1=464.29, λd2=567.12, λd3=383.05]\n",
      "Epoch 720 [Validation]: 100%|██████████| 21/21 [00:01<00:00, 15.03it/s, loss=-15913.20]\n"
     ]
    },
    {
     "name": "stdout",
     "output_type": "stream",
     "text": [
      "\tTotal Loss (NLL + MDMM): -15293.74\n",
      "\tMDMM Loss:               12441.92\n",
      "\tRemaining Weights:       62.44 %\n"
     ]
    },
    {
     "name": "stderr",
     "output_type": "stream",
     "text": [
      "Epoch 721 [Training]: 100%|██████████| 84/84 [00:06<00:00, 13.60it/s, loss=-15177.62, λc2D1=394.85, λd1=464.78, λd2=567.65, λd3=383.43]\n",
      "Epoch 721 [Validation]: 100%|██████████| 21/21 [00:01<00:00, 15.00it/s, loss=-15874.80]\n"
     ]
    },
    {
     "name": "stdout",
     "output_type": "stream",
     "text": [
      "\tTotal Loss (NLL + MDMM): -15259.45\n",
      "\tMDMM Loss:               12455.63\n",
      "\tRemaining Weights:       62.33 %\n"
     ]
    },
    {
     "name": "stderr",
     "output_type": "stream",
     "text": [
      "Epoch 722 [Training]: 100%|██████████| 84/84 [00:06<00:00, 13.56it/s, loss=-15217.96, λc2D1=395.16, λd1=465.27, λd2=568.19, λd3=383.80]\n",
      "Epoch 722 [Validation]: 100%|██████████| 21/21 [00:01<00:00, 14.87it/s, loss=-15923.40]\n"
     ]
    },
    {
     "name": "stdout",
     "output_type": "stream",
     "text": [
      "\tTotal Loss (NLL + MDMM): -15307.60\n",
      "\tMDMM Loss:               12423.05\n",
      "\tRemaining Weights:       62.00 %\n"
     ]
    },
    {
     "name": "stderr",
     "output_type": "stream",
     "text": [
      "Epoch 723 [Training]: 100%|██████████| 84/84 [00:06<00:00, 13.38it/s, loss=-15188.97, λc2D1=395.46, λd1=465.77, λd2=568.72, λd3=384.18]\n",
      "Epoch 723 [Validation]: 100%|██████████| 21/21 [00:01<00:00, 15.06it/s, loss=-15860.94]\n"
     ]
    },
    {
     "name": "stdout",
     "output_type": "stream",
     "text": [
      "\tTotal Loss (NLL + MDMM): -15247.23\n",
      "\tMDMM Loss:               12478.30\n",
      "\tRemaining Weights:       62.93 %\n"
     ]
    },
    {
     "name": "stderr",
     "output_type": "stream",
     "text": [
      "Epoch 724 [Training]: 100%|██████████| 84/84 [00:06<00:00, 13.46it/s, loss=-15184.15, λc2D1=395.77, λd1=466.26, λd2=569.25, λd3=384.55]\n",
      "Epoch 724 [Validation]: 100%|██████████| 21/21 [00:01<00:00, 15.10it/s, loss=-15847.16]\n"
     ]
    },
    {
     "name": "stdout",
     "output_type": "stream",
     "text": [
      "\tTotal Loss (NLL + MDMM): -15229.58\n",
      "\tMDMM Loss:               12498.86\n",
      "\tRemaining Weights:       62.88 %\n"
     ]
    },
    {
     "name": "stderr",
     "output_type": "stream",
     "text": [
      "Epoch 725 [Training]: 100%|██████████| 84/84 [00:06<00:00, 13.63it/s, loss=-15138.48, λc2D1=396.08, λd1=466.76, λd2=569.78, λd3=384.93]\n",
      "Epoch 725 [Validation]: 100%|██████████| 21/21 [00:01<00:00, 14.97it/s, loss=-15845.34]\n"
     ]
    },
    {
     "name": "stdout",
     "output_type": "stream",
     "text": [
      "\tTotal Loss (NLL + MDMM): -15231.13\n",
      "\tMDMM Loss:               12493.03\n",
      "\tRemaining Weights:       62.99 %\n"
     ]
    },
    {
     "name": "stderr",
     "output_type": "stream",
     "text": [
      "Epoch 726 [Training]: 100%|██████████| 84/84 [00:06<00:00, 13.64it/s, loss=-15137.01, λc2D1=396.39, λd1=467.26, λd2=570.32, λd3=385.30]\n",
      "Epoch 726 [Validation]: 100%|██████████| 21/21 [00:01<00:00, 15.08it/s, loss=-15826.77]\n"
     ]
    },
    {
     "name": "stdout",
     "output_type": "stream",
     "text": [
      "\tTotal Loss (NLL + MDMM): -15212.00\n",
      "\tMDMM Loss:               12512.48\n",
      "\tRemaining Weights:       63.04 %\n"
     ]
    },
    {
     "name": "stderr",
     "output_type": "stream",
     "text": [
      "Epoch 727 [Training]: 100%|██████████| 84/84 [00:06<00:00, 13.56it/s, loss=-15113.97, λc2D1=396.70, λd1=467.75, λd2=570.85, λd3=385.67]\n",
      "Epoch 727 [Validation]: 100%|██████████| 21/21 [00:01<00:00, 15.04it/s, loss=-15805.64]\n"
     ]
    },
    {
     "name": "stdout",
     "output_type": "stream",
     "text": [
      "\tTotal Loss (NLL + MDMM): -15193.83\n",
      "\tMDMM Loss:               12529.08\n",
      "\tRemaining Weights:       63.10 %\n"
     ]
    },
    {
     "name": "stderr",
     "output_type": "stream",
     "text": [
      "Epoch 728 [Training]: 100%|██████████| 84/84 [00:06<00:00, 13.48it/s, loss=-15139.79, λc2D1=397.01, λd1=468.25, λd2=571.38, λd3=386.05]\n",
      "Epoch 728 [Validation]: 100%|██████████| 21/21 [00:01<00:00, 15.13it/s, loss=-15814.58]\n"
     ]
    },
    {
     "name": "stdout",
     "output_type": "stream",
     "text": [
      "\tTotal Loss (NLL + MDMM): -15201.16\n",
      "\tMDMM Loss:               12521.58\n",
      "\tRemaining Weights:       62.77 %\n"
     ]
    },
    {
     "name": "stderr",
     "output_type": "stream",
     "text": [
      "Epoch 729 [Training]: 100%|██████████| 84/84 [00:06<00:00, 13.49it/s, loss=-15107.60, λc2D1=397.32, λd1=468.75, λd2=571.92, λd3=386.42]\n",
      "Epoch 729 [Validation]: 100%|██████████| 21/21 [00:01<00:00, 15.25it/s, loss=-15795.24]\n"
     ]
    },
    {
     "name": "stdout",
     "output_type": "stream",
     "text": [
      "\tTotal Loss (NLL + MDMM): -15183.74\n",
      "\tMDMM Loss:               12540.91\n",
      "\tRemaining Weights:       63.10 %\n"
     ]
    },
    {
     "name": "stderr",
     "output_type": "stream",
     "text": [
      "Epoch 730 [Training]: 100%|██████████| 84/84 [00:06<00:00, 13.59it/s, loss=-15181.09, λc2D1=397.63, λd1=469.24, λd2=572.45, λd3=386.79]\n",
      "Epoch 730 [Validation]: 100%|██████████| 21/21 [00:01<00:00, 14.81it/s, loss=-15870.16]\n"
     ]
    },
    {
     "name": "stdout",
     "output_type": "stream",
     "text": [
      "\tTotal Loss (NLL + MDMM): -15258.51\n",
      "\tMDMM Loss:               12469.06\n",
      "\tRemaining Weights:       62.49 %\n"
     ]
    },
    {
     "name": "stderr",
     "output_type": "stream",
     "text": [
      "Epoch 731 [Training]: 100%|██████████| 84/84 [00:06<00:00, 13.47it/s, loss=-15081.57, λc2D1=397.94, λd1=469.74, λd2=572.98, λd3=387.16]\n",
      "Epoch 731 [Validation]: 100%|██████████| 21/21 [00:01<00:00, 14.90it/s, loss=-15809.95]\n"
     ]
    },
    {
     "name": "stdout",
     "output_type": "stream",
     "text": [
      "\tTotal Loss (NLL + MDMM): -15200.64\n",
      "\tMDMM Loss:               12524.93\n",
      "\tRemaining Weights:       62.60 %\n"
     ]
    },
    {
     "name": "stderr",
     "output_type": "stream",
     "text": [
      "Epoch 732 [Training]: 100%|██████████| 84/84 [00:06<00:00, 13.47it/s, loss=-15075.00, λc2D1=398.25, λd1=470.23, λd2=573.52, λd3=387.53]\n",
      "Epoch 732 [Validation]: 100%|██████████| 21/21 [00:01<00:00, 15.17it/s, loss=-15778.73]\n"
     ]
    },
    {
     "name": "stdout",
     "output_type": "stream",
     "text": [
      "\tTotal Loss (NLL + MDMM): -15170.78\n",
      "\tMDMM Loss:               12555.20\n",
      "\tRemaining Weights:       62.71 %\n"
     ]
    },
    {
     "name": "stderr",
     "output_type": "stream",
     "text": [
      "Epoch 733 [Training]: 100%|██████████| 84/84 [00:06<00:00, 13.44it/s, loss=-15153.29, λc2D1=398.56, λd1=470.73, λd2=574.05, λd3=387.90]\n",
      "Epoch 733 [Validation]: 100%|██████████| 21/21 [00:01<00:00, 14.90it/s, loss=-15831.15]\n"
     ]
    },
    {
     "name": "stdout",
     "output_type": "stream",
     "text": [
      "\tTotal Loss (NLL + MDMM): -15215.90\n",
      "\tMDMM Loss:               12511.37\n",
      "\tRemaining Weights:       62.82 %\n"
     ]
    },
    {
     "name": "stderr",
     "output_type": "stream",
     "text": [
      "Epoch 734 [Training]: 100%|██████████| 84/84 [00:06<00:00, 13.39it/s, loss=-15118.60, λc2D1=398.87, λd1=471.23, λd2=574.59, λd3=388.27]\n",
      "Epoch 734 [Validation]: 100%|██████████| 21/21 [00:01<00:00, 15.12it/s, loss=-15827.25]\n"
     ]
    },
    {
     "name": "stdout",
     "output_type": "stream",
     "text": [
      "\tTotal Loss (NLL + MDMM): -15220.30\n",
      "\tMDMM Loss:               12509.36\n",
      "\tRemaining Weights:       62.82 %\n"
     ]
    },
    {
     "name": "stderr",
     "output_type": "stream",
     "text": [
      "Epoch 735 [Training]: 100%|██████████| 84/84 [00:06<00:00, 13.53it/s, loss=-15048.45, λc2D1=399.18, λd1=471.72, λd2=575.13, λd3=388.64]\n",
      "Epoch 735 [Validation]: 100%|██████████| 21/21 [00:01<00:00, 14.85it/s, loss=-15774.94]\n"
     ]
    },
    {
     "name": "stdout",
     "output_type": "stream",
     "text": [
      "\tTotal Loss (NLL + MDMM): -15168.02\n",
      "\tMDMM Loss:               12559.92\n",
      "\tRemaining Weights:       62.49 %\n"
     ]
    },
    {
     "name": "stderr",
     "output_type": "stream",
     "text": [
      "Epoch 736 [Training]: 100%|██████████| 84/84 [00:06<00:00, 13.49it/s, loss=-15126.68, λc2D1=399.49, λd1=472.22, λd2=575.66, λd3=389.01]\n",
      "Epoch 736 [Validation]: 100%|██████████| 21/21 [00:01<00:00, 14.78it/s, loss=-15822.73]\n"
     ]
    },
    {
     "name": "stdout",
     "output_type": "stream",
     "text": [
      "\tTotal Loss (NLL + MDMM): -15216.30\n",
      "\tMDMM Loss:               12512.00\n",
      "\tRemaining Weights:       62.55 %\n"
     ]
    },
    {
     "name": "stderr",
     "output_type": "stream",
     "text": [
      "Epoch 737 [Training]: 100%|██████████| 84/84 [00:06<00:00, 13.24it/s, loss=-15050.41, λc2D1=399.80, λd1=472.72, λd2=576.20, λd3=389.38]\n",
      "Epoch 737 [Validation]: 100%|██████████| 21/21 [00:01<00:00, 15.06it/s, loss=-15736.70]\n"
     ]
    },
    {
     "name": "stdout",
     "output_type": "stream",
     "text": [
      "\tTotal Loss (NLL + MDMM): -15127.37\n",
      "\tMDMM Loss:               12602.50\n",
      "\tRemaining Weights:       62.88 %\n"
     ]
    },
    {
     "name": "stderr",
     "output_type": "stream",
     "text": [
      "Epoch 738 [Training]: 100%|██████████| 84/84 [00:06<00:00, 13.66it/s, loss=-15022.62, λc2D1=400.12, λd1=473.21, λd2=576.73, λd3=389.75]\n",
      "Epoch 738 [Validation]: 100%|██████████| 21/21 [00:01<00:00, 15.32it/s, loss=-15718.39]\n"
     ]
    },
    {
     "name": "stdout",
     "output_type": "stream",
     "text": [
      "\tTotal Loss (NLL + MDMM): -15112.01\n",
      "\tMDMM Loss:               12611.08\n",
      "\tRemaining Weights:       62.93 %\n"
     ]
    },
    {
     "name": "stderr",
     "output_type": "stream",
     "text": [
      "Epoch 739 [Training]: 100%|██████████| 84/84 [00:06<00:00, 13.48it/s, loss=-15053.06, λc2D1=400.43, λd1=473.71, λd2=577.27, λd3=390.12]\n",
      "Epoch 739 [Validation]: 100%|██████████| 21/21 [00:01<00:00, 15.16it/s, loss=-15740.10]\n"
     ]
    },
    {
     "name": "stdout",
     "output_type": "stream",
     "text": [
      "\tTotal Loss (NLL + MDMM): -15131.14\n",
      "\tMDMM Loss:               12596.28\n",
      "\tRemaining Weights:       62.82 %\n"
     ]
    },
    {
     "name": "stderr",
     "output_type": "stream",
     "text": [
      "Epoch 740 [Training]: 100%|██████████| 84/84 [00:06<00:00, 13.46it/s, loss=-15032.72, λc2D1=400.74, λd1=474.20, λd2=577.81, λd3=390.48]\n",
      "Epoch 740 [Validation]: 100%|██████████| 21/21 [00:01<00:00, 15.29it/s, loss=-15729.90]\n"
     ]
    },
    {
     "name": "stdout",
     "output_type": "stream",
     "text": [
      "\tTotal Loss (NLL + MDMM): -15122.26\n",
      "\tMDMM Loss:               12609.94\n",
      "\tRemaining Weights:       62.93 %\n"
     ]
    },
    {
     "name": "stderr",
     "output_type": "stream",
     "text": [
      "Epoch 741 [Training]: 100%|██████████| 84/84 [00:06<00:00, 13.26it/s, loss=-15053.47, λc2D1=401.05, λd1=474.70, λd2=578.35, λd3=390.85]\n",
      "Epoch 741 [Validation]: 100%|██████████| 21/21 [00:01<00:00, 14.30it/s, loss=-15723.17]\n"
     ]
    },
    {
     "name": "stdout",
     "output_type": "stream",
     "text": [
      "\tTotal Loss (NLL + MDMM): -15117.84\n",
      "\tMDMM Loss:               12607.73\n",
      "\tRemaining Weights:       62.82 %\n"
     ]
    },
    {
     "name": "stderr",
     "output_type": "stream",
     "text": [
      "Epoch 742 [Training]: 100%|██████████| 84/84 [00:06<00:00, 13.59it/s, loss=-15031.84, λc2D1=401.36, λd1=475.20, λd2=578.88, λd3=391.22]\n",
      "Epoch 742 [Validation]: 100%|██████████| 21/21 [00:01<00:00, 15.17it/s, loss=-15704.67]\n"
     ]
    },
    {
     "name": "stdout",
     "output_type": "stream",
     "text": [
      "\tTotal Loss (NLL + MDMM): -15098.99\n",
      "\tMDMM Loss:               12625.96\n",
      "\tRemaining Weights:       63.10 %\n"
     ]
    },
    {
     "name": "stderr",
     "output_type": "stream",
     "text": [
      "Epoch 743 [Training]: 100%|██████████| 84/84 [00:06<00:00, 13.53it/s, loss=-15011.84, λc2D1=401.67, λd1=475.69, λd2=579.42, λd3=391.59]\n",
      "Epoch 743 [Validation]: 100%|██████████| 21/21 [00:01<00:00, 15.05it/s, loss=-15775.73]\n"
     ]
    },
    {
     "name": "stdout",
     "output_type": "stream",
     "text": [
      "\tTotal Loss (NLL + MDMM): -15169.55\n",
      "\tMDMM Loss:               12560.23\n",
      "\tRemaining Weights:       62.88 %\n"
     ]
    },
    {
     "name": "stderr",
     "output_type": "stream",
     "text": [
      "Epoch 744 [Training]: 100%|██████████| 84/84 [00:06<00:00, 13.26it/s, loss=-15069.59, λc2D1=401.99, λd1=476.19, λd2=579.95, λd3=391.95]\n",
      "Epoch 744 [Validation]: 100%|██████████| 21/21 [00:01<00:00, 14.79it/s, loss=-15766.46]\n"
     ]
    },
    {
     "name": "stdout",
     "output_type": "stream",
     "text": [
      "\tTotal Loss (NLL + MDMM): -15163.48\n",
      "\tMDMM Loss:               12559.04\n",
      "\tRemaining Weights:       62.66 %\n"
     ]
    },
    {
     "name": "stderr",
     "output_type": "stream",
     "text": [
      "Epoch 745 [Training]: 100%|██████████| 84/84 [00:06<00:00, 13.32it/s, loss=-15070.93, λc2D1=402.30, λd1=476.68, λd2=580.48, λd3=392.32]\n",
      "Epoch 745 [Validation]: 100%|██████████| 21/21 [00:01<00:00, 14.85it/s, loss=-15768.60]\n"
     ]
    },
    {
     "name": "stdout",
     "output_type": "stream",
     "text": [
      "\tTotal Loss (NLL + MDMM): -15166.34\n",
      "\tMDMM Loss:               12562.89\n",
      "\tRemaining Weights:       62.66 %\n"
     ]
    },
    {
     "name": "stderr",
     "output_type": "stream",
     "text": [
      "Epoch 746 [Training]: 100%|██████████| 84/84 [00:06<00:00, 13.49it/s, loss=-15012.50, λc2D1=402.61, λd1=477.17, λd2=581.01, λd3=392.69]\n",
      "Epoch 746 [Validation]: 100%|██████████| 21/21 [00:01<00:00, 14.89it/s, loss=-15710.27]\n"
     ]
    },
    {
     "name": "stdout",
     "output_type": "stream",
     "text": [
      "\tTotal Loss (NLL + MDMM): -15105.34\n",
      "\tMDMM Loss:               12623.15\n",
      "\tRemaining Weights:       62.44 %\n"
     ]
    },
    {
     "name": "stderr",
     "output_type": "stream",
     "text": [
      "Epoch 747 [Training]: 100%|██████████| 84/84 [00:06<00:00, 13.48it/s, loss=-15068.13, λc2D1=402.93, λd1=477.67, λd2=581.55, λd3=393.06]\n",
      "Epoch 747 [Validation]: 100%|██████████| 21/21 [00:01<00:00, 15.08it/s, loss=-15742.88]\n"
     ]
    },
    {
     "name": "stdout",
     "output_type": "stream",
     "text": [
      "\tTotal Loss (NLL + MDMM): -15142.89\n",
      "\tMDMM Loss:               12575.20\n",
      "\tRemaining Weights:       62.66 %\n"
     ]
    },
    {
     "name": "stderr",
     "output_type": "stream",
     "text": [
      "Epoch 748 [Training]: 100%|██████████| 84/84 [00:06<00:00, 13.31it/s, loss=-15002.93, λc2D1=403.24, λd1=478.16, λd2=582.08, λd3=393.42]\n",
      "Epoch 748 [Validation]: 100%|██████████| 21/21 [00:01<00:00, 15.08it/s, loss=-15664.27]\n"
     ]
    },
    {
     "name": "stdout",
     "output_type": "stream",
     "text": [
      "\tTotal Loss (NLL + MDMM): -15063.46\n",
      "\tMDMM Loss:               12649.75\n",
      "\tRemaining Weights:       62.60 %\n"
     ]
    },
    {
     "name": "stderr",
     "output_type": "stream",
     "text": [
      "Epoch 749 [Training]: 100%|██████████| 84/84 [00:06<00:00, 13.52it/s, loss=-15052.93, λc2D1=403.56, λd1=478.65, λd2=582.61, λd3=393.79]\n",
      "Epoch 749 [Validation]: 100%|██████████| 21/21 [00:01<00:00, 14.97it/s, loss=-15724.38]\n"
     ]
    },
    {
     "name": "stdout",
     "output_type": "stream",
     "text": [
      "\tTotal Loss (NLL + MDMM): -15125.49\n",
      "\tMDMM Loss:               12592.05\n",
      "\tRemaining Weights:       62.71 %\n"
     ]
    },
    {
     "name": "stderr",
     "output_type": "stream",
     "text": [
      "Epoch 750 [Training]: 100%|██████████| 84/84 [00:06<00:00, 13.41it/s, loss=-14994.62, λc2D1=403.87, λd1=479.14, λd2=583.14, λd3=394.15]\n",
      "Epoch 750 [Validation]: 100%|██████████| 21/21 [00:01<00:00, 15.09it/s, loss=-15671.35]\n"
     ]
    },
    {
     "name": "stdout",
     "output_type": "stream",
     "text": [
      "\tTotal Loss (NLL + MDMM): -15073.44\n",
      "\tMDMM Loss:               12644.04\n",
      "\tRemaining Weights:       62.33 %\n"
     ]
    },
    {
     "name": "stderr",
     "output_type": "stream",
     "text": [
      "Epoch 751 [Training]: 100%|██████████| 84/84 [00:06<00:00, 13.36it/s, loss=-15043.21, λc2D1=404.18, λd1=479.63, λd2=583.67, λd3=394.52]\n",
      "Epoch 751 [Validation]: 100%|██████████| 21/21 [00:01<00:00, 14.69it/s, loss=-15704.62]\n"
     ]
    },
    {
     "name": "stdout",
     "output_type": "stream",
     "text": [
      "\tTotal Loss (NLL + MDMM): -15105.45\n",
      "\tMDMM Loss:               12608.62\n",
      "\tRemaining Weights:       62.49 %\n"
     ]
    },
    {
     "name": "stderr",
     "output_type": "stream",
     "text": [
      "Epoch 752 [Training]: 100%|██████████| 84/84 [00:06<00:00, 13.11it/s, loss=-15070.45, λc2D1=404.50, λd1=480.13, λd2=584.20, λd3=394.88]\n",
      "Epoch 752 [Validation]: 100%|██████████| 21/21 [00:01<00:00, 14.31it/s, loss=-15722.33]\n"
     ]
    },
    {
     "name": "stdout",
     "output_type": "stream",
     "text": [
      "\tTotal Loss (NLL + MDMM): -15121.21\n",
      "\tMDMM Loss:               12587.34\n",
      "\tRemaining Weights:       62.27 %\n"
     ]
    },
    {
     "name": "stderr",
     "output_type": "stream",
     "text": [
      "Epoch 753 [Training]: 100%|██████████| 84/84 [00:06<00:00, 13.41it/s, loss=-14999.80, λc2D1=404.81, λd1=480.62, λd2=584.73, λd3=395.25]\n",
      "Epoch 753 [Validation]: 100%|██████████| 21/21 [00:01<00:00, 14.99it/s, loss=-15676.25]\n"
     ]
    },
    {
     "name": "stdout",
     "output_type": "stream",
     "text": [
      "\tTotal Loss (NLL + MDMM): -15073.61\n",
      "\tMDMM Loss:               12645.71\n",
      "\tRemaining Weights:       62.38 %\n"
     ]
    },
    {
     "name": "stderr",
     "output_type": "stream",
     "text": [
      "Epoch 754 [Training]: 100%|██████████| 84/84 [00:06<00:00, 13.32it/s, loss=-15050.27, λc2D1=405.13, λd1=481.11, λd2=585.26, λd3=395.62]\n",
      "Epoch 754 [Validation]: 100%|██████████| 21/21 [00:01<00:00, 14.73it/s, loss=-15711.95]\n"
     ]
    },
    {
     "name": "stdout",
     "output_type": "stream",
     "text": [
      "\tTotal Loss (NLL + MDMM): -15109.36\n",
      "\tMDMM Loss:               12605.82\n",
      "\tRemaining Weights:       62.44 %\n"
     ]
    },
    {
     "name": "stderr",
     "output_type": "stream",
     "text": [
      "Epoch 755 [Training]: 100%|██████████| 84/84 [00:06<00:00, 13.32it/s, loss=-15023.53, λc2D1=405.44, λd1=481.60, λd2=585.79, λd3=395.98]\n",
      "Epoch 755 [Validation]: 100%|██████████| 21/21 [00:01<00:00, 14.57it/s, loss=-15698.42]\n"
     ]
    },
    {
     "name": "stdout",
     "output_type": "stream",
     "text": [
      "\tTotal Loss (NLL + MDMM): -15102.08\n",
      "\tMDMM Loss:               12609.01\n",
      "\tRemaining Weights:       62.55 %\n"
     ]
    },
    {
     "name": "stderr",
     "output_type": "stream",
     "text": [
      "Epoch 756 [Training]: 100%|██████████| 84/84 [00:06<00:00, 13.35it/s, loss=-15047.70, λc2D1=405.75, λd1=482.09, λd2=586.31, λd3=396.35]\n",
      "Epoch 756 [Validation]: 100%|██████████| 21/21 [00:01<00:00, 14.85it/s, loss=-15717.13]\n"
     ]
    },
    {
     "name": "stdout",
     "output_type": "stream",
     "text": [
      "\tTotal Loss (NLL + MDMM): -15116.38\n",
      "\tMDMM Loss:               12602.63\n",
      "\tRemaining Weights:       62.11 %\n"
     ]
    },
    {
     "name": "stderr",
     "output_type": "stream",
     "text": [
      "Epoch 757 [Training]: 100%|██████████| 84/84 [00:06<00:00, 13.34it/s, loss=-15038.38, λc2D1=406.07, λd1=482.58, λd2=586.84, λd3=396.71]\n",
      "Epoch 757 [Validation]: 100%|██████████| 21/21 [00:01<00:00, 14.89it/s, loss=-15694.31]\n"
     ]
    },
    {
     "name": "stdout",
     "output_type": "stream",
     "text": [
      "\tTotal Loss (NLL + MDMM): -15097.19\n",
      "\tMDMM Loss:               12622.01\n",
      "\tRemaining Weights:       62.38 %\n"
     ]
    },
    {
     "name": "stderr",
     "output_type": "stream",
     "text": [
      "Epoch 758 [Training]: 100%|██████████| 84/84 [00:06<00:00, 13.46it/s, loss=-15014.87, λc2D1=406.38, λd1=483.06, λd2=587.37, λd3=397.08]\n",
      "Epoch 758 [Validation]: 100%|██████████| 21/21 [00:01<00:00, 14.64it/s, loss=-15669.67]\n"
     ]
    },
    {
     "name": "stdout",
     "output_type": "stream",
     "text": [
      "\tTotal Loss (NLL + MDMM): -15074.97\n",
      "\tMDMM Loss:               12636.38\n",
      "\tRemaining Weights:       62.33 %\n"
     ]
    },
    {
     "name": "stderr",
     "output_type": "stream",
     "text": [
      "Epoch 759 [Training]: 100%|██████████| 84/84 [00:06<00:00, 13.46it/s, loss=-15021.39, λc2D1=406.70, λd1=483.55, λd2=587.90, λd3=397.44]\n",
      "Epoch 759 [Validation]: 100%|██████████| 21/21 [00:01<00:00, 15.08it/s, loss=-15692.62]\n"
     ]
    },
    {
     "name": "stdout",
     "output_type": "stream",
     "text": [
      "\tTotal Loss (NLL + MDMM): -15095.79\n",
      "\tMDMM Loss:               12623.38\n",
      "\tRemaining Weights:       62.11 %\n"
     ]
    },
    {
     "name": "stderr",
     "output_type": "stream",
     "text": [
      "Epoch 760 [Training]: 100%|██████████| 84/84 [00:06<00:00, 13.39it/s, loss=-14990.41, λc2D1=407.01, λd1=484.04, λd2=588.42, λd3=397.80]\n",
      "Epoch 760 [Validation]: 100%|██████████| 21/21 [00:01<00:00, 14.65it/s, loss=-15660.95]\n"
     ]
    },
    {
     "name": "stdout",
     "output_type": "stream",
     "text": [
      "\tTotal Loss (NLL + MDMM): -15062.19\n",
      "\tMDMM Loss:               12646.51\n",
      "\tRemaining Weights:       62.16 %\n"
     ]
    },
    {
     "name": "stderr",
     "output_type": "stream",
     "text": [
      "Epoch 761 [Training]: 100%|██████████| 84/84 [00:06<00:00, 13.38it/s, loss=-15042.18, λc2D1=407.33, λd1=484.53, λd2=588.95, λd3=398.17]\n",
      "Epoch 761 [Validation]: 100%|██████████| 21/21 [00:01<00:00, 15.08it/s, loss=-15688.55]\n"
     ]
    },
    {
     "name": "stdout",
     "output_type": "stream",
     "text": [
      "\tTotal Loss (NLL + MDMM): -15092.06\n",
      "\tMDMM Loss:               12627.12\n",
      "\tRemaining Weights:       61.89 %\n"
     ]
    },
    {
     "name": "stderr",
     "output_type": "stream",
     "text": [
      "Epoch 762 [Training]: 100%|██████████| 84/84 [00:06<00:00, 13.51it/s, loss=-14968.95, λc2D1=407.64, λd1=485.01, λd2=589.47, λd3=398.53]\n",
      "Epoch 762 [Validation]: 100%|██████████| 21/21 [00:01<00:00, 15.02it/s, loss=-15602.79]\n"
     ]
    },
    {
     "name": "stdout",
     "output_type": "stream",
     "text": [
      "\tTotal Loss (NLL + MDMM): -15004.17\n",
      "\tMDMM Loss:               12712.34\n",
      "\tRemaining Weights:       62.00 %\n"
     ]
    },
    {
     "name": "stderr",
     "output_type": "stream",
     "text": [
      "Epoch 763 [Training]: 100%|██████████| 84/84 [00:06<00:00, 13.40it/s, loss=-14946.28, λc2D1=407.96, λd1=485.50, λd2=590.00, λd3=398.89]\n",
      "Epoch 763 [Validation]: 100%|██████████| 21/21 [00:01<00:00, 14.75it/s, loss=-15608.92]\n"
     ]
    },
    {
     "name": "stdout",
     "output_type": "stream",
     "text": [
      "\tTotal Loss (NLL + MDMM): -15013.80\n",
      "\tMDMM Loss:               12703.46\n",
      "\tRemaining Weights:       62.16 %\n"
     ]
    },
    {
     "name": "stderr",
     "output_type": "stream",
     "text": [
      "Epoch 764 [Training]: 100%|██████████| 84/84 [00:06<00:00, 13.34it/s, loss=-14952.18, λc2D1=408.28, λd1=485.99, λd2=590.53, λd3=399.25]\n",
      "Epoch 764 [Validation]: 100%|██████████| 21/21 [00:01<00:00, 14.98it/s, loss=-15601.24]\n"
     ]
    },
    {
     "name": "stdout",
     "output_type": "stream",
     "text": [
      "\tTotal Loss (NLL + MDMM): -15007.08\n",
      "\tMDMM Loss:               12707.51\n",
      "\tRemaining Weights:       62.16 %\n"
     ]
    },
    {
     "name": "stderr",
     "output_type": "stream",
     "text": [
      "Epoch 765 [Training]: 100%|██████████| 84/84 [00:06<00:00, 13.41it/s, loss=-14916.79, λc2D1=408.59, λd1=486.47, λd2=591.05, λd3=399.61]\n",
      "Epoch 765 [Validation]: 100%|██████████| 21/21 [00:01<00:00, 14.73it/s, loss=-15664.33]\n"
     ]
    },
    {
     "name": "stdout",
     "output_type": "stream",
     "text": [
      "\tTotal Loss (NLL + MDMM): -15070.63\n",
      "\tMDMM Loss:               12640.71\n",
      "\tRemaining Weights:       61.83 %\n"
     ]
    },
    {
     "name": "stderr",
     "output_type": "stream",
     "text": [
      "Epoch 766 [Training]: 100%|██████████| 84/84 [00:06<00:00, 13.28it/s, loss=-14962.25, λc2D1=408.91, λd1=486.96, λd2=591.58, λd3=399.97]\n",
      "Epoch 766 [Validation]: 100%|██████████| 21/21 [00:01<00:00, 15.00it/s, loss=-15606.26]\n"
     ]
    },
    {
     "name": "stdout",
     "output_type": "stream",
     "text": [
      "\tTotal Loss (NLL + MDMM): -15010.57\n",
      "\tMDMM Loss:               12697.99\n",
      "\tRemaining Weights:       62.60 %\n"
     ]
    },
    {
     "name": "stderr",
     "output_type": "stream",
     "text": [
      "Epoch 767 [Training]: 100%|██████████| 84/84 [00:06<00:00, 13.38it/s, loss=-14979.47, λc2D1=409.23, λd1=487.45, λd2=592.10, λd3=400.33]\n",
      "Epoch 767 [Validation]: 100%|██████████| 21/21 [00:01<00:00, 14.74it/s, loss=-15621.75]\n"
     ]
    },
    {
     "name": "stdout",
     "output_type": "stream",
     "text": [
      "\tTotal Loss (NLL + MDMM): -15026.48\n",
      "\tMDMM Loss:               12679.95\n",
      "\tRemaining Weights:       62.27 %\n"
     ]
    },
    {
     "name": "stderr",
     "output_type": "stream",
     "text": [
      "Epoch 768 [Training]: 100%|██████████| 84/84 [00:06<00:00, 13.45it/s, loss=-14916.01, λc2D1=409.55, λd1=487.94, λd2=592.63, λd3=400.69]\n",
      "Epoch 768 [Validation]: 100%|██████████| 21/21 [00:01<00:00, 14.60it/s, loss=-15585.52]\n"
     ]
    },
    {
     "name": "stdout",
     "output_type": "stream",
     "text": [
      "\tTotal Loss (NLL + MDMM): -14993.64\n",
      "\tMDMM Loss:               12723.05\n",
      "\tRemaining Weights:       62.11 %\n"
     ]
    },
    {
     "name": "stderr",
     "output_type": "stream",
     "text": [
      "Epoch 769 [Training]: 100%|██████████| 84/84 [00:06<00:00, 13.43it/s, loss=-14994.13, λc2D1=409.86, λd1=488.43, λd2=593.15, λd3=401.05]\n",
      "Epoch 769 [Validation]: 100%|██████████| 21/21 [00:01<00:00, 14.81it/s, loss=-15634.57]\n"
     ]
    },
    {
     "name": "stdout",
     "output_type": "stream",
     "text": [
      "\tTotal Loss (NLL + MDMM): -15039.86\n",
      "\tMDMM Loss:               12674.36\n",
      "\tRemaining Weights:       62.00 %\n"
     ]
    },
    {
     "name": "stderr",
     "output_type": "stream",
     "text": [
      "Epoch 770 [Training]: 100%|██████████| 84/84 [00:06<00:00, 13.43it/s, loss=-14958.66, λc2D1=410.18, λd1=488.91, λd2=593.67, λd3=401.40]\n",
      "Epoch 770 [Validation]: 100%|██████████| 21/21 [00:01<00:00, 15.15it/s, loss=-15642.79]\n"
     ]
    },
    {
     "name": "stdout",
     "output_type": "stream",
     "text": [
      "\tTotal Loss (NLL + MDMM): -15050.32\n",
      "\tMDMM Loss:               12657.19\n",
      "\tRemaining Weights:       61.89 %\n"
     ]
    },
    {
     "name": "stderr",
     "output_type": "stream",
     "text": [
      "Epoch 771 [Training]: 100%|██████████| 84/84 [00:06<00:00, 13.27it/s, loss=-14902.70, λc2D1=410.50, λd1=489.40, λd2=594.19, λd3=401.76]\n",
      "Epoch 771 [Validation]: 100%|██████████| 21/21 [00:01<00:00, 14.97it/s, loss=-15555.27]\n"
     ]
    },
    {
     "name": "stdout",
     "output_type": "stream",
     "text": [
      "\tTotal Loss (NLL + MDMM): -14966.95\n",
      "\tMDMM Loss:               12746.62\n",
      "\tRemaining Weights:       62.05 %\n"
     ]
    },
    {
     "name": "stderr",
     "output_type": "stream",
     "text": [
      "Epoch 772 [Training]: 100%|██████████| 84/84 [00:06<00:00, 13.35it/s, loss=-14961.73, λc2D1=410.81, λd1=489.88, λd2=594.71, λd3=402.12]\n",
      "Epoch 772 [Validation]: 100%|██████████| 21/21 [00:01<00:00, 14.82it/s, loss=-15588.63]\n"
     ]
    },
    {
     "name": "stdout",
     "output_type": "stream",
     "text": [
      "\tTotal Loss (NLL + MDMM): -14996.07\n",
      "\tMDMM Loss:               12716.49\n",
      "\tRemaining Weights:       62.27 %\n"
     ]
    },
    {
     "name": "stderr",
     "output_type": "stream",
     "text": [
      "Epoch 773 [Training]: 100%|██████████| 84/84 [00:06<00:00, 13.26it/s, loss=-14897.65, λc2D1=411.13, λd1=490.37, λd2=595.23, λd3=402.48]\n",
      "Epoch 773 [Validation]: 100%|██████████| 21/21 [00:01<00:00, 14.90it/s, loss=-15554.48]\n"
     ]
    },
    {
     "name": "stdout",
     "output_type": "stream",
     "text": [
      "\tTotal Loss (NLL + MDMM): -14963.33\n",
      "\tMDMM Loss:               12757.60\n",
      "\tRemaining Weights:       62.05 %\n"
     ]
    },
    {
     "name": "stderr",
     "output_type": "stream",
     "text": [
      "Epoch 774 [Training]: 100%|██████████| 84/84 [00:06<00:00, 13.28it/s, loss=-14972.69, λc2D1=411.45, λd1=490.86, λd2=595.74, λd3=402.84]\n",
      "Epoch 774 [Validation]: 100%|██████████| 21/21 [00:01<00:00, 14.90it/s, loss=-15621.71]\n"
     ]
    },
    {
     "name": "stdout",
     "output_type": "stream",
     "text": [
      "\tTotal Loss (NLL + MDMM): -15030.63\n",
      "\tMDMM Loss:               12680.98\n",
      "\tRemaining Weights:       61.83 %\n"
     ]
    },
    {
     "name": "stderr",
     "output_type": "stream",
     "text": [
      "Epoch 775 [Training]: 100%|██████████| 84/84 [00:06<00:00, 13.23it/s, loss=-14910.81, λc2D1=411.77, λd1=491.34, λd2=596.26, λd3=403.20]\n",
      "Epoch 775 [Validation]: 100%|██████████| 21/21 [00:01<00:00, 14.73it/s, loss=-15543.75]\n"
     ]
    },
    {
     "name": "stdout",
     "output_type": "stream",
     "text": [
      "\tTotal Loss (NLL + MDMM): -14953.24\n",
      "\tMDMM Loss:               12758.08\n",
      "\tRemaining Weights:       62.00 %\n"
     ]
    },
    {
     "name": "stderr",
     "output_type": "stream",
     "text": [
      "Epoch 776 [Training]: 100%|██████████| 84/84 [00:06<00:00, 13.36it/s, loss=-14937.49, λc2D1=412.08, λd1=491.83, λd2=596.78, λd3=403.55]\n",
      "Epoch 776 [Validation]: 100%|██████████| 21/21 [00:01<00:00, 14.99it/s, loss=-15604.28]\n"
     ]
    },
    {
     "name": "stdout",
     "output_type": "stream",
     "text": [
      "\tTotal Loss (NLL + MDMM): -15010.69\n",
      "\tMDMM Loss:               12704.74\n",
      "\tRemaining Weights:       61.94 %\n"
     ]
    },
    {
     "name": "stderr",
     "output_type": "stream",
     "text": [
      "Epoch 777 [Training]: 100%|██████████| 84/84 [00:06<00:00, 13.49it/s, loss=-14884.55, λc2D1=412.40, λd1=492.31, λd2=597.29, λd3=403.91]\n",
      "Epoch 777 [Validation]: 100%|██████████| 21/21 [00:01<00:00, 14.98it/s, loss=-15534.19]\n"
     ]
    },
    {
     "name": "stdout",
     "output_type": "stream",
     "text": [
      "\tTotal Loss (NLL + MDMM): -14942.15\n",
      "\tMDMM Loss:               12781.89\n",
      "\tRemaining Weights:       62.11 %\n"
     ]
    },
    {
     "name": "stderr",
     "output_type": "stream",
     "text": [
      "Epoch 778 [Training]: 100%|██████████| 84/84 [00:06<00:00, 13.45it/s, loss=-14963.64, λc2D1=412.72, λd1=492.80, λd2=597.81, λd3=404.27]\n",
      "Epoch 778 [Validation]: 100%|██████████| 21/21 [00:01<00:00, 15.17it/s, loss=-15612.00]\n"
     ]
    },
    {
     "name": "stdout",
     "output_type": "stream",
     "text": [
      "\tTotal Loss (NLL + MDMM): -15021.51\n",
      "\tMDMM Loss:               12685.67\n",
      "\tRemaining Weights:       61.39 %\n"
     ]
    },
    {
     "name": "stderr",
     "output_type": "stream",
     "text": [
      "Epoch 779 [Training]: 100%|██████████| 84/84 [00:06<00:00, 13.56it/s, loss=-14887.75, λc2D1=413.04, λd1=493.28, λd2=598.32, λd3=404.62]\n",
      "Epoch 779 [Validation]: 100%|██████████| 21/21 [00:01<00:00, 15.04it/s, loss=-15521.30]\n"
     ]
    },
    {
     "name": "stdout",
     "output_type": "stream",
     "text": [
      "\tTotal Loss (NLL + MDMM): -14930.58\n",
      "\tMDMM Loss:               12780.89\n",
      "\tRemaining Weights:       61.89 %\n"
     ]
    },
    {
     "name": "stderr",
     "output_type": "stream",
     "text": [
      "Epoch 780 [Training]: 100%|██████████| 84/84 [00:06<00:00, 13.55it/s, loss=-14966.74, λc2D1=413.35, λd1=493.77, λd2=598.84, λd3=404.98]\n",
      "Epoch 780 [Validation]: 100%|██████████| 21/21 [00:01<00:00, 15.06it/s, loss=-15613.90]\n"
     ]
    },
    {
     "name": "stdout",
     "output_type": "stream",
     "text": [
      "\tTotal Loss (NLL + MDMM): -15021.66\n",
      "\tMDMM Loss:               12688.60\n",
      "\tRemaining Weights:       61.56 %\n"
     ]
    },
    {
     "name": "stderr",
     "output_type": "stream",
     "text": [
      "Epoch 781 [Training]: 100%|██████████| 84/84 [00:06<00:00, 13.21it/s, loss=-14917.16, λc2D1=413.67, λd1=494.25, λd2=599.35, λd3=405.33]\n",
      "Epoch 781 [Validation]: 100%|██████████| 21/21 [00:01<00:00, 15.01it/s, loss=-15579.42]\n"
     ]
    },
    {
     "name": "stdout",
     "output_type": "stream",
     "text": [
      "\tTotal Loss (NLL + MDMM): -14989.45\n",
      "\tMDMM Loss:               12724.50\n",
      "\tRemaining Weights:       61.78 %\n"
     ]
    },
    {
     "name": "stderr",
     "output_type": "stream",
     "text": [
      "Epoch 782 [Training]: 100%|██████████| 84/84 [00:06<00:00, 13.30it/s, loss=-14863.48, λc2D1=414.00, λd1=494.74, λd2=599.87, λd3=405.69]\n",
      "Epoch 782 [Validation]: 100%|██████████| 21/21 [00:01<00:00, 15.08it/s, loss=-15502.04]\n"
     ]
    },
    {
     "name": "stdout",
     "output_type": "stream",
     "text": [
      "\tTotal Loss (NLL + MDMM): -14910.98\n",
      "\tMDMM Loss:               12803.36\n",
      "\tRemaining Weights:       61.67 %\n"
     ]
    },
    {
     "name": "stderr",
     "output_type": "stream",
     "text": [
      "Epoch 783 [Training]: 100%|██████████| 84/84 [00:06<00:00, 13.32it/s, loss=-14922.36, λc2D1=414.32, λd1=495.22, λd2=600.39, λd3=406.04]\n",
      "Epoch 783 [Validation]: 100%|██████████| 21/21 [00:01<00:00, 14.72it/s, loss=-15548.16]\n"
     ]
    },
    {
     "name": "stdout",
     "output_type": "stream",
     "text": [
      "\tTotal Loss (NLL + MDMM): -14958.50\n",
      "\tMDMM Loss:               12761.61\n",
      "\tRemaining Weights:       62.00 %\n"
     ]
    },
    {
     "name": "stderr",
     "output_type": "stream",
     "text": [
      "Epoch 784 [Training]: 100%|██████████| 84/84 [00:06<00:00, 13.34it/s, loss=-14933.07, λc2D1=414.64, λd1=495.70, λd2=600.90, λd3=406.39]\n",
      "Epoch 784 [Validation]: 100%|██████████| 21/21 [00:01<00:00, 14.86it/s, loss=-15559.78]\n"
     ]
    },
    {
     "name": "stdout",
     "output_type": "stream",
     "text": [
      "\tTotal Loss (NLL + MDMM): -14971.22\n",
      "\tMDMM Loss:               12751.54\n",
      "\tRemaining Weights:       61.94 %\n"
     ]
    },
    {
     "name": "stderr",
     "output_type": "stream",
     "text": [
      "Epoch 785 [Training]: 100%|██████████| 84/84 [00:06<00:00, 13.39it/s, loss=-14821.86, λc2D1=414.96, λd1=496.19, λd2=601.41, λd3=406.75]\n",
      "Epoch 785 [Validation]: 100%|██████████| 21/21 [00:01<00:00, 15.10it/s, loss=-15539.26]\n"
     ]
    },
    {
     "name": "stdout",
     "output_type": "stream",
     "text": [
      "\tTotal Loss (NLL + MDMM): -14948.77\n",
      "\tMDMM Loss:               12775.74\n",
      "\tRemaining Weights:       62.22 %\n"
     ]
    },
    {
     "name": "stderr",
     "output_type": "stream",
     "text": [
      "Epoch 786 [Training]: 100%|██████████| 84/84 [00:06<00:00, 13.17it/s, loss=-14837.89, λc2D1=415.28, λd1=496.67, λd2=601.93, λd3=407.10]\n",
      "Epoch 786 [Validation]: 100%|██████████| 21/21 [00:01<00:00, 14.64it/s, loss=-15481.57]\n"
     ]
    },
    {
     "name": "stdout",
     "output_type": "stream",
     "text": [
      "\tTotal Loss (NLL + MDMM): -14890.10\n",
      "\tMDMM Loss:               12826.52\n",
      "\tRemaining Weights:       61.83 %\n"
     ]
    },
    {
     "name": "stderr",
     "output_type": "stream",
     "text": [
      "Epoch 787 [Training]: 100%|██████████| 84/84 [00:06<00:00, 13.17it/s, loss=-14903.45, λc2D1=415.60, λd1=497.16, λd2=602.44, λd3=407.45]\n",
      "Epoch 787 [Validation]: 100%|██████████| 21/21 [00:01<00:00, 14.81it/s, loss=-15547.68]\n"
     ]
    },
    {
     "name": "stdout",
     "output_type": "stream",
     "text": [
      "\tTotal Loss (NLL + MDMM): -14958.48\n",
      "\tMDMM Loss:               12761.13\n",
      "\tRemaining Weights:       61.89 %\n"
     ]
    },
    {
     "name": "stderr",
     "output_type": "stream",
     "text": [
      "Epoch 788 [Training]: 100%|██████████| 84/84 [00:06<00:00, 13.41it/s, loss=-14895.49, λc2D1=415.92, λd1=497.64, λd2=602.95, λd3=407.81]\n",
      "Epoch 788 [Validation]: 100%|██████████| 21/21 [00:01<00:00, 14.70it/s, loss=-15536.37]\n"
     ]
    },
    {
     "name": "stdout",
     "output_type": "stream",
     "text": [
      "\tTotal Loss (NLL + MDMM): -14949.90\n",
      "\tMDMM Loss:               12766.29\n",
      "\tRemaining Weights:       61.72 %\n"
     ]
    },
    {
     "name": "stderr",
     "output_type": "stream",
     "text": [
      "Epoch 789 [Training]: 100%|██████████| 84/84 [00:06<00:00, 13.42it/s, loss=-14824.43, λc2D1=416.24, λd1=498.12, λd2=603.46, λd3=408.16]\n",
      "Epoch 789 [Validation]: 100%|██████████| 21/21 [00:01<00:00, 14.76it/s, loss=-15515.58]\n"
     ]
    },
    {
     "name": "stdout",
     "output_type": "stream",
     "text": [
      "\tTotal Loss (NLL + MDMM): -14929.12\n",
      "\tMDMM Loss:               12779.82\n",
      "\tRemaining Weights:       61.72 %\n"
     ]
    },
    {
     "name": "stderr",
     "output_type": "stream",
     "text": [
      "Epoch 790 [Training]: 100%|██████████| 84/84 [00:06<00:00, 13.18it/s, loss=-14827.45, λc2D1=416.56, λd1=498.61, λd2=603.98, λd3=408.51]\n",
      "Epoch 790 [Validation]: 100%|██████████| 21/21 [00:01<00:00, 14.82it/s, loss=-15475.55]\n"
     ]
    },
    {
     "name": "stdout",
     "output_type": "stream",
     "text": [
      "\tTotal Loss (NLL + MDMM): -14888.19\n",
      "\tMDMM Loss:               12837.11\n",
      "\tRemaining Weights:       61.72 %\n"
     ]
    },
    {
     "name": "stderr",
     "output_type": "stream",
     "text": [
      "Epoch 791 [Training]: 100%|██████████| 84/84 [00:06<00:00, 13.25it/s, loss=-14890.39, λc2D1=416.88, λd1=499.09, λd2=604.49, λd3=408.86]\n",
      "Epoch 791 [Validation]: 100%|██████████| 21/21 [00:01<00:00, 14.90it/s, loss=-15523.10]\n"
     ]
    },
    {
     "name": "stdout",
     "output_type": "stream",
     "text": [
      "\tTotal Loss (NLL + MDMM): -14933.44\n",
      "\tMDMM Loss:               12781.46\n",
      "\tRemaining Weights:       61.67 %\n"
     ]
    },
    {
     "name": "stderr",
     "output_type": "stream",
     "text": [
      "Epoch 792 [Training]: 100%|██████████| 84/84 [00:06<00:00, 13.32it/s, loss=-14876.98, λc2D1=417.20, λd1=499.57, λd2=605.00, λd3=409.21]\n",
      "Epoch 792 [Validation]: 100%|██████████| 21/21 [00:01<00:00, 15.03it/s, loss=-15510.71]\n"
     ]
    },
    {
     "name": "stdout",
     "output_type": "stream",
     "text": [
      "\tTotal Loss (NLL + MDMM): -14924.55\n",
      "\tMDMM Loss:               12794.48\n",
      "\tRemaining Weights:       61.83 %\n"
     ]
    },
    {
     "name": "stderr",
     "output_type": "stream",
     "text": [
      "Epoch 793 [Training]: 100%|██████████| 84/84 [00:06<00:00, 13.33it/s, loss=-14868.63, λc2D1=417.52, λd1=500.06, λd2=605.51, λd3=409.56]\n",
      "Epoch 793 [Validation]: 100%|██████████| 21/21 [00:01<00:00, 14.66it/s, loss=-15500.24]\n"
     ]
    },
    {
     "name": "stdout",
     "output_type": "stream",
     "text": [
      "\tTotal Loss (NLL + MDMM): -14913.78\n",
      "\tMDMM Loss:               12805.89\n",
      "\tRemaining Weights:       61.94 %\n"
     ]
    },
    {
     "name": "stderr",
     "output_type": "stream",
     "text": [
      "Epoch 794 [Training]: 100%|██████████| 84/84 [00:06<00:00, 13.48it/s, loss=-14882.54, λc2D1=417.84, λd1=500.54, λd2=606.02, λd3=409.91]\n",
      "Epoch 794 [Validation]: 100%|██████████| 21/21 [00:01<00:00, 14.70it/s, loss=-15534.75]\n"
     ]
    },
    {
     "name": "stdout",
     "output_type": "stream",
     "text": [
      "\tTotal Loss (NLL + MDMM): -14950.01\n",
      "\tMDMM Loss:               12771.43\n",
      "\tRemaining Weights:       61.61 %\n"
     ]
    },
    {
     "name": "stderr",
     "output_type": "stream",
     "text": [
      "Epoch 795 [Training]: 100%|██████████| 84/84 [00:06<00:00, 13.14it/s, loss=-14816.40, λc2D1=418.16, λd1=501.02, λd2=606.53, λd3=410.26]\n",
      "Epoch 795 [Validation]: 100%|██████████| 21/21 [00:01<00:00, 14.79it/s, loss=-15450.60]\n"
     ]
    },
    {
     "name": "stdout",
     "output_type": "stream",
     "text": [
      "\tTotal Loss (NLL + MDMM): -14864.67\n",
      "\tMDMM Loss:               12853.95\n",
      "\tRemaining Weights:       61.61 %\n"
     ]
    },
    {
     "name": "stderr",
     "output_type": "stream",
     "text": [
      "Epoch 796 [Training]: 100%|██████████| 84/84 [00:06<00:00, 13.52it/s, loss=-14805.70, λc2D1=418.48, λd1=501.51, λd2=607.03, λd3=410.61]\n",
      "Epoch 796 [Validation]: 100%|██████████| 21/21 [00:01<00:00, 14.84it/s, loss=-15431.10]\n"
     ]
    },
    {
     "name": "stdout",
     "output_type": "stream",
     "text": [
      "\tTotal Loss (NLL + MDMM): -14843.92\n",
      "\tMDMM Loss:               12874.38\n",
      "\tRemaining Weights:       61.89 %\n"
     ]
    },
    {
     "name": "stderr",
     "output_type": "stream",
     "text": [
      "Epoch 797 [Training]: 100%|██████████| 84/84 [00:06<00:00, 13.33it/s, loss=-14863.71, λc2D1=418.80, λd1=501.99, λd2=607.54, λd3=410.96]\n",
      "Epoch 797 [Validation]: 100%|██████████| 21/21 [00:01<00:00, 14.49it/s, loss=-15504.36]\n"
     ]
    },
    {
     "name": "stdout",
     "output_type": "stream",
     "text": [
      "\tTotal Loss (NLL + MDMM): -14920.53\n",
      "\tMDMM Loss:               12802.98\n",
      "\tRemaining Weights:       61.83 %\n"
     ]
    },
    {
     "name": "stderr",
     "output_type": "stream",
     "text": [
      "Epoch 798 [Training]: 100%|██████████| 84/84 [00:06<00:00, 13.39it/s, loss=-14850.52, λc2D1=419.12, λd1=502.47, λd2=608.05, λd3=411.31]\n",
      "Epoch 798 [Validation]: 100%|██████████| 21/21 [00:01<00:00, 15.02it/s, loss=-15495.08]\n"
     ]
    },
    {
     "name": "stdout",
     "output_type": "stream",
     "text": [
      "\tTotal Loss (NLL + MDMM): -14909.53\n",
      "\tMDMM Loss:               12816.01\n",
      "\tRemaining Weights:       61.94 %\n"
     ]
    },
    {
     "name": "stderr",
     "output_type": "stream",
     "text": [
      "Epoch 799 [Training]: 100%|██████████| 84/84 [00:06<00:00, 13.18it/s, loss=-14871.96, λc2D1=419.44, λd1=502.96, λd2=608.55, λd3=411.65]\n",
      "Epoch 799 [Validation]: 100%|██████████| 21/21 [00:01<00:00, 14.48it/s, loss=-15498.49]\n"
     ]
    },
    {
     "name": "stdout",
     "output_type": "stream",
     "text": [
      "\tTotal Loss (NLL + MDMM): -14915.22\n",
      "\tMDMM Loss:               12789.22\n",
      "\tRemaining Weights:       61.33 %\n"
     ]
    },
    {
     "name": "stderr",
     "output_type": "stream",
     "text": [
      "Epoch 800 [Training]: 100%|██████████| 84/84 [00:06<00:00, 13.42it/s, loss=-14842.49, λc2D1=419.76, λd1=503.44, λd2=609.06, λd3=412.00]\n",
      "Epoch 800 [Validation]: 100%|██████████| 21/21 [00:01<00:00, 14.87it/s, loss=-15487.90]\n"
     ]
    },
    {
     "name": "stdout",
     "output_type": "stream",
     "text": [
      "\tTotal Loss (NLL + MDMM): -14904.39\n",
      "\tMDMM Loss:               12800.31\n",
      "\tRemaining Weights:       61.39 %\n"
     ]
    },
    {
     "name": "stderr",
     "output_type": "stream",
     "text": [
      "Epoch 801 [Training]: 100%|██████████| 84/84 [00:06<00:00, 13.49it/s, loss=-14865.45, λc2D1=420.09, λd1=503.92, λd2=609.56, λd3=412.35]\n",
      "Epoch 801 [Validation]: 100%|██████████| 21/21 [00:01<00:00, 14.58it/s, loss=-15490.68]\n"
     ]
    },
    {
     "name": "stdout",
     "output_type": "stream",
     "text": [
      "\tTotal Loss (NLL + MDMM): -14904.91\n",
      "\tMDMM Loss:               12821.77\n",
      "\tRemaining Weights:       61.50 %\n"
     ]
    },
    {
     "name": "stderr",
     "output_type": "stream",
     "text": [
      "Epoch 802 [Training]: 100%|██████████| 84/84 [00:06<00:00, 13.57it/s, loss=-14859.18, λc2D1=420.41, λd1=504.40, λd2=610.07, λd3=412.69]\n",
      "Epoch 802 [Validation]: 100%|██████████| 21/21 [00:01<00:00, 14.61it/s, loss=-15496.28]\n"
     ]
    },
    {
     "name": "stdout",
     "output_type": "stream",
     "text": [
      "\tTotal Loss (NLL + MDMM): -14911.69\n",
      "\tMDMM Loss:               12811.62\n",
      "\tRemaining Weights:       61.39 %\n"
     ]
    },
    {
     "name": "stderr",
     "output_type": "stream",
     "text": [
      "Epoch 803 [Training]: 100%|██████████| 84/84 [00:06<00:00, 13.28it/s, loss=-14841.99, λc2D1=420.73, λd1=504.88, λd2=610.57, λd3=413.04]\n",
      "Epoch 803 [Validation]: 100%|██████████| 21/21 [00:01<00:00, 14.93it/s, loss=-15478.56]\n"
     ]
    },
    {
     "name": "stdout",
     "output_type": "stream",
     "text": [
      "\tTotal Loss (NLL + MDMM): -14893.30\n",
      "\tMDMM Loss:               12826.84\n",
      "\tRemaining Weights:       61.61 %\n"
     ]
    },
    {
     "name": "stderr",
     "output_type": "stream",
     "text": [
      "Epoch 804 [Training]: 100%|██████████| 84/84 [00:06<00:00, 13.50it/s, loss=-14822.55, λc2D1=421.06, λd1=505.37, λd2=611.07, λd3=413.39]\n",
      "Epoch 804 [Validation]: 100%|██████████| 21/21 [00:01<00:00, 15.14it/s, loss=-15450.04]\n"
     ]
    },
    {
     "name": "stdout",
     "output_type": "stream",
     "text": [
      "\tTotal Loss (NLL + MDMM): -14869.71\n",
      "\tMDMM Loss:               12855.17\n",
      "\tRemaining Weights:       61.94 %\n"
     ]
    },
    {
     "name": "stderr",
     "output_type": "stream",
     "text": [
      "Epoch 805 [Training]: 100%|██████████| 84/84 [00:06<00:00, 13.45it/s, loss=-14802.48, λc2D1=421.38, λd1=505.85, λd2=611.58, λd3=413.74]\n",
      "Epoch 805 [Validation]: 100%|██████████| 21/21 [00:01<00:00, 14.86it/s, loss=-15467.61]\n"
     ]
    },
    {
     "name": "stdout",
     "output_type": "stream",
     "text": [
      "\tTotal Loss (NLL + MDMM): -14887.34\n",
      "\tMDMM Loss:               12830.61\n",
      "\tRemaining Weights:       61.50 %\n"
     ]
    },
    {
     "name": "stderr",
     "output_type": "stream",
     "text": [
      "Epoch 806 [Training]: 100%|██████████| 84/84 [00:06<00:00, 13.53it/s, loss=-14749.16, λc2D1=421.71, λd1=506.33, λd2=612.07, λd3=414.08]\n",
      "Epoch 806 [Validation]: 100%|██████████| 21/21 [00:01<00:00, 15.02it/s, loss=-15459.12]\n"
     ]
    },
    {
     "name": "stdout",
     "output_type": "stream",
     "text": [
      "\tTotal Loss (NLL + MDMM): -14878.61\n",
      "\tMDMM Loss:               12845.81\n",
      "\tRemaining Weights:       61.83 %\n"
     ]
    },
    {
     "name": "stderr",
     "output_type": "stream",
     "text": [
      "Epoch 807 [Training]: 100%|██████████| 84/84 [00:06<00:00, 13.49it/s, loss=-14828.52, λc2D1=422.03, λd1=506.82, λd2=612.57, λd3=414.43]\n",
      "Epoch 807 [Validation]: 100%|██████████| 21/21 [00:01<00:00, 14.71it/s, loss=-15477.19]\n"
     ]
    },
    {
     "name": "stdout",
     "output_type": "stream",
     "text": [
      "\tTotal Loss (NLL + MDMM): -14895.77\n",
      "\tMDMM Loss:               12832.26\n",
      "\tRemaining Weights:       61.39 %\n"
     ]
    },
    {
     "name": "stderr",
     "output_type": "stream",
     "text": [
      "Epoch 808 [Training]: 100%|██████████| 84/84 [00:06<00:00, 13.41it/s, loss=-14805.99, λc2D1=422.35, λd1=507.30, λd2=613.07, λd3=414.78]\n",
      "Epoch 808 [Validation]: 100%|██████████| 21/21 [00:01<00:00, 14.98it/s, loss=-15427.78]\n"
     ]
    },
    {
     "name": "stdout",
     "output_type": "stream",
     "text": [
      "\tTotal Loss (NLL + MDMM): -14846.08\n",
      "\tMDMM Loss:               12876.33\n",
      "\tRemaining Weights:       62.05 %\n"
     ]
    },
    {
     "name": "stderr",
     "output_type": "stream",
     "text": [
      "Epoch 809 [Training]: 100%|██████████| 84/84 [00:06<00:00, 13.42it/s, loss=-14822.27, λc2D1=422.68, λd1=507.78, λd2=613.57, λd3=415.13]\n",
      "Epoch 809 [Validation]: 100%|██████████| 21/21 [00:01<00:00, 15.02it/s, loss=-15451.24]\n"
     ]
    },
    {
     "name": "stdout",
     "output_type": "stream",
     "text": [
      "\tTotal Loss (NLL + MDMM): -14869.57\n",
      "\tMDMM Loss:               12860.90\n",
      "\tRemaining Weights:       61.78 %\n"
     ]
    },
    {
     "name": "stderr",
     "output_type": "stream",
     "text": [
      "Epoch 810 [Training]: 100%|██████████| 84/84 [00:06<00:00, 13.39it/s, loss=-14830.62, λc2D1=423.00, λd1=508.26, λd2=614.07, λd3=415.48]\n",
      "Epoch 810 [Validation]: 100%|██████████| 21/21 [00:01<00:00, 15.14it/s, loss=-15455.11]\n"
     ]
    },
    {
     "name": "stdout",
     "output_type": "stream",
     "text": [
      "\tTotal Loss (NLL + MDMM): -14872.47\n",
      "\tMDMM Loss:               12856.86\n",
      "\tRemaining Weights:       61.28 %\n"
     ]
    },
    {
     "name": "stderr",
     "output_type": "stream",
     "text": [
      "Epoch 811 [Training]: 100%|██████████| 84/84 [00:06<00:00, 13.56it/s, loss=-14816.00, λc2D1=423.32, λd1=508.74, λd2=614.57, λd3=415.82]\n",
      "Epoch 811 [Validation]: 100%|██████████| 21/21 [00:01<00:00, 15.04it/s, loss=-15452.35]\n"
     ]
    },
    {
     "name": "stdout",
     "output_type": "stream",
     "text": [
      "\tTotal Loss (NLL + MDMM): -14867.76\n",
      "\tMDMM Loss:               12855.30\n",
      "\tRemaining Weights:       61.00 %\n"
     ]
    },
    {
     "name": "stderr",
     "output_type": "stream",
     "text": [
      "Epoch 812 [Training]: 100%|██████████| 84/84 [00:06<00:00, 13.47it/s, loss=-14850.70, λc2D1=423.65, λd1=509.21, λd2=615.07, λd3=416.17]\n",
      "Epoch 812 [Validation]: 100%|██████████| 21/21 [00:01<00:00, 14.71it/s, loss=-15470.54]\n"
     ]
    },
    {
     "name": "stdout",
     "output_type": "stream",
     "text": [
      "\tTotal Loss (NLL + MDMM): -14885.56\n",
      "\tMDMM Loss:               12846.60\n",
      "\tRemaining Weights:       61.17 %\n"
     ]
    },
    {
     "name": "stderr",
     "output_type": "stream",
     "text": [
      "Epoch 813 [Training]: 100%|██████████| 84/84 [00:06<00:00, 13.29it/s, loss=-14840.53, λc2D1=423.97, λd1=509.69, λd2=615.57, λd3=416.52]\n",
      "Epoch 813 [Validation]: 100%|██████████| 21/21 [00:01<00:00, 14.67it/s, loss=-15497.06]\n"
     ]
    },
    {
     "name": "stdout",
     "output_type": "stream",
     "text": [
      "\tTotal Loss (NLL + MDMM): -14914.82\n",
      "\tMDMM Loss:               12818.67\n",
      "\tRemaining Weights:       60.78 %\n"
     ]
    },
    {
     "name": "stderr",
     "output_type": "stream",
     "text": [
      "Epoch 814 [Training]: 100%|██████████| 84/84 [00:06<00:00, 13.57it/s, loss=-14842.28, λc2D1=424.29, λd1=510.17, λd2=616.06, λd3=416.86]\n",
      "Epoch 814 [Validation]: 100%|██████████| 21/21 [00:01<00:00, 15.04it/s, loss=-15465.67]\n"
     ]
    },
    {
     "name": "stdout",
     "output_type": "stream",
     "text": [
      "\tTotal Loss (NLL + MDMM): -14884.23\n",
      "\tMDMM Loss:               12839.10\n",
      "\tRemaining Weights:       60.73 %\n"
     ]
    },
    {
     "name": "stderr",
     "output_type": "stream",
     "text": [
      "Epoch 815 [Training]: 100%|██████████| 84/84 [00:06<00:00, 13.44it/s, loss=-14850.61, λc2D1=424.62, λd1=510.64, λd2=616.55, λd3=417.21]\n",
      "Epoch 815 [Validation]: 100%|██████████| 21/21 [00:01<00:00, 15.07it/s, loss=-15482.32]\n"
     ]
    },
    {
     "name": "stdout",
     "output_type": "stream",
     "text": [
      "\tTotal Loss (NLL + MDMM): -14899.13\n",
      "\tMDMM Loss:               12833.65\n",
      "\tRemaining Weights:       60.56 %\n"
     ]
    },
    {
     "name": "stderr",
     "output_type": "stream",
     "text": [
      "Epoch 816 [Training]: 100%|██████████| 84/84 [00:06<00:00, 13.46it/s, loss=-14808.26, λc2D1=424.94, λd1=511.11, λd2=617.05, λd3=417.55]\n",
      "Epoch 816 [Validation]: 100%|██████████| 21/21 [00:01<00:00, 15.04it/s, loss=-15477.01]\n"
     ]
    },
    {
     "name": "stdout",
     "output_type": "stream",
     "text": [
      "\tTotal Loss (NLL + MDMM): -14894.44\n",
      "\tMDMM Loss:               12839.60\n",
      "\tRemaining Weights:       60.56 %\n"
     ]
    },
    {
     "name": "stderr",
     "output_type": "stream",
     "text": [
      "Epoch 817 [Training]: 100%|██████████| 84/84 [00:06<00:00, 13.42it/s, loss=-14734.47, λc2D1=425.27, λd1=511.59, λd2=617.54, λd3=417.90]\n",
      "Epoch 817 [Validation]: 100%|██████████| 21/21 [00:01<00:00, 14.93it/s, loss=-15384.87]\n"
     ]
    },
    {
     "name": "stdout",
     "output_type": "stream",
     "text": [
      "\tTotal Loss (NLL + MDMM): -14807.33\n",
      "\tMDMM Loss:               12922.82\n",
      "\tRemaining Weights:       60.67 %\n"
     ]
    },
    {
     "name": "stderr",
     "output_type": "stream",
     "text": [
      "Epoch 818 [Training]: 100%|██████████| 84/84 [00:06<00:00, 13.48it/s, loss=-14738.13, λc2D1=425.59, λd1=512.06, λd2=618.04, λd3=418.24]\n",
      "Epoch 818 [Validation]: 100%|██████████| 21/21 [00:01<00:00, 14.80it/s, loss=-15394.82]\n"
     ]
    },
    {
     "name": "stdout",
     "output_type": "stream",
     "text": [
      "\tTotal Loss (NLL + MDMM): -14811.57\n",
      "\tMDMM Loss:               12926.33\n",
      "\tRemaining Weights:       60.67 %\n"
     ]
    },
    {
     "name": "stderr",
     "output_type": "stream",
     "text": [
      "Epoch 819 [Training]: 100%|██████████| 84/84 [00:06<00:00, 13.54it/s, loss=-14790.37, λc2D1=425.91, λd1=512.54, λd2=618.54, λd3=418.59]\n",
      "Epoch 819 [Validation]: 100%|██████████| 21/21 [00:01<00:00, 14.95it/s, loss=-15422.11]\n"
     ]
    },
    {
     "name": "stdout",
     "output_type": "stream",
     "text": [
      "\tTotal Loss (NLL + MDMM): -14840.47\n",
      "\tMDMM Loss:               12892.11\n",
      "\tRemaining Weights:       61.00 %\n"
     ]
    },
    {
     "name": "stderr",
     "output_type": "stream",
     "text": [
      "Epoch 820 [Training]: 100%|██████████| 84/84 [00:06<00:00, 13.60it/s, loss=-14776.32, λc2D1=426.24, λd1=513.01, λd2=619.03, λd3=418.93]\n",
      "Epoch 820 [Validation]: 100%|██████████| 21/21 [00:01<00:00, 15.12it/s, loss=-15415.77]\n"
     ]
    },
    {
     "name": "stdout",
     "output_type": "stream",
     "text": [
      "\tTotal Loss (NLL + MDMM): -14835.14\n",
      "\tMDMM Loss:               12898.94\n",
      "\tRemaining Weights:       60.89 %\n"
     ]
    },
    {
     "name": "stderr",
     "output_type": "stream",
     "text": [
      "Epoch 821 [Training]: 100%|██████████| 84/84 [00:06<00:00, 13.52it/s, loss=-14771.79, λc2D1=426.56, λd1=513.49, λd2=619.53, λd3=419.27]\n",
      "Epoch 821 [Validation]: 100%|██████████| 21/21 [00:01<00:00, 14.98it/s, loss=-15413.23]\n"
     ]
    },
    {
     "name": "stdout",
     "output_type": "stream",
     "text": [
      "\tTotal Loss (NLL + MDMM): -14832.50\n",
      "\tMDMM Loss:               12901.37\n",
      "\tRemaining Weights:       60.73 %\n"
     ]
    },
    {
     "name": "stderr",
     "output_type": "stream",
     "text": [
      "Epoch 822 [Training]: 100%|██████████| 84/84 [00:06<00:00, 13.38it/s, loss=-14759.62, λc2D1=426.88, λd1=513.96, λd2=620.03, λd3=419.61]\n",
      "Epoch 822 [Validation]: 100%|██████████| 21/21 [00:01<00:00, 14.72it/s, loss=-15392.70]\n"
     ]
    },
    {
     "name": "stdout",
     "output_type": "stream",
     "text": [
      "\tTotal Loss (NLL + MDMM): -14811.98\n",
      "\tMDMM Loss:               12922.70\n",
      "\tRemaining Weights:       61.00 %\n"
     ]
    },
    {
     "name": "stderr",
     "output_type": "stream",
     "text": [
      "Epoch 823 [Training]: 100%|██████████| 84/84 [00:06<00:00, 13.60it/s, loss=-14775.99, λc2D1=427.21, λd1=514.44, λd2=620.53, λd3=419.96]\n",
      "Epoch 823 [Validation]: 100%|██████████| 21/21 [00:01<00:00, 15.02it/s, loss=-15408.66]\n"
     ]
    },
    {
     "name": "stdout",
     "output_type": "stream",
     "text": [
      "\tTotal Loss (NLL + MDMM): -14829.49\n",
      "\tMDMM Loss:               12900.44\n",
      "\tRemaining Weights:       60.73 %\n"
     ]
    },
    {
     "name": "stderr",
     "output_type": "stream",
     "text": [
      "Epoch 824 [Training]: 100%|██████████| 84/84 [00:06<00:00, 13.19it/s, loss=-14764.19, λc2D1=427.54, λd1=514.91, λd2=621.03, λd3=420.30]\n",
      "Epoch 824 [Validation]: 100%|██████████| 21/21 [00:01<00:00, 14.90it/s, loss=-15404.22]\n"
     ]
    },
    {
     "name": "stdout",
     "output_type": "stream",
     "text": [
      "\tTotal Loss (NLL + MDMM): -14825.54\n",
      "\tMDMM Loss:               12905.75\n",
      "\tRemaining Weights:       60.67 %\n"
     ]
    },
    {
     "name": "stderr",
     "output_type": "stream",
     "text": [
      "Epoch 825 [Training]: 100%|██████████| 84/84 [00:06<00:00, 13.47it/s, loss=-14711.27, λc2D1=427.86, λd1=515.39, λd2=621.52, λd3=420.64]\n",
      "Epoch 825 [Validation]: 100%|██████████| 21/21 [00:01<00:00, 14.93it/s, loss=-15357.96]\n"
     ]
    },
    {
     "name": "stdout",
     "output_type": "stream",
     "text": [
      "\tTotal Loss (NLL + MDMM): -14778.03\n",
      "\tMDMM Loss:               12953.43\n",
      "\tRemaining Weights:       60.45 %\n"
     ]
    },
    {
     "name": "stderr",
     "output_type": "stream",
     "text": [
      "Epoch 826 [Training]: 100%|██████████| 84/84 [00:06<00:00, 13.57it/s, loss=-14712.02, λc2D1=428.19, λd1=515.86, λd2=622.02, λd3=420.98]\n",
      "Epoch 826 [Validation]: 100%|██████████| 21/21 [00:01<00:00, 14.78it/s, loss=-15411.56]\n"
     ]
    },
    {
     "name": "stdout",
     "output_type": "stream",
     "text": [
      "\tTotal Loss (NLL + MDMM): -14832.86\n",
      "\tMDMM Loss:               12903.72\n",
      "\tRemaining Weights:       60.62 %\n"
     ]
    },
    {
     "name": "stderr",
     "output_type": "stream",
     "text": [
      "Epoch 827 [Training]: 100%|██████████| 84/84 [00:06<00:00, 13.46it/s, loss=-14778.32, λc2D1=428.52, λd1=516.33, λd2=622.51, λd3=421.32]\n",
      "Epoch 827 [Validation]: 100%|██████████| 21/21 [00:01<00:00, 14.72it/s, loss=-15412.48]\n"
     ]
    },
    {
     "name": "stdout",
     "output_type": "stream",
     "text": [
      "\tTotal Loss (NLL + MDMM): -14833.92\n",
      "\tMDMM Loss:               12899.93\n",
      "\tRemaining Weights:       60.51 %\n"
     ]
    },
    {
     "name": "stderr",
     "output_type": "stream",
     "text": [
      "Epoch 828 [Training]: 100%|██████████| 84/84 [00:06<00:00, 13.43it/s, loss=-14768.33, λc2D1=428.84, λd1=516.80, λd2=623.00, λd3=421.67]\n",
      "Epoch 828 [Validation]: 100%|██████████| 21/21 [00:01<00:00, 14.59it/s, loss=-15408.62]\n"
     ]
    },
    {
     "name": "stdout",
     "output_type": "stream",
     "text": [
      "\tTotal Loss (NLL + MDMM): -14829.69\n",
      "\tMDMM Loss:               12908.38\n",
      "\tRemaining Weights:       60.34 %\n"
     ]
    },
    {
     "name": "stderr",
     "output_type": "stream",
     "text": [
      "Epoch 829 [Training]: 100%|██████████| 84/84 [00:06<00:00, 13.33it/s, loss=-14767.35, λc2D1=429.17, λd1=517.28, λd2=623.50, λd3=422.01]\n",
      "Epoch 829 [Validation]: 100%|██████████| 21/21 [00:01<00:00, 14.82it/s, loss=-15435.01]\n"
     ]
    },
    {
     "name": "stdout",
     "output_type": "stream",
     "text": [
      "\tTotal Loss (NLL + MDMM): -14854.53\n",
      "\tMDMM Loss:               12885.15\n",
      "\tRemaining Weights:       60.23 %\n"
     ]
    },
    {
     "name": "stderr",
     "output_type": "stream",
     "text": [
      "Epoch 830 [Training]: 100%|██████████| 84/84 [00:06<00:00, 13.47it/s, loss=-14690.07, λc2D1=429.50, λd1=517.75, λd2=623.99, λd3=422.35]\n",
      "Epoch 830 [Validation]: 100%|██████████| 21/21 [00:01<00:00, 15.11it/s, loss=-15343.22]\n"
     ]
    },
    {
     "name": "stdout",
     "output_type": "stream",
     "text": [
      "\tTotal Loss (NLL + MDMM): -14766.41\n",
      "\tMDMM Loss:               12974.74\n",
      "\tRemaining Weights:       60.51 %\n"
     ]
    },
    {
     "name": "stderr",
     "output_type": "stream",
     "text": [
      "Epoch 831 [Training]: 100%|██████████| 84/84 [00:06<00:00, 13.52it/s, loss=-14760.66, λc2D1=429.82, λd1=518.22, λd2=624.48, λd3=422.69]\n",
      "Epoch 831 [Validation]: 100%|██████████| 21/21 [00:01<00:00, 14.95it/s, loss=-15397.60]\n"
     ]
    },
    {
     "name": "stdout",
     "output_type": "stream",
     "text": [
      "\tTotal Loss (NLL + MDMM): -14821.49\n",
      "\tMDMM Loss:               12912.74\n",
      "\tRemaining Weights:       60.45 %\n"
     ]
    },
    {
     "name": "stderr",
     "output_type": "stream",
     "text": [
      "Epoch 832 [Training]: 100%|██████████| 84/84 [00:06<00:00, 13.24it/s, loss=-14745.12, λc2D1=430.15, λd1=518.69, λd2=624.97, λd3=423.03]\n",
      "Epoch 832 [Validation]: 100%|██████████| 21/21 [00:01<00:00, 14.70it/s, loss=-15385.42]\n"
     ]
    },
    {
     "name": "stdout",
     "output_type": "stream",
     "text": [
      "\tTotal Loss (NLL + MDMM): -14808.36\n",
      "\tMDMM Loss:               12925.19\n",
      "\tRemaining Weights:       60.51 %\n"
     ]
    },
    {
     "name": "stderr",
     "output_type": "stream",
     "text": [
      "Epoch 833 [Training]: 100%|██████████| 84/84 [00:06<00:00, 13.46it/s, loss=-14684.84, λc2D1=430.48, λd1=519.17, λd2=625.46, λd3=423.37]\n",
      "Epoch 833 [Validation]: 100%|██████████| 21/21 [00:01<00:00, 14.90it/s, loss=-15339.08]\n"
     ]
    },
    {
     "name": "stdout",
     "output_type": "stream",
     "text": [
      "\tTotal Loss (NLL + MDMM): -14758.46\n",
      "\tMDMM Loss:               12984.62\n",
      "\tRemaining Weights:       60.23 %\n"
     ]
    },
    {
     "name": "stderr",
     "output_type": "stream",
     "text": [
      "Epoch 834 [Training]: 100%|██████████| 84/84 [00:06<00:00, 13.52it/s, loss=-14762.80, λc2D1=430.80, λd1=519.64, λd2=625.95, λd3=423.71]\n",
      "Epoch 834 [Validation]: 100%|██████████| 21/21 [00:01<00:00, 14.84it/s, loss=-15393.26]\n"
     ]
    },
    {
     "name": "stdout",
     "output_type": "stream",
     "text": [
      "\tTotal Loss (NLL + MDMM): -14815.61\n",
      "\tMDMM Loss:               12922.97\n",
      "\tRemaining Weights:       60.29 %\n"
     ]
    },
    {
     "name": "stderr",
     "output_type": "stream",
     "text": [
      "Epoch 835 [Training]: 100%|██████████| 84/84 [00:06<00:00, 13.64it/s, loss=-14749.99, λc2D1=431.13, λd1=520.11, λd2=626.44, λd3=424.06]\n",
      "Epoch 835 [Validation]: 100%|██████████| 21/21 [00:01<00:00, 14.76it/s, loss=-15371.06]\n"
     ]
    },
    {
     "name": "stdout",
     "output_type": "stream",
     "text": [
      "\tTotal Loss (NLL + MDMM): -14794.49\n",
      "\tMDMM Loss:               12945.49\n",
      "\tRemaining Weights:       60.51 %\n"
     ]
    },
    {
     "name": "stderr",
     "output_type": "stream",
     "text": [
      "Epoch 836 [Training]: 100%|██████████| 84/84 [00:06<00:00, 13.48it/s, loss=-14726.93, λc2D1=431.46, λd1=520.58, λd2=626.93, λd3=424.40]\n",
      "Epoch 836 [Validation]: 100%|██████████| 21/21 [00:01<00:00, 15.04it/s, loss=-15359.12]\n"
     ]
    },
    {
     "name": "stdout",
     "output_type": "stream",
     "text": [
      "\tTotal Loss (NLL + MDMM): -14781.57\n",
      "\tMDMM Loss:               12957.40\n",
      "\tRemaining Weights:       60.62 %\n"
     ]
    },
    {
     "name": "stderr",
     "output_type": "stream",
     "text": [
      "Epoch 837 [Training]: 100%|██████████| 84/84 [00:06<00:00, 13.36it/s, loss=-14646.98, λc2D1=431.79, λd1=521.05, λd2=627.42, λd3=424.74]\n",
      "Epoch 837 [Validation]: 100%|██████████| 21/21 [00:01<00:00, 14.81it/s, loss=-15374.90]\n"
     ]
    },
    {
     "name": "stdout",
     "output_type": "stream",
     "text": [
      "\tTotal Loss (NLL + MDMM): -14799.84\n",
      "\tMDMM Loss:               12944.83\n",
      "\tRemaining Weights:       60.40 %\n"
     ]
    },
    {
     "name": "stderr",
     "output_type": "stream",
     "text": [
      "Epoch 838 [Training]: 100%|██████████| 84/84 [00:06<00:00, 13.46it/s, loss=-14726.93, λc2D1=432.11, λd1=521.52, λd2=627.90, λd3=425.08]\n",
      "Epoch 838 [Validation]: 100%|██████████| 21/21 [00:01<00:00, 14.83it/s, loss=-15366.33]\n"
     ]
    },
    {
     "name": "stdout",
     "output_type": "stream",
     "text": [
      "\tTotal Loss (NLL + MDMM): -14791.53\n",
      "\tMDMM Loss:               12949.23\n",
      "\tRemaining Weights:       60.34 %\n"
     ]
    },
    {
     "name": "stderr",
     "output_type": "stream",
     "text": [
      "Epoch 839 [Training]: 100%|██████████| 84/84 [00:06<00:00, 13.44it/s, loss=-14640.01, λc2D1=432.44, λd1=521.99, λd2=628.39, λd3=425.42]\n",
      "Epoch 839 [Validation]: 100%|██████████| 21/21 [00:01<00:00, 14.64it/s, loss=-15365.43]\n"
     ]
    },
    {
     "name": "stdout",
     "output_type": "stream",
     "text": [
      "\tTotal Loss (NLL + MDMM): -14787.26\n",
      "\tMDMM Loss:               12950.72\n",
      "\tRemaining Weights:       60.23 %\n"
     ]
    },
    {
     "name": "stderr",
     "output_type": "stream",
     "text": [
      "Epoch 840 [Training]: 100%|██████████| 84/84 [00:06<00:00, 13.56it/s, loss=-14723.92, λc2D1=432.77, λd1=522.46, λd2=628.88, λd3=425.75]\n",
      "Epoch 840 [Validation]: 100%|██████████| 21/21 [00:01<00:00, 15.17it/s, loss=-15373.77]\n"
     ]
    },
    {
     "name": "stdout",
     "output_type": "stream",
     "text": [
      "\tTotal Loss (NLL + MDMM): -14795.79\n",
      "\tMDMM Loss:               12950.37\n",
      "\tRemaining Weights:       60.07 %\n"
     ]
    },
    {
     "name": "stderr",
     "output_type": "stream",
     "text": [
      "Epoch 841 [Training]: 100%|██████████| 84/84 [00:06<00:00, 13.43it/s, loss=-14721.98, λc2D1=433.09, λd1=522.93, λd2=629.38, λd3=426.09]\n",
      "Epoch 841 [Validation]: 100%|██████████| 21/21 [00:01<00:00, 14.72it/s, loss=-15347.99]\n"
     ]
    },
    {
     "name": "stdout",
     "output_type": "stream",
     "text": [
      "\tTotal Loss (NLL + MDMM): -14772.12\n",
      "\tMDMM Loss:               12970.97\n",
      "\tRemaining Weights:       60.12 %\n"
     ]
    },
    {
     "name": "stderr",
     "output_type": "stream",
     "text": [
      "Epoch 842 [Training]: 100%|██████████| 84/84 [00:06<00:00, 13.43it/s, loss=-14617.46, λc2D1=433.42, λd1=523.40, λd2=629.87, λd3=426.43]\n",
      "Epoch 842 [Validation]: 100%|██████████| 21/21 [00:01<00:00, 14.91it/s, loss=-15252.27]\n"
     ]
    },
    {
     "name": "stdout",
     "output_type": "stream",
     "text": [
      "\tTotal Loss (NLL + MDMM): -14675.06\n",
      "\tMDMM Loss:               13061.04\n",
      "\tRemaining Weights:       60.34 %\n"
     ]
    },
    {
     "name": "stderr",
     "output_type": "stream",
     "text": [
      "Epoch 843 [Training]: 100%|██████████| 84/84 [00:06<00:00, 13.41it/s, loss=-14700.89, λc2D1=433.75, λd1=523.87, λd2=630.36, λd3=426.77]\n",
      "Epoch 843 [Validation]: 100%|██████████| 21/21 [00:01<00:00, 14.63it/s, loss=-15325.45]\n"
     ]
    },
    {
     "name": "stdout",
     "output_type": "stream",
     "text": [
      "\tTotal Loss (NLL + MDMM): -14750.66\n",
      "\tMDMM Loss:               12989.09\n",
      "\tRemaining Weights:       60.23 %\n"
     ]
    },
    {
     "name": "stderr",
     "output_type": "stream",
     "text": [
      "Epoch 844 [Training]: 100%|██████████| 84/84 [00:06<00:00, 13.32it/s, loss=-14702.93, λc2D1=434.07, λd1=524.34, λd2=630.84, λd3=427.11]\n",
      "Epoch 844 [Validation]: 100%|██████████| 21/21 [00:01<00:00, 14.85it/s, loss=-15332.04]\n"
     ]
    },
    {
     "name": "stdout",
     "output_type": "stream",
     "text": [
      "\tTotal Loss (NLL + MDMM): -14753.49\n",
      "\tMDMM Loss:               12990.10\n",
      "\tRemaining Weights:       60.12 %\n"
     ]
    },
    {
     "name": "stderr",
     "output_type": "stream",
     "text": [
      "Epoch 845 [Training]: 100%|██████████| 84/84 [00:06<00:00, 13.38it/s, loss=-14616.18, λc2D1=434.40, λd1=524.81, λd2=631.33, λd3=427.44]\n",
      "Epoch 845 [Validation]: 100%|██████████| 21/21 [00:01<00:00, 14.44it/s, loss=-15248.33]\n"
     ]
    },
    {
     "name": "stdout",
     "output_type": "stream",
     "text": [
      "\tTotal Loss (NLL + MDMM): -14672.95\n",
      "\tMDMM Loss:               13072.59\n",
      "\tRemaining Weights:       60.23 %\n"
     ]
    },
    {
     "name": "stderr",
     "output_type": "stream",
     "text": [
      "Epoch 846 [Training]: 100%|██████████| 84/84 [00:06<00:00, 13.30it/s, loss=-14702.63, λc2D1=434.73, λd1=525.28, λd2=631.82, λd3=427.78]\n",
      "Epoch 846 [Validation]: 100%|██████████| 21/21 [00:01<00:00, 14.46it/s, loss=-15333.71]\n"
     ]
    },
    {
     "name": "stdout",
     "output_type": "stream",
     "text": [
      "\tTotal Loss (NLL + MDMM): -14756.68\n",
      "\tMDMM Loss:               12991.18\n",
      "\tRemaining Weights:       59.85 %\n"
     ]
    },
    {
     "name": "stderr",
     "output_type": "stream",
     "text": [
      "Epoch 847 [Training]: 100%|██████████| 84/84 [00:06<00:00, 13.54it/s, loss=-14707.52, λc2D1=435.06, λd1=525.75, λd2=632.31, λd3=428.12]\n",
      "Epoch 847 [Validation]: 100%|██████████| 21/21 [00:01<00:00, 14.86it/s, loss=-15322.53]\n"
     ]
    },
    {
     "name": "stdout",
     "output_type": "stream",
     "text": [
      "\tTotal Loss (NLL + MDMM): -14747.47\n",
      "\tMDMM Loss:               12995.18\n",
      "\tRemaining Weights:       59.79 %\n"
     ]
    },
    {
     "name": "stderr",
     "output_type": "stream",
     "text": [
      "Epoch 848 [Training]: 100%|██████████| 84/84 [00:06<00:00, 13.42it/s, loss=-14731.67, λc2D1=435.39, λd1=526.22, λd2=632.80, λd3=428.46]\n",
      "Epoch 848 [Validation]: 100%|██████████| 21/21 [00:01<00:00, 14.98it/s, loss=-15329.82]\n"
     ]
    },
    {
     "name": "stdout",
     "output_type": "stream",
     "text": [
      "\tTotal Loss (NLL + MDMM): -14753.75\n",
      "\tMDMM Loss:               12989.74\n",
      "\tRemaining Weights:       59.68 %\n"
     ]
    },
    {
     "name": "stderr",
     "output_type": "stream",
     "text": [
      "Epoch 849 [Training]: 100%|██████████| 84/84 [00:06<00:00, 13.50it/s, loss=-14593.75, λc2D1=435.72, λd1=526.68, λd2=633.28, λd3=428.79]\n",
      "Epoch 849 [Validation]: 100%|██████████| 21/21 [00:01<00:00, 15.06it/s, loss=-15312.95]\n"
     ]
    },
    {
     "name": "stdout",
     "output_type": "stream",
     "text": [
      "\tTotal Loss (NLL + MDMM): -14738.03\n",
      "\tMDMM Loss:               13002.92\n",
      "\tRemaining Weights:       59.90 %\n"
     ]
    },
    {
     "name": "stderr",
     "output_type": "stream",
     "text": [
      "Epoch 850 [Training]: 100%|██████████| 84/84 [00:06<00:00, 13.40it/s, loss=-14690.60, λc2D1=436.05, λd1=527.15, λd2=633.77, λd3=429.13]\n",
      "Epoch 850 [Validation]: 100%|██████████| 21/21 [00:01<00:00, 14.81it/s, loss=-15298.64]\n"
     ]
    },
    {
     "name": "stdout",
     "output_type": "stream",
     "text": [
      "\tTotal Loss (NLL + MDMM): -14725.25\n",
      "\tMDMM Loss:               13017.59\n",
      "\tRemaining Weights:       59.90 %\n"
     ]
    },
    {
     "name": "stderr",
     "output_type": "stream",
     "text": [
      "Epoch 851 [Training]: 100%|██████████| 84/84 [00:06<00:00, 13.37it/s, loss=-14695.45, λc2D1=436.38, λd1=527.62, λd2=634.26, λd3=429.47]\n",
      "Epoch 851 [Validation]: 100%|██████████| 21/21 [00:01<00:00, 14.91it/s, loss=-15314.24]\n"
     ]
    },
    {
     "name": "stdout",
     "output_type": "stream",
     "text": [
      "\tTotal Loss (NLL + MDMM): -14738.34\n",
      "\tMDMM Loss:               13009.06\n",
      "\tRemaining Weights:       59.79 %\n"
     ]
    },
    {
     "name": "stderr",
     "output_type": "stream",
     "text": [
      "Epoch 852 [Training]: 100%|██████████| 84/84 [00:06<00:00, 13.57it/s, loss=-14695.41, λc2D1=436.71, λd1=528.09, λd2=634.75, λd3=429.80]\n",
      "Epoch 852 [Validation]: 100%|██████████| 21/21 [00:01<00:00, 14.89it/s, loss=-15335.95]\n"
     ]
    },
    {
     "name": "stdout",
     "output_type": "stream",
     "text": [
      "\tTotal Loss (NLL + MDMM): -14759.31\n",
      "\tMDMM Loss:               12994.16\n",
      "\tRemaining Weights:       59.51 %\n"
     ]
    },
    {
     "name": "stderr",
     "output_type": "stream",
     "text": [
      "Epoch 853 [Training]: 100%|██████████| 84/84 [00:06<00:00, 13.42it/s, loss=-14690.31, λc2D1=437.04, λd1=528.55, λd2=635.23, λd3=430.13]\n",
      "Epoch 853 [Validation]: 100%|██████████| 21/21 [00:01<00:00, 14.92it/s, loss=-15310.97]\n"
     ]
    },
    {
     "name": "stdout",
     "output_type": "stream",
     "text": [
      "\tTotal Loss (NLL + MDMM): -14735.29\n",
      "\tMDMM Loss:               13006.94\n",
      "\tRemaining Weights:       59.51 %\n"
     ]
    },
    {
     "name": "stderr",
     "output_type": "stream",
     "text": [
      "Epoch 854 [Training]: 100%|██████████| 84/84 [00:06<00:00, 13.27it/s, loss=-14708.66, λc2D1=437.37, λd1=529.02, λd2=635.71, λd3=430.47]\n",
      "Epoch 854 [Validation]: 100%|██████████| 21/21 [00:01<00:00, 14.95it/s, loss=-15341.57]\n"
     ]
    },
    {
     "name": "stdout",
     "output_type": "stream",
     "text": [
      "\tTotal Loss (NLL + MDMM): -14764.79\n",
      "\tMDMM Loss:               12990.86\n",
      "\tRemaining Weights:       59.40 %\n"
     ]
    },
    {
     "name": "stderr",
     "output_type": "stream",
     "text": [
      "Epoch 855 [Training]: 100%|██████████| 84/84 [00:06<00:00, 13.60it/s, loss=-14702.41, λc2D1=437.70, λd1=529.49, λd2=636.19, λd3=430.80]\n",
      "Epoch 855 [Validation]: 100%|██████████| 21/21 [00:01<00:00, 15.06it/s, loss=-15316.53]\n"
     ]
    },
    {
     "name": "stdout",
     "output_type": "stream",
     "text": [
      "\tTotal Loss (NLL + MDMM): -14738.71\n",
      "\tMDMM Loss:               13009.97\n",
      "\tRemaining Weights:       59.57 %\n"
     ]
    },
    {
     "name": "stderr",
     "output_type": "stream",
     "text": [
      "Epoch 856 [Training]: 100%|██████████| 84/84 [00:06<00:00, 13.58it/s, loss=-14683.90, λc2D1=438.03, λd1=529.95, λd2=636.68, λd3=431.14]\n",
      "Epoch 856 [Validation]: 100%|██████████| 21/21 [00:01<00:00, 15.25it/s, loss=-15308.19]\n"
     ]
    },
    {
     "name": "stdout",
     "output_type": "stream",
     "text": [
      "\tTotal Loss (NLL + MDMM): -14731.21\n",
      "\tMDMM Loss:               13010.43\n",
      "\tRemaining Weights:       59.51 %\n"
     ]
    },
    {
     "name": "stderr",
     "output_type": "stream",
     "text": [
      "Epoch 857 [Training]: 100%|██████████| 84/84 [00:06<00:00, 13.06it/s, loss=-14679.25, λc2D1=438.36, λd1=530.42, λd2=637.16, λd3=431.47]\n",
      "Epoch 857 [Validation]: 100%|██████████| 21/21 [00:01<00:00, 15.04it/s, loss=-15302.67]\n"
     ]
    },
    {
     "name": "stdout",
     "output_type": "stream",
     "text": [
      "\tTotal Loss (NLL + MDMM): -14727.20\n",
      "\tMDMM Loss:               13018.57\n",
      "\tRemaining Weights:       59.46 %\n"
     ]
    },
    {
     "name": "stderr",
     "output_type": "stream",
     "text": [
      "Epoch 858 [Training]: 100%|██████████| 84/84 [00:06<00:00, 13.26it/s, loss=-14603.05, λc2D1=438.69, λd1=530.88, λd2=637.64, λd3=431.81]\n",
      "Epoch 858 [Validation]: 100%|██████████| 21/21 [00:01<00:00, 15.10it/s, loss=-15248.46]\n"
     ]
    },
    {
     "name": "stdout",
     "output_type": "stream",
     "text": [
      "\tTotal Loss (NLL + MDMM): -14669.63\n",
      "\tMDMM Loss:               13087.70\n",
      "\tRemaining Weights:       59.35 %\n"
     ]
    },
    {
     "name": "stderr",
     "output_type": "stream",
     "text": [
      "Epoch 859 [Training]: 100%|██████████| 84/84 [00:06<00:00, 13.50it/s, loss=-14623.38, λc2D1=439.02, λd1=531.35, λd2=638.12, λd3=432.14]\n",
      "Epoch 859 [Validation]: 100%|██████████| 21/21 [00:01<00:00, 15.29it/s, loss=-15310.35]\n"
     ]
    },
    {
     "name": "stdout",
     "output_type": "stream",
     "text": [
      "\tTotal Loss (NLL + MDMM): -14732.68\n",
      "\tMDMM Loss:               13016.52\n",
      "\tRemaining Weights:       59.40 %\n"
     ]
    },
    {
     "name": "stderr",
     "output_type": "stream",
     "text": [
      "Epoch 860 [Training]: 100%|██████████| 84/84 [00:06<00:00, 13.45it/s, loss=-14679.57, λc2D1=439.35, λd1=531.81, λd2=638.60, λd3=432.47]\n",
      "Epoch 860 [Validation]: 100%|██████████| 21/21 [00:01<00:00, 15.13it/s, loss=-15312.76]\n"
     ]
    },
    {
     "name": "stdout",
     "output_type": "stream",
     "text": [
      "\tTotal Loss (NLL + MDMM): -14735.30\n",
      "\tMDMM Loss:               13016.50\n",
      "\tRemaining Weights:       59.24 %\n"
     ]
    },
    {
     "name": "stderr",
     "output_type": "stream",
     "text": [
      "Epoch 861 [Training]: 100%|██████████| 84/84 [00:06<00:00, 13.57it/s, loss=-14675.10, λc2D1=439.68, λd1=532.28, λd2=639.08, λd3=432.81]\n",
      "Epoch 861 [Validation]: 100%|██████████| 21/21 [00:01<00:00, 15.08it/s, loss=-15290.94]\n"
     ]
    },
    {
     "name": "stdout",
     "output_type": "stream",
     "text": [
      "\tTotal Loss (NLL + MDMM): -14713.54\n",
      "\tMDMM Loss:               13031.13\n",
      "\tRemaining Weights:       59.07 %\n"
     ]
    },
    {
     "name": "stderr",
     "output_type": "stream",
     "text": [
      "Epoch 862 [Training]: 100%|██████████| 84/84 [00:06<00:00, 13.40it/s, loss=-14681.55, λc2D1=440.01, λd1=532.74, λd2=639.56, λd3=433.14]\n",
      "Epoch 862 [Validation]: 100%|██████████| 21/21 [00:01<00:00, 15.30it/s, loss=-15317.87]\n"
     ]
    },
    {
     "name": "stdout",
     "output_type": "stream",
     "text": [
      "\tTotal Loss (NLL + MDMM): -14736.42\n",
      "\tMDMM Loss:               13022.98\n",
      "\tRemaining Weights:       59.07 %\n"
     ]
    },
    {
     "name": "stderr",
     "output_type": "stream",
     "text": [
      "Epoch 863 [Training]: 100%|██████████| 84/84 [00:06<00:00, 13.48it/s, loss=-14672.32, λc2D1=440.34, λd1=533.20, λd2=640.04, λd3=433.47]\n",
      "Epoch 863 [Validation]: 100%|██████████| 21/21 [00:01<00:00, 14.56it/s, loss=-15270.53]\n"
     ]
    },
    {
     "name": "stdout",
     "output_type": "stream",
     "text": [
      "\tTotal Loss (NLL + MDMM): -14687.73\n",
      "\tMDMM Loss:               13058.69\n",
      "\tRemaining Weights:       59.40 %\n"
     ]
    },
    {
     "name": "stderr",
     "output_type": "stream",
     "text": [
      "Epoch 864 [Training]: 100%|██████████| 84/84 [00:06<00:00, 13.36it/s, loss=-14626.38, λc2D1=440.67, λd1=533.67, λd2=640.52, λd3=433.81]\n",
      "Epoch 864 [Validation]: 100%|██████████| 21/21 [00:01<00:00, 14.61it/s, loss=-15286.18]\n"
     ]
    },
    {
     "name": "stdout",
     "output_type": "stream",
     "text": [
      "\tTotal Loss (NLL + MDMM): -14709.58\n",
      "\tMDMM Loss:               13043.31\n",
      "\tRemaining Weights:       59.24 %\n"
     ]
    },
    {
     "name": "stderr",
     "output_type": "stream",
     "text": [
      "Epoch 865 [Training]: 100%|██████████| 84/84 [00:06<00:00, 13.27it/s, loss=-14643.03, λc2D1=441.00, λd1=534.13, λd2=641.00, λd3=434.14]\n",
      "Epoch 865 [Validation]: 100%|██████████| 21/21 [00:01<00:00, 15.14it/s, loss=-15267.85]\n"
     ]
    },
    {
     "name": "stdout",
     "output_type": "stream",
     "text": [
      "\tTotal Loss (NLL + MDMM): -14689.96\n",
      "\tMDMM Loss:               13063.57\n",
      "\tRemaining Weights:       59.40 %\n"
     ]
    },
    {
     "name": "stderr",
     "output_type": "stream",
     "text": [
      "Epoch 866 [Training]: 100%|██████████| 84/84 [00:06<00:00, 13.45it/s, loss=-14556.34, λc2D1=441.33, λd1=534.60, λd2=641.48, λd3=434.47]\n",
      "Epoch 866 [Validation]: 100%|██████████| 21/21 [00:01<00:00, 15.03it/s, loss=-15177.15]\n"
     ]
    },
    {
     "name": "stdout",
     "output_type": "stream",
     "text": [
      "\tTotal Loss (NLL + MDMM): -14595.97\n",
      "\tMDMM Loss:               13150.02\n",
      "\tRemaining Weights:       59.29 %\n"
     ]
    },
    {
     "name": "stderr",
     "output_type": "stream",
     "text": [
      "Epoch 867 [Training]: 100%|██████████| 84/84 [00:06<00:00, 13.40it/s, loss=-14554.55, λc2D1=441.66, λd1=535.06, λd2=641.96, λd3=434.80]\n",
      "Epoch 867 [Validation]: 100%|██████████| 21/21 [00:01<00:00, 14.89it/s, loss=-15252.88]\n"
     ]
    },
    {
     "name": "stdout",
     "output_type": "stream",
     "text": [
      "\tTotal Loss (NLL + MDMM): -14673.80\n",
      "\tMDMM Loss:               13077.74\n",
      "\tRemaining Weights:       58.96 %\n"
     ]
    },
    {
     "name": "stderr",
     "output_type": "stream",
     "text": [
      "Epoch 868 [Training]: 100%|██████████| 84/84 [00:06<00:00, 13.02it/s, loss=-14540.25, λc2D1=441.99, λd1=535.52, λd2=642.44, λd3=435.13]\n",
      "Epoch 868 [Validation]: 100%|██████████| 21/21 [00:01<00:00, 14.84it/s, loss=-15231.07]\n"
     ]
    },
    {
     "name": "stdout",
     "output_type": "stream",
     "text": [
      "\tTotal Loss (NLL + MDMM): -14651.20\n",
      "\tMDMM Loss:               13091.86\n",
      "\tRemaining Weights:       59.02 %\n"
     ]
    },
    {
     "name": "stderr",
     "output_type": "stream",
     "text": [
      "Epoch 869 [Training]: 100%|██████████| 84/84 [00:06<00:00, 13.61it/s, loss=-14618.21, λc2D1=442.32, λd1=535.99, λd2=642.92, λd3=435.46]\n",
      "Epoch 869 [Validation]: 100%|██████████| 21/21 [00:01<00:00, 14.92it/s, loss=-15216.81]\n"
     ]
    },
    {
     "name": "stdout",
     "output_type": "stream",
     "text": [
      "\tTotal Loss (NLL + MDMM): -14640.51\n",
      "\tMDMM Loss:               13117.49\n",
      "\tRemaining Weights:       59.24 %\n"
     ]
    },
    {
     "name": "stderr",
     "output_type": "stream",
     "text": [
      "Epoch 870 [Training]: 100%|██████████| 84/84 [00:06<00:00, 13.29it/s, loss=-14605.26, λc2D1=442.65, λd1=536.45, λd2=643.41, λd3=435.80]\n",
      "Epoch 870 [Validation]: 100%|██████████| 21/21 [00:01<00:00, 14.92it/s, loss=-15192.53]\n"
     ]
    },
    {
     "name": "stdout",
     "output_type": "stream",
     "text": [
      "\tTotal Loss (NLL + MDMM): -14612.35\n",
      "\tMDMM Loss:               13133.74\n",
      "\tRemaining Weights:       59.57 %\n"
     ]
    },
    {
     "name": "stderr",
     "output_type": "stream",
     "text": [
      "Epoch 871 [Training]: 100%|██████████| 84/84 [00:06<00:00, 13.50it/s, loss=-14614.60, λc2D1=442.98, λd1=536.91, λd2=643.89, λd3=436.13]\n",
      "Epoch 871 [Validation]: 100%|██████████| 21/21 [00:01<00:00, 15.33it/s, loss=-15213.07]\n"
     ]
    },
    {
     "name": "stdout",
     "output_type": "stream",
     "text": [
      "\tTotal Loss (NLL + MDMM): -14635.60\n",
      "\tMDMM Loss:               13116.56\n",
      "\tRemaining Weights:       59.24 %\n"
     ]
    },
    {
     "name": "stderr",
     "output_type": "stream",
     "text": [
      "Epoch 872 [Training]: 100%|██████████| 84/84 [00:06<00:00, 13.49it/s, loss=-14581.87, λc2D1=443.31, λd1=537.38, λd2=644.37, λd3=436.46]\n",
      "Epoch 872 [Validation]: 100%|██████████| 21/21 [00:01<00:00, 15.17it/s, loss=-15198.43]\n"
     ]
    },
    {
     "name": "stdout",
     "output_type": "stream",
     "text": [
      "\tTotal Loss (NLL + MDMM): -14619.21\n",
      "\tMDMM Loss:               13127.04\n",
      "\tRemaining Weights:       59.24 %\n"
     ]
    },
    {
     "name": "stderr",
     "output_type": "stream",
     "text": [
      "Epoch 873 [Training]: 100%|██████████| 84/84 [00:06<00:00, 13.42it/s, loss=-14607.85, λc2D1=443.64, λd1=537.84, λd2=644.85, λd3=436.79]\n",
      "Epoch 873 [Validation]: 100%|██████████| 21/21 [00:01<00:00, 15.21it/s, loss=-15198.47]\n"
     ]
    },
    {
     "name": "stdout",
     "output_type": "stream",
     "text": [
      "\tTotal Loss (NLL + MDMM): -14618.22\n",
      "\tMDMM Loss:               13133.85\n",
      "\tRemaining Weights:       59.07 %\n"
     ]
    },
    {
     "name": "stderr",
     "output_type": "stream",
     "text": [
      "Epoch 874 [Training]: 100%|██████████| 84/84 [00:06<00:00, 13.52it/s, loss=-14577.13, λc2D1=443.97, λd1=538.30, λd2=645.33, λd3=437.13]\n",
      "Epoch 874 [Validation]: 100%|██████████| 21/21 [00:01<00:00, 15.22it/s, loss=-15181.61]\n"
     ]
    },
    {
     "name": "stdout",
     "output_type": "stream",
     "text": [
      "\tTotal Loss (NLL + MDMM): -14600.98\n",
      "\tMDMM Loss:               13143.46\n",
      "\tRemaining Weights:       59.18 %\n"
     ]
    },
    {
     "name": "stderr",
     "output_type": "stream",
     "text": [
      "Epoch 875 [Training]: 100%|██████████| 84/84 [00:06<00:00, 13.33it/s, loss=-14591.33, λc2D1=444.31, λd1=538.77, λd2=645.81, λd3=437.46]\n",
      "Epoch 875 [Validation]: 100%|██████████| 21/21 [00:01<00:00, 14.99it/s, loss=-15235.03]\n"
     ]
    },
    {
     "name": "stdout",
     "output_type": "stream",
     "text": [
      "\tTotal Loss (NLL + MDMM): -14654.77\n",
      "\tMDMM Loss:               13106.19\n",
      "\tRemaining Weights:       58.74 %\n"
     ]
    },
    {
     "name": "stderr",
     "output_type": "stream",
     "text": [
      "Epoch 876 [Training]: 100%|██████████| 84/84 [00:06<00:00, 13.47it/s, loss=-14483.74, λc2D1=444.64, λd1=539.23, λd2=646.29, λd3=437.79]\n",
      "Epoch 876 [Validation]: 100%|██████████| 21/21 [00:01<00:00, 14.69it/s, loss=-15107.61]\n"
     ]
    },
    {
     "name": "stdout",
     "output_type": "stream",
     "text": [
      "\tTotal Loss (NLL + MDMM): -14529.28\n",
      "\tMDMM Loss:               13227.75\n",
      "\tRemaining Weights:       59.35 %\n"
     ]
    },
    {
     "name": "stderr",
     "output_type": "stream",
     "text": [
      "Epoch 877 [Training]: 100%|██████████| 84/84 [00:06<00:00, 13.49it/s, loss=-14482.93, λc2D1=444.97, λd1=539.69, λd2=646.77, λd3=438.12]\n",
      "Epoch 877 [Validation]: 100%|██████████| 21/21 [00:01<00:00, 15.03it/s, loss=-15178.60]\n"
     ]
    },
    {
     "name": "stdout",
     "output_type": "stream",
     "text": [
      "\tTotal Loss (NLL + MDMM): -14599.40\n",
      "\tMDMM Loss:               13158.30\n",
      "\tRemaining Weights:       59.02 %\n"
     ]
    },
    {
     "name": "stderr",
     "output_type": "stream",
     "text": [
      "Epoch 878 [Training]: 100%|██████████| 84/84 [00:06<00:00, 13.31it/s, loss=-14534.38, λc2D1=445.30, λd1=540.15, λd2=647.25, λd3=438.45]\n",
      "Epoch 878 [Validation]: 100%|██████████| 21/21 [00:01<00:00, 14.80it/s, loss=-15151.49]\n"
     ]
    },
    {
     "name": "stdout",
     "output_type": "stream",
     "text": [
      "\tTotal Loss (NLL + MDMM): -14570.75\n",
      "\tMDMM Loss:               13185.04\n",
      "\tRemaining Weights:       59.18 %\n"
     ]
    },
    {
     "name": "stderr",
     "output_type": "stream",
     "text": [
      "Epoch 879 [Training]: 100%|██████████| 84/84 [00:06<00:00, 13.40it/s, loss=-14550.00, λc2D1=445.64, λd1=540.61, λd2=647.73, λd3=438.78]\n",
      "Epoch 879 [Validation]: 100%|██████████| 21/21 [00:01<00:00, 14.81it/s, loss=-15174.26]\n"
     ]
    },
    {
     "name": "stdout",
     "output_type": "stream",
     "text": [
      "\tTotal Loss (NLL + MDMM): -14596.16\n",
      "\tMDMM Loss:               13158.45\n",
      "\tRemaining Weights:       58.96 %\n"
     ]
    },
    {
     "name": "stderr",
     "output_type": "stream",
     "text": [
      "Epoch 880 [Training]: 100%|██████████| 84/84 [00:06<00:00, 13.56it/s, loss=-14552.27, λc2D1=445.97, λd1=541.07, λd2=648.20, λd3=439.12]\n",
      "Epoch 880 [Validation]: 100%|██████████| 21/21 [00:01<00:00, 15.00it/s, loss=-15149.44]\n"
     ]
    },
    {
     "name": "stdout",
     "output_type": "stream",
     "text": [
      "\tTotal Loss (NLL + MDMM): -14568.93\n",
      "\tMDMM Loss:               13189.66\n",
      "\tRemaining Weights:       59.02 %\n"
     ]
    },
    {
     "name": "stderr",
     "output_type": "stream",
     "text": [
      "Epoch 881 [Training]: 100%|██████████| 84/84 [00:06<00:00, 13.53it/s, loss=-14540.39, λc2D1=446.30, λd1=541.53, λd2=648.68, λd3=439.45]\n",
      "Epoch 881 [Validation]: 100%|██████████| 21/21 [00:01<00:00, 14.64it/s, loss=-15147.25]\n"
     ]
    },
    {
     "name": "stdout",
     "output_type": "stream",
     "text": [
      "\tTotal Loss (NLL + MDMM): -14566.19\n",
      "\tMDMM Loss:               13189.86\n",
      "\tRemaining Weights:       58.85 %\n"
     ]
    },
    {
     "name": "stderr",
     "output_type": "stream",
     "text": [
      "Epoch 882 [Training]: 100%|██████████| 84/84 [00:06<00:00, 13.51it/s, loss=-14531.63, λc2D1=446.64, λd1=541.99, λd2=649.16, λd3=439.78]\n",
      "Epoch 882 [Validation]: 100%|██████████| 21/21 [00:01<00:00, 14.99it/s, loss=-15135.07]\n"
     ]
    },
    {
     "name": "stdout",
     "output_type": "stream",
     "text": [
      "\tTotal Loss (NLL + MDMM): -14555.63\n",
      "\tMDMM Loss:               13203.01\n",
      "\tRemaining Weights:       59.02 %\n"
     ]
    },
    {
     "name": "stderr",
     "output_type": "stream",
     "text": [
      "Epoch 883 [Training]: 100%|██████████| 84/84 [00:06<00:00, 13.26it/s, loss=-14441.69, λc2D1=446.97, λd1=542.45, λd2=649.64, λd3=440.11]\n",
      "Epoch 883 [Validation]: 100%|██████████| 21/21 [00:01<00:00, 14.90it/s, loss=-15071.00]\n"
     ]
    },
    {
     "name": "stdout",
     "output_type": "stream",
     "text": [
      "\tTotal Loss (NLL + MDMM): -14493.20\n",
      "\tMDMM Loss:               13266.89\n",
      "\tRemaining Weights:       58.96 %\n"
     ]
    },
    {
     "name": "stderr",
     "output_type": "stream",
     "text": [
      "Epoch 884 [Training]: 100%|██████████| 84/84 [00:06<00:00, 13.34it/s, loss=-14456.89, λc2D1=447.30, λd1=542.91, λd2=650.12, λd3=440.44]\n",
      "Epoch 884 [Validation]: 100%|██████████| 21/21 [00:01<00:00, 15.07it/s, loss=-15132.58]\n"
     ]
    },
    {
     "name": "stdout",
     "output_type": "stream",
     "text": [
      "\tTotal Loss (NLL + MDMM): -14553.09\n",
      "\tMDMM Loss:               13209.44\n",
      "\tRemaining Weights:       58.85 %\n"
     ]
    },
    {
     "name": "stderr",
     "output_type": "stream",
     "text": [
      "Epoch 885 [Training]: 100%|██████████| 84/84 [00:06<00:00, 13.44it/s, loss=-14523.53, λc2D1=447.64, λd1=543.37, λd2=650.60, λd3=440.78]\n",
      "Epoch 885 [Validation]: 100%|██████████| 21/21 [00:01<00:00, 15.08it/s, loss=-15121.83]\n"
     ]
    },
    {
     "name": "stdout",
     "output_type": "stream",
     "text": [
      "\tTotal Loss (NLL + MDMM): -14541.53\n",
      "\tMDMM Loss:               13217.21\n",
      "\tRemaining Weights:       58.80 %\n"
     ]
    },
    {
     "name": "stderr",
     "output_type": "stream",
     "text": [
      "Epoch 886 [Training]: 100%|██████████| 84/84 [00:06<00:00, 13.30it/s, loss=-14521.07, λc2D1=447.97, λd1=543.83, λd2=651.08, λd3=441.11]\n",
      "Epoch 886 [Validation]: 100%|██████████| 21/21 [00:01<00:00, 14.84it/s, loss=-15119.62]\n"
     ]
    },
    {
     "name": "stdout",
     "output_type": "stream",
     "text": [
      "\tTotal Loss (NLL + MDMM): -14537.56\n",
      "\tMDMM Loss:               13225.19\n",
      "\tRemaining Weights:       58.91 %\n"
     ]
    },
    {
     "name": "stderr",
     "output_type": "stream",
     "text": [
      "Epoch 887 [Training]: 100%|██████████| 84/84 [00:06<00:00, 13.38it/s, loss=-14535.58, λc2D1=448.30, λd1=544.29, λd2=651.56, λd3=441.44]\n",
      "Epoch 887 [Validation]: 100%|██████████| 21/21 [00:01<00:00, 14.93it/s, loss=-15142.89]\n"
     ]
    },
    {
     "name": "stdout",
     "output_type": "stream",
     "text": [
      "\tTotal Loss (NLL + MDMM): -14559.79\n",
      "\tMDMM Loss:               13204.12\n",
      "\tRemaining Weights:       58.80 %\n"
     ]
    },
    {
     "name": "stderr",
     "output_type": "stream",
     "text": [
      "Epoch 888 [Training]: 100%|██████████| 84/84 [00:06<00:00, 13.46it/s, loss=-14518.25, λc2D1=448.64, λd1=544.75, λd2=652.04, λd3=441.77]\n",
      "Epoch 888 [Validation]: 100%|██████████| 21/21 [00:01<00:00, 14.73it/s, loss=-15120.10]\n"
     ]
    },
    {
     "name": "stdout",
     "output_type": "stream",
     "text": [
      "\tTotal Loss (NLL + MDMM): -14540.87\n",
      "\tMDMM Loss:               13222.18\n",
      "\tRemaining Weights:       58.80 %\n"
     ]
    },
    {
     "name": "stderr",
     "output_type": "stream",
     "text": [
      "Epoch 889 [Training]: 100%|██████████| 84/84 [00:06<00:00, 13.38it/s, loss=-14443.19, λc2D1=448.97, λd1=545.20, λd2=652.52, λd3=442.10]\n",
      "Epoch 889 [Validation]: 100%|██████████| 21/21 [00:01<00:00, 15.02it/s, loss=-15062.68]\n"
     ]
    },
    {
     "name": "stdout",
     "output_type": "stream",
     "text": [
      "\tTotal Loss (NLL + MDMM): -14482.22\n",
      "\tMDMM Loss:               13277.91\n",
      "\tRemaining Weights:       58.58 %\n"
     ]
    },
    {
     "name": "stderr",
     "output_type": "stream",
     "text": [
      "Epoch 890 [Training]: 100%|██████████| 84/84 [00:06<00:00, 13.57it/s, loss=-14506.10, λc2D1=449.30, λd1=545.66, λd2=652.99, λd3=442.43]\n",
      "Epoch 890 [Validation]: 100%|██████████| 21/21 [00:01<00:00, 15.05it/s, loss=-15107.57]\n"
     ]
    },
    {
     "name": "stdout",
     "output_type": "stream",
     "text": [
      "\tTotal Loss (NLL + MDMM): -14527.62\n",
      "\tMDMM Loss:               13233.74\n",
      "\tRemaining Weights:       58.69 %\n"
     ]
    },
    {
     "name": "stderr",
     "output_type": "stream",
     "text": [
      "Epoch 891 [Training]: 100%|██████████| 84/84 [00:06<00:00, 13.18it/s, loss=-14526.84, λc2D1=449.64, λd1=546.12, λd2=653.47, λd3=442.76]\n",
      "Epoch 891 [Validation]: 100%|██████████| 21/21 [00:01<00:00, 14.95it/s, loss=-15133.59]\n"
     ]
    },
    {
     "name": "stdout",
     "output_type": "stream",
     "text": [
      "\tTotal Loss (NLL + MDMM): -14549.95\n",
      "\tMDMM Loss:               13212.54\n",
      "\tRemaining Weights:       58.63 %\n"
     ]
    },
    {
     "name": "stderr",
     "output_type": "stream",
     "text": [
      "Epoch 892 [Training]: 100%|██████████| 84/84 [00:06<00:00, 13.33it/s, loss=-14503.30, λc2D1=449.97, λd1=546.58, λd2=653.94, λd3=443.09]\n",
      "Epoch 892 [Validation]: 100%|██████████| 21/21 [00:01<00:00, 15.15it/s, loss=-15119.08]\n"
     ]
    },
    {
     "name": "stdout",
     "output_type": "stream",
     "text": [
      "\tTotal Loss (NLL + MDMM): -14536.26\n",
      "\tMDMM Loss:               13230.30\n",
      "\tRemaining Weights:       58.63 %\n"
     ]
    },
    {
     "name": "stderr",
     "output_type": "stream",
     "text": [
      "Epoch 893 [Training]: 100%|██████████| 84/84 [00:06<00:00, 13.14it/s, loss=-14457.79, λc2D1=450.30, λd1=547.04, λd2=654.41, λd3=443.42]\n",
      "Epoch 893 [Validation]: 100%|██████████| 21/21 [00:01<00:00, 14.52it/s, loss=-15057.20]\n"
     ]
    },
    {
     "name": "stdout",
     "output_type": "stream",
     "text": [
      "\tTotal Loss (NLL + MDMM): -14474.74\n",
      "\tMDMM Loss:               13293.53\n",
      "\tRemaining Weights:       58.63 %\n"
     ]
    },
    {
     "name": "stderr",
     "output_type": "stream",
     "text": [
      "Epoch 894 [Training]: 100%|██████████| 84/84 [00:06<00:00, 13.10it/s, loss=-14419.22, λc2D1=450.64, λd1=547.50, λd2=654.89, λd3=443.75]\n",
      "Epoch 894 [Validation]: 100%|██████████| 21/21 [00:01<00:00, 14.93it/s, loss=-15094.23]\n"
     ]
    },
    {
     "name": "stdout",
     "output_type": "stream",
     "text": [
      "\tTotal Loss (NLL + MDMM): -14515.86\n",
      "\tMDMM Loss:               13233.39\n",
      "\tRemaining Weights:       58.58 %\n"
     ]
    },
    {
     "name": "stderr",
     "output_type": "stream",
     "text": [
      "Epoch 895 [Training]: 100%|██████████| 84/84 [00:06<00:00, 13.10it/s, loss=-14495.07, λc2D1=450.97, λd1=547.95, λd2=655.36, λd3=444.08]\n",
      "Epoch 895 [Validation]: 100%|██████████| 21/21 [00:01<00:00, 15.04it/s, loss=-15124.70]\n"
     ]
    },
    {
     "name": "stdout",
     "output_type": "stream",
     "text": [
      "\tTotal Loss (NLL + MDMM): -14544.70\n",
      "\tMDMM Loss:               13225.89\n",
      "\tRemaining Weights:       58.52 %\n"
     ]
    },
    {
     "name": "stderr",
     "output_type": "stream",
     "text": [
      "Epoch 896 [Training]: 100%|██████████| 84/84 [00:06<00:00, 13.50it/s, loss=-14477.91, λc2D1=451.30, λd1=548.41, λd2=655.83, λd3=444.41]\n",
      "Epoch 896 [Validation]: 100%|██████████| 21/21 [00:01<00:00, 15.03it/s, loss=-15096.15]\n"
     ]
    },
    {
     "name": "stdout",
     "output_type": "stream",
     "text": [
      "\tTotal Loss (NLL + MDMM): -14514.30\n",
      "\tMDMM Loss:               13249.01\n",
      "\tRemaining Weights:       58.52 %\n"
     ]
    },
    {
     "name": "stderr",
     "output_type": "stream",
     "text": [
      "Epoch 897 [Training]: 100%|██████████| 84/84 [00:06<00:00, 13.23it/s, loss=-14490.83, λc2D1=451.64, λd1=548.87, λd2=656.31, λd3=444.74]\n",
      "Epoch 897 [Validation]: 100%|██████████| 21/21 [00:01<00:00, 14.93it/s, loss=-15118.39]\n"
     ]
    },
    {
     "name": "stdout",
     "output_type": "stream",
     "text": [
      "\tTotal Loss (NLL + MDMM): -14533.36\n",
      "\tMDMM Loss:               13224.21\n",
      "\tRemaining Weights:       58.36 %\n"
     ]
    },
    {
     "name": "stderr",
     "output_type": "stream",
     "text": [
      "Epoch 898 [Training]: 100%|██████████| 84/84 [00:06<00:00, 13.36it/s, loss=-14492.34, λc2D1=451.97, λd1=549.33, λd2=656.78, λd3=445.07]\n",
      "Epoch 898 [Validation]: 100%|██████████| 21/21 [00:01<00:00, 14.90it/s, loss=-15099.89]\n"
     ]
    },
    {
     "name": "stdout",
     "output_type": "stream",
     "text": [
      "\tTotal Loss (NLL + MDMM): -14517.90\n",
      "\tMDMM Loss:               13249.50\n",
      "\tRemaining Weights:       58.41 %\n"
     ]
    },
    {
     "name": "stderr",
     "output_type": "stream",
     "text": [
      "Epoch 899 [Training]: 100%|██████████| 84/84 [00:06<00:00, 13.47it/s, loss=-14476.57, λc2D1=452.30, λd1=549.79, λd2=657.25, λd3=445.40]\n",
      "Epoch 899 [Validation]: 100%|██████████| 21/21 [00:01<00:00, 15.00it/s, loss=-15080.57]\n"
     ]
    },
    {
     "name": "stdout",
     "output_type": "stream",
     "text": [
      "\tTotal Loss (NLL + MDMM): -14498.35\n",
      "\tMDMM Loss:               13271.81\n",
      "\tRemaining Weights:       58.52 %\n"
     ]
    },
    {
     "name": "stderr",
     "output_type": "stream",
     "text": [
      "Epoch 900 [Training]: 100%|██████████| 84/84 [00:06<00:00, 13.42it/s, loss=-14445.63, λc2D1=452.64, λd1=550.24, λd2=657.73, λd3=445.73]\n",
      "Epoch 900 [Validation]: 100%|██████████| 21/21 [00:01<00:00, 14.40it/s, loss=-15079.66]\n"
     ]
    },
    {
     "name": "stdout",
     "output_type": "stream",
     "text": [
      "\tTotal Loss (NLL + MDMM): -14496.06\n",
      "\tMDMM Loss:               13275.83\n",
      "\tRemaining Weights:       58.52 %\n"
     ]
    },
    {
     "name": "stderr",
     "output_type": "stream",
     "text": [
      "Epoch 901 [Training]: 100%|██████████| 84/84 [00:06<00:00, 13.48it/s, loss=-14431.79, λc2D1=452.97, λd1=550.70, λd2=658.21, λd3=446.06]\n",
      "Epoch 901 [Validation]: 100%|██████████| 21/21 [00:01<00:00, 15.06it/s, loss=-15070.62]\n"
     ]
    },
    {
     "name": "stdout",
     "output_type": "stream",
     "text": [
      "\tTotal Loss (NLL + MDMM): -14487.77\n",
      "\tMDMM Loss:               13277.20\n",
      "\tRemaining Weights:       58.41 %\n"
     ]
    },
    {
     "name": "stderr",
     "output_type": "stream",
     "text": [
      "Epoch 902 [Training]: 100%|██████████| 84/84 [00:06<00:00, 13.55it/s, loss=-14367.77, λc2D1=453.31, λd1=551.16, λd2=658.68, λd3=446.39]\n",
      "Epoch 902 [Validation]: 100%|██████████| 21/21 [00:01<00:00, 14.98it/s, loss=-15046.36]\n"
     ]
    },
    {
     "name": "stdout",
     "output_type": "stream",
     "text": [
      "\tTotal Loss (NLL + MDMM): -14464.05\n",
      "\tMDMM Loss:               13304.96\n",
      "\tRemaining Weights:       58.63 %\n"
     ]
    },
    {
     "name": "stderr",
     "output_type": "stream",
     "text": [
      "Epoch 903 [Training]: 100%|██████████| 84/84 [00:06<00:00, 13.15it/s, loss=-14405.98, λc2D1=453.64, λd1=551.62, λd2=659.16, λd3=446.71]\n",
      "Epoch 903 [Validation]: 100%|██████████| 21/21 [00:01<00:00, 14.74it/s, loss=-14995.77]\n"
     ]
    },
    {
     "name": "stdout",
     "output_type": "stream",
     "text": [
      "\tTotal Loss (NLL + MDMM): -14413.96\n",
      "\tMDMM Loss:               13353.42\n",
      "\tRemaining Weights:       58.96 %\n"
     ]
    },
    {
     "name": "stderr",
     "output_type": "stream",
     "text": [
      "Epoch 904 [Training]: 100%|██████████| 84/84 [00:06<00:00, 13.55it/s, loss=-14399.91, λc2D1=453.98, λd1=552.07, λd2=659.63, λd3=447.04]\n",
      "Epoch 904 [Validation]: 100%|██████████| 21/21 [00:01<00:00, 14.74it/s, loss=-15027.77]\n"
     ]
    },
    {
     "name": "stdout",
     "output_type": "stream",
     "text": [
      "\tTotal Loss (NLL + MDMM): -14442.38\n",
      "\tMDMM Loss:               13326.86\n",
      "\tRemaining Weights:       58.80 %\n"
     ]
    },
    {
     "name": "stderr",
     "output_type": "stream",
     "text": [
      "Epoch 905 [Training]: 100%|██████████| 84/84 [00:06<00:00, 13.36it/s, loss=-14431.73, λc2D1=454.32, λd1=552.53, λd2=660.11, λd3=447.37]\n",
      "Epoch 905 [Validation]: 100%|██████████| 21/21 [00:01<00:00, 14.91it/s, loss=-15058.64]\n"
     ]
    },
    {
     "name": "stdout",
     "output_type": "stream",
     "text": [
      "\tTotal Loss (NLL + MDMM): -14473.94\n",
      "\tMDMM Loss:               13304.10\n",
      "\tRemaining Weights:       58.30 %\n"
     ]
    },
    {
     "name": "stderr",
     "output_type": "stream",
     "text": [
      "Epoch 906 [Training]: 100%|██████████| 84/84 [00:06<00:00, 13.46it/s, loss=-14420.35, λc2D1=454.65, λd1=552.99, λd2=660.58, λd3=447.69]\n",
      "Epoch 906 [Validation]: 100%|██████████| 21/21 [00:01<00:00, 14.74it/s, loss=-15025.71]\n"
     ]
    },
    {
     "name": "stdout",
     "output_type": "stream",
     "text": [
      "\tTotal Loss (NLL + MDMM): -14437.22\n",
      "\tMDMM Loss:               13337.50\n",
      "\tRemaining Weights:       58.58 %\n"
     ]
    },
    {
     "name": "stderr",
     "output_type": "stream",
     "text": [
      "Epoch 907 [Training]: 100%|██████████| 84/84 [00:06<00:00, 13.52it/s, loss=-14432.55, λc2D1=454.99, λd1=553.44, λd2=661.06, λd3=448.02]\n",
      "Epoch 907 [Validation]: 100%|██████████| 21/21 [00:01<00:00, 14.65it/s, loss=-15047.09]\n"
     ]
    },
    {
     "name": "stdout",
     "output_type": "stream",
     "text": [
      "\tTotal Loss (NLL + MDMM): -14463.48\n",
      "\tMDMM Loss:               13313.91\n",
      "\tRemaining Weights:       58.41 %\n"
     ]
    },
    {
     "name": "stderr",
     "output_type": "stream",
     "text": [
      "Epoch 908 [Training]: 100%|██████████| 84/84 [00:06<00:00, 13.26it/s, loss=-14337.05, λc2D1=455.33, λd1=553.90, λd2=661.54, λd3=448.34]\n",
      "Epoch 908 [Validation]: 100%|██████████| 21/21 [00:01<00:00, 14.92it/s, loss=-14965.59]\n"
     ]
    },
    {
     "name": "stdout",
     "output_type": "stream",
     "text": [
      "\tTotal Loss (NLL + MDMM): -14377.59\n",
      "\tMDMM Loss:               13390.49\n",
      "\tRemaining Weights:       58.30 %\n"
     ]
    },
    {
     "name": "stderr",
     "output_type": "stream",
     "text": [
      "Epoch 909 [Training]: 100%|██████████| 84/84 [00:06<00:00, 13.44it/s, loss=-14395.18, λc2D1=455.66, λd1=554.36, λd2=662.01, λd3=448.67]\n",
      "Epoch 909 [Validation]: 100%|██████████| 21/21 [00:01<00:00, 14.78it/s, loss=-15038.56]\n"
     ]
    },
    {
     "name": "stdout",
     "output_type": "stream",
     "text": [
      "\tTotal Loss (NLL + MDMM): -14454.00\n",
      "\tMDMM Loss:               13320.80\n",
      "\tRemaining Weights:       58.14 %\n"
     ]
    },
    {
     "name": "stderr",
     "output_type": "stream",
     "text": [
      "Epoch 910 [Training]: 100%|██████████| 84/84 [00:06<00:00, 13.40it/s, loss=-14405.32, λc2D1=456.00, λd1=554.82, λd2=662.49, λd3=448.99]\n",
      "Epoch 910 [Validation]: 100%|██████████| 21/21 [00:01<00:00, 15.11it/s, loss=-15026.00]\n"
     ]
    },
    {
     "name": "stdout",
     "output_type": "stream",
     "text": [
      "\tTotal Loss (NLL + MDMM): -14443.69\n",
      "\tMDMM Loss:               13334.35\n",
      "\tRemaining Weights:       58.25 %\n"
     ]
    },
    {
     "name": "stderr",
     "output_type": "stream",
     "text": [
      "Epoch 911 [Training]: 100%|██████████| 84/84 [00:06<00:00, 13.30it/s, loss=-14314.41, λc2D1=456.34, λd1=555.27, λd2=662.96, λd3=449.32]\n",
      "Epoch 911 [Validation]: 100%|██████████| 21/21 [00:01<00:00, 15.12it/s, loss=-14946.91]\n"
     ]
    },
    {
     "name": "stdout",
     "output_type": "stream",
     "text": [
      "\tTotal Loss (NLL + MDMM): -14363.67\n",
      "\tMDMM Loss:               13413.36\n",
      "\tRemaining Weights:       58.41 %\n"
     ]
    },
    {
     "name": "stderr",
     "output_type": "stream",
     "text": [
      "Epoch 912 [Training]: 100%|██████████| 84/84 [00:06<00:00, 13.55it/s, loss=-14392.25, λc2D1=456.67, λd1=555.73, λd2=663.44, λd3=449.64]\n",
      "Epoch 912 [Validation]: 100%|██████████| 21/21 [00:01<00:00, 14.74it/s, loss=-15028.19]\n"
     ]
    },
    {
     "name": "stdout",
     "output_type": "stream",
     "text": [
      "\tTotal Loss (NLL + MDMM): -14440.77\n",
      "\tMDMM Loss:               13344.78\n",
      "\tRemaining Weights:       58.30 %\n"
     ]
    },
    {
     "name": "stderr",
     "output_type": "stream",
     "text": [
      "Epoch 913 [Training]: 100%|██████████| 84/84 [00:06<00:00, 13.41it/s, loss=-14385.45, λc2D1=457.01, λd1=556.18, λd2=663.91, λd3=449.97]\n",
      "Epoch 913 [Validation]: 100%|██████████| 21/21 [00:01<00:00, 14.83it/s, loss=-15023.14]\n"
     ]
    },
    {
     "name": "stdout",
     "output_type": "stream",
     "text": [
      "\tTotal Loss (NLL + MDMM): -14435.08\n",
      "\tMDMM Loss:               13343.75\n",
      "\tRemaining Weights:       58.14 %\n"
     ]
    },
    {
     "name": "stderr",
     "output_type": "stream",
     "text": [
      "Epoch 914 [Training]: 100%|██████████| 84/84 [00:06<00:00, 13.45it/s, loss=-14391.45, λc2D1=457.35, λd1=556.64, λd2=664.38, λd3=450.29]\n",
      "Epoch 914 [Validation]: 100%|██████████| 21/21 [00:01<00:00, 15.07it/s, loss=-15024.98]\n"
     ]
    },
    {
     "name": "stdout",
     "output_type": "stream",
     "text": [
      "\tTotal Loss (NLL + MDMM): -14438.13\n",
      "\tMDMM Loss:               13344.57\n",
      "\tRemaining Weights:       58.03 %\n"
     ]
    },
    {
     "name": "stderr",
     "output_type": "stream",
     "text": [
      "Epoch 915 [Training]: 100%|██████████| 84/84 [00:06<00:00, 13.55it/s, loss=-14348.55, λc2D1=457.68, λd1=557.10, λd2=664.85, λd3=450.61]\n",
      "Epoch 915 [Validation]: 100%|██████████| 21/21 [00:01<00:00, 15.05it/s, loss=-14945.89]\n"
     ]
    },
    {
     "name": "stdout",
     "output_type": "stream",
     "text": [
      "\tTotal Loss (NLL + MDMM): -14357.51\n",
      "\tMDMM Loss:               13426.91\n",
      "\tRemaining Weights:       58.14 %\n"
     ]
    },
    {
     "name": "stderr",
     "output_type": "stream",
     "text": [
      "Epoch 916 [Training]: 100%|██████████| 84/84 [00:06<00:00, 13.46it/s, loss=-14389.62, λc2D1=458.02, λd1=557.55, λd2=665.33, λd3=450.94]\n",
      "Epoch 916 [Validation]: 100%|██████████| 21/21 [00:01<00:00, 14.70it/s, loss=-15031.27]\n"
     ]
    },
    {
     "name": "stdout",
     "output_type": "stream",
     "text": [
      "\tTotal Loss (NLL + MDMM): -14446.01\n",
      "\tMDMM Loss:               13337.31\n",
      "\tRemaining Weights:       57.80 %\n"
     ]
    },
    {
     "name": "stderr",
     "output_type": "stream",
     "text": [
      "Epoch 917 [Training]: 100%|██████████| 84/84 [00:06<00:00, 13.52it/s, loss=-14447.38, λc2D1=458.35, λd1=558.00, λd2=665.80, λd3=451.26]\n",
      "Epoch 917 [Validation]: 100%|██████████| 21/21 [00:01<00:00, 15.27it/s, loss=-15036.27]\n"
     ]
    },
    {
     "name": "stdout",
     "output_type": "stream",
     "text": [
      "\tTotal Loss (NLL + MDMM): -14449.71\n",
      "\tMDMM Loss:               13340.14\n",
      "\tRemaining Weights:       58.08 %\n"
     ]
    },
    {
     "name": "stderr",
     "output_type": "stream",
     "text": [
      "Epoch 918 [Training]: 100%|██████████| 84/84 [00:06<00:00, 13.29it/s, loss=-14382.22, λc2D1=458.69, λd1=558.46, λd2=666.27, λd3=451.58]\n",
      "Epoch 918 [Validation]: 100%|██████████| 21/21 [00:01<00:00, 14.93it/s, loss=-15019.30]\n"
     ]
    },
    {
     "name": "stdout",
     "output_type": "stream",
     "text": [
      "\tTotal Loss (NLL + MDMM): -14433.04\n",
      "\tMDMM Loss:               13341.82\n",
      "\tRemaining Weights:       57.86 %\n"
     ]
    },
    {
     "name": "stderr",
     "output_type": "stream",
     "text": [
      "Epoch 919 [Training]: 100%|██████████| 84/84 [00:06<00:00, 13.53it/s, loss=-14373.40, λc2D1=459.03, λd1=558.91, λd2=666.74, λd3=451.90]\n",
      "Epoch 919 [Validation]: 100%|██████████| 21/21 [00:01<00:00, 15.10it/s, loss=-14977.55]\n"
     ]
    },
    {
     "name": "stdout",
     "output_type": "stream",
     "text": [
      "\tTotal Loss (NLL + MDMM): -14393.82\n",
      "\tMDMM Loss:               13379.70\n",
      "\tRemaining Weights:       58.14 %\n"
     ]
    },
    {
     "name": "stderr",
     "output_type": "stream",
     "text": [
      "Epoch 920 [Training]: 100%|██████████| 84/84 [00:06<00:00, 13.38it/s, loss=-14325.10, λc2D1=459.36, λd1=559.37, λd2=667.21, λd3=452.23]\n",
      "Epoch 920 [Validation]: 100%|██████████| 21/21 [00:01<00:00, 14.99it/s, loss=-14954.37]\n"
     ]
    },
    {
     "name": "stdout",
     "output_type": "stream",
     "text": [
      "\tTotal Loss (NLL + MDMM): -14364.89\n",
      "\tMDMM Loss:               13422.67\n",
      "\tRemaining Weights:       57.97 %\n"
     ]
    },
    {
     "name": "stderr",
     "output_type": "stream",
     "text": [
      "Epoch 921 [Training]: 100%|██████████| 84/84 [00:06<00:00, 13.45it/s, loss=-14379.05, λc2D1=459.70, λd1=559.82, λd2=667.68, λd3=452.55]\n",
      "Epoch 921 [Validation]: 100%|██████████| 21/21 [00:01<00:00, 15.12it/s, loss=-15017.91]\n"
     ]
    },
    {
     "name": "stdout",
     "output_type": "stream",
     "text": [
      "\tTotal Loss (NLL + MDMM): -14429.71\n",
      "\tMDMM Loss:               13361.27\n",
      "\tRemaining Weights:       57.86 %\n"
     ]
    },
    {
     "name": "stderr",
     "output_type": "stream",
     "text": [
      "Epoch 922 [Training]: 100%|██████████| 84/84 [00:06<00:00, 13.38it/s, loss=-14369.15, λc2D1=460.04, λd1=560.28, λd2=668.14, λd3=452.87]\n",
      "Epoch 922 [Validation]: 100%|██████████| 21/21 [00:01<00:00, 14.89it/s, loss=-14980.79]\n"
     ]
    },
    {
     "name": "stdout",
     "output_type": "stream",
     "text": [
      "\tTotal Loss (NLL + MDMM): -14394.42\n",
      "\tMDMM Loss:               13396.45\n",
      "\tRemaining Weights:       58.30 %\n"
     ]
    },
    {
     "name": "stderr",
     "output_type": "stream",
     "text": [
      "Epoch 923 [Training]: 100%|██████████| 84/84 [00:06<00:00, 13.47it/s, loss=-14386.58, λc2D1=460.37, λd1=560.73, λd2=668.61, λd3=453.19]\n",
      "Epoch 923 [Validation]: 100%|██████████| 21/21 [00:01<00:00, 14.71it/s, loss=-14992.48]\n"
     ]
    },
    {
     "name": "stdout",
     "output_type": "stream",
     "text": [
      "\tTotal Loss (NLL + MDMM): -14408.20\n",
      "\tMDMM Loss:               13381.02\n",
      "\tRemaining Weights:       57.97 %\n"
     ]
    },
    {
     "name": "stderr",
     "output_type": "stream",
     "text": [
      "Epoch 924 [Training]: 100%|██████████| 84/84 [00:06<00:00, 13.46it/s, loss=-14371.36, λc2D1=460.71, λd1=561.19, λd2=669.08, λd3=453.52]\n",
      "Epoch 924 [Validation]: 100%|██████████| 21/21 [00:01<00:00, 14.95it/s, loss=-14984.75]\n"
     ]
    },
    {
     "name": "stdout",
     "output_type": "stream",
     "text": [
      "\tTotal Loss (NLL + MDMM): -14398.26\n",
      "\tMDMM Loss:               13396.22\n",
      "\tRemaining Weights:       57.92 %\n"
     ]
    },
    {
     "name": "stderr",
     "output_type": "stream",
     "text": [
      "Epoch 925 [Training]: 100%|██████████| 84/84 [00:06<00:00, 13.21it/s, loss=-14360.88, λc2D1=461.05, λd1=561.64, λd2=669.55, λd3=453.84]\n",
      "Epoch 925 [Validation]: 100%|██████████| 21/21 [00:01<00:00, 14.67it/s, loss=-15013.48]\n"
     ]
    },
    {
     "name": "stdout",
     "output_type": "stream",
     "text": [
      "\tTotal Loss (NLL + MDMM): -14427.34\n",
      "\tMDMM Loss:               13370.85\n",
      "\tRemaining Weights:       57.31 %\n"
     ]
    },
    {
     "name": "stderr",
     "output_type": "stream",
     "text": [
      "Epoch 926 [Training]: 100%|██████████| 84/84 [00:06<00:00, 13.53it/s, loss=-14357.24, λc2D1=461.38, λd1=562.10, λd2=670.01, λd3=454.16]\n",
      "Epoch 926 [Validation]: 100%|██████████| 21/21 [00:01<00:00, 14.55it/s, loss=-14982.52]\n"
     ]
    },
    {
     "name": "stdout",
     "output_type": "stream",
     "text": [
      "\tTotal Loss (NLL + MDMM): -14397.83\n",
      "\tMDMM Loss:               13391.91\n",
      "\tRemaining Weights:       57.58 %\n"
     ]
    },
    {
     "name": "stderr",
     "output_type": "stream",
     "text": [
      "Epoch 927 [Training]: 100%|██████████| 84/84 [00:06<00:00, 13.43it/s, loss=-14378.03, λc2D1=461.72, λd1=562.55, λd2=670.48, λd3=454.48]\n",
      "Epoch 927 [Validation]: 100%|██████████| 21/21 [00:01<00:00, 14.89it/s, loss=-15011.43]\n"
     ]
    },
    {
     "name": "stdout",
     "output_type": "stream",
     "text": [
      "\tTotal Loss (NLL + MDMM): -14424.16\n",
      "\tMDMM Loss:               13376.32\n",
      "\tRemaining Weights:       57.53 %\n"
     ]
    },
    {
     "name": "stderr",
     "output_type": "stream",
     "text": [
      "Epoch 928 [Training]: 100%|██████████| 84/84 [00:06<00:00, 13.38it/s, loss=-14371.31, λc2D1=462.06, λd1=563.00, λd2=670.95, λd3=454.80]\n",
      "Epoch 928 [Validation]: 100%|██████████| 21/21 [00:01<00:00, 15.06it/s, loss=-15006.61]\n"
     ]
    },
    {
     "name": "stdout",
     "output_type": "stream",
     "text": [
      "\tTotal Loss (NLL + MDMM): -14421.53\n",
      "\tMDMM Loss:               13379.31\n",
      "\tRemaining Weights:       57.53 %\n"
     ]
    },
    {
     "name": "stderr",
     "output_type": "stream",
     "text": [
      "Epoch 929 [Training]: 100%|██████████| 84/84 [00:06<00:00, 13.50it/s, loss=-14247.45, λc2D1=462.39, λd1=563.45, λd2=671.42, λd3=455.12]\n",
      "Epoch 929 [Validation]: 100%|██████████| 21/21 [00:01<00:00, 15.08it/s, loss=-14847.34]\n"
     ]
    },
    {
     "name": "stdout",
     "output_type": "stream",
     "text": [
      "\tTotal Loss (NLL + MDMM): -14265.58\n",
      "\tMDMM Loss:               13514.68\n",
      "\tRemaining Weights:       58.03 %\n"
     ]
    },
    {
     "name": "stderr",
     "output_type": "stream",
     "text": [
      "Epoch 930 [Training]: 100%|██████████| 84/84 [00:06<00:00, 13.56it/s, loss=-14270.45, λc2D1=462.73, λd1=563.91, λd2=671.88, λd3=455.44]\n",
      "Epoch 930 [Validation]: 100%|██████████| 21/21 [00:01<00:00, 14.95it/s, loss=-14890.60]\n"
     ]
    },
    {
     "name": "stdout",
     "output_type": "stream",
     "text": [
      "\tTotal Loss (NLL + MDMM): -14304.52\n",
      "\tMDMM Loss:               13495.18\n",
      "\tRemaining Weights:       57.64 %\n"
     ]
    },
    {
     "name": "stderr",
     "output_type": "stream",
     "text": [
      "Epoch 931 [Training]: 100%|██████████| 84/84 [00:06<00:00, 13.46it/s, loss=-14342.54, λc2D1=463.07, λd1=564.36, λd2=672.35, λd3=455.76]\n",
      "Epoch 931 [Validation]: 100%|██████████| 21/21 [00:01<00:00, 15.04it/s, loss=-14978.48]\n"
     ]
    },
    {
     "name": "stdout",
     "output_type": "stream",
     "text": [
      "\tTotal Loss (NLL + MDMM): -14392.22\n",
      "\tMDMM Loss:               13411.20\n",
      "\tRemaining Weights:       57.47 %\n"
     ]
    },
    {
     "name": "stderr",
     "output_type": "stream",
     "text": [
      "Epoch 932 [Training]: 100%|██████████| 84/84 [00:06<00:00, 13.49it/s, loss=-14324.47, λc2D1=463.41, λd1=564.81, λd2=672.82, λd3=456.08]\n",
      "Epoch 932 [Validation]: 100%|██████████| 21/21 [00:01<00:00, 14.38it/s, loss=-14957.41]\n"
     ]
    },
    {
     "name": "stdout",
     "output_type": "stream",
     "text": [
      "\tTotal Loss (NLL + MDMM): -14371.61\n",
      "\tMDMM Loss:               13428.58\n",
      "\tRemaining Weights:       57.80 %\n"
     ]
    },
    {
     "name": "stderr",
     "output_type": "stream",
     "text": [
      "Epoch 933 [Training]: 100%|██████████| 84/84 [00:06<00:00, 13.32it/s, loss=-14252.16, λc2D1=463.75, λd1=565.27, λd2=673.29, λd3=456.40]\n",
      "Epoch 933 [Validation]: 100%|██████████| 21/21 [00:01<00:00, 15.12it/s, loss=-14883.42]\n"
     ]
    },
    {
     "name": "stdout",
     "output_type": "stream",
     "text": [
      "\tTotal Loss (NLL + MDMM): -14296.86\n",
      "\tMDMM Loss:               13499.26\n",
      "\tRemaining Weights:       57.64 %\n"
     ]
    },
    {
     "name": "stderr",
     "output_type": "stream",
     "text": [
      "Epoch 934 [Training]: 100%|██████████| 84/84 [00:06<00:00, 13.19it/s, loss=-14332.35, λc2D1=464.09, λd1=565.72, λd2=673.75, λd3=456.72]\n",
      "Epoch 934 [Validation]: 100%|██████████| 21/21 [00:01<00:00, 14.82it/s, loss=-14945.99]\n"
     ]
    },
    {
     "name": "stdout",
     "output_type": "stream",
     "text": [
      "\tTotal Loss (NLL + MDMM): -14357.36\n",
      "\tMDMM Loss:               13444.34\n",
      "\tRemaining Weights:       57.75 %\n"
     ]
    },
    {
     "name": "stderr",
     "output_type": "stream",
     "text": [
      "Epoch 935 [Training]: 100%|██████████| 84/84 [00:06<00:00, 13.26it/s, loss=-14295.30, λc2D1=464.43, λd1=566.17, λd2=674.22, λd3=457.04]\n",
      "Epoch 935 [Validation]: 100%|██████████| 21/21 [00:01<00:00, 14.67it/s, loss=-14916.56]\n"
     ]
    },
    {
     "name": "stdout",
     "output_type": "stream",
     "text": [
      "\tTotal Loss (NLL + MDMM): -14329.53\n",
      "\tMDMM Loss:               13473.63\n",
      "\tRemaining Weights:       57.75 %\n"
     ]
    },
    {
     "name": "stderr",
     "output_type": "stream",
     "text": [
      "Epoch 936 [Training]: 100%|██████████| 84/84 [00:06<00:00, 13.25it/s, loss=-14260.89, λc2D1=464.77, λd1=566.63, λd2=674.69, λd3=457.36]\n",
      "Epoch 936 [Validation]: 100%|██████████| 21/21 [00:01<00:00, 14.87it/s, loss=-14864.55]\n"
     ]
    },
    {
     "name": "stdout",
     "output_type": "stream",
     "text": [
      "\tTotal Loss (NLL + MDMM): -14278.38\n",
      "\tMDMM Loss:               13530.43\n",
      "\tRemaining Weights:       57.69 %\n"
     ]
    },
    {
     "name": "stderr",
     "output_type": "stream",
     "text": [
      "Epoch 937 [Training]: 100%|██████████| 84/84 [00:06<00:00, 13.52it/s, loss=-14294.38, λc2D1=465.11, λd1=567.08, λd2=675.15, λd3=457.68]\n",
      "Epoch 937 [Validation]: 100%|██████████| 21/21 [00:01<00:00, 14.97it/s, loss=-14914.15]\n"
     ]
    },
    {
     "name": "stdout",
     "output_type": "stream",
     "text": [
      "\tTotal Loss (NLL + MDMM): -14329.79\n",
      "\tMDMM Loss:               13462.18\n",
      "\tRemaining Weights:       57.58 %\n"
     ]
    },
    {
     "name": "stderr",
     "output_type": "stream",
     "text": [
      "Epoch 938 [Training]: 100%|██████████| 84/84 [00:06<00:00, 13.31it/s, loss=-14310.98, λc2D1=465.45, λd1=567.53, λd2=675.62, λd3=458.00]\n",
      "Epoch 938 [Validation]: 100%|██████████| 21/21 [00:01<00:00, 15.11it/s, loss=-14926.32]\n"
     ]
    },
    {
     "name": "stdout",
     "output_type": "stream",
     "text": [
      "\tTotal Loss (NLL + MDMM): -14335.25\n",
      "\tMDMM Loss:               13467.28\n",
      "\tRemaining Weights:       57.53 %\n"
     ]
    },
    {
     "name": "stderr",
     "output_type": "stream",
     "text": [
      "Epoch 939 [Training]: 100%|██████████| 84/84 [00:06<00:00, 13.55it/s, loss=-14225.49, λc2D1=465.79, λd1=567.98, λd2=676.08, λd3=458.32]\n",
      "Epoch 939 [Validation]: 100%|██████████| 21/21 [00:01<00:00, 15.14it/s, loss=-14839.84]\n"
     ]
    },
    {
     "name": "stdout",
     "output_type": "stream",
     "text": [
      "\tTotal Loss (NLL + MDMM): -14252.73\n",
      "\tMDMM Loss:               13555.30\n",
      "\tRemaining Weights:       57.64 %\n"
     ]
    },
    {
     "name": "stderr",
     "output_type": "stream",
     "text": [
      "Epoch 940 [Training]: 100%|██████████| 84/84 [00:06<00:00, 13.42it/s, loss=-14304.21, λc2D1=466.13, λd1=568.43, λd2=676.55, λd3=458.63]\n",
      "Epoch 940 [Validation]: 100%|██████████| 21/21 [00:01<00:00, 15.35it/s, loss=-14911.26]\n"
     ]
    },
    {
     "name": "stdout",
     "output_type": "stream",
     "text": [
      "\tTotal Loss (NLL + MDMM): -14325.29\n",
      "\tMDMM Loss:               13487.37\n",
      "\tRemaining Weights:       57.58 %\n"
     ]
    },
    {
     "name": "stderr",
     "output_type": "stream",
     "text": [
      "Epoch 941 [Training]: 100%|██████████| 84/84 [00:06<00:00, 13.58it/s, loss=-14293.68, λc2D1=466.47, λd1=568.89, λd2=677.01, λd3=458.95]\n",
      "Epoch 941 [Validation]: 100%|██████████| 21/21 [00:01<00:00, 14.84it/s, loss=-14885.07]\n"
     ]
    },
    {
     "name": "stdout",
     "output_type": "stream",
     "text": [
      "\tTotal Loss (NLL + MDMM): -14302.06\n",
      "\tMDMM Loss:               13500.51\n",
      "\tRemaining Weights:       57.69 %\n"
     ]
    },
    {
     "name": "stderr",
     "output_type": "stream",
     "text": [
      "Epoch 942 [Training]: 100%|██████████| 84/84 [00:06<00:00, 13.55it/s, loss=-14301.06, λc2D1=466.81, λd1=569.34, λd2=677.48, λd3=459.27]\n",
      "Epoch 942 [Validation]: 100%|██████████| 21/21 [00:01<00:00, 14.44it/s, loss=-14901.64]\n"
     ]
    },
    {
     "name": "stdout",
     "output_type": "stream",
     "text": [
      "\tTotal Loss (NLL + MDMM): -14315.47\n",
      "\tMDMM Loss:               13488.97\n",
      "\tRemaining Weights:       57.58 %\n"
     ]
    },
    {
     "name": "stderr",
     "output_type": "stream",
     "text": [
      "Epoch 943 [Training]: 100%|██████████| 84/84 [00:06<00:00, 13.40it/s, loss=-14192.01, λc2D1=467.15, λd1=569.79, λd2=677.94, λd3=459.59]\n",
      "Epoch 943 [Validation]: 100%|██████████| 21/21 [00:01<00:00, 15.12it/s, loss=-14801.16]\n"
     ]
    },
    {
     "name": "stdout",
     "output_type": "stream",
     "text": [
      "\tTotal Loss (NLL + MDMM): -14216.47\n",
      "\tMDMM Loss:               13593.84\n",
      "\tRemaining Weights:       57.80 %\n"
     ]
    },
    {
     "name": "stderr",
     "output_type": "stream",
     "text": [
      "Epoch 944 [Training]: 100%|██████████| 84/84 [00:06<00:00, 13.51it/s, loss=-14222.59, λc2D1=467.49, λd1=570.24, λd2=678.41, λd3=459.91]\n",
      "Epoch 944 [Validation]: 100%|██████████| 21/21 [00:01<00:00, 15.12it/s, loss=-14839.63]\n"
     ]
    },
    {
     "name": "stdout",
     "output_type": "stream",
     "text": [
      "\tTotal Loss (NLL + MDMM): -14255.57\n",
      "\tMDMM Loss:               13535.33\n",
      "\tRemaining Weights:       57.80 %\n"
     ]
    },
    {
     "name": "stderr",
     "output_type": "stream",
     "text": [
      "Epoch 945 [Training]: 100%|██████████| 84/84 [00:06<00:00, 13.26it/s, loss=-14269.33, λc2D1=467.82, λd1=570.69, λd2=678.87, λd3=460.22]\n",
      "Epoch 945 [Validation]: 100%|██████████| 21/21 [00:01<00:00, 14.78it/s, loss=-14865.15]\n"
     ]
    },
    {
     "name": "stdout",
     "output_type": "stream",
     "text": [
      "\tTotal Loss (NLL + MDMM): -14285.87\n",
      "\tMDMM Loss:               13516.26\n",
      "\tRemaining Weights:       57.47 %\n"
     ]
    },
    {
     "name": "stderr",
     "output_type": "stream",
     "text": [
      "Epoch 946 [Training]: 100%|██████████| 84/84 [00:06<00:00, 13.40it/s, loss=-14293.68, λc2D1=468.16, λd1=571.14, λd2=679.34, λd3=460.54]\n",
      "Epoch 946 [Validation]: 100%|██████████| 21/21 [00:01<00:00, 15.09it/s, loss=-14908.29]\n"
     ]
    },
    {
     "name": "stdout",
     "output_type": "stream",
     "text": [
      "\tTotal Loss (NLL + MDMM): -14321.97\n",
      "\tMDMM Loss:               13490.36\n",
      "\tRemaining Weights:       57.31 %\n"
     ]
    },
    {
     "name": "stderr",
     "output_type": "stream",
     "text": [
      "Epoch 947 [Training]: 100%|██████████| 84/84 [00:06<00:00, 13.47it/s, loss=-14169.91, λc2D1=468.50, λd1=571.59, λd2=679.80, λd3=460.86]\n",
      "Epoch 947 [Validation]: 100%|██████████| 21/21 [00:01<00:00, 14.92it/s, loss=-14774.21]\n"
     ]
    },
    {
     "name": "stdout",
     "output_type": "stream",
     "text": [
      "\tTotal Loss (NLL + MDMM): -14192.76\n",
      "\tMDMM Loss:               13609.23\n",
      "\tRemaining Weights:       57.58 %\n"
     ]
    },
    {
     "name": "stderr",
     "output_type": "stream",
     "text": [
      "Epoch 948 [Training]: 100%|██████████| 84/84 [00:06<00:00, 13.29it/s, loss=-14237.21, λc2D1=468.84, λd1=572.04, λd2=680.26, λd3=461.18]\n",
      "Epoch 948 [Validation]: 100%|██████████| 21/21 [00:01<00:00, 14.80it/s, loss=-14853.28]\n"
     ]
    },
    {
     "name": "stdout",
     "output_type": "stream",
     "text": [
      "\tTotal Loss (NLL + MDMM): -14264.43\n",
      "\tMDMM Loss:               13553.04\n",
      "\tRemaining Weights:       57.14 %\n"
     ]
    },
    {
     "name": "stderr",
     "output_type": "stream",
     "text": [
      "Epoch 949 [Training]: 100%|██████████| 84/84 [00:06<00:00, 13.41it/s, loss=-14298.34, λc2D1=469.18, λd1=572.49, λd2=680.72, λd3=461.50]\n",
      "Epoch 949 [Validation]: 100%|██████████| 21/21 [00:01<00:00, 15.10it/s, loss=-14891.16]\n"
     ]
    },
    {
     "name": "stdout",
     "output_type": "stream",
     "text": [
      "\tTotal Loss (NLL + MDMM): -14303.23\n",
      "\tMDMM Loss:               13516.27\n",
      "\tRemaining Weights:       57.42 %\n"
     ]
    },
    {
     "name": "stderr",
     "output_type": "stream",
     "text": [
      "Epoch 950 [Training]: 100%|██████████| 84/84 [00:06<00:00, 13.26it/s, loss=-14274.60, λc2D1=469.52, λd1=572.94, λd2=681.18, λd3=461.81]\n",
      "Epoch 950 [Validation]: 100%|██████████| 21/21 [00:01<00:00, 14.34it/s, loss=-14890.00]\n"
     ]
    },
    {
     "name": "stdout",
     "output_type": "stream",
     "text": [
      "\tTotal Loss (NLL + MDMM): -14304.67\n",
      "\tMDMM Loss:               13526.29\n",
      "\tRemaining Weights:       57.20 %\n"
     ]
    },
    {
     "name": "stderr",
     "output_type": "stream",
     "text": [
      "Epoch 951 [Training]: 100%|██████████| 84/84 [00:06<00:00, 13.48it/s, loss=-14250.33, λc2D1=469.86, λd1=573.39, λd2=681.65, λd3=462.13]\n",
      "Epoch 951 [Validation]: 100%|██████████| 21/21 [00:01<00:00, 14.93it/s, loss=-14862.27]\n"
     ]
    },
    {
     "name": "stdout",
     "output_type": "stream",
     "text": [
      "\tTotal Loss (NLL + MDMM): -14270.57\n",
      "\tMDMM Loss:               13541.31\n",
      "\tRemaining Weights:       57.42 %\n"
     ]
    },
    {
     "name": "stderr",
     "output_type": "stream",
     "text": [
      "Epoch 952 [Training]: 100%|██████████| 84/84 [00:06<00:00, 13.25it/s, loss=-14184.18, λc2D1=470.20, λd1=573.84, λd2=682.11, λd3=462.45]\n",
      "Epoch 952 [Validation]: 100%|██████████| 21/21 [00:01<00:00, 15.04it/s, loss=-14812.92]\n"
     ]
    },
    {
     "name": "stdout",
     "output_type": "stream",
     "text": [
      "\tTotal Loss (NLL + MDMM): -14229.00\n",
      "\tMDMM Loss:               13597.99\n",
      "\tRemaining Weights:       57.25 %\n"
     ]
    },
    {
     "name": "stderr",
     "output_type": "stream",
     "text": [
      "Epoch 953 [Training]: 100%|██████████| 84/84 [00:06<00:00, 13.52it/s, loss=-14210.04, λc2D1=470.54, λd1=574.29, λd2=682.57, λd3=462.76]\n",
      "Epoch 953 [Validation]: 100%|██████████| 21/21 [00:01<00:00, 15.11it/s, loss=-14864.34]\n"
     ]
    },
    {
     "name": "stdout",
     "output_type": "stream",
     "text": [
      "\tTotal Loss (NLL + MDMM): -14272.37\n",
      "\tMDMM Loss:               13554.78\n",
      "\tRemaining Weights:       57.36 %\n"
     ]
    },
    {
     "name": "stderr",
     "output_type": "stream",
     "text": [
      "Epoch 954 [Training]: 100%|██████████| 84/84 [00:06<00:00, 13.44it/s, loss=-14263.37, λc2D1=470.88, λd1=574.74, λd2=683.03, λd3=463.08]\n",
      "Epoch 954 [Validation]: 100%|██████████| 21/21 [00:01<00:00, 14.95it/s, loss=-14889.87]\n"
     ]
    },
    {
     "name": "stdout",
     "output_type": "stream",
     "text": [
      "\tTotal Loss (NLL + MDMM): -14302.33\n",
      "\tMDMM Loss:               13525.27\n",
      "\tRemaining Weights:       57.20 %\n"
     ]
    },
    {
     "name": "stderr",
     "output_type": "stream",
     "text": [
      "Epoch 955 [Training]: 100%|██████████| 84/84 [00:06<00:00, 13.24it/s, loss=-14239.80, λc2D1=471.22, λd1=575.19, λd2=683.49, λd3=463.40]\n",
      "Epoch 955 [Validation]: 100%|██████████| 21/21 [00:01<00:00, 14.81it/s, loss=-14838.82]\n"
     ]
    },
    {
     "name": "stdout",
     "output_type": "stream",
     "text": [
      "\tTotal Loss (NLL + MDMM): -14255.42\n",
      "\tMDMM Loss:               13567.81\n",
      "\tRemaining Weights:       57.47 %\n"
     ]
    },
    {
     "name": "stderr",
     "output_type": "stream",
     "text": [
      "Epoch 956 [Training]: 100%|██████████| 84/84 [00:06<00:00, 13.39it/s, loss=-14283.29, λc2D1=471.56, λd1=575.64, λd2=683.95, λd3=463.71]\n",
      "Epoch 956 [Validation]: 100%|██████████| 21/21 [00:01<00:00, 14.86it/s, loss=-14858.63]\n"
     ]
    },
    {
     "name": "stdout",
     "output_type": "stream",
     "text": [
      "\tTotal Loss (NLL + MDMM): -14272.47\n",
      "\tMDMM Loss:               13566.84\n",
      "\tRemaining Weights:       57.53 %\n"
     ]
    },
    {
     "name": "stderr",
     "output_type": "stream",
     "text": [
      "Epoch 957 [Training]: 100%|██████████| 84/84 [00:06<00:00, 13.41it/s, loss=-14249.35, λc2D1=471.90, λd1=576.09, λd2=684.41, λd3=464.03]\n",
      "Epoch 957 [Validation]: 100%|██████████| 21/21 [00:01<00:00, 15.23it/s, loss=-14858.89]\n"
     ]
    },
    {
     "name": "stdout",
     "output_type": "stream",
     "text": [
      "\tTotal Loss (NLL + MDMM): -14273.94\n",
      "\tMDMM Loss:               13560.28\n",
      "\tRemaining Weights:       57.36 %\n"
     ]
    },
    {
     "name": "stderr",
     "output_type": "stream",
     "text": [
      "Epoch 958 [Training]: 100%|██████████| 84/84 [00:06<00:00, 13.54it/s, loss=-14186.93, λc2D1=472.24, λd1=576.54, λd2=684.87, λd3=464.34]\n",
      "Epoch 958 [Validation]: 100%|██████████| 21/21 [00:01<00:00, 14.74it/s, loss=-14795.40]\n"
     ]
    },
    {
     "name": "stdout",
     "output_type": "stream",
     "text": [
      "\tTotal Loss (NLL + MDMM): -14211.22\n",
      "\tMDMM Loss:               13619.56\n",
      "\tRemaining Weights:       57.31 %\n"
     ]
    },
    {
     "name": "stderr",
     "output_type": "stream",
     "text": [
      "Epoch 959 [Training]: 100%|██████████| 84/84 [00:06<00:00, 13.19it/s, loss=-14182.59, λc2D1=472.58, λd1=576.99, λd2=685.33, λd3=464.66]\n",
      "Epoch 959 [Validation]: 100%|██████████| 21/21 [00:01<00:00, 14.69it/s, loss=-14794.81]\n"
     ]
    },
    {
     "name": "stdout",
     "output_type": "stream",
     "text": [
      "\tTotal Loss (NLL + MDMM): -14210.44\n",
      "\tMDMM Loss:               13629.84\n",
      "\tRemaining Weights:       57.31 %\n"
     ]
    },
    {
     "name": "stderr",
     "output_type": "stream",
     "text": [
      "Epoch 960 [Training]: 100%|██████████| 84/84 [00:06<00:00, 13.39it/s, loss=-14281.05, λc2D1=472.92, λd1=577.44, λd2=685.78, λd3=464.97]\n",
      "Epoch 960 [Validation]: 100%|██████████| 21/21 [00:01<00:00, 14.54it/s, loss=-14873.04]\n"
     ]
    },
    {
     "name": "stdout",
     "output_type": "stream",
     "text": [
      "\tTotal Loss (NLL + MDMM): -14290.48\n",
      "\tMDMM Loss:               13554.75\n",
      "\tRemaining Weights:       57.09 %\n"
     ]
    },
    {
     "name": "stderr",
     "output_type": "stream",
     "text": [
      "Epoch 961 [Training]: 100%|██████████| 84/84 [00:06<00:00, 13.37it/s, loss=-14288.62, λc2D1=473.26, λd1=577.89, λd2=686.24, λd3=465.28]\n",
      "Epoch 961 [Validation]: 100%|██████████| 21/21 [00:01<00:00, 14.66it/s, loss=-14889.66]\n"
     ]
    },
    {
     "name": "stdout",
     "output_type": "stream",
     "text": [
      "\tTotal Loss (NLL + MDMM): -14303.14\n",
      "\tMDMM Loss:               13541.83\n",
      "\tRemaining Weights:       56.92 %\n"
     ]
    },
    {
     "name": "stderr",
     "output_type": "stream",
     "text": [
      "Epoch 962 [Training]: 100%|██████████| 84/84 [00:06<00:00, 13.58it/s, loss=-14210.75, λc2D1=473.60, λd1=578.34, λd2=686.70, λd3=465.59]\n",
      "Epoch 962 [Validation]: 100%|██████████| 21/21 [00:01<00:00, 14.83it/s, loss=-14824.12]\n"
     ]
    },
    {
     "name": "stdout",
     "output_type": "stream",
     "text": [
      "\tTotal Loss (NLL + MDMM): -14240.98\n",
      "\tMDMM Loss:               13590.06\n",
      "\tRemaining Weights:       57.25 %\n"
     ]
    },
    {
     "name": "stderr",
     "output_type": "stream",
     "text": [
      "Epoch 963 [Training]: 100%|██████████| 84/84 [00:06<00:00, 13.22it/s, loss=-14253.81, λc2D1=473.94, λd1=578.79, λd2=687.15, λd3=465.91]\n",
      "Epoch 963 [Validation]: 100%|██████████| 21/21 [00:01<00:00, 14.79it/s, loss=-14863.52]\n"
     ]
    },
    {
     "name": "stdout",
     "output_type": "stream",
     "text": [
      "\tTotal Loss (NLL + MDMM): -14279.99\n",
      "\tMDMM Loss:               13564.06\n",
      "\tRemaining Weights:       56.92 %\n"
     ]
    },
    {
     "name": "stderr",
     "output_type": "stream",
     "text": [
      "Epoch 964 [Training]: 100%|██████████| 84/84 [00:06<00:00, 13.27it/s, loss=-14276.71, λc2D1=474.29, λd1=579.24, λd2=687.61, λd3=466.22]\n",
      "Epoch 964 [Validation]: 100%|██████████| 21/21 [00:01<00:00, 14.34it/s, loss=-14869.69]\n"
     ]
    },
    {
     "name": "stdout",
     "output_type": "stream",
     "text": [
      "\tTotal Loss (NLL + MDMM): -14285.36\n",
      "\tMDMM Loss:               13562.23\n",
      "\tRemaining Weights:       56.98 %\n"
     ]
    },
    {
     "name": "stderr",
     "output_type": "stream",
     "text": [
      "Epoch 965 [Training]: 100%|██████████| 84/84 [00:06<00:00, 13.48it/s, loss=-14283.48, λc2D1=474.63, λd1=579.69, λd2=688.07, λd3=466.53]\n",
      "Epoch 965 [Validation]: 100%|██████████| 21/21 [00:01<00:00, 14.88it/s, loss=-14853.06]\n"
     ]
    },
    {
     "name": "stdout",
     "output_type": "stream",
     "text": [
      "\tTotal Loss (NLL + MDMM): -14269.64\n",
      "\tMDMM Loss:               13577.01\n",
      "\tRemaining Weights:       56.92 %\n"
     ]
    },
    {
     "name": "stderr",
     "output_type": "stream",
     "text": [
      "Epoch 966 [Training]: 100%|██████████| 84/84 [00:06<00:00, 13.05it/s, loss=-14222.17, λc2D1=474.97, λd1=580.14, λd2=688.52, λd3=466.84]\n",
      "Epoch 966 [Validation]: 100%|██████████| 21/21 [00:01<00:00, 14.89it/s, loss=-14808.72]\n"
     ]
    },
    {
     "name": "stdout",
     "output_type": "stream",
     "text": [
      "\tTotal Loss (NLL + MDMM): -14225.45\n",
      "\tMDMM Loss:               13607.99\n",
      "\tRemaining Weights:       57.20 %\n"
     ]
    },
    {
     "name": "stderr",
     "output_type": "stream",
     "text": [
      "Epoch 967 [Training]: 100%|██████████| 84/84 [00:06<00:00, 13.40it/s, loss=-14272.39, λc2D1=475.31, λd1=580.59, λd2=688.98, λd3=467.15]\n",
      "Epoch 967 [Validation]: 100%|██████████| 21/21 [00:01<00:00, 15.03it/s, loss=-14889.25]\n"
     ]
    },
    {
     "name": "stdout",
     "output_type": "stream",
     "text": [
      "\tTotal Loss (NLL + MDMM): -14303.01\n",
      "\tMDMM Loss:               13556.74\n",
      "\tRemaining Weights:       56.70 %\n"
     ]
    },
    {
     "name": "stderr",
     "output_type": "stream",
     "text": [
      "Epoch 968 [Training]: 100%|██████████| 84/84 [00:06<00:00, 13.34it/s, loss=-14200.44, λc2D1=475.66, λd1=581.05, λd2=689.44, λd3=467.46]\n",
      "Epoch 968 [Validation]: 100%|██████████| 21/21 [00:01<00:00, 15.15it/s, loss=-14808.87]\n"
     ]
    },
    {
     "name": "stdout",
     "output_type": "stream",
     "text": [
      "\tTotal Loss (NLL + MDMM): -14226.43\n",
      "\tMDMM Loss:               13606.47\n",
      "\tRemaining Weights:       56.98 %\n"
     ]
    },
    {
     "name": "stderr",
     "output_type": "stream",
     "text": [
      "Epoch 969 [Training]: 100%|██████████| 84/84 [00:06<00:00, 13.53it/s, loss=-14269.23, λc2D1=476.00, λd1=581.50, λd2=689.90, λd3=467.77]\n",
      "Epoch 969 [Validation]: 100%|██████████| 21/21 [00:01<00:00, 14.85it/s, loss=-14867.89]\n"
     ]
    },
    {
     "name": "stdout",
     "output_type": "stream",
     "text": [
      "\tTotal Loss (NLL + MDMM): -14279.06\n",
      "\tMDMM Loss:               13576.08\n",
      "\tRemaining Weights:       56.76 %\n"
     ]
    },
    {
     "name": "stderr",
     "output_type": "stream",
     "text": [
      "Epoch 970 [Training]: 100%|██████████| 84/84 [00:06<00:00, 13.45it/s, loss=-14225.12, λc2D1=476.34, λd1=581.95, λd2=690.35, λd3=468.08]\n",
      "Epoch 970 [Validation]: 100%|██████████| 21/21 [00:01<00:00, 14.86it/s, loss=-14837.29]\n"
     ]
    },
    {
     "name": "stdout",
     "output_type": "stream",
     "text": [
      "\tTotal Loss (NLL + MDMM): -14255.32\n",
      "\tMDMM Loss:               13604.51\n",
      "\tRemaining Weights:       56.76 %\n"
     ]
    },
    {
     "name": "stderr",
     "output_type": "stream",
     "text": [
      "Epoch 971 [Training]: 100%|██████████| 84/84 [00:06<00:00, 13.54it/s, loss=-14251.96, λc2D1=476.69, λd1=582.40, λd2=690.81, λd3=468.39]\n",
      "Epoch 971 [Validation]: 100%|██████████| 21/21 [00:01<00:00, 15.03it/s, loss=-14838.02]\n"
     ]
    },
    {
     "name": "stdout",
     "output_type": "stream",
     "text": [
      "\tTotal Loss (NLL + MDMM): -14247.36\n",
      "\tMDMM Loss:               13610.69\n",
      "\tRemaining Weights:       56.76 %\n"
     ]
    },
    {
     "name": "stderr",
     "output_type": "stream",
     "text": [
      "Epoch 972 [Training]: 100%|██████████| 84/84 [00:06<00:00, 13.61it/s, loss=-14219.11, λc2D1=477.03, λd1=582.84, λd2=691.27, λd3=468.69]\n",
      "Epoch 972 [Validation]: 100%|██████████| 21/21 [00:01<00:00, 14.84it/s, loss=-14844.92]\n"
     ]
    },
    {
     "name": "stdout",
     "output_type": "stream",
     "text": [
      "\tTotal Loss (NLL + MDMM): -14254.26\n",
      "\tMDMM Loss:               13603.05\n",
      "\tRemaining Weights:       56.81 %\n"
     ]
    },
    {
     "name": "stderr",
     "output_type": "stream",
     "text": [
      "Epoch 973 [Training]: 100%|██████████| 84/84 [00:06<00:00, 13.67it/s, loss=-14229.95, λc2D1=477.37, λd1=583.29, λd2=691.72, λd3=469.00]\n",
      "Epoch 973 [Validation]: 100%|██████████| 21/21 [00:01<00:00, 15.09it/s, loss=-14832.68]\n"
     ]
    },
    {
     "name": "stdout",
     "output_type": "stream",
     "text": [
      "\tTotal Loss (NLL + MDMM): -14247.07\n",
      "\tMDMM Loss:               13615.48\n",
      "\tRemaining Weights:       56.81 %\n"
     ]
    },
    {
     "name": "stderr",
     "output_type": "stream",
     "text": [
      "Epoch 974 [Training]: 100%|██████████| 84/84 [00:06<00:00, 13.66it/s, loss=-14228.79, λc2D1=477.71, λd1=583.74, λd2=692.17, λd3=469.31]\n",
      "Epoch 974 [Validation]: 100%|██████████| 21/21 [00:01<00:00, 15.19it/s, loss=-14808.03]\n"
     ]
    },
    {
     "name": "stdout",
     "output_type": "stream",
     "text": [
      "\tTotal Loss (NLL + MDMM): -14226.70\n",
      "\tMDMM Loss:               13623.88\n",
      "\tRemaining Weights:       56.70 %\n"
     ]
    },
    {
     "name": "stderr",
     "output_type": "stream",
     "text": [
      "Epoch 975 [Training]: 100%|██████████| 84/84 [00:06<00:00, 13.55it/s, loss=-14254.59, λc2D1=478.06, λd1=584.19, λd2=692.63, λd3=469.62]\n",
      "Epoch 975 [Validation]: 100%|██████████| 21/21 [00:01<00:00, 15.21it/s, loss=-14853.94]\n"
     ]
    },
    {
     "name": "stdout",
     "output_type": "stream",
     "text": [
      "\tTotal Loss (NLL + MDMM): -14268.88\n",
      "\tMDMM Loss:               13600.63\n",
      "\tRemaining Weights:       56.65 %\n"
     ]
    },
    {
     "name": "stderr",
     "output_type": "stream",
     "text": [
      "Epoch 976 [Training]: 100%|██████████| 84/84 [00:06<00:00, 13.60it/s, loss=-14217.20, λc2D1=478.40, λd1=584.64, λd2=693.08, λd3=469.93]\n",
      "Epoch 976 [Validation]: 100%|██████████| 21/21 [00:01<00:00, 15.12it/s, loss=-14809.67]\n"
     ]
    },
    {
     "name": "stdout",
     "output_type": "stream",
     "text": [
      "\tTotal Loss (NLL + MDMM): -14224.28\n",
      "\tMDMM Loss:               13635.31\n",
      "\tRemaining Weights:       56.87 %\n"
     ]
    },
    {
     "name": "stderr",
     "output_type": "stream",
     "text": [
      "Epoch 977 [Training]: 100%|██████████| 84/84 [00:06<00:00, 13.53it/s, loss=-14219.52, λc2D1=478.74, λd1=585.09, λd2=693.53, λd3=470.24]\n",
      "Epoch 977 [Validation]: 100%|██████████| 21/21 [00:01<00:00, 15.07it/s, loss=-14811.54]\n"
     ]
    },
    {
     "name": "stdout",
     "output_type": "stream",
     "text": [
      "\tTotal Loss (NLL + MDMM): -14227.75\n",
      "\tMDMM Loss:               13630.65\n",
      "\tRemaining Weights:       56.70 %\n"
     ]
    },
    {
     "name": "stderr",
     "output_type": "stream",
     "text": [
      "Epoch 978 [Training]: 100%|██████████| 84/84 [00:06<00:00, 13.13it/s, loss=-14206.76, λc2D1=479.09, λd1=585.54, λd2=693.98, λd3=470.55]\n",
      "Epoch 978 [Validation]: 100%|██████████| 21/21 [00:01<00:00, 14.45it/s, loss=-14792.05]\n"
     ]
    },
    {
     "name": "stdout",
     "output_type": "stream",
     "text": [
      "\tTotal Loss (NLL + MDMM): -14204.31\n",
      "\tMDMM Loss:               13654.58\n",
      "\tRemaining Weights:       56.92 %\n"
     ]
    },
    {
     "name": "stderr",
     "output_type": "stream",
     "text": [
      "Epoch 979 [Training]: 100%|██████████| 84/84 [00:06<00:00, 13.53it/s, loss=-14196.66, λc2D1=479.43, λd1=585.99, λd2=694.43, λd3=470.86]\n",
      "Epoch 979 [Validation]: 100%|██████████| 21/21 [00:01<00:00, 15.17it/s, loss=-14770.77]\n"
     ]
    },
    {
     "name": "stdout",
     "output_type": "stream",
     "text": [
      "\tTotal Loss (NLL + MDMM): -14186.40\n",
      "\tMDMM Loss:               13669.81\n",
      "\tRemaining Weights:       57.20 %\n"
     ]
    },
    {
     "name": "stderr",
     "output_type": "stream",
     "text": [
      "Epoch 980 [Training]: 100%|██████████| 84/84 [00:06<00:00, 13.35it/s, loss=-14176.24, λc2D1=479.77, λd1=586.44, λd2=694.88, λd3=471.17]\n",
      "Epoch 980 [Validation]: 100%|██████████| 21/21 [00:01<00:00, 14.66it/s, loss=-14838.38]\n"
     ]
    },
    {
     "name": "stdout",
     "output_type": "stream",
     "text": [
      "\tTotal Loss (NLL + MDMM): -14248.71\n",
      "\tMDMM Loss:               13631.08\n",
      "\tRemaining Weights:       56.76 %\n"
     ]
    },
    {
     "name": "stderr",
     "output_type": "stream",
     "text": [
      "Epoch 981 [Training]: 100%|██████████| 84/84 [00:06<00:00, 13.47it/s, loss=-14129.56, λc2D1=480.11, λd1=586.89, λd2=695.34, λd3=471.48]\n",
      "Epoch 981 [Validation]: 100%|██████████| 21/21 [00:01<00:00, 14.81it/s, loss=-14726.93]\n"
     ]
    },
    {
     "name": "stdout",
     "output_type": "stream",
     "text": [
      "\tTotal Loss (NLL + MDMM): -14140.62\n",
      "\tMDMM Loss:               13736.26\n",
      "\tRemaining Weights:       56.87 %\n"
     ]
    },
    {
     "name": "stderr",
     "output_type": "stream",
     "text": [
      "Epoch 982 [Training]: 100%|██████████| 84/84 [00:06<00:00, 13.44it/s, loss=-14134.33, λc2D1=480.46, λd1=587.34, λd2=695.79, λd3=471.79]\n",
      "Epoch 982 [Validation]: 100%|██████████| 21/21 [00:01<00:00, 14.86it/s, loss=-14705.44]\n"
     ]
    },
    {
     "name": "stdout",
     "output_type": "stream",
     "text": [
      "\tTotal Loss (NLL + MDMM): -14117.95\n",
      "\tMDMM Loss:               13758.79\n",
      "\tRemaining Weights:       57.03 %\n"
     ]
    },
    {
     "name": "stderr",
     "output_type": "stream",
     "text": [
      "Epoch 983 [Training]: 100%|██████████| 84/84 [00:06<00:00, 13.57it/s, loss=-14210.30, λc2D1=480.80, λd1=587.79, λd2=696.23, λd3=472.10]\n",
      "Epoch 983 [Validation]: 100%|██████████| 21/21 [00:01<00:00, 15.12it/s, loss=-14776.91]\n"
     ]
    },
    {
     "name": "stdout",
     "output_type": "stream",
     "text": [
      "\tTotal Loss (NLL + MDMM): -14190.60\n",
      "\tMDMM Loss:               13680.06\n",
      "\tRemaining Weights:       56.98 %\n"
     ]
    },
    {
     "name": "stderr",
     "output_type": "stream",
     "text": [
      "Epoch 984 [Training]: 100%|██████████| 84/84 [00:06<00:00, 13.54it/s, loss=-14223.75, λc2D1=481.14, λd1=588.24, λd2=696.68, λd3=472.41]\n",
      "Epoch 984 [Validation]: 100%|██████████| 21/21 [00:01<00:00, 15.10it/s, loss=-14779.93]\n"
     ]
    },
    {
     "name": "stdout",
     "output_type": "stream",
     "text": [
      "\tTotal Loss (NLL + MDMM): -14196.47\n",
      "\tMDMM Loss:               13680.15\n",
      "\tRemaining Weights:       56.98 %\n"
     ]
    },
    {
     "name": "stderr",
     "output_type": "stream",
     "text": [
      "Epoch 985 [Training]: 100%|██████████| 84/84 [00:06<00:00, 13.48it/s, loss=-14212.59, λc2D1=481.49, λd1=588.69, λd2=697.13, λd3=472.72]\n",
      "Epoch 985 [Validation]: 100%|██████████| 21/21 [00:01<00:00, 15.21it/s, loss=-14783.81]\n"
     ]
    },
    {
     "name": "stdout",
     "output_type": "stream",
     "text": [
      "\tTotal Loss (NLL + MDMM): -14198.09\n",
      "\tMDMM Loss:               13683.29\n",
      "\tRemaining Weights:       57.03 %\n"
     ]
    },
    {
     "name": "stderr",
     "output_type": "stream",
     "text": [
      "Epoch 986 [Training]: 100%|██████████| 84/84 [00:06<00:00, 13.52it/s, loss=-14189.24, λc2D1=481.83, λd1=589.14, λd2=697.58, λd3=473.03]\n",
      "Epoch 986 [Validation]: 100%|██████████| 21/21 [00:01<00:00, 14.68it/s, loss=-14728.79]\n"
     ]
    },
    {
     "name": "stdout",
     "output_type": "stream",
     "text": [
      "\tTotal Loss (NLL + MDMM): -14146.90\n",
      "\tMDMM Loss:               13710.98\n",
      "\tRemaining Weights:       57.09 %\n"
     ]
    },
    {
     "name": "stderr",
     "output_type": "stream",
     "text": [
      "Epoch 987 [Training]: 100%|██████████| 84/84 [00:06<00:00, 13.46it/s, loss=-14118.13, λc2D1=482.17, λd1=589.58, λd2=698.02, λd3=473.34]\n",
      "Epoch 987 [Validation]: 100%|██████████| 21/21 [00:01<00:00, 15.08it/s, loss=-14679.00]\n"
     ]
    },
    {
     "name": "stdout",
     "output_type": "stream",
     "text": [
      "\tTotal Loss (NLL + MDMM): -14093.86\n",
      "\tMDMM Loss:               13785.30\n",
      "\tRemaining Weights:       57.20 %\n"
     ]
    },
    {
     "name": "stderr",
     "output_type": "stream",
     "text": [
      "Epoch 988 [Training]: 100%|██████████| 84/84 [00:06<00:00, 13.38it/s, loss=-14185.60, λc2D1=482.51, λd1=590.03, λd2=698.47, λd3=473.65]\n",
      "Epoch 988 [Validation]: 100%|██████████| 21/21 [00:01<00:00, 15.16it/s, loss=-14766.87]\n"
     ]
    },
    {
     "name": "stdout",
     "output_type": "stream",
     "text": [
      "\tTotal Loss (NLL + MDMM): -14180.25\n",
      "\tMDMM Loss:               13704.06\n",
      "\tRemaining Weights:       56.98 %\n"
     ]
    },
    {
     "name": "stderr",
     "output_type": "stream",
     "text": [
      "Epoch 989 [Training]: 100%|██████████| 84/84 [00:06<00:00, 13.56it/s, loss=-14194.52, λc2D1=482.86, λd1=590.48, λd2=698.91, λd3=473.97]\n",
      "Epoch 989 [Validation]: 100%|██████████| 21/21 [00:01<00:00, 15.33it/s, loss=-14807.73]\n"
     ]
    },
    {
     "name": "stdout",
     "output_type": "stream",
     "text": [
      "\tTotal Loss (NLL + MDMM): -14219.28\n",
      "\tMDMM Loss:               13671.33\n",
      "\tRemaining Weights:       56.76 %\n"
     ]
    },
    {
     "name": "stderr",
     "output_type": "stream",
     "text": [
      "Epoch 990 [Training]: 100%|██████████| 84/84 [00:06<00:00, 13.52it/s, loss=-14072.22, λc2D1=483.20, λd1=590.94, λd2=699.36, λd3=474.28]\n",
      "Epoch 990 [Validation]: 100%|██████████| 21/21 [00:01<00:00, 14.97it/s, loss=-14742.09]\n"
     ]
    },
    {
     "name": "stdout",
     "output_type": "stream",
     "text": [
      "\tTotal Loss (NLL + MDMM): -14155.08\n",
      "\tMDMM Loss:               13730.52\n",
      "\tRemaining Weights:       57.03 %\n"
     ]
    },
    {
     "name": "stderr",
     "output_type": "stream",
     "text": [
      "Epoch 991 [Training]: 100%|██████████| 84/84 [00:06<00:00, 13.45it/s, loss=-14135.52, λc2D1=483.54, λd1=591.39, λd2=699.81, λd3=474.59]\n",
      "Epoch 991 [Validation]: 100%|██████████| 21/21 [00:01<00:00, 15.09it/s, loss=-14730.87]\n"
     ]
    },
    {
     "name": "stdout",
     "output_type": "stream",
     "text": [
      "\tTotal Loss (NLL + MDMM): -14144.35\n",
      "\tMDMM Loss:               13748.91\n",
      "\tRemaining Weights:       57.20 %\n"
     ]
    },
    {
     "name": "stderr",
     "output_type": "stream",
     "text": [
      "Epoch 992 [Training]: 100%|██████████| 84/84 [00:06<00:00, 13.48it/s, loss=-14138.75, λc2D1=483.89, λd1=591.84, λd2=700.25, λd3=474.90]\n",
      "Epoch 992 [Validation]: 100%|██████████| 21/21 [00:01<00:00, 14.38it/s, loss=-14746.62]\n"
     ]
    },
    {
     "name": "stdout",
     "output_type": "stream",
     "text": [
      "\tTotal Loss (NLL + MDMM): -14163.83\n",
      "\tMDMM Loss:               13727.92\n",
      "\tRemaining Weights:       57.09 %\n"
     ]
    },
    {
     "name": "stderr",
     "output_type": "stream",
     "text": [
      "Epoch 993 [Training]: 100%|██████████| 84/84 [00:06<00:00, 13.50it/s, loss=-14145.27, λc2D1=484.23, λd1=592.29, λd2=700.70, λd3=475.21]\n",
      "Epoch 993 [Validation]: 100%|██████████| 21/21 [00:01<00:00, 14.92it/s, loss=-14735.43]\n"
     ]
    },
    {
     "name": "stdout",
     "output_type": "stream",
     "text": [
      "\tTotal Loss (NLL + MDMM): -14150.45\n",
      "\tMDMM Loss:               13736.49\n",
      "\tRemaining Weights:       57.03 %\n"
     ]
    },
    {
     "name": "stderr",
     "output_type": "stream",
     "text": [
      "Epoch 994 [Training]: 100%|██████████| 84/84 [00:06<00:00, 13.45it/s, loss=-14062.25, λc2D1=484.57, λd1=592.74, λd2=701.15, λd3=475.52]\n",
      "Epoch 994 [Validation]: 100%|██████████| 21/21 [00:01<00:00, 14.86it/s, loss=-14724.72]\n"
     ]
    },
    {
     "name": "stdout",
     "output_type": "stream",
     "text": [
      "\tTotal Loss (NLL + MDMM): -14136.70\n",
      "\tMDMM Loss:               13747.90\n",
      "\tRemaining Weights:       57.09 %\n"
     ]
    },
    {
     "name": "stderr",
     "output_type": "stream",
     "text": [
      "Epoch 995 [Training]: 100%|██████████| 84/84 [00:06<00:00, 13.50it/s, loss=-14088.98, λc2D1=484.91, λd1=593.20, λd2=701.59, λd3=475.82]\n",
      "Epoch 995 [Validation]: 100%|██████████| 21/21 [00:01<00:00, 14.53it/s, loss=-14731.38]\n"
     ]
    },
    {
     "name": "stdout",
     "output_type": "stream",
     "text": [
      "\tTotal Loss (NLL + MDMM): -14147.30\n",
      "\tMDMM Loss:               13745.64\n",
      "\tRemaining Weights:       56.92 %\n"
     ]
    },
    {
     "name": "stderr",
     "output_type": "stream",
     "text": [
      "Epoch 996 [Training]: 100%|██████████| 84/84 [00:06<00:00, 13.33it/s, loss=-14025.86, λc2D1=485.26, λd1=593.65, λd2=702.04, λd3=476.13]\n",
      "Epoch 996 [Validation]: 100%|██████████| 21/21 [00:01<00:00, 15.01it/s, loss=-14639.56]\n"
     ]
    },
    {
     "name": "stdout",
     "output_type": "stream",
     "text": [
      "\tTotal Loss (NLL + MDMM): -14056.24\n",
      "\tMDMM Loss:               13834.86\n",
      "\tRemaining Weights:       56.92 %\n"
     ]
    },
    {
     "name": "stderr",
     "output_type": "stream",
     "text": [
      "Epoch 997 [Training]: 100%|██████████| 84/84 [00:06<00:00, 13.56it/s, loss=-14101.50, λc2D1=485.60, λd1=594.11, λd2=702.48, λd3=476.44]\n",
      "Epoch 997 [Validation]: 100%|██████████| 21/21 [00:01<00:00, 15.01it/s, loss=-14700.74]\n"
     ]
    },
    {
     "name": "stdout",
     "output_type": "stream",
     "text": [
      "\tTotal Loss (NLL + MDMM): -14112.92\n",
      "\tMDMM Loss:               13787.78\n",
      "\tRemaining Weights:       57.58 %\n"
     ]
    },
    {
     "name": "stderr",
     "output_type": "stream",
     "text": [
      "Epoch 998 [Training]: 100%|██████████| 84/84 [00:06<00:00, 13.59it/s, loss=-14144.02, λc2D1=485.95, λd1=594.56, λd2=702.93, λd3=476.75]\n",
      "Epoch 998 [Validation]: 100%|██████████| 21/21 [00:01<00:00, 14.94it/s, loss=-14680.14]\n"
     ]
    },
    {
     "name": "stdout",
     "output_type": "stream",
     "text": [
      "\tTotal Loss (NLL + MDMM): -14098.56\n",
      "\tMDMM Loss:               13788.62\n",
      "\tRemaining Weights:       57.58 %\n"
     ]
    },
    {
     "name": "stderr",
     "output_type": "stream",
     "text": [
      "Epoch 999 [Training]: 100%|██████████| 84/84 [00:06<00:00, 13.43it/s, loss=-14024.28, λc2D1=486.29, λd1=595.02, λd2=703.37, λd3=477.06]\n",
      "Epoch 999 [Validation]: 100%|██████████| 21/21 [00:01<00:00, 15.08it/s, loss=-14605.79]\n"
     ]
    },
    {
     "name": "stdout",
     "output_type": "stream",
     "text": [
      "\tTotal Loss (NLL + MDMM): -14021.33\n",
      "\tMDMM Loss:               13875.27\n",
      "\tRemaining Weights:       57.69 %\n",
      "Fine-tuning...\n"
     ]
    },
    {
     "name": "stderr",
     "output_type": "stream",
     "text": [
      "Epoch 1000 [Training]: 100%|██████████| 84/84 [00:06<00:00, 13.56it/s, loss=-28170.95, λc2D1=0.00, λd1=0.00, λd2=0.00, λd3=0.00]\n",
      "Epoch 1000 [Validation]: 100%|██████████| 21/21 [00:01<00:00, 15.21it/s, loss=-28670.16]\n"
     ]
    },
    {
     "name": "stdout",
     "output_type": "stream",
     "text": [
      "\tTotal Loss (NLL + MDMM): -28115.18\n",
      "\tMDMM Loss:               0.00\n",
      "\tRemaining Weights:       73.69 %\n"
     ]
    },
    {
     "name": "stderr",
     "output_type": "stream",
     "text": [
      "Epoch 1001 [Training]: 100%|██████████| 84/84 [00:06<00:00, 13.33it/s, loss=-28266.11, λc2D1=0.00, λd1=0.00, λd2=0.00, λd3=0.00]\n",
      "Epoch 1001 [Validation]: 100%|██████████| 21/21 [00:01<00:00, 15.03it/s, loss=-28750.98]\n"
     ]
    },
    {
     "name": "stdout",
     "output_type": "stream",
     "text": [
      "\tTotal Loss (NLL + MDMM): -28198.43\n",
      "\tMDMM Loss:               0.00\n",
      "\tRemaining Weights:       81.58 %\n"
     ]
    },
    {
     "name": "stderr",
     "output_type": "stream",
     "text": [
      "Epoch 1002 [Training]: 100%|██████████| 84/84 [00:06<00:00, 13.51it/s, loss=-28331.66, λc2D1=0.00, λd1=0.00, λd2=0.00, λd3=0.00]\n",
      "Epoch 1002 [Validation]: 100%|██████████| 21/21 [00:01<00:00, 15.14it/s, loss=-28825.46]\n"
     ]
    },
    {
     "name": "stdout",
     "output_type": "stream",
     "text": [
      "\tTotal Loss (NLL + MDMM): -28271.18\n",
      "\tMDMM Loss:               0.00\n",
      "\tRemaining Weights:       84.94 %\n"
     ]
    },
    {
     "name": "stderr",
     "output_type": "stream",
     "text": [
      "Epoch 1003 [Training]: 100%|██████████| 84/84 [00:06<00:00, 13.58it/s, loss=-28386.37, λc2D1=0.00, λd1=0.00, λd2=0.00, λd3=0.00]\n",
      "Epoch 1003 [Validation]: 100%|██████████| 21/21 [00:01<00:00, 14.88it/s, loss=-28887.33]\n"
     ]
    },
    {
     "name": "stdout",
     "output_type": "stream",
     "text": [
      "\tTotal Loss (NLL + MDMM): -28327.41\n",
      "\tMDMM Loss:               0.00\n",
      "\tRemaining Weights:       85.93 %\n"
     ]
    },
    {
     "name": "stderr",
     "output_type": "stream",
     "text": [
      "Epoch 1004 [Training]: 100%|██████████| 84/84 [00:06<00:00, 13.30it/s, loss=-28447.83, λc2D1=0.00, λd1=0.00, λd2=0.00, λd3=0.00]\n",
      "Epoch 1004 [Validation]: 100%|██████████| 21/21 [00:01<00:00, 15.04it/s, loss=-28946.79]\n"
     ]
    },
    {
     "name": "stdout",
     "output_type": "stream",
     "text": [
      "\tTotal Loss (NLL + MDMM): -28387.55\n",
      "\tMDMM Loss:               0.00\n",
      "\tRemaining Weights:       88.25 %\n"
     ]
    },
    {
     "name": "stderr",
     "output_type": "stream",
     "text": [
      "Epoch 1005 [Training]: 100%|██████████| 84/84 [00:06<00:00, 13.36it/s, loss=-28493.87, λc2D1=0.00, λd1=0.00, λd2=0.00, λd3=0.00]\n",
      "Epoch 1005 [Validation]: 100%|██████████| 21/21 [00:01<00:00, 14.65it/s, loss=-28991.01]\n"
     ]
    },
    {
     "name": "stdout",
     "output_type": "stream",
     "text": [
      "\tTotal Loss (NLL + MDMM): -28432.21\n",
      "\tMDMM Loss:               0.00\n",
      "\tRemaining Weights:       89.96 %\n"
     ]
    },
    {
     "name": "stderr",
     "output_type": "stream",
     "text": [
      "Epoch 1006 [Training]: 100%|██████████| 84/84 [00:06<00:00, 13.37it/s, loss=-28548.61, λc2D1=0.00, λd1=0.00, λd2=0.00, λd3=0.00]\n",
      "Epoch 1006 [Validation]: 100%|██████████| 21/21 [00:01<00:00, 14.73it/s, loss=-29050.18]\n"
     ]
    },
    {
     "name": "stdout",
     "output_type": "stream",
     "text": [
      "\tTotal Loss (NLL + MDMM): -28492.27\n",
      "\tMDMM Loss:               0.00\n",
      "\tRemaining Weights:       89.13 %\n"
     ]
    },
    {
     "name": "stderr",
     "output_type": "stream",
     "text": [
      "Epoch 1007 [Training]: 100%|██████████| 84/84 [00:06<00:00, 13.41it/s, loss=-28594.27, λc2D1=0.00, λd1=0.00, λd2=0.00, λd3=0.00]\n",
      "Epoch 1007 [Validation]: 100%|██████████| 21/21 [00:01<00:00, 15.06it/s, loss=-29054.26]\n"
     ]
    },
    {
     "name": "stdout",
     "output_type": "stream",
     "text": [
      "\tTotal Loss (NLL + MDMM): -28507.86\n",
      "\tMDMM Loss:               0.00\n",
      "\tRemaining Weights:       89.19 %\n"
     ]
    },
    {
     "name": "stderr",
     "output_type": "stream",
     "text": [
      "Epoch 1008 [Training]: 100%|██████████| 84/84 [00:06<00:00, 13.39it/s, loss=-28637.78, λc2D1=0.00, λd1=0.00, λd2=0.00, λd3=0.00]\n",
      "Epoch 1008 [Validation]: 100%|██████████| 21/21 [00:01<00:00, 15.08it/s, loss=-29130.62]\n"
     ]
    },
    {
     "name": "stdout",
     "output_type": "stream",
     "text": [
      "\tTotal Loss (NLL + MDMM): -28578.19\n",
      "\tMDMM Loss:               0.00\n",
      "\tRemaining Weights:       89.58 %\n"
     ]
    },
    {
     "name": "stderr",
     "output_type": "stream",
     "text": [
      "Epoch 1009 [Training]: 100%|██████████| 84/84 [00:06<00:00, 13.33it/s, loss=-28676.26, λc2D1=0.00, λd1=0.00, λd2=0.00, λd3=0.00]\n",
      "Epoch 1009 [Validation]: 100%|██████████| 21/21 [00:01<00:00, 15.11it/s, loss=-29171.69]\n"
     ]
    },
    {
     "name": "stdout",
     "output_type": "stream",
     "text": [
      "\tTotal Loss (NLL + MDMM): -28619.62\n",
      "\tMDMM Loss:               0.00\n",
      "\tRemaining Weights:       89.58 %\n"
     ]
    },
    {
     "name": "stderr",
     "output_type": "stream",
     "text": [
      "Epoch 1010 [Training]: 100%|██████████| 84/84 [00:06<00:00, 13.38it/s, loss=-28722.03, λc2D1=0.00, λd1=0.00, λd2=0.00, λd3=0.00]\n",
      "Epoch 1010 [Validation]: 100%|██████████| 21/21 [00:01<00:00, 15.08it/s, loss=-29202.09]\n"
     ]
    },
    {
     "name": "stdout",
     "output_type": "stream",
     "text": [
      "\tTotal Loss (NLL + MDMM): -28652.33\n",
      "\tMDMM Loss:               0.00\n",
      "\tRemaining Weights:       91.84 %\n"
     ]
    },
    {
     "name": "stderr",
     "output_type": "stream",
     "text": [
      "Epoch 1011 [Training]: 100%|██████████| 84/84 [00:06<00:00, 13.33it/s, loss=-28753.10, λc2D1=0.00, λd1=0.00, λd2=0.00, λd3=0.00]\n",
      "Epoch 1011 [Validation]: 100%|██████████| 21/21 [00:01<00:00, 14.79it/s, loss=-29239.64]\n"
     ]
    },
    {
     "name": "stdout",
     "output_type": "stream",
     "text": [
      "\tTotal Loss (NLL + MDMM): -28690.52\n",
      "\tMDMM Loss:               0.00\n",
      "\tRemaining Weights:       93.49 %\n"
     ]
    },
    {
     "name": "stderr",
     "output_type": "stream",
     "text": [
      "Epoch 1012 [Training]: 100%|██████████| 84/84 [00:06<00:00, 13.29it/s, loss=-28800.51, λc2D1=0.00, λd1=0.00, λd2=0.00, λd3=0.00]\n",
      "Epoch 1012 [Validation]: 100%|██████████| 21/21 [00:01<00:00, 14.95it/s, loss=-29289.10]\n"
     ]
    },
    {
     "name": "stdout",
     "output_type": "stream",
     "text": [
      "\tTotal Loss (NLL + MDMM): -28736.26\n",
      "\tMDMM Loss:               0.00\n",
      "\tRemaining Weights:       94.21 %\n"
     ]
    },
    {
     "name": "stderr",
     "output_type": "stream",
     "text": [
      "Epoch 1013 [Training]: 100%|██████████| 84/84 [00:06<00:00, 13.30it/s, loss=-28831.24, λc2D1=0.00, λd1=0.00, λd2=0.00, λd3=0.00]\n",
      "Epoch 1013 [Validation]: 100%|██████████| 21/21 [00:01<00:00, 14.73it/s, loss=-29321.94]\n"
     ]
    },
    {
     "name": "stdout",
     "output_type": "stream",
     "text": [
      "\tTotal Loss (NLL + MDMM): -28769.68\n",
      "\tMDMM Loss:               0.00\n",
      "\tRemaining Weights:       94.04 %\n"
     ]
    },
    {
     "name": "stderr",
     "output_type": "stream",
     "text": [
      "Epoch 1014 [Training]: 100%|██████████| 84/84 [00:06<00:00, 13.42it/s, loss=-28863.20, λc2D1=0.00, λd1=0.00, λd2=0.00, λd3=0.00]\n",
      "Epoch 1014 [Validation]: 100%|██████████| 21/21 [00:01<00:00, 14.86it/s, loss=-29353.67]\n"
     ]
    },
    {
     "name": "stdout",
     "output_type": "stream",
     "text": [
      "\tTotal Loss (NLL + MDMM): -28797.95\n",
      "\tMDMM Loss:               0.00\n",
      "\tRemaining Weights:       94.32 %\n"
     ]
    },
    {
     "name": "stderr",
     "output_type": "stream",
     "text": [
      "Epoch 1015 [Training]: 100%|██████████| 84/84 [00:06<00:00, 13.50it/s, loss=-28896.33, λc2D1=0.00, λd1=0.00, λd2=0.00, λd3=0.00]\n",
      "Epoch 1015 [Validation]: 100%|██████████| 21/21 [00:01<00:00, 15.32it/s, loss=-29389.83]\n"
     ]
    },
    {
     "name": "stdout",
     "output_type": "stream",
     "text": [
      "\tTotal Loss (NLL + MDMM): -28833.01\n",
      "\tMDMM Loss:               0.00\n",
      "\tRemaining Weights:       94.70 %\n"
     ]
    },
    {
     "name": "stderr",
     "output_type": "stream",
     "text": [
      "Epoch 1016 [Training]: 100%|██████████| 84/84 [00:06<00:00, 13.40it/s, loss=-28945.58, λc2D1=0.00, λd1=0.00, λd2=0.00, λd3=0.00]\n",
      "Epoch 1016 [Validation]: 100%|██████████| 21/21 [00:01<00:00, 14.66it/s, loss=-29417.95]\n"
     ]
    },
    {
     "name": "stdout",
     "output_type": "stream",
     "text": [
      "\tTotal Loss (NLL + MDMM): -28867.11\n",
      "\tMDMM Loss:               0.00\n",
      "\tRemaining Weights:       94.54 %\n"
     ]
    },
    {
     "name": "stderr",
     "output_type": "stream",
     "text": [
      "Epoch 1017 [Training]: 100%|██████████| 84/84 [00:06<00:00, 13.44it/s, loss=-28969.72, λc2D1=0.00, λd1=0.00, λd2=0.00, λd3=0.00]\n",
      "Epoch 1017 [Validation]: 100%|██████████| 21/21 [00:01<00:00, 15.13it/s, loss=-29452.14]\n"
     ]
    },
    {
     "name": "stdout",
     "output_type": "stream",
     "text": [
      "\tTotal Loss (NLL + MDMM): -28901.97\n",
      "\tMDMM Loss:               0.00\n",
      "\tRemaining Weights:       94.48 %\n"
     ]
    },
    {
     "name": "stderr",
     "output_type": "stream",
     "text": [
      "Epoch 1018 [Training]: 100%|██████████| 84/84 [00:06<00:00, 13.62it/s, loss=-29003.41, λc2D1=0.00, λd1=0.00, λd2=0.00, λd3=0.00]\n",
      "Epoch 1018 [Validation]: 100%|██████████| 21/21 [00:01<00:00, 14.76it/s, loss=-29502.38]\n"
     ]
    },
    {
     "name": "stdout",
     "output_type": "stream",
     "text": [
      "\tTotal Loss (NLL + MDMM): -28946.28\n",
      "\tMDMM Loss:               0.00\n",
      "\tRemaining Weights:       94.32 %\n"
     ]
    },
    {
     "name": "stderr",
     "output_type": "stream",
     "text": [
      "Epoch 1019 [Training]: 100%|██████████| 84/84 [00:06<00:00, 13.46it/s, loss=-29034.51, λc2D1=0.00, λd1=0.00, λd2=0.00, λd3=0.00]\n",
      "Epoch 1019 [Validation]: 100%|██████████| 21/21 [00:01<00:00, 15.19it/s, loss=-29518.79]\n"
     ]
    },
    {
     "name": "stdout",
     "output_type": "stream",
     "text": [
      "\tTotal Loss (NLL + MDMM): -28968.62\n",
      "\tMDMM Loss:               0.00\n",
      "\tRemaining Weights:       94.21 %\n"
     ]
    },
    {
     "name": "stderr",
     "output_type": "stream",
     "text": [
      "Epoch 1020 [Training]: 100%|██████████| 84/84 [00:06<00:00, 13.48it/s, loss=-29076.59, λc2D1=0.00, λd1=0.00, λd2=0.00, λd3=0.00]\n",
      "Epoch 1020 [Validation]: 100%|██████████| 21/21 [00:01<00:00, 15.04it/s, loss=-29546.54]\n"
     ]
    },
    {
     "name": "stdout",
     "output_type": "stream",
     "text": [
      "\tTotal Loss (NLL + MDMM): -28996.68\n",
      "\tMDMM Loss:               0.00\n",
      "\tRemaining Weights:       94.21 %\n"
     ]
    },
    {
     "name": "stderr",
     "output_type": "stream",
     "text": [
      "Epoch 1021 [Training]: 100%|██████████| 84/84 [00:06<00:00, 13.18it/s, loss=-29093.79, λc2D1=0.00, λd1=0.00, λd2=0.00, λd3=0.00]\n",
      "Epoch 1021 [Validation]: 100%|██████████| 21/21 [00:01<00:00, 15.22it/s, loss=-29573.94]\n"
     ]
    },
    {
     "name": "stdout",
     "output_type": "stream",
     "text": [
      "\tTotal Loss (NLL + MDMM): -29024.92\n",
      "\tMDMM Loss:               0.00\n",
      "\tRemaining Weights:       94.37 %\n"
     ]
    },
    {
     "name": "stderr",
     "output_type": "stream",
     "text": [
      "Epoch 1022 [Training]: 100%|██████████| 84/84 [00:06<00:00, 13.21it/s, loss=-29124.94, λc2D1=0.00, λd1=0.00, λd2=0.00, λd3=0.00]\n",
      "Epoch 1022 [Validation]: 100%|██████████| 21/21 [00:01<00:00, 15.08it/s, loss=-29613.91]\n"
     ]
    },
    {
     "name": "stdout",
     "output_type": "stream",
     "text": [
      "\tTotal Loss (NLL + MDMM): -29061.32\n",
      "\tMDMM Loss:               0.00\n",
      "\tRemaining Weights:       94.37 %\n"
     ]
    },
    {
     "name": "stderr",
     "output_type": "stream",
     "text": [
      "Epoch 1023 [Training]: 100%|██████████| 84/84 [00:06<00:00, 13.47it/s, loss=-29149.81, λc2D1=0.00, λd1=0.00, λd2=0.00, λd3=0.00]\n",
      "Epoch 1023 [Validation]: 100%|██████████| 21/21 [00:01<00:00, 14.38it/s, loss=-29628.37]\n"
     ]
    },
    {
     "name": "stdout",
     "output_type": "stream",
     "text": [
      "\tTotal Loss (NLL + MDMM): -29080.58\n",
      "\tMDMM Loss:               0.00\n",
      "\tRemaining Weights:       94.48 %\n"
     ]
    },
    {
     "name": "stderr",
     "output_type": "stream",
     "text": [
      "Epoch 1024 [Training]: 100%|██████████| 84/84 [00:06<00:00, 13.44it/s, loss=-29180.97, λc2D1=0.00, λd1=0.00, λd2=0.00, λd3=0.00]\n",
      "Epoch 1024 [Validation]: 100%|██████████| 21/21 [00:01<00:00, 15.16it/s, loss=-29662.12]\n"
     ]
    },
    {
     "name": "stdout",
     "output_type": "stream",
     "text": [
      "\tTotal Loss (NLL + MDMM): -29111.42\n",
      "\tMDMM Loss:               0.00\n",
      "\tRemaining Weights:       94.76 %\n"
     ]
    },
    {
     "name": "stderr",
     "output_type": "stream",
     "text": [
      "Epoch 1025 [Training]: 100%|██████████| 84/84 [00:06<00:00, 13.51it/s, loss=-29200.44, λc2D1=0.00, λd1=0.00, λd2=0.00, λd3=0.00]\n",
      "Epoch 1025 [Validation]: 100%|██████████| 21/21 [00:01<00:00, 15.20it/s, loss=-29677.00]\n"
     ]
    },
    {
     "name": "stdout",
     "output_type": "stream",
     "text": [
      "\tTotal Loss (NLL + MDMM): -29123.62\n",
      "\tMDMM Loss:               0.00\n",
      "\tRemaining Weights:       94.76 %\n"
     ]
    },
    {
     "name": "stderr",
     "output_type": "stream",
     "text": [
      "Epoch 1026 [Training]: 100%|██████████| 84/84 [00:06<00:00, 13.57it/s, loss=-29225.56, λc2D1=0.00, λd1=0.00, λd2=0.00, λd3=0.00]\n",
      "Epoch 1026 [Validation]: 100%|██████████| 21/21 [00:01<00:00, 15.13it/s, loss=-29704.54]\n"
     ]
    },
    {
     "name": "stdout",
     "output_type": "stream",
     "text": [
      "\tTotal Loss (NLL + MDMM): -29156.79\n",
      "\tMDMM Loss:               0.00\n",
      "\tRemaining Weights:       94.70 %\n"
     ]
    },
    {
     "name": "stderr",
     "output_type": "stream",
     "text": [
      "Epoch 1027 [Training]: 100%|██████████| 84/84 [00:06<00:00, 13.64it/s, loss=-29266.01, λc2D1=0.00, λd1=0.00, λd2=0.00, λd3=0.00]\n",
      "Epoch 1027 [Validation]: 100%|██████████| 21/21 [00:01<00:00, 14.94it/s, loss=-29738.46]\n"
     ]
    },
    {
     "name": "stdout",
     "output_type": "stream",
     "text": [
      "\tTotal Loss (NLL + MDMM): -29190.76\n",
      "\tMDMM Loss:               0.00\n",
      "\tRemaining Weights:       94.59 %\n"
     ]
    },
    {
     "name": "stderr",
     "output_type": "stream",
     "text": [
      "Epoch 1028 [Training]: 100%|██████████| 84/84 [00:06<00:00, 13.62it/s, loss=-29290.39, λc2D1=0.00, λd1=0.00, λd2=0.00, λd3=0.00]\n",
      "Epoch 1028 [Validation]: 100%|██████████| 21/21 [00:01<00:00, 14.52it/s, loss=-29761.67]\n"
     ]
    },
    {
     "name": "stdout",
     "output_type": "stream",
     "text": [
      "\tTotal Loss (NLL + MDMM): -29216.83\n",
      "\tMDMM Loss:               0.00\n",
      "\tRemaining Weights:       94.76 %\n"
     ]
    },
    {
     "name": "stderr",
     "output_type": "stream",
     "text": [
      "Epoch 1029 [Training]: 100%|██████████| 84/84 [00:06<00:00, 13.41it/s, loss=-29305.57, λc2D1=0.00, λd1=0.00, λd2=0.00, λd3=0.00]\n",
      "Epoch 1029 [Validation]: 100%|██████████| 21/21 [00:01<00:00, 15.05it/s, loss=-29787.27]\n"
     ]
    },
    {
     "name": "stdout",
     "output_type": "stream",
     "text": [
      "\tTotal Loss (NLL + MDMM): -29241.64\n",
      "\tMDMM Loss:               0.00\n",
      "\tRemaining Weights:       94.54 %\n"
     ]
    }
   ],
   "source": [
    "from pquant import iterative_train\n",
    "\"\"\"\n",
    "Inputs to train_resnet we defined previously are:\n",
    "          model, trainloader, device, loss_func, epoch, optimizer, scheduler, **kwargs\n",
    "\"\"\"\n",
    "\n",
    "optimizer =  keras.optimizers.Nadam(learning_rate=config[\"lr\"])\n",
    "\n",
    "trained_model = iterative_train(model = model, \n",
    "                                config = config, \n",
    "                                train_func = train_smart_pixels_tf, \n",
    "                                valid_func = validate_smart_pixels_tf, \n",
    "                                trainloader = train_loader, \n",
    "                                testloader = val_loader, \n",
    "                                device = None, \n",
    "                                loss_func = custom_loss,\n",
    "                                optimizer = optimizer, \n",
    "                                callbacks     = cbs, \n",
    "                                )"
   ]
  },
  {
   "cell_type": "code",
   "execution_count": 14,
   "id": "6af319a4",
   "metadata": {},
   "outputs": [],
   "source": [
    "# TODO: \n",
    "#     - Increase number of epochs\n",
    "#     - Implement early stopping\n",
    "#     - Saving model weights (checkPoints)\n",
    "#     - HLS4ml tutorial"
   ]
  },
  {
   "cell_type": "code",
   "execution_count": null,
   "id": "1dbfbc58",
   "metadata": {},
   "outputs": [],
   "source": []
  },
  {
   "cell_type": "code",
   "execution_count": null,
   "id": "d696db81",
   "metadata": {},
   "outputs": [],
   "source": []
  }
 ],
 "metadata": {
  "kernelspec": {
   "display_name": "Python [conda env:pquant-gpu-env]",
   "language": "python",
   "name": "conda-env-pquant-gpu-env-py"
  },
  "language_info": {
   "codemirror_mode": {
    "name": "ipython",
    "version": 3
   },
   "file_extension": ".py",
   "mimetype": "text/x-python",
   "name": "python",
   "nbconvert_exporter": "python",
   "pygments_lexer": "ipython3",
   "version": "3.10.18"
  }
 },
 "nbformat": 4,
 "nbformat_minor": 5
}
