{
 "cells": [
  {
   "cell_type": "code",
   "execution_count": 1,
   "id": "27197caf-85a2-48b7-af76-a5ff943408ca",
   "metadata": {},
   "outputs": [
    {
     "name": "stderr",
     "output_type": "stream",
     "text": [
      "2025-07-12 21:00:52.224060: E external/local_xla/xla/stream_executor/cuda/cuda_fft.cc:467] Unable to register cuFFT factory: Attempting to register factory for plugin cuFFT when one has already been registered\n",
      "WARNING: All log messages before absl::InitializeLog() is called are written to STDERR\n",
      "E0000 00:00:1752346852.242760 3052685 cuda_dnn.cc:8579] Unable to register cuDNN factory: Attempting to register factory for plugin cuDNN when one has already been registered\n",
      "E0000 00:00:1752346852.250579 3052685 cuda_blas.cc:1407] Unable to register cuBLAS factory: Attempting to register factory for plugin cuBLAS when one has already been registered\n",
      "W0000 00:00:1752346852.268346 3052685 computation_placer.cc:177] computation placer already registered. Please check linkage and avoid linking the same target more than once.\n",
      "W0000 00:00:1752346852.268381 3052685 computation_placer.cc:177] computation placer already registered. Please check linkage and avoid linking the same target more than once.\n",
      "W0000 00:00:1752346852.268384 3052685 computation_placer.cc:177] computation placer already registered. Please check linkage and avoid linking the same target more than once.\n",
      "W0000 00:00:1752346852.268386 3052685 computation_placer.cc:177] computation placer already registered. Please check linkage and avoid linking the same target more than once.\n",
      "2025-07-12 21:00:52.274392: I tensorflow/core/platform/cpu_feature_guard.cc:210] This TensorFlow binary is optimized to use available CPU instructions in performance-critical operations.\n",
      "To enable the following instructions: AVX2 FMA, in other operations, rebuild TensorFlow with the appropriate compiler flags.\n"
     ]
    }
   ],
   "source": [
    "import os\n",
    "os.environ[\"KERAS_BACKEND\"] = \"tensorflow\"\n",
    "import keras\n",
    "keras.backend.set_image_data_format(\"channels_last\")\n",
    "import tensorflow as tf\n",
    "\n",
    "import numpy as np\n",
    "import random\n",
    "\n",
    "SEED = 42\n",
    "os.environ['PYTHONHASHSEED'] = str(SEED)\n",
    "random.seed(SEED)\n",
    "np.random.seed(SEED)\n",
    "tf.random.set_seed(SEED)"
   ]
  },
  {
   "cell_type": "code",
   "execution_count": 2,
   "id": "9e520e8e",
   "metadata": {},
   "outputs": [
    {
     "name": "stdout",
     "output_type": "stream",
     "text": [
      "pquant\n",
      "smartpixels\n"
     ]
    }
   ],
   "source": [
    "try:\n",
    "    os.chdir(\"/home/das214/PQuant/mdmm_dev/src\")\n",
    "except:\n",
    "    pass\n",
    "\n",
    "for f in os.listdir(os.getcwd()):\n",
    "    print(f)"
   ]
  },
  {
   "cell_type": "code",
   "execution_count": 3,
   "id": "71c59739",
   "metadata": {},
   "outputs": [
    {
     "name": "stdout",
     "output_type": "stream",
     "text": [
      "train_file_size: 80\n",
      "val_file_size: 20\n"
     ]
    }
   ],
   "source": [
    "dataset_base_dir = \"/depot/cms/users/das214/datasets/dataset_3sr/dataset_3sr_16x16_50x12P5_parquets/contained\"\n",
    "tfrecords_base_dir = os.path.join(dataset_base_dir, \"TFR_files\", \"2t\")\n",
    "\n",
    "dataset_train_dir = os.path.join(dataset_base_dir, \"train\")\n",
    "dataset_test_dir = os.path.join(dataset_base_dir, \"test\")\n",
    "tfrecords_dir_train = os.path.join(tfrecords_base_dir, \"TFR_train\")\n",
    "tfrecords_dir_val   = os.path.join(tfrecords_base_dir, \"TFR_val\")\n",
    "\n",
    "train_file_size = len(os.listdir(dataset_train_dir))\n",
    "val_file_size = len(os.listdir(dataset_test_dir))\n",
    "print(f\"train_file_size: {train_file_size}\\nval_file_size: {val_file_size}\")\n",
    "\n",
    "from smartpixels.DG.OptimizedDataGenerator_v2 import OptimizedDataGenerator\n",
    "from smartpixels.losses.maxNLL import custom_loss\n",
    "from smartpixels.models.conv2D import CreateModel\n"
   ]
  },
  {
   "cell_type": "code",
   "execution_count": 4,
   "id": "141bfb65",
   "metadata": {},
   "outputs": [
    {
     "name": "stderr",
     "output_type": "stream",
     "text": [
      "WARNING:root:Quantization is False in data generator. This may affect model performance.\n"
     ]
    },
    {
     "name": "stdout",
     "output_type": "stream",
     "text": [
      "Loading metadata from /depot/cms/users/das214/datasets/dataset_3sr/dataset_3sr_16x16_50x12P5_parquets/contained/TFR_files/2t/TFR_val/metadata.json\n",
      "Loading metadata from /depot/cms/users/das214/datasets/dataset_3sr/dataset_3sr_16x16_50x12P5_parquets/contained/TFR_files/2t/TFR_train/metadata.json\n"
     ]
    },
    {
     "name": "stderr",
     "output_type": "stream",
     "text": [
      "WARNING:root:Quantization is False in data generator. This may affect model performance.\n"
     ]
    }
   ],
   "source": [
    "val_loader = OptimizedDataGenerator(\n",
    "    load_from_tfrecords_dir= tfrecords_dir_val,\n",
    "    shuffle=True,\n",
    "    seed=SEED,\n",
    "    quantize=False,\n",
    ")\n",
    "\n",
    "train_loader = OptimizedDataGenerator(\n",
    "    load_from_tfrecords_dir = tfrecords_dir_train,\n",
    "    shuffle=True,\n",
    "    seed=SEED,\n",
    "    quantize=False,\n",
    ")\n"
   ]
  },
  {
   "cell_type": "code",
   "execution_count": 5,
   "id": "17959028",
   "metadata": {},
   "outputs": [
    {
     "name": "stderr",
     "output_type": "stream",
     "text": [
      "I0000 00:00:1752346865.385816 3052685 gpu_device.cc:2019] Created device /job:localhost/replica:0/task:0/device:GPU:0 with 38397 MB memory:  -> device: 0, name: NVIDIA A100-PCIE-40GB MIG 7g.40gb, pci bus id: 0000:21:00.0, compute capability: 8.0\n"
     ]
    },
    {
     "data": {
      "text/html": [
       "<pre style=\"white-space:pre;overflow-x:auto;line-height:normal;font-family:Menlo,'DejaVu Sans Mono',consolas,'Courier New',monospace\"><span style=\"font-weight: bold\">Model: \"functional\"</span>\n",
       "</pre>\n"
      ],
      "text/plain": [
       "\u001b[1mModel: \"functional\"\u001b[0m\n"
      ]
     },
     "metadata": {},
     "output_type": "display_data"
    },
    {
     "data": {
      "text/html": [
       "<pre style=\"white-space:pre;overflow-x:auto;line-height:normal;font-family:Menlo,'DejaVu Sans Mono',consolas,'Courier New',monospace\">┏━━━━━━━━━━━━━━━━━━━━━━━━━━━━━━━━━┳━━━━━━━━━━━━━━━━━━━━━━━━┳━━━━━━━━━━━━━━━┓\n",
       "┃<span style=\"font-weight: bold\"> Layer (type)                    </span>┃<span style=\"font-weight: bold\"> Output Shape           </span>┃<span style=\"font-weight: bold\">       Param # </span>┃\n",
       "┡━━━━━━━━━━━━━━━━━━━━━━━━━━━━━━━━━╇━━━━━━━━━━━━━━━━━━━━━━━━╇━━━━━━━━━━━━━━━┩\n",
       "│ input_layer (<span style=\"color: #0087ff; text-decoration-color: #0087ff\">InputLayer</span>)        │ (<span style=\"color: #00d7ff; text-decoration-color: #00d7ff\">None</span>, <span style=\"color: #00af00; text-decoration-color: #00af00\">16</span>, <span style=\"color: #00af00; text-decoration-color: #00af00\">16</span>, <span style=\"color: #00af00; text-decoration-color: #00af00\">2</span>)      │             <span style=\"color: #00af00; text-decoration-color: #00af00\">0</span> │\n",
       "├─────────────────────────────────┼────────────────────────┼───────────────┤\n",
       "│ separable_conv2d                │ (<span style=\"color: #00d7ff; text-decoration-color: #00d7ff\">None</span>, <span style=\"color: #00af00; text-decoration-color: #00af00\">14</span>, <span style=\"color: #00af00; text-decoration-color: #00af00\">14</span>, <span style=\"color: #00af00; text-decoration-color: #00af00\">5</span>)      │            <span style=\"color: #00af00; text-decoration-color: #00af00\">33</span> │\n",
       "│ (<span style=\"color: #0087ff; text-decoration-color: #0087ff\">SeparableConv2D</span>)               │                        │               │\n",
       "├─────────────────────────────────┼────────────────────────┼───────────────┤\n",
       "│ activation (<span style=\"color: #0087ff; text-decoration-color: #0087ff\">Activation</span>)         │ (<span style=\"color: #00d7ff; text-decoration-color: #00d7ff\">None</span>, <span style=\"color: #00af00; text-decoration-color: #00af00\">14</span>, <span style=\"color: #00af00; text-decoration-color: #00af00\">14</span>, <span style=\"color: #00af00; text-decoration-color: #00af00\">5</span>)      │             <span style=\"color: #00af00; text-decoration-color: #00af00\">0</span> │\n",
       "├─────────────────────────────────┼────────────────────────┼───────────────┤\n",
       "│ conv2d (<span style=\"color: #0087ff; text-decoration-color: #0087ff\">Conv2D</span>)                 │ (<span style=\"color: #00d7ff; text-decoration-color: #00d7ff\">None</span>, <span style=\"color: #00af00; text-decoration-color: #00af00\">14</span>, <span style=\"color: #00af00; text-decoration-color: #00af00\">14</span>, <span style=\"color: #00af00; text-decoration-color: #00af00\">5</span>)      │            <span style=\"color: #00af00; text-decoration-color: #00af00\">30</span> │\n",
       "├─────────────────────────────────┼────────────────────────┼───────────────┤\n",
       "│ activation_1 (<span style=\"color: #0087ff; text-decoration-color: #0087ff\">Activation</span>)       │ (<span style=\"color: #00d7ff; text-decoration-color: #00d7ff\">None</span>, <span style=\"color: #00af00; text-decoration-color: #00af00\">14</span>, <span style=\"color: #00af00; text-decoration-color: #00af00\">14</span>, <span style=\"color: #00af00; text-decoration-color: #00af00\">5</span>)      │             <span style=\"color: #00af00; text-decoration-color: #00af00\">0</span> │\n",
       "├─────────────────────────────────┼────────────────────────┼───────────────┤\n",
       "│ average_pooling2d               │ (<span style=\"color: #00d7ff; text-decoration-color: #00d7ff\">None</span>, <span style=\"color: #00af00; text-decoration-color: #00af00\">4</span>, <span style=\"color: #00af00; text-decoration-color: #00af00\">4</span>, <span style=\"color: #00af00; text-decoration-color: #00af00\">5</span>)        │             <span style=\"color: #00af00; text-decoration-color: #00af00\">0</span> │\n",
       "│ (<span style=\"color: #0087ff; text-decoration-color: #0087ff\">AveragePooling2D</span>)              │                        │               │\n",
       "├─────────────────────────────────┼────────────────────────┼───────────────┤\n",
       "│ activation_2 (<span style=\"color: #0087ff; text-decoration-color: #0087ff\">Activation</span>)       │ (<span style=\"color: #00d7ff; text-decoration-color: #00d7ff\">None</span>, <span style=\"color: #00af00; text-decoration-color: #00af00\">4</span>, <span style=\"color: #00af00; text-decoration-color: #00af00\">4</span>, <span style=\"color: #00af00; text-decoration-color: #00af00\">5</span>)        │             <span style=\"color: #00af00; text-decoration-color: #00af00\">0</span> │\n",
       "├─────────────────────────────────┼────────────────────────┼───────────────┤\n",
       "│ flatten (<span style=\"color: #0087ff; text-decoration-color: #0087ff\">Flatten</span>)               │ (<span style=\"color: #00d7ff; text-decoration-color: #00d7ff\">None</span>, <span style=\"color: #00af00; text-decoration-color: #00af00\">80</span>)             │             <span style=\"color: #00af00; text-decoration-color: #00af00\">0</span> │\n",
       "├─────────────────────────────────┼────────────────────────┼───────────────┤\n",
       "│ dense (<span style=\"color: #0087ff; text-decoration-color: #0087ff\">Dense</span>)                   │ (<span style=\"color: #00d7ff; text-decoration-color: #00d7ff\">None</span>, <span style=\"color: #00af00; text-decoration-color: #00af00\">16</span>)             │         <span style=\"color: #00af00; text-decoration-color: #00af00\">1,296</span> │\n",
       "├─────────────────────────────────┼────────────────────────┼───────────────┤\n",
       "│ activation_3 (<span style=\"color: #0087ff; text-decoration-color: #0087ff\">Activation</span>)       │ (<span style=\"color: #00d7ff; text-decoration-color: #00d7ff\">None</span>, <span style=\"color: #00af00; text-decoration-color: #00af00\">16</span>)             │             <span style=\"color: #00af00; text-decoration-color: #00af00\">0</span> │\n",
       "├─────────────────────────────────┼────────────────────────┼───────────────┤\n",
       "│ dense_1 (<span style=\"color: #0087ff; text-decoration-color: #0087ff\">Dense</span>)                 │ (<span style=\"color: #00d7ff; text-decoration-color: #00d7ff\">None</span>, <span style=\"color: #00af00; text-decoration-color: #00af00\">16</span>)             │           <span style=\"color: #00af00; text-decoration-color: #00af00\">272</span> │\n",
       "├─────────────────────────────────┼────────────────────────┼───────────────┤\n",
       "│ activation_4 (<span style=\"color: #0087ff; text-decoration-color: #0087ff\">Activation</span>)       │ (<span style=\"color: #00d7ff; text-decoration-color: #00d7ff\">None</span>, <span style=\"color: #00af00; text-decoration-color: #00af00\">16</span>)             │             <span style=\"color: #00af00; text-decoration-color: #00af00\">0</span> │\n",
       "├─────────────────────────────────┼────────────────────────┼───────────────┤\n",
       "│ dense_2 (<span style=\"color: #0087ff; text-decoration-color: #0087ff\">Dense</span>)                 │ (<span style=\"color: #00d7ff; text-decoration-color: #00d7ff\">None</span>, <span style=\"color: #00af00; text-decoration-color: #00af00\">14</span>)             │           <span style=\"color: #00af00; text-decoration-color: #00af00\">238</span> │\n",
       "└─────────────────────────────────┴────────────────────────┴───────────────┘\n",
       "</pre>\n"
      ],
      "text/plain": [
       "┏━━━━━━━━━━━━━━━━━━━━━━━━━━━━━━━━━┳━━━━━━━━━━━━━━━━━━━━━━━━┳━━━━━━━━━━━━━━━┓\n",
       "┃\u001b[1m \u001b[0m\u001b[1mLayer (type)                   \u001b[0m\u001b[1m \u001b[0m┃\u001b[1m \u001b[0m\u001b[1mOutput Shape          \u001b[0m\u001b[1m \u001b[0m┃\u001b[1m \u001b[0m\u001b[1m      Param #\u001b[0m\u001b[1m \u001b[0m┃\n",
       "┡━━━━━━━━━━━━━━━━━━━━━━━━━━━━━━━━━╇━━━━━━━━━━━━━━━━━━━━━━━━╇━━━━━━━━━━━━━━━┩\n",
       "│ input_layer (\u001b[38;5;33mInputLayer\u001b[0m)        │ (\u001b[38;5;45mNone\u001b[0m, \u001b[38;5;34m16\u001b[0m, \u001b[38;5;34m16\u001b[0m, \u001b[38;5;34m2\u001b[0m)      │             \u001b[38;5;34m0\u001b[0m │\n",
       "├─────────────────────────────────┼────────────────────────┼───────────────┤\n",
       "│ separable_conv2d                │ (\u001b[38;5;45mNone\u001b[0m, \u001b[38;5;34m14\u001b[0m, \u001b[38;5;34m14\u001b[0m, \u001b[38;5;34m5\u001b[0m)      │            \u001b[38;5;34m33\u001b[0m │\n",
       "│ (\u001b[38;5;33mSeparableConv2D\u001b[0m)               │                        │               │\n",
       "├─────────────────────────────────┼────────────────────────┼───────────────┤\n",
       "│ activation (\u001b[38;5;33mActivation\u001b[0m)         │ (\u001b[38;5;45mNone\u001b[0m, \u001b[38;5;34m14\u001b[0m, \u001b[38;5;34m14\u001b[0m, \u001b[38;5;34m5\u001b[0m)      │             \u001b[38;5;34m0\u001b[0m │\n",
       "├─────────────────────────────────┼────────────────────────┼───────────────┤\n",
       "│ conv2d (\u001b[38;5;33mConv2D\u001b[0m)                 │ (\u001b[38;5;45mNone\u001b[0m, \u001b[38;5;34m14\u001b[0m, \u001b[38;5;34m14\u001b[0m, \u001b[38;5;34m5\u001b[0m)      │            \u001b[38;5;34m30\u001b[0m │\n",
       "├─────────────────────────────────┼────────────────────────┼───────────────┤\n",
       "│ activation_1 (\u001b[38;5;33mActivation\u001b[0m)       │ (\u001b[38;5;45mNone\u001b[0m, \u001b[38;5;34m14\u001b[0m, \u001b[38;5;34m14\u001b[0m, \u001b[38;5;34m5\u001b[0m)      │             \u001b[38;5;34m0\u001b[0m │\n",
       "├─────────────────────────────────┼────────────────────────┼───────────────┤\n",
       "│ average_pooling2d               │ (\u001b[38;5;45mNone\u001b[0m, \u001b[38;5;34m4\u001b[0m, \u001b[38;5;34m4\u001b[0m, \u001b[38;5;34m5\u001b[0m)        │             \u001b[38;5;34m0\u001b[0m │\n",
       "│ (\u001b[38;5;33mAveragePooling2D\u001b[0m)              │                        │               │\n",
       "├─────────────────────────────────┼────────────────────────┼───────────────┤\n",
       "│ activation_2 (\u001b[38;5;33mActivation\u001b[0m)       │ (\u001b[38;5;45mNone\u001b[0m, \u001b[38;5;34m4\u001b[0m, \u001b[38;5;34m4\u001b[0m, \u001b[38;5;34m5\u001b[0m)        │             \u001b[38;5;34m0\u001b[0m │\n",
       "├─────────────────────────────────┼────────────────────────┼───────────────┤\n",
       "│ flatten (\u001b[38;5;33mFlatten\u001b[0m)               │ (\u001b[38;5;45mNone\u001b[0m, \u001b[38;5;34m80\u001b[0m)             │             \u001b[38;5;34m0\u001b[0m │\n",
       "├─────────────────────────────────┼────────────────────────┼───────────────┤\n",
       "│ dense (\u001b[38;5;33mDense\u001b[0m)                   │ (\u001b[38;5;45mNone\u001b[0m, \u001b[38;5;34m16\u001b[0m)             │         \u001b[38;5;34m1,296\u001b[0m │\n",
       "├─────────────────────────────────┼────────────────────────┼───────────────┤\n",
       "│ activation_3 (\u001b[38;5;33mActivation\u001b[0m)       │ (\u001b[38;5;45mNone\u001b[0m, \u001b[38;5;34m16\u001b[0m)             │             \u001b[38;5;34m0\u001b[0m │\n",
       "├─────────────────────────────────┼────────────────────────┼───────────────┤\n",
       "│ dense_1 (\u001b[38;5;33mDense\u001b[0m)                 │ (\u001b[38;5;45mNone\u001b[0m, \u001b[38;5;34m16\u001b[0m)             │           \u001b[38;5;34m272\u001b[0m │\n",
       "├─────────────────────────────────┼────────────────────────┼───────────────┤\n",
       "│ activation_4 (\u001b[38;5;33mActivation\u001b[0m)       │ (\u001b[38;5;45mNone\u001b[0m, \u001b[38;5;34m16\u001b[0m)             │             \u001b[38;5;34m0\u001b[0m │\n",
       "├─────────────────────────────────┼────────────────────────┼───────────────┤\n",
       "│ dense_2 (\u001b[38;5;33mDense\u001b[0m)                 │ (\u001b[38;5;45mNone\u001b[0m, \u001b[38;5;34m14\u001b[0m)             │           \u001b[38;5;34m238\u001b[0m │\n",
       "└─────────────────────────────────┴────────────────────────┴───────────────┘\n"
      ]
     },
     "metadata": {},
     "output_type": "display_data"
    },
    {
     "data": {
      "text/html": [
       "<pre style=\"white-space:pre;overflow-x:auto;line-height:normal;font-family:Menlo,'DejaVu Sans Mono',consolas,'Courier New',monospace\"><span style=\"font-weight: bold\"> Total params: </span><span style=\"color: #00af00; text-decoration-color: #00af00\">1,869</span> (7.30 KB)\n",
       "</pre>\n"
      ],
      "text/plain": [
       "\u001b[1m Total params: \u001b[0m\u001b[38;5;34m1,869\u001b[0m (7.30 KB)\n"
      ]
     },
     "metadata": {},
     "output_type": "display_data"
    },
    {
     "data": {
      "text/html": [
       "<pre style=\"white-space:pre;overflow-x:auto;line-height:normal;font-family:Menlo,'DejaVu Sans Mono',consolas,'Courier New',monospace\"><span style=\"font-weight: bold\"> Trainable params: </span><span style=\"color: #00af00; text-decoration-color: #00af00\">1,869</span> (7.30 KB)\n",
       "</pre>\n"
      ],
      "text/plain": [
       "\u001b[1m Trainable params: \u001b[0m\u001b[38;5;34m1,869\u001b[0m (7.30 KB)\n"
      ]
     },
     "metadata": {},
     "output_type": "display_data"
    },
    {
     "data": {
      "text/html": [
       "<pre style=\"white-space:pre;overflow-x:auto;line-height:normal;font-family:Menlo,'DejaVu Sans Mono',consolas,'Courier New',monospace\"><span style=\"font-weight: bold\"> Non-trainable params: </span><span style=\"color: #00af00; text-decoration-color: #00af00\">0</span> (0.00 B)\n",
       "</pre>\n"
      ],
      "text/plain": [
       "\u001b[1m Non-trainable params: \u001b[0m\u001b[38;5;34m0\u001b[0m (0.00 B)\n"
      ]
     },
     "metadata": {},
     "output_type": "display_data"
    }
   ],
   "source": [
    "model=CreateModel(shape = (16,16,2), \n",
    "                  n_filters=5, SepConv2D_kernel_size=3, \n",
    "                  Conv2D_kernel_size=1,\n",
    "                  pool_size=3, \n",
    "                  hidden=16,\n",
    "                  output = 14)\n",
    "\n",
    "model.summary()"
   ]
  },
  {
   "cell_type": "code",
   "execution_count": 6,
   "id": "69dccb36",
   "metadata": {},
   "outputs": [],
   "source": [
    "# model.compile(\n",
    "#     optimizer=tf.keras.optimizers.Nadam(learning_rate=1e-3),\n",
    "#     loss=custom_loss,\n",
    "# )\n",
    "# history = model.fit(\n",
    "#         x=train_loader,\n",
    "#         validation_data=val_loader,\n",
    "#         epochs=5,\n",
    "#         shuffle=False,\n",
    "#         verbose=1\n",
    "#     )"
   ]
  },
  {
   "cell_type": "markdown",
   "id": "54cd71c9-86b2-4911-aa71-bd18b1e75aa1",
   "metadata": {},
   "source": [
    "## Add pruning and quantization\n",
    "To add pruning and quantization, we need a config file that defines how to do that. Let's load a config file from `pquant/configs/`. <br/>\n",
    "The training function we use later will add the pruning layers and quantized activations automatically using this config"
   ]
  },
  {
   "cell_type": "code",
   "execution_count": 7,
   "id": "0ec145f1-502c-4fd0-84ed-e87b84a27374",
   "metadata": {},
   "outputs": [
    {
     "data": {
      "application/json": {
       "batch_size": 128,
       "cosine_tmax": 200,
       "gamma": 0.1,
       "l2_decay": 0.0001,
       "label_smoothing": 0,
       "lr": 0.001,
       "lr_schedule": "multistep",
       "milestones": [
        75,
        120
       ],
       "momentum": 0.9,
       "optimizer": "sgd",
       "plot_frequency": 100,
       "pruning_parameters": {
        "constraint_type": "Equality",
        "damping": 1,
        "disable_pruning_for_layers": [
         null
        ],
        "enable_pruning": true,
        "epsilon": 0.001,
        "l0_mode": "coarse",
        "metric_type": "UnstructuredSparsity",
        "pruning_method": "mdmm",
        "rf": 1,
        "scale": 10,
        "target_sparsity": 0.9,
        "target_value": 0,
        "use_grad": false
       },
       "quantization_parameters": {
        "default_fractional_bits": 7,
        "default_integer_bits": 0,
        "enable_quantization": false,
        "hgq_gamma": 0.0003,
        "hgq_heterogeneous": true,
        "layer_specific": [],
        "use_high_granularity_quantization": false,
        "use_real_tanh": false,
        "use_symmetric_quantization": false
       },
       "training_parameters": {
        "epochs": 1000,
        "fine_tuning_epochs": 30,
        "pretraining_epochs": 0,
        "pruning_first": false,
        "rewind": "never",
        "rounds": 1,
        "save_weights_epoch": -1
       }
      },
      "text/plain": [
       "<IPython.core.display.JSON object>"
      ]
     },
     "execution_count": 7,
     "metadata": {
      "application/json": {
       "expanded": false,
       "root": "root"
      }
     },
     "output_type": "execute_result"
    }
   ],
   "source": [
    "from pquant import get_default_config\n",
    "from IPython.display import JSON\n",
    "\n",
    "# pruning_methods: \"autosparse, cl, cs, dst, pdp, wanda, mdmm\"\n",
    "pruning_method = \"mdmm\"\n",
    "config = get_default_config(pruning_method)\n",
    "JSON(config)"
   ]
  },
  {
   "cell_type": "code",
   "execution_count": 8,
   "id": "d3ef3115-2f3d-43e1-a199-4a19d667f796",
   "metadata": {},
   "outputs": [
    {
     "data": {
      "text/html": [
       "<pre style=\"white-space:pre;overflow-x:auto;line-height:normal;font-family:Menlo,'DejaVu Sans Mono',consolas,'Courier New',monospace\"><span style=\"font-weight: bold\">Model: \"functional_1\"</span>\n",
       "</pre>\n"
      ],
      "text/plain": [
       "\u001b[1mModel: \"functional_1\"\u001b[0m\n"
      ]
     },
     "metadata": {},
     "output_type": "display_data"
    },
    {
     "data": {
      "text/html": [
       "<pre style=\"white-space:pre;overflow-x:auto;line-height:normal;font-family:Menlo,'DejaVu Sans Mono',consolas,'Courier New',monospace\">┏━━━━━━━━━━━━━━━━━━━━━━━━━━━━━━━━━┳━━━━━━━━━━━━━━━━━━━━━━━━┳━━━━━━━━━━━━━━━┓\n",
       "┃<span style=\"font-weight: bold\"> Layer (type)                    </span>┃<span style=\"font-weight: bold\"> Output Shape           </span>┃<span style=\"font-weight: bold\">       Param # </span>┃\n",
       "┡━━━━━━━━━━━━━━━━━━━━━━━━━━━━━━━━━╇━━━━━━━━━━━━━━━━━━━━━━━━╇━━━━━━━━━━━━━━━┩\n",
       "│ input_layer (<span style=\"color: #0087ff; text-decoration-color: #0087ff\">InputLayer</span>)        │ (<span style=\"color: #00d7ff; text-decoration-color: #00d7ff\">None</span>, <span style=\"color: #00af00; text-decoration-color: #00af00\">16</span>, <span style=\"color: #00af00; text-decoration-color: #00af00\">16</span>, <span style=\"color: #00af00; text-decoration-color: #00af00\">2</span>)      │             <span style=\"color: #00af00; text-decoration-color: #00af00\">0</span> │\n",
       "├─────────────────────────────────┼────────────────────────┼───────────────┤\n",
       "│ compressed_layer_separable_con… │ (<span style=\"color: #00d7ff; text-decoration-color: #00d7ff\">None</span>, <span style=\"color: #00af00; text-decoration-color: #00af00\">14</span>, <span style=\"color: #00af00; text-decoration-color: #00af00\">14</span>, <span style=\"color: #00af00; text-decoration-color: #00af00\">5</span>)      │            <span style=\"color: #00af00; text-decoration-color: #00af00\">41</span> │\n",
       "│ (<span style=\"color: #0087ff; text-decoration-color: #0087ff\">CompressedLayerSeparableConv2…</span> │                        │               │\n",
       "├─────────────────────────────────┼────────────────────────┼───────────────┤\n",
       "│ activation_5 (<span style=\"color: #0087ff; text-decoration-color: #0087ff\">Activation</span>)       │ (<span style=\"color: #00d7ff; text-decoration-color: #00d7ff\">None</span>, <span style=\"color: #00af00; text-decoration-color: #00af00\">14</span>, <span style=\"color: #00af00; text-decoration-color: #00af00\">14</span>, <span style=\"color: #00af00; text-decoration-color: #00af00\">5</span>)      │             <span style=\"color: #00af00; text-decoration-color: #00af00\">0</span> │\n",
       "├─────────────────────────────────┼────────────────────────┼───────────────┤\n",
       "│ compressed_layer_conv2d_keras_1 │ (<span style=\"color: #00d7ff; text-decoration-color: #00d7ff\">None</span>, <span style=\"color: #00af00; text-decoration-color: #00af00\">14</span>, <span style=\"color: #00af00; text-decoration-color: #00af00\">14</span>, <span style=\"color: #00af00; text-decoration-color: #00af00\">5</span>)      │            <span style=\"color: #00af00; text-decoration-color: #00af00\">34</span> │\n",
       "│ (<span style=\"color: #0087ff; text-decoration-color: #0087ff\">CompressedLayerConv2dKeras</span>)    │                        │               │\n",
       "├─────────────────────────────────┼────────────────────────┼───────────────┤\n",
       "│ activation_6 (<span style=\"color: #0087ff; text-decoration-color: #0087ff\">Activation</span>)       │ (<span style=\"color: #00d7ff; text-decoration-color: #00d7ff\">None</span>, <span style=\"color: #00af00; text-decoration-color: #00af00\">14</span>, <span style=\"color: #00af00; text-decoration-color: #00af00\">14</span>, <span style=\"color: #00af00; text-decoration-color: #00af00\">5</span>)      │             <span style=\"color: #00af00; text-decoration-color: #00af00\">0</span> │\n",
       "├─────────────────────────────────┼────────────────────────┼───────────────┤\n",
       "│ average_pooling2d               │ (<span style=\"color: #00d7ff; text-decoration-color: #00d7ff\">None</span>, <span style=\"color: #00af00; text-decoration-color: #00af00\">4</span>, <span style=\"color: #00af00; text-decoration-color: #00af00\">4</span>, <span style=\"color: #00af00; text-decoration-color: #00af00\">5</span>)        │             <span style=\"color: #00af00; text-decoration-color: #00af00\">0</span> │\n",
       "│ (<span style=\"color: #0087ff; text-decoration-color: #0087ff\">AveragePooling2D</span>)              │                        │               │\n",
       "├─────────────────────────────────┼────────────────────────┼───────────────┤\n",
       "│ activation_7 (<span style=\"color: #0087ff; text-decoration-color: #0087ff\">Activation</span>)       │ (<span style=\"color: #00d7ff; text-decoration-color: #00d7ff\">None</span>, <span style=\"color: #00af00; text-decoration-color: #00af00\">4</span>, <span style=\"color: #00af00; text-decoration-color: #00af00\">4</span>, <span style=\"color: #00af00; text-decoration-color: #00af00\">5</span>)        │             <span style=\"color: #00af00; text-decoration-color: #00af00\">0</span> │\n",
       "├─────────────────────────────────┼────────────────────────┼───────────────┤\n",
       "│ flatten (<span style=\"color: #0087ff; text-decoration-color: #0087ff\">Flatten</span>)               │ (<span style=\"color: #00d7ff; text-decoration-color: #00d7ff\">None</span>, <span style=\"color: #00af00; text-decoration-color: #00af00\">80</span>)             │             <span style=\"color: #00af00; text-decoration-color: #00af00\">0</span> │\n",
       "├─────────────────────────────────┼────────────────────────┼───────────────┤\n",
       "│ compressed_layer_dense_keras    │ (<span style=\"color: #00d7ff; text-decoration-color: #00d7ff\">None</span>, <span style=\"color: #00af00; text-decoration-color: #00af00\">16</span>)             │         <span style=\"color: #00af00; text-decoration-color: #00af00\">1,300</span> │\n",
       "│ (<span style=\"color: #0087ff; text-decoration-color: #0087ff\">CompressedLayerDenseKeras</span>)     │                        │               │\n",
       "├─────────────────────────────────┼────────────────────────┼───────────────┤\n",
       "│ activation_8 (<span style=\"color: #0087ff; text-decoration-color: #0087ff\">Activation</span>)       │ (<span style=\"color: #00d7ff; text-decoration-color: #00d7ff\">None</span>, <span style=\"color: #00af00; text-decoration-color: #00af00\">16</span>)             │             <span style=\"color: #00af00; text-decoration-color: #00af00\">0</span> │\n",
       "├─────────────────────────────────┼────────────────────────┼───────────────┤\n",
       "│ compressed_layer_dense_keras_1  │ (<span style=\"color: #00d7ff; text-decoration-color: #00d7ff\">None</span>, <span style=\"color: #00af00; text-decoration-color: #00af00\">16</span>)             │           <span style=\"color: #00af00; text-decoration-color: #00af00\">276</span> │\n",
       "│ (<span style=\"color: #0087ff; text-decoration-color: #0087ff\">CompressedLayerDenseKeras</span>)     │                        │               │\n",
       "├─────────────────────────────────┼────────────────────────┼───────────────┤\n",
       "│ activation_9 (<span style=\"color: #0087ff; text-decoration-color: #0087ff\">Activation</span>)       │ (<span style=\"color: #00d7ff; text-decoration-color: #00d7ff\">None</span>, <span style=\"color: #00af00; text-decoration-color: #00af00\">16</span>)             │             <span style=\"color: #00af00; text-decoration-color: #00af00\">0</span> │\n",
       "├─────────────────────────────────┼────────────────────────┼───────────────┤\n",
       "│ compressed_layer_dense_keras_2  │ (<span style=\"color: #00d7ff; text-decoration-color: #00d7ff\">None</span>, <span style=\"color: #00af00; text-decoration-color: #00af00\">14</span>)             │           <span style=\"color: #00af00; text-decoration-color: #00af00\">242</span> │\n",
       "│ (<span style=\"color: #0087ff; text-decoration-color: #0087ff\">CompressedLayerDenseKeras</span>)     │                        │               │\n",
       "└─────────────────────────────────┴────────────────────────┴───────────────┘\n",
       "</pre>\n"
      ],
      "text/plain": [
       "┏━━━━━━━━━━━━━━━━━━━━━━━━━━━━━━━━━┳━━━━━━━━━━━━━━━━━━━━━━━━┳━━━━━━━━━━━━━━━┓\n",
       "┃\u001b[1m \u001b[0m\u001b[1mLayer (type)                   \u001b[0m\u001b[1m \u001b[0m┃\u001b[1m \u001b[0m\u001b[1mOutput Shape          \u001b[0m\u001b[1m \u001b[0m┃\u001b[1m \u001b[0m\u001b[1m      Param #\u001b[0m\u001b[1m \u001b[0m┃\n",
       "┡━━━━━━━━━━━━━━━━━━━━━━━━━━━━━━━━━╇━━━━━━━━━━━━━━━━━━━━━━━━╇━━━━━━━━━━━━━━━┩\n",
       "│ input_layer (\u001b[38;5;33mInputLayer\u001b[0m)        │ (\u001b[38;5;45mNone\u001b[0m, \u001b[38;5;34m16\u001b[0m, \u001b[38;5;34m16\u001b[0m, \u001b[38;5;34m2\u001b[0m)      │             \u001b[38;5;34m0\u001b[0m │\n",
       "├─────────────────────────────────┼────────────────────────┼───────────────┤\n",
       "│ compressed_layer_separable_con… │ (\u001b[38;5;45mNone\u001b[0m, \u001b[38;5;34m14\u001b[0m, \u001b[38;5;34m14\u001b[0m, \u001b[38;5;34m5\u001b[0m)      │            \u001b[38;5;34m41\u001b[0m │\n",
       "│ (\u001b[38;5;33mCompressedLayerSeparableConv2…\u001b[0m │                        │               │\n",
       "├─────────────────────────────────┼────────────────────────┼───────────────┤\n",
       "│ activation_5 (\u001b[38;5;33mActivation\u001b[0m)       │ (\u001b[38;5;45mNone\u001b[0m, \u001b[38;5;34m14\u001b[0m, \u001b[38;5;34m14\u001b[0m, \u001b[38;5;34m5\u001b[0m)      │             \u001b[38;5;34m0\u001b[0m │\n",
       "├─────────────────────────────────┼────────────────────────┼───────────────┤\n",
       "│ compressed_layer_conv2d_keras_1 │ (\u001b[38;5;45mNone\u001b[0m, \u001b[38;5;34m14\u001b[0m, \u001b[38;5;34m14\u001b[0m, \u001b[38;5;34m5\u001b[0m)      │            \u001b[38;5;34m34\u001b[0m │\n",
       "│ (\u001b[38;5;33mCompressedLayerConv2dKeras\u001b[0m)    │                        │               │\n",
       "├─────────────────────────────────┼────────────────────────┼───────────────┤\n",
       "│ activation_6 (\u001b[38;5;33mActivation\u001b[0m)       │ (\u001b[38;5;45mNone\u001b[0m, \u001b[38;5;34m14\u001b[0m, \u001b[38;5;34m14\u001b[0m, \u001b[38;5;34m5\u001b[0m)      │             \u001b[38;5;34m0\u001b[0m │\n",
       "├─────────────────────────────────┼────────────────────────┼───────────────┤\n",
       "│ average_pooling2d               │ (\u001b[38;5;45mNone\u001b[0m, \u001b[38;5;34m4\u001b[0m, \u001b[38;5;34m4\u001b[0m, \u001b[38;5;34m5\u001b[0m)        │             \u001b[38;5;34m0\u001b[0m │\n",
       "│ (\u001b[38;5;33mAveragePooling2D\u001b[0m)              │                        │               │\n",
       "├─────────────────────────────────┼────────────────────────┼───────────────┤\n",
       "│ activation_7 (\u001b[38;5;33mActivation\u001b[0m)       │ (\u001b[38;5;45mNone\u001b[0m, \u001b[38;5;34m4\u001b[0m, \u001b[38;5;34m4\u001b[0m, \u001b[38;5;34m5\u001b[0m)        │             \u001b[38;5;34m0\u001b[0m │\n",
       "├─────────────────────────────────┼────────────────────────┼───────────────┤\n",
       "│ flatten (\u001b[38;5;33mFlatten\u001b[0m)               │ (\u001b[38;5;45mNone\u001b[0m, \u001b[38;5;34m80\u001b[0m)             │             \u001b[38;5;34m0\u001b[0m │\n",
       "├─────────────────────────────────┼────────────────────────┼───────────────┤\n",
       "│ compressed_layer_dense_keras    │ (\u001b[38;5;45mNone\u001b[0m, \u001b[38;5;34m16\u001b[0m)             │         \u001b[38;5;34m1,300\u001b[0m │\n",
       "│ (\u001b[38;5;33mCompressedLayerDenseKeras\u001b[0m)     │                        │               │\n",
       "├─────────────────────────────────┼────────────────────────┼───────────────┤\n",
       "│ activation_8 (\u001b[38;5;33mActivation\u001b[0m)       │ (\u001b[38;5;45mNone\u001b[0m, \u001b[38;5;34m16\u001b[0m)             │             \u001b[38;5;34m0\u001b[0m │\n",
       "├─────────────────────────────────┼────────────────────────┼───────────────┤\n",
       "│ compressed_layer_dense_keras_1  │ (\u001b[38;5;45mNone\u001b[0m, \u001b[38;5;34m16\u001b[0m)             │           \u001b[38;5;34m276\u001b[0m │\n",
       "│ (\u001b[38;5;33mCompressedLayerDenseKeras\u001b[0m)     │                        │               │\n",
       "├─────────────────────────────────┼────────────────────────┼───────────────┤\n",
       "│ activation_9 (\u001b[38;5;33mActivation\u001b[0m)       │ (\u001b[38;5;45mNone\u001b[0m, \u001b[38;5;34m16\u001b[0m)             │             \u001b[38;5;34m0\u001b[0m │\n",
       "├─────────────────────────────────┼────────────────────────┼───────────────┤\n",
       "│ compressed_layer_dense_keras_2  │ (\u001b[38;5;45mNone\u001b[0m, \u001b[38;5;34m14\u001b[0m)             │           \u001b[38;5;34m242\u001b[0m │\n",
       "│ (\u001b[38;5;33mCompressedLayerDenseKeras\u001b[0m)     │                        │               │\n",
       "└─────────────────────────────────┴────────────────────────┴───────────────┘\n"
      ]
     },
     "metadata": {},
     "output_type": "display_data"
    },
    {
     "data": {
      "text/html": [
       "<pre style=\"white-space:pre;overflow-x:auto;line-height:normal;font-family:Menlo,'DejaVu Sans Mono',consolas,'Courier New',monospace\"><span style=\"font-weight: bold\"> Total params: </span><span style=\"color: #00af00; text-decoration-color: #00af00\">1,893</span> (7.39 KB)\n",
       "</pre>\n"
      ],
      "text/plain": [
       "\u001b[1m Total params: \u001b[0m\u001b[38;5;34m1,893\u001b[0m (7.39 KB)\n"
      ]
     },
     "metadata": {},
     "output_type": "display_data"
    },
    {
     "data": {
      "text/html": [
       "<pre style=\"white-space:pre;overflow-x:auto;line-height:normal;font-family:Menlo,'DejaVu Sans Mono',consolas,'Courier New',monospace\"><span style=\"font-weight: bold\"> Trainable params: </span><span style=\"color: #00af00; text-decoration-color: #00af00\">1,869</span> (7.30 KB)\n",
       "</pre>\n"
      ],
      "text/plain": [
       "\u001b[1m Trainable params: \u001b[0m\u001b[38;5;34m1,869\u001b[0m (7.30 KB)\n"
      ]
     },
     "metadata": {},
     "output_type": "display_data"
    },
    {
     "data": {
      "text/html": [
       "<pre style=\"white-space:pre;overflow-x:auto;line-height:normal;font-family:Menlo,'DejaVu Sans Mono',consolas,'Courier New',monospace\"><span style=\"font-weight: bold\"> Non-trainable params: </span><span style=\"color: #00af00; text-decoration-color: #00af00\">24</span> (96.00 B)\n",
       "</pre>\n"
      ],
      "text/plain": [
       "\u001b[1m Non-trainable params: \u001b[0m\u001b[38;5;34m24\u001b[0m (96.00 B)\n"
      ]
     },
     "metadata": {},
     "output_type": "display_data"
    }
   ],
   "source": [
    "# Replace layers with compressed layers\n",
    "from pquant import add_compression_layers\n",
    "input_shape = (1, 16, 16, 2)\n",
    "\n",
    "model = add_compression_layers(model, config, input_shape)\n",
    "model.summary()"
   ]
  },
  {
   "cell_type": "markdown",
   "id": "251515c3-00ac-4110-b8d8-a8c9100f6e6b",
   "metadata": {},
   "source": [
    "## Create data set\n",
    "#### Let's create the data loader and the training and validation loops"
   ]
  },
  {
   "cell_type": "code",
   "execution_count": 9,
   "id": "c5915162",
   "metadata": {},
   "outputs": [],
   "source": [
    "from quantizers.fixed_point.fixed_point_ops import get_fixed_quantizer\n",
    "# Set up input quantizer\n",
    "quantizer = get_fixed_quantizer(overflow_mode=\"SAT\")\n",
    "\n",
    "from tqdm import tqdm\n",
    "from pquant import get_layer_keep_ratio, get_model_losses\n",
    "import re\n",
    "\n",
    "def get_lambda_values(model):\n",
    "    \"\"\"Extracts lambda values with clean, descriptive keys for the progress bar.\"\"\"\n",
    "    lambda_info = {}\n",
    "    # Use counters for each layer type to ensure unique, short keys\n",
    "    counters = {'conv2d': 1, 'dense': 1, 'other': 1}\n",
    "\n",
    "    for layer in model.layers:\n",
    "        if \"CompressedLayer\" in layer.__class__.__name__ and hasattr(layer, 'pruning_layer'):\n",
    "            pruning_layer = layer.pruning_layer\n",
    "            if hasattr(pruning_layer, 'constraint_layer') and hasattr(pruning_layer.constraint_layer, 'lmbda'):\n",
    "                layer_name = layer.name.lower()\n",
    "                \n",
    "                # Assign a clean, short key based on the layer type\n",
    "                if 'conv2d' in layer_name:\n",
    "                    key = f\"λc2D{counters['conv2d']}\"\n",
    "                    counters['conv2d'] += 1\n",
    "                elif 'dense' in layer_name:\n",
    "                    key = f\"λd{counters['dense']}\"\n",
    "                    counters['dense'] += 1\n",
    "                else:\n",
    "                    key = f\"λo{counters['other']}\"\n",
    "                    counters['other'] += 1\n",
    "                \n",
    "                # Format the lambda value\n",
    "                lambda_info[key] = f\"{pruning_layer.constraint_layer.lmbda.numpy():.2f}\"\n",
    "                \n",
    "    return lambda_info\n",
    "\n",
    "\n",
    "@tf.function\n",
    "def train_step(model, inputs, logits, optimizer: keras.optimizers.Optimizer):\n",
    "    with tf.GradientTape() as tape:\n",
    "        outputs = model(inputs, training=True)\n",
    "        loss = custom_loss(logits, outputs)\n",
    "        loss += get_model_losses(model, losses=keras.ops.convert_to_tensor(0.))\n",
    "        if model.losses:\n",
    "            loss += tf.add_n(model.losses)\n",
    "    grads = tape.gradient(loss, model.trainable_weights)\n",
    "    optimizer.apply_gradients(zip(grads, model.trainable_weights))\n",
    "    return loss\n",
    "\n",
    "@tf.function\n",
    "def valid_step(model, inputs, logits):\n",
    "    outputs = model(inputs, training=False)\n",
    "    loss = custom_loss(logits, outputs)\n",
    "    pquant_loss = get_model_losses(model, losses=keras.ops.convert_to_tensor(0.))\n",
    "    if model.losses:\n",
    "            loss += tf.add_n(model.losses)\n",
    "    return loss + pquant_loss, pquant_loss\n",
    "\n",
    "def train_smart_pixels_tf(model, epoch, trainloader, optimizer: keras.optimizers.Optimizer, *args, **kwargs):\n",
    "    pbar = tqdm(range(len(trainloader)), desc=f\"Epoch {epoch} [Training]\")\n",
    "    for batch_idx in pbar:\n",
    "        inputs, logits = trainloader[batch_idx]\n",
    "        loss = train_step(model, inputs, logits, optimizer)\n",
    "        \n",
    "        metrics = {\n",
    "            'loss': f'{loss.numpy():.2f}',\n",
    "        }\n",
    "        metrics.update(get_lambda_values(model))\n",
    "        pbar.set_postfix(**metrics)\n",
    "        \n",
    "    train_loader.on_epoch_end()\n",
    "\n",
    "        \n",
    "\n",
    "        \n",
    "def validate_smart_pixels_tf(model, epoch, testloader, *args, **kwargs):\n",
    "    total_loss = 0.0\n",
    "    pbar = tqdm(range(len(testloader)), desc=f\"Epoch {epoch} [Validation]\")\n",
    "    \n",
    "    for batch_idx in pbar:\n",
    "        inputs, logits = testloader[batch_idx]\n",
    "        loss, pquant_loss = valid_step(model, inputs, logits)\n",
    "        total_loss += loss\n",
    "        pbar.set_postfix(loss=f'{loss.numpy():.2f}')\n",
    "\n",
    "    testloader.on_epoch_end()\n",
    "        \n",
    "    avg_total_loss = total_loss / len(testloader)\n",
    "    ratio = get_layer_keep_ratio(model)\n",
    "\n",
    "    summary_string = (\n",
    "        f\"\\tTotal Loss (NLL + MDMM): {avg_total_loss:.2f}\\n\"\n",
    "        f\"\\tMDMM Loss:               {pquant_loss:.2f}\\n\"\n",
    "        f\"\\tRemaining Weights:       {ratio * 100:.2f} %\"\n",
    "    )\n",
    "    print(summary_string)\n"
   ]
  },
  {
   "cell_type": "markdown",
   "id": "9d28865b-afdb-4773-be30-717486d9786a",
   "metadata": {},
   "source": [
    "## Create loss function, scheduler and optimizer"
   ]
  },
  {
   "cell_type": "markdown",
   "id": "9850c23a-2abc-4904-9c69-859492b450a8",
   "metadata": {},
   "source": [
    "## Train model\n",
    "Training time. We use the train_compressed_model function from pquant to train. We need to provide some parameters such as training and validation functions, their input parameters, the model and the config file. The function automatically adds pruning layers and replaces activations with a quantized variant, trains the model, and removes the pruning layers after training is done"
   ]
  },
  {
   "cell_type": "code",
   "execution_count": 12,
   "id": "520441a0",
   "metadata": {},
   "outputs": [
    {
     "name": "stdout",
     "output_type": "stream",
     "text": [
      "  Layer: compressed_layer_conv2d_keras_1, Lambda Value: 203.1964\n",
      "  Layer: compressed_layer_dense_keras, Lambda Value: 130.0247\n",
      "  Layer: compressed_layer_dense_keras_1, Lambda Value: 162.8332\n",
      "  Layer: compressed_layer_dense_keras_2, Lambda Value: 102.0181\n"
     ]
    }
   ],
   "source": [
    "for layer in model.layers:\n",
    "        if \"CompressedLayer\" in layer.__class__.__name__ and hasattr(layer, 'pruning_layer'):\n",
    "            pruning_layer = layer.pruning_layer # This is your MDMM instance\n",
    "            \n",
    "            # Check if the MDMM instance has the constraint_layer\n",
    "            if hasattr(pruning_layer, 'constraint_layer'):\n",
    "                constraint = pruning_layer.constraint_layer\n",
    "                \n",
    "                # Finally, check for 'lmbda' on the constraint layer\n",
    "                if hasattr(constraint, 'lmbda'):\n",
    "                    print(f\"  Layer: {layer.name}, Lambda Value: {constraint.lmbda.numpy():.4f}\")\n"
   ]
  },
  {
   "cell_type": "code",
   "execution_count": null,
   "id": "193f30d5",
   "metadata": {},
   "outputs": [
    {
     "name": "stdout",
     "output_type": "stream",
     "text": [
      "▶ Training artifacts will be stored in: /home/das214/PQuant/mdmm_dev/trainings/smart_pixels/cc963321\n"
     ]
    }
   ],
   "source": [
    "from pathlib import Path\n",
    "from secrets import token_hex\n",
    "\n",
    "BASE_DIR = Path(\"/home/das214/PQuant/mdmm_dev/trainings\").resolve()\n",
    "RUN_DIR  = BASE_DIR / \"smart_pixels\"\n",
    "FP       = token_hex(4)          \n",
    "\n",
    "BASE_DIR.mkdir(parents=True, exist_ok=True)\n",
    "RUN_DIR.mkdir(parents=True, exist_ok=True)\n",
    "\n",
    "RUN_OUT = RUN_DIR / FP\n",
    "RUN_OUT.mkdir(exist_ok=True)\n",
    "\n",
    "print(f\"Training artifacts will be stored in: {RUN_OUT}\")"
   ]
  },
  {
   "cell_type": "code",
   "execution_count": null,
   "id": "c41d8e6b",
   "metadata": {},
   "outputs": [],
   "source": [
    "from pquant.core.tf_impl.callbacks import CSVLogger, EarlyStopping \n",
    "from pquant.core.tf_impl.callbacks import ModelCheckpoint, EpochCheckpoint\n",
    "\n",
    "cbs = [\n",
    "    CSVLogger(RUN_OUT / \"history.csv\"),                   \n",
    "    ModelCheckpoint(RUN_OUT / \"best_weights.h5\"),          \n",
    "    EpochCheckpoint(RUN_OUT / \"checkpoints\"),              \n",
    "    EarlyStopping(patience=10, min_delta=1e-3),            \n",
    "]"
   ]
  },
  {
   "cell_type": "code",
   "execution_count": 11,
   "id": "18f2414c-1f4d-4a30-a143-920497e60ab7",
   "metadata": {},
   "outputs": [
    {
     "name": "stderr",
     "output_type": "stream",
     "text": [
      "Epoch 0 [Training]:   0%|          | 0/84 [00:00<?, ?it/s]2025-07-12 21:01:07.749129: I tensorflow/core/kernels/data/tf_record_dataset_op.cc:381] TFRecordDataset `buffer_size` is unspecified, default to 262144\n",
      "I0000 00:00:1752346870.181297 3053259 cuda_dnn.cc:529] Loaded cuDNN version 90501\n",
      "WARNING: All log messages before absl::InitializeLog() is called are written to STDERR\n",
      "I0000 00:00:1752346871.143700 3053259 cuda_solvers.cc:175] Creating GpuSolver handles for stream 0x5604cea575b0\n",
      "Epoch 0 [Training]: 100%|██████████| 84/84 [00:18<00:00,  4.44it/s, loss=16211.50, λc2D1=0.23, λd1=0.08, λd2=0.15, λd3=0.15]\n",
      "Epoch 0 [Validation]: 100%|██████████| 21/21 [00:02<00:00,  7.36it/s, loss=16170.90]\n"
     ]
    },
    {
     "name": "stdout",
     "output_type": "stream",
     "text": [
      "\tTotal Loss (NLL + MDMM): 16036.61\n",
      "\tMDMM Loss:               4.96\n",
      "\tRemaining Weights:       99.61 %\n"
     ]
    },
    {
     "name": "stderr",
     "output_type": "stream",
     "text": [
      "Epoch 1 [Training]: 100%|██████████| 84/84 [00:06<00:00, 13.34it/s, loss=8348.34, λc2D1=0.52, λd1=0.19, λd2=0.34, λd3=0.35] \n",
      "Epoch 1 [Validation]: 100%|██████████| 21/21 [00:01<00:00, 14.94it/s, loss=8168.14]\n"
     ]
    },
    {
     "name": "stdout",
     "output_type": "stream",
     "text": [
      "\tTotal Loss (NLL + MDMM): 8091.20\n",
      "\tMDMM Loss:               8.90\n",
      "\tRemaining Weights:       99.61 %\n"
     ]
    },
    {
     "name": "stderr",
     "output_type": "stream",
     "text": [
      "Epoch 2 [Training]: 100%|██████████| 84/84 [00:06<00:00, 13.33it/s, loss=3678.62, λc2D1=0.81, λd1=0.30, λd2=0.53, λd3=0.55]\n",
      "Epoch 2 [Validation]: 100%|██████████| 21/21 [00:01<00:00, 14.52it/s, loss=3485.13]\n"
     ]
    },
    {
     "name": "stdout",
     "output_type": "stream",
     "text": [
      "\tTotal Loss (NLL + MDMM): 3461.13\n",
      "\tMDMM Loss:               12.60\n",
      "\tRemaining Weights:       99.78 %\n"
     ]
    },
    {
     "name": "stderr",
     "output_type": "stream",
     "text": [
      "Epoch 3 [Training]: 100%|██████████| 84/84 [00:06<00:00, 13.20it/s, loss=1714.66, λc2D1=1.10, λd1=0.41, λd2=0.73, λd3=0.74]\n",
      "Epoch 3 [Validation]: 100%|██████████| 21/21 [00:01<00:00, 15.06it/s, loss=1518.72]\n"
     ]
    },
    {
     "name": "stdout",
     "output_type": "stream",
     "text": [
      "\tTotal Loss (NLL + MDMM): 1507.56\n",
      "\tMDMM Loss:               16.42\n",
      "\tRemaining Weights:       99.50 %\n"
     ]
    },
    {
     "name": "stderr",
     "output_type": "stream",
     "text": [
      "Epoch 4 [Training]: 100%|██████████| 84/84 [00:06<00:00, 13.28it/s, loss=255.24, λc2D1=1.39, λd1=0.52, λd2=0.92, λd3=0.94] \n",
      "Epoch 4 [Validation]: 100%|██████████| 21/21 [00:01<00:00, 14.62it/s, loss=118.62] \n"
     ]
    },
    {
     "name": "stdout",
     "output_type": "stream",
     "text": [
      "\tTotal Loss (NLL + MDMM): 96.86\n",
      "\tMDMM Loss:               20.54\n",
      "\tRemaining Weights:       99.67 %\n"
     ]
    },
    {
     "name": "stderr",
     "output_type": "stream",
     "text": [
      "Epoch 5 [Training]: 100%|██████████| 84/84 [00:06<00:00, 13.09it/s, loss=-854.44, λc2D1=1.69, λd1=0.63, λd2=1.11, λd3=1.14] \n",
      "Epoch 5 [Validation]: 100%|██████████| 21/21 [00:01<00:00, 15.07it/s, loss=-1091.13]\n"
     ]
    },
    {
     "name": "stdout",
     "output_type": "stream",
     "text": [
      "\tTotal Loss (NLL + MDMM): -1029.15\n",
      "\tMDMM Loss:               24.81\n",
      "\tRemaining Weights:       99.72 %\n"
     ]
    },
    {
     "name": "stderr",
     "output_type": "stream",
     "text": [
      "Epoch 6 [Training]: 100%|██████████| 84/84 [00:06<00:00, 13.20it/s, loss=-1599.71, λc2D1=1.98, λd1=0.74, λd2=1.31, λd3=1.34]\n",
      "Epoch 6 [Validation]: 100%|██████████| 21/21 [00:01<00:00, 15.10it/s, loss=-1808.37]\n"
     ]
    },
    {
     "name": "stdout",
     "output_type": "stream",
     "text": [
      "\tTotal Loss (NLL + MDMM): -1725.52\n",
      "\tMDMM Loss:               29.21\n",
      "\tRemaining Weights:       99.94 %\n"
     ]
    },
    {
     "name": "stderr",
     "output_type": "stream",
     "text": [
      "Epoch 7 [Training]: 100%|██████████| 84/84 [00:06<00:00, 13.45it/s, loss=-2233.34, λc2D1=2.27, λd1=0.85, λd2=1.50, λd3=1.54]\n",
      "Epoch 7 [Validation]: 100%|██████████| 21/21 [00:01<00:00, 14.97it/s, loss=-2433.44]\n"
     ]
    },
    {
     "name": "stdout",
     "output_type": "stream",
     "text": [
      "\tTotal Loss (NLL + MDMM): -2361.94\n",
      "\tMDMM Loss:               33.78\n",
      "\tRemaining Weights:       99.67 %\n"
     ]
    },
    {
     "name": "stderr",
     "output_type": "stream",
     "text": [
      "Epoch 8 [Training]: 100%|██████████| 84/84 [00:06<00:00, 13.31it/s, loss=-2882.81, λc2D1=2.56, λd1=0.96, λd2=1.70, λd3=1.73]\n",
      "Epoch 8 [Validation]: 100%|██████████| 21/21 [00:01<00:00, 14.90it/s, loss=-3061.56]\n"
     ]
    },
    {
     "name": "stdout",
     "output_type": "stream",
     "text": [
      "\tTotal Loss (NLL + MDMM): -2967.21\n",
      "\tMDMM Loss:               38.43\n",
      "\tRemaining Weights:       99.67 %\n"
     ]
    },
    {
     "name": "stderr",
     "output_type": "stream",
     "text": [
      "Epoch 9 [Training]: 100%|██████████| 84/84 [00:06<00:00, 13.10it/s, loss=-3566.13, λc2D1=2.86, λd1=1.07, λd2=1.90, λd3=1.93]\n",
      "Epoch 9 [Validation]: 100%|██████████| 21/21 [00:01<00:00, 14.94it/s, loss=-3820.50]\n"
     ]
    },
    {
     "name": "stdout",
     "output_type": "stream",
     "text": [
      "\tTotal Loss (NLL + MDMM): -3671.40\n",
      "\tMDMM Loss:               43.08\n",
      "\tRemaining Weights:       99.83 %\n"
     ]
    },
    {
     "name": "stderr",
     "output_type": "stream",
     "text": [
      "Epoch 10 [Training]: 100%|██████████| 84/84 [00:06<00:00, 13.43it/s, loss=-4260.95, λc2D1=3.15, λd1=1.18, λd2=2.09, λd3=2.13]\n",
      "Epoch 10 [Validation]: 100%|██████████| 21/21 [00:01<00:00, 14.55it/s, loss=-4529.73]\n"
     ]
    },
    {
     "name": "stdout",
     "output_type": "stream",
     "text": [
      "\tTotal Loss (NLL + MDMM): -4363.33\n",
      "\tMDMM Loss:               47.88\n",
      "\tRemaining Weights:       99.45 %\n"
     ]
    },
    {
     "name": "stderr",
     "output_type": "stream",
     "text": [
      "Epoch 11 [Training]: 100%|██████████| 84/84 [00:06<00:00, 13.40it/s, loss=-5002.90, λc2D1=3.44, λd1=1.30, λd2=2.29, λd3=2.33]\n",
      "Epoch 11 [Validation]: 100%|██████████| 21/21 [00:01<00:00, 14.86it/s, loss=-5296.77]\n"
     ]
    },
    {
     "name": "stdout",
     "output_type": "stream",
     "text": [
      "\tTotal Loss (NLL + MDMM): -5117.80\n",
      "\tMDMM Loss:               52.84\n",
      "\tRemaining Weights:       99.56 %\n"
     ]
    },
    {
     "name": "stderr",
     "output_type": "stream",
     "text": [
      "Epoch 12 [Training]: 100%|██████████| 84/84 [00:06<00:00, 13.37it/s, loss=-5826.70, λc2D1=3.74, λd1=1.41, λd2=2.49, λd3=2.53]\n",
      "Epoch 12 [Validation]: 100%|██████████| 21/21 [00:01<00:00, 14.76it/s, loss=-6157.38]\n"
     ]
    },
    {
     "name": "stdout",
     "output_type": "stream",
     "text": [
      "\tTotal Loss (NLL + MDMM): -5964.04\n",
      "\tMDMM Loss:               58.02\n",
      "\tRemaining Weights:       99.61 %\n"
     ]
    },
    {
     "name": "stderr",
     "output_type": "stream",
     "text": [
      "Epoch 13 [Training]: 100%|██████████| 84/84 [00:06<00:00, 13.35it/s, loss=-6746.11, λc2D1=4.03, λd1=1.52, λd2=2.69, λd3=2.72]\n",
      "Epoch 13 [Validation]: 100%|██████████| 21/21 [00:01<00:00, 14.83it/s, loss=-7105.85]\n"
     ]
    },
    {
     "name": "stdout",
     "output_type": "stream",
     "text": [
      "\tTotal Loss (NLL + MDMM): -6897.91\n",
      "\tMDMM Loss:               63.52\n",
      "\tRemaining Weights:       99.61 %\n"
     ]
    },
    {
     "name": "stderr",
     "output_type": "stream",
     "text": [
      "Epoch 14 [Training]: 100%|██████████| 84/84 [00:06<00:00, 13.16it/s, loss=-7717.28, λc2D1=4.33, λd1=1.63, λd2=2.88, λd3=2.92]\n",
      "Epoch 14 [Validation]: 100%|██████████| 21/21 [00:01<00:00, 14.59it/s, loss=-8054.90]\n"
     ]
    },
    {
     "name": "stdout",
     "output_type": "stream",
     "text": [
      "\tTotal Loss (NLL + MDMM): -7873.78\n",
      "\tMDMM Loss:               69.25\n",
      "\tRemaining Weights:       99.78 %\n"
     ]
    },
    {
     "name": "stderr",
     "output_type": "stream",
     "text": [
      "Epoch 15 [Training]: 100%|██████████| 84/84 [00:06<00:00, 13.36it/s, loss=-8705.64, λc2D1=4.62, λd1=1.75, λd2=3.08, λd3=3.12]\n",
      "Epoch 15 [Validation]: 100%|██████████| 21/21 [00:01<00:00, 15.07it/s, loss=-9026.18]\n"
     ]
    },
    {
     "name": "stdout",
     "output_type": "stream",
     "text": [
      "\tTotal Loss (NLL + MDMM): -8868.60\n",
      "\tMDMM Loss:               75.08\n",
      "\tRemaining Weights:       99.72 %\n"
     ]
    },
    {
     "name": "stderr",
     "output_type": "stream",
     "text": [
      "Epoch 16 [Training]: 100%|██████████| 84/84 [00:06<00:00, 13.32it/s, loss=-9630.27, λc2D1=4.92, λd1=1.86, λd2=3.28, λd3=3.31]\n",
      "Epoch 16 [Validation]: 100%|██████████| 21/21 [00:01<00:00, 14.97it/s, loss=-9973.01] \n"
     ]
    },
    {
     "name": "stdout",
     "output_type": "stream",
     "text": [
      "\tTotal Loss (NLL + MDMM): -9811.18\n",
      "\tMDMM Loss:               81.16\n",
      "\tRemaining Weights:       99.67 %\n"
     ]
    },
    {
     "name": "stderr",
     "output_type": "stream",
     "text": [
      "Epoch 17 [Training]: 100%|██████████| 84/84 [00:06<00:00, 13.29it/s, loss=-10492.95, λc2D1=5.21, λd1=1.97, λd2=3.48, λd3=3.51]\n",
      "Epoch 17 [Validation]: 100%|██████████| 21/21 [00:01<00:00, 14.80it/s, loss=-10840.28]\n"
     ]
    },
    {
     "name": "stdout",
     "output_type": "stream",
     "text": [
      "\tTotal Loss (NLL + MDMM): -10653.59\n",
      "\tMDMM Loss:               87.28\n",
      "\tRemaining Weights:       99.89 %\n"
     ]
    },
    {
     "name": "stderr",
     "output_type": "stream",
     "text": [
      "Epoch 18 [Training]: 100%|██████████| 84/84 [00:06<00:00, 13.37it/s, loss=-11333.67, λc2D1=5.51, λd1=2.08, λd2=3.67, λd3=3.71]\n",
      "Epoch 18 [Validation]: 100%|██████████| 21/21 [00:01<00:00, 14.97it/s, loss=-11693.43]\n"
     ]
    },
    {
     "name": "stdout",
     "output_type": "stream",
     "text": [
      "\tTotal Loss (NLL + MDMM): -11465.84\n",
      "\tMDMM Loss:               93.59\n",
      "\tRemaining Weights:       99.83 %\n"
     ]
    },
    {
     "name": "stderr",
     "output_type": "stream",
     "text": [
      "Epoch 19 [Training]: 100%|██████████| 84/84 [00:06<00:00, 12.90it/s, loss=-12142.60, λc2D1=5.80, λd1=2.20, λd2=3.87, λd3=3.90]\n",
      "Epoch 19 [Validation]: 100%|██████████| 21/21 [00:01<00:00, 14.49it/s, loss=-12463.01]\n"
     ]
    },
    {
     "name": "stdout",
     "output_type": "stream",
     "text": [
      "\tTotal Loss (NLL + MDMM): -12234.53\n",
      "\tMDMM Loss:               100.06\n",
      "\tRemaining Weights:       99.67 %\n"
     ]
    },
    {
     "name": "stderr",
     "output_type": "stream",
     "text": [
      "Epoch 20 [Training]: 100%|██████████| 84/84 [00:06<00:00, 13.12it/s, loss=-12847.50, λc2D1=6.10, λd1=2.31, λd2=4.06, λd3=4.10]\n",
      "Epoch 20 [Validation]: 100%|██████████| 21/21 [00:01<00:00, 14.62it/s, loss=-13132.25]\n"
     ]
    },
    {
     "name": "stdout",
     "output_type": "stream",
     "text": [
      "\tTotal Loss (NLL + MDMM): -12913.18\n",
      "\tMDMM Loss:               106.39\n",
      "\tRemaining Weights:       99.78 %\n"
     ]
    },
    {
     "name": "stderr",
     "output_type": "stream",
     "text": [
      "Epoch 21 [Training]: 100%|██████████| 84/84 [00:06<00:00, 13.35it/s, loss=-13412.08, λc2D1=6.40, λd1=2.43, λd2=4.26, λd3=4.29]\n",
      "Epoch 21 [Validation]: 100%|██████████| 21/21 [00:01<00:00, 15.00it/s, loss=-13674.10]\n"
     ]
    },
    {
     "name": "stdout",
     "output_type": "stream",
     "text": [
      "\tTotal Loss (NLL + MDMM): -13477.95\n",
      "\tMDMM Loss:               112.57\n",
      "\tRemaining Weights:       99.61 %\n"
     ]
    },
    {
     "name": "stderr",
     "output_type": "stream",
     "text": [
      "Epoch 22 [Training]: 100%|██████████| 84/84 [00:06<00:00, 13.33it/s, loss=-13917.44, λc2D1=6.69, λd1=2.54, λd2=4.45, λd3=4.49]\n",
      "Epoch 22 [Validation]: 100%|██████████| 21/21 [00:01<00:00, 14.60it/s, loss=-14176.49]\n"
     ]
    },
    {
     "name": "stdout",
     "output_type": "stream",
     "text": [
      "\tTotal Loss (NLL + MDMM): -13961.39\n",
      "\tMDMM Loss:               118.72\n",
      "\tRemaining Weights:       99.50 %\n"
     ]
    },
    {
     "name": "stderr",
     "output_type": "stream",
     "text": [
      "Epoch 23 [Training]: 100%|██████████| 84/84 [00:06<00:00, 13.21it/s, loss=-14373.98, λc2D1=6.99, λd1=2.65, λd2=4.65, λd3=4.68]\n",
      "Epoch 23 [Validation]: 100%|██████████| 21/21 [00:01<00:00, 14.92it/s, loss=-14637.02]\n"
     ]
    },
    {
     "name": "stdout",
     "output_type": "stream",
     "text": [
      "\tTotal Loss (NLL + MDMM): -14395.60\n",
      "\tMDMM Loss:               124.90\n",
      "\tRemaining Weights:       99.83 %\n"
     ]
    },
    {
     "name": "stderr",
     "output_type": "stream",
     "text": [
      "Epoch 24 [Training]: 100%|██████████| 84/84 [00:06<00:00, 13.41it/s, loss=-14785.27, λc2D1=7.29, λd1=2.77, λd2=4.85, λd3=4.88]\n",
      "Epoch 24 [Validation]: 100%|██████████| 21/21 [00:01<00:00, 15.03it/s, loss=-15036.50]\n"
     ]
    },
    {
     "name": "stdout",
     "output_type": "stream",
     "text": [
      "\tTotal Loss (NLL + MDMM): -14787.90\n",
      "\tMDMM Loss:               131.05\n",
      "\tRemaining Weights:       99.61 %\n"
     ]
    },
    {
     "name": "stderr",
     "output_type": "stream",
     "text": [
      "Epoch 25 [Training]: 100%|██████████| 84/84 [00:06<00:00, 13.31it/s, loss=-15148.81, λc2D1=7.58, λd1=2.88, λd2=5.04, λd3=5.07]\n",
      "Epoch 25 [Validation]: 100%|██████████| 21/21 [00:01<00:00, 14.89it/s, loss=-15434.47]\n"
     ]
    },
    {
     "name": "stdout",
     "output_type": "stream",
     "text": [
      "\tTotal Loss (NLL + MDMM): -15170.22\n",
      "\tMDMM Loss:               137.18\n",
      "\tRemaining Weights:       99.83 %\n"
     ]
    },
    {
     "name": "stderr",
     "output_type": "stream",
     "text": [
      "Epoch 26 [Training]: 100%|██████████| 84/84 [00:06<00:00, 12.95it/s, loss=-15508.80, λc2D1=7.88, λd1=3.00, λd2=5.24, λd3=5.27]\n",
      "Epoch 26 [Validation]: 100%|██████████| 21/21 [00:01<00:00, 14.46it/s, loss=-15805.06]\n"
     ]
    },
    {
     "name": "stdout",
     "output_type": "stream",
     "text": [
      "\tTotal Loss (NLL + MDMM): -15526.97\n",
      "\tMDMM Loss:               143.30\n",
      "\tRemaining Weights:       99.72 %\n"
     ]
    },
    {
     "name": "stderr",
     "output_type": "stream",
     "text": [
      "Epoch 27 [Training]: 100%|██████████| 84/84 [00:06<00:00, 13.18it/s, loss=-15861.58, λc2D1=8.18, λd1=3.12, λd2=5.43, λd3=5.46]\n",
      "Epoch 27 [Validation]: 100%|██████████| 21/21 [00:01<00:00, 14.84it/s, loss=-16164.39]\n"
     ]
    },
    {
     "name": "stdout",
     "output_type": "stream",
     "text": [
      "\tTotal Loss (NLL + MDMM): -15885.72\n",
      "\tMDMM Loss:               149.41\n",
      "\tRemaining Weights:       99.72 %\n"
     ]
    },
    {
     "name": "stderr",
     "output_type": "stream",
     "text": [
      "Epoch 28 [Training]: 100%|██████████| 84/84 [00:06<00:00, 13.05it/s, loss=-16173.22, λc2D1=8.48, λd1=3.23, λd2=5.63, λd3=5.66]\n",
      "Epoch 28 [Validation]: 100%|██████████| 21/21 [00:01<00:00, 14.64it/s, loss=-16472.18]\n"
     ]
    },
    {
     "name": "stdout",
     "output_type": "stream",
     "text": [
      "\tTotal Loss (NLL + MDMM): -16189.05\n",
      "\tMDMM Loss:               155.55\n",
      "\tRemaining Weights:       99.89 %\n"
     ]
    },
    {
     "name": "stderr",
     "output_type": "stream",
     "text": [
      "Epoch 29 [Training]: 100%|██████████| 84/84 [00:06<00:00, 13.02it/s, loss=-16519.30, λc2D1=8.78, λd1=3.35, λd2=5.82, λd3=5.85]\n",
      "Epoch 29 [Validation]: 100%|██████████| 21/21 [00:01<00:00, 14.37it/s, loss=-16830.90]\n"
     ]
    },
    {
     "name": "stdout",
     "output_type": "stream",
     "text": [
      "\tTotal Loss (NLL + MDMM): -16538.63\n",
      "\tMDMM Loss:               161.73\n",
      "\tRemaining Weights:       99.78 %\n"
     ]
    },
    {
     "name": "stderr",
     "output_type": "stream",
     "text": [
      "Epoch 30 [Training]: 100%|██████████| 84/84 [00:06<00:00, 13.24it/s, loss=-16828.96, λc2D1=9.08, λd1=3.47, λd2=6.02, λd3=6.05]\n",
      "Epoch 30 [Validation]: 100%|██████████| 21/21 [00:01<00:00, 14.59it/s, loss=-17124.66]\n"
     ]
    },
    {
     "name": "stdout",
     "output_type": "stream",
     "text": [
      "\tTotal Loss (NLL + MDMM): -16829.10\n",
      "\tMDMM Loss:               167.90\n",
      "\tRemaining Weights:       99.78 %\n"
     ]
    },
    {
     "name": "stderr",
     "output_type": "stream",
     "text": [
      "Epoch 31 [Training]: 100%|██████████| 84/84 [00:06<00:00, 12.96it/s, loss=-17132.75, λc2D1=9.38, λd1=3.59, λd2=6.21, λd3=6.24]\n",
      "Epoch 31 [Validation]: 100%|██████████| 21/21 [00:01<00:00, 14.71it/s, loss=-17439.12]\n"
     ]
    },
    {
     "name": "stdout",
     "output_type": "stream",
     "text": [
      "\tTotal Loss (NLL + MDMM): -17126.79\n",
      "\tMDMM Loss:               174.12\n",
      "\tRemaining Weights:       99.72 %\n"
     ]
    },
    {
     "name": "stderr",
     "output_type": "stream",
     "text": [
      "Epoch 32 [Training]: 100%|██████████| 84/84 [00:06<00:00, 13.32it/s, loss=-17405.89, λc2D1=9.68, λd1=3.71, λd2=6.41, λd3=6.44]\n",
      "Epoch 32 [Validation]: 100%|██████████| 21/21 [00:01<00:00, 14.38it/s, loss=-17736.88]\n"
     ]
    },
    {
     "name": "stdout",
     "output_type": "stream",
     "text": [
      "\tTotal Loss (NLL + MDMM): -17409.46\n",
      "\tMDMM Loss:               180.36\n",
      "\tRemaining Weights:       99.89 %\n"
     ]
    },
    {
     "name": "stderr",
     "output_type": "stream",
     "text": [
      "Epoch 33 [Training]: 100%|██████████| 84/84 [00:06<00:00, 13.10it/s, loss=-17680.02, λc2D1=9.98, λd1=3.83, λd2=6.61, λd3=6.63]\n",
      "Epoch 33 [Validation]: 100%|██████████| 21/21 [00:01<00:00, 14.32it/s, loss=-18029.09]\n"
     ]
    },
    {
     "name": "stdout",
     "output_type": "stream",
     "text": [
      "\tTotal Loss (NLL + MDMM): -17695.07\n",
      "\tMDMM Loss:               186.62\n",
      "\tRemaining Weights:       99.56 %\n"
     ]
    },
    {
     "name": "stderr",
     "output_type": "stream",
     "text": [
      "Epoch 34 [Training]: 100%|██████████| 84/84 [00:06<00:00, 13.21it/s, loss=-17953.97, λc2D1=10.28, λd1=3.95, λd2=6.80, λd3=6.83]\n",
      "Epoch 34 [Validation]: 100%|██████████| 21/21 [00:01<00:00, 14.87it/s, loss=-18291.80]\n"
     ]
    },
    {
     "name": "stdout",
     "output_type": "stream",
     "text": [
      "\tTotal Loss (NLL + MDMM): -17951.21\n",
      "\tMDMM Loss:               192.91\n",
      "\tRemaining Weights:       99.83 %\n"
     ]
    },
    {
     "name": "stderr",
     "output_type": "stream",
     "text": [
      "Epoch 35 [Training]: 100%|██████████| 84/84 [00:06<00:00, 13.37it/s, loss=-18204.69, λc2D1=10.58, λd1=4.07, λd2=7.00, λd3=7.02]\n",
      "Epoch 35 [Validation]: 100%|██████████| 21/21 [00:01<00:00, 14.91it/s, loss=-18567.68]\n"
     ]
    },
    {
     "name": "stdout",
     "output_type": "stream",
     "text": [
      "\tTotal Loss (NLL + MDMM): -18229.88\n",
      "\tMDMM Loss:               199.15\n",
      "\tRemaining Weights:       99.72 %\n"
     ]
    },
    {
     "name": "stderr",
     "output_type": "stream",
     "text": [
      "Epoch 36 [Training]: 100%|██████████| 84/84 [00:06<00:00, 13.24it/s, loss=-18439.35, λc2D1=10.88, λd1=4.19, λd2=7.19, λd3=7.22]\n",
      "Epoch 36 [Validation]: 100%|██████████| 21/21 [00:01<00:00, 14.54it/s, loss=-18807.78]\n"
     ]
    },
    {
     "name": "stdout",
     "output_type": "stream",
     "text": [
      "\tTotal Loss (NLL + MDMM): -18462.44\n",
      "\tMDMM Loss:               205.39\n",
      "\tRemaining Weights:       99.50 %\n"
     ]
    },
    {
     "name": "stderr",
     "output_type": "stream",
     "text": [
      "Epoch 37 [Training]: 100%|██████████| 84/84 [00:06<00:00, 13.20it/s, loss=-18678.17, λc2D1=11.18, λd1=4.31, λd2=7.39, λd3=7.41]\n",
      "Epoch 37 [Validation]: 100%|██████████| 21/21 [00:01<00:00, 14.65it/s, loss=-19045.37]\n"
     ]
    },
    {
     "name": "stdout",
     "output_type": "stream",
     "text": [
      "\tTotal Loss (NLL + MDMM): -18695.02\n",
      "\tMDMM Loss:               211.61\n",
      "\tRemaining Weights:       99.61 %\n"
     ]
    },
    {
     "name": "stderr",
     "output_type": "stream",
     "text": [
      "Epoch 38 [Training]: 100%|██████████| 84/84 [00:06<00:00, 13.22it/s, loss=-18901.01, λc2D1=11.48, λd1=4.44, λd2=7.59, λd3=7.60]\n",
      "Epoch 38 [Validation]: 100%|██████████| 21/21 [00:01<00:00, 14.82it/s, loss=-19265.85]\n"
     ]
    },
    {
     "name": "stdout",
     "output_type": "stream",
     "text": [
      "\tTotal Loss (NLL + MDMM): -18915.83\n",
      "\tMDMM Loss:               217.80\n",
      "\tRemaining Weights:       99.78 %\n"
     ]
    },
    {
     "name": "stderr",
     "output_type": "stream",
     "text": [
      "Epoch 39 [Training]: 100%|██████████| 84/84 [00:06<00:00, 13.15it/s, loss=-19106.09, λc2D1=11.79, λd1=4.56, λd2=7.79, λd3=7.80]\n",
      "Epoch 39 [Validation]: 100%|██████████| 21/21 [00:01<00:00, 14.53it/s, loss=-19476.74]\n"
     ]
    },
    {
     "name": "stdout",
     "output_type": "stream",
     "text": [
      "\tTotal Loss (NLL + MDMM): -19119.19\n",
      "\tMDMM Loss:               224.00\n",
      "\tRemaining Weights:       99.89 %\n"
     ]
    },
    {
     "name": "stderr",
     "output_type": "stream",
     "text": [
      "Epoch 40 [Training]: 100%|██████████| 84/84 [00:06<00:00, 13.21it/s, loss=-19311.87, λc2D1=12.09, λd1=4.68, λd2=7.98, λd3=7.99]\n",
      "Epoch 40 [Validation]: 100%|██████████| 21/21 [00:01<00:00, 14.67it/s, loss=-19677.62]\n"
     ]
    },
    {
     "name": "stdout",
     "output_type": "stream",
     "text": [
      "\tTotal Loss (NLL + MDMM): -19316.26\n",
      "\tMDMM Loss:               230.17\n",
      "\tRemaining Weights:       99.83 %\n"
     ]
    },
    {
     "name": "stderr",
     "output_type": "stream",
     "text": [
      "Epoch 41 [Training]: 100%|██████████| 84/84 [00:06<00:00, 13.31it/s, loss=-19500.51, λc2D1=12.39, λd1=4.81, λd2=8.18, λd3=8.18]\n",
      "Epoch 41 [Validation]: 100%|██████████| 21/21 [00:01<00:00, 14.23it/s, loss=-19862.15]\n"
     ]
    },
    {
     "name": "stdout",
     "output_type": "stream",
     "text": [
      "\tTotal Loss (NLL + MDMM): -19505.55\n",
      "\tMDMM Loss:               236.31\n",
      "\tRemaining Weights:       99.83 %\n"
     ]
    },
    {
     "name": "stderr",
     "output_type": "stream",
     "text": [
      "Epoch 42 [Training]: 100%|██████████| 84/84 [00:06<00:00, 13.15it/s, loss=-19673.26, λc2D1=12.69, λd1=4.93, λd2=8.38, λd3=8.37]\n",
      "Epoch 42 [Validation]: 100%|██████████| 21/21 [00:01<00:00, 14.82it/s, loss=-20039.95]\n"
     ]
    },
    {
     "name": "stdout",
     "output_type": "stream",
     "text": [
      "\tTotal Loss (NLL + MDMM): -19689.78\n",
      "\tMDMM Loss:               242.43\n",
      "\tRemaining Weights:       99.67 %\n"
     ]
    },
    {
     "name": "stderr",
     "output_type": "stream",
     "text": [
      "Epoch 43 [Training]: 100%|██████████| 84/84 [00:06<00:00, 13.33it/s, loss=-19866.75, λc2D1=13.00, λd1=5.06, λd2=8.58, λd3=8.56]\n",
      "Epoch 43 [Validation]: 100%|██████████| 21/21 [00:01<00:00, 14.62it/s, loss=-20209.49]\n"
     ]
    },
    {
     "name": "stdout",
     "output_type": "stream",
     "text": [
      "\tTotal Loss (NLL + MDMM): -19866.60\n",
      "\tMDMM Loss:               248.58\n",
      "\tRemaining Weights:       99.72 %\n"
     ]
    },
    {
     "name": "stderr",
     "output_type": "stream",
     "text": [
      "Epoch 44 [Training]: 100%|██████████| 84/84 [00:06<00:00, 13.31it/s, loss=-20024.75, λc2D1=13.30, λd1=5.18, λd2=8.78, λd3=8.75]\n",
      "Epoch 44 [Validation]: 100%|██████████| 21/21 [00:01<00:00, 14.71it/s, loss=-20371.79]\n"
     ]
    },
    {
     "name": "stdout",
     "output_type": "stream",
     "text": [
      "\tTotal Loss (NLL + MDMM): -20033.27\n",
      "\tMDMM Loss:               254.70\n",
      "\tRemaining Weights:       99.56 %\n"
     ]
    },
    {
     "name": "stderr",
     "output_type": "stream",
     "text": [
      "Epoch 45 [Training]: 100%|██████████| 84/84 [00:06<00:00, 13.19it/s, loss=-20185.20, λc2D1=13.60, λd1=5.31, λd2=8.98, λd3=8.94]\n",
      "Epoch 45 [Validation]: 100%|██████████| 21/21 [00:01<00:00, 14.89it/s, loss=-20528.73]\n"
     ]
    },
    {
     "name": "stdout",
     "output_type": "stream",
     "text": [
      "\tTotal Loss (NLL + MDMM): -20189.53\n",
      "\tMDMM Loss:               260.80\n",
      "\tRemaining Weights:       99.56 %\n"
     ]
    },
    {
     "name": "stderr",
     "output_type": "stream",
     "text": [
      "Epoch 46 [Training]: 100%|██████████| 84/84 [00:06<00:00, 13.24it/s, loss=-20334.38, λc2D1=13.90, λd1=5.43, λd2=9.17, λd3=9.13]\n",
      "Epoch 46 [Validation]: 100%|██████████| 21/21 [00:01<00:00, 14.72it/s, loss=-20676.89]\n"
     ]
    },
    {
     "name": "stdout",
     "output_type": "stream",
     "text": [
      "\tTotal Loss (NLL + MDMM): -20349.92\n",
      "\tMDMM Loss:               266.91\n",
      "\tRemaining Weights:       99.72 %\n"
     ]
    },
    {
     "name": "stderr",
     "output_type": "stream",
     "text": [
      "Epoch 47 [Training]: 100%|██████████| 84/84 [00:06<00:00, 13.32it/s, loss=-20474.10, λc2D1=14.21, λd1=5.56, λd2=9.37, λd3=9.32]\n",
      "Epoch 47 [Validation]: 100%|██████████| 21/21 [00:01<00:00, 14.59it/s, loss=-20820.36]\n"
     ]
    },
    {
     "name": "stdout",
     "output_type": "stream",
     "text": [
      "\tTotal Loss (NLL + MDMM): -20503.27\n",
      "\tMDMM Loss:               272.97\n",
      "\tRemaining Weights:       99.67 %\n"
     ]
    },
    {
     "name": "stderr",
     "output_type": "stream",
     "text": [
      "Epoch 48 [Training]: 100%|██████████| 84/84 [00:06<00:00, 13.23it/s, loss=-20605.99, λc2D1=14.51, λd1=5.69, λd2=9.57, λd3=9.51]\n",
      "Epoch 48 [Validation]: 100%|██████████| 21/21 [00:01<00:00, 14.88it/s, loss=-20955.21]\n"
     ]
    },
    {
     "name": "stdout",
     "output_type": "stream",
     "text": [
      "\tTotal Loss (NLL + MDMM): -20633.40\n",
      "\tMDMM Loss:               279.06\n",
      "\tRemaining Weights:       99.61 %\n"
     ]
    },
    {
     "name": "stderr",
     "output_type": "stream",
     "text": [
      "Epoch 49 [Training]: 100%|██████████| 84/84 [00:06<00:00, 13.23it/s, loss=-20713.48, λc2D1=14.81, λd1=5.81, λd2=9.77, λd3=9.70]\n",
      "Epoch 49 [Validation]: 100%|██████████| 21/21 [00:01<00:00, 14.83it/s, loss=-21077.01]\n"
     ]
    },
    {
     "name": "stdout",
     "output_type": "stream",
     "text": [
      "\tTotal Loss (NLL + MDMM): -20762.84\n",
      "\tMDMM Loss:               285.13\n",
      "\tRemaining Weights:       99.50 %\n"
     ]
    },
    {
     "name": "stderr",
     "output_type": "stream",
     "text": [
      "Epoch 50 [Training]: 100%|██████████| 84/84 [00:06<00:00, 13.13it/s, loss=-20846.76, λc2D1=15.12, λd1=5.94, λd2=9.97, λd3=9.88]\n",
      "Epoch 50 [Validation]: 100%|██████████| 21/21 [00:01<00:00, 14.73it/s, loss=-21199.20]\n"
     ]
    },
    {
     "name": "stdout",
     "output_type": "stream",
     "text": [
      "\tTotal Loss (NLL + MDMM): -20905.84\n",
      "\tMDMM Loss:               291.19\n",
      "\tRemaining Weights:       99.67 %\n"
     ]
    },
    {
     "name": "stderr",
     "output_type": "stream",
     "text": [
      "Epoch 51 [Training]: 100%|██████████| 84/84 [00:06<00:00, 13.27it/s, loss=-20951.81, λc2D1=15.42, λd1=6.07, λd2=10.17, λd3=10.07]\n",
      "Epoch 51 [Validation]: 100%|██████████| 21/21 [00:01<00:00, 14.85it/s, loss=-21312.63]\n"
     ]
    },
    {
     "name": "stdout",
     "output_type": "stream",
     "text": [
      "\tTotal Loss (NLL + MDMM): -21027.90\n",
      "\tMDMM Loss:               297.26\n",
      "\tRemaining Weights:       99.67 %\n"
     ]
    },
    {
     "name": "stderr",
     "output_type": "stream",
     "text": [
      "Epoch 52 [Training]: 100%|██████████| 84/84 [00:06<00:00, 13.35it/s, loss=-21082.63, λc2D1=15.73, λd1=6.20, λd2=10.37, λd3=10.26]\n",
      "Epoch 52 [Validation]: 100%|██████████| 21/21 [00:01<00:00, 14.71it/s, loss=-21415.23]\n"
     ]
    },
    {
     "name": "stdout",
     "output_type": "stream",
     "text": [
      "\tTotal Loss (NLL + MDMM): -21142.82\n",
      "\tMDMM Loss:               303.32\n",
      "\tRemaining Weights:       99.56 %\n"
     ]
    },
    {
     "name": "stderr",
     "output_type": "stream",
     "text": [
      "Epoch 53 [Training]: 100%|██████████| 84/84 [00:06<00:00, 13.19it/s, loss=-21218.65, λc2D1=16.03, λd1=6.33, λd2=10.57, λd3=10.44]\n",
      "Epoch 53 [Validation]: 100%|██████████| 21/21 [00:01<00:00, 14.55it/s, loss=-21532.29]\n"
     ]
    },
    {
     "name": "stdout",
     "output_type": "stream",
     "text": [
      "\tTotal Loss (NLL + MDMM): -21253.26\n",
      "\tMDMM Loss:               309.13\n",
      "\tRemaining Weights:       99.50 %\n"
     ]
    },
    {
     "name": "stderr",
     "output_type": "stream",
     "text": [
      "Epoch 54 [Training]: 100%|██████████| 84/84 [00:06<00:00, 13.18it/s, loss=-21275.21, λc2D1=16.33, λd1=6.45, λd2=10.77, λd3=10.63]\n",
      "Epoch 54 [Validation]: 100%|██████████| 21/21 [00:01<00:00, 14.83it/s, loss=-21618.17]\n"
     ]
    },
    {
     "name": "stdout",
     "output_type": "stream",
     "text": [
      "\tTotal Loss (NLL + MDMM): -21353.82\n",
      "\tMDMM Loss:               315.19\n",
      "\tRemaining Weights:       99.78 %\n"
     ]
    },
    {
     "name": "stderr",
     "output_type": "stream",
     "text": [
      "Epoch 55 [Training]: 100%|██████████| 84/84 [00:06<00:00, 13.30it/s, loss=-21431.39, λc2D1=16.64, λd1=6.58, λd2=10.98, λd3=10.81]\n",
      "Epoch 55 [Validation]: 100%|██████████| 21/21 [00:01<00:00, 14.72it/s, loss=-21716.51]\n"
     ]
    },
    {
     "name": "stdout",
     "output_type": "stream",
     "text": [
      "\tTotal Loss (NLL + MDMM): -21459.53\n",
      "\tMDMM Loss:               321.25\n",
      "\tRemaining Weights:       99.61 %\n"
     ]
    },
    {
     "name": "stderr",
     "output_type": "stream",
     "text": [
      "Epoch 56 [Training]: 100%|██████████| 84/84 [00:06<00:00, 13.09it/s, loss=-21480.16, λc2D1=16.94, λd1=6.71, λd2=11.18, λd3=11.00]\n",
      "Epoch 56 [Validation]: 100%|██████████| 21/21 [00:01<00:00, 14.50it/s, loss=-21803.74]\n"
     ]
    },
    {
     "name": "stdout",
     "output_type": "stream",
     "text": [
      "\tTotal Loss (NLL + MDMM): -21552.27\n",
      "\tMDMM Loss:               327.27\n",
      "\tRemaining Weights:       99.72 %\n"
     ]
    },
    {
     "name": "stderr",
     "output_type": "stream",
     "text": [
      "Epoch 57 [Training]: 100%|██████████| 84/84 [00:06<00:00, 13.06it/s, loss=-21618.28, λc2D1=17.25, λd1=6.84, λd2=11.38, λd3=11.18]\n",
      "Epoch 57 [Validation]: 100%|██████████| 21/21 [00:01<00:00, 14.66it/s, loss=-21885.68]\n"
     ]
    },
    {
     "name": "stdout",
     "output_type": "stream",
     "text": [
      "\tTotal Loss (NLL + MDMM): -21639.92\n",
      "\tMDMM Loss:               333.64\n",
      "\tRemaining Weights:       99.72 %\n"
     ]
    },
    {
     "name": "stderr",
     "output_type": "stream",
     "text": [
      "Epoch 58 [Training]: 100%|██████████| 84/84 [00:06<00:00, 13.29it/s, loss=-21705.16, λc2D1=17.55, λd1=6.97, λd2=11.58, λd3=11.36]\n",
      "Epoch 58 [Validation]: 100%|██████████| 21/21 [00:01<00:00, 14.84it/s, loss=-21977.51]\n"
     ]
    },
    {
     "name": "stdout",
     "output_type": "stream",
     "text": [
      "\tTotal Loss (NLL + MDMM): -21736.64\n",
      "\tMDMM Loss:               339.68\n",
      "\tRemaining Weights:       99.78 %\n"
     ]
    },
    {
     "name": "stderr",
     "output_type": "stream",
     "text": [
      "Epoch 59 [Training]: 100%|██████████| 84/84 [00:06<00:00, 13.02it/s, loss=-21775.93, λc2D1=17.86, λd1=7.10, λd2=11.78, λd3=11.55]\n",
      "Epoch 59 [Validation]: 100%|██████████| 21/21 [00:01<00:00, 14.79it/s, loss=-22067.04]\n"
     ]
    },
    {
     "name": "stdout",
     "output_type": "stream",
     "text": [
      "\tTotal Loss (NLL + MDMM): -21828.79\n",
      "\tMDMM Loss:               345.71\n",
      "\tRemaining Weights:       99.56 %\n"
     ]
    },
    {
     "name": "stderr",
     "output_type": "stream",
     "text": [
      "Epoch 60 [Training]: 100%|██████████| 84/84 [00:06<00:00, 13.40it/s, loss=-21873.45, λc2D1=18.16, λd1=7.23, λd2=11.98, λd3=11.73]\n",
      "Epoch 60 [Validation]: 100%|██████████| 21/21 [00:01<00:00, 13.99it/s, loss=-22138.63]\n"
     ]
    },
    {
     "name": "stdout",
     "output_type": "stream",
     "text": [
      "\tTotal Loss (NLL + MDMM): -21910.26\n",
      "\tMDMM Loss:               351.64\n",
      "\tRemaining Weights:       99.56 %\n"
     ]
    },
    {
     "name": "stderr",
     "output_type": "stream",
     "text": [
      "Epoch 61 [Training]: 100%|██████████| 84/84 [00:06<00:00, 12.86it/s, loss=-21931.29, λc2D1=18.46, λd1=7.36, λd2=12.19, λd3=11.91]\n",
      "Epoch 61 [Validation]: 100%|██████████| 21/21 [00:01<00:00, 14.92it/s, loss=-22218.59]\n"
     ]
    },
    {
     "name": "stdout",
     "output_type": "stream",
     "text": [
      "\tTotal Loss (NLL + MDMM): -21992.82\n",
      "\tMDMM Loss:               357.68\n",
      "\tRemaining Weights:       99.78 %\n"
     ]
    },
    {
     "name": "stderr",
     "output_type": "stream",
     "text": [
      "Epoch 62 [Training]: 100%|██████████| 84/84 [00:06<00:00, 13.25it/s, loss=-22030.90, λc2D1=18.77, λd1=7.49, λd2=12.39, λd3=12.09]\n",
      "Epoch 62 [Validation]: 100%|██████████| 21/21 [00:01<00:00, 14.16it/s, loss=-22295.55]\n"
     ]
    },
    {
     "name": "stdout",
     "output_type": "stream",
     "text": [
      "\tTotal Loss (NLL + MDMM): -22070.81\n",
      "\tMDMM Loss:               363.83\n",
      "\tRemaining Weights:       99.67 %\n"
     ]
    },
    {
     "name": "stderr",
     "output_type": "stream",
     "text": [
      "Epoch 63 [Training]: 100%|██████████| 84/84 [00:06<00:00, 13.16it/s, loss=-22098.66, λc2D1=19.07, λd1=7.62, λd2=12.59, λd3=12.27]\n",
      "Epoch 63 [Validation]: 100%|██████████| 21/21 [00:01<00:00, 14.60it/s, loss=-22365.62]\n"
     ]
    },
    {
     "name": "stdout",
     "output_type": "stream",
     "text": [
      "\tTotal Loss (NLL + MDMM): -22147.21\n",
      "\tMDMM Loss:               369.51\n",
      "\tRemaining Weights:       99.67 %\n"
     ]
    },
    {
     "name": "stderr",
     "output_type": "stream",
     "text": [
      "Epoch 64 [Training]: 100%|██████████| 84/84 [00:06<00:00, 13.28it/s, loss=-22175.12, λc2D1=19.38, λd1=7.75, λd2=12.79, λd3=12.45]\n",
      "Epoch 64 [Validation]: 100%|██████████| 21/21 [00:01<00:00, 15.01it/s, loss=-22444.65]\n"
     ]
    },
    {
     "name": "stdout",
     "output_type": "stream",
     "text": [
      "\tTotal Loss (NLL + MDMM): -22228.67\n",
      "\tMDMM Loss:               375.51\n",
      "\tRemaining Weights:       99.61 %\n"
     ]
    },
    {
     "name": "stderr",
     "output_type": "stream",
     "text": [
      "Epoch 65 [Training]: 100%|██████████| 84/84 [00:06<00:00, 13.38it/s, loss=-22229.10, λc2D1=19.68, λd1=7.88, λd2=13.00, λd3=12.63]\n",
      "Epoch 65 [Validation]: 100%|██████████| 21/21 [00:01<00:00, 14.25it/s, loss=-22506.84]\n"
     ]
    },
    {
     "name": "stdout",
     "output_type": "stream",
     "text": [
      "\tTotal Loss (NLL + MDMM): -22293.65\n",
      "\tMDMM Loss:               381.53\n",
      "\tRemaining Weights:       99.72 %\n"
     ]
    },
    {
     "name": "stderr",
     "output_type": "stream",
     "text": [
      "Epoch 66 [Training]: 100%|██████████| 84/84 [00:06<00:00, 13.08it/s, loss=-22304.61, λc2D1=19.99, λd1=8.01, λd2=13.20, λd3=12.81]\n",
      "Epoch 66 [Validation]: 100%|██████████| 21/21 [00:01<00:00, 14.72it/s, loss=-22580.37]\n"
     ]
    },
    {
     "name": "stdout",
     "output_type": "stream",
     "text": [
      "\tTotal Loss (NLL + MDMM): -22370.47\n",
      "\tMDMM Loss:               387.54\n",
      "\tRemaining Weights:       99.56 %\n"
     ]
    },
    {
     "name": "stderr",
     "output_type": "stream",
     "text": [
      "Epoch 67 [Training]: 100%|██████████| 84/84 [00:06<00:00, 13.30it/s, loss=-22370.19, λc2D1=20.29, λd1=8.14, λd2=13.40, λd3=12.99]\n",
      "Epoch 67 [Validation]: 100%|██████████| 21/21 [00:01<00:00, 14.79it/s, loss=-22647.56]\n"
     ]
    },
    {
     "name": "stdout",
     "output_type": "stream",
     "text": [
      "\tTotal Loss (NLL + MDMM): -22442.17\n",
      "\tMDMM Loss:               393.53\n",
      "\tRemaining Weights:       99.56 %\n"
     ]
    },
    {
     "name": "stderr",
     "output_type": "stream",
     "text": [
      "Epoch 68 [Training]: 100%|██████████| 84/84 [00:06<00:00, 13.28it/s, loss=-22432.79, λc2D1=20.60, λd1=8.27, λd2=13.61, λd3=13.17]\n",
      "Epoch 68 [Validation]: 100%|██████████| 21/21 [00:01<00:00, 14.74it/s, loss=-22686.20]\n"
     ]
    },
    {
     "name": "stdout",
     "output_type": "stream",
     "text": [
      "\tTotal Loss (NLL + MDMM): -22487.32\n",
      "\tMDMM Loss:               399.49\n",
      "\tRemaining Weights:       99.72 %\n"
     ]
    },
    {
     "name": "stderr",
     "output_type": "stream",
     "text": [
      "Epoch 69 [Training]: 100%|██████████| 84/84 [00:06<00:00, 13.34it/s, loss=-22485.26, λc2D1=20.91, λd1=8.40, λd2=13.81, λd3=13.35]\n",
      "Epoch 69 [Validation]: 100%|██████████| 21/21 [00:01<00:00, 15.02it/s, loss=-22741.47]\n"
     ]
    },
    {
     "name": "stdout",
     "output_type": "stream",
     "text": [
      "\tTotal Loss (NLL + MDMM): -22561.58\n",
      "\tMDMM Loss:               405.47\n",
      "\tRemaining Weights:       99.67 %\n"
     ]
    },
    {
     "name": "stderr",
     "output_type": "stream",
     "text": [
      "Epoch 70 [Training]: 100%|██████████| 84/84 [00:06<00:00, 13.24it/s, loss=-22561.57, λc2D1=21.21, λd1=8.54, λd2=14.01, λd3=13.53]\n",
      "Epoch 70 [Validation]: 100%|██████████| 21/21 [00:01<00:00, 15.13it/s, loss=-22827.23]\n"
     ]
    },
    {
     "name": "stdout",
     "output_type": "stream",
     "text": [
      "\tTotal Loss (NLL + MDMM): -22632.57\n",
      "\tMDMM Loss:               411.42\n",
      "\tRemaining Weights:       99.61 %\n"
     ]
    },
    {
     "name": "stderr",
     "output_type": "stream",
     "text": [
      "Epoch 71 [Training]: 100%|██████████| 84/84 [00:06<00:00, 13.34it/s, loss=-22614.51, λc2D1=21.52, λd1=8.67, λd2=14.22, λd3=13.71]\n",
      "Epoch 71 [Validation]: 100%|██████████| 21/21 [00:01<00:00, 14.66it/s, loss=-22886.23]\n"
     ]
    },
    {
     "name": "stdout",
     "output_type": "stream",
     "text": [
      "\tTotal Loss (NLL + MDMM): -22698.96\n",
      "\tMDMM Loss:               417.38\n",
      "\tRemaining Weights:       99.61 %\n"
     ]
    },
    {
     "name": "stderr",
     "output_type": "stream",
     "text": [
      "Epoch 72 [Training]: 100%|██████████| 84/84 [00:06<00:00, 12.89it/s, loss=-22669.69, λc2D1=21.82, λd1=8.80, λd2=14.42, λd3=13.89]\n",
      "Epoch 72 [Validation]: 100%|██████████| 21/21 [00:01<00:00, 14.36it/s, loss=-22941.36]\n"
     ]
    },
    {
     "name": "stdout",
     "output_type": "stream",
     "text": [
      "\tTotal Loss (NLL + MDMM): -22751.13\n",
      "\tMDMM Loss:               423.33\n",
      "\tRemaining Weights:       99.50 %\n"
     ]
    },
    {
     "name": "stderr",
     "output_type": "stream",
     "text": [
      "Epoch 73 [Training]: 100%|██████████| 84/84 [00:06<00:00, 13.15it/s, loss=-22740.53, λc2D1=22.13, λd1=8.93, λd2=14.63, λd3=14.06]\n",
      "Epoch 73 [Validation]: 100%|██████████| 21/21 [00:01<00:00, 14.81it/s, loss=-22985.88]\n"
     ]
    },
    {
     "name": "stdout",
     "output_type": "stream",
     "text": [
      "\tTotal Loss (NLL + MDMM): -22808.16\n",
      "\tMDMM Loss:               429.62\n",
      "\tRemaining Weights:       99.72 %\n"
     ]
    },
    {
     "name": "stderr",
     "output_type": "stream",
     "text": [
      "Epoch 74 [Training]: 100%|██████████| 84/84 [00:06<00:00, 13.27it/s, loss=-22785.24, λc2D1=22.44, λd1=9.06, λd2=14.83, λd3=14.24]\n",
      "Epoch 74 [Validation]: 100%|██████████| 21/21 [00:01<00:00, 14.78it/s, loss=-23063.48]\n"
     ]
    },
    {
     "name": "stdout",
     "output_type": "stream",
     "text": [
      "\tTotal Loss (NLL + MDMM): -22872.30\n",
      "\tMDMM Loss:               435.57\n",
      "\tRemaining Weights:       99.78 %\n"
     ]
    },
    {
     "name": "stderr",
     "output_type": "stream",
     "text": [
      "Epoch 75 [Training]: 100%|██████████| 84/84 [00:06<00:00, 13.27it/s, loss=-22841.49, λc2D1=22.74, λd1=9.20, λd2=15.03, λd3=14.42]\n",
      "Epoch 75 [Validation]: 100%|██████████| 21/21 [00:01<00:00, 14.87it/s, loss=-23111.75]\n"
     ]
    },
    {
     "name": "stdout",
     "output_type": "stream",
     "text": [
      "\tTotal Loss (NLL + MDMM): -22932.92\n",
      "\tMDMM Loss:               441.48\n",
      "\tRemaining Weights:       99.67 %\n"
     ]
    },
    {
     "name": "stderr",
     "output_type": "stream",
     "text": [
      "Epoch 76 [Training]: 100%|██████████| 84/84 [00:06<00:00, 13.23it/s, loss=-22876.76, λc2D1=23.05, λd1=9.33, λd2=15.24, λd3=14.59]\n",
      "Epoch 76 [Validation]: 100%|██████████| 21/21 [00:01<00:00, 14.81it/s, loss=-23135.30]\n"
     ]
    },
    {
     "name": "stdout",
     "output_type": "stream",
     "text": [
      "\tTotal Loss (NLL + MDMM): -22961.93\n",
      "\tMDMM Loss:               447.40\n",
      "\tRemaining Weights:       99.61 %\n"
     ]
    },
    {
     "name": "stderr",
     "output_type": "stream",
     "text": [
      "Epoch 77 [Training]: 100%|██████████| 84/84 [00:06<00:00, 13.28it/s, loss=-22955.96, λc2D1=23.36, λd1=9.46, λd2=15.44, λd3=14.77]\n",
      "Epoch 77 [Validation]: 100%|██████████| 21/21 [00:01<00:00, 14.56it/s, loss=-23217.59]\n"
     ]
    },
    {
     "name": "stdout",
     "output_type": "stream",
     "text": [
      "\tTotal Loss (NLL + MDMM): -23049.44\n",
      "\tMDMM Loss:               453.33\n",
      "\tRemaining Weights:       99.61 %\n"
     ]
    },
    {
     "name": "stderr",
     "output_type": "stream",
     "text": [
      "Epoch 78 [Training]: 100%|██████████| 84/84 [00:06<00:00, 13.12it/s, loss=-23005.03, λc2D1=23.67, λd1=9.60, λd2=15.65, λd3=14.94]\n",
      "Epoch 78 [Validation]: 100%|██████████| 21/21 [00:01<00:00, 14.82it/s, loss=-23259.33]\n"
     ]
    },
    {
     "name": "stdout",
     "output_type": "stream",
     "text": [
      "\tTotal Loss (NLL + MDMM): -23097.39\n",
      "\tMDMM Loss:               459.26\n",
      "\tRemaining Weights:       99.78 %\n"
     ]
    },
    {
     "name": "stderr",
     "output_type": "stream",
     "text": [
      "Epoch 79 [Training]: 100%|██████████| 84/84 [00:06<00:00, 13.11it/s, loss=-23063.15, λc2D1=23.97, λd1=9.73, λd2=15.85, λd3=15.12]\n",
      "Epoch 79 [Validation]: 100%|██████████| 21/21 [00:01<00:00, 14.76it/s, loss=-23329.50]\n"
     ]
    },
    {
     "name": "stdout",
     "output_type": "stream",
     "text": [
      "\tTotal Loss (NLL + MDMM): -23163.57\n",
      "\tMDMM Loss:               465.16\n",
      "\tRemaining Weights:       99.67 %\n"
     ]
    },
    {
     "name": "stderr",
     "output_type": "stream",
     "text": [
      "Epoch 80 [Training]: 100%|██████████| 84/84 [00:06<00:00, 13.33it/s, loss=-23111.18, λc2D1=24.28, λd1=9.86, λd2=16.06, λd3=15.29]\n",
      "Epoch 80 [Validation]: 100%|██████████| 21/21 [00:01<00:00, 14.85it/s, loss=-23360.49]\n"
     ]
    },
    {
     "name": "stdout",
     "output_type": "stream",
     "text": [
      "\tTotal Loss (NLL + MDMM): -23201.61\n",
      "\tMDMM Loss:               471.03\n",
      "\tRemaining Weights:       99.61 %\n"
     ]
    },
    {
     "name": "stderr",
     "output_type": "stream",
     "text": [
      "Epoch 81 [Training]: 100%|██████████| 84/84 [00:06<00:00, 13.35it/s, loss=-23177.17, λc2D1=24.59, λd1=10.00, λd2=16.26, λd3=15.47]\n",
      "Epoch 81 [Validation]: 100%|██████████| 21/21 [00:01<00:00, 14.94it/s, loss=-23441.33]\n"
     ]
    },
    {
     "name": "stdout",
     "output_type": "stream",
     "text": [
      "\tTotal Loss (NLL + MDMM): -23274.18\n",
      "\tMDMM Loss:               476.90\n",
      "\tRemaining Weights:       99.61 %\n"
     ]
    },
    {
     "name": "stderr",
     "output_type": "stream",
     "text": [
      "Epoch 82 [Training]: 100%|██████████| 84/84 [00:06<00:00, 13.04it/s, loss=-23224.84, λc2D1=24.90, λd1=10.13, λd2=16.47, λd3=15.64]\n",
      "Epoch 82 [Validation]: 100%|██████████| 21/21 [00:01<00:00, 14.83it/s, loss=-23489.48]\n"
     ]
    },
    {
     "name": "stdout",
     "output_type": "stream",
     "text": [
      "\tTotal Loss (NLL + MDMM): -23320.77\n",
      "\tMDMM Loss:               482.77\n",
      "\tRemaining Weights:       99.67 %\n"
     ]
    },
    {
     "name": "stderr",
     "output_type": "stream",
     "text": [
      "Epoch 83 [Training]: 100%|██████████| 84/84 [00:06<00:00, 13.35it/s, loss=-23266.00, λc2D1=25.20, λd1=10.27, λd2=16.67, λd3=15.81]\n",
      "Epoch 83 [Validation]: 100%|██████████| 21/21 [00:01<00:00, 14.56it/s, loss=-23520.87]\n"
     ]
    },
    {
     "name": "stdout",
     "output_type": "stream",
     "text": [
      "\tTotal Loss (NLL + MDMM): -23361.73\n",
      "\tMDMM Loss:               488.63\n",
      "\tRemaining Weights:       99.78 %\n"
     ]
    },
    {
     "name": "stderr",
     "output_type": "stream",
     "text": [
      "Epoch 84 [Training]: 100%|██████████| 84/84 [00:06<00:00, 13.36it/s, loss=-23350.48, λc2D1=25.51, λd1=10.40, λd2=16.88, λd3=15.99]\n",
      "Epoch 84 [Validation]: 100%|██████████| 21/21 [00:01<00:00, 14.68it/s, loss=-23600.61]\n"
     ]
    },
    {
     "name": "stdout",
     "output_type": "stream",
     "text": [
      "\tTotal Loss (NLL + MDMM): -23435.30\n",
      "\tMDMM Loss:               494.47\n",
      "\tRemaining Weights:       99.67 %\n"
     ]
    },
    {
     "name": "stderr",
     "output_type": "stream",
     "text": [
      "Epoch 85 [Training]: 100%|██████████| 84/84 [00:06<00:00, 13.27it/s, loss=-23387.48, λc2D1=25.82, λd1=10.54, λd2=17.09, λd3=16.16]\n",
      "Epoch 85 [Validation]: 100%|██████████| 21/21 [00:01<00:00, 14.56it/s, loss=-23643.17]\n"
     ]
    },
    {
     "name": "stdout",
     "output_type": "stream",
     "text": [
      "\tTotal Loss (NLL + MDMM): -23471.07\n",
      "\tMDMM Loss:               500.26\n",
      "\tRemaining Weights:       99.78 %\n"
     ]
    },
    {
     "name": "stderr",
     "output_type": "stream",
     "text": [
      "Epoch 86 [Training]: 100%|██████████| 84/84 [00:06<00:00, 13.27it/s, loss=-23435.31, λc2D1=26.13, λd1=10.67, λd2=17.29, λd3=16.33]\n",
      "Epoch 86 [Validation]: 100%|██████████| 21/21 [00:01<00:00, 14.46it/s, loss=-23712.25]\n"
     ]
    },
    {
     "name": "stdout",
     "output_type": "stream",
     "text": [
      "\tTotal Loss (NLL + MDMM): -23529.46\n",
      "\tMDMM Loss:               506.10\n",
      "\tRemaining Weights:       99.72 %\n"
     ]
    },
    {
     "name": "stderr",
     "output_type": "stream",
     "text": [
      "Epoch 87 [Training]: 100%|██████████| 84/84 [00:06<00:00, 13.24it/s, loss=-23500.84, λc2D1=26.44, λd1=10.81, λd2=17.50, λd3=16.50]\n",
      "Epoch 87 [Validation]: 100%|██████████| 21/21 [00:01<00:00, 15.09it/s, loss=-23779.54]\n"
     ]
    },
    {
     "name": "stdout",
     "output_type": "stream",
     "text": [
      "\tTotal Loss (NLL + MDMM): -23598.28\n",
      "\tMDMM Loss:               511.89\n",
      "\tRemaining Weights:       99.78 %\n"
     ]
    },
    {
     "name": "stderr",
     "output_type": "stream",
     "text": [
      "Epoch 88 [Training]: 100%|██████████| 84/84 [00:06<00:00, 13.32it/s, loss=-23555.85, λc2D1=26.75, λd1=10.95, λd2=17.70, λd3=16.68]\n",
      "Epoch 88 [Validation]: 100%|██████████| 21/21 [00:01<00:00, 14.85it/s, loss=-23820.48]\n"
     ]
    },
    {
     "name": "stdout",
     "output_type": "stream",
     "text": [
      "\tTotal Loss (NLL + MDMM): -23654.17\n",
      "\tMDMM Loss:               517.70\n",
      "\tRemaining Weights:       99.83 %\n"
     ]
    },
    {
     "name": "stderr",
     "output_type": "stream",
     "text": [
      "Epoch 89 [Training]: 100%|██████████| 84/84 [00:06<00:00, 13.41it/s, loss=-23609.12, λc2D1=27.06, λd1=11.08, λd2=17.91, λd3=16.85]\n",
      "Epoch 89 [Validation]: 100%|██████████| 21/21 [00:01<00:00, 14.71it/s, loss=-23889.19]\n"
     ]
    },
    {
     "name": "stdout",
     "output_type": "stream",
     "text": [
      "\tTotal Loss (NLL + MDMM): -23709.23\n",
      "\tMDMM Loss:               523.47\n",
      "\tRemaining Weights:       99.72 %\n"
     ]
    },
    {
     "name": "stderr",
     "output_type": "stream",
     "text": [
      "Epoch 90 [Training]: 100%|██████████| 84/84 [00:06<00:00, 13.27it/s, loss=-23667.88, λc2D1=27.37, λd1=11.22, λd2=18.12, λd3=17.02]\n",
      "Epoch 90 [Validation]: 100%|██████████| 21/21 [00:01<00:00, 14.96it/s, loss=-23932.44]\n"
     ]
    },
    {
     "name": "stdout",
     "output_type": "stream",
     "text": [
      "\tTotal Loss (NLL + MDMM): -23759.63\n",
      "\tMDMM Loss:               529.21\n",
      "\tRemaining Weights:       99.78 %\n"
     ]
    },
    {
     "name": "stderr",
     "output_type": "stream",
     "text": [
      "Epoch 91 [Training]: 100%|██████████| 84/84 [00:06<00:00, 13.38it/s, loss=-23712.30, λc2D1=27.68, λd1=11.36, λd2=18.32, λd3=17.19]\n",
      "Epoch 91 [Validation]: 100%|██████████| 21/21 [00:01<00:00, 14.70it/s, loss=-24001.57]\n"
     ]
    },
    {
     "name": "stdout",
     "output_type": "stream",
     "text": [
      "\tTotal Loss (NLL + MDMM): -23818.40\n",
      "\tMDMM Loss:               535.00\n",
      "\tRemaining Weights:       99.72 %\n"
     ]
    },
    {
     "name": "stderr",
     "output_type": "stream",
     "text": [
      "Epoch 92 [Training]: 100%|██████████| 84/84 [00:06<00:00, 13.28it/s, loss=-23758.73, λc2D1=27.99, λd1=11.50, λd2=18.53, λd3=17.36]\n",
      "Epoch 92 [Validation]: 100%|██████████| 21/21 [00:01<00:00, 14.28it/s, loss=-24051.07]\n"
     ]
    },
    {
     "name": "stdout",
     "output_type": "stream",
     "text": [
      "\tTotal Loss (NLL + MDMM): -23869.43\n",
      "\tMDMM Loss:               540.77\n",
      "\tRemaining Weights:       99.78 %\n"
     ]
    },
    {
     "name": "stderr",
     "output_type": "stream",
     "text": [
      "Epoch 93 [Training]: 100%|██████████| 84/84 [00:06<00:00, 13.17it/s, loss=-23809.86, λc2D1=28.30, λd1=11.64, λd2=18.73, λd3=17.53]\n",
      "Epoch 93 [Validation]: 100%|██████████| 21/21 [00:01<00:00, 14.84it/s, loss=-24107.04]\n"
     ]
    },
    {
     "name": "stdout",
     "output_type": "stream",
     "text": [
      "\tTotal Loss (NLL + MDMM): -23918.26\n",
      "\tMDMM Loss:               546.48\n",
      "\tRemaining Weights:       99.56 %\n"
     ]
    },
    {
     "name": "stderr",
     "output_type": "stream",
     "text": [
      "Epoch 94 [Training]: 100%|██████████| 84/84 [00:06<00:00, 13.21it/s, loss=-23864.11, λc2D1=28.61, λd1=11.77, λd2=18.94, λd3=17.70]\n",
      "Epoch 94 [Validation]: 100%|██████████| 21/21 [00:01<00:00, 14.93it/s, loss=-24161.76]\n"
     ]
    },
    {
     "name": "stdout",
     "output_type": "stream",
     "text": [
      "\tTotal Loss (NLL + MDMM): -23967.93\n",
      "\tMDMM Loss:               551.66\n",
      "\tRemaining Weights:       99.72 %\n"
     ]
    },
    {
     "name": "stderr",
     "output_type": "stream",
     "text": [
      "Epoch 95 [Training]: 100%|██████████| 84/84 [00:06<00:00, 13.37it/s, loss=-23915.73, λc2D1=28.92, λd1=11.91, λd2=19.15, λd3=17.87]\n",
      "Epoch 95 [Validation]: 100%|██████████| 21/21 [00:01<00:00, 14.92it/s, loss=-24215.63]\n"
     ]
    },
    {
     "name": "stdout",
     "output_type": "stream",
     "text": [
      "\tTotal Loss (NLL + MDMM): -24025.11\n",
      "\tMDMM Loss:               557.97\n",
      "\tRemaining Weights:       99.89 %\n"
     ]
    },
    {
     "name": "stderr",
     "output_type": "stream",
     "text": [
      "Epoch 96 [Training]: 100%|██████████| 84/84 [00:06<00:00, 13.36it/s, loss=-23959.81, λc2D1=29.23, λd1=12.05, λd2=19.35, λd3=18.03]\n",
      "Epoch 96 [Validation]: 100%|██████████| 21/21 [00:01<00:00, 14.35it/s, loss=-24260.70]\n"
     ]
    },
    {
     "name": "stdout",
     "output_type": "stream",
     "text": [
      "\tTotal Loss (NLL + MDMM): -24065.21\n",
      "\tMDMM Loss:               563.69\n",
      "\tRemaining Weights:       99.89 %\n"
     ]
    },
    {
     "name": "stderr",
     "output_type": "stream",
     "text": [
      "Epoch 97 [Training]: 100%|██████████| 84/84 [00:06<00:00, 13.19it/s, loss=-24024.99, λc2D1=29.54, λd1=12.19, λd2=19.56, λd3=18.20]\n",
      "Epoch 97 [Validation]: 100%|██████████| 21/21 [00:01<00:00, 14.31it/s, loss=-24306.27]\n"
     ]
    },
    {
     "name": "stdout",
     "output_type": "stream",
     "text": [
      "\tTotal Loss (NLL + MDMM): -24115.31\n",
      "\tMDMM Loss:               569.51\n",
      "\tRemaining Weights:       99.78 %\n"
     ]
    },
    {
     "name": "stderr",
     "output_type": "stream",
     "text": [
      "Epoch 98 [Training]: 100%|██████████| 84/84 [00:06<00:00, 13.17it/s, loss=-24064.89, λc2D1=29.85, λd1=12.33, λd2=19.77, λd3=18.37]\n",
      "Epoch 98 [Validation]: 100%|██████████| 21/21 [00:01<00:00, 14.56it/s, loss=-24352.03]\n"
     ]
    },
    {
     "name": "stdout",
     "output_type": "stream",
     "text": [
      "\tTotal Loss (NLL + MDMM): -24163.67\n",
      "\tMDMM Loss:               575.23\n",
      "\tRemaining Weights:       99.78 %\n"
     ]
    },
    {
     "name": "stderr",
     "output_type": "stream",
     "text": [
      "Epoch 99 [Training]: 100%|██████████| 84/84 [00:06<00:00, 13.25it/s, loss=-24116.16, λc2D1=30.16, λd1=12.47, λd2=19.98, λd3=18.54]\n",
      "Epoch 99 [Validation]: 100%|██████████| 21/21 [00:01<00:00, 14.19it/s, loss=-24407.31]\n"
     ]
    },
    {
     "name": "stdout",
     "output_type": "stream",
     "text": [
      "\tTotal Loss (NLL + MDMM): -24217.68\n",
      "\tMDMM Loss:               580.96\n",
      "\tRemaining Weights:       99.56 %\n"
     ]
    },
    {
     "name": "stderr",
     "output_type": "stream",
     "text": [
      "Epoch 100 [Training]: 100%|██████████| 84/84 [00:06<00:00, 12.99it/s, loss=-24162.62, λc2D1=30.47, λd1=12.61, λd2=20.18, λd3=18.70]\n",
      "Epoch 100 [Validation]: 100%|██████████| 21/21 [00:01<00:00, 14.23it/s, loss=-24447.73]\n"
     ]
    },
    {
     "name": "stdout",
     "output_type": "stream",
     "text": [
      "\tTotal Loss (NLL + MDMM): -24256.73\n",
      "\tMDMM Loss:               586.73\n",
      "\tRemaining Weights:       99.67 %\n"
     ]
    },
    {
     "name": "stderr",
     "output_type": "stream",
     "text": [
      "Epoch 101 [Training]: 100%|██████████| 84/84 [00:06<00:00, 13.00it/s, loss=-24218.35, λc2D1=30.78, λd1=12.76, λd2=20.39, λd3=18.87]\n",
      "Epoch 101 [Validation]: 100%|██████████| 21/21 [00:01<00:00, 14.81it/s, loss=-24502.32]\n"
     ]
    },
    {
     "name": "stdout",
     "output_type": "stream",
     "text": [
      "\tTotal Loss (NLL + MDMM): -24310.04\n",
      "\tMDMM Loss:               592.47\n",
      "\tRemaining Weights:       99.67 %\n"
     ]
    },
    {
     "name": "stderr",
     "output_type": "stream",
     "text": [
      "Epoch 102 [Training]: 100%|██████████| 84/84 [00:06<00:00, 13.08it/s, loss=-24267.94, λc2D1=31.09, λd1=12.90, λd2=20.60, λd3=19.04]\n",
      "Epoch 102 [Validation]: 100%|██████████| 21/21 [00:01<00:00, 14.67it/s, loss=-24559.78]\n"
     ]
    },
    {
     "name": "stdout",
     "output_type": "stream",
     "text": [
      "\tTotal Loss (NLL + MDMM): -24361.81\n",
      "\tMDMM Loss:               597.67\n",
      "\tRemaining Weights:       99.61 %\n"
     ]
    },
    {
     "name": "stderr",
     "output_type": "stream",
     "text": [
      "Epoch 103 [Training]: 100%|██████████| 84/84 [00:06<00:00, 13.45it/s, loss=-24298.25, λc2D1=31.40, λd1=13.04, λd2=20.81, λd3=19.20]\n",
      "Epoch 103 [Validation]: 100%|██████████| 21/21 [00:01<00:00, 14.81it/s, loss=-24595.50]\n"
     ]
    },
    {
     "name": "stdout",
     "output_type": "stream",
     "text": [
      "\tTotal Loss (NLL + MDMM): -24400.99\n",
      "\tMDMM Loss:               603.46\n",
      "\tRemaining Weights:       99.50 %\n"
     ]
    },
    {
     "name": "stderr",
     "output_type": "stream",
     "text": [
      "Epoch 104 [Training]: 100%|██████████| 84/84 [00:06<00:00, 13.36it/s, loss=-24352.56, λc2D1=31.71, λd1=13.18, λd2=21.01, λd3=19.37]\n",
      "Epoch 104 [Validation]: 100%|██████████| 21/21 [00:01<00:00, 14.59it/s, loss=-24633.21]\n"
     ]
    },
    {
     "name": "stdout",
     "output_type": "stream",
     "text": [
      "\tTotal Loss (NLL + MDMM): -24446.52\n",
      "\tMDMM Loss:               609.88\n",
      "\tRemaining Weights:       99.67 %\n"
     ]
    },
    {
     "name": "stderr",
     "output_type": "stream",
     "text": [
      "Epoch 105 [Training]: 100%|██████████| 84/84 [00:06<00:00, 13.34it/s, loss=-24404.22, λc2D1=32.03, λd1=13.33, λd2=21.22, λd3=19.53]\n",
      "Epoch 105 [Validation]: 100%|██████████| 21/21 [00:01<00:00, 14.78it/s, loss=-24681.21]\n"
     ]
    },
    {
     "name": "stdout",
     "output_type": "stream",
     "text": [
      "\tTotal Loss (NLL + MDMM): -24486.65\n",
      "\tMDMM Loss:               615.72\n",
      "\tRemaining Weights:       99.56 %\n"
     ]
    },
    {
     "name": "stderr",
     "output_type": "stream",
     "text": [
      "Epoch 106 [Training]: 100%|██████████| 84/84 [00:06<00:00, 13.06it/s, loss=-24457.56, λc2D1=32.34, λd1=13.47, λd2=21.43, λd3=19.70]\n",
      "Epoch 106 [Validation]: 100%|██████████| 21/21 [00:01<00:00, 14.82it/s, loss=-24740.53]\n"
     ]
    },
    {
     "name": "stdout",
     "output_type": "stream",
     "text": [
      "\tTotal Loss (NLL + MDMM): -24539.54\n",
      "\tMDMM Loss:               621.54\n",
      "\tRemaining Weights:       99.45 %\n"
     ]
    },
    {
     "name": "stderr",
     "output_type": "stream",
     "text": [
      "Epoch 107 [Training]: 100%|██████████| 84/84 [00:06<00:00, 13.32it/s, loss=-24483.90, λc2D1=32.65, λd1=13.61, λd2=21.64, λd3=19.86]\n",
      "Epoch 107 [Validation]: 100%|██████████| 21/21 [00:01<00:00, 14.83it/s, loss=-24763.94]\n"
     ]
    },
    {
     "name": "stdout",
     "output_type": "stream",
     "text": [
      "\tTotal Loss (NLL + MDMM): -24561.17\n",
      "\tMDMM Loss:               627.38\n",
      "\tRemaining Weights:       99.50 %\n"
     ]
    },
    {
     "name": "stderr",
     "output_type": "stream",
     "text": [
      "Epoch 108 [Training]: 100%|██████████| 84/84 [00:06<00:00, 13.22it/s, loss=-24537.64, λc2D1=32.96, λd1=13.76, λd2=21.85, λd3=20.03]\n",
      "Epoch 108 [Validation]: 100%|██████████| 21/21 [00:01<00:00, 14.59it/s, loss=-24814.10]\n"
     ]
    },
    {
     "name": "stdout",
     "output_type": "stream",
     "text": [
      "\tTotal Loss (NLL + MDMM): -24610.21\n",
      "\tMDMM Loss:               633.20\n",
      "\tRemaining Weights:       99.50 %\n"
     ]
    },
    {
     "name": "stderr",
     "output_type": "stream",
     "text": [
      "Epoch 109 [Training]: 100%|██████████| 84/84 [00:06<00:00, 13.28it/s, loss=-24571.69, λc2D1=33.27, λd1=13.90, λd2=22.05, λd3=20.19]\n",
      "Epoch 109 [Validation]: 100%|██████████| 21/21 [00:01<00:00, 14.63it/s, loss=-24857.66]\n"
     ]
    },
    {
     "name": "stdout",
     "output_type": "stream",
     "text": [
      "\tTotal Loss (NLL + MDMM): -24652.50\n",
      "\tMDMM Loss:               639.02\n",
      "\tRemaining Weights:       99.56 %\n"
     ]
    },
    {
     "name": "stderr",
     "output_type": "stream",
     "text": [
      "Epoch 110 [Training]: 100%|██████████| 84/84 [00:06<00:00, 13.02it/s, loss=-24615.12, λc2D1=33.59, λd1=14.05, λd2=22.26, λd3=20.35]\n",
      "Epoch 110 [Validation]: 100%|██████████| 21/21 [00:01<00:00, 14.43it/s, loss=-24906.38]\n"
     ]
    },
    {
     "name": "stdout",
     "output_type": "stream",
     "text": [
      "\tTotal Loss (NLL + MDMM): -24694.82\n",
      "\tMDMM Loss:               644.84\n",
      "\tRemaining Weights:       99.67 %\n"
     ]
    },
    {
     "name": "stderr",
     "output_type": "stream",
     "text": [
      "Epoch 111 [Training]: 100%|██████████| 84/84 [00:06<00:00, 13.29it/s, loss=-24649.86, λc2D1=33.90, λd1=14.19, λd2=22.47, λd3=20.52]\n",
      "Epoch 111 [Validation]: 100%|██████████| 21/21 [00:01<00:00, 14.69it/s, loss=-24932.38]\n"
     ]
    },
    {
     "name": "stdout",
     "output_type": "stream",
     "text": [
      "\tTotal Loss (NLL + MDMM): -24721.77\n",
      "\tMDMM Loss:               650.66\n",
      "\tRemaining Weights:       99.78 %\n"
     ]
    },
    {
     "name": "stderr",
     "output_type": "stream",
     "text": [
      "Epoch 112 [Training]: 100%|██████████| 84/84 [00:06<00:00, 13.39it/s, loss=-24694.09, λc2D1=34.21, λd1=14.34, λd2=22.68, λd3=20.68]\n",
      "Epoch 112 [Validation]: 100%|██████████| 21/21 [00:01<00:00, 14.41it/s, loss=-24983.64]\n"
     ]
    },
    {
     "name": "stdout",
     "output_type": "stream",
     "text": [
      "\tTotal Loss (NLL + MDMM): -24772.82\n",
      "\tMDMM Loss:               656.47\n",
      "\tRemaining Weights:       99.72 %\n"
     ]
    },
    {
     "name": "stderr",
     "output_type": "stream",
     "text": [
      "Epoch 113 [Training]: 100%|██████████| 84/84 [00:06<00:00, 12.96it/s, loss=-24720.47, λc2D1=34.52, λd1=14.49, λd2=22.89, λd3=20.84]\n",
      "Epoch 113 [Validation]: 100%|██████████| 21/21 [00:01<00:00, 14.30it/s, loss=-25022.73]\n"
     ]
    },
    {
     "name": "stdout",
     "output_type": "stream",
     "text": [
      "\tTotal Loss (NLL + MDMM): -24814.59\n",
      "\tMDMM Loss:               662.31\n",
      "\tRemaining Weights:       99.61 %\n"
     ]
    },
    {
     "name": "stderr",
     "output_type": "stream",
     "text": [
      "Epoch 114 [Training]: 100%|██████████| 84/84 [00:06<00:00, 13.27it/s, loss=-24770.18, λc2D1=34.84, λd1=14.63, λd2=23.10, λd3=21.00]\n",
      "Epoch 114 [Validation]: 100%|██████████| 21/21 [00:01<00:00, 14.78it/s, loss=-25063.10]\n"
     ]
    },
    {
     "name": "stdout",
     "output_type": "stream",
     "text": [
      "\tTotal Loss (NLL + MDMM): -24854.33\n",
      "\tMDMM Loss:               668.13\n",
      "\tRemaining Weights:       99.72 %\n"
     ]
    },
    {
     "name": "stderr",
     "output_type": "stream",
     "text": [
      "Epoch 115 [Training]: 100%|██████████| 84/84 [00:06<00:00, 13.21it/s, loss=-24801.10, λc2D1=35.15, λd1=14.78, λd2=23.30, λd3=21.17]\n",
      "Epoch 115 [Validation]: 100%|██████████| 21/21 [00:01<00:00, 14.79it/s, loss=-25103.59]\n"
     ]
    },
    {
     "name": "stdout",
     "output_type": "stream",
     "text": [
      "\tTotal Loss (NLL + MDMM): -24883.37\n",
      "\tMDMM Loss:               673.97\n",
      "\tRemaining Weights:       99.67 %\n"
     ]
    },
    {
     "name": "stderr",
     "output_type": "stream",
     "text": [
      "Epoch 116 [Training]: 100%|██████████| 84/84 [00:06<00:00, 13.32it/s, loss=-24852.61, λc2D1=35.46, λd1=14.93, λd2=23.51, λd3=21.33]\n",
      "Epoch 116 [Validation]: 100%|██████████| 21/21 [00:01<00:00, 14.76it/s, loss=-25147.87]\n"
     ]
    },
    {
     "name": "stdout",
     "output_type": "stream",
     "text": [
      "\tTotal Loss (NLL + MDMM): -24921.69\n",
      "\tMDMM Loss:               679.81\n",
      "\tRemaining Weights:       99.72 %\n"
     ]
    },
    {
     "name": "stderr",
     "output_type": "stream",
     "text": [
      "Epoch 117 [Training]: 100%|██████████| 84/84 [00:06<00:00, 13.18it/s, loss=-24883.37, λc2D1=35.77, λd1=15.08, λd2=23.72, λd3=21.49]\n",
      "Epoch 117 [Validation]: 100%|██████████| 21/21 [00:01<00:00, 14.27it/s, loss=-25183.12]\n"
     ]
    },
    {
     "name": "stdout",
     "output_type": "stream",
     "text": [
      "\tTotal Loss (NLL + MDMM): -24955.14\n",
      "\tMDMM Loss:               685.60\n",
      "\tRemaining Weights:       99.72 %\n"
     ]
    },
    {
     "name": "stderr",
     "output_type": "stream",
     "text": [
      "Epoch 118 [Training]: 100%|██████████| 84/84 [00:06<00:00, 13.31it/s, loss=-24921.09, λc2D1=36.09, λd1=15.23, λd2=23.93, λd3=21.65]\n",
      "Epoch 118 [Validation]: 100%|██████████| 21/21 [00:01<00:00, 14.67it/s, loss=-25207.45]\n"
     ]
    },
    {
     "name": "stdout",
     "output_type": "stream",
     "text": [
      "\tTotal Loss (NLL + MDMM): -24984.68\n",
      "\tMDMM Loss:               691.41\n",
      "\tRemaining Weights:       99.61 %\n"
     ]
    },
    {
     "name": "stderr",
     "output_type": "stream",
     "text": [
      "Epoch 119 [Training]: 100%|██████████| 84/84 [00:06<00:00, 13.05it/s, loss=-24948.32, λc2D1=36.40, λd1=15.37, λd2=24.14, λd3=21.81]\n",
      "Epoch 119 [Validation]: 100%|██████████| 21/21 [00:01<00:00, 14.78it/s, loss=-25254.81]\n"
     ]
    },
    {
     "name": "stdout",
     "output_type": "stream",
     "text": [
      "\tTotal Loss (NLL + MDMM): -25008.60\n",
      "\tMDMM Loss:               697.22\n",
      "\tRemaining Weights:       99.45 %\n"
     ]
    },
    {
     "name": "stderr",
     "output_type": "stream",
     "text": [
      "Epoch 120 [Training]: 100%|██████████| 84/84 [00:06<00:00, 13.28it/s, loss=-24987.27, λc2D1=36.71, λd1=15.52, λd2=24.35, λd3=21.97]\n",
      "Epoch 120 [Validation]: 100%|██████████| 21/21 [00:01<00:00, 14.60it/s, loss=-25297.79]\n"
     ]
    },
    {
     "name": "stdout",
     "output_type": "stream",
     "text": [
      "\tTotal Loss (NLL + MDMM): -25062.14\n",
      "\tMDMM Loss:               703.02\n",
      "\tRemaining Weights:       99.67 %\n"
     ]
    },
    {
     "name": "stderr",
     "output_type": "stream",
     "text": [
      "Epoch 121 [Training]: 100%|██████████| 84/84 [00:06<00:00, 13.37it/s, loss=-25021.05, λc2D1=37.03, λd1=15.67, λd2=24.56, λd3=22.13]\n",
      "Epoch 121 [Validation]: 100%|██████████| 21/21 [00:01<00:00, 14.81it/s, loss=-25337.04]\n"
     ]
    },
    {
     "name": "stdout",
     "output_type": "stream",
     "text": [
      "\tTotal Loss (NLL + MDMM): -25097.52\n",
      "\tMDMM Loss:               708.85\n",
      "\tRemaining Weights:       99.72 %\n"
     ]
    },
    {
     "name": "stderr",
     "output_type": "stream",
     "text": [
      "Epoch 122 [Training]: 100%|██████████| 84/84 [00:06<00:00, 13.22it/s, loss=-25034.49, λc2D1=37.34, λd1=15.82, λd2=24.77, λd3=22.29]\n",
      "Epoch 122 [Validation]: 100%|██████████| 21/21 [00:01<00:00, 14.82it/s, loss=-25351.36]\n"
     ]
    },
    {
     "name": "stdout",
     "output_type": "stream",
     "text": [
      "\tTotal Loss (NLL + MDMM): -25104.67\n",
      "\tMDMM Loss:               714.68\n",
      "\tRemaining Weights:       99.56 %\n"
     ]
    },
    {
     "name": "stderr",
     "output_type": "stream",
     "text": [
      "Epoch 123 [Training]: 100%|██████████| 84/84 [00:06<00:00, 13.32it/s, loss=-25078.01, λc2D1=37.65, λd1=15.97, λd2=24.98, λd3=22.45]\n",
      "Epoch 123 [Validation]: 100%|██████████| 21/21 [00:01<00:00, 14.77it/s, loss=-25395.02]\n"
     ]
    },
    {
     "name": "stdout",
     "output_type": "stream",
     "text": [
      "\tTotal Loss (NLL + MDMM): -25146.18\n",
      "\tMDMM Loss:               720.47\n",
      "\tRemaining Weights:       99.28 %\n"
     ]
    },
    {
     "name": "stderr",
     "output_type": "stream",
     "text": [
      "Epoch 124 [Training]: 100%|██████████| 84/84 [00:06<00:00, 13.39it/s, loss=-25111.53, λc2D1=37.97, λd1=16.12, λd2=25.18, λd3=22.60]\n",
      "Epoch 124 [Validation]: 100%|██████████| 21/21 [00:01<00:00, 14.85it/s, loss=-25435.38]\n"
     ]
    },
    {
     "name": "stdout",
     "output_type": "stream",
     "text": [
      "\tTotal Loss (NLL + MDMM): -25182.96\n",
      "\tMDMM Loss:               726.26\n",
      "\tRemaining Weights:       99.45 %\n"
     ]
    },
    {
     "name": "stderr",
     "output_type": "stream",
     "text": [
      "Epoch 125 [Training]: 100%|██████████| 84/84 [00:06<00:00, 13.14it/s, loss=-25149.04, λc2D1=38.28, λd1=16.27, λd2=25.39, λd3=22.76]\n",
      "Epoch 125 [Validation]: 100%|██████████| 21/21 [00:01<00:00, 14.51it/s, loss=-25460.78]\n"
     ]
    },
    {
     "name": "stdout",
     "output_type": "stream",
     "text": [
      "\tTotal Loss (NLL + MDMM): -25203.05\n",
      "\tMDMM Loss:               732.09\n",
      "\tRemaining Weights:       99.61 %\n"
     ]
    },
    {
     "name": "stderr",
     "output_type": "stream",
     "text": [
      "Epoch 126 [Training]: 100%|██████████| 84/84 [00:06<00:00, 13.03it/s, loss=-25159.81, λc2D1=38.59, λd1=16.42, λd2=25.60, λd3=22.92]\n",
      "Epoch 126 [Validation]: 100%|██████████| 21/21 [00:01<00:00, 14.31it/s, loss=-25499.71]\n"
     ]
    },
    {
     "name": "stdout",
     "output_type": "stream",
     "text": [
      "\tTotal Loss (NLL + MDMM): -25243.39\n",
      "\tMDMM Loss:               737.89\n",
      "\tRemaining Weights:       99.67 %\n"
     ]
    },
    {
     "name": "stderr",
     "output_type": "stream",
     "text": [
      "Epoch 127 [Training]: 100%|██████████| 84/84 [00:06<00:00, 13.08it/s, loss=-25216.50, λc2D1=38.91, λd1=16.58, λd2=25.81, λd3=23.08]\n",
      "Epoch 127 [Validation]: 100%|██████████| 21/21 [00:01<00:00, 14.57it/s, loss=-25535.74]\n"
     ]
    },
    {
     "name": "stdout",
     "output_type": "stream",
     "text": [
      "\tTotal Loss (NLL + MDMM): -25277.41\n",
      "\tMDMM Loss:               743.73\n",
      "\tRemaining Weights:       99.78 %\n"
     ]
    },
    {
     "name": "stderr",
     "output_type": "stream",
     "text": [
      "Epoch 128 [Training]: 100%|██████████| 84/84 [00:06<00:00, 13.30it/s, loss=-25242.39, λc2D1=39.22, λd1=16.73, λd2=26.02, λd3=23.24]\n",
      "Epoch 128 [Validation]: 100%|██████████| 21/21 [00:01<00:00, 14.51it/s, loss=-25554.83]\n"
     ]
    },
    {
     "name": "stdout",
     "output_type": "stream",
     "text": [
      "\tTotal Loss (NLL + MDMM): -25296.76\n",
      "\tMDMM Loss:               749.61\n",
      "\tRemaining Weights:       99.72 %\n"
     ]
    },
    {
     "name": "stderr",
     "output_type": "stream",
     "text": [
      "Epoch 129 [Training]: 100%|██████████| 84/84 [00:06<00:00, 13.21it/s, loss=-25265.34, λc2D1=39.53, λd1=16.88, λd2=26.23, λd3=23.39]\n",
      "Epoch 129 [Validation]: 100%|██████████| 21/21 [00:01<00:00, 14.37it/s, loss=-25575.65]\n"
     ]
    },
    {
     "name": "stdout",
     "output_type": "stream",
     "text": [
      "\tTotal Loss (NLL + MDMM): -25315.66\n",
      "\tMDMM Loss:               755.38\n",
      "\tRemaining Weights:       99.61 %\n"
     ]
    },
    {
     "name": "stderr",
     "output_type": "stream",
     "text": [
      "Epoch 130 [Training]: 100%|██████████| 84/84 [00:06<00:00, 13.21it/s, loss=-25296.23, λc2D1=39.85, λd1=17.03, λd2=26.44, λd3=23.55]\n",
      "Epoch 130 [Validation]: 100%|██████████| 21/21 [00:01<00:00, 14.44it/s, loss=-25613.78]\n"
     ]
    },
    {
     "name": "stdout",
     "output_type": "stream",
     "text": [
      "\tTotal Loss (NLL + MDMM): -25349.27\n",
      "\tMDMM Loss:               761.22\n",
      "\tRemaining Weights:       99.78 %\n"
     ]
    },
    {
     "name": "stderr",
     "output_type": "stream",
     "text": [
      "Epoch 131 [Training]: 100%|██████████| 84/84 [00:06<00:00, 13.24it/s, loss=-25321.79, λc2D1=40.16, λd1=17.19, λd2=26.65, λd3=23.71]\n",
      "Epoch 131 [Validation]: 100%|██████████| 21/21 [00:01<00:00, 14.92it/s, loss=-25647.11]\n"
     ]
    },
    {
     "name": "stdout",
     "output_type": "stream",
     "text": [
      "\tTotal Loss (NLL + MDMM): -25385.19\n",
      "\tMDMM Loss:               766.98\n",
      "\tRemaining Weights:       99.39 %\n"
     ]
    },
    {
     "name": "stderr",
     "output_type": "stream",
     "text": [
      "Epoch 132 [Training]: 100%|██████████| 84/84 [00:06<00:00, 13.28it/s, loss=-25349.70, λc2D1=40.47, λd1=17.34, λd2=26.86, λd3=23.86]\n",
      "Epoch 132 [Validation]: 100%|██████████| 21/21 [00:01<00:00, 14.69it/s, loss=-25663.26]\n"
     ]
    },
    {
     "name": "stdout",
     "output_type": "stream",
     "text": [
      "\tTotal Loss (NLL + MDMM): -25397.80\n",
      "\tMDMM Loss:               772.83\n",
      "\tRemaining Weights:       99.34 %\n"
     ]
    },
    {
     "name": "stderr",
     "output_type": "stream",
     "text": [
      "Epoch 133 [Training]: 100%|██████████| 84/84 [00:06<00:00, 13.21it/s, loss=-25375.75, λc2D1=40.78, λd1=17.49, λd2=27.07, λd3=24.02]\n",
      "Epoch 133 [Validation]: 100%|██████████| 21/21 [00:01<00:00, 14.30it/s, loss=-25701.08]\n"
     ]
    },
    {
     "name": "stdout",
     "output_type": "stream",
     "text": [
      "\tTotal Loss (NLL + MDMM): -25438.41\n",
      "\tMDMM Loss:               778.59\n",
      "\tRemaining Weights:       99.45 %\n"
     ]
    },
    {
     "name": "stderr",
     "output_type": "stream",
     "text": [
      "Epoch 134 [Training]: 100%|██████████| 84/84 [00:06<00:00, 13.07it/s, loss=-25394.34, λc2D1=41.10, λd1=17.65, λd2=27.28, λd3=24.17]\n",
      "Epoch 134 [Validation]: 100%|██████████| 21/21 [00:01<00:00, 14.82it/s, loss=-25726.57]\n"
     ]
    },
    {
     "name": "stdout",
     "output_type": "stream",
     "text": [
      "\tTotal Loss (NLL + MDMM): -25456.79\n",
      "\tMDMM Loss:               784.49\n",
      "\tRemaining Weights:       99.39 %\n"
     ]
    },
    {
     "name": "stderr",
     "output_type": "stream",
     "text": [
      "Epoch 135 [Training]: 100%|██████████| 84/84 [00:06<00:00, 13.30it/s, loss=-25420.11, λc2D1=41.41, λd1=17.80, λd2=27.49, λd3=24.33]\n",
      "Epoch 135 [Validation]: 100%|██████████| 21/21 [00:01<00:00, 14.72it/s, loss=-25747.74]\n"
     ]
    },
    {
     "name": "stdout",
     "output_type": "stream",
     "text": [
      "\tTotal Loss (NLL + MDMM): -25479.88\n",
      "\tMDMM Loss:               790.28\n",
      "\tRemaining Weights:       99.50 %\n"
     ]
    },
    {
     "name": "stderr",
     "output_type": "stream",
     "text": [
      "Epoch 136 [Training]: 100%|██████████| 84/84 [00:06<00:00, 13.23it/s, loss=-25452.32, λc2D1=41.72, λd1=17.96, λd2=27.70, λd3=24.49]\n",
      "Epoch 136 [Validation]: 100%|██████████| 21/21 [00:01<00:00, 14.69it/s, loss=-25792.63]\n"
     ]
    },
    {
     "name": "stdout",
     "output_type": "stream",
     "text": [
      "\tTotal Loss (NLL + MDMM): -25515.71\n",
      "\tMDMM Loss:               796.12\n",
      "\tRemaining Weights:       99.34 %\n"
     ]
    },
    {
     "name": "stderr",
     "output_type": "stream",
     "text": [
      "Epoch 137 [Training]: 100%|██████████| 84/84 [00:06<00:00, 13.24it/s, loss=-25478.29, λc2D1=42.04, λd1=18.11, λd2=27.91, λd3=24.64]\n",
      "Epoch 137 [Validation]: 100%|██████████| 21/21 [00:01<00:00, 14.60it/s, loss=-25806.98]\n"
     ]
    },
    {
     "name": "stdout",
     "output_type": "stream",
     "text": [
      "\tTotal Loss (NLL + MDMM): -25535.03\n",
      "\tMDMM Loss:               801.95\n",
      "\tRemaining Weights:       99.34 %\n"
     ]
    },
    {
     "name": "stderr",
     "output_type": "stream",
     "text": [
      "Epoch 138 [Training]: 100%|██████████| 84/84 [00:06<00:00, 13.25it/s, loss=-25493.39, λc2D1=42.35, λd1=18.27, λd2=28.12, λd3=24.80]\n",
      "Epoch 138 [Validation]: 100%|██████████| 21/21 [00:01<00:00, 14.68it/s, loss=-25823.99]\n"
     ]
    },
    {
     "name": "stdout",
     "output_type": "stream",
     "text": [
      "\tTotal Loss (NLL + MDMM): -25551.16\n",
      "\tMDMM Loss:               807.86\n",
      "\tRemaining Weights:       99.50 %\n"
     ]
    },
    {
     "name": "stderr",
     "output_type": "stream",
     "text": [
      "Epoch 139 [Training]: 100%|██████████| 84/84 [00:06<00:00, 13.30it/s, loss=-25519.81, λc2D1=42.66, λd1=18.42, λd2=28.34, λd3=24.95]\n",
      "Epoch 139 [Validation]: 100%|██████████| 21/21 [00:01<00:00, 14.79it/s, loss=-25832.06]\n"
     ]
    },
    {
     "name": "stdout",
     "output_type": "stream",
     "text": [
      "\tTotal Loss (NLL + MDMM): -25556.55\n",
      "\tMDMM Loss:               813.66\n",
      "\tRemaining Weights:       99.72 %\n"
     ]
    },
    {
     "name": "stderr",
     "output_type": "stream",
     "text": [
      "Epoch 140 [Training]: 100%|██████████| 84/84 [00:06<00:00, 13.23it/s, loss=-25542.31, λc2D1=42.98, λd1=18.58, λd2=28.55, λd3=25.11]\n",
      "Epoch 140 [Validation]: 100%|██████████| 21/21 [00:01<00:00, 14.68it/s, loss=-25855.70]\n"
     ]
    },
    {
     "name": "stdout",
     "output_type": "stream",
     "text": [
      "\tTotal Loss (NLL + MDMM): -25577.83\n",
      "\tMDMM Loss:               819.52\n",
      "\tRemaining Weights:       99.72 %\n"
     ]
    },
    {
     "name": "stderr",
     "output_type": "stream",
     "text": [
      "Epoch 141 [Training]: 100%|██████████| 84/84 [00:06<00:00, 13.36it/s, loss=-25574.01, λc2D1=43.29, λd1=18.74, λd2=28.76, λd3=25.26]\n",
      "Epoch 141 [Validation]: 100%|██████████| 21/21 [00:01<00:00, 14.95it/s, loss=-25908.50]\n"
     ]
    },
    {
     "name": "stdout",
     "output_type": "stream",
     "text": [
      "\tTotal Loss (NLL + MDMM): -25638.98\n",
      "\tMDMM Loss:               825.38\n",
      "\tRemaining Weights:       99.78 %\n"
     ]
    },
    {
     "name": "stderr",
     "output_type": "stream",
     "text": [
      "Epoch 142 [Training]: 100%|██████████| 84/84 [00:06<00:00, 13.01it/s, loss=-25594.11, λc2D1=43.60, λd1=18.89, λd2=28.97, λd3=25.41]\n",
      "Epoch 142 [Validation]: 100%|██████████| 21/21 [00:01<00:00, 14.31it/s, loss=-25919.23]\n"
     ]
    },
    {
     "name": "stdout",
     "output_type": "stream",
     "text": [
      "\tTotal Loss (NLL + MDMM): -25645.05\n",
      "\tMDMM Loss:               831.18\n",
      "\tRemaining Weights:       99.72 %\n"
     ]
    },
    {
     "name": "stderr",
     "output_type": "stream",
     "text": [
      "Epoch 143 [Training]: 100%|██████████| 84/84 [00:06<00:00, 13.09it/s, loss=-25615.60, λc2D1=43.92, λd1=19.05, λd2=29.18, λd3=25.57]\n",
      "Epoch 143 [Validation]: 100%|██████████| 21/21 [00:01<00:00, 15.01it/s, loss=-25951.56]\n"
     ]
    },
    {
     "name": "stdout",
     "output_type": "stream",
     "text": [
      "\tTotal Loss (NLL + MDMM): -25667.26\n",
      "\tMDMM Loss:               837.04\n",
      "\tRemaining Weights:       99.67 %\n"
     ]
    },
    {
     "name": "stderr",
     "output_type": "stream",
     "text": [
      "Epoch 144 [Training]: 100%|██████████| 84/84 [00:06<00:00, 13.20it/s, loss=-25643.58, λc2D1=44.23, λd1=19.21, λd2=29.39, λd3=25.72]\n",
      "Epoch 144 [Validation]: 100%|██████████| 21/21 [00:01<00:00, 13.94it/s, loss=-25970.39]\n"
     ]
    },
    {
     "name": "stdout",
     "output_type": "stream",
     "text": [
      "\tTotal Loss (NLL + MDMM): -25694.69\n",
      "\tMDMM Loss:               842.81\n",
      "\tRemaining Weights:       99.72 %\n"
     ]
    },
    {
     "name": "stderr",
     "output_type": "stream",
     "text": [
      "Epoch 145 [Training]: 100%|██████████| 84/84 [00:06<00:00, 13.10it/s, loss=-25661.22, λc2D1=44.54, λd1=19.37, λd2=29.60, λd3=25.88]\n",
      "Epoch 145 [Validation]: 100%|██████████| 21/21 [00:01<00:00, 14.76it/s, loss=-25979.09]\n"
     ]
    },
    {
     "name": "stdout",
     "output_type": "stream",
     "text": [
      "\tTotal Loss (NLL + MDMM): -25697.69\n",
      "\tMDMM Loss:               848.74\n",
      "\tRemaining Weights:       99.67 %\n"
     ]
    },
    {
     "name": "stderr",
     "output_type": "stream",
     "text": [
      "Epoch 146 [Training]: 100%|██████████| 84/84 [00:06<00:00, 12.99it/s, loss=-25684.22, λc2D1=44.86, λd1=19.52, λd2=29.81, λd3=26.03]\n",
      "Epoch 146 [Validation]: 100%|██████████| 21/21 [00:01<00:00, 14.88it/s, loss=-26016.18]\n"
     ]
    },
    {
     "name": "stdout",
     "output_type": "stream",
     "text": [
      "\tTotal Loss (NLL + MDMM): -25731.63\n",
      "\tMDMM Loss:               854.50\n",
      "\tRemaining Weights:       99.61 %\n"
     ]
    },
    {
     "name": "stderr",
     "output_type": "stream",
     "text": [
      "Epoch 147 [Training]: 100%|██████████| 84/84 [00:06<00:00, 13.17it/s, loss=-25706.89, λc2D1=45.17, λd1=19.68, λd2=30.02, λd3=26.18]\n",
      "Epoch 147 [Validation]: 100%|██████████| 21/21 [00:01<00:00, 14.67it/s, loss=-26033.47]\n"
     ]
    },
    {
     "name": "stdout",
     "output_type": "stream",
     "text": [
      "\tTotal Loss (NLL + MDMM): -25756.53\n",
      "\tMDMM Loss:               860.44\n",
      "\tRemaining Weights:       99.50 %\n"
     ]
    },
    {
     "name": "stderr",
     "output_type": "stream",
     "text": [
      "Epoch 148 [Training]: 100%|██████████| 84/84 [00:06<00:00, 13.25it/s, loss=-25709.56, λc2D1=45.48, λd1=19.84, λd2=30.24, λd3=26.33]\n",
      "Epoch 148 [Validation]: 100%|██████████| 21/21 [00:01<00:00, 14.64it/s, loss=-26043.77]\n"
     ]
    },
    {
     "name": "stdout",
     "output_type": "stream",
     "text": [
      "\tTotal Loss (NLL + MDMM): -25760.16\n",
      "\tMDMM Loss:               866.24\n",
      "\tRemaining Weights:       99.45 %\n"
     ]
    },
    {
     "name": "stderr",
     "output_type": "stream",
     "text": [
      "Epoch 149 [Training]: 100%|██████████| 84/84 [00:06<00:00, 13.17it/s, loss=-25741.52, λc2D1=45.80, λd1=20.00, λd2=30.45, λd3=26.49]\n",
      "Epoch 149 [Validation]: 100%|██████████| 21/21 [00:01<00:00, 14.33it/s, loss=-26069.44]\n"
     ]
    },
    {
     "name": "stdout",
     "output_type": "stream",
     "text": [
      "\tTotal Loss (NLL + MDMM): -25784.35\n",
      "\tMDMM Loss:               872.13\n",
      "\tRemaining Weights:       99.34 %\n"
     ]
    },
    {
     "name": "stderr",
     "output_type": "stream",
     "text": [
      "Epoch 150 [Training]: 100%|██████████| 84/84 [00:06<00:00, 13.04it/s, loss=-25763.07, λc2D1=46.11, λd1=20.16, λd2=30.66, λd3=26.64]\n",
      "Epoch 150 [Validation]: 100%|██████████| 21/21 [00:01<00:00, 14.49it/s, loss=-26091.76]\n"
     ]
    },
    {
     "name": "stdout",
     "output_type": "stream",
     "text": [
      "\tTotal Loss (NLL + MDMM): -25813.02\n",
      "\tMDMM Loss:               877.96\n",
      "\tRemaining Weights:       99.50 %\n"
     ]
    },
    {
     "name": "stderr",
     "output_type": "stream",
     "text": [
      "Epoch 151 [Training]: 100%|██████████| 84/84 [00:06<00:00, 13.21it/s, loss=-25784.71, λc2D1=46.42, λd1=20.32, λd2=30.87, λd3=26.79]\n",
      "Epoch 151 [Validation]: 100%|██████████| 21/21 [00:01<00:00, 14.58it/s, loss=-26119.13]\n"
     ]
    },
    {
     "name": "stdout",
     "output_type": "stream",
     "text": [
      "\tTotal Loss (NLL + MDMM): -25838.79\n",
      "\tMDMM Loss:               883.80\n",
      "\tRemaining Weights:       99.56 %\n"
     ]
    },
    {
     "name": "stderr",
     "output_type": "stream",
     "text": [
      "Epoch 152 [Training]: 100%|██████████| 84/84 [00:06<00:00, 13.20it/s, loss=-25795.67, λc2D1=46.73, λd1=20.48, λd2=31.08, λd3=26.94]\n",
      "Epoch 152 [Validation]: 100%|██████████| 21/21 [00:01<00:00, 14.41it/s, loss=-26120.79]\n"
     ]
    },
    {
     "name": "stdout",
     "output_type": "stream",
     "text": [
      "\tTotal Loss (NLL + MDMM): -25840.91\n",
      "\tMDMM Loss:               889.69\n",
      "\tRemaining Weights:       99.61 %\n"
     ]
    },
    {
     "name": "stderr",
     "output_type": "stream",
     "text": [
      "Epoch 153 [Training]: 100%|██████████| 84/84 [00:06<00:00, 13.09it/s, loss=-25824.05, λc2D1=47.05, λd1=20.64, λd2=31.29, λd3=27.10]\n",
      "Epoch 153 [Validation]: 100%|██████████| 21/21 [00:01<00:00, 14.80it/s, loss=-26143.16]\n"
     ]
    },
    {
     "name": "stdout",
     "output_type": "stream",
     "text": [
      "\tTotal Loss (NLL + MDMM): -25859.90\n",
      "\tMDMM Loss:               895.65\n",
      "\tRemaining Weights:       99.67 %\n"
     ]
    },
    {
     "name": "stderr",
     "output_type": "stream",
     "text": [
      "Epoch 154 [Training]: 100%|██████████| 84/84 [00:06<00:00, 13.26it/s, loss=-25845.28, λc2D1=47.36, λd1=20.80, λd2=31.51, λd3=27.25]\n",
      "Epoch 154 [Validation]: 100%|██████████| 21/21 [00:01<00:00, 14.53it/s, loss=-26180.05]\n"
     ]
    },
    {
     "name": "stdout",
     "output_type": "stream",
     "text": [
      "\tTotal Loss (NLL + MDMM): -25891.10\n",
      "\tMDMM Loss:               901.49\n",
      "\tRemaining Weights:       99.61 %\n"
     ]
    },
    {
     "name": "stderr",
     "output_type": "stream",
     "text": [
      "Epoch 155 [Training]: 100%|██████████| 84/84 [00:06<00:00, 13.10it/s, loss=-25859.38, λc2D1=47.67, λd1=20.96, λd2=31.72, λd3=27.40]\n",
      "Epoch 155 [Validation]: 100%|██████████| 21/21 [00:01<00:00, 14.33it/s, loss=-26190.26]\n"
     ]
    },
    {
     "name": "stdout",
     "output_type": "stream",
     "text": [
      "\tTotal Loss (NLL + MDMM): -25900.99\n",
      "\tMDMM Loss:               907.32\n",
      "\tRemaining Weights:       99.67 %\n"
     ]
    },
    {
     "name": "stderr",
     "output_type": "stream",
     "text": [
      "Epoch 156 [Training]: 100%|██████████| 84/84 [00:06<00:00, 13.20it/s, loss=-25876.76, λc2D1=47.98, λd1=21.12, λd2=31.93, λd3=27.55]\n",
      "Epoch 156 [Validation]: 100%|██████████| 21/21 [00:01<00:00, 14.22it/s, loss=-26214.04]\n"
     ]
    },
    {
     "name": "stdout",
     "output_type": "stream",
     "text": [
      "\tTotal Loss (NLL + MDMM): -25928.57\n",
      "\tMDMM Loss:               913.08\n",
      "\tRemaining Weights:       99.67 %\n"
     ]
    },
    {
     "name": "stderr",
     "output_type": "stream",
     "text": [
      "Epoch 157 [Training]: 100%|██████████| 84/84 [00:06<00:00, 12.89it/s, loss=-25896.18, λc2D1=48.30, λd1=21.28, λd2=32.14, λd3=27.70]\n",
      "Epoch 157 [Validation]: 100%|██████████| 21/21 [00:01<00:00, 14.88it/s, loss=-26239.29]\n"
     ]
    },
    {
     "name": "stdout",
     "output_type": "stream",
     "text": [
      "\tTotal Loss (NLL + MDMM): -25951.40\n",
      "\tMDMM Loss:               918.94\n",
      "\tRemaining Weights:       99.61 %\n"
     ]
    },
    {
     "name": "stderr",
     "output_type": "stream",
     "text": [
      "Epoch 158 [Training]: 100%|██████████| 84/84 [00:06<00:00, 13.18it/s, loss=-25931.46, λc2D1=48.61, λd1=21.45, λd2=32.35, λd3=27.85]\n",
      "Epoch 158 [Validation]: 100%|██████████| 21/21 [00:01<00:00, 14.47it/s, loss=-26260.77]\n"
     ]
    },
    {
     "name": "stdout",
     "output_type": "stream",
     "text": [
      "\tTotal Loss (NLL + MDMM): -25973.92\n",
      "\tMDMM Loss:               924.84\n",
      "\tRemaining Weights:       99.61 %\n"
     ]
    },
    {
     "name": "stderr",
     "output_type": "stream",
     "text": [
      "Epoch 159 [Training]: 100%|██████████| 84/84 [00:06<00:00, 13.27it/s, loss=-25930.91, λc2D1=48.92, λd1=21.61, λd2=32.57, λd3=28.01]\n",
      "Epoch 159 [Validation]: 100%|██████████| 21/21 [00:01<00:00, 14.50it/s, loss=-26276.51]\n"
     ]
    },
    {
     "name": "stdout",
     "output_type": "stream",
     "text": [
      "\tTotal Loss (NLL + MDMM): -25987.38\n",
      "\tMDMM Loss:               930.57\n",
      "\tRemaining Weights:       99.61 %\n"
     ]
    },
    {
     "name": "stderr",
     "output_type": "stream",
     "text": [
      "Epoch 160 [Training]: 100%|██████████| 84/84 [00:06<00:00, 13.13it/s, loss=-25950.53, λc2D1=49.23, λd1=21.77, λd2=32.78, λd3=28.16]\n",
      "Epoch 160 [Validation]: 100%|██████████| 21/21 [00:01<00:00, 14.44it/s, loss=-26295.82]\n"
     ]
    },
    {
     "name": "stdout",
     "output_type": "stream",
     "text": [
      "\tTotal Loss (NLL + MDMM): -25996.95\n",
      "\tMDMM Loss:               936.52\n",
      "\tRemaining Weights:       99.61 %\n"
     ]
    },
    {
     "name": "stderr",
     "output_type": "stream",
     "text": [
      "Epoch 161 [Training]: 100%|██████████| 84/84 [00:06<00:00, 13.37it/s, loss=-25974.89, λc2D1=49.54, λd1=21.93, λd2=32.99, λd3=28.31]\n",
      "Epoch 161 [Validation]: 100%|██████████| 21/21 [00:01<00:00, 14.70it/s, loss=-26309.74]\n"
     ]
    },
    {
     "name": "stdout",
     "output_type": "stream",
     "text": [
      "\tTotal Loss (NLL + MDMM): -26019.78\n",
      "\tMDMM Loss:               942.29\n",
      "\tRemaining Weights:       99.61 %\n"
     ]
    },
    {
     "name": "stderr",
     "output_type": "stream",
     "text": [
      "Epoch 162 [Training]: 100%|██████████| 84/84 [00:06<00:00, 12.95it/s, loss=-25981.96, λc2D1=49.86, λd1=22.10, λd2=33.20, λd3=28.46]\n",
      "Epoch 162 [Validation]: 100%|██████████| 21/21 [00:01<00:00, 14.59it/s, loss=-26336.08]\n"
     ]
    },
    {
     "name": "stdout",
     "output_type": "stream",
     "text": [
      "\tTotal Loss (NLL + MDMM): -26044.04\n",
      "\tMDMM Loss:               948.11\n",
      "\tRemaining Weights:       99.72 %\n"
     ]
    },
    {
     "name": "stderr",
     "output_type": "stream",
     "text": [
      "Epoch 163 [Training]: 100%|██████████| 84/84 [00:06<00:00, 13.13it/s, loss=-26006.29, λc2D1=50.17, λd1=22.26, λd2=33.42, λd3=28.61]\n",
      "Epoch 163 [Validation]: 100%|██████████| 21/21 [00:01<00:00, 14.76it/s, loss=-26341.44]\n"
     ]
    },
    {
     "name": "stdout",
     "output_type": "stream",
     "text": [
      "\tTotal Loss (NLL + MDMM): -26044.11\n",
      "\tMDMM Loss:               953.97\n",
      "\tRemaining Weights:       99.67 %\n"
     ]
    },
    {
     "name": "stderr",
     "output_type": "stream",
     "text": [
      "Epoch 164 [Training]: 100%|██████████| 84/84 [00:06<00:00, 13.41it/s, loss=-26026.57, λc2D1=50.48, λd1=22.42, λd2=33.63, λd3=28.76]\n",
      "Epoch 164 [Validation]: 100%|██████████| 21/21 [00:01<00:00, 14.65it/s, loss=-26377.79]\n"
     ]
    },
    {
     "name": "stdout",
     "output_type": "stream",
     "text": [
      "\tTotal Loss (NLL + MDMM): -26077.76\n",
      "\tMDMM Loss:               959.82\n",
      "\tRemaining Weights:       99.61 %\n"
     ]
    },
    {
     "name": "stderr",
     "output_type": "stream",
     "text": [
      "Epoch 165 [Training]: 100%|██████████| 84/84 [00:06<00:00, 13.36it/s, loss=-26044.95, λc2D1=50.79, λd1=22.59, λd2=33.84, λd3=28.91]\n",
      "Epoch 165 [Validation]: 100%|██████████| 21/21 [00:01<00:00, 14.54it/s, loss=-26387.18]\n"
     ]
    },
    {
     "name": "stdout",
     "output_type": "stream",
     "text": [
      "\tTotal Loss (NLL + MDMM): -26094.25\n",
      "\tMDMM Loss:               965.56\n",
      "\tRemaining Weights:       99.45 %\n"
     ]
    },
    {
     "name": "stderr",
     "output_type": "stream",
     "text": [
      "Epoch 166 [Training]: 100%|██████████| 84/84 [00:06<00:00, 13.19it/s, loss=-26048.89, λc2D1=51.10, λd1=22.75, λd2=34.06, λd3=29.06]\n",
      "Epoch 166 [Validation]: 100%|██████████| 21/21 [00:01<00:00, 14.41it/s, loss=-26375.00]\n"
     ]
    },
    {
     "name": "stdout",
     "output_type": "stream",
     "text": [
      "\tTotal Loss (NLL + MDMM): -26083.37\n",
      "\tMDMM Loss:               971.45\n",
      "\tRemaining Weights:       99.50 %\n"
     ]
    },
    {
     "name": "stderr",
     "output_type": "stream",
     "text": [
      "Epoch 167 [Training]: 100%|██████████| 84/84 [00:06<00:00, 13.15it/s, loss=-26070.24, λc2D1=51.42, λd1=22.92, λd2=34.27, λd3=29.21]\n",
      "Epoch 167 [Validation]: 100%|██████████| 21/21 [00:01<00:00, 14.53it/s, loss=-26418.30]\n"
     ]
    },
    {
     "name": "stdout",
     "output_type": "stream",
     "text": [
      "\tTotal Loss (NLL + MDMM): -26122.23\n",
      "\tMDMM Loss:               977.34\n",
      "\tRemaining Weights:       99.39 %\n"
     ]
    },
    {
     "name": "stderr",
     "output_type": "stream",
     "text": [
      "Epoch 168 [Training]: 100%|██████████| 84/84 [00:06<00:00, 13.17it/s, loss=-26090.60, λc2D1=51.73, λd1=23.08, λd2=34.48, λd3=29.36]\n",
      "Epoch 168 [Validation]: 100%|██████████| 21/21 [00:01<00:00, 14.92it/s, loss=-26418.89]\n"
     ]
    },
    {
     "name": "stdout",
     "output_type": "stream",
     "text": [
      "\tTotal Loss (NLL + MDMM): -26118.74\n",
      "\tMDMM Loss:               983.11\n",
      "\tRemaining Weights:       99.45 %\n"
     ]
    },
    {
     "name": "stderr",
     "output_type": "stream",
     "text": [
      "Epoch 169 [Training]: 100%|██████████| 84/84 [00:06<00:00, 13.39it/s, loss=-26101.07, λc2D1=52.04, λd1=23.24, λd2=34.70, λd3=29.51]\n",
      "Epoch 169 [Validation]: 100%|██████████| 21/21 [00:01<00:00, 14.76it/s, loss=-26449.87]\n"
     ]
    },
    {
     "name": "stdout",
     "output_type": "stream",
     "text": [
      "\tTotal Loss (NLL + MDMM): -26157.41\n",
      "\tMDMM Loss:               988.86\n",
      "\tRemaining Weights:       99.39 %\n"
     ]
    },
    {
     "name": "stderr",
     "output_type": "stream",
     "text": [
      "Epoch 170 [Training]: 100%|██████████| 84/84 [00:06<00:00, 13.34it/s, loss=-26116.86, λc2D1=52.35, λd1=23.41, λd2=34.91, λd3=29.66]\n",
      "Epoch 170 [Validation]: 100%|██████████| 21/21 [00:01<00:00, 14.64it/s, loss=-26461.26]\n"
     ]
    },
    {
     "name": "stdout",
     "output_type": "stream",
     "text": [
      "\tTotal Loss (NLL + MDMM): -26163.82\n",
      "\tMDMM Loss:               994.69\n",
      "\tRemaining Weights:       99.50 %\n"
     ]
    },
    {
     "name": "stderr",
     "output_type": "stream",
     "text": [
      "Epoch 171 [Training]: 100%|██████████| 84/84 [00:06<00:00, 13.11it/s, loss=-26128.25, λc2D1=52.66, λd1=23.57, λd2=35.12, λd3=29.81]\n",
      "Epoch 171 [Validation]: 100%|██████████| 21/21 [00:01<00:00, 14.28it/s, loss=-26480.55]\n"
     ]
    },
    {
     "name": "stdout",
     "output_type": "stream",
     "text": [
      "\tTotal Loss (NLL + MDMM): -26173.43\n",
      "\tMDMM Loss:               1000.51\n",
      "\tRemaining Weights:       99.56 %\n"
     ]
    },
    {
     "name": "stderr",
     "output_type": "stream",
     "text": [
      "Epoch 172 [Training]: 100%|██████████| 84/84 [00:06<00:00, 12.93it/s, loss=-26152.66, λc2D1=52.97, λd1=23.74, λd2=35.34, λd3=29.95]\n",
      "Epoch 172 [Validation]: 100%|██████████| 21/21 [00:01<00:00, 14.70it/s, loss=-26510.89]\n"
     ]
    },
    {
     "name": "stdout",
     "output_type": "stream",
     "text": [
      "\tTotal Loss (NLL + MDMM): -26206.37\n",
      "\tMDMM Loss:               1006.33\n",
      "\tRemaining Weights:       99.61 %\n"
     ]
    },
    {
     "name": "stderr",
     "output_type": "stream",
     "text": [
      "Epoch 173 [Training]: 100%|██████████| 84/84 [00:06<00:00, 13.01it/s, loss=-26162.46, λc2D1=53.28, λd1=23.91, λd2=35.55, λd3=30.10]\n",
      "Epoch 173 [Validation]: 100%|██████████| 21/21 [00:01<00:00, 14.69it/s, loss=-26507.66]\n"
     ]
    },
    {
     "name": "stdout",
     "output_type": "stream",
     "text": [
      "\tTotal Loss (NLL + MDMM): -26205.29\n",
      "\tMDMM Loss:               1012.15\n",
      "\tRemaining Weights:       99.67 %\n"
     ]
    },
    {
     "name": "stderr",
     "output_type": "stream",
     "text": [
      "Epoch 174 [Training]: 100%|██████████| 84/84 [00:06<00:00, 13.24it/s, loss=-26164.94, λc2D1=53.59, λd1=24.07, λd2=35.76, λd3=30.25]\n",
      "Epoch 174 [Validation]: 100%|██████████| 21/21 [00:01<00:00, 14.62it/s, loss=-26524.22]\n"
     ]
    },
    {
     "name": "stdout",
     "output_type": "stream",
     "text": [
      "\tTotal Loss (NLL + MDMM): -26218.43\n",
      "\tMDMM Loss:               1017.93\n",
      "\tRemaining Weights:       99.72 %\n"
     ]
    },
    {
     "name": "stderr",
     "output_type": "stream",
     "text": [
      "Epoch 175 [Training]: 100%|██████████| 84/84 [00:06<00:00, 13.29it/s, loss=-26200.45, λc2D1=53.90, λd1=24.24, λd2=35.98, λd3=30.40]\n",
      "Epoch 175 [Validation]: 100%|██████████| 21/21 [00:01<00:00, 14.65it/s, loss=-26542.41]\n"
     ]
    },
    {
     "name": "stdout",
     "output_type": "stream",
     "text": [
      "\tTotal Loss (NLL + MDMM): -26236.33\n",
      "\tMDMM Loss:               1023.75\n",
      "\tRemaining Weights:       99.72 %\n"
     ]
    },
    {
     "name": "stderr",
     "output_type": "stream",
     "text": [
      "Epoch 176 [Training]: 100%|██████████| 84/84 [00:06<00:00, 13.07it/s, loss=-26198.01, λc2D1=54.21, λd1=24.40, λd2=36.19, λd3=30.55]\n",
      "Epoch 176 [Validation]: 100%|██████████| 21/21 [00:01<00:00, 14.76it/s, loss=-26565.11]\n"
     ]
    },
    {
     "name": "stdout",
     "output_type": "stream",
     "text": [
      "\tTotal Loss (NLL + MDMM): -26250.78\n",
      "\tMDMM Loss:               1029.54\n",
      "\tRemaining Weights:       99.72 %\n"
     ]
    },
    {
     "name": "stderr",
     "output_type": "stream",
     "text": [
      "Epoch 177 [Training]: 100%|██████████| 84/84 [00:06<00:00, 13.21it/s, loss=-26221.04, λc2D1=54.52, λd1=24.57, λd2=36.41, λd3=30.70]\n",
      "Epoch 177 [Validation]: 100%|██████████| 21/21 [00:01<00:00, 14.73it/s, loss=-26570.21]\n"
     ]
    },
    {
     "name": "stdout",
     "output_type": "stream",
     "text": [
      "\tTotal Loss (NLL + MDMM): -26267.22\n",
      "\tMDMM Loss:               1035.34\n",
      "\tRemaining Weights:       99.78 %\n"
     ]
    },
    {
     "name": "stderr",
     "output_type": "stream",
     "text": [
      "Epoch 178 [Training]: 100%|██████████| 84/84 [00:06<00:00, 13.25it/s, loss=-26242.13, λc2D1=54.83, λd1=24.74, λd2=36.62, λd3=30.85]\n",
      "Epoch 178 [Validation]: 100%|██████████| 21/21 [00:01<00:00, 14.27it/s, loss=-26600.87]\n"
     ]
    },
    {
     "name": "stdout",
     "output_type": "stream",
     "text": [
      "\tTotal Loss (NLL + MDMM): -26291.32\n",
      "\tMDMM Loss:               1041.11\n",
      "\tRemaining Weights:       99.72 %\n"
     ]
    },
    {
     "name": "stderr",
     "output_type": "stream",
     "text": [
      "Epoch 179 [Training]: 100%|██████████| 84/84 [00:06<00:00, 13.28it/s, loss=-26245.45, λc2D1=55.14, λd1=24.90, λd2=36.83, λd3=30.99]\n",
      "Epoch 179 [Validation]: 100%|██████████| 21/21 [00:01<00:00, 14.92it/s, loss=-26602.81]\n"
     ]
    },
    {
     "name": "stdout",
     "output_type": "stream",
     "text": [
      "\tTotal Loss (NLL + MDMM): -26293.32\n",
      "\tMDMM Loss:               1046.81\n",
      "\tRemaining Weights:       99.72 %\n"
     ]
    },
    {
     "name": "stderr",
     "output_type": "stream",
     "text": [
      "Epoch 180 [Training]: 100%|██████████| 84/84 [00:06<00:00, 13.19it/s, loss=-26258.10, λc2D1=55.45, λd1=25.07, λd2=37.05, λd3=31.14]\n",
      "Epoch 180 [Validation]: 100%|██████████| 21/21 [00:01<00:00, 14.85it/s, loss=-26598.27]\n"
     ]
    },
    {
     "name": "stdout",
     "output_type": "stream",
     "text": [
      "\tTotal Loss (NLL + MDMM): -26289.84\n",
      "\tMDMM Loss:               1052.58\n",
      "\tRemaining Weights:       99.67 %\n"
     ]
    },
    {
     "name": "stderr",
     "output_type": "stream",
     "text": [
      "Epoch 181 [Training]: 100%|██████████| 84/84 [00:06<00:00, 13.13it/s, loss=-26275.89, λc2D1=55.76, λd1=25.24, λd2=37.26, λd3=31.29]\n",
      "Epoch 181 [Validation]: 100%|██████████| 21/21 [00:01<00:00, 14.34it/s, loss=-26631.07]\n"
     ]
    },
    {
     "name": "stdout",
     "output_type": "stream",
     "text": [
      "\tTotal Loss (NLL + MDMM): -26321.78\n",
      "\tMDMM Loss:               1058.39\n",
      "\tRemaining Weights:       99.67 %\n"
     ]
    },
    {
     "name": "stderr",
     "output_type": "stream",
     "text": [
      "Epoch 182 [Training]: 100%|██████████| 84/84 [00:06<00:00, 13.19it/s, loss=-26307.25, λc2D1=56.07, λd1=25.41, λd2=37.48, λd3=31.44]\n",
      "Epoch 182 [Validation]: 100%|██████████| 21/21 [00:01<00:00, 14.86it/s, loss=-26667.29]\n"
     ]
    },
    {
     "name": "stdout",
     "output_type": "stream",
     "text": [
      "\tTotal Loss (NLL + MDMM): -26351.77\n",
      "\tMDMM Loss:               1058.60\n",
      "\tRemaining Weights:       99.72 %\n"
     ]
    },
    {
     "name": "stderr",
     "output_type": "stream",
     "text": [
      "Epoch 183 [Training]: 100%|██████████| 84/84 [00:06<00:00, 13.15it/s, loss=-26301.15, λc2D1=56.38, λd1=25.57, λd2=37.69, λd3=31.58]\n",
      "Epoch 183 [Validation]: 100%|██████████| 21/21 [00:01<00:00, 14.30it/s, loss=-26672.25]\n"
     ]
    },
    {
     "name": "stdout",
     "output_type": "stream",
     "text": [
      "\tTotal Loss (NLL + MDMM): -26355.85\n",
      "\tMDMM Loss:               1064.39\n",
      "\tRemaining Weights:       99.78 %\n"
     ]
    },
    {
     "name": "stderr",
     "output_type": "stream",
     "text": [
      "Epoch 184 [Training]: 100%|██████████| 84/84 [00:06<00:00, 13.11it/s, loss=-26330.93, λc2D1=56.69, λd1=25.74, λd2=37.91, λd3=31.73]\n",
      "Epoch 184 [Validation]: 100%|██████████| 21/21 [00:01<00:00, 14.66it/s, loss=-26683.24]\n"
     ]
    },
    {
     "name": "stdout",
     "output_type": "stream",
     "text": [
      "\tTotal Loss (NLL + MDMM): -26369.34\n",
      "\tMDMM Loss:               1070.31\n",
      "\tRemaining Weights:       99.78 %\n"
     ]
    },
    {
     "name": "stderr",
     "output_type": "stream",
     "text": [
      "Epoch 185 [Training]: 100%|██████████| 84/84 [00:06<00:00, 13.25it/s, loss=-26340.55, λc2D1=57.00, λd1=25.91, λd2=38.12, λd3=31.88]\n",
      "Epoch 185 [Validation]: 100%|██████████| 21/21 [00:01<00:00, 14.87it/s, loss=-26710.04]\n"
     ]
    },
    {
     "name": "stdout",
     "output_type": "stream",
     "text": [
      "\tTotal Loss (NLL + MDMM): -26393.51\n",
      "\tMDMM Loss:               1076.09\n",
      "\tRemaining Weights:       99.67 %\n"
     ]
    },
    {
     "name": "stderr",
     "output_type": "stream",
     "text": [
      "Epoch 186 [Training]: 100%|██████████| 84/84 [00:06<00:00, 13.34it/s, loss=-26352.75, λc2D1=57.31, λd1=26.08, λd2=38.34, λd3=32.03]\n",
      "Epoch 186 [Validation]: 100%|██████████| 21/21 [00:01<00:00, 14.90it/s, loss=-26708.98]\n"
     ]
    },
    {
     "name": "stdout",
     "output_type": "stream",
     "text": [
      "\tTotal Loss (NLL + MDMM): -26392.39\n",
      "\tMDMM Loss:               1081.88\n",
      "\tRemaining Weights:       99.56 %\n"
     ]
    },
    {
     "name": "stderr",
     "output_type": "stream",
     "text": [
      "Epoch 187 [Training]: 100%|██████████| 84/84 [00:06<00:00, 12.79it/s, loss=-26356.56, λc2D1=57.62, λd1=26.25, λd2=38.55, λd3=32.17]\n",
      "Epoch 187 [Validation]: 100%|██████████| 21/21 [00:01<00:00, 14.13it/s, loss=-26721.31]\n"
     ]
    },
    {
     "name": "stdout",
     "output_type": "stream",
     "text": [
      "\tTotal Loss (NLL + MDMM): -26398.38\n",
      "\tMDMM Loss:               1087.66\n",
      "\tRemaining Weights:       99.67 %\n"
     ]
    },
    {
     "name": "stderr",
     "output_type": "stream",
     "text": [
      "Epoch 188 [Training]: 100%|██████████| 84/84 [00:06<00:00, 13.09it/s, loss=-26368.01, λc2D1=57.93, λd1=26.42, λd2=38.77, λd3=32.32]\n",
      "Epoch 188 [Validation]: 100%|██████████| 21/21 [00:01<00:00, 14.96it/s, loss=-26741.61]\n"
     ]
    },
    {
     "name": "stdout",
     "output_type": "stream",
     "text": [
      "\tTotal Loss (NLL + MDMM): -26423.42\n",
      "\tMDMM Loss:               1099.23\n",
      "\tRemaining Weights:       99.67 %\n"
     ]
    },
    {
     "name": "stderr",
     "output_type": "stream",
     "text": [
      "Epoch 189 [Training]: 100%|██████████| 84/84 [00:06<00:00, 13.38it/s, loss=-26381.58, λc2D1=58.24, λd1=26.59, λd2=38.98, λd3=32.47]\n",
      "Epoch 189 [Validation]: 100%|██████████| 21/21 [00:01<00:00, 14.73it/s, loss=-26760.94]\n"
     ]
    },
    {
     "name": "stdout",
     "output_type": "stream",
     "text": [
      "\tTotal Loss (NLL + MDMM): -26437.90\n",
      "\tMDMM Loss:               1105.15\n",
      "\tRemaining Weights:       99.72 %\n"
     ]
    },
    {
     "name": "stderr",
     "output_type": "stream",
     "text": [
      "Epoch 190 [Training]: 100%|██████████| 84/84 [00:06<00:00, 13.40it/s, loss=-26398.21, λc2D1=58.55, λd1=26.76, λd2=39.20, λd3=32.61]\n",
      "Epoch 190 [Validation]: 100%|██████████| 21/21 [00:01<00:00, 15.06it/s, loss=-26755.19]\n"
     ]
    },
    {
     "name": "stdout",
     "output_type": "stream",
     "text": [
      "\tTotal Loss (NLL + MDMM): -26433.90\n",
      "\tMDMM Loss:               1110.94\n",
      "\tRemaining Weights:       99.56 %\n"
     ]
    },
    {
     "name": "stderr",
     "output_type": "stream",
     "text": [
      "Epoch 191 [Training]: 100%|██████████| 84/84 [00:06<00:00, 13.10it/s, loss=-26395.60, λc2D1=58.86, λd1=26.93, λd2=39.41, λd3=32.76]\n",
      "Epoch 191 [Validation]: 100%|██████████| 21/21 [00:01<00:00, 14.64it/s, loss=-26757.26]\n"
     ]
    },
    {
     "name": "stdout",
     "output_type": "stream",
     "text": [
      "\tTotal Loss (NLL + MDMM): -26433.87\n",
      "\tMDMM Loss:               1116.87\n",
      "\tRemaining Weights:       99.39 %\n"
     ]
    },
    {
     "name": "stderr",
     "output_type": "stream",
     "text": [
      "Epoch 192 [Training]: 100%|██████████| 84/84 [00:06<00:00, 13.23it/s, loss=-26416.34, λc2D1=59.17, λd1=27.10, λd2=39.63, λd3=32.91]\n",
      "Epoch 192 [Validation]: 100%|██████████| 21/21 [00:01<00:00, 15.07it/s, loss=-26787.43]\n"
     ]
    },
    {
     "name": "stdout",
     "output_type": "stream",
     "text": [
      "\tTotal Loss (NLL + MDMM): -26465.74\n",
      "\tMDMM Loss:               1122.79\n",
      "\tRemaining Weights:       99.56 %\n"
     ]
    },
    {
     "name": "stderr",
     "output_type": "stream",
     "text": [
      "Epoch 193 [Training]: 100%|██████████| 84/84 [00:06<00:00, 13.32it/s, loss=-26433.86, λc2D1=59.48, λd1=27.27, λd2=39.84, λd3=33.05]\n",
      "Epoch 193 [Validation]: 100%|██████████| 21/21 [00:01<00:00, 14.71it/s, loss=-26798.18]\n"
     ]
    },
    {
     "name": "stdout",
     "output_type": "stream",
     "text": [
      "\tTotal Loss (NLL + MDMM): -26476.14\n",
      "\tMDMM Loss:               1128.61\n",
      "\tRemaining Weights:       99.61 %\n"
     ]
    },
    {
     "name": "stderr",
     "output_type": "stream",
     "text": [
      "Epoch 194 [Training]: 100%|██████████| 84/84 [00:06<00:00, 13.16it/s, loss=-26442.54, λc2D1=59.78, λd1=27.44, λd2=40.06, λd3=33.20]\n",
      "Epoch 194 [Validation]: 100%|██████████| 21/21 [00:01<00:00, 14.83it/s, loss=-26818.09]\n"
     ]
    },
    {
     "name": "stdout",
     "output_type": "stream",
     "text": [
      "\tTotal Loss (NLL + MDMM): -26485.71\n",
      "\tMDMM Loss:               1134.52\n",
      "\tRemaining Weights:       99.67 %\n"
     ]
    },
    {
     "name": "stderr",
     "output_type": "stream",
     "text": [
      "Epoch 209 [Validation]: 100%|██████████| 21/21 [00:01<00:00, 14.91it/s, loss=-26985.18]c2D1=59.90, λd1=27.50, λd2=40.14, λd3=33.25]\n"
     ]
    },
    {
     "name": "stdout",
     "output_type": "stream",
     "text": [
      "\tTotal Loss (NLL + MDMM): -26642.69\n",
      "\tMDMM Loss:               1222.56\n",
      "\tRemaining Weights:       99.45 %\n"
     ]
    },
    {
     "name": "stderr",
     "output_type": "stream",
     "text": [
      "Epoch 210 [Training]: 100%|██████████| 84/84 [00:06<00:00, 13.32it/s, loss=-26583.27, λc2D1=64.70, λd1=30.18, λd2=43.52, λd3=35.51]\n",
      "Epoch 210 [Validation]: 100%|██████████| 21/21 [00:01<00:00, 14.75it/s, loss=-26987.29]\n"
     ]
    },
    {
     "name": "stdout",
     "output_type": "stream",
     "text": [
      "\tTotal Loss (NLL + MDMM): -26646.35\n",
      "\tMDMM Loss:               1228.49\n",
      "\tRemaining Weights:       99.39 %\n"
     ]
    },
    {
     "name": "stderr",
     "output_type": "stream",
     "text": [
      "Epoch 211 [Training]: 100%|██████████| 84/84 [00:06<00:00, 13.35it/s, loss=-26605.29, λc2D1=65.00, λd1=30.36, λd2=43.74, λd3=35.66]\n",
      "Epoch 211 [Validation]: 100%|██████████| 21/21 [00:01<00:00, 14.85it/s, loss=-27000.28]\n"
     ]
    },
    {
     "name": "stdout",
     "output_type": "stream",
     "text": [
      "\tTotal Loss (NLL + MDMM): -26659.96\n",
      "\tMDMM Loss:               1234.84\n",
      "\tRemaining Weights:       99.45 %\n"
     ]
    },
    {
     "name": "stderr",
     "output_type": "stream",
     "text": [
      "Epoch 212 [Training]: 100%|██████████| 84/84 [00:06<00:00, 12.88it/s, loss=-26616.88, λc2D1=65.31, λd1=30.53, λd2=43.96, λd3=35.80]\n",
      "Epoch 212 [Validation]: 100%|██████████| 21/21 [00:01<00:00, 14.55it/s, loss=-26995.93]\n"
     ]
    },
    {
     "name": "stdout",
     "output_type": "stream",
     "text": [
      "\tTotal Loss (NLL + MDMM): -26655.80\n",
      "\tMDMM Loss:               1240.65\n",
      "\tRemaining Weights:       99.45 %\n"
     ]
    },
    {
     "name": "stderr",
     "output_type": "stream",
     "text": [
      "Epoch 213 [Training]: 100%|██████████| 84/84 [00:06<00:00, 13.35it/s, loss=-26614.08, λc2D1=65.62, λd1=30.71, λd2=44.17, λd3=35.94]\n",
      "Epoch 213 [Validation]: 100%|██████████| 21/21 [00:01<00:00, 14.16it/s, loss=-27018.76]\n"
     ]
    },
    {
     "name": "stdout",
     "output_type": "stream",
     "text": [
      "\tTotal Loss (NLL + MDMM): -26678.88\n",
      "\tMDMM Loss:               1246.67\n",
      "\tRemaining Weights:       99.56 %\n"
     ]
    },
    {
     "name": "stderr",
     "output_type": "stream",
     "text": [
      "Epoch 214 [Training]: 100%|██████████| 84/84 [00:06<00:00, 13.02it/s, loss=-26634.03, λc2D1=65.92, λd1=30.88, λd2=44.39, λd3=36.09]\n",
      "Epoch 214 [Validation]: 100%|██████████| 21/21 [00:01<00:00, 14.87it/s, loss=-27015.91]\n"
     ]
    },
    {
     "name": "stdout",
     "output_type": "stream",
     "text": [
      "\tTotal Loss (NLL + MDMM): -26672.93\n",
      "\tMDMM Loss:               1252.53\n",
      "\tRemaining Weights:       99.61 %\n"
     ]
    },
    {
     "name": "stderr",
     "output_type": "stream",
     "text": [
      "Epoch 215 [Training]: 100%|██████████| 84/84 [00:06<00:00, 13.22it/s, loss=-26643.28, λc2D1=66.23, λd1=31.05, λd2=44.61, λd3=36.23]\n",
      "Epoch 215 [Validation]: 100%|██████████| 21/21 [00:01<00:00, 14.63it/s, loss=-27024.84]\n"
     ]
    },
    {
     "name": "stdout",
     "output_type": "stream",
     "text": [
      "\tTotal Loss (NLL + MDMM): -26688.34\n",
      "\tMDMM Loss:               1258.55\n",
      "\tRemaining Weights:       99.34 %\n"
     ]
    },
    {
     "name": "stderr",
     "output_type": "stream",
     "text": [
      "Epoch 216 [Training]: 100%|██████████| 84/84 [00:06<00:00, 13.20it/s, loss=-26644.55, λc2D1=66.53, λd1=31.23, λd2=44.83, λd3=36.37]\n",
      "Epoch 216 [Validation]: 100%|██████████| 21/21 [00:01<00:00, 14.55it/s, loss=-27038.88]\n"
     ]
    },
    {
     "name": "stdout",
     "output_type": "stream",
     "text": [
      "\tTotal Loss (NLL + MDMM): -26697.67\n",
      "\tMDMM Loss:               1264.41\n",
      "\tRemaining Weights:       99.39 %\n"
     ]
    },
    {
     "name": "stderr",
     "output_type": "stream",
     "text": [
      "Epoch 217 [Training]: 100%|██████████| 84/84 [00:06<00:00, 13.10it/s, loss=-26647.97, λc2D1=66.84, λd1=31.40, λd2=45.05, λd3=36.52]\n",
      "Epoch 217 [Validation]: 100%|██████████| 21/21 [00:01<00:00, 15.06it/s, loss=-27049.38]\n"
     ]
    },
    {
     "name": "stdout",
     "output_type": "stream",
     "text": [
      "\tTotal Loss (NLL + MDMM): -26701.16\n",
      "\tMDMM Loss:               1270.36\n",
      "\tRemaining Weights:       99.50 %\n"
     ]
    },
    {
     "name": "stderr",
     "output_type": "stream",
     "text": [
      "Epoch 218 [Training]: 100%|██████████| 84/84 [00:06<00:00, 13.45it/s, loss=-26673.65, λc2D1=67.15, λd1=31.58, λd2=45.26, λd3=36.66]\n",
      "Epoch 218 [Validation]: 100%|██████████| 21/21 [00:01<00:00, 14.67it/s, loss=-27050.51]\n"
     ]
    },
    {
     "name": "stdout",
     "output_type": "stream",
     "text": [
      "\tTotal Loss (NLL + MDMM): -26709.86\n",
      "\tMDMM Loss:               1276.39\n",
      "\tRemaining Weights:       99.56 %\n"
     ]
    },
    {
     "name": "stderr",
     "output_type": "stream",
     "text": [
      "Epoch 219 [Training]: 100%|██████████| 84/84 [00:06<00:00, 13.25it/s, loss=-26676.81, λc2D1=67.45, λd1=31.75, λd2=45.48, λd3=36.80]\n",
      "Epoch 219 [Validation]: 100%|██████████| 21/21 [00:01<00:00, 14.81it/s, loss=-27077.91]\n"
     ]
    },
    {
     "name": "stdout",
     "output_type": "stream",
     "text": [
      "\tTotal Loss (NLL + MDMM): -26723.37\n",
      "\tMDMM Loss:               1282.22\n",
      "\tRemaining Weights:       99.56 %\n"
     ]
    },
    {
     "name": "stderr",
     "output_type": "stream",
     "text": [
      "Epoch 220 [Training]: 100%|██████████| 84/84 [00:06<00:00, 13.32it/s, loss=-26689.34, λc2D1=67.76, λd1=31.93, λd2=45.70, λd3=36.95]\n",
      "Epoch 220 [Validation]: 100%|██████████| 21/21 [00:01<00:00, 14.75it/s, loss=-27074.53]\n"
     ]
    },
    {
     "name": "stdout",
     "output_type": "stream",
     "text": [
      "\tTotal Loss (NLL + MDMM): -26728.79\n",
      "\tMDMM Loss:               1288.10\n",
      "\tRemaining Weights:       99.67 %\n"
     ]
    },
    {
     "name": "stderr",
     "output_type": "stream",
     "text": [
      "Epoch 221 [Training]: 100%|██████████| 84/84 [00:06<00:00, 13.01it/s, loss=-26703.45, λc2D1=68.06, λd1=32.10, λd2=45.92, λd3=37.09]\n",
      "Epoch 221 [Validation]: 100%|██████████| 21/21 [00:01<00:00, 14.67it/s, loss=-27084.14]\n"
     ]
    },
    {
     "name": "stdout",
     "output_type": "stream",
     "text": [
      "\tTotal Loss (NLL + MDMM): -26742.76\n",
      "\tMDMM Loss:               1294.07\n",
      "\tRemaining Weights:       99.56 %\n"
     ]
    },
    {
     "name": "stderr",
     "output_type": "stream",
     "text": [
      "Epoch 222 [Training]: 100%|██████████| 84/84 [00:06<00:00, 12.96it/s, loss=-26698.88, λc2D1=68.37, λd1=32.28, λd2=46.14, λd3=37.23]\n",
      "Epoch 222 [Validation]: 100%|██████████| 21/21 [00:01<00:00, 14.71it/s, loss=-27097.36]\n"
     ]
    },
    {
     "name": "stdout",
     "output_type": "stream",
     "text": [
      "\tTotal Loss (NLL + MDMM): -26747.43\n",
      "\tMDMM Loss:               1300.06\n",
      "\tRemaining Weights:       99.50 %\n"
     ]
    },
    {
     "name": "stderr",
     "output_type": "stream",
     "text": [
      "Epoch 223 [Training]: 100%|██████████| 84/84 [00:06<00:00, 13.26it/s, loss=-26708.30, λc2D1=68.67, λd1=32.45, λd2=46.36, λd3=37.37]\n",
      "Epoch 223 [Validation]: 100%|██████████| 21/21 [00:01<00:00, 14.76it/s, loss=-27099.60]\n"
     ]
    },
    {
     "name": "stdout",
     "output_type": "stream",
     "text": [
      "\tTotal Loss (NLL + MDMM): -26752.48\n",
      "\tMDMM Loss:               1306.00\n",
      "\tRemaining Weights:       99.50 %\n"
     ]
    },
    {
     "name": "stderr",
     "output_type": "stream",
     "text": [
      "Epoch 224 [Training]: 100%|██████████| 84/84 [00:06<00:00, 12.97it/s, loss=-26720.40, λc2D1=68.98, λd1=32.63, λd2=46.58, λd3=37.52]\n",
      "Epoch 224 [Validation]: 100%|██████████| 21/21 [00:01<00:00, 14.44it/s, loss=-27105.05]\n"
     ]
    },
    {
     "name": "stdout",
     "output_type": "stream",
     "text": [
      "\tTotal Loss (NLL + MDMM): -26755.60\n",
      "\tMDMM Loss:               1311.81\n",
      "\tRemaining Weights:       99.50 %\n"
     ]
    },
    {
     "name": "stderr",
     "output_type": "stream",
     "text": [
      "Epoch 225 [Training]: 100%|██████████| 84/84 [00:06<00:00, 12.99it/s, loss=-26729.22, λc2D1=69.28, λd1=32.81, λd2=46.80, λd3=37.66]\n",
      "Epoch 225 [Validation]: 100%|██████████| 21/21 [00:01<00:00, 14.53it/s, loss=-27104.13]\n"
     ]
    },
    {
     "name": "stdout",
     "output_type": "stream",
     "text": [
      "\tTotal Loss (NLL + MDMM): -26755.68\n",
      "\tMDMM Loss:               1317.76\n",
      "\tRemaining Weights:       99.39 %\n"
     ]
    },
    {
     "name": "stderr",
     "output_type": "stream",
     "text": [
      "Epoch 226 [Training]: 100%|██████████| 84/84 [00:06<00:00, 13.09it/s, loss=-26739.29, λc2D1=69.59, λd1=32.98, λd2=47.01, λd3=37.80]\n",
      "Epoch 226 [Validation]: 100%|██████████| 21/21 [00:01<00:00, 14.78it/s, loss=-27133.90]\n"
     ]
    },
    {
     "name": "stdout",
     "output_type": "stream",
     "text": [
      "\tTotal Loss (NLL + MDMM): -26782.47\n",
      "\tMDMM Loss:               1323.70\n",
      "\tRemaining Weights:       99.28 %\n"
     ]
    },
    {
     "name": "stderr",
     "output_type": "stream",
     "text": [
      "Epoch 227 [Training]: 100%|██████████| 84/84 [00:06<00:00, 13.26it/s, loss=-26739.12, λc2D1=69.89, λd1=33.16, λd2=47.23, λd3=37.94]\n",
      "Epoch 227 [Validation]: 100%|██████████| 21/21 [00:01<00:00, 14.74it/s, loss=-27140.94]\n"
     ]
    },
    {
     "name": "stdout",
     "output_type": "stream",
     "text": [
      "\tTotal Loss (NLL + MDMM): -26791.86\n",
      "\tMDMM Loss:               1329.59\n",
      "\tRemaining Weights:       99.34 %\n"
     ]
    },
    {
     "name": "stderr",
     "output_type": "stream",
     "text": [
      "Epoch 228 [Training]:  17%|█▋        | 14/84 [00:01<00:05, 12.93it/s, loss=-26584.64, λc2D1=70.00, λd1=33.22, λd2=47.31, λd3=37.99]IOPub message rate exceeded.\n",
      "The Jupyter server will temporarily stop sending output\n",
      "to the client in order to avoid crashing it.\n",
      "To change this limit, set the config variable\n",
      "`--ServerApp.iopub_msg_rate_limit`.\n",
      "\n",
      "Current values:\n",
      "ServerApp.iopub_msg_rate_limit=1000.0 (msgs/sec)\n",
      "ServerApp.rate_limit_window=3.0 (secs)\n",
      "\n",
      "Epoch 241 [Training]: 100%|██████████| 84/84 [00:06<00:00, 13.46it/s, loss=-26848.57, λc2D1=74.14, λd1=35.65, λd2=50.32, λd3=39.92]\n",
      "Epoch 241 [Validation]: 100%|██████████| 21/21 [00:01<00:00, 14.75it/s, loss=-27224.75]\n"
     ]
    },
    {
     "name": "stdout",
     "output_type": "stream",
     "text": [
      "\tTotal Loss (NLL + MDMM): -26873.35\n",
      "\tMDMM Loss:               1412.46\n",
      "\tRemaining Weights:       99.39 %\n"
     ]
    },
    {
     "name": "stderr",
     "output_type": "stream",
     "text": [
      "Epoch 242 [Training]: 100%|██████████| 84/84 [00:06<00:00, 13.58it/s, loss=-26838.85, λc2D1=74.44, λd1=35.83, λd2=50.54, λd3=40.06]\n",
      "Epoch 242 [Validation]: 100%|██████████| 21/21 [00:01<00:00, 14.66it/s, loss=-27234.01]\n"
     ]
    },
    {
     "name": "stdout",
     "output_type": "stream",
     "text": [
      "\tTotal Loss (NLL + MDMM): -26884.01\n",
      "\tMDMM Loss:               1418.41\n",
      "\tRemaining Weights:       99.39 %\n"
     ]
    },
    {
     "name": "stderr",
     "output_type": "stream",
     "text": [
      "Epoch 243 [Training]: 100%|██████████| 84/84 [00:06<00:00, 13.00it/s, loss=-26862.42, λc2D1=74.75, λd1=36.00, λd2=50.76, λd3=40.20]\n",
      "Epoch 243 [Validation]: 100%|██████████| 21/21 [00:01<00:00, 14.62it/s, loss=-27252.06]\n"
     ]
    },
    {
     "name": "stdout",
     "output_type": "stream",
     "text": [
      "\tTotal Loss (NLL + MDMM): -26894.69\n",
      "\tMDMM Loss:               1424.24\n",
      "\tRemaining Weights:       99.39 %\n"
     ]
    },
    {
     "name": "stderr",
     "output_type": "stream",
     "text": [
      "Epoch 244 [Training]: 100%|██████████| 84/84 [00:06<00:00, 13.12it/s, loss=-26850.11, λc2D1=75.05, λd1=36.18, λd2=50.98, λd3=40.34]\n",
      "Epoch 244 [Validation]: 100%|██████████| 21/21 [00:01<00:00, 14.82it/s, loss=-27256.41]\n"
     ]
    },
    {
     "name": "stdout",
     "output_type": "stream",
     "text": [
      "\tTotal Loss (NLL + MDMM): -26902.01\n",
      "\tMDMM Loss:               1430.15\n",
      "\tRemaining Weights:       99.50 %\n"
     ]
    },
    {
     "name": "stderr",
     "output_type": "stream",
     "text": [
      "Epoch 245 [Training]: 100%|██████████| 84/84 [00:06<00:00, 13.25it/s, loss=-26864.77, λc2D1=75.35, λd1=36.36, λd2=51.20, λd3=40.48]\n",
      "Epoch 245 [Validation]: 100%|██████████| 21/21 [00:01<00:00, 14.85it/s, loss=-27252.60]\n"
     ]
    },
    {
     "name": "stdout",
     "output_type": "stream",
     "text": [
      "\tTotal Loss (NLL + MDMM): -26906.46\n",
      "\tMDMM Loss:               1436.12\n",
      "\tRemaining Weights:       99.56 %\n"
     ]
    },
    {
     "name": "stderr",
     "output_type": "stream",
     "text": [
      "Epoch 246 [Training]: 100%|██████████| 84/84 [00:06<00:00, 13.31it/s, loss=-26860.68, λc2D1=75.65, λd1=36.54, λd2=51.42, λd3=40.62]\n",
      "Epoch 246 [Validation]: 100%|██████████| 21/21 [00:01<00:00, 14.79it/s, loss=-27265.29]\n"
     ]
    },
    {
     "name": "stdout",
     "output_type": "stream",
     "text": [
      "\tTotal Loss (NLL + MDMM): -26909.17\n",
      "\tMDMM Loss:               1442.04\n",
      "\tRemaining Weights:       99.45 %\n"
     ]
    },
    {
     "name": "stderr",
     "output_type": "stream",
     "text": [
      "Epoch 247 [Training]: 100%|██████████| 84/84 [00:06<00:00, 13.10it/s, loss=-26892.91, λc2D1=75.95, λd1=36.72, λd2=51.64, λd3=40.76]\n",
      "Epoch 247 [Validation]: 100%|██████████| 21/21 [00:01<00:00, 14.59it/s, loss=-27271.65]\n"
     ]
    },
    {
     "name": "stdout",
     "output_type": "stream",
     "text": [
      "\tTotal Loss (NLL + MDMM): -26923.91\n",
      "\tMDMM Loss:               1447.91\n",
      "\tRemaining Weights:       99.39 %\n"
     ]
    },
    {
     "name": "stderr",
     "output_type": "stream",
     "text": [
      "Epoch 248 [Training]: 100%|██████████| 84/84 [00:06<00:00, 13.17it/s, loss=-26895.15, λc2D1=76.26, λd1=36.90, λd2=51.87, λd3=40.90]\n",
      "Epoch 248 [Validation]: 100%|██████████| 21/21 [00:01<00:00, 14.18it/s, loss=-27287.60]\n"
     ]
    },
    {
     "name": "stdout",
     "output_type": "stream",
     "text": [
      "\tTotal Loss (NLL + MDMM): -26928.72\n",
      "\tMDMM Loss:               1453.76\n",
      "\tRemaining Weights:       99.34 %\n"
     ]
    },
    {
     "name": "stderr",
     "output_type": "stream",
     "text": [
      "Epoch 249 [Training]: 100%|██████████| 84/84 [00:06<00:00, 12.90it/s, loss=-26891.14, λc2D1=76.56, λd1=37.08, λd2=52.09, λd3=41.04]\n",
      "Epoch 249 [Validation]: 100%|██████████| 21/21 [00:01<00:00, 14.31it/s, loss=-27272.66]\n"
     ]
    },
    {
     "name": "stdout",
     "output_type": "stream",
     "text": [
      "\tTotal Loss (NLL + MDMM): -26922.78\n",
      "\tMDMM Loss:               1459.67\n",
      "\tRemaining Weights:       99.23 %\n"
     ]
    },
    {
     "name": "stderr",
     "output_type": "stream",
     "text": [
      "Epoch 250 [Training]: 100%|██████████| 84/84 [00:06<00:00, 13.03it/s, loss=-26903.91, λc2D1=76.86, λd1=37.26, λd2=52.31, λd3=41.18]\n",
      "Epoch 250 [Validation]: 100%|██████████| 21/21 [00:01<00:00, 14.29it/s, loss=-27290.00]\n"
     ]
    },
    {
     "name": "stdout",
     "output_type": "stream",
     "text": [
      "\tTotal Loss (NLL + MDMM): -26941.35\n",
      "\tMDMM Loss:               1465.51\n",
      "\tRemaining Weights:       99.34 %\n"
     ]
    },
    {
     "name": "stderr",
     "output_type": "stream",
     "text": [
      "Epoch 251 [Training]: 100%|██████████| 84/84 [00:06<00:00, 12.97it/s, loss=-26909.53, λc2D1=77.16, λd1=37.44, λd2=52.53, λd3=41.32]\n",
      "Epoch 251 [Validation]: 100%|██████████| 21/21 [00:01<00:00, 14.64it/s, loss=-27298.97]\n"
     ]
    },
    {
     "name": "stdout",
     "output_type": "stream",
     "text": [
      "\tTotal Loss (NLL + MDMM): -26948.54\n",
      "\tMDMM Loss:               1471.50\n",
      "\tRemaining Weights:       99.34 %\n"
     ]
    },
    {
     "name": "stderr",
     "output_type": "stream",
     "text": [
      "Epoch 252 [Training]: 100%|██████████| 84/84 [00:06<00:00, 13.23it/s, loss=-26906.70, λc2D1=77.46, λd1=37.62, λd2=52.75, λd3=41.46]\n",
      "Epoch 252 [Validation]: 100%|██████████| 21/21 [00:01<00:00, 14.74it/s, loss=-27275.42]\n"
     ]
    },
    {
     "name": "stdout",
     "output_type": "stream",
     "text": [
      "\tTotal Loss (NLL + MDMM): -26923.62\n",
      "\tMDMM Loss:               1477.36\n",
      "\tRemaining Weights:       99.34 %\n"
     ]
    },
    {
     "name": "stderr",
     "output_type": "stream",
     "text": [
      "Epoch 253 [Training]: 100%|██████████| 84/84 [00:06<00:00, 13.31it/s, loss=-26925.45, λc2D1=77.76, λd1=37.80, λd2=52.98, λd3=41.60]\n",
      "Epoch 253 [Validation]: 100%|██████████| 21/21 [00:01<00:00, 14.21it/s, loss=-27321.64]\n"
     ]
    },
    {
     "name": "stdout",
     "output_type": "stream",
     "text": [
      "\tTotal Loss (NLL + MDMM): -26971.09\n",
      "\tMDMM Loss:               1483.18\n",
      "\tRemaining Weights:       99.45 %\n"
     ]
    },
    {
     "name": "stderr",
     "output_type": "stream",
     "text": [
      "Epoch 254 [Training]: 100%|██████████| 84/84 [00:06<00:00, 13.04it/s, loss=-26927.05, λc2D1=78.06, λd1=37.98, λd2=53.20, λd3=41.74]\n",
      "Epoch 254 [Validation]: 100%|██████████| 21/21 [00:01<00:00, 14.59it/s, loss=-27310.67]\n"
     ]
    },
    {
     "name": "stdout",
     "output_type": "stream",
     "text": [
      "\tTotal Loss (NLL + MDMM): -26963.18\n",
      "\tMDMM Loss:               1488.99\n",
      "\tRemaining Weights:       99.56 %\n"
     ]
    },
    {
     "name": "stderr",
     "output_type": "stream",
     "text": [
      "Epoch 255 [Training]: 100%|██████████| 84/84 [00:06<00:00, 12.99it/s, loss=-26930.20, λc2D1=78.36, λd1=38.17, λd2=53.42, λd3=41.87]\n",
      "Epoch 255 [Validation]: 100%|██████████| 21/21 [00:01<00:00, 14.69it/s, loss=-27299.71]\n"
     ]
    },
    {
     "name": "stdout",
     "output_type": "stream",
     "text": [
      "\tTotal Loss (NLL + MDMM): -26950.99\n",
      "\tMDMM Loss:               1494.81\n",
      "\tRemaining Weights:       99.39 %\n"
     ]
    },
    {
     "name": "stderr",
     "output_type": "stream",
     "text": [
      "Epoch 256 [Training]: 100%|██████████| 84/84 [00:06<00:00, 13.04it/s, loss=-26933.62, λc2D1=78.66, λd1=38.35, λd2=53.64, λd3=42.01]\n",
      "Epoch 256 [Validation]: 100%|██████████| 21/21 [00:01<00:00, 14.36it/s, loss=-27325.34]\n"
     ]
    },
    {
     "name": "stdout",
     "output_type": "stream",
     "text": [
      "\tTotal Loss (NLL + MDMM): -26977.79\n",
      "\tMDMM Loss:               1500.87\n",
      "\tRemaining Weights:       99.45 %\n"
     ]
    },
    {
     "name": "stderr",
     "output_type": "stream",
     "text": [
      "Epoch 257 [Training]: 100%|██████████| 84/84 [00:06<00:00, 13.14it/s, loss=-26951.05, λc2D1=78.96, λd1=38.53, λd2=53.87, λd3=42.15]\n",
      "Epoch 257 [Validation]: 100%|██████████| 21/21 [00:01<00:00, 14.78it/s, loss=-27328.98]\n"
     ]
    },
    {
     "name": "stdout",
     "output_type": "stream",
     "text": [
      "\tTotal Loss (NLL + MDMM): -26980.48\n",
      "\tMDMM Loss:               1506.86\n",
      "\tRemaining Weights:       99.50 %\n"
     ]
    },
    {
     "name": "stderr",
     "output_type": "stream",
     "text": [
      "Epoch 258 [Training]: 100%|██████████| 84/84 [00:06<00:00, 13.25it/s, loss=-26951.01, λc2D1=79.26, λd1=38.71, λd2=54.09, λd3=42.29]\n",
      "Epoch 258 [Validation]: 100%|██████████| 21/21 [00:01<00:00, 14.72it/s, loss=-27340.11]\n"
     ]
    },
    {
     "name": "stdout",
     "output_type": "stream",
     "text": [
      "\tTotal Loss (NLL + MDMM): -26988.75\n",
      "\tMDMM Loss:               1512.75\n",
      "\tRemaining Weights:       99.45 %\n"
     ]
    },
    {
     "name": "stderr",
     "output_type": "stream",
     "text": [
      "Epoch 259 [Training]: 100%|██████████| 84/84 [00:06<00:00, 13.06it/s, loss=-26953.37, λc2D1=79.56, λd1=38.89, λd2=54.31, λd3=42.43]\n",
      "Epoch 259 [Validation]: 100%|██████████| 21/21 [00:01<00:00, 14.74it/s, loss=-27333.83]\n"
     ]
    },
    {
     "name": "stdout",
     "output_type": "stream",
     "text": [
      "\tTotal Loss (NLL + MDMM): -26988.46\n",
      "\tMDMM Loss:               1518.68\n",
      "\tRemaining Weights:       99.50 %\n"
     ]
    },
    {
     "name": "stderr",
     "output_type": "stream",
     "text": [
      "Epoch 260 [Training]: 100%|██████████| 84/84 [00:06<00:00, 13.29it/s, loss=-26968.32, λc2D1=79.86, λd1=39.07, λd2=54.54, λd3=42.57]\n",
      "Epoch 260 [Validation]: 100%|██████████| 21/21 [00:01<00:00, 14.59it/s, loss=-27355.62]\n"
     ]
    },
    {
     "name": "stdout",
     "output_type": "stream",
     "text": [
      "\tTotal Loss (NLL + MDMM): -27006.11\n",
      "\tMDMM Loss:               1524.58\n",
      "\tRemaining Weights:       99.50 %\n"
     ]
    },
    {
     "name": "stderr",
     "output_type": "stream",
     "text": [
      "Epoch 261 [Training]: 100%|██████████| 84/84 [00:06<00:00, 13.01it/s, loss=-26963.06, λc2D1=80.16, λd1=39.25, λd2=54.76, λd3=42.71]\n",
      "Epoch 261 [Validation]: 100%|██████████| 21/21 [00:01<00:00, 15.00it/s, loss=-27347.20]\n"
     ]
    },
    {
     "name": "stdout",
     "output_type": "stream",
     "text": [
      "\tTotal Loss (NLL + MDMM): -26998.51\n",
      "\tMDMM Loss:               1530.42\n",
      "\tRemaining Weights:       99.56 %\n"
     ]
    },
    {
     "name": "stderr",
     "output_type": "stream",
     "text": [
      "Epoch 262 [Training]: 100%|██████████| 84/84 [00:06<00:00, 13.23it/s, loss=-26976.29, λc2D1=80.46, λd1=39.44, λd2=54.98, λd3=42.85]\n",
      "Epoch 262 [Validation]: 100%|██████████| 21/21 [00:01<00:00, 14.87it/s, loss=-27366.65]\n"
     ]
    },
    {
     "name": "stdout",
     "output_type": "stream",
     "text": [
      "\tTotal Loss (NLL + MDMM): -27015.76\n",
      "\tMDMM Loss:               1536.21\n",
      "\tRemaining Weights:       99.45 %\n"
     ]
    },
    {
     "name": "stderr",
     "output_type": "stream",
     "text": [
      "Epoch 263 [Training]: 100%|██████████| 84/84 [00:06<00:00, 13.34it/s, loss=-26974.86, λc2D1=80.76, λd1=39.62, λd2=55.21, λd3=42.98]\n",
      "Epoch 263 [Validation]: 100%|██████████| 21/21 [00:01<00:00, 15.04it/s, loss=-27355.95]\n"
     ]
    },
    {
     "name": "stdout",
     "output_type": "stream",
     "text": [
      "\tTotal Loss (NLL + MDMM): -27007.40\n",
      "\tMDMM Loss:               1542.12\n",
      "\tRemaining Weights:       99.50 %\n"
     ]
    },
    {
     "name": "stderr",
     "output_type": "stream",
     "text": [
      "Epoch 264 [Training]: 100%|██████████| 84/84 [00:06<00:00, 13.00it/s, loss=-26979.21, λc2D1=81.06, λd1=39.80, λd2=55.43, λd3=43.12]\n",
      "Epoch 264 [Validation]: 100%|██████████| 21/21 [00:01<00:00, 14.70it/s, loss=-27345.13]\n"
     ]
    },
    {
     "name": "stdout",
     "output_type": "stream",
     "text": [
      "\tTotal Loss (NLL + MDMM): -26990.32\n",
      "\tMDMM Loss:               1548.00\n",
      "\tRemaining Weights:       99.45 %\n"
     ]
    },
    {
     "name": "stderr",
     "output_type": "stream",
     "text": [
      "Epoch 265 [Training]: 100%|██████████| 84/84 [00:06<00:00, 13.39it/s, loss=-26987.73, λc2D1=81.36, λd1=39.98, λd2=55.65, λd3=43.26]\n",
      "Epoch 265 [Validation]: 100%|██████████| 21/21 [00:01<00:00, 14.54it/s, loss=-27368.02]\n"
     ]
    },
    {
     "name": "stdout",
     "output_type": "stream",
     "text": [
      "\tTotal Loss (NLL + MDMM): -27014.79\n",
      "\tMDMM Loss:               1553.82\n",
      "\tRemaining Weights:       99.39 %\n"
     ]
    },
    {
     "name": "stderr",
     "output_type": "stream",
     "text": [
      "Epoch 266 [Training]: 100%|██████████| 84/84 [00:06<00:00, 13.17it/s, loss=-26987.20, λc2D1=81.66, λd1=40.17, λd2=55.88, λd3=43.40]\n",
      "Epoch 266 [Validation]: 100%|██████████| 21/21 [00:01<00:00, 14.62it/s, loss=-27368.30]\n"
     ]
    },
    {
     "name": "stdout",
     "output_type": "stream",
     "text": [
      "\tTotal Loss (NLL + MDMM): -27019.07\n",
      "\tMDMM Loss:               1559.86\n",
      "\tRemaining Weights:       99.28 %\n"
     ]
    },
    {
     "name": "stderr",
     "output_type": "stream",
     "text": [
      "Epoch 267 [Training]: 100%|██████████| 84/84 [00:06<00:00, 13.31it/s, loss=-26994.15, λc2D1=81.96, λd1=40.35, λd2=56.10, λd3=43.54]\n",
      "Epoch 267 [Validation]: 100%|██████████| 21/21 [00:01<00:00, 14.74it/s, loss=-27376.34]\n"
     ]
    },
    {
     "name": "stdout",
     "output_type": "stream",
     "text": [
      "\tTotal Loss (NLL + MDMM): -27023.35\n",
      "\tMDMM Loss:               1565.76\n",
      "\tRemaining Weights:       99.17 %\n"
     ]
    },
    {
     "name": "stderr",
     "output_type": "stream",
     "text": [
      "Epoch 268 [Training]: 100%|██████████| 84/84 [00:06<00:00, 12.57it/s, loss=-27009.73, λc2D1=82.26, λd1=40.53, λd2=56.33, λd3=43.67]\n",
      "Epoch 268 [Validation]: 100%|██████████| 21/21 [00:01<00:00, 14.67it/s, loss=-27397.74]\n"
     ]
    },
    {
     "name": "stdout",
     "output_type": "stream",
     "text": [
      "\tTotal Loss (NLL + MDMM): -27046.93\n",
      "\tMDMM Loss:               1571.60\n",
      "\tRemaining Weights:       99.34 %\n"
     ]
    },
    {
     "name": "stderr",
     "output_type": "stream",
     "text": [
      "Epoch 269 [Training]: 100%|██████████| 84/84 [00:06<00:00, 13.37it/s, loss=-27008.85, λc2D1=82.56, λd1=40.71, λd2=56.55, λd3=43.81]\n",
      "Epoch 269 [Validation]: 100%|██████████| 21/21 [00:01<00:00, 14.09it/s, loss=-27381.46]\n"
     ]
    },
    {
     "name": "stdout",
     "output_type": "stream",
     "text": [
      "\tTotal Loss (NLL + MDMM): -27034.18\n",
      "\tMDMM Loss:               1577.31\n",
      "\tRemaining Weights:       99.28 %\n"
     ]
    },
    {
     "name": "stderr",
     "output_type": "stream",
     "text": [
      "Epoch 270 [Training]: 100%|██████████| 84/84 [00:06<00:00, 13.06it/s, loss=-27020.14, λc2D1=82.85, λd1=40.90, λd2=56.78, λd3=43.95]\n",
      "Epoch 270 [Validation]: 100%|██████████| 21/21 [00:01<00:00, 14.85it/s, loss=-27405.50]\n"
     ]
    },
    {
     "name": "stdout",
     "output_type": "stream",
     "text": [
      "\tTotal Loss (NLL + MDMM): -27056.40\n",
      "\tMDMM Loss:               1583.11\n",
      "\tRemaining Weights:       99.23 %\n"
     ]
    },
    {
     "name": "stderr",
     "output_type": "stream",
     "text": [
      "Epoch 271 [Training]: 100%|██████████| 84/84 [00:06<00:00, 13.16it/s, loss=-27014.47, λc2D1=83.15, λd1=41.08, λd2=57.00, λd3=44.09]\n",
      "Epoch 271 [Validation]: 100%|██████████| 21/21 [00:01<00:00, 14.45it/s, loss=-27415.66]\n"
     ]
    },
    {
     "name": "stdout",
     "output_type": "stream",
     "text": [
      "\tTotal Loss (NLL + MDMM): -27053.09\n",
      "\tMDMM Loss:               1589.03\n",
      "\tRemaining Weights:       99.28 %\n"
     ]
    },
    {
     "name": "stderr",
     "output_type": "stream",
     "text": [
      "Epoch 272 [Training]: 100%|██████████| 84/84 [00:06<00:00, 13.34it/s, loss=-27015.39, λc2D1=83.45, λd1=41.26, λd2=57.23, λd3=44.23]\n",
      "Epoch 272 [Validation]: 100%|██████████| 21/21 [00:01<00:00, 14.99it/s, loss=-27408.80]\n"
     ]
    },
    {
     "name": "stdout",
     "output_type": "stream",
     "text": [
      "\tTotal Loss (NLL + MDMM): -27059.10\n",
      "\tMDMM Loss:               1594.68\n",
      "\tRemaining Weights:       99.28 %\n"
     ]
    },
    {
     "name": "stderr",
     "output_type": "stream",
     "text": [
      "Epoch 273 [Training]: 100%|██████████| 84/84 [00:06<00:00, 13.22it/s, loss=-27016.16, λc2D1=83.75, λd1=41.45, λd2=57.45, λd3=44.36]\n",
      "Epoch 273 [Validation]: 100%|██████████| 21/21 [00:01<00:00, 14.89it/s, loss=-27396.13]\n"
     ]
    },
    {
     "name": "stdout",
     "output_type": "stream",
     "text": [
      "\tTotal Loss (NLL + MDMM): -27038.52\n",
      "\tMDMM Loss:               1600.50\n",
      "\tRemaining Weights:       99.28 %\n"
     ]
    },
    {
     "name": "stderr",
     "output_type": "stream",
     "text": [
      "Epoch 274 [Training]: 100%|██████████| 84/84 [00:06<00:00, 13.27it/s, loss=-27017.19, λc2D1=84.05, λd1=41.63, λd2=57.67, λd3=44.50]\n",
      "Epoch 274 [Validation]: 100%|██████████| 21/21 [00:01<00:00, 14.67it/s, loss=-27414.83]\n"
     ]
    },
    {
     "name": "stdout",
     "output_type": "stream",
     "text": [
      "\tTotal Loss (NLL + MDMM): -27067.43\n",
      "\tMDMM Loss:               1606.43\n",
      "\tRemaining Weights:       99.28 %\n"
     ]
    },
    {
     "name": "stderr",
     "output_type": "stream",
     "text": [
      "Epoch 275 [Training]: 100%|██████████| 84/84 [00:06<00:00, 12.95it/s, loss=-27026.96, λc2D1=84.34, λd1=41.81, λd2=57.90, λd3=44.64]\n",
      "Epoch 275 [Validation]: 100%|██████████| 21/21 [00:01<00:00, 14.83it/s, loss=-27410.46]\n"
     ]
    },
    {
     "name": "stdout",
     "output_type": "stream",
     "text": [
      "\tTotal Loss (NLL + MDMM): -27065.40\n",
      "\tMDMM Loss:               1612.39\n",
      "\tRemaining Weights:       99.28 %\n"
     ]
    },
    {
     "name": "stderr",
     "output_type": "stream",
     "text": [
      "Epoch 276 [Training]: 100%|██████████| 84/84 [00:06<00:00, 13.02it/s, loss=-27038.78, λc2D1=84.64, λd1=42.00, λd2=58.13, λd3=44.78]\n",
      "Epoch 276 [Validation]: 100%|██████████| 21/21 [00:01<00:00, 14.92it/s, loss=-27400.99]\n"
     ]
    },
    {
     "name": "stdout",
     "output_type": "stream",
     "text": [
      "\tTotal Loss (NLL + MDMM): -27052.15\n",
      "\tMDMM Loss:               1618.04\n",
      "\tRemaining Weights:       99.39 %\n"
     ]
    },
    {
     "name": "stderr",
     "output_type": "stream",
     "text": [
      "Epoch 277 [Training]: 100%|██████████| 84/84 [00:06<00:00, 13.26it/s, loss=-27043.94, λc2D1=84.94, λd1=42.18, λd2=58.35, λd3=44.91]\n",
      "Epoch 277 [Validation]: 100%|██████████| 21/21 [00:01<00:00, 14.77it/s, loss=-27434.05]\n"
     ]
    },
    {
     "name": "stdout",
     "output_type": "stream",
     "text": [
      "\tTotal Loss (NLL + MDMM): -27085.73\n",
      "\tMDMM Loss:               1624.05\n",
      "\tRemaining Weights:       99.45 %\n"
     ]
    },
    {
     "name": "stderr",
     "output_type": "stream",
     "text": [
      "Epoch 278 [Training]: 100%|██████████| 84/84 [00:06<00:00, 13.38it/s, loss=-27034.77, λc2D1=85.24, λd1=42.37, λd2=58.58, λd3=45.05]\n",
      "Epoch 278 [Validation]: 100%|██████████| 21/21 [00:01<00:00, 15.17it/s, loss=-27400.37]\n"
     ]
    },
    {
     "name": "stdout",
     "output_type": "stream",
     "text": [
      "\tTotal Loss (NLL + MDMM): -27050.65\n",
      "\tMDMM Loss:               1629.77\n",
      "\tRemaining Weights:       99.45 %\n"
     ]
    },
    {
     "name": "stderr",
     "output_type": "stream",
     "text": [
      "Epoch 279 [Training]: 100%|██████████| 84/84 [00:06<00:00, 13.25it/s, loss=-27043.44, λc2D1=85.53, λd1=42.55, λd2=58.80, λd3=45.19]\n",
      "Epoch 279 [Validation]: 100%|██████████| 21/21 [00:01<00:00, 14.78it/s, loss=-27431.29]\n"
     ]
    },
    {
     "name": "stdout",
     "output_type": "stream",
     "text": [
      "\tTotal Loss (NLL + MDMM): -27081.15\n",
      "\tMDMM Loss:               1635.57\n",
      "\tRemaining Weights:       99.34 %\n"
     ]
    },
    {
     "name": "stderr",
     "output_type": "stream",
     "text": [
      "Epoch 280 [Training]: 100%|██████████| 84/84 [00:06<00:00, 13.27it/s, loss=-27065.65, λc2D1=85.83, λd1=42.73, λd2=59.03, λd3=45.33]\n",
      "Epoch 280 [Validation]: 100%|██████████| 21/21 [00:01<00:00, 14.97it/s, loss=-27444.03]\n"
     ]
    },
    {
     "name": "stdout",
     "output_type": "stream",
     "text": [
      "\tTotal Loss (NLL + MDMM): -27093.10\n",
      "\tMDMM Loss:               1641.40\n",
      "\tRemaining Weights:       99.17 %\n"
     ]
    },
    {
     "name": "stderr",
     "output_type": "stream",
     "text": [
      "Epoch 281 [Training]: 100%|██████████| 84/84 [00:06<00:00, 13.43it/s, loss=-27064.38, λc2D1=86.13, λd1=42.92, λd2=59.25, λd3=45.46]\n",
      "Epoch 281 [Validation]: 100%|██████████| 21/21 [00:01<00:00, 14.74it/s, loss=-27435.82]\n"
     ]
    },
    {
     "name": "stdout",
     "output_type": "stream",
     "text": [
      "\tTotal Loss (NLL + MDMM): -27085.65\n",
      "\tMDMM Loss:               1647.07\n",
      "\tRemaining Weights:       99.23 %\n"
     ]
    },
    {
     "name": "stderr",
     "output_type": "stream",
     "text": [
      "Epoch 282 [Training]: 100%|██████████| 84/84 [00:06<00:00, 13.49it/s, loss=-27072.78, λc2D1=86.42, λd1=43.10, λd2=59.48, λd3=45.60]\n",
      "Epoch 282 [Validation]: 100%|██████████| 21/21 [00:01<00:00, 14.91it/s, loss=-27438.41]\n"
     ]
    },
    {
     "name": "stdout",
     "output_type": "stream",
     "text": [
      "\tTotal Loss (NLL + MDMM): -27084.91\n",
      "\tMDMM Loss:               1652.89\n",
      "\tRemaining Weights:       99.28 %\n"
     ]
    },
    {
     "name": "stderr",
     "output_type": "stream",
     "text": [
      "Epoch 283 [Training]: 100%|██████████| 84/84 [00:06<00:00, 13.23it/s, loss=-27082.15, λc2D1=86.72, λd1=43.29, λd2=59.70, λd3=45.74]\n",
      "Epoch 283 [Validation]: 100%|██████████| 21/21 [00:01<00:00, 14.77it/s, loss=-27437.60]\n"
     ]
    },
    {
     "name": "stdout",
     "output_type": "stream",
     "text": [
      "\tTotal Loss (NLL + MDMM): -27088.59\n",
      "\tMDMM Loss:               1658.84\n",
      "\tRemaining Weights:       99.28 %\n"
     ]
    },
    {
     "name": "stderr",
     "output_type": "stream",
     "text": [
      "Epoch 284 [Training]: 100%|██████████| 84/84 [00:06<00:00, 13.34it/s, loss=-27065.22, λc2D1=87.02, λd1=43.47, λd2=59.93, λd3=45.88]\n",
      "Epoch 284 [Validation]: 100%|██████████| 21/21 [00:01<00:00, 15.01it/s, loss=-27456.24]\n"
     ]
    },
    {
     "name": "stdout",
     "output_type": "stream",
     "text": [
      "\tTotal Loss (NLL + MDMM): -27107.35\n",
      "\tMDMM Loss:               1664.64\n",
      "\tRemaining Weights:       99.28 %\n"
     ]
    },
    {
     "name": "stderr",
     "output_type": "stream",
     "text": [
      "Epoch 285 [Training]: 100%|██████████| 84/84 [00:06<00:00, 13.22it/s, loss=-27089.10, λc2D1=87.31, λd1=43.66, λd2=60.16, λd3=46.01]\n",
      "Epoch 285 [Validation]: 100%|██████████| 21/21 [00:01<00:00, 14.57it/s, loss=-27466.25]\n"
     ]
    },
    {
     "name": "stdout",
     "output_type": "stream",
     "text": [
      "\tTotal Loss (NLL + MDMM): -27113.28\n",
      "\tMDMM Loss:               1670.28\n",
      "\tRemaining Weights:       99.34 %\n"
     ]
    },
    {
     "name": "stderr",
     "output_type": "stream",
     "text": [
      "Epoch 286 [Training]: 100%|██████████| 84/84 [00:06<00:00, 13.20it/s, loss=-27088.68, λc2D1=87.61, λd1=43.84, λd2=60.38, λd3=46.15]\n",
      "Epoch 286 [Validation]: 100%|██████████| 21/21 [00:01<00:00, 14.62it/s, loss=-27463.70]\n"
     ]
    },
    {
     "name": "stdout",
     "output_type": "stream",
     "text": [
      "\tTotal Loss (NLL + MDMM): -27113.80\n",
      "\tMDMM Loss:               1676.02\n",
      "\tRemaining Weights:       99.39 %\n"
     ]
    },
    {
     "name": "stderr",
     "output_type": "stream",
     "text": [
      "Epoch 287 [Training]: 100%|██████████| 84/84 [00:06<00:00, 13.35it/s, loss=-27081.59, λc2D1=87.90, λd1=44.03, λd2=60.61, λd3=46.29]\n",
      "Epoch 287 [Validation]: 100%|██████████| 21/21 [00:01<00:00, 14.91it/s, loss=-27444.28]\n"
     ]
    },
    {
     "name": "stdout",
     "output_type": "stream",
     "text": [
      "\tTotal Loss (NLL + MDMM): -27103.30\n",
      "\tMDMM Loss:               1681.82\n",
      "\tRemaining Weights:       99.28 %\n"
     ]
    },
    {
     "name": "stderr",
     "output_type": "stream",
     "text": [
      "Epoch 288 [Training]: 100%|██████████| 84/84 [00:06<00:00, 13.48it/s, loss=-27101.45, λc2D1=88.20, λd1=44.21, λd2=60.84, λd3=46.42]\n",
      "Epoch 288 [Validation]: 100%|██████████| 21/21 [00:01<00:00, 14.27it/s, loss=-27471.28]\n"
     ]
    },
    {
     "name": "stdout",
     "output_type": "stream",
     "text": [
      "\tTotal Loss (NLL + MDMM): -27120.95\n",
      "\tMDMM Loss:               1687.74\n",
      "\tRemaining Weights:       99.28 %\n"
     ]
    },
    {
     "name": "stderr",
     "output_type": "stream",
     "text": [
      "Epoch 289 [Training]: 100%|██████████| 84/84 [00:06<00:00, 13.35it/s, loss=-27083.24, λc2D1=88.49, λd1=44.40, λd2=61.06, λd3=46.56]\n",
      "Epoch 289 [Validation]: 100%|██████████| 21/21 [00:01<00:00, 15.01it/s, loss=-27461.52]\n"
     ]
    },
    {
     "name": "stdout",
     "output_type": "stream",
     "text": [
      "\tTotal Loss (NLL + MDMM): -27109.61\n",
      "\tMDMM Loss:               1693.44\n",
      "\tRemaining Weights:       99.28 %\n"
     ]
    },
    {
     "name": "stderr",
     "output_type": "stream",
     "text": [
      "Epoch 290 [Training]: 100%|██████████| 84/84 [00:06<00:00, 13.29it/s, loss=-27099.85, λc2D1=88.79, λd1=44.58, λd2=61.29, λd3=46.70]\n",
      "Epoch 290 [Validation]: 100%|██████████| 21/21 [00:01<00:00, 14.78it/s, loss=-27480.66]\n"
     ]
    },
    {
     "name": "stdout",
     "output_type": "stream",
     "text": [
      "\tTotal Loss (NLL + MDMM): -27132.31\n",
      "\tMDMM Loss:               1699.13\n",
      "\tRemaining Weights:       99.34 %\n"
     ]
    },
    {
     "name": "stderr",
     "output_type": "stream",
     "text": [
      "Epoch 291 [Training]: 100%|██████████| 84/84 [00:06<00:00, 13.28it/s, loss=-27106.29, λc2D1=89.08, λd1=44.77, λd2=61.52, λd3=46.84]\n",
      "Epoch 291 [Validation]: 100%|██████████| 21/21 [00:01<00:00, 14.35it/s, loss=-27477.81]\n"
     ]
    },
    {
     "name": "stdout",
     "output_type": "stream",
     "text": [
      "\tTotal Loss (NLL + MDMM): -27125.11\n",
      "\tMDMM Loss:               1704.78\n",
      "\tRemaining Weights:       99.39 %\n"
     ]
    },
    {
     "name": "stderr",
     "output_type": "stream",
     "text": [
      "Epoch 292 [Training]: 100%|██████████| 84/84 [00:06<00:00, 12.98it/s, loss=-27097.80, λc2D1=89.38, λd1=44.96, λd2=61.74, λd3=46.97]\n",
      "Epoch 292 [Validation]: 100%|██████████| 21/21 [00:01<00:00, 14.78it/s, loss=-27450.03]\n"
     ]
    },
    {
     "name": "stdout",
     "output_type": "stream",
     "text": [
      "\tTotal Loss (NLL + MDMM): -27102.35\n",
      "\tMDMM Loss:               1710.56\n",
      "\tRemaining Weights:       99.45 %\n"
     ]
    },
    {
     "name": "stderr",
     "output_type": "stream",
     "text": [
      "Epoch 293 [Training]: 100%|██████████| 84/84 [00:06<00:00, 13.22it/s, loss=-27112.64, λc2D1=89.67, λd1=45.14, λd2=61.97, λd3=47.11]\n",
      "Epoch 293 [Validation]: 100%|██████████| 21/21 [00:01<00:00, 14.77it/s, loss=-27492.07]\n"
     ]
    },
    {
     "name": "stdout",
     "output_type": "stream",
     "text": [
      "\tTotal Loss (NLL + MDMM): -27138.32\n",
      "\tMDMM Loss:               1716.35\n",
      "\tRemaining Weights:       99.50 %\n"
     ]
    },
    {
     "name": "stderr",
     "output_type": "stream",
     "text": [
      "Epoch 294 [Training]: 100%|██████████| 84/84 [00:06<00:00, 13.39it/s, loss=-27096.59, λc2D1=89.97, λd1=45.33, λd2=62.20, λd3=47.25]\n",
      "Epoch 294 [Validation]: 100%|██████████| 21/21 [00:01<00:00, 15.29it/s, loss=-27467.11]\n"
     ]
    },
    {
     "name": "stdout",
     "output_type": "stream",
     "text": [
      "\tTotal Loss (NLL + MDMM): -27115.42\n",
      "\tMDMM Loss:               1722.08\n",
      "\tRemaining Weights:       99.50 %\n"
     ]
    },
    {
     "name": "stderr",
     "output_type": "stream",
     "text": [
      "Epoch 295 [Training]: 100%|██████████| 84/84 [00:06<00:00, 13.47it/s, loss=-27113.58, λc2D1=90.26, λd1=45.51, λd2=62.43, λd3=47.38]\n",
      "Epoch 295 [Validation]: 100%|██████████| 21/21 [00:01<00:00, 14.79it/s, loss=-27483.89]\n"
     ]
    },
    {
     "name": "stdout",
     "output_type": "stream",
     "text": [
      "\tTotal Loss (NLL + MDMM): -27138.98\n",
      "\tMDMM Loss:               1727.63\n",
      "\tRemaining Weights:       99.39 %\n"
     ]
    },
    {
     "name": "stderr",
     "output_type": "stream",
     "text": [
      "Epoch 296 [Training]: 100%|██████████| 84/84 [00:06<00:00, 13.39it/s, loss=-27119.55, λc2D1=90.55, λd1=45.70, λd2=62.65, λd3=47.52]\n",
      "Epoch 296 [Validation]: 100%|██████████| 21/21 [00:01<00:00, 15.11it/s, loss=-27481.44]\n"
     ]
    },
    {
     "name": "stdout",
     "output_type": "stream",
     "text": [
      "\tTotal Loss (NLL + MDMM): -27130.55\n",
      "\tMDMM Loss:               1733.29\n",
      "\tRemaining Weights:       99.45 %\n"
     ]
    },
    {
     "name": "stderr",
     "output_type": "stream",
     "text": [
      "Epoch 297 [Training]: 100%|██████████| 84/84 [00:06<00:00, 13.40it/s, loss=-27118.32, λc2D1=90.85, λd1=45.89, λd2=62.88, λd3=47.66]\n",
      "Epoch 297 [Validation]: 100%|██████████| 21/21 [00:01<00:00, 14.88it/s, loss=-27492.62]\n"
     ]
    },
    {
     "name": "stdout",
     "output_type": "stream",
     "text": [
      "\tTotal Loss (NLL + MDMM): -27151.45\n",
      "\tMDMM Loss:               1739.21\n",
      "\tRemaining Weights:       99.50 %\n"
     ]
    },
    {
     "name": "stderr",
     "output_type": "stream",
     "text": [
      "Epoch 298 [Training]: 100%|██████████| 84/84 [00:06<00:00, 13.48it/s, loss=-27120.48, λc2D1=91.14, λd1=46.07, λd2=63.11, λd3=47.79]\n",
      "Epoch 298 [Validation]: 100%|██████████| 21/21 [00:01<00:00, 14.91it/s, loss=-27501.62]\n"
     ]
    },
    {
     "name": "stdout",
     "output_type": "stream",
     "text": [
      "\tTotal Loss (NLL + MDMM): -27154.94\n",
      "\tMDMM Loss:               1744.97\n",
      "\tRemaining Weights:       99.56 %\n"
     ]
    },
    {
     "name": "stderr",
     "output_type": "stream",
     "text": [
      "Epoch 299 [Training]: 100%|██████████| 84/84 [00:06<00:00, 13.40it/s, loss=-27123.14, λc2D1=91.44, λd1=46.26, λd2=63.34, λd3=47.93]\n",
      "Epoch 299 [Validation]: 100%|██████████| 21/21 [00:01<00:00, 12.55it/s, loss=-27487.95]\n"
     ]
    },
    {
     "name": "stdout",
     "output_type": "stream",
     "text": [
      "\tTotal Loss (NLL + MDMM): -27143.30\n",
      "\tMDMM Loss:               1750.49\n",
      "\tRemaining Weights:       99.56 %\n"
     ]
    },
    {
     "name": "stderr",
     "output_type": "stream",
     "text": [
      "Epoch 300 [Training]: 100%|██████████| 84/84 [00:06<00:00, 13.38it/s, loss=-27102.18, λc2D1=91.73, λd1=46.45, λd2=63.56, λd3=48.07]\n",
      "Epoch 300 [Validation]: 100%|██████████| 21/21 [00:01<00:00, 14.80it/s, loss=-27475.41]\n"
     ]
    },
    {
     "name": "stdout",
     "output_type": "stream",
     "text": [
      "\tTotal Loss (NLL + MDMM): -27125.95\n",
      "\tMDMM Loss:               1756.26\n",
      "\tRemaining Weights:       99.50 %\n"
     ]
    },
    {
     "name": "stderr",
     "output_type": "stream",
     "text": [
      "Epoch 301 [Training]: 100%|██████████| 84/84 [00:06<00:00, 13.27it/s, loss=-27133.26, λc2D1=92.02, λd1=46.63, λd2=63.79, λd3=48.20]\n",
      "Epoch 301 [Validation]: 100%|██████████| 21/21 [00:01<00:00, 14.91it/s, loss=-27503.31]\n"
     ]
    },
    {
     "name": "stdout",
     "output_type": "stream",
     "text": [
      "\tTotal Loss (NLL + MDMM): -27155.91\n",
      "\tMDMM Loss:               1761.84\n",
      "\tRemaining Weights:       99.56 %\n"
     ]
    },
    {
     "name": "stderr",
     "output_type": "stream",
     "text": [
      "Epoch 302 [Training]: 100%|██████████| 84/84 [00:06<00:00, 13.31it/s, loss=-27109.56, λc2D1=92.32, λd1=46.82, λd2=64.02, λd3=48.34]\n",
      "Epoch 302 [Validation]: 100%|██████████| 21/21 [00:01<00:00, 14.32it/s, loss=-27496.44]\n"
     ]
    },
    {
     "name": "stdout",
     "output_type": "stream",
     "text": [
      "\tTotal Loss (NLL + MDMM): -27142.85\n",
      "\tMDMM Loss:               1767.46\n",
      "\tRemaining Weights:       99.56 %\n"
     ]
    },
    {
     "name": "stderr",
     "output_type": "stream",
     "text": [
      "Epoch 303 [Training]: 100%|██████████| 84/84 [00:06<00:00, 13.10it/s, loss=-27137.09, λc2D1=92.61, λd1=47.01, λd2=64.25, λd3=48.48]\n",
      "Epoch 303 [Validation]: 100%|██████████| 21/21 [00:01<00:00, 15.07it/s, loss=-27507.61]\n"
     ]
    },
    {
     "name": "stdout",
     "output_type": "stream",
     "text": [
      "\tTotal Loss (NLL + MDMM): -27159.03\n",
      "\tMDMM Loss:               1773.09\n",
      "\tRemaining Weights:       99.50 %\n"
     ]
    },
    {
     "name": "stderr",
     "output_type": "stream",
     "text": [
      "Epoch 304 [Training]: 100%|██████████| 84/84 [00:06<00:00, 13.11it/s, loss=-27142.54, λc2D1=92.90, λd1=47.19, λd2=64.48, λd3=48.61]\n",
      "Epoch 304 [Validation]: 100%|██████████| 21/21 [00:01<00:00, 14.85it/s, loss=-27495.25]\n"
     ]
    },
    {
     "name": "stdout",
     "output_type": "stream",
     "text": [
      "\tTotal Loss (NLL + MDMM): -27148.81\n",
      "\tMDMM Loss:               1778.67\n",
      "\tRemaining Weights:       99.56 %\n"
     ]
    },
    {
     "name": "stderr",
     "output_type": "stream",
     "text": [
      "Epoch 305 [Training]: 100%|██████████| 84/84 [00:06<00:00, 13.24it/s, loss=-27140.35, λc2D1=93.19, λd1=47.38, λd2=64.70, λd3=48.75]\n",
      "Epoch 305 [Validation]: 100%|██████████| 21/21 [00:01<00:00, 14.62it/s, loss=-27512.32]\n"
     ]
    },
    {
     "name": "stdout",
     "output_type": "stream",
     "text": [
      "\tTotal Loss (NLL + MDMM): -27165.08\n",
      "\tMDMM Loss:               1784.25\n",
      "\tRemaining Weights:       99.56 %\n"
     ]
    },
    {
     "name": "stderr",
     "output_type": "stream",
     "text": [
      "Epoch 306 [Training]: 100%|██████████| 84/84 [00:06<00:00, 13.25it/s, loss=-27145.26, λc2D1=93.49, λd1=47.57, λd2=64.93, λd3=48.89]\n",
      "Epoch 306 [Validation]: 100%|██████████| 21/21 [00:01<00:00, 14.97it/s, loss=-27536.06]\n"
     ]
    },
    {
     "name": "stdout",
     "output_type": "stream",
     "text": [
      "\tTotal Loss (NLL + MDMM): -27186.37\n",
      "\tMDMM Loss:               1789.96\n",
      "\tRemaining Weights:       99.50 %\n"
     ]
    },
    {
     "name": "stderr",
     "output_type": "stream",
     "text": [
      "Epoch 307 [Training]: 100%|██████████| 84/84 [00:06<00:00, 13.41it/s, loss=-27150.25, λc2D1=93.78, λd1=47.76, λd2=65.16, λd3=49.02]\n",
      "Epoch 307 [Validation]: 100%|██████████| 21/21 [00:01<00:00, 14.80it/s, loss=-27513.76]\n"
     ]
    },
    {
     "name": "stdout",
     "output_type": "stream",
     "text": [
      "\tTotal Loss (NLL + MDMM): -27171.72\n",
      "\tMDMM Loss:               1795.60\n",
      "\tRemaining Weights:       99.50 %\n"
     ]
    },
    {
     "name": "stderr",
     "output_type": "stream",
     "text": [
      "Epoch 308 [Training]: 100%|██████████| 84/84 [00:06<00:00, 13.30it/s, loss=-27149.35, λc2D1=94.07, λd1=47.94, λd2=65.39, λd3=49.16]\n",
      "Epoch 308 [Validation]: 100%|██████████| 21/21 [00:01<00:00, 14.63it/s, loss=-27532.47]\n"
     ]
    },
    {
     "name": "stdout",
     "output_type": "stream",
     "text": [
      "\tTotal Loss (NLL + MDMM): -27187.87\n",
      "\tMDMM Loss:               1801.14\n",
      "\tRemaining Weights:       99.34 %\n"
     ]
    },
    {
     "name": "stderr",
     "output_type": "stream",
     "text": [
      "Epoch 309 [Training]: 100%|██████████| 84/84 [00:06<00:00, 13.43it/s, loss=-27161.87, λc2D1=94.36, λd1=48.13, λd2=65.62, λd3=49.29]\n",
      "Epoch 309 [Validation]: 100%|██████████| 21/21 [00:01<00:00, 14.71it/s, loss=-27533.94]\n"
     ]
    },
    {
     "name": "stdout",
     "output_type": "stream",
     "text": [
      "\tTotal Loss (NLL + MDMM): -27181.33\n",
      "\tMDMM Loss:               1806.66\n",
      "\tRemaining Weights:       99.39 %\n"
     ]
    },
    {
     "name": "stderr",
     "output_type": "stream",
     "text": [
      "Epoch 310 [Training]: 100%|██████████| 84/84 [00:06<00:00, 13.34it/s, loss=-27150.07, λc2D1=94.65, λd1=48.32, λd2=65.85, λd3=49.43]\n",
      "Epoch 310 [Validation]: 100%|██████████| 21/21 [00:01<00:00, 14.92it/s, loss=-27514.49]\n"
     ]
    },
    {
     "name": "stdout",
     "output_type": "stream",
     "text": [
      "\tTotal Loss (NLL + MDMM): -27163.61\n",
      "\tMDMM Loss:               1812.10\n",
      "\tRemaining Weights:       99.28 %\n"
     ]
    },
    {
     "name": "stderr",
     "output_type": "stream",
     "text": [
      "Epoch 311 [Training]: 100%|██████████| 84/84 [00:06<00:00, 13.29it/s, loss=-27160.59, λc2D1=94.94, λd1=48.51, λd2=66.08, λd3=49.57]\n",
      "Epoch 311 [Validation]: 100%|██████████| 21/21 [00:01<00:00, 14.52it/s, loss=-27519.18]\n"
     ]
    },
    {
     "name": "stdout",
     "output_type": "stream",
     "text": [
      "\tTotal Loss (NLL + MDMM): -27173.03\n",
      "\tMDMM Loss:               1817.88\n",
      "\tRemaining Weights:       99.28 %\n"
     ]
    },
    {
     "name": "stderr",
     "output_type": "stream",
     "text": [
      "Epoch 312 [Training]: 100%|██████████| 84/84 [00:06<00:00, 13.40it/s, loss=-27155.46, λc2D1=95.23, λd1=48.70, λd2=66.31, λd3=49.70]\n",
      "Epoch 312 [Validation]: 100%|██████████| 21/21 [00:01<00:00, 14.60it/s, loss=-27531.26]\n"
     ]
    },
    {
     "name": "stdout",
     "output_type": "stream",
     "text": [
      "\tTotal Loss (NLL + MDMM): -27185.47\n",
      "\tMDMM Loss:               1822.96\n",
      "\tRemaining Weights:       99.23 %\n"
     ]
    },
    {
     "name": "stderr",
     "output_type": "stream",
     "text": [
      "Epoch 313 [Training]: 100%|██████████| 84/84 [00:06<00:00, 13.19it/s, loss=-27159.75, λc2D1=95.52, λd1=48.88, λd2=66.53, λd3=49.84]\n",
      "Epoch 313 [Validation]: 100%|██████████| 21/21 [00:01<00:00, 14.01it/s, loss=-27539.89]\n"
     ]
    },
    {
     "name": "stdout",
     "output_type": "stream",
     "text": [
      "\tTotal Loss (NLL + MDMM): -27192.45\n",
      "\tMDMM Loss:               1828.64\n",
      "\tRemaining Weights:       99.45 %\n"
     ]
    },
    {
     "name": "stderr",
     "output_type": "stream",
     "text": [
      "Epoch 314 [Training]: 100%|██████████| 84/84 [00:06<00:00, 13.28it/s, loss=-27160.57, λc2D1=95.81, λd1=49.07, λd2=66.76, λd3=49.97]\n",
      "Epoch 314 [Validation]: 100%|██████████| 21/21 [00:01<00:00, 14.83it/s, loss=-27522.27]\n"
     ]
    },
    {
     "name": "stdout",
     "output_type": "stream",
     "text": [
      "\tTotal Loss (NLL + MDMM): -27179.55\n",
      "\tMDMM Loss:               1834.30\n",
      "\tRemaining Weights:       99.45 %\n"
     ]
    },
    {
     "name": "stderr",
     "output_type": "stream",
     "text": [
      "Epoch 315 [Training]: 100%|██████████| 84/84 [00:06<00:00, 13.19it/s, loss=-27166.76, λc2D1=96.10, λd1=49.26, λd2=66.99, λd3=50.11]\n",
      "Epoch 315 [Validation]: 100%|██████████| 21/21 [00:01<00:00, 14.74it/s, loss=-27532.94]\n"
     ]
    },
    {
     "name": "stdout",
     "output_type": "stream",
     "text": [
      "\tTotal Loss (NLL + MDMM): -27182.82\n",
      "\tMDMM Loss:               1839.95\n",
      "\tRemaining Weights:       99.50 %\n"
     ]
    },
    {
     "name": "stderr",
     "output_type": "stream",
     "text": [
      "Epoch 316 [Training]: 100%|██████████| 84/84 [00:06<00:00, 13.37it/s, loss=-27167.30, λc2D1=96.39, λd1=49.45, λd2=67.22, λd3=50.25]\n",
      "Epoch 316 [Validation]: 100%|██████████| 21/21 [00:01<00:00, 14.56it/s, loss=-27535.67]\n"
     ]
    },
    {
     "name": "stdout",
     "output_type": "stream",
     "text": [
      "\tTotal Loss (NLL + MDMM): -27187.30\n",
      "\tMDMM Loss:               1845.59\n",
      "\tRemaining Weights:       99.28 %\n"
     ]
    },
    {
     "name": "stderr",
     "output_type": "stream",
     "text": [
      "Epoch 317 [Training]: 100%|██████████| 84/84 [00:06<00:00, 13.11it/s, loss=-27178.21, λc2D1=96.68, λd1=49.64, λd2=67.45, λd3=50.38]\n",
      "Epoch 317 [Validation]: 100%|██████████| 21/21 [00:01<00:00, 14.37it/s, loss=-27537.51]\n"
     ]
    },
    {
     "name": "stdout",
     "output_type": "stream",
     "text": [
      "\tTotal Loss (NLL + MDMM): -27193.53\n",
      "\tMDMM Loss:               1851.32\n",
      "\tRemaining Weights:       99.39 %\n"
     ]
    },
    {
     "name": "stderr",
     "output_type": "stream",
     "text": [
      "Epoch 318 [Training]: 100%|██████████| 84/84 [00:06<00:00, 13.18it/s, loss=-27179.20, λc2D1=96.97, λd1=49.82, λd2=67.68, λd3=50.52]\n",
      "Epoch 318 [Validation]: 100%|██████████| 21/21 [00:01<00:00, 14.55it/s, loss=-27543.48]\n"
     ]
    },
    {
     "name": "stdout",
     "output_type": "stream",
     "text": [
      "\tTotal Loss (NLL + MDMM): -27196.72\n",
      "\tMDMM Loss:               1856.95\n",
      "\tRemaining Weights:       99.28 %\n"
     ]
    },
    {
     "name": "stderr",
     "output_type": "stream",
     "text": [
      "Epoch 319 [Training]: 100%|██████████| 84/84 [00:06<00:00, 13.21it/s, loss=-27158.76, λc2D1=97.26, λd1=50.01, λd2=67.91, λd3=50.65]\n",
      "Epoch 319 [Validation]: 100%|██████████| 21/21 [00:01<00:00, 14.72it/s, loss=-27538.89]\n"
     ]
    },
    {
     "name": "stdout",
     "output_type": "stream",
     "text": [
      "\tTotal Loss (NLL + MDMM): -27199.21\n",
      "\tMDMM Loss:               1862.50\n",
      "\tRemaining Weights:       99.39 %\n"
     ]
    },
    {
     "name": "stderr",
     "output_type": "stream",
     "text": [
      "Epoch 320 [Training]: 100%|██████████| 84/84 [00:06<00:00, 13.09it/s, loss=-27173.41, λc2D1=97.55, λd1=50.20, λd2=68.14, λd3=50.79]\n",
      "Epoch 320 [Validation]: 100%|██████████| 21/21 [00:01<00:00, 14.70it/s, loss=-27523.54]\n"
     ]
    },
    {
     "name": "stdout",
     "output_type": "stream",
     "text": [
      "\tTotal Loss (NLL + MDMM): -27183.27\n",
      "\tMDMM Loss:               1868.22\n",
      "\tRemaining Weights:       99.39 %\n"
     ]
    },
    {
     "name": "stderr",
     "output_type": "stream",
     "text": [
      "Epoch 321 [Training]: 100%|██████████| 84/84 [00:06<00:00, 13.30it/s, loss=-27175.83, λc2D1=97.84, λd1=50.39, λd2=68.37, λd3=50.93]\n",
      "Epoch 321 [Validation]: 100%|██████████| 21/21 [00:01<00:00, 14.82it/s, loss=-27528.11]\n"
     ]
    },
    {
     "name": "stdout",
     "output_type": "stream",
     "text": [
      "\tTotal Loss (NLL + MDMM): -27182.87\n",
      "\tMDMM Loss:               1873.84\n",
      "\tRemaining Weights:       99.39 %\n"
     ]
    },
    {
     "name": "stderr",
     "output_type": "stream",
     "text": [
      "Epoch 322 [Training]: 100%|██████████| 84/84 [00:06<00:00, 13.30it/s, loss=-27176.72, λc2D1=98.13, λd1=50.58, λd2=68.60, λd3=51.06]\n",
      "Epoch 322 [Validation]: 100%|██████████| 21/21 [00:01<00:00, 15.03it/s, loss=-27538.59]\n"
     ]
    },
    {
     "name": "stdout",
     "output_type": "stream",
     "text": [
      "\tTotal Loss (NLL + MDMM): -27194.28\n",
      "\tMDMM Loss:               1879.34\n",
      "\tRemaining Weights:       99.34 %\n"
     ]
    },
    {
     "name": "stderr",
     "output_type": "stream",
     "text": [
      "Epoch 323 [Training]: 100%|██████████| 84/84 [00:06<00:00, 13.24it/s, loss=-27190.75, λc2D1=98.42, λd1=50.77, λd2=68.83, λd3=51.20]\n",
      "Epoch 323 [Validation]: 100%|██████████| 21/21 [00:01<00:00, 14.62it/s, loss=-27552.15]\n"
     ]
    },
    {
     "name": "stdout",
     "output_type": "stream",
     "text": [
      "\tTotal Loss (NLL + MDMM): -27207.17\n",
      "\tMDMM Loss:               1884.93\n",
      "\tRemaining Weights:       99.23 %\n"
     ]
    },
    {
     "name": "stderr",
     "output_type": "stream",
     "text": [
      "Epoch 324 [Training]: 100%|██████████| 84/84 [00:06<00:00, 13.03it/s, loss=-27182.79, λc2D1=98.71, λd1=50.96, λd2=69.06, λd3=51.33]\n",
      "Epoch 324 [Validation]: 100%|██████████| 21/21 [00:01<00:00, 14.29it/s, loss=-27546.31]\n"
     ]
    },
    {
     "name": "stdout",
     "output_type": "stream",
     "text": [
      "\tTotal Loss (NLL + MDMM): -27200.23\n",
      "\tMDMM Loss:               1890.51\n",
      "\tRemaining Weights:       99.34 %\n"
     ]
    },
    {
     "name": "stderr",
     "output_type": "stream",
     "text": [
      "Epoch 325 [Training]: 100%|██████████| 84/84 [00:06<00:00, 13.17it/s, loss=-27185.85, λc2D1=99.00, λd1=51.15, λd2=69.29, λd3=51.47]\n",
      "Epoch 325 [Validation]: 100%|██████████| 21/21 [00:01<00:00, 14.87it/s, loss=-27558.91]\n"
     ]
    },
    {
     "name": "stdout",
     "output_type": "stream",
     "text": [
      "\tTotal Loss (NLL + MDMM): -27218.22\n",
      "\tMDMM Loss:               1896.09\n",
      "\tRemaining Weights:       99.23 %\n"
     ]
    },
    {
     "name": "stderr",
     "output_type": "stream",
     "text": [
      "Epoch 326 [Training]: 100%|██████████| 84/84 [00:06<00:00, 13.13it/s, loss=-27190.83, λc2D1=99.29, λd1=51.34, λd2=69.52, λd3=51.60]\n",
      "Epoch 326 [Validation]: 100%|██████████| 21/21 [00:01<00:00, 14.54it/s, loss=-27548.61]\n"
     ]
    },
    {
     "name": "stdout",
     "output_type": "stream",
     "text": [
      "\tTotal Loss (NLL + MDMM): -27211.48\n",
      "\tMDMM Loss:               1901.65\n",
      "\tRemaining Weights:       99.17 %\n"
     ]
    },
    {
     "name": "stderr",
     "output_type": "stream",
     "text": [
      "Epoch 327 [Training]: 100%|██████████| 84/84 [00:06<00:00, 12.98it/s, loss=-27182.66, λc2D1=99.58, λd1=51.53, λd2=69.75, λd3=51.74]\n",
      "Epoch 327 [Validation]: 100%|██████████| 21/21 [00:01<00:00, 14.52it/s, loss=-27532.71]\n"
     ]
    },
    {
     "name": "stdout",
     "output_type": "stream",
     "text": [
      "\tTotal Loss (NLL + MDMM): -27191.11\n",
      "\tMDMM Loss:               1907.26\n",
      "\tRemaining Weights:       99.12 %\n"
     ]
    },
    {
     "name": "stderr",
     "output_type": "stream",
     "text": [
      "Epoch 328 [Training]: 100%|██████████| 84/84 [00:06<00:00, 13.27it/s, loss=-27168.82, λc2D1=99.87, λd1=51.72, λd2=69.98, λd3=51.88]\n",
      "Epoch 328 [Validation]: 100%|██████████| 21/21 [00:01<00:00, 14.90it/s, loss=-27508.19]\n"
     ]
    },
    {
     "name": "stdout",
     "output_type": "stream",
     "text": [
      "\tTotal Loss (NLL + MDMM): -27163.59\n",
      "\tMDMM Loss:               1912.98\n",
      "\tRemaining Weights:       99.17 %\n"
     ]
    },
    {
     "name": "stderr",
     "output_type": "stream",
     "text": [
      "Epoch 329 [Training]: 100%|██████████| 84/84 [00:06<00:00, 13.25it/s, loss=-27201.92, λc2D1=100.16, λd1=51.91, λd2=70.21, λd3=52.01]\n",
      "Epoch 329 [Validation]: 100%|██████████| 21/21 [00:01<00:00, 14.56it/s, loss=-27569.22]\n"
     ]
    },
    {
     "name": "stdout",
     "output_type": "stream",
     "text": [
      "\tTotal Loss (NLL + MDMM): -27224.08\n",
      "\tMDMM Loss:               1918.55\n",
      "\tRemaining Weights:       99.28 %\n"
     ]
    },
    {
     "name": "stderr",
     "output_type": "stream",
     "text": [
      "Epoch 330 [Training]: 100%|██████████| 84/84 [00:06<00:00, 13.47it/s, loss=-27199.42, λc2D1=100.45, λd1=52.10, λd2=70.44, λd3=52.15]\n",
      "Epoch 330 [Validation]: 100%|██████████| 21/21 [00:01<00:00, 14.69it/s, loss=-27561.91]\n"
     ]
    },
    {
     "name": "stdout",
     "output_type": "stream",
     "text": [
      "\tTotal Loss (NLL + MDMM): -27222.95\n",
      "\tMDMM Loss:               1923.86\n",
      "\tRemaining Weights:       99.28 %\n"
     ]
    },
    {
     "name": "stderr",
     "output_type": "stream",
     "text": [
      "Epoch 331 [Training]: 100%|██████████| 84/84 [00:06<00:00, 12.93it/s, loss=-27187.55, λc2D1=100.74, λd1=52.28, λd2=70.67, λd3=52.28]\n",
      "Epoch 331 [Validation]: 100%|██████████| 21/21 [00:01<00:00, 14.54it/s, loss=-27553.32]\n"
     ]
    },
    {
     "name": "stdout",
     "output_type": "stream",
     "text": [
      "\tTotal Loss (NLL + MDMM): -27213.39\n",
      "\tMDMM Loss:               1929.44\n",
      "\tRemaining Weights:       99.12 %\n"
     ]
    },
    {
     "name": "stderr",
     "output_type": "stream",
     "text": [
      "Epoch 332 [Training]: 100%|██████████| 84/84 [00:06<00:00, 13.32it/s, loss=-27175.77, λc2D1=101.03, λd1=52.47, λd2=70.91, λd3=52.42]\n",
      "Epoch 332 [Validation]: 100%|██████████| 21/21 [00:01<00:00, 14.82it/s, loss=-27519.70]\n"
     ]
    },
    {
     "name": "stdout",
     "output_type": "stream",
     "text": [
      "\tTotal Loss (NLL + MDMM): -27176.57\n",
      "\tMDMM Loss:               1934.97\n",
      "\tRemaining Weights:       99.23 %\n"
     ]
    },
    {
     "name": "stderr",
     "output_type": "stream",
     "text": [
      "Epoch 333 [Training]: 100%|██████████| 84/84 [00:06<00:00, 13.00it/s, loss=-27201.03, λc2D1=101.31, λd1=52.66, λd2=71.14, λd3=52.55]\n",
      "Epoch 333 [Validation]: 100%|██████████| 21/21 [00:01<00:00, 14.65it/s, loss=-27543.74]\n"
     ]
    },
    {
     "name": "stdout",
     "output_type": "stream",
     "text": [
      "\tTotal Loss (NLL + MDMM): -27198.93\n",
      "\tMDMM Loss:               1940.58\n",
      "\tRemaining Weights:       99.28 %\n"
     ]
    },
    {
     "name": "stderr",
     "output_type": "stream",
     "text": [
      "Epoch 334 [Training]: 100%|██████████| 84/84 [00:06<00:00, 13.32it/s, loss=-27203.49, λc2D1=101.60, λd1=52.85, λd2=71.37, λd3=52.69]\n",
      "Epoch 334 [Validation]: 100%|██████████| 21/21 [00:01<00:00, 14.96it/s, loss=-27552.93]\n"
     ]
    },
    {
     "name": "stdout",
     "output_type": "stream",
     "text": [
      "\tTotal Loss (NLL + MDMM): -27211.54\n",
      "\tMDMM Loss:               1946.18\n",
      "\tRemaining Weights:       99.34 %\n"
     ]
    },
    {
     "name": "stderr",
     "output_type": "stream",
     "text": [
      "Epoch 335 [Training]: 100%|██████████| 84/84 [00:06<00:00, 13.39it/s, loss=-27196.84, λc2D1=101.89, λd1=53.05, λd2=71.60, λd3=52.82]\n",
      "Epoch 335 [Validation]: 100%|██████████| 21/21 [00:01<00:00, 14.93it/s, loss=-27531.70]\n"
     ]
    },
    {
     "name": "stdout",
     "output_type": "stream",
     "text": [
      "\tTotal Loss (NLL + MDMM): -27186.11\n",
      "\tMDMM Loss:               1951.68\n",
      "\tRemaining Weights:       99.34 %\n"
     ]
    },
    {
     "name": "stderr",
     "output_type": "stream",
     "text": [
      "Epoch 336 [Training]: 100%|██████████| 84/84 [00:06<00:00, 13.43it/s, loss=-27206.70, λc2D1=102.18, λd1=53.24, λd2=71.83, λd3=52.96]\n",
      "Epoch 336 [Validation]: 100%|██████████| 21/21 [00:01<00:00, 14.87it/s, loss=-27544.58]\n"
     ]
    },
    {
     "name": "stdout",
     "output_type": "stream",
     "text": [
      "\tTotal Loss (NLL + MDMM): -27205.36\n",
      "\tMDMM Loss:               1957.31\n",
      "\tRemaining Weights:       99.17 %\n"
     ]
    },
    {
     "name": "stderr",
     "output_type": "stream",
     "text": [
      "Epoch 337 [Training]: 100%|██████████| 84/84 [00:06<00:00, 13.44it/s, loss=-27198.84, λc2D1=102.47, λd1=53.43, λd2=72.06, λd3=53.09]\n",
      "Epoch 337 [Validation]: 100%|██████████| 21/21 [00:01<00:00, 14.97it/s, loss=-27561.19]\n"
     ]
    },
    {
     "name": "stdout",
     "output_type": "stream",
     "text": [
      "\tTotal Loss (NLL + MDMM): -27223.46\n",
      "\tMDMM Loss:               1962.63\n",
      "\tRemaining Weights:       99.17 %\n"
     ]
    },
    {
     "name": "stderr",
     "output_type": "stream",
     "text": [
      "Epoch 338 [Training]: 100%|██████████| 84/84 [00:06<00:00, 13.38it/s, loss=-27202.26, λc2D1=102.76, λd1=53.62, λd2=72.29, λd3=53.23]\n",
      "Epoch 338 [Validation]: 100%|██████████| 21/21 [00:01<00:00, 15.00it/s, loss=-27552.95]\n"
     ]
    },
    {
     "name": "stdout",
     "output_type": "stream",
     "text": [
      "\tTotal Loss (NLL + MDMM): -27212.83\n",
      "\tMDMM Loss:               1968.33\n",
      "\tRemaining Weights:       99.17 %\n"
     ]
    },
    {
     "name": "stderr",
     "output_type": "stream",
     "text": [
      "Epoch 339 [Training]: 100%|██████████| 84/84 [00:06<00:00, 13.30it/s, loss=-27206.54, λc2D1=103.04, λd1=53.81, λd2=72.52, λd3=53.36]\n",
      "Epoch 339 [Validation]: 100%|██████████| 21/21 [00:01<00:00, 14.75it/s, loss=-27545.68]\n"
     ]
    },
    {
     "name": "stdout",
     "output_type": "stream",
     "text": [
      "\tTotal Loss (NLL + MDMM): -27206.69\n",
      "\tMDMM Loss:               1973.83\n",
      "\tRemaining Weights:       99.12 %\n"
     ]
    },
    {
     "name": "stderr",
     "output_type": "stream",
     "text": [
      "Epoch 340 [Training]: 100%|██████████| 84/84 [00:06<00:00, 13.47it/s, loss=-27215.53, λc2D1=103.33, λd1=54.00, λd2=72.76, λd3=53.50]\n",
      "Epoch 340 [Validation]: 100%|██████████| 21/21 [00:01<00:00, 15.13it/s, loss=-27560.83]\n"
     ]
    },
    {
     "name": "stdout",
     "output_type": "stream",
     "text": [
      "\tTotal Loss (NLL + MDMM): -27219.41\n",
      "\tMDMM Loss:               1979.40\n",
      "\tRemaining Weights:       99.12 %\n"
     ]
    },
    {
     "name": "stderr",
     "output_type": "stream",
     "text": [
      "Epoch 341 [Training]: 100%|██████████| 84/84 [00:06<00:00, 13.41it/s, loss=-27220.67, λc2D1=103.62, λd1=54.19, λd2=72.99, λd3=53.63]\n",
      "Epoch 341 [Validation]: 100%|██████████| 21/21 [00:01<00:00, 15.01it/s, loss=-27571.12]\n"
     ]
    },
    {
     "name": "stdout",
     "output_type": "stream",
     "text": [
      "\tTotal Loss (NLL + MDMM): -27227.99\n",
      "\tMDMM Loss:               1984.71\n",
      "\tRemaining Weights:       99.06 %\n"
     ]
    },
    {
     "name": "stderr",
     "output_type": "stream",
     "text": [
      "Epoch 342 [Training]: 100%|██████████| 84/84 [00:06<00:00, 13.52it/s, loss=-27219.35, λc2D1=103.91, λd1=54.38, λd2=73.22, λd3=53.77]\n",
      "Epoch 342 [Validation]: 100%|██████████| 21/21 [00:01<00:00, 14.84it/s, loss=-27562.68]\n"
     ]
    },
    {
     "name": "stdout",
     "output_type": "stream",
     "text": [
      "\tTotal Loss (NLL + MDMM): -27223.93\n",
      "\tMDMM Loss:               1990.17\n",
      "\tRemaining Weights:       99.06 %\n"
     ]
    },
    {
     "name": "stderr",
     "output_type": "stream",
     "text": [
      "Epoch 343 [Training]: 100%|██████████| 84/84 [00:06<00:00, 13.46it/s, loss=-27209.96, λc2D1=104.20, λd1=54.57, λd2=73.45, λd3=53.90]\n",
      "Epoch 343 [Validation]: 100%|██████████| 21/21 [00:01<00:00, 14.84it/s, loss=-27567.68]\n"
     ]
    },
    {
     "name": "stdout",
     "output_type": "stream",
     "text": [
      "\tTotal Loss (NLL + MDMM): -27230.99\n",
      "\tMDMM Loss:               1995.58\n",
      "\tRemaining Weights:       99.06 %\n"
     ]
    },
    {
     "name": "stderr",
     "output_type": "stream",
     "text": [
      "Epoch 344 [Training]: 100%|██████████| 84/84 [00:06<00:00, 13.54it/s, loss=-27215.56, λc2D1=104.48, λd1=54.76, λd2=73.68, λd3=54.04]\n",
      "Epoch 344 [Validation]: 100%|██████████| 21/21 [00:01<00:00, 15.04it/s, loss=-27569.26]\n"
     ]
    },
    {
     "name": "stdout",
     "output_type": "stream",
     "text": [
      "\tTotal Loss (NLL + MDMM): -27229.47\n",
      "\tMDMM Loss:               2000.89\n",
      "\tRemaining Weights:       99.06 %\n"
     ]
    },
    {
     "name": "stderr",
     "output_type": "stream",
     "text": [
      "Epoch 345 [Training]: 100%|██████████| 84/84 [00:06<00:00, 13.10it/s, loss=-27198.24, λc2D1=104.77, λd1=54.95, λd2=73.91, λd3=54.17]\n",
      "Epoch 345 [Validation]: 100%|██████████| 21/21 [00:01<00:00, 14.89it/s, loss=-27518.96]\n"
     ]
    },
    {
     "name": "stdout",
     "output_type": "stream",
     "text": [
      "\tTotal Loss (NLL + MDMM): -27173.10\n",
      "\tMDMM Loss:               2006.65\n",
      "\tRemaining Weights:       99.17 %\n"
     ]
    },
    {
     "name": "stderr",
     "output_type": "stream",
     "text": [
      "Epoch 346 [Training]: 100%|██████████| 84/84 [00:06<00:00, 13.33it/s, loss=-27213.53, λc2D1=105.06, λd1=55.14, λd2=74.15, λd3=54.31]\n",
      "Epoch 346 [Validation]: 100%|██████████| 21/21 [00:01<00:00, 14.63it/s, loss=-27541.72]\n"
     ]
    },
    {
     "name": "stdout",
     "output_type": "stream",
     "text": [
      "\tTotal Loss (NLL + MDMM): -27197.53\n",
      "\tMDMM Loss:               2012.10\n",
      "\tRemaining Weights:       99.34 %\n"
     ]
    },
    {
     "name": "stderr",
     "output_type": "stream",
     "text": [
      "Epoch 347 [Training]: 100%|██████████| 84/84 [00:06<00:00, 13.01it/s, loss=-27215.88, λc2D1=105.35, λd1=55.33, λd2=74.38, λd3=54.44]\n",
      "Epoch 347 [Validation]: 100%|██████████| 21/21 [00:01<00:00, 14.63it/s, loss=-27558.94]\n"
     ]
    },
    {
     "name": "stdout",
     "output_type": "stream",
     "text": [
      "\tTotal Loss (NLL + MDMM): -27217.02\n",
      "\tMDMM Loss:               2017.42\n",
      "\tRemaining Weights:       99.28 %\n"
     ]
    },
    {
     "name": "stderr",
     "output_type": "stream",
     "text": [
      "Epoch 348 [Training]: 100%|██████████| 84/84 [00:06<00:00, 13.31it/s, loss=-27219.31, λc2D1=105.63, λd1=55.53, λd2=74.61, λd3=54.58]\n",
      "Epoch 348 [Validation]: 100%|██████████| 21/21 [00:01<00:00, 14.79it/s, loss=-27547.09]\n"
     ]
    },
    {
     "name": "stdout",
     "output_type": "stream",
     "text": [
      "\tTotal Loss (NLL + MDMM): -27208.39\n",
      "\tMDMM Loss:               2023.01\n",
      "\tRemaining Weights:       99.34 %\n"
     ]
    },
    {
     "name": "stderr",
     "output_type": "stream",
     "text": [
      "Epoch 349 [Training]: 100%|██████████| 84/84 [00:06<00:00, 13.21it/s, loss=-27229.85, λc2D1=105.92, λd1=55.72, λd2=74.84, λd3=54.71]\n",
      "Epoch 349 [Validation]: 100%|██████████| 21/21 [00:01<00:00, 14.77it/s, loss=-27578.42]\n"
     ]
    },
    {
     "name": "stdout",
     "output_type": "stream",
     "text": [
      "\tTotal Loss (NLL + MDMM): -27244.93\n",
      "\tMDMM Loss:               2028.09\n",
      "\tRemaining Weights:       99.28 %\n"
     ]
    },
    {
     "name": "stderr",
     "output_type": "stream",
     "text": [
      "Epoch 350 [Training]: 100%|██████████| 84/84 [00:06<00:00, 13.40it/s, loss=-27229.35, λc2D1=106.21, λd1=55.91, λd2=75.08, λd3=54.85]\n",
      "Epoch 350 [Validation]: 100%|██████████| 21/21 [00:01<00:00, 15.05it/s, loss=-27571.62]\n"
     ]
    },
    {
     "name": "stdout",
     "output_type": "stream",
     "text": [
      "\tTotal Loss (NLL + MDMM): -27233.42\n",
      "\tMDMM Loss:               2033.44\n",
      "\tRemaining Weights:       99.28 %\n"
     ]
    },
    {
     "name": "stderr",
     "output_type": "stream",
     "text": [
      "Epoch 351 [Training]: 100%|██████████| 84/84 [00:06<00:00, 13.33it/s, loss=-27215.80, λc2D1=106.50, λd1=56.10, λd2=75.31, λd3=54.98]\n",
      "Epoch 351 [Validation]: 100%|██████████| 21/21 [00:01<00:00, 14.89it/s, loss=-27541.37]\n"
     ]
    },
    {
     "name": "stdout",
     "output_type": "stream",
     "text": [
      "\tTotal Loss (NLL + MDMM): -27202.14\n",
      "\tMDMM Loss:               2038.92\n",
      "\tRemaining Weights:       99.34 %\n"
     ]
    },
    {
     "name": "stderr",
     "output_type": "stream",
     "text": [
      "Epoch 352 [Training]: 100%|██████████| 84/84 [00:06<00:00, 13.28it/s, loss=-27236.24, λc2D1=106.78, λd1=56.29, λd2=75.54, λd3=55.12]\n",
      "Epoch 352 [Validation]: 100%|██████████| 21/21 [00:01<00:00, 14.93it/s, loss=-27591.27]\n"
     ]
    },
    {
     "name": "stdout",
     "output_type": "stream",
     "text": [
      "\tTotal Loss (NLL + MDMM): -27248.33\n",
      "\tMDMM Loss:               2044.19\n",
      "\tRemaining Weights:       99.34 %\n"
     ]
    },
    {
     "name": "stderr",
     "output_type": "stream",
     "text": [
      "Epoch 353 [Training]: 100%|██████████| 84/84 [00:06<00:00, 13.29it/s, loss=-27225.94, λc2D1=107.07, λd1=56.48, λd2=75.77, λd3=55.25]\n",
      "Epoch 353 [Validation]: 100%|██████████| 21/21 [00:01<00:00, 14.62it/s, loss=-27573.45]\n"
     ]
    },
    {
     "name": "stdout",
     "output_type": "stream",
     "text": [
      "\tTotal Loss (NLL + MDMM): -27232.88\n",
      "\tMDMM Loss:               2049.91\n",
      "\tRemaining Weights:       99.39 %\n"
     ]
    },
    {
     "name": "stderr",
     "output_type": "stream",
     "text": [
      "Epoch 354 [Training]: 100%|██████████| 84/84 [00:06<00:00, 13.46it/s, loss=-27220.75, λc2D1=107.36, λd1=56.68, λd2=76.01, λd3=55.39]\n",
      "Epoch 354 [Validation]: 100%|██████████| 21/21 [00:01<00:00, 14.93it/s, loss=-27567.97]\n"
     ]
    },
    {
     "name": "stdout",
     "output_type": "stream",
     "text": [
      "\tTotal Loss (NLL + MDMM): -27232.87\n",
      "\tMDMM Loss:               2055.26\n",
      "\tRemaining Weights:       99.45 %\n"
     ]
    },
    {
     "name": "stderr",
     "output_type": "stream",
     "text": [
      "Epoch 355 [Training]: 100%|██████████| 84/84 [00:06<00:00, 13.30it/s, loss=-27229.16, λc2D1=107.64, λd1=56.87, λd2=76.24, λd3=55.52]\n",
      "Epoch 355 [Validation]: 100%|██████████| 21/21 [00:01<00:00, 14.21it/s, loss=-27549.51]\n"
     ]
    },
    {
     "name": "stdout",
     "output_type": "stream",
     "text": [
      "\tTotal Loss (NLL + MDMM): -27215.81\n",
      "\tMDMM Loss:               2060.56\n",
      "\tRemaining Weights:       99.45 %\n"
     ]
    },
    {
     "name": "stderr",
     "output_type": "stream",
     "text": [
      "Epoch 356 [Training]: 100%|██████████| 84/84 [00:06<00:00, 13.40it/s, loss=-27226.25, λc2D1=107.93, λd1=57.06, λd2=76.47, λd3=55.66]\n",
      "Epoch 356 [Validation]: 100%|██████████| 21/21 [00:01<00:00, 15.09it/s, loss=-27545.03]\n"
     ]
    },
    {
     "name": "stdout",
     "output_type": "stream",
     "text": [
      "\tTotal Loss (NLL + MDMM): -27208.11\n",
      "\tMDMM Loss:               2066.02\n",
      "\tRemaining Weights:       99.45 %\n"
     ]
    },
    {
     "name": "stderr",
     "output_type": "stream",
     "text": [
      "Epoch 357 [Training]: 100%|██████████| 84/84 [00:06<00:00, 13.28it/s, loss=-27216.54, λc2D1=108.22, λd1=57.25, λd2=76.71, λd3=55.79]\n",
      "Epoch 357 [Validation]: 100%|██████████| 21/21 [00:01<00:00, 15.03it/s, loss=-27550.81]\n"
     ]
    },
    {
     "name": "stdout",
     "output_type": "stream",
     "text": [
      "\tTotal Loss (NLL + MDMM): -27207.02\n",
      "\tMDMM Loss:               2071.43\n",
      "\tRemaining Weights:       99.34 %\n"
     ]
    },
    {
     "name": "stderr",
     "output_type": "stream",
     "text": [
      "Epoch 358 [Training]: 100%|██████████| 84/84 [00:06<00:00, 13.23it/s, loss=-27221.84, λc2D1=108.51, λd1=57.45, λd2=76.94, λd3=55.92]\n",
      "Epoch 358 [Validation]: 100%|██████████| 21/21 [00:01<00:00, 14.43it/s, loss=-27534.66]\n"
     ]
    },
    {
     "name": "stdout",
     "output_type": "stream",
     "text": [
      "\tTotal Loss (NLL + MDMM): -27201.04\n",
      "\tMDMM Loss:               2076.78\n",
      "\tRemaining Weights:       99.50 %\n"
     ]
    },
    {
     "name": "stderr",
     "output_type": "stream",
     "text": [
      "Epoch 359 [Training]: 100%|██████████| 84/84 [00:06<00:00, 13.30it/s, loss=-27237.33, λc2D1=108.79, λd1=57.64, λd2=77.17, λd3=56.06]\n",
      "Epoch 359 [Validation]: 100%|██████████| 21/21 [00:01<00:00, 14.68it/s, loss=-27576.87]\n"
     ]
    },
    {
     "name": "stdout",
     "output_type": "stream",
     "text": [
      "\tTotal Loss (NLL + MDMM): -27236.80\n",
      "\tMDMM Loss:               2081.86\n",
      "\tRemaining Weights:       99.45 %\n"
     ]
    },
    {
     "name": "stderr",
     "output_type": "stream",
     "text": [
      "Epoch 360 [Training]: 100%|██████████| 84/84 [00:06<00:00, 13.26it/s, loss=-27239.83, λc2D1=109.08, λd1=57.83, λd2=77.40, λd3=56.19]\n",
      "Epoch 360 [Validation]: 100%|██████████| 21/21 [00:01<00:00, 14.87it/s, loss=-27572.29]\n"
     ]
    },
    {
     "name": "stdout",
     "output_type": "stream",
     "text": [
      "\tTotal Loss (NLL + MDMM): -27237.46\n",
      "\tMDMM Loss:               2087.27\n",
      "\tRemaining Weights:       99.39 %\n"
     ]
    },
    {
     "name": "stderr",
     "output_type": "stream",
     "text": [
      "Epoch 361 [Training]: 100%|██████████| 84/84 [00:06<00:00, 13.20it/s, loss=-27235.21, λc2D1=109.36, λd1=58.02, λd2=77.64, λd3=56.33]\n",
      "Epoch 361 [Validation]: 100%|██████████| 21/21 [00:01<00:00, 14.99it/s, loss=-27587.26]\n"
     ]
    },
    {
     "name": "stdout",
     "output_type": "stream",
     "text": [
      "\tTotal Loss (NLL + MDMM): -27251.43\n",
      "\tMDMM Loss:               2092.42\n",
      "\tRemaining Weights:       99.34 %\n"
     ]
    },
    {
     "name": "stderr",
     "output_type": "stream",
     "text": [
      "Epoch 362 [Training]: 100%|██████████| 84/84 [00:06<00:00, 13.28it/s, loss=-27233.39, λc2D1=109.65, λd1=58.22, λd2=77.87, λd3=56.46]\n",
      "Epoch 362 [Validation]: 100%|██████████| 21/21 [00:01<00:00, 14.90it/s, loss=-27573.08]\n"
     ]
    },
    {
     "name": "stdout",
     "output_type": "stream",
     "text": [
      "\tTotal Loss (NLL + MDMM): -27238.67\n",
      "\tMDMM Loss:               2097.73\n",
      "\tRemaining Weights:       99.34 %\n"
     ]
    },
    {
     "name": "stderr",
     "output_type": "stream",
     "text": [
      "Epoch 363 [Training]: 100%|██████████| 84/84 [00:06<00:00, 13.37it/s, loss=-27236.88, λc2D1=109.94, λd1=58.41, λd2=78.10, λd3=56.60]\n",
      "Epoch 363 [Validation]: 100%|██████████| 21/21 [00:01<00:00, 14.81it/s, loss=-27565.00]\n"
     ]
    },
    {
     "name": "stdout",
     "output_type": "stream",
     "text": [
      "\tTotal Loss (NLL + MDMM): -27224.04\n",
      "\tMDMM Loss:               2103.10\n",
      "\tRemaining Weights:       99.39 %\n"
     ]
    },
    {
     "name": "stderr",
     "output_type": "stream",
     "text": [
      "Epoch 364 [Training]: 100%|██████████| 84/84 [00:06<00:00, 13.06it/s, loss=-27241.25, λc2D1=110.22, λd1=58.60, λd2=78.34, λd3=56.73]\n",
      "Epoch 364 [Validation]: 100%|██████████| 21/21 [00:01<00:00, 14.94it/s, loss=-27573.35]\n"
     ]
    },
    {
     "name": "stdout",
     "output_type": "stream",
     "text": [
      "\tTotal Loss (NLL + MDMM): -27239.74\n",
      "\tMDMM Loss:               2108.42\n",
      "\tRemaining Weights:       99.39 %\n"
     ]
    },
    {
     "name": "stderr",
     "output_type": "stream",
     "text": [
      "Epoch 365 [Training]: 100%|██████████| 84/84 [00:06<00:00, 13.17it/s, loss=-27234.38, λc2D1=110.51, λd1=58.80, λd2=78.57, λd3=56.86]\n",
      "Epoch 365 [Validation]: 100%|██████████| 21/21 [00:01<00:00, 14.36it/s, loss=-27536.39]\n"
     ]
    },
    {
     "name": "stdout",
     "output_type": "stream",
     "text": [
      "\tTotal Loss (NLL + MDMM): -27208.22\n",
      "\tMDMM Loss:               2113.64\n",
      "\tRemaining Weights:       99.39 %\n"
     ]
    },
    {
     "name": "stderr",
     "output_type": "stream",
     "text": [
      "Epoch 366 [Training]: 100%|██████████| 84/84 [00:06<00:00, 13.06it/s, loss=-27244.06, λc2D1=110.79, λd1=58.99, λd2=78.81, λd3=57.00]\n",
      "Epoch 366 [Validation]: 100%|██████████| 21/21 [00:01<00:00, 14.58it/s, loss=-27558.41]\n"
     ]
    },
    {
     "name": "stdout",
     "output_type": "stream",
     "text": [
      "\tTotal Loss (NLL + MDMM): -27220.88\n",
      "\tMDMM Loss:               2119.07\n",
      "\tRemaining Weights:       99.39 %\n"
     ]
    },
    {
     "name": "stderr",
     "output_type": "stream",
     "text": [
      "Epoch 367 [Training]: 100%|██████████| 84/84 [00:06<00:00, 13.14it/s, loss=-27253.86, λc2D1=111.08, λd1=59.18, λd2=79.04, λd3=57.13]\n",
      "Epoch 367 [Validation]: 100%|██████████| 21/21 [00:01<00:00, 14.71it/s, loss=-27601.31]\n"
     ]
    },
    {
     "name": "stdout",
     "output_type": "stream",
     "text": [
      "\tTotal Loss (NLL + MDMM): -27265.83\n",
      "\tMDMM Loss:               2115.20\n",
      "\tRemaining Weights:       99.34 %\n"
     ]
    },
    {
     "name": "stderr",
     "output_type": "stream",
     "text": [
      "Epoch 368 [Training]: 100%|██████████| 84/84 [00:06<00:00, 13.41it/s, loss=-27249.79, λc2D1=111.37, λd1=59.37, λd2=79.27, λd3=57.27]\n",
      "Epoch 368 [Validation]: 100%|██████████| 21/21 [00:01<00:00, 14.98it/s, loss=-27586.47]\n"
     ]
    },
    {
     "name": "stdout",
     "output_type": "stream",
     "text": [
      "\tTotal Loss (NLL + MDMM): -27249.54\n",
      "\tMDMM Loss:               2120.53\n",
      "\tRemaining Weights:       99.28 %\n"
     ]
    },
    {
     "name": "stderr",
     "output_type": "stream",
     "text": [
      "Epoch 369 [Training]: 100%|██████████| 84/84 [00:06<00:00, 13.51it/s, loss=-27245.13, λc2D1=111.65, λd1=59.57, λd2=79.51, λd3=57.40]\n",
      "Epoch 369 [Validation]: 100%|██████████| 21/21 [00:01<00:00, 15.05it/s, loss=-27565.32]\n"
     ]
    },
    {
     "name": "stdout",
     "output_type": "stream",
     "text": [
      "\tTotal Loss (NLL + MDMM): -27228.09\n",
      "\tMDMM Loss:               2126.02\n",
      "\tRemaining Weights:       99.23 %\n"
     ]
    },
    {
     "name": "stderr",
     "output_type": "stream",
     "text": [
      "Epoch 370 [Training]: 100%|██████████| 84/84 [00:06<00:00, 13.43it/s, loss=-27244.21, λc2D1=111.94, λd1=59.76, λd2=79.74, λd3=57.53]\n",
      "Epoch 370 [Validation]: 100%|██████████| 21/21 [00:01<00:00, 14.82it/s, loss=-27576.36]\n"
     ]
    },
    {
     "name": "stdout",
     "output_type": "stream",
     "text": [
      "\tTotal Loss (NLL + MDMM): -27237.46\n",
      "\tMDMM Loss:               2131.09\n",
      "\tRemaining Weights:       99.34 %\n"
     ]
    },
    {
     "name": "stderr",
     "output_type": "stream",
     "text": [
      "Epoch 371 [Training]: 100%|██████████| 84/84 [00:06<00:00, 13.29it/s, loss=-27252.98, λc2D1=112.22, λd1=59.96, λd2=79.98, λd3=57.67]\n",
      "Epoch 371 [Validation]: 100%|██████████| 21/21 [00:01<00:00, 14.74it/s, loss=-27567.70]\n"
     ]
    },
    {
     "name": "stdout",
     "output_type": "stream",
     "text": [
      "\tTotal Loss (NLL + MDMM): -27235.19\n",
      "\tMDMM Loss:               2134.51\n",
      "\tRemaining Weights:       99.34 %\n"
     ]
    },
    {
     "name": "stderr",
     "output_type": "stream",
     "text": [
      "Epoch 372 [Training]: 100%|██████████| 84/84 [00:06<00:00, 13.33it/s, loss=-27262.04, λc2D1=112.50, λd1=60.15, λd2=80.21, λd3=57.80]\n",
      "Epoch 372 [Validation]: 100%|██████████| 21/21 [00:01<00:00, 14.74it/s, loss=-27601.04]\n"
     ]
    },
    {
     "name": "stdout",
     "output_type": "stream",
     "text": [
      "\tTotal Loss (NLL + MDMM): -27261.93\n",
      "\tMDMM Loss:               2139.81\n",
      "\tRemaining Weights:       99.28 %\n"
     ]
    },
    {
     "name": "stderr",
     "output_type": "stream",
     "text": [
      "Epoch 373 [Training]: 100%|██████████| 84/84 [00:06<00:00, 13.31it/s, loss=-27247.45, λc2D1=112.79, λd1=60.34, λd2=80.44, λd3=57.94]\n",
      "Epoch 373 [Validation]: 100%|██████████| 21/21 [00:01<00:00, 15.02it/s, loss=-27565.50]\n"
     ]
    },
    {
     "name": "stdout",
     "output_type": "stream",
     "text": [
      "\tTotal Loss (NLL + MDMM): -27229.58\n",
      "\tMDMM Loss:               2145.24\n",
      "\tRemaining Weights:       99.28 %\n"
     ]
    },
    {
     "name": "stderr",
     "output_type": "stream",
     "text": [
      "Epoch 374 [Training]: 100%|██████████| 84/84 [00:06<00:00, 13.38it/s, loss=-27228.63, λc2D1=113.07, λd1=60.54, λd2=80.68, λd3=58.07]\n",
      "Epoch 374 [Validation]: 100%|██████████| 21/21 [00:01<00:00, 14.89it/s, loss=-27533.13]\n"
     ]
    },
    {
     "name": "stdout",
     "output_type": "stream",
     "text": [
      "\tTotal Loss (NLL + MDMM): -27198.86\n",
      "\tMDMM Loss:               2150.53\n",
      "\tRemaining Weights:       99.28 %\n"
     ]
    },
    {
     "name": "stderr",
     "output_type": "stream",
     "text": [
      "Epoch 375 [Training]: 100%|██████████| 84/84 [00:06<00:00, 13.37it/s, loss=-27257.36, λc2D1=113.35, λd1=60.73, λd2=80.91, λd3=58.20]\n",
      "Epoch 375 [Validation]: 100%|██████████| 21/21 [00:01<00:00, 14.30it/s, loss=-27584.77]\n"
     ]
    },
    {
     "name": "stdout",
     "output_type": "stream",
     "text": [
      "\tTotal Loss (NLL + MDMM): -27244.84\n",
      "\tMDMM Loss:               2155.66\n",
      "\tRemaining Weights:       99.28 %\n"
     ]
    },
    {
     "name": "stderr",
     "output_type": "stream",
     "text": [
      "Epoch 376 [Training]: 100%|██████████| 84/84 [00:06<00:00, 13.07it/s, loss=-27245.09, λc2D1=113.64, λd1=60.92, λd2=81.14, λd3=58.34]\n",
      "Epoch 376 [Validation]: 100%|██████████| 21/21 [00:01<00:00, 15.08it/s, loss=-27554.02]\n"
     ]
    },
    {
     "name": "stdout",
     "output_type": "stream",
     "text": [
      "\tTotal Loss (NLL + MDMM): -27218.73\n",
      "\tMDMM Loss:               2161.12\n",
      "\tRemaining Weights:       99.17 %\n"
     ]
    },
    {
     "name": "stderr",
     "output_type": "stream",
     "text": [
      "Epoch 377 [Training]: 100%|██████████| 84/84 [00:06<00:00, 13.34it/s, loss=-27242.62, λc2D1=113.92, λd1=61.12, λd2=81.38, λd3=58.47]\n",
      "Epoch 377 [Validation]: 100%|██████████| 21/21 [00:01<00:00, 14.54it/s, loss=-27576.26]\n"
     ]
    },
    {
     "name": "stdout",
     "output_type": "stream",
     "text": [
      "\tTotal Loss (NLL + MDMM): -27242.53\n",
      "\tMDMM Loss:               2166.29\n",
      "\tRemaining Weights:       99.17 %\n"
     ]
    },
    {
     "name": "stderr",
     "output_type": "stream",
     "text": [
      "Epoch 378 [Training]: 100%|██████████| 84/84 [00:06<00:00, 13.34it/s, loss=-27245.29, λc2D1=114.20, λd1=61.31, λd2=81.61, λd3=58.60]\n",
      "Epoch 378 [Validation]: 100%|██████████| 21/21 [00:01<00:00, 14.68it/s, loss=-27577.93]\n"
     ]
    },
    {
     "name": "stdout",
     "output_type": "stream",
     "text": [
      "\tTotal Loss (NLL + MDMM): -27243.31\n",
      "\tMDMM Loss:               2171.46\n",
      "\tRemaining Weights:       99.12 %\n"
     ]
    },
    {
     "name": "stderr",
     "output_type": "stream",
     "text": [
      "Epoch 379 [Training]: 100%|██████████| 84/84 [00:06<00:00, 13.30it/s, loss=-27257.82, λc2D1=114.49, λd1=61.51, λd2=81.85, λd3=58.74]\n",
      "Epoch 379 [Validation]: 100%|██████████| 21/21 [00:01<00:00, 14.52it/s, loss=-27570.91]\n"
     ]
    },
    {
     "name": "stdout",
     "output_type": "stream",
     "text": [
      "\tTotal Loss (NLL + MDMM): -27231.38\n",
      "\tMDMM Loss:               2176.79\n",
      "\tRemaining Weights:       99.06 %\n"
     ]
    },
    {
     "name": "stderr",
     "output_type": "stream",
     "text": [
      "Epoch 380 [Training]: 100%|██████████| 84/84 [00:06<00:00, 13.41it/s, loss=-27249.67, λc2D1=114.77, λd1=61.70, λd2=82.08, λd3=58.87]\n",
      "Epoch 380 [Validation]: 100%|██████████| 21/21 [00:01<00:00, 14.85it/s, loss=-27562.64]\n"
     ]
    },
    {
     "name": "stdout",
     "output_type": "stream",
     "text": [
      "\tTotal Loss (NLL + MDMM): -27223.75\n",
      "\tMDMM Loss:               2181.81\n",
      "\tRemaining Weights:       99.06 %\n"
     ]
    },
    {
     "name": "stderr",
     "output_type": "stream",
     "text": [
      "Epoch 381 [Training]: 100%|██████████| 84/84 [00:06<00:00, 13.43it/s, loss=-27243.51, λc2D1=115.05, λd1=61.89, λd2=82.32, λd3=59.01]\n",
      "Epoch 381 [Validation]: 100%|██████████| 21/21 [00:01<00:00, 14.99it/s, loss=-27558.26]\n"
     ]
    },
    {
     "name": "stdout",
     "output_type": "stream",
     "text": [
      "\tTotal Loss (NLL + MDMM): -27222.04\n",
      "\tMDMM Loss:               2187.24\n",
      "\tRemaining Weights:       99.12 %\n"
     ]
    },
    {
     "name": "stderr",
     "output_type": "stream",
     "text": [
      "Epoch 382 [Training]: 100%|██████████| 84/84 [00:06<00:00, 13.36it/s, loss=-27237.00, λc2D1=115.33, λd1=62.09, λd2=82.55, λd3=59.14]\n",
      "Epoch 382 [Validation]: 100%|██████████| 21/21 [00:01<00:00, 14.97it/s, loss=-27539.29]\n"
     ]
    },
    {
     "name": "stdout",
     "output_type": "stream",
     "text": [
      "\tTotal Loss (NLL + MDMM): -27209.09\n",
      "\tMDMM Loss:               2192.56\n",
      "\tRemaining Weights:       99.01 %\n"
     ]
    },
    {
     "name": "stderr",
     "output_type": "stream",
     "text": [
      "Epoch 383 [Training]: 100%|██████████| 84/84 [00:06<00:00, 13.41it/s, loss=-27242.25, λc2D1=115.61, λd1=62.28, λd2=82.79, λd3=59.27]\n",
      "Epoch 383 [Validation]: 100%|██████████| 21/21 [00:01<00:00, 14.57it/s, loss=-27566.35]\n"
     ]
    },
    {
     "name": "stdout",
     "output_type": "stream",
     "text": [
      "\tTotal Loss (NLL + MDMM): -27229.83\n",
      "\tMDMM Loss:               2197.56\n",
      "\tRemaining Weights:       99.01 %\n"
     ]
    },
    {
     "name": "stderr",
     "output_type": "stream",
     "text": [
      "Epoch 384 [Training]: 100%|██████████| 84/84 [00:06<00:00, 13.09it/s, loss=-27241.48, λc2D1=115.90, λd1=62.48, λd2=83.02, λd3=59.41]\n",
      "Epoch 384 [Validation]: 100%|██████████| 21/21 [00:01<00:00, 14.94it/s, loss=-27564.67]\n"
     ]
    },
    {
     "name": "stdout",
     "output_type": "stream",
     "text": [
      "\tTotal Loss (NLL + MDMM): -27233.85\n",
      "\tMDMM Loss:               2202.54\n",
      "\tRemaining Weights:       99.01 %\n"
     ]
    },
    {
     "name": "stderr",
     "output_type": "stream",
     "text": [
      "Epoch 385 [Training]: 100%|██████████| 84/84 [00:06<00:00, 13.20it/s, loss=-27249.77, λc2D1=116.18, λd1=62.67, λd2=83.26, λd3=59.54]\n",
      "Epoch 385 [Validation]: 100%|██████████| 21/21 [00:01<00:00, 14.83it/s, loss=-27556.00]\n"
     ]
    },
    {
     "name": "stdout",
     "output_type": "stream",
     "text": [
      "\tTotal Loss (NLL + MDMM): -27219.94\n",
      "\tMDMM Loss:               2207.97\n",
      "\tRemaining Weights:       99.06 %\n"
     ]
    },
    {
     "name": "stderr",
     "output_type": "stream",
     "text": [
      "Epoch 386 [Training]: 100%|██████████| 84/84 [00:06<00:00, 13.42it/s, loss=-27259.24, λc2D1=116.46, λd1=62.87, λd2=83.49, λd3=59.67]\n",
      "Epoch 386 [Validation]: 100%|██████████| 21/21 [00:01<00:00, 14.38it/s, loss=-27578.30]\n"
     ]
    },
    {
     "name": "stdout",
     "output_type": "stream",
     "text": [
      "\tTotal Loss (NLL + MDMM): -27242.86\n",
      "\tMDMM Loss:               2213.21\n",
      "\tRemaining Weights:       98.95 %\n"
     ]
    },
    {
     "name": "stderr",
     "output_type": "stream",
     "text": [
      "Epoch 387 [Training]: 100%|██████████| 84/84 [00:06<00:00, 13.24it/s, loss=-27252.18, λc2D1=116.74, λd1=63.06, λd2=83.73, λd3=59.81]\n",
      "Epoch 387 [Validation]: 100%|██████████| 21/21 [00:01<00:00, 14.60it/s, loss=-27570.21]\n"
     ]
    },
    {
     "name": "stdout",
     "output_type": "stream",
     "text": [
      "\tTotal Loss (NLL + MDMM): -27233.71\n",
      "\tMDMM Loss:               2218.40\n",
      "\tRemaining Weights:       99.01 %\n"
     ]
    },
    {
     "name": "stderr",
     "output_type": "stream",
     "text": [
      "Epoch 388 [Training]: 100%|██████████| 84/84 [00:06<00:00, 13.01it/s, loss=-27253.28, λc2D1=117.02, λd1=63.26, λd2=83.96, λd3=59.94]\n",
      "Epoch 388 [Validation]: 100%|██████████| 21/21 [00:01<00:00, 14.65it/s, loss=-27565.44]\n"
     ]
    },
    {
     "name": "stdout",
     "output_type": "stream",
     "text": [
      "\tTotal Loss (NLL + MDMM): -27230.02\n",
      "\tMDMM Loss:               2223.48\n",
      "\tRemaining Weights:       99.01 %\n"
     ]
    },
    {
     "name": "stderr",
     "output_type": "stream",
     "text": [
      "Epoch 389 [Training]: 100%|██████████| 84/84 [00:06<00:00, 13.32it/s, loss=-27265.43, λc2D1=117.31, λd1=63.45, λd2=84.20, λd3=60.07]\n",
      "Epoch 389 [Validation]: 100%|██████████| 21/21 [00:01<00:00, 14.59it/s, loss=-27597.90]\n"
     ]
    },
    {
     "name": "stdout",
     "output_type": "stream",
     "text": [
      "\tTotal Loss (NLL + MDMM): -27261.48\n",
      "\tMDMM Loss:               2228.39\n",
      "\tRemaining Weights:       99.12 %\n"
     ]
    },
    {
     "name": "stderr",
     "output_type": "stream",
     "text": [
      "Epoch 390 [Training]: 100%|██████████| 84/84 [00:06<00:00, 13.42it/s, loss=-27256.92, λc2D1=117.59, λd1=63.65, λd2=84.43, λd3=60.21]\n",
      "Epoch 390 [Validation]: 100%|██████████| 21/21 [00:01<00:00, 14.89it/s, loss=-27582.21]\n"
     ]
    },
    {
     "name": "stdout",
     "output_type": "stream",
     "text": [
      "\tTotal Loss (NLL + MDMM): -27245.58\n",
      "\tMDMM Loss:               2233.73\n",
      "\tRemaining Weights:       99.12 %\n"
     ]
    },
    {
     "name": "stderr",
     "output_type": "stream",
     "text": [
      "Epoch 391 [Training]: 100%|██████████| 84/84 [00:06<00:00, 13.46it/s, loss=-27258.35, λc2D1=117.87, λd1=63.84, λd2=84.67, λd3=60.34]\n",
      "Epoch 391 [Validation]: 100%|██████████| 21/21 [00:01<00:00, 14.47it/s, loss=-27569.09]\n"
     ]
    },
    {
     "name": "stdout",
     "output_type": "stream",
     "text": [
      "\tTotal Loss (NLL + MDMM): -27234.13\n",
      "\tMDMM Loss:               2238.83\n",
      "\tRemaining Weights:       99.12 %\n"
     ]
    },
    {
     "name": "stderr",
     "output_type": "stream",
     "text": [
      "Epoch 392 [Training]: 100%|██████████| 84/84 [00:06<00:00, 13.52it/s, loss=-27259.18, λc2D1=118.15, λd1=64.04, λd2=84.90, λd3=60.47]\n",
      "Epoch 392 [Validation]: 100%|██████████| 21/21 [00:01<00:00, 14.90it/s, loss=-27583.79]\n"
     ]
    },
    {
     "name": "stdout",
     "output_type": "stream",
     "text": [
      "\tTotal Loss (NLL + MDMM): -27244.88\n",
      "\tMDMM Loss:               2243.78\n",
      "\tRemaining Weights:       99.06 %\n"
     ]
    },
    {
     "name": "stderr",
     "output_type": "stream",
     "text": [
      "Epoch 393 [Training]: 100%|██████████| 84/84 [00:06<00:00, 13.21it/s, loss=-27257.27, λc2D1=118.43, λd1=64.23, λd2=85.14, λd3=60.60]\n",
      "Epoch 393 [Validation]: 100%|██████████| 21/21 [00:01<00:00, 14.27it/s, loss=-27555.33]\n"
     ]
    },
    {
     "name": "stdout",
     "output_type": "stream",
     "text": [
      "\tTotal Loss (NLL + MDMM): -27220.31\n",
      "\tMDMM Loss:               2249.19\n",
      "\tRemaining Weights:       99.17 %\n"
     ]
    },
    {
     "name": "stderr",
     "output_type": "stream",
     "text": [
      "Epoch 394 [Training]: 100%|██████████| 84/84 [00:06<00:00, 13.14it/s, loss=-27257.64, λc2D1=118.71, λd1=64.43, λd2=85.37, λd3=60.74]\n",
      "Epoch 394 [Validation]: 100%|██████████| 21/21 [00:01<00:00, 14.37it/s, loss=-27551.60]\n"
     ]
    },
    {
     "name": "stdout",
     "output_type": "stream",
     "text": [
      "\tTotal Loss (NLL + MDMM): -27221.80\n",
      "\tMDMM Loss:               2254.45\n",
      "\tRemaining Weights:       99.23 %\n"
     ]
    },
    {
     "name": "stderr",
     "output_type": "stream",
     "text": [
      "Epoch 395 [Training]: 100%|██████████| 84/84 [00:06<00:00, 13.17it/s, loss=-27260.28, λc2D1=118.99, λd1=64.62, λd2=85.61, λd3=60.87]\n",
      "Epoch 395 [Validation]: 100%|██████████| 21/21 [00:01<00:00, 14.51it/s, loss=-27584.06]\n"
     ]
    },
    {
     "name": "stdout",
     "output_type": "stream",
     "text": [
      "\tTotal Loss (NLL + MDMM): -27252.39\n",
      "\tMDMM Loss:               2259.22\n",
      "\tRemaining Weights:       99.23 %\n"
     ]
    },
    {
     "name": "stderr",
     "output_type": "stream",
     "text": [
      "Epoch 396 [Training]: 100%|██████████| 84/84 [00:06<00:00, 13.35it/s, loss=-27266.21, λc2D1=119.27, λd1=64.82, λd2=85.84, λd3=61.00]\n",
      "Epoch 396 [Validation]: 100%|██████████| 21/21 [00:01<00:00, 14.99it/s, loss=-27591.02]\n"
     ]
    },
    {
     "name": "stdout",
     "output_type": "stream",
     "text": [
      "\tTotal Loss (NLL + MDMM): -27251.29\n",
      "\tMDMM Loss:               2264.25\n",
      "\tRemaining Weights:       99.23 %\n"
     ]
    },
    {
     "name": "stderr",
     "output_type": "stream",
     "text": [
      "Epoch 397 [Training]: 100%|██████████| 84/84 [00:06<00:00, 13.37it/s, loss=-27242.50, λc2D1=119.55, λd1=65.01, λd2=86.08, λd3=61.14]\n",
      "Epoch 397 [Validation]: 100%|██████████| 21/21 [00:01<00:00, 14.92it/s, loss=-27555.28]\n"
     ]
    },
    {
     "name": "stdout",
     "output_type": "stream",
     "text": [
      "\tTotal Loss (NLL + MDMM): -27225.67\n",
      "\tMDMM Loss:               2269.57\n",
      "\tRemaining Weights:       99.28 %\n"
     ]
    },
    {
     "name": "stderr",
     "output_type": "stream",
     "text": [
      "Epoch 398 [Training]: 100%|██████████| 84/84 [00:06<00:00, 13.34it/s, loss=-27237.88, λc2D1=119.83, λd1=65.21, λd2=86.32, λd3=61.27]\n",
      "Epoch 398 [Validation]: 100%|██████████| 21/21 [00:01<00:00, 14.49it/s, loss=-27558.33]\n"
     ]
    },
    {
     "name": "stdout",
     "output_type": "stream",
     "text": [
      "\tTotal Loss (NLL + MDMM): -27224.07\n",
      "\tMDMM Loss:               2274.64\n",
      "\tRemaining Weights:       99.34 %\n"
     ]
    },
    {
     "name": "stderr",
     "output_type": "stream",
     "text": [
      "Epoch 399 [Training]: 100%|██████████| 84/84 [00:06<00:00, 13.43it/s, loss=-27251.61, λc2D1=120.11, λd1=65.40, λd2=86.55, λd3=61.40]\n",
      "Epoch 399 [Validation]: 100%|██████████| 21/21 [00:01<00:00, 14.91it/s, loss=-27572.32]\n"
     ]
    },
    {
     "name": "stdout",
     "output_type": "stream",
     "text": [
      "\tTotal Loss (NLL + MDMM): -27237.87\n",
      "\tMDMM Loss:               2279.47\n",
      "\tRemaining Weights:       99.28 %\n"
     ]
    },
    {
     "name": "stderr",
     "output_type": "stream",
     "text": [
      "Epoch 400 [Training]: 100%|██████████| 84/84 [00:06<00:00, 13.39it/s, loss=-27250.93, λc2D1=120.39, λd1=65.60, λd2=86.79, λd3=61.54]\n",
      "Epoch 400 [Validation]: 100%|██████████| 21/21 [00:01<00:00, 14.41it/s, loss=-27585.26]\n"
     ]
    },
    {
     "name": "stdout",
     "output_type": "stream",
     "text": [
      "\tTotal Loss (NLL + MDMM): -27253.38\n",
      "\tMDMM Loss:               2284.53\n",
      "\tRemaining Weights:       99.23 %\n"
     ]
    },
    {
     "name": "stderr",
     "output_type": "stream",
     "text": [
      "Epoch 401 [Training]: 100%|██████████| 84/84 [00:06<00:00, 13.34it/s, loss=-27254.45, λc2D1=120.67, λd1=65.80, λd2=87.02, λd3=61.67]\n",
      "Epoch 401 [Validation]: 100%|██████████| 21/21 [00:01<00:00, 14.76it/s, loss=-27571.18]\n"
     ]
    },
    {
     "name": "stdout",
     "output_type": "stream",
     "text": [
      "\tTotal Loss (NLL + MDMM): -27240.72\n",
      "\tMDMM Loss:               2289.54\n",
      "\tRemaining Weights:       99.17 %\n"
     ]
    },
    {
     "name": "stderr",
     "output_type": "stream",
     "text": [
      "Epoch 402 [Training]: 100%|██████████| 84/84 [00:06<00:00, 13.13it/s, loss=-27248.50, λc2D1=120.95, λd1=65.99, λd2=87.26, λd3=61.80]\n",
      "Epoch 402 [Validation]: 100%|██████████| 21/21 [00:01<00:00, 14.51it/s, loss=-27545.02]\n"
     ]
    },
    {
     "name": "stdout",
     "output_type": "stream",
     "text": [
      "\tTotal Loss (NLL + MDMM): -27214.93\n",
      "\tMDMM Loss:               2294.66\n",
      "\tRemaining Weights:       99.06 %\n"
     ]
    },
    {
     "name": "stderr",
     "output_type": "stream",
     "text": [
      "Epoch 403 [Training]: 100%|██████████| 84/84 [00:06<00:00, 13.11it/s, loss=-27253.24, λc2D1=121.23, λd1=66.19, λd2=87.49, λd3=61.93]\n",
      "Epoch 403 [Validation]: 100%|██████████| 21/21 [00:01<00:00, 14.86it/s, loss=-27563.90]\n"
     ]
    },
    {
     "name": "stdout",
     "output_type": "stream",
     "text": [
      "\tTotal Loss (NLL + MDMM): -27235.15\n",
      "\tMDMM Loss:               2299.83\n",
      "\tRemaining Weights:       98.95 %\n"
     ]
    },
    {
     "name": "stderr",
     "output_type": "stream",
     "text": [
      "Epoch 404 [Training]: 100%|██████████| 84/84 [00:06<00:00, 13.21it/s, loss=-27263.95, λc2D1=121.51, λd1=66.38, λd2=87.73, λd3=62.07]\n",
      "Epoch 404 [Validation]: 100%|██████████| 21/21 [00:01<00:00, 15.00it/s, loss=-27563.22]\n"
     ]
    },
    {
     "name": "stdout",
     "output_type": "stream",
     "text": [
      "\tTotal Loss (NLL + MDMM): -27231.93\n",
      "\tMDMM Loss:               2304.78\n",
      "\tRemaining Weights:       98.95 %\n"
     ]
    },
    {
     "name": "stderr",
     "output_type": "stream",
     "text": [
      "Epoch 405 [Training]: 100%|██████████| 84/84 [00:06<00:00, 13.56it/s, loss=-27254.21, λc2D1=121.79, λd1=66.58, λd2=87.96, λd3=62.20]\n",
      "Epoch 405 [Validation]: 100%|██████████| 21/21 [00:01<00:00, 14.58it/s, loss=-27553.92]\n"
     ]
    },
    {
     "name": "stdout",
     "output_type": "stream",
     "text": [
      "\tTotal Loss (NLL + MDMM): -27217.73\n",
      "\tMDMM Loss:               2309.65\n",
      "\tRemaining Weights:       98.90 %\n"
     ]
    },
    {
     "name": "stderr",
     "output_type": "stream",
     "text": [
      "Epoch 406 [Training]: 100%|██████████| 84/84 [00:06<00:00, 13.43it/s, loss=-27249.71, λc2D1=122.07, λd1=66.78, λd2=88.20, λd3=62.33]\n",
      "Epoch 406 [Validation]: 100%|██████████| 21/21 [00:01<00:00, 14.66it/s, loss=-27568.32]\n"
     ]
    },
    {
     "name": "stdout",
     "output_type": "stream",
     "text": [
      "\tTotal Loss (NLL + MDMM): -27235.06\n",
      "\tMDMM Loss:               2314.79\n",
      "\tRemaining Weights:       98.84 %\n"
     ]
    },
    {
     "name": "stderr",
     "output_type": "stream",
     "text": [
      "Epoch 407 [Training]: 100%|██████████| 84/84 [00:06<00:00, 13.34it/s, loss=-27246.13, λc2D1=122.35, λd1=66.97, λd2=88.44, λd3=62.46]\n",
      "Epoch 407 [Validation]: 100%|██████████| 21/21 [00:01<00:00, 15.16it/s, loss=-27568.52]\n"
     ]
    },
    {
     "name": "stdout",
     "output_type": "stream",
     "text": [
      "\tTotal Loss (NLL + MDMM): -27229.60\n",
      "\tMDMM Loss:               2319.64\n",
      "\tRemaining Weights:       98.90 %\n"
     ]
    },
    {
     "name": "stderr",
     "output_type": "stream",
     "text": [
      "Epoch 408 [Training]: 100%|██████████| 84/84 [00:06<00:00, 13.40it/s, loss=-27245.87, λc2D1=122.63, λd1=67.17, λd2=88.67, λd3=62.60]\n",
      "Epoch 408 [Validation]: 100%|██████████| 21/21 [00:01<00:00, 14.71it/s, loss=-27565.19]\n"
     ]
    },
    {
     "name": "stdout",
     "output_type": "stream",
     "text": [
      "\tTotal Loss (NLL + MDMM): -27227.83\n",
      "\tMDMM Loss:               2324.82\n",
      "\tRemaining Weights:       99.12 %\n"
     ]
    },
    {
     "name": "stderr",
     "output_type": "stream",
     "text": [
      "Epoch 409 [Training]: 100%|██████████| 84/84 [00:06<00:00, 13.48it/s, loss=-27256.10, λc2D1=122.91, λd1=67.36, λd2=88.91, λd3=62.73]\n",
      "Epoch 409 [Validation]: 100%|██████████| 21/21 [00:01<00:00, 15.08it/s, loss=-27566.48]\n"
     ]
    },
    {
     "name": "stdout",
     "output_type": "stream",
     "text": [
      "\tTotal Loss (NLL + MDMM): -27231.32\n",
      "\tMDMM Loss:               2329.67\n",
      "\tRemaining Weights:       99.06 %\n"
     ]
    },
    {
     "name": "stderr",
     "output_type": "stream",
     "text": [
      "Epoch 410 [Training]: 100%|██████████| 84/84 [00:06<00:00, 13.33it/s, loss=-27259.28, λc2D1=123.19, λd1=67.56, λd2=89.14, λd3=62.86]\n",
      "Epoch 410 [Validation]: 100%|██████████| 21/21 [00:01<00:00, 15.13it/s, loss=-27572.61]\n"
     ]
    },
    {
     "name": "stdout",
     "output_type": "stream",
     "text": [
      "\tTotal Loss (NLL + MDMM): -27236.12\n",
      "\tMDMM Loss:               2334.62\n",
      "\tRemaining Weights:       99.12 %\n"
     ]
    },
    {
     "name": "stderr",
     "output_type": "stream",
     "text": [
      "Epoch 411 [Training]: 100%|██████████| 84/84 [00:06<00:00, 13.36it/s, loss=-27241.62, λc2D1=123.47, λd1=67.76, λd2=89.38, λd3=62.99]\n",
      "Epoch 411 [Validation]: 100%|██████████| 21/21 [00:01<00:00, 14.73it/s, loss=-27543.27]\n"
     ]
    },
    {
     "name": "stdout",
     "output_type": "stream",
     "text": [
      "\tTotal Loss (NLL + MDMM): -27209.06\n",
      "\tMDMM Loss:               2336.38\n",
      "\tRemaining Weights:       99.06 %\n"
     ]
    },
    {
     "name": "stderr",
     "output_type": "stream",
     "text": [
      "Epoch 412 [Training]: 100%|██████████| 84/84 [00:06<00:00, 13.37it/s, loss=-27247.25, λc2D1=123.74, λd1=67.95, λd2=89.62, λd3=63.13]\n",
      "Epoch 412 [Validation]: 100%|██████████| 21/21 [00:01<00:00, 14.79it/s, loss=-27558.65]\n"
     ]
    },
    {
     "name": "stdout",
     "output_type": "stream",
     "text": [
      "\tTotal Loss (NLL + MDMM): -27222.33\n",
      "\tMDMM Loss:               2341.17\n",
      "\tRemaining Weights:       99.12 %\n"
     ]
    },
    {
     "name": "stderr",
     "output_type": "stream",
     "text": [
      "Epoch 413 [Training]: 100%|██████████| 84/84 [00:06<00:00, 13.37it/s, loss=-27251.43, λc2D1=124.02, λd1=68.15, λd2=89.85, λd3=63.26]\n",
      "Epoch 413 [Validation]: 100%|██████████| 21/21 [00:01<00:00, 14.65it/s, loss=-27566.11]\n"
     ]
    },
    {
     "name": "stdout",
     "output_type": "stream",
     "text": [
      "\tTotal Loss (NLL + MDMM): -27233.41\n",
      "\tMDMM Loss:               2346.10\n",
      "\tRemaining Weights:       99.06 %\n"
     ]
    },
    {
     "name": "stderr",
     "output_type": "stream",
     "text": [
      "Epoch 414 [Training]: 100%|██████████| 84/84 [00:06<00:00, 13.43it/s, loss=-27233.82, λc2D1=124.30, λd1=68.35, λd2=90.09, λd3=63.39]\n",
      "Epoch 414 [Validation]: 100%|██████████| 21/21 [00:01<00:00, 15.03it/s, loss=-27536.05]\n"
     ]
    },
    {
     "name": "stdout",
     "output_type": "stream",
     "text": [
      "\tTotal Loss (NLL + MDMM): -27197.65\n",
      "\tMDMM Loss:               2351.32\n",
      "\tRemaining Weights:       99.17 %\n"
     ]
    },
    {
     "name": "stderr",
     "output_type": "stream",
     "text": [
      "Epoch 415 [Training]: 100%|██████████| 84/84 [00:06<00:00, 13.39it/s, loss=-27258.83, λc2D1=124.57, λd1=68.54, λd2=90.33, λd3=63.52]\n",
      "Epoch 415 [Validation]: 100%|██████████| 21/21 [00:01<00:00, 14.72it/s, loss=-27583.23]\n"
     ]
    },
    {
     "name": "stdout",
     "output_type": "stream",
     "text": [
      "\tTotal Loss (NLL + MDMM): -27250.01\n",
      "\tMDMM Loss:               2356.04\n",
      "\tRemaining Weights:       99.17 %\n"
     ]
    },
    {
     "name": "stderr",
     "output_type": "stream",
     "text": [
      "Epoch 416 [Training]: 100%|██████████| 84/84 [00:06<00:00, 13.31it/s, loss=-27252.31, λc2D1=124.85, λd1=68.74, λd2=90.56, λd3=63.66]\n",
      "Epoch 416 [Validation]: 100%|██████████| 21/21 [00:01<00:00, 14.42it/s, loss=-27566.98]\n"
     ]
    },
    {
     "name": "stdout",
     "output_type": "stream",
     "text": [
      "\tTotal Loss (NLL + MDMM): -27235.21\n",
      "\tMDMM Loss:               2361.21\n",
      "\tRemaining Weights:       99.28 %\n"
     ]
    },
    {
     "name": "stderr",
     "output_type": "stream",
     "text": [
      "Epoch 417 [Training]: 100%|██████████| 84/84 [00:06<00:00, 13.44it/s, loss=-27254.41, λc2D1=125.12, λd1=68.94, λd2=90.80, λd3=63.79]\n",
      "Epoch 417 [Validation]: 100%|██████████| 21/21 [00:01<00:00, 14.79it/s, loss=-27580.13]\n"
     ]
    },
    {
     "name": "stdout",
     "output_type": "stream",
     "text": [
      "\tTotal Loss (NLL + MDMM): -27241.10\n",
      "\tMDMM Loss:               2365.99\n",
      "\tRemaining Weights:       99.23 %\n"
     ]
    },
    {
     "name": "stderr",
     "output_type": "stream",
     "text": [
      "Epoch 418 [Training]: 100%|██████████| 84/84 [00:06<00:00, 13.47it/s, loss=-27232.54, λc2D1=125.40, λd1=69.13, λd2=91.04, λd3=63.92]\n",
      "Epoch 418 [Validation]: 100%|██████████| 21/21 [00:01<00:00, 14.76it/s, loss=-27552.53]\n"
     ]
    },
    {
     "name": "stdout",
     "output_type": "stream",
     "text": [
      "\tTotal Loss (NLL + MDMM): -27221.92\n",
      "\tMDMM Loss:               2371.16\n",
      "\tRemaining Weights:       99.39 %\n"
     ]
    },
    {
     "name": "stderr",
     "output_type": "stream",
     "text": [
      "Epoch 419 [Training]: 100%|██████████| 84/84 [00:06<00:00, 13.26it/s, loss=-27225.71, λc2D1=125.67, λd1=69.33, λd2=91.27, λd3=64.05]\n",
      "Epoch 419 [Validation]: 100%|██████████| 21/21 [00:01<00:00, 15.02it/s, loss=-27510.45]\n"
     ]
    },
    {
     "name": "stdout",
     "output_type": "stream",
     "text": [
      "\tTotal Loss (NLL + MDMM): -27179.48\n",
      "\tMDMM Loss:               2376.03\n",
      "\tRemaining Weights:       99.45 %\n"
     ]
    },
    {
     "name": "stderr",
     "output_type": "stream",
     "text": [
      "Epoch 420 [Training]: 100%|██████████| 84/84 [00:06<00:00, 12.64it/s, loss=-27243.77, λc2D1=125.95, λd1=69.53, λd2=91.51, λd3=64.19]\n",
      "Epoch 420 [Validation]: 100%|██████████| 21/21 [00:01<00:00, 15.14it/s, loss=-27559.89]\n"
     ]
    },
    {
     "name": "stdout",
     "output_type": "stream",
     "text": [
      "\tTotal Loss (NLL + MDMM): -27219.10\n",
      "\tMDMM Loss:               2380.89\n",
      "\tRemaining Weights:       99.34 %\n"
     ]
    },
    {
     "name": "stderr",
     "output_type": "stream",
     "text": [
      "Epoch 421 [Training]: 100%|██████████| 84/84 [00:06<00:00, 13.25it/s, loss=-27254.81, λc2D1=126.22, λd1=69.72, λd2=91.74, λd3=64.32]\n",
      "Epoch 421 [Validation]: 100%|██████████| 21/21 [00:01<00:00, 14.45it/s, loss=-27570.54]\n"
     ]
    },
    {
     "name": "stdout",
     "output_type": "stream",
     "text": [
      "\tTotal Loss (NLL + MDMM): -27234.66\n",
      "\tMDMM Loss:               2385.82\n",
      "\tRemaining Weights:       99.23 %\n"
     ]
    },
    {
     "name": "stderr",
     "output_type": "stream",
     "text": [
      "Epoch 422 [Training]: 100%|██████████| 84/84 [00:06<00:00, 13.13it/s, loss=-27249.61, λc2D1=126.50, λd1=69.92, λd2=91.98, λd3=64.45]\n",
      "Epoch 422 [Validation]: 100%|██████████| 21/21 [00:01<00:00, 14.69it/s, loss=-27562.33]\n"
     ]
    },
    {
     "name": "stdout",
     "output_type": "stream",
     "text": [
      "\tTotal Loss (NLL + MDMM): -27224.55\n",
      "\tMDMM Loss:               2390.62\n",
      "\tRemaining Weights:       99.28 %\n"
     ]
    },
    {
     "name": "stderr",
     "output_type": "stream",
     "text": [
      "Epoch 423 [Training]: 100%|██████████| 84/84 [00:06<00:00, 13.12it/s, loss=-27244.13, λc2D1=126.77, λd1=70.12, λd2=92.22, λd3=64.58]\n",
      "Epoch 423 [Validation]: 100%|██████████| 21/21 [00:01<00:00, 14.50it/s, loss=-27561.90]\n"
     ]
    },
    {
     "name": "stdout",
     "output_type": "stream",
     "text": [
      "\tTotal Loss (NLL + MDMM): -27222.40\n",
      "\tMDMM Loss:               2395.47\n",
      "\tRemaining Weights:       99.23 %\n"
     ]
    },
    {
     "name": "stderr",
     "output_type": "stream",
     "text": [
      "Epoch 424 [Training]: 100%|██████████| 84/84 [00:06<00:00, 13.10it/s, loss=-27248.77, λc2D1=127.05, λd1=70.32, λd2=92.45, λd3=64.71]\n",
      "Epoch 424 [Validation]: 100%|██████████| 21/21 [00:01<00:00, 14.50it/s, loss=-27555.11]\n"
     ]
    },
    {
     "name": "stdout",
     "output_type": "stream",
     "text": [
      "\tTotal Loss (NLL + MDMM): -27216.97\n",
      "\tMDMM Loss:               2400.44\n",
      "\tRemaining Weights:       99.34 %\n"
     ]
    },
    {
     "name": "stderr",
     "output_type": "stream",
     "text": [
      "Epoch 425 [Training]: 100%|██████████| 84/84 [00:06<00:00, 13.18it/s, loss=-27258.79, λc2D1=127.32, λd1=70.51, λd2=92.69, λd3=64.85]\n",
      "Epoch 425 [Validation]: 100%|██████████| 21/21 [00:01<00:00, 14.47it/s, loss=-27569.61]\n"
     ]
    },
    {
     "name": "stdout",
     "output_type": "stream",
     "text": [
      "\tTotal Loss (NLL + MDMM): -27233.12\n",
      "\tMDMM Loss:               2400.29\n",
      "\tRemaining Weights:       99.12 %\n"
     ]
    },
    {
     "name": "stderr",
     "output_type": "stream",
     "text": [
      "Epoch 426 [Training]: 100%|██████████| 84/84 [00:06<00:00, 13.25it/s, loss=-27254.96, λc2D1=127.59, λd1=70.71, λd2=92.93, λd3=64.98]\n",
      "Epoch 426 [Validation]: 100%|██████████| 21/21 [00:01<00:00, 14.82it/s, loss=-27547.62]\n"
     ]
    },
    {
     "name": "stdout",
     "output_type": "stream",
     "text": [
      "\tTotal Loss (NLL + MDMM): -27210.70\n",
      "\tMDMM Loss:               2405.45\n",
      "\tRemaining Weights:       99.12 %\n"
     ]
    },
    {
     "name": "stderr",
     "output_type": "stream",
     "text": [
      "Epoch 427 [Training]: 100%|██████████| 84/84 [00:06<00:00, 13.27it/s, loss=-27241.41, λc2D1=127.86, λd1=70.91, λd2=93.16, λd3=65.11]\n",
      "Epoch 427 [Validation]: 100%|██████████| 21/21 [00:01<00:00, 14.45it/s, loss=-27564.07]\n"
     ]
    },
    {
     "name": "stdout",
     "output_type": "stream",
     "text": [
      "\tTotal Loss (NLL + MDMM): -27227.21\n",
      "\tMDMM Loss:               2410.59\n",
      "\tRemaining Weights:       99.12 %\n"
     ]
    },
    {
     "name": "stderr",
     "output_type": "stream",
     "text": [
      "Epoch 428 [Training]: 100%|██████████| 84/84 [00:06<00:00, 13.26it/s, loss=-27243.69, λc2D1=128.13, λd1=71.10, λd2=93.40, λd3=65.24]\n",
      "Epoch 428 [Validation]: 100%|██████████| 21/21 [00:01<00:00, 14.57it/s, loss=-27557.24]\n"
     ]
    },
    {
     "name": "stdout",
     "output_type": "stream",
     "text": [
      "\tTotal Loss (NLL + MDMM): -27222.07\n",
      "\tMDMM Loss:               2415.49\n",
      "\tRemaining Weights:       99.01 %\n"
     ]
    },
    {
     "name": "stderr",
     "output_type": "stream",
     "text": [
      "Epoch 429 [Training]: 100%|██████████| 84/84 [00:06<00:00, 13.47it/s, loss=-27255.93, λc2D1=128.40, λd1=71.30, λd2=93.64, λd3=65.37]\n",
      "Epoch 429 [Validation]: 100%|██████████| 21/21 [00:01<00:00, 15.17it/s, loss=-27569.88]\n"
     ]
    },
    {
     "name": "stdout",
     "output_type": "stream",
     "text": [
      "\tTotal Loss (NLL + MDMM): -27238.32\n",
      "\tMDMM Loss:               2420.45\n",
      "\tRemaining Weights:       99.06 %\n"
     ]
    },
    {
     "name": "stderr",
     "output_type": "stream",
     "text": [
      "Epoch 430 [Training]: 100%|██████████| 84/84 [00:06<00:00, 13.44it/s, loss=-27245.06, λc2D1=128.67, λd1=71.50, λd2=93.88, λd3=65.51]\n",
      "Epoch 430 [Validation]: 100%|██████████| 21/21 [00:01<00:00, 14.46it/s, loss=-27547.69]\n"
     ]
    },
    {
     "name": "stdout",
     "output_type": "stream",
     "text": [
      "\tTotal Loss (NLL + MDMM): -27208.95\n",
      "\tMDMM Loss:               2425.36\n",
      "\tRemaining Weights:       99.06 %\n"
     ]
    },
    {
     "name": "stderr",
     "output_type": "stream",
     "text": [
      "Epoch 431 [Training]: 100%|██████████| 84/84 [00:06<00:00, 13.24it/s, loss=-27250.35, λc2D1=128.94, λd1=71.70, λd2=94.11, λd3=65.64]\n",
      "Epoch 431 [Validation]: 100%|██████████| 21/21 [00:01<00:00, 14.88it/s, loss=-27568.12]\n"
     ]
    },
    {
     "name": "stdout",
     "output_type": "stream",
     "text": [
      "\tTotal Loss (NLL + MDMM): -27228.60\n",
      "\tMDMM Loss:               2430.21\n",
      "\tRemaining Weights:       98.95 %\n"
     ]
    },
    {
     "name": "stderr",
     "output_type": "stream",
     "text": [
      "Epoch 432 [Training]: 100%|██████████| 84/84 [00:06<00:00, 12.97it/s, loss=-27242.98, λc2D1=129.22, λd1=71.90, λd2=94.35, λd3=65.77]\n",
      "Epoch 432 [Validation]: 100%|██████████| 21/21 [00:01<00:00, 14.80it/s, loss=-27533.62]\n"
     ]
    },
    {
     "name": "stdout",
     "output_type": "stream",
     "text": [
      "\tTotal Loss (NLL + MDMM): -27196.64\n",
      "\tMDMM Loss:               2435.18\n",
      "\tRemaining Weights:       99.06 %\n"
     ]
    },
    {
     "name": "stderr",
     "output_type": "stream",
     "text": [
      "Epoch 433 [Training]: 100%|██████████| 84/84 [00:06<00:00, 13.19it/s, loss=-27244.95, λc2D1=129.49, λd1=72.09, λd2=94.59, λd3=65.90]\n",
      "Epoch 433 [Validation]: 100%|██████████| 21/21 [00:01<00:00, 14.84it/s, loss=-27546.67]\n"
     ]
    },
    {
     "name": "stdout",
     "output_type": "stream",
     "text": [
      "\tTotal Loss (NLL + MDMM): -27206.85\n",
      "\tMDMM Loss:               2440.16\n",
      "\tRemaining Weights:       99.01 %\n"
     ]
    },
    {
     "name": "stderr",
     "output_type": "stream",
     "text": [
      "Epoch 434 [Training]: 100%|██████████| 84/84 [00:06<00:00, 13.48it/s, loss=-27224.38, λc2D1=129.76, λd1=72.29, λd2=94.82, λd3=66.04]\n",
      "Epoch 434 [Validation]: 100%|██████████| 21/21 [00:01<00:00, 14.78it/s, loss=-27529.23]\n"
     ]
    },
    {
     "name": "stdout",
     "output_type": "stream",
     "text": [
      "\tTotal Loss (NLL + MDMM): -27193.67\n",
      "\tMDMM Loss:               2449.64\n",
      "\tRemaining Weights:       99.12 %\n"
     ]
    },
    {
     "name": "stderr",
     "output_type": "stream",
     "text": [
      "Epoch 435 [Training]: 100%|██████████| 84/84 [00:06<00:00, 13.27it/s, loss=-27223.98, λc2D1=130.03, λd1=72.49, λd2=95.06, λd3=66.17]\n",
      "Epoch 435 [Validation]: 100%|██████████| 21/21 [00:01<00:00, 14.66it/s, loss=-27533.34]\n"
     ]
    },
    {
     "name": "stdout",
     "output_type": "stream",
     "text": [
      "\tTotal Loss (NLL + MDMM): -27193.57\n",
      "\tMDMM Loss:               2454.71\n",
      "\tRemaining Weights:       99.17 %\n"
     ]
    },
    {
     "name": "stderr",
     "output_type": "stream",
     "text": [
      "Epoch 436 [Training]: 100%|██████████| 84/84 [00:06<00:00, 13.45it/s, loss=-27244.15, λc2D1=130.31, λd1=72.69, λd2=95.30, λd3=66.30]\n",
      "Epoch 436 [Validation]: 100%|██████████| 21/21 [00:01<00:00, 14.93it/s, loss=-27549.23]\n"
     ]
    },
    {
     "name": "stdout",
     "output_type": "stream",
     "text": [
      "\tTotal Loss (NLL + MDMM): -27207.88\n",
      "\tMDMM Loss:               2459.59\n",
      "\tRemaining Weights:       99.12 %\n"
     ]
    },
    {
     "name": "stderr",
     "output_type": "stream",
     "text": [
      "Epoch 437 [Training]: 100%|██████████| 84/84 [00:06<00:00, 13.45it/s, loss=-27237.70, λc2D1=130.58, λd1=72.88, λd2=95.54, λd3=66.43]\n",
      "Epoch 437 [Validation]: 100%|██████████| 21/21 [00:01<00:00, 14.88it/s, loss=-27544.07]\n"
     ]
    },
    {
     "name": "stdout",
     "output_type": "stream",
     "text": [
      "\tTotal Loss (NLL + MDMM): -27206.89\n",
      "\tMDMM Loss:               2464.52\n",
      "\tRemaining Weights:       99.12 %\n"
     ]
    },
    {
     "name": "stderr",
     "output_type": "stream",
     "text": [
      "Epoch 438 [Training]: 100%|██████████| 84/84 [00:06<00:00, 13.01it/s, loss=-27234.68, λc2D1=130.85, λd1=73.08, λd2=95.77, λd3=66.56]\n",
      "Epoch 438 [Validation]: 100%|██████████| 21/21 [00:01<00:00, 14.79it/s, loss=-27547.94]\n"
     ]
    },
    {
     "name": "stdout",
     "output_type": "stream",
     "text": [
      "\tTotal Loss (NLL + MDMM): -27208.52\n",
      "\tMDMM Loss:               2469.49\n",
      "\tRemaining Weights:       99.12 %\n"
     ]
    },
    {
     "name": "stderr",
     "output_type": "stream",
     "text": [
      "Epoch 439 [Training]: 100%|██████████| 84/84 [00:06<00:00, 13.11it/s, loss=-27234.36, λc2D1=131.13, λd1=73.28, λd2=96.01, λd3=66.69]\n",
      "Epoch 439 [Validation]: 100%|██████████| 21/21 [00:01<00:00, 15.09it/s, loss=-27545.83]\n"
     ]
    },
    {
     "name": "stdout",
     "output_type": "stream",
     "text": [
      "\tTotal Loss (NLL + MDMM): -27205.42\n",
      "\tMDMM Loss:               2474.15\n",
      "\tRemaining Weights:       99.12 %\n"
     ]
    },
    {
     "name": "stderr",
     "output_type": "stream",
     "text": [
      "Epoch 440 [Training]: 100%|██████████| 84/84 [00:06<00:00, 13.08it/s, loss=-27233.66, λc2D1=131.40, λd1=73.48, λd2=96.25, λd3=66.82]\n",
      "Epoch 440 [Validation]: 100%|██████████| 21/21 [00:01<00:00, 14.84it/s, loss=-27540.29]\n"
     ]
    },
    {
     "name": "stdout",
     "output_type": "stream",
     "text": [
      "\tTotal Loss (NLL + MDMM): -27202.17\n",
      "\tMDMM Loss:               2479.30\n",
      "\tRemaining Weights:       99.12 %\n"
     ]
    },
    {
     "name": "stderr",
     "output_type": "stream",
     "text": [
      "Epoch 441 [Training]: 100%|██████████| 84/84 [00:06<00:00, 13.26it/s, loss=-27220.51, λc2D1=131.68, λd1=73.68, λd2=96.48, λd3=66.96]\n",
      "Epoch 441 [Validation]: 100%|██████████| 21/21 [00:01<00:00, 14.52it/s, loss=-27541.96]\n"
     ]
    },
    {
     "name": "stdout",
     "output_type": "stream",
     "text": [
      "\tTotal Loss (NLL + MDMM): -27205.31\n",
      "\tMDMM Loss:               2484.21\n",
      "\tRemaining Weights:       99.28 %\n"
     ]
    },
    {
     "name": "stderr",
     "output_type": "stream",
     "text": [
      "Epoch 442 [Training]: 100%|██████████| 84/84 [00:06<00:00, 13.17it/s, loss=-27217.08, λc2D1=131.95, λd1=73.88, λd2=96.72, λd3=67.09]\n",
      "Epoch 442 [Validation]: 100%|██████████| 21/21 [00:01<00:00, 14.79it/s, loss=-27510.98]\n"
     ]
    },
    {
     "name": "stdout",
     "output_type": "stream",
     "text": [
      "\tTotal Loss (NLL + MDMM): -27179.14\n",
      "\tMDMM Loss:               2489.11\n",
      "\tRemaining Weights:       99.28 %\n"
     ]
    },
    {
     "name": "stderr",
     "output_type": "stream",
     "text": [
      "Epoch 443 [Training]: 100%|██████████| 84/84 [00:06<00:00, 13.40it/s, loss=-27229.04, λc2D1=132.22, λd1=74.07, λd2=96.96, λd3=67.22]\n",
      "Epoch 443 [Validation]: 100%|██████████| 21/21 [00:01<00:00, 14.70it/s, loss=-27538.70]\n"
     ]
    },
    {
     "name": "stdout",
     "output_type": "stream",
     "text": [
      "\tTotal Loss (NLL + MDMM): -27195.57\n",
      "\tMDMM Loss:               2494.01\n",
      "\tRemaining Weights:       99.28 %\n"
     ]
    },
    {
     "name": "stderr",
     "output_type": "stream",
     "text": [
      "Epoch 444 [Training]: 100%|██████████| 84/84 [00:06<00:00, 13.27it/s, loss=-27212.71, λc2D1=132.50, λd1=74.27, λd2=97.20, λd3=67.35]\n",
      "Epoch 444 [Validation]: 100%|██████████| 21/21 [00:01<00:00, 14.72it/s, loss=-27506.55]\n"
     ]
    },
    {
     "name": "stdout",
     "output_type": "stream",
     "text": [
      "\tTotal Loss (NLL + MDMM): -27174.02\n",
      "\tMDMM Loss:               2498.97\n",
      "\tRemaining Weights:       99.23 %\n"
     ]
    },
    {
     "name": "stderr",
     "output_type": "stream",
     "text": [
      "Epoch 445 [Training]: 100%|██████████| 84/84 [00:06<00:00, 13.15it/s, loss=-27223.34, λc2D1=132.77, λd1=74.47, λd2=97.43, λd3=67.48]\n",
      "Epoch 445 [Validation]: 100%|██████████| 21/21 [00:01<00:00, 14.70it/s, loss=-27528.73]\n"
     ]
    },
    {
     "name": "stdout",
     "output_type": "stream",
     "text": [
      "\tTotal Loss (NLL + MDMM): -27193.15\n",
      "\tMDMM Loss:               2503.69\n",
      "\tRemaining Weights:       99.17 %\n"
     ]
    },
    {
     "name": "stderr",
     "output_type": "stream",
     "text": [
      "Epoch 446 [Training]: 100%|██████████| 84/84 [00:06<00:00, 13.32it/s, loss=-27224.85, λc2D1=133.05, λd1=74.67, λd2=97.67, λd3=67.61]\n",
      "Epoch 446 [Validation]: 100%|██████████| 21/21 [00:01<00:00, 14.72it/s, loss=-27534.13]\n"
     ]
    },
    {
     "name": "stdout",
     "output_type": "stream",
     "text": [
      "\tTotal Loss (NLL + MDMM): -27198.08\n",
      "\tMDMM Loss:               2508.45\n",
      "\tRemaining Weights:       99.17 %\n"
     ]
    },
    {
     "name": "stderr",
     "output_type": "stream",
     "text": [
      "Epoch 447 [Training]: 100%|██████████| 84/84 [00:06<00:00, 13.12it/s, loss=-27238.44, λc2D1=133.32, λd1=74.87, λd2=97.91, λd3=67.74]\n",
      "Epoch 447 [Validation]: 100%|██████████| 21/21 [00:01<00:00, 15.10it/s, loss=-27567.37]\n"
     ]
    },
    {
     "name": "stdout",
     "output_type": "stream",
     "text": [
      "\tTotal Loss (NLL + MDMM): -27225.76\n",
      "\tMDMM Loss:               2513.25\n",
      "\tRemaining Weights:       99.23 %\n"
     ]
    },
    {
     "name": "stderr",
     "output_type": "stream",
     "text": [
      "Epoch 448 [Training]: 100%|██████████| 84/84 [00:06<00:00, 13.44it/s, loss=-27228.01, λc2D1=133.59, λd1=75.07, λd2=98.15, λd3=67.88]\n",
      "Epoch 448 [Validation]: 100%|██████████| 21/21 [00:01<00:00, 14.79it/s, loss=-27532.53]\n"
     ]
    },
    {
     "name": "stdout",
     "output_type": "stream",
     "text": [
      "\tTotal Loss (NLL + MDMM): -27197.16\n",
      "\tMDMM Loss:               2518.09\n",
      "\tRemaining Weights:       99.28 %\n"
     ]
    },
    {
     "name": "stderr",
     "output_type": "stream",
     "text": [
      "Epoch 449 [Training]: 100%|██████████| 84/84 [00:06<00:00, 13.30it/s, loss=-27225.75, λc2D1=133.87, λd1=75.27, λd2=98.39, λd3=68.01]\n",
      "Epoch 449 [Validation]: 100%|██████████| 21/21 [00:01<00:00, 15.05it/s, loss=-27535.42]\n"
     ]
    },
    {
     "name": "stdout",
     "output_type": "stream",
     "text": [
      "\tTotal Loss (NLL + MDMM): -27198.73\n",
      "\tMDMM Loss:               2522.82\n",
      "\tRemaining Weights:       99.23 %\n"
     ]
    },
    {
     "name": "stderr",
     "output_type": "stream",
     "text": [
      "Epoch 450 [Training]: 100%|██████████| 84/84 [00:06<00:00, 12.86it/s, loss=-27226.23, λc2D1=134.14, λd1=75.47, λd2=98.62, λd3=68.14]\n",
      "Epoch 450 [Validation]: 100%|██████████| 21/21 [00:01<00:00, 14.36it/s, loss=-27525.29]\n"
     ]
    },
    {
     "name": "stdout",
     "output_type": "stream",
     "text": [
      "\tTotal Loss (NLL + MDMM): -27187.46\n",
      "\tMDMM Loss:               2527.66\n",
      "\tRemaining Weights:       99.28 %\n"
     ]
    },
    {
     "name": "stderr",
     "output_type": "stream",
     "text": [
      "Epoch 451 [Training]: 100%|██████████| 84/84 [00:06<00:00, 13.12it/s, loss=-27219.87, λc2D1=134.42, λd1=75.66, λd2=98.86, λd3=68.27]\n",
      "Epoch 451 [Validation]: 100%|██████████| 21/21 [00:01<00:00, 14.81it/s, loss=-27526.49]\n"
     ]
    },
    {
     "name": "stdout",
     "output_type": "stream",
     "text": [
      "\tTotal Loss (NLL + MDMM): -27187.68\n",
      "\tMDMM Loss:               2532.59\n",
      "\tRemaining Weights:       99.17 %\n"
     ]
    },
    {
     "name": "stderr",
     "output_type": "stream",
     "text": [
      "Epoch 452 [Training]: 100%|██████████| 84/84 [00:06<00:00, 13.01it/s, loss=-27234.97, λc2D1=134.69, λd1=75.86, λd2=99.10, λd3=68.40]\n",
      "Epoch 452 [Validation]: 100%|██████████| 21/21 [00:01<00:00, 14.59it/s, loss=-27559.62]\n"
     ]
    },
    {
     "name": "stdout",
     "output_type": "stream",
     "text": [
      "\tTotal Loss (NLL + MDMM): -27213.92\n",
      "\tMDMM Loss:               2537.32\n",
      "\tRemaining Weights:       99.17 %\n"
     ]
    },
    {
     "name": "stderr",
     "output_type": "stream",
     "text": [
      "Epoch 453 [Training]: 100%|██████████| 84/84 [00:06<00:00, 13.36it/s, loss=-27222.95, λc2D1=134.96, λd1=76.06, λd2=99.34, λd3=68.53]\n",
      "Epoch 453 [Validation]: 100%|██████████| 21/21 [00:01<00:00, 14.72it/s, loss=-27524.19]\n"
     ]
    },
    {
     "name": "stdout",
     "output_type": "stream",
     "text": [
      "\tTotal Loss (NLL + MDMM): -27186.40\n",
      "\tMDMM Loss:               2542.23\n",
      "\tRemaining Weights:       99.17 %\n"
     ]
    },
    {
     "name": "stderr",
     "output_type": "stream",
     "text": [
      "Epoch 454 [Training]: 100%|██████████| 84/84 [00:06<00:00, 13.51it/s, loss=-27223.84, λc2D1=135.23, λd1=76.26, λd2=99.58, λd3=68.66]\n",
      "Epoch 454 [Validation]: 100%|██████████| 21/21 [00:01<00:00, 14.95it/s, loss=-27537.62]\n"
     ]
    },
    {
     "name": "stdout",
     "output_type": "stream",
     "text": [
      "\tTotal Loss (NLL + MDMM): -27200.50\n",
      "\tMDMM Loss:               2546.74\n",
      "\tRemaining Weights:       99.06 %\n"
     ]
    },
    {
     "name": "stderr",
     "output_type": "stream",
     "text": [
      "Epoch 455 [Training]: 100%|██████████| 84/84 [00:06<00:00, 13.41it/s, loss=-27214.55, λc2D1=135.51, λd1=76.46, λd2=99.81, λd3=68.80]\n",
      "Epoch 455 [Validation]: 100%|██████████| 21/21 [00:01<00:00, 15.11it/s, loss=-27499.95]\n"
     ]
    },
    {
     "name": "stdout",
     "output_type": "stream",
     "text": [
      "\tTotal Loss (NLL + MDMM): -27163.16\n",
      "\tMDMM Loss:               2551.75\n",
      "\tRemaining Weights:       99.06 %\n"
     ]
    },
    {
     "name": "stderr",
     "output_type": "stream",
     "text": [
      "Epoch 456 [Training]: 100%|██████████| 84/84 [00:06<00:00, 13.31it/s, loss=-27220.13, λc2D1=135.78, λd1=76.66, λd2=100.05, λd3=68.93]\n",
      "Epoch 456 [Validation]: 100%|██████████| 21/21 [00:01<00:00, 14.40it/s, loss=-27545.20]\n"
     ]
    },
    {
     "name": "stdout",
     "output_type": "stream",
     "text": [
      "\tTotal Loss (NLL + MDMM): -27203.27\n",
      "\tMDMM Loss:               2556.35\n",
      "\tRemaining Weights:       99.12 %\n"
     ]
    },
    {
     "name": "stderr",
     "output_type": "stream",
     "text": [
      "Epoch 457 [Training]: 100%|██████████| 84/84 [00:06<00:00, 13.24it/s, loss=-27223.34, λc2D1=136.05, λd1=76.86, λd2=100.29, λd3=69.06]\n",
      "Epoch 457 [Validation]: 100%|██████████| 21/21 [00:01<00:00, 14.69it/s, loss=-27552.30]\n"
     ]
    },
    {
     "name": "stdout",
     "output_type": "stream",
     "text": [
      "\tTotal Loss (NLL + MDMM): -27208.42\n",
      "\tMDMM Loss:               2561.03\n",
      "\tRemaining Weights:       99.01 %\n"
     ]
    },
    {
     "name": "stderr",
     "output_type": "stream",
     "text": [
      "Epoch 458 [Training]: 100%|██████████| 84/84 [00:06<00:00, 13.12it/s, loss=-27205.45, λc2D1=136.32, λd1=77.06, λd2=100.53, λd3=69.19]\n",
      "Epoch 458 [Validation]: 100%|██████████| 21/21 [00:01<00:00, 14.54it/s, loss=-27485.72]\n"
     ]
    },
    {
     "name": "stdout",
     "output_type": "stream",
     "text": [
      "\tTotal Loss (NLL + MDMM): -27148.15\n",
      "\tMDMM Loss:               2565.94\n",
      "\tRemaining Weights:       99.01 %\n"
     ]
    },
    {
     "name": "stderr",
     "output_type": "stream",
     "text": [
      "Epoch 459 [Training]: 100%|██████████| 84/84 [00:06<00:00, 13.34it/s, loss=-27216.57, λc2D1=136.60, λd1=77.26, λd2=100.77, λd3=69.32]\n",
      "Epoch 459 [Validation]: 100%|██████████| 21/21 [00:01<00:00, 14.73it/s, loss=-27524.17]\n"
     ]
    },
    {
     "name": "stdout",
     "output_type": "stream",
     "text": [
      "\tTotal Loss (NLL + MDMM): -27179.82\n",
      "\tMDMM Loss:               2570.69\n",
      "\tRemaining Weights:       99.06 %\n"
     ]
    },
    {
     "name": "stderr",
     "output_type": "stream",
     "text": [
      "Epoch 460 [Training]: 100%|██████████| 84/84 [00:06<00:00, 13.04it/s, loss=-27203.70, λc2D1=136.87, λd1=77.46, λd2=101.00, λd3=69.45]\n",
      "Epoch 460 [Validation]: 100%|██████████| 21/21 [00:01<00:00, 14.57it/s, loss=-27503.68]\n"
     ]
    },
    {
     "name": "stdout",
     "output_type": "stream",
     "text": [
      "\tTotal Loss (NLL + MDMM): -27162.23\n",
      "\tMDMM Loss:               2575.43\n",
      "\tRemaining Weights:       99.17 %\n"
     ]
    },
    {
     "name": "stderr",
     "output_type": "stream",
     "text": [
      "Epoch 461 [Training]: 100%|██████████| 84/84 [00:06<00:00, 13.29it/s, loss=-27220.37, λc2D1=137.14, λd1=77.66, λd2=101.24, λd3=69.58]\n",
      "Epoch 461 [Validation]: 100%|██████████| 21/21 [00:01<00:00, 15.22it/s, loss=-27510.36]\n"
     ]
    },
    {
     "name": "stdout",
     "output_type": "stream",
     "text": [
      "\tTotal Loss (NLL + MDMM): -27173.81\n",
      "\tMDMM Loss:               2580.30\n",
      "\tRemaining Weights:       99.12 %\n"
     ]
    },
    {
     "name": "stderr",
     "output_type": "stream",
     "text": [
      "Epoch 462 [Training]: 100%|██████████| 84/84 [00:06<00:00, 13.24it/s, loss=-27213.17, λc2D1=137.41, λd1=77.86, λd2=101.48, λd3=69.71]\n",
      "Epoch 462 [Validation]: 100%|██████████| 21/21 [00:01<00:00, 14.59it/s, loss=-27513.61]\n"
     ]
    },
    {
     "name": "stdout",
     "output_type": "stream",
     "text": [
      "\tTotal Loss (NLL + MDMM): -27170.77\n",
      "\tMDMM Loss:               2584.98\n",
      "\tRemaining Weights:       99.23 %\n"
     ]
    },
    {
     "name": "stderr",
     "output_type": "stream",
     "text": [
      "Epoch 463 [Training]: 100%|██████████| 84/84 [00:06<00:00, 13.19it/s, loss=-27218.63, λc2D1=137.68, λd1=78.06, λd2=101.72, λd3=69.84]\n",
      "Epoch 463 [Validation]: 100%|██████████| 21/21 [00:01<00:00, 14.95it/s, loss=-27532.91]\n"
     ]
    },
    {
     "name": "stdout",
     "output_type": "stream",
     "text": [
      "\tTotal Loss (NLL + MDMM): -27190.27\n",
      "\tMDMM Loss:               2589.57\n",
      "\tRemaining Weights:       99.23 %\n"
     ]
    },
    {
     "name": "stderr",
     "output_type": "stream",
     "text": [
      "Epoch 464 [Training]: 100%|██████████| 84/84 [00:06<00:00, 13.35it/s, loss=-27228.38, λc2D1=137.96, λd1=78.26, λd2=101.96, λd3=69.97]\n",
      "Epoch 464 [Validation]: 100%|██████████| 21/21 [00:01<00:00, 14.94it/s, loss=-27532.05]\n"
     ]
    },
    {
     "name": "stdout",
     "output_type": "stream",
     "text": [
      "\tTotal Loss (NLL + MDMM): -27187.91\n",
      "\tMDMM Loss:               2594.08\n",
      "\tRemaining Weights:       99.17 %\n"
     ]
    },
    {
     "name": "stderr",
     "output_type": "stream",
     "text": [
      "Epoch 465 [Training]: 100%|██████████| 84/84 [00:06<00:00, 13.38it/s, loss=-27213.72, λc2D1=138.23, λd1=78.45, λd2=102.20, λd3=70.11]\n",
      "Epoch 465 [Validation]: 100%|██████████| 21/21 [00:01<00:00, 14.67it/s, loss=-27523.29]\n"
     ]
    },
    {
     "name": "stdout",
     "output_type": "stream",
     "text": [
      "\tTotal Loss (NLL + MDMM): -27176.84\n",
      "\tMDMM Loss:               2598.82\n",
      "\tRemaining Weights:       99.12 %\n"
     ]
    },
    {
     "name": "stderr",
     "output_type": "stream",
     "text": [
      "Epoch 466 [Training]: 100%|██████████| 84/84 [00:06<00:00, 13.18it/s, loss=-27211.80, λc2D1=138.50, λd1=78.65, λd2=102.43, λd3=70.24]\n",
      "Epoch 466 [Validation]: 100%|██████████| 21/21 [00:01<00:00, 14.44it/s, loss=-27504.45]\n"
     ]
    },
    {
     "name": "stdout",
     "output_type": "stream",
     "text": [
      "\tTotal Loss (NLL + MDMM): -27164.45\n",
      "\tMDMM Loss:               2603.60\n",
      "\tRemaining Weights:       99.12 %\n"
     ]
    },
    {
     "name": "stderr",
     "output_type": "stream",
     "text": [
      "Epoch 467 [Training]: 100%|██████████| 84/84 [00:06<00:00, 12.85it/s, loss=-27200.99, λc2D1=138.77, λd1=78.85, λd2=102.67, λd3=70.37]\n",
      "Epoch 467 [Validation]: 100%|██████████| 21/21 [00:01<00:00, 14.93it/s, loss=-27500.04]\n"
     ]
    },
    {
     "name": "stdout",
     "output_type": "stream",
     "text": [
      "\tTotal Loss (NLL + MDMM): -27162.31\n",
      "\tMDMM Loss:               2608.33\n",
      "\tRemaining Weights:       99.12 %\n"
     ]
    },
    {
     "name": "stderr",
     "output_type": "stream",
     "text": [
      "Epoch 468 [Training]: 100%|██████████| 84/84 [00:06<00:00, 13.38it/s, loss=-27203.28, λc2D1=139.05, λd1=79.05, λd2=102.91, λd3=70.50]\n",
      "Epoch 468 [Validation]: 100%|██████████| 21/21 [00:01<00:00, 14.58it/s, loss=-27521.04]\n"
     ]
    },
    {
     "name": "stdout",
     "output_type": "stream",
     "text": [
      "\tTotal Loss (NLL + MDMM): -27180.29\n",
      "\tMDMM Loss:               2613.10\n",
      "\tRemaining Weights:       99.12 %\n"
     ]
    },
    {
     "name": "stderr",
     "output_type": "stream",
     "text": [
      "Epoch 469 [Training]: 100%|██████████| 84/84 [00:06<00:00, 13.26it/s, loss=-27196.65, λc2D1=139.32, λd1=79.26, λd2=103.15, λd3=70.63]\n",
      "Epoch 469 [Validation]: 100%|██████████| 21/21 [00:01<00:00, 14.56it/s, loss=-27512.46]\n"
     ]
    },
    {
     "name": "stdout",
     "output_type": "stream",
     "text": [
      "\tTotal Loss (NLL + MDMM): -27171.21\n",
      "\tMDMM Loss:               2617.62\n",
      "\tRemaining Weights:       99.12 %\n"
     ]
    },
    {
     "name": "stderr",
     "output_type": "stream",
     "text": [
      "Epoch 470 [Training]: 100%|██████████| 84/84 [00:06<00:00, 13.20it/s, loss=-27198.18, λc2D1=139.59, λd1=79.46, λd2=103.39, λd3=70.76]\n",
      "Epoch 470 [Validation]: 100%|██████████| 21/21 [00:01<00:00, 14.47it/s, loss=-27517.71]\n"
     ]
    },
    {
     "name": "stdout",
     "output_type": "stream",
     "text": [
      "\tTotal Loss (NLL + MDMM): -27180.73\n",
      "\tMDMM Loss:               2622.40\n",
      "\tRemaining Weights:       99.06 %\n"
     ]
    },
    {
     "name": "stderr",
     "output_type": "stream",
     "text": [
      "Epoch 471 [Training]: 100%|██████████| 84/84 [00:06<00:00, 13.12it/s, loss=-27210.79, λc2D1=139.86, λd1=79.66, λd2=103.63, λd3=70.89]\n",
      "Epoch 471 [Validation]: 100%|██████████| 21/21 [00:01<00:00, 14.72it/s, loss=-27535.33]\n"
     ]
    },
    {
     "name": "stdout",
     "output_type": "stream",
     "text": [
      "\tTotal Loss (NLL + MDMM): -27186.62\n",
      "\tMDMM Loss:               2627.01\n",
      "\tRemaining Weights:       99.12 %\n"
     ]
    },
    {
     "name": "stderr",
     "output_type": "stream",
     "text": [
      "Epoch 472 [Training]: 100%|██████████| 84/84 [00:06<00:00, 13.30it/s, loss=-27216.28, λc2D1=140.14, λd1=79.86, λd2=103.87, λd3=71.02]\n",
      "Epoch 472 [Validation]: 100%|██████████| 21/21 [00:01<00:00, 14.66it/s, loss=-27523.62]\n"
     ]
    },
    {
     "name": "stdout",
     "output_type": "stream",
     "text": [
      "\tTotal Loss (NLL + MDMM): -27180.82\n",
      "\tMDMM Loss:               2631.92\n",
      "\tRemaining Weights:       99.01 %\n"
     ]
    },
    {
     "name": "stderr",
     "output_type": "stream",
     "text": [
      "Epoch 473 [Training]: 100%|██████████| 84/84 [00:06<00:00, 13.15it/s, loss=-27213.85, λc2D1=140.41, λd1=80.06, λd2=104.11, λd3=71.15]\n",
      "Epoch 473 [Validation]: 100%|██████████| 21/21 [00:01<00:00, 14.43it/s, loss=-27523.21]\n"
     ]
    },
    {
     "name": "stdout",
     "output_type": "stream",
     "text": [
      "\tTotal Loss (NLL + MDMM): -27177.35\n",
      "\tMDMM Loss:               2636.30\n",
      "\tRemaining Weights:       99.06 %\n"
     ]
    },
    {
     "name": "stderr",
     "output_type": "stream",
     "text": [
      "Epoch 474 [Training]: 100%|██████████| 84/84 [00:06<00:00, 13.02it/s, loss=-27192.27, λc2D1=140.68, λd1=80.26, λd2=104.34, λd3=71.28]\n",
      "Epoch 474 [Validation]: 100%|██████████| 21/21 [00:01<00:00, 14.64it/s, loss=-27495.14]\n"
     ]
    },
    {
     "name": "stdout",
     "output_type": "stream",
     "text": [
      "\tTotal Loss (NLL + MDMM): -27151.19\n",
      "\tMDMM Loss:               2641.23\n",
      "\tRemaining Weights:       99.12 %\n"
     ]
    },
    {
     "name": "stderr",
     "output_type": "stream",
     "text": [
      "Epoch 475 [Training]: 100%|██████████| 84/84 [00:06<00:00, 13.36it/s, loss=-27203.60, λc2D1=140.95, λd1=80.46, λd2=104.58, λd3=71.41]\n",
      "Epoch 475 [Validation]: 100%|██████████| 21/21 [00:01<00:00, 14.75it/s, loss=-27507.57]\n"
     ]
    },
    {
     "name": "stdout",
     "output_type": "stream",
     "text": [
      "\tTotal Loss (NLL + MDMM): -27164.24\n",
      "\tMDMM Loss:               2645.64\n",
      "\tRemaining Weights:       99.06 %\n"
     ]
    },
    {
     "name": "stderr",
     "output_type": "stream",
     "text": [
      "Epoch 476 [Training]: 100%|██████████| 84/84 [00:06<00:00, 13.45it/s, loss=-27200.95, λc2D1=141.23, λd1=80.66, λd2=104.82, λd3=71.54]\n",
      "Epoch 476 [Validation]: 100%|██████████| 21/21 [00:01<00:00, 15.02it/s, loss=-27503.31]\n"
     ]
    },
    {
     "name": "stdout",
     "output_type": "stream",
     "text": [
      "\tTotal Loss (NLL + MDMM): -27160.03\n",
      "\tMDMM Loss:               2650.48\n",
      "\tRemaining Weights:       99.12 %\n"
     ]
    },
    {
     "name": "stderr",
     "output_type": "stream",
     "text": [
      "Epoch 477 [Training]: 100%|██████████| 84/84 [00:06<00:00, 13.52it/s, loss=-27192.43, λc2D1=141.50, λd1=80.86, λd2=105.06, λd3=71.67]\n",
      "Epoch 477 [Validation]: 100%|██████████| 21/21 [00:01<00:00, 15.04it/s, loss=-27480.51]\n"
     ]
    },
    {
     "name": "stdout",
     "output_type": "stream",
     "text": [
      "\tTotal Loss (NLL + MDMM): -27140.97\n",
      "\tMDMM Loss:               2654.93\n",
      "\tRemaining Weights:       99.06 %\n"
     ]
    },
    {
     "name": "stderr",
     "output_type": "stream",
     "text": [
      "Epoch 478 [Training]: 100%|██████████| 84/84 [00:06<00:00, 13.47it/s, loss=-27196.87, λc2D1=141.77, λd1=81.06, λd2=105.30, λd3=71.80]\n",
      "Epoch 478 [Validation]: 100%|██████████| 21/21 [00:01<00:00, 14.95it/s, loss=-27517.36]\n"
     ]
    },
    {
     "name": "stdout",
     "output_type": "stream",
     "text": [
      "\tTotal Loss (NLL + MDMM): -27168.61\n",
      "\tMDMM Loss:               2659.61\n",
      "\tRemaining Weights:       99.06 %\n"
     ]
    },
    {
     "name": "stderr",
     "output_type": "stream",
     "text": [
      "Epoch 479 [Training]: 100%|██████████| 84/84 [00:06<00:00, 13.34it/s, loss=-27209.23, λc2D1=142.04, λd1=81.26, λd2=105.54, λd3=71.93]\n",
      "Epoch 479 [Validation]: 100%|██████████| 21/21 [00:01<00:00, 14.72it/s, loss=-27514.29]\n"
     ]
    },
    {
     "name": "stdout",
     "output_type": "stream",
     "text": [
      "\tTotal Loss (NLL + MDMM): -27171.44\n",
      "\tMDMM Loss:               2664.39\n",
      "\tRemaining Weights:       99.01 %\n"
     ]
    },
    {
     "name": "stderr",
     "output_type": "stream",
     "text": [
      "Epoch 480 [Training]: 100%|██████████| 84/84 [00:06<00:00, 13.45it/s, loss=-27206.94, λc2D1=142.31, λd1=81.46, λd2=105.78, λd3=72.06]\n",
      "Epoch 480 [Validation]: 100%|██████████| 21/21 [00:01<00:00, 15.08it/s, loss=-27502.72]\n"
     ]
    },
    {
     "name": "stdout",
     "output_type": "stream",
     "text": [
      "\tTotal Loss (NLL + MDMM): -27153.27\n",
      "\tMDMM Loss:               2668.95\n",
      "\tRemaining Weights:       99.06 %\n"
     ]
    },
    {
     "name": "stderr",
     "output_type": "stream",
     "text": [
      "Epoch 481 [Training]: 100%|██████████| 84/84 [00:06<00:00, 13.52it/s, loss=-27187.36, λc2D1=142.59, λd1=81.66, λd2=106.02, λd3=72.19]\n",
      "Epoch 481 [Validation]: 100%|██████████| 21/21 [00:01<00:00, 14.61it/s, loss=-27492.22]\n"
     ]
    },
    {
     "name": "stdout",
     "output_type": "stream",
     "text": [
      "\tTotal Loss (NLL + MDMM): -27148.94\n",
      "\tMDMM Loss:               2673.59\n",
      "\tRemaining Weights:       99.17 %\n"
     ]
    },
    {
     "name": "stderr",
     "output_type": "stream",
     "text": [
      "Epoch 482 [Training]: 100%|██████████| 84/84 [00:06<00:00, 13.33it/s, loss=-27185.44, λc2D1=142.86, λd1=81.86, λd2=106.26, λd3=72.32]\n",
      "Epoch 482 [Validation]: 100%|██████████| 21/21 [00:01<00:00, 15.13it/s, loss=-27460.43]\n"
     ]
    },
    {
     "name": "stdout",
     "output_type": "stream",
     "text": [
      "\tTotal Loss (NLL + MDMM): -27122.38\n",
      "\tMDMM Loss:               2678.34\n",
      "\tRemaining Weights:       99.34 %\n"
     ]
    },
    {
     "name": "stderr",
     "output_type": "stream",
     "text": [
      "Epoch 483 [Training]: 100%|██████████| 84/84 [00:06<00:00, 13.50it/s, loss=-27187.65, λc2D1=143.13, λd1=82.06, λd2=106.49, λd3=72.46]\n",
      "Epoch 483 [Validation]: 100%|██████████| 21/21 [00:01<00:00, 14.66it/s, loss=-27475.19]\n"
     ]
    },
    {
     "name": "stdout",
     "output_type": "stream",
     "text": [
      "\tTotal Loss (NLL + MDMM): -27134.51\n",
      "\tMDMM Loss:               2682.91\n",
      "\tRemaining Weights:       99.28 %\n"
     ]
    },
    {
     "name": "stderr",
     "output_type": "stream",
     "text": [
      "Epoch 484 [Training]: 100%|██████████| 84/84 [00:06<00:00, 12.87it/s, loss=-27186.85, λc2D1=143.40, λd1=82.26, λd2=106.73, λd3=72.59]\n",
      "Epoch 484 [Validation]: 100%|██████████| 21/21 [00:01<00:00, 13.85it/s, loss=-27496.19]\n"
     ]
    },
    {
     "name": "stdout",
     "output_type": "stream",
     "text": [
      "\tTotal Loss (NLL + MDMM): -27152.50\n",
      "\tMDMM Loss:               2687.56\n",
      "\tRemaining Weights:       99.23 %\n"
     ]
    },
    {
     "name": "stderr",
     "output_type": "stream",
     "text": [
      "Epoch 485 [Training]: 100%|██████████| 84/84 [00:06<00:00, 13.21it/s, loss=-27156.34, λc2D1=143.68, λd1=82.46, λd2=106.97, λd3=72.72]\n",
      "Epoch 485 [Validation]: 100%|██████████| 21/21 [00:01<00:00, 15.08it/s, loss=-27434.88]\n"
     ]
    },
    {
     "name": "stdout",
     "output_type": "stream",
     "text": [
      "\tTotal Loss (NLL + MDMM): -27097.96\n",
      "\tMDMM Loss:               2692.11\n",
      "\tRemaining Weights:       99.28 %\n"
     ]
    },
    {
     "name": "stderr",
     "output_type": "stream",
     "text": [
      "Epoch 486 [Training]: 100%|██████████| 84/84 [00:06<00:00, 13.50it/s, loss=-27161.03, λc2D1=143.95, λd1=82.66, λd2=107.21, λd3=72.85]\n",
      "Epoch 486 [Validation]: 100%|██████████| 21/21 [00:01<00:00, 15.12it/s, loss=-27447.86]\n"
     ]
    },
    {
     "name": "stdout",
     "output_type": "stream",
     "text": [
      "\tTotal Loss (NLL + MDMM): -27105.27\n",
      "\tMDMM Loss:               2696.70\n",
      "\tRemaining Weights:       99.23 %\n"
     ]
    },
    {
     "name": "stderr",
     "output_type": "stream",
     "text": [
      "Epoch 487 [Training]: 100%|██████████| 84/84 [00:06<00:00, 13.49it/s, loss=-27181.91, λc2D1=144.22, λd1=82.87, λd2=107.45, λd3=72.98]\n",
      "Epoch 487 [Validation]: 100%|██████████| 21/21 [00:01<00:00, 14.69it/s, loss=-27478.39]\n"
     ]
    },
    {
     "name": "stdout",
     "output_type": "stream",
     "text": [
      "\tTotal Loss (NLL + MDMM): -27129.46\n",
      "\tMDMM Loss:               2700.89\n",
      "\tRemaining Weights:       99.17 %\n"
     ]
    },
    {
     "name": "stderr",
     "output_type": "stream",
     "text": [
      "Epoch 488 [Training]: 100%|██████████| 84/84 [00:06<00:00, 13.01it/s, loss=-27195.95, λc2D1=144.49, λd1=83.07, λd2=107.69, λd3=73.11]\n",
      "Epoch 488 [Validation]: 100%|██████████| 21/21 [00:01<00:00, 13.77it/s, loss=-27500.99]\n"
     ]
    },
    {
     "name": "stdout",
     "output_type": "stream",
     "text": [
      "\tTotal Loss (NLL + MDMM): -27153.35\n",
      "\tMDMM Loss:               2705.54\n",
      "\tRemaining Weights:       99.01 %\n"
     ]
    },
    {
     "name": "stderr",
     "output_type": "stream",
     "text": [
      "Epoch 489 [Training]: 100%|██████████| 84/84 [00:06<00:00, 13.36it/s, loss=-27182.76, λc2D1=144.77, λd1=83.27, λd2=107.93, λd3=73.24]\n",
      "Epoch 489 [Validation]: 100%|██████████| 21/21 [00:01<00:00, 14.62it/s, loss=-27488.67]\n"
     ]
    },
    {
     "name": "stdout",
     "output_type": "stream",
     "text": [
      "\tTotal Loss (NLL + MDMM): -27137.83\n",
      "\tMDMM Loss:               2710.37\n",
      "\tRemaining Weights:       99.12 %\n"
     ]
    },
    {
     "name": "stderr",
     "output_type": "stream",
     "text": [
      "Epoch 490 [Training]: 100%|██████████| 84/84 [00:06<00:00, 13.23it/s, loss=-27180.76, λc2D1=145.04, λd1=83.47, λd2=108.17, λd3=73.37]\n",
      "Epoch 490 [Validation]: 100%|██████████| 21/21 [00:01<00:00, 14.92it/s, loss=-27480.51]\n"
     ]
    },
    {
     "name": "stdout",
     "output_type": "stream",
     "text": [
      "\tTotal Loss (NLL + MDMM): -27136.42\n",
      "\tMDMM Loss:               2714.91\n",
      "\tRemaining Weights:       99.12 %\n"
     ]
    },
    {
     "name": "stderr",
     "output_type": "stream",
     "text": [
      "Epoch 491 [Training]: 100%|██████████| 84/84 [00:06<00:00, 13.34it/s, loss=-27175.89, λc2D1=145.31, λd1=83.67, λd2=108.41, λd3=73.50]\n",
      "Epoch 491 [Validation]: 100%|██████████| 21/21 [00:01<00:00, 14.63it/s, loss=-27470.98]\n"
     ]
    },
    {
     "name": "stdout",
     "output_type": "stream",
     "text": [
      "\tTotal Loss (NLL + MDMM): -27128.46\n",
      "\tMDMM Loss:               2719.44\n",
      "\tRemaining Weights:       99.06 %\n"
     ]
    },
    {
     "name": "stderr",
     "output_type": "stream",
     "text": [
      "Epoch 492 [Training]: 100%|██████████| 84/84 [00:06<00:00, 13.28it/s, loss=-27171.05, λc2D1=145.58, λd1=83.87, λd2=108.65, λd3=73.63]\n",
      "Epoch 492 [Validation]: 100%|██████████| 21/21 [00:01<00:00, 14.64it/s, loss=-27474.07]\n"
     ]
    },
    {
     "name": "stdout",
     "output_type": "stream",
     "text": [
      "\tTotal Loss (NLL + MDMM): -27129.47\n",
      "\tMDMM Loss:               2724.01\n",
      "\tRemaining Weights:       99.23 %\n"
     ]
    },
    {
     "name": "stderr",
     "output_type": "stream",
     "text": [
      "Epoch 493 [Training]: 100%|██████████| 84/84 [00:06<00:00, 13.09it/s, loss=-27185.74, λc2D1=145.85, λd1=84.07, λd2=108.89, λd3=73.76]\n",
      "Epoch 493 [Validation]: 100%|██████████| 21/21 [00:01<00:00, 14.69it/s, loss=-27501.42]\n"
     ]
    },
    {
     "name": "stdout",
     "output_type": "stream",
     "text": [
      "\tTotal Loss (NLL + MDMM): -27150.98\n",
      "\tMDMM Loss:               2728.31\n",
      "\tRemaining Weights:       99.06 %\n"
     ]
    },
    {
     "name": "stderr",
     "output_type": "stream",
     "text": [
      "Epoch 494 [Training]: 100%|██████████| 84/84 [00:06<00:00, 13.30it/s, loss=-27189.71, λc2D1=146.12, λd1=84.27, λd2=109.13, λd3=73.89]\n",
      "Epoch 494 [Validation]: 100%|██████████| 21/21 [00:01<00:00, 14.96it/s, loss=-27494.79]\n"
     ]
    },
    {
     "name": "stdout",
     "output_type": "stream",
     "text": [
      "\tTotal Loss (NLL + MDMM): -27146.21\n",
      "\tMDMM Loss:               2733.14\n",
      "\tRemaining Weights:       99.06 %\n"
     ]
    },
    {
     "name": "stderr",
     "output_type": "stream",
     "text": [
      "Epoch 495 [Training]: 100%|██████████| 84/84 [00:06<00:00, 13.27it/s, loss=-27182.56, λc2D1=146.40, λd1=84.48, λd2=109.37, λd3=74.02]\n",
      "Epoch 495 [Validation]: 100%|██████████| 21/21 [00:01<00:00, 14.76it/s, loss=-27483.96]\n"
     ]
    },
    {
     "name": "stdout",
     "output_type": "stream",
     "text": [
      "\tTotal Loss (NLL + MDMM): -27137.25\n",
      "\tMDMM Loss:               2737.60\n",
      "\tRemaining Weights:       98.90 %\n"
     ]
    },
    {
     "name": "stderr",
     "output_type": "stream",
     "text": [
      "Epoch 496 [Training]: 100%|██████████| 84/84 [00:06<00:00, 13.44it/s, loss=-27172.30, λc2D1=146.67, λd1=84.68, λd2=109.61, λd3=74.15]\n",
      "Epoch 496 [Validation]: 100%|██████████| 21/21 [00:01<00:00, 14.79it/s, loss=-27451.32]\n"
     ]
    },
    {
     "name": "stdout",
     "output_type": "stream",
     "text": [
      "\tTotal Loss (NLL + MDMM): -27112.86\n",
      "\tMDMM Loss:               2707.64\n",
      "\tRemaining Weights:       98.95 %\n"
     ]
    },
    {
     "name": "stderr",
     "output_type": "stream",
     "text": [
      "Epoch 497 [Training]: 100%|██████████| 84/84 [00:06<00:00, 13.32it/s, loss=-27214.08, λc2D1=146.94, λd1=84.88, λd2=109.85, λd3=74.28]\n",
      "Epoch 497 [Validation]: 100%|██████████| 21/21 [00:01<00:00, 14.85it/s, loss=-27524.61]\n"
     ]
    },
    {
     "name": "stdout",
     "output_type": "stream",
     "text": [
      "\tTotal Loss (NLL + MDMM): -27174.49\n",
      "\tMDMM Loss:               2712.13\n",
      "\tRemaining Weights:       99.01 %\n"
     ]
    },
    {
     "name": "stderr",
     "output_type": "stream",
     "text": [
      "Epoch 498 [Training]: 100%|██████████| 84/84 [00:06<00:00, 13.29it/s, loss=-27206.20, λc2D1=147.21, λd1=85.08, λd2=110.09, λd3=74.41]\n",
      "Epoch 498 [Validation]: 100%|██████████| 21/21 [00:01<00:00, 14.34it/s, loss=-27504.13]\n"
     ]
    },
    {
     "name": "stdout",
     "output_type": "stream",
     "text": [
      "\tTotal Loss (NLL + MDMM): -27157.52\n",
      "\tMDMM Loss:               2716.37\n",
      "\tRemaining Weights:       98.90 %\n"
     ]
    },
    {
     "name": "stderr",
     "output_type": "stream",
     "text": [
      "Epoch 499 [Training]: 100%|██████████| 84/84 [00:06<00:00, 13.16it/s, loss=-27219.58, λc2D1=147.48, λd1=85.28, λd2=110.33, λd3=74.54]\n",
      "Epoch 499 [Validation]: 100%|██████████| 21/21 [00:01<00:00, 14.43it/s, loss=-27530.71]\n"
     ]
    },
    {
     "name": "stdout",
     "output_type": "stream",
     "text": [
      "\tTotal Loss (NLL + MDMM): -27176.98\n",
      "\tMDMM Loss:               2720.66\n",
      "\tRemaining Weights:       98.84 %\n"
     ]
    },
    {
     "name": "stderr",
     "output_type": "stream",
     "text": [
      "Epoch 500 [Training]: 100%|██████████| 84/84 [00:06<00:00, 13.34it/s, loss=-27196.45, λc2D1=147.75, λd1=85.49, λd2=110.57, λd3=74.67]\n",
      "Epoch 500 [Validation]: 100%|██████████| 21/21 [00:01<00:00, 15.02it/s, loss=-27514.36]\n"
     ]
    },
    {
     "name": "stdout",
     "output_type": "stream",
     "text": [
      "\tTotal Loss (NLL + MDMM): -27161.73\n",
      "\tMDMM Loss:               2725.69\n",
      "\tRemaining Weights:       98.95 %\n"
     ]
    },
    {
     "name": "stderr",
     "output_type": "stream",
     "text": [
      "Epoch 501 [Training]: 100%|██████████| 84/84 [00:06<00:00, 13.10it/s, loss=-27184.82, λc2D1=148.02, λd1=85.69, λd2=110.81, λd3=74.80]\n",
      "Epoch 501 [Validation]: 100%|██████████| 21/21 [00:01<00:00, 14.70it/s, loss=-27483.50]\n"
     ]
    },
    {
     "name": "stdout",
     "output_type": "stream",
     "text": [
      "\tTotal Loss (NLL + MDMM): -27139.13\n",
      "\tMDMM Loss:               2730.13\n",
      "\tRemaining Weights:       98.90 %\n"
     ]
    },
    {
     "name": "stderr",
     "output_type": "stream",
     "text": [
      "Epoch 502 [Training]: 100%|██████████| 84/84 [00:06<00:00, 13.30it/s, loss=-27189.08, λc2D1=148.29, λd1=85.89, λd2=111.05, λd3=74.93]\n",
      "Epoch 502 [Validation]: 100%|██████████| 21/21 [00:01<00:00, 14.80it/s, loss=-27492.79]\n"
     ]
    },
    {
     "name": "stdout",
     "output_type": "stream",
     "text": [
      "\tTotal Loss (NLL + MDMM): -27144.79\n",
      "\tMDMM Loss:               2734.70\n",
      "\tRemaining Weights:       99.01 %\n"
     ]
    },
    {
     "name": "stderr",
     "output_type": "stream",
     "text": [
      "Epoch 503 [Training]: 100%|██████████| 84/84 [00:06<00:00, 13.39it/s, loss=-27205.47, λc2D1=148.56, λd1=86.09, λd2=111.29, λd3=75.06]\n",
      "Epoch 503 [Validation]: 100%|██████████| 21/21 [00:01<00:00, 14.97it/s, loss=-27489.80]\n"
     ]
    },
    {
     "name": "stdout",
     "output_type": "stream",
     "text": [
      "\tTotal Loss (NLL + MDMM): -27140.60\n",
      "\tMDMM Loss:               2739.04\n",
      "\tRemaining Weights:       99.01 %\n"
     ]
    },
    {
     "name": "stderr",
     "output_type": "stream",
     "text": [
      "Epoch 504 [Training]: 100%|██████████| 84/84 [00:06<00:00, 13.24it/s, loss=-27215.76, λc2D1=148.83, λd1=86.29, λd2=111.53, λd3=75.19]\n",
      "Epoch 504 [Validation]: 100%|██████████| 21/21 [00:01<00:00, 14.21it/s, loss=-27534.66]\n"
     ]
    },
    {
     "name": "stdout",
     "output_type": "stream",
     "text": [
      "\tTotal Loss (NLL + MDMM): -27178.98\n",
      "\tMDMM Loss:               2743.53\n",
      "\tRemaining Weights:       99.12 %\n"
     ]
    },
    {
     "name": "stderr",
     "output_type": "stream",
     "text": [
      "Epoch 505 [Training]: 100%|██████████| 84/84 [00:06<00:00, 13.05it/s, loss=-27192.54, λc2D1=149.10, λd1=86.49, λd2=111.77, λd3=75.31]\n",
      "Epoch 505 [Validation]: 100%|██████████| 21/21 [00:01<00:00, 14.86it/s, loss=-27491.24]\n"
     ]
    },
    {
     "name": "stdout",
     "output_type": "stream",
     "text": [
      "\tTotal Loss (NLL + MDMM): -27145.60\n",
      "\tMDMM Loss:               2748.20\n",
      "\tRemaining Weights:       99.17 %\n"
     ]
    },
    {
     "name": "stderr",
     "output_type": "stream",
     "text": [
      "Epoch 506 [Training]: 100%|██████████| 84/84 [00:06<00:00, 13.23it/s, loss=-27213.26, λc2D1=149.37, λd1=86.70, λd2=112.01, λd3=75.44]\n",
      "Epoch 506 [Validation]: 100%|██████████| 21/21 [00:01<00:00, 14.52it/s, loss=-27520.47]\n"
     ]
    },
    {
     "name": "stdout",
     "output_type": "stream",
     "text": [
      "\tTotal Loss (NLL + MDMM): -27168.30\n",
      "\tMDMM Loss:               2752.51\n",
      "\tRemaining Weights:       99.06 %\n"
     ]
    },
    {
     "name": "stderr",
     "output_type": "stream",
     "text": [
      "Epoch 507 [Training]: 100%|██████████| 84/84 [00:06<00:00, 13.12it/s, loss=-27204.30, λc2D1=149.65, λd1=86.90, λd2=112.25, λd3=75.57]\n",
      "Epoch 507 [Validation]: 100%|██████████| 21/21 [00:01<00:00, 14.76it/s, loss=-27507.05]\n"
     ]
    },
    {
     "name": "stdout",
     "output_type": "stream",
     "text": [
      "\tTotal Loss (NLL + MDMM): -27155.53\n",
      "\tMDMM Loss:               2756.77\n",
      "\tRemaining Weights:       99.12 %\n"
     ]
    },
    {
     "name": "stderr",
     "output_type": "stream",
     "text": [
      "Epoch 508 [Training]: 100%|██████████| 84/84 [00:06<00:00, 13.19it/s, loss=-27189.67, λc2D1=149.92, λd1=87.10, λd2=112.49, λd3=75.70]\n",
      "Epoch 508 [Validation]: 100%|██████████| 21/21 [00:01<00:00, 14.90it/s, loss=-27460.67]\n"
     ]
    },
    {
     "name": "stdout",
     "output_type": "stream",
     "text": [
      "\tTotal Loss (NLL + MDMM): -27112.73\n",
      "\tMDMM Loss:               2761.23\n",
      "\tRemaining Weights:       99.17 %\n"
     ]
    },
    {
     "name": "stderr",
     "output_type": "stream",
     "text": [
      "Epoch 509 [Training]: 100%|██████████| 84/84 [00:06<00:00, 13.30it/s, loss=-27189.28, λc2D1=150.19, λd1=87.30, λd2=112.73, λd3=75.83]\n",
      "Epoch 509 [Validation]: 100%|██████████| 21/21 [00:01<00:00, 14.71it/s, loss=-27493.72]\n"
     ]
    },
    {
     "name": "stdout",
     "output_type": "stream",
     "text": [
      "\tTotal Loss (NLL + MDMM): -27142.47\n",
      "\tMDMM Loss:               2765.69\n",
      "\tRemaining Weights:       99.17 %\n"
     ]
    },
    {
     "name": "stderr",
     "output_type": "stream",
     "text": [
      "Epoch 510 [Training]: 100%|██████████| 84/84 [00:06<00:00, 13.03it/s, loss=-27199.88, λc2D1=150.46, λd1=87.51, λd2=112.97, λd3=75.96]\n",
      "Epoch 510 [Validation]: 100%|██████████| 21/21 [00:01<00:00, 14.41it/s, loss=-27538.26]\n"
     ]
    },
    {
     "name": "stdout",
     "output_type": "stream",
     "text": [
      "\tTotal Loss (NLL + MDMM): -27176.85\n",
      "\tMDMM Loss:               2769.90\n",
      "\tRemaining Weights:       99.17 %\n"
     ]
    },
    {
     "name": "stderr",
     "output_type": "stream",
     "text": [
      "Epoch 511 [Training]: 100%|██████████| 84/84 [00:06<00:00, 13.17it/s, loss=-27189.26, λc2D1=150.73, λd1=87.71, λd2=113.21, λd3=76.09]\n",
      "Epoch 511 [Validation]: 100%|██████████| 21/21 [00:01<00:00, 14.72it/s, loss=-27503.37]\n"
     ]
    },
    {
     "name": "stdout",
     "output_type": "stream",
     "text": [
      "\tTotal Loss (NLL + MDMM): -27151.80\n",
      "\tMDMM Loss:               2774.39\n",
      "\tRemaining Weights:       99.06 %\n"
     ]
    },
    {
     "name": "stderr",
     "output_type": "stream",
     "text": [
      "Epoch 512 [Training]: 100%|██████████| 84/84 [00:06<00:00, 13.25it/s, loss=-27214.62, λc2D1=151.00, λd1=87.91, λd2=113.45, λd3=76.22]\n",
      "Epoch 512 [Validation]: 100%|██████████| 21/21 [00:01<00:00, 14.60it/s, loss=-27533.54]\n"
     ]
    },
    {
     "name": "stdout",
     "output_type": "stream",
     "text": [
      "\tTotal Loss (NLL + MDMM): -27173.69\n",
      "\tMDMM Loss:               2778.63\n",
      "\tRemaining Weights:       99.01 %\n"
     ]
    },
    {
     "name": "stderr",
     "output_type": "stream",
     "text": [
      "Epoch 513 [Training]: 100%|██████████| 84/84 [00:06<00:00, 13.05it/s, loss=-27221.94, λc2D1=151.27, λd1=88.11, λd2=113.69, λd3=76.35]\n",
      "Epoch 513 [Validation]: 100%|██████████| 21/21 [00:01<00:00, 14.74it/s, loss=-27543.14]\n"
     ]
    },
    {
     "name": "stdout",
     "output_type": "stream",
     "text": [
      "\tTotal Loss (NLL + MDMM): -27181.47\n",
      "\tMDMM Loss:               2777.49\n",
      "\tRemaining Weights:       98.95 %\n"
     ]
    },
    {
     "name": "stderr",
     "output_type": "stream",
     "text": [
      "Epoch 514 [Training]: 100%|██████████| 84/84 [00:06<00:00, 13.12it/s, loss=-27200.32, λc2D1=151.54, λd1=88.32, λd2=113.93, λd3=76.48]\n",
      "Epoch 514 [Validation]: 100%|██████████| 21/21 [00:01<00:00, 14.79it/s, loss=-27494.52]\n"
     ]
    },
    {
     "name": "stdout",
     "output_type": "stream",
     "text": [
      "\tTotal Loss (NLL + MDMM): -27141.74\n",
      "\tMDMM Loss:               2782.01\n",
      "\tRemaining Weights:       98.95 %\n"
     ]
    },
    {
     "name": "stderr",
     "output_type": "stream",
     "text": [
      "Epoch 515 [Training]: 100%|██████████| 84/84 [00:06<00:00, 13.31it/s, loss=-27206.15, λc2D1=151.80, λd1=88.52, λd2=114.17, λd3=76.61]\n",
      "Epoch 515 [Validation]: 100%|██████████| 21/21 [00:01<00:00, 14.95it/s, loss=-27518.87]\n"
     ]
    },
    {
     "name": "stdout",
     "output_type": "stream",
     "text": [
      "\tTotal Loss (NLL + MDMM): -27167.29\n",
      "\tMDMM Loss:               2779.32\n",
      "\tRemaining Weights:       98.90 %\n"
     ]
    },
    {
     "name": "stderr",
     "output_type": "stream",
     "text": [
      "Epoch 516 [Training]: 100%|██████████| 84/84 [00:06<00:00, 13.20it/s, loss=-27214.18, λc2D1=152.07, λd1=88.72, λd2=114.41, λd3=76.74]\n",
      "Epoch 516 [Validation]: 100%|██████████| 21/21 [00:01<00:00, 14.91it/s, loss=-27544.92]\n"
     ]
    },
    {
     "name": "stdout",
     "output_type": "stream",
     "text": [
      "\tTotal Loss (NLL + MDMM): -27182.40\n",
      "\tMDMM Loss:               2783.93\n",
      "\tRemaining Weights:       99.12 %\n"
     ]
    },
    {
     "name": "stderr",
     "output_type": "stream",
     "text": [
      "Epoch 517 [Training]: 100%|██████████| 84/84 [00:06<00:00, 13.15it/s, loss=-27217.40, λc2D1=152.33, λd1=88.92, λd2=114.65, λd3=76.87]\n",
      "Epoch 517 [Validation]: 100%|██████████| 21/21 [00:01<00:00, 15.00it/s, loss=-27527.96]\n"
     ]
    },
    {
     "name": "stdout",
     "output_type": "stream",
     "text": [
      "\tTotal Loss (NLL + MDMM): -27169.32\n",
      "\tMDMM Loss:               2788.21\n",
      "\tRemaining Weights:       99.01 %\n"
     ]
    },
    {
     "name": "stderr",
     "output_type": "stream",
     "text": [
      "Epoch 518 [Training]: 100%|██████████| 84/84 [00:06<00:00, 13.31it/s, loss=-27216.27, λc2D1=152.59, λd1=89.13, λd2=114.89, λd3=77.00]\n",
      "Epoch 518 [Validation]: 100%|██████████| 21/21 [00:01<00:00, 14.54it/s, loss=-27540.86]\n"
     ]
    },
    {
     "name": "stdout",
     "output_type": "stream",
     "text": [
      "\tTotal Loss (NLL + MDMM): -27184.60\n",
      "\tMDMM Loss:               2792.46\n",
      "\tRemaining Weights:       99.06 %\n"
     ]
    },
    {
     "name": "stderr",
     "output_type": "stream",
     "text": [
      "Epoch 519 [Training]: 100%|██████████| 84/84 [00:06<00:00, 13.22it/s, loss=-27200.29, λc2D1=152.86, λd1=89.33, λd2=115.13, λd3=77.13]\n",
      "Epoch 519 [Validation]: 100%|██████████| 21/21 [00:01<00:00, 14.82it/s, loss=-27514.00]\n"
     ]
    },
    {
     "name": "stdout",
     "output_type": "stream",
     "text": [
      "\tTotal Loss (NLL + MDMM): -27152.75\n",
      "\tMDMM Loss:               2796.86\n",
      "\tRemaining Weights:       99.06 %\n"
     ]
    },
    {
     "name": "stderr",
     "output_type": "stream",
     "text": [
      "Epoch 520 [Training]: 100%|██████████| 84/84 [00:06<00:00, 13.33it/s, loss=-27198.21, λc2D1=153.12, λd1=89.53, λd2=115.37, λd3=77.26]\n",
      "Epoch 520 [Validation]: 100%|██████████| 21/21 [00:01<00:00, 14.87it/s, loss=-27508.33]\n"
     ]
    },
    {
     "name": "stdout",
     "output_type": "stream",
     "text": [
      "\tTotal Loss (NLL + MDMM): -27153.10\n",
      "\tMDMM Loss:               2801.20\n",
      "\tRemaining Weights:       98.95 %\n"
     ]
    },
    {
     "name": "stderr",
     "output_type": "stream",
     "text": [
      "Epoch 521 [Training]: 100%|██████████| 84/84 [00:06<00:00, 13.28it/s, loss=-27185.62, λc2D1=153.39, λd1=89.74, λd2=115.61, λd3=77.38]\n",
      "Epoch 521 [Validation]: 100%|██████████| 21/21 [00:01<00:00, 14.49it/s, loss=-27475.42]\n"
     ]
    },
    {
     "name": "stdout",
     "output_type": "stream",
     "text": [
      "\tTotal Loss (NLL + MDMM): -27127.55\n",
      "\tMDMM Loss:               2805.48\n",
      "\tRemaining Weights:       99.01 %\n"
     ]
    },
    {
     "name": "stderr",
     "output_type": "stream",
     "text": [
      "Epoch 522 [Training]: 100%|██████████| 84/84 [00:06<00:00, 12.97it/s, loss=-27203.42, λc2D1=153.65, λd1=89.94, λd2=115.85, λd3=77.51]\n",
      "Epoch 522 [Validation]: 100%|██████████| 21/21 [00:01<00:00, 15.07it/s, loss=-27510.85]\n"
     ]
    },
    {
     "name": "stdout",
     "output_type": "stream",
     "text": [
      "\tTotal Loss (NLL + MDMM): -27149.90\n",
      "\tMDMM Loss:               2809.78\n",
      "\tRemaining Weights:       99.06 %\n"
     ]
    },
    {
     "name": "stderr",
     "output_type": "stream",
     "text": [
      "Epoch 523 [Training]: 100%|██████████| 84/84 [00:06<00:00, 13.17it/s, loss=-27201.25, λc2D1=153.91, λd1=90.14, λd2=116.09, λd3=77.64]\n",
      "Epoch 523 [Validation]: 100%|██████████| 21/21 [00:01<00:00, 14.38it/s, loss=-27504.01]\n"
     ]
    },
    {
     "name": "stdout",
     "output_type": "stream",
     "text": [
      "\tTotal Loss (NLL + MDMM): -27146.35\n",
      "\tMDMM Loss:               2814.30\n",
      "\tRemaining Weights:       99.06 %\n"
     ]
    },
    {
     "name": "stderr",
     "output_type": "stream",
     "text": [
      "Epoch 524 [Training]: 100%|██████████| 84/84 [00:06<00:00, 13.25it/s, loss=-27184.99, λc2D1=154.18, λd1=90.34, λd2=116.33, λd3=77.77]\n",
      "Epoch 524 [Validation]: 100%|██████████| 21/21 [00:01<00:00, 14.60it/s, loss=-27480.95]\n"
     ]
    },
    {
     "name": "stdout",
     "output_type": "stream",
     "text": [
      "\tTotal Loss (NLL + MDMM): -27130.75\n",
      "\tMDMM Loss:               2818.52\n",
      "\tRemaining Weights:       99.01 %\n"
     ]
    },
    {
     "name": "stderr",
     "output_type": "stream",
     "text": [
      "Epoch 525 [Training]: 100%|██████████| 84/84 [00:06<00:00, 13.49it/s, loss=-27176.18, λc2D1=154.44, λd1=90.55, λd2=116.57, λd3=77.90]\n",
      "Epoch 525 [Validation]: 100%|██████████| 21/21 [00:01<00:00, 14.59it/s, loss=-27461.73]\n"
     ]
    },
    {
     "name": "stdout",
     "output_type": "stream",
     "text": [
      "\tTotal Loss (NLL + MDMM): -27106.75\n",
      "\tMDMM Loss:               2822.83\n",
      "\tRemaining Weights:       99.01 %\n"
     ]
    },
    {
     "name": "stderr",
     "output_type": "stream",
     "text": [
      "Epoch 526 [Training]: 100%|██████████| 84/84 [00:06<00:00, 13.28it/s, loss=-27186.30, λc2D1=154.70, λd1=90.75, λd2=116.81, λd3=78.03]\n",
      "Epoch 526 [Validation]: 100%|██████████| 21/21 [00:01<00:00, 14.81it/s, loss=-27502.70]\n"
     ]
    },
    {
     "name": "stdout",
     "output_type": "stream",
     "text": [
      "\tTotal Loss (NLL + MDMM): -27145.13\n",
      "\tMDMM Loss:               2827.45\n",
      "\tRemaining Weights:       99.12 %\n"
     ]
    },
    {
     "name": "stderr",
     "output_type": "stream",
     "text": [
      "Epoch 527 [Training]: 100%|██████████| 84/84 [00:06<00:00, 12.96it/s, loss=-27186.83, λc2D1=154.97, λd1=90.96, λd2=117.05, λd3=78.16]\n",
      "Epoch 527 [Validation]: 100%|██████████| 21/21 [00:01<00:00, 14.48it/s, loss=-27478.56]\n"
     ]
    },
    {
     "name": "stdout",
     "output_type": "stream",
     "text": [
      "\tTotal Loss (NLL + MDMM): -27128.18\n",
      "\tMDMM Loss:               2831.53\n",
      "\tRemaining Weights:       99.17 %\n"
     ]
    },
    {
     "name": "stderr",
     "output_type": "stream",
     "text": [
      "Epoch 528 [Training]: 100%|██████████| 84/84 [00:06<00:00, 13.18it/s, loss=-27188.10, λc2D1=155.23, λd1=91.16, λd2=117.29, λd3=78.29]\n",
      "Epoch 528 [Validation]: 100%|██████████| 21/21 [00:01<00:00, 14.63it/s, loss=-27519.92]\n"
     ]
    },
    {
     "name": "stdout",
     "output_type": "stream",
     "text": [
      "\tTotal Loss (NLL + MDMM): -27162.54\n",
      "\tMDMM Loss:               2835.94\n",
      "\tRemaining Weights:       99.17 %\n"
     ]
    },
    {
     "name": "stderr",
     "output_type": "stream",
     "text": [
      "Epoch 529 [Training]: 100%|██████████| 84/84 [00:06<00:00, 13.27it/s, loss=-27206.96, λc2D1=155.49, λd1=91.36, λd2=117.53, λd3=78.42]\n",
      "Epoch 529 [Validation]: 100%|██████████| 21/21 [00:01<00:00, 14.93it/s, loss=-27525.64]\n"
     ]
    },
    {
     "name": "stdout",
     "output_type": "stream",
     "text": [
      "\tTotal Loss (NLL + MDMM): -27160.95\n",
      "\tMDMM Loss:               2840.11\n",
      "\tRemaining Weights:       99.12 %\n"
     ]
    },
    {
     "name": "stderr",
     "output_type": "stream",
     "text": [
      "Epoch 530 [Training]: 100%|██████████| 84/84 [00:06<00:00, 13.45it/s, loss=-27194.58, λc2D1=155.76, λd1=91.57, λd2=117.78, λd3=78.55]\n",
      "Epoch 530 [Validation]: 100%|██████████| 21/21 [00:01<00:00, 14.65it/s, loss=-27501.20]\n"
     ]
    },
    {
     "name": "stdout",
     "output_type": "stream",
     "text": [
      "\tTotal Loss (NLL + MDMM): -27140.21\n",
      "\tMDMM Loss:               2844.53\n",
      "\tRemaining Weights:       99.17 %\n"
     ]
    },
    {
     "name": "stderr",
     "output_type": "stream",
     "text": [
      "Epoch 531 [Training]: 100%|██████████| 84/84 [00:06<00:00, 13.18it/s, loss=-27167.04, λc2D1=156.02, λd1=91.77, λd2=118.02, λd3=78.67]\n",
      "Epoch 531 [Validation]: 100%|██████████| 21/21 [00:01<00:00, 14.69it/s, loss=-27476.34]\n"
     ]
    },
    {
     "name": "stdout",
     "output_type": "stream",
     "text": [
      "\tTotal Loss (NLL + MDMM): -27114.17\n",
      "\tMDMM Loss:               2848.77\n",
      "\tRemaining Weights:       99.12 %\n"
     ]
    },
    {
     "name": "stderr",
     "output_type": "stream",
     "text": [
      "Epoch 532 [Training]: 100%|██████████| 84/84 [00:06<00:00, 13.30it/s, loss=-27204.02, λc2D1=156.28, λd1=91.97, λd2=118.26, λd3=78.80]\n",
      "Epoch 532 [Validation]: 100%|██████████| 21/21 [00:01<00:00, 14.72it/s, loss=-27519.63]\n"
     ]
    },
    {
     "name": "stdout",
     "output_type": "stream",
     "text": [
      "\tTotal Loss (NLL + MDMM): -27158.96\n",
      "\tMDMM Loss:               2852.92\n",
      "\tRemaining Weights:       98.95 %\n"
     ]
    },
    {
     "name": "stderr",
     "output_type": "stream",
     "text": [
      "Epoch 533 [Training]: 100%|██████████| 84/84 [00:06<00:00, 13.02it/s, loss=-27177.95, λc2D1=156.55, λd1=92.18, λd2=118.50, λd3=78.93]\n",
      "Epoch 533 [Validation]: 100%|██████████| 21/21 [00:01<00:00, 14.85it/s, loss=-27468.58]\n"
     ]
    },
    {
     "name": "stdout",
     "output_type": "stream",
     "text": [
      "\tTotal Loss (NLL + MDMM): -27115.13\n",
      "\tMDMM Loss:               2857.30\n",
      "\tRemaining Weights:       99.01 %\n"
     ]
    },
    {
     "name": "stderr",
     "output_type": "stream",
     "text": [
      "Epoch 534 [Training]: 100%|██████████| 84/84 [00:06<00:00, 13.26it/s, loss=-27196.46, λc2D1=156.81, λd1=92.38, λd2=118.74, λd3=79.06]\n",
      "Epoch 534 [Validation]: 100%|██████████| 21/21 [00:01<00:00, 15.07it/s, loss=-27513.94]\n"
     ]
    },
    {
     "name": "stdout",
     "output_type": "stream",
     "text": [
      "\tTotal Loss (NLL + MDMM): -27152.48\n",
      "\tMDMM Loss:               2861.41\n",
      "\tRemaining Weights:       98.90 %\n"
     ]
    },
    {
     "name": "stderr",
     "output_type": "stream",
     "text": [
      "Epoch 535 [Training]: 100%|██████████| 84/84 [00:06<00:00, 13.16it/s, loss=-27200.65, λc2D1=157.07, λd1=92.58, λd2=118.98, λd3=79.19]\n",
      "Epoch 535 [Validation]: 100%|██████████| 21/21 [00:01<00:00, 15.02it/s, loss=-27521.51]\n"
     ]
    },
    {
     "name": "stdout",
     "output_type": "stream",
     "text": [
      "\tTotal Loss (NLL + MDMM): -27158.28\n",
      "\tMDMM Loss:               2865.53\n",
      "\tRemaining Weights:       98.90 %\n"
     ]
    },
    {
     "name": "stderr",
     "output_type": "stream",
     "text": [
      "Epoch 536 [Training]: 100%|██████████| 84/84 [00:06<00:00, 13.29it/s, loss=-27187.73, λc2D1=157.34, λd1=92.79, λd2=119.22, λd3=79.32]\n",
      "Epoch 536 [Validation]: 100%|██████████| 21/21 [00:01<00:00, 14.68it/s, loss=-27523.99]\n"
     ]
    },
    {
     "name": "stdout",
     "output_type": "stream",
     "text": [
      "\tTotal Loss (NLL + MDMM): -27163.26\n",
      "\tMDMM Loss:               2869.94\n",
      "\tRemaining Weights:       98.84 %\n"
     ]
    },
    {
     "name": "stderr",
     "output_type": "stream",
     "text": [
      "Epoch 537 [Training]: 100%|██████████| 84/84 [00:06<00:00, 13.29it/s, loss=-27180.79, λc2D1=157.60, λd1=92.99, λd2=119.46, λd3=79.45]\n",
      "Epoch 537 [Validation]: 100%|██████████| 21/21 [00:01<00:00, 14.73it/s, loss=-27520.43]\n"
     ]
    },
    {
     "name": "stdout",
     "output_type": "stream",
     "text": [
      "\tTotal Loss (NLL + MDMM): -27158.43\n",
      "\tMDMM Loss:               2874.08\n",
      "\tRemaining Weights:       98.90 %\n"
     ]
    },
    {
     "name": "stderr",
     "output_type": "stream",
     "text": [
      "Epoch 538 [Training]: 100%|██████████| 84/84 [00:06<00:00, 13.25it/s, loss=-27187.76, λc2D1=157.86, λd1=93.19, λd2=119.70, λd3=79.58]\n",
      "Epoch 538 [Validation]: 100%|██████████| 21/21 [00:01<00:00, 14.85it/s, loss=-27507.89]\n"
     ]
    },
    {
     "name": "stdout",
     "output_type": "stream",
     "text": [
      "\tTotal Loss (NLL + MDMM): -27143.62\n",
      "\tMDMM Loss:               2878.37\n",
      "\tRemaining Weights:       98.84 %\n"
     ]
    },
    {
     "name": "stderr",
     "output_type": "stream",
     "text": [
      "Epoch 539 [Training]: 100%|██████████| 84/84 [00:06<00:00, 13.21it/s, loss=-27158.42, λc2D1=158.13, λd1=93.40, λd2=119.95, λd3=79.71]\n",
      "Epoch 539 [Validation]: 100%|██████████| 21/21 [00:01<00:00, 15.18it/s, loss=-27514.30]\n"
     ]
    },
    {
     "name": "stdout",
     "output_type": "stream",
     "text": [
      "\tTotal Loss (NLL + MDMM): -27152.17\n",
      "\tMDMM Loss:               2882.48\n",
      "\tRemaining Weights:       98.90 %\n"
     ]
    },
    {
     "name": "stderr",
     "output_type": "stream",
     "text": [
      "Epoch 540 [Training]: 100%|██████████| 84/84 [00:06<00:00, 13.20it/s, loss=-27179.40, λc2D1=158.39, λd1=93.60, λd2=120.19, λd3=79.84]\n",
      "Epoch 540 [Validation]: 100%|██████████| 21/21 [00:01<00:00, 14.43it/s, loss=-27526.11]\n"
     ]
    },
    {
     "name": "stdout",
     "output_type": "stream",
     "text": [
      "\tTotal Loss (NLL + MDMM): -27164.14\n",
      "\tMDMM Loss:               2886.80\n",
      "\tRemaining Weights:       99.06 %\n"
     ]
    },
    {
     "name": "stderr",
     "output_type": "stream",
     "text": [
      "Epoch 541 [Training]: 100%|██████████| 84/84 [00:06<00:00, 13.34it/s, loss=-27153.20, λc2D1=158.65, λd1=93.81, λd2=120.43, λd3=79.96]\n",
      "Epoch 541 [Validation]: 100%|██████████| 21/21 [00:01<00:00, 14.78it/s, loss=-27474.26]\n"
     ]
    },
    {
     "name": "stdout",
     "output_type": "stream",
     "text": [
      "\tTotal Loss (NLL + MDMM): -27120.90\n",
      "\tMDMM Loss:               2891.22\n",
      "\tRemaining Weights:       99.01 %\n"
     ]
    },
    {
     "name": "stderr",
     "output_type": "stream",
     "text": [
      "Epoch 542 [Training]: 100%|██████████| 84/84 [00:06<00:00, 13.46it/s, loss=-27167.93, λc2D1=158.92, λd1=94.01, λd2=120.67, λd3=80.09]\n",
      "Epoch 542 [Validation]: 100%|██████████| 21/21 [00:01<00:00, 14.85it/s, loss=-27518.17]\n"
     ]
    },
    {
     "name": "stdout",
     "output_type": "stream",
     "text": [
      "\tTotal Loss (NLL + MDMM): -27155.57\n",
      "\tMDMM Loss:               2895.29\n",
      "\tRemaining Weights:       99.06 %\n"
     ]
    },
    {
     "name": "stderr",
     "output_type": "stream",
     "text": [
      "Epoch 543 [Training]: 100%|██████████| 84/84 [00:06<00:00, 13.10it/s, loss=-27189.50, λc2D1=159.18, λd1=94.21, λd2=120.91, λd3=80.22]\n",
      "Epoch 543 [Validation]: 100%|██████████| 21/21 [00:01<00:00, 14.93it/s, loss=-27514.53]\n"
     ]
    },
    {
     "name": "stdout",
     "output_type": "stream",
     "text": [
      "\tTotal Loss (NLL + MDMM): -27154.43\n",
      "\tMDMM Loss:               2899.08\n",
      "\tRemaining Weights:       99.12 %\n"
     ]
    },
    {
     "name": "stderr",
     "output_type": "stream",
     "text": [
      "Epoch 544 [Training]: 100%|██████████| 84/84 [00:06<00:00, 13.31it/s, loss=-27166.53, λc2D1=159.44, λd1=94.42, λd2=121.15, λd3=80.35]\n",
      "Epoch 544 [Validation]: 100%|██████████| 21/21 [00:01<00:00, 14.84it/s, loss=-27483.20]\n"
     ]
    },
    {
     "name": "stdout",
     "output_type": "stream",
     "text": [
      "\tTotal Loss (NLL + MDMM): -27122.34\n",
      "\tMDMM Loss:               2903.67\n",
      "\tRemaining Weights:       99.01 %\n"
     ]
    },
    {
     "name": "stderr",
     "output_type": "stream",
     "text": [
      "Epoch 545 [Training]: 100%|██████████| 84/84 [00:06<00:00, 12.99it/s, loss=-27193.26, λc2D1=159.71, λd1=94.62, λd2=121.39, λd3=80.48]\n",
      "Epoch 545 [Validation]: 100%|██████████| 21/21 [00:01<00:00, 14.92it/s, loss=-27524.69]\n"
     ]
    },
    {
     "name": "stdout",
     "output_type": "stream",
     "text": [
      "\tTotal Loss (NLL + MDMM): -27153.98\n",
      "\tMDMM Loss:               2907.88\n",
      "\tRemaining Weights:       99.01 %\n"
     ]
    },
    {
     "name": "stderr",
     "output_type": "stream",
     "text": [
      "Epoch 546 [Training]: 100%|██████████| 84/84 [00:06<00:00, 13.09it/s, loss=-27173.12, λc2D1=159.97, λd1=94.83, λd2=121.63, λd3=80.61]\n",
      "Epoch 546 [Validation]: 100%|██████████| 21/21 [00:01<00:00, 14.77it/s, loss=-27502.85]\n"
     ]
    },
    {
     "name": "stdout",
     "output_type": "stream",
     "text": [
      "\tTotal Loss (NLL + MDMM): -27144.27\n",
      "\tMDMM Loss:               2903.22\n",
      "\tRemaining Weights:       99.06 %\n"
     ]
    },
    {
     "name": "stderr",
     "output_type": "stream",
     "text": [
      "Epoch 547 [Training]: 100%|██████████| 84/84 [00:06<00:00, 13.21it/s, loss=-27170.72, λc2D1=160.23, λd1=95.03, λd2=121.87, λd3=80.74]\n",
      "Epoch 547 [Validation]: 100%|██████████| 21/21 [00:01<00:00, 14.27it/s, loss=-27454.67]\n"
     ]
    },
    {
     "name": "stdout",
     "output_type": "stream",
     "text": [
      "\tTotal Loss (NLL + MDMM): -27101.97\n",
      "\tMDMM Loss:               2907.22\n",
      "\tRemaining Weights:       99.01 %\n"
     ]
    },
    {
     "name": "stderr",
     "output_type": "stream",
     "text": [
      "Epoch 548 [Training]: 100%|██████████| 84/84 [00:06<00:00, 13.35it/s, loss=-27177.57, λc2D1=160.48, λd1=95.23, λd2=122.12, λd3=80.86]\n",
      "Epoch 548 [Validation]: 100%|██████████| 21/21 [00:01<00:00, 14.89it/s, loss=-27503.67]\n"
     ]
    },
    {
     "name": "stdout",
     "output_type": "stream",
     "text": [
      "\tTotal Loss (NLL + MDMM): -27142.61\n",
      "\tMDMM Loss:               2911.50\n",
      "\tRemaining Weights:       99.01 %\n"
     ]
    },
    {
     "name": "stderr",
     "output_type": "stream",
     "text": [
      "Epoch 549 [Training]: 100%|██████████| 84/84 [00:06<00:00, 13.08it/s, loss=-27192.96, λc2D1=160.74, λd1=95.44, λd2=122.36, λd3=80.99]\n",
      "Epoch 549 [Validation]: 100%|██████████| 21/21 [00:01<00:00, 14.32it/s, loss=-27497.05]\n"
     ]
    },
    {
     "name": "stdout",
     "output_type": "stream",
     "text": [
      "\tTotal Loss (NLL + MDMM): -27135.50\n",
      "\tMDMM Loss:               2915.41\n",
      "\tRemaining Weights:       99.01 %\n"
     ]
    },
    {
     "name": "stderr",
     "output_type": "stream",
     "text": [
      "Epoch 550 [Training]: 100%|██████████| 84/84 [00:06<00:00, 13.29it/s, loss=-27167.41, λc2D1=161.00, λd1=95.64, λd2=122.60, λd3=81.12]\n",
      "Epoch 550 [Validation]: 100%|██████████| 21/21 [00:01<00:00, 14.64it/s, loss=-27476.71]\n"
     ]
    },
    {
     "name": "stdout",
     "output_type": "stream",
     "text": [
      "\tTotal Loss (NLL + MDMM): -27113.70\n",
      "\tMDMM Loss:               2919.68\n",
      "\tRemaining Weights:       99.01 %\n"
     ]
    },
    {
     "name": "stderr",
     "output_type": "stream",
     "text": [
      "Epoch 551 [Training]: 100%|██████████| 84/84 [00:06<00:00, 13.18it/s, loss=-27170.97, λc2D1=161.25, λd1=95.85, λd2=122.84, λd3=81.25]\n",
      "Epoch 551 [Validation]: 100%|██████████| 21/21 [00:01<00:00, 14.80it/s, loss=-27495.40]\n"
     ]
    },
    {
     "name": "stdout",
     "output_type": "stream",
     "text": [
      "\tTotal Loss (NLL + MDMM): -27127.94\n",
      "\tMDMM Loss:               2923.81\n",
      "\tRemaining Weights:       99.01 %\n"
     ]
    },
    {
     "name": "stderr",
     "output_type": "stream",
     "text": [
      "Epoch 552 [Training]: 100%|██████████| 84/84 [00:06<00:00, 12.98it/s, loss=-27158.05, λc2D1=161.51, λd1=96.05, λd2=123.08, λd3=81.38]\n",
      "Epoch 552 [Validation]: 100%|██████████| 21/21 [00:01<00:00, 15.00it/s, loss=-27460.83]\n"
     ]
    },
    {
     "name": "stdout",
     "output_type": "stream",
     "text": [
      "\tTotal Loss (NLL + MDMM): -27095.52\n",
      "\tMDMM Loss:               2928.06\n",
      "\tRemaining Weights:       99.01 %\n"
     ]
    },
    {
     "name": "stderr",
     "output_type": "stream",
     "text": [
      "Epoch 553 [Training]: 100%|██████████| 84/84 [00:06<00:00, 13.20it/s, loss=-27179.43, λc2D1=161.77, λd1=96.26, λd2=123.32, λd3=81.51]\n",
      "Epoch 553 [Validation]: 100%|██████████| 21/21 [00:01<00:00, 14.60it/s, loss=-27501.94]\n"
     ]
    },
    {
     "name": "stdout",
     "output_type": "stream",
     "text": [
      "\tTotal Loss (NLL + MDMM): -27137.79\n",
      "\tMDMM Loss:               2931.84\n",
      "\tRemaining Weights:       98.84 %\n"
     ]
    },
    {
     "name": "stderr",
     "output_type": "stream",
     "text": [
      "Epoch 554 [Training]: 100%|██████████| 84/84 [00:06<00:00, 13.14it/s, loss=-27171.76, λc2D1=162.03, λd1=96.46, λd2=123.56, λd3=81.63]\n",
      "Epoch 554 [Validation]: 100%|██████████| 21/21 [00:01<00:00, 14.92it/s, loss=-27482.40]\n"
     ]
    },
    {
     "name": "stdout",
     "output_type": "stream",
     "text": [
      "\tTotal Loss (NLL + MDMM): -27119.74\n",
      "\tMDMM Loss:               2936.20\n",
      "\tRemaining Weights:       98.79 %\n"
     ]
    },
    {
     "name": "stderr",
     "output_type": "stream",
     "text": [
      "Epoch 555 [Training]: 100%|██████████| 84/84 [00:06<00:00, 13.27it/s, loss=-27175.58, λc2D1=162.28, λd1=96.66, λd2=123.80, λd3=81.76]\n",
      "Epoch 555 [Validation]: 100%|██████████| 21/21 [00:01<00:00, 14.96it/s, loss=-27500.28]\n"
     ]
    },
    {
     "name": "stdout",
     "output_type": "stream",
     "text": [
      "\tTotal Loss (NLL + MDMM): -27137.32\n",
      "\tMDMM Loss:               2939.76\n",
      "\tRemaining Weights:       98.79 %\n"
     ]
    },
    {
     "name": "stderr",
     "output_type": "stream",
     "text": [
      "Epoch 556 [Training]: 100%|██████████| 84/84 [00:06<00:00, 13.30it/s, loss=-27175.53, λc2D1=162.54, λd1=96.87, λd2=124.04, λd3=81.89]\n",
      "Epoch 556 [Validation]: 100%|██████████| 21/21 [00:01<00:00, 14.98it/s, loss=-27510.44]\n"
     ]
    },
    {
     "name": "stdout",
     "output_type": "stream",
     "text": [
      "\tTotal Loss (NLL + MDMM): -27147.01\n",
      "\tMDMM Loss:               2944.28\n",
      "\tRemaining Weights:       98.90 %\n"
     ]
    },
    {
     "name": "stderr",
     "output_type": "stream",
     "text": [
      "Epoch 557 [Training]: 100%|██████████| 84/84 [00:06<00:00, 13.13it/s, loss=-27157.14, λc2D1=162.80, λd1=97.07, λd2=124.29, λd3=82.02]\n",
      "Epoch 557 [Validation]: 100%|██████████| 21/21 [00:01<00:00, 14.48it/s, loss=-27501.05]\n"
     ]
    },
    {
     "name": "stdout",
     "output_type": "stream",
     "text": [
      "\tTotal Loss (NLL + MDMM): -27139.45\n",
      "\tMDMM Loss:               2948.47\n",
      "\tRemaining Weights:       98.73 %\n"
     ]
    },
    {
     "name": "stderr",
     "output_type": "stream",
     "text": [
      "Epoch 558 [Training]: 100%|██████████| 84/84 [00:06<00:00, 13.25it/s, loss=-27169.99, λc2D1=163.05, λd1=97.28, λd2=124.53, λd3=82.15]\n",
      "Epoch 558 [Validation]: 100%|██████████| 21/21 [00:01<00:00, 14.88it/s, loss=-27509.03]\n"
     ]
    },
    {
     "name": "stdout",
     "output_type": "stream",
     "text": [
      "\tTotal Loss (NLL + MDMM): -27145.53\n",
      "\tMDMM Loss:               2952.26\n",
      "\tRemaining Weights:       98.79 %\n"
     ]
    },
    {
     "name": "stderr",
     "output_type": "stream",
     "text": [
      "Epoch 559 [Training]: 100%|██████████| 84/84 [00:06<00:00, 13.09it/s, loss=-27166.81, λc2D1=163.31, λd1=97.48, λd2=124.77, λd3=82.27]\n",
      "Epoch 559 [Validation]: 100%|██████████| 21/21 [00:01<00:00, 14.84it/s, loss=-27467.01]\n"
     ]
    },
    {
     "name": "stdout",
     "output_type": "stream",
     "text": [
      "\tTotal Loss (NLL + MDMM): -27110.93\n",
      "\tMDMM Loss:               2956.76\n",
      "\tRemaining Weights:       98.68 %\n"
     ]
    },
    {
     "name": "stderr",
     "output_type": "stream",
     "text": [
      "Epoch 560 [Training]: 100%|██████████| 84/84 [00:06<00:00, 13.42it/s, loss=-27161.55, λc2D1=163.57, λd1=97.69, λd2=125.01, λd3=82.40]\n",
      "Epoch 560 [Validation]: 100%|██████████| 21/21 [00:01<00:00, 14.44it/s, loss=-27467.43]\n"
     ]
    },
    {
     "name": "stdout",
     "output_type": "stream",
     "text": [
      "\tTotal Loss (NLL + MDMM): -27105.82\n",
      "\tMDMM Loss:               2960.70\n",
      "\tRemaining Weights:       98.68 %\n"
     ]
    },
    {
     "name": "stderr",
     "output_type": "stream",
     "text": [
      "Epoch 561 [Training]: 100%|██████████| 84/84 [00:06<00:00, 13.22it/s, loss=-27167.01, λc2D1=163.83, λd1=97.89, λd2=125.25, λd3=82.53]\n",
      "Epoch 561 [Validation]: 100%|██████████| 21/21 [00:01<00:00, 14.52it/s, loss=-27486.01]\n"
     ]
    },
    {
     "name": "stdout",
     "output_type": "stream",
     "text": [
      "\tTotal Loss (NLL + MDMM): -27116.87\n",
      "\tMDMM Loss:               2964.57\n",
      "\tRemaining Weights:       98.68 %\n"
     ]
    },
    {
     "name": "stderr",
     "output_type": "stream",
     "text": [
      "Epoch 562 [Training]: 100%|██████████| 84/84 [00:06<00:00, 13.30it/s, loss=-27161.45, λc2D1=164.08, λd1=98.10, λd2=125.49, λd3=82.66]\n",
      "Epoch 562 [Validation]: 100%|██████████| 21/21 [00:01<00:00, 15.03it/s, loss=-27472.93]\n"
     ]
    },
    {
     "name": "stdout",
     "output_type": "stream",
     "text": [
      "\tTotal Loss (NLL + MDMM): -27109.97\n",
      "\tMDMM Loss:               2969.07\n",
      "\tRemaining Weights:       98.73 %\n"
     ]
    },
    {
     "name": "stderr",
     "output_type": "stream",
     "text": [
      "Epoch 563 [Training]: 100%|██████████| 84/84 [00:06<00:00, 13.40it/s, loss=-27180.03, λc2D1=164.34, λd1=98.30, λd2=125.73, λd3=82.79]\n",
      "Epoch 563 [Validation]: 100%|██████████| 21/21 [00:01<00:00, 14.82it/s, loss=-27515.78]\n"
     ]
    },
    {
     "name": "stdout",
     "output_type": "stream",
     "text": [
      "\tTotal Loss (NLL + MDMM): -27150.27\n",
      "\tMDMM Loss:               2972.97\n",
      "\tRemaining Weights:       98.68 %\n"
     ]
    },
    {
     "name": "stderr",
     "output_type": "stream",
     "text": [
      "Epoch 564 [Training]: 100%|██████████| 84/84 [00:06<00:00, 13.10it/s, loss=-27157.77, λc2D1=164.60, λd1=98.51, λd2=125.98, λd3=82.92]\n",
      "Epoch 564 [Validation]: 100%|██████████| 21/21 [00:01<00:00, 14.41it/s, loss=-27461.73]\n"
     ]
    },
    {
     "name": "stdout",
     "output_type": "stream",
     "text": [
      "\tTotal Loss (NLL + MDMM): -27105.30\n",
      "\tMDMM Loss:               2977.21\n",
      "\tRemaining Weights:       98.84 %\n"
     ]
    },
    {
     "name": "stderr",
     "output_type": "stream",
     "text": [
      "Epoch 565 [Training]: 100%|██████████| 84/84 [00:06<00:00, 13.13it/s, loss=-27167.05, λc2D1=164.85, λd1=98.71, λd2=126.22, λd3=83.04]\n",
      "Epoch 565 [Validation]: 100%|██████████| 21/21 [00:01<00:00, 15.18it/s, loss=-27534.40]\n"
     ]
    },
    {
     "name": "stdout",
     "output_type": "stream",
     "text": [
      "\tTotal Loss (NLL + MDMM): -27165.51\n",
      "\tMDMM Loss:               2981.12\n",
      "\tRemaining Weights:       98.90 %\n"
     ]
    },
    {
     "name": "stderr",
     "output_type": "stream",
     "text": [
      "Epoch 566 [Training]: 100%|██████████| 84/84 [00:06<00:00, 13.23it/s, loss=-27163.48, λc2D1=165.11, λd1=98.92, λd2=126.46, λd3=83.17]\n",
      "Epoch 566 [Validation]: 100%|██████████| 21/21 [00:01<00:00, 14.47it/s, loss=-27510.43]\n"
     ]
    },
    {
     "name": "stdout",
     "output_type": "stream",
     "text": [
      "\tTotal Loss (NLL + MDMM): -27141.94\n",
      "\tMDMM Loss:               2985.17\n",
      "\tRemaining Weights:       98.90 %\n"
     ]
    },
    {
     "name": "stderr",
     "output_type": "stream",
     "text": [
      "Epoch 567 [Training]: 100%|██████████| 84/84 [00:06<00:00, 12.92it/s, loss=-27172.12, λc2D1=165.37, λd1=99.12, λd2=126.70, λd3=83.30]\n",
      "Epoch 567 [Validation]: 100%|██████████| 21/21 [00:01<00:00, 14.77it/s, loss=-27489.74]\n"
     ]
    },
    {
     "name": "stdout",
     "output_type": "stream",
     "text": [
      "\tTotal Loss (NLL + MDMM): -27121.35\n",
      "\tMDMM Loss:               2989.26\n",
      "\tRemaining Weights:       98.79 %\n"
     ]
    },
    {
     "name": "stderr",
     "output_type": "stream",
     "text": [
      "Epoch 568 [Training]: 100%|██████████| 84/84 [00:06<00:00, 13.09it/s, loss=-27140.05, λc2D1=165.63, λd1=99.33, λd2=126.94, λd3=83.43]\n",
      "Epoch 568 [Validation]: 100%|██████████| 21/21 [00:01<00:00, 14.78it/s, loss=-27453.70]\n"
     ]
    },
    {
     "name": "stdout",
     "output_type": "stream",
     "text": [
      "\tTotal Loss (NLL + MDMM): -27098.13\n",
      "\tMDMM Loss:               2993.56\n",
      "\tRemaining Weights:       98.84 %\n"
     ]
    },
    {
     "name": "stderr",
     "output_type": "stream",
     "text": [
      "Epoch 569 [Training]: 100%|██████████| 84/84 [00:06<00:00, 13.30it/s, loss=-27151.20, λc2D1=165.88, λd1=99.53, λd2=127.19, λd3=83.56]\n",
      "Epoch 569 [Validation]: 100%|██████████| 21/21 [00:01<00:00, 14.50it/s, loss=-27515.52]\n"
     ]
    },
    {
     "name": "stdout",
     "output_type": "stream",
     "text": [
      "\tTotal Loss (NLL + MDMM): -27149.82\n",
      "\tMDMM Loss:               2997.38\n",
      "\tRemaining Weights:       98.90 %\n"
     ]
    },
    {
     "name": "stderr",
     "output_type": "stream",
     "text": [
      "Epoch 570 [Training]: 100%|██████████| 84/84 [00:06<00:00, 13.25it/s, loss=-27158.79, λc2D1=166.14, λd1=99.74, λd2=127.43, λd3=83.68]\n",
      "Epoch 570 [Validation]: 100%|██████████| 21/21 [00:01<00:00, 14.24it/s, loss=-27457.20]\n"
     ]
    },
    {
     "name": "stdout",
     "output_type": "stream",
     "text": [
      "\tTotal Loss (NLL + MDMM): -27094.46\n",
      "\tMDMM Loss:               3001.75\n",
      "\tRemaining Weights:       98.84 %\n"
     ]
    },
    {
     "name": "stderr",
     "output_type": "stream",
     "text": [
      "Epoch 571 [Training]: 100%|██████████| 84/84 [00:06<00:00, 13.06it/s, loss=-27147.09, λc2D1=166.40, λd1=99.94, λd2=127.67, λd3=83.81]\n",
      "Epoch 571 [Validation]: 100%|██████████| 21/21 [00:01<00:00, 14.18it/s, loss=-27473.48]\n"
     ]
    },
    {
     "name": "stdout",
     "output_type": "stream",
     "text": [
      "\tTotal Loss (NLL + MDMM): -27111.26\n",
      "\tMDMM Loss:               3005.78\n",
      "\tRemaining Weights:       98.90 %\n"
     ]
    },
    {
     "name": "stderr",
     "output_type": "stream",
     "text": [
      "Epoch 572 [Training]: 100%|██████████| 84/84 [00:06<00:00, 13.03it/s, loss=-27156.70, λc2D1=166.65, λd1=100.15, λd2=127.91, λd3=83.94]\n",
      "Epoch 572 [Validation]: 100%|██████████| 21/21 [00:01<00:00, 14.38it/s, loss=-27469.64]\n"
     ]
    },
    {
     "name": "stdout",
     "output_type": "stream",
     "text": [
      "\tTotal Loss (NLL + MDMM): -27102.08\n",
      "\tMDMM Loss:               3009.42\n",
      "\tRemaining Weights:       98.79 %\n"
     ]
    },
    {
     "name": "stderr",
     "output_type": "stream",
     "text": [
      "Epoch 573 [Training]: 100%|██████████| 84/84 [00:06<00:00, 13.31it/s, loss=-27128.62, λc2D1=166.91, λd1=100.36, λd2=128.15, λd3=84.07]\n",
      "Epoch 573 [Validation]: 100%|██████████| 21/21 [00:01<00:00, 14.82it/s, loss=-27463.33]\n"
     ]
    },
    {
     "name": "stdout",
     "output_type": "stream",
     "text": [
      "\tTotal Loss (NLL + MDMM): -27101.77\n",
      "\tMDMM Loss:               3013.78\n",
      "\tRemaining Weights:       98.79 %\n"
     ]
    },
    {
     "name": "stderr",
     "output_type": "stream",
     "text": [
      "Epoch 574 [Training]: 100%|██████████| 84/84 [00:06<00:00, 13.19it/s, loss=-27151.26, λc2D1=167.17, λd1=100.56, λd2=128.40, λd3=84.19]\n",
      "Epoch 574 [Validation]: 100%|██████████| 21/21 [00:01<00:00, 14.85it/s, loss=-27494.86]\n"
     ]
    },
    {
     "name": "stdout",
     "output_type": "stream",
     "text": [
      "\tTotal Loss (NLL + MDMM): -27130.48\n",
      "\tMDMM Loss:               3017.69\n",
      "\tRemaining Weights:       98.84 %\n"
     ]
    },
    {
     "name": "stderr",
     "output_type": "stream",
     "text": [
      "Epoch 575 [Training]: 100%|██████████| 84/84 [00:06<00:00, 13.37it/s, loss=-27142.65, λc2D1=167.42, λd1=100.77, λd2=128.64, λd3=84.32]\n",
      "Epoch 575 [Validation]: 100%|██████████| 21/21 [00:01<00:00, 14.74it/s, loss=-27428.07]\n"
     ]
    },
    {
     "name": "stdout",
     "output_type": "stream",
     "text": [
      "\tTotal Loss (NLL + MDMM): -27063.70\n",
      "\tMDMM Loss:               3021.78\n",
      "\tRemaining Weights:       98.79 %\n"
     ]
    },
    {
     "name": "stderr",
     "output_type": "stream",
     "text": [
      "Epoch 576 [Training]: 100%|██████████| 84/84 [00:06<00:00, 13.19it/s, loss=-27138.54, λc2D1=167.68, λd1=100.97, λd2=128.88, λd3=84.45]\n",
      "Epoch 576 [Validation]: 100%|██████████| 21/21 [00:01<00:00, 14.67it/s, loss=-27440.14]\n"
     ]
    },
    {
     "name": "stdout",
     "output_type": "stream",
     "text": [
      "\tTotal Loss (NLL + MDMM): -27072.80\n",
      "\tMDMM Loss:               3025.70\n",
      "\tRemaining Weights:       98.68 %\n"
     ]
    },
    {
     "name": "stderr",
     "output_type": "stream",
     "text": [
      "Epoch 577 [Training]: 100%|██████████| 84/84 [00:06<00:00, 13.03it/s, loss=-27151.48, λc2D1=167.94, λd1=101.18, λd2=129.12, λd3=84.58]\n",
      "Epoch 577 [Validation]: 100%|██████████| 21/21 [00:01<00:00, 14.66it/s, loss=-27486.34]\n"
     ]
    },
    {
     "name": "stdout",
     "output_type": "stream",
     "text": [
      "\tTotal Loss (NLL + MDMM): -27122.17\n",
      "\tMDMM Loss:               3029.40\n",
      "\tRemaining Weights:       98.68 %\n"
     ]
    },
    {
     "name": "stderr",
     "output_type": "stream",
     "text": [
      "Epoch 578 [Training]: 100%|██████████| 84/84 [00:06<00:00, 13.37it/s, loss=-27140.96, λc2D1=168.20, λd1=101.38, λd2=129.36, λd3=84.70]\n",
      "Epoch 578 [Validation]: 100%|██████████| 21/21 [00:01<00:00, 14.98it/s, loss=-27471.50]\n"
     ]
    },
    {
     "name": "stdout",
     "output_type": "stream",
     "text": [
      "\tTotal Loss (NLL + MDMM): -27103.77\n",
      "\tMDMM Loss:               3032.82\n",
      "\tRemaining Weights:       98.73 %\n"
     ]
    },
    {
     "name": "stderr",
     "output_type": "stream",
     "text": [
      "Epoch 579 [Training]: 100%|██████████| 84/84 [00:06<00:00, 13.42it/s, loss=-27133.23, λc2D1=168.45, λd1=101.59, λd2=129.61, λd3=84.83]\n",
      "Epoch 579 [Validation]: 100%|██████████| 21/21 [00:01<00:00, 14.29it/s, loss=-27464.18]\n"
     ]
    },
    {
     "name": "stdout",
     "output_type": "stream",
     "text": [
      "\tTotal Loss (NLL + MDMM): -27096.28\n",
      "\tMDMM Loss:               3037.25\n",
      "\tRemaining Weights:       98.68 %\n"
     ]
    },
    {
     "name": "stderr",
     "output_type": "stream",
     "text": [
      "Epoch 580 [Training]: 100%|██████████| 84/84 [00:06<00:00, 13.21it/s, loss=-27148.79, λc2D1=168.71, λd1=101.79, λd2=129.85, λd3=84.96]\n",
      "Epoch 580 [Validation]: 100%|██████████| 21/21 [00:01<00:00, 14.45it/s, loss=-27460.99]\n"
     ]
    },
    {
     "name": "stdout",
     "output_type": "stream",
     "text": [
      "\tTotal Loss (NLL + MDMM): -27093.26\n",
      "\tMDMM Loss:               3041.53\n",
      "\tRemaining Weights:       98.62 %\n"
     ]
    },
    {
     "name": "stderr",
     "output_type": "stream",
     "text": [
      "Epoch 581 [Training]: 100%|██████████| 84/84 [00:06<00:00, 13.32it/s, loss=-27127.69, λc2D1=168.97, λd1=102.00, λd2=130.09, λd3=85.08]\n",
      "Epoch 581 [Validation]: 100%|██████████| 21/21 [00:01<00:00, 14.81it/s, loss=-27473.00]\n"
     ]
    },
    {
     "name": "stdout",
     "output_type": "stream",
     "text": [
      "\tTotal Loss (NLL + MDMM): -27109.17\n",
      "\tMDMM Loss:               3045.67\n",
      "\tRemaining Weights:       98.79 %\n"
     ]
    },
    {
     "name": "stderr",
     "output_type": "stream",
     "text": [
      "Epoch 582 [Training]: 100%|██████████| 84/84 [00:06<00:00, 13.38it/s, loss=-27139.31, λc2D1=169.23, λd1=102.21, λd2=130.33, λd3=85.21]\n",
      "Epoch 582 [Validation]: 100%|██████████| 21/21 [00:01<00:00, 14.61it/s, loss=-27440.06]\n"
     ]
    },
    {
     "name": "stdout",
     "output_type": "stream",
     "text": [
      "\tTotal Loss (NLL + MDMM): -27076.47\n",
      "\tMDMM Loss:               3049.42\n",
      "\tRemaining Weights:       98.68 %\n"
     ]
    },
    {
     "name": "stderr",
     "output_type": "stream",
     "text": [
      "Epoch 583 [Training]: 100%|██████████| 84/84 [00:06<00:00, 13.26it/s, loss=-27145.83, λc2D1=169.48, λd1=102.41, λd2=130.57, λd3=85.34]\n",
      "Epoch 583 [Validation]: 100%|██████████| 21/21 [00:01<00:00, 14.42it/s, loss=-27492.84]\n"
     ]
    },
    {
     "name": "stdout",
     "output_type": "stream",
     "text": [
      "\tTotal Loss (NLL + MDMM): -27128.31\n",
      "\tMDMM Loss:               3053.21\n",
      "\tRemaining Weights:       98.57 %\n"
     ]
    },
    {
     "name": "stderr",
     "output_type": "stream",
     "text": [
      "Epoch 584 [Training]: 100%|██████████| 84/84 [00:06<00:00, 13.25it/s, loss=-27129.25, λc2D1=169.74, λd1=102.62, λd2=130.82, λd3=85.47]\n",
      "Epoch 584 [Validation]: 100%|██████████| 21/21 [00:01<00:00, 14.91it/s, loss=-27460.01]\n"
     ]
    },
    {
     "name": "stdout",
     "output_type": "stream",
     "text": [
      "\tTotal Loss (NLL + MDMM): -27091.13\n",
      "\tMDMM Loss:               3057.45\n",
      "\tRemaining Weights:       98.73 %\n"
     ]
    },
    {
     "name": "stderr",
     "output_type": "stream",
     "text": [
      "Epoch 585 [Training]: 100%|██████████| 84/84 [00:06<00:00, 13.35it/s, loss=-27123.42, λc2D1=170.00, λd1=102.82, λd2=131.06, λd3=85.59]\n",
      "Epoch 585 [Validation]: 100%|██████████| 21/21 [00:01<00:00, 14.46it/s, loss=-27453.36]\n"
     ]
    },
    {
     "name": "stdout",
     "output_type": "stream",
     "text": [
      "\tTotal Loss (NLL + MDMM): -27092.10\n",
      "\tMDMM Loss:               3061.22\n",
      "\tRemaining Weights:       98.62 %\n"
     ]
    },
    {
     "name": "stderr",
     "output_type": "stream",
     "text": [
      "Epoch 586 [Training]: 100%|██████████| 84/84 [00:06<00:00, 13.13it/s, loss=-27133.33, λc2D1=170.26, λd1=103.03, λd2=131.30, λd3=85.72]\n",
      "Epoch 586 [Validation]: 100%|██████████| 21/21 [00:01<00:00, 14.75it/s, loss=-27483.90]\n"
     ]
    },
    {
     "name": "stdout",
     "output_type": "stream",
     "text": [
      "\tTotal Loss (NLL + MDMM): -27114.88\n",
      "\tMDMM Loss:               3065.12\n",
      "\tRemaining Weights:       98.46 %\n"
     ]
    },
    {
     "name": "stderr",
     "output_type": "stream",
     "text": [
      "Epoch 587 [Training]: 100%|██████████| 84/84 [00:06<00:00, 13.36it/s, loss=-27119.22, λc2D1=170.52, λd1=103.24, λd2=131.54, λd3=85.85]\n",
      "Epoch 587 [Validation]: 100%|██████████| 21/21 [00:01<00:00, 15.10it/s, loss=-27463.69]\n"
     ]
    },
    {
     "name": "stdout",
     "output_type": "stream",
     "text": [
      "\tTotal Loss (NLL + MDMM): -27101.43\n",
      "\tMDMM Loss:               3069.16\n",
      "\tRemaining Weights:       98.40 %\n"
     ]
    },
    {
     "name": "stderr",
     "output_type": "stream",
     "text": [
      "Epoch 588 [Training]: 100%|██████████| 84/84 [00:06<00:00, 13.42it/s, loss=-27128.68, λc2D1=170.78, λd1=103.44, λd2=131.78, λd3=85.98]\n",
      "Epoch 588 [Validation]: 100%|██████████| 21/21 [00:01<00:00, 14.61it/s, loss=-27471.40]\n"
     ]
    },
    {
     "name": "stdout",
     "output_type": "stream",
     "text": [
      "\tTotal Loss (NLL + MDMM): -27107.47\n",
      "\tMDMM Loss:               3072.82\n",
      "\tRemaining Weights:       98.40 %\n"
     ]
    },
    {
     "name": "stderr",
     "output_type": "stream",
     "text": [
      "Epoch 589 [Training]: 100%|██████████| 84/84 [00:06<00:00, 13.42it/s, loss=-27124.91, λc2D1=171.03, λd1=103.65, λd2=132.02, λd3=86.10]\n",
      "Epoch 589 [Validation]: 100%|██████████| 21/21 [00:01<00:00, 14.47it/s, loss=-27460.66]\n"
     ]
    },
    {
     "name": "stdout",
     "output_type": "stream",
     "text": [
      "\tTotal Loss (NLL + MDMM): -27098.32\n",
      "\tMDMM Loss:               3077.06\n",
      "\tRemaining Weights:       98.51 %\n"
     ]
    },
    {
     "name": "stderr",
     "output_type": "stream",
     "text": [
      "Epoch 590 [Training]: 100%|██████████| 84/84 [00:06<00:00, 13.21it/s, loss=-27101.96, λc2D1=171.29, λd1=103.85, λd2=132.27, λd3=86.23]\n",
      "Epoch 590 [Validation]: 100%|██████████| 21/21 [00:01<00:00, 14.61it/s, loss=-27434.05]\n"
     ]
    },
    {
     "name": "stdout",
     "output_type": "stream",
     "text": [
      "\tTotal Loss (NLL + MDMM): -27072.75\n",
      "\tMDMM Loss:               3081.18\n",
      "\tRemaining Weights:       98.73 %\n"
     ]
    },
    {
     "name": "stderr",
     "output_type": "stream",
     "text": [
      "Epoch 591 [Training]: 100%|██████████| 84/84 [00:06<00:00, 13.53it/s, loss=-27114.59, λc2D1=171.55, λd1=104.06, λd2=132.51, λd3=86.36]\n",
      "Epoch 591 [Validation]: 100%|██████████| 21/21 [00:01<00:00, 14.59it/s, loss=-27420.49]\n"
     ]
    },
    {
     "name": "stdout",
     "output_type": "stream",
     "text": [
      "\tTotal Loss (NLL + MDMM): -27058.07\n",
      "\tMDMM Loss:               3085.10\n",
      "\tRemaining Weights:       98.62 %\n"
     ]
    },
    {
     "name": "stderr",
     "output_type": "stream",
     "text": [
      "Epoch 592 [Training]: 100%|██████████| 84/84 [00:06<00:00, 13.20it/s, loss=-27095.78, λc2D1=171.81, λd1=104.26, λd2=132.75, λd3=86.49]\n",
      "Epoch 592 [Validation]: 100%|██████████| 21/21 [00:01<00:00, 14.74it/s, loss=-27333.76]\n"
     ]
    },
    {
     "name": "stdout",
     "output_type": "stream",
     "text": [
      "\tTotal Loss (NLL + MDMM): -26979.63\n",
      "\tMDMM Loss:               3089.28\n",
      "\tRemaining Weights:       98.68 %\n"
     ]
    },
    {
     "name": "stderr",
     "output_type": "stream",
     "text": [
      "Epoch 593 [Training]: 100%|██████████| 84/84 [00:06<00:00, 13.10it/s, loss=-27118.65, λc2D1=172.07, λd1=104.47, λd2=132.99, λd3=86.61]\n",
      "Epoch 593 [Validation]: 100%|██████████| 21/21 [00:01<00:00, 14.61it/s, loss=-27455.75]\n"
     ]
    },
    {
     "name": "stdout",
     "output_type": "stream",
     "text": [
      "\tTotal Loss (NLL + MDMM): -27092.09\n",
      "\tMDMM Loss:               3093.04\n",
      "\tRemaining Weights:       98.73 %\n"
     ]
    },
    {
     "name": "stderr",
     "output_type": "stream",
     "text": [
      "Epoch 594 [Training]: 100%|██████████| 84/84 [00:06<00:00, 13.34it/s, loss=-27119.29, λc2D1=172.33, λd1=104.68, λd2=133.23, λd3=86.74]\n",
      "Epoch 594 [Validation]: 100%|██████████| 21/21 [00:01<00:00, 14.91it/s, loss=-27482.08]\n"
     ]
    },
    {
     "name": "stdout",
     "output_type": "stream",
     "text": [
      "\tTotal Loss (NLL + MDMM): -27112.94\n",
      "\tMDMM Loss:               3096.73\n",
      "\tRemaining Weights:       98.73 %\n"
     ]
    },
    {
     "name": "stderr",
     "output_type": "stream",
     "text": [
      "Epoch 595 [Training]: 100%|██████████| 84/84 [00:06<00:00, 13.19it/s, loss=-27114.33, λc2D1=172.58, λd1=104.88, λd2=133.48, λd3=86.87]\n",
      "Epoch 595 [Validation]: 100%|██████████| 21/21 [00:01<00:00, 14.60it/s, loss=-27462.92]\n"
     ]
    },
    {
     "name": "stdout",
     "output_type": "stream",
     "text": [
      "\tTotal Loss (NLL + MDMM): -27098.23\n",
      "\tMDMM Loss:               3100.62\n",
      "\tRemaining Weights:       98.62 %\n"
     ]
    },
    {
     "name": "stderr",
     "output_type": "stream",
     "text": [
      "Epoch 596 [Training]: 100%|██████████| 84/84 [00:06<00:00, 13.35it/s, loss=-27126.57, λc2D1=172.84, λd1=105.09, λd2=133.72, λd3=87.00]\n",
      "Epoch 596 [Validation]: 100%|██████████| 21/21 [00:01<00:00, 14.65it/s, loss=-27487.86]\n"
     ]
    },
    {
     "name": "stdout",
     "output_type": "stream",
     "text": [
      "\tTotal Loss (NLL + MDMM): -27118.96\n",
      "\tMDMM Loss:               3104.47\n",
      "\tRemaining Weights:       98.68 %\n"
     ]
    },
    {
     "name": "stderr",
     "output_type": "stream",
     "text": [
      "Epoch 597 [Training]: 100%|██████████| 84/84 [00:06<00:00, 13.15it/s, loss=-27133.42, λc2D1=173.10, λd1=105.29, λd2=133.96, λd3=87.12]\n",
      "Epoch 597 [Validation]: 100%|██████████| 21/21 [00:01<00:00, 14.58it/s, loss=-27455.82]\n"
     ]
    },
    {
     "name": "stdout",
     "output_type": "stream",
     "text": [
      "\tTotal Loss (NLL + MDMM): -27090.57\n",
      "\tMDMM Loss:               3108.50\n",
      "\tRemaining Weights:       98.62 %\n"
     ]
    },
    {
     "name": "stderr",
     "output_type": "stream",
     "text": [
      "Epoch 598 [Training]: 100%|██████████| 84/84 [00:06<00:00, 13.38it/s, loss=-27120.24, λc2D1=173.36, λd1=105.50, λd2=134.20, λd3=87.25]\n",
      "Epoch 598 [Validation]: 100%|██████████| 21/21 [00:01<00:00, 14.36it/s, loss=-27463.34]\n"
     ]
    },
    {
     "name": "stdout",
     "output_type": "stream",
     "text": [
      "\tTotal Loss (NLL + MDMM): -27093.34\n",
      "\tMDMM Loss:               3112.13\n",
      "\tRemaining Weights:       98.68 %\n"
     ]
    },
    {
     "name": "stderr",
     "output_type": "stream",
     "text": [
      "Epoch 599 [Training]: 100%|██████████| 84/84 [00:06<00:00, 13.26it/s, loss=-27117.30, λc2D1=173.62, λd1=105.71, λd2=134.44, λd3=87.38]\n",
      "Epoch 599 [Validation]: 100%|██████████| 21/21 [00:01<00:00, 14.98it/s, loss=-27438.43]\n"
     ]
    },
    {
     "name": "stdout",
     "output_type": "stream",
     "text": [
      "\tTotal Loss (NLL + MDMM): -27074.15\n",
      "\tMDMM Loss:               3116.12\n",
      "\tRemaining Weights:       98.73 %\n"
     ]
    },
    {
     "name": "stderr",
     "output_type": "stream",
     "text": [
      "Epoch 600 [Training]: 100%|██████████| 84/84 [00:06<00:00, 13.33it/s, loss=-27127.95, λc2D1=173.88, λd1=105.91, λd2=134.69, λd3=87.50]\n",
      "Epoch 600 [Validation]: 100%|██████████| 21/21 [00:01<00:00, 15.05it/s, loss=-27436.89]\n"
     ]
    },
    {
     "name": "stdout",
     "output_type": "stream",
     "text": [
      "\tTotal Loss (NLL + MDMM): -27068.91\n",
      "\tMDMM Loss:               3120.17\n",
      "\tRemaining Weights:       98.68 %\n"
     ]
    },
    {
     "name": "stderr",
     "output_type": "stream",
     "text": [
      "Epoch 601 [Training]: 100%|██████████| 84/84 [00:06<00:00, 13.33it/s, loss=-27102.04, λc2D1=174.14, λd1=106.12, λd2=134.93, λd3=87.63]\n",
      "Epoch 601 [Validation]: 100%|██████████| 21/21 [00:01<00:00, 15.02it/s, loss=-27454.12]\n"
     ]
    },
    {
     "name": "stdout",
     "output_type": "stream",
     "text": [
      "\tTotal Loss (NLL + MDMM): -27090.57\n",
      "\tMDMM Loss:               3124.04\n",
      "\tRemaining Weights:       98.73 %\n"
     ]
    },
    {
     "name": "stderr",
     "output_type": "stream",
     "text": [
      "Epoch 602 [Training]: 100%|██████████| 84/84 [00:06<00:00, 13.31it/s, loss=-27122.18, λc2D1=174.39, λd1=106.33, λd2=135.17, λd3=87.76]\n",
      "Epoch 602 [Validation]: 100%|██████████| 21/21 [00:01<00:00, 14.75it/s, loss=-27446.25]\n"
     ]
    },
    {
     "name": "stdout",
     "output_type": "stream",
     "text": [
      "\tTotal Loss (NLL + MDMM): -27076.05\n",
      "\tMDMM Loss:               3127.76\n",
      "\tRemaining Weights:       98.68 %\n"
     ]
    },
    {
     "name": "stderr",
     "output_type": "stream",
     "text": [
      "Epoch 603 [Training]: 100%|██████████| 84/84 [00:06<00:00, 13.21it/s, loss=-27117.13, λc2D1=174.65, λd1=106.53, λd2=135.41, λd3=87.89]\n",
      "Epoch 603 [Validation]: 100%|██████████| 21/21 [00:01<00:00, 14.58it/s, loss=-27482.05]\n"
     ]
    },
    {
     "name": "stdout",
     "output_type": "stream",
     "text": [
      "\tTotal Loss (NLL + MDMM): -27105.05\n",
      "\tMDMM Loss:               3131.43\n",
      "\tRemaining Weights:       98.79 %\n"
     ]
    },
    {
     "name": "stderr",
     "output_type": "stream",
     "text": [
      "Epoch 604 [Training]: 100%|██████████| 84/84 [00:06<00:00, 13.13it/s, loss=-27125.41, λc2D1=174.91, λd1=106.74, λd2=135.65, λd3=88.01]\n",
      "Epoch 604 [Validation]: 100%|██████████| 21/21 [00:01<00:00, 15.00it/s, loss=-27463.64]\n"
     ]
    },
    {
     "name": "stdout",
     "output_type": "stream",
     "text": [
      "\tTotal Loss (NLL + MDMM): -27087.93\n",
      "\tMDMM Loss:               3123.28\n",
      "\tRemaining Weights:       98.68 %\n"
     ]
    },
    {
     "name": "stderr",
     "output_type": "stream",
     "text": [
      "Epoch 605 [Training]: 100%|██████████| 84/84 [00:06<00:00, 13.05it/s, loss=-27113.66, λc2D1=175.16, λd1=106.95, λd2=135.90, λd3=88.14]\n",
      "Epoch 605 [Validation]: 100%|██████████| 21/21 [00:01<00:00, 14.89it/s, loss=-27484.86]\n"
     ]
    },
    {
     "name": "stdout",
     "output_type": "stream",
     "text": [
      "\tTotal Loss (NLL + MDMM): -27115.97\n",
      "\tMDMM Loss:               3127.35\n",
      "\tRemaining Weights:       98.68 %\n"
     ]
    },
    {
     "name": "stderr",
     "output_type": "stream",
     "text": [
      "Epoch 606 [Training]: 100%|██████████| 84/84 [00:06<00:00, 13.41it/s, loss=-27125.92, λc2D1=175.41, λd1=107.15, λd2=136.14, λd3=88.27]\n",
      "Epoch 606 [Validation]: 100%|██████████| 21/21 [00:01<00:00, 14.64it/s, loss=-27461.10]\n"
     ]
    },
    {
     "name": "stdout",
     "output_type": "stream",
     "text": [
      "\tTotal Loss (NLL + MDMM): -27094.69\n",
      "\tMDMM Loss:               3130.80\n",
      "\tRemaining Weights:       98.62 %\n"
     ]
    },
    {
     "name": "stderr",
     "output_type": "stream",
     "text": [
      "Epoch 607 [Training]: 100%|██████████| 84/84 [00:06<00:00, 13.24it/s, loss=-27121.95, λc2D1=175.66, λd1=107.36, λd2=136.38, λd3=88.39]\n",
      "Epoch 607 [Validation]: 100%|██████████| 21/21 [00:01<00:00, 15.03it/s, loss=-27478.67]\n"
     ]
    },
    {
     "name": "stdout",
     "output_type": "stream",
     "text": [
      "\tTotal Loss (NLL + MDMM): -27109.97\n",
      "\tMDMM Loss:               3134.56\n",
      "\tRemaining Weights:       98.62 %\n"
     ]
    },
    {
     "name": "stderr",
     "output_type": "stream",
     "text": [
      "Epoch 608 [Training]: 100%|██████████| 84/84 [00:06<00:00, 13.17it/s, loss=-27132.84, λc2D1=175.92, λd1=107.57, λd2=136.62, λd3=88.52]\n",
      "Epoch 608 [Validation]: 100%|██████████| 21/21 [00:01<00:00, 14.94it/s, loss=-27447.84]\n"
     ]
    },
    {
     "name": "stdout",
     "output_type": "stream",
     "text": [
      "\tTotal Loss (NLL + MDMM): -27080.40\n",
      "\tMDMM Loss:               3138.52\n",
      "\tRemaining Weights:       98.62 %\n"
     ]
    },
    {
     "name": "stderr",
     "output_type": "stream",
     "text": [
      "Epoch 609 [Training]: 100%|██████████| 84/84 [00:06<00:00, 13.15it/s, loss=-27116.37, λc2D1=176.17, λd1=107.77, λd2=136.86, λd3=88.65]\n",
      "Epoch 609 [Validation]: 100%|██████████| 21/21 [00:01<00:00, 14.15it/s, loss=-27460.62]\n"
     ]
    },
    {
     "name": "stdout",
     "output_type": "stream",
     "text": [
      "\tTotal Loss (NLL + MDMM): -27097.18\n",
      "\tMDMM Loss:               3142.04\n",
      "\tRemaining Weights:       98.73 %\n"
     ]
    },
    {
     "name": "stderr",
     "output_type": "stream",
     "text": [
      "Epoch 610 [Training]: 100%|██████████| 84/84 [00:06<00:00, 13.06it/s, loss=-27103.38, λc2D1=176.42, λd1=107.98, λd2=137.11, λd3=88.77]\n",
      "Epoch 610 [Validation]: 100%|██████████| 21/21 [00:01<00:00, 14.78it/s, loss=-27434.09]\n"
     ]
    },
    {
     "name": "stdout",
     "output_type": "stream",
     "text": [
      "\tTotal Loss (NLL + MDMM): -27071.65\n",
      "\tMDMM Loss:               3145.75\n",
      "\tRemaining Weights:       98.68 %\n"
     ]
    },
    {
     "name": "stderr",
     "output_type": "stream",
     "text": [
      "Epoch 611 [Training]: 100%|██████████| 84/84 [00:06<00:00, 12.97it/s, loss=-27095.31, λc2D1=176.67, λd1=108.19, λd2=137.35, λd3=88.90]\n",
      "Epoch 611 [Validation]: 100%|██████████| 21/21 [00:01<00:00, 14.59it/s, loss=-27350.03]\n"
     ]
    },
    {
     "name": "stdout",
     "output_type": "stream",
     "text": [
      "\tTotal Loss (NLL + MDMM): -26994.31\n",
      "\tMDMM Loss:               3149.29\n",
      "\tRemaining Weights:       98.62 %\n"
     ]
    },
    {
     "name": "stderr",
     "output_type": "stream",
     "text": [
      "Epoch 612 [Training]: 100%|██████████| 84/84 [00:06<00:00, 13.25it/s, loss=-27121.45, λc2D1=176.92, λd1=108.39, λd2=137.59, λd3=89.03]\n",
      "Epoch 612 [Validation]: 100%|██████████| 21/21 [00:01<00:00, 14.52it/s, loss=-27468.16]\n"
     ]
    },
    {
     "name": "stdout",
     "output_type": "stream",
     "text": [
      "\tTotal Loss (NLL + MDMM): -27097.89\n",
      "\tMDMM Loss:               3153.08\n",
      "\tRemaining Weights:       98.62 %\n"
     ]
    },
    {
     "name": "stderr",
     "output_type": "stream",
     "text": [
      "Epoch 613 [Training]: 100%|██████████| 84/84 [00:06<00:00, 13.26it/s, loss=-27111.13, λc2D1=177.18, λd1=108.60, λd2=137.83, λd3=89.15]\n",
      "Epoch 613 [Validation]: 100%|██████████| 21/21 [00:01<00:00, 14.30it/s, loss=-27461.86]\n"
     ]
    },
    {
     "name": "stdout",
     "output_type": "stream",
     "text": [
      "\tTotal Loss (NLL + MDMM): -27096.92\n",
      "\tMDMM Loss:               3156.90\n",
      "\tRemaining Weights:       98.68 %\n"
     ]
    },
    {
     "name": "stderr",
     "output_type": "stream",
     "text": [
      "Epoch 614 [Training]: 100%|██████████| 84/84 [00:06<00:00, 13.03it/s, loss=-27113.02, λc2D1=177.43, λd1=108.81, λd2=138.07, λd3=89.28]\n",
      "Epoch 614 [Validation]: 100%|██████████| 21/21 [00:01<00:00, 14.53it/s, loss=-27424.82]\n"
     ]
    },
    {
     "name": "stdout",
     "output_type": "stream",
     "text": [
      "\tTotal Loss (NLL + MDMM): -27058.06\n",
      "\tMDMM Loss:               3160.81\n",
      "\tRemaining Weights:       98.68 %\n"
     ]
    },
    {
     "name": "stderr",
     "output_type": "stream",
     "text": [
      "Epoch 615 [Training]: 100%|██████████| 84/84 [00:06<00:00, 13.13it/s, loss=-27115.30, λc2D1=177.68, λd1=109.01, λd2=138.32, λd3=89.41]\n",
      "Epoch 615 [Validation]: 100%|██████████| 21/21 [00:01<00:00, 14.57it/s, loss=-27454.85]\n"
     ]
    },
    {
     "name": "stdout",
     "output_type": "stream",
     "text": [
      "\tTotal Loss (NLL + MDMM): -27089.87\n",
      "\tMDMM Loss:               3164.42\n",
      "\tRemaining Weights:       98.79 %\n"
     ]
    },
    {
     "name": "stderr",
     "output_type": "stream",
     "text": [
      "Epoch 616 [Training]: 100%|██████████| 84/84 [00:06<00:00, 13.16it/s, loss=-27110.59, λc2D1=177.93, λd1=109.22, λd2=138.56, λd3=89.53]\n",
      "Epoch 616 [Validation]: 100%|██████████| 21/21 [00:01<00:00, 14.48it/s, loss=-27467.56]\n"
     ]
    },
    {
     "name": "stdout",
     "output_type": "stream",
     "text": [
      "\tTotal Loss (NLL + MDMM): -27098.82\n",
      "\tMDMM Loss:               3167.80\n",
      "\tRemaining Weights:       98.57 %\n"
     ]
    },
    {
     "name": "stderr",
     "output_type": "stream",
     "text": [
      "Epoch 617 [Training]: 100%|██████████| 84/84 [00:06<00:00, 13.25it/s, loss=-27102.72, λc2D1=178.18, λd1=109.43, λd2=138.80, λd3=89.66]\n",
      "Epoch 617 [Validation]: 100%|██████████| 21/21 [00:01<00:00, 14.82it/s, loss=-27448.78]\n"
     ]
    },
    {
     "name": "stdout",
     "output_type": "stream",
     "text": [
      "\tTotal Loss (NLL + MDMM): -27084.50\n",
      "\tMDMM Loss:               3171.78\n",
      "\tRemaining Weights:       98.62 %\n"
     ]
    },
    {
     "name": "stderr",
     "output_type": "stream",
     "text": [
      "Epoch 618 [Training]: 100%|██████████| 84/84 [00:06<00:00, 13.45it/s, loss=-27115.36, λc2D1=178.44, λd1=109.63, λd2=139.04, λd3=89.79]\n",
      "Epoch 618 [Validation]: 100%|██████████| 21/21 [00:01<00:00, 15.00it/s, loss=-27428.92]\n"
     ]
    },
    {
     "name": "stdout",
     "output_type": "stream",
     "text": [
      "\tTotal Loss (NLL + MDMM): -27064.51\n",
      "\tMDMM Loss:               3175.21\n",
      "\tRemaining Weights:       98.51 %\n"
     ]
    },
    {
     "name": "stderr",
     "output_type": "stream",
     "text": [
      "Epoch 619 [Training]: 100%|██████████| 84/84 [00:06<00:00, 13.41it/s, loss=-27100.82, λc2D1=178.69, λd1=109.84, λd2=139.28, λd3=89.91]\n",
      "Epoch 619 [Validation]: 100%|██████████| 21/21 [00:01<00:00, 14.55it/s, loss=-27458.40]\n"
     ]
    },
    {
     "name": "stdout",
     "output_type": "stream",
     "text": [
      "\tTotal Loss (NLL + MDMM): -27089.24\n",
      "\tMDMM Loss:               3179.16\n",
      "\tRemaining Weights:       98.57 %\n"
     ]
    },
    {
     "name": "stderr",
     "output_type": "stream",
     "text": [
      "Epoch 620 [Training]: 100%|██████████| 84/84 [00:06<00:00, 12.98it/s, loss=-27070.76, λc2D1=178.94, λd1=110.05, λd2=139.53, λd3=90.04]\n",
      "Epoch 620 [Validation]: 100%|██████████| 21/21 [00:01<00:00, 14.30it/s, loss=-27342.12]\n"
     ]
    },
    {
     "name": "stdout",
     "output_type": "stream",
     "text": [
      "\tTotal Loss (NLL + MDMM): -26984.47\n",
      "\tMDMM Loss:               3182.78\n",
      "\tRemaining Weights:       98.51 %\n"
     ]
    },
    {
     "name": "stderr",
     "output_type": "stream",
     "text": [
      "Epoch 621 [Training]: 100%|██████████| 84/84 [00:06<00:00, 13.03it/s, loss=-27107.20, λc2D1=179.19, λd1=110.26, λd2=139.77, λd3=90.17]\n",
      "Epoch 621 [Validation]: 100%|██████████| 21/21 [00:01<00:00, 14.98it/s, loss=-27463.24]\n"
     ]
    },
    {
     "name": "stdout",
     "output_type": "stream",
     "text": [
      "\tTotal Loss (NLL + MDMM): -27095.21\n",
      "\tMDMM Loss:               3186.30\n",
      "\tRemaining Weights:       98.57 %\n"
     ]
    },
    {
     "name": "stderr",
     "output_type": "stream",
     "text": [
      "Epoch 622 [Training]: 100%|██████████| 84/84 [00:06<00:00, 13.44it/s, loss=-27108.34, λc2D1=179.44, λd1=110.46, λd2=140.02, λd3=90.29]\n",
      "Epoch 622 [Validation]: 100%|██████████| 21/21 [00:01<00:00, 14.80it/s, loss=-27467.30]\n"
     ]
    },
    {
     "name": "stdout",
     "output_type": "stream",
     "text": [
      "\tTotal Loss (NLL + MDMM): -27097.44\n",
      "\tMDMM Loss:               3189.77\n",
      "\tRemaining Weights:       98.46 %\n"
     ]
    },
    {
     "name": "stderr",
     "output_type": "stream",
     "text": [
      "Epoch 623 [Training]: 100%|██████████| 84/84 [00:06<00:00, 13.30it/s, loss=-27083.60, λc2D1=179.69, λd1=110.67, λd2=140.26, λd3=90.42]\n",
      "Epoch 623 [Validation]: 100%|██████████| 21/21 [00:01<00:00, 15.08it/s, loss=-27444.26]\n"
     ]
    },
    {
     "name": "stdout",
     "output_type": "stream",
     "text": [
      "\tTotal Loss (NLL + MDMM): -27080.29\n",
      "\tMDMM Loss:               3193.39\n",
      "\tRemaining Weights:       98.35 %\n"
     ]
    },
    {
     "name": "stderr",
     "output_type": "stream",
     "text": [
      "Epoch 624 [Training]: 100%|██████████| 84/84 [00:06<00:00, 13.42it/s, loss=-27089.57, λc2D1=179.95, λd1=110.88, λd2=140.50, λd3=90.55]\n",
      "Epoch 624 [Validation]: 100%|██████████| 21/21 [00:01<00:00, 14.41it/s, loss=-27424.81]\n"
     ]
    },
    {
     "name": "stdout",
     "output_type": "stream",
     "text": [
      "\tTotal Loss (NLL + MDMM): -27062.56\n",
      "\tMDMM Loss:               3197.15\n",
      "\tRemaining Weights:       98.29 %\n"
     ]
    },
    {
     "name": "stderr",
     "output_type": "stream",
     "text": [
      "Epoch 625 [Training]: 100%|██████████| 84/84 [00:06<00:00, 13.33it/s, loss=-27095.88, λc2D1=180.20, λd1=111.09, λd2=140.75, λd3=90.67]\n",
      "Epoch 625 [Validation]: 100%|██████████| 21/21 [00:01<00:00, 14.58it/s, loss=-27481.57]\n"
     ]
    },
    {
     "name": "stdout",
     "output_type": "stream",
     "text": [
      "\tTotal Loss (NLL + MDMM): -27107.10\n",
      "\tMDMM Loss:               3200.41\n",
      "\tRemaining Weights:       98.29 %\n"
     ]
    },
    {
     "name": "stderr",
     "output_type": "stream",
     "text": [
      "Epoch 626 [Training]: 100%|██████████| 84/84 [00:06<00:00, 13.40it/s, loss=-27097.23, λc2D1=180.45, λd1=111.29, λd2=140.99, λd3=90.80]\n",
      "Epoch 626 [Validation]: 100%|██████████| 21/21 [00:01<00:00, 14.91it/s, loss=-27440.81]\n"
     ]
    },
    {
     "name": "stdout",
     "output_type": "stream",
     "text": [
      "\tTotal Loss (NLL + MDMM): -27075.80\n",
      "\tMDMM Loss:               3204.15\n",
      "\tRemaining Weights:       98.29 %\n"
     ]
    },
    {
     "name": "stderr",
     "output_type": "stream",
     "text": [
      "Epoch 627 [Training]: 100%|██████████| 84/84 [00:06<00:00, 13.23it/s, loss=-27085.06, λc2D1=180.70, λd1=111.50, λd2=141.23, λd3=90.93]\n",
      "Epoch 627 [Validation]: 100%|██████████| 21/21 [00:01<00:00, 14.63it/s, loss=-27479.24]\n"
     ]
    },
    {
     "name": "stdout",
     "output_type": "stream",
     "text": [
      "\tTotal Loss (NLL + MDMM): -27109.32\n",
      "\tMDMM Loss:               3207.62\n",
      "\tRemaining Weights:       98.29 %\n"
     ]
    },
    {
     "name": "stderr",
     "output_type": "stream",
     "text": [
      "Epoch 628 [Training]: 100%|██████████| 84/84 [00:06<00:00, 13.28it/s, loss=-27091.56, λc2D1=180.95, λd1=111.71, λd2=141.48, λd3=91.05]\n",
      "Epoch 628 [Validation]: 100%|██████████| 21/21 [00:01<00:00, 14.94it/s, loss=-27376.52]\n"
     ]
    },
    {
     "name": "stdout",
     "output_type": "stream",
     "text": [
      "\tTotal Loss (NLL + MDMM): -27017.53\n",
      "\tMDMM Loss:               3211.76\n",
      "\tRemaining Weights:       98.23 %\n"
     ]
    },
    {
     "name": "stderr",
     "output_type": "stream",
     "text": [
      "Epoch 629 [Training]: 100%|██████████| 84/84 [00:06<00:00, 13.49it/s, loss=-27082.64, λc2D1=181.21, λd1=111.92, λd2=141.72, λd3=91.18]\n",
      "Epoch 629 [Validation]: 100%|██████████| 21/21 [00:01<00:00, 15.02it/s, loss=-27440.17]\n"
     ]
    },
    {
     "name": "stdout",
     "output_type": "stream",
     "text": [
      "\tTotal Loss (NLL + MDMM): -27069.63\n",
      "\tMDMM Loss:               3215.13\n",
      "\tRemaining Weights:       98.35 %\n"
     ]
    },
    {
     "name": "stderr",
     "output_type": "stream",
     "text": [
      "Epoch 630 [Training]: 100%|██████████| 84/84 [00:06<00:00, 13.37it/s, loss=-27089.60, λc2D1=181.46, λd1=112.12, λd2=141.96, λd3=91.30]\n",
      "Epoch 630 [Validation]: 100%|██████████| 21/21 [00:01<00:00, 14.98it/s, loss=-27440.07]\n"
     ]
    },
    {
     "name": "stdout",
     "output_type": "stream",
     "text": [
      "\tTotal Loss (NLL + MDMM): -27070.87\n",
      "\tMDMM Loss:               3218.50\n",
      "\tRemaining Weights:       98.23 %\n"
     ]
    },
    {
     "name": "stderr",
     "output_type": "stream",
     "text": [
      "Epoch 631 [Training]: 100%|██████████| 84/84 [00:06<00:00, 13.38it/s, loss=-27083.67, λc2D1=181.71, λd1=112.33, λd2=142.21, λd3=91.43]\n",
      "Epoch 631 [Validation]: 100%|██████████| 21/21 [00:01<00:00, 14.74it/s, loss=-27447.68]\n"
     ]
    },
    {
     "name": "stdout",
     "output_type": "stream",
     "text": [
      "\tTotal Loss (NLL + MDMM): -27071.21\n",
      "\tMDMM Loss:               3221.92\n",
      "\tRemaining Weights:       98.23 %\n"
     ]
    },
    {
     "name": "stderr",
     "output_type": "stream",
     "text": [
      "Epoch 632 [Training]: 100%|██████████| 84/84 [00:06<00:00, 13.29it/s, loss=-27091.71, λc2D1=181.96, λd1=112.54, λd2=142.45, λd3=91.56]\n",
      "Epoch 632 [Validation]: 100%|██████████| 21/21 [00:01<00:00, 14.94it/s, loss=-27455.90]\n"
     ]
    },
    {
     "name": "stdout",
     "output_type": "stream",
     "text": [
      "\tTotal Loss (NLL + MDMM): -27085.60\n",
      "\tMDMM Loss:               3225.49\n",
      "\tRemaining Weights:       98.18 %\n"
     ]
    },
    {
     "name": "stderr",
     "output_type": "stream",
     "text": [
      "Epoch 633 [Training]: 100%|██████████| 84/84 [00:06<00:00, 13.41it/s, loss=-27096.37, λc2D1=182.21, λd1=112.75, λd2=142.69, λd3=91.68]\n",
      "Epoch 633 [Validation]: 100%|██████████| 21/21 [00:01<00:00, 14.67it/s, loss=-27472.12]\n"
     ]
    },
    {
     "name": "stdout",
     "output_type": "stream",
     "text": [
      "\tTotal Loss (NLL + MDMM): -27099.69\n",
      "\tMDMM Loss:               3229.25\n",
      "\tRemaining Weights:       98.29 %\n"
     ]
    },
    {
     "name": "stderr",
     "output_type": "stream",
     "text": [
      "Epoch 634 [Training]: 100%|██████████| 84/84 [00:06<00:00, 12.98it/s, loss=-27079.90, λc2D1=182.47, λd1=112.95, λd2=142.94, λd3=91.81]\n",
      "Epoch 634 [Validation]: 100%|██████████| 21/21 [00:01<00:00, 14.84it/s, loss=-27437.40]\n"
     ]
    },
    {
     "name": "stdout",
     "output_type": "stream",
     "text": [
      "\tTotal Loss (NLL + MDMM): -27072.85\n",
      "\tMDMM Loss:               3232.64\n",
      "\tRemaining Weights:       98.29 %\n"
     ]
    },
    {
     "name": "stderr",
     "output_type": "stream",
     "text": [
      "Epoch 635 [Training]: 100%|██████████| 84/84 [00:06<00:00, 13.32it/s, loss=-27088.65, λc2D1=182.72, λd1=113.16, λd2=143.18, λd3=91.94]\n",
      "Epoch 635 [Validation]: 100%|██████████| 21/21 [00:01<00:00, 14.42it/s, loss=-27470.49]\n"
     ]
    },
    {
     "name": "stdout",
     "output_type": "stream",
     "text": [
      "\tTotal Loss (NLL + MDMM): -27097.33\n",
      "\tMDMM Loss:               3236.05\n",
      "\tRemaining Weights:       98.40 %\n"
     ]
    },
    {
     "name": "stderr",
     "output_type": "stream",
     "text": [
      "Epoch 636 [Training]: 100%|██████████| 84/84 [00:06<00:00, 13.43it/s, loss=-27074.87, λc2D1=182.97, λd1=113.37, λd2=143.42, λd3=92.06]\n",
      "Epoch 636 [Validation]: 100%|██████████| 21/21 [00:01<00:00, 14.70it/s, loss=-27441.90]\n"
     ]
    },
    {
     "name": "stdout",
     "output_type": "stream",
     "text": [
      "\tTotal Loss (NLL + MDMM): -27071.43\n",
      "\tMDMM Loss:               3239.71\n",
      "\tRemaining Weights:       98.40 %\n"
     ]
    },
    {
     "name": "stderr",
     "output_type": "stream",
     "text": [
      "Epoch 637 [Training]: 100%|██████████| 84/84 [00:06<00:00, 13.18it/s, loss=-27089.91, λc2D1=183.22, λd1=113.58, λd2=143.67, λd3=92.19]\n",
      "Epoch 637 [Validation]: 100%|██████████| 21/21 [00:01<00:00, 14.54it/s, loss=-27462.11]\n"
     ]
    },
    {
     "name": "stdout",
     "output_type": "stream",
     "text": [
      "\tTotal Loss (NLL + MDMM): -27090.05\n",
      "\tMDMM Loss:               3243.19\n",
      "\tRemaining Weights:       98.35 %\n"
     ]
    },
    {
     "name": "stderr",
     "output_type": "stream",
     "text": [
      "Epoch 638 [Training]: 100%|██████████| 84/84 [00:06<00:00, 13.18it/s, loss=-27079.93, λc2D1=183.47, λd1=113.78, λd2=143.91, λd3=92.31]\n",
      "Epoch 638 [Validation]: 100%|██████████| 21/21 [00:01<00:00, 14.73it/s, loss=-27471.98]\n"
     ]
    },
    {
     "name": "stdout",
     "output_type": "stream",
     "text": [
      "\tTotal Loss (NLL + MDMM): -27099.71\n",
      "\tMDMM Loss:               3246.70\n",
      "\tRemaining Weights:       98.51 %\n"
     ]
    },
    {
     "name": "stderr",
     "output_type": "stream",
     "text": [
      "Epoch 639 [Training]: 100%|██████████| 84/84 [00:06<00:00, 13.29it/s, loss=-27079.07, λc2D1=183.73, λd1=113.99, λd2=144.16, λd3=92.44]\n",
      "Epoch 639 [Validation]: 100%|██████████| 21/21 [00:01<00:00, 14.70it/s, loss=-27375.07]\n"
     ]
    },
    {
     "name": "stdout",
     "output_type": "stream",
     "text": [
      "\tTotal Loss (NLL + MDMM): -27010.15\n",
      "\tMDMM Loss:               3250.13\n",
      "\tRemaining Weights:       98.40 %\n"
     ]
    },
    {
     "name": "stderr",
     "output_type": "stream",
     "text": [
      "Epoch 640 [Training]: 100%|██████████| 84/84 [00:06<00:00, 13.27it/s, loss=-27077.11, λc2D1=183.98, λd1=114.20, λd2=144.40, λd3=92.57]\n",
      "Epoch 640 [Validation]: 100%|██████████| 21/21 [00:01<00:00, 14.80it/s, loss=-27465.03]\n"
     ]
    },
    {
     "name": "stdout",
     "output_type": "stream",
     "text": [
      "\tTotal Loss (NLL + MDMM): -27090.06\n",
      "\tMDMM Loss:               3253.82\n",
      "\tRemaining Weights:       98.51 %\n"
     ]
    },
    {
     "name": "stderr",
     "output_type": "stream",
     "text": [
      "Epoch 641 [Training]: 100%|██████████| 84/84 [00:06<00:00, 13.13it/s, loss=-27065.92, λc2D1=184.23, λd1=114.41, λd2=144.64, λd3=92.69]\n",
      "Epoch 641 [Validation]: 100%|██████████| 21/21 [00:01<00:00, 14.25it/s, loss=-27345.87]\n"
     ]
    },
    {
     "name": "stdout",
     "output_type": "stream",
     "text": [
      "\tTotal Loss (NLL + MDMM): -26987.17\n",
      "\tMDMM Loss:               3257.34\n",
      "\tRemaining Weights:       98.40 %\n"
     ]
    },
    {
     "name": "stderr",
     "output_type": "stream",
     "text": [
      "Epoch 642 [Training]: 100%|██████████| 84/84 [00:06<00:00, 13.32it/s, loss=-27083.65, λc2D1=184.48, λd1=114.62, λd2=144.89, λd3=92.82]\n",
      "Epoch 642 [Validation]: 100%|██████████| 21/21 [00:01<00:00, 14.99it/s, loss=-27459.73]\n"
     ]
    },
    {
     "name": "stdout",
     "output_type": "stream",
     "text": [
      "\tTotal Loss (NLL + MDMM): -27083.67\n",
      "\tMDMM Loss:               3260.81\n",
      "\tRemaining Weights:       98.46 %\n"
     ]
    },
    {
     "name": "stderr",
     "output_type": "stream",
     "text": [
      "Epoch 643 [Training]: 100%|██████████| 84/84 [00:06<00:00, 13.34it/s, loss=-27067.29, λc2D1=184.73, λd1=114.82, λd2=145.13, λd3=92.94]\n",
      "Epoch 643 [Validation]: 100%|██████████| 21/21 [00:01<00:00, 14.44it/s, loss=-27391.25]\n"
     ]
    },
    {
     "name": "stdout",
     "output_type": "stream",
     "text": [
      "\tTotal Loss (NLL + MDMM): -27020.27\n",
      "\tMDMM Loss:               3263.74\n",
      "\tRemaining Weights:       98.51 %\n"
     ]
    },
    {
     "name": "stderr",
     "output_type": "stream",
     "text": [
      "Epoch 644 [Training]: 100%|██████████| 84/84 [00:06<00:00, 13.21it/s, loss=-27074.76, λc2D1=184.99, λd1=115.03, λd2=145.37, λd3=93.07]\n",
      "Epoch 644 [Validation]: 100%|██████████| 21/21 [00:02<00:00,  9.54it/s, loss=-27453.40]\n"
     ]
    },
    {
     "name": "stdout",
     "output_type": "stream",
     "text": [
      "\tTotal Loss (NLL + MDMM): -27080.39\n",
      "\tMDMM Loss:               3267.46\n",
      "\tRemaining Weights:       98.57 %\n"
     ]
    },
    {
     "name": "stderr",
     "output_type": "stream",
     "text": [
      "Epoch 645 [Training]: 100%|██████████| 84/84 [00:06<00:00, 13.29it/s, loss=-27063.17, λc2D1=185.24, λd1=115.24, λd2=145.62, λd3=93.20]\n",
      "Epoch 645 [Validation]: 100%|██████████| 21/21 [00:01<00:00, 14.90it/s, loss=-27434.65]\n"
     ]
    },
    {
     "name": "stdout",
     "output_type": "stream",
     "text": [
      "\tTotal Loss (NLL + MDMM): -27067.53\n",
      "\tMDMM Loss:               3270.78\n",
      "\tRemaining Weights:       98.35 %\n"
     ]
    },
    {
     "name": "stderr",
     "output_type": "stream",
     "text": [
      "Epoch 646 [Training]: 100%|██████████| 84/84 [00:06<00:00, 13.35it/s, loss=-27079.81, λc2D1=185.49, λd1=115.45, λd2=145.86, λd3=93.32]\n",
      "Epoch 646 [Validation]: 100%|██████████| 21/21 [00:01<00:00, 14.57it/s, loss=-27449.72]\n"
     ]
    },
    {
     "name": "stdout",
     "output_type": "stream",
     "text": [
      "\tTotal Loss (NLL + MDMM): -27077.72\n",
      "\tMDMM Loss:               3274.04\n",
      "\tRemaining Weights:       98.46 %\n"
     ]
    },
    {
     "name": "stderr",
     "output_type": "stream",
     "text": [
      "Epoch 647 [Training]: 100%|██████████| 84/84 [00:06<00:00, 13.48it/s, loss=-27059.07, λc2D1=185.75, λd1=115.66, λd2=146.10, λd3=93.45]\n",
      "Epoch 647 [Validation]: 100%|██████████| 21/21 [00:01<00:00, 14.86it/s, loss=-27404.20]\n"
     ]
    },
    {
     "name": "stdout",
     "output_type": "stream",
     "text": [
      "\tTotal Loss (NLL + MDMM): -27038.29\n",
      "\tMDMM Loss:               3277.37\n",
      "\tRemaining Weights:       98.46 %\n"
     ]
    },
    {
     "name": "stderr",
     "output_type": "stream",
     "text": [
      "Epoch 648 [Training]: 100%|██████████| 84/84 [00:06<00:00, 13.34it/s, loss=-27069.50, λc2D1=186.00, λd1=115.87, λd2=146.35, λd3=93.57]\n",
      "Epoch 648 [Validation]: 100%|██████████| 21/21 [00:01<00:00, 15.11it/s, loss=-27377.84]\n"
     ]
    },
    {
     "name": "stdout",
     "output_type": "stream",
     "text": [
      "\tTotal Loss (NLL + MDMM): -27013.09\n",
      "\tMDMM Loss:               3280.73\n",
      "\tRemaining Weights:       98.40 %\n"
     ]
    },
    {
     "name": "stderr",
     "output_type": "stream",
     "text": [
      "Epoch 649 [Training]: 100%|██████████| 84/84 [00:06<00:00, 13.43it/s, loss=-27062.60, λc2D1=186.25, λd1=116.07, λd2=146.59, λd3=93.70]\n",
      "Epoch 649 [Validation]: 100%|██████████| 21/21 [00:01<00:00, 14.90it/s, loss=-27435.21]\n"
     ]
    },
    {
     "name": "stdout",
     "output_type": "stream",
     "text": [
      "\tTotal Loss (NLL + MDMM): -27065.60\n",
      "\tMDMM Loss:               3284.32\n",
      "\tRemaining Weights:       98.57 %\n"
     ]
    },
    {
     "name": "stderr",
     "output_type": "stream",
     "text": [
      "Epoch 650 [Training]: 100%|██████████| 84/84 [00:06<00:00, 13.52it/s, loss=-27068.41, λc2D1=186.51, λd1=116.28, λd2=146.83, λd3=93.82]\n",
      "Epoch 650 [Validation]: 100%|██████████| 21/21 [00:01<00:00, 14.89it/s, loss=-27390.69]\n"
     ]
    },
    {
     "name": "stdout",
     "output_type": "stream",
     "text": [
      "\tTotal Loss (NLL + MDMM): -27020.33\n",
      "\tMDMM Loss:               3287.66\n",
      "\tRemaining Weights:       98.51 %\n"
     ]
    },
    {
     "name": "stderr",
     "output_type": "stream",
     "text": [
      "Epoch 651 [Training]: 100%|██████████| 84/84 [00:06<00:00, 13.43it/s, loss=-27059.45, λc2D1=186.76, λd1=116.49, λd2=147.08, λd3=93.95]\n",
      "Epoch 651 [Validation]: 100%|██████████| 21/21 [00:01<00:00, 14.65it/s, loss=-27398.16]\n"
     ]
    },
    {
     "name": "stdout",
     "output_type": "stream",
     "text": [
      "\tTotal Loss (NLL + MDMM): -27032.23\n",
      "\tMDMM Loss:               3290.86\n",
      "\tRemaining Weights:       98.51 %\n"
     ]
    },
    {
     "name": "stderr",
     "output_type": "stream",
     "text": [
      "Epoch 652 [Training]: 100%|██████████| 84/84 [00:06<00:00, 13.08it/s, loss=-27055.32, λc2D1=187.01, λd1=116.70, λd2=147.32, λd3=94.08]\n",
      "Epoch 652 [Validation]: 100%|██████████| 21/21 [00:01<00:00, 14.73it/s, loss=-27417.25]\n"
     ]
    },
    {
     "name": "stdout",
     "output_type": "stream",
     "text": [
      "\tTotal Loss (NLL + MDMM): -27048.15\n",
      "\tMDMM Loss:               3294.30\n",
      "\tRemaining Weights:       98.62 %\n"
     ]
    },
    {
     "name": "stderr",
     "output_type": "stream",
     "text": [
      "Epoch 653 [Training]: 100%|██████████| 84/84 [00:06<00:00, 13.22it/s, loss=-27059.53, λc2D1=187.27, λd1=116.91, λd2=147.56, λd3=94.20]\n",
      "Epoch 653 [Validation]: 100%|██████████| 21/21 [00:01<00:00, 14.50it/s, loss=-27407.36]\n"
     ]
    },
    {
     "name": "stdout",
     "output_type": "stream",
     "text": [
      "\tTotal Loss (NLL + MDMM): -27041.91\n",
      "\tMDMM Loss:               3297.55\n",
      "\tRemaining Weights:       98.57 %\n"
     ]
    },
    {
     "name": "stderr",
     "output_type": "stream",
     "text": [
      "Epoch 654 [Training]: 100%|██████████| 84/84 [00:06<00:00, 13.12it/s, loss=-27045.10, λc2D1=187.52, λd1=117.11, λd2=147.81, λd3=94.33]\n",
      "Epoch 654 [Validation]: 100%|██████████| 21/21 [00:01<00:00, 14.88it/s, loss=-27344.07]\n"
     ]
    },
    {
     "name": "stdout",
     "output_type": "stream",
     "text": [
      "\tTotal Loss (NLL + MDMM): -26982.50\n",
      "\tMDMM Loss:               3301.31\n",
      "\tRemaining Weights:       98.40 %\n"
     ]
    },
    {
     "name": "stderr",
     "output_type": "stream",
     "text": [
      "Epoch 655 [Training]: 100%|██████████| 84/84 [00:06<00:00, 13.32it/s, loss=-27045.62, λc2D1=187.77, λd1=117.32, λd2=148.05, λd3=94.45]\n",
      "Epoch 655 [Validation]: 100%|██████████| 21/21 [00:01<00:00, 14.49it/s, loss=-27378.58]\n"
     ]
    },
    {
     "name": "stdout",
     "output_type": "stream",
     "text": [
      "\tTotal Loss (NLL + MDMM): -27016.82\n",
      "\tMDMM Loss:               3304.62\n",
      "\tRemaining Weights:       98.57 %\n"
     ]
    },
    {
     "name": "stderr",
     "output_type": "stream",
     "text": [
      "Epoch 656 [Training]: 100%|██████████| 84/84 [00:06<00:00, 13.37it/s, loss=-27064.97, λc2D1=188.03, λd1=117.53, λd2=148.30, λd3=94.58]\n",
      "Epoch 656 [Validation]: 100%|██████████| 21/21 [00:01<00:00, 14.98it/s, loss=-27432.61]\n"
     ]
    },
    {
     "name": "stdout",
     "output_type": "stream",
     "text": [
      "\tTotal Loss (NLL + MDMM): -27065.77\n",
      "\tMDMM Loss:               3307.79\n",
      "\tRemaining Weights:       98.46 %\n"
     ]
    },
    {
     "name": "stderr",
     "output_type": "stream",
     "text": [
      "Epoch 657 [Training]: 100%|██████████| 84/84 [00:06<00:00, 13.39it/s, loss=-27037.55, λc2D1=188.28, λd1=117.74, λd2=148.54, λd3=94.70]\n",
      "Epoch 657 [Validation]: 100%|██████████| 21/21 [00:01<00:00, 14.81it/s, loss=-27316.17]\n"
     ]
    },
    {
     "name": "stdout",
     "output_type": "stream",
     "text": [
      "\tTotal Loss (NLL + MDMM): -26954.10\n",
      "\tMDMM Loss:               3311.38\n",
      "\tRemaining Weights:       98.40 %\n"
     ]
    },
    {
     "name": "stderr",
     "output_type": "stream",
     "text": [
      "Epoch 658 [Training]: 100%|██████████| 84/84 [00:06<00:00, 13.26it/s, loss=-27047.33, λc2D1=188.53, λd1=117.95, λd2=148.78, λd3=94.83]\n",
      "Epoch 658 [Validation]: 100%|██████████| 21/21 [00:01<00:00, 15.15it/s, loss=-27420.90]\n"
     ]
    },
    {
     "name": "stdout",
     "output_type": "stream",
     "text": [
      "\tTotal Loss (NLL + MDMM): -27054.92\n",
      "\tMDMM Loss:               3314.41\n",
      "\tRemaining Weights:       98.57 %\n"
     ]
    },
    {
     "name": "stderr",
     "output_type": "stream",
     "text": [
      "Epoch 659 [Training]: 100%|██████████| 84/84 [00:06<00:00, 13.22it/s, loss=-27045.23, λc2D1=188.79, λd1=118.16, λd2=149.03, λd3=94.96]\n",
      "Epoch 659 [Validation]: 100%|██████████| 21/21 [00:01<00:00, 14.97it/s, loss=-27411.05]\n"
     ]
    },
    {
     "name": "stdout",
     "output_type": "stream",
     "text": [
      "\tTotal Loss (NLL + MDMM): -27046.66\n",
      "\tMDMM Loss:               3317.60\n",
      "\tRemaining Weights:       98.57 %\n"
     ]
    },
    {
     "name": "stderr",
     "output_type": "stream",
     "text": [
      "Epoch 660 [Training]: 100%|██████████| 84/84 [00:06<00:00, 13.21it/s, loss=-27048.90, λc2D1=189.04, λd1=118.36, λd2=149.27, λd3=95.08]\n",
      "Epoch 660 [Validation]: 100%|██████████| 21/21 [00:01<00:00, 14.58it/s, loss=-27396.20]\n"
     ]
    },
    {
     "name": "stdout",
     "output_type": "stream",
     "text": [
      "\tTotal Loss (NLL + MDMM): -27029.97\n",
      "\tMDMM Loss:               3320.77\n",
      "\tRemaining Weights:       98.46 %\n"
     ]
    },
    {
     "name": "stderr",
     "output_type": "stream",
     "text": [
      "Epoch 661 [Training]: 100%|██████████| 84/84 [00:06<00:00, 13.19it/s, loss=-27057.23, λc2D1=189.29, λd1=118.57, λd2=149.51, λd3=95.21]\n",
      "Epoch 661 [Validation]: 100%|██████████| 21/21 [00:01<00:00, 15.04it/s, loss=-27435.03]\n"
     ]
    },
    {
     "name": "stdout",
     "output_type": "stream",
     "text": [
      "\tTotal Loss (NLL + MDMM): -27063.99\n",
      "\tMDMM Loss:               3324.02\n",
      "\tRemaining Weights:       98.46 %\n"
     ]
    },
    {
     "name": "stderr",
     "output_type": "stream",
     "text": [
      "Epoch 662 [Training]: 100%|██████████| 84/84 [00:06<00:00, 13.16it/s, loss=-27044.26, λc2D1=189.55, λd1=118.78, λd2=149.76, λd3=95.33]\n",
      "Epoch 662 [Validation]: 100%|██████████| 21/21 [00:01<00:00, 14.52it/s, loss=-27422.29]\n"
     ]
    },
    {
     "name": "stdout",
     "output_type": "stream",
     "text": [
      "\tTotal Loss (NLL + MDMM): -27049.76\n",
      "\tMDMM Loss:               3327.18\n",
      "\tRemaining Weights:       98.40 %\n"
     ]
    },
    {
     "name": "stderr",
     "output_type": "stream",
     "text": [
      "Epoch 663 [Training]: 100%|██████████| 84/84 [00:06<00:00, 13.17it/s, loss=-27054.79, λc2D1=189.80, λd1=118.99, λd2=150.00, λd3=95.46]\n",
      "Epoch 663 [Validation]: 100%|██████████| 21/21 [00:01<00:00, 14.68it/s, loss=-27417.85]\n"
     ]
    },
    {
     "name": "stdout",
     "output_type": "stream",
     "text": [
      "\tTotal Loss (NLL + MDMM): -27047.84\n",
      "\tMDMM Loss:               3329.91\n",
      "\tRemaining Weights:       98.40 %\n"
     ]
    },
    {
     "name": "stderr",
     "output_type": "stream",
     "text": [
      "Epoch 664 [Training]: 100%|██████████| 84/84 [00:06<00:00, 13.38it/s, loss=-27036.11, λc2D1=190.05, λd1=119.20, λd2=150.24, λd3=95.58]\n",
      "Epoch 664 [Validation]: 100%|██████████| 21/21 [00:01<00:00, 14.83it/s, loss=-27332.30]\n"
     ]
    },
    {
     "name": "stdout",
     "output_type": "stream",
     "text": [
      "\tTotal Loss (NLL + MDMM): -26969.65\n",
      "\tMDMM Loss:               3333.99\n",
      "\tRemaining Weights:       98.35 %\n"
     ]
    },
    {
     "name": "stderr",
     "output_type": "stream",
     "text": [
      "Epoch 665 [Training]: 100%|██████████| 84/84 [00:06<00:00, 12.61it/s, loss=-27033.30, λc2D1=190.31, λd1=119.41, λd2=150.49, λd3=95.71]\n",
      "Epoch 665 [Validation]: 100%|██████████| 21/21 [00:01<00:00, 14.67it/s, loss=-27342.56]\n"
     ]
    },
    {
     "name": "stdout",
     "output_type": "stream",
     "text": [
      "\tTotal Loss (NLL + MDMM): -26977.16\n",
      "\tMDMM Loss:               3337.14\n",
      "\tRemaining Weights:       98.35 %\n"
     ]
    },
    {
     "name": "stderr",
     "output_type": "stream",
     "text": [
      "Epoch 666 [Training]: 100%|██████████| 84/84 [00:06<00:00, 13.20it/s, loss=-27038.53, λc2D1=190.56, λd1=119.61, λd2=150.73, λd3=95.83]\n",
      "Epoch 666 [Validation]: 100%|██████████| 21/21 [00:01<00:00, 14.77it/s, loss=-27395.82]\n"
     ]
    },
    {
     "name": "stdout",
     "output_type": "stream",
     "text": [
      "\tTotal Loss (NLL + MDMM): -27028.80\n",
      "\tMDMM Loss:               3340.30\n",
      "\tRemaining Weights:       98.35 %\n"
     ]
    },
    {
     "name": "stderr",
     "output_type": "stream",
     "text": [
      "Epoch 667 [Training]: 100%|██████████| 84/84 [00:06<00:00, 13.31it/s, loss=-27009.88, λc2D1=190.81, λd1=119.82, λd2=150.97, λd3=95.96]\n",
      "Epoch 667 [Validation]: 100%|██████████| 21/21 [00:01<00:00, 15.01it/s, loss=-27278.10]\n"
     ]
    },
    {
     "name": "stdout",
     "output_type": "stream",
     "text": [
      "\tTotal Loss (NLL + MDMM): -26918.19\n",
      "\tMDMM Loss:               3343.69\n",
      "\tRemaining Weights:       98.18 %\n"
     ]
    },
    {
     "name": "stderr",
     "output_type": "stream",
     "text": [
      "Epoch 668 [Training]: 100%|██████████| 84/84 [00:06<00:00, 13.28it/s, loss=-27038.72, λc2D1=191.07, λd1=120.03, λd2=151.22, λd3=96.08]\n",
      "Epoch 668 [Validation]: 100%|██████████| 21/21 [00:01<00:00, 14.99it/s, loss=-27386.78]\n"
     ]
    },
    {
     "name": "stdout",
     "output_type": "stream",
     "text": [
      "\tTotal Loss (NLL + MDMM): -27022.93\n",
      "\tMDMM Loss:               3346.55\n",
      "\tRemaining Weights:       98.23 %\n"
     ]
    },
    {
     "name": "stderr",
     "output_type": "stream",
     "text": [
      "Epoch 669 [Training]: 100%|██████████| 84/84 [00:06<00:00, 13.29it/s, loss=-27036.98, λc2D1=191.32, λd1=120.24, λd2=151.46, λd3=96.21]\n",
      "Epoch 669 [Validation]: 100%|██████████| 21/21 [00:01<00:00, 15.04it/s, loss=-27378.08]\n"
     ]
    },
    {
     "name": "stdout",
     "output_type": "stream",
     "text": [
      "\tTotal Loss (NLL + MDMM): -27012.13\n",
      "\tMDMM Loss:               3349.65\n",
      "\tRemaining Weights:       98.40 %\n"
     ]
    },
    {
     "name": "stderr",
     "output_type": "stream",
     "text": [
      "Epoch 670 [Training]: 100%|██████████| 84/84 [00:06<00:00, 13.27it/s, loss=-27054.55, λc2D1=191.57, λd1=120.45, λd2=151.70, λd3=96.33]\n",
      "Epoch 670 [Validation]: 100%|██████████| 21/21 [00:01<00:00, 14.81it/s, loss=-27432.33]\n"
     ]
    },
    {
     "name": "stdout",
     "output_type": "stream",
     "text": [
      "\tTotal Loss (NLL + MDMM): -27057.21\n",
      "\tMDMM Loss:               3352.73\n",
      "\tRemaining Weights:       98.29 %\n"
     ]
    },
    {
     "name": "stderr",
     "output_type": "stream",
     "text": [
      "Epoch 671 [Training]: 100%|██████████| 84/84 [00:06<00:00, 13.29it/s, loss=-27047.25, λc2D1=191.83, λd1=120.66, λd2=151.95, λd3=96.46]\n",
      "Epoch 671 [Validation]: 100%|██████████| 21/21 [00:01<00:00, 14.69it/s, loss=-27424.44]\n"
     ]
    },
    {
     "name": "stdout",
     "output_type": "stream",
     "text": [
      "\tTotal Loss (NLL + MDMM): -27051.16\n",
      "\tMDMM Loss:               3355.80\n",
      "\tRemaining Weights:       98.29 %\n"
     ]
    },
    {
     "name": "stderr",
     "output_type": "stream",
     "text": [
      "Epoch 672 [Training]: 100%|██████████| 84/84 [00:06<00:00, 13.26it/s, loss=-27033.18, λc2D1=192.08, λd1=120.87, λd2=152.19, λd3=96.58]\n",
      "Epoch 672 [Validation]: 100%|██████████| 21/21 [00:01<00:00, 14.89it/s, loss=-27378.62]\n"
     ]
    },
    {
     "name": "stdout",
     "output_type": "stream",
     "text": [
      "\tTotal Loss (NLL + MDMM): -27012.79\n",
      "\tMDMM Loss:               3359.17\n",
      "\tRemaining Weights:       98.29 %\n"
     ]
    },
    {
     "name": "stderr",
     "output_type": "stream",
     "text": [
      "Epoch 673 [Training]: 100%|██████████| 84/84 [00:06<00:00, 13.36it/s, loss=-27037.00, λc2D1=192.33, λd1=121.08, λd2=152.44, λd3=96.71]\n",
      "Epoch 673 [Validation]: 100%|██████████| 21/21 [00:01<00:00, 14.68it/s, loss=-27404.09]\n"
     ]
    },
    {
     "name": "stdout",
     "output_type": "stream",
     "text": [
      "\tTotal Loss (NLL + MDMM): -27037.08\n",
      "\tMDMM Loss:               3362.01\n",
      "\tRemaining Weights:       98.29 %\n"
     ]
    },
    {
     "name": "stderr",
     "output_type": "stream",
     "text": [
      "Epoch 674 [Training]: 100%|██████████| 84/84 [00:06<00:00, 13.27it/s, loss=-27025.92, λc2D1=192.59, λd1=121.29, λd2=152.68, λd3=96.83]\n",
      "Epoch 674 [Validation]: 100%|██████████| 21/21 [00:01<00:00, 14.43it/s, loss=-27339.43]\n"
     ]
    },
    {
     "name": "stdout",
     "output_type": "stream",
     "text": [
      "\tTotal Loss (NLL + MDMM): -26974.12\n",
      "\tMDMM Loss:               3365.56\n",
      "\tRemaining Weights:       98.23 %\n"
     ]
    },
    {
     "name": "stderr",
     "output_type": "stream",
     "text": [
      "Epoch 675 [Training]: 100%|██████████| 84/84 [00:06<00:00, 13.15it/s, loss=-27019.59, λc2D1=192.84, λd1=121.50, λd2=152.92, λd3=96.96]\n",
      "Epoch 675 [Validation]: 100%|██████████| 21/21 [00:01<00:00, 14.94it/s, loss=-27391.05]\n"
     ]
    },
    {
     "name": "stdout",
     "output_type": "stream",
     "text": [
      "\tTotal Loss (NLL + MDMM): -27025.07\n",
      "\tMDMM Loss:               3367.99\n",
      "\tRemaining Weights:       98.40 %\n"
     ]
    },
    {
     "name": "stderr",
     "output_type": "stream",
     "text": [
      "Epoch 676 [Training]: 100%|██████████| 84/84 [00:06<00:00, 13.12it/s, loss=-27038.61, λc2D1=193.09, λd1=121.71, λd2=153.17, λd3=97.08]\n",
      "Epoch 676 [Validation]: 100%|██████████| 21/21 [00:01<00:00, 14.75it/s, loss=-27378.94]\n"
     ]
    },
    {
     "name": "stdout",
     "output_type": "stream",
     "text": [
      "\tTotal Loss (NLL + MDMM): -27012.02\n",
      "\tMDMM Loss:               3371.51\n",
      "\tRemaining Weights:       98.29 %\n"
     ]
    },
    {
     "name": "stderr",
     "output_type": "stream",
     "text": [
      "Epoch 677 [Training]: 100%|██████████| 84/84 [00:06<00:00, 13.40it/s, loss=-27022.94, λc2D1=193.35, λd1=121.91, λd2=153.41, λd3=97.21]\n",
      "Epoch 677 [Validation]: 100%|██████████| 21/21 [00:01<00:00, 14.65it/s, loss=-27377.55]\n"
     ]
    },
    {
     "name": "stdout",
     "output_type": "stream",
     "text": [
      "\tTotal Loss (NLL + MDMM): -27011.16\n",
      "\tMDMM Loss:               3374.56\n",
      "\tRemaining Weights:       98.23 %\n"
     ]
    },
    {
     "name": "stderr",
     "output_type": "stream",
     "text": [
      "Epoch 678 [Training]: 100%|██████████| 84/84 [00:06<00:00, 13.25it/s, loss=-27011.58, λc2D1=193.60, λd1=122.12, λd2=153.65, λd3=97.33]\n",
      "Epoch 678 [Validation]: 100%|██████████| 21/21 [00:01<00:00, 14.98it/s, loss=-27278.21]\n"
     ]
    },
    {
     "name": "stdout",
     "output_type": "stream",
     "text": [
      "\tTotal Loss (NLL + MDMM): -26924.26\n",
      "\tMDMM Loss:               3377.98\n",
      "\tRemaining Weights:       98.23 %\n"
     ]
    },
    {
     "name": "stderr",
     "output_type": "stream",
     "text": [
      "Epoch 679 [Training]: 100%|██████████| 84/84 [00:06<00:00, 13.34it/s, loss=-27025.84, λc2D1=193.85, λd1=122.33, λd2=153.90, λd3=97.46]\n",
      "Epoch 679 [Validation]: 100%|██████████| 21/21 [00:01<00:00, 14.65it/s, loss=-27426.67]\n"
     ]
    },
    {
     "name": "stdout",
     "output_type": "stream",
     "text": [
      "\tTotal Loss (NLL + MDMM): -27052.19\n",
      "\tMDMM Loss:               3380.76\n",
      "\tRemaining Weights:       98.40 %\n"
     ]
    },
    {
     "name": "stderr",
     "output_type": "stream",
     "text": [
      "Epoch 680 [Training]: 100%|██████████| 84/84 [00:06<00:00, 13.09it/s, loss=-27014.37, λc2D1=194.11, λd1=122.54, λd2=154.14, λd3=97.58]\n",
      "Epoch 680 [Validation]: 100%|██████████| 21/21 [00:01<00:00, 14.85it/s, loss=-27405.07]\n"
     ]
    },
    {
     "name": "stdout",
     "output_type": "stream",
     "text": [
      "\tTotal Loss (NLL + MDMM): -27036.06\n",
      "\tMDMM Loss:               3383.63\n",
      "\tRemaining Weights:       98.40 %\n"
     ]
    },
    {
     "name": "stderr",
     "output_type": "stream",
     "text": [
      "Epoch 681 [Training]: 100%|██████████| 84/84 [00:06<00:00, 13.30it/s, loss=-27019.12, λc2D1=194.36, λd1=122.75, λd2=154.38, λd3=97.71]\n",
      "Epoch 681 [Validation]: 100%|██████████| 21/21 [00:01<00:00, 14.94it/s, loss=-27301.76]\n"
     ]
    },
    {
     "name": "stdout",
     "output_type": "stream",
     "text": [
      "\tTotal Loss (NLL + MDMM): -26934.37\n",
      "\tMDMM Loss:               3386.93\n",
      "\tRemaining Weights:       98.35 %\n"
     ]
    },
    {
     "name": "stderr",
     "output_type": "stream",
     "text": [
      "Epoch 682 [Training]: 100%|██████████| 84/84 [00:06<00:00, 13.36it/s, loss=-27035.40, λc2D1=194.61, λd1=122.96, λd2=154.63, λd3=97.83]\n",
      "Epoch 682 [Validation]: 100%|██████████| 21/21 [00:01<00:00, 14.74it/s, loss=-27406.79]\n"
     ]
    },
    {
     "name": "stdout",
     "output_type": "stream",
     "text": [
      "\tTotal Loss (NLL + MDMM): -27035.59\n",
      "\tMDMM Loss:               3389.67\n",
      "\tRemaining Weights:       98.35 %\n"
     ]
    },
    {
     "name": "stderr",
     "output_type": "stream",
     "text": [
      "Epoch 683 [Training]: 100%|██████████| 84/84 [00:06<00:00, 13.21it/s, loss=-27037.60, λc2D1=194.87, λd1=123.17, λd2=154.87, λd3=97.96]\n",
      "Epoch 683 [Validation]: 100%|██████████| 21/21 [00:01<00:00, 14.64it/s, loss=-27418.99]\n"
     ]
    },
    {
     "name": "stdout",
     "output_type": "stream",
     "text": [
      "\tTotal Loss (NLL + MDMM): -27045.54\n",
      "\tMDMM Loss:               3392.58\n",
      "\tRemaining Weights:       98.35 %\n"
     ]
    },
    {
     "name": "stderr",
     "output_type": "stream",
     "text": [
      "Epoch 684 [Training]: 100%|██████████| 84/84 [00:06<00:00, 13.22it/s, loss=-27023.57, λc2D1=195.12, λd1=123.38, λd2=155.11, λd3=98.08]\n",
      "Epoch 684 [Validation]: 100%|██████████| 21/21 [00:01<00:00, 15.07it/s, loss=-27368.18]\n"
     ]
    },
    {
     "name": "stdout",
     "output_type": "stream",
     "text": [
      "\tTotal Loss (NLL + MDMM): -27003.17\n",
      "\tMDMM Loss:               3395.62\n",
      "\tRemaining Weights:       98.35 %\n"
     ]
    },
    {
     "name": "stderr",
     "output_type": "stream",
     "text": [
      "Epoch 685 [Training]: 100%|██████████| 84/84 [00:06<00:00, 13.54it/s, loss=-27035.27, λc2D1=195.37, λd1=123.59, λd2=155.36, λd3=98.20]\n",
      "Epoch 685 [Validation]: 100%|██████████| 21/21 [00:01<00:00, 14.91it/s, loss=-27346.74]\n"
     ]
    },
    {
     "name": "stdout",
     "output_type": "stream",
     "text": [
      "\tTotal Loss (NLL + MDMM): -26980.77\n",
      "\tMDMM Loss:               3398.70\n",
      "\tRemaining Weights:       98.35 %\n"
     ]
    },
    {
     "name": "stderr",
     "output_type": "stream",
     "text": [
      "Epoch 686 [Training]: 100%|██████████| 84/84 [00:06<00:00, 13.25it/s, loss=-27018.16, λc2D1=195.63, λd1=123.80, λd2=155.60, λd3=98.33]\n",
      "Epoch 686 [Validation]: 100%|██████████| 21/21 [00:01<00:00, 15.00it/s, loss=-27393.78]\n"
     ]
    },
    {
     "name": "stdout",
     "output_type": "stream",
     "text": [
      "\tTotal Loss (NLL + MDMM): -27026.85\n",
      "\tMDMM Loss:               3401.47\n",
      "\tRemaining Weights:       98.29 %\n"
     ]
    },
    {
     "name": "stderr",
     "output_type": "stream",
     "text": [
      "Epoch 687 [Training]: 100%|██████████| 84/84 [00:06<00:00, 13.21it/s, loss=-27012.81, λc2D1=195.88, λd1=124.01, λd2=155.85, λd3=98.45]\n",
      "Epoch 687 [Validation]: 100%|██████████| 21/21 [00:01<00:00, 14.54it/s, loss=-27306.26]\n"
     ]
    },
    {
     "name": "stdout",
     "output_type": "stream",
     "text": [
      "\tTotal Loss (NLL + MDMM): -26947.62\n",
      "\tMDMM Loss:               3404.41\n",
      "\tRemaining Weights:       98.29 %\n"
     ]
    },
    {
     "name": "stderr",
     "output_type": "stream",
     "text": [
      "Epoch 688 [Training]: 100%|██████████| 84/84 [00:06<00:00, 13.13it/s, loss=-27009.68, λc2D1=196.14, λd1=124.21, λd2=156.09, λd3=98.58]\n",
      "Epoch 688 [Validation]: 100%|██████████| 21/21 [00:01<00:00, 14.96it/s, loss=-27377.75]\n"
     ]
    },
    {
     "name": "stdout",
     "output_type": "stream",
     "text": [
      "\tTotal Loss (NLL + MDMM): -27011.36\n",
      "\tMDMM Loss:               3407.46\n",
      "\tRemaining Weights:       98.40 %\n"
     ]
    },
    {
     "name": "stderr",
     "output_type": "stream",
     "text": [
      "Epoch 689 [Training]: 100%|██████████| 84/84 [00:06<00:00, 13.41it/s, loss=-27006.84, λc2D1=196.39, λd1=124.42, λd2=156.33, λd3=98.70]\n",
      "Epoch 689 [Validation]: 100%|██████████| 21/21 [00:01<00:00, 14.47it/s, loss=-27282.76]\n"
     ]
    },
    {
     "name": "stdout",
     "output_type": "stream",
     "text": [
      "\tTotal Loss (NLL + MDMM): -26917.99\n",
      "\tMDMM Loss:               3410.57\n",
      "\tRemaining Weights:       98.40 %\n"
     ]
    },
    {
     "name": "stderr",
     "output_type": "stream",
     "text": [
      "Epoch 690 [Training]:   7%|▋         | 6/84 [00:00<00:06, 12.81it/s, loss=-27155.01, λc2D1=196.46, λd1=124.48, λd2=156.40, λd3=98.74]\n",
      "Epoch 701 [Validation]: 100%|██████████| 21/21 [00:01<00:00, 14.81it/s, loss=-27403.53]\n"
     ]
    },
    {
     "name": "stdout",
     "output_type": "stream",
     "text": [
      "\tTotal Loss (NLL + MDMM): -27032.58\n",
      "\tMDMM Loss:               3443.81\n",
      "\tRemaining Weights:       98.07 %\n"
     ]
    },
    {
     "name": "stderr",
     "output_type": "stream",
     "text": [
      "Epoch 702 [Training]: 100%|██████████| 84/84 [00:06<00:00, 13.41it/s, loss=-27005.56, λc2D1=199.71, λd1=127.15, λd2=159.50, λd3=100.32]\n",
      "Epoch 702 [Validation]: 100%|██████████| 21/21 [00:01<00:00, 15.04it/s, loss=-27317.56]\n"
     ]
    },
    {
     "name": "stdout",
     "output_type": "stream",
     "text": [
      "\tTotal Loss (NLL + MDMM): -26951.46\n",
      "\tMDMM Loss:               3447.12\n",
      "\tRemaining Weights:       98.07 %\n"
     ]
    },
    {
     "name": "stderr",
     "output_type": "stream",
     "text": [
      "Epoch 703 [Training]: 100%|██████████| 84/84 [00:06<00:00, 13.23it/s, loss=-27002.88, λc2D1=199.96, λd1=127.36, λd2=159.74, λd3=100.44]\n",
      "Epoch 703 [Validation]: 100%|██████████| 21/21 [00:01<00:00, 14.96it/s, loss=-27365.36]\n"
     ]
    },
    {
     "name": "stdout",
     "output_type": "stream",
     "text": [
      "\tTotal Loss (NLL + MDMM): -26999.10\n",
      "\tMDMM Loss:               3449.76\n",
      "\tRemaining Weights:       97.96 %\n"
     ]
    },
    {
     "name": "stderr",
     "output_type": "stream",
     "text": [
      "Epoch 704 [Training]: 100%|██████████| 84/84 [00:06<00:00, 13.11it/s, loss=-26993.14, λc2D1=200.22, λd1=127.57, λd2=159.99, λd3=100.57]\n",
      "Epoch 704 [Validation]: 100%|██████████| 21/21 [00:01<00:00, 14.49it/s, loss=-27383.14]\n"
     ]
    },
    {
     "name": "stdout",
     "output_type": "stream",
     "text": [
      "\tTotal Loss (NLL + MDMM): -27013.35\n",
      "\tMDMM Loss:               3452.46\n",
      "\tRemaining Weights:       97.96 %\n"
     ]
    },
    {
     "name": "stderr",
     "output_type": "stream",
     "text": [
      "Epoch 705 [Training]: 100%|██████████| 84/84 [00:06<00:00, 13.21it/s, loss=-26994.96, λc2D1=200.47, λd1=127.78, λd2=160.23, λd3=100.69]\n",
      "Epoch 705 [Validation]: 100%|██████████| 21/21 [00:01<00:00, 14.73it/s, loss=-27392.86]\n"
     ]
    },
    {
     "name": "stdout",
     "output_type": "stream",
     "text": [
      "\tTotal Loss (NLL + MDMM): -27022.57\n",
      "\tMDMM Loss:               3454.87\n",
      "\tRemaining Weights:       97.90 %\n"
     ]
    },
    {
     "name": "stderr",
     "output_type": "stream",
     "text": [
      "Epoch 706 [Training]: 100%|██████████| 84/84 [00:06<00:00, 13.12it/s, loss=-26993.68, λc2D1=200.73, λd1=127.99, λd2=160.47, λd3=100.81]\n",
      "Epoch 706 [Validation]: 100%|██████████| 21/21 [00:01<00:00, 14.80it/s, loss=-27365.21]\n"
     ]
    },
    {
     "name": "stdout",
     "output_type": "stream",
     "text": [
      "\tTotal Loss (NLL + MDMM): -26995.78\n",
      "\tMDMM Loss:               3457.74\n",
      "\tRemaining Weights:       97.90 %\n"
     ]
    },
    {
     "name": "stderr",
     "output_type": "stream",
     "text": [
      "Epoch 707 [Training]: 100%|██████████| 84/84 [00:06<00:00, 13.29it/s, loss=-26994.27, λc2D1=200.98, λd1=128.20, λd2=160.72, λd3=100.94]\n",
      "Epoch 707 [Validation]: 100%|██████████| 21/21 [00:01<00:00, 15.04it/s, loss=-27362.63]\n"
     ]
    },
    {
     "name": "stdout",
     "output_type": "stream",
     "text": [
      "\tTotal Loss (NLL + MDMM): -26997.94\n",
      "\tMDMM Loss:               3460.45\n",
      "\tRemaining Weights:       97.96 %\n"
     ]
    },
    {
     "name": "stderr",
     "output_type": "stream",
     "text": [
      "Epoch 708 [Training]: 100%|██████████| 84/84 [00:06<00:00, 13.22it/s, loss=-26989.67, λc2D1=201.24, λd1=128.41, λd2=160.96, λd3=101.06]\n",
      "Epoch 708 [Validation]: 100%|██████████| 21/21 [00:01<00:00, 14.92it/s, loss=-27325.24]\n"
     ]
    },
    {
     "name": "stdout",
     "output_type": "stream",
     "text": [
      "\tTotal Loss (NLL + MDMM): -26963.32\n",
      "\tMDMM Loss:               3463.24\n",
      "\tRemaining Weights:       98.01 %\n"
     ]
    },
    {
     "name": "stderr",
     "output_type": "stream",
     "text": [
      "Epoch 709 [Training]: 100%|██████████| 84/84 [00:06<00:00, 13.36it/s, loss=-27003.89, λc2D1=201.49, λd1=128.62, λd2=161.20, λd3=101.19]\n",
      "Epoch 709 [Validation]: 100%|██████████| 21/21 [00:01<00:00, 14.79it/s, loss=-27366.39]\n"
     ]
    },
    {
     "name": "stdout",
     "output_type": "stream",
     "text": [
      "\tTotal Loss (NLL + MDMM): -26999.10\n",
      "\tMDMM Loss:               3465.85\n",
      "\tRemaining Weights:       98.01 %\n"
     ]
    },
    {
     "name": "stderr",
     "output_type": "stream",
     "text": [
      "Epoch 710 [Training]: 100%|██████████| 84/84 [00:06<00:00, 13.52it/s, loss=-26971.32, λc2D1=201.75, λd1=128.83, λd2=161.45, λd3=101.31]\n",
      "Epoch 710 [Validation]: 100%|██████████| 21/21 [00:01<00:00, 14.67it/s, loss=-27274.70]\n"
     ]
    },
    {
     "name": "stdout",
     "output_type": "stream",
     "text": [
      "\tTotal Loss (NLL + MDMM): -26908.71\n",
      "\tMDMM Loss:               3468.91\n",
      "\tRemaining Weights:       98.18 %\n"
     ]
    },
    {
     "name": "stderr",
     "output_type": "stream",
     "text": [
      "Epoch 711 [Training]: 100%|██████████| 84/84 [00:06<00:00, 13.39it/s, loss=-26992.41, λc2D1=202.00, λd1=129.04, λd2=161.69, λd3=101.44]\n",
      "Epoch 711 [Validation]: 100%|██████████| 21/21 [00:01<00:00, 14.43it/s, loss=-27344.74]\n"
     ]
    },
    {
     "name": "stdout",
     "output_type": "stream",
     "text": [
      "\tTotal Loss (NLL + MDMM): -26978.85\n",
      "\tMDMM Loss:               3471.19\n",
      "\tRemaining Weights:       98.12 %\n"
     ]
    },
    {
     "name": "stderr",
     "output_type": "stream",
     "text": [
      "Epoch 712 [Training]: 100%|██████████| 84/84 [00:06<00:00, 13.30it/s, loss=-26986.38, λc2D1=202.25, λd1=129.25, λd2=161.93, λd3=101.56]\n",
      "Epoch 712 [Validation]: 100%|██████████| 21/21 [00:01<00:00, 14.98it/s, loss=-27307.90]\n"
     ]
    },
    {
     "name": "stdout",
     "output_type": "stream",
     "text": [
      "\tTotal Loss (NLL + MDMM): -26946.10\n",
      "\tMDMM Loss:               3474.27\n",
      "\tRemaining Weights:       98.12 %\n"
     ]
    },
    {
     "name": "stderr",
     "output_type": "stream",
     "text": [
      "Epoch 713 [Training]: 100%|██████████| 84/84 [00:06<00:00, 13.36it/s, loss=-26989.72, λc2D1=202.51, λd1=129.46, λd2=162.18, λd3=101.68]\n",
      "Epoch 713 [Validation]: 100%|██████████| 21/21 [00:01<00:00, 14.55it/s, loss=-27287.56]\n"
     ]
    },
    {
     "name": "stdout",
     "output_type": "stream",
     "text": [
      "\tTotal Loss (NLL + MDMM): -26923.68\n",
      "\tMDMM Loss:               3477.37\n",
      "\tRemaining Weights:       98.18 %\n"
     ]
    },
    {
     "name": "stderr",
     "output_type": "stream",
     "text": [
      "Epoch 714 [Training]: 100%|██████████| 84/84 [00:06<00:00, 13.41it/s, loss=-26994.09, λc2D1=202.76, λd1=129.67, λd2=162.42, λd3=101.81]\n",
      "Epoch 714 [Validation]: 100%|██████████| 21/21 [00:01<00:00, 15.04it/s, loss=-27400.24]\n"
     ]
    },
    {
     "name": "stdout",
     "output_type": "stream",
     "text": [
      "\tTotal Loss (NLL + MDMM): -27024.05\n",
      "\tMDMM Loss:               3479.34\n",
      "\tRemaining Weights:       98.29 %\n"
     ]
    },
    {
     "name": "stderr",
     "output_type": "stream",
     "text": [
      "Epoch 715 [Training]: 100%|██████████| 84/84 [00:06<00:00, 13.00it/s, loss=-26979.52, λc2D1=203.02, λd1=129.88, λd2=162.66, λd3=101.93]\n",
      "Epoch 715 [Validation]: 100%|██████████| 21/21 [00:01<00:00, 14.34it/s, loss=-27263.02]\n"
     ]
    },
    {
     "name": "stdout",
     "output_type": "stream",
     "text": [
      "\tTotal Loss (NLL + MDMM): -26905.73\n",
      "\tMDMM Loss:               3482.03\n",
      "\tRemaining Weights:       98.29 %\n"
     ]
    },
    {
     "name": "stderr",
     "output_type": "stream",
     "text": [
      "Epoch 716 [Training]:  62%|██████▏   | 52/84 [00:03<00:02, 13.17it/s, loss=-27055.28, λc2D1=203.20, λd1=130.02, λd2=162.83, λd3=102.02]\n"
     ]
    },
    {
     "ename": "KeyboardInterrupt",
     "evalue": "",
     "output_type": "error",
     "traceback": [
      "\u001b[0;31m---------------------------------------------------------------------------\u001b[0m",
      "\u001b[0;31mKeyboardInterrupt\u001b[0m                         Traceback (most recent call last)",
      "Cell \u001b[0;32mIn[11], line 9\u001b[0m\n\u001b[1;32m      2\u001b[0m \u001b[38;5;124;03m\"\"\"\u001b[39;00m\n\u001b[1;32m      3\u001b[0m \u001b[38;5;124;03mInputs to train_resnet we defined previously are:\u001b[39;00m\n\u001b[1;32m      4\u001b[0m \u001b[38;5;124;03m          model, trainloader, device, loss_func, epoch, optimizer, scheduler, **kwargs\u001b[39;00m\n\u001b[1;32m      5\u001b[0m \u001b[38;5;124;03m\"\"\"\u001b[39;00m\n\u001b[1;32m      7\u001b[0m optimizer \u001b[38;5;241m=\u001b[39m  keras\u001b[38;5;241m.\u001b[39moptimizers\u001b[38;5;241m.\u001b[39mNadam(learning_rate\u001b[38;5;241m=\u001b[39mconfig[\u001b[38;5;124m\"\u001b[39m\u001b[38;5;124mlr\u001b[39m\u001b[38;5;124m\"\u001b[39m])\n\u001b[0;32m----> 9\u001b[0m trained_model \u001b[38;5;241m=\u001b[39m \u001b[43miterative_train\u001b[49m\u001b[43m(\u001b[49m\u001b[43mmodel\u001b[49m\u001b[43m \u001b[49m\u001b[38;5;241;43m=\u001b[39;49m\u001b[43m \u001b[49m\u001b[43mmodel\u001b[49m\u001b[43m,\u001b[49m\u001b[43m \u001b[49m\n\u001b[1;32m     10\u001b[0m \u001b[43m                                \u001b[49m\u001b[43mconfig\u001b[49m\u001b[43m \u001b[49m\u001b[38;5;241;43m=\u001b[39;49m\u001b[43m \u001b[49m\u001b[43mconfig\u001b[49m\u001b[43m,\u001b[49m\u001b[43m \u001b[49m\n\u001b[1;32m     11\u001b[0m \u001b[43m                                \u001b[49m\u001b[43mtrain_func\u001b[49m\u001b[43m \u001b[49m\u001b[38;5;241;43m=\u001b[39;49m\u001b[43m \u001b[49m\u001b[43mtrain_smart_pixels_tf\u001b[49m\u001b[43m,\u001b[49m\u001b[43m \u001b[49m\n\u001b[1;32m     12\u001b[0m \u001b[43m                                \u001b[49m\u001b[43mvalid_func\u001b[49m\u001b[43m \u001b[49m\u001b[38;5;241;43m=\u001b[39;49m\u001b[43m \u001b[49m\u001b[43mvalidate_smart_pixels_tf\u001b[49m\u001b[43m,\u001b[49m\u001b[43m \u001b[49m\n\u001b[1;32m     13\u001b[0m \u001b[43m                                \u001b[49m\u001b[43mtrainloader\u001b[49m\u001b[43m \u001b[49m\u001b[38;5;241;43m=\u001b[39;49m\u001b[43m \u001b[49m\u001b[43mtrain_loader\u001b[49m\u001b[43m,\u001b[49m\u001b[43m \u001b[49m\n\u001b[1;32m     14\u001b[0m \u001b[43m                                \u001b[49m\u001b[43mtestloader\u001b[49m\u001b[43m \u001b[49m\u001b[38;5;241;43m=\u001b[39;49m\u001b[43m \u001b[49m\u001b[43mval_loader\u001b[49m\u001b[43m,\u001b[49m\u001b[43m \u001b[49m\n\u001b[1;32m     15\u001b[0m \u001b[43m                                \u001b[49m\u001b[43mdevice\u001b[49m\u001b[43m \u001b[49m\u001b[38;5;241;43m=\u001b[39;49m\u001b[43m \u001b[49m\u001b[38;5;28;43;01mNone\u001b[39;49;00m\u001b[43m,\u001b[49m\u001b[43m \u001b[49m\n\u001b[1;32m     16\u001b[0m \u001b[43m                                \u001b[49m\u001b[43mloss_func\u001b[49m\u001b[43m \u001b[49m\u001b[38;5;241;43m=\u001b[39;49m\u001b[43m \u001b[49m\u001b[43mcustom_loss\u001b[49m\u001b[43m,\u001b[49m\n\u001b[1;32m     17\u001b[0m \u001b[43m                                \u001b[49m\u001b[43moptimizer\u001b[49m\u001b[43m \u001b[49m\u001b[38;5;241;43m=\u001b[39;49m\u001b[43m \u001b[49m\u001b[43moptimizer\u001b[49m\u001b[43m,\u001b[49m\u001b[43m \u001b[49m\n\u001b[1;32m     18\u001b[0m \u001b[43m                                \u001b[49m\u001b[43m)\u001b[49m\n",
      "File \u001b[0;32m~/PQuant/mdmm_dev/src/pquant/core/train.py:12\u001b[0m, in \u001b[0;36miterative_train\u001b[0;34m(model, config, train_func, valid_func, **kwargs)\u001b[0m\n\u001b[1;32m      9\u001b[0m \u001b[38;5;28;01melse\u001b[39;00m:\n\u001b[1;32m     10\u001b[0m     \u001b[38;5;28;01mfrom\u001b[39;00m\u001b[38;5;250m \u001b[39m\u001b[38;5;21;01mpquant\u001b[39;00m\u001b[38;5;21;01m.\u001b[39;00m\u001b[38;5;21;01mcore\u001b[39;00m\u001b[38;5;21;01m.\u001b[39;00m\u001b[38;5;21;01mtf_impl\u001b[39;00m\u001b[38;5;21;01m.\u001b[39;00m\u001b[38;5;21;01mtrain_tf\u001b[39;00m\u001b[38;5;250m \u001b[39m\u001b[38;5;28;01mimport\u001b[39;00m iterative_train_tf\n\u001b[0;32m---> 12\u001b[0m     \u001b[38;5;28;01mreturn\u001b[39;00m \u001b[43miterative_train_tf\u001b[49m\u001b[43m(\u001b[49m\u001b[43mmodel\u001b[49m\u001b[43m,\u001b[49m\u001b[43m \u001b[49m\u001b[43mconfig\u001b[49m\u001b[43m,\u001b[49m\u001b[43m \u001b[49m\u001b[43mtrain_func\u001b[49m\u001b[43m,\u001b[49m\u001b[43m \u001b[49m\u001b[43mvalid_func\u001b[49m\u001b[43m,\u001b[49m\u001b[43m \u001b[49m\u001b[38;5;241;43m*\u001b[39;49m\u001b[38;5;241;43m*\u001b[39;49m\u001b[43mkwargs\u001b[49m\u001b[43m)\u001b[49m\n",
      "File \u001b[0;32m~/PQuant/mdmm_dev/src/pquant/core/tf_impl/train_tf.py:32\u001b[0m, in \u001b[0;36miterative_train_tf\u001b[0;34m(model, config, train_func, valid_func, **kwargs)\u001b[0m\n\u001b[1;32m     30\u001b[0m     save_weights_functions(model)\n\u001b[1;32m     31\u001b[0m pre_epoch_functions(model, e, training_config[\u001b[38;5;124m\"\u001b[39m\u001b[38;5;124mepochs\u001b[39m\u001b[38;5;124m\"\u001b[39m])\n\u001b[0;32m---> 32\u001b[0m \u001b[43mtrain_func\u001b[49m\u001b[43m(\u001b[49m\u001b[43mmodel\u001b[49m\u001b[43m,\u001b[49m\u001b[43m \u001b[49m\u001b[43mepoch\u001b[49m\u001b[38;5;241;43m=\u001b[39;49m\u001b[43mepoch\u001b[49m\u001b[43m,\u001b[49m\u001b[43m \u001b[49m\u001b[38;5;241;43m*\u001b[39;49m\u001b[38;5;241;43m*\u001b[39;49m\u001b[43mkwargs\u001b[49m\u001b[43m)\u001b[49m\n\u001b[1;32m     33\u001b[0m valid_func(model, epoch\u001b[38;5;241m=\u001b[39mepoch, \u001b[38;5;241m*\u001b[39m\u001b[38;5;241m*\u001b[39mkwargs)\n\u001b[1;32m     34\u001b[0m post_epoch_functions(model, e, training_config[\u001b[38;5;124m\"\u001b[39m\u001b[38;5;124mepochs\u001b[39m\u001b[38;5;124m\"\u001b[39m])\n",
      "Cell \u001b[0;32mIn[9], line 62\u001b[0m, in \u001b[0;36mtrain_smart_pixels_tf\u001b[0;34m(model, epoch, trainloader, optimizer, *args, **kwargs)\u001b[0m\n\u001b[1;32m     60\u001b[0m pbar \u001b[38;5;241m=\u001b[39m tqdm(\u001b[38;5;28mrange\u001b[39m(\u001b[38;5;28mlen\u001b[39m(trainloader)), desc\u001b[38;5;241m=\u001b[39m\u001b[38;5;124mf\u001b[39m\u001b[38;5;124m\"\u001b[39m\u001b[38;5;124mEpoch \u001b[39m\u001b[38;5;132;01m{\u001b[39;00mepoch\u001b[38;5;132;01m}\u001b[39;00m\u001b[38;5;124m [Training]\u001b[39m\u001b[38;5;124m\"\u001b[39m)\n\u001b[1;32m     61\u001b[0m \u001b[38;5;28;01mfor\u001b[39;00m batch_idx \u001b[38;5;129;01min\u001b[39;00m pbar:\n\u001b[0;32m---> 62\u001b[0m     inputs, logits \u001b[38;5;241m=\u001b[39m \u001b[43mtrainloader\u001b[49m\u001b[43m[\u001b[49m\u001b[43mbatch_idx\u001b[49m\u001b[43m]\u001b[49m\n\u001b[1;32m     63\u001b[0m     loss \u001b[38;5;241m=\u001b[39m train_step(model, inputs, logits, optimizer)\n\u001b[1;32m     65\u001b[0m     metrics \u001b[38;5;241m=\u001b[39m {\n\u001b[1;32m     66\u001b[0m         \u001b[38;5;124m'\u001b[39m\u001b[38;5;124mloss\u001b[39m\u001b[38;5;124m'\u001b[39m: \u001b[38;5;124mf\u001b[39m\u001b[38;5;124m'\u001b[39m\u001b[38;5;132;01m{\u001b[39;00mloss\u001b[38;5;241m.\u001b[39mnumpy()\u001b[38;5;132;01m:\u001b[39;00m\u001b[38;5;124m.2f\u001b[39m\u001b[38;5;132;01m}\u001b[39;00m\u001b[38;5;124m'\u001b[39m,\n\u001b[1;32m     67\u001b[0m     }\n",
      "File \u001b[0;32m~/PQuant/mdmm_dev/src/smartpixels/DG/OptimizedDataGenerator_v2.py:561\u001b[0m, in \u001b[0;36mOptimizedDataGenerator.__getitem__\u001b[0;34m(self, batch_index)\u001b[0m\n\u001b[1;32m    553\u001b[0m \u001b[38;5;250m\u001b[39m\u001b[38;5;124;03m\"\"\"\u001b[39;00m\n\u001b[1;32m    554\u001b[0m \u001b[38;5;124;03mLoad the batch from a pre-saved TFRecord file instead of processing raw data.\u001b[39;00m\n\u001b[1;32m    555\u001b[0m \u001b[38;5;124;03mEach file contains exactly one batch.\u001b[39;00m\n\u001b[0;32m   (...)\u001b[0m\n\u001b[1;32m    558\u001b[0m \u001b[38;5;124;03mTODO: prefetching (un-done)\u001b[39;00m\n\u001b[1;32m    559\u001b[0m \u001b[38;5;124;03m\"\"\"\u001b[39;00m\n\u001b[1;32m    560\u001b[0m tfrecord_path \u001b[38;5;241m=\u001b[39m \u001b[38;5;28mself\u001b[39m\u001b[38;5;241m.\u001b[39mtfrecord_filenames[batch_index]\n\u001b[0;32m--> 561\u001b[0m raw_dataset \u001b[38;5;241m=\u001b[39m \u001b[43mtf\u001b[49m\u001b[38;5;241;43m.\u001b[39;49m\u001b[43mdata\u001b[49m\u001b[38;5;241;43m.\u001b[39;49m\u001b[43mTFRecordDataset\u001b[49m\u001b[43m(\u001b[49m\u001b[43mtfrecord_path\u001b[49m\u001b[43m)\u001b[49m\n\u001b[1;32m    562\u001b[0m parsed_dataset \u001b[38;5;241m=\u001b[39m raw_dataset\u001b[38;5;241m.\u001b[39mmap(\u001b[38;5;28mself\u001b[39m\u001b[38;5;241m.\u001b[39m_parse_tfrecord_fn, num_parallel_calls\u001b[38;5;241m=\u001b[39mtf\u001b[38;5;241m.\u001b[39mdata\u001b[38;5;241m.\u001b[39mAUTOTUNE)\n\u001b[1;32m    564\u001b[0m \u001b[38;5;66;03m# Get the first (and only) batch from the dataset\u001b[39;00m\n",
      "File \u001b[0;32m/depot/cms/conda_envs/das214/pquant-gpu-env/lib/python3.10/site-packages/tensorflow/python/data/ops/readers.py:477\u001b[0m, in \u001b[0;36mTFRecordDatasetV2.__init__\u001b[0;34m(self, filenames, compression_type, buffer_size, num_parallel_reads, name)\u001b[0m\n\u001b[1;32m    473\u001b[0m \u001b[38;5;28;01mdef\u001b[39;00m\u001b[38;5;250m \u001b[39m\u001b[38;5;21mcreator_fn\u001b[39m(filename):\n\u001b[1;32m    474\u001b[0m   \u001b[38;5;28;01mreturn\u001b[39;00m _TFRecordDataset(\n\u001b[1;32m    475\u001b[0m       filename, compression_type, buffer_size, name\u001b[38;5;241m=\u001b[39mname)\n\u001b[0;32m--> 477\u001b[0m \u001b[38;5;28mself\u001b[39m\u001b[38;5;241m.\u001b[39m_impl \u001b[38;5;241m=\u001b[39m \u001b[43m_create_dataset_reader\u001b[49m\u001b[43m(\u001b[49m\n\u001b[1;32m    478\u001b[0m \u001b[43m    \u001b[49m\u001b[43mcreator_fn\u001b[49m\u001b[43m,\u001b[49m\u001b[43m \u001b[49m\u001b[43mfilenames\u001b[49m\u001b[43m,\u001b[49m\u001b[43m \u001b[49m\u001b[43mnum_parallel_reads\u001b[49m\u001b[43m,\u001b[49m\u001b[43m \u001b[49m\u001b[43mname\u001b[49m\u001b[38;5;241;43m=\u001b[39;49m\u001b[43mname\u001b[49m\u001b[43m)\u001b[49m\n\u001b[1;32m    479\u001b[0m variant_tensor \u001b[38;5;241m=\u001b[39m \u001b[38;5;28mself\u001b[39m\u001b[38;5;241m.\u001b[39m_impl\u001b[38;5;241m.\u001b[39m_variant_tensor  \u001b[38;5;66;03m# pylint: disable=protected-access\u001b[39;00m\n\u001b[1;32m    480\u001b[0m \u001b[38;5;28msuper\u001b[39m(TFRecordDatasetV2, \u001b[38;5;28mself\u001b[39m)\u001b[38;5;241m.\u001b[39m\u001b[38;5;21m__init__\u001b[39m(variant_tensor)\n",
      "File \u001b[0;32m/depot/cms/conda_envs/das214/pquant-gpu-env/lib/python3.10/site-packages/tensorflow/python/data/ops/readers.py:107\u001b[0m, in \u001b[0;36m_create_dataset_reader\u001b[0;34m(dataset_creator, filenames, num_parallel_reads, name)\u001b[0m\n\u001b[1;32m    104\u001b[0m   \u001b[38;5;28;01mreturn\u001b[39;00m dataset_creator(filename)\n\u001b[1;32m    106\u001b[0m \u001b[38;5;28;01mif\u001b[39;00m num_parallel_reads \u001b[38;5;129;01mis\u001b[39;00m \u001b[38;5;28;01mNone\u001b[39;00m:\n\u001b[0;32m--> 107\u001b[0m   \u001b[38;5;28;01mreturn\u001b[39;00m \u001b[43mfilenames\u001b[49m\u001b[38;5;241;43m.\u001b[39;49m\u001b[43mflat_map\u001b[49m\u001b[43m(\u001b[49m\u001b[43mread_one_file\u001b[49m\u001b[43m,\u001b[49m\u001b[43m \u001b[49m\u001b[43mname\u001b[49m\u001b[38;5;241;43m=\u001b[39;49m\u001b[43mname\u001b[49m\u001b[43m)\u001b[49m\n\u001b[1;32m    108\u001b[0m \u001b[38;5;28;01melif\u001b[39;00m num_parallel_reads \u001b[38;5;241m==\u001b[39m dataset_ops\u001b[38;5;241m.\u001b[39mAUTOTUNE:\n\u001b[1;32m    109\u001b[0m   \u001b[38;5;28;01mreturn\u001b[39;00m filenames\u001b[38;5;241m.\u001b[39minterleave(\n\u001b[1;32m    110\u001b[0m       read_one_file, num_parallel_calls\u001b[38;5;241m=\u001b[39mnum_parallel_reads, name\u001b[38;5;241m=\u001b[39mname)\n",
      "File \u001b[0;32m/depot/cms/conda_envs/das214/pquant-gpu-env/lib/python3.10/site-packages/tensorflow/python/data/ops/dataset_ops.py:2389\u001b[0m, in \u001b[0;36mDatasetV2.flat_map\u001b[0;34m(self, map_func, name)\u001b[0m\n\u001b[1;32m   2385\u001b[0m \u001b[38;5;66;03m# Loaded lazily due to a circular dependency (dataset_ops -> flat_map_op ->\u001b[39;00m\n\u001b[1;32m   2386\u001b[0m \u001b[38;5;66;03m# dataset_ops).\u001b[39;00m\n\u001b[1;32m   2387\u001b[0m \u001b[38;5;66;03m# pylint: disable=g-import-not-at-top,protected-access\u001b[39;00m\n\u001b[1;32m   2388\u001b[0m \u001b[38;5;28;01mfrom\u001b[39;00m\u001b[38;5;250m \u001b[39m\u001b[38;5;21;01mtensorflow\u001b[39;00m\u001b[38;5;21;01m.\u001b[39;00m\u001b[38;5;21;01mpython\u001b[39;00m\u001b[38;5;21;01m.\u001b[39;00m\u001b[38;5;21;01mdata\u001b[39;00m\u001b[38;5;21;01m.\u001b[39;00m\u001b[38;5;21;01mops\u001b[39;00m\u001b[38;5;250m \u001b[39m\u001b[38;5;28;01mimport\u001b[39;00m flat_map_op\n\u001b[0;32m-> 2389\u001b[0m \u001b[38;5;28;01mreturn\u001b[39;00m \u001b[43mflat_map_op\u001b[49m\u001b[38;5;241;43m.\u001b[39;49m\u001b[43m_flat_map\u001b[49m\u001b[43m(\u001b[49m\u001b[38;5;28;43mself\u001b[39;49m\u001b[43m,\u001b[49m\u001b[43m \u001b[49m\u001b[43mmap_func\u001b[49m\u001b[43m,\u001b[49m\u001b[43m \u001b[49m\u001b[43mname\u001b[49m\u001b[38;5;241;43m=\u001b[39;49m\u001b[43mname\u001b[49m\u001b[43m)\u001b[49m\n",
      "File \u001b[0;32m/depot/cms/conda_envs/das214/pquant-gpu-env/lib/python3.10/site-packages/tensorflow/python/data/ops/flat_map_op.py:24\u001b[0m, in \u001b[0;36m_flat_map\u001b[0;34m(input_dataset, map_func, name)\u001b[0m\n\u001b[1;32m     22\u001b[0m \u001b[38;5;28;01mdef\u001b[39;00m\u001b[38;5;250m \u001b[39m\u001b[38;5;21m_flat_map\u001b[39m(input_dataset, map_func, name\u001b[38;5;241m=\u001b[39m\u001b[38;5;28;01mNone\u001b[39;00m):  \u001b[38;5;66;03m# pylint: disable=unused-private-name\u001b[39;00m\n\u001b[1;32m     23\u001b[0m \u001b[38;5;250m  \u001b[39m\u001b[38;5;124;03m\"\"\"See `Dataset.flat_map()` for details.\"\"\"\u001b[39;00m\n\u001b[0;32m---> 24\u001b[0m   \u001b[38;5;28;01mreturn\u001b[39;00m \u001b[43m_FlatMapDataset\u001b[49m\u001b[43m(\u001b[49m\u001b[43minput_dataset\u001b[49m\u001b[43m,\u001b[49m\u001b[43m \u001b[49m\u001b[43mmap_func\u001b[49m\u001b[43m,\u001b[49m\u001b[43m \u001b[49m\u001b[43mname\u001b[49m\u001b[43m)\u001b[49m\n",
      "File \u001b[0;32m/depot/cms/conda_envs/das214/pquant-gpu-env/lib/python3.10/site-packages/tensorflow/python/data/ops/flat_map_op.py:33\u001b[0m, in \u001b[0;36m_FlatMapDataset.__init__\u001b[0;34m(self, input_dataset, map_func, name)\u001b[0m\n\u001b[1;32m     30\u001b[0m \u001b[38;5;28;01mdef\u001b[39;00m\u001b[38;5;250m \u001b[39m\u001b[38;5;21m__init__\u001b[39m(\u001b[38;5;28mself\u001b[39m, input_dataset, map_func, name\u001b[38;5;241m=\u001b[39m\u001b[38;5;28;01mNone\u001b[39;00m):\n\u001b[1;32m     32\u001b[0m   \u001b[38;5;28mself\u001b[39m\u001b[38;5;241m.\u001b[39m_input_dataset \u001b[38;5;241m=\u001b[39m input_dataset\n\u001b[0;32m---> 33\u001b[0m   \u001b[38;5;28mself\u001b[39m\u001b[38;5;241m.\u001b[39m_map_func \u001b[38;5;241m=\u001b[39m \u001b[43mstructured_function\u001b[49m\u001b[38;5;241;43m.\u001b[39;49m\u001b[43mStructuredFunctionWrapper\u001b[49m\u001b[43m(\u001b[49m\n\u001b[1;32m     34\u001b[0m \u001b[43m      \u001b[49m\u001b[43mmap_func\u001b[49m\u001b[43m,\u001b[49m\u001b[43m \u001b[49m\u001b[38;5;28;43mself\u001b[39;49m\u001b[38;5;241;43m.\u001b[39;49m\u001b[43m_transformation_name\u001b[49m\u001b[43m(\u001b[49m\u001b[43m)\u001b[49m\u001b[43m,\u001b[49m\u001b[43m \u001b[49m\u001b[43mdataset\u001b[49m\u001b[38;5;241;43m=\u001b[39;49m\u001b[43minput_dataset\u001b[49m\u001b[43m)\u001b[49m\n\u001b[1;32m     35\u001b[0m   \u001b[38;5;28;01mif\u001b[39;00m \u001b[38;5;129;01mnot\u001b[39;00m \u001b[38;5;28misinstance\u001b[39m(\u001b[38;5;28mself\u001b[39m\u001b[38;5;241m.\u001b[39m_map_func\u001b[38;5;241m.\u001b[39moutput_structure, dataset_ops\u001b[38;5;241m.\u001b[39mDatasetSpec):\n\u001b[1;32m     36\u001b[0m     \u001b[38;5;28;01mraise\u001b[39;00m \u001b[38;5;167;01mTypeError\u001b[39;00m(\n\u001b[1;32m     37\u001b[0m         \u001b[38;5;124m\"\u001b[39m\u001b[38;5;124mThe `map_func` argument must return a `Dataset` object. Got \u001b[39m\u001b[38;5;124m\"\u001b[39m\n\u001b[1;32m     38\u001b[0m         \u001b[38;5;124mf\u001b[39m\u001b[38;5;124m\"\u001b[39m\u001b[38;5;132;01m{\u001b[39;00mdataset_ops\u001b[38;5;241m.\u001b[39mget_type(\u001b[38;5;28mself\u001b[39m\u001b[38;5;241m.\u001b[39m_map_func\u001b[38;5;241m.\u001b[39moutput_structure)\u001b[38;5;132;01m!r}\u001b[39;00m\u001b[38;5;124m.\u001b[39m\u001b[38;5;124m\"\u001b[39m)\n",
      "File \u001b[0;32m/depot/cms/conda_envs/das214/pquant-gpu-env/lib/python3.10/site-packages/tensorflow/python/data/ops/structured_function.py:265\u001b[0m, in \u001b[0;36mStructuredFunctionWrapper.__init__\u001b[0;34m(self, func, transformation_name, dataset, input_classes, input_shapes, input_types, input_structure, add_to_graph, use_legacy_function, defun_kwargs)\u001b[0m\n\u001b[1;32m    258\u001b[0m       warnings\u001b[38;5;241m.\u001b[39mwarn(\n\u001b[1;32m    259\u001b[0m           \u001b[38;5;124m\"\u001b[39m\u001b[38;5;124mEven though the `tf.config.experimental_run_functions_eagerly` \u001b[39m\u001b[38;5;124m\"\u001b[39m\n\u001b[1;32m    260\u001b[0m           \u001b[38;5;124m\"\u001b[39m\u001b[38;5;124moption is set, this option does not apply to tf.data functions. \u001b[39m\u001b[38;5;124m\"\u001b[39m\n\u001b[1;32m    261\u001b[0m           \u001b[38;5;124m\"\u001b[39m\u001b[38;5;124mTo force eager execution of tf.data functions, please use \u001b[39m\u001b[38;5;124m\"\u001b[39m\n\u001b[1;32m    262\u001b[0m           \u001b[38;5;124m\"\u001b[39m\u001b[38;5;124m`tf.data.experimental.enable_debug_mode()`.\u001b[39m\u001b[38;5;124m\"\u001b[39m)\n\u001b[1;32m    263\u001b[0m     fn_factory \u001b[38;5;241m=\u001b[39m trace_tf_function(defun_kwargs)\n\u001b[0;32m--> 265\u001b[0m \u001b[38;5;28mself\u001b[39m\u001b[38;5;241m.\u001b[39m_function \u001b[38;5;241m=\u001b[39m \u001b[43mfn_factory\u001b[49m\u001b[43m(\u001b[49m\u001b[43m)\u001b[49m\n\u001b[1;32m    266\u001b[0m \u001b[38;5;66;03m# There is no graph to add in eager mode.\u001b[39;00m\n\u001b[1;32m    267\u001b[0m add_to_graph \u001b[38;5;241m&\u001b[39m\u001b[38;5;241m=\u001b[39m \u001b[38;5;129;01mnot\u001b[39;00m context\u001b[38;5;241m.\u001b[39mexecuting_eagerly()\n",
      "File \u001b[0;32m/depot/cms/conda_envs/das214/pquant-gpu-env/lib/python3.10/site-packages/tensorflow/python/eager/polymorphic_function/polymorphic_function.py:1256\u001b[0m, in \u001b[0;36mFunction.get_concrete_function\u001b[0;34m(self, *args, **kwargs)\u001b[0m\n\u001b[1;32m   1254\u001b[0m \u001b[38;5;28;01mdef\u001b[39;00m\u001b[38;5;250m \u001b[39m\u001b[38;5;21mget_concrete_function\u001b[39m(\u001b[38;5;28mself\u001b[39m, \u001b[38;5;241m*\u001b[39margs, \u001b[38;5;241m*\u001b[39m\u001b[38;5;241m*\u001b[39mkwargs):\n\u001b[1;32m   1255\u001b[0m   \u001b[38;5;66;03m# Implements PolymorphicFunction.get_concrete_function.\u001b[39;00m\n\u001b[0;32m-> 1256\u001b[0m   concrete \u001b[38;5;241m=\u001b[39m \u001b[38;5;28;43mself\u001b[39;49m\u001b[38;5;241;43m.\u001b[39;49m\u001b[43m_get_concrete_function_garbage_collected\u001b[49m\u001b[43m(\u001b[49m\u001b[38;5;241;43m*\u001b[39;49m\u001b[43margs\u001b[49m\u001b[43m,\u001b[49m\u001b[43m \u001b[49m\u001b[38;5;241;43m*\u001b[39;49m\u001b[38;5;241;43m*\u001b[39;49m\u001b[43mkwargs\u001b[49m\u001b[43m)\u001b[49m\n\u001b[1;32m   1257\u001b[0m   concrete\u001b[38;5;241m.\u001b[39m_garbage_collector\u001b[38;5;241m.\u001b[39mrelease()  \u001b[38;5;66;03m# pylint: disable=protected-access\u001b[39;00m\n\u001b[1;32m   1258\u001b[0m   \u001b[38;5;28;01mreturn\u001b[39;00m concrete\n",
      "File \u001b[0;32m/depot/cms/conda_envs/das214/pquant-gpu-env/lib/python3.10/site-packages/tensorflow/python/eager/polymorphic_function/polymorphic_function.py:1226\u001b[0m, in \u001b[0;36mFunction._get_concrete_function_garbage_collected\u001b[0;34m(self, *args, **kwargs)\u001b[0m\n\u001b[1;32m   1224\u001b[0m   \u001b[38;5;28;01mif\u001b[39;00m \u001b[38;5;28mself\u001b[39m\u001b[38;5;241m.\u001b[39m_variable_creation_config \u001b[38;5;129;01mis\u001b[39;00m \u001b[38;5;28;01mNone\u001b[39;00m:\n\u001b[1;32m   1225\u001b[0m     initializers \u001b[38;5;241m=\u001b[39m []\n\u001b[0;32m-> 1226\u001b[0m     \u001b[38;5;28;43mself\u001b[39;49m\u001b[38;5;241;43m.\u001b[39;49m\u001b[43m_initialize\u001b[49m\u001b[43m(\u001b[49m\u001b[43margs\u001b[49m\u001b[43m,\u001b[49m\u001b[43m \u001b[49m\u001b[43mkwargs\u001b[49m\u001b[43m,\u001b[49m\u001b[43m \u001b[49m\u001b[43madd_initializers_to\u001b[49m\u001b[38;5;241;43m=\u001b[39;49m\u001b[43minitializers\u001b[49m\u001b[43m)\u001b[49m\n\u001b[1;32m   1227\u001b[0m     \u001b[38;5;28mself\u001b[39m\u001b[38;5;241m.\u001b[39m_initialize_uninitialized_variables(initializers)\n\u001b[1;32m   1229\u001b[0m \u001b[38;5;28;01mif\u001b[39;00m \u001b[38;5;28mself\u001b[39m\u001b[38;5;241m.\u001b[39m_created_variables:\n\u001b[1;32m   1230\u001b[0m   \u001b[38;5;66;03m# In this case we have created variables on the first call, so we run the\u001b[39;00m\n\u001b[1;32m   1231\u001b[0m   \u001b[38;5;66;03m# version which is guaranteed to never create variables.\u001b[39;00m\n",
      "File \u001b[0;32m/depot/cms/conda_envs/das214/pquant-gpu-env/lib/python3.10/site-packages/tensorflow/python/eager/polymorphic_function/polymorphic_function.py:696\u001b[0m, in \u001b[0;36mFunction._initialize\u001b[0;34m(self, args, kwds, add_initializers_to)\u001b[0m\n\u001b[1;32m    691\u001b[0m \u001b[38;5;28mself\u001b[39m\u001b[38;5;241m.\u001b[39m_variable_creation_config \u001b[38;5;241m=\u001b[39m \u001b[38;5;28mself\u001b[39m\u001b[38;5;241m.\u001b[39m_generate_scoped_tracing_options(\n\u001b[1;32m    692\u001b[0m     variable_capturing_scope,\n\u001b[1;32m    693\u001b[0m     tracing_compilation\u001b[38;5;241m.\u001b[39mScopeType\u001b[38;5;241m.\u001b[39mVARIABLE_CREATION,\n\u001b[1;32m    694\u001b[0m )\n\u001b[1;32m    695\u001b[0m \u001b[38;5;66;03m# Force the definition of the function for these arguments\u001b[39;00m\n\u001b[0;32m--> 696\u001b[0m \u001b[38;5;28mself\u001b[39m\u001b[38;5;241m.\u001b[39m_concrete_variable_creation_fn \u001b[38;5;241m=\u001b[39m \u001b[43mtracing_compilation\u001b[49m\u001b[38;5;241;43m.\u001b[39;49m\u001b[43mtrace_function\u001b[49m\u001b[43m(\u001b[49m\n\u001b[1;32m    697\u001b[0m \u001b[43m    \u001b[49m\u001b[43margs\u001b[49m\u001b[43m,\u001b[49m\u001b[43m \u001b[49m\u001b[43mkwds\u001b[49m\u001b[43m,\u001b[49m\u001b[43m \u001b[49m\u001b[38;5;28;43mself\u001b[39;49m\u001b[38;5;241;43m.\u001b[39;49m\u001b[43m_variable_creation_config\u001b[49m\n\u001b[1;32m    698\u001b[0m \u001b[43m\u001b[49m\u001b[43m)\u001b[49m\n\u001b[1;32m    700\u001b[0m \u001b[38;5;28;01mdef\u001b[39;00m\u001b[38;5;250m \u001b[39m\u001b[38;5;21minvalid_creator_scope\u001b[39m(\u001b[38;5;241m*\u001b[39munused_args, \u001b[38;5;241m*\u001b[39m\u001b[38;5;241m*\u001b[39munused_kwds):\n\u001b[1;32m    701\u001b[0m \u001b[38;5;250m  \u001b[39m\u001b[38;5;124;03m\"\"\"Disables variable creation.\"\"\"\u001b[39;00m\n",
      "File \u001b[0;32m/depot/cms/conda_envs/das214/pquant-gpu-env/lib/python3.10/site-packages/tensorflow/python/eager/polymorphic_function/tracing_compilation.py:178\u001b[0m, in \u001b[0;36mtrace_function\u001b[0;34m(args, kwargs, tracing_options)\u001b[0m\n\u001b[1;32m    175\u001b[0m     args \u001b[38;5;241m=\u001b[39m tracing_options\u001b[38;5;241m.\u001b[39minput_signature\n\u001b[1;32m    176\u001b[0m     kwargs \u001b[38;5;241m=\u001b[39m {}\n\u001b[0;32m--> 178\u001b[0m   concrete_function \u001b[38;5;241m=\u001b[39m \u001b[43m_maybe_define_function\u001b[49m\u001b[43m(\u001b[49m\n\u001b[1;32m    179\u001b[0m \u001b[43m      \u001b[49m\u001b[43margs\u001b[49m\u001b[43m,\u001b[49m\u001b[43m \u001b[49m\u001b[43mkwargs\u001b[49m\u001b[43m,\u001b[49m\u001b[43m \u001b[49m\u001b[43mtracing_options\u001b[49m\n\u001b[1;32m    180\u001b[0m \u001b[43m  \u001b[49m\u001b[43m)\u001b[49m\n\u001b[1;32m    182\u001b[0m \u001b[38;5;28;01mif\u001b[39;00m \u001b[38;5;129;01mnot\u001b[39;00m tracing_options\u001b[38;5;241m.\u001b[39mbind_graph_to_function:\n\u001b[1;32m    183\u001b[0m   concrete_function\u001b[38;5;241m.\u001b[39m_garbage_collector\u001b[38;5;241m.\u001b[39mrelease()  \u001b[38;5;66;03m# pylint: disable=protected-access\u001b[39;00m\n",
      "File \u001b[0;32m/depot/cms/conda_envs/das214/pquant-gpu-env/lib/python3.10/site-packages/tensorflow/python/eager/polymorphic_function/tracing_compilation.py:205\u001b[0m, in \u001b[0;36m_maybe_define_function\u001b[0;34m(args, kwargs, tracing_options)\u001b[0m\n\u001b[1;32m    188\u001b[0m \u001b[38;5;28;01mdef\u001b[39;00m\u001b[38;5;250m \u001b[39m\u001b[38;5;21m_maybe_define_function\u001b[39m(args, kwargs, tracing_options):\n\u001b[1;32m    189\u001b[0m \u001b[38;5;250m  \u001b[39m\u001b[38;5;124;03m\"\"\"Gets a function for these inputs, defining it if necessary.\u001b[39;00m\n\u001b[1;32m    190\u001b[0m \n\u001b[1;32m    191\u001b[0m \u001b[38;5;124;03m  Args:\u001b[39;00m\n\u001b[0;32m   (...)\u001b[0m\n\u001b[1;32m    203\u001b[0m \u001b[38;5;124;03m      shape relaxation retracing.\u001b[39;00m\n\u001b[1;32m    204\u001b[0m \u001b[38;5;124;03m  \"\"\"\u001b[39;00m\n\u001b[0;32m--> 205\u001b[0m   bound_args \u001b[38;5;241m=\u001b[39m \u001b[43mfunction_type_utils\u001b[49m\u001b[38;5;241;43m.\u001b[39;49m\u001b[43mcanonicalize_function_inputs\u001b[49m\u001b[43m(\u001b[49m\n\u001b[1;32m    206\u001b[0m \u001b[43m      \u001b[49m\u001b[43margs\u001b[49m\u001b[43m,\u001b[49m\n\u001b[1;32m    207\u001b[0m \u001b[43m      \u001b[49m\u001b[43mkwargs\u001b[49m\u001b[43m,\u001b[49m\n\u001b[1;32m    208\u001b[0m \u001b[43m      \u001b[49m\u001b[43mtracing_options\u001b[49m\u001b[38;5;241;43m.\u001b[39;49m\u001b[43mpolymorphic_type\u001b[49m\u001b[43m,\u001b[49m\n\u001b[1;32m    209\u001b[0m \u001b[43m      \u001b[49m\u001b[43mtracing_options\u001b[49m\u001b[38;5;241;43m.\u001b[39;49m\u001b[43mdefault_values\u001b[49m\u001b[43m,\u001b[49m\n\u001b[1;32m    210\u001b[0m \u001b[43m      \u001b[49m\u001b[43mtracing_options\u001b[49m\u001b[38;5;241;43m.\u001b[39;49m\u001b[43mis_pure\u001b[49m\u001b[43m,\u001b[49m\n\u001b[1;32m    211\u001b[0m \u001b[43m  \u001b[49m\u001b[43m)\u001b[49m\n\u001b[1;32m    212\u001b[0m   args, kwargs \u001b[38;5;241m=\u001b[39m bound_args\u001b[38;5;241m.\u001b[39margs, bound_args\u001b[38;5;241m.\u001b[39mkwargs\n\u001b[1;32m    214\u001b[0m   \u001b[38;5;28;01mif\u001b[39;00m tracing_options\u001b[38;5;241m.\u001b[39minput_signature \u001b[38;5;129;01mis\u001b[39;00m \u001b[38;5;129;01mnot\u001b[39;00m \u001b[38;5;28;01mNone\u001b[39;00m:\n",
      "File \u001b[0;32m/depot/cms/conda_envs/das214/pquant-gpu-env/lib/python3.10/site-packages/tensorflow/python/eager/polymorphic_function/function_type_utils.py:422\u001b[0m, in \u001b[0;36mcanonicalize_function_inputs\u001b[0;34m(args, kwargs, function_type, default_values, is_pure)\u001b[0m\n\u001b[1;32m    420\u001b[0m \u001b[38;5;28;01mif\u001b[39;00m is_pure:\n\u001b[1;32m    421\u001b[0m   args, kwargs \u001b[38;5;241m=\u001b[39m _convert_variables_to_tensors(args, kwargs)\n\u001b[0;32m--> 422\u001b[0m bound_arguments \u001b[38;5;241m=\u001b[39m \u001b[43mbind_function_inputs\u001b[49m\u001b[43m(\u001b[49m\n\u001b[1;32m    423\u001b[0m \u001b[43m    \u001b[49m\u001b[43margs\u001b[49m\u001b[43m,\u001b[49m\u001b[43m \u001b[49m\u001b[43mkwargs\u001b[49m\u001b[43m,\u001b[49m\u001b[43m \u001b[49m\u001b[43mfunction_type\u001b[49m\u001b[43m,\u001b[49m\u001b[43m \u001b[49m\u001b[43mdefault_values\u001b[49m\n\u001b[1;32m    424\u001b[0m \u001b[43m\u001b[49m\u001b[43m)\u001b[49m\n\u001b[1;32m    425\u001b[0m \u001b[38;5;28;01mreturn\u001b[39;00m bound_arguments\n",
      "File \u001b[0;32m/depot/cms/conda_envs/das214/pquant-gpu-env/lib/python3.10/site-packages/tensorflow/python/eager/polymorphic_function/function_type_utils.py:442\u001b[0m, in \u001b[0;36mbind_function_inputs\u001b[0;34m(args, kwargs, function_type, default_values)\u001b[0m\n\u001b[1;32m    434\u001b[0m   \u001b[38;5;28;01mraise\u001b[39;00m \u001b[38;5;167;01mValueError\u001b[39;00m(\n\u001b[1;32m    435\u001b[0m       \u001b[38;5;124m\"\u001b[39m\u001b[38;5;124mName collision after sanitization. Please rename \u001b[39m\u001b[38;5;124m\"\u001b[39m\n\u001b[1;32m    436\u001b[0m       \u001b[38;5;124m\"\u001b[39m\u001b[38;5;124mtf.function input parameters. Original: \u001b[39m\u001b[38;5;124m\"\u001b[39m\n\u001b[1;32m    437\u001b[0m       \u001b[38;5;124mf\u001b[39m\u001b[38;5;124m\"\u001b[39m\u001b[38;5;132;01m{\u001b[39;00m\u001b[38;5;28msorted\u001b[39m(kwargs\u001b[38;5;241m.\u001b[39mkeys())\u001b[38;5;132;01m}\u001b[39;00m\u001b[38;5;124m, Sanitized: \u001b[39m\u001b[38;5;124m\"\u001b[39m\n\u001b[1;32m    438\u001b[0m       \u001b[38;5;124mf\u001b[39m\u001b[38;5;124m\"\u001b[39m\u001b[38;5;132;01m{\u001b[39;00m\u001b[38;5;28msorted\u001b[39m(sanitized_kwargs\u001b[38;5;241m.\u001b[39mkeys())\u001b[38;5;132;01m}\u001b[39;00m\u001b[38;5;124m\"\u001b[39m\n\u001b[1;32m    439\u001b[0m   )\n\u001b[1;32m    441\u001b[0m \u001b[38;5;28;01mtry\u001b[39;00m:\n\u001b[0;32m--> 442\u001b[0m   bound_arguments \u001b[38;5;241m=\u001b[39m \u001b[43mfunction_type\u001b[49m\u001b[38;5;241;43m.\u001b[39;49m\u001b[43mbind_with_defaults\u001b[49m\u001b[43m(\u001b[49m\n\u001b[1;32m    443\u001b[0m \u001b[43m      \u001b[49m\u001b[43margs\u001b[49m\u001b[43m,\u001b[49m\u001b[43m \u001b[49m\u001b[43msanitized_kwargs\u001b[49m\u001b[43m,\u001b[49m\u001b[43m \u001b[49m\u001b[43mdefault_values\u001b[49m\n\u001b[1;32m    444\u001b[0m \u001b[43m  \u001b[49m\u001b[43m)\u001b[49m\n\u001b[1;32m    445\u001b[0m \u001b[38;5;28;01mexcept\u001b[39;00m \u001b[38;5;167;01mException\u001b[39;00m \u001b[38;5;28;01mas\u001b[39;00m e:\n\u001b[1;32m    446\u001b[0m   \u001b[38;5;28;01mraise\u001b[39;00m \u001b[38;5;167;01mTypeError\u001b[39;00m(\n\u001b[1;32m    447\u001b[0m       \u001b[38;5;124mf\u001b[39m\u001b[38;5;124m\"\u001b[39m\u001b[38;5;124mBinding inputs to tf.function failed due to `\u001b[39m\u001b[38;5;132;01m{\u001b[39;00me\u001b[38;5;132;01m}\u001b[39;00m\u001b[38;5;124m`. \u001b[39m\u001b[38;5;124m\"\u001b[39m\n\u001b[1;32m    448\u001b[0m       \u001b[38;5;124mf\u001b[39m\u001b[38;5;124m\"\u001b[39m\u001b[38;5;124mReceived args: \u001b[39m\u001b[38;5;132;01m{\u001b[39;00margs\u001b[38;5;132;01m}\u001b[39;00m\u001b[38;5;124m and kwargs: \u001b[39m\u001b[38;5;132;01m{\u001b[39;00msanitized_kwargs\u001b[38;5;132;01m}\u001b[39;00m\u001b[38;5;124m for signature:\u001b[39m\u001b[38;5;124m\"\u001b[39m\n\u001b[1;32m    449\u001b[0m       \u001b[38;5;124mf\u001b[39m\u001b[38;5;124m\"\u001b[39m\u001b[38;5;124m \u001b[39m\u001b[38;5;132;01m{\u001b[39;00mfunction_type\u001b[38;5;132;01m}\u001b[39;00m\u001b[38;5;124m.\u001b[39m\u001b[38;5;124m\"\u001b[39m\n\u001b[1;32m    450\u001b[0m   ) \u001b[38;5;28;01mfrom\u001b[39;00m\u001b[38;5;250m \u001b[39m\u001b[38;5;21;01me\u001b[39;00m\n",
      "File \u001b[0;32m/depot/cms/conda_envs/das214/pquant-gpu-env/lib/python3.10/site-packages/tensorflow/core/function/polymorphism/function_type.py:265\u001b[0m, in \u001b[0;36mFunctionType.bind_with_defaults\u001b[0;34m(self, args, kwargs, default_values)\u001b[0m\n\u001b[1;32m    263\u001b[0m \u001b[38;5;250m\u001b[39m\u001b[38;5;124;03m\"\"\"Returns BoundArguments with default values filled in.\"\"\"\u001b[39;00m\n\u001b[1;32m    264\u001b[0m bound_arguments \u001b[38;5;241m=\u001b[39m \u001b[38;5;28mself\u001b[39m\u001b[38;5;241m.\u001b[39mbind(\u001b[38;5;241m*\u001b[39margs, \u001b[38;5;241m*\u001b[39m\u001b[38;5;241m*\u001b[39mkwargs)\n\u001b[0;32m--> 265\u001b[0m \u001b[43mbound_arguments\u001b[49m\u001b[38;5;241;43m.\u001b[39;49m\u001b[43mapply_defaults\u001b[49m\u001b[43m(\u001b[49m\u001b[43m)\u001b[49m\n\u001b[1;32m    267\u001b[0m with_default_args \u001b[38;5;241m=\u001b[39m collections\u001b[38;5;241m.\u001b[39mOrderedDict()\n\u001b[1;32m    268\u001b[0m \u001b[38;5;28;01mfor\u001b[39;00m name, value \u001b[38;5;129;01min\u001b[39;00m bound_arguments\u001b[38;5;241m.\u001b[39marguments\u001b[38;5;241m.\u001b[39mitems():\n",
      "File \u001b[0;32m/depot/cms/conda_envs/das214/pquant-gpu-env/lib/python3.10/inspect.py:2853\u001b[0m, in \u001b[0;36mBoundArguments.apply_defaults\u001b[0;34m(self)\u001b[0m\n\u001b[1;32m   2851\u001b[0m \u001b[38;5;28;01mfor\u001b[39;00m name, param \u001b[38;5;129;01min\u001b[39;00m \u001b[38;5;28mself\u001b[39m\u001b[38;5;241m.\u001b[39m_signature\u001b[38;5;241m.\u001b[39mparameters\u001b[38;5;241m.\u001b[39mitems():\n\u001b[1;32m   2852\u001b[0m     \u001b[38;5;28;01mtry\u001b[39;00m:\n\u001b[0;32m-> 2853\u001b[0m         \u001b[43mnew_arguments\u001b[49m\u001b[38;5;241;43m.\u001b[39;49m\u001b[43mappend\u001b[49m\u001b[43m(\u001b[49m\u001b[43m(\u001b[49m\u001b[43mname\u001b[49m\u001b[43m,\u001b[49m\u001b[43m \u001b[49m\u001b[43marguments\u001b[49m\u001b[43m[\u001b[49m\u001b[43mname\u001b[49m\u001b[43m]\u001b[49m\u001b[43m)\u001b[49m\u001b[43m)\u001b[49m\n\u001b[1;32m   2854\u001b[0m     \u001b[38;5;28;01mexcept\u001b[39;00m \u001b[38;5;167;01mKeyError\u001b[39;00m:\n\u001b[1;32m   2855\u001b[0m         \u001b[38;5;28;01mif\u001b[39;00m param\u001b[38;5;241m.\u001b[39mdefault \u001b[38;5;129;01mis\u001b[39;00m \u001b[38;5;129;01mnot\u001b[39;00m _empty:\n",
      "\u001b[0;31mKeyboardInterrupt\u001b[0m: "
     ]
    }
   ],
   "source": [
    "from pquant import iterative_train\n",
    "\"\"\"\n",
    "Inputs to train_resnet we defined previously are:\n",
    "          model, trainloader, device, loss_func, epoch, optimizer, scheduler, **kwargs\n",
    "\"\"\"\n",
    "\n",
    "optimizer =  keras.optimizers.Nadam(learning_rate=config[\"lr\"])\n",
    "\n",
    "trained_model = iterative_train(model = model, \n",
    "                                config = config, \n",
    "                                train_func = train_smart_pixels_tf, \n",
    "                                valid_func = validate_smart_pixels_tf, \n",
    "                                trainloader = train_loader, \n",
    "                                testloader = val_loader, \n",
    "                                device = None, \n",
    "                                loss_func = custom_loss,\n",
    "                                optimizer = optimizer, \n",
    "                                )"
   ]
  },
  {
   "cell_type": "code",
   "execution_count": null,
   "id": "6af319a4",
   "metadata": {},
   "outputs": [],
   "source": [
    "# TODO: \n",
    "#     - Increase number of epochs\n",
    "#     - Implement early stopping\n",
    "#     - Saving model weights (checkPoints)\n",
    "#     - HLS4ml tutorial"
   ]
  },
  {
   "cell_type": "code",
   "execution_count": null,
   "id": "1dbfbc58",
   "metadata": {},
   "outputs": [],
   "source": []
  },
  {
   "cell_type": "code",
   "execution_count": null,
   "id": "d696db81",
   "metadata": {},
   "outputs": [],
   "source": []
  }
 ],
 "metadata": {
  "kernelspec": {
   "display_name": "Python [conda env:pquant-gpu-env]",
   "language": "python",
   "name": "conda-env-pquant-gpu-env-py"
  },
  "language_info": {
   "codemirror_mode": {
    "name": "ipython",
    "version": 3
   },
   "file_extension": ".py",
   "mimetype": "text/x-python",
   "name": "python",
   "nbconvert_exporter": "python",
   "pygments_lexer": "ipython3",
   "version": "3.10.18"
  }
 },
 "nbformat": 4,
 "nbformat_minor": 5
}
